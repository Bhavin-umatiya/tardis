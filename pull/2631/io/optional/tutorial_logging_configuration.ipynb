{
 "cells": [
  {
   "cell_type": "markdown",
   "id": "67d6982f",
   "metadata": {},
   "source": [
    "# Configuring the Logging Output for TARDIS"
   ]
  },
  {
   "cell_type": "markdown",
   "id": "ac4ba612",
   "metadata": {},
   "source": [
    "**TARDIS** has a Notebook logger that logs information of Simulation runs. The logs allows to access vital information regarding the execution sequence, data for plasma stratification & progress of the simulation.<br>\n",
    "**TARDIS** allows configuring the logger via *Functional Arguments* as well as *YAML Parameters*.\n",
    "The following code snippets are some of the possible configuration that is available for the notebook logging done with TARDIS simulation."
   ]
  },
  {
   "cell_type": "markdown",
   "id": "ce886182",
   "metadata": {},
   "source": [
    "## Default Configuration"
   ]
  },
  {
   "cell_type": "markdown",
   "id": "34e59abc",
   "metadata": {},
   "source": [
    "The default configuration of the Notebook Simulation logger is such that it doesn't output any logs."
   ]
  },
  {
   "cell_type": "markdown",
   "id": "41da9db6",
   "metadata": {},
   "source": [
    "The output simulation logging, while executing the **TARDIS** simulation (default behaviour), can be seen below:"
   ]
  },
  {
   "cell_type": "code",
   "execution_count": 1,
   "id": "018bb127",
   "metadata": {
    "execution": {
     "iopub.execute_input": "2024-05-28T10:50:22.177867Z",
     "iopub.status.busy": "2024-05-28T10:50:22.177646Z",
     "iopub.status.idle": "2024-05-28T10:50:24.959237Z",
     "shell.execute_reply": "2024-05-28T10:50:24.958532Z"
    }
   },
   "outputs": [
    {
     "name": "stderr",
     "output_type": "stream",
     "text": [
      "/home/runner/micromamba/envs/tardis/lib/python3.11/site-packages/setuptools_scm/git.py:162: UserWarning: \"/home/runner/work/tardis/tardis\" is shallow and may cause errors\n",
      "  warnings.warn(f'\"{wd.path}\" is shallow and may cause errors')\n"
     ]
    },
    {
     "data": {
      "application/vnd.jupyter.widget-view+json": {
       "model_id": "163b17bfd6124be181e5d65e15104720",
       "version_major": 2,
       "version_minor": 0
      },
      "text/plain": [
       "Iterations:          0/? [00:00<?, ?it/s]"
      ]
     },
     "metadata": {},
     "output_type": "display_data"
    },
    {
     "data": {
      "application/vnd.jupyter.widget-view+json": {
       "model_id": "4d0b3486fbaf46e0992286e19631515a",
       "version_major": 2,
       "version_minor": 0
      },
      "text/plain": [
       "Packets:             0/? [00:00<?, ?it/s]"
      ]
     },
     "metadata": {},
     "output_type": "display_data"
    }
   ],
   "source": [
    "from tardis import run_tardis\n",
    "from tardis.io.atom_data.util import download_atom_data"
   ]
  },
  {
   "cell_type": "code",
   "execution_count": 2,
   "id": "ad59aa05",
   "metadata": {
    "execution": {
     "iopub.execute_input": "2024-05-28T10:50:24.962592Z",
     "iopub.status.busy": "2024-05-28T10:50:24.962074Z",
     "iopub.status.idle": "2024-05-28T10:50:24.966534Z",
     "shell.execute_reply": "2024-05-28T10:50:24.965927Z"
    },
    "scrolled": false
   },
   "outputs": [
    {
     "name": "stderr",
     "output_type": "stream",
     "text": [
      "Atomic Data kurucz_cd23_chianti_H_He already exists in /home/runner/Downloads/tardis-data/kurucz_cd23_chianti_H_He.h5. Will not download - override with force_download=True.\n"
     ]
    }
   ],
   "source": [
    "# We download the atomic data needed to run the simulation\n",
    "download_atom_data('kurucz_cd23_chianti_H_He')"
   ]
  },
  {
   "cell_type": "code",
   "execution_count": 3,
   "id": "64cf4bb2",
   "metadata": {
    "execution": {
     "iopub.execute_input": "2024-05-28T10:50:24.969045Z",
     "iopub.status.busy": "2024-05-28T10:50:24.968671Z",
     "iopub.status.idle": "2024-05-28T10:51:41.167384Z",
     "shell.execute_reply": "2024-05-28T10:51:41.166875Z"
    }
   },
   "outputs": [
    {
     "name": "stdout",
     "output_type": "stream",
     "text": [
      "[\u001b[1mpy.warnings         \u001b[0m][\u001b[1;33mWARNING\u001b[0m]  \n",
      "\t/home/runner/work/tardis/tardis/tardis/plasma/properties/radiative_properties.py:93: RuntimeWarning: invalid value encountered in divide\n",
      "  (g_lower * n_upper) / (g_upper * n_lower)\n",
      " (\u001b[1mwarnings.py\u001b[0m:109)\n"
     ]
    },
    {
     "name": "stdout",
     "output_type": "stream",
     "text": [
      "[\u001b[1mpy.warnings         \u001b[0m][\u001b[1;33mWARNING\u001b[0m]  \n",
      "\t/home/runner/work/tardis/tardis/tardis/plasma/properties/radiative_properties.py:93: RuntimeWarning: invalid value encountered in divide\n",
      "  (g_lower * n_upper) / (g_upper * n_lower)\n",
      " (\u001b[1mwarnings.py\u001b[0m:109)\n"
     ]
    },
    {
     "data": {
      "application/vnd.jupyter.widget-view+json": {
       "model_id": "524f70710d504acba3799e8b129a98f6",
       "version_major": 2,
       "version_minor": 0
      },
      "text/plain": [
       "TqdmHBox(children=(HTML(value='Iterations:', layout=Layout(width='6%')), FloatProgress(value=0.0, layout=Layou…"
      ]
     },
     "metadata": {},
     "output_type": "display_data"
    },
    {
     "data": {
      "application/vnd.jupyter.widget-view+json": {
       "model_id": "e2b25c76984b4110a121396ee0f62aa0",
       "version_major": 2,
       "version_minor": 0
      },
      "text/plain": [
       "TqdmHBox(children=(HTML(value='Packets:   ', layout=Layout(width='6%')), FloatProgress(value=0.0, layout=Layou…"
      ]
     },
     "metadata": {},
     "output_type": "display_data"
    },
    {
     "name": "stdout",
     "output_type": "stream",
     "text": [
      "[\u001b[1mpy.warnings         \u001b[0m][\u001b[1;33mWARNING\u001b[0m]  \n",
      "\t/home/runner/work/tardis/tardis/tardis/plasma/properties/radiative_properties.py:93: RuntimeWarning: invalid value encountered in divide\n",
      "  (g_lower * n_upper) / (g_upper * n_lower)\n",
      " (\u001b[1mwarnings.py\u001b[0m:109)\n"
     ]
    },
    {
     "name": "stdout",
     "output_type": "stream",
     "text": [
      "[\u001b[1mpy.warnings         \u001b[0m][\u001b[1;33mWARNING\u001b[0m]  \n",
      "\t/home/runner/work/tardis/tardis/tardis/plasma/properties/radiative_properties.py:93: RuntimeWarning: invalid value encountered in divide\n",
      "  (g_lower * n_upper) / (g_upper * n_lower)\n",
      " (\u001b[1mwarnings.py\u001b[0m:109)\n"
     ]
    },
    {
     "name": "stdout",
     "output_type": "stream",
     "text": [
      "[\u001b[1mpy.warnings         \u001b[0m][\u001b[1;33mWARNING\u001b[0m]  \n",
      "\t/home/runner/work/tardis/tardis/tardis/plasma/properties/radiative_properties.py:93: RuntimeWarning: invalid value encountered in divide\n",
      "  (g_lower * n_upper) / (g_upper * n_lower)\n",
      " (\u001b[1mwarnings.py\u001b[0m:109)\n"
     ]
    },
    {
     "name": "stdout",
     "output_type": "stream",
     "text": [
      "[\u001b[1mpy.warnings         \u001b[0m][\u001b[1;33mWARNING\u001b[0m]  \n",
      "\t/home/runner/work/tardis/tardis/tardis/plasma/properties/radiative_properties.py:93: RuntimeWarning: invalid value encountered in divide\n",
      "  (g_lower * n_upper) / (g_upper * n_lower)\n",
      " (\u001b[1mwarnings.py\u001b[0m:109)\n"
     ]
    }
   ],
   "source": [
    "sim = run_tardis(\"tardis_config_logger.yml\", show_cplots=False)"
   ]
  },
  {
   "cell_type": "markdown",
   "id": "9bf77405",
   "metadata": {},
   "source": [
    "It can be examined that the logs are not printed.<br> The logging level, by default, is set to `CRITICAL`. Logs will only be captured if any `CRITICAL` level logs are encountered while running the simulation."
   ]
  },
  {
   "cell_type": "markdown",
   "id": "420dd7c2",
   "metadata": {},
   "source": [
    "## Logging Configuration (Functional Arguments)"
   ]
  },
  {
   "cell_type": "markdown",
   "id": "ac8d5088",
   "metadata": {},
   "source": [
    "The `run_tardis()` function from the `tardis module` has two functional arguments:`log_level` & `specific_log_level`."
   ]
  },
  {
   "cell_type": "markdown",
   "id": "d58f2d9c",
   "metadata": {},
   "source": [
    "<div class=\"alert alert-info\">\n",
    "\n",
    "Note\n",
    "\n",
    "Both <strong>log_level</strong> & <strong>specific</strong> are optional arguments for the <strong>run_tardis()</strong> function, however, if <strong>specific</strong> argument is used then, <strong>log_level</strong> must be set to a particular level.\n",
    "</div>"
   ]
  },
  {
   "cell_type": "markdown",
   "id": "1176f370",
   "metadata": {},
   "source": [
    "### The `log_level` Argument"
   ]
  },
  {
   "cell_type": "markdown",
   "id": "c3547b04",
   "metadata": {},
   "source": [
    "The `log_level` argument can be passed in `run_tardis()` to set the logging level for the simulation. The input for this argument **must be** one of the following: **Notset, Debug, Info, Warning, Error** or **Critical**."
   ]
  },
  {
   "cell_type": "code",
   "execution_count": 4,
   "id": "dc2dcd71",
   "metadata": {
    "execution": {
     "iopub.execute_input": "2024-05-28T10:51:41.169795Z",
     "iopub.status.busy": "2024-05-28T10:51:41.169416Z",
     "iopub.status.idle": "2024-05-28T10:51:42.878217Z",
     "shell.execute_reply": "2024-05-28T10:51:42.877649Z"
    },
    "scrolled": false
   },
   "outputs": [
    {
     "name": "stdout",
     "output_type": "stream",
     "text": [
      "log_level is defined both in Functional Argument & YAML Configuration {debug section}\n",
      "log_level = INFO will be used for Log Level Determination\n",
      "\n",
      "[\u001b[1mtardis.simulation.base\u001b[0m][\u001b[1;37mINFO\u001b[0m   ]  \n",
      "\t\n",
      "\tReading Atomic Data from kurucz_cd23_chianti_H_He.h5 (\u001b[1mbase.py\u001b[0m:679)\n"
     ]
    },
    {
     "name": "stdout",
     "output_type": "stream",
     "text": [
      "[\u001b[1mtardis.io.atom_data.util\u001b[0m][\u001b[1;37mINFO\u001b[0m   ]  \n",
      "\t\n",
      "\tAtom Data kurucz_cd23_chianti_H_He.h5 not found in local path.\n",
      "\tExists in TARDIS Data repo /home/runner/Downloads/tardis-data/kurucz_cd23_chianti_H_He.h5 (\u001b[1mutil.py\u001b[0m:36)\n"
     ]
    },
    {
     "name": "stdout",
     "output_type": "stream",
     "text": [
      "[\u001b[1mtardis.io.atom_data.base\u001b[0m][\u001b[1;37mINFO\u001b[0m   ]  \n",
      "\tReading Atom Data with: UUID = 6f7b09e887a311e7a06b246e96350010 MD5  = 864f1753714343c41f99cb065710cace  (\u001b[1mbase.py\u001b[0m:258)\n"
     ]
    },
    {
     "name": "stdout",
     "output_type": "stream",
     "text": [
      "[\u001b[1mtardis.io.atom_data.base\u001b[0m][\u001b[1;37mINFO\u001b[0m   ]  \n",
      "\tNon provided Atomic Data: synpp_refs, photoionization_data, yg_data, two_photon_data, linelist (\u001b[1mbase.py\u001b[0m:262)\n"
     ]
    },
    {
     "name": "stdout",
     "output_type": "stream",
     "text": [
      "[\u001b[1mtardis.model.parse_input\u001b[0m][\u001b[1;33mWARNING\u001b[0m]  \n",
      "\tNumber of density points larger than number of shells. Assuming inner point irrelevant (\u001b[1mparse_input.py\u001b[0m:107)\n"
     ]
    },
    {
     "name": "stdout",
     "output_type": "stream",
     "text": [
      "[\u001b[1mtardis.model.matter.decay\u001b[0m][\u001b[1;37mINFO\u001b[0m   ]  \n",
      "\tDecaying abundances for 1123200.0 seconds (\u001b[1mdecay.py\u001b[0m:101)\n"
     ]
    },
    {
     "name": "stdout",
     "output_type": "stream",
     "text": [
      "[\u001b[1mpy.warnings         \u001b[0m][\u001b[1;33mWARNING\u001b[0m]  \n",
      "\t/home/runner/work/tardis/tardis/tardis/plasma/properties/radiative_properties.py:93: RuntimeWarning: invalid value encountered in divide\n",
      "  (g_lower * n_upper) / (g_upper * n_lower)\n",
      " (\u001b[1mwarnings.py\u001b[0m:109)\n"
     ]
    },
    {
     "name": "stdout",
     "output_type": "stream",
     "text": [
      "[\u001b[1mpy.warnings         \u001b[0m][\u001b[1;33mWARNING\u001b[0m]  \n",
      "\t/home/runner/work/tardis/tardis/tardis/plasma/properties/radiative_properties.py:93: RuntimeWarning: invalid value encountered in divide\n",
      "  (g_lower * n_upper) / (g_upper * n_lower)\n",
      " (\u001b[1mwarnings.py\u001b[0m:109)\n"
     ]
    },
    {
     "name": "stdout",
     "output_type": "stream",
     "text": [
      "[\u001b[1mtardis.simulation.base\u001b[0m][\u001b[1;37mINFO\u001b[0m   ]  \n",
      "\t\n",
      "\tStarting iteration 1 of 5 (\u001b[1mbase.py\u001b[0m:395)\n"
     ]
    },
    {
     "data": {
      "application/vnd.jupyter.widget-view+json": {
       "model_id": "561290e4124342a78028b2a49872bd20",
       "version_major": 2,
       "version_minor": 0
      },
      "text/plain": [
       "TqdmHBox(children=(HTML(value='Iterations:', layout=Layout(width='6%')), FloatProgress(value=0.0, layout=Layou…"
      ]
     },
     "metadata": {},
     "output_type": "display_data"
    },
    {
     "data": {
      "application/vnd.jupyter.widget-view+json": {
       "model_id": "d0e472c771ac415ba29361b32d7aa7c2",
       "version_major": 2,
       "version_minor": 0
      },
      "text/plain": [
       "TqdmHBox(children=(HTML(value='Packets:   ', layout=Layout(width='6%')), FloatProgress(value=0.0, layout=Layou…"
      ]
     },
     "metadata": {},
     "output_type": "display_data"
    },
    {
     "name": "stdout",
     "output_type": "stream",
     "text": [
      "[\u001b[1mtardis.simulation.base\u001b[0m][\u001b[1;37mINFO\u001b[0m   ]  \n",
      "\t\n",
      "\tLuminosity emitted   = 7.947e+42 erg / s\n",
      "\tLuminosity absorbed  = 2.654e+42 erg / s\n",
      "\tLuminosity requested = 1.059e+43 erg / s\n",
      " (\u001b[1mbase.py\u001b[0m:577)\n"
     ]
    },
    {
     "name": "stdout",
     "output_type": "stream",
     "text": [
      "[\u001b[1mtardis.simulation.base\u001b[0m][\u001b[1;37mINFO\u001b[0m   ]  \n",
      "\t\n",
      "\tPlasma stratification: (\u001b[1mbase.py\u001b[0m:545)\n"
     ]
    },
    {
     "data": {
      "text/html": [
       "<style type=\"text/css\">\n",
       "</style>\n",
       "<table id=\"T_319ab\">\n",
       "  <thead>\n",
       "    <tr>\n",
       "      <th class=\"index_name level0\" >Shell No.</th>\n",
       "      <th id=\"T_319ab_level0_col0\" class=\"col_heading level0 col0\" >t_rad</th>\n",
       "      <th id=\"T_319ab_level0_col1\" class=\"col_heading level0 col1\" >next_t_rad</th>\n",
       "      <th id=\"T_319ab_level0_col2\" class=\"col_heading level0 col2\" >w</th>\n",
       "      <th id=\"T_319ab_level0_col3\" class=\"col_heading level0 col3\" >next_w</th>\n",
       "    </tr>\n",
       "  </thead>\n",
       "  <tbody>\n",
       "    <tr>\n",
       "      <th id=\"T_319ab_level0_row0\" class=\"row_heading level0 row0\" >0</th>\n",
       "      <td id=\"T_319ab_row0_col0\" class=\"data row0 col0\" >9.93e+03 K</td>\n",
       "      <td id=\"T_319ab_row0_col1\" class=\"data row0 col1\" >1.03e+04 K</td>\n",
       "      <td id=\"T_319ab_row0_col2\" class=\"data row0 col2\" >0.4</td>\n",
       "      <td id=\"T_319ab_row0_col3\" class=\"data row0 col3\" >0.481</td>\n",
       "    </tr>\n",
       "    <tr>\n",
       "      <th id=\"T_319ab_level0_row1\" class=\"row_heading level0 row1\" >5</th>\n",
       "      <td id=\"T_319ab_row1_col0\" class=\"data row1 col0\" >9.85e+03 K</td>\n",
       "      <td id=\"T_319ab_row1_col1\" class=\"data row1 col1\" >1.03e+04 K</td>\n",
       "      <td id=\"T_319ab_row1_col2\" class=\"data row1 col2\" >0.211</td>\n",
       "      <td id=\"T_319ab_row1_col3\" class=\"data row1 col3\" >0.193</td>\n",
       "    </tr>\n",
       "    <tr>\n",
       "      <th id=\"T_319ab_level0_row2\" class=\"row_heading level0 row2\" >10</th>\n",
       "      <td id=\"T_319ab_row2_col0\" class=\"data row2 col0\" >9.78e+03 K</td>\n",
       "      <td id=\"T_319ab_row2_col1\" class=\"data row2 col1\" >1.02e+04 K</td>\n",
       "      <td id=\"T_319ab_row2_col2\" class=\"data row2 col2\" >0.143</td>\n",
       "      <td id=\"T_319ab_row2_col3\" class=\"data row2 col3\" >0.112</td>\n",
       "    </tr>\n",
       "    <tr>\n",
       "      <th id=\"T_319ab_level0_row3\" class=\"row_heading level0 row3\" >15</th>\n",
       "      <td id=\"T_319ab_row3_col0\" class=\"data row3 col0\" >9.71e+03 K</td>\n",
       "      <td id=\"T_319ab_row3_col1\" class=\"data row3 col1\" >9.98e+03 K</td>\n",
       "      <td id=\"T_319ab_row3_col2\" class=\"data row3 col2\" >0.105</td>\n",
       "      <td id=\"T_319ab_row3_col3\" class=\"data row3 col3\" >0.0826</td>\n",
       "    </tr>\n",
       "  </tbody>\n",
       "</table>\n"
      ],
      "text/plain": [
       "<pandas.io.formats.style.Styler at 0x7f294ea2a750>"
      ]
     },
     "metadata": {},
     "output_type": "display_data"
    },
    {
     "name": "stdout",
     "output_type": "stream",
     "text": [
      "[\u001b[1mtardis.simulation.base\u001b[0m][\u001b[1;37mINFO\u001b[0m   ]  \n",
      "\t\n",
      "\tCurrent t_inner = 9933.952 K\n",
      "\tExpected t_inner for next iteration = 11468.808 K\n",
      " (\u001b[1mbase.py\u001b[0m:572)\n"
     ]
    },
    {
     "name": "stdout",
     "output_type": "stream",
     "text": [
      "[\u001b[1mpy.warnings         \u001b[0m][\u001b[1;33mWARNING\u001b[0m]  \n",
      "\t/home/runner/work/tardis/tardis/tardis/plasma/properties/radiative_properties.py:93: RuntimeWarning: invalid value encountered in divide\n",
      "  (g_lower * n_upper) / (g_upper * n_lower)\n",
      " (\u001b[1mwarnings.py\u001b[0m:109)\n"
     ]
    },
    {
     "name": "stdout",
     "output_type": "stream",
     "text": [
      "[\u001b[1mtardis.simulation.base\u001b[0m][\u001b[1;37mINFO\u001b[0m   ]  \n",
      "\t\n",
      "\tStarting iteration 2 of 5 (\u001b[1mbase.py\u001b[0m:395)\n"
     ]
    },
    {
     "name": "stdout",
     "output_type": "stream",
     "text": [
      "[\u001b[1mtardis.simulation.base\u001b[0m][\u001b[1;37mINFO\u001b[0m   ]  \n",
      "\t\n",
      "\tLuminosity emitted   = 1.413e+43 erg / s\n",
      "\tLuminosity absorbed  = 4.704e+42 erg / s\n",
      "\tLuminosity requested = 1.059e+43 erg / s\n",
      " (\u001b[1mbase.py\u001b[0m:577)\n"
     ]
    },
    {
     "name": "stdout",
     "output_type": "stream",
     "text": [
      "[\u001b[1mtardis.simulation.base\u001b[0m][\u001b[1;37mINFO\u001b[0m   ]  \n",
      "\t\n",
      "\tPlasma stratification: (\u001b[1mbase.py\u001b[0m:545)\n"
     ]
    },
    {
     "data": {
      "text/html": [
       "<style type=\"text/css\">\n",
       "</style>\n",
       "<table id=\"T_398af\">\n",
       "  <thead>\n",
       "    <tr>\n",
       "      <th class=\"index_name level0\" >Shell No.</th>\n",
       "      <th id=\"T_398af_level0_col0\" class=\"col_heading level0 col0\" >t_rad</th>\n",
       "      <th id=\"T_398af_level0_col1\" class=\"col_heading level0 col1\" >next_t_rad</th>\n",
       "      <th id=\"T_398af_level0_col2\" class=\"col_heading level0 col2\" >w</th>\n",
       "      <th id=\"T_398af_level0_col3\" class=\"col_heading level0 col3\" >next_w</th>\n",
       "    </tr>\n",
       "  </thead>\n",
       "  <tbody>\n",
       "    <tr>\n",
       "      <th id=\"T_398af_level0_row0\" class=\"row_heading level0 row0\" >0</th>\n",
       "      <td id=\"T_398af_row0_col0\" class=\"data row0 col0\" >1.03e+04 K</td>\n",
       "      <td id=\"T_398af_row0_col1\" class=\"data row0 col1\" >1.15e+04 K</td>\n",
       "      <td id=\"T_398af_row0_col2\" class=\"data row0 col2\" >0.481</td>\n",
       "      <td id=\"T_398af_row0_col3\" class=\"data row0 col3\" >0.555</td>\n",
       "    </tr>\n",
       "    <tr>\n",
       "      <th id=\"T_398af_level0_row1\" class=\"row_heading level0 row1\" >5</th>\n",
       "      <td id=\"T_398af_row1_col0\" class=\"data row1 col0\" >1.03e+04 K</td>\n",
       "      <td id=\"T_398af_row1_col1\" class=\"data row1 col1\" >1.17e+04 K</td>\n",
       "      <td id=\"T_398af_row1_col2\" class=\"data row1 col2\" >0.193</td>\n",
       "      <td id=\"T_398af_row1_col3\" class=\"data row1 col3\" >0.203</td>\n",
       "    </tr>\n",
       "    <tr>\n",
       "      <th id=\"T_398af_level0_row2\" class=\"row_heading level0 row2\" >10</th>\n",
       "      <td id=\"T_398af_row2_col0\" class=\"data row2 col0\" >1.02e+04 K</td>\n",
       "      <td id=\"T_398af_row2_col1\" class=\"data row2 col1\" >1.13e+04 K</td>\n",
       "      <td id=\"T_398af_row2_col2\" class=\"data row2 col2\" >0.112</td>\n",
       "      <td id=\"T_398af_row2_col3\" class=\"data row2 col3\" >0.135</td>\n",
       "    </tr>\n",
       "    <tr>\n",
       "      <th id=\"T_398af_level0_row3\" class=\"row_heading level0 row3\" >15</th>\n",
       "      <td id=\"T_398af_row3_col0\" class=\"data row3 col0\" >9.98e+03 K</td>\n",
       "      <td id=\"T_398af_row3_col1\" class=\"data row3 col1\" >1.1e+04 K</td>\n",
       "      <td id=\"T_398af_row3_col2\" class=\"data row3 col2\" >0.0826</td>\n",
       "      <td id=\"T_398af_row3_col3\" class=\"data row3 col3\" >0.0998</td>\n",
       "    </tr>\n",
       "  </tbody>\n",
       "</table>\n"
      ],
      "text/plain": [
       "<pandas.io.formats.style.Styler at 0x7f2956e88ad0>"
      ]
     },
     "metadata": {},
     "output_type": "display_data"
    },
    {
     "name": "stdout",
     "output_type": "stream",
     "text": [
      "[\u001b[1mtardis.simulation.base\u001b[0m][\u001b[1;37mINFO\u001b[0m   ]  \n",
      "\t\n",
      "\tCurrent t_inner = 11468.808 K\n",
      "\tExpected t_inner for next iteration = 9929.475 K\n",
      " (\u001b[1mbase.py\u001b[0m:572)\n"
     ]
    },
    {
     "name": "stdout",
     "output_type": "stream",
     "text": [
      "[\u001b[1mpy.warnings         \u001b[0m][\u001b[1;33mWARNING\u001b[0m]  \n",
      "\t/home/runner/work/tardis/tardis/tardis/plasma/properties/radiative_properties.py:93: RuntimeWarning: invalid value encountered in divide\n",
      "  (g_lower * n_upper) / (g_upper * n_lower)\n",
      " (\u001b[1mwarnings.py\u001b[0m:109)\n"
     ]
    },
    {
     "name": "stdout",
     "output_type": "stream",
     "text": [
      "[\u001b[1mtardis.simulation.base\u001b[0m][\u001b[1;37mINFO\u001b[0m   ]  \n",
      "\t\n",
      "\tStarting iteration 3 of 5 (\u001b[1mbase.py\u001b[0m:395)\n"
     ]
    },
    {
     "name": "stdout",
     "output_type": "stream",
     "text": [
      "[\u001b[1mtardis.simulation.base\u001b[0m][\u001b[1;37mINFO\u001b[0m   ]  \n",
      "\t\n",
      "\tLuminosity emitted   = 8.259e+42 erg / s\n",
      "\tLuminosity absorbed  = 2.337e+42 erg / s\n",
      "\tLuminosity requested = 1.059e+43 erg / s\n",
      " (\u001b[1mbase.py\u001b[0m:577)\n"
     ]
    },
    {
     "name": "stdout",
     "output_type": "stream",
     "text": [
      "[\u001b[1mtardis.simulation.base\u001b[0m][\u001b[1;37mINFO\u001b[0m   ]  \n",
      "\t\n",
      "\tPlasma stratification: (\u001b[1mbase.py\u001b[0m:545)\n"
     ]
    },
    {
     "data": {
      "text/html": [
       "<style type=\"text/css\">\n",
       "</style>\n",
       "<table id=\"T_54d66\">\n",
       "  <thead>\n",
       "    <tr>\n",
       "      <th class=\"index_name level0\" >Shell No.</th>\n",
       "      <th id=\"T_54d66_level0_col0\" class=\"col_heading level0 col0\" >t_rad</th>\n",
       "      <th id=\"T_54d66_level0_col1\" class=\"col_heading level0 col1\" >next_t_rad</th>\n",
       "      <th id=\"T_54d66_level0_col2\" class=\"col_heading level0 col2\" >w</th>\n",
       "      <th id=\"T_54d66_level0_col3\" class=\"col_heading level0 col3\" >next_w</th>\n",
       "    </tr>\n",
       "  </thead>\n",
       "  <tbody>\n",
       "    <tr>\n",
       "      <th id=\"T_54d66_level0_row0\" class=\"row_heading level0 row0\" >0</th>\n",
       "      <td id=\"T_54d66_row0_col0\" class=\"data row0 col0\" >1.15e+04 K</td>\n",
       "      <td id=\"T_54d66_row0_col1\" class=\"data row0 col1\" >1.03e+04 K</td>\n",
       "      <td id=\"T_54d66_row0_col2\" class=\"data row0 col2\" >0.555</td>\n",
       "      <td id=\"T_54d66_row0_col3\" class=\"data row0 col3\" >0.468</td>\n",
       "    </tr>\n",
       "    <tr>\n",
       "      <th id=\"T_54d66_level0_row1\" class=\"row_heading level0 row1\" >5</th>\n",
       "      <td id=\"T_54d66_row1_col0\" class=\"data row1 col0\" >1.17e+04 K</td>\n",
       "      <td id=\"T_54d66_row1_col1\" class=\"data row1 col1\" >1.05e+04 K</td>\n",
       "      <td id=\"T_54d66_row1_col2\" class=\"data row1 col2\" >0.203</td>\n",
       "      <td id=\"T_54d66_row1_col3\" class=\"data row1 col3\" >0.181</td>\n",
       "    </tr>\n",
       "    <tr>\n",
       "      <th id=\"T_54d66_level0_row2\" class=\"row_heading level0 row2\" >10</th>\n",
       "      <td id=\"T_54d66_row2_col0\" class=\"data row2 col0\" >1.13e+04 K</td>\n",
       "      <td id=\"T_54d66_row2_col1\" class=\"data row2 col1\" >1.05e+04 K</td>\n",
       "      <td id=\"T_54d66_row2_col2\" class=\"data row2 col2\" >0.135</td>\n",
       "      <td id=\"T_54d66_row2_col3\" class=\"data row2 col3\" >0.108</td>\n",
       "    </tr>\n",
       "    <tr>\n",
       "      <th id=\"T_54d66_level0_row3\" class=\"row_heading level0 row3\" >15</th>\n",
       "      <td id=\"T_54d66_row3_col0\" class=\"data row3 col0\" >1.1e+04 K</td>\n",
       "      <td id=\"T_54d66_row3_col1\" class=\"data row3 col1\" >1.03e+04 K</td>\n",
       "      <td id=\"T_54d66_row3_col2\" class=\"data row3 col2\" >0.0998</td>\n",
       "      <td id=\"T_54d66_row3_col3\" class=\"data row3 col3\" >0.0779</td>\n",
       "    </tr>\n",
       "  </tbody>\n",
       "</table>\n"
      ],
      "text/plain": [
       "<pandas.io.formats.style.Styler at 0x7f294e00d650>"
      ]
     },
     "metadata": {},
     "output_type": "display_data"
    },
    {
     "name": "stdout",
     "output_type": "stream",
     "text": [
      "[\u001b[1mtardis.simulation.base\u001b[0m][\u001b[1;37mINFO\u001b[0m   ]  \n",
      "\t\n",
      "\tCurrent t_inner = 9929.475 K\n",
      "\tExpected t_inner for next iteration = 11245.497 K\n",
      " (\u001b[1mbase.py\u001b[0m:572)\n"
     ]
    },
    {
     "name": "stdout",
     "output_type": "stream",
     "text": [
      "[\u001b[1mpy.warnings         \u001b[0m][\u001b[1;33mWARNING\u001b[0m]  \n",
      "\t/home/runner/work/tardis/tardis/tardis/plasma/properties/radiative_properties.py:93: RuntimeWarning: invalid value encountered in divide\n",
      "  (g_lower * n_upper) / (g_upper * n_lower)\n",
      " (\u001b[1mwarnings.py\u001b[0m:109)\n"
     ]
    },
    {
     "name": "stdout",
     "output_type": "stream",
     "text": [
      "[\u001b[1mtardis.simulation.base\u001b[0m][\u001b[1;37mINFO\u001b[0m   ]  \n",
      "\t\n",
      "\tStarting iteration 4 of 5 (\u001b[1mbase.py\u001b[0m:395)\n"
     ]
    },
    {
     "name": "stdout",
     "output_type": "stream",
     "text": [
      "[\u001b[1mtardis.simulation.base\u001b[0m][\u001b[1;37mINFO\u001b[0m   ]  \n",
      "\t\n",
      "\tLuminosity emitted   = 1.299e+43 erg / s\n",
      "\tLuminosity absorbed  = 4.407e+42 erg / s\n",
      "\tLuminosity requested = 1.059e+43 erg / s\n",
      " (\u001b[1mbase.py\u001b[0m:577)\n"
     ]
    },
    {
     "name": "stdout",
     "output_type": "stream",
     "text": [
      "[\u001b[1mtardis.simulation.base\u001b[0m][\u001b[1;37mINFO\u001b[0m   ]  \n",
      "\t\n",
      "\tPlasma stratification: (\u001b[1mbase.py\u001b[0m:545)\n"
     ]
    },
    {
     "data": {
      "text/html": [
       "<style type=\"text/css\">\n",
       "</style>\n",
       "<table id=\"T_e2010\">\n",
       "  <thead>\n",
       "    <tr>\n",
       "      <th class=\"index_name level0\" >Shell No.</th>\n",
       "      <th id=\"T_e2010_level0_col0\" class=\"col_heading level0 col0\" >t_rad</th>\n",
       "      <th id=\"T_e2010_level0_col1\" class=\"col_heading level0 col1\" >next_t_rad</th>\n",
       "      <th id=\"T_e2010_level0_col2\" class=\"col_heading level0 col2\" >w</th>\n",
       "      <th id=\"T_e2010_level0_col3\" class=\"col_heading level0 col3\" >next_w</th>\n",
       "    </tr>\n",
       "  </thead>\n",
       "  <tbody>\n",
       "    <tr>\n",
       "      <th id=\"T_e2010_level0_row0\" class=\"row_heading level0 row0\" >0</th>\n",
       "      <td id=\"T_e2010_row0_col0\" class=\"data row0 col0\" >1.03e+04 K</td>\n",
       "      <td id=\"T_e2010_row0_col1\" class=\"data row0 col1\" >1.14e+04 K</td>\n",
       "      <td id=\"T_e2010_row0_col2\" class=\"data row0 col2\" >0.468</td>\n",
       "      <td id=\"T_e2010_row0_col3\" class=\"data row0 col3\" >0.527</td>\n",
       "    </tr>\n",
       "    <tr>\n",
       "      <th id=\"T_e2010_level0_row1\" class=\"row_heading level0 row1\" >5</th>\n",
       "      <td id=\"T_e2010_row1_col0\" class=\"data row1 col0\" >1.05e+04 K</td>\n",
       "      <td id=\"T_e2010_row1_col1\" class=\"data row1 col1\" >1.13e+04 K</td>\n",
       "      <td id=\"T_e2010_row1_col2\" class=\"data row1 col2\" >0.181</td>\n",
       "      <td id=\"T_e2010_row1_col3\" class=\"data row1 col3\" >0.225</td>\n",
       "    </tr>\n",
       "    <tr>\n",
       "      <th id=\"T_e2010_level0_row2\" class=\"row_heading level0 row2\" >10</th>\n",
       "      <td id=\"T_e2010_row2_col0\" class=\"data row2 col0\" >1.05e+04 K</td>\n",
       "      <td id=\"T_e2010_row2_col1\" class=\"data row2 col1\" >1.12e+04 K</td>\n",
       "      <td id=\"T_e2010_row2_col2\" class=\"data row2 col2\" >0.108</td>\n",
       "      <td id=\"T_e2010_row2_col3\" class=\"data row2 col3\" >0.126</td>\n",
       "    </tr>\n",
       "    <tr>\n",
       "      <th id=\"T_e2010_level0_row3\" class=\"row_heading level0 row3\" >15</th>\n",
       "      <td id=\"T_e2010_row3_col0\" class=\"data row3 col0\" >1.03e+04 K</td>\n",
       "      <td id=\"T_e2010_row3_col1\" class=\"data row3 col1\" >1.1e+04 K</td>\n",
       "      <td id=\"T_e2010_row3_col2\" class=\"data row3 col2\" >0.0779</td>\n",
       "      <td id=\"T_e2010_row3_col3\" class=\"data row3 col3\" >0.0926</td>\n",
       "    </tr>\n",
       "  </tbody>\n",
       "</table>\n"
      ],
      "text/plain": [
       "<pandas.io.formats.style.Styler at 0x7f294e3b4e90>"
      ]
     },
     "metadata": {},
     "output_type": "display_data"
    },
    {
     "name": "stdout",
     "output_type": "stream",
     "text": [
      "[\u001b[1mtardis.simulation.base\u001b[0m][\u001b[1;37mINFO\u001b[0m   ]  \n",
      "\t\n",
      "\tCurrent t_inner = 11245.497 K\n",
      "\tExpected t_inner for next iteration = 10153.431 K\n",
      " (\u001b[1mbase.py\u001b[0m:572)\n"
     ]
    },
    {
     "name": "stdout",
     "output_type": "stream",
     "text": [
      "[\u001b[1mpy.warnings         \u001b[0m][\u001b[1;33mWARNING\u001b[0m]  \n",
      "\t/home/runner/work/tardis/tardis/tardis/plasma/properties/radiative_properties.py:93: RuntimeWarning: invalid value encountered in divide\n",
      "  (g_lower * n_upper) / (g_upper * n_lower)\n",
      " (\u001b[1mwarnings.py\u001b[0m:109)\n"
     ]
    },
    {
     "name": "stdout",
     "output_type": "stream",
     "text": [
      "[\u001b[1mtardis.simulation.base\u001b[0m][\u001b[1;37mINFO\u001b[0m   ]  \n",
      "\t\n",
      "\tSimulation finished in 4 iterations \n",
      "\tSimulation took 0.42 s\n",
      " (\u001b[1mbase.py\u001b[0m:473)\n"
     ]
    },
    {
     "name": "stdout",
     "output_type": "stream",
     "text": [
      "[\u001b[1mtardis.simulation.base\u001b[0m][\u001b[1;37mINFO\u001b[0m   ]  \n",
      "\t\n",
      "\tStarting iteration 5 of 5 (\u001b[1mbase.py\u001b[0m:395)\n"
     ]
    },
    {
     "name": "stdout",
     "output_type": "stream",
     "text": [
      "[\u001b[1mtardis.simulation.base\u001b[0m][\u001b[1;37mINFO\u001b[0m   ]  \n",
      "\t\n",
      "\tLuminosity emitted   = 8.742e+42 erg / s\n",
      "\tLuminosity absorbed  = 2.834e+42 erg / s\n",
      "\tLuminosity requested = 1.059e+43 erg / s\n",
      " (\u001b[1mbase.py\u001b[0m:577)\n"
     ]
    }
   ],
   "source": [
    "sim = run_tardis(\"tardis_config_logger.yml\", log_level=\"Info\", show_cplots=False)"
   ]
  },
  {
   "cell_type": "markdown",
   "id": "52e778bc",
   "metadata": {},
   "source": [
    "By setting up the `log_level` parameter to **\"Info\"** in the above example, we can check that the logs are at the **\"Info\"** or higher logging level. "
   ]
  },
  {
   "cell_type": "markdown",
   "id": "25277fe8",
   "metadata": {},
   "source": [
    "### The `specific` Argument"
   ]
  },
  {
   "cell_type": "markdown",
   "id": "56a5ef36",
   "metadata": {},
   "source": [
    "The `specific_log_level` argument tells the logger to capture log messages set by the `log_level` parameter. It can only take *Boolean* values for input, which are `True` or `False`. Take for example the following:"
   ]
  },
  {
   "cell_type": "code",
   "execution_count": 5,
   "id": "a0df43d1",
   "metadata": {
    "execution": {
     "iopub.execute_input": "2024-05-28T10:51:42.880715Z",
     "iopub.status.busy": "2024-05-28T10:51:42.880169Z",
     "iopub.status.idle": "2024-05-28T10:51:44.502429Z",
     "shell.execute_reply": "2024-05-28T10:51:44.501840Z"
    },
    "scrolled": false
   },
   "outputs": [
    {
     "name": "stdout",
     "output_type": "stream",
     "text": [
      "log_level is defined both in Functional Argument & YAML Configuration {debug section}\n",
      "log_level = DEBUG will be used for Log Level Determination\n",
      "\n",
      "[\u001b[1mtardis.io.atom_data.base\u001b[0m][\u001b[1;34mDEBUG\u001b[0m  ]  Dataframe does not contain synpp_refs column (\u001b[1mbase.py\u001b[0m:181)\n"
     ]
    },
    {
     "name": "stdout",
     "output_type": "stream",
     "text": [
      "[\u001b[1mtardis.io.atom_data.base\u001b[0m][\u001b[1;34mDEBUG\u001b[0m  ]  Dataframe does not contain photoionization_data column (\u001b[1mbase.py\u001b[0m:181)\n"
     ]
    },
    {
     "name": "stdout",
     "output_type": "stream",
     "text": [
      "[\u001b[1mtardis.io.atom_data.base\u001b[0m][\u001b[1;34mDEBUG\u001b[0m  ]  Dataframe does not contain yg_data column (\u001b[1mbase.py\u001b[0m:181)\n"
     ]
    },
    {
     "name": "stdout",
     "output_type": "stream",
     "text": [
      "[\u001b[1mtardis.io.atom_data.base\u001b[0m][\u001b[1;34mDEBUG\u001b[0m  ]  Dataframe does not contain two_photon_data column (\u001b[1mbase.py\u001b[0m:181)\n"
     ]
    },
    {
     "name": "stdout",
     "output_type": "stream",
     "text": [
      "[\u001b[1mtardis.io.atom_data.base\u001b[0m][\u001b[1;34mDEBUG\u001b[0m  ]  Dataframe does not contain linelist column (\u001b[1mbase.py\u001b[0m:181)\n"
     ]
    },
    {
     "name": "stdout",
     "output_type": "stream",
     "text": [
      "[\u001b[1mtardis.plasma.base  \u001b[0m][\u001b[1;34mDEBUG\u001b[0m  ]  Updating modules in the following order:BetaRadiation->SelectedAtoms->ElectronTemperature->GElectron->Levels->Lines->IonizationData->MacroAtomData->LevelBoltzmannFactorLTE->LinesLowerLevelIndex->LinesUpperLevelIndex->JBluesDiluteBlackBody->LevelBoltzmannFactorNoNLTE->PartitionFunction->PhiSahaLTE->IonNumberDensity->LevelNumberDensity->StimulatedEmissionFactor->TauSobolev->BetaSobolev->TransitionProbabilities (\u001b[1mbase.py\u001b[0m:264)\n"
     ]
    },
    {
     "name": "stdout",
     "output_type": "stream",
     "text": [
      "[\u001b[1mpy.warnings         \u001b[0m][\u001b[1;33mWARNING\u001b[0m]  \n",
      "\t/home/runner/work/tardis/tardis/tardis/plasma/properties/radiative_properties.py:93: RuntimeWarning: invalid value encountered in divide\n",
      "  (g_lower * n_upper) / (g_upper * n_lower)\n",
      " (\u001b[1mwarnings.py\u001b[0m:109)\n"
     ]
    },
    {
     "name": "stdout",
     "output_type": "stream",
     "text": [
      "[\u001b[1mtardis.plasma.base  \u001b[0m][\u001b[1;34mDEBUG\u001b[0m  ]  Updating modules in the following order:BetaRadiation->SelectedAtoms->ElectronTemperature->GElectron->Levels->Lines->IonizationData->MacroAtomData->LevelBoltzmannFactorLTE->LinesLowerLevelIndex->LinesUpperLevelIndex->JBluesDiluteBlackBody->LevelBoltzmannFactorNoNLTE->PartitionFunction->PhiSahaLTE->IonNumberDensity->LevelNumberDensity->StimulatedEmissionFactor->TauSobolev->BetaSobolev->TransitionProbabilities (\u001b[1mbase.py\u001b[0m:264)\n"
     ]
    },
    {
     "name": "stdout",
     "output_type": "stream",
     "text": [
      "[\u001b[1mpy.warnings         \u001b[0m][\u001b[1;33mWARNING\u001b[0m]  \n",
      "\t/home/runner/work/tardis/tardis/tardis/plasma/properties/radiative_properties.py:93: RuntimeWarning: invalid value encountered in divide\n",
      "  (g_lower * n_upper) / (g_upper * n_lower)\n",
      " (\u001b[1mwarnings.py\u001b[0m:109)\n"
     ]
    },
    {
     "name": "stdout",
     "output_type": "stream",
     "text": [
      "[\u001b[1mtardis.transport.montecarlo.base\u001b[0m][\u001b[1;34mDEBUG\u001b[0m  ]  Electron scattering switched on (\u001b[1mbase.py\u001b[0m:282)\n"
     ]
    },
    {
     "data": {
      "application/vnd.jupyter.widget-view+json": {
       "model_id": "88dc01d9a3744ce286dd7c504c52754e",
       "version_major": 2,
       "version_minor": 0
      },
      "text/plain": [
       "TqdmHBox(children=(HTML(value='Iterations:', layout=Layout(width='6%')), FloatProgress(value=0.0, layout=Layou…"
      ]
     },
     "metadata": {},
     "output_type": "display_data"
    },
    {
     "data": {
      "application/vnd.jupyter.widget-view+json": {
       "model_id": "465946ab44464aaca3e369c143df4353",
       "version_major": 2,
       "version_minor": 0
      },
      "text/plain": [
       "TqdmHBox(children=(HTML(value='Packets:   ', layout=Layout(width='6%')), FloatProgress(value=0.0, layout=Layou…"
      ]
     },
     "metadata": {},
     "output_type": "display_data"
    },
    {
     "name": "stdout",
     "output_type": "stream",
     "text": [
      "[\u001b[1mtardis.plasma.base  \u001b[0m][\u001b[1;34mDEBUG\u001b[0m  ]  Updating modules in the following order:BetaRadiation->ElectronTemperature->GElectron->LevelBoltzmannFactorLTE->JBluesDiluteBlackBody->LevelBoltzmannFactorNoNLTE->PartitionFunction->PhiSahaLTE->IonNumberDensity->LevelNumberDensity->StimulatedEmissionFactor->TauSobolev->BetaSobolev->TransitionProbabilities (\u001b[1mbase.py\u001b[0m:264)\n"
     ]
    },
    {
     "name": "stdout",
     "output_type": "stream",
     "text": [
      "[\u001b[1mpy.warnings         \u001b[0m][\u001b[1;33mWARNING\u001b[0m]  \n",
      "\t/home/runner/work/tardis/tardis/tardis/plasma/properties/radiative_properties.py:93: RuntimeWarning: invalid value encountered in divide\n",
      "  (g_lower * n_upper) / (g_upper * n_lower)\n",
      " (\u001b[1mwarnings.py\u001b[0m:109)\n"
     ]
    },
    {
     "name": "stdout",
     "output_type": "stream",
     "text": [
      "[\u001b[1mtardis.plasma.base  \u001b[0m][\u001b[1;34mDEBUG\u001b[0m  ]  Updating modules in the following order:BetaRadiation->ElectronTemperature->GElectron->LevelBoltzmannFactorLTE->JBluesDiluteBlackBody->LevelBoltzmannFactorNoNLTE->PartitionFunction->PhiSahaLTE->IonNumberDensity->LevelNumberDensity->StimulatedEmissionFactor->TauSobolev->BetaSobolev->TransitionProbabilities (\u001b[1mbase.py\u001b[0m:264)\n"
     ]
    },
    {
     "name": "stdout",
     "output_type": "stream",
     "text": [
      "[\u001b[1mpy.warnings         \u001b[0m][\u001b[1;33mWARNING\u001b[0m]  \n",
      "\t/home/runner/work/tardis/tardis/tardis/plasma/properties/radiative_properties.py:93: RuntimeWarning: invalid value encountered in divide\n",
      "  (g_lower * n_upper) / (g_upper * n_lower)\n",
      " (\u001b[1mwarnings.py\u001b[0m:109)\n"
     ]
    },
    {
     "name": "stdout",
     "output_type": "stream",
     "text": [
      "[\u001b[1mtardis.plasma.base  \u001b[0m][\u001b[1;34mDEBUG\u001b[0m  ]  Updating modules in the following order:BetaRadiation->ElectronTemperature->GElectron->LevelBoltzmannFactorLTE->JBluesDiluteBlackBody->LevelBoltzmannFactorNoNLTE->PartitionFunction->PhiSahaLTE->IonNumberDensity->LevelNumberDensity->StimulatedEmissionFactor->TauSobolev->BetaSobolev->TransitionProbabilities (\u001b[1mbase.py\u001b[0m:264)\n"
     ]
    },
    {
     "name": "stdout",
     "output_type": "stream",
     "text": [
      "[\u001b[1mpy.warnings         \u001b[0m][\u001b[1;33mWARNING\u001b[0m]  \n",
      "\t/home/runner/work/tardis/tardis/tardis/plasma/properties/radiative_properties.py:93: RuntimeWarning: invalid value encountered in divide\n",
      "  (g_lower * n_upper) / (g_upper * n_lower)\n",
      " (\u001b[1mwarnings.py\u001b[0m:109)\n"
     ]
    },
    {
     "name": "stdout",
     "output_type": "stream",
     "text": [
      "[\u001b[1mtardis.plasma.base  \u001b[0m][\u001b[1;34mDEBUG\u001b[0m  ]  Updating modules in the following order:BetaRadiation->ElectronTemperature->GElectron->LevelBoltzmannFactorLTE->JBluesDiluteBlackBody->LevelBoltzmannFactorNoNLTE->PartitionFunction->PhiSahaLTE->IonNumberDensity->LevelNumberDensity->StimulatedEmissionFactor->TauSobolev->BetaSobolev->TransitionProbabilities (\u001b[1mbase.py\u001b[0m:264)\n"
     ]
    },
    {
     "name": "stdout",
     "output_type": "stream",
     "text": [
      "[\u001b[1mpy.warnings         \u001b[0m][\u001b[1;33mWARNING\u001b[0m]  \n",
      "\t/home/runner/work/tardis/tardis/tardis/plasma/properties/radiative_properties.py:93: RuntimeWarning: invalid value encountered in divide\n",
      "  (g_lower * n_upper) / (g_upper * n_lower)\n",
      " (\u001b[1mwarnings.py\u001b[0m:109)\n"
     ]
    }
   ],
   "source": [
    "sim = run_tardis(\"tardis_config_logger.yml\", log_level=\"Debug\", specific_log_level=True, show_cplots=False)"
   ]
  },
  {
   "cell_type": "markdown",
   "id": "5c6ff57c",
   "metadata": {},
   "source": [
    "It can be examined that, when we set `specific_log_level` to `True`, the log messages captured were only at the `DEBUG` log level.<br> This allows for logging only specified logging messages for inspection."
   ]
  },
  {
   "cell_type": "markdown",
   "id": "5083321b",
   "metadata": {},
   "source": [
    "The changes in the captured log messages can be seen when we set `specific_log_level` to `False`."
   ]
  },
  {
   "cell_type": "code",
   "execution_count": 6,
   "id": "566919b3",
   "metadata": {
    "execution": {
     "iopub.execute_input": "2024-05-28T10:51:44.504959Z",
     "iopub.status.busy": "2024-05-28T10:51:44.504479Z",
     "iopub.status.idle": "2024-05-28T10:51:46.333806Z",
     "shell.execute_reply": "2024-05-28T10:51:46.333240Z"
    },
    "scrolled": false
   },
   "outputs": [
    {
     "name": "stdout",
     "output_type": "stream",
     "text": [
      "log_level is defined both in Functional Argument & YAML Configuration {debug section}\n",
      "log_level = DEBUG will be used for Log Level Determination\n",
      "\n",
      "[\u001b[1mtardis.simulation.base\u001b[0m][\u001b[1;37mINFO\u001b[0m   ]  \n",
      "\t\n",
      "\tReading Atomic Data from kurucz_cd23_chianti_H_He.h5 (\u001b[1mbase.py\u001b[0m:679)\n"
     ]
    },
    {
     "name": "stdout",
     "output_type": "stream",
     "text": [
      "[\u001b[1mtardis.io.atom_data.util\u001b[0m][\u001b[1;37mINFO\u001b[0m   ]  \n",
      "\t\n",
      "\tAtom Data kurucz_cd23_chianti_H_He.h5 not found in local path.\n",
      "\tExists in TARDIS Data repo /home/runner/Downloads/tardis-data/kurucz_cd23_chianti_H_He.h5 (\u001b[1mutil.py\u001b[0m:36)\n"
     ]
    },
    {
     "name": "stdout",
     "output_type": "stream",
     "text": [
      "[\u001b[1mtardis.io.atom_data.base\u001b[0m][\u001b[1;34mDEBUG\u001b[0m  ]  Dataframe does not contain synpp_refs column (\u001b[1mbase.py\u001b[0m:181)\n"
     ]
    },
    {
     "name": "stdout",
     "output_type": "stream",
     "text": [
      "[\u001b[1mtardis.io.atom_data.base\u001b[0m][\u001b[1;34mDEBUG\u001b[0m  ]  Dataframe does not contain photoionization_data column (\u001b[1mbase.py\u001b[0m:181)\n"
     ]
    },
    {
     "name": "stdout",
     "output_type": "stream",
     "text": [
      "[\u001b[1mtardis.io.atom_data.base\u001b[0m][\u001b[1;34mDEBUG\u001b[0m  ]  Dataframe does not contain yg_data column (\u001b[1mbase.py\u001b[0m:181)\n"
     ]
    },
    {
     "name": "stdout",
     "output_type": "stream",
     "text": [
      "[\u001b[1mtardis.io.atom_data.base\u001b[0m][\u001b[1;34mDEBUG\u001b[0m  ]  Dataframe does not contain two_photon_data column (\u001b[1mbase.py\u001b[0m:181)\n"
     ]
    },
    {
     "name": "stdout",
     "output_type": "stream",
     "text": [
      "[\u001b[1mtardis.io.atom_data.base\u001b[0m][\u001b[1;34mDEBUG\u001b[0m  ]  Dataframe does not contain linelist column (\u001b[1mbase.py\u001b[0m:181)\n"
     ]
    },
    {
     "name": "stdout",
     "output_type": "stream",
     "text": [
      "[\u001b[1mtardis.io.atom_data.base\u001b[0m][\u001b[1;37mINFO\u001b[0m   ]  \n",
      "\tReading Atom Data with: UUID = 6f7b09e887a311e7a06b246e96350010 MD5  = 864f1753714343c41f99cb065710cace  (\u001b[1mbase.py\u001b[0m:258)\n"
     ]
    },
    {
     "name": "stdout",
     "output_type": "stream",
     "text": [
      "[\u001b[1mtardis.io.atom_data.base\u001b[0m][\u001b[1;37mINFO\u001b[0m   ]  \n",
      "\tNon provided Atomic Data: synpp_refs, photoionization_data, yg_data, two_photon_data, linelist (\u001b[1mbase.py\u001b[0m:262)\n"
     ]
    },
    {
     "name": "stdout",
     "output_type": "stream",
     "text": [
      "[\u001b[1mtardis.model.parse_input\u001b[0m][\u001b[1;33mWARNING\u001b[0m]  \n",
      "\tNumber of density points larger than number of shells. Assuming inner point irrelevant (\u001b[1mparse_input.py\u001b[0m:107)\n"
     ]
    },
    {
     "name": "stdout",
     "output_type": "stream",
     "text": [
      "[\u001b[1mtardis.model.matter.decay\u001b[0m][\u001b[1;37mINFO\u001b[0m   ]  \n",
      "\tDecaying abundances for 1123200.0 seconds (\u001b[1mdecay.py\u001b[0m:101)\n"
     ]
    },
    {
     "name": "stdout",
     "output_type": "stream",
     "text": [
      "[\u001b[1mtardis.plasma.base  \u001b[0m][\u001b[1;34mDEBUG\u001b[0m  ]  Updating modules in the following order:BetaRadiation->SelectedAtoms->ElectronTemperature->GElectron->Levels->Lines->IonizationData->MacroAtomData->LevelBoltzmannFactorLTE->LinesLowerLevelIndex->LinesUpperLevelIndex->JBluesDiluteBlackBody->LevelBoltzmannFactorNoNLTE->PartitionFunction->PhiSahaLTE->IonNumberDensity->LevelNumberDensity->StimulatedEmissionFactor->TauSobolev->BetaSobolev->TransitionProbabilities (\u001b[1mbase.py\u001b[0m:264)\n"
     ]
    },
    {
     "name": "stdout",
     "output_type": "stream",
     "text": [
      "[\u001b[1mpy.warnings         \u001b[0m][\u001b[1;33mWARNING\u001b[0m]  \n",
      "\t/home/runner/work/tardis/tardis/tardis/plasma/properties/radiative_properties.py:93: RuntimeWarning: invalid value encountered in divide\n",
      "  (g_lower * n_upper) / (g_upper * n_lower)\n",
      " (\u001b[1mwarnings.py\u001b[0m:109)\n"
     ]
    },
    {
     "name": "stdout",
     "output_type": "stream",
     "text": [
      "[\u001b[1mtardis.plasma.base  \u001b[0m][\u001b[1;34mDEBUG\u001b[0m  ]  Updating modules in the following order:BetaRadiation->SelectedAtoms->ElectronTemperature->GElectron->Levels->Lines->IonizationData->MacroAtomData->LevelBoltzmannFactorLTE->LinesLowerLevelIndex->LinesUpperLevelIndex->JBluesDiluteBlackBody->LevelBoltzmannFactorNoNLTE->PartitionFunction->PhiSahaLTE->IonNumberDensity->LevelNumberDensity->StimulatedEmissionFactor->TauSobolev->BetaSobolev->TransitionProbabilities (\u001b[1mbase.py\u001b[0m:264)\n"
     ]
    },
    {
     "name": "stdout",
     "output_type": "stream",
     "text": [
      "[\u001b[1mpy.warnings         \u001b[0m][\u001b[1;33mWARNING\u001b[0m]  \n",
      "\t/home/runner/work/tardis/tardis/tardis/plasma/properties/radiative_properties.py:93: RuntimeWarning: invalid value encountered in divide\n",
      "  (g_lower * n_upper) / (g_upper * n_lower)\n",
      " (\u001b[1mwarnings.py\u001b[0m:109)\n"
     ]
    },
    {
     "name": "stdout",
     "output_type": "stream",
     "text": [
      "[\u001b[1mtardis.transport.montecarlo.base\u001b[0m][\u001b[1;34mDEBUG\u001b[0m  ]  Electron scattering switched on (\u001b[1mbase.py\u001b[0m:282)\n"
     ]
    },
    {
     "name": "stdout",
     "output_type": "stream",
     "text": [
      "[\u001b[1mtardis.simulation.base\u001b[0m][\u001b[1;37mINFO\u001b[0m   ]  \n",
      "\t\n",
      "\tStarting iteration 1 of 5 (\u001b[1mbase.py\u001b[0m:395)\n"
     ]
    },
    {
     "data": {
      "application/vnd.jupyter.widget-view+json": {
       "model_id": "46789145371848d1b8355238594ae509",
       "version_major": 2,
       "version_minor": 0
      },
      "text/plain": [
       "TqdmHBox(children=(HTML(value='Iterations:', layout=Layout(width='6%')), FloatProgress(value=0.0, layout=Layou…"
      ]
     },
     "metadata": {},
     "output_type": "display_data"
    },
    {
     "data": {
      "application/vnd.jupyter.widget-view+json": {
       "model_id": "8848eae5894d435e993a9ed6fd4274bc",
       "version_major": 2,
       "version_minor": 0
      },
      "text/plain": [
       "TqdmHBox(children=(HTML(value='Packets:   ', layout=Layout(width='6%')), FloatProgress(value=0.0, layout=Layou…"
      ]
     },
     "metadata": {},
     "output_type": "display_data"
    },
    {
     "name": "stdout",
     "output_type": "stream",
     "text": [
      "[\u001b[1mtardis.simulation.base\u001b[0m][\u001b[1;37mINFO\u001b[0m   ]  \n",
      "\t\n",
      "\tLuminosity emitted   = 7.947e+42 erg / s\n",
      "\tLuminosity absorbed  = 2.654e+42 erg / s\n",
      "\tLuminosity requested = 1.059e+43 erg / s\n",
      " (\u001b[1mbase.py\u001b[0m:577)\n"
     ]
    },
    {
     "name": "stdout",
     "output_type": "stream",
     "text": [
      "[\u001b[1mtardis.simulation.base\u001b[0m][\u001b[1;37mINFO\u001b[0m   ]  \n",
      "\t\n",
      "\tPlasma stratification: (\u001b[1mbase.py\u001b[0m:545)\n"
     ]
    },
    {
     "data": {
      "text/html": [
       "<style type=\"text/css\">\n",
       "</style>\n",
       "<table id=\"T_63dc4\">\n",
       "  <thead>\n",
       "    <tr>\n",
       "      <th class=\"index_name level0\" >Shell No.</th>\n",
       "      <th id=\"T_63dc4_level0_col0\" class=\"col_heading level0 col0\" >t_rad</th>\n",
       "      <th id=\"T_63dc4_level0_col1\" class=\"col_heading level0 col1\" >next_t_rad</th>\n",
       "      <th id=\"T_63dc4_level0_col2\" class=\"col_heading level0 col2\" >w</th>\n",
       "      <th id=\"T_63dc4_level0_col3\" class=\"col_heading level0 col3\" >next_w</th>\n",
       "    </tr>\n",
       "  </thead>\n",
       "  <tbody>\n",
       "    <tr>\n",
       "      <th id=\"T_63dc4_level0_row0\" class=\"row_heading level0 row0\" >0</th>\n",
       "      <td id=\"T_63dc4_row0_col0\" class=\"data row0 col0\" >9.93e+03 K</td>\n",
       "      <td id=\"T_63dc4_row0_col1\" class=\"data row0 col1\" >1.03e+04 K</td>\n",
       "      <td id=\"T_63dc4_row0_col2\" class=\"data row0 col2\" >0.4</td>\n",
       "      <td id=\"T_63dc4_row0_col3\" class=\"data row0 col3\" >0.481</td>\n",
       "    </tr>\n",
       "    <tr>\n",
       "      <th id=\"T_63dc4_level0_row1\" class=\"row_heading level0 row1\" >5</th>\n",
       "      <td id=\"T_63dc4_row1_col0\" class=\"data row1 col0\" >9.85e+03 K</td>\n",
       "      <td id=\"T_63dc4_row1_col1\" class=\"data row1 col1\" >1.03e+04 K</td>\n",
       "      <td id=\"T_63dc4_row1_col2\" class=\"data row1 col2\" >0.211</td>\n",
       "      <td id=\"T_63dc4_row1_col3\" class=\"data row1 col3\" >0.193</td>\n",
       "    </tr>\n",
       "    <tr>\n",
       "      <th id=\"T_63dc4_level0_row2\" class=\"row_heading level0 row2\" >10</th>\n",
       "      <td id=\"T_63dc4_row2_col0\" class=\"data row2 col0\" >9.78e+03 K</td>\n",
       "      <td id=\"T_63dc4_row2_col1\" class=\"data row2 col1\" >1.02e+04 K</td>\n",
       "      <td id=\"T_63dc4_row2_col2\" class=\"data row2 col2\" >0.143</td>\n",
       "      <td id=\"T_63dc4_row2_col3\" class=\"data row2 col3\" >0.112</td>\n",
       "    </tr>\n",
       "    <tr>\n",
       "      <th id=\"T_63dc4_level0_row3\" class=\"row_heading level0 row3\" >15</th>\n",
       "      <td id=\"T_63dc4_row3_col0\" class=\"data row3 col0\" >9.71e+03 K</td>\n",
       "      <td id=\"T_63dc4_row3_col1\" class=\"data row3 col1\" >9.98e+03 K</td>\n",
       "      <td id=\"T_63dc4_row3_col2\" class=\"data row3 col2\" >0.105</td>\n",
       "      <td id=\"T_63dc4_row3_col3\" class=\"data row3 col3\" >0.0826</td>\n",
       "    </tr>\n",
       "  </tbody>\n",
       "</table>\n"
      ],
      "text/plain": [
       "<pandas.io.formats.style.Styler at 0x7f295260bd10>"
      ]
     },
     "metadata": {},
     "output_type": "display_data"
    },
    {
     "name": "stdout",
     "output_type": "stream",
     "text": [
      "[\u001b[1mtardis.simulation.base\u001b[0m][\u001b[1;37mINFO\u001b[0m   ]  \n",
      "\t\n",
      "\tCurrent t_inner = 9933.952 K\n",
      "\tExpected t_inner for next iteration = 11468.808 K\n",
      " (\u001b[1mbase.py\u001b[0m:572)\n"
     ]
    },
    {
     "name": "stdout",
     "output_type": "stream",
     "text": [
      "[\u001b[1mtardis.plasma.base  \u001b[0m][\u001b[1;34mDEBUG\u001b[0m  ]  Updating modules in the following order:BetaRadiation->ElectronTemperature->GElectron->LevelBoltzmannFactorLTE->JBluesDiluteBlackBody->LevelBoltzmannFactorNoNLTE->PartitionFunction->PhiSahaLTE->IonNumberDensity->LevelNumberDensity->StimulatedEmissionFactor->TauSobolev->BetaSobolev->TransitionProbabilities (\u001b[1mbase.py\u001b[0m:264)\n"
     ]
    },
    {
     "name": "stdout",
     "output_type": "stream",
     "text": [
      "[\u001b[1mpy.warnings         \u001b[0m][\u001b[1;33mWARNING\u001b[0m]  \n",
      "\t/home/runner/work/tardis/tardis/tardis/plasma/properties/radiative_properties.py:93: RuntimeWarning: invalid value encountered in divide\n",
      "  (g_lower * n_upper) / (g_upper * n_lower)\n",
      " (\u001b[1mwarnings.py\u001b[0m:109)\n"
     ]
    },
    {
     "name": "stdout",
     "output_type": "stream",
     "text": [
      "[\u001b[1mtardis.simulation.base\u001b[0m][\u001b[1;37mINFO\u001b[0m   ]  \n",
      "\t\n",
      "\tStarting iteration 2 of 5 (\u001b[1mbase.py\u001b[0m:395)\n"
     ]
    },
    {
     "name": "stdout",
     "output_type": "stream",
     "text": [
      "[\u001b[1mtardis.simulation.base\u001b[0m][\u001b[1;37mINFO\u001b[0m   ]  \n",
      "\t\n",
      "\tLuminosity emitted   = 1.413e+43 erg / s\n",
      "\tLuminosity absorbed  = 4.704e+42 erg / s\n",
      "\tLuminosity requested = 1.059e+43 erg / s\n",
      " (\u001b[1mbase.py\u001b[0m:577)\n"
     ]
    },
    {
     "name": "stdout",
     "output_type": "stream",
     "text": [
      "[\u001b[1mtardis.simulation.base\u001b[0m][\u001b[1;37mINFO\u001b[0m   ]  \n",
      "\t\n",
      "\tPlasma stratification: (\u001b[1mbase.py\u001b[0m:545)\n"
     ]
    },
    {
     "data": {
      "text/html": [
       "<style type=\"text/css\">\n",
       "</style>\n",
       "<table id=\"T_1cce9\">\n",
       "  <thead>\n",
       "    <tr>\n",
       "      <th class=\"index_name level0\" >Shell No.</th>\n",
       "      <th id=\"T_1cce9_level0_col0\" class=\"col_heading level0 col0\" >t_rad</th>\n",
       "      <th id=\"T_1cce9_level0_col1\" class=\"col_heading level0 col1\" >next_t_rad</th>\n",
       "      <th id=\"T_1cce9_level0_col2\" class=\"col_heading level0 col2\" >w</th>\n",
       "      <th id=\"T_1cce9_level0_col3\" class=\"col_heading level0 col3\" >next_w</th>\n",
       "    </tr>\n",
       "  </thead>\n",
       "  <tbody>\n",
       "    <tr>\n",
       "      <th id=\"T_1cce9_level0_row0\" class=\"row_heading level0 row0\" >0</th>\n",
       "      <td id=\"T_1cce9_row0_col0\" class=\"data row0 col0\" >1.03e+04 K</td>\n",
       "      <td id=\"T_1cce9_row0_col1\" class=\"data row0 col1\" >1.15e+04 K</td>\n",
       "      <td id=\"T_1cce9_row0_col2\" class=\"data row0 col2\" >0.481</td>\n",
       "      <td id=\"T_1cce9_row0_col3\" class=\"data row0 col3\" >0.555</td>\n",
       "    </tr>\n",
       "    <tr>\n",
       "      <th id=\"T_1cce9_level0_row1\" class=\"row_heading level0 row1\" >5</th>\n",
       "      <td id=\"T_1cce9_row1_col0\" class=\"data row1 col0\" >1.03e+04 K</td>\n",
       "      <td id=\"T_1cce9_row1_col1\" class=\"data row1 col1\" >1.17e+04 K</td>\n",
       "      <td id=\"T_1cce9_row1_col2\" class=\"data row1 col2\" >0.193</td>\n",
       "      <td id=\"T_1cce9_row1_col3\" class=\"data row1 col3\" >0.203</td>\n",
       "    </tr>\n",
       "    <tr>\n",
       "      <th id=\"T_1cce9_level0_row2\" class=\"row_heading level0 row2\" >10</th>\n",
       "      <td id=\"T_1cce9_row2_col0\" class=\"data row2 col0\" >1.02e+04 K</td>\n",
       "      <td id=\"T_1cce9_row2_col1\" class=\"data row2 col1\" >1.13e+04 K</td>\n",
       "      <td id=\"T_1cce9_row2_col2\" class=\"data row2 col2\" >0.112</td>\n",
       "      <td id=\"T_1cce9_row2_col3\" class=\"data row2 col3\" >0.135</td>\n",
       "    </tr>\n",
       "    <tr>\n",
       "      <th id=\"T_1cce9_level0_row3\" class=\"row_heading level0 row3\" >15</th>\n",
       "      <td id=\"T_1cce9_row3_col0\" class=\"data row3 col0\" >9.98e+03 K</td>\n",
       "      <td id=\"T_1cce9_row3_col1\" class=\"data row3 col1\" >1.1e+04 K</td>\n",
       "      <td id=\"T_1cce9_row3_col2\" class=\"data row3 col2\" >0.0826</td>\n",
       "      <td id=\"T_1cce9_row3_col3\" class=\"data row3 col3\" >0.0998</td>\n",
       "    </tr>\n",
       "  </tbody>\n",
       "</table>\n"
      ],
      "text/plain": [
       "<pandas.io.formats.style.Styler at 0x7f294e4ddfd0>"
      ]
     },
     "metadata": {},
     "output_type": "display_data"
    },
    {
     "name": "stdout",
     "output_type": "stream",
     "text": [
      "[\u001b[1mtardis.simulation.base\u001b[0m][\u001b[1;37mINFO\u001b[0m   ]  \n",
      "\t\n",
      "\tCurrent t_inner = 11468.808 K\n",
      "\tExpected t_inner for next iteration = 9929.475 K\n",
      " (\u001b[1mbase.py\u001b[0m:572)\n"
     ]
    },
    {
     "name": "stdout",
     "output_type": "stream",
     "text": [
      "[\u001b[1mtardis.plasma.base  \u001b[0m][\u001b[1;34mDEBUG\u001b[0m  ]  Updating modules in the following order:BetaRadiation->ElectronTemperature->GElectron->LevelBoltzmannFactorLTE->JBluesDiluteBlackBody->LevelBoltzmannFactorNoNLTE->PartitionFunction->PhiSahaLTE->IonNumberDensity->LevelNumberDensity->StimulatedEmissionFactor->TauSobolev->BetaSobolev->TransitionProbabilities (\u001b[1mbase.py\u001b[0m:264)\n"
     ]
    },
    {
     "name": "stdout",
     "output_type": "stream",
     "text": [
      "[\u001b[1mpy.warnings         \u001b[0m][\u001b[1;33mWARNING\u001b[0m]  \n",
      "\t/home/runner/work/tardis/tardis/tardis/plasma/properties/radiative_properties.py:93: RuntimeWarning: invalid value encountered in divide\n",
      "  (g_lower * n_upper) / (g_upper * n_lower)\n",
      " (\u001b[1mwarnings.py\u001b[0m:109)\n"
     ]
    },
    {
     "name": "stdout",
     "output_type": "stream",
     "text": [
      "[\u001b[1mtardis.simulation.base\u001b[0m][\u001b[1;37mINFO\u001b[0m   ]  \n",
      "\t\n",
      "\tStarting iteration 3 of 5 (\u001b[1mbase.py\u001b[0m:395)\n"
     ]
    },
    {
     "name": "stdout",
     "output_type": "stream",
     "text": [
      "[\u001b[1mtardis.simulation.base\u001b[0m][\u001b[1;37mINFO\u001b[0m   ]  \n",
      "\t\n",
      "\tLuminosity emitted   = 8.259e+42 erg / s\n",
      "\tLuminosity absorbed  = 2.337e+42 erg / s\n",
      "\tLuminosity requested = 1.059e+43 erg / s\n",
      " (\u001b[1mbase.py\u001b[0m:577)\n"
     ]
    },
    {
     "name": "stdout",
     "output_type": "stream",
     "text": [
      "[\u001b[1mtardis.simulation.base\u001b[0m][\u001b[1;37mINFO\u001b[0m   ]  \n",
      "\t\n",
      "\tPlasma stratification: (\u001b[1mbase.py\u001b[0m:545)\n"
     ]
    },
    {
     "data": {
      "text/html": [
       "<style type=\"text/css\">\n",
       "</style>\n",
       "<table id=\"T_93841\">\n",
       "  <thead>\n",
       "    <tr>\n",
       "      <th class=\"index_name level0\" >Shell No.</th>\n",
       "      <th id=\"T_93841_level0_col0\" class=\"col_heading level0 col0\" >t_rad</th>\n",
       "      <th id=\"T_93841_level0_col1\" class=\"col_heading level0 col1\" >next_t_rad</th>\n",
       "      <th id=\"T_93841_level0_col2\" class=\"col_heading level0 col2\" >w</th>\n",
       "      <th id=\"T_93841_level0_col3\" class=\"col_heading level0 col3\" >next_w</th>\n",
       "    </tr>\n",
       "  </thead>\n",
       "  <tbody>\n",
       "    <tr>\n",
       "      <th id=\"T_93841_level0_row0\" class=\"row_heading level0 row0\" >0</th>\n",
       "      <td id=\"T_93841_row0_col0\" class=\"data row0 col0\" >1.15e+04 K</td>\n",
       "      <td id=\"T_93841_row0_col1\" class=\"data row0 col1\" >1.03e+04 K</td>\n",
       "      <td id=\"T_93841_row0_col2\" class=\"data row0 col2\" >0.555</td>\n",
       "      <td id=\"T_93841_row0_col3\" class=\"data row0 col3\" >0.468</td>\n",
       "    </tr>\n",
       "    <tr>\n",
       "      <th id=\"T_93841_level0_row1\" class=\"row_heading level0 row1\" >5</th>\n",
       "      <td id=\"T_93841_row1_col0\" class=\"data row1 col0\" >1.17e+04 K</td>\n",
       "      <td id=\"T_93841_row1_col1\" class=\"data row1 col1\" >1.05e+04 K</td>\n",
       "      <td id=\"T_93841_row1_col2\" class=\"data row1 col2\" >0.203</td>\n",
       "      <td id=\"T_93841_row1_col3\" class=\"data row1 col3\" >0.181</td>\n",
       "    </tr>\n",
       "    <tr>\n",
       "      <th id=\"T_93841_level0_row2\" class=\"row_heading level0 row2\" >10</th>\n",
       "      <td id=\"T_93841_row2_col0\" class=\"data row2 col0\" >1.13e+04 K</td>\n",
       "      <td id=\"T_93841_row2_col1\" class=\"data row2 col1\" >1.05e+04 K</td>\n",
       "      <td id=\"T_93841_row2_col2\" class=\"data row2 col2\" >0.135</td>\n",
       "      <td id=\"T_93841_row2_col3\" class=\"data row2 col3\" >0.108</td>\n",
       "    </tr>\n",
       "    <tr>\n",
       "      <th id=\"T_93841_level0_row3\" class=\"row_heading level0 row3\" >15</th>\n",
       "      <td id=\"T_93841_row3_col0\" class=\"data row3 col0\" >1.1e+04 K</td>\n",
       "      <td id=\"T_93841_row3_col1\" class=\"data row3 col1\" >1.03e+04 K</td>\n",
       "      <td id=\"T_93841_row3_col2\" class=\"data row3 col2\" >0.0998</td>\n",
       "      <td id=\"T_93841_row3_col3\" class=\"data row3 col3\" >0.0779</td>\n",
       "    </tr>\n",
       "  </tbody>\n",
       "</table>\n"
      ],
      "text/plain": [
       "<pandas.io.formats.style.Styler at 0x7f2957125e50>"
      ]
     },
     "metadata": {},
     "output_type": "display_data"
    },
    {
     "name": "stdout",
     "output_type": "stream",
     "text": [
      "[\u001b[1mtardis.simulation.base\u001b[0m][\u001b[1;37mINFO\u001b[0m   ]  \n",
      "\t\n",
      "\tCurrent t_inner = 9929.475 K\n",
      "\tExpected t_inner for next iteration = 11245.497 K\n",
      " (\u001b[1mbase.py\u001b[0m:572)\n"
     ]
    },
    {
     "name": "stdout",
     "output_type": "stream",
     "text": [
      "[\u001b[1mtardis.plasma.base  \u001b[0m][\u001b[1;34mDEBUG\u001b[0m  ]  Updating modules in the following order:BetaRadiation->ElectronTemperature->GElectron->LevelBoltzmannFactorLTE->JBluesDiluteBlackBody->LevelBoltzmannFactorNoNLTE->PartitionFunction->PhiSahaLTE->IonNumberDensity->LevelNumberDensity->StimulatedEmissionFactor->TauSobolev->BetaSobolev->TransitionProbabilities (\u001b[1mbase.py\u001b[0m:264)\n"
     ]
    },
    {
     "name": "stdout",
     "output_type": "stream",
     "text": [
      "[\u001b[1mpy.warnings         \u001b[0m][\u001b[1;33mWARNING\u001b[0m]  \n",
      "\t/home/runner/work/tardis/tardis/tardis/plasma/properties/radiative_properties.py:93: RuntimeWarning: invalid value encountered in divide\n",
      "  (g_lower * n_upper) / (g_upper * n_lower)\n",
      " (\u001b[1mwarnings.py\u001b[0m:109)\n"
     ]
    },
    {
     "name": "stdout",
     "output_type": "stream",
     "text": [
      "[\u001b[1mtardis.simulation.base\u001b[0m][\u001b[1;37mINFO\u001b[0m   ]  \n",
      "\t\n",
      "\tStarting iteration 4 of 5 (\u001b[1mbase.py\u001b[0m:395)\n"
     ]
    },
    {
     "name": "stdout",
     "output_type": "stream",
     "text": [
      "[\u001b[1mtardis.simulation.base\u001b[0m][\u001b[1;37mINFO\u001b[0m   ]  \n",
      "\t\n",
      "\tLuminosity emitted   = 1.299e+43 erg / s\n",
      "\tLuminosity absorbed  = 4.407e+42 erg / s\n",
      "\tLuminosity requested = 1.059e+43 erg / s\n",
      " (\u001b[1mbase.py\u001b[0m:577)\n"
     ]
    },
    {
     "name": "stdout",
     "output_type": "stream",
     "text": [
      "[\u001b[1mtardis.simulation.base\u001b[0m][\u001b[1;37mINFO\u001b[0m   ]  \n",
      "\t\n",
      "\tPlasma stratification: (\u001b[1mbase.py\u001b[0m:545)\n"
     ]
    },
    {
     "data": {
      "text/html": [
       "<style type=\"text/css\">\n",
       "</style>\n",
       "<table id=\"T_d47dc\">\n",
       "  <thead>\n",
       "    <tr>\n",
       "      <th class=\"index_name level0\" >Shell No.</th>\n",
       "      <th id=\"T_d47dc_level0_col0\" class=\"col_heading level0 col0\" >t_rad</th>\n",
       "      <th id=\"T_d47dc_level0_col1\" class=\"col_heading level0 col1\" >next_t_rad</th>\n",
       "      <th id=\"T_d47dc_level0_col2\" class=\"col_heading level0 col2\" >w</th>\n",
       "      <th id=\"T_d47dc_level0_col3\" class=\"col_heading level0 col3\" >next_w</th>\n",
       "    </tr>\n",
       "  </thead>\n",
       "  <tbody>\n",
       "    <tr>\n",
       "      <th id=\"T_d47dc_level0_row0\" class=\"row_heading level0 row0\" >0</th>\n",
       "      <td id=\"T_d47dc_row0_col0\" class=\"data row0 col0\" >1.03e+04 K</td>\n",
       "      <td id=\"T_d47dc_row0_col1\" class=\"data row0 col1\" >1.14e+04 K</td>\n",
       "      <td id=\"T_d47dc_row0_col2\" class=\"data row0 col2\" >0.468</td>\n",
       "      <td id=\"T_d47dc_row0_col3\" class=\"data row0 col3\" >0.527</td>\n",
       "    </tr>\n",
       "    <tr>\n",
       "      <th id=\"T_d47dc_level0_row1\" class=\"row_heading level0 row1\" >5</th>\n",
       "      <td id=\"T_d47dc_row1_col0\" class=\"data row1 col0\" >1.05e+04 K</td>\n",
       "      <td id=\"T_d47dc_row1_col1\" class=\"data row1 col1\" >1.13e+04 K</td>\n",
       "      <td id=\"T_d47dc_row1_col2\" class=\"data row1 col2\" >0.181</td>\n",
       "      <td id=\"T_d47dc_row1_col3\" class=\"data row1 col3\" >0.225</td>\n",
       "    </tr>\n",
       "    <tr>\n",
       "      <th id=\"T_d47dc_level0_row2\" class=\"row_heading level0 row2\" >10</th>\n",
       "      <td id=\"T_d47dc_row2_col0\" class=\"data row2 col0\" >1.05e+04 K</td>\n",
       "      <td id=\"T_d47dc_row2_col1\" class=\"data row2 col1\" >1.12e+04 K</td>\n",
       "      <td id=\"T_d47dc_row2_col2\" class=\"data row2 col2\" >0.108</td>\n",
       "      <td id=\"T_d47dc_row2_col3\" class=\"data row2 col3\" >0.126</td>\n",
       "    </tr>\n",
       "    <tr>\n",
       "      <th id=\"T_d47dc_level0_row3\" class=\"row_heading level0 row3\" >15</th>\n",
       "      <td id=\"T_d47dc_row3_col0\" class=\"data row3 col0\" >1.03e+04 K</td>\n",
       "      <td id=\"T_d47dc_row3_col1\" class=\"data row3 col1\" >1.1e+04 K</td>\n",
       "      <td id=\"T_d47dc_row3_col2\" class=\"data row3 col2\" >0.0779</td>\n",
       "      <td id=\"T_d47dc_row3_col3\" class=\"data row3 col3\" >0.0926</td>\n",
       "    </tr>\n",
       "  </tbody>\n",
       "</table>\n"
      ],
      "text/plain": [
       "<pandas.io.formats.style.Styler at 0x7f29572122d0>"
      ]
     },
     "metadata": {},
     "output_type": "display_data"
    },
    {
     "name": "stdout",
     "output_type": "stream",
     "text": [
      "[\u001b[1mtardis.simulation.base\u001b[0m][\u001b[1;37mINFO\u001b[0m   ]  \n",
      "\t\n",
      "\tCurrent t_inner = 11245.497 K\n",
      "\tExpected t_inner for next iteration = 10153.431 K\n",
      " (\u001b[1mbase.py\u001b[0m:572)\n"
     ]
    },
    {
     "name": "stdout",
     "output_type": "stream",
     "text": [
      "[\u001b[1mtardis.plasma.base  \u001b[0m][\u001b[1;34mDEBUG\u001b[0m  ]  Updating modules in the following order:BetaRadiation->ElectronTemperature->GElectron->LevelBoltzmannFactorLTE->JBluesDiluteBlackBody->LevelBoltzmannFactorNoNLTE->PartitionFunction->PhiSahaLTE->IonNumberDensity->LevelNumberDensity->StimulatedEmissionFactor->TauSobolev->BetaSobolev->TransitionProbabilities (\u001b[1mbase.py\u001b[0m:264)\n"
     ]
    },
    {
     "name": "stdout",
     "output_type": "stream",
     "text": [
      "[\u001b[1mpy.warnings         \u001b[0m][\u001b[1;33mWARNING\u001b[0m]  \n",
      "\t/home/runner/work/tardis/tardis/tardis/plasma/properties/radiative_properties.py:93: RuntimeWarning: invalid value encountered in divide\n",
      "  (g_lower * n_upper) / (g_upper * n_lower)\n",
      " (\u001b[1mwarnings.py\u001b[0m:109)\n"
     ]
    },
    {
     "name": "stdout",
     "output_type": "stream",
     "text": [
      "[\u001b[1mtardis.simulation.base\u001b[0m][\u001b[1;37mINFO\u001b[0m   ]  \n",
      "\t\n",
      "\tSimulation finished in 4 iterations \n",
      "\tSimulation took 0.36 s\n",
      " (\u001b[1mbase.py\u001b[0m:473)\n"
     ]
    },
    {
     "name": "stdout",
     "output_type": "stream",
     "text": [
      "[\u001b[1mtardis.simulation.base\u001b[0m][\u001b[1;37mINFO\u001b[0m   ]  \n",
      "\t\n",
      "\tStarting iteration 5 of 5 (\u001b[1mbase.py\u001b[0m:395)\n"
     ]
    },
    {
     "name": "stdout",
     "output_type": "stream",
     "text": [
      "[\u001b[1mtardis.simulation.base\u001b[0m][\u001b[1;37mINFO\u001b[0m   ]  \n",
      "\t\n",
      "\tLuminosity emitted   = 8.742e+42 erg / s\n",
      "\tLuminosity absorbed  = 2.834e+42 erg / s\n",
      "\tLuminosity requested = 1.059e+43 erg / s\n",
      " (\u001b[1mbase.py\u001b[0m:577)\n"
     ]
    }
   ],
   "source": [
    "sim = run_tardis(\"tardis_config_logger.yml\", log_level=\"Debug\", specific_log_level=False, show_cplots=False)"
   ]
  },
  {
   "cell_type": "markdown",
   "id": "42ddc98b",
   "metadata": {},
   "source": [
    "It can be examined in this example that when we kept `specific_log_level` to `False`, the captured log output includes all log messages from `DEBUG` and higher logging levels, which is the default behavior of the logger."
   ]
  },
  {
   "cell_type": "markdown",
   "id": "f9f478f6",
   "metadata": {},
   "source": [
    "## Logging Configuration (YAML Configuration)"
   ]
  },
  {
   "cell_type": "markdown",
   "id": "0d672a8d",
   "metadata": {},
   "source": [
    "The behavior of the logging output for the simulation can be configured via the `tardis_config_logger.yml` *(**YAML** Configuration)* file. For setting up the logger via the YAML file, the configuration file must include a `debug` section. An example configuration for the `debug` section can be seen below:"
   ]
  },
  {
   "cell_type": "markdown",
   "id": "cd8c3eed",
   "metadata": {},
   "source": [
    "```YAML\n",
    "...\n",
    "debug:\n",
    "  log_level: \"Info\"\n",
    "  specific_log_level : False\n",
    "```"
   ]
  },
  {
   "cell_type": "markdown",
   "id": "85ea7ae2",
   "metadata": {},
   "source": [
    "The `debug` schema includes the `log_level` & `specific_log_level` parameters."
   ]
  },
  {
   "cell_type": "markdown",
   "id": "65204c82",
   "metadata": {},
   "source": [
    "<div class=\"alert alert-info\">\n",
    "\n",
    "Note\n",
    "    \n",
    "The <strong>debug</strong> section of the <strong>YAML</strong> config file is <i>optional</i>. The <strong>log_level</strong> and the <strong>specific</strong> arguments are <i>optional</i> as well. If none of the parameters are defined, then the values of these parameter fall back on the <strong>default values</strong>.\n",
    "</div>"
   ]
  },
  {
   "cell_type": "markdown",
   "id": "62750463",
   "metadata": {},
   "source": [
    "Let us load the `tardis_config_logger.yml` configuration to a variable & check out the schema:"
   ]
  },
  {
   "cell_type": "code",
   "execution_count": 7,
   "id": "d9a5e83b",
   "metadata": {
    "execution": {
     "iopub.execute_input": "2024-05-28T10:51:46.336034Z",
     "iopub.status.busy": "2024-05-28T10:51:46.335856Z",
     "iopub.status.idle": "2024-05-28T10:51:46.338711Z",
     "shell.execute_reply": "2024-05-28T10:51:46.338174Z"
    }
   },
   "outputs": [],
   "source": [
    "from tardis.io.configuration.config_reader import Configuration"
   ]
  },
  {
   "cell_type": "code",
   "execution_count": 8,
   "id": "a1fa5e1b",
   "metadata": {
    "execution": {
     "iopub.execute_input": "2024-05-28T10:51:46.340685Z",
     "iopub.status.busy": "2024-05-28T10:51:46.340468Z",
     "iopub.status.idle": "2024-05-28T10:51:46.409227Z",
     "shell.execute_reply": "2024-05-28T10:51:46.408667Z"
    }
   },
   "outputs": [
    {
     "data": {
      "text/plain": [
       "{'specific_log_level': False, 'log_level': 'Critical'}"
      ]
     },
     "execution_count": 8,
     "metadata": {},
     "output_type": "execute_result"
    }
   ],
   "source": [
    "# Loading the Schema \n",
    "config = Configuration.from_yaml(\"tardis_config_logger.yml\")\n",
    "\n",
    "# Checking the Debug Schema via dictionary\n",
    "config[\"debug\"]"
   ]
  },
  {
   "cell_type": "markdown",
   "id": "7f5f2d9f",
   "metadata": {},
   "source": [
    "### The `log_level` Entry"
   ]
  },
  {
   "cell_type": "markdown",
   "id": "1389e902",
   "metadata": {},
   "source": [
    "The `log_level` parameter, in the `debug` section of the config file, is similar in functionality to the `log_level` functional argument that can be passed via the `run_tardis()` function. The value of this parameter **must be** one of the following: **Notset, Debug, Info, Warning, Error** or **Critical**."
   ]
  },
  {
   "cell_type": "markdown",
   "id": "3bdd9972",
   "metadata": {},
   "source": [
    "Let us see an example of the captured simulation logging output, when the `log_level` parameter is set to `\"Info\"` log level in the `tardis_config_logger.yml` config file."
   ]
  },
  {
   "cell_type": "code",
   "execution_count": 9,
   "id": "88223ed0",
   "metadata": {
    "execution": {
     "iopub.execute_input": "2024-05-28T10:51:46.411527Z",
     "iopub.status.busy": "2024-05-28T10:51:46.411170Z",
     "iopub.status.idle": "2024-05-28T10:51:46.414149Z",
     "shell.execute_reply": "2024-05-28T10:51:46.413616Z"
    }
   },
   "outputs": [],
   "source": [
    "config[\"debug\"][\"log_level\"] = \"Info\""
   ]
  },
  {
   "cell_type": "code",
   "execution_count": 10,
   "id": "ad8eac94",
   "metadata": {
    "execution": {
     "iopub.execute_input": "2024-05-28T10:51:46.415996Z",
     "iopub.status.busy": "2024-05-28T10:51:46.415693Z",
     "iopub.status.idle": "2024-05-28T10:51:48.020700Z",
     "shell.execute_reply": "2024-05-28T10:51:48.020187Z"
    },
    "scrolled": false
   },
   "outputs": [
    {
     "name": "stdout",
     "output_type": "stream",
     "text": [
      "[\u001b[1mtardis.simulation.base\u001b[0m][\u001b[1;37mINFO\u001b[0m   ]  \n",
      "\t\n",
      "\tReading Atomic Data from kurucz_cd23_chianti_H_He.h5 (\u001b[1mbase.py\u001b[0m:679)\n"
     ]
    },
    {
     "name": "stdout",
     "output_type": "stream",
     "text": [
      "[\u001b[1mtardis.io.atom_data.util\u001b[0m][\u001b[1;37mINFO\u001b[0m   ]  \n",
      "\t\n",
      "\tAtom Data kurucz_cd23_chianti_H_He.h5 not found in local path.\n",
      "\tExists in TARDIS Data repo /home/runner/Downloads/tardis-data/kurucz_cd23_chianti_H_He.h5 (\u001b[1mutil.py\u001b[0m:36)\n"
     ]
    },
    {
     "name": "stdout",
     "output_type": "stream",
     "text": [
      "[\u001b[1mtardis.io.atom_data.base\u001b[0m][\u001b[1;37mINFO\u001b[0m   ]  \n",
      "\tReading Atom Data with: UUID = 6f7b09e887a311e7a06b246e96350010 MD5  = 864f1753714343c41f99cb065710cace  (\u001b[1mbase.py\u001b[0m:258)\n"
     ]
    },
    {
     "name": "stdout",
     "output_type": "stream",
     "text": [
      "[\u001b[1mtardis.io.atom_data.base\u001b[0m][\u001b[1;37mINFO\u001b[0m   ]  \n",
      "\tNon provided Atomic Data: synpp_refs, photoionization_data, yg_data, two_photon_data, linelist (\u001b[1mbase.py\u001b[0m:262)\n"
     ]
    },
    {
     "name": "stdout",
     "output_type": "stream",
     "text": [
      "[\u001b[1mtardis.model.parse_input\u001b[0m][\u001b[1;33mWARNING\u001b[0m]  \n",
      "\tNumber of density points larger than number of shells. Assuming inner point irrelevant (\u001b[1mparse_input.py\u001b[0m:107)\n"
     ]
    },
    {
     "name": "stdout",
     "output_type": "stream",
     "text": [
      "[\u001b[1mtardis.model.matter.decay\u001b[0m][\u001b[1;37mINFO\u001b[0m   ]  \n",
      "\tDecaying abundances for 1123200.0 seconds (\u001b[1mdecay.py\u001b[0m:101)\n"
     ]
    },
    {
     "name": "stdout",
     "output_type": "stream",
     "text": [
      "[\u001b[1mpy.warnings         \u001b[0m][\u001b[1;33mWARNING\u001b[0m]  \n",
      "\t/home/runner/work/tardis/tardis/tardis/plasma/properties/radiative_properties.py:93: RuntimeWarning: invalid value encountered in divide\n",
      "  (g_lower * n_upper) / (g_upper * n_lower)\n",
      " (\u001b[1mwarnings.py\u001b[0m:109)\n"
     ]
    },
    {
     "name": "stdout",
     "output_type": "stream",
     "text": [
      "[\u001b[1mpy.warnings         \u001b[0m][\u001b[1;33mWARNING\u001b[0m]  \n",
      "\t/home/runner/work/tardis/tardis/tardis/plasma/properties/radiative_properties.py:93: RuntimeWarning: invalid value encountered in divide\n",
      "  (g_lower * n_upper) / (g_upper * n_lower)\n",
      " (\u001b[1mwarnings.py\u001b[0m:109)\n"
     ]
    },
    {
     "name": "stdout",
     "output_type": "stream",
     "text": [
      "[\u001b[1mtardis.simulation.base\u001b[0m][\u001b[1;37mINFO\u001b[0m   ]  \n",
      "\t\n",
      "\tStarting iteration 1 of 5 (\u001b[1mbase.py\u001b[0m:395)\n"
     ]
    },
    {
     "data": {
      "application/vnd.jupyter.widget-view+json": {
       "model_id": "bb2b0f2be70644cc8424a21db6ab74f8",
       "version_major": 2,
       "version_minor": 0
      },
      "text/plain": [
       "TqdmHBox(children=(HTML(value='Iterations:', layout=Layout(width='6%')), FloatProgress(value=0.0, layout=Layou…"
      ]
     },
     "metadata": {},
     "output_type": "display_data"
    },
    {
     "data": {
      "application/vnd.jupyter.widget-view+json": {
       "model_id": "c57b35b28ef54ee5b1a3a3a1621ca7c3",
       "version_major": 2,
       "version_minor": 0
      },
      "text/plain": [
       "TqdmHBox(children=(HTML(value='Packets:   ', layout=Layout(width='6%')), FloatProgress(value=0.0, layout=Layou…"
      ]
     },
     "metadata": {},
     "output_type": "display_data"
    },
    {
     "name": "stdout",
     "output_type": "stream",
     "text": [
      "[\u001b[1mtardis.simulation.base\u001b[0m][\u001b[1;37mINFO\u001b[0m   ]  \n",
      "\t\n",
      "\tLuminosity emitted   = 7.947e+42 erg / s\n",
      "\tLuminosity absorbed  = 2.654e+42 erg / s\n",
      "\tLuminosity requested = 1.059e+43 erg / s\n",
      " (\u001b[1mbase.py\u001b[0m:577)\n"
     ]
    },
    {
     "name": "stdout",
     "output_type": "stream",
     "text": [
      "[\u001b[1mtardis.simulation.base\u001b[0m][\u001b[1;37mINFO\u001b[0m   ]  \n",
      "\t\n",
      "\tPlasma stratification: (\u001b[1mbase.py\u001b[0m:545)\n"
     ]
    },
    {
     "data": {
      "text/html": [
       "<style type=\"text/css\">\n",
       "</style>\n",
       "<table id=\"T_77308\">\n",
       "  <thead>\n",
       "    <tr>\n",
       "      <th class=\"index_name level0\" >Shell No.</th>\n",
       "      <th id=\"T_77308_level0_col0\" class=\"col_heading level0 col0\" >t_rad</th>\n",
       "      <th id=\"T_77308_level0_col1\" class=\"col_heading level0 col1\" >next_t_rad</th>\n",
       "      <th id=\"T_77308_level0_col2\" class=\"col_heading level0 col2\" >w</th>\n",
       "      <th id=\"T_77308_level0_col3\" class=\"col_heading level0 col3\" >next_w</th>\n",
       "    </tr>\n",
       "  </thead>\n",
       "  <tbody>\n",
       "    <tr>\n",
       "      <th id=\"T_77308_level0_row0\" class=\"row_heading level0 row0\" >0</th>\n",
       "      <td id=\"T_77308_row0_col0\" class=\"data row0 col0\" >9.93e+03 K</td>\n",
       "      <td id=\"T_77308_row0_col1\" class=\"data row0 col1\" >1.03e+04 K</td>\n",
       "      <td id=\"T_77308_row0_col2\" class=\"data row0 col2\" >0.4</td>\n",
       "      <td id=\"T_77308_row0_col3\" class=\"data row0 col3\" >0.481</td>\n",
       "    </tr>\n",
       "    <tr>\n",
       "      <th id=\"T_77308_level0_row1\" class=\"row_heading level0 row1\" >5</th>\n",
       "      <td id=\"T_77308_row1_col0\" class=\"data row1 col0\" >9.85e+03 K</td>\n",
       "      <td id=\"T_77308_row1_col1\" class=\"data row1 col1\" >1.03e+04 K</td>\n",
       "      <td id=\"T_77308_row1_col2\" class=\"data row1 col2\" >0.211</td>\n",
       "      <td id=\"T_77308_row1_col3\" class=\"data row1 col3\" >0.193</td>\n",
       "    </tr>\n",
       "    <tr>\n",
       "      <th id=\"T_77308_level0_row2\" class=\"row_heading level0 row2\" >10</th>\n",
       "      <td id=\"T_77308_row2_col0\" class=\"data row2 col0\" >9.78e+03 K</td>\n",
       "      <td id=\"T_77308_row2_col1\" class=\"data row2 col1\" >1.02e+04 K</td>\n",
       "      <td id=\"T_77308_row2_col2\" class=\"data row2 col2\" >0.143</td>\n",
       "      <td id=\"T_77308_row2_col3\" class=\"data row2 col3\" >0.112</td>\n",
       "    </tr>\n",
       "    <tr>\n",
       "      <th id=\"T_77308_level0_row3\" class=\"row_heading level0 row3\" >15</th>\n",
       "      <td id=\"T_77308_row3_col0\" class=\"data row3 col0\" >9.71e+03 K</td>\n",
       "      <td id=\"T_77308_row3_col1\" class=\"data row3 col1\" >9.98e+03 K</td>\n",
       "      <td id=\"T_77308_row3_col2\" class=\"data row3 col2\" >0.105</td>\n",
       "      <td id=\"T_77308_row3_col3\" class=\"data row3 col3\" >0.0826</td>\n",
       "    </tr>\n",
       "  </tbody>\n",
       "</table>\n"
      ],
      "text/plain": [
       "<pandas.io.formats.style.Styler at 0x7f294d8599d0>"
      ]
     },
     "metadata": {},
     "output_type": "display_data"
    },
    {
     "name": "stdout",
     "output_type": "stream",
     "text": [
      "[\u001b[1mtardis.simulation.base\u001b[0m][\u001b[1;37mINFO\u001b[0m   ]  \n",
      "\t\n",
      "\tCurrent t_inner = 9933.952 K\n",
      "\tExpected t_inner for next iteration = 11468.808 K\n",
      " (\u001b[1mbase.py\u001b[0m:572)\n"
     ]
    },
    {
     "name": "stdout",
     "output_type": "stream",
     "text": [
      "[\u001b[1mpy.warnings         \u001b[0m][\u001b[1;33mWARNING\u001b[0m]  \n",
      "\t/home/runner/work/tardis/tardis/tardis/plasma/properties/radiative_properties.py:93: RuntimeWarning: invalid value encountered in divide\n",
      "  (g_lower * n_upper) / (g_upper * n_lower)\n",
      " (\u001b[1mwarnings.py\u001b[0m:109)\n"
     ]
    },
    {
     "name": "stdout",
     "output_type": "stream",
     "text": [
      "[\u001b[1mtardis.simulation.base\u001b[0m][\u001b[1;37mINFO\u001b[0m   ]  \n",
      "\t\n",
      "\tStarting iteration 2 of 5 (\u001b[1mbase.py\u001b[0m:395)\n"
     ]
    },
    {
     "name": "stdout",
     "output_type": "stream",
     "text": [
      "[\u001b[1mtardis.simulation.base\u001b[0m][\u001b[1;37mINFO\u001b[0m   ]  \n",
      "\t\n",
      "\tLuminosity emitted   = 1.413e+43 erg / s\n",
      "\tLuminosity absorbed  = 4.704e+42 erg / s\n",
      "\tLuminosity requested = 1.059e+43 erg / s\n",
      " (\u001b[1mbase.py\u001b[0m:577)\n"
     ]
    },
    {
     "name": "stdout",
     "output_type": "stream",
     "text": [
      "[\u001b[1mtardis.simulation.base\u001b[0m][\u001b[1;37mINFO\u001b[0m   ]  \n",
      "\t\n",
      "\tPlasma stratification: (\u001b[1mbase.py\u001b[0m:545)\n"
     ]
    },
    {
     "data": {
      "text/html": [
       "<style type=\"text/css\">\n",
       "</style>\n",
       "<table id=\"T_7eb7c\">\n",
       "  <thead>\n",
       "    <tr>\n",
       "      <th class=\"index_name level0\" >Shell No.</th>\n",
       "      <th id=\"T_7eb7c_level0_col0\" class=\"col_heading level0 col0\" >t_rad</th>\n",
       "      <th id=\"T_7eb7c_level0_col1\" class=\"col_heading level0 col1\" >next_t_rad</th>\n",
       "      <th id=\"T_7eb7c_level0_col2\" class=\"col_heading level0 col2\" >w</th>\n",
       "      <th id=\"T_7eb7c_level0_col3\" class=\"col_heading level0 col3\" >next_w</th>\n",
       "    </tr>\n",
       "  </thead>\n",
       "  <tbody>\n",
       "    <tr>\n",
       "      <th id=\"T_7eb7c_level0_row0\" class=\"row_heading level0 row0\" >0</th>\n",
       "      <td id=\"T_7eb7c_row0_col0\" class=\"data row0 col0\" >1.03e+04 K</td>\n",
       "      <td id=\"T_7eb7c_row0_col1\" class=\"data row0 col1\" >1.15e+04 K</td>\n",
       "      <td id=\"T_7eb7c_row0_col2\" class=\"data row0 col2\" >0.481</td>\n",
       "      <td id=\"T_7eb7c_row0_col3\" class=\"data row0 col3\" >0.555</td>\n",
       "    </tr>\n",
       "    <tr>\n",
       "      <th id=\"T_7eb7c_level0_row1\" class=\"row_heading level0 row1\" >5</th>\n",
       "      <td id=\"T_7eb7c_row1_col0\" class=\"data row1 col0\" >1.03e+04 K</td>\n",
       "      <td id=\"T_7eb7c_row1_col1\" class=\"data row1 col1\" >1.17e+04 K</td>\n",
       "      <td id=\"T_7eb7c_row1_col2\" class=\"data row1 col2\" >0.193</td>\n",
       "      <td id=\"T_7eb7c_row1_col3\" class=\"data row1 col3\" >0.203</td>\n",
       "    </tr>\n",
       "    <tr>\n",
       "      <th id=\"T_7eb7c_level0_row2\" class=\"row_heading level0 row2\" >10</th>\n",
       "      <td id=\"T_7eb7c_row2_col0\" class=\"data row2 col0\" >1.02e+04 K</td>\n",
       "      <td id=\"T_7eb7c_row2_col1\" class=\"data row2 col1\" >1.13e+04 K</td>\n",
       "      <td id=\"T_7eb7c_row2_col2\" class=\"data row2 col2\" >0.112</td>\n",
       "      <td id=\"T_7eb7c_row2_col3\" class=\"data row2 col3\" >0.135</td>\n",
       "    </tr>\n",
       "    <tr>\n",
       "      <th id=\"T_7eb7c_level0_row3\" class=\"row_heading level0 row3\" >15</th>\n",
       "      <td id=\"T_7eb7c_row3_col0\" class=\"data row3 col0\" >9.98e+03 K</td>\n",
       "      <td id=\"T_7eb7c_row3_col1\" class=\"data row3 col1\" >1.1e+04 K</td>\n",
       "      <td id=\"T_7eb7c_row3_col2\" class=\"data row3 col2\" >0.0826</td>\n",
       "      <td id=\"T_7eb7c_row3_col3\" class=\"data row3 col3\" >0.0998</td>\n",
       "    </tr>\n",
       "  </tbody>\n",
       "</table>\n"
      ],
      "text/plain": [
       "<pandas.io.formats.style.Styler at 0x7f294ecb1310>"
      ]
     },
     "metadata": {},
     "output_type": "display_data"
    },
    {
     "name": "stdout",
     "output_type": "stream",
     "text": [
      "[\u001b[1mtardis.simulation.base\u001b[0m][\u001b[1;37mINFO\u001b[0m   ]  \n",
      "\t\n",
      "\tCurrent t_inner = 11468.808 K\n",
      "\tExpected t_inner for next iteration = 9929.475 K\n",
      " (\u001b[1mbase.py\u001b[0m:572)\n"
     ]
    },
    {
     "name": "stdout",
     "output_type": "stream",
     "text": [
      "[\u001b[1mpy.warnings         \u001b[0m][\u001b[1;33mWARNING\u001b[0m]  \n",
      "\t/home/runner/work/tardis/tardis/tardis/plasma/properties/radiative_properties.py:93: RuntimeWarning: invalid value encountered in divide\n",
      "  (g_lower * n_upper) / (g_upper * n_lower)\n",
      " (\u001b[1mwarnings.py\u001b[0m:109)\n"
     ]
    },
    {
     "name": "stdout",
     "output_type": "stream",
     "text": [
      "[\u001b[1mtardis.simulation.base\u001b[0m][\u001b[1;37mINFO\u001b[0m   ]  \n",
      "\t\n",
      "\tStarting iteration 3 of 5 (\u001b[1mbase.py\u001b[0m:395)\n"
     ]
    },
    {
     "name": "stdout",
     "output_type": "stream",
     "text": [
      "[\u001b[1mtardis.simulation.base\u001b[0m][\u001b[1;37mINFO\u001b[0m   ]  \n",
      "\t\n",
      "\tLuminosity emitted   = 8.259e+42 erg / s\n",
      "\tLuminosity absorbed  = 2.337e+42 erg / s\n",
      "\tLuminosity requested = 1.059e+43 erg / s\n",
      " (\u001b[1mbase.py\u001b[0m:577)\n"
     ]
    },
    {
     "name": "stdout",
     "output_type": "stream",
     "text": [
      "[\u001b[1mtardis.simulation.base\u001b[0m][\u001b[1;37mINFO\u001b[0m   ]  \n",
      "\t\n",
      "\tPlasma stratification: (\u001b[1mbase.py\u001b[0m:545)\n"
     ]
    },
    {
     "data": {
      "text/html": [
       "<style type=\"text/css\">\n",
       "</style>\n",
       "<table id=\"T_0ca6b\">\n",
       "  <thead>\n",
       "    <tr>\n",
       "      <th class=\"index_name level0\" >Shell No.</th>\n",
       "      <th id=\"T_0ca6b_level0_col0\" class=\"col_heading level0 col0\" >t_rad</th>\n",
       "      <th id=\"T_0ca6b_level0_col1\" class=\"col_heading level0 col1\" >next_t_rad</th>\n",
       "      <th id=\"T_0ca6b_level0_col2\" class=\"col_heading level0 col2\" >w</th>\n",
       "      <th id=\"T_0ca6b_level0_col3\" class=\"col_heading level0 col3\" >next_w</th>\n",
       "    </tr>\n",
       "  </thead>\n",
       "  <tbody>\n",
       "    <tr>\n",
       "      <th id=\"T_0ca6b_level0_row0\" class=\"row_heading level0 row0\" >0</th>\n",
       "      <td id=\"T_0ca6b_row0_col0\" class=\"data row0 col0\" >1.15e+04 K</td>\n",
       "      <td id=\"T_0ca6b_row0_col1\" class=\"data row0 col1\" >1.03e+04 K</td>\n",
       "      <td id=\"T_0ca6b_row0_col2\" class=\"data row0 col2\" >0.555</td>\n",
       "      <td id=\"T_0ca6b_row0_col3\" class=\"data row0 col3\" >0.468</td>\n",
       "    </tr>\n",
       "    <tr>\n",
       "      <th id=\"T_0ca6b_level0_row1\" class=\"row_heading level0 row1\" >5</th>\n",
       "      <td id=\"T_0ca6b_row1_col0\" class=\"data row1 col0\" >1.17e+04 K</td>\n",
       "      <td id=\"T_0ca6b_row1_col1\" class=\"data row1 col1\" >1.05e+04 K</td>\n",
       "      <td id=\"T_0ca6b_row1_col2\" class=\"data row1 col2\" >0.203</td>\n",
       "      <td id=\"T_0ca6b_row1_col3\" class=\"data row1 col3\" >0.181</td>\n",
       "    </tr>\n",
       "    <tr>\n",
       "      <th id=\"T_0ca6b_level0_row2\" class=\"row_heading level0 row2\" >10</th>\n",
       "      <td id=\"T_0ca6b_row2_col0\" class=\"data row2 col0\" >1.13e+04 K</td>\n",
       "      <td id=\"T_0ca6b_row2_col1\" class=\"data row2 col1\" >1.05e+04 K</td>\n",
       "      <td id=\"T_0ca6b_row2_col2\" class=\"data row2 col2\" >0.135</td>\n",
       "      <td id=\"T_0ca6b_row2_col3\" class=\"data row2 col3\" >0.108</td>\n",
       "    </tr>\n",
       "    <tr>\n",
       "      <th id=\"T_0ca6b_level0_row3\" class=\"row_heading level0 row3\" >15</th>\n",
       "      <td id=\"T_0ca6b_row3_col0\" class=\"data row3 col0\" >1.1e+04 K</td>\n",
       "      <td id=\"T_0ca6b_row3_col1\" class=\"data row3 col1\" >1.03e+04 K</td>\n",
       "      <td id=\"T_0ca6b_row3_col2\" class=\"data row3 col2\" >0.0998</td>\n",
       "      <td id=\"T_0ca6b_row3_col3\" class=\"data row3 col3\" >0.0779</td>\n",
       "    </tr>\n",
       "  </tbody>\n",
       "</table>\n"
      ],
      "text/plain": [
       "<pandas.io.formats.style.Styler at 0x7f2937a36e90>"
      ]
     },
     "metadata": {},
     "output_type": "display_data"
    },
    {
     "name": "stdout",
     "output_type": "stream",
     "text": [
      "[\u001b[1mtardis.simulation.base\u001b[0m][\u001b[1;37mINFO\u001b[0m   ]  \n",
      "\t\n",
      "\tCurrent t_inner = 9929.475 K\n",
      "\tExpected t_inner for next iteration = 11245.497 K\n",
      " (\u001b[1mbase.py\u001b[0m:572)\n"
     ]
    },
    {
     "name": "stdout",
     "output_type": "stream",
     "text": [
      "[\u001b[1mpy.warnings         \u001b[0m][\u001b[1;33mWARNING\u001b[0m]  \n",
      "\t/home/runner/work/tardis/tardis/tardis/plasma/properties/radiative_properties.py:93: RuntimeWarning: invalid value encountered in divide\n",
      "  (g_lower * n_upper) / (g_upper * n_lower)\n",
      " (\u001b[1mwarnings.py\u001b[0m:109)\n"
     ]
    },
    {
     "name": "stdout",
     "output_type": "stream",
     "text": [
      "[\u001b[1mtardis.simulation.base\u001b[0m][\u001b[1;37mINFO\u001b[0m   ]  \n",
      "\t\n",
      "\tStarting iteration 4 of 5 (\u001b[1mbase.py\u001b[0m:395)\n"
     ]
    },
    {
     "name": "stdout",
     "output_type": "stream",
     "text": [
      "[\u001b[1mtardis.simulation.base\u001b[0m][\u001b[1;37mINFO\u001b[0m   ]  \n",
      "\t\n",
      "\tLuminosity emitted   = 1.299e+43 erg / s\n",
      "\tLuminosity absorbed  = 4.407e+42 erg / s\n",
      "\tLuminosity requested = 1.059e+43 erg / s\n",
      " (\u001b[1mbase.py\u001b[0m:577)\n"
     ]
    },
    {
     "name": "stdout",
     "output_type": "stream",
     "text": [
      "[\u001b[1mtardis.simulation.base\u001b[0m][\u001b[1;37mINFO\u001b[0m   ]  \n",
      "\t\n",
      "\tPlasma stratification: (\u001b[1mbase.py\u001b[0m:545)\n"
     ]
    },
    {
     "data": {
      "text/html": [
       "<style type=\"text/css\">\n",
       "</style>\n",
       "<table id=\"T_0237a\">\n",
       "  <thead>\n",
       "    <tr>\n",
       "      <th class=\"index_name level0\" >Shell No.</th>\n",
       "      <th id=\"T_0237a_level0_col0\" class=\"col_heading level0 col0\" >t_rad</th>\n",
       "      <th id=\"T_0237a_level0_col1\" class=\"col_heading level0 col1\" >next_t_rad</th>\n",
       "      <th id=\"T_0237a_level0_col2\" class=\"col_heading level0 col2\" >w</th>\n",
       "      <th id=\"T_0237a_level0_col3\" class=\"col_heading level0 col3\" >next_w</th>\n",
       "    </tr>\n",
       "  </thead>\n",
       "  <tbody>\n",
       "    <tr>\n",
       "      <th id=\"T_0237a_level0_row0\" class=\"row_heading level0 row0\" >0</th>\n",
       "      <td id=\"T_0237a_row0_col0\" class=\"data row0 col0\" >1.03e+04 K</td>\n",
       "      <td id=\"T_0237a_row0_col1\" class=\"data row0 col1\" >1.14e+04 K</td>\n",
       "      <td id=\"T_0237a_row0_col2\" class=\"data row0 col2\" >0.468</td>\n",
       "      <td id=\"T_0237a_row0_col3\" class=\"data row0 col3\" >0.527</td>\n",
       "    </tr>\n",
       "    <tr>\n",
       "      <th id=\"T_0237a_level0_row1\" class=\"row_heading level0 row1\" >5</th>\n",
       "      <td id=\"T_0237a_row1_col0\" class=\"data row1 col0\" >1.05e+04 K</td>\n",
       "      <td id=\"T_0237a_row1_col1\" class=\"data row1 col1\" >1.13e+04 K</td>\n",
       "      <td id=\"T_0237a_row1_col2\" class=\"data row1 col2\" >0.181</td>\n",
       "      <td id=\"T_0237a_row1_col3\" class=\"data row1 col3\" >0.225</td>\n",
       "    </tr>\n",
       "    <tr>\n",
       "      <th id=\"T_0237a_level0_row2\" class=\"row_heading level0 row2\" >10</th>\n",
       "      <td id=\"T_0237a_row2_col0\" class=\"data row2 col0\" >1.05e+04 K</td>\n",
       "      <td id=\"T_0237a_row2_col1\" class=\"data row2 col1\" >1.12e+04 K</td>\n",
       "      <td id=\"T_0237a_row2_col2\" class=\"data row2 col2\" >0.108</td>\n",
       "      <td id=\"T_0237a_row2_col3\" class=\"data row2 col3\" >0.126</td>\n",
       "    </tr>\n",
       "    <tr>\n",
       "      <th id=\"T_0237a_level0_row3\" class=\"row_heading level0 row3\" >15</th>\n",
       "      <td id=\"T_0237a_row3_col0\" class=\"data row3 col0\" >1.03e+04 K</td>\n",
       "      <td id=\"T_0237a_row3_col1\" class=\"data row3 col1\" >1.1e+04 K</td>\n",
       "      <td id=\"T_0237a_row3_col2\" class=\"data row3 col2\" >0.0779</td>\n",
       "      <td id=\"T_0237a_row3_col3\" class=\"data row3 col3\" >0.0926</td>\n",
       "    </tr>\n",
       "  </tbody>\n",
       "</table>\n"
      ],
      "text/plain": [
       "<pandas.io.formats.style.Styler at 0x7f29270091d0>"
      ]
     },
     "metadata": {},
     "output_type": "display_data"
    },
    {
     "name": "stdout",
     "output_type": "stream",
     "text": [
      "[\u001b[1mtardis.simulation.base\u001b[0m][\u001b[1;37mINFO\u001b[0m   ]  \n",
      "\t\n",
      "\tCurrent t_inner = 11245.497 K\n",
      "\tExpected t_inner for next iteration = 10153.431 K\n",
      " (\u001b[1mbase.py\u001b[0m:572)\n"
     ]
    },
    {
     "name": "stdout",
     "output_type": "stream",
     "text": [
      "[\u001b[1mpy.warnings         \u001b[0m][\u001b[1;33mWARNING\u001b[0m]  \n",
      "\t/home/runner/work/tardis/tardis/tardis/plasma/properties/radiative_properties.py:93: RuntimeWarning: invalid value encountered in divide\n",
      "  (g_lower * n_upper) / (g_upper * n_lower)\n",
      " (\u001b[1mwarnings.py\u001b[0m:109)\n"
     ]
    },
    {
     "name": "stdout",
     "output_type": "stream",
     "text": [
      "[\u001b[1mtardis.simulation.base\u001b[0m][\u001b[1;37mINFO\u001b[0m   ]  \n",
      "\t\n",
      "\tSimulation finished in 4 iterations \n",
      "\tSimulation took 0.37 s\n",
      " (\u001b[1mbase.py\u001b[0m:473)\n"
     ]
    },
    {
     "name": "stdout",
     "output_type": "stream",
     "text": [
      "[\u001b[1mtardis.simulation.base\u001b[0m][\u001b[1;37mINFO\u001b[0m   ]  \n",
      "\t\n",
      "\tStarting iteration 5 of 5 (\u001b[1mbase.py\u001b[0m:395)\n"
     ]
    },
    {
     "name": "stdout",
     "output_type": "stream",
     "text": [
      "[\u001b[1mtardis.simulation.base\u001b[0m][\u001b[1;37mINFO\u001b[0m   ]  \n",
      "\t\n",
      "\tLuminosity emitted   = 8.742e+42 erg / s\n",
      "\tLuminosity absorbed  = 2.834e+42 erg / s\n",
      "\tLuminosity requested = 1.059e+43 erg / s\n",
      " (\u001b[1mbase.py\u001b[0m:577)\n"
     ]
    }
   ],
   "source": [
    "# Running the simulation by passing the config dictionary to `run_tardis()` function\n",
    "sim = run_tardis(config, show_cplots=False)"
   ]
  },
  {
   "cell_type": "markdown",
   "id": "3fadc651",
   "metadata": {},
   "source": [
    "### The `specific` Entry"
   ]
  },
  {
   "cell_type": "markdown",
   "id": "df50d2e1",
   "metadata": {},
   "source": [
    "The `specific_log_level` parameter in the `debug` section of the schema is similar in functionality to the `specific_log_level` functional argument. It takes **Boolean** values, i.e., `True` or `False`. It is an optional parameter. "
   ]
  },
  {
   "cell_type": "markdown",
   "id": "b71946ad",
   "metadata": {},
   "source": [
    "Let us see an example when we set `specific_log_level` to `True` at the `Debug` level."
   ]
  },
  {
   "cell_type": "code",
   "execution_count": 11,
   "id": "64ce1048",
   "metadata": {
    "execution": {
     "iopub.execute_input": "2024-05-28T10:51:48.023109Z",
     "iopub.status.busy": "2024-05-28T10:51:48.022721Z",
     "iopub.status.idle": "2024-05-28T10:51:48.025811Z",
     "shell.execute_reply": "2024-05-28T10:51:48.025329Z"
    }
   },
   "outputs": [],
   "source": [
    "config[\"debug\"][\"log_level\"] = \"Debug\"\n",
    "config[\"debug\"][\"specific_log_level\"] = True"
   ]
  },
  {
   "cell_type": "code",
   "execution_count": 12,
   "id": "33696bdd",
   "metadata": {
    "execution": {
     "iopub.execute_input": "2024-05-28T10:51:48.027832Z",
     "iopub.status.busy": "2024-05-28T10:51:48.027681Z",
     "iopub.status.idle": "2024-05-28T10:51:49.532493Z",
     "shell.execute_reply": "2024-05-28T10:51:49.531940Z"
    }
   },
   "outputs": [
    {
     "name": "stdout",
     "output_type": "stream",
     "text": [
      "[\u001b[1mtardis.io.atom_data.base\u001b[0m][\u001b[1;34mDEBUG\u001b[0m  ]  Dataframe does not contain synpp_refs column (\u001b[1mbase.py\u001b[0m:181)\n"
     ]
    },
    {
     "name": "stdout",
     "output_type": "stream",
     "text": [
      "[\u001b[1mtardis.io.atom_data.base\u001b[0m][\u001b[1;34mDEBUG\u001b[0m  ]  Dataframe does not contain photoionization_data column (\u001b[1mbase.py\u001b[0m:181)\n"
     ]
    },
    {
     "name": "stdout",
     "output_type": "stream",
     "text": [
      "[\u001b[1mtardis.io.atom_data.base\u001b[0m][\u001b[1;34mDEBUG\u001b[0m  ]  Dataframe does not contain yg_data column (\u001b[1mbase.py\u001b[0m:181)\n"
     ]
    },
    {
     "name": "stdout",
     "output_type": "stream",
     "text": [
      "[\u001b[1mtardis.io.atom_data.base\u001b[0m][\u001b[1;34mDEBUG\u001b[0m  ]  Dataframe does not contain two_photon_data column (\u001b[1mbase.py\u001b[0m:181)\n"
     ]
    },
    {
     "name": "stdout",
     "output_type": "stream",
     "text": [
      "[\u001b[1mtardis.io.atom_data.base\u001b[0m][\u001b[1;34mDEBUG\u001b[0m  ]  Dataframe does not contain linelist column (\u001b[1mbase.py\u001b[0m:181)\n"
     ]
    },
    {
     "name": "stdout",
     "output_type": "stream",
     "text": [
      "[\u001b[1mtardis.plasma.base  \u001b[0m][\u001b[1;34mDEBUG\u001b[0m  ]  Updating modules in the following order:BetaRadiation->SelectedAtoms->ElectronTemperature->GElectron->Levels->Lines->IonizationData->MacroAtomData->LevelBoltzmannFactorLTE->LinesLowerLevelIndex->LinesUpperLevelIndex->JBluesDiluteBlackBody->LevelBoltzmannFactorNoNLTE->PartitionFunction->PhiSahaLTE->IonNumberDensity->LevelNumberDensity->StimulatedEmissionFactor->TauSobolev->BetaSobolev->TransitionProbabilities (\u001b[1mbase.py\u001b[0m:264)\n"
     ]
    },
    {
     "name": "stdout",
     "output_type": "stream",
     "text": [
      "[\u001b[1mpy.warnings         \u001b[0m][\u001b[1;33mWARNING\u001b[0m]  \n",
      "\t/home/runner/work/tardis/tardis/tardis/plasma/properties/radiative_properties.py:93: RuntimeWarning: invalid value encountered in divide\n",
      "  (g_lower * n_upper) / (g_upper * n_lower)\n",
      " (\u001b[1mwarnings.py\u001b[0m:109)\n"
     ]
    },
    {
     "name": "stdout",
     "output_type": "stream",
     "text": [
      "[\u001b[1mtardis.plasma.base  \u001b[0m][\u001b[1;34mDEBUG\u001b[0m  ]  Updating modules in the following order:BetaRadiation->SelectedAtoms->ElectronTemperature->GElectron->Levels->Lines->IonizationData->MacroAtomData->LevelBoltzmannFactorLTE->LinesLowerLevelIndex->LinesUpperLevelIndex->JBluesDiluteBlackBody->LevelBoltzmannFactorNoNLTE->PartitionFunction->PhiSahaLTE->IonNumberDensity->LevelNumberDensity->StimulatedEmissionFactor->TauSobolev->BetaSobolev->TransitionProbabilities (\u001b[1mbase.py\u001b[0m:264)\n"
     ]
    },
    {
     "name": "stdout",
     "output_type": "stream",
     "text": [
      "[\u001b[1mpy.warnings         \u001b[0m][\u001b[1;33mWARNING\u001b[0m]  \n",
      "\t/home/runner/work/tardis/tardis/tardis/plasma/properties/radiative_properties.py:93: RuntimeWarning: invalid value encountered in divide\n",
      "  (g_lower * n_upper) / (g_upper * n_lower)\n",
      " (\u001b[1mwarnings.py\u001b[0m:109)\n"
     ]
    },
    {
     "name": "stdout",
     "output_type": "stream",
     "text": [
      "[\u001b[1mtardis.transport.montecarlo.base\u001b[0m][\u001b[1;34mDEBUG\u001b[0m  ]  Electron scattering switched on (\u001b[1mbase.py\u001b[0m:282)\n"
     ]
    },
    {
     "data": {
      "application/vnd.jupyter.widget-view+json": {
       "model_id": "198b836129f84300bab7334b2f35588d",
       "version_major": 2,
       "version_minor": 0
      },
      "text/plain": [
       "TqdmHBox(children=(HTML(value='Iterations:', layout=Layout(width='6%')), FloatProgress(value=0.0, layout=Layou…"
      ]
     },
     "metadata": {},
     "output_type": "display_data"
    },
    {
     "data": {
      "application/vnd.jupyter.widget-view+json": {
       "model_id": "814ce4b247ae45a6a9e5b928972f73aa",
       "version_major": 2,
       "version_minor": 0
      },
      "text/plain": [
       "TqdmHBox(children=(HTML(value='Packets:   ', layout=Layout(width='6%')), FloatProgress(value=0.0, layout=Layou…"
      ]
     },
     "metadata": {},
     "output_type": "display_data"
    },
    {
     "name": "stdout",
     "output_type": "stream",
     "text": [
      "[\u001b[1mtardis.plasma.base  \u001b[0m][\u001b[1;34mDEBUG\u001b[0m  ]  Updating modules in the following order:BetaRadiation->ElectronTemperature->GElectron->LevelBoltzmannFactorLTE->JBluesDiluteBlackBody->LevelBoltzmannFactorNoNLTE->PartitionFunction->PhiSahaLTE->IonNumberDensity->LevelNumberDensity->StimulatedEmissionFactor->TauSobolev->BetaSobolev->TransitionProbabilities (\u001b[1mbase.py\u001b[0m:264)\n"
     ]
    },
    {
     "name": "stdout",
     "output_type": "stream",
     "text": [
      "[\u001b[1mpy.warnings         \u001b[0m][\u001b[1;33mWARNING\u001b[0m]  \n",
      "\t/home/runner/work/tardis/tardis/tardis/plasma/properties/radiative_properties.py:93: RuntimeWarning: invalid value encountered in divide\n",
      "  (g_lower * n_upper) / (g_upper * n_lower)\n",
      " (\u001b[1mwarnings.py\u001b[0m:109)\n"
     ]
    },
    {
     "name": "stdout",
     "output_type": "stream",
     "text": [
      "[\u001b[1mtardis.plasma.base  \u001b[0m][\u001b[1;34mDEBUG\u001b[0m  ]  Updating modules in the following order:BetaRadiation->ElectronTemperature->GElectron->LevelBoltzmannFactorLTE->JBluesDiluteBlackBody->LevelBoltzmannFactorNoNLTE->PartitionFunction->PhiSahaLTE->IonNumberDensity->LevelNumberDensity->StimulatedEmissionFactor->TauSobolev->BetaSobolev->TransitionProbabilities (\u001b[1mbase.py\u001b[0m:264)\n"
     ]
    },
    {
     "name": "stdout",
     "output_type": "stream",
     "text": [
      "[\u001b[1mpy.warnings         \u001b[0m][\u001b[1;33mWARNING\u001b[0m]  \n",
      "\t/home/runner/work/tardis/tardis/tardis/plasma/properties/radiative_properties.py:93: RuntimeWarning: invalid value encountered in divide\n",
      "  (g_lower * n_upper) / (g_upper * n_lower)\n",
      " (\u001b[1mwarnings.py\u001b[0m:109)\n"
     ]
    },
    {
     "name": "stdout",
     "output_type": "stream",
     "text": [
      "[\u001b[1mtardis.plasma.base  \u001b[0m][\u001b[1;34mDEBUG\u001b[0m  ]  Updating modules in the following order:BetaRadiation->ElectronTemperature->GElectron->LevelBoltzmannFactorLTE->JBluesDiluteBlackBody->LevelBoltzmannFactorNoNLTE->PartitionFunction->PhiSahaLTE->IonNumberDensity->LevelNumberDensity->StimulatedEmissionFactor->TauSobolev->BetaSobolev->TransitionProbabilities (\u001b[1mbase.py\u001b[0m:264)\n"
     ]
    },
    {
     "name": "stdout",
     "output_type": "stream",
     "text": [
      "[\u001b[1mpy.warnings         \u001b[0m][\u001b[1;33mWARNING\u001b[0m]  \n",
      "\t/home/runner/work/tardis/tardis/tardis/plasma/properties/radiative_properties.py:93: RuntimeWarning: invalid value encountered in divide\n",
      "  (g_lower * n_upper) / (g_upper * n_lower)\n",
      " (\u001b[1mwarnings.py\u001b[0m:109)\n"
     ]
    },
    {
     "name": "stdout",
     "output_type": "stream",
     "text": [
      "[\u001b[1mtardis.plasma.base  \u001b[0m][\u001b[1;34mDEBUG\u001b[0m  ]  Updating modules in the following order:BetaRadiation->ElectronTemperature->GElectron->LevelBoltzmannFactorLTE->JBluesDiluteBlackBody->LevelBoltzmannFactorNoNLTE->PartitionFunction->PhiSahaLTE->IonNumberDensity->LevelNumberDensity->StimulatedEmissionFactor->TauSobolev->BetaSobolev->TransitionProbabilities (\u001b[1mbase.py\u001b[0m:264)\n"
     ]
    },
    {
     "name": "stdout",
     "output_type": "stream",
     "text": [
      "[\u001b[1mpy.warnings         \u001b[0m][\u001b[1;33mWARNING\u001b[0m]  \n",
      "\t/home/runner/work/tardis/tardis/tardis/plasma/properties/radiative_properties.py:93: RuntimeWarning: invalid value encountered in divide\n",
      "  (g_lower * n_upper) / (g_upper * n_lower)\n",
      " (\u001b[1mwarnings.py\u001b[0m:109)\n"
     ]
    }
   ],
   "source": [
    "sim = run_tardis(config, show_cplots=False)"
   ]
  },
  {
   "cell_type": "markdown",
   "id": "3e895aec",
   "metadata": {},
   "source": [
    "Setting `specific_log_level` to `False` to check the actual output at the `DEBUG` level for the simulation logs."
   ]
  },
  {
   "cell_type": "code",
   "execution_count": 13,
   "id": "762c858f",
   "metadata": {
    "execution": {
     "iopub.execute_input": "2024-05-28T10:51:49.534890Z",
     "iopub.status.busy": "2024-05-28T10:51:49.534493Z",
     "iopub.status.idle": "2024-05-28T10:51:49.537535Z",
     "shell.execute_reply": "2024-05-28T10:51:49.537046Z"
    }
   },
   "outputs": [],
   "source": [
    "config[\"debug\"][\"specific_log_level\"] = False"
   ]
  },
  {
   "cell_type": "code",
   "execution_count": 14,
   "id": "581f2d8d",
   "metadata": {
    "execution": {
     "iopub.execute_input": "2024-05-28T10:51:49.539705Z",
     "iopub.status.busy": "2024-05-28T10:51:49.539212Z",
     "iopub.status.idle": "2024-05-28T10:51:51.310194Z",
     "shell.execute_reply": "2024-05-28T10:51:51.309604Z"
    },
    "scrolled": false
   },
   "outputs": [
    {
     "name": "stdout",
     "output_type": "stream",
     "text": [
      "[\u001b[1mtardis.simulation.base\u001b[0m][\u001b[1;37mINFO\u001b[0m   ]  \n",
      "\t\n",
      "\tReading Atomic Data from kurucz_cd23_chianti_H_He.h5 (\u001b[1mbase.py\u001b[0m:679)\n"
     ]
    },
    {
     "name": "stdout",
     "output_type": "stream",
     "text": [
      "[\u001b[1mtardis.io.atom_data.util\u001b[0m][\u001b[1;37mINFO\u001b[0m   ]  \n",
      "\t\n",
      "\tAtom Data kurucz_cd23_chianti_H_He.h5 not found in local path.\n",
      "\tExists in TARDIS Data repo /home/runner/Downloads/tardis-data/kurucz_cd23_chianti_H_He.h5 (\u001b[1mutil.py\u001b[0m:36)\n"
     ]
    },
    {
     "name": "stdout",
     "output_type": "stream",
     "text": [
      "[\u001b[1mtardis.io.atom_data.base\u001b[0m][\u001b[1;34mDEBUG\u001b[0m  ]  Dataframe does not contain synpp_refs column (\u001b[1mbase.py\u001b[0m:181)\n"
     ]
    },
    {
     "name": "stdout",
     "output_type": "stream",
     "text": [
      "[\u001b[1mtardis.io.atom_data.base\u001b[0m][\u001b[1;34mDEBUG\u001b[0m  ]  Dataframe does not contain photoionization_data column (\u001b[1mbase.py\u001b[0m:181)\n"
     ]
    },
    {
     "name": "stdout",
     "output_type": "stream",
     "text": [
      "[\u001b[1mtardis.io.atom_data.base\u001b[0m][\u001b[1;34mDEBUG\u001b[0m  ]  Dataframe does not contain yg_data column (\u001b[1mbase.py\u001b[0m:181)\n"
     ]
    },
    {
     "name": "stdout",
     "output_type": "stream",
     "text": [
      "[\u001b[1mtardis.io.atom_data.base\u001b[0m][\u001b[1;34mDEBUG\u001b[0m  ]  Dataframe does not contain two_photon_data column (\u001b[1mbase.py\u001b[0m:181)\n"
     ]
    },
    {
     "name": "stdout",
     "output_type": "stream",
     "text": [
      "[\u001b[1mtardis.io.atom_data.base\u001b[0m][\u001b[1;34mDEBUG\u001b[0m  ]  Dataframe does not contain linelist column (\u001b[1mbase.py\u001b[0m:181)\n"
     ]
    },
    {
     "name": "stdout",
     "output_type": "stream",
     "text": [
      "[\u001b[1mtardis.io.atom_data.base\u001b[0m][\u001b[1;37mINFO\u001b[0m   ]  \n",
      "\tReading Atom Data with: UUID = 6f7b09e887a311e7a06b246e96350010 MD5  = 864f1753714343c41f99cb065710cace  (\u001b[1mbase.py\u001b[0m:258)\n"
     ]
    },
    {
     "name": "stdout",
     "output_type": "stream",
     "text": [
      "[\u001b[1mtardis.io.atom_data.base\u001b[0m][\u001b[1;37mINFO\u001b[0m   ]  \n",
      "\tNon provided Atomic Data: synpp_refs, photoionization_data, yg_data, two_photon_data, linelist (\u001b[1mbase.py\u001b[0m:262)\n"
     ]
    },
    {
     "name": "stdout",
     "output_type": "stream",
     "text": [
      "[\u001b[1mtardis.model.parse_input\u001b[0m][\u001b[1;33mWARNING\u001b[0m]  \n",
      "\tNumber of density points larger than number of shells. Assuming inner point irrelevant (\u001b[1mparse_input.py\u001b[0m:107)\n"
     ]
    },
    {
     "name": "stdout",
     "output_type": "stream",
     "text": [
      "[\u001b[1mtardis.model.matter.decay\u001b[0m][\u001b[1;37mINFO\u001b[0m   ]  \n",
      "\tDecaying abundances for 1123200.0 seconds (\u001b[1mdecay.py\u001b[0m:101)\n"
     ]
    },
    {
     "name": "stdout",
     "output_type": "stream",
     "text": [
      "[\u001b[1mtardis.plasma.base  \u001b[0m][\u001b[1;34mDEBUG\u001b[0m  ]  Updating modules in the following order:BetaRadiation->SelectedAtoms->ElectronTemperature->GElectron->Levels->Lines->IonizationData->MacroAtomData->LevelBoltzmannFactorLTE->LinesLowerLevelIndex->LinesUpperLevelIndex->JBluesDiluteBlackBody->LevelBoltzmannFactorNoNLTE->PartitionFunction->PhiSahaLTE->IonNumberDensity->LevelNumberDensity->StimulatedEmissionFactor->TauSobolev->BetaSobolev->TransitionProbabilities (\u001b[1mbase.py\u001b[0m:264)\n"
     ]
    },
    {
     "name": "stdout",
     "output_type": "stream",
     "text": [
      "[\u001b[1mpy.warnings         \u001b[0m][\u001b[1;33mWARNING\u001b[0m]  \n",
      "\t/home/runner/work/tardis/tardis/tardis/plasma/properties/radiative_properties.py:93: RuntimeWarning: invalid value encountered in divide\n",
      "  (g_lower * n_upper) / (g_upper * n_lower)\n",
      " (\u001b[1mwarnings.py\u001b[0m:109)\n"
     ]
    },
    {
     "name": "stdout",
     "output_type": "stream",
     "text": [
      "[\u001b[1mtardis.plasma.base  \u001b[0m][\u001b[1;34mDEBUG\u001b[0m  ]  Updating modules in the following order:BetaRadiation->SelectedAtoms->ElectronTemperature->GElectron->Levels->Lines->IonizationData->MacroAtomData->LevelBoltzmannFactorLTE->LinesLowerLevelIndex->LinesUpperLevelIndex->JBluesDiluteBlackBody->LevelBoltzmannFactorNoNLTE->PartitionFunction->PhiSahaLTE->IonNumberDensity->LevelNumberDensity->StimulatedEmissionFactor->TauSobolev->BetaSobolev->TransitionProbabilities (\u001b[1mbase.py\u001b[0m:264)\n"
     ]
    },
    {
     "name": "stdout",
     "output_type": "stream",
     "text": [
      "[\u001b[1mpy.warnings         \u001b[0m][\u001b[1;33mWARNING\u001b[0m]  \n",
      "\t/home/runner/work/tardis/tardis/tardis/plasma/properties/radiative_properties.py:93: RuntimeWarning: invalid value encountered in divide\n",
      "  (g_lower * n_upper) / (g_upper * n_lower)\n",
      " (\u001b[1mwarnings.py\u001b[0m:109)\n"
     ]
    },
    {
     "name": "stdout",
     "output_type": "stream",
     "text": [
      "[\u001b[1mtardis.transport.montecarlo.base\u001b[0m][\u001b[1;34mDEBUG\u001b[0m  ]  Electron scattering switched on (\u001b[1mbase.py\u001b[0m:282)\n"
     ]
    },
    {
     "name": "stdout",
     "output_type": "stream",
     "text": [
      "[\u001b[1mtardis.simulation.base\u001b[0m][\u001b[1;37mINFO\u001b[0m   ]  \n",
      "\t\n",
      "\tStarting iteration 1 of 5 (\u001b[1mbase.py\u001b[0m:395)\n"
     ]
    },
    {
     "data": {
      "application/vnd.jupyter.widget-view+json": {
       "model_id": "24faa26635a346fd862c6f93eaac984f",
       "version_major": 2,
       "version_minor": 0
      },
      "text/plain": [
       "TqdmHBox(children=(HTML(value='Iterations:', layout=Layout(width='6%')), FloatProgress(value=0.0, layout=Layou…"
      ]
     },
     "metadata": {},
     "output_type": "display_data"
    },
    {
     "data": {
      "application/vnd.jupyter.widget-view+json": {
       "model_id": "a44ea5f1232c47b0a705655e0b73dc30",
       "version_major": 2,
       "version_minor": 0
      },
      "text/plain": [
       "TqdmHBox(children=(HTML(value='Packets:   ', layout=Layout(width='6%')), FloatProgress(value=0.0, layout=Layou…"
      ]
     },
     "metadata": {},
     "output_type": "display_data"
    },
    {
     "name": "stdout",
     "output_type": "stream",
     "text": [
      "[\u001b[1mtardis.simulation.base\u001b[0m][\u001b[1;37mINFO\u001b[0m   ]  \n",
      "\t\n",
      "\tLuminosity emitted   = 7.947e+42 erg / s\n",
      "\tLuminosity absorbed  = 2.654e+42 erg / s\n",
      "\tLuminosity requested = 1.059e+43 erg / s\n",
      " (\u001b[1mbase.py\u001b[0m:577)\n"
     ]
    },
    {
     "name": "stdout",
     "output_type": "stream",
     "text": [
      "[\u001b[1mtardis.simulation.base\u001b[0m][\u001b[1;37mINFO\u001b[0m   ]  \n",
      "\t\n",
      "\tPlasma stratification: (\u001b[1mbase.py\u001b[0m:545)\n"
     ]
    },
    {
     "data": {
      "text/html": [
       "<style type=\"text/css\">\n",
       "</style>\n",
       "<table id=\"T_350ea\">\n",
       "  <thead>\n",
       "    <tr>\n",
       "      <th class=\"index_name level0\" >Shell No.</th>\n",
       "      <th id=\"T_350ea_level0_col0\" class=\"col_heading level0 col0\" >t_rad</th>\n",
       "      <th id=\"T_350ea_level0_col1\" class=\"col_heading level0 col1\" >next_t_rad</th>\n",
       "      <th id=\"T_350ea_level0_col2\" class=\"col_heading level0 col2\" >w</th>\n",
       "      <th id=\"T_350ea_level0_col3\" class=\"col_heading level0 col3\" >next_w</th>\n",
       "    </tr>\n",
       "  </thead>\n",
       "  <tbody>\n",
       "    <tr>\n",
       "      <th id=\"T_350ea_level0_row0\" class=\"row_heading level0 row0\" >0</th>\n",
       "      <td id=\"T_350ea_row0_col0\" class=\"data row0 col0\" >9.93e+03 K</td>\n",
       "      <td id=\"T_350ea_row0_col1\" class=\"data row0 col1\" >1.03e+04 K</td>\n",
       "      <td id=\"T_350ea_row0_col2\" class=\"data row0 col2\" >0.4</td>\n",
       "      <td id=\"T_350ea_row0_col3\" class=\"data row0 col3\" >0.481</td>\n",
       "    </tr>\n",
       "    <tr>\n",
       "      <th id=\"T_350ea_level0_row1\" class=\"row_heading level0 row1\" >5</th>\n",
       "      <td id=\"T_350ea_row1_col0\" class=\"data row1 col0\" >9.85e+03 K</td>\n",
       "      <td id=\"T_350ea_row1_col1\" class=\"data row1 col1\" >1.03e+04 K</td>\n",
       "      <td id=\"T_350ea_row1_col2\" class=\"data row1 col2\" >0.211</td>\n",
       "      <td id=\"T_350ea_row1_col3\" class=\"data row1 col3\" >0.193</td>\n",
       "    </tr>\n",
       "    <tr>\n",
       "      <th id=\"T_350ea_level0_row2\" class=\"row_heading level0 row2\" >10</th>\n",
       "      <td id=\"T_350ea_row2_col0\" class=\"data row2 col0\" >9.78e+03 K</td>\n",
       "      <td id=\"T_350ea_row2_col1\" class=\"data row2 col1\" >1.02e+04 K</td>\n",
       "      <td id=\"T_350ea_row2_col2\" class=\"data row2 col2\" >0.143</td>\n",
       "      <td id=\"T_350ea_row2_col3\" class=\"data row2 col3\" >0.112</td>\n",
       "    </tr>\n",
       "    <tr>\n",
       "      <th id=\"T_350ea_level0_row3\" class=\"row_heading level0 row3\" >15</th>\n",
       "      <td id=\"T_350ea_row3_col0\" class=\"data row3 col0\" >9.71e+03 K</td>\n",
       "      <td id=\"T_350ea_row3_col1\" class=\"data row3 col1\" >9.98e+03 K</td>\n",
       "      <td id=\"T_350ea_row3_col2\" class=\"data row3 col2\" >0.105</td>\n",
       "      <td id=\"T_350ea_row3_col3\" class=\"data row3 col3\" >0.0826</td>\n",
       "    </tr>\n",
       "  </tbody>\n",
       "</table>\n"
      ],
      "text/plain": [
       "<pandas.io.formats.style.Styler at 0x7f294e5dc250>"
      ]
     },
     "metadata": {},
     "output_type": "display_data"
    },
    {
     "name": "stdout",
     "output_type": "stream",
     "text": [
      "[\u001b[1mtardis.simulation.base\u001b[0m][\u001b[1;37mINFO\u001b[0m   ]  \n",
      "\t\n",
      "\tCurrent t_inner = 9933.952 K\n",
      "\tExpected t_inner for next iteration = 11468.808 K\n",
      " (\u001b[1mbase.py\u001b[0m:572)\n"
     ]
    },
    {
     "name": "stdout",
     "output_type": "stream",
     "text": [
      "[\u001b[1mtardis.plasma.base  \u001b[0m][\u001b[1;34mDEBUG\u001b[0m  ]  Updating modules in the following order:BetaRadiation->ElectronTemperature->GElectron->LevelBoltzmannFactorLTE->JBluesDiluteBlackBody->LevelBoltzmannFactorNoNLTE->PartitionFunction->PhiSahaLTE->IonNumberDensity->LevelNumberDensity->StimulatedEmissionFactor->TauSobolev->BetaSobolev->TransitionProbabilities (\u001b[1mbase.py\u001b[0m:264)\n"
     ]
    },
    {
     "name": "stdout",
     "output_type": "stream",
     "text": [
      "[\u001b[1mpy.warnings         \u001b[0m][\u001b[1;33mWARNING\u001b[0m]  \n",
      "\t/home/runner/work/tardis/tardis/tardis/plasma/properties/radiative_properties.py:93: RuntimeWarning: invalid value encountered in divide\n",
      "  (g_lower * n_upper) / (g_upper * n_lower)\n",
      " (\u001b[1mwarnings.py\u001b[0m:109)\n"
     ]
    },
    {
     "name": "stdout",
     "output_type": "stream",
     "text": [
      "[\u001b[1mtardis.simulation.base\u001b[0m][\u001b[1;37mINFO\u001b[0m   ]  \n",
      "\t\n",
      "\tStarting iteration 2 of 5 (\u001b[1mbase.py\u001b[0m:395)\n"
     ]
    },
    {
     "name": "stdout",
     "output_type": "stream",
     "text": [
      "[\u001b[1mtardis.simulation.base\u001b[0m][\u001b[1;37mINFO\u001b[0m   ]  \n",
      "\t\n",
      "\tLuminosity emitted   = 1.413e+43 erg / s\n",
      "\tLuminosity absorbed  = 4.704e+42 erg / s\n",
      "\tLuminosity requested = 1.059e+43 erg / s\n",
      " (\u001b[1mbase.py\u001b[0m:577)\n"
     ]
    },
    {
     "name": "stdout",
     "output_type": "stream",
     "text": [
      "[\u001b[1mtardis.simulation.base\u001b[0m][\u001b[1;37mINFO\u001b[0m   ]  \n",
      "\t\n",
      "\tPlasma stratification: (\u001b[1mbase.py\u001b[0m:545)\n"
     ]
    },
    {
     "data": {
      "text/html": [
       "<style type=\"text/css\">\n",
       "</style>\n",
       "<table id=\"T_01e33\">\n",
       "  <thead>\n",
       "    <tr>\n",
       "      <th class=\"index_name level0\" >Shell No.</th>\n",
       "      <th id=\"T_01e33_level0_col0\" class=\"col_heading level0 col0\" >t_rad</th>\n",
       "      <th id=\"T_01e33_level0_col1\" class=\"col_heading level0 col1\" >next_t_rad</th>\n",
       "      <th id=\"T_01e33_level0_col2\" class=\"col_heading level0 col2\" >w</th>\n",
       "      <th id=\"T_01e33_level0_col3\" class=\"col_heading level0 col3\" >next_w</th>\n",
       "    </tr>\n",
       "  </thead>\n",
       "  <tbody>\n",
       "    <tr>\n",
       "      <th id=\"T_01e33_level0_row0\" class=\"row_heading level0 row0\" >0</th>\n",
       "      <td id=\"T_01e33_row0_col0\" class=\"data row0 col0\" >1.03e+04 K</td>\n",
       "      <td id=\"T_01e33_row0_col1\" class=\"data row0 col1\" >1.15e+04 K</td>\n",
       "      <td id=\"T_01e33_row0_col2\" class=\"data row0 col2\" >0.481</td>\n",
       "      <td id=\"T_01e33_row0_col3\" class=\"data row0 col3\" >0.555</td>\n",
       "    </tr>\n",
       "    <tr>\n",
       "      <th id=\"T_01e33_level0_row1\" class=\"row_heading level0 row1\" >5</th>\n",
       "      <td id=\"T_01e33_row1_col0\" class=\"data row1 col0\" >1.03e+04 K</td>\n",
       "      <td id=\"T_01e33_row1_col1\" class=\"data row1 col1\" >1.17e+04 K</td>\n",
       "      <td id=\"T_01e33_row1_col2\" class=\"data row1 col2\" >0.193</td>\n",
       "      <td id=\"T_01e33_row1_col3\" class=\"data row1 col3\" >0.203</td>\n",
       "    </tr>\n",
       "    <tr>\n",
       "      <th id=\"T_01e33_level0_row2\" class=\"row_heading level0 row2\" >10</th>\n",
       "      <td id=\"T_01e33_row2_col0\" class=\"data row2 col0\" >1.02e+04 K</td>\n",
       "      <td id=\"T_01e33_row2_col1\" class=\"data row2 col1\" >1.13e+04 K</td>\n",
       "      <td id=\"T_01e33_row2_col2\" class=\"data row2 col2\" >0.112</td>\n",
       "      <td id=\"T_01e33_row2_col3\" class=\"data row2 col3\" >0.135</td>\n",
       "    </tr>\n",
       "    <tr>\n",
       "      <th id=\"T_01e33_level0_row3\" class=\"row_heading level0 row3\" >15</th>\n",
       "      <td id=\"T_01e33_row3_col0\" class=\"data row3 col0\" >9.98e+03 K</td>\n",
       "      <td id=\"T_01e33_row3_col1\" class=\"data row3 col1\" >1.1e+04 K</td>\n",
       "      <td id=\"T_01e33_row3_col2\" class=\"data row3 col2\" >0.0826</td>\n",
       "      <td id=\"T_01e33_row3_col3\" class=\"data row3 col3\" >0.0998</td>\n",
       "    </tr>\n",
       "  </tbody>\n",
       "</table>\n"
      ],
      "text/plain": [
       "<pandas.io.formats.style.Styler at 0x7f294e892210>"
      ]
     },
     "metadata": {},
     "output_type": "display_data"
    },
    {
     "name": "stdout",
     "output_type": "stream",
     "text": [
      "[\u001b[1mtardis.simulation.base\u001b[0m][\u001b[1;37mINFO\u001b[0m   ]  \n",
      "\t\n",
      "\tCurrent t_inner = 11468.808 K\n",
      "\tExpected t_inner for next iteration = 9929.475 K\n",
      " (\u001b[1mbase.py\u001b[0m:572)\n"
     ]
    },
    {
     "name": "stdout",
     "output_type": "stream",
     "text": [
      "[\u001b[1mtardis.plasma.base  \u001b[0m][\u001b[1;34mDEBUG\u001b[0m  ]  Updating modules in the following order:BetaRadiation->ElectronTemperature->GElectron->LevelBoltzmannFactorLTE->JBluesDiluteBlackBody->LevelBoltzmannFactorNoNLTE->PartitionFunction->PhiSahaLTE->IonNumberDensity->LevelNumberDensity->StimulatedEmissionFactor->TauSobolev->BetaSobolev->TransitionProbabilities (\u001b[1mbase.py\u001b[0m:264)\n"
     ]
    },
    {
     "name": "stdout",
     "output_type": "stream",
     "text": [
      "[\u001b[1mpy.warnings         \u001b[0m][\u001b[1;33mWARNING\u001b[0m]  \n",
      "\t/home/runner/work/tardis/tardis/tardis/plasma/properties/radiative_properties.py:93: RuntimeWarning: invalid value encountered in divide\n",
      "  (g_lower * n_upper) / (g_upper * n_lower)\n",
      " (\u001b[1mwarnings.py\u001b[0m:109)\n"
     ]
    },
    {
     "name": "stdout",
     "output_type": "stream",
     "text": [
      "[\u001b[1mtardis.simulation.base\u001b[0m][\u001b[1;37mINFO\u001b[0m   ]  \n",
      "\t\n",
      "\tStarting iteration 3 of 5 (\u001b[1mbase.py\u001b[0m:395)\n"
     ]
    },
    {
     "name": "stdout",
     "output_type": "stream",
     "text": [
      "[\u001b[1mtardis.simulation.base\u001b[0m][\u001b[1;37mINFO\u001b[0m   ]  \n",
      "\t\n",
      "\tLuminosity emitted   = 8.259e+42 erg / s\n",
      "\tLuminosity absorbed  = 2.337e+42 erg / s\n",
      "\tLuminosity requested = 1.059e+43 erg / s\n",
      " (\u001b[1mbase.py\u001b[0m:577)\n"
     ]
    },
    {
     "name": "stdout",
     "output_type": "stream",
     "text": [
      "[\u001b[1mtardis.simulation.base\u001b[0m][\u001b[1;37mINFO\u001b[0m   ]  \n",
      "\t\n",
      "\tPlasma stratification: (\u001b[1mbase.py\u001b[0m:545)\n"
     ]
    },
    {
     "data": {
      "text/html": [
       "<style type=\"text/css\">\n",
       "</style>\n",
       "<table id=\"T_258be\">\n",
       "  <thead>\n",
       "    <tr>\n",
       "      <th class=\"index_name level0\" >Shell No.</th>\n",
       "      <th id=\"T_258be_level0_col0\" class=\"col_heading level0 col0\" >t_rad</th>\n",
       "      <th id=\"T_258be_level0_col1\" class=\"col_heading level0 col1\" >next_t_rad</th>\n",
       "      <th id=\"T_258be_level0_col2\" class=\"col_heading level0 col2\" >w</th>\n",
       "      <th id=\"T_258be_level0_col3\" class=\"col_heading level0 col3\" >next_w</th>\n",
       "    </tr>\n",
       "  </thead>\n",
       "  <tbody>\n",
       "    <tr>\n",
       "      <th id=\"T_258be_level0_row0\" class=\"row_heading level0 row0\" >0</th>\n",
       "      <td id=\"T_258be_row0_col0\" class=\"data row0 col0\" >1.15e+04 K</td>\n",
       "      <td id=\"T_258be_row0_col1\" class=\"data row0 col1\" >1.03e+04 K</td>\n",
       "      <td id=\"T_258be_row0_col2\" class=\"data row0 col2\" >0.555</td>\n",
       "      <td id=\"T_258be_row0_col3\" class=\"data row0 col3\" >0.468</td>\n",
       "    </tr>\n",
       "    <tr>\n",
       "      <th id=\"T_258be_level0_row1\" class=\"row_heading level0 row1\" >5</th>\n",
       "      <td id=\"T_258be_row1_col0\" class=\"data row1 col0\" >1.17e+04 K</td>\n",
       "      <td id=\"T_258be_row1_col1\" class=\"data row1 col1\" >1.05e+04 K</td>\n",
       "      <td id=\"T_258be_row1_col2\" class=\"data row1 col2\" >0.203</td>\n",
       "      <td id=\"T_258be_row1_col3\" class=\"data row1 col3\" >0.181</td>\n",
       "    </tr>\n",
       "    <tr>\n",
       "      <th id=\"T_258be_level0_row2\" class=\"row_heading level0 row2\" >10</th>\n",
       "      <td id=\"T_258be_row2_col0\" class=\"data row2 col0\" >1.13e+04 K</td>\n",
       "      <td id=\"T_258be_row2_col1\" class=\"data row2 col1\" >1.05e+04 K</td>\n",
       "      <td id=\"T_258be_row2_col2\" class=\"data row2 col2\" >0.135</td>\n",
       "      <td id=\"T_258be_row2_col3\" class=\"data row2 col3\" >0.108</td>\n",
       "    </tr>\n",
       "    <tr>\n",
       "      <th id=\"T_258be_level0_row3\" class=\"row_heading level0 row3\" >15</th>\n",
       "      <td id=\"T_258be_row3_col0\" class=\"data row3 col0\" >1.1e+04 K</td>\n",
       "      <td id=\"T_258be_row3_col1\" class=\"data row3 col1\" >1.03e+04 K</td>\n",
       "      <td id=\"T_258be_row3_col2\" class=\"data row3 col2\" >0.0998</td>\n",
       "      <td id=\"T_258be_row3_col3\" class=\"data row3 col3\" >0.0779</td>\n",
       "    </tr>\n",
       "  </tbody>\n",
       "</table>\n"
      ],
      "text/plain": [
       "<pandas.io.formats.style.Styler at 0x7f294e40c910>"
      ]
     },
     "metadata": {},
     "output_type": "display_data"
    },
    {
     "name": "stdout",
     "output_type": "stream",
     "text": [
      "[\u001b[1mtardis.simulation.base\u001b[0m][\u001b[1;37mINFO\u001b[0m   ]  \n",
      "\t\n",
      "\tCurrent t_inner = 9929.475 K\n",
      "\tExpected t_inner for next iteration = 11245.497 K\n",
      " (\u001b[1mbase.py\u001b[0m:572)\n"
     ]
    },
    {
     "name": "stdout",
     "output_type": "stream",
     "text": [
      "[\u001b[1mtardis.plasma.base  \u001b[0m][\u001b[1;34mDEBUG\u001b[0m  ]  Updating modules in the following order:BetaRadiation->ElectronTemperature->GElectron->LevelBoltzmannFactorLTE->JBluesDiluteBlackBody->LevelBoltzmannFactorNoNLTE->PartitionFunction->PhiSahaLTE->IonNumberDensity->LevelNumberDensity->StimulatedEmissionFactor->TauSobolev->BetaSobolev->TransitionProbabilities (\u001b[1mbase.py\u001b[0m:264)\n"
     ]
    },
    {
     "name": "stdout",
     "output_type": "stream",
     "text": [
      "[\u001b[1mpy.warnings         \u001b[0m][\u001b[1;33mWARNING\u001b[0m]  \n",
      "\t/home/runner/work/tardis/tardis/tardis/plasma/properties/radiative_properties.py:93: RuntimeWarning: invalid value encountered in divide\n",
      "  (g_lower * n_upper) / (g_upper * n_lower)\n",
      " (\u001b[1mwarnings.py\u001b[0m:109)\n"
     ]
    },
    {
     "name": "stdout",
     "output_type": "stream",
     "text": [
      "[\u001b[1mtardis.simulation.base\u001b[0m][\u001b[1;37mINFO\u001b[0m   ]  \n",
      "\t\n",
      "\tStarting iteration 4 of 5 (\u001b[1mbase.py\u001b[0m:395)\n"
     ]
    },
    {
     "name": "stdout",
     "output_type": "stream",
     "text": [
      "[\u001b[1mtardis.simulation.base\u001b[0m][\u001b[1;37mINFO\u001b[0m   ]  \n",
      "\t\n",
      "\tLuminosity emitted   = 1.299e+43 erg / s\n",
      "\tLuminosity absorbed  = 4.407e+42 erg / s\n",
      "\tLuminosity requested = 1.059e+43 erg / s\n",
      " (\u001b[1mbase.py\u001b[0m:577)\n"
     ]
    },
    {
     "name": "stdout",
     "output_type": "stream",
     "text": [
      "[\u001b[1mtardis.simulation.base\u001b[0m][\u001b[1;37mINFO\u001b[0m   ]  \n",
      "\t\n",
      "\tPlasma stratification: (\u001b[1mbase.py\u001b[0m:545)\n"
     ]
    },
    {
     "data": {
      "text/html": [
       "<style type=\"text/css\">\n",
       "</style>\n",
       "<table id=\"T_e363e\">\n",
       "  <thead>\n",
       "    <tr>\n",
       "      <th class=\"index_name level0\" >Shell No.</th>\n",
       "      <th id=\"T_e363e_level0_col0\" class=\"col_heading level0 col0\" >t_rad</th>\n",
       "      <th id=\"T_e363e_level0_col1\" class=\"col_heading level0 col1\" >next_t_rad</th>\n",
       "      <th id=\"T_e363e_level0_col2\" class=\"col_heading level0 col2\" >w</th>\n",
       "      <th id=\"T_e363e_level0_col3\" class=\"col_heading level0 col3\" >next_w</th>\n",
       "    </tr>\n",
       "  </thead>\n",
       "  <tbody>\n",
       "    <tr>\n",
       "      <th id=\"T_e363e_level0_row0\" class=\"row_heading level0 row0\" >0</th>\n",
       "      <td id=\"T_e363e_row0_col0\" class=\"data row0 col0\" >1.03e+04 K</td>\n",
       "      <td id=\"T_e363e_row0_col1\" class=\"data row0 col1\" >1.14e+04 K</td>\n",
       "      <td id=\"T_e363e_row0_col2\" class=\"data row0 col2\" >0.468</td>\n",
       "      <td id=\"T_e363e_row0_col3\" class=\"data row0 col3\" >0.527</td>\n",
       "    </tr>\n",
       "    <tr>\n",
       "      <th id=\"T_e363e_level0_row1\" class=\"row_heading level0 row1\" >5</th>\n",
       "      <td id=\"T_e363e_row1_col0\" class=\"data row1 col0\" >1.05e+04 K</td>\n",
       "      <td id=\"T_e363e_row1_col1\" class=\"data row1 col1\" >1.13e+04 K</td>\n",
       "      <td id=\"T_e363e_row1_col2\" class=\"data row1 col2\" >0.181</td>\n",
       "      <td id=\"T_e363e_row1_col3\" class=\"data row1 col3\" >0.225</td>\n",
       "    </tr>\n",
       "    <tr>\n",
       "      <th id=\"T_e363e_level0_row2\" class=\"row_heading level0 row2\" >10</th>\n",
       "      <td id=\"T_e363e_row2_col0\" class=\"data row2 col0\" >1.05e+04 K</td>\n",
       "      <td id=\"T_e363e_row2_col1\" class=\"data row2 col1\" >1.12e+04 K</td>\n",
       "      <td id=\"T_e363e_row2_col2\" class=\"data row2 col2\" >0.108</td>\n",
       "      <td id=\"T_e363e_row2_col3\" class=\"data row2 col3\" >0.126</td>\n",
       "    </tr>\n",
       "    <tr>\n",
       "      <th id=\"T_e363e_level0_row3\" class=\"row_heading level0 row3\" >15</th>\n",
       "      <td id=\"T_e363e_row3_col0\" class=\"data row3 col0\" >1.03e+04 K</td>\n",
       "      <td id=\"T_e363e_row3_col1\" class=\"data row3 col1\" >1.1e+04 K</td>\n",
       "      <td id=\"T_e363e_row3_col2\" class=\"data row3 col2\" >0.0779</td>\n",
       "      <td id=\"T_e363e_row3_col3\" class=\"data row3 col3\" >0.0926</td>\n",
       "    </tr>\n",
       "  </tbody>\n",
       "</table>\n"
      ],
      "text/plain": [
       "<pandas.io.formats.style.Styler at 0x7f294ea0d5d0>"
      ]
     },
     "metadata": {},
     "output_type": "display_data"
    },
    {
     "name": "stdout",
     "output_type": "stream",
     "text": [
      "[\u001b[1mtardis.simulation.base\u001b[0m][\u001b[1;37mINFO\u001b[0m   ]  \n",
      "\t\n",
      "\tCurrent t_inner = 11245.497 K\n",
      "\tExpected t_inner for next iteration = 10153.431 K\n",
      " (\u001b[1mbase.py\u001b[0m:572)\n"
     ]
    },
    {
     "name": "stdout",
     "output_type": "stream",
     "text": [
      "[\u001b[1mtardis.plasma.base  \u001b[0m][\u001b[1;34mDEBUG\u001b[0m  ]  Updating modules in the following order:BetaRadiation->ElectronTemperature->GElectron->LevelBoltzmannFactorLTE->JBluesDiluteBlackBody->LevelBoltzmannFactorNoNLTE->PartitionFunction->PhiSahaLTE->IonNumberDensity->LevelNumberDensity->StimulatedEmissionFactor->TauSobolev->BetaSobolev->TransitionProbabilities (\u001b[1mbase.py\u001b[0m:264)\n"
     ]
    },
    {
     "name": "stdout",
     "output_type": "stream",
     "text": [
      "[\u001b[1mpy.warnings         \u001b[0m][\u001b[1;33mWARNING\u001b[0m]  \n",
      "\t/home/runner/work/tardis/tardis/tardis/plasma/properties/radiative_properties.py:93: RuntimeWarning: invalid value encountered in divide\n",
      "  (g_lower * n_upper) / (g_upper * n_lower)\n",
      " (\u001b[1mwarnings.py\u001b[0m:109)\n"
     ]
    },
    {
     "name": "stdout",
     "output_type": "stream",
     "text": [
      "[\u001b[1mtardis.simulation.base\u001b[0m][\u001b[1;37mINFO\u001b[0m   ]  \n",
      "\t\n",
      "\tSimulation finished in 4 iterations \n",
      "\tSimulation took 0.39 s\n",
      " (\u001b[1mbase.py\u001b[0m:473)\n"
     ]
    },
    {
     "name": "stdout",
     "output_type": "stream",
     "text": [
      "[\u001b[1mtardis.simulation.base\u001b[0m][\u001b[1;37mINFO\u001b[0m   ]  \n",
      "\t\n",
      "\tStarting iteration 5 of 5 (\u001b[1mbase.py\u001b[0m:395)\n"
     ]
    },
    {
     "name": "stdout",
     "output_type": "stream",
     "text": [
      "[\u001b[1mtardis.simulation.base\u001b[0m][\u001b[1;37mINFO\u001b[0m   ]  \n",
      "\t\n",
      "\tLuminosity emitted   = 8.742e+42 erg / s\n",
      "\tLuminosity absorbed  = 2.834e+42 erg / s\n",
      "\tLuminosity requested = 1.059e+43 erg / s\n",
      " (\u001b[1mbase.py\u001b[0m:577)\n"
     ]
    }
   ],
   "source": [
    "sim = run_tardis(config,show_cplots=False)"
   ]
  },
  {
   "cell_type": "markdown",
   "id": "5e8f1dbe",
   "metadata": {},
   "source": [
    "### What Happens When Both Parameters Are Specified? { Function & YAML Arguments }"
   ]
  },
  {
   "cell_type": "markdown",
   "id": "f32403c7",
   "metadata": {},
   "source": [
    "If a user specifies both the parameters passed through the `log_level` & `log_level` in the **YAML** configuration file, then the `log_level` parameter *(Functional Argument)* takes precedence & is used to determine the logging level for the simulation logs."
   ]
  },
  {
   "cell_type": "markdown",
   "id": "f2a24e11",
   "metadata": {},
   "source": [
    "Let us consider the following example for the configuration:"
   ]
  },
  {
   "cell_type": "markdown",
   "id": "863042a4",
   "metadata": {},
   "source": [
    "Continuing from the previous example, the `config[\"debug\"][\"log_level\"]` is set to `Debug` via the **YAML** file. The user will also set the `log_level` {Functional Argument} to `Info`."
   ]
  },
  {
   "cell_type": "code",
   "execution_count": 15,
   "id": "30763e52",
   "metadata": {
    "execution": {
     "iopub.execute_input": "2024-05-28T10:51:51.312241Z",
     "iopub.status.busy": "2024-05-28T10:51:51.312079Z",
     "iopub.status.idle": "2024-05-28T10:51:52.859279Z",
     "shell.execute_reply": "2024-05-28T10:51:52.858785Z"
    },
    "scrolled": false
   },
   "outputs": [
    {
     "name": "stdout",
     "output_type": "stream",
     "text": [
      "log_level is defined both in Functional Argument & YAML Configuration {debug section}\n",
      "log_level = INFO will be used for Log Level Determination\n",
      "\n",
      "[\u001b[1mtardis.simulation.base\u001b[0m][\u001b[1;37mINFO\u001b[0m   ]  \n",
      "\t\n",
      "\tReading Atomic Data from kurucz_cd23_chianti_H_He.h5 (\u001b[1mbase.py\u001b[0m:679)\n"
     ]
    },
    {
     "name": "stdout",
     "output_type": "stream",
     "text": [
      "[\u001b[1mtardis.io.atom_data.util\u001b[0m][\u001b[1;37mINFO\u001b[0m   ]  \n",
      "\t\n",
      "\tAtom Data kurucz_cd23_chianti_H_He.h5 not found in local path.\n",
      "\tExists in TARDIS Data repo /home/runner/Downloads/tardis-data/kurucz_cd23_chianti_H_He.h5 (\u001b[1mutil.py\u001b[0m:36)\n"
     ]
    },
    {
     "name": "stdout",
     "output_type": "stream",
     "text": [
      "[\u001b[1mtardis.io.atom_data.base\u001b[0m][\u001b[1;37mINFO\u001b[0m   ]  \n",
      "\tReading Atom Data with: UUID = 6f7b09e887a311e7a06b246e96350010 MD5  = 864f1753714343c41f99cb065710cace  (\u001b[1mbase.py\u001b[0m:258)\n"
     ]
    },
    {
     "name": "stdout",
     "output_type": "stream",
     "text": [
      "[\u001b[1mtardis.io.atom_data.base\u001b[0m][\u001b[1;37mINFO\u001b[0m   ]  \n",
      "\tNon provided Atomic Data: synpp_refs, photoionization_data, yg_data, two_photon_data, linelist (\u001b[1mbase.py\u001b[0m:262)\n"
     ]
    },
    {
     "name": "stdout",
     "output_type": "stream",
     "text": [
      "[\u001b[1mtardis.model.parse_input\u001b[0m][\u001b[1;33mWARNING\u001b[0m]  \n",
      "\tNumber of density points larger than number of shells. Assuming inner point irrelevant (\u001b[1mparse_input.py\u001b[0m:107)\n"
     ]
    },
    {
     "name": "stdout",
     "output_type": "stream",
     "text": [
      "[\u001b[1mtardis.model.matter.decay\u001b[0m][\u001b[1;37mINFO\u001b[0m   ]  \n",
      "\tDecaying abundances for 1123200.0 seconds (\u001b[1mdecay.py\u001b[0m:101)\n"
     ]
    },
    {
     "name": "stdout",
     "output_type": "stream",
     "text": [
      "[\u001b[1mpy.warnings         \u001b[0m][\u001b[1;33mWARNING\u001b[0m]  \n",
      "\t/home/runner/work/tardis/tardis/tardis/plasma/properties/radiative_properties.py:93: RuntimeWarning: invalid value encountered in divide\n",
      "  (g_lower * n_upper) / (g_upper * n_lower)\n",
      " (\u001b[1mwarnings.py\u001b[0m:109)\n"
     ]
    },
    {
     "name": "stdout",
     "output_type": "stream",
     "text": [
      "[\u001b[1mpy.warnings         \u001b[0m][\u001b[1;33mWARNING\u001b[0m]  \n",
      "\t/home/runner/work/tardis/tardis/tardis/plasma/properties/radiative_properties.py:93: RuntimeWarning: invalid value encountered in divide\n",
      "  (g_lower * n_upper) / (g_upper * n_lower)\n",
      " (\u001b[1mwarnings.py\u001b[0m:109)\n"
     ]
    },
    {
     "name": "stdout",
     "output_type": "stream",
     "text": [
      "[\u001b[1mtardis.simulation.base\u001b[0m][\u001b[1;37mINFO\u001b[0m   ]  \n",
      "\t\n",
      "\tStarting iteration 1 of 5 (\u001b[1mbase.py\u001b[0m:395)\n"
     ]
    },
    {
     "data": {
      "application/vnd.jupyter.widget-view+json": {
       "model_id": "25d40d5d1b934479a6df406087b0ff6a",
       "version_major": 2,
       "version_minor": 0
      },
      "text/plain": [
       "TqdmHBox(children=(HTML(value='Iterations:', layout=Layout(width='6%')), FloatProgress(value=0.0, layout=Layou…"
      ]
     },
     "metadata": {},
     "output_type": "display_data"
    },
    {
     "data": {
      "application/vnd.jupyter.widget-view+json": {
       "model_id": "1b2dcddb34b142b58926de430e1bdb2c",
       "version_major": 2,
       "version_minor": 0
      },
      "text/plain": [
       "TqdmHBox(children=(HTML(value='Packets:   ', layout=Layout(width='6%')), FloatProgress(value=0.0, layout=Layou…"
      ]
     },
     "metadata": {},
     "output_type": "display_data"
    },
    {
     "name": "stdout",
     "output_type": "stream",
     "text": [
      "[\u001b[1mtardis.simulation.base\u001b[0m][\u001b[1;37mINFO\u001b[0m   ]  \n",
      "\t\n",
      "\tLuminosity emitted   = 7.947e+42 erg / s\n",
      "\tLuminosity absorbed  = 2.654e+42 erg / s\n",
      "\tLuminosity requested = 1.059e+43 erg / s\n",
      " (\u001b[1mbase.py\u001b[0m:577)\n"
     ]
    },
    {
     "name": "stdout",
     "output_type": "stream",
     "text": [
      "[\u001b[1mtardis.simulation.base\u001b[0m][\u001b[1;37mINFO\u001b[0m   ]  \n",
      "\t\n",
      "\tPlasma stratification: (\u001b[1mbase.py\u001b[0m:545)\n"
     ]
    },
    {
     "data": {
      "text/html": [
       "<style type=\"text/css\">\n",
       "</style>\n",
       "<table id=\"T_d6936\">\n",
       "  <thead>\n",
       "    <tr>\n",
       "      <th class=\"index_name level0\" >Shell No.</th>\n",
       "      <th id=\"T_d6936_level0_col0\" class=\"col_heading level0 col0\" >t_rad</th>\n",
       "      <th id=\"T_d6936_level0_col1\" class=\"col_heading level0 col1\" >next_t_rad</th>\n",
       "      <th id=\"T_d6936_level0_col2\" class=\"col_heading level0 col2\" >w</th>\n",
       "      <th id=\"T_d6936_level0_col3\" class=\"col_heading level0 col3\" >next_w</th>\n",
       "    </tr>\n",
       "  </thead>\n",
       "  <tbody>\n",
       "    <tr>\n",
       "      <th id=\"T_d6936_level0_row0\" class=\"row_heading level0 row0\" >0</th>\n",
       "      <td id=\"T_d6936_row0_col0\" class=\"data row0 col0\" >9.93e+03 K</td>\n",
       "      <td id=\"T_d6936_row0_col1\" class=\"data row0 col1\" >1.03e+04 K</td>\n",
       "      <td id=\"T_d6936_row0_col2\" class=\"data row0 col2\" >0.4</td>\n",
       "      <td id=\"T_d6936_row0_col3\" class=\"data row0 col3\" >0.481</td>\n",
       "    </tr>\n",
       "    <tr>\n",
       "      <th id=\"T_d6936_level0_row1\" class=\"row_heading level0 row1\" >5</th>\n",
       "      <td id=\"T_d6936_row1_col0\" class=\"data row1 col0\" >9.85e+03 K</td>\n",
       "      <td id=\"T_d6936_row1_col1\" class=\"data row1 col1\" >1.03e+04 K</td>\n",
       "      <td id=\"T_d6936_row1_col2\" class=\"data row1 col2\" >0.211</td>\n",
       "      <td id=\"T_d6936_row1_col3\" class=\"data row1 col3\" >0.193</td>\n",
       "    </tr>\n",
       "    <tr>\n",
       "      <th id=\"T_d6936_level0_row2\" class=\"row_heading level0 row2\" >10</th>\n",
       "      <td id=\"T_d6936_row2_col0\" class=\"data row2 col0\" >9.78e+03 K</td>\n",
       "      <td id=\"T_d6936_row2_col1\" class=\"data row2 col1\" >1.02e+04 K</td>\n",
       "      <td id=\"T_d6936_row2_col2\" class=\"data row2 col2\" >0.143</td>\n",
       "      <td id=\"T_d6936_row2_col3\" class=\"data row2 col3\" >0.112</td>\n",
       "    </tr>\n",
       "    <tr>\n",
       "      <th id=\"T_d6936_level0_row3\" class=\"row_heading level0 row3\" >15</th>\n",
       "      <td id=\"T_d6936_row3_col0\" class=\"data row3 col0\" >9.71e+03 K</td>\n",
       "      <td id=\"T_d6936_row3_col1\" class=\"data row3 col1\" >9.98e+03 K</td>\n",
       "      <td id=\"T_d6936_row3_col2\" class=\"data row3 col2\" >0.105</td>\n",
       "      <td id=\"T_d6936_row3_col3\" class=\"data row3 col3\" >0.0826</td>\n",
       "    </tr>\n",
       "  </tbody>\n",
       "</table>\n"
      ],
      "text/plain": [
       "<pandas.io.formats.style.Styler at 0x7f29377d6ad0>"
      ]
     },
     "metadata": {},
     "output_type": "display_data"
    },
    {
     "name": "stdout",
     "output_type": "stream",
     "text": [
      "[\u001b[1mtardis.simulation.base\u001b[0m][\u001b[1;37mINFO\u001b[0m   ]  \n",
      "\t\n",
      "\tCurrent t_inner = 9933.952 K\n",
      "\tExpected t_inner for next iteration = 11468.808 K\n",
      " (\u001b[1mbase.py\u001b[0m:572)\n"
     ]
    },
    {
     "name": "stdout",
     "output_type": "stream",
     "text": [
      "[\u001b[1mpy.warnings         \u001b[0m][\u001b[1;33mWARNING\u001b[0m]  \n",
      "\t/home/runner/work/tardis/tardis/tardis/plasma/properties/radiative_properties.py:93: RuntimeWarning: invalid value encountered in divide\n",
      "  (g_lower * n_upper) / (g_upper * n_lower)\n",
      " (\u001b[1mwarnings.py\u001b[0m:109)\n"
     ]
    },
    {
     "name": "stdout",
     "output_type": "stream",
     "text": [
      "[\u001b[1mtardis.simulation.base\u001b[0m][\u001b[1;37mINFO\u001b[0m   ]  \n",
      "\t\n",
      "\tStarting iteration 2 of 5 (\u001b[1mbase.py\u001b[0m:395)\n"
     ]
    },
    {
     "name": "stdout",
     "output_type": "stream",
     "text": [
      "[\u001b[1mtardis.simulation.base\u001b[0m][\u001b[1;37mINFO\u001b[0m   ]  \n",
      "\t\n",
      "\tLuminosity emitted   = 1.413e+43 erg / s\n",
      "\tLuminosity absorbed  = 4.704e+42 erg / s\n",
      "\tLuminosity requested = 1.059e+43 erg / s\n",
      " (\u001b[1mbase.py\u001b[0m:577)\n"
     ]
    },
    {
     "name": "stdout",
     "output_type": "stream",
     "text": [
      "[\u001b[1mtardis.simulation.base\u001b[0m][\u001b[1;37mINFO\u001b[0m   ]  \n",
      "\t\n",
      "\tPlasma stratification: (\u001b[1mbase.py\u001b[0m:545)\n"
     ]
    },
    {
     "data": {
      "text/html": [
       "<style type=\"text/css\">\n",
       "</style>\n",
       "<table id=\"T_ae1be\">\n",
       "  <thead>\n",
       "    <tr>\n",
       "      <th class=\"index_name level0\" >Shell No.</th>\n",
       "      <th id=\"T_ae1be_level0_col0\" class=\"col_heading level0 col0\" >t_rad</th>\n",
       "      <th id=\"T_ae1be_level0_col1\" class=\"col_heading level0 col1\" >next_t_rad</th>\n",
       "      <th id=\"T_ae1be_level0_col2\" class=\"col_heading level0 col2\" >w</th>\n",
       "      <th id=\"T_ae1be_level0_col3\" class=\"col_heading level0 col3\" >next_w</th>\n",
       "    </tr>\n",
       "  </thead>\n",
       "  <tbody>\n",
       "    <tr>\n",
       "      <th id=\"T_ae1be_level0_row0\" class=\"row_heading level0 row0\" >0</th>\n",
       "      <td id=\"T_ae1be_row0_col0\" class=\"data row0 col0\" >1.03e+04 K</td>\n",
       "      <td id=\"T_ae1be_row0_col1\" class=\"data row0 col1\" >1.15e+04 K</td>\n",
       "      <td id=\"T_ae1be_row0_col2\" class=\"data row0 col2\" >0.481</td>\n",
       "      <td id=\"T_ae1be_row0_col3\" class=\"data row0 col3\" >0.555</td>\n",
       "    </tr>\n",
       "    <tr>\n",
       "      <th id=\"T_ae1be_level0_row1\" class=\"row_heading level0 row1\" >5</th>\n",
       "      <td id=\"T_ae1be_row1_col0\" class=\"data row1 col0\" >1.03e+04 K</td>\n",
       "      <td id=\"T_ae1be_row1_col1\" class=\"data row1 col1\" >1.17e+04 K</td>\n",
       "      <td id=\"T_ae1be_row1_col2\" class=\"data row1 col2\" >0.193</td>\n",
       "      <td id=\"T_ae1be_row1_col3\" class=\"data row1 col3\" >0.203</td>\n",
       "    </tr>\n",
       "    <tr>\n",
       "      <th id=\"T_ae1be_level0_row2\" class=\"row_heading level0 row2\" >10</th>\n",
       "      <td id=\"T_ae1be_row2_col0\" class=\"data row2 col0\" >1.02e+04 K</td>\n",
       "      <td id=\"T_ae1be_row2_col1\" class=\"data row2 col1\" >1.13e+04 K</td>\n",
       "      <td id=\"T_ae1be_row2_col2\" class=\"data row2 col2\" >0.112</td>\n",
       "      <td id=\"T_ae1be_row2_col3\" class=\"data row2 col3\" >0.135</td>\n",
       "    </tr>\n",
       "    <tr>\n",
       "      <th id=\"T_ae1be_level0_row3\" class=\"row_heading level0 row3\" >15</th>\n",
       "      <td id=\"T_ae1be_row3_col0\" class=\"data row3 col0\" >9.98e+03 K</td>\n",
       "      <td id=\"T_ae1be_row3_col1\" class=\"data row3 col1\" >1.1e+04 K</td>\n",
       "      <td id=\"T_ae1be_row3_col2\" class=\"data row3 col2\" >0.0826</td>\n",
       "      <td id=\"T_ae1be_row3_col3\" class=\"data row3 col3\" >0.0998</td>\n",
       "    </tr>\n",
       "  </tbody>\n",
       "</table>\n"
      ],
      "text/plain": [
       "<pandas.io.formats.style.Styler at 0x7f2952312210>"
      ]
     },
     "metadata": {},
     "output_type": "display_data"
    },
    {
     "name": "stdout",
     "output_type": "stream",
     "text": [
      "[\u001b[1mtardis.simulation.base\u001b[0m][\u001b[1;37mINFO\u001b[0m   ]  \n",
      "\t\n",
      "\tCurrent t_inner = 11468.808 K\n",
      "\tExpected t_inner for next iteration = 9929.475 K\n",
      " (\u001b[1mbase.py\u001b[0m:572)\n"
     ]
    },
    {
     "name": "stdout",
     "output_type": "stream",
     "text": [
      "[\u001b[1mpy.warnings         \u001b[0m][\u001b[1;33mWARNING\u001b[0m]  \n",
      "\t/home/runner/work/tardis/tardis/tardis/plasma/properties/radiative_properties.py:93: RuntimeWarning: invalid value encountered in divide\n",
      "  (g_lower * n_upper) / (g_upper * n_lower)\n",
      " (\u001b[1mwarnings.py\u001b[0m:109)\n"
     ]
    },
    {
     "name": "stdout",
     "output_type": "stream",
     "text": [
      "[\u001b[1mtardis.simulation.base\u001b[0m][\u001b[1;37mINFO\u001b[0m   ]  \n",
      "\t\n",
      "\tStarting iteration 3 of 5 (\u001b[1mbase.py\u001b[0m:395)\n"
     ]
    },
    {
     "name": "stdout",
     "output_type": "stream",
     "text": [
      "[\u001b[1mtardis.simulation.base\u001b[0m][\u001b[1;37mINFO\u001b[0m   ]  \n",
      "\t\n",
      "\tLuminosity emitted   = 8.259e+42 erg / s\n",
      "\tLuminosity absorbed  = 2.337e+42 erg / s\n",
      "\tLuminosity requested = 1.059e+43 erg / s\n",
      " (\u001b[1mbase.py\u001b[0m:577)\n"
     ]
    },
    {
     "name": "stdout",
     "output_type": "stream",
     "text": [
      "[\u001b[1mtardis.simulation.base\u001b[0m][\u001b[1;37mINFO\u001b[0m   ]  \n",
      "\t\n",
      "\tPlasma stratification: (\u001b[1mbase.py\u001b[0m:545)\n"
     ]
    },
    {
     "data": {
      "text/html": [
       "<style type=\"text/css\">\n",
       "</style>\n",
       "<table id=\"T_55734\">\n",
       "  <thead>\n",
       "    <tr>\n",
       "      <th class=\"index_name level0\" >Shell No.</th>\n",
       "      <th id=\"T_55734_level0_col0\" class=\"col_heading level0 col0\" >t_rad</th>\n",
       "      <th id=\"T_55734_level0_col1\" class=\"col_heading level0 col1\" >next_t_rad</th>\n",
       "      <th id=\"T_55734_level0_col2\" class=\"col_heading level0 col2\" >w</th>\n",
       "      <th id=\"T_55734_level0_col3\" class=\"col_heading level0 col3\" >next_w</th>\n",
       "    </tr>\n",
       "  </thead>\n",
       "  <tbody>\n",
       "    <tr>\n",
       "      <th id=\"T_55734_level0_row0\" class=\"row_heading level0 row0\" >0</th>\n",
       "      <td id=\"T_55734_row0_col0\" class=\"data row0 col0\" >1.15e+04 K</td>\n",
       "      <td id=\"T_55734_row0_col1\" class=\"data row0 col1\" >1.03e+04 K</td>\n",
       "      <td id=\"T_55734_row0_col2\" class=\"data row0 col2\" >0.555</td>\n",
       "      <td id=\"T_55734_row0_col3\" class=\"data row0 col3\" >0.468</td>\n",
       "    </tr>\n",
       "    <tr>\n",
       "      <th id=\"T_55734_level0_row1\" class=\"row_heading level0 row1\" >5</th>\n",
       "      <td id=\"T_55734_row1_col0\" class=\"data row1 col0\" >1.17e+04 K</td>\n",
       "      <td id=\"T_55734_row1_col1\" class=\"data row1 col1\" >1.05e+04 K</td>\n",
       "      <td id=\"T_55734_row1_col2\" class=\"data row1 col2\" >0.203</td>\n",
       "      <td id=\"T_55734_row1_col3\" class=\"data row1 col3\" >0.181</td>\n",
       "    </tr>\n",
       "    <tr>\n",
       "      <th id=\"T_55734_level0_row2\" class=\"row_heading level0 row2\" >10</th>\n",
       "      <td id=\"T_55734_row2_col0\" class=\"data row2 col0\" >1.13e+04 K</td>\n",
       "      <td id=\"T_55734_row2_col1\" class=\"data row2 col1\" >1.05e+04 K</td>\n",
       "      <td id=\"T_55734_row2_col2\" class=\"data row2 col2\" >0.135</td>\n",
       "      <td id=\"T_55734_row2_col3\" class=\"data row2 col3\" >0.108</td>\n",
       "    </tr>\n",
       "    <tr>\n",
       "      <th id=\"T_55734_level0_row3\" class=\"row_heading level0 row3\" >15</th>\n",
       "      <td id=\"T_55734_row3_col0\" class=\"data row3 col0\" >1.1e+04 K</td>\n",
       "      <td id=\"T_55734_row3_col1\" class=\"data row3 col1\" >1.03e+04 K</td>\n",
       "      <td id=\"T_55734_row3_col2\" class=\"data row3 col2\" >0.0998</td>\n",
       "      <td id=\"T_55734_row3_col3\" class=\"data row3 col3\" >0.0779</td>\n",
       "    </tr>\n",
       "  </tbody>\n",
       "</table>\n"
      ],
      "text/plain": [
       "<pandas.io.formats.style.Styler at 0x7f295718fad0>"
      ]
     },
     "metadata": {},
     "output_type": "display_data"
    },
    {
     "name": "stdout",
     "output_type": "stream",
     "text": [
      "[\u001b[1mtardis.simulation.base\u001b[0m][\u001b[1;37mINFO\u001b[0m   ]  \n",
      "\t\n",
      "\tCurrent t_inner = 9929.475 K\n",
      "\tExpected t_inner for next iteration = 11245.497 K\n",
      " (\u001b[1mbase.py\u001b[0m:572)\n"
     ]
    },
    {
     "name": "stdout",
     "output_type": "stream",
     "text": [
      "[\u001b[1mpy.warnings         \u001b[0m][\u001b[1;33mWARNING\u001b[0m]  \n",
      "\t/home/runner/work/tardis/tardis/tardis/plasma/properties/radiative_properties.py:93: RuntimeWarning: invalid value encountered in divide\n",
      "  (g_lower * n_upper) / (g_upper * n_lower)\n",
      " (\u001b[1mwarnings.py\u001b[0m:109)\n"
     ]
    },
    {
     "name": "stdout",
     "output_type": "stream",
     "text": [
      "[\u001b[1mtardis.simulation.base\u001b[0m][\u001b[1;37mINFO\u001b[0m   ]  \n",
      "\t\n",
      "\tStarting iteration 4 of 5 (\u001b[1mbase.py\u001b[0m:395)\n"
     ]
    },
    {
     "name": "stdout",
     "output_type": "stream",
     "text": [
      "[\u001b[1mtardis.simulation.base\u001b[0m][\u001b[1;37mINFO\u001b[0m   ]  \n",
      "\t\n",
      "\tLuminosity emitted   = 1.299e+43 erg / s\n",
      "\tLuminosity absorbed  = 4.407e+42 erg / s\n",
      "\tLuminosity requested = 1.059e+43 erg / s\n",
      " (\u001b[1mbase.py\u001b[0m:577)\n"
     ]
    },
    {
     "name": "stdout",
     "output_type": "stream",
     "text": [
      "[\u001b[1mtardis.simulation.base\u001b[0m][\u001b[1;37mINFO\u001b[0m   ]  \n",
      "\t\n",
      "\tPlasma stratification: (\u001b[1mbase.py\u001b[0m:545)\n"
     ]
    },
    {
     "data": {
      "text/html": [
       "<style type=\"text/css\">\n",
       "</style>\n",
       "<table id=\"T_724ca\">\n",
       "  <thead>\n",
       "    <tr>\n",
       "      <th class=\"index_name level0\" >Shell No.</th>\n",
       "      <th id=\"T_724ca_level0_col0\" class=\"col_heading level0 col0\" >t_rad</th>\n",
       "      <th id=\"T_724ca_level0_col1\" class=\"col_heading level0 col1\" >next_t_rad</th>\n",
       "      <th id=\"T_724ca_level0_col2\" class=\"col_heading level0 col2\" >w</th>\n",
       "      <th id=\"T_724ca_level0_col3\" class=\"col_heading level0 col3\" >next_w</th>\n",
       "    </tr>\n",
       "  </thead>\n",
       "  <tbody>\n",
       "    <tr>\n",
       "      <th id=\"T_724ca_level0_row0\" class=\"row_heading level0 row0\" >0</th>\n",
       "      <td id=\"T_724ca_row0_col0\" class=\"data row0 col0\" >1.03e+04 K</td>\n",
       "      <td id=\"T_724ca_row0_col1\" class=\"data row0 col1\" >1.14e+04 K</td>\n",
       "      <td id=\"T_724ca_row0_col2\" class=\"data row0 col2\" >0.468</td>\n",
       "      <td id=\"T_724ca_row0_col3\" class=\"data row0 col3\" >0.527</td>\n",
       "    </tr>\n",
       "    <tr>\n",
       "      <th id=\"T_724ca_level0_row1\" class=\"row_heading level0 row1\" >5</th>\n",
       "      <td id=\"T_724ca_row1_col0\" class=\"data row1 col0\" >1.05e+04 K</td>\n",
       "      <td id=\"T_724ca_row1_col1\" class=\"data row1 col1\" >1.13e+04 K</td>\n",
       "      <td id=\"T_724ca_row1_col2\" class=\"data row1 col2\" >0.181</td>\n",
       "      <td id=\"T_724ca_row1_col3\" class=\"data row1 col3\" >0.225</td>\n",
       "    </tr>\n",
       "    <tr>\n",
       "      <th id=\"T_724ca_level0_row2\" class=\"row_heading level0 row2\" >10</th>\n",
       "      <td id=\"T_724ca_row2_col0\" class=\"data row2 col0\" >1.05e+04 K</td>\n",
       "      <td id=\"T_724ca_row2_col1\" class=\"data row2 col1\" >1.12e+04 K</td>\n",
       "      <td id=\"T_724ca_row2_col2\" class=\"data row2 col2\" >0.108</td>\n",
       "      <td id=\"T_724ca_row2_col3\" class=\"data row2 col3\" >0.126</td>\n",
       "    </tr>\n",
       "    <tr>\n",
       "      <th id=\"T_724ca_level0_row3\" class=\"row_heading level0 row3\" >15</th>\n",
       "      <td id=\"T_724ca_row3_col0\" class=\"data row3 col0\" >1.03e+04 K</td>\n",
       "      <td id=\"T_724ca_row3_col1\" class=\"data row3 col1\" >1.1e+04 K</td>\n",
       "      <td id=\"T_724ca_row3_col2\" class=\"data row3 col2\" >0.0779</td>\n",
       "      <td id=\"T_724ca_row3_col3\" class=\"data row3 col3\" >0.0926</td>\n",
       "    </tr>\n",
       "  </tbody>\n",
       "</table>\n"
      ],
      "text/plain": [
       "<pandas.io.formats.style.Styler at 0x7f2956e4c7d0>"
      ]
     },
     "metadata": {},
     "output_type": "display_data"
    },
    {
     "name": "stdout",
     "output_type": "stream",
     "text": [
      "[\u001b[1mtardis.simulation.base\u001b[0m][\u001b[1;37mINFO\u001b[0m   ]  \n",
      "\t\n",
      "\tCurrent t_inner = 11245.497 K\n",
      "\tExpected t_inner for next iteration = 10153.431 K\n",
      " (\u001b[1mbase.py\u001b[0m:572)\n"
     ]
    },
    {
     "name": "stdout",
     "output_type": "stream",
     "text": [
      "[\u001b[1mpy.warnings         \u001b[0m][\u001b[1;33mWARNING\u001b[0m]  \n",
      "\t/home/runner/work/tardis/tardis/tardis/plasma/properties/radiative_properties.py:93: RuntimeWarning: invalid value encountered in divide\n",
      "  (g_lower * n_upper) / (g_upper * n_lower)\n",
      " (\u001b[1mwarnings.py\u001b[0m:109)\n"
     ]
    },
    {
     "name": "stdout",
     "output_type": "stream",
     "text": [
      "[\u001b[1mtardis.simulation.base\u001b[0m][\u001b[1;37mINFO\u001b[0m   ]  \n",
      "\t\n",
      "\tSimulation finished in 4 iterations \n",
      "\tSimulation took 0.36 s\n",
      " (\u001b[1mbase.py\u001b[0m:473)\n"
     ]
    },
    {
     "name": "stdout",
     "output_type": "stream",
     "text": [
      "[\u001b[1mtardis.simulation.base\u001b[0m][\u001b[1;37mINFO\u001b[0m   ]  \n",
      "\t\n",
      "\tStarting iteration 5 of 5 (\u001b[1mbase.py\u001b[0m:395)\n"
     ]
    },
    {
     "name": "stdout",
     "output_type": "stream",
     "text": [
      "[\u001b[1mtardis.simulation.base\u001b[0m][\u001b[1;37mINFO\u001b[0m   ]  \n",
      "\t\n",
      "\tLuminosity emitted   = 8.742e+42 erg / s\n",
      "\tLuminosity absorbed  = 2.834e+42 erg / s\n",
      "\tLuminosity requested = 1.059e+43 erg / s\n",
      " (\u001b[1mbase.py\u001b[0m:577)\n"
     ]
    }
   ],
   "source": [
    "sim = run_tardis(config, log_level=\"Info\")"
   ]
  },
  {
   "cell_type": "markdown",
   "id": "674f4972",
   "metadata": {},
   "source": [
    "A new message can be seen from the execution of the simulation,\n",
    "```\n",
    "log_level is defined both in Functional Argument & YAML Configuration {debug section}\n",
    "log_level = Info will be used for Log Level Determination\n",
    "```\n",
    "that is informing the user which input log level value will determine the logging level. Thus, `log_level = \"Info\"` is used for logging the simulation output."
   ]
  },
  {
   "cell_type": "markdown",
   "id": "9ff806bd",
   "metadata": {},
   "source": [
    "In regards to the `specific_log_level` parameter, if any of the config input value is `True`, then `specific_log_level` will be set to `True` for the simulation output."
   ]
  },
  {
   "cell_type": "code",
   "execution_count": 16,
   "id": "5d1900f5",
   "metadata": {
    "execution": {
     "iopub.execute_input": "2024-05-28T10:51:52.861243Z",
     "iopub.status.busy": "2024-05-28T10:51:52.861072Z",
     "iopub.status.idle": "2024-05-28T10:51:54.601026Z",
     "shell.execute_reply": "2024-05-28T10:51:54.600546Z"
    },
    "scrolled": false
   },
   "outputs": [
    {
     "name": "stdout",
     "output_type": "stream",
     "text": [
      "log_level is defined both in Functional Argument & YAML Configuration {debug section}\n",
      "log_level = INFO will be used for Log Level Determination\n",
      "\n",
      "[\u001b[1mtardis.simulation.base\u001b[0m][\u001b[1;37mINFO\u001b[0m   ]  \n",
      "\t\n",
      "\tReading Atomic Data from kurucz_cd23_chianti_H_He.h5 (\u001b[1mbase.py\u001b[0m:679)\n"
     ]
    },
    {
     "name": "stdout",
     "output_type": "stream",
     "text": [
      "[\u001b[1mtardis.io.atom_data.util\u001b[0m][\u001b[1;37mINFO\u001b[0m   ]  \n",
      "\t\n",
      "\tAtom Data kurucz_cd23_chianti_H_He.h5 not found in local path.\n",
      "\tExists in TARDIS Data repo /home/runner/Downloads/tardis-data/kurucz_cd23_chianti_H_He.h5 (\u001b[1mutil.py\u001b[0m:36)\n"
     ]
    },
    {
     "name": "stdout",
     "output_type": "stream",
     "text": [
      "[\u001b[1mtardis.io.atom_data.base\u001b[0m][\u001b[1;37mINFO\u001b[0m   ]  \n",
      "\tReading Atom Data with: UUID = 6f7b09e887a311e7a06b246e96350010 MD5  = 864f1753714343c41f99cb065710cace  (\u001b[1mbase.py\u001b[0m:258)\n"
     ]
    },
    {
     "name": "stdout",
     "output_type": "stream",
     "text": [
      "[\u001b[1mtardis.io.atom_data.base\u001b[0m][\u001b[1;37mINFO\u001b[0m   ]  \n",
      "\tNon provided Atomic Data: synpp_refs, photoionization_data, yg_data, two_photon_data, linelist (\u001b[1mbase.py\u001b[0m:262)\n"
     ]
    },
    {
     "name": "stdout",
     "output_type": "stream",
     "text": [
      "[\u001b[1mtardis.model.parse_input\u001b[0m][\u001b[1;33mWARNING\u001b[0m]  \n",
      "\tNumber of density points larger than number of shells. Assuming inner point irrelevant (\u001b[1mparse_input.py\u001b[0m:107)\n"
     ]
    },
    {
     "name": "stdout",
     "output_type": "stream",
     "text": [
      "[\u001b[1mtardis.model.matter.decay\u001b[0m][\u001b[1;37mINFO\u001b[0m   ]  \n",
      "\tDecaying abundances for 1123200.0 seconds (\u001b[1mdecay.py\u001b[0m:101)\n"
     ]
    },
    {
     "name": "stdout",
     "output_type": "stream",
     "text": [
      "[\u001b[1mpy.warnings         \u001b[0m][\u001b[1;33mWARNING\u001b[0m]  \n",
      "\t/home/runner/work/tardis/tardis/tardis/plasma/properties/radiative_properties.py:93: RuntimeWarning: invalid value encountered in divide\n",
      "  (g_lower * n_upper) / (g_upper * n_lower)\n",
      " (\u001b[1mwarnings.py\u001b[0m:109)\n"
     ]
    },
    {
     "name": "stdout",
     "output_type": "stream",
     "text": [
      "[\u001b[1mpy.warnings         \u001b[0m][\u001b[1;33mWARNING\u001b[0m]  \n",
      "\t/home/runner/work/tardis/tardis/tardis/plasma/properties/radiative_properties.py:93: RuntimeWarning: invalid value encountered in divide\n",
      "  (g_lower * n_upper) / (g_upper * n_lower)\n",
      " (\u001b[1mwarnings.py\u001b[0m:109)\n"
     ]
    },
    {
     "name": "stdout",
     "output_type": "stream",
     "text": [
      "[\u001b[1mtardis.simulation.base\u001b[0m][\u001b[1;37mINFO\u001b[0m   ]  \n",
      "\t\n",
      "\tStarting iteration 1 of 5 (\u001b[1mbase.py\u001b[0m:395)\n"
     ]
    },
    {
     "data": {
      "application/vnd.jupyter.widget-view+json": {
       "model_id": "4c9712572a244f65a8895f9eb9a72b8b",
       "version_major": 2,
       "version_minor": 0
      },
      "text/plain": [
       "TqdmHBox(children=(HTML(value='Iterations:', layout=Layout(width='6%')), FloatProgress(value=0.0, layout=Layou…"
      ]
     },
     "metadata": {},
     "output_type": "display_data"
    },
    {
     "data": {
      "application/vnd.jupyter.widget-view+json": {
       "model_id": "34c382cb0d0549af9fe2794a77a441f1",
       "version_major": 2,
       "version_minor": 0
      },
      "text/plain": [
       "TqdmHBox(children=(HTML(value='Packets:   ', layout=Layout(width='6%')), FloatProgress(value=0.0, layout=Layou…"
      ]
     },
     "metadata": {},
     "output_type": "display_data"
    },
    {
     "name": "stdout",
     "output_type": "stream",
     "text": [
      "[\u001b[1mtardis.simulation.base\u001b[0m][\u001b[1;37mINFO\u001b[0m   ]  \n",
      "\t\n",
      "\tLuminosity emitted   = 7.947e+42 erg / s\n",
      "\tLuminosity absorbed  = 2.654e+42 erg / s\n",
      "\tLuminosity requested = 1.059e+43 erg / s\n",
      " (\u001b[1mbase.py\u001b[0m:577)\n"
     ]
    },
    {
     "name": "stdout",
     "output_type": "stream",
     "text": [
      "[\u001b[1mtardis.simulation.base\u001b[0m][\u001b[1;37mINFO\u001b[0m   ]  \n",
      "\t\n",
      "\tPlasma stratification: (\u001b[1mbase.py\u001b[0m:545)\n"
     ]
    },
    {
     "data": {
      "text/html": [
       "<style type=\"text/css\">\n",
       "</style>\n",
       "<table id=\"T_41d92\">\n",
       "  <thead>\n",
       "    <tr>\n",
       "      <th class=\"index_name level0\" >Shell No.</th>\n",
       "      <th id=\"T_41d92_level0_col0\" class=\"col_heading level0 col0\" >t_rad</th>\n",
       "      <th id=\"T_41d92_level0_col1\" class=\"col_heading level0 col1\" >next_t_rad</th>\n",
       "      <th id=\"T_41d92_level0_col2\" class=\"col_heading level0 col2\" >w</th>\n",
       "      <th id=\"T_41d92_level0_col3\" class=\"col_heading level0 col3\" >next_w</th>\n",
       "    </tr>\n",
       "  </thead>\n",
       "  <tbody>\n",
       "    <tr>\n",
       "      <th id=\"T_41d92_level0_row0\" class=\"row_heading level0 row0\" >0</th>\n",
       "      <td id=\"T_41d92_row0_col0\" class=\"data row0 col0\" >9.93e+03 K</td>\n",
       "      <td id=\"T_41d92_row0_col1\" class=\"data row0 col1\" >1.03e+04 K</td>\n",
       "      <td id=\"T_41d92_row0_col2\" class=\"data row0 col2\" >0.4</td>\n",
       "      <td id=\"T_41d92_row0_col3\" class=\"data row0 col3\" >0.481</td>\n",
       "    </tr>\n",
       "    <tr>\n",
       "      <th id=\"T_41d92_level0_row1\" class=\"row_heading level0 row1\" >5</th>\n",
       "      <td id=\"T_41d92_row1_col0\" class=\"data row1 col0\" >9.85e+03 K</td>\n",
       "      <td id=\"T_41d92_row1_col1\" class=\"data row1 col1\" >1.03e+04 K</td>\n",
       "      <td id=\"T_41d92_row1_col2\" class=\"data row1 col2\" >0.211</td>\n",
       "      <td id=\"T_41d92_row1_col3\" class=\"data row1 col3\" >0.193</td>\n",
       "    </tr>\n",
       "    <tr>\n",
       "      <th id=\"T_41d92_level0_row2\" class=\"row_heading level0 row2\" >10</th>\n",
       "      <td id=\"T_41d92_row2_col0\" class=\"data row2 col0\" >9.78e+03 K</td>\n",
       "      <td id=\"T_41d92_row2_col1\" class=\"data row2 col1\" >1.02e+04 K</td>\n",
       "      <td id=\"T_41d92_row2_col2\" class=\"data row2 col2\" >0.143</td>\n",
       "      <td id=\"T_41d92_row2_col3\" class=\"data row2 col3\" >0.112</td>\n",
       "    </tr>\n",
       "    <tr>\n",
       "      <th id=\"T_41d92_level0_row3\" class=\"row_heading level0 row3\" >15</th>\n",
       "      <td id=\"T_41d92_row3_col0\" class=\"data row3 col0\" >9.71e+03 K</td>\n",
       "      <td id=\"T_41d92_row3_col1\" class=\"data row3 col1\" >9.98e+03 K</td>\n",
       "      <td id=\"T_41d92_row3_col2\" class=\"data row3 col2\" >0.105</td>\n",
       "      <td id=\"T_41d92_row3_col3\" class=\"data row3 col3\" >0.0826</td>\n",
       "    </tr>\n",
       "  </tbody>\n",
       "</table>\n"
      ],
      "text/plain": [
       "<pandas.io.formats.style.Styler at 0x7f294d8a4610>"
      ]
     },
     "metadata": {},
     "output_type": "display_data"
    },
    {
     "name": "stdout",
     "output_type": "stream",
     "text": [
      "[\u001b[1mtardis.simulation.base\u001b[0m][\u001b[1;37mINFO\u001b[0m   ]  \n",
      "\t\n",
      "\tCurrent t_inner = 9933.952 K\n",
      "\tExpected t_inner for next iteration = 11468.808 K\n",
      " (\u001b[1mbase.py\u001b[0m:572)\n"
     ]
    },
    {
     "name": "stdout",
     "output_type": "stream",
     "text": [
      "[\u001b[1mpy.warnings         \u001b[0m][\u001b[1;33mWARNING\u001b[0m]  \n",
      "\t/home/runner/work/tardis/tardis/tardis/plasma/properties/radiative_properties.py:93: RuntimeWarning: invalid value encountered in divide\n",
      "  (g_lower * n_upper) / (g_upper * n_lower)\n",
      " (\u001b[1mwarnings.py\u001b[0m:109)\n"
     ]
    },
    {
     "name": "stdout",
     "output_type": "stream",
     "text": [
      "[\u001b[1mtardis.simulation.base\u001b[0m][\u001b[1;37mINFO\u001b[0m   ]  \n",
      "\t\n",
      "\tStarting iteration 2 of 5 (\u001b[1mbase.py\u001b[0m:395)\n"
     ]
    },
    {
     "name": "stdout",
     "output_type": "stream",
     "text": [
      "[\u001b[1mtardis.simulation.base\u001b[0m][\u001b[1;37mINFO\u001b[0m   ]  \n",
      "\t\n",
      "\tLuminosity emitted   = 1.413e+43 erg / s\n",
      "\tLuminosity absorbed  = 4.704e+42 erg / s\n",
      "\tLuminosity requested = 1.059e+43 erg / s\n",
      " (\u001b[1mbase.py\u001b[0m:577)\n"
     ]
    },
    {
     "name": "stdout",
     "output_type": "stream",
     "text": [
      "[\u001b[1mtardis.simulation.base\u001b[0m][\u001b[1;37mINFO\u001b[0m   ]  \n",
      "\t\n",
      "\tPlasma stratification: (\u001b[1mbase.py\u001b[0m:545)\n"
     ]
    },
    {
     "data": {
      "text/html": [
       "<style type=\"text/css\">\n",
       "</style>\n",
       "<table id=\"T_1f1de\">\n",
       "  <thead>\n",
       "    <tr>\n",
       "      <th class=\"index_name level0\" >Shell No.</th>\n",
       "      <th id=\"T_1f1de_level0_col0\" class=\"col_heading level0 col0\" >t_rad</th>\n",
       "      <th id=\"T_1f1de_level0_col1\" class=\"col_heading level0 col1\" >next_t_rad</th>\n",
       "      <th id=\"T_1f1de_level0_col2\" class=\"col_heading level0 col2\" >w</th>\n",
       "      <th id=\"T_1f1de_level0_col3\" class=\"col_heading level0 col3\" >next_w</th>\n",
       "    </tr>\n",
       "  </thead>\n",
       "  <tbody>\n",
       "    <tr>\n",
       "      <th id=\"T_1f1de_level0_row0\" class=\"row_heading level0 row0\" >0</th>\n",
       "      <td id=\"T_1f1de_row0_col0\" class=\"data row0 col0\" >1.03e+04 K</td>\n",
       "      <td id=\"T_1f1de_row0_col1\" class=\"data row0 col1\" >1.15e+04 K</td>\n",
       "      <td id=\"T_1f1de_row0_col2\" class=\"data row0 col2\" >0.481</td>\n",
       "      <td id=\"T_1f1de_row0_col3\" class=\"data row0 col3\" >0.555</td>\n",
       "    </tr>\n",
       "    <tr>\n",
       "      <th id=\"T_1f1de_level0_row1\" class=\"row_heading level0 row1\" >5</th>\n",
       "      <td id=\"T_1f1de_row1_col0\" class=\"data row1 col0\" >1.03e+04 K</td>\n",
       "      <td id=\"T_1f1de_row1_col1\" class=\"data row1 col1\" >1.17e+04 K</td>\n",
       "      <td id=\"T_1f1de_row1_col2\" class=\"data row1 col2\" >0.193</td>\n",
       "      <td id=\"T_1f1de_row1_col3\" class=\"data row1 col3\" >0.203</td>\n",
       "    </tr>\n",
       "    <tr>\n",
       "      <th id=\"T_1f1de_level0_row2\" class=\"row_heading level0 row2\" >10</th>\n",
       "      <td id=\"T_1f1de_row2_col0\" class=\"data row2 col0\" >1.02e+04 K</td>\n",
       "      <td id=\"T_1f1de_row2_col1\" class=\"data row2 col1\" >1.13e+04 K</td>\n",
       "      <td id=\"T_1f1de_row2_col2\" class=\"data row2 col2\" >0.112</td>\n",
       "      <td id=\"T_1f1de_row2_col3\" class=\"data row2 col3\" >0.135</td>\n",
       "    </tr>\n",
       "    <tr>\n",
       "      <th id=\"T_1f1de_level0_row3\" class=\"row_heading level0 row3\" >15</th>\n",
       "      <td id=\"T_1f1de_row3_col0\" class=\"data row3 col0\" >9.98e+03 K</td>\n",
       "      <td id=\"T_1f1de_row3_col1\" class=\"data row3 col1\" >1.1e+04 K</td>\n",
       "      <td id=\"T_1f1de_row3_col2\" class=\"data row3 col2\" >0.0826</td>\n",
       "      <td id=\"T_1f1de_row3_col3\" class=\"data row3 col3\" >0.0998</td>\n",
       "    </tr>\n",
       "  </tbody>\n",
       "</table>\n"
      ],
      "text/plain": [
       "<pandas.io.formats.style.Styler at 0x7f294d853ed0>"
      ]
     },
     "metadata": {},
     "output_type": "display_data"
    },
    {
     "name": "stdout",
     "output_type": "stream",
     "text": [
      "[\u001b[1mtardis.simulation.base\u001b[0m][\u001b[1;37mINFO\u001b[0m   ]  \n",
      "\t\n",
      "\tCurrent t_inner = 11468.808 K\n",
      "\tExpected t_inner for next iteration = 9929.475 K\n",
      " (\u001b[1mbase.py\u001b[0m:572)\n"
     ]
    },
    {
     "name": "stdout",
     "output_type": "stream",
     "text": [
      "[\u001b[1mpy.warnings         \u001b[0m][\u001b[1;33mWARNING\u001b[0m]  \n",
      "\t/home/runner/work/tardis/tardis/tardis/plasma/properties/radiative_properties.py:93: RuntimeWarning: invalid value encountered in divide\n",
      "  (g_lower * n_upper) / (g_upper * n_lower)\n",
      " (\u001b[1mwarnings.py\u001b[0m:109)\n"
     ]
    },
    {
     "name": "stdout",
     "output_type": "stream",
     "text": [
      "[\u001b[1mtardis.simulation.base\u001b[0m][\u001b[1;37mINFO\u001b[0m   ]  \n",
      "\t\n",
      "\tStarting iteration 3 of 5 (\u001b[1mbase.py\u001b[0m:395)\n"
     ]
    },
    {
     "name": "stdout",
     "output_type": "stream",
     "text": [
      "[\u001b[1mtardis.simulation.base\u001b[0m][\u001b[1;37mINFO\u001b[0m   ]  \n",
      "\t\n",
      "\tLuminosity emitted   = 8.259e+42 erg / s\n",
      "\tLuminosity absorbed  = 2.337e+42 erg / s\n",
      "\tLuminosity requested = 1.059e+43 erg / s\n",
      " (\u001b[1mbase.py\u001b[0m:577)\n"
     ]
    },
    {
     "name": "stdout",
     "output_type": "stream",
     "text": [
      "[\u001b[1mtardis.simulation.base\u001b[0m][\u001b[1;37mINFO\u001b[0m   ]  \n",
      "\t\n",
      "\tPlasma stratification: (\u001b[1mbase.py\u001b[0m:545)\n"
     ]
    },
    {
     "data": {
      "text/html": [
       "<style type=\"text/css\">\n",
       "</style>\n",
       "<table id=\"T_f048d\">\n",
       "  <thead>\n",
       "    <tr>\n",
       "      <th class=\"index_name level0\" >Shell No.</th>\n",
       "      <th id=\"T_f048d_level0_col0\" class=\"col_heading level0 col0\" >t_rad</th>\n",
       "      <th id=\"T_f048d_level0_col1\" class=\"col_heading level0 col1\" >next_t_rad</th>\n",
       "      <th id=\"T_f048d_level0_col2\" class=\"col_heading level0 col2\" >w</th>\n",
       "      <th id=\"T_f048d_level0_col3\" class=\"col_heading level0 col3\" >next_w</th>\n",
       "    </tr>\n",
       "  </thead>\n",
       "  <tbody>\n",
       "    <tr>\n",
       "      <th id=\"T_f048d_level0_row0\" class=\"row_heading level0 row0\" >0</th>\n",
       "      <td id=\"T_f048d_row0_col0\" class=\"data row0 col0\" >1.15e+04 K</td>\n",
       "      <td id=\"T_f048d_row0_col1\" class=\"data row0 col1\" >1.03e+04 K</td>\n",
       "      <td id=\"T_f048d_row0_col2\" class=\"data row0 col2\" >0.555</td>\n",
       "      <td id=\"T_f048d_row0_col3\" class=\"data row0 col3\" >0.468</td>\n",
       "    </tr>\n",
       "    <tr>\n",
       "      <th id=\"T_f048d_level0_row1\" class=\"row_heading level0 row1\" >5</th>\n",
       "      <td id=\"T_f048d_row1_col0\" class=\"data row1 col0\" >1.17e+04 K</td>\n",
       "      <td id=\"T_f048d_row1_col1\" class=\"data row1 col1\" >1.05e+04 K</td>\n",
       "      <td id=\"T_f048d_row1_col2\" class=\"data row1 col2\" >0.203</td>\n",
       "      <td id=\"T_f048d_row1_col3\" class=\"data row1 col3\" >0.181</td>\n",
       "    </tr>\n",
       "    <tr>\n",
       "      <th id=\"T_f048d_level0_row2\" class=\"row_heading level0 row2\" >10</th>\n",
       "      <td id=\"T_f048d_row2_col0\" class=\"data row2 col0\" >1.13e+04 K</td>\n",
       "      <td id=\"T_f048d_row2_col1\" class=\"data row2 col1\" >1.05e+04 K</td>\n",
       "      <td id=\"T_f048d_row2_col2\" class=\"data row2 col2\" >0.135</td>\n",
       "      <td id=\"T_f048d_row2_col3\" class=\"data row2 col3\" >0.108</td>\n",
       "    </tr>\n",
       "    <tr>\n",
       "      <th id=\"T_f048d_level0_row3\" class=\"row_heading level0 row3\" >15</th>\n",
       "      <td id=\"T_f048d_row3_col0\" class=\"data row3 col0\" >1.1e+04 K</td>\n",
       "      <td id=\"T_f048d_row3_col1\" class=\"data row3 col1\" >1.03e+04 K</td>\n",
       "      <td id=\"T_f048d_row3_col2\" class=\"data row3 col2\" >0.0998</td>\n",
       "      <td id=\"T_f048d_row3_col3\" class=\"data row3 col3\" >0.0779</td>\n",
       "    </tr>\n",
       "  </tbody>\n",
       "</table>\n"
      ],
      "text/plain": [
       "<pandas.io.formats.style.Styler at 0x7f295715fad0>"
      ]
     },
     "metadata": {},
     "output_type": "display_data"
    },
    {
     "name": "stdout",
     "output_type": "stream",
     "text": [
      "[\u001b[1mtardis.simulation.base\u001b[0m][\u001b[1;37mINFO\u001b[0m   ]  \n",
      "\t\n",
      "\tCurrent t_inner = 9929.475 K\n",
      "\tExpected t_inner for next iteration = 11245.497 K\n",
      " (\u001b[1mbase.py\u001b[0m:572)\n"
     ]
    },
    {
     "name": "stdout",
     "output_type": "stream",
     "text": [
      "[\u001b[1mpy.warnings         \u001b[0m][\u001b[1;33mWARNING\u001b[0m]  \n",
      "\t/home/runner/work/tardis/tardis/tardis/plasma/properties/radiative_properties.py:93: RuntimeWarning: invalid value encountered in divide\n",
      "  (g_lower * n_upper) / (g_upper * n_lower)\n",
      " (\u001b[1mwarnings.py\u001b[0m:109)\n"
     ]
    },
    {
     "name": "stdout",
     "output_type": "stream",
     "text": [
      "[\u001b[1mtardis.simulation.base\u001b[0m][\u001b[1;37mINFO\u001b[0m   ]  \n",
      "\t\n",
      "\tStarting iteration 4 of 5 (\u001b[1mbase.py\u001b[0m:395)\n"
     ]
    },
    {
     "name": "stdout",
     "output_type": "stream",
     "text": [
      "[\u001b[1mtardis.simulation.base\u001b[0m][\u001b[1;37mINFO\u001b[0m   ]  \n",
      "\t\n",
      "\tLuminosity emitted   = 1.299e+43 erg / s\n",
      "\tLuminosity absorbed  = 4.407e+42 erg / s\n",
      "\tLuminosity requested = 1.059e+43 erg / s\n",
      " (\u001b[1mbase.py\u001b[0m:577)\n"
     ]
    },
    {
     "name": "stdout",
     "output_type": "stream",
     "text": [
      "[\u001b[1mtardis.simulation.base\u001b[0m][\u001b[1;37mINFO\u001b[0m   ]  \n",
      "\t\n",
      "\tPlasma stratification: (\u001b[1mbase.py\u001b[0m:545)\n"
     ]
    },
    {
     "data": {
      "text/html": [
       "<style type=\"text/css\">\n",
       "</style>\n",
       "<table id=\"T_ce7be\">\n",
       "  <thead>\n",
       "    <tr>\n",
       "      <th class=\"index_name level0\" >Shell No.</th>\n",
       "      <th id=\"T_ce7be_level0_col0\" class=\"col_heading level0 col0\" >t_rad</th>\n",
       "      <th id=\"T_ce7be_level0_col1\" class=\"col_heading level0 col1\" >next_t_rad</th>\n",
       "      <th id=\"T_ce7be_level0_col2\" class=\"col_heading level0 col2\" >w</th>\n",
       "      <th id=\"T_ce7be_level0_col3\" class=\"col_heading level0 col3\" >next_w</th>\n",
       "    </tr>\n",
       "  </thead>\n",
       "  <tbody>\n",
       "    <tr>\n",
       "      <th id=\"T_ce7be_level0_row0\" class=\"row_heading level0 row0\" >0</th>\n",
       "      <td id=\"T_ce7be_row0_col0\" class=\"data row0 col0\" >1.03e+04 K</td>\n",
       "      <td id=\"T_ce7be_row0_col1\" class=\"data row0 col1\" >1.14e+04 K</td>\n",
       "      <td id=\"T_ce7be_row0_col2\" class=\"data row0 col2\" >0.468</td>\n",
       "      <td id=\"T_ce7be_row0_col3\" class=\"data row0 col3\" >0.527</td>\n",
       "    </tr>\n",
       "    <tr>\n",
       "      <th id=\"T_ce7be_level0_row1\" class=\"row_heading level0 row1\" >5</th>\n",
       "      <td id=\"T_ce7be_row1_col0\" class=\"data row1 col0\" >1.05e+04 K</td>\n",
       "      <td id=\"T_ce7be_row1_col1\" class=\"data row1 col1\" >1.13e+04 K</td>\n",
       "      <td id=\"T_ce7be_row1_col2\" class=\"data row1 col2\" >0.181</td>\n",
       "      <td id=\"T_ce7be_row1_col3\" class=\"data row1 col3\" >0.225</td>\n",
       "    </tr>\n",
       "    <tr>\n",
       "      <th id=\"T_ce7be_level0_row2\" class=\"row_heading level0 row2\" >10</th>\n",
       "      <td id=\"T_ce7be_row2_col0\" class=\"data row2 col0\" >1.05e+04 K</td>\n",
       "      <td id=\"T_ce7be_row2_col1\" class=\"data row2 col1\" >1.12e+04 K</td>\n",
       "      <td id=\"T_ce7be_row2_col2\" class=\"data row2 col2\" >0.108</td>\n",
       "      <td id=\"T_ce7be_row2_col3\" class=\"data row2 col3\" >0.126</td>\n",
       "    </tr>\n",
       "    <tr>\n",
       "      <th id=\"T_ce7be_level0_row3\" class=\"row_heading level0 row3\" >15</th>\n",
       "      <td id=\"T_ce7be_row3_col0\" class=\"data row3 col0\" >1.03e+04 K</td>\n",
       "      <td id=\"T_ce7be_row3_col1\" class=\"data row3 col1\" >1.1e+04 K</td>\n",
       "      <td id=\"T_ce7be_row3_col2\" class=\"data row3 col2\" >0.0779</td>\n",
       "      <td id=\"T_ce7be_row3_col3\" class=\"data row3 col3\" >0.0926</td>\n",
       "    </tr>\n",
       "  </tbody>\n",
       "</table>\n"
      ],
      "text/plain": [
       "<pandas.io.formats.style.Styler at 0x7f2957234050>"
      ]
     },
     "metadata": {},
     "output_type": "display_data"
    },
    {
     "name": "stdout",
     "output_type": "stream",
     "text": [
      "[\u001b[1mtardis.simulation.base\u001b[0m][\u001b[1;37mINFO\u001b[0m   ]  \n",
      "\t\n",
      "\tCurrent t_inner = 11245.497 K\n",
      "\tExpected t_inner for next iteration = 10153.431 K\n",
      " (\u001b[1mbase.py\u001b[0m:572)\n"
     ]
    },
    {
     "name": "stdout",
     "output_type": "stream",
     "text": [
      "[\u001b[1mpy.warnings         \u001b[0m][\u001b[1;33mWARNING\u001b[0m]  \n",
      "\t/home/runner/work/tardis/tardis/tardis/plasma/properties/radiative_properties.py:93: RuntimeWarning: invalid value encountered in divide\n",
      "  (g_lower * n_upper) / (g_upper * n_lower)\n",
      " (\u001b[1mwarnings.py\u001b[0m:109)\n"
     ]
    },
    {
     "name": "stdout",
     "output_type": "stream",
     "text": [
      "[\u001b[1mtardis.simulation.base\u001b[0m][\u001b[1;37mINFO\u001b[0m   ]  \n",
      "\t\n",
      "\tSimulation finished in 4 iterations \n",
      "\tSimulation took 0.37 s\n",
      " (\u001b[1mbase.py\u001b[0m:473)\n"
     ]
    },
    {
     "name": "stdout",
     "output_type": "stream",
     "text": [
      "[\u001b[1mtardis.simulation.base\u001b[0m][\u001b[1;37mINFO\u001b[0m   ]  \n",
      "\t\n",
      "\tStarting iteration 5 of 5 (\u001b[1mbase.py\u001b[0m:395)\n"
     ]
    },
    {
     "name": "stdout",
     "output_type": "stream",
     "text": [
      "[\u001b[1mtardis.simulation.base\u001b[0m][\u001b[1;37mINFO\u001b[0m   ]  \n",
      "\t\n",
      "\tLuminosity emitted   = 8.742e+42 erg / s\n",
      "\tLuminosity absorbed  = 2.834e+42 erg / s\n",
      "\tLuminosity requested = 1.059e+43 erg / s\n",
      " (\u001b[1mbase.py\u001b[0m:577)\n"
     ]
    }
   ],
   "source": [
    "sim = run_tardis(config, log_level=\"Info\", specific=True)"
   ]
  }
 ],
 "metadata": {
  "kernelspec": {
   "display_name": "Python 3",
   "language": "python",
   "name": "python3"
  },
  "language_info": {
   "codemirror_mode": {
    "name": "ipython",
    "version": 3
   },
   "file_extension": ".py",
   "mimetype": "text/x-python",
   "name": "python",
   "nbconvert_exporter": "python",
   "pygments_lexer": "ipython3",
   "version": "3.11.5"
  },
  "widgets": {
   "application/vnd.jupyter.widget-state+json": {
    "state": {
     "00ae7db65269435bb691b04deca3ca64": {
      "model_module": "@jupyter-widgets/controls",
      "model_module_version": "1.5.0",
      "model_name": "HTMLModel",
      "state": {
       "_dom_classes": [],
       "_model_module": "@jupyter-widgets/controls",
       "_model_module_version": "1.5.0",
       "_model_name": "HTMLModel",
       "_view_count": null,
       "_view_module": "@jupyter-widgets/controls",
       "_view_module_version": "1.5.0",
       "_view_name": "HTMLView",
       "description": "",
       "description_tooltip": null,
       "layout": "IPY_MODEL_02cf615c9c8a4a5e975e00c234e2a84f",
       "placeholder": "​",
       "style": "IPY_MODEL_3a66cad4d7f946dd8589e2e19e099067",
       "value": "10000/10000 [00:00&lt;00:00, 63061.34it/s]"
      }
     },
     "00ec60f4ddb84126a3e34832490139d7": {
      "model_module": "@jupyter-widgets/base",
      "model_module_version": "1.2.0",
      "model_name": "LayoutModel",
      "state": {
       "_model_module": "@jupyter-widgets/base",
       "_model_module_version": "1.2.0",
       "_model_name": "LayoutModel",
       "_view_count": null,
       "_view_module": "@jupyter-widgets/base",
       "_view_module_version": "1.2.0",
       "_view_name": "LayoutView",
       "align_content": null,
       "align_items": null,
       "align_self": null,
       "border": null,
       "bottom": null,
       "display": null,
       "flex": null,
       "flex_flow": null,
       "grid_area": null,
       "grid_auto_columns": null,
       "grid_auto_flow": null,
       "grid_auto_rows": null,
       "grid_column": null,
       "grid_gap": null,
       "grid_row": null,
       "grid_template_areas": null,
       "grid_template_columns": null,
       "grid_template_rows": null,
       "height": null,
       "justify_content": null,
       "justify_items": null,
       "left": null,
       "margin": null,
       "max_height": null,
       "max_width": null,
       "min_height": null,
       "min_width": null,
       "object_fit": null,
       "object_position": null,
       "order": null,
       "overflow": null,
       "overflow_x": null,
       "overflow_y": null,
       "padding": null,
       "right": null,
       "top": null,
       "visibility": null,
       "width": "60%"
      }
     },
     "01938061fdca41ffba61bbfe816408f7": {
      "model_module": "@jupyter-widgets/base",
      "model_module_version": "1.2.0",
      "model_name": "LayoutModel",
      "state": {
       "_model_module": "@jupyter-widgets/base",
       "_model_module_version": "1.2.0",
       "_model_name": "LayoutModel",
       "_view_count": null,
       "_view_module": "@jupyter-widgets/base",
       "_view_module_version": "1.2.0",
       "_view_name": "LayoutView",
       "align_content": null,
       "align_items": null,
       "align_self": null,
       "border": null,
       "bottom": null,
       "display": null,
       "flex": null,
       "flex_flow": null,
       "grid_area": null,
       "grid_auto_columns": null,
       "grid_auto_flow": null,
       "grid_auto_rows": null,
       "grid_column": null,
       "grid_gap": null,
       "grid_row": null,
       "grid_template_areas": null,
       "grid_template_columns": null,
       "grid_template_rows": null,
       "height": null,
       "justify_content": null,
       "justify_items": null,
       "left": null,
       "margin": null,
       "max_height": null,
       "max_width": null,
       "min_height": null,
       "min_width": null,
       "object_fit": null,
       "object_position": null,
       "order": null,
       "overflow": null,
       "overflow_x": null,
       "overflow_y": null,
       "padding": null,
       "right": null,
       "top": null,
       "visibility": null,
       "width": null
      }
     },
     "02cf615c9c8a4a5e975e00c234e2a84f": {
      "model_module": "@jupyter-widgets/base",
      "model_module_version": "1.2.0",
      "model_name": "LayoutModel",
      "state": {
       "_model_module": "@jupyter-widgets/base",
       "_model_module_version": "1.2.0",
       "_model_name": "LayoutModel",
       "_view_count": null,
       "_view_module": "@jupyter-widgets/base",
       "_view_module_version": "1.2.0",
       "_view_name": "LayoutView",
       "align_content": null,
       "align_items": null,
       "align_self": null,
       "border": null,
       "bottom": null,
       "display": null,
       "flex": null,
       "flex_flow": null,
       "grid_area": null,
       "grid_auto_columns": null,
       "grid_auto_flow": null,
       "grid_auto_rows": null,
       "grid_column": null,
       "grid_gap": null,
       "grid_row": null,
       "grid_template_areas": null,
       "grid_template_columns": null,
       "grid_template_rows": null,
       "height": null,
       "justify_content": null,
       "justify_items": null,
       "left": null,
       "margin": null,
       "max_height": null,
       "max_width": null,
       "min_height": null,
       "min_width": null,
       "object_fit": null,
       "object_position": null,
       "order": null,
       "overflow": null,
       "overflow_x": null,
       "overflow_y": null,
       "padding": null,
       "right": null,
       "top": null,
       "visibility": null,
       "width": null
      }
     },
     "02d57f5dba7746d38ee3a2e28f693322": {
      "model_module": "@jupyter-widgets/base",
      "model_module_version": "1.2.0",
      "model_name": "LayoutModel",
      "state": {
       "_model_module": "@jupyter-widgets/base",
       "_model_module_version": "1.2.0",
       "_model_name": "LayoutModel",
       "_view_count": null,
       "_view_module": "@jupyter-widgets/base",
       "_view_module_version": "1.2.0",
       "_view_name": "LayoutView",
       "align_content": null,
       "align_items": null,
       "align_self": null,
       "border": null,
       "bottom": null,
       "display": null,
       "flex": null,
       "flex_flow": null,
       "grid_area": null,
       "grid_auto_columns": null,
       "grid_auto_flow": null,
       "grid_auto_rows": null,
       "grid_column": null,
       "grid_gap": null,
       "grid_row": null,
       "grid_template_areas": null,
       "grid_template_columns": null,
       "grid_template_rows": null,
       "height": null,
       "justify_content": null,
       "justify_items": null,
       "left": null,
       "margin": null,
       "max_height": null,
       "max_width": null,
       "min_height": null,
       "min_width": null,
       "object_fit": null,
       "object_position": null,
       "order": null,
       "overflow": null,
       "overflow_x": null,
       "overflow_y": null,
       "padding": null,
       "right": null,
       "top": null,
       "visibility": null,
       "width": "6%"
      }
     },
     "04f8785db6f54759aa01bd06b8eb5c6a": {
      "model_module": "@jupyter-widgets/base",
      "model_module_version": "1.2.0",
      "model_name": "LayoutModel",
      "state": {
       "_model_module": "@jupyter-widgets/base",
       "_model_module_version": "1.2.0",
       "_model_name": "LayoutModel",
       "_view_count": null,
       "_view_module": "@jupyter-widgets/base",
       "_view_module_version": "1.2.0",
       "_view_name": "LayoutView",
       "align_content": null,
       "align_items": null,
       "align_self": null,
       "border": null,
       "bottom": null,
       "display": null,
       "flex": null,
       "flex_flow": null,
       "grid_area": null,
       "grid_auto_columns": null,
       "grid_auto_flow": null,
       "grid_auto_rows": null,
       "grid_column": null,
       "grid_gap": null,
       "grid_row": null,
       "grid_template_areas": null,
       "grid_template_columns": null,
       "grid_template_rows": null,
       "height": null,
       "justify_content": null,
       "justify_items": null,
       "left": null,
       "margin": null,
       "max_height": null,
       "max_width": null,
       "min_height": null,
       "min_width": null,
       "object_fit": null,
       "object_position": null,
       "order": null,
       "overflow": null,
       "overflow_x": null,
       "overflow_y": null,
       "padding": null,
       "right": null,
       "top": null,
       "visibility": null,
       "width": null
      }
     },
     "05b2f81f1f524caa913b329dda15e85c": {
      "model_module": "@jupyter-widgets/controls",
      "model_module_version": "1.5.0",
      "model_name": "HTMLModel",
      "state": {
       "_dom_classes": [],
       "_model_module": "@jupyter-widgets/controls",
       "_model_module_version": "1.5.0",
       "_model_name": "HTMLModel",
       "_view_count": null,
       "_view_module": "@jupyter-widgets/controls",
       "_view_module_version": "1.5.0",
       "_view_name": "HTMLView",
       "description": "",
       "description_tooltip": null,
       "layout": "IPY_MODEL_56cf3abc5d67430697d894ec5a864a09",
       "placeholder": "​",
       "style": "IPY_MODEL_8ff9f4d30cd844589c205df15a800e92",
       "value": "10000/10000 [00:00&lt;00:00, 62588.67it/s]"
      }
     },
     "06d5a45da28f4f6e944310c74dfdd452": {
      "model_module": "@jupyter-widgets/controls",
      "model_module_version": "1.5.0",
      "model_name": "ProgressStyleModel",
      "state": {
       "_model_module": "@jupyter-widgets/controls",
       "_model_module_version": "1.5.0",
       "_model_name": "ProgressStyleModel",
       "_view_count": null,
       "_view_module": "@jupyter-widgets/base",
       "_view_module_version": "1.2.0",
       "_view_name": "StyleView",
       "bar_color": null,
       "description_width": ""
      }
     },
     "0761ff53836548bc87b606b8535fe0ee": {
      "model_module": "@jupyter-widgets/base",
      "model_module_version": "1.2.0",
      "model_name": "LayoutModel",
      "state": {
       "_model_module": "@jupyter-widgets/base",
       "_model_module_version": "1.2.0",
       "_model_name": "LayoutModel",
       "_view_count": null,
       "_view_module": "@jupyter-widgets/base",
       "_view_module_version": "1.2.0",
       "_view_name": "LayoutView",
       "align_content": null,
       "align_items": null,
       "align_self": null,
       "border": null,
       "bottom": null,
       "display": null,
       "flex": null,
       "flex_flow": null,
       "grid_area": null,
       "grid_auto_columns": null,
       "grid_auto_flow": null,
       "grid_auto_rows": null,
       "grid_column": null,
       "grid_gap": null,
       "grid_row": null,
       "grid_template_areas": null,
       "grid_template_columns": null,
       "grid_template_rows": null,
       "height": null,
       "justify_content": null,
       "justify_items": null,
       "left": null,
       "margin": null,
       "max_height": null,
       "max_width": null,
       "min_height": null,
       "min_width": null,
       "object_fit": null,
       "object_position": null,
       "order": null,
       "overflow": null,
       "overflow_x": null,
       "overflow_y": null,
       "padding": null,
       "right": null,
       "top": null,
       "visibility": null,
       "width": "60%"
      }
     },
     "0d1de38a03d44a1c8eb54f132ed5cb12": {
      "model_module": "@jupyter-widgets/controls",
      "model_module_version": "1.5.0",
      "model_name": "HTMLModel",
      "state": {
       "_dom_classes": [],
       "_model_module": "@jupyter-widgets/controls",
       "_model_module_version": "1.5.0",
       "_model_name": "HTMLModel",
       "_view_count": null,
       "_view_module": "@jupyter-widgets/controls",
       "_view_module_version": "1.5.0",
       "_view_name": "HTMLView",
       "description": "",
       "description_tooltip": null,
       "layout": "IPY_MODEL_8f2626b89ab446ea862b935fd9f7b70f",
       "placeholder": "​",
       "style": "IPY_MODEL_e4925e1d84ca4b9a98d379fcd8d4af05",
       "value": "Iterations:"
      }
     },
     "0d557deb15954ff7a7bf9c9f3da08e1e": {
      "model_module": "@jupyter-widgets/controls",
      "model_module_version": "1.5.0",
      "model_name": "HTMLModel",
      "state": {
       "_dom_classes": [],
       "_model_module": "@jupyter-widgets/controls",
       "_model_module_version": "1.5.0",
       "_model_name": "HTMLModel",
       "_view_count": null,
       "_view_module": "@jupyter-widgets/controls",
       "_view_module_version": "1.5.0",
       "_view_name": "HTMLView",
       "description": "",
       "description_tooltip": null,
       "layout": "IPY_MODEL_9f9d4252cecb4156aeafffdf1ccd299c",
       "placeholder": "​",
       "style": "IPY_MODEL_987d470598de41dc894c92e09ade6928",
       "value": "Iterations:"
      }
     },
     "10630182cfc14f668eef59b0ab7de8c5": {
      "model_module": "@jupyter-widgets/controls",
      "model_module_version": "1.5.0",
      "model_name": "DescriptionStyleModel",
      "state": {
       "_model_module": "@jupyter-widgets/controls",
       "_model_module_version": "1.5.0",
       "_model_name": "DescriptionStyleModel",
       "_view_count": null,
       "_view_module": "@jupyter-widgets/base",
       "_view_module_version": "1.2.0",
       "_view_name": "StyleView",
       "description_width": ""
      }
     },
     "1079a99b55754512923f129e3b15e9c4": {
      "model_module": "@jupyter-widgets/base",
      "model_module_version": "1.2.0",
      "model_name": "LayoutModel",
      "state": {
       "_model_module": "@jupyter-widgets/base",
       "_model_module_version": "1.2.0",
       "_model_name": "LayoutModel",
       "_view_count": null,
       "_view_module": "@jupyter-widgets/base",
       "_view_module_version": "1.2.0",
       "_view_name": "LayoutView",
       "align_content": null,
       "align_items": null,
       "align_self": null,
       "border": null,
       "bottom": null,
       "display": null,
       "flex": null,
       "flex_flow": null,
       "grid_area": null,
       "grid_auto_columns": null,
       "grid_auto_flow": null,
       "grid_auto_rows": null,
       "grid_column": null,
       "grid_gap": null,
       "grid_row": null,
       "grid_template_areas": null,
       "grid_template_columns": null,
       "grid_template_rows": null,
       "height": null,
       "justify_content": null,
       "justify_items": null,
       "left": null,
       "margin": null,
       "max_height": null,
       "max_width": null,
       "min_height": null,
       "min_width": null,
       "object_fit": null,
       "object_position": null,
       "order": null,
       "overflow": null,
       "overflow_x": null,
       "overflow_y": null,
       "padding": null,
       "right": null,
       "top": null,
       "visibility": null,
       "width": null
      }
     },
     "10c9bc269a9e4fde8d60d8288bd70bc8": {
      "model_module": "@jupyter-widgets/controls",
      "model_module_version": "1.5.0",
      "model_name": "DescriptionStyleModel",
      "state": {
       "_model_module": "@jupyter-widgets/controls",
       "_model_module_version": "1.5.0",
       "_model_name": "DescriptionStyleModel",
       "_view_count": null,
       "_view_module": "@jupyter-widgets/base",
       "_view_module_version": "1.2.0",
       "_view_name": "StyleView",
       "description_width": ""
      }
     },
     "11c3eef5aad34a1eb88320e69c0456f0": {
      "model_module": "@jupyter-widgets/controls",
      "model_module_version": "1.5.0",
      "model_name": "HTMLModel",
      "state": {
       "_dom_classes": [],
       "_model_module": "@jupyter-widgets/controls",
       "_model_module_version": "1.5.0",
       "_model_name": "HTMLModel",
       "_view_count": null,
       "_view_module": "@jupyter-widgets/controls",
       "_view_module_version": "1.5.0",
       "_view_name": "HTMLView",
       "description": "",
       "description_tooltip": null,
       "layout": "IPY_MODEL_504b3749c4bf495988fbb196f9a5ddaa",
       "placeholder": "​",
       "style": "IPY_MODEL_b0c7636a46f44d9a9cb94c2098ea02f1",
       "value": "10000/10000 [00:00&lt;00:00, 63019.31it/s]"
      }
     },
     "12b183a637814416ae0e1eccd0733cc9": {
      "model_module": "@jupyter-widgets/controls",
      "model_module_version": "1.5.0",
      "model_name": "FloatProgressModel",
      "state": {
       "_dom_classes": [],
       "_model_module": "@jupyter-widgets/controls",
       "_model_module_version": "1.5.0",
       "_model_name": "FloatProgressModel",
       "_view_count": null,
       "_view_module": "@jupyter-widgets/controls",
       "_view_module_version": "1.5.0",
       "_view_name": "ProgressView",
       "bar_style": "",
       "description": "",
       "description_tooltip": null,
       "layout": "IPY_MODEL_5c2ff08b64bf4f97903501bb0e8ec576",
       "max": 5.0,
       "min": 0.0,
       "orientation": "horizontal",
       "style": "IPY_MODEL_db753995d2e343d08152ce446cf0da12",
       "value": 4.0
      }
     },
     "163b17bfd6124be181e5d65e15104720": {
      "model_module": "@jupyter-widgets/controls",
      "model_module_version": "1.5.0",
      "model_name": "HBoxModel",
      "state": {
       "_dom_classes": [],
       "_model_module": "@jupyter-widgets/controls",
       "_model_module_version": "1.5.0",
       "_model_name": "HBoxModel",
       "_view_count": null,
       "_view_module": "@jupyter-widgets/controls",
       "_view_module_version": "1.5.0",
       "_view_name": "HBoxView",
       "box_style": "",
       "children": [
        "IPY_MODEL_79493bca656a46118d7eae3113103276",
        "IPY_MODEL_5ba317469697432c843b528115d493b8",
        "IPY_MODEL_511bc5ee1c7f4850a5e8b242167a7bd3"
       ],
       "layout": "IPY_MODEL_8c15cf4e1d6a4513b71221fe443398bc"
      }
     },
     "17f807da696b4618b4f9c7fe9d57ea81": {
      "model_module": "@jupyter-widgets/controls",
      "model_module_version": "1.5.0",
      "model_name": "HTMLModel",
      "state": {
       "_dom_classes": [],
       "_model_module": "@jupyter-widgets/controls",
       "_model_module_version": "1.5.0",
       "_model_name": "HTMLModel",
       "_view_count": null,
       "_view_module": "@jupyter-widgets/controls",
       "_view_module_version": "1.5.0",
       "_view_name": "HTMLView",
       "description": "",
       "description_tooltip": null,
       "layout": "IPY_MODEL_44f2e4d3269e40cab87834ec4084ee79",
       "placeholder": "​",
       "style": "IPY_MODEL_86584f5a7505455ca5a3d77ae1370d19",
       "value": "4/5 [00:00&lt;00:00, 13.43it/s]"
      }
     },
     "18855291526e44c299796798f2718bac": {
      "model_module": "@jupyter-widgets/controls",
      "model_module_version": "1.5.0",
      "model_name": "DescriptionStyleModel",
      "state": {
       "_model_module": "@jupyter-widgets/controls",
       "_model_module_version": "1.5.0",
       "_model_name": "DescriptionStyleModel",
       "_view_count": null,
       "_view_module": "@jupyter-widgets/base",
       "_view_module_version": "1.2.0",
       "_view_name": "StyleView",
       "description_width": ""
      }
     },
     "18948eb73f4442c69d17c971ea6bf919": {
      "model_module": "@jupyter-widgets/controls",
      "model_module_version": "1.5.0",
      "model_name": "HTMLModel",
      "state": {
       "_dom_classes": [],
       "_model_module": "@jupyter-widgets/controls",
       "_model_module_version": "1.5.0",
       "_model_name": "HTMLModel",
       "_view_count": null,
       "_view_module": "@jupyter-widgets/controls",
       "_view_module_version": "1.5.0",
       "_view_name": "HTMLView",
       "description": "",
       "description_tooltip": null,
       "layout": "IPY_MODEL_ab031ca2de19402984329073d5a19ab0",
       "placeholder": "​",
       "style": "IPY_MODEL_b83f1baf6f1f4c38a4b5d876f548fd67",
       "value": "Packets:   "
      }
     },
     "198b836129f84300bab7334b2f35588d": {
      "model_module": "@jupyter-widgets/controls",
      "model_module_version": "1.5.0",
      "model_name": "HBoxModel",
      "state": {
       "_dom_classes": [],
       "_model_module": "@jupyter-widgets/controls",
       "_model_module_version": "1.5.0",
       "_model_name": "HBoxModel",
       "_view_count": null,
       "_view_module": "@jupyter-widgets/controls",
       "_view_module_version": "1.5.0",
       "_view_name": "HBoxView",
       "box_style": "",
       "children": [
        "IPY_MODEL_0d1de38a03d44a1c8eb54f132ed5cb12",
        "IPY_MODEL_12b183a637814416ae0e1eccd0733cc9",
        "IPY_MODEL_17f807da696b4618b4f9c7fe9d57ea81"
       ],
       "layout": "IPY_MODEL_92f70177f5314895ad32f2708ceb0003"
      }
     },
     "198d965bd0f84c32a05538acf940d364": {
      "model_module": "@jupyter-widgets/controls",
      "model_module_version": "1.5.0",
      "model_name": "HTMLModel",
      "state": {
       "_dom_classes": [],
       "_model_module": "@jupyter-widgets/controls",
       "_model_module_version": "1.5.0",
       "_model_name": "HTMLModel",
       "_view_count": null,
       "_view_module": "@jupyter-widgets/controls",
       "_view_module_version": "1.5.0",
       "_view_name": "HTMLView",
       "description": "",
       "description_tooltip": null,
       "layout": "IPY_MODEL_e8ad83c4fd104f50a696368afcc0501f",
       "placeholder": "​",
       "style": "IPY_MODEL_8e88e0caa6a945ce9451101289b8d0b1",
       "value": "4/5 [00:00&lt;00:00, 12.90it/s]"
      }
     },
     "1a869a0bc3574a27a3eb04347c2d0dda": {
      "model_module": "@jupyter-widgets/controls",
      "model_module_version": "1.5.0",
      "model_name": "HTMLModel",
      "state": {
       "_dom_classes": [],
       "_model_module": "@jupyter-widgets/controls",
       "_model_module_version": "1.5.0",
       "_model_name": "HTMLModel",
       "_view_count": null,
       "_view_module": "@jupyter-widgets/controls",
       "_view_module_version": "1.5.0",
       "_view_name": "HTMLView",
       "description": "",
       "description_tooltip": null,
       "layout": "IPY_MODEL_3ccbb70420674a0691da1487e55f3253",
       "placeholder": "​",
       "style": "IPY_MODEL_f3b69ac2d651463fa042005529e2775e",
       "value": "4/5 [00:00&lt;00:00, 11.46it/s]"
      }
     },
     "1a97651fddbe4e1cb229609c22e4d132": {
      "model_module": "@jupyter-widgets/base",
      "model_module_version": "1.2.0",
      "model_name": "LayoutModel",
      "state": {
       "_model_module": "@jupyter-widgets/base",
       "_model_module_version": "1.2.0",
       "_model_name": "LayoutModel",
       "_view_count": null,
       "_view_module": "@jupyter-widgets/base",
       "_view_module_version": "1.2.0",
       "_view_name": "LayoutView",
       "align_content": null,
       "align_items": null,
       "align_self": null,
       "border": null,
       "bottom": null,
       "display": null,
       "flex": null,
       "flex_flow": null,
       "grid_area": null,
       "grid_auto_columns": null,
       "grid_auto_flow": null,
       "grid_auto_rows": null,
       "grid_column": null,
       "grid_gap": null,
       "grid_row": null,
       "grid_template_areas": null,
       "grid_template_columns": null,
       "grid_template_rows": null,
       "height": null,
       "justify_content": null,
       "justify_items": null,
       "left": null,
       "margin": null,
       "max_height": null,
       "max_width": null,
       "min_height": null,
       "min_width": null,
       "object_fit": null,
       "object_position": null,
       "order": null,
       "overflow": null,
       "overflow_x": null,
       "overflow_y": null,
       "padding": null,
       "right": null,
       "top": null,
       "visibility": null,
       "width": "60%"
      }
     },
     "1b2dcddb34b142b58926de430e1bdb2c": {
      "model_module": "@jupyter-widgets/controls",
      "model_module_version": "1.5.0",
      "model_name": "HBoxModel",
      "state": {
       "_dom_classes": [],
       "_model_module": "@jupyter-widgets/controls",
       "_model_module_version": "1.5.0",
       "_model_name": "HBoxModel",
       "_view_count": null,
       "_view_module": "@jupyter-widgets/controls",
       "_view_module_version": "1.5.0",
       "_view_name": "HBoxView",
       "box_style": "",
       "children": [
        "IPY_MODEL_36387502cc5441dda69f8d7b9758de79",
        "IPY_MODEL_746d6c4ffc0d4131b04c2212bf977acb",
        "IPY_MODEL_05b2f81f1f524caa913b329dda15e85c"
       ],
       "layout": "IPY_MODEL_f23cdd53c575488c8ad4ea7e652f085d"
      }
     },
     "1cd67f0958074047984b5e73462fafde": {
      "model_module": "@jupyter-widgets/controls",
      "model_module_version": "1.5.0",
      "model_name": "ProgressStyleModel",
      "state": {
       "_model_module": "@jupyter-widgets/controls",
       "_model_module_version": "1.5.0",
       "_model_name": "ProgressStyleModel",
       "_view_count": null,
       "_view_module": "@jupyter-widgets/base",
       "_view_module_version": "1.2.0",
       "_view_name": "StyleView",
       "bar_color": null,
       "description_width": ""
      }
     },
     "1d83eec484e042c1a9259617de0f4601": {
      "model_module": "@jupyter-widgets/controls",
      "model_module_version": "1.5.0",
      "model_name": "FloatProgressModel",
      "state": {
       "_dom_classes": [],
       "_model_module": "@jupyter-widgets/controls",
       "_model_module_version": "1.5.0",
       "_model_name": "FloatProgressModel",
       "_view_count": null,
       "_view_module": "@jupyter-widgets/controls",
       "_view_module_version": "1.5.0",
       "_view_name": "ProgressView",
       "bar_style": "",
       "description": "",
       "description_tooltip": null,
       "layout": "IPY_MODEL_98013fdfbc654a008083d54073152c41",
       "max": 10000.0,
       "min": 0.0,
       "orientation": "horizontal",
       "style": "IPY_MODEL_561745ce20654e62a39241dcee81e452",
       "value": 10000.0
      }
     },
     "1e40bf1ff22748f280d2bd46685f200d": {
      "model_module": "@jupyter-widgets/base",
      "model_module_version": "1.2.0",
      "model_name": "LayoutModel",
      "state": {
       "_model_module": "@jupyter-widgets/base",
       "_model_module_version": "1.2.0",
       "_model_name": "LayoutModel",
       "_view_count": null,
       "_view_module": "@jupyter-widgets/base",
       "_view_module_version": "1.2.0",
       "_view_name": "LayoutView",
       "align_content": null,
       "align_items": null,
       "align_self": null,
       "border": null,
       "bottom": null,
       "display": null,
       "flex": null,
       "flex_flow": null,
       "grid_area": null,
       "grid_auto_columns": null,
       "grid_auto_flow": null,
       "grid_auto_rows": null,
       "grid_column": null,
       "grid_gap": null,
       "grid_row": null,
       "grid_template_areas": null,
       "grid_template_columns": null,
       "grid_template_rows": null,
       "height": null,
       "justify_content": null,
       "justify_items": null,
       "left": null,
       "margin": null,
       "max_height": null,
       "max_width": null,
       "min_height": null,
       "min_width": null,
       "object_fit": null,
       "object_position": null,
       "order": null,
       "overflow": null,
       "overflow_x": null,
       "overflow_y": null,
       "padding": null,
       "right": null,
       "top": null,
       "visibility": null,
       "width": null
      }
     },
     "1e7371f0566f407e858e4b292459834e": {
      "model_module": "@jupyter-widgets/base",
      "model_module_version": "1.2.0",
      "model_name": "LayoutModel",
      "state": {
       "_model_module": "@jupyter-widgets/base",
       "_model_module_version": "1.2.0",
       "_model_name": "LayoutModel",
       "_view_count": null,
       "_view_module": "@jupyter-widgets/base",
       "_view_module_version": "1.2.0",
       "_view_name": "LayoutView",
       "align_content": null,
       "align_items": null,
       "align_self": null,
       "border": null,
       "bottom": null,
       "display": null,
       "flex": null,
       "flex_flow": null,
       "grid_area": null,
       "grid_auto_columns": null,
       "grid_auto_flow": null,
       "grid_auto_rows": null,
       "grid_column": null,
       "grid_gap": null,
       "grid_row": null,
       "grid_template_areas": null,
       "grid_template_columns": null,
       "grid_template_rows": null,
       "height": null,
       "justify_content": null,
       "justify_items": null,
       "left": null,
       "margin": null,
       "max_height": null,
       "max_width": null,
       "min_height": null,
       "min_width": null,
       "object_fit": null,
       "object_position": null,
       "order": null,
       "overflow": null,
       "overflow_x": null,
       "overflow_y": null,
       "padding": null,
       "right": null,
       "top": null,
       "visibility": null,
       "width": null
      }
     },
     "20a724345b12407696991b98a4dff8bd": {
      "model_module": "@jupyter-widgets/base",
      "model_module_version": "1.2.0",
      "model_name": "LayoutModel",
      "state": {
       "_model_module": "@jupyter-widgets/base",
       "_model_module_version": "1.2.0",
       "_model_name": "LayoutModel",
       "_view_count": null,
       "_view_module": "@jupyter-widgets/base",
       "_view_module_version": "1.2.0",
       "_view_name": "LayoutView",
       "align_content": null,
       "align_items": null,
       "align_self": null,
       "border": null,
       "bottom": null,
       "display": null,
       "flex": null,
       "flex_flow": null,
       "grid_area": null,
       "grid_auto_columns": null,
       "grid_auto_flow": null,
       "grid_auto_rows": null,
       "grid_column": null,
       "grid_gap": null,
       "grid_row": null,
       "grid_template_areas": null,
       "grid_template_columns": null,
       "grid_template_rows": null,
       "height": null,
       "justify_content": null,
       "justify_items": null,
       "left": null,
       "margin": null,
       "max_height": null,
       "max_width": null,
       "min_height": null,
       "min_width": null,
       "object_fit": null,
       "object_position": null,
       "order": null,
       "overflow": null,
       "overflow_x": null,
       "overflow_y": null,
       "padding": null,
       "right": null,
       "top": null,
       "visibility": null,
       "width": null
      }
     },
     "24faa26635a346fd862c6f93eaac984f": {
      "model_module": "@jupyter-widgets/controls",
      "model_module_version": "1.5.0",
      "model_name": "HBoxModel",
      "state": {
       "_dom_classes": [],
       "_model_module": "@jupyter-widgets/controls",
       "_model_module_version": "1.5.0",
       "_model_name": "HBoxModel",
       "_view_count": null,
       "_view_module": "@jupyter-widgets/controls",
       "_view_module_version": "1.5.0",
       "_view_name": "HBoxView",
       "box_style": "",
       "children": [
        "IPY_MODEL_6c85bb9edb9f4817a46ff3854861213f",
        "IPY_MODEL_c2f5658cf5f740ecb2a7482f090f3b33",
        "IPY_MODEL_1a869a0bc3574a27a3eb04347c2d0dda"
       ],
       "layout": "IPY_MODEL_8efa4338388f43bdb4657e25ae56048b"
      }
     },
     "25d40d5d1b934479a6df406087b0ff6a": {
      "model_module": "@jupyter-widgets/controls",
      "model_module_version": "1.5.0",
      "model_name": "HBoxModel",
      "state": {
       "_dom_classes": [],
       "_model_module": "@jupyter-widgets/controls",
       "_model_module_version": "1.5.0",
       "_model_name": "HBoxModel",
       "_view_count": null,
       "_view_module": "@jupyter-widgets/controls",
       "_view_module_version": "1.5.0",
       "_view_name": "HBoxView",
       "box_style": "",
       "children": [
        "IPY_MODEL_6b4f32575ffb490783554efa14ed78e8",
        "IPY_MODEL_e7f3c54132884652b77d501c7c66ea4b",
        "IPY_MODEL_2c8aaf68caec49eb8f259a6162ef2b38"
       ],
       "layout": "IPY_MODEL_48bb37982f204bb6be6a5e098635d35a"
      }
     },
     "288b66f1688445d4a5e6ae0c938c9362": {
      "model_module": "@jupyter-widgets/base",
      "model_module_version": "1.2.0",
      "model_name": "LayoutModel",
      "state": {
       "_model_module": "@jupyter-widgets/base",
       "_model_module_version": "1.2.0",
       "_model_name": "LayoutModel",
       "_view_count": null,
       "_view_module": "@jupyter-widgets/base",
       "_view_module_version": "1.2.0",
       "_view_name": "LayoutView",
       "align_content": null,
       "align_items": null,
       "align_self": null,
       "border": null,
       "bottom": null,
       "display": null,
       "flex": null,
       "flex_flow": null,
       "grid_area": null,
       "grid_auto_columns": null,
       "grid_auto_flow": null,
       "grid_auto_rows": null,
       "grid_column": null,
       "grid_gap": null,
       "grid_row": null,
       "grid_template_areas": null,
       "grid_template_columns": null,
       "grid_template_rows": null,
       "height": null,
       "justify_content": null,
       "justify_items": null,
       "left": null,
       "margin": null,
       "max_height": null,
       "max_width": null,
       "min_height": null,
       "min_width": null,
       "object_fit": null,
       "object_position": null,
       "order": null,
       "overflow": null,
       "overflow_x": null,
       "overflow_y": null,
       "padding": null,
       "right": null,
       "top": null,
       "visibility": null,
       "width": null
      }
     },
     "2af372c34e7b45ee80e8ee7baaf5a423": {
      "model_module": "@jupyter-widgets/controls",
      "model_module_version": "1.5.0",
      "model_name": "HTMLModel",
      "state": {
       "_dom_classes": [],
       "_model_module": "@jupyter-widgets/controls",
       "_model_module_version": "1.5.0",
       "_model_name": "HTMLModel",
       "_view_count": null,
       "_view_module": "@jupyter-widgets/controls",
       "_view_module_version": "1.5.0",
       "_view_name": "HTMLView",
       "description": "",
       "description_tooltip": null,
       "layout": "IPY_MODEL_602a0409db1b4e9d8ed34b01c88d2325",
       "placeholder": "​",
       "style": "IPY_MODEL_923a16f1683e4e66aaea45d93972b14f",
       "value": "4/5 [00:00&lt;00:00, 12.50it/s]"
      }
     },
     "2c8aaf68caec49eb8f259a6162ef2b38": {
      "model_module": "@jupyter-widgets/controls",
      "model_module_version": "1.5.0",
      "model_name": "HTMLModel",
      "state": {
       "_dom_classes": [],
       "_model_module": "@jupyter-widgets/controls",
       "_model_module_version": "1.5.0",
       "_model_name": "HTMLModel",
       "_view_count": null,
       "_view_module": "@jupyter-widgets/controls",
       "_view_module_version": "1.5.0",
       "_view_name": "HTMLView",
       "description": "",
       "description_tooltip": null,
       "layout": "IPY_MODEL_cfb54ec739424171b04bdca4152dca7e",
       "placeholder": "​",
       "style": "IPY_MODEL_3d3b10102a5d484f91e5d7ae8283a1a7",
       "value": "4/5 [00:00&lt;00:00, 12.67it/s]"
      }
     },
     "2e4e3dd6a0c246b8b095a759589b9ff3": {
      "model_module": "@jupyter-widgets/controls",
      "model_module_version": "1.5.0",
      "model_name": "FloatProgressModel",
      "state": {
       "_dom_classes": [],
       "_model_module": "@jupyter-widgets/controls",
       "_model_module_version": "1.5.0",
       "_model_name": "FloatProgressModel",
       "_view_count": null,
       "_view_module": "@jupyter-widgets/controls",
       "_view_module_version": "1.5.0",
       "_view_name": "ProgressView",
       "bar_style": "",
       "description": "",
       "description_tooltip": null,
       "layout": "IPY_MODEL_5edfdbbc12544dcc94d9e965d4c3e55c",
       "max": 10000.0,
       "min": 0.0,
       "orientation": "horizontal",
       "style": "IPY_MODEL_ad467dc9a5f84eef9cdc139c57fb65f3",
       "value": 10000.0
      }
     },
     "318579730fa8434f990b0c25af7d875b": {
      "model_module": "@jupyter-widgets/base",
      "model_module_version": "1.2.0",
      "model_name": "LayoutModel",
      "state": {
       "_model_module": "@jupyter-widgets/base",
       "_model_module_version": "1.2.0",
       "_model_name": "LayoutModel",
       "_view_count": null,
       "_view_module": "@jupyter-widgets/base",
       "_view_module_version": "1.2.0",
       "_view_name": "LayoutView",
       "align_content": null,
       "align_items": null,
       "align_self": null,
       "border": null,
       "bottom": null,
       "display": null,
       "flex": null,
       "flex_flow": null,
       "grid_area": null,
       "grid_auto_columns": null,
       "grid_auto_flow": null,
       "grid_auto_rows": null,
       "grid_column": null,
       "grid_gap": null,
       "grid_row": null,
       "grid_template_areas": null,
       "grid_template_columns": null,
       "grid_template_rows": null,
       "height": null,
       "justify_content": null,
       "justify_items": null,
       "left": null,
       "margin": null,
       "max_height": null,
       "max_width": null,
       "min_height": null,
       "min_width": null,
       "object_fit": null,
       "object_position": null,
       "order": null,
       "overflow": null,
       "overflow_x": null,
       "overflow_y": null,
       "padding": null,
       "right": null,
       "top": null,
       "visibility": null,
       "width": "20px"
      }
     },
     "342327bca2c74ddc9637d3b0c666c449": {
      "model_module": "@jupyter-widgets/base",
      "model_module_version": "1.2.0",
      "model_name": "LayoutModel",
      "state": {
       "_model_module": "@jupyter-widgets/base",
       "_model_module_version": "1.2.0",
       "_model_name": "LayoutModel",
       "_view_count": null,
       "_view_module": "@jupyter-widgets/base",
       "_view_module_version": "1.2.0",
       "_view_name": "LayoutView",
       "align_content": null,
       "align_items": null,
       "align_self": null,
       "border": null,
       "bottom": null,
       "display": null,
       "flex": null,
       "flex_flow": null,
       "grid_area": null,
       "grid_auto_columns": null,
       "grid_auto_flow": null,
       "grid_auto_rows": null,
       "grid_column": null,
       "grid_gap": null,
       "grid_row": null,
       "grid_template_areas": null,
       "grid_template_columns": null,
       "grid_template_rows": null,
       "height": null,
       "justify_content": null,
       "justify_items": null,
       "left": null,
       "margin": null,
       "max_height": null,
       "max_width": null,
       "min_height": null,
       "min_width": null,
       "object_fit": null,
       "object_position": null,
       "order": null,
       "overflow": null,
       "overflow_x": null,
       "overflow_y": null,
       "padding": null,
       "right": null,
       "top": null,
       "visibility": null,
       "width": null
      }
     },
     "34c382cb0d0549af9fe2794a77a441f1": {
      "model_module": "@jupyter-widgets/controls",
      "model_module_version": "1.5.0",
      "model_name": "HBoxModel",
      "state": {
       "_dom_classes": [],
       "_model_module": "@jupyter-widgets/controls",
       "_model_module_version": "1.5.0",
       "_model_name": "HBoxModel",
       "_view_count": null,
       "_view_module": "@jupyter-widgets/controls",
       "_view_module_version": "1.5.0",
       "_view_name": "HBoxView",
       "box_style": "",
       "children": [
        "IPY_MODEL_fd2a17d92a794d89aaf41ef21a2df053",
        "IPY_MODEL_1d83eec484e042c1a9259617de0f4601",
        "IPY_MODEL_ced7f33e8b85472b90bafff6ecc27bbe"
       ],
       "layout": "IPY_MODEL_20a724345b12407696991b98a4dff8bd"
      }
     },
     "36387502cc5441dda69f8d7b9758de79": {
      "model_module": "@jupyter-widgets/controls",
      "model_module_version": "1.5.0",
      "model_name": "HTMLModel",
      "state": {
       "_dom_classes": [],
       "_model_module": "@jupyter-widgets/controls",
       "_model_module_version": "1.5.0",
       "_model_name": "HTMLModel",
       "_view_count": null,
       "_view_module": "@jupyter-widgets/controls",
       "_view_module_version": "1.5.0",
       "_view_name": "HTMLView",
       "description": "",
       "description_tooltip": null,
       "layout": "IPY_MODEL_3f2ed6eb7671447d8bf667fb462daa78",
       "placeholder": "​",
       "style": "IPY_MODEL_95af78f5c4084d7cb1ad6e1f737b086e",
       "value": "Packets:   "
      }
     },
     "364a18dd2951407598652d9b6fc21772": {
      "model_module": "@jupyter-widgets/base",
      "model_module_version": "1.2.0",
      "model_name": "LayoutModel",
      "state": {
       "_model_module": "@jupyter-widgets/base",
       "_model_module_version": "1.2.0",
       "_model_name": "LayoutModel",
       "_view_count": null,
       "_view_module": "@jupyter-widgets/base",
       "_view_module_version": "1.2.0",
       "_view_name": "LayoutView",
       "align_content": null,
       "align_items": null,
       "align_self": null,
       "border": null,
       "bottom": null,
       "display": null,
       "flex": null,
       "flex_flow": null,
       "grid_area": null,
       "grid_auto_columns": null,
       "grid_auto_flow": null,
       "grid_auto_rows": null,
       "grid_column": null,
       "grid_gap": null,
       "grid_row": null,
       "grid_template_areas": null,
       "grid_template_columns": null,
       "grid_template_rows": null,
       "height": null,
       "justify_content": null,
       "justify_items": null,
       "left": null,
       "margin": null,
       "max_height": null,
       "max_width": null,
       "min_height": null,
       "min_width": null,
       "object_fit": null,
       "object_position": null,
       "order": null,
       "overflow": null,
       "overflow_x": null,
       "overflow_y": null,
       "padding": null,
       "right": null,
       "top": null,
       "visibility": null,
       "width": null
      }
     },
     "37c8d317dc0146dd89ddb8bf801e4e98": {
      "model_module": "@jupyter-widgets/base",
      "model_module_version": "1.2.0",
      "model_name": "LayoutModel",
      "state": {
       "_model_module": "@jupyter-widgets/base",
       "_model_module_version": "1.2.0",
       "_model_name": "LayoutModel",
       "_view_count": null,
       "_view_module": "@jupyter-widgets/base",
       "_view_module_version": "1.2.0",
       "_view_name": "LayoutView",
       "align_content": null,
       "align_items": null,
       "align_self": null,
       "border": null,
       "bottom": null,
       "display": null,
       "flex": null,
       "flex_flow": null,
       "grid_area": null,
       "grid_auto_columns": null,
       "grid_auto_flow": null,
       "grid_auto_rows": null,
       "grid_column": null,
       "grid_gap": null,
       "grid_row": null,
       "grid_template_areas": null,
       "grid_template_columns": null,
       "grid_template_rows": null,
       "height": null,
       "justify_content": null,
       "justify_items": null,
       "left": null,
       "margin": null,
       "max_height": null,
       "max_width": null,
       "min_height": null,
       "min_width": null,
       "object_fit": null,
       "object_position": null,
       "order": null,
       "overflow": null,
       "overflow_x": null,
       "overflow_y": null,
       "padding": null,
       "right": null,
       "top": null,
       "visibility": null,
       "width": "6%"
      }
     },
     "3a66cad4d7f946dd8589e2e19e099067": {
      "model_module": "@jupyter-widgets/controls",
      "model_module_version": "1.5.0",
      "model_name": "DescriptionStyleModel",
      "state": {
       "_model_module": "@jupyter-widgets/controls",
       "_model_module_version": "1.5.0",
       "_model_name": "DescriptionStyleModel",
       "_view_count": null,
       "_view_module": "@jupyter-widgets/base",
       "_view_module_version": "1.2.0",
       "_view_name": "StyleView",
       "description_width": ""
      }
     },
     "3ccbb70420674a0691da1487e55f3253": {
      "model_module": "@jupyter-widgets/base",
      "model_module_version": "1.2.0",
      "model_name": "LayoutModel",
      "state": {
       "_model_module": "@jupyter-widgets/base",
       "_model_module_version": "1.2.0",
       "_model_name": "LayoutModel",
       "_view_count": null,
       "_view_module": "@jupyter-widgets/base",
       "_view_module_version": "1.2.0",
       "_view_name": "LayoutView",
       "align_content": null,
       "align_items": null,
       "align_self": null,
       "border": null,
       "bottom": null,
       "display": null,
       "flex": null,
       "flex_flow": null,
       "grid_area": null,
       "grid_auto_columns": null,
       "grid_auto_flow": null,
       "grid_auto_rows": null,
       "grid_column": null,
       "grid_gap": null,
       "grid_row": null,
       "grid_template_areas": null,
       "grid_template_columns": null,
       "grid_template_rows": null,
       "height": null,
       "justify_content": null,
       "justify_items": null,
       "left": null,
       "margin": null,
       "max_height": null,
       "max_width": null,
       "min_height": null,
       "min_width": null,
       "object_fit": null,
       "object_position": null,
       "order": null,
       "overflow": null,
       "overflow_x": null,
       "overflow_y": null,
       "padding": null,
       "right": null,
       "top": null,
       "visibility": null,
       "width": null
      }
     },
     "3d3b10102a5d484f91e5d7ae8283a1a7": {
      "model_module": "@jupyter-widgets/controls",
      "model_module_version": "1.5.0",
      "model_name": "DescriptionStyleModel",
      "state": {
       "_model_module": "@jupyter-widgets/controls",
       "_model_module_version": "1.5.0",
       "_model_name": "DescriptionStyleModel",
       "_view_count": null,
       "_view_module": "@jupyter-widgets/base",
       "_view_module_version": "1.2.0",
       "_view_name": "StyleView",
       "description_width": ""
      }
     },
     "3f2ed6eb7671447d8bf667fb462daa78": {
      "model_module": "@jupyter-widgets/base",
      "model_module_version": "1.2.0",
      "model_name": "LayoutModel",
      "state": {
       "_model_module": "@jupyter-widgets/base",
       "_model_module_version": "1.2.0",
       "_model_name": "LayoutModel",
       "_view_count": null,
       "_view_module": "@jupyter-widgets/base",
       "_view_module_version": "1.2.0",
       "_view_name": "LayoutView",
       "align_content": null,
       "align_items": null,
       "align_self": null,
       "border": null,
       "bottom": null,
       "display": null,
       "flex": null,
       "flex_flow": null,
       "grid_area": null,
       "grid_auto_columns": null,
       "grid_auto_flow": null,
       "grid_auto_rows": null,
       "grid_column": null,
       "grid_gap": null,
       "grid_row": null,
       "grid_template_areas": null,
       "grid_template_columns": null,
       "grid_template_rows": null,
       "height": null,
       "justify_content": null,
       "justify_items": null,
       "left": null,
       "margin": null,
       "max_height": null,
       "max_width": null,
       "min_height": null,
       "min_width": null,
       "object_fit": null,
       "object_position": null,
       "order": null,
       "overflow": null,
       "overflow_x": null,
       "overflow_y": null,
       "padding": null,
       "right": null,
       "top": null,
       "visibility": null,
       "width": "6%"
      }
     },
     "3fffafc4539a4048b916407795bfa02e": {
      "model_module": "@jupyter-widgets/controls",
      "model_module_version": "1.5.0",
      "model_name": "FloatProgressModel",
      "state": {
       "_dom_classes": [],
       "_model_module": "@jupyter-widgets/controls",
       "_model_module_version": "1.5.0",
       "_model_name": "FloatProgressModel",
       "_view_count": null,
       "_view_module": "@jupyter-widgets/controls",
       "_view_module_version": "1.5.0",
       "_view_name": "ProgressView",
       "bar_style": "",
       "description": "",
       "description_tooltip": null,
       "layout": "IPY_MODEL_50d65ab6c29046ac874ebb269a0abebd",
       "max": 10000.0,
       "min": 0.0,
       "orientation": "horizontal",
       "style": "IPY_MODEL_1cd67f0958074047984b5e73462fafde",
       "value": 10000.0
      }
     },
     "41456f4dd8ee413c8fee28385f1be758": {
      "model_module": "@jupyter-widgets/controls",
      "model_module_version": "1.5.0",
      "model_name": "HTMLModel",
      "state": {
       "_dom_classes": [],
       "_model_module": "@jupyter-widgets/controls",
       "_model_module_version": "1.5.0",
       "_model_name": "HTMLModel",
       "_view_count": null,
       "_view_module": "@jupyter-widgets/controls",
       "_view_module_version": "1.5.0",
       "_view_name": "HTMLView",
       "description": "",
       "description_tooltip": null,
       "layout": "IPY_MODEL_c308cd72df66461db0635886309f4ba9",
       "placeholder": "​",
       "style": "IPY_MODEL_5fe12dadde1448b783ded165b85f9b89",
       "value": "Iterations:"
      }
     },
     "441f5098c5734942a09d9b6e29a5b954": {
      "model_module": "@jupyter-widgets/base",
      "model_module_version": "1.2.0",
      "model_name": "LayoutModel",
      "state": {
       "_model_module": "@jupyter-widgets/base",
       "_model_module_version": "1.2.0",
       "_model_name": "LayoutModel",
       "_view_count": null,
       "_view_module": "@jupyter-widgets/base",
       "_view_module_version": "1.2.0",
       "_view_name": "LayoutView",
       "align_content": null,
       "align_items": null,
       "align_self": null,
       "border": null,
       "bottom": null,
       "display": null,
       "flex": null,
       "flex_flow": null,
       "grid_area": null,
       "grid_auto_columns": null,
       "grid_auto_flow": null,
       "grid_auto_rows": null,
       "grid_column": null,
       "grid_gap": null,
       "grid_row": null,
       "grid_template_areas": null,
       "grid_template_columns": null,
       "grid_template_rows": null,
       "height": null,
       "justify_content": null,
       "justify_items": null,
       "left": null,
       "margin": null,
       "max_height": null,
       "max_width": null,
       "min_height": null,
       "min_width": null,
       "object_fit": null,
       "object_position": null,
       "order": null,
       "overflow": null,
       "overflow_x": null,
       "overflow_y": null,
       "padding": null,
       "right": null,
       "top": null,
       "visibility": null,
       "width": "60%"
      }
     },
     "448f21d6a27440c39fcfd9f9b7382d2f": {
      "model_module": "@jupyter-widgets/controls",
      "model_module_version": "1.5.0",
      "model_name": "FloatProgressModel",
      "state": {
       "_dom_classes": [],
       "_model_module": "@jupyter-widgets/controls",
       "_model_module_version": "1.5.0",
       "_model_name": "FloatProgressModel",
       "_view_count": null,
       "_view_module": "@jupyter-widgets/controls",
       "_view_module_version": "1.5.0",
       "_view_name": "ProgressView",
       "bar_style": "",
       "description": "",
       "description_tooltip": null,
       "layout": "IPY_MODEL_1a97651fddbe4e1cb229609c22e4d132",
       "max": 5.0,
       "min": 0.0,
       "orientation": "horizontal",
       "style": "IPY_MODEL_06d5a45da28f4f6e944310c74dfdd452",
       "value": 4.0
      }
     },
     "44f2e4d3269e40cab87834ec4084ee79": {
      "model_module": "@jupyter-widgets/base",
      "model_module_version": "1.2.0",
      "model_name": "LayoutModel",
      "state": {
       "_model_module": "@jupyter-widgets/base",
       "_model_module_version": "1.2.0",
       "_model_name": "LayoutModel",
       "_view_count": null,
       "_view_module": "@jupyter-widgets/base",
       "_view_module_version": "1.2.0",
       "_view_name": "LayoutView",
       "align_content": null,
       "align_items": null,
       "align_self": null,
       "border": null,
       "bottom": null,
       "display": null,
       "flex": null,
       "flex_flow": null,
       "grid_area": null,
       "grid_auto_columns": null,
       "grid_auto_flow": null,
       "grid_auto_rows": null,
       "grid_column": null,
       "grid_gap": null,
       "grid_row": null,
       "grid_template_areas": null,
       "grid_template_columns": null,
       "grid_template_rows": null,
       "height": null,
       "justify_content": null,
       "justify_items": null,
       "left": null,
       "margin": null,
       "max_height": null,
       "max_width": null,
       "min_height": null,
       "min_width": null,
       "object_fit": null,
       "object_position": null,
       "order": null,
       "overflow": null,
       "overflow_x": null,
       "overflow_y": null,
       "padding": null,
       "right": null,
       "top": null,
       "visibility": null,
       "width": null
      }
     },
     "45f27a4b23d44495b0049f3e5bda8eb9": {
      "model_module": "@jupyter-widgets/controls",
      "model_module_version": "1.5.0",
      "model_name": "HTMLModel",
      "state": {
       "_dom_classes": [],
       "_model_module": "@jupyter-widgets/controls",
       "_model_module_version": "1.5.0",
       "_model_name": "HTMLModel",
       "_view_count": null,
       "_view_module": "@jupyter-widgets/controls",
       "_view_module_version": "1.5.0",
       "_view_name": "HTMLView",
       "description": "",
       "description_tooltip": null,
       "layout": "IPY_MODEL_a5a1889b925d42ea9d66dddf30f7ae3e",
       "placeholder": "​",
       "style": "IPY_MODEL_b40abf0951fd4f8db53613def7302ae3",
       "value": "Packets:   "
      }
     },
     "465946ab44464aaca3e369c143df4353": {
      "model_module": "@jupyter-widgets/controls",
      "model_module_version": "1.5.0",
      "model_name": "HBoxModel",
      "state": {
       "_dom_classes": [],
       "_model_module": "@jupyter-widgets/controls",
       "_model_module_version": "1.5.0",
       "_model_name": "HBoxModel",
       "_view_count": null,
       "_view_module": "@jupyter-widgets/controls",
       "_view_module_version": "1.5.0",
       "_view_name": "HBoxView",
       "box_style": "",
       "children": [
        "IPY_MODEL_508de7bfb68e417ba2da7db5055736f7",
        "IPY_MODEL_9f5a2012df414dc8b67676b6ade86056",
        "IPY_MODEL_4aad9e8fc6364675ab8944e816b290bb"
       ],
       "layout": "IPY_MODEL_83b763a5ecb144b097d70ae67ae69278"
      }
     },
     "46789145371848d1b8355238594ae509": {
      "model_module": "@jupyter-widgets/controls",
      "model_module_version": "1.5.0",
      "model_name": "HBoxModel",
      "state": {
       "_dom_classes": [],
       "_model_module": "@jupyter-widgets/controls",
       "_model_module_version": "1.5.0",
       "_model_name": "HBoxModel",
       "_view_count": null,
       "_view_module": "@jupyter-widgets/controls",
       "_view_module_version": "1.5.0",
       "_view_name": "HBoxView",
       "box_style": "",
       "children": [
        "IPY_MODEL_89b3fe5c3cf34c41a45c62820d71f938",
        "IPY_MODEL_dfdf21e948264c53ae6d52260fbc8761",
        "IPY_MODEL_198d965bd0f84c32a05538acf940d364"
       ],
       "layout": "IPY_MODEL_7c045a9846e24276a5a31b1249a407e7"
      }
     },
     "48a82739a91f49f0ad1392fadbabd4c3": {
      "model_module": "@jupyter-widgets/controls",
      "model_module_version": "1.5.0",
      "model_name": "DescriptionStyleModel",
      "state": {
       "_model_module": "@jupyter-widgets/controls",
       "_model_module_version": "1.5.0",
       "_model_name": "DescriptionStyleModel",
       "_view_count": null,
       "_view_module": "@jupyter-widgets/base",
       "_view_module_version": "1.2.0",
       "_view_name": "StyleView",
       "description_width": ""
      }
     },
     "48bb37982f204bb6be6a5e098635d35a": {
      "model_module": "@jupyter-widgets/base",
      "model_module_version": "1.2.0",
      "model_name": "LayoutModel",
      "state": {
       "_model_module": "@jupyter-widgets/base",
       "_model_module_version": "1.2.0",
       "_model_name": "LayoutModel",
       "_view_count": null,
       "_view_module": "@jupyter-widgets/base",
       "_view_module_version": "1.2.0",
       "_view_name": "LayoutView",
       "align_content": null,
       "align_items": null,
       "align_self": null,
       "border": null,
       "bottom": null,
       "display": null,
       "flex": null,
       "flex_flow": null,
       "grid_area": null,
       "grid_auto_columns": null,
       "grid_auto_flow": null,
       "grid_auto_rows": null,
       "grid_column": null,
       "grid_gap": null,
       "grid_row": null,
       "grid_template_areas": null,
       "grid_template_columns": null,
       "grid_template_rows": null,
       "height": null,
       "justify_content": null,
       "justify_items": null,
       "left": null,
       "margin": null,
       "max_height": null,
       "max_width": null,
       "min_height": null,
       "min_width": null,
       "object_fit": null,
       "object_position": null,
       "order": null,
       "overflow": null,
       "overflow_x": null,
       "overflow_y": null,
       "padding": null,
       "right": null,
       "top": null,
       "visibility": null,
       "width": null
      }
     },
     "4a07b3025683406ca174dcb368bd6f36": {
      "model_module": "@jupyter-widgets/controls",
      "model_module_version": "1.5.0",
      "model_name": "HTMLModel",
      "state": {
       "_dom_classes": [],
       "_model_module": "@jupyter-widgets/controls",
       "_model_module_version": "1.5.0",
       "_model_name": "HTMLModel",
       "_view_count": null,
       "_view_module": "@jupyter-widgets/controls",
       "_view_module_version": "1.5.0",
       "_view_name": "HTMLView",
       "description": "",
       "description_tooltip": null,
       "layout": "IPY_MODEL_94a23cf7350d4dc18b6dda9c0f404ef6",
       "placeholder": "​",
       "style": "IPY_MODEL_e867634597074b41a53061a3ce9c7ca6",
       "value": "4/5 [00:00&lt;00:00, 11.16it/s]"
      }
     },
     "4aad9e8fc6364675ab8944e816b290bb": {
      "model_module": "@jupyter-widgets/controls",
      "model_module_version": "1.5.0",
      "model_name": "HTMLModel",
      "state": {
       "_dom_classes": [],
       "_model_module": "@jupyter-widgets/controls",
       "_model_module_version": "1.5.0",
       "_model_name": "HTMLModel",
       "_view_count": null,
       "_view_module": "@jupyter-widgets/controls",
       "_view_module_version": "1.5.0",
       "_view_name": "HTMLView",
       "description": "",
       "description_tooltip": null,
       "layout": "IPY_MODEL_4bef92ee8e2f48d39b224fc9fa93c762",
       "placeholder": "​",
       "style": "IPY_MODEL_ac1b44ba67ae45538555b11b295ff447",
       "value": "10000/10000 [00:00&lt;00:00, 63169.01it/s]"
      }
     },
     "4b467250202c4a46bc53e05f12757351": {
      "model_module": "@jupyter-widgets/controls",
      "model_module_version": "1.5.0",
      "model_name": "ProgressStyleModel",
      "state": {
       "_model_module": "@jupyter-widgets/controls",
       "_model_module_version": "1.5.0",
       "_model_name": "ProgressStyleModel",
       "_view_count": null,
       "_view_module": "@jupyter-widgets/base",
       "_view_module_version": "1.2.0",
       "_view_name": "StyleView",
       "bar_color": null,
       "description_width": ""
      }
     },
     "4bef92ee8e2f48d39b224fc9fa93c762": {
      "model_module": "@jupyter-widgets/base",
      "model_module_version": "1.2.0",
      "model_name": "LayoutModel",
      "state": {
       "_model_module": "@jupyter-widgets/base",
       "_model_module_version": "1.2.0",
       "_model_name": "LayoutModel",
       "_view_count": null,
       "_view_module": "@jupyter-widgets/base",
       "_view_module_version": "1.2.0",
       "_view_name": "LayoutView",
       "align_content": null,
       "align_items": null,
       "align_self": null,
       "border": null,
       "bottom": null,
       "display": null,
       "flex": null,
       "flex_flow": null,
       "grid_area": null,
       "grid_auto_columns": null,
       "grid_auto_flow": null,
       "grid_auto_rows": null,
       "grid_column": null,
       "grid_gap": null,
       "grid_row": null,
       "grid_template_areas": null,
       "grid_template_columns": null,
       "grid_template_rows": null,
       "height": null,
       "justify_content": null,
       "justify_items": null,
       "left": null,
       "margin": null,
       "max_height": null,
       "max_width": null,
       "min_height": null,
       "min_width": null,
       "object_fit": null,
       "object_position": null,
       "order": null,
       "overflow": null,
       "overflow_x": null,
       "overflow_y": null,
       "padding": null,
       "right": null,
       "top": null,
       "visibility": null,
       "width": null
      }
     },
     "4c9712572a244f65a8895f9eb9a72b8b": {
      "model_module": "@jupyter-widgets/controls",
      "model_module_version": "1.5.0",
      "model_name": "HBoxModel",
      "state": {
       "_dom_classes": [],
       "_model_module": "@jupyter-widgets/controls",
       "_model_module_version": "1.5.0",
       "_model_name": "HBoxModel",
       "_view_count": null,
       "_view_module": "@jupyter-widgets/controls",
       "_view_module_version": "1.5.0",
       "_view_name": "HBoxView",
       "box_style": "",
       "children": [
        "IPY_MODEL_52a1e388bc90493ca34975b720463e82",
        "IPY_MODEL_8b909dea13ae49fca26987e967237b2b",
        "IPY_MODEL_8f24bcf88d464669bc61ee2da4f85fa0"
       ],
       "layout": "IPY_MODEL_a4c4279e76dd41a2ae4df2c9133f5544"
      }
     },
     "4d0b3486fbaf46e0992286e19631515a": {
      "model_module": "@jupyter-widgets/controls",
      "model_module_version": "1.5.0",
      "model_name": "HBoxModel",
      "state": {
       "_dom_classes": [],
       "_model_module": "@jupyter-widgets/controls",
       "_model_module_version": "1.5.0",
       "_model_name": "HBoxModel",
       "_view_count": null,
       "_view_module": "@jupyter-widgets/controls",
       "_view_module_version": "1.5.0",
       "_view_name": "HBoxView",
       "box_style": "",
       "children": [
        "IPY_MODEL_f776fda956274887bc815c0f3364940b",
        "IPY_MODEL_a3c66df2ed434132b18113c26c01ba11",
        "IPY_MODEL_9c533b35d38842c092a23dd5ed81fd94"
       ],
       "layout": "IPY_MODEL_6db87eab12664dbab82f60427f7d5746"
      }
     },
     "4e9c796d634742489e63a618d8e9fb3b": {
      "model_module": "@jupyter-widgets/controls",
      "model_module_version": "1.5.0",
      "model_name": "ProgressStyleModel",
      "state": {
       "_model_module": "@jupyter-widgets/controls",
       "_model_module_version": "1.5.0",
       "_model_name": "ProgressStyleModel",
       "_view_count": null,
       "_view_module": "@jupyter-widgets/base",
       "_view_module_version": "1.2.0",
       "_view_name": "StyleView",
       "bar_color": null,
       "description_width": ""
      }
     },
     "504b3749c4bf495988fbb196f9a5ddaa": {
      "model_module": "@jupyter-widgets/base",
      "model_module_version": "1.2.0",
      "model_name": "LayoutModel",
      "state": {
       "_model_module": "@jupyter-widgets/base",
       "_model_module_version": "1.2.0",
       "_model_name": "LayoutModel",
       "_view_count": null,
       "_view_module": "@jupyter-widgets/base",
       "_view_module_version": "1.2.0",
       "_view_name": "LayoutView",
       "align_content": null,
       "align_items": null,
       "align_self": null,
       "border": null,
       "bottom": null,
       "display": null,
       "flex": null,
       "flex_flow": null,
       "grid_area": null,
       "grid_auto_columns": null,
       "grid_auto_flow": null,
       "grid_auto_rows": null,
       "grid_column": null,
       "grid_gap": null,
       "grid_row": null,
       "grid_template_areas": null,
       "grid_template_columns": null,
       "grid_template_rows": null,
       "height": null,
       "justify_content": null,
       "justify_items": null,
       "left": null,
       "margin": null,
       "max_height": null,
       "max_width": null,
       "min_height": null,
       "min_width": null,
       "object_fit": null,
       "object_position": null,
       "order": null,
       "overflow": null,
       "overflow_x": null,
       "overflow_y": null,
       "padding": null,
       "right": null,
       "top": null,
       "visibility": null,
       "width": null
      }
     },
     "508de7bfb68e417ba2da7db5055736f7": {
      "model_module": "@jupyter-widgets/controls",
      "model_module_version": "1.5.0",
      "model_name": "HTMLModel",
      "state": {
       "_dom_classes": [],
       "_model_module": "@jupyter-widgets/controls",
       "_model_module_version": "1.5.0",
       "_model_name": "HTMLModel",
       "_view_count": null,
       "_view_module": "@jupyter-widgets/controls",
       "_view_module_version": "1.5.0",
       "_view_name": "HTMLView",
       "description": "",
       "description_tooltip": null,
       "layout": "IPY_MODEL_bfb0c96b221540618159961305adf075",
       "placeholder": "​",
       "style": "IPY_MODEL_8598d2acba2f44be80baa852292739f6",
       "value": "Packets:   "
      }
     },
     "50d65ab6c29046ac874ebb269a0abebd": {
      "model_module": "@jupyter-widgets/base",
      "model_module_version": "1.2.0",
      "model_name": "LayoutModel",
      "state": {
       "_model_module": "@jupyter-widgets/base",
       "_model_module_version": "1.2.0",
       "_model_name": "LayoutModel",
       "_view_count": null,
       "_view_module": "@jupyter-widgets/base",
       "_view_module_version": "1.2.0",
       "_view_name": "LayoutView",
       "align_content": null,
       "align_items": null,
       "align_self": null,
       "border": null,
       "bottom": null,
       "display": null,
       "flex": null,
       "flex_flow": null,
       "grid_area": null,
       "grid_auto_columns": null,
       "grid_auto_flow": null,
       "grid_auto_rows": null,
       "grid_column": null,
       "grid_gap": null,
       "grid_row": null,
       "grid_template_areas": null,
       "grid_template_columns": null,
       "grid_template_rows": null,
       "height": null,
       "justify_content": null,
       "justify_items": null,
       "left": null,
       "margin": null,
       "max_height": null,
       "max_width": null,
       "min_height": null,
       "min_width": null,
       "object_fit": null,
       "object_position": null,
       "order": null,
       "overflow": null,
       "overflow_x": null,
       "overflow_y": null,
       "padding": null,
       "right": null,
       "top": null,
       "visibility": null,
       "width": "60%"
      }
     },
     "511bc5ee1c7f4850a5e8b242167a7bd3": {
      "model_module": "@jupyter-widgets/controls",
      "model_module_version": "1.5.0",
      "model_name": "HTMLModel",
      "state": {
       "_dom_classes": [],
       "_model_module": "@jupyter-widgets/controls",
       "_model_module_version": "1.5.0",
       "_model_name": "HTMLModel",
       "_view_count": null,
       "_view_module": "@jupyter-widgets/controls",
       "_view_module_version": "1.5.0",
       "_view_name": "HTMLView",
       "description": "",
       "description_tooltip": null,
       "layout": "IPY_MODEL_d6878b403026430e82752a9b56f24bd0",
       "placeholder": "​",
       "style": "IPY_MODEL_b0aa19e0869747e1a46d5cdbd8470f77",
       "value": "0/? [00:00&lt;?, ?it/s]"
      }
     },
     "52437a44c1ef4fcfb62332f01ceba2af": {
      "model_module": "@jupyter-widgets/controls",
      "model_module_version": "1.5.0",
      "model_name": "DescriptionStyleModel",
      "state": {
       "_model_module": "@jupyter-widgets/controls",
       "_model_module_version": "1.5.0",
       "_model_name": "DescriptionStyleModel",
       "_view_count": null,
       "_view_module": "@jupyter-widgets/base",
       "_view_module_version": "1.2.0",
       "_view_name": "StyleView",
       "description_width": ""
      }
     },
     "524f70710d504acba3799e8b129a98f6": {
      "model_module": "@jupyter-widgets/controls",
      "model_module_version": "1.5.0",
      "model_name": "HBoxModel",
      "state": {
       "_dom_classes": [],
       "_model_module": "@jupyter-widgets/controls",
       "_model_module_version": "1.5.0",
       "_model_name": "HBoxModel",
       "_view_count": null,
       "_view_module": "@jupyter-widgets/controls",
       "_view_module_version": "1.5.0",
       "_view_name": "HBoxView",
       "box_style": "",
       "children": [
        "IPY_MODEL_41456f4dd8ee413c8fee28385f1be758",
        "IPY_MODEL_448f21d6a27440c39fcfd9f9b7382d2f",
        "IPY_MODEL_2af372c34e7b45ee80e8ee7baaf5a423"
       ],
       "layout": "IPY_MODEL_fa84794d63b94238ad35c03fc53f5c79"
      }
     },
     "5284179e1dbf4df38ae490b38ea3fd1e": {
      "model_module": "@jupyter-widgets/controls",
      "model_module_version": "1.5.0",
      "model_name": "DescriptionStyleModel",
      "state": {
       "_model_module": "@jupyter-widgets/controls",
       "_model_module_version": "1.5.0",
       "_model_name": "DescriptionStyleModel",
       "_view_count": null,
       "_view_module": "@jupyter-widgets/base",
       "_view_module_version": "1.2.0",
       "_view_name": "StyleView",
       "description_width": ""
      }
     },
     "52a1e388bc90493ca34975b720463e82": {
      "model_module": "@jupyter-widgets/controls",
      "model_module_version": "1.5.0",
      "model_name": "HTMLModel",
      "state": {
       "_dom_classes": [],
       "_model_module": "@jupyter-widgets/controls",
       "_model_module_version": "1.5.0",
       "_model_name": "HTMLModel",
       "_view_count": null,
       "_view_module": "@jupyter-widgets/controls",
       "_view_module_version": "1.5.0",
       "_view_name": "HTMLView",
       "description": "",
       "description_tooltip": null,
       "layout": "IPY_MODEL_ac5598a52f4e48388c94e1c980dd338c",
       "placeholder": "​",
       "style": "IPY_MODEL_5c026eb6af1343e6880595d9179a9253",
       "value": "Iterations:"
      }
     },
     "561290e4124342a78028b2a49872bd20": {
      "model_module": "@jupyter-widgets/controls",
      "model_module_version": "1.5.0",
      "model_name": "HBoxModel",
      "state": {
       "_dom_classes": [],
       "_model_module": "@jupyter-widgets/controls",
       "_model_module_version": "1.5.0",
       "_model_name": "HBoxModel",
       "_view_count": null,
       "_view_module": "@jupyter-widgets/controls",
       "_view_module_version": "1.5.0",
       "_view_name": "HBoxView",
       "box_style": "",
       "children": [
        "IPY_MODEL_0d557deb15954ff7a7bf9c9f3da08e1e",
        "IPY_MODEL_ae4ca3493a954cc0abdbf89456d6d0ea",
        "IPY_MODEL_4a07b3025683406ca174dcb368bd6f36"
       ],
       "layout": "IPY_MODEL_1e40bf1ff22748f280d2bd46685f200d"
      }
     },
     "561745ce20654e62a39241dcee81e452": {
      "model_module": "@jupyter-widgets/controls",
      "model_module_version": "1.5.0",
      "model_name": "ProgressStyleModel",
      "state": {
       "_model_module": "@jupyter-widgets/controls",
       "_model_module_version": "1.5.0",
       "_model_name": "ProgressStyleModel",
       "_view_count": null,
       "_view_module": "@jupyter-widgets/base",
       "_view_module_version": "1.2.0",
       "_view_name": "StyleView",
       "bar_color": null,
       "description_width": ""
      }
     },
     "56b69dd37b2e4043927b847060d8b57d": {
      "model_module": "@jupyter-widgets/controls",
      "model_module_version": "1.5.0",
      "model_name": "ProgressStyleModel",
      "state": {
       "_model_module": "@jupyter-widgets/controls",
       "_model_module_version": "1.5.0",
       "_model_name": "ProgressStyleModel",
       "_view_count": null,
       "_view_module": "@jupyter-widgets/base",
       "_view_module_version": "1.2.0",
       "_view_name": "StyleView",
       "bar_color": null,
       "description_width": ""
      }
     },
     "56cf3abc5d67430697d894ec5a864a09": {
      "model_module": "@jupyter-widgets/base",
      "model_module_version": "1.2.0",
      "model_name": "LayoutModel",
      "state": {
       "_model_module": "@jupyter-widgets/base",
       "_model_module_version": "1.2.0",
       "_model_name": "LayoutModel",
       "_view_count": null,
       "_view_module": "@jupyter-widgets/base",
       "_view_module_version": "1.2.0",
       "_view_name": "LayoutView",
       "align_content": null,
       "align_items": null,
       "align_self": null,
       "border": null,
       "bottom": null,
       "display": null,
       "flex": null,
       "flex_flow": null,
       "grid_area": null,
       "grid_auto_columns": null,
       "grid_auto_flow": null,
       "grid_auto_rows": null,
       "grid_column": null,
       "grid_gap": null,
       "grid_row": null,
       "grid_template_areas": null,
       "grid_template_columns": null,
       "grid_template_rows": null,
       "height": null,
       "justify_content": null,
       "justify_items": null,
       "left": null,
       "margin": null,
       "max_height": null,
       "max_width": null,
       "min_height": null,
       "min_width": null,
       "object_fit": null,
       "object_position": null,
       "order": null,
       "overflow": null,
       "overflow_x": null,
       "overflow_y": null,
       "padding": null,
       "right": null,
       "top": null,
       "visibility": null,
       "width": null
      }
     },
     "573c06a1c98b4003a0dbbf6893eb51db": {
      "model_module": "@jupyter-widgets/controls",
      "model_module_version": "1.5.0",
      "model_name": "ProgressStyleModel",
      "state": {
       "_model_module": "@jupyter-widgets/controls",
       "_model_module_version": "1.5.0",
       "_model_name": "ProgressStyleModel",
       "_view_count": null,
       "_view_module": "@jupyter-widgets/base",
       "_view_module_version": "1.2.0",
       "_view_name": "StyleView",
       "bar_color": null,
       "description_width": ""
      }
     },
     "5b7f5749b7564767b2266189cbdc77af": {
      "model_module": "@jupyter-widgets/controls",
      "model_module_version": "1.5.0",
      "model_name": "ProgressStyleModel",
      "state": {
       "_model_module": "@jupyter-widgets/controls",
       "_model_module_version": "1.5.0",
       "_model_name": "ProgressStyleModel",
       "_view_count": null,
       "_view_module": "@jupyter-widgets/base",
       "_view_module_version": "1.2.0",
       "_view_name": "StyleView",
       "bar_color": null,
       "description_width": ""
      }
     },
     "5ba317469697432c843b528115d493b8": {
      "model_module": "@jupyter-widgets/controls",
      "model_module_version": "1.5.0",
      "model_name": "FloatProgressModel",
      "state": {
       "_dom_classes": [],
       "_model_module": "@jupyter-widgets/controls",
       "_model_module_version": "1.5.0",
       "_model_name": "FloatProgressModel",
       "_view_count": null,
       "_view_module": "@jupyter-widgets/controls",
       "_view_module_version": "1.5.0",
       "_view_name": "ProgressView",
       "bar_style": "info",
       "description": "",
       "description_tooltip": null,
       "layout": "IPY_MODEL_318579730fa8434f990b0c25af7d875b",
       "max": 1.0,
       "min": 0.0,
       "orientation": "horizontal",
       "style": "IPY_MODEL_573c06a1c98b4003a0dbbf6893eb51db",
       "value": 0.0
      }
     },
     "5bd6220636bf4469bbb78f6fb6e6e605": {
      "model_module": "@jupyter-widgets/base",
      "model_module_version": "1.2.0",
      "model_name": "LayoutModel",
      "state": {
       "_model_module": "@jupyter-widgets/base",
       "_model_module_version": "1.2.0",
       "_model_name": "LayoutModel",
       "_view_count": null,
       "_view_module": "@jupyter-widgets/base",
       "_view_module_version": "1.2.0",
       "_view_name": "LayoutView",
       "align_content": null,
       "align_items": null,
       "align_self": null,
       "border": null,
       "bottom": null,
       "display": null,
       "flex": null,
       "flex_flow": null,
       "grid_area": null,
       "grid_auto_columns": null,
       "grid_auto_flow": null,
       "grid_auto_rows": null,
       "grid_column": null,
       "grid_gap": null,
       "grid_row": null,
       "grid_template_areas": null,
       "grid_template_columns": null,
       "grid_template_rows": null,
       "height": null,
       "justify_content": null,
       "justify_items": null,
       "left": null,
       "margin": null,
       "max_height": null,
       "max_width": null,
       "min_height": null,
       "min_width": null,
       "object_fit": null,
       "object_position": null,
       "order": null,
       "overflow": null,
       "overflow_x": null,
       "overflow_y": null,
       "padding": null,
       "right": null,
       "top": null,
       "visibility": null,
       "width": null
      }
     },
     "5c026eb6af1343e6880595d9179a9253": {
      "model_module": "@jupyter-widgets/controls",
      "model_module_version": "1.5.0",
      "model_name": "DescriptionStyleModel",
      "state": {
       "_model_module": "@jupyter-widgets/controls",
       "_model_module_version": "1.5.0",
       "_model_name": "DescriptionStyleModel",
       "_view_count": null,
       "_view_module": "@jupyter-widgets/base",
       "_view_module_version": "1.2.0",
       "_view_name": "StyleView",
       "description_width": ""
      }
     },
     "5c1c3ac819004fd28660b389fdcab4a9": {
      "model_module": "@jupyter-widgets/base",
      "model_module_version": "1.2.0",
      "model_name": "LayoutModel",
      "state": {
       "_model_module": "@jupyter-widgets/base",
       "_model_module_version": "1.2.0",
       "_model_name": "LayoutModel",
       "_view_count": null,
       "_view_module": "@jupyter-widgets/base",
       "_view_module_version": "1.2.0",
       "_view_name": "LayoutView",
       "align_content": null,
       "align_items": null,
       "align_self": null,
       "border": null,
       "bottom": null,
       "display": null,
       "flex": null,
       "flex_flow": null,
       "grid_area": null,
       "grid_auto_columns": null,
       "grid_auto_flow": null,
       "grid_auto_rows": null,
       "grid_column": null,
       "grid_gap": null,
       "grid_row": null,
       "grid_template_areas": null,
       "grid_template_columns": null,
       "grid_template_rows": null,
       "height": null,
       "justify_content": null,
       "justify_items": null,
       "left": null,
       "margin": null,
       "max_height": null,
       "max_width": null,
       "min_height": null,
       "min_width": null,
       "object_fit": null,
       "object_position": null,
       "order": null,
       "overflow": null,
       "overflow_x": null,
       "overflow_y": null,
       "padding": null,
       "right": null,
       "top": null,
       "visibility": null,
       "width": "6%"
      }
     },
     "5c2ff08b64bf4f97903501bb0e8ec576": {
      "model_module": "@jupyter-widgets/base",
      "model_module_version": "1.2.0",
      "model_name": "LayoutModel",
      "state": {
       "_model_module": "@jupyter-widgets/base",
       "_model_module_version": "1.2.0",
       "_model_name": "LayoutModel",
       "_view_count": null,
       "_view_module": "@jupyter-widgets/base",
       "_view_module_version": "1.2.0",
       "_view_name": "LayoutView",
       "align_content": null,
       "align_items": null,
       "align_self": null,
       "border": null,
       "bottom": null,
       "display": null,
       "flex": null,
       "flex_flow": null,
       "grid_area": null,
       "grid_auto_columns": null,
       "grid_auto_flow": null,
       "grid_auto_rows": null,
       "grid_column": null,
       "grid_gap": null,
       "grid_row": null,
       "grid_template_areas": null,
       "grid_template_columns": null,
       "grid_template_rows": null,
       "height": null,
       "justify_content": null,
       "justify_items": null,
       "left": null,
       "margin": null,
       "max_height": null,
       "max_width": null,
       "min_height": null,
       "min_width": null,
       "object_fit": null,
       "object_position": null,
       "order": null,
       "overflow": null,
       "overflow_x": null,
       "overflow_y": null,
       "padding": null,
       "right": null,
       "top": null,
       "visibility": null,
       "width": "60%"
      }
     },
     "5edfdbbc12544dcc94d9e965d4c3e55c": {
      "model_module": "@jupyter-widgets/base",
      "model_module_version": "1.2.0",
      "model_name": "LayoutModel",
      "state": {
       "_model_module": "@jupyter-widgets/base",
       "_model_module_version": "1.2.0",
       "_model_name": "LayoutModel",
       "_view_count": null,
       "_view_module": "@jupyter-widgets/base",
       "_view_module_version": "1.2.0",
       "_view_name": "LayoutView",
       "align_content": null,
       "align_items": null,
       "align_self": null,
       "border": null,
       "bottom": null,
       "display": null,
       "flex": null,
       "flex_flow": null,
       "grid_area": null,
       "grid_auto_columns": null,
       "grid_auto_flow": null,
       "grid_auto_rows": null,
       "grid_column": null,
       "grid_gap": null,
       "grid_row": null,
       "grid_template_areas": null,
       "grid_template_columns": null,
       "grid_template_rows": null,
       "height": null,
       "justify_content": null,
       "justify_items": null,
       "left": null,
       "margin": null,
       "max_height": null,
       "max_width": null,
       "min_height": null,
       "min_width": null,
       "object_fit": null,
       "object_position": null,
       "order": null,
       "overflow": null,
       "overflow_x": null,
       "overflow_y": null,
       "padding": null,
       "right": null,
       "top": null,
       "visibility": null,
       "width": "60%"
      }
     },
     "5ef36a740f154db48702d397a69feb4c": {
      "model_module": "@jupyter-widgets/controls",
      "model_module_version": "1.5.0",
      "model_name": "FloatProgressModel",
      "state": {
       "_dom_classes": [],
       "_model_module": "@jupyter-widgets/controls",
       "_model_module_version": "1.5.0",
       "_model_name": "FloatProgressModel",
       "_view_count": null,
       "_view_module": "@jupyter-widgets/controls",
       "_view_module_version": "1.5.0",
       "_view_name": "ProgressView",
       "bar_style": "",
       "description": "",
       "description_tooltip": null,
       "layout": "IPY_MODEL_991b17b677664b98a42ae5dc9431ce86",
       "max": 5.0,
       "min": 0.0,
       "orientation": "horizontal",
       "style": "IPY_MODEL_9bb36d4f30e14562b1ba26d63deee934",
       "value": 4.0
      }
     },
     "5f8bb73e320e4fee9a324aae6684242d": {
      "model_module": "@jupyter-widgets/controls",
      "model_module_version": "1.5.0",
      "model_name": "HTMLModel",
      "state": {
       "_dom_classes": [],
       "_model_module": "@jupyter-widgets/controls",
       "_model_module_version": "1.5.0",
       "_model_name": "HTMLModel",
       "_view_count": null,
       "_view_module": "@jupyter-widgets/controls",
       "_view_module_version": "1.5.0",
       "_view_name": "HTMLView",
       "description": "",
       "description_tooltip": null,
       "layout": "IPY_MODEL_02d57f5dba7746d38ee3a2e28f693322",
       "placeholder": "​",
       "style": "IPY_MODEL_fcb11cd090e94c57928c8f29b5f06811",
       "value": "Iterations:"
      }
     },
     "5fe12dadde1448b783ded165b85f9b89": {
      "model_module": "@jupyter-widgets/controls",
      "model_module_version": "1.5.0",
      "model_name": "DescriptionStyleModel",
      "state": {
       "_model_module": "@jupyter-widgets/controls",
       "_model_module_version": "1.5.0",
       "_model_name": "DescriptionStyleModel",
       "_view_count": null,
       "_view_module": "@jupyter-widgets/base",
       "_view_module_version": "1.2.0",
       "_view_name": "StyleView",
       "description_width": ""
      }
     },
     "602a0409db1b4e9d8ed34b01c88d2325": {
      "model_module": "@jupyter-widgets/base",
      "model_module_version": "1.2.0",
      "model_name": "LayoutModel",
      "state": {
       "_model_module": "@jupyter-widgets/base",
       "_model_module_version": "1.2.0",
       "_model_name": "LayoutModel",
       "_view_count": null,
       "_view_module": "@jupyter-widgets/base",
       "_view_module_version": "1.2.0",
       "_view_name": "LayoutView",
       "align_content": null,
       "align_items": null,
       "align_self": null,
       "border": null,
       "bottom": null,
       "display": null,
       "flex": null,
       "flex_flow": null,
       "grid_area": null,
       "grid_auto_columns": null,
       "grid_auto_flow": null,
       "grid_auto_rows": null,
       "grid_column": null,
       "grid_gap": null,
       "grid_row": null,
       "grid_template_areas": null,
       "grid_template_columns": null,
       "grid_template_rows": null,
       "height": null,
       "justify_content": null,
       "justify_items": null,
       "left": null,
       "margin": null,
       "max_height": null,
       "max_width": null,
       "min_height": null,
       "min_width": null,
       "object_fit": null,
       "object_position": null,
       "order": null,
       "overflow": null,
       "overflow_x": null,
       "overflow_y": null,
       "padding": null,
       "right": null,
       "top": null,
       "visibility": null,
       "width": null
      }
     },
     "6106a943faf549bdbb5a997667a831f5": {
      "model_module": "@jupyter-widgets/controls",
      "model_module_version": "1.5.0",
      "model_name": "HTMLModel",
      "state": {
       "_dom_classes": [],
       "_model_module": "@jupyter-widgets/controls",
       "_model_module_version": "1.5.0",
       "_model_name": "HTMLModel",
       "_view_count": null,
       "_view_module": "@jupyter-widgets/controls",
       "_view_module_version": "1.5.0",
       "_view_name": "HTMLView",
       "description": "",
       "description_tooltip": null,
       "layout": "IPY_MODEL_b9a36b47390c4789b06c96621e529de6",
       "placeholder": "​",
       "style": "IPY_MODEL_81ac5cfb2f1a41df851fa2b2ae2636b7",
       "value": "10000/10000 [00:00&lt;00:00, 61903.12it/s]"
      }
     },
     "61aa283b409149bcb1fb752883814e9a": {
      "model_module": "@jupyter-widgets/controls",
      "model_module_version": "1.5.0",
      "model_name": "DescriptionStyleModel",
      "state": {
       "_model_module": "@jupyter-widgets/controls",
       "_model_module_version": "1.5.0",
       "_model_name": "DescriptionStyleModel",
       "_view_count": null,
       "_view_module": "@jupyter-widgets/base",
       "_view_module_version": "1.2.0",
       "_view_name": "StyleView",
       "description_width": ""
      }
     },
     "64e4f94729b94355ab8c3d437f8858e6": {
      "model_module": "@jupyter-widgets/controls",
      "model_module_version": "1.5.0",
      "model_name": "ProgressStyleModel",
      "state": {
       "_model_module": "@jupyter-widgets/controls",
       "_model_module_version": "1.5.0",
       "_model_name": "ProgressStyleModel",
       "_view_count": null,
       "_view_module": "@jupyter-widgets/base",
       "_view_module_version": "1.2.0",
       "_view_name": "StyleView",
       "bar_color": null,
       "description_width": ""
      }
     },
     "6541a62a8ded4de5a5ebf96aa587f1bd": {
      "model_module": "@jupyter-widgets/base",
      "model_module_version": "1.2.0",
      "model_name": "LayoutModel",
      "state": {
       "_model_module": "@jupyter-widgets/base",
       "_model_module_version": "1.2.0",
       "_model_name": "LayoutModel",
       "_view_count": null,
       "_view_module": "@jupyter-widgets/base",
       "_view_module_version": "1.2.0",
       "_view_name": "LayoutView",
       "align_content": null,
       "align_items": null,
       "align_self": null,
       "border": null,
       "bottom": null,
       "display": null,
       "flex": null,
       "flex_flow": null,
       "grid_area": null,
       "grid_auto_columns": null,
       "grid_auto_flow": null,
       "grid_auto_rows": null,
       "grid_column": null,
       "grid_gap": null,
       "grid_row": null,
       "grid_template_areas": null,
       "grid_template_columns": null,
       "grid_template_rows": null,
       "height": null,
       "justify_content": null,
       "justify_items": null,
       "left": null,
       "margin": null,
       "max_height": null,
       "max_width": null,
       "min_height": null,
       "min_width": null,
       "object_fit": null,
       "object_position": null,
       "order": null,
       "overflow": null,
       "overflow_x": null,
       "overflow_y": null,
       "padding": null,
       "right": null,
       "top": null,
       "visibility": null,
       "width": null
      }
     },
     "6b4f32575ffb490783554efa14ed78e8": {
      "model_module": "@jupyter-widgets/controls",
      "model_module_version": "1.5.0",
      "model_name": "HTMLModel",
      "state": {
       "_dom_classes": [],
       "_model_module": "@jupyter-widgets/controls",
       "_model_module_version": "1.5.0",
       "_model_name": "HTMLModel",
       "_view_count": null,
       "_view_module": "@jupyter-widgets/controls",
       "_view_module_version": "1.5.0",
       "_view_name": "HTMLView",
       "description": "",
       "description_tooltip": null,
       "layout": "IPY_MODEL_5c1c3ac819004fd28660b389fdcab4a9",
       "placeholder": "​",
       "style": "IPY_MODEL_52437a44c1ef4fcfb62332f01ceba2af",
       "value": "Iterations:"
      }
     },
     "6c85bb9edb9f4817a46ff3854861213f": {
      "model_module": "@jupyter-widgets/controls",
      "model_module_version": "1.5.0",
      "model_name": "HTMLModel",
      "state": {
       "_dom_classes": [],
       "_model_module": "@jupyter-widgets/controls",
       "_model_module_version": "1.5.0",
       "_model_name": "HTMLModel",
       "_view_count": null,
       "_view_module": "@jupyter-widgets/controls",
       "_view_module_version": "1.5.0",
       "_view_name": "HTMLView",
       "description": "",
       "description_tooltip": null,
       "layout": "IPY_MODEL_84127ddb45294e679e4937e411a896a5",
       "placeholder": "​",
       "style": "IPY_MODEL_f8befd525c084788b1f036e2718ddf5a",
       "value": "Iterations:"
      }
     },
     "6db87eab12664dbab82f60427f7d5746": {
      "model_module": "@jupyter-widgets/base",
      "model_module_version": "1.2.0",
      "model_name": "LayoutModel",
      "state": {
       "_model_module": "@jupyter-widgets/base",
       "_model_module_version": "1.2.0",
       "_model_name": "LayoutModel",
       "_view_count": null,
       "_view_module": "@jupyter-widgets/base",
       "_view_module_version": "1.2.0",
       "_view_name": "LayoutView",
       "align_content": null,
       "align_items": null,
       "align_self": null,
       "border": null,
       "bottom": null,
       "display": null,
       "flex": null,
       "flex_flow": null,
       "grid_area": null,
       "grid_auto_columns": null,
       "grid_auto_flow": null,
       "grid_auto_rows": null,
       "grid_column": null,
       "grid_gap": null,
       "grid_row": null,
       "grid_template_areas": null,
       "grid_template_columns": null,
       "grid_template_rows": null,
       "height": null,
       "justify_content": null,
       "justify_items": null,
       "left": null,
       "margin": null,
       "max_height": null,
       "max_width": null,
       "min_height": null,
       "min_width": null,
       "object_fit": null,
       "object_position": null,
       "order": null,
       "overflow": null,
       "overflow_x": null,
       "overflow_y": null,
       "padding": null,
       "right": null,
       "top": null,
       "visibility": null,
       "width": null
      }
     },
     "6ff6b2e9f1054570a2278859b75a9809": {
      "model_module": "@jupyter-widgets/controls",
      "model_module_version": "1.5.0",
      "model_name": "FloatProgressModel",
      "state": {
       "_dom_classes": [],
       "_model_module": "@jupyter-widgets/controls",
       "_model_module_version": "1.5.0",
       "_model_name": "FloatProgressModel",
       "_view_count": null,
       "_view_module": "@jupyter-widgets/controls",
       "_view_module_version": "1.5.0",
       "_view_name": "ProgressView",
       "bar_style": "",
       "description": "",
       "description_tooltip": null,
       "layout": "IPY_MODEL_7bfc9f710a18454e8e537775cc98acbb",
       "max": 10000.0,
       "min": 0.0,
       "orientation": "horizontal",
       "style": "IPY_MODEL_5b7f5749b7564767b2266189cbdc77af",
       "value": 10000.0
      }
     },
     "720ef99fd23d46e299f4f495ccaa22f3": {
      "model_module": "@jupyter-widgets/controls",
      "model_module_version": "1.5.0",
      "model_name": "ProgressStyleModel",
      "state": {
       "_model_module": "@jupyter-widgets/controls",
       "_model_module_version": "1.5.0",
       "_model_name": "ProgressStyleModel",
       "_view_count": null,
       "_view_module": "@jupyter-widgets/base",
       "_view_module_version": "1.2.0",
       "_view_name": "StyleView",
       "bar_color": null,
       "description_width": ""
      }
     },
     "746d6c4ffc0d4131b04c2212bf977acb": {
      "model_module": "@jupyter-widgets/controls",
      "model_module_version": "1.5.0",
      "model_name": "FloatProgressModel",
      "state": {
       "_dom_classes": [],
       "_model_module": "@jupyter-widgets/controls",
       "_model_module_version": "1.5.0",
       "_model_name": "FloatProgressModel",
       "_view_count": null,
       "_view_module": "@jupyter-widgets/controls",
       "_view_module_version": "1.5.0",
       "_view_name": "ProgressView",
       "bar_style": "",
       "description": "",
       "description_tooltip": null,
       "layout": "IPY_MODEL_cc28be2d77b24e4abf36802989024ae8",
       "max": 10000.0,
       "min": 0.0,
       "orientation": "horizontal",
       "style": "IPY_MODEL_ca9ea0a8b71747309cdbefbda928bc10",
       "value": 10000.0
      }
     },
     "74785415d6384ca5930e977fdeda192e": {
      "model_module": "@jupyter-widgets/base",
      "model_module_version": "1.2.0",
      "model_name": "LayoutModel",
      "state": {
       "_model_module": "@jupyter-widgets/base",
       "_model_module_version": "1.2.0",
       "_model_name": "LayoutModel",
       "_view_count": null,
       "_view_module": "@jupyter-widgets/base",
       "_view_module_version": "1.2.0",
       "_view_name": "LayoutView",
       "align_content": null,
       "align_items": null,
       "align_self": null,
       "border": null,
       "bottom": null,
       "display": null,
       "flex": null,
       "flex_flow": null,
       "grid_area": null,
       "grid_auto_columns": null,
       "grid_auto_flow": null,
       "grid_auto_rows": null,
       "grid_column": null,
       "grid_gap": null,
       "grid_row": null,
       "grid_template_areas": null,
       "grid_template_columns": null,
       "grid_template_rows": null,
       "height": null,
       "justify_content": null,
       "justify_items": null,
       "left": null,
       "margin": null,
       "max_height": null,
       "max_width": null,
       "min_height": null,
       "min_width": null,
       "object_fit": null,
       "object_position": null,
       "order": null,
       "overflow": null,
       "overflow_x": null,
       "overflow_y": null,
       "padding": null,
       "right": null,
       "top": null,
       "visibility": null,
       "width": "60%"
      }
     },
     "7614793e48884daf84b407f6e3004a44": {
      "model_module": "@jupyter-widgets/output",
      "model_module_version": "1.0.0",
      "model_name": "OutputModel",
      "state": {
       "_dom_classes": [],
       "_model_module": "@jupyter-widgets/output",
       "_model_module_version": "1.0.0",
       "_model_name": "OutputModel",
       "_view_count": null,
       "_view_module": "@jupyter-widgets/output",
       "_view_module_version": "1.0.0",
       "_view_name": "OutputView",
       "layout": "IPY_MODEL_cc9f63b57d0a407585d9e14e622aaf65",
       "msg_id": "",
       "outputs": []
      }
     },
     "77f6e34bf008444f8c3bb412d9171d20": {
      "model_module": "@jupyter-widgets/controls",
      "model_module_version": "1.5.0",
      "model_name": "DescriptionStyleModel",
      "state": {
       "_model_module": "@jupyter-widgets/controls",
       "_model_module_version": "1.5.0",
       "_model_name": "DescriptionStyleModel",
       "_view_count": null,
       "_view_module": "@jupyter-widgets/base",
       "_view_module_version": "1.2.0",
       "_view_name": "StyleView",
       "description_width": ""
      }
     },
     "78e37101e0a641ea93df7d1153d170cc": {
      "model_module": "@jupyter-widgets/base",
      "model_module_version": "1.2.0",
      "model_name": "LayoutModel",
      "state": {
       "_model_module": "@jupyter-widgets/base",
       "_model_module_version": "1.2.0",
       "_model_name": "LayoutModel",
       "_view_count": null,
       "_view_module": "@jupyter-widgets/base",
       "_view_module_version": "1.2.0",
       "_view_name": "LayoutView",
       "align_content": null,
       "align_items": null,
       "align_self": null,
       "border": null,
       "bottom": null,
       "display": null,
       "flex": null,
       "flex_flow": null,
       "grid_area": null,
       "grid_auto_columns": null,
       "grid_auto_flow": null,
       "grid_auto_rows": null,
       "grid_column": null,
       "grid_gap": null,
       "grid_row": null,
       "grid_template_areas": null,
       "grid_template_columns": null,
       "grid_template_rows": null,
       "height": null,
       "justify_content": null,
       "justify_items": null,
       "left": null,
       "margin": null,
       "max_height": null,
       "max_width": null,
       "min_height": null,
       "min_width": null,
       "object_fit": null,
       "object_position": null,
       "order": null,
       "overflow": null,
       "overflow_x": null,
       "overflow_y": null,
       "padding": null,
       "right": null,
       "top": null,
       "visibility": null,
       "width": null
      }
     },
     "78e5eea02f4140a08dff501d02383777": {
      "model_module": "@jupyter-widgets/base",
      "model_module_version": "1.2.0",
      "model_name": "LayoutModel",
      "state": {
       "_model_module": "@jupyter-widgets/base",
       "_model_module_version": "1.2.0",
       "_model_name": "LayoutModel",
       "_view_count": null,
       "_view_module": "@jupyter-widgets/base",
       "_view_module_version": "1.2.0",
       "_view_name": "LayoutView",
       "align_content": null,
       "align_items": null,
       "align_self": null,
       "border": null,
       "bottom": null,
       "display": null,
       "flex": null,
       "flex_flow": null,
       "grid_area": null,
       "grid_auto_columns": null,
       "grid_auto_flow": null,
       "grid_auto_rows": null,
       "grid_column": null,
       "grid_gap": null,
       "grid_row": null,
       "grid_template_areas": null,
       "grid_template_columns": null,
       "grid_template_rows": null,
       "height": null,
       "justify_content": null,
       "justify_items": null,
       "left": null,
       "margin": null,
       "max_height": null,
       "max_width": null,
       "min_height": null,
       "min_width": null,
       "object_fit": null,
       "object_position": null,
       "order": null,
       "overflow": null,
       "overflow_x": null,
       "overflow_y": null,
       "padding": null,
       "right": null,
       "top": null,
       "visibility": null,
       "width": null
      }
     },
     "79493bca656a46118d7eae3113103276": {
      "model_module": "@jupyter-widgets/controls",
      "model_module_version": "1.5.0",
      "model_name": "HTMLModel",
      "state": {
       "_dom_classes": [],
       "_model_module": "@jupyter-widgets/controls",
       "_model_module_version": "1.5.0",
       "_model_name": "HTMLModel",
       "_view_count": null,
       "_view_module": "@jupyter-widgets/controls",
       "_view_module_version": "1.5.0",
       "_view_name": "HTMLView",
       "description": "",
       "description_tooltip": null,
       "layout": "IPY_MODEL_78e37101e0a641ea93df7d1153d170cc",
       "placeholder": "​",
       "style": "IPY_MODEL_d724ba42f6b84768b58e9b91f4d5e737",
       "value": "Iterations:"
      }
     },
     "7bfc9f710a18454e8e537775cc98acbb": {
      "model_module": "@jupyter-widgets/base",
      "model_module_version": "1.2.0",
      "model_name": "LayoutModel",
      "state": {
       "_model_module": "@jupyter-widgets/base",
       "_model_module_version": "1.2.0",
       "_model_name": "LayoutModel",
       "_view_count": null,
       "_view_module": "@jupyter-widgets/base",
       "_view_module_version": "1.2.0",
       "_view_name": "LayoutView",
       "align_content": null,
       "align_items": null,
       "align_self": null,
       "border": null,
       "bottom": null,
       "display": null,
       "flex": null,
       "flex_flow": null,
       "grid_area": null,
       "grid_auto_columns": null,
       "grid_auto_flow": null,
       "grid_auto_rows": null,
       "grid_column": null,
       "grid_gap": null,
       "grid_row": null,
       "grid_template_areas": null,
       "grid_template_columns": null,
       "grid_template_rows": null,
       "height": null,
       "justify_content": null,
       "justify_items": null,
       "left": null,
       "margin": null,
       "max_height": null,
       "max_width": null,
       "min_height": null,
       "min_width": null,
       "object_fit": null,
       "object_position": null,
       "order": null,
       "overflow": null,
       "overflow_x": null,
       "overflow_y": null,
       "padding": null,
       "right": null,
       "top": null,
       "visibility": null,
       "width": "60%"
      }
     },
     "7c045a9846e24276a5a31b1249a407e7": {
      "model_module": "@jupyter-widgets/base",
      "model_module_version": "1.2.0",
      "model_name": "LayoutModel",
      "state": {
       "_model_module": "@jupyter-widgets/base",
       "_model_module_version": "1.2.0",
       "_model_name": "LayoutModel",
       "_view_count": null,
       "_view_module": "@jupyter-widgets/base",
       "_view_module_version": "1.2.0",
       "_view_name": "LayoutView",
       "align_content": null,
       "align_items": null,
       "align_self": null,
       "border": null,
       "bottom": null,
       "display": null,
       "flex": null,
       "flex_flow": null,
       "grid_area": null,
       "grid_auto_columns": null,
       "grid_auto_flow": null,
       "grid_auto_rows": null,
       "grid_column": null,
       "grid_gap": null,
       "grid_row": null,
       "grid_template_areas": null,
       "grid_template_columns": null,
       "grid_template_rows": null,
       "height": null,
       "justify_content": null,
       "justify_items": null,
       "left": null,
       "margin": null,
       "max_height": null,
       "max_width": null,
       "min_height": null,
       "min_width": null,
       "object_fit": null,
       "object_position": null,
       "order": null,
       "overflow": null,
       "overflow_x": null,
       "overflow_y": null,
       "padding": null,
       "right": null,
       "top": null,
       "visibility": null,
       "width": null
      }
     },
     "7e70a5fcc66c4cb2af08d97e2e368fcd": {
      "model_module": "@jupyter-widgets/controls",
      "model_module_version": "1.5.0",
      "model_name": "HTMLModel",
      "state": {
       "_dom_classes": [],
       "_model_module": "@jupyter-widgets/controls",
       "_model_module_version": "1.5.0",
       "_model_name": "HTMLModel",
       "_view_count": null,
       "_view_module": "@jupyter-widgets/controls",
       "_view_module_version": "1.5.0",
       "_view_name": "HTMLView",
       "description": "",
       "description_tooltip": null,
       "layout": "IPY_MODEL_288b66f1688445d4a5e6ae0c938c9362",
       "placeholder": "​",
       "style": "IPY_MODEL_77f6e34bf008444f8c3bb412d9171d20",
       "value": "10000/10000 [00:00&lt;00:00, 50572.92it/s]"
      }
     },
     "7ecf46c678ec456da199c81b02180bff": {
      "model_module": "@jupyter-widgets/controls",
      "model_module_version": "1.5.0",
      "model_name": "HTMLModel",
      "state": {
       "_dom_classes": [],
       "_model_module": "@jupyter-widgets/controls",
       "_model_module_version": "1.5.0",
       "_model_name": "HTMLModel",
       "_view_count": null,
       "_view_module": "@jupyter-widgets/controls",
       "_view_module_version": "1.5.0",
       "_view_name": "HTMLView",
       "description": "",
       "description_tooltip": null,
       "layout": "IPY_MODEL_37c8d317dc0146dd89ddb8bf801e4e98",
       "placeholder": "​",
       "style": "IPY_MODEL_48a82739a91f49f0ad1392fadbabd4c3",
       "value": "Packets:   "
      }
     },
     "814ce4b247ae45a6a9e5b928972f73aa": {
      "model_module": "@jupyter-widgets/controls",
      "model_module_version": "1.5.0",
      "model_name": "HBoxModel",
      "state": {
       "_dom_classes": [],
       "_model_module": "@jupyter-widgets/controls",
       "_model_module_version": "1.5.0",
       "_model_name": "HBoxModel",
       "_view_count": null,
       "_view_module": "@jupyter-widgets/controls",
       "_view_module_version": "1.5.0",
       "_view_name": "HBoxView",
       "box_style": "",
       "children": [
        "IPY_MODEL_18948eb73f4442c69d17c971ea6bf919",
        "IPY_MODEL_8c612ead668d49a4942ddfbfb3703bda",
        "IPY_MODEL_11c3eef5aad34a1eb88320e69c0456f0"
       ],
       "layout": "IPY_MODEL_df074c17d38f49d9ba237f330d172ca4"
      }
     },
     "81ac5cfb2f1a41df851fa2b2ae2636b7": {
      "model_module": "@jupyter-widgets/controls",
      "model_module_version": "1.5.0",
      "model_name": "DescriptionStyleModel",
      "state": {
       "_model_module": "@jupyter-widgets/controls",
       "_model_module_version": "1.5.0",
       "_model_name": "DescriptionStyleModel",
       "_view_count": null,
       "_view_module": "@jupyter-widgets/base",
       "_view_module_version": "1.2.0",
       "_view_name": "StyleView",
       "description_width": ""
      }
     },
     "83b763a5ecb144b097d70ae67ae69278": {
      "model_module": "@jupyter-widgets/base",
      "model_module_version": "1.2.0",
      "model_name": "LayoutModel",
      "state": {
       "_model_module": "@jupyter-widgets/base",
       "_model_module_version": "1.2.0",
       "_model_name": "LayoutModel",
       "_view_count": null,
       "_view_module": "@jupyter-widgets/base",
       "_view_module_version": "1.2.0",
       "_view_name": "LayoutView",
       "align_content": null,
       "align_items": null,
       "align_self": null,
       "border": null,
       "bottom": null,
       "display": null,
       "flex": null,
       "flex_flow": null,
       "grid_area": null,
       "grid_auto_columns": null,
       "grid_auto_flow": null,
       "grid_auto_rows": null,
       "grid_column": null,
       "grid_gap": null,
       "grid_row": null,
       "grid_template_areas": null,
       "grid_template_columns": null,
       "grid_template_rows": null,
       "height": null,
       "justify_content": null,
       "justify_items": null,
       "left": null,
       "margin": null,
       "max_height": null,
       "max_width": null,
       "min_height": null,
       "min_width": null,
       "object_fit": null,
       "object_position": null,
       "order": null,
       "overflow": null,
       "overflow_x": null,
       "overflow_y": null,
       "padding": null,
       "right": null,
       "top": null,
       "visibility": null,
       "width": null
      }
     },
     "84127ddb45294e679e4937e411a896a5": {
      "model_module": "@jupyter-widgets/base",
      "model_module_version": "1.2.0",
      "model_name": "LayoutModel",
      "state": {
       "_model_module": "@jupyter-widgets/base",
       "_model_module_version": "1.2.0",
       "_model_name": "LayoutModel",
       "_view_count": null,
       "_view_module": "@jupyter-widgets/base",
       "_view_module_version": "1.2.0",
       "_view_name": "LayoutView",
       "align_content": null,
       "align_items": null,
       "align_self": null,
       "border": null,
       "bottom": null,
       "display": null,
       "flex": null,
       "flex_flow": null,
       "grid_area": null,
       "grid_auto_columns": null,
       "grid_auto_flow": null,
       "grid_auto_rows": null,
       "grid_column": null,
       "grid_gap": null,
       "grid_row": null,
       "grid_template_areas": null,
       "grid_template_columns": null,
       "grid_template_rows": null,
       "height": null,
       "justify_content": null,
       "justify_items": null,
       "left": null,
       "margin": null,
       "max_height": null,
       "max_width": null,
       "min_height": null,
       "min_width": null,
       "object_fit": null,
       "object_position": null,
       "order": null,
       "overflow": null,
       "overflow_x": null,
       "overflow_y": null,
       "padding": null,
       "right": null,
       "top": null,
       "visibility": null,
       "width": "6%"
      }
     },
     "8598d2acba2f44be80baa852292739f6": {
      "model_module": "@jupyter-widgets/controls",
      "model_module_version": "1.5.0",
      "model_name": "DescriptionStyleModel",
      "state": {
       "_model_module": "@jupyter-widgets/controls",
       "_model_module_version": "1.5.0",
       "_model_name": "DescriptionStyleModel",
       "_view_count": null,
       "_view_module": "@jupyter-widgets/base",
       "_view_module_version": "1.2.0",
       "_view_name": "StyleView",
       "description_width": ""
      }
     },
     "86584f5a7505455ca5a3d77ae1370d19": {
      "model_module": "@jupyter-widgets/controls",
      "model_module_version": "1.5.0",
      "model_name": "DescriptionStyleModel",
      "state": {
       "_model_module": "@jupyter-widgets/controls",
       "_model_module_version": "1.5.0",
       "_model_name": "DescriptionStyleModel",
       "_view_count": null,
       "_view_module": "@jupyter-widgets/base",
       "_view_module_version": "1.2.0",
       "_view_name": "StyleView",
       "description_width": ""
      }
     },
     "87cf72fa4681466baad8ece002db37cb": {
      "model_module": "@jupyter-widgets/controls",
      "model_module_version": "1.5.0",
      "model_name": "DescriptionStyleModel",
      "state": {
       "_model_module": "@jupyter-widgets/controls",
       "_model_module_version": "1.5.0",
       "_model_name": "DescriptionStyleModel",
       "_view_count": null,
       "_view_module": "@jupyter-widgets/base",
       "_view_module_version": "1.2.0",
       "_view_name": "StyleView",
       "description_width": ""
      }
     },
     "8848eae5894d435e993a9ed6fd4274bc": {
      "model_module": "@jupyter-widgets/controls",
      "model_module_version": "1.5.0",
      "model_name": "HBoxModel",
      "state": {
       "_dom_classes": [],
       "_model_module": "@jupyter-widgets/controls",
       "_model_module_version": "1.5.0",
       "_model_name": "HBoxModel",
       "_view_count": null,
       "_view_module": "@jupyter-widgets/controls",
       "_view_module_version": "1.5.0",
       "_view_name": "HBoxView",
       "box_style": "",
       "children": [
        "IPY_MODEL_9a06d0b87c08481f9333eaafcebc3e7e",
        "IPY_MODEL_e84eac9286534bf5bedd8b56def2086e",
        "IPY_MODEL_ba329744fc1a4e96917511e612e5ffbe"
       ],
       "layout": "IPY_MODEL_d5cef7f058144cefb6a175fd0e2f8438"
      }
     },
     "889807f751c94a7ea5745f794bacd10c": {
      "model_module": "@jupyter-widgets/base",
      "model_module_version": "1.2.0",
      "model_name": "LayoutModel",
      "state": {
       "_model_module": "@jupyter-widgets/base",
       "_model_module_version": "1.2.0",
       "_model_name": "LayoutModel",
       "_view_count": null,
       "_view_module": "@jupyter-widgets/base",
       "_view_module_version": "1.2.0",
       "_view_name": "LayoutView",
       "align_content": null,
       "align_items": null,
       "align_self": null,
       "border": null,
       "bottom": null,
       "display": null,
       "flex": null,
       "flex_flow": null,
       "grid_area": null,
       "grid_auto_columns": null,
       "grid_auto_flow": null,
       "grid_auto_rows": null,
       "grid_column": null,
       "grid_gap": null,
       "grid_row": null,
       "grid_template_areas": null,
       "grid_template_columns": null,
       "grid_template_rows": null,
       "height": null,
       "justify_content": null,
       "justify_items": null,
       "left": null,
       "margin": null,
       "max_height": null,
       "max_width": null,
       "min_height": null,
       "min_width": null,
       "object_fit": null,
       "object_position": null,
       "order": null,
       "overflow": null,
       "overflow_x": null,
       "overflow_y": null,
       "padding": null,
       "right": null,
       "top": null,
       "visibility": null,
       "width": null
      }
     },
     "88dc01d9a3744ce286dd7c504c52754e": {
      "model_module": "@jupyter-widgets/controls",
      "model_module_version": "1.5.0",
      "model_name": "HBoxModel",
      "state": {
       "_dom_classes": [],
       "_model_module": "@jupyter-widgets/controls",
       "_model_module_version": "1.5.0",
       "_model_name": "HBoxModel",
       "_view_count": null,
       "_view_module": "@jupyter-widgets/controls",
       "_view_module_version": "1.5.0",
       "_view_name": "HBoxView",
       "box_style": "",
       "children": [
        "IPY_MODEL_5f8bb73e320e4fee9a324aae6684242d",
        "IPY_MODEL_a8f977483a3c419faae104d4ddce3739",
        "IPY_MODEL_c87e12f0993140eebf1b2a93c9d4ffd1"
       ],
       "layout": "IPY_MODEL_889807f751c94a7ea5745f794bacd10c"
      }
     },
     "89b3fe5c3cf34c41a45c62820d71f938": {
      "model_module": "@jupyter-widgets/controls",
      "model_module_version": "1.5.0",
      "model_name": "HTMLModel",
      "state": {
       "_dom_classes": [],
       "_model_module": "@jupyter-widgets/controls",
       "_model_module_version": "1.5.0",
       "_model_name": "HTMLModel",
       "_view_count": null,
       "_view_module": "@jupyter-widgets/controls",
       "_view_module_version": "1.5.0",
       "_view_name": "HTMLView",
       "description": "",
       "description_tooltip": null,
       "layout": "IPY_MODEL_be5e6b199bfa4a9089da4a1738070f6a",
       "placeholder": "​",
       "style": "IPY_MODEL_8f5a715cb5a44b38a9e4110a4e8c60aa",
       "value": "Iterations:"
      }
     },
     "89bda8a581e34c9ca333845b186c8b6e": {
      "model_module": "@jupyter-widgets/controls",
      "model_module_version": "1.5.0",
      "model_name": "ProgressStyleModel",
      "state": {
       "_model_module": "@jupyter-widgets/controls",
       "_model_module_version": "1.5.0",
       "_model_name": "ProgressStyleModel",
       "_view_count": null,
       "_view_module": "@jupyter-widgets/base",
       "_view_module_version": "1.2.0",
       "_view_name": "StyleView",
       "bar_color": null,
       "description_width": ""
      }
     },
     "8b909dea13ae49fca26987e967237b2b": {
      "model_module": "@jupyter-widgets/controls",
      "model_module_version": "1.5.0",
      "model_name": "FloatProgressModel",
      "state": {
       "_dom_classes": [],
       "_model_module": "@jupyter-widgets/controls",
       "_model_module_version": "1.5.0",
       "_model_name": "FloatProgressModel",
       "_view_count": null,
       "_view_module": "@jupyter-widgets/controls",
       "_view_module_version": "1.5.0",
       "_view_name": "ProgressView",
       "bar_style": "",
       "description": "",
       "description_tooltip": null,
       "layout": "IPY_MODEL_edefaf6551084c85b88251f47277e7b0",
       "max": 5.0,
       "min": 0.0,
       "orientation": "horizontal",
       "style": "IPY_MODEL_d2eb6e072088475d9e9c43d73ba320e3",
       "value": 4.0
      }
     },
     "8c15cf4e1d6a4513b71221fe443398bc": {
      "model_module": "@jupyter-widgets/base",
      "model_module_version": "1.2.0",
      "model_name": "LayoutModel",
      "state": {
       "_model_module": "@jupyter-widgets/base",
       "_model_module_version": "1.2.0",
       "_model_name": "LayoutModel",
       "_view_count": null,
       "_view_module": "@jupyter-widgets/base",
       "_view_module_version": "1.2.0",
       "_view_name": "LayoutView",
       "align_content": null,
       "align_items": null,
       "align_self": null,
       "border": null,
       "bottom": null,
       "display": null,
       "flex": null,
       "flex_flow": null,
       "grid_area": null,
       "grid_auto_columns": null,
       "grid_auto_flow": null,
       "grid_auto_rows": null,
       "grid_column": null,
       "grid_gap": null,
       "grid_row": null,
       "grid_template_areas": null,
       "grid_template_columns": null,
       "grid_template_rows": null,
       "height": null,
       "justify_content": null,
       "justify_items": null,
       "left": null,
       "margin": null,
       "max_height": null,
       "max_width": null,
       "min_height": null,
       "min_width": null,
       "object_fit": null,
       "object_position": null,
       "order": null,
       "overflow": null,
       "overflow_x": null,
       "overflow_y": null,
       "padding": null,
       "right": null,
       "top": null,
       "visibility": null,
       "width": null
      }
     },
     "8c612ead668d49a4942ddfbfb3703bda": {
      "model_module": "@jupyter-widgets/controls",
      "model_module_version": "1.5.0",
      "model_name": "FloatProgressModel",
      "state": {
       "_dom_classes": [],
       "_model_module": "@jupyter-widgets/controls",
       "_model_module_version": "1.5.0",
       "_model_name": "FloatProgressModel",
       "_view_count": null,
       "_view_module": "@jupyter-widgets/controls",
       "_view_module_version": "1.5.0",
       "_view_name": "ProgressView",
       "bar_style": "",
       "description": "",
       "description_tooltip": null,
       "layout": "IPY_MODEL_0761ff53836548bc87b606b8535fe0ee",
       "max": 10000.0,
       "min": 0.0,
       "orientation": "horizontal",
       "style": "IPY_MODEL_dcfe284cd7334cdf9cb541a581286aca",
       "value": 10000.0
      }
     },
     "8ce17273749149e4a9d1beeb15eac484": {
      "model_module": "@jupyter-widgets/base",
      "model_module_version": "1.2.0",
      "model_name": "LayoutModel",
      "state": {
       "_model_module": "@jupyter-widgets/base",
       "_model_module_version": "1.2.0",
       "_model_name": "LayoutModel",
       "_view_count": null,
       "_view_module": "@jupyter-widgets/base",
       "_view_module_version": "1.2.0",
       "_view_name": "LayoutView",
       "align_content": null,
       "align_items": null,
       "align_self": null,
       "border": null,
       "bottom": null,
       "display": null,
       "flex": null,
       "flex_flow": null,
       "grid_area": null,
       "grid_auto_columns": null,
       "grid_auto_flow": null,
       "grid_auto_rows": null,
       "grid_column": null,
       "grid_gap": null,
       "grid_row": null,
       "grid_template_areas": null,
       "grid_template_columns": null,
       "grid_template_rows": null,
       "height": null,
       "justify_content": null,
       "justify_items": null,
       "left": null,
       "margin": null,
       "max_height": null,
       "max_width": null,
       "min_height": null,
       "min_width": null,
       "object_fit": null,
       "object_position": null,
       "order": null,
       "overflow": null,
       "overflow_x": null,
       "overflow_y": null,
       "padding": null,
       "right": null,
       "top": null,
       "visibility": null,
       "width": "6%"
      }
     },
     "8e88e0caa6a945ce9451101289b8d0b1": {
      "model_module": "@jupyter-widgets/controls",
      "model_module_version": "1.5.0",
      "model_name": "DescriptionStyleModel",
      "state": {
       "_model_module": "@jupyter-widgets/controls",
       "_model_module_version": "1.5.0",
       "_model_name": "DescriptionStyleModel",
       "_view_count": null,
       "_view_module": "@jupyter-widgets/base",
       "_view_module_version": "1.2.0",
       "_view_name": "StyleView",
       "description_width": ""
      }
     },
     "8efa4338388f43bdb4657e25ae56048b": {
      "model_module": "@jupyter-widgets/base",
      "model_module_version": "1.2.0",
      "model_name": "LayoutModel",
      "state": {
       "_model_module": "@jupyter-widgets/base",
       "_model_module_version": "1.2.0",
       "_model_name": "LayoutModel",
       "_view_count": null,
       "_view_module": "@jupyter-widgets/base",
       "_view_module_version": "1.2.0",
       "_view_name": "LayoutView",
       "align_content": null,
       "align_items": null,
       "align_self": null,
       "border": null,
       "bottom": null,
       "display": null,
       "flex": null,
       "flex_flow": null,
       "grid_area": null,
       "grid_auto_columns": null,
       "grid_auto_flow": null,
       "grid_auto_rows": null,
       "grid_column": null,
       "grid_gap": null,
       "grid_row": null,
       "grid_template_areas": null,
       "grid_template_columns": null,
       "grid_template_rows": null,
       "height": null,
       "justify_content": null,
       "justify_items": null,
       "left": null,
       "margin": null,
       "max_height": null,
       "max_width": null,
       "min_height": null,
       "min_width": null,
       "object_fit": null,
       "object_position": null,
       "order": null,
       "overflow": null,
       "overflow_x": null,
       "overflow_y": null,
       "padding": null,
       "right": null,
       "top": null,
       "visibility": null,
       "width": null
      }
     },
     "8f24bcf88d464669bc61ee2da4f85fa0": {
      "model_module": "@jupyter-widgets/controls",
      "model_module_version": "1.5.0",
      "model_name": "HTMLModel",
      "state": {
       "_dom_classes": [],
       "_model_module": "@jupyter-widgets/controls",
       "_model_module_version": "1.5.0",
       "_model_name": "HTMLModel",
       "_view_count": null,
       "_view_module": "@jupyter-widgets/controls",
       "_view_module_version": "1.5.0",
       "_view_name": "HTMLView",
       "description": "",
       "description_tooltip": null,
       "layout": "IPY_MODEL_6541a62a8ded4de5a5ebf96aa587f1bd",
       "placeholder": "​",
       "style": "IPY_MODEL_962da9241f3c40f7bea3fad88c2ca409",
       "value": "4/5 [00:00&lt;00:00, 12.48it/s]"
      }
     },
     "8f2626b89ab446ea862b935fd9f7b70f": {
      "model_module": "@jupyter-widgets/base",
      "model_module_version": "1.2.0",
      "model_name": "LayoutModel",
      "state": {
       "_model_module": "@jupyter-widgets/base",
       "_model_module_version": "1.2.0",
       "_model_name": "LayoutModel",
       "_view_count": null,
       "_view_module": "@jupyter-widgets/base",
       "_view_module_version": "1.2.0",
       "_view_name": "LayoutView",
       "align_content": null,
       "align_items": null,
       "align_self": null,
       "border": null,
       "bottom": null,
       "display": null,
       "flex": null,
       "flex_flow": null,
       "grid_area": null,
       "grid_auto_columns": null,
       "grid_auto_flow": null,
       "grid_auto_rows": null,
       "grid_column": null,
       "grid_gap": null,
       "grid_row": null,
       "grid_template_areas": null,
       "grid_template_columns": null,
       "grid_template_rows": null,
       "height": null,
       "justify_content": null,
       "justify_items": null,
       "left": null,
       "margin": null,
       "max_height": null,
       "max_width": null,
       "min_height": null,
       "min_width": null,
       "object_fit": null,
       "object_position": null,
       "order": null,
       "overflow": null,
       "overflow_x": null,
       "overflow_y": null,
       "padding": null,
       "right": null,
       "top": null,
       "visibility": null,
       "width": "6%"
      }
     },
     "8f5a715cb5a44b38a9e4110a4e8c60aa": {
      "model_module": "@jupyter-widgets/controls",
      "model_module_version": "1.5.0",
      "model_name": "DescriptionStyleModel",
      "state": {
       "_model_module": "@jupyter-widgets/controls",
       "_model_module_version": "1.5.0",
       "_model_name": "DescriptionStyleModel",
       "_view_count": null,
       "_view_module": "@jupyter-widgets/base",
       "_view_module_version": "1.2.0",
       "_view_name": "StyleView",
       "description_width": ""
      }
     },
     "8fbf24e7cd4c4e4084d238a8e2af3745": {
      "model_module": "@jupyter-widgets/controls",
      "model_module_version": "1.5.0",
      "model_name": "HTMLModel",
      "state": {
       "_dom_classes": [],
       "_model_module": "@jupyter-widgets/controls",
       "_model_module_version": "1.5.0",
       "_model_name": "HTMLModel",
       "_view_count": null,
       "_view_module": "@jupyter-widgets/controls",
       "_view_module_version": "1.5.0",
       "_view_name": "HTMLView",
       "description": "",
       "description_tooltip": null,
       "layout": "IPY_MODEL_b75b26e0193e4eb7bec4cbc8b5cdad7c",
       "placeholder": "​",
       "style": "IPY_MODEL_efa5b579641b42de8366f9ac707760f3",
       "value": "Packets:   "
      }
     },
     "8fc5d4363520425b8596db62bbb0376d": {
      "model_module": "@jupyter-widgets/controls",
      "model_module_version": "1.5.0",
      "model_name": "DescriptionStyleModel",
      "state": {
       "_model_module": "@jupyter-widgets/controls",
       "_model_module_version": "1.5.0",
       "_model_name": "DescriptionStyleModel",
       "_view_count": null,
       "_view_module": "@jupyter-widgets/base",
       "_view_module_version": "1.2.0",
       "_view_name": "StyleView",
       "description_width": ""
      }
     },
     "8ff9f4d30cd844589c205df15a800e92": {
      "model_module": "@jupyter-widgets/controls",
      "model_module_version": "1.5.0",
      "model_name": "DescriptionStyleModel",
      "state": {
       "_model_module": "@jupyter-widgets/controls",
       "_model_module_version": "1.5.0",
       "_model_name": "DescriptionStyleModel",
       "_view_count": null,
       "_view_module": "@jupyter-widgets/base",
       "_view_module_version": "1.2.0",
       "_view_name": "StyleView",
       "description_width": ""
      }
     },
     "913de174c391429fa932ae7657d00c80": {
      "model_module": "@jupyter-widgets/base",
      "model_module_version": "1.2.0",
      "model_name": "LayoutModel",
      "state": {
       "_model_module": "@jupyter-widgets/base",
       "_model_module_version": "1.2.0",
       "_model_name": "LayoutModel",
       "_view_count": null,
       "_view_module": "@jupyter-widgets/base",
       "_view_module_version": "1.2.0",
       "_view_name": "LayoutView",
       "align_content": null,
       "align_items": null,
       "align_self": null,
       "border": null,
       "bottom": null,
       "display": null,
       "flex": null,
       "flex_flow": null,
       "grid_area": null,
       "grid_auto_columns": null,
       "grid_auto_flow": null,
       "grid_auto_rows": null,
       "grid_column": null,
       "grid_gap": null,
       "grid_row": null,
       "grid_template_areas": null,
       "grid_template_columns": null,
       "grid_template_rows": null,
       "height": null,
       "justify_content": null,
       "justify_items": null,
       "left": null,
       "margin": null,
       "max_height": null,
       "max_width": null,
       "min_height": null,
       "min_width": null,
       "object_fit": null,
       "object_position": null,
       "order": null,
       "overflow": null,
       "overflow_x": null,
       "overflow_y": null,
       "padding": null,
       "right": null,
       "top": null,
       "visibility": null,
       "width": null
      }
     },
     "923a16f1683e4e66aaea45d93972b14f": {
      "model_module": "@jupyter-widgets/controls",
      "model_module_version": "1.5.0",
      "model_name": "DescriptionStyleModel",
      "state": {
       "_model_module": "@jupyter-widgets/controls",
       "_model_module_version": "1.5.0",
       "_model_name": "DescriptionStyleModel",
       "_view_count": null,
       "_view_module": "@jupyter-widgets/base",
       "_view_module_version": "1.2.0",
       "_view_name": "StyleView",
       "description_width": ""
      }
     },
     "924d059b2a0c4c9d8a3cc642adefef37": {
      "model_module": "@jupyter-widgets/base",
      "model_module_version": "1.2.0",
      "model_name": "LayoutModel",
      "state": {
       "_model_module": "@jupyter-widgets/base",
       "_model_module_version": "1.2.0",
       "_model_name": "LayoutModel",
       "_view_count": null,
       "_view_module": "@jupyter-widgets/base",
       "_view_module_version": "1.2.0",
       "_view_name": "LayoutView",
       "align_content": null,
       "align_items": null,
       "align_self": null,
       "border": null,
       "bottom": null,
       "display": null,
       "flex": null,
       "flex_flow": null,
       "grid_area": null,
       "grid_auto_columns": null,
       "grid_auto_flow": null,
       "grid_auto_rows": null,
       "grid_column": null,
       "grid_gap": null,
       "grid_row": null,
       "grid_template_areas": null,
       "grid_template_columns": null,
       "grid_template_rows": null,
       "height": null,
       "justify_content": null,
       "justify_items": null,
       "left": null,
       "margin": null,
       "max_height": null,
       "max_width": null,
       "min_height": null,
       "min_width": null,
       "object_fit": null,
       "object_position": null,
       "order": null,
       "overflow": null,
       "overflow_x": null,
       "overflow_y": null,
       "padding": null,
       "right": null,
       "top": null,
       "visibility": null,
       "width": "6%"
      }
     },
     "92f70177f5314895ad32f2708ceb0003": {
      "model_module": "@jupyter-widgets/base",
      "model_module_version": "1.2.0",
      "model_name": "LayoutModel",
      "state": {
       "_model_module": "@jupyter-widgets/base",
       "_model_module_version": "1.2.0",
       "_model_name": "LayoutModel",
       "_view_count": null,
       "_view_module": "@jupyter-widgets/base",
       "_view_module_version": "1.2.0",
       "_view_name": "LayoutView",
       "align_content": null,
       "align_items": null,
       "align_self": null,
       "border": null,
       "bottom": null,
       "display": null,
       "flex": null,
       "flex_flow": null,
       "grid_area": null,
       "grid_auto_columns": null,
       "grid_auto_flow": null,
       "grid_auto_rows": null,
       "grid_column": null,
       "grid_gap": null,
       "grid_row": null,
       "grid_template_areas": null,
       "grid_template_columns": null,
       "grid_template_rows": null,
       "height": null,
       "justify_content": null,
       "justify_items": null,
       "left": null,
       "margin": null,
       "max_height": null,
       "max_width": null,
       "min_height": null,
       "min_width": null,
       "object_fit": null,
       "object_position": null,
       "order": null,
       "overflow": null,
       "overflow_x": null,
       "overflow_y": null,
       "padding": null,
       "right": null,
       "top": null,
       "visibility": null,
       "width": null
      }
     },
     "94a23cf7350d4dc18b6dda9c0f404ef6": {
      "model_module": "@jupyter-widgets/base",
      "model_module_version": "1.2.0",
      "model_name": "LayoutModel",
      "state": {
       "_model_module": "@jupyter-widgets/base",
       "_model_module_version": "1.2.0",
       "_model_name": "LayoutModel",
       "_view_count": null,
       "_view_module": "@jupyter-widgets/base",
       "_view_module_version": "1.2.0",
       "_view_name": "LayoutView",
       "align_content": null,
       "align_items": null,
       "align_self": null,
       "border": null,
       "bottom": null,
       "display": null,
       "flex": null,
       "flex_flow": null,
       "grid_area": null,
       "grid_auto_columns": null,
       "grid_auto_flow": null,
       "grid_auto_rows": null,
       "grid_column": null,
       "grid_gap": null,
       "grid_row": null,
       "grid_template_areas": null,
       "grid_template_columns": null,
       "grid_template_rows": null,
       "height": null,
       "justify_content": null,
       "justify_items": null,
       "left": null,
       "margin": null,
       "max_height": null,
       "max_width": null,
       "min_height": null,
       "min_width": null,
       "object_fit": null,
       "object_position": null,
       "order": null,
       "overflow": null,
       "overflow_x": null,
       "overflow_y": null,
       "padding": null,
       "right": null,
       "top": null,
       "visibility": null,
       "width": null
      }
     },
     "95af78f5c4084d7cb1ad6e1f737b086e": {
      "model_module": "@jupyter-widgets/controls",
      "model_module_version": "1.5.0",
      "model_name": "DescriptionStyleModel",
      "state": {
       "_model_module": "@jupyter-widgets/controls",
       "_model_module_version": "1.5.0",
       "_model_name": "DescriptionStyleModel",
       "_view_count": null,
       "_view_module": "@jupyter-widgets/base",
       "_view_module_version": "1.2.0",
       "_view_name": "StyleView",
       "description_width": ""
      }
     },
     "962da9241f3c40f7bea3fad88c2ca409": {
      "model_module": "@jupyter-widgets/controls",
      "model_module_version": "1.5.0",
      "model_name": "DescriptionStyleModel",
      "state": {
       "_model_module": "@jupyter-widgets/controls",
       "_model_module_version": "1.5.0",
       "_model_name": "DescriptionStyleModel",
       "_view_count": null,
       "_view_module": "@jupyter-widgets/base",
       "_view_module_version": "1.2.0",
       "_view_name": "StyleView",
       "description_width": ""
      }
     },
     "98013fdfbc654a008083d54073152c41": {
      "model_module": "@jupyter-widgets/base",
      "model_module_version": "1.2.0",
      "model_name": "LayoutModel",
      "state": {
       "_model_module": "@jupyter-widgets/base",
       "_model_module_version": "1.2.0",
       "_model_name": "LayoutModel",
       "_view_count": null,
       "_view_module": "@jupyter-widgets/base",
       "_view_module_version": "1.2.0",
       "_view_name": "LayoutView",
       "align_content": null,
       "align_items": null,
       "align_self": null,
       "border": null,
       "bottom": null,
       "display": null,
       "flex": null,
       "flex_flow": null,
       "grid_area": null,
       "grid_auto_columns": null,
       "grid_auto_flow": null,
       "grid_auto_rows": null,
       "grid_column": null,
       "grid_gap": null,
       "grid_row": null,
       "grid_template_areas": null,
       "grid_template_columns": null,
       "grid_template_rows": null,
       "height": null,
       "justify_content": null,
       "justify_items": null,
       "left": null,
       "margin": null,
       "max_height": null,
       "max_width": null,
       "min_height": null,
       "min_width": null,
       "object_fit": null,
       "object_position": null,
       "order": null,
       "overflow": null,
       "overflow_x": null,
       "overflow_y": null,
       "padding": null,
       "right": null,
       "top": null,
       "visibility": null,
       "width": "60%"
      }
     },
     "987d470598de41dc894c92e09ade6928": {
      "model_module": "@jupyter-widgets/controls",
      "model_module_version": "1.5.0",
      "model_name": "DescriptionStyleModel",
      "state": {
       "_model_module": "@jupyter-widgets/controls",
       "_model_module_version": "1.5.0",
       "_model_name": "DescriptionStyleModel",
       "_view_count": null,
       "_view_module": "@jupyter-widgets/base",
       "_view_module_version": "1.2.0",
       "_view_name": "StyleView",
       "description_width": ""
      }
     },
     "991b17b677664b98a42ae5dc9431ce86": {
      "model_module": "@jupyter-widgets/base",
      "model_module_version": "1.2.0",
      "model_name": "LayoutModel",
      "state": {
       "_model_module": "@jupyter-widgets/base",
       "_model_module_version": "1.2.0",
       "_model_name": "LayoutModel",
       "_view_count": null,
       "_view_module": "@jupyter-widgets/base",
       "_view_module_version": "1.2.0",
       "_view_name": "LayoutView",
       "align_content": null,
       "align_items": null,
       "align_self": null,
       "border": null,
       "bottom": null,
       "display": null,
       "flex": null,
       "flex_flow": null,
       "grid_area": null,
       "grid_auto_columns": null,
       "grid_auto_flow": null,
       "grid_auto_rows": null,
       "grid_column": null,
       "grid_gap": null,
       "grid_row": null,
       "grid_template_areas": null,
       "grid_template_columns": null,
       "grid_template_rows": null,
       "height": null,
       "justify_content": null,
       "justify_items": null,
       "left": null,
       "margin": null,
       "max_height": null,
       "max_width": null,
       "min_height": null,
       "min_width": null,
       "object_fit": null,
       "object_position": null,
       "order": null,
       "overflow": null,
       "overflow_x": null,
       "overflow_y": null,
       "padding": null,
       "right": null,
       "top": null,
       "visibility": null,
       "width": "60%"
      }
     },
     "9a06d0b87c08481f9333eaafcebc3e7e": {
      "model_module": "@jupyter-widgets/controls",
      "model_module_version": "1.5.0",
      "model_name": "HTMLModel",
      "state": {
       "_dom_classes": [],
       "_model_module": "@jupyter-widgets/controls",
       "_model_module_version": "1.5.0",
       "_model_name": "HTMLModel",
       "_view_count": null,
       "_view_module": "@jupyter-widgets/controls",
       "_view_module_version": "1.5.0",
       "_view_name": "HTMLView",
       "description": "",
       "description_tooltip": null,
       "layout": "IPY_MODEL_b83d83096df1404eaa84eed660e7a4d3",
       "placeholder": "​",
       "style": "IPY_MODEL_18855291526e44c299796798f2718bac",
       "value": "Packets:   "
      }
     },
     "9b551b18b1f3486eaf9b4ad1bc794eb7": {
      "model_module": "@jupyter-widgets/controls",
      "model_module_version": "1.5.0",
      "model_name": "DescriptionStyleModel",
      "state": {
       "_model_module": "@jupyter-widgets/controls",
       "_model_module_version": "1.5.0",
       "_model_name": "DescriptionStyleModel",
       "_view_count": null,
       "_view_module": "@jupyter-widgets/base",
       "_view_module_version": "1.2.0",
       "_view_name": "StyleView",
       "description_width": ""
      }
     },
     "9bb36d4f30e14562b1ba26d63deee934": {
      "model_module": "@jupyter-widgets/controls",
      "model_module_version": "1.5.0",
      "model_name": "ProgressStyleModel",
      "state": {
       "_model_module": "@jupyter-widgets/controls",
       "_model_module_version": "1.5.0",
       "_model_name": "ProgressStyleModel",
       "_view_count": null,
       "_view_module": "@jupyter-widgets/base",
       "_view_module_version": "1.2.0",
       "_view_name": "StyleView",
       "bar_color": null,
       "description_width": ""
      }
     },
     "9bdcad16aeb7495e9ec74654f3395357": {
      "model_module": "@jupyter-widgets/base",
      "model_module_version": "1.2.0",
      "model_name": "LayoutModel",
      "state": {
       "_model_module": "@jupyter-widgets/base",
       "_model_module_version": "1.2.0",
       "_model_name": "LayoutModel",
       "_view_count": null,
       "_view_module": "@jupyter-widgets/base",
       "_view_module_version": "1.2.0",
       "_view_name": "LayoutView",
       "align_content": null,
       "align_items": null,
       "align_self": null,
       "border": null,
       "bottom": null,
       "display": null,
       "flex": null,
       "flex_flow": null,
       "grid_area": null,
       "grid_auto_columns": null,
       "grid_auto_flow": null,
       "grid_auto_rows": null,
       "grid_column": null,
       "grid_gap": null,
       "grid_row": null,
       "grid_template_areas": null,
       "grid_template_columns": null,
       "grid_template_rows": null,
       "height": null,
       "justify_content": null,
       "justify_items": null,
       "left": null,
       "margin": null,
       "max_height": null,
       "max_width": null,
       "min_height": null,
       "min_width": null,
       "object_fit": null,
       "object_position": null,
       "order": null,
       "overflow": null,
       "overflow_x": null,
       "overflow_y": null,
       "padding": null,
       "right": null,
       "top": null,
       "visibility": null,
       "width": null
      }
     },
     "9c533b35d38842c092a23dd5ed81fd94": {
      "model_module": "@jupyter-widgets/controls",
      "model_module_version": "1.5.0",
      "model_name": "HTMLModel",
      "state": {
       "_dom_classes": [],
       "_model_module": "@jupyter-widgets/controls",
       "_model_module_version": "1.5.0",
       "_model_name": "HTMLModel",
       "_view_count": null,
       "_view_module": "@jupyter-widgets/controls",
       "_view_module_version": "1.5.0",
       "_view_name": "HTMLView",
       "description": "",
       "description_tooltip": null,
       "layout": "IPY_MODEL_c5d155378b734ec2b2ec1a431432c842",
       "placeholder": "​",
       "style": "IPY_MODEL_e526a577c04d4a7f875f6e12a352118b",
       "value": "0/? [00:00&lt;?, ?it/s]"
      }
     },
     "9f5a2012df414dc8b67676b6ade86056": {
      "model_module": "@jupyter-widgets/controls",
      "model_module_version": "1.5.0",
      "model_name": "FloatProgressModel",
      "state": {
       "_dom_classes": [],
       "_model_module": "@jupyter-widgets/controls",
       "_model_module_version": "1.5.0",
       "_model_name": "FloatProgressModel",
       "_view_count": null,
       "_view_module": "@jupyter-widgets/controls",
       "_view_module_version": "1.5.0",
       "_view_name": "ProgressView",
       "bar_style": "",
       "description": "",
       "description_tooltip": null,
       "layout": "IPY_MODEL_f3964798b8cd4c10a1e6517011838200",
       "max": 10000.0,
       "min": 0.0,
       "orientation": "horizontal",
       "style": "IPY_MODEL_56b69dd37b2e4043927b847060d8b57d",
       "value": 10000.0
      }
     },
     "9f9d4252cecb4156aeafffdf1ccd299c": {
      "model_module": "@jupyter-widgets/base",
      "model_module_version": "1.2.0",
      "model_name": "LayoutModel",
      "state": {
       "_model_module": "@jupyter-widgets/base",
       "_model_module_version": "1.2.0",
       "_model_name": "LayoutModel",
       "_view_count": null,
       "_view_module": "@jupyter-widgets/base",
       "_view_module_version": "1.2.0",
       "_view_name": "LayoutView",
       "align_content": null,
       "align_items": null,
       "align_self": null,
       "border": null,
       "bottom": null,
       "display": null,
       "flex": null,
       "flex_flow": null,
       "grid_area": null,
       "grid_auto_columns": null,
       "grid_auto_flow": null,
       "grid_auto_rows": null,
       "grid_column": null,
       "grid_gap": null,
       "grid_row": null,
       "grid_template_areas": null,
       "grid_template_columns": null,
       "grid_template_rows": null,
       "height": null,
       "justify_content": null,
       "justify_items": null,
       "left": null,
       "margin": null,
       "max_height": null,
       "max_width": null,
       "min_height": null,
       "min_width": null,
       "object_fit": null,
       "object_position": null,
       "order": null,
       "overflow": null,
       "overflow_x": null,
       "overflow_y": null,
       "padding": null,
       "right": null,
       "top": null,
       "visibility": null,
       "width": "6%"
      }
     },
     "a3c66df2ed434132b18113c26c01ba11": {
      "model_module": "@jupyter-widgets/controls",
      "model_module_version": "1.5.0",
      "model_name": "FloatProgressModel",
      "state": {
       "_dom_classes": [],
       "_model_module": "@jupyter-widgets/controls",
       "_model_module_version": "1.5.0",
       "_model_name": "FloatProgressModel",
       "_view_count": null,
       "_view_module": "@jupyter-widgets/controls",
       "_view_module_version": "1.5.0",
       "_view_name": "ProgressView",
       "bar_style": "info",
       "description": "",
       "description_tooltip": null,
       "layout": "IPY_MODEL_fc70973a15c6494ca841c13fcf69032e",
       "max": 1.0,
       "min": 0.0,
       "orientation": "horizontal",
       "style": "IPY_MODEL_89bda8a581e34c9ca333845b186c8b6e",
       "value": 0.0
      }
     },
     "a44ea5f1232c47b0a705655e0b73dc30": {
      "model_module": "@jupyter-widgets/controls",
      "model_module_version": "1.5.0",
      "model_name": "HBoxModel",
      "state": {
       "_dom_classes": [],
       "_model_module": "@jupyter-widgets/controls",
       "_model_module_version": "1.5.0",
       "_model_name": "HBoxModel",
       "_view_count": null,
       "_view_module": "@jupyter-widgets/controls",
       "_view_module_version": "1.5.0",
       "_view_name": "HBoxView",
       "box_style": "",
       "children": [
        "IPY_MODEL_ac5e1203bf704e13a2aa77cd7e73d21f",
        "IPY_MODEL_2e4e3dd6a0c246b8b095a759589b9ff3",
        "IPY_MODEL_00ae7db65269435bb691b04deca3ca64"
       ],
       "layout": "IPY_MODEL_78e5eea02f4140a08dff501d02383777"
      }
     },
     "a4c4279e76dd41a2ae4df2c9133f5544": {
      "model_module": "@jupyter-widgets/base",
      "model_module_version": "1.2.0",
      "model_name": "LayoutModel",
      "state": {
       "_model_module": "@jupyter-widgets/base",
       "_model_module_version": "1.2.0",
       "_model_name": "LayoutModel",
       "_view_count": null,
       "_view_module": "@jupyter-widgets/base",
       "_view_module_version": "1.2.0",
       "_view_name": "LayoutView",
       "align_content": null,
       "align_items": null,
       "align_self": null,
       "border": null,
       "bottom": null,
       "display": null,
       "flex": null,
       "flex_flow": null,
       "grid_area": null,
       "grid_auto_columns": null,
       "grid_auto_flow": null,
       "grid_auto_rows": null,
       "grid_column": null,
       "grid_gap": null,
       "grid_row": null,
       "grid_template_areas": null,
       "grid_template_columns": null,
       "grid_template_rows": null,
       "height": null,
       "justify_content": null,
       "justify_items": null,
       "left": null,
       "margin": null,
       "max_height": null,
       "max_width": null,
       "min_height": null,
       "min_width": null,
       "object_fit": null,
       "object_position": null,
       "order": null,
       "overflow": null,
       "overflow_x": null,
       "overflow_y": null,
       "padding": null,
       "right": null,
       "top": null,
       "visibility": null,
       "width": null
      }
     },
     "a51e67bb36da4674a5e82d9b2cfdf27a": {
      "model_module": "@jupyter-widgets/base",
      "model_module_version": "1.2.0",
      "model_name": "LayoutModel",
      "state": {
       "_model_module": "@jupyter-widgets/base",
       "_model_module_version": "1.2.0",
       "_model_name": "LayoutModel",
       "_view_count": null,
       "_view_module": "@jupyter-widgets/base",
       "_view_module_version": "1.2.0",
       "_view_name": "LayoutView",
       "align_content": null,
       "align_items": null,
       "align_self": null,
       "border": null,
       "bottom": null,
       "display": null,
       "flex": null,
       "flex_flow": null,
       "grid_area": null,
       "grid_auto_columns": null,
       "grid_auto_flow": null,
       "grid_auto_rows": null,
       "grid_column": null,
       "grid_gap": null,
       "grid_row": null,
       "grid_template_areas": null,
       "grid_template_columns": null,
       "grid_template_rows": null,
       "height": null,
       "justify_content": null,
       "justify_items": null,
       "left": null,
       "margin": null,
       "max_height": null,
       "max_width": null,
       "min_height": null,
       "min_width": null,
       "object_fit": null,
       "object_position": null,
       "order": null,
       "overflow": null,
       "overflow_x": null,
       "overflow_y": null,
       "padding": null,
       "right": null,
       "top": null,
       "visibility": null,
       "width": null
      }
     },
     "a52bc3093c22466b930972814af58ec8": {
      "model_module": "@jupyter-widgets/base",
      "model_module_version": "1.2.0",
      "model_name": "LayoutModel",
      "state": {
       "_model_module": "@jupyter-widgets/base",
       "_model_module_version": "1.2.0",
       "_model_name": "LayoutModel",
       "_view_count": null,
       "_view_module": "@jupyter-widgets/base",
       "_view_module_version": "1.2.0",
       "_view_name": "LayoutView",
       "align_content": null,
       "align_items": null,
       "align_self": null,
       "border": null,
       "bottom": null,
       "display": null,
       "flex": null,
       "flex_flow": null,
       "grid_area": null,
       "grid_auto_columns": null,
       "grid_auto_flow": null,
       "grid_auto_rows": null,
       "grid_column": null,
       "grid_gap": null,
       "grid_row": null,
       "grid_template_areas": null,
       "grid_template_columns": null,
       "grid_template_rows": null,
       "height": null,
       "justify_content": null,
       "justify_items": null,
       "left": null,
       "margin": null,
       "max_height": null,
       "max_width": null,
       "min_height": null,
       "min_width": null,
       "object_fit": null,
       "object_position": null,
       "order": null,
       "overflow": null,
       "overflow_x": null,
       "overflow_y": null,
       "padding": null,
       "right": null,
       "top": null,
       "visibility": null,
       "width": "6%"
      }
     },
     "a5a1889b925d42ea9d66dddf30f7ae3e": {
      "model_module": "@jupyter-widgets/base",
      "model_module_version": "1.2.0",
      "model_name": "LayoutModel",
      "state": {
       "_model_module": "@jupyter-widgets/base",
       "_model_module_version": "1.2.0",
       "_model_name": "LayoutModel",
       "_view_count": null,
       "_view_module": "@jupyter-widgets/base",
       "_view_module_version": "1.2.0",
       "_view_name": "LayoutView",
       "align_content": null,
       "align_items": null,
       "align_self": null,
       "border": null,
       "bottom": null,
       "display": null,
       "flex": null,
       "flex_flow": null,
       "grid_area": null,
       "grid_auto_columns": null,
       "grid_auto_flow": null,
       "grid_auto_rows": null,
       "grid_column": null,
       "grid_gap": null,
       "grid_row": null,
       "grid_template_areas": null,
       "grid_template_columns": null,
       "grid_template_rows": null,
       "height": null,
       "justify_content": null,
       "justify_items": null,
       "left": null,
       "margin": null,
       "max_height": null,
       "max_width": null,
       "min_height": null,
       "min_width": null,
       "object_fit": null,
       "object_position": null,
       "order": null,
       "overflow": null,
       "overflow_x": null,
       "overflow_y": null,
       "padding": null,
       "right": null,
       "top": null,
       "visibility": null,
       "width": "6%"
      }
     },
     "a8f977483a3c419faae104d4ddce3739": {
      "model_module": "@jupyter-widgets/controls",
      "model_module_version": "1.5.0",
      "model_name": "FloatProgressModel",
      "state": {
       "_dom_classes": [],
       "_model_module": "@jupyter-widgets/controls",
       "_model_module_version": "1.5.0",
       "_model_name": "FloatProgressModel",
       "_view_count": null,
       "_view_module": "@jupyter-widgets/controls",
       "_view_module_version": "1.5.0",
       "_view_name": "ProgressView",
       "bar_style": "",
       "description": "",
       "description_tooltip": null,
       "layout": "IPY_MODEL_441f5098c5734942a09d9b6e29a5b954",
       "max": 5.0,
       "min": 0.0,
       "orientation": "horizontal",
       "style": "IPY_MODEL_e2d8846693cc4c0f8bccfabe79a2ac01",
       "value": 4.0
      }
     },
     "ab031ca2de19402984329073d5a19ab0": {
      "model_module": "@jupyter-widgets/base",
      "model_module_version": "1.2.0",
      "model_name": "LayoutModel",
      "state": {
       "_model_module": "@jupyter-widgets/base",
       "_model_module_version": "1.2.0",
       "_model_name": "LayoutModel",
       "_view_count": null,
       "_view_module": "@jupyter-widgets/base",
       "_view_module_version": "1.2.0",
       "_view_name": "LayoutView",
       "align_content": null,
       "align_items": null,
       "align_self": null,
       "border": null,
       "bottom": null,
       "display": null,
       "flex": null,
       "flex_flow": null,
       "grid_area": null,
       "grid_auto_columns": null,
       "grid_auto_flow": null,
       "grid_auto_rows": null,
       "grid_column": null,
       "grid_gap": null,
       "grid_row": null,
       "grid_template_areas": null,
       "grid_template_columns": null,
       "grid_template_rows": null,
       "height": null,
       "justify_content": null,
       "justify_items": null,
       "left": null,
       "margin": null,
       "max_height": null,
       "max_width": null,
       "min_height": null,
       "min_width": null,
       "object_fit": null,
       "object_position": null,
       "order": null,
       "overflow": null,
       "overflow_x": null,
       "overflow_y": null,
       "padding": null,
       "right": null,
       "top": null,
       "visibility": null,
       "width": "6%"
      }
     },
     "ac1b44ba67ae45538555b11b295ff447": {
      "model_module": "@jupyter-widgets/controls",
      "model_module_version": "1.5.0",
      "model_name": "DescriptionStyleModel",
      "state": {
       "_model_module": "@jupyter-widgets/controls",
       "_model_module_version": "1.5.0",
       "_model_name": "DescriptionStyleModel",
       "_view_count": null,
       "_view_module": "@jupyter-widgets/base",
       "_view_module_version": "1.2.0",
       "_view_name": "StyleView",
       "description_width": ""
      }
     },
     "ac5598a52f4e48388c94e1c980dd338c": {
      "model_module": "@jupyter-widgets/base",
      "model_module_version": "1.2.0",
      "model_name": "LayoutModel",
      "state": {
       "_model_module": "@jupyter-widgets/base",
       "_model_module_version": "1.2.0",
       "_model_name": "LayoutModel",
       "_view_count": null,
       "_view_module": "@jupyter-widgets/base",
       "_view_module_version": "1.2.0",
       "_view_name": "LayoutView",
       "align_content": null,
       "align_items": null,
       "align_self": null,
       "border": null,
       "bottom": null,
       "display": null,
       "flex": null,
       "flex_flow": null,
       "grid_area": null,
       "grid_auto_columns": null,
       "grid_auto_flow": null,
       "grid_auto_rows": null,
       "grid_column": null,
       "grid_gap": null,
       "grid_row": null,
       "grid_template_areas": null,
       "grid_template_columns": null,
       "grid_template_rows": null,
       "height": null,
       "justify_content": null,
       "justify_items": null,
       "left": null,
       "margin": null,
       "max_height": null,
       "max_width": null,
       "min_height": null,
       "min_width": null,
       "object_fit": null,
       "object_position": null,
       "order": null,
       "overflow": null,
       "overflow_x": null,
       "overflow_y": null,
       "padding": null,
       "right": null,
       "top": null,
       "visibility": null,
       "width": "6%"
      }
     },
     "ac5e1203bf704e13a2aa77cd7e73d21f": {
      "model_module": "@jupyter-widgets/controls",
      "model_module_version": "1.5.0",
      "model_name": "HTMLModel",
      "state": {
       "_dom_classes": [],
       "_model_module": "@jupyter-widgets/controls",
       "_model_module_version": "1.5.0",
       "_model_name": "HTMLModel",
       "_view_count": null,
       "_view_module": "@jupyter-widgets/controls",
       "_view_module_version": "1.5.0",
       "_view_name": "HTMLView",
       "description": "",
       "description_tooltip": null,
       "layout": "IPY_MODEL_924d059b2a0c4c9d8a3cc642adefef37",
       "placeholder": "​",
       "style": "IPY_MODEL_10630182cfc14f668eef59b0ab7de8c5",
       "value": "Packets:   "
      }
     },
     "ad467dc9a5f84eef9cdc139c57fb65f3": {
      "model_module": "@jupyter-widgets/controls",
      "model_module_version": "1.5.0",
      "model_name": "ProgressStyleModel",
      "state": {
       "_model_module": "@jupyter-widgets/controls",
       "_model_module_version": "1.5.0",
       "_model_name": "ProgressStyleModel",
       "_view_count": null,
       "_view_module": "@jupyter-widgets/base",
       "_view_module_version": "1.2.0",
       "_view_name": "StyleView",
       "bar_color": null,
       "description_width": ""
      }
     },
     "ae4ca3493a954cc0abdbf89456d6d0ea": {
      "model_module": "@jupyter-widgets/controls",
      "model_module_version": "1.5.0",
      "model_name": "FloatProgressModel",
      "state": {
       "_dom_classes": [],
       "_model_module": "@jupyter-widgets/controls",
       "_model_module_version": "1.5.0",
       "_model_name": "FloatProgressModel",
       "_view_count": null,
       "_view_module": "@jupyter-widgets/controls",
       "_view_module_version": "1.5.0",
       "_view_name": "ProgressView",
       "bar_style": "",
       "description": "",
       "description_tooltip": null,
       "layout": "IPY_MODEL_b7614a2e2fc0464fb38a1adf7f5f2e15",
       "max": 5.0,
       "min": 0.0,
       "orientation": "horizontal",
       "style": "IPY_MODEL_4b467250202c4a46bc53e05f12757351",
       "value": 4.0
      }
     },
     "b0aa19e0869747e1a46d5cdbd8470f77": {
      "model_module": "@jupyter-widgets/controls",
      "model_module_version": "1.5.0",
      "model_name": "DescriptionStyleModel",
      "state": {
       "_model_module": "@jupyter-widgets/controls",
       "_model_module_version": "1.5.0",
       "_model_name": "DescriptionStyleModel",
       "_view_count": null,
       "_view_module": "@jupyter-widgets/base",
       "_view_module_version": "1.2.0",
       "_view_name": "StyleView",
       "description_width": ""
      }
     },
     "b0c7636a46f44d9a9cb94c2098ea02f1": {
      "model_module": "@jupyter-widgets/controls",
      "model_module_version": "1.5.0",
      "model_name": "DescriptionStyleModel",
      "state": {
       "_model_module": "@jupyter-widgets/controls",
       "_model_module_version": "1.5.0",
       "_model_name": "DescriptionStyleModel",
       "_view_count": null,
       "_view_module": "@jupyter-widgets/base",
       "_view_module_version": "1.2.0",
       "_view_name": "StyleView",
       "description_width": ""
      }
     },
     "b40abf0951fd4f8db53613def7302ae3": {
      "model_module": "@jupyter-widgets/controls",
      "model_module_version": "1.5.0",
      "model_name": "DescriptionStyleModel",
      "state": {
       "_model_module": "@jupyter-widgets/controls",
       "_model_module_version": "1.5.0",
       "_model_name": "DescriptionStyleModel",
       "_view_count": null,
       "_view_module": "@jupyter-widgets/base",
       "_view_module_version": "1.2.0",
       "_view_name": "StyleView",
       "description_width": ""
      }
     },
     "b75b26e0193e4eb7bec4cbc8b5cdad7c": {
      "model_module": "@jupyter-widgets/base",
      "model_module_version": "1.2.0",
      "model_name": "LayoutModel",
      "state": {
       "_model_module": "@jupyter-widgets/base",
       "_model_module_version": "1.2.0",
       "_model_name": "LayoutModel",
       "_view_count": null,
       "_view_module": "@jupyter-widgets/base",
       "_view_module_version": "1.2.0",
       "_view_name": "LayoutView",
       "align_content": null,
       "align_items": null,
       "align_self": null,
       "border": null,
       "bottom": null,
       "display": null,
       "flex": null,
       "flex_flow": null,
       "grid_area": null,
       "grid_auto_columns": null,
       "grid_auto_flow": null,
       "grid_auto_rows": null,
       "grid_column": null,
       "grid_gap": null,
       "grid_row": null,
       "grid_template_areas": null,
       "grid_template_columns": null,
       "grid_template_rows": null,
       "height": null,
       "justify_content": null,
       "justify_items": null,
       "left": null,
       "margin": null,
       "max_height": null,
       "max_width": null,
       "min_height": null,
       "min_width": null,
       "object_fit": null,
       "object_position": null,
       "order": null,
       "overflow": null,
       "overflow_x": null,
       "overflow_y": null,
       "padding": null,
       "right": null,
       "top": null,
       "visibility": null,
       "width": "6%"
      }
     },
     "b7614a2e2fc0464fb38a1adf7f5f2e15": {
      "model_module": "@jupyter-widgets/base",
      "model_module_version": "1.2.0",
      "model_name": "LayoutModel",
      "state": {
       "_model_module": "@jupyter-widgets/base",
       "_model_module_version": "1.2.0",
       "_model_name": "LayoutModel",
       "_view_count": null,
       "_view_module": "@jupyter-widgets/base",
       "_view_module_version": "1.2.0",
       "_view_name": "LayoutView",
       "align_content": null,
       "align_items": null,
       "align_self": null,
       "border": null,
       "bottom": null,
       "display": null,
       "flex": null,
       "flex_flow": null,
       "grid_area": null,
       "grid_auto_columns": null,
       "grid_auto_flow": null,
       "grid_auto_rows": null,
       "grid_column": null,
       "grid_gap": null,
       "grid_row": null,
       "grid_template_areas": null,
       "grid_template_columns": null,
       "grid_template_rows": null,
       "height": null,
       "justify_content": null,
       "justify_items": null,
       "left": null,
       "margin": null,
       "max_height": null,
       "max_width": null,
       "min_height": null,
       "min_width": null,
       "object_fit": null,
       "object_position": null,
       "order": null,
       "overflow": null,
       "overflow_x": null,
       "overflow_y": null,
       "padding": null,
       "right": null,
       "top": null,
       "visibility": null,
       "width": "60%"
      }
     },
     "b83d83096df1404eaa84eed660e7a4d3": {
      "model_module": "@jupyter-widgets/base",
      "model_module_version": "1.2.0",
      "model_name": "LayoutModel",
      "state": {
       "_model_module": "@jupyter-widgets/base",
       "_model_module_version": "1.2.0",
       "_model_name": "LayoutModel",
       "_view_count": null,
       "_view_module": "@jupyter-widgets/base",
       "_view_module_version": "1.2.0",
       "_view_name": "LayoutView",
       "align_content": null,
       "align_items": null,
       "align_self": null,
       "border": null,
       "bottom": null,
       "display": null,
       "flex": null,
       "flex_flow": null,
       "grid_area": null,
       "grid_auto_columns": null,
       "grid_auto_flow": null,
       "grid_auto_rows": null,
       "grid_column": null,
       "grid_gap": null,
       "grid_row": null,
       "grid_template_areas": null,
       "grid_template_columns": null,
       "grid_template_rows": null,
       "height": null,
       "justify_content": null,
       "justify_items": null,
       "left": null,
       "margin": null,
       "max_height": null,
       "max_width": null,
       "min_height": null,
       "min_width": null,
       "object_fit": null,
       "object_position": null,
       "order": null,
       "overflow": null,
       "overflow_x": null,
       "overflow_y": null,
       "padding": null,
       "right": null,
       "top": null,
       "visibility": null,
       "width": "6%"
      }
     },
     "b83f1baf6f1f4c38a4b5d876f548fd67": {
      "model_module": "@jupyter-widgets/controls",
      "model_module_version": "1.5.0",
      "model_name": "DescriptionStyleModel",
      "state": {
       "_model_module": "@jupyter-widgets/controls",
       "_model_module_version": "1.5.0",
       "_model_name": "DescriptionStyleModel",
       "_view_count": null,
       "_view_module": "@jupyter-widgets/base",
       "_view_module_version": "1.2.0",
       "_view_name": "StyleView",
       "description_width": ""
      }
     },
     "b9a36b47390c4789b06c96621e529de6": {
      "model_module": "@jupyter-widgets/base",
      "model_module_version": "1.2.0",
      "model_name": "LayoutModel",
      "state": {
       "_model_module": "@jupyter-widgets/base",
       "_model_module_version": "1.2.0",
       "_model_name": "LayoutModel",
       "_view_count": null,
       "_view_module": "@jupyter-widgets/base",
       "_view_module_version": "1.2.0",
       "_view_name": "LayoutView",
       "align_content": null,
       "align_items": null,
       "align_self": null,
       "border": null,
       "bottom": null,
       "display": null,
       "flex": null,
       "flex_flow": null,
       "grid_area": null,
       "grid_auto_columns": null,
       "grid_auto_flow": null,
       "grid_auto_rows": null,
       "grid_column": null,
       "grid_gap": null,
       "grid_row": null,
       "grid_template_areas": null,
       "grid_template_columns": null,
       "grid_template_rows": null,
       "height": null,
       "justify_content": null,
       "justify_items": null,
       "left": null,
       "margin": null,
       "max_height": null,
       "max_width": null,
       "min_height": null,
       "min_width": null,
       "object_fit": null,
       "object_position": null,
       "order": null,
       "overflow": null,
       "overflow_x": null,
       "overflow_y": null,
       "padding": null,
       "right": null,
       "top": null,
       "visibility": null,
       "width": null
      }
     },
     "ba329744fc1a4e96917511e612e5ffbe": {
      "model_module": "@jupyter-widgets/controls",
      "model_module_version": "1.5.0",
      "model_name": "HTMLModel",
      "state": {
       "_dom_classes": [],
       "_model_module": "@jupyter-widgets/controls",
       "_model_module_version": "1.5.0",
       "_model_name": "HTMLModel",
       "_view_count": null,
       "_view_module": "@jupyter-widgets/controls",
       "_view_module_version": "1.5.0",
       "_view_name": "HTMLView",
       "description": "",
       "description_tooltip": null,
       "layout": "IPY_MODEL_1079a99b55754512923f129e3b15e9c4",
       "placeholder": "​",
       "style": "IPY_MODEL_61aa283b409149bcb1fb752883814e9a",
       "value": "10000/10000 [00:00&lt;00:00, 62898.18it/s]"
      }
     },
     "bb2b0f2be70644cc8424a21db6ab74f8": {
      "model_module": "@jupyter-widgets/controls",
      "model_module_version": "1.5.0",
      "model_name": "HBoxModel",
      "state": {
       "_dom_classes": [],
       "_model_module": "@jupyter-widgets/controls",
       "_model_module_version": "1.5.0",
       "_model_name": "HBoxModel",
       "_view_count": null,
       "_view_module": "@jupyter-widgets/controls",
       "_view_module_version": "1.5.0",
       "_view_name": "HBoxView",
       "box_style": "",
       "children": [
        "IPY_MODEL_da787a81f67c4e21bdfccaa55785bcda",
        "IPY_MODEL_5ef36a740f154db48702d397a69feb4c",
        "IPY_MODEL_bd9ba48dfffc4620aaa0301d3e55af1f"
       ],
       "layout": "IPY_MODEL_364a18dd2951407598652d9b6fc21772"
      }
     },
     "bd9ba48dfffc4620aaa0301d3e55af1f": {
      "model_module": "@jupyter-widgets/controls",
      "model_module_version": "1.5.0",
      "model_name": "HTMLModel",
      "state": {
       "_dom_classes": [],
       "_model_module": "@jupyter-widgets/controls",
       "_model_module_version": "1.5.0",
       "_model_name": "HTMLModel",
       "_view_count": null,
       "_view_module": "@jupyter-widgets/controls",
       "_view_module_version": "1.5.0",
       "_view_name": "HTMLView",
       "description": "",
       "description_tooltip": null,
       "layout": "IPY_MODEL_9bdcad16aeb7495e9ec74654f3395357",
       "placeholder": "​",
       "style": "IPY_MODEL_5284179e1dbf4df38ae490b38ea3fd1e",
       "value": "4/5 [00:00&lt;00:00, 12.12it/s]"
      }
     },
     "be5e6b199bfa4a9089da4a1738070f6a": {
      "model_module": "@jupyter-widgets/base",
      "model_module_version": "1.2.0",
      "model_name": "LayoutModel",
      "state": {
       "_model_module": "@jupyter-widgets/base",
       "_model_module_version": "1.2.0",
       "_model_name": "LayoutModel",
       "_view_count": null,
       "_view_module": "@jupyter-widgets/base",
       "_view_module_version": "1.2.0",
       "_view_name": "LayoutView",
       "align_content": null,
       "align_items": null,
       "align_self": null,
       "border": null,
       "bottom": null,
       "display": null,
       "flex": null,
       "flex_flow": null,
       "grid_area": null,
       "grid_auto_columns": null,
       "grid_auto_flow": null,
       "grid_auto_rows": null,
       "grid_column": null,
       "grid_gap": null,
       "grid_row": null,
       "grid_template_areas": null,
       "grid_template_columns": null,
       "grid_template_rows": null,
       "height": null,
       "justify_content": null,
       "justify_items": null,
       "left": null,
       "margin": null,
       "max_height": null,
       "max_width": null,
       "min_height": null,
       "min_width": null,
       "object_fit": null,
       "object_position": null,
       "order": null,
       "overflow": null,
       "overflow_x": null,
       "overflow_y": null,
       "padding": null,
       "right": null,
       "top": null,
       "visibility": null,
       "width": "6%"
      }
     },
     "bfb0c96b221540618159961305adf075": {
      "model_module": "@jupyter-widgets/base",
      "model_module_version": "1.2.0",
      "model_name": "LayoutModel",
      "state": {
       "_model_module": "@jupyter-widgets/base",
       "_model_module_version": "1.2.0",
       "_model_name": "LayoutModel",
       "_view_count": null,
       "_view_module": "@jupyter-widgets/base",
       "_view_module_version": "1.2.0",
       "_view_name": "LayoutView",
       "align_content": null,
       "align_items": null,
       "align_self": null,
       "border": null,
       "bottom": null,
       "display": null,
       "flex": null,
       "flex_flow": null,
       "grid_area": null,
       "grid_auto_columns": null,
       "grid_auto_flow": null,
       "grid_auto_rows": null,
       "grid_column": null,
       "grid_gap": null,
       "grid_row": null,
       "grid_template_areas": null,
       "grid_template_columns": null,
       "grid_template_rows": null,
       "height": null,
       "justify_content": null,
       "justify_items": null,
       "left": null,
       "margin": null,
       "max_height": null,
       "max_width": null,
       "min_height": null,
       "min_width": null,
       "object_fit": null,
       "object_position": null,
       "order": null,
       "overflow": null,
       "overflow_x": null,
       "overflow_y": null,
       "padding": null,
       "right": null,
       "top": null,
       "visibility": null,
       "width": "6%"
      }
     },
     "c2f5658cf5f740ecb2a7482f090f3b33": {
      "model_module": "@jupyter-widgets/controls",
      "model_module_version": "1.5.0",
      "model_name": "FloatProgressModel",
      "state": {
       "_dom_classes": [],
       "_model_module": "@jupyter-widgets/controls",
       "_model_module_version": "1.5.0",
       "_model_name": "FloatProgressModel",
       "_view_count": null,
       "_view_module": "@jupyter-widgets/controls",
       "_view_module_version": "1.5.0",
       "_view_name": "ProgressView",
       "bar_style": "",
       "description": "",
       "description_tooltip": null,
       "layout": "IPY_MODEL_f67d722de1b34bd2ad01284bab3860ae",
       "max": 5.0,
       "min": 0.0,
       "orientation": "horizontal",
       "style": "IPY_MODEL_f30d480e3cae43e595a96ea1c072bbeb",
       "value": 4.0
      }
     },
     "c308cd72df66461db0635886309f4ba9": {
      "model_module": "@jupyter-widgets/base",
      "model_module_version": "1.2.0",
      "model_name": "LayoutModel",
      "state": {
       "_model_module": "@jupyter-widgets/base",
       "_model_module_version": "1.2.0",
       "_model_name": "LayoutModel",
       "_view_count": null,
       "_view_module": "@jupyter-widgets/base",
       "_view_module_version": "1.2.0",
       "_view_name": "LayoutView",
       "align_content": null,
       "align_items": null,
       "align_self": null,
       "border": null,
       "bottom": null,
       "display": null,
       "flex": null,
       "flex_flow": null,
       "grid_area": null,
       "grid_auto_columns": null,
       "grid_auto_flow": null,
       "grid_auto_rows": null,
       "grid_column": null,
       "grid_gap": null,
       "grid_row": null,
       "grid_template_areas": null,
       "grid_template_columns": null,
       "grid_template_rows": null,
       "height": null,
       "justify_content": null,
       "justify_items": null,
       "left": null,
       "margin": null,
       "max_height": null,
       "max_width": null,
       "min_height": null,
       "min_width": null,
       "object_fit": null,
       "object_position": null,
       "order": null,
       "overflow": null,
       "overflow_x": null,
       "overflow_y": null,
       "padding": null,
       "right": null,
       "top": null,
       "visibility": null,
       "width": "6%"
      }
     },
     "c57b35b28ef54ee5b1a3a3a1621ca7c3": {
      "model_module": "@jupyter-widgets/controls",
      "model_module_version": "1.5.0",
      "model_name": "HBoxModel",
      "state": {
       "_dom_classes": [],
       "_model_module": "@jupyter-widgets/controls",
       "_model_module_version": "1.5.0",
       "_model_name": "HBoxModel",
       "_view_count": null,
       "_view_module": "@jupyter-widgets/controls",
       "_view_module_version": "1.5.0",
       "_view_name": "HBoxView",
       "box_style": "",
       "children": [
        "IPY_MODEL_45f27a4b23d44495b0049f3e5bda8eb9",
        "IPY_MODEL_3fffafc4539a4048b916407795bfa02e",
        "IPY_MODEL_7e70a5fcc66c4cb2af08d97e2e368fcd"
       ],
       "layout": "IPY_MODEL_342327bca2c74ddc9637d3b0c666c449"
      }
     },
     "c5d155378b734ec2b2ec1a431432c842": {
      "model_module": "@jupyter-widgets/base",
      "model_module_version": "1.2.0",
      "model_name": "LayoutModel",
      "state": {
       "_model_module": "@jupyter-widgets/base",
       "_model_module_version": "1.2.0",
       "_model_name": "LayoutModel",
       "_view_count": null,
       "_view_module": "@jupyter-widgets/base",
       "_view_module_version": "1.2.0",
       "_view_name": "LayoutView",
       "align_content": null,
       "align_items": null,
       "align_self": null,
       "border": null,
       "bottom": null,
       "display": null,
       "flex": null,
       "flex_flow": null,
       "grid_area": null,
       "grid_auto_columns": null,
       "grid_auto_flow": null,
       "grid_auto_rows": null,
       "grid_column": null,
       "grid_gap": null,
       "grid_row": null,
       "grid_template_areas": null,
       "grid_template_columns": null,
       "grid_template_rows": null,
       "height": null,
       "justify_content": null,
       "justify_items": null,
       "left": null,
       "margin": null,
       "max_height": null,
       "max_width": null,
       "min_height": null,
       "min_width": null,
       "object_fit": null,
       "object_position": null,
       "order": null,
       "overflow": null,
       "overflow_x": null,
       "overflow_y": null,
       "padding": null,
       "right": null,
       "top": null,
       "visibility": null,
       "width": null
      }
     },
     "c87e12f0993140eebf1b2a93c9d4ffd1": {
      "model_module": "@jupyter-widgets/controls",
      "model_module_version": "1.5.0",
      "model_name": "HTMLModel",
      "state": {
       "_dom_classes": [],
       "_model_module": "@jupyter-widgets/controls",
       "_model_module_version": "1.5.0",
       "_model_name": "HTMLModel",
       "_view_count": null,
       "_view_module": "@jupyter-widgets/controls",
       "_view_module_version": "1.5.0",
       "_view_name": "HTMLView",
       "description": "",
       "description_tooltip": null,
       "layout": "IPY_MODEL_f627ec33cd9d4405877e4149f298f238",
       "placeholder": "​",
       "style": "IPY_MODEL_10c9bc269a9e4fde8d60d8288bd70bc8",
       "value": "4/5 [00:00&lt;00:00, 13.53it/s]"
      }
     },
     "ca9ea0a8b71747309cdbefbda928bc10": {
      "model_module": "@jupyter-widgets/controls",
      "model_module_version": "1.5.0",
      "model_name": "ProgressStyleModel",
      "state": {
       "_model_module": "@jupyter-widgets/controls",
       "_model_module_version": "1.5.0",
       "_model_name": "ProgressStyleModel",
       "_view_count": null,
       "_view_module": "@jupyter-widgets/base",
       "_view_module_version": "1.2.0",
       "_view_name": "StyleView",
       "bar_color": null,
       "description_width": ""
      }
     },
     "cc28be2d77b24e4abf36802989024ae8": {
      "model_module": "@jupyter-widgets/base",
      "model_module_version": "1.2.0",
      "model_name": "LayoutModel",
      "state": {
       "_model_module": "@jupyter-widgets/base",
       "_model_module_version": "1.2.0",
       "_model_name": "LayoutModel",
       "_view_count": null,
       "_view_module": "@jupyter-widgets/base",
       "_view_module_version": "1.2.0",
       "_view_name": "LayoutView",
       "align_content": null,
       "align_items": null,
       "align_self": null,
       "border": null,
       "bottom": null,
       "display": null,
       "flex": null,
       "flex_flow": null,
       "grid_area": null,
       "grid_auto_columns": null,
       "grid_auto_flow": null,
       "grid_auto_rows": null,
       "grid_column": null,
       "grid_gap": null,
       "grid_row": null,
       "grid_template_areas": null,
       "grid_template_columns": null,
       "grid_template_rows": null,
       "height": null,
       "justify_content": null,
       "justify_items": null,
       "left": null,
       "margin": null,
       "max_height": null,
       "max_width": null,
       "min_height": null,
       "min_width": null,
       "object_fit": null,
       "object_position": null,
       "order": null,
       "overflow": null,
       "overflow_x": null,
       "overflow_y": null,
       "padding": null,
       "right": null,
       "top": null,
       "visibility": null,
       "width": "60%"
      }
     },
     "cc9f63b57d0a407585d9e14e622aaf65": {
      "model_module": "@jupyter-widgets/base",
      "model_module_version": "1.2.0",
      "model_name": "LayoutModel",
      "state": {
       "_model_module": "@jupyter-widgets/base",
       "_model_module_version": "1.2.0",
       "_model_name": "LayoutModel",
       "_view_count": null,
       "_view_module": "@jupyter-widgets/base",
       "_view_module_version": "1.2.0",
       "_view_name": "LayoutView",
       "align_content": null,
       "align_items": null,
       "align_self": null,
       "border": null,
       "bottom": null,
       "display": null,
       "flex": null,
       "flex_flow": null,
       "grid_area": null,
       "grid_auto_columns": null,
       "grid_auto_flow": null,
       "grid_auto_rows": null,
       "grid_column": null,
       "grid_gap": null,
       "grid_row": null,
       "grid_template_areas": null,
       "grid_template_columns": null,
       "grid_template_rows": null,
       "height": null,
       "justify_content": null,
       "justify_items": null,
       "left": null,
       "margin": null,
       "max_height": null,
       "max_width": null,
       "min_height": null,
       "min_width": null,
       "object_fit": null,
       "object_position": null,
       "order": null,
       "overflow": null,
       "overflow_x": null,
       "overflow_y": null,
       "padding": null,
       "right": null,
       "top": null,
       "visibility": null,
       "width": null
      }
     },
     "ced7f33e8b85472b90bafff6ecc27bbe": {
      "model_module": "@jupyter-widgets/controls",
      "model_module_version": "1.5.0",
      "model_name": "HTMLModel",
      "state": {
       "_dom_classes": [],
       "_model_module": "@jupyter-widgets/controls",
       "_model_module_version": "1.5.0",
       "_model_name": "HTMLModel",
       "_view_count": null,
       "_view_module": "@jupyter-widgets/controls",
       "_view_module_version": "1.5.0",
       "_view_name": "HTMLView",
       "description": "",
       "description_tooltip": null,
       "layout": "IPY_MODEL_01938061fdca41ffba61bbfe816408f7",
       "placeholder": "​",
       "style": "IPY_MODEL_87cf72fa4681466baad8ece002db37cb",
       "value": "10000/10000 [00:00&lt;00:00, 63145.09it/s]"
      }
     },
     "cfb54ec739424171b04bdca4152dca7e": {
      "model_module": "@jupyter-widgets/base",
      "model_module_version": "1.2.0",
      "model_name": "LayoutModel",
      "state": {
       "_model_module": "@jupyter-widgets/base",
       "_model_module_version": "1.2.0",
       "_model_name": "LayoutModel",
       "_view_count": null,
       "_view_module": "@jupyter-widgets/base",
       "_view_module_version": "1.2.0",
       "_view_name": "LayoutView",
       "align_content": null,
       "align_items": null,
       "align_self": null,
       "border": null,
       "bottom": null,
       "display": null,
       "flex": null,
       "flex_flow": null,
       "grid_area": null,
       "grid_auto_columns": null,
       "grid_auto_flow": null,
       "grid_auto_rows": null,
       "grid_column": null,
       "grid_gap": null,
       "grid_row": null,
       "grid_template_areas": null,
       "grid_template_columns": null,
       "grid_template_rows": null,
       "height": null,
       "justify_content": null,
       "justify_items": null,
       "left": null,
       "margin": null,
       "max_height": null,
       "max_width": null,
       "min_height": null,
       "min_width": null,
       "object_fit": null,
       "object_position": null,
       "order": null,
       "overflow": null,
       "overflow_x": null,
       "overflow_y": null,
       "padding": null,
       "right": null,
       "top": null,
       "visibility": null,
       "width": null
      }
     },
     "d0e472c771ac415ba29361b32d7aa7c2": {
      "model_module": "@jupyter-widgets/controls",
      "model_module_version": "1.5.0",
      "model_name": "HBoxModel",
      "state": {
       "_dom_classes": [],
       "_model_module": "@jupyter-widgets/controls",
       "_model_module_version": "1.5.0",
       "_model_name": "HBoxModel",
       "_view_count": null,
       "_view_module": "@jupyter-widgets/controls",
       "_view_module_version": "1.5.0",
       "_view_name": "HBoxView",
       "box_style": "",
       "children": [
        "IPY_MODEL_7ecf46c678ec456da199c81b02180bff",
        "IPY_MODEL_d81f3123cc9f451f8f7921027d970b6b",
        "IPY_MODEL_e8c169af79b243189246d942dfcb2adb"
       ],
       "layout": "IPY_MODEL_04f8785db6f54759aa01bd06b8eb5c6a"
      }
     },
     "d2112b25bb9d4581aeb2cd77e6e67ec4": {
      "model_module": "@jupyter-widgets/base",
      "model_module_version": "1.2.0",
      "model_name": "LayoutModel",
      "state": {
       "_model_module": "@jupyter-widgets/base",
       "_model_module_version": "1.2.0",
       "_model_name": "LayoutModel",
       "_view_count": null,
       "_view_module": "@jupyter-widgets/base",
       "_view_module_version": "1.2.0",
       "_view_name": "LayoutView",
       "align_content": null,
       "align_items": null,
       "align_self": null,
       "border": null,
       "bottom": null,
       "display": null,
       "flex": null,
       "flex_flow": null,
       "grid_area": null,
       "grid_auto_columns": null,
       "grid_auto_flow": null,
       "grid_auto_rows": null,
       "grid_column": null,
       "grid_gap": null,
       "grid_row": null,
       "grid_template_areas": null,
       "grid_template_columns": null,
       "grid_template_rows": null,
       "height": null,
       "justify_content": null,
       "justify_items": null,
       "left": null,
       "margin": null,
       "max_height": null,
       "max_width": null,
       "min_height": null,
       "min_width": null,
       "object_fit": null,
       "object_position": null,
       "order": null,
       "overflow": null,
       "overflow_x": null,
       "overflow_y": null,
       "padding": null,
       "right": null,
       "top": null,
       "visibility": null,
       "width": "60%"
      }
     },
     "d2eb6e072088475d9e9c43d73ba320e3": {
      "model_module": "@jupyter-widgets/controls",
      "model_module_version": "1.5.0",
      "model_name": "ProgressStyleModel",
      "state": {
       "_model_module": "@jupyter-widgets/controls",
       "_model_module_version": "1.5.0",
       "_model_name": "ProgressStyleModel",
       "_view_count": null,
       "_view_module": "@jupyter-widgets/base",
       "_view_module_version": "1.2.0",
       "_view_name": "StyleView",
       "bar_color": null,
       "description_width": ""
      }
     },
     "d5cef7f058144cefb6a175fd0e2f8438": {
      "model_module": "@jupyter-widgets/base",
      "model_module_version": "1.2.0",
      "model_name": "LayoutModel",
      "state": {
       "_model_module": "@jupyter-widgets/base",
       "_model_module_version": "1.2.0",
       "_model_name": "LayoutModel",
       "_view_count": null,
       "_view_module": "@jupyter-widgets/base",
       "_view_module_version": "1.2.0",
       "_view_name": "LayoutView",
       "align_content": null,
       "align_items": null,
       "align_self": null,
       "border": null,
       "bottom": null,
       "display": null,
       "flex": null,
       "flex_flow": null,
       "grid_area": null,
       "grid_auto_columns": null,
       "grid_auto_flow": null,
       "grid_auto_rows": null,
       "grid_column": null,
       "grid_gap": null,
       "grid_row": null,
       "grid_template_areas": null,
       "grid_template_columns": null,
       "grid_template_rows": null,
       "height": null,
       "justify_content": null,
       "justify_items": null,
       "left": null,
       "margin": null,
       "max_height": null,
       "max_width": null,
       "min_height": null,
       "min_width": null,
       "object_fit": null,
       "object_position": null,
       "order": null,
       "overflow": null,
       "overflow_x": null,
       "overflow_y": null,
       "padding": null,
       "right": null,
       "top": null,
       "visibility": null,
       "width": null
      }
     },
     "d6878b403026430e82752a9b56f24bd0": {
      "model_module": "@jupyter-widgets/base",
      "model_module_version": "1.2.0",
      "model_name": "LayoutModel",
      "state": {
       "_model_module": "@jupyter-widgets/base",
       "_model_module_version": "1.2.0",
       "_model_name": "LayoutModel",
       "_view_count": null,
       "_view_module": "@jupyter-widgets/base",
       "_view_module_version": "1.2.0",
       "_view_name": "LayoutView",
       "align_content": null,
       "align_items": null,
       "align_self": null,
       "border": null,
       "bottom": null,
       "display": null,
       "flex": null,
       "flex_flow": null,
       "grid_area": null,
       "grid_auto_columns": null,
       "grid_auto_flow": null,
       "grid_auto_rows": null,
       "grid_column": null,
       "grid_gap": null,
       "grid_row": null,
       "grid_template_areas": null,
       "grid_template_columns": null,
       "grid_template_rows": null,
       "height": null,
       "justify_content": null,
       "justify_items": null,
       "left": null,
       "margin": null,
       "max_height": null,
       "max_width": null,
       "min_height": null,
       "min_width": null,
       "object_fit": null,
       "object_position": null,
       "order": null,
       "overflow": null,
       "overflow_x": null,
       "overflow_y": null,
       "padding": null,
       "right": null,
       "top": null,
       "visibility": null,
       "width": null
      }
     },
     "d689afacd7864f1cbdbb96b8820d1274": {
      "model_module": "@jupyter-widgets/controls",
      "model_module_version": "1.5.0",
      "model_name": "DescriptionStyleModel",
      "state": {
       "_model_module": "@jupyter-widgets/controls",
       "_model_module_version": "1.5.0",
       "_model_name": "DescriptionStyleModel",
       "_view_count": null,
       "_view_module": "@jupyter-widgets/base",
       "_view_module_version": "1.2.0",
       "_view_name": "StyleView",
       "description_width": ""
      }
     },
     "d724ba42f6b84768b58e9b91f4d5e737": {
      "model_module": "@jupyter-widgets/controls",
      "model_module_version": "1.5.0",
      "model_name": "DescriptionStyleModel",
      "state": {
       "_model_module": "@jupyter-widgets/controls",
       "_model_module_version": "1.5.0",
       "_model_name": "DescriptionStyleModel",
       "_view_count": null,
       "_view_module": "@jupyter-widgets/base",
       "_view_module_version": "1.2.0",
       "_view_name": "StyleView",
       "description_width": ""
      }
     },
     "d81f3123cc9f451f8f7921027d970b6b": {
      "model_module": "@jupyter-widgets/controls",
      "model_module_version": "1.5.0",
      "model_name": "FloatProgressModel",
      "state": {
       "_dom_classes": [],
       "_model_module": "@jupyter-widgets/controls",
       "_model_module_version": "1.5.0",
       "_model_name": "FloatProgressModel",
       "_view_count": null,
       "_view_module": "@jupyter-widgets/controls",
       "_view_module_version": "1.5.0",
       "_view_name": "ProgressView",
       "bar_style": "",
       "description": "",
       "description_tooltip": null,
       "layout": "IPY_MODEL_ffd2af359b6645d8999aef4e4556d565",
       "max": 10000.0,
       "min": 0.0,
       "orientation": "horizontal",
       "style": "IPY_MODEL_e5c6464bf02e47328c593d5d53edb5bc",
       "value": 10000.0
      }
     },
     "da787a81f67c4e21bdfccaa55785bcda": {
      "model_module": "@jupyter-widgets/controls",
      "model_module_version": "1.5.0",
      "model_name": "HTMLModel",
      "state": {
       "_dom_classes": [],
       "_model_module": "@jupyter-widgets/controls",
       "_model_module_version": "1.5.0",
       "_model_name": "HTMLModel",
       "_view_count": null,
       "_view_module": "@jupyter-widgets/controls",
       "_view_module_version": "1.5.0",
       "_view_name": "HTMLView",
       "description": "",
       "description_tooltip": null,
       "layout": "IPY_MODEL_a52bc3093c22466b930972814af58ec8",
       "placeholder": "​",
       "style": "IPY_MODEL_9b551b18b1f3486eaf9b4ad1bc794eb7",
       "value": "Iterations:"
      }
     },
     "db753995d2e343d08152ce446cf0da12": {
      "model_module": "@jupyter-widgets/controls",
      "model_module_version": "1.5.0",
      "model_name": "ProgressStyleModel",
      "state": {
       "_model_module": "@jupyter-widgets/controls",
       "_model_module_version": "1.5.0",
       "_model_name": "ProgressStyleModel",
       "_view_count": null,
       "_view_module": "@jupyter-widgets/base",
       "_view_module_version": "1.2.0",
       "_view_name": "StyleView",
       "bar_color": null,
       "description_width": ""
      }
     },
     "dc3fd0c01b0849c1b98ff071afd18249": {
      "model_module": "@jupyter-widgets/output",
      "model_module_version": "1.0.0",
      "model_name": "OutputModel",
      "state": {
       "_dom_classes": [],
       "_model_module": "@jupyter-widgets/output",
       "_model_module_version": "1.0.0",
       "_model_name": "OutputModel",
       "_view_count": null,
       "_view_module": "@jupyter-widgets/output",
       "_view_module_version": "1.0.0",
       "_view_name": "OutputView",
       "layout": "IPY_MODEL_5bd6220636bf4469bbb78f6fb6e6e605",
       "msg_id": "",
       "outputs": []
      }
     },
     "dcfe284cd7334cdf9cb541a581286aca": {
      "model_module": "@jupyter-widgets/controls",
      "model_module_version": "1.5.0",
      "model_name": "ProgressStyleModel",
      "state": {
       "_model_module": "@jupyter-widgets/controls",
       "_model_module_version": "1.5.0",
       "_model_name": "ProgressStyleModel",
       "_view_count": null,
       "_view_module": "@jupyter-widgets/base",
       "_view_module_version": "1.2.0",
       "_view_name": "StyleView",
       "bar_color": null,
       "description_width": ""
      }
     },
     "df074c17d38f49d9ba237f330d172ca4": {
      "model_module": "@jupyter-widgets/base",
      "model_module_version": "1.2.0",
      "model_name": "LayoutModel",
      "state": {
       "_model_module": "@jupyter-widgets/base",
       "_model_module_version": "1.2.0",
       "_model_name": "LayoutModel",
       "_view_count": null,
       "_view_module": "@jupyter-widgets/base",
       "_view_module_version": "1.2.0",
       "_view_name": "LayoutView",
       "align_content": null,
       "align_items": null,
       "align_self": null,
       "border": null,
       "bottom": null,
       "display": null,
       "flex": null,
       "flex_flow": null,
       "grid_area": null,
       "grid_auto_columns": null,
       "grid_auto_flow": null,
       "grid_auto_rows": null,
       "grid_column": null,
       "grid_gap": null,
       "grid_row": null,
       "grid_template_areas": null,
       "grid_template_columns": null,
       "grid_template_rows": null,
       "height": null,
       "justify_content": null,
       "justify_items": null,
       "left": null,
       "margin": null,
       "max_height": null,
       "max_width": null,
       "min_height": null,
       "min_width": null,
       "object_fit": null,
       "object_position": null,
       "order": null,
       "overflow": null,
       "overflow_x": null,
       "overflow_y": null,
       "padding": null,
       "right": null,
       "top": null,
       "visibility": null,
       "width": null
      }
     },
     "dfdf21e948264c53ae6d52260fbc8761": {
      "model_module": "@jupyter-widgets/controls",
      "model_module_version": "1.5.0",
      "model_name": "FloatProgressModel",
      "state": {
       "_dom_classes": [],
       "_model_module": "@jupyter-widgets/controls",
       "_model_module_version": "1.5.0",
       "_model_name": "FloatProgressModel",
       "_view_count": null,
       "_view_module": "@jupyter-widgets/controls",
       "_view_module_version": "1.5.0",
       "_view_name": "ProgressView",
       "bar_style": "",
       "description": "",
       "description_tooltip": null,
       "layout": "IPY_MODEL_00ec60f4ddb84126a3e34832490139d7",
       "max": 5.0,
       "min": 0.0,
       "orientation": "horizontal",
       "style": "IPY_MODEL_4e9c796d634742489e63a618d8e9fb3b",
       "value": 4.0
      }
     },
     "e2b25c76984b4110a121396ee0f62aa0": {
      "model_module": "@jupyter-widgets/controls",
      "model_module_version": "1.5.0",
      "model_name": "HBoxModel",
      "state": {
       "_dom_classes": [],
       "_model_module": "@jupyter-widgets/controls",
       "_model_module_version": "1.5.0",
       "_model_name": "HBoxModel",
       "_view_count": null,
       "_view_module": "@jupyter-widgets/controls",
       "_view_module_version": "1.5.0",
       "_view_name": "HBoxView",
       "box_style": "",
       "children": [
        "IPY_MODEL_8fbf24e7cd4c4e4084d238a8e2af3745",
        "IPY_MODEL_6ff6b2e9f1054570a2278859b75a9809",
        "IPY_MODEL_6106a943faf549bdbb5a997667a831f5"
       ],
       "layout": "IPY_MODEL_913de174c391429fa932ae7657d00c80"
      }
     },
     "e2d8846693cc4c0f8bccfabe79a2ac01": {
      "model_module": "@jupyter-widgets/controls",
      "model_module_version": "1.5.0",
      "model_name": "ProgressStyleModel",
      "state": {
       "_model_module": "@jupyter-widgets/controls",
       "_model_module_version": "1.5.0",
       "_model_name": "ProgressStyleModel",
       "_view_count": null,
       "_view_module": "@jupyter-widgets/base",
       "_view_module_version": "1.2.0",
       "_view_name": "StyleView",
       "bar_color": null,
       "description_width": ""
      }
     },
     "e4925e1d84ca4b9a98d379fcd8d4af05": {
      "model_module": "@jupyter-widgets/controls",
      "model_module_version": "1.5.0",
      "model_name": "DescriptionStyleModel",
      "state": {
       "_model_module": "@jupyter-widgets/controls",
       "_model_module_version": "1.5.0",
       "_model_name": "DescriptionStyleModel",
       "_view_count": null,
       "_view_module": "@jupyter-widgets/base",
       "_view_module_version": "1.2.0",
       "_view_name": "StyleView",
       "description_width": ""
      }
     },
     "e526a577c04d4a7f875f6e12a352118b": {
      "model_module": "@jupyter-widgets/controls",
      "model_module_version": "1.5.0",
      "model_name": "DescriptionStyleModel",
      "state": {
       "_model_module": "@jupyter-widgets/controls",
       "_model_module_version": "1.5.0",
       "_model_name": "DescriptionStyleModel",
       "_view_count": null,
       "_view_module": "@jupyter-widgets/base",
       "_view_module_version": "1.2.0",
       "_view_name": "StyleView",
       "description_width": ""
      }
     },
     "e5c6464bf02e47328c593d5d53edb5bc": {
      "model_module": "@jupyter-widgets/controls",
      "model_module_version": "1.5.0",
      "model_name": "ProgressStyleModel",
      "state": {
       "_model_module": "@jupyter-widgets/controls",
       "_model_module_version": "1.5.0",
       "_model_name": "ProgressStyleModel",
       "_view_count": null,
       "_view_module": "@jupyter-widgets/base",
       "_view_module_version": "1.2.0",
       "_view_name": "StyleView",
       "bar_color": null,
       "description_width": ""
      }
     },
     "e7f3c54132884652b77d501c7c66ea4b": {
      "model_module": "@jupyter-widgets/controls",
      "model_module_version": "1.5.0",
      "model_name": "FloatProgressModel",
      "state": {
       "_dom_classes": [],
       "_model_module": "@jupyter-widgets/controls",
       "_model_module_version": "1.5.0",
       "_model_name": "FloatProgressModel",
       "_view_count": null,
       "_view_module": "@jupyter-widgets/controls",
       "_view_module_version": "1.5.0",
       "_view_name": "ProgressView",
       "bar_style": "",
       "description": "",
       "description_tooltip": null,
       "layout": "IPY_MODEL_74785415d6384ca5930e977fdeda192e",
       "max": 5.0,
       "min": 0.0,
       "orientation": "horizontal",
       "style": "IPY_MODEL_720ef99fd23d46e299f4f495ccaa22f3",
       "value": 4.0
      }
     },
     "e84eac9286534bf5bedd8b56def2086e": {
      "model_module": "@jupyter-widgets/controls",
      "model_module_version": "1.5.0",
      "model_name": "FloatProgressModel",
      "state": {
       "_dom_classes": [],
       "_model_module": "@jupyter-widgets/controls",
       "_model_module_version": "1.5.0",
       "_model_name": "FloatProgressModel",
       "_view_count": null,
       "_view_module": "@jupyter-widgets/controls",
       "_view_module_version": "1.5.0",
       "_view_name": "ProgressView",
       "bar_style": "",
       "description": "",
       "description_tooltip": null,
       "layout": "IPY_MODEL_d2112b25bb9d4581aeb2cd77e6e67ec4",
       "max": 10000.0,
       "min": 0.0,
       "orientation": "horizontal",
       "style": "IPY_MODEL_64e4f94729b94355ab8c3d437f8858e6",
       "value": 10000.0
      }
     },
     "e867634597074b41a53061a3ce9c7ca6": {
      "model_module": "@jupyter-widgets/controls",
      "model_module_version": "1.5.0",
      "model_name": "DescriptionStyleModel",
      "state": {
       "_model_module": "@jupyter-widgets/controls",
       "_model_module_version": "1.5.0",
       "_model_name": "DescriptionStyleModel",
       "_view_count": null,
       "_view_module": "@jupyter-widgets/base",
       "_view_module_version": "1.2.0",
       "_view_name": "StyleView",
       "description_width": ""
      }
     },
     "e8695753f06141e4a18582282016f794": {
      "model_module": "@jupyter-widgets/controls",
      "model_module_version": "1.5.0",
      "model_name": "DescriptionStyleModel",
      "state": {
       "_model_module": "@jupyter-widgets/controls",
       "_model_module_version": "1.5.0",
       "_model_name": "DescriptionStyleModel",
       "_view_count": null,
       "_view_module": "@jupyter-widgets/base",
       "_view_module_version": "1.2.0",
       "_view_name": "StyleView",
       "description_width": ""
      }
     },
     "e8ad83c4fd104f50a696368afcc0501f": {
      "model_module": "@jupyter-widgets/base",
      "model_module_version": "1.2.0",
      "model_name": "LayoutModel",
      "state": {
       "_model_module": "@jupyter-widgets/base",
       "_model_module_version": "1.2.0",
       "_model_name": "LayoutModel",
       "_view_count": null,
       "_view_module": "@jupyter-widgets/base",
       "_view_module_version": "1.2.0",
       "_view_name": "LayoutView",
       "align_content": null,
       "align_items": null,
       "align_self": null,
       "border": null,
       "bottom": null,
       "display": null,
       "flex": null,
       "flex_flow": null,
       "grid_area": null,
       "grid_auto_columns": null,
       "grid_auto_flow": null,
       "grid_auto_rows": null,
       "grid_column": null,
       "grid_gap": null,
       "grid_row": null,
       "grid_template_areas": null,
       "grid_template_columns": null,
       "grid_template_rows": null,
       "height": null,
       "justify_content": null,
       "justify_items": null,
       "left": null,
       "margin": null,
       "max_height": null,
       "max_width": null,
       "min_height": null,
       "min_width": null,
       "object_fit": null,
       "object_position": null,
       "order": null,
       "overflow": null,
       "overflow_x": null,
       "overflow_y": null,
       "padding": null,
       "right": null,
       "top": null,
       "visibility": null,
       "width": null
      }
     },
     "e8c169af79b243189246d942dfcb2adb": {
      "model_module": "@jupyter-widgets/controls",
      "model_module_version": "1.5.0",
      "model_name": "HTMLModel",
      "state": {
       "_dom_classes": [],
       "_model_module": "@jupyter-widgets/controls",
       "_model_module_version": "1.5.0",
       "_model_name": "HTMLModel",
       "_view_count": null,
       "_view_module": "@jupyter-widgets/controls",
       "_view_module_version": "1.5.0",
       "_view_name": "HTMLView",
       "description": "",
       "description_tooltip": null,
       "layout": "IPY_MODEL_1e7371f0566f407e858e4b292459834e",
       "placeholder": "​",
       "style": "IPY_MODEL_e8695753f06141e4a18582282016f794",
       "value": "10000/10000 [00:00&lt;00:00, 63007.36it/s]"
      }
     },
     "edefaf6551084c85b88251f47277e7b0": {
      "model_module": "@jupyter-widgets/base",
      "model_module_version": "1.2.0",
      "model_name": "LayoutModel",
      "state": {
       "_model_module": "@jupyter-widgets/base",
       "_model_module_version": "1.2.0",
       "_model_name": "LayoutModel",
       "_view_count": null,
       "_view_module": "@jupyter-widgets/base",
       "_view_module_version": "1.2.0",
       "_view_name": "LayoutView",
       "align_content": null,
       "align_items": null,
       "align_self": null,
       "border": null,
       "bottom": null,
       "display": null,
       "flex": null,
       "flex_flow": null,
       "grid_area": null,
       "grid_auto_columns": null,
       "grid_auto_flow": null,
       "grid_auto_rows": null,
       "grid_column": null,
       "grid_gap": null,
       "grid_row": null,
       "grid_template_areas": null,
       "grid_template_columns": null,
       "grid_template_rows": null,
       "height": null,
       "justify_content": null,
       "justify_items": null,
       "left": null,
       "margin": null,
       "max_height": null,
       "max_width": null,
       "min_height": null,
       "min_width": null,
       "object_fit": null,
       "object_position": null,
       "order": null,
       "overflow": null,
       "overflow_x": null,
       "overflow_y": null,
       "padding": null,
       "right": null,
       "top": null,
       "visibility": null,
       "width": "60%"
      }
     },
     "efa5b579641b42de8366f9ac707760f3": {
      "model_module": "@jupyter-widgets/controls",
      "model_module_version": "1.5.0",
      "model_name": "DescriptionStyleModel",
      "state": {
       "_model_module": "@jupyter-widgets/controls",
       "_model_module_version": "1.5.0",
       "_model_name": "DescriptionStyleModel",
       "_view_count": null,
       "_view_module": "@jupyter-widgets/base",
       "_view_module_version": "1.2.0",
       "_view_name": "StyleView",
       "description_width": ""
      }
     },
     "f23cdd53c575488c8ad4ea7e652f085d": {
      "model_module": "@jupyter-widgets/base",
      "model_module_version": "1.2.0",
      "model_name": "LayoutModel",
      "state": {
       "_model_module": "@jupyter-widgets/base",
       "_model_module_version": "1.2.0",
       "_model_name": "LayoutModel",
       "_view_count": null,
       "_view_module": "@jupyter-widgets/base",
       "_view_module_version": "1.2.0",
       "_view_name": "LayoutView",
       "align_content": null,
       "align_items": null,
       "align_self": null,
       "border": null,
       "bottom": null,
       "display": null,
       "flex": null,
       "flex_flow": null,
       "grid_area": null,
       "grid_auto_columns": null,
       "grid_auto_flow": null,
       "grid_auto_rows": null,
       "grid_column": null,
       "grid_gap": null,
       "grid_row": null,
       "grid_template_areas": null,
       "grid_template_columns": null,
       "grid_template_rows": null,
       "height": null,
       "justify_content": null,
       "justify_items": null,
       "left": null,
       "margin": null,
       "max_height": null,
       "max_width": null,
       "min_height": null,
       "min_width": null,
       "object_fit": null,
       "object_position": null,
       "order": null,
       "overflow": null,
       "overflow_x": null,
       "overflow_y": null,
       "padding": null,
       "right": null,
       "top": null,
       "visibility": null,
       "width": null
      }
     },
     "f30d480e3cae43e595a96ea1c072bbeb": {
      "model_module": "@jupyter-widgets/controls",
      "model_module_version": "1.5.0",
      "model_name": "ProgressStyleModel",
      "state": {
       "_model_module": "@jupyter-widgets/controls",
       "_model_module_version": "1.5.0",
       "_model_name": "ProgressStyleModel",
       "_view_count": null,
       "_view_module": "@jupyter-widgets/base",
       "_view_module_version": "1.2.0",
       "_view_name": "StyleView",
       "bar_color": null,
       "description_width": ""
      }
     },
     "f3964798b8cd4c10a1e6517011838200": {
      "model_module": "@jupyter-widgets/base",
      "model_module_version": "1.2.0",
      "model_name": "LayoutModel",
      "state": {
       "_model_module": "@jupyter-widgets/base",
       "_model_module_version": "1.2.0",
       "_model_name": "LayoutModel",
       "_view_count": null,
       "_view_module": "@jupyter-widgets/base",
       "_view_module_version": "1.2.0",
       "_view_name": "LayoutView",
       "align_content": null,
       "align_items": null,
       "align_self": null,
       "border": null,
       "bottom": null,
       "display": null,
       "flex": null,
       "flex_flow": null,
       "grid_area": null,
       "grid_auto_columns": null,
       "grid_auto_flow": null,
       "grid_auto_rows": null,
       "grid_column": null,
       "grid_gap": null,
       "grid_row": null,
       "grid_template_areas": null,
       "grid_template_columns": null,
       "grid_template_rows": null,
       "height": null,
       "justify_content": null,
       "justify_items": null,
       "left": null,
       "margin": null,
       "max_height": null,
       "max_width": null,
       "min_height": null,
       "min_width": null,
       "object_fit": null,
       "object_position": null,
       "order": null,
       "overflow": null,
       "overflow_x": null,
       "overflow_y": null,
       "padding": null,
       "right": null,
       "top": null,
       "visibility": null,
       "width": "60%"
      }
     },
     "f3b69ac2d651463fa042005529e2775e": {
      "model_module": "@jupyter-widgets/controls",
      "model_module_version": "1.5.0",
      "model_name": "DescriptionStyleModel",
      "state": {
       "_model_module": "@jupyter-widgets/controls",
       "_model_module_version": "1.5.0",
       "_model_name": "DescriptionStyleModel",
       "_view_count": null,
       "_view_module": "@jupyter-widgets/base",
       "_view_module_version": "1.2.0",
       "_view_name": "StyleView",
       "description_width": ""
      }
     },
     "f627ec33cd9d4405877e4149f298f238": {
      "model_module": "@jupyter-widgets/base",
      "model_module_version": "1.2.0",
      "model_name": "LayoutModel",
      "state": {
       "_model_module": "@jupyter-widgets/base",
       "_model_module_version": "1.2.0",
       "_model_name": "LayoutModel",
       "_view_count": null,
       "_view_module": "@jupyter-widgets/base",
       "_view_module_version": "1.2.0",
       "_view_name": "LayoutView",
       "align_content": null,
       "align_items": null,
       "align_self": null,
       "border": null,
       "bottom": null,
       "display": null,
       "flex": null,
       "flex_flow": null,
       "grid_area": null,
       "grid_auto_columns": null,
       "grid_auto_flow": null,
       "grid_auto_rows": null,
       "grid_column": null,
       "grid_gap": null,
       "grid_row": null,
       "grid_template_areas": null,
       "grid_template_columns": null,
       "grid_template_rows": null,
       "height": null,
       "justify_content": null,
       "justify_items": null,
       "left": null,
       "margin": null,
       "max_height": null,
       "max_width": null,
       "min_height": null,
       "min_width": null,
       "object_fit": null,
       "object_position": null,
       "order": null,
       "overflow": null,
       "overflow_x": null,
       "overflow_y": null,
       "padding": null,
       "right": null,
       "top": null,
       "visibility": null,
       "width": null
      }
     },
     "f67d722de1b34bd2ad01284bab3860ae": {
      "model_module": "@jupyter-widgets/base",
      "model_module_version": "1.2.0",
      "model_name": "LayoutModel",
      "state": {
       "_model_module": "@jupyter-widgets/base",
       "_model_module_version": "1.2.0",
       "_model_name": "LayoutModel",
       "_view_count": null,
       "_view_module": "@jupyter-widgets/base",
       "_view_module_version": "1.2.0",
       "_view_name": "LayoutView",
       "align_content": null,
       "align_items": null,
       "align_self": null,
       "border": null,
       "bottom": null,
       "display": null,
       "flex": null,
       "flex_flow": null,
       "grid_area": null,
       "grid_auto_columns": null,
       "grid_auto_flow": null,
       "grid_auto_rows": null,
       "grid_column": null,
       "grid_gap": null,
       "grid_row": null,
       "grid_template_areas": null,
       "grid_template_columns": null,
       "grid_template_rows": null,
       "height": null,
       "justify_content": null,
       "justify_items": null,
       "left": null,
       "margin": null,
       "max_height": null,
       "max_width": null,
       "min_height": null,
       "min_width": null,
       "object_fit": null,
       "object_position": null,
       "order": null,
       "overflow": null,
       "overflow_x": null,
       "overflow_y": null,
       "padding": null,
       "right": null,
       "top": null,
       "visibility": null,
       "width": "60%"
      }
     },
     "f776fda956274887bc815c0f3364940b": {
      "model_module": "@jupyter-widgets/controls",
      "model_module_version": "1.5.0",
      "model_name": "HTMLModel",
      "state": {
       "_dom_classes": [],
       "_model_module": "@jupyter-widgets/controls",
       "_model_module_version": "1.5.0",
       "_model_name": "HTMLModel",
       "_view_count": null,
       "_view_module": "@jupyter-widgets/controls",
       "_view_module_version": "1.5.0",
       "_view_name": "HTMLView",
       "description": "",
       "description_tooltip": null,
       "layout": "IPY_MODEL_a51e67bb36da4674a5e82d9b2cfdf27a",
       "placeholder": "​",
       "style": "IPY_MODEL_8fc5d4363520425b8596db62bbb0376d",
       "value": "Packets:   "
      }
     },
     "f8befd525c084788b1f036e2718ddf5a": {
      "model_module": "@jupyter-widgets/controls",
      "model_module_version": "1.5.0",
      "model_name": "DescriptionStyleModel",
      "state": {
       "_model_module": "@jupyter-widgets/controls",
       "_model_module_version": "1.5.0",
       "_model_name": "DescriptionStyleModel",
       "_view_count": null,
       "_view_module": "@jupyter-widgets/base",
       "_view_module_version": "1.2.0",
       "_view_name": "StyleView",
       "description_width": ""
      }
     },
     "fa84794d63b94238ad35c03fc53f5c79": {
      "model_module": "@jupyter-widgets/base",
      "model_module_version": "1.2.0",
      "model_name": "LayoutModel",
      "state": {
       "_model_module": "@jupyter-widgets/base",
       "_model_module_version": "1.2.0",
       "_model_name": "LayoutModel",
       "_view_count": null,
       "_view_module": "@jupyter-widgets/base",
       "_view_module_version": "1.2.0",
       "_view_name": "LayoutView",
       "align_content": null,
       "align_items": null,
       "align_self": null,
       "border": null,
       "bottom": null,
       "display": null,
       "flex": null,
       "flex_flow": null,
       "grid_area": null,
       "grid_auto_columns": null,
       "grid_auto_flow": null,
       "grid_auto_rows": null,
       "grid_column": null,
       "grid_gap": null,
       "grid_row": null,
       "grid_template_areas": null,
       "grid_template_columns": null,
       "grid_template_rows": null,
       "height": null,
       "justify_content": null,
       "justify_items": null,
       "left": null,
       "margin": null,
       "max_height": null,
       "max_width": null,
       "min_height": null,
       "min_width": null,
       "object_fit": null,
       "object_position": null,
       "order": null,
       "overflow": null,
       "overflow_x": null,
       "overflow_y": null,
       "padding": null,
       "right": null,
       "top": null,
       "visibility": null,
       "width": null
      }
     },
     "fc70973a15c6494ca841c13fcf69032e": {
      "model_module": "@jupyter-widgets/base",
      "model_module_version": "1.2.0",
      "model_name": "LayoutModel",
      "state": {
       "_model_module": "@jupyter-widgets/base",
       "_model_module_version": "1.2.0",
       "_model_name": "LayoutModel",
       "_view_count": null,
       "_view_module": "@jupyter-widgets/base",
       "_view_module_version": "1.2.0",
       "_view_name": "LayoutView",
       "align_content": null,
       "align_items": null,
       "align_self": null,
       "border": null,
       "bottom": null,
       "display": null,
       "flex": null,
       "flex_flow": null,
       "grid_area": null,
       "grid_auto_columns": null,
       "grid_auto_flow": null,
       "grid_auto_rows": null,
       "grid_column": null,
       "grid_gap": null,
       "grid_row": null,
       "grid_template_areas": null,
       "grid_template_columns": null,
       "grid_template_rows": null,
       "height": null,
       "justify_content": null,
       "justify_items": null,
       "left": null,
       "margin": null,
       "max_height": null,
       "max_width": null,
       "min_height": null,
       "min_width": null,
       "object_fit": null,
       "object_position": null,
       "order": null,
       "overflow": null,
       "overflow_x": null,
       "overflow_y": null,
       "padding": null,
       "right": null,
       "top": null,
       "visibility": null,
       "width": "20px"
      }
     },
     "fcb11cd090e94c57928c8f29b5f06811": {
      "model_module": "@jupyter-widgets/controls",
      "model_module_version": "1.5.0",
      "model_name": "DescriptionStyleModel",
      "state": {
       "_model_module": "@jupyter-widgets/controls",
       "_model_module_version": "1.5.0",
       "_model_name": "DescriptionStyleModel",
       "_view_count": null,
       "_view_module": "@jupyter-widgets/base",
       "_view_module_version": "1.2.0",
       "_view_name": "StyleView",
       "description_width": ""
      }
     },
     "fd2a17d92a794d89aaf41ef21a2df053": {
      "model_module": "@jupyter-widgets/controls",
      "model_module_version": "1.5.0",
      "model_name": "HTMLModel",
      "state": {
       "_dom_classes": [],
       "_model_module": "@jupyter-widgets/controls",
       "_model_module_version": "1.5.0",
       "_model_name": "HTMLModel",
       "_view_count": null,
       "_view_module": "@jupyter-widgets/controls",
       "_view_module_version": "1.5.0",
       "_view_name": "HTMLView",
       "description": "",
       "description_tooltip": null,
       "layout": "IPY_MODEL_8ce17273749149e4a9d1beeb15eac484",
       "placeholder": "​",
       "style": "IPY_MODEL_d689afacd7864f1cbdbb96b8820d1274",
       "value": "Packets:   "
      }
     },
     "ffd2af359b6645d8999aef4e4556d565": {
      "model_module": "@jupyter-widgets/base",
      "model_module_version": "1.2.0",
      "model_name": "LayoutModel",
      "state": {
       "_model_module": "@jupyter-widgets/base",
       "_model_module_version": "1.2.0",
       "_model_name": "LayoutModel",
       "_view_count": null,
       "_view_module": "@jupyter-widgets/base",
       "_view_module_version": "1.2.0",
       "_view_name": "LayoutView",
       "align_content": null,
       "align_items": null,
       "align_self": null,
       "border": null,
       "bottom": null,
       "display": null,
       "flex": null,
       "flex_flow": null,
       "grid_area": null,
       "grid_auto_columns": null,
       "grid_auto_flow": null,
       "grid_auto_rows": null,
       "grid_column": null,
       "grid_gap": null,
       "grid_row": null,
       "grid_template_areas": null,
       "grid_template_columns": null,
       "grid_template_rows": null,
       "height": null,
       "justify_content": null,
       "justify_items": null,
       "left": null,
       "margin": null,
       "max_height": null,
       "max_width": null,
       "min_height": null,
       "min_width": null,
       "object_fit": null,
       "object_position": null,
       "order": null,
       "overflow": null,
       "overflow_x": null,
       "overflow_y": null,
       "padding": null,
       "right": null,
       "top": null,
       "visibility": null,
       "width": "60%"
      }
     }
    },
    "version_major": 2,
    "version_minor": 0
   }
  }
 },
 "nbformat": 4,
 "nbformat_minor": 5
}
