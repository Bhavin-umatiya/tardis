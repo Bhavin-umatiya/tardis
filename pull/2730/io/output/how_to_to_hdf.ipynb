{
 "cells": [
  {
   "attachments": {},
   "cell_type": "markdown",
   "metadata": {
    "raw_mimetype": "text/restructuredtext"
   },
   "source": [
    "# How to Store Simulations to HDF\n",
    "\n",
    "You can ask TARDIS to store the state of each iteration of the simulation you are running. We show examples of how this is done:"
   ]
  },
  {
   "attachments": {},
   "cell_type": "markdown",
   "metadata": {},
   "source": [
    "Initialize the simulation with the `tardis_example.yml` configuration file."
   ]
  },
  {
   "cell_type": "code",
   "execution_count": 1,
   "metadata": {
    "execution": {
     "iopub.execute_input": "2024-10-07T19:00:36.084232Z",
     "iopub.status.busy": "2024-10-07T19:00:36.083979Z",
     "iopub.status.idle": "2024-10-07T19:01:42.836550Z",
     "shell.execute_reply": "2024-10-07T19:01:42.835987Z"
    }
   },
   "outputs": [
    {
     "data": {
      "application/vnd.jupyter.widget-view+json": {
       "model_id": "276177d374aa4bd0a1fc383d001dc844",
       "version_major": 2,
       "version_minor": 0
      },
      "text/plain": [
       "Iterations:          0/? [00:00<?, ?it/s]"
      ]
     },
     "metadata": {},
     "output_type": "display_data"
    },
    {
     "data": {
      "application/vnd.jupyter.widget-view+json": {
       "model_id": "406cbf939c7d43b4a1b7279be62ba817",
       "version_major": 2,
       "version_minor": 0
      },
      "text/plain": [
       "Packets:             0/? [00:00<?, ?it/s]"
      ]
     },
     "metadata": {},
     "output_type": "display_data"
    },
    {
     "name": "stderr",
     "output_type": "stream",
     "text": [
      "Atomic Data kurucz_cd23_chianti_H_He already exists in /home/runner/Downloads/tardis-data/kurucz_cd23_chianti_H_He.h5. Will not download - override with force_download=True.\n"
     ]
    },
    {
     "name": "stdout",
     "output_type": "stream",
     "text": [
      "[\u001b[1mtardis.io.model.parse_atom_data\u001b[0m][\u001b[1;37mINFO\u001b[0m   ]  \n",
      "\t\n",
      "\tReading Atomic Data from kurucz_cd23_chianti_H_He.h5 (\u001b[1mparse_atom_data.py\u001b[0m:40)\n"
     ]
    },
    {
     "name": "stdout",
     "output_type": "stream",
     "text": [
      "[\u001b[1mtardis.io.atom_data.util\u001b[0m][\u001b[1;37mINFO\u001b[0m   ]  \n",
      "\t\n",
      "\tAtom Data kurucz_cd23_chianti_H_He.h5 not found in local path.\n",
      "\tExists in TARDIS Data repo /home/runner/Downloads/tardis-data/kurucz_cd23_chianti_H_He.h5 (\u001b[1mutil.py\u001b[0m:34)\n"
     ]
    },
    {
     "name": "stdout",
     "output_type": "stream",
     "text": [
      "[\u001b[1mtardis.io.atom_data.base\u001b[0m][\u001b[1;37mINFO\u001b[0m   ]  \n",
      "\tReading Atom Data with: UUID = 6f7b09e887a311e7a06b246e96350010 MD5  = 864f1753714343c41f99cb065710cace  (\u001b[1mbase.py\u001b[0m:262)\n"
     ]
    },
    {
     "name": "stdout",
     "output_type": "stream",
     "text": [
      "[\u001b[1mtardis.io.atom_data.base\u001b[0m][\u001b[1;37mINFO\u001b[0m   ]  \n",
      "\tNon provided Atomic Data: synpp_refs, photoionization_data, yg_data, two_photon_data, linelist_atoms, linelist_molecules (\u001b[1mbase.py\u001b[0m:266)\n"
     ]
    },
    {
     "name": "stdout",
     "output_type": "stream",
     "text": [
      "[\u001b[1mtardis.io.model.parse_density_configuration\u001b[0m][\u001b[1;33mWARNING\u001b[0m]  \n",
      "\tNumber of density points larger than number of shells. Assuming inner point irrelevant (\u001b[1mparse_density_configuration.py\u001b[0m:114)\n"
     ]
    },
    {
     "name": "stdout",
     "output_type": "stream",
     "text": [
      "[\u001b[1mtardis.model.matter.decay\u001b[0m][\u001b[1;37mINFO\u001b[0m   ]  \n",
      "\tDecaying abundances for 1123200.0 seconds (\u001b[1mdecay.py\u001b[0m:101)\n"
     ]
    },
    {
     "name": "stdout",
     "output_type": "stream",
     "text": [
      "[\u001b[1mtardis.simulation.base\u001b[0m][\u001b[1;37mINFO\u001b[0m   ]  \n",
      "\t\n",
      "\tStarting iteration 1 of 20 (\u001b[1mbase.py\u001b[0m:450)\n"
     ]
    },
    {
     "name": "stdout",
     "output_type": "stream",
     "text": [
      "[\u001b[1mpy.warnings         \u001b[0m][\u001b[1;33mWARNING\u001b[0m]  \n",
      "\t/home/runner/work/tardis/tardis/tardis/transport/montecarlo/montecarlo_main_loop.py:123: NumbaTypeSafetyWarning: \u001b[1m\u001b[1m\u001b[1munsafe cast from uint64 to int64. Precision may be lost.\u001b[0m\u001b[0m\u001b[0m\n",
      "  vpacket_collection = vpacket_collections[i]\n",
      " (\u001b[1mwarnings.py\u001b[0m:112)\n"
     ]
    },
    {
     "data": {
      "application/vnd.jupyter.widget-view+json": {
       "model_id": "eb46ae1487f84488b57fd72e377668b9",
       "version_major": 2,
       "version_minor": 0
      },
      "text/plain": [
       "TqdmHBox(children=(HTML(value='Iterations:', layout=Layout(width='6%')), FloatProgress(value=0.0, layout=Layou…"
      ]
     },
     "metadata": {},
     "output_type": "display_data"
    },
    {
     "data": {
      "application/vnd.jupyter.widget-view+json": {
       "model_id": "e7f02ca3cb974828a337d5d933fcd108",
       "version_major": 2,
       "version_minor": 0
      },
      "text/plain": [
       "TqdmHBox(children=(HTML(value='Packets:\\u2007\\u2007\\u2007', layout=Layout(width='6%')), FloatProgress(value=0.…"
      ]
     },
     "metadata": {},
     "output_type": "display_data"
    },
    {
     "name": "stdout",
     "output_type": "stream",
     "text": [
      "[\u001b[1mtardis.simulation.base\u001b[0m][\u001b[1;37mINFO\u001b[0m   ]  \n",
      "\t\n",
      "\tLuminosity emitted   = 7.942e+42 erg / s\n",
      "\tLuminosity absorbed  = 2.659e+42 erg / s\n",
      "\tLuminosity requested = 1.059e+43 erg / s\n",
      " (\u001b[1mbase.py\u001b[0m:663)\n"
     ]
    },
    {
     "name": "stdout",
     "output_type": "stream",
     "text": [
      "[\u001b[1mtardis.simulation.base\u001b[0m][\u001b[1;37mINFO\u001b[0m   ]  \n",
      "\t\n",
      "\tPlasma stratification: (\u001b[1mbase.py\u001b[0m:631)\n"
     ]
    },
    {
     "data": {
      "text/html": [
       "<style type=\"text/css\">\n",
       "</style>\n",
       "<table id=\"T_cda19\">\n",
       "  <thead>\n",
       "    <tr>\n",
       "      <th class=\"index_name level0\" >Shell No.</th>\n",
       "      <th id=\"T_cda19_level0_col0\" class=\"col_heading level0 col0\" >t_rad</th>\n",
       "      <th id=\"T_cda19_level0_col1\" class=\"col_heading level0 col1\" >next_t_rad</th>\n",
       "      <th id=\"T_cda19_level0_col2\" class=\"col_heading level0 col2\" >w</th>\n",
       "      <th id=\"T_cda19_level0_col3\" class=\"col_heading level0 col3\" >next_w</th>\n",
       "    </tr>\n",
       "  </thead>\n",
       "  <tbody>\n",
       "    <tr>\n",
       "      <th id=\"T_cda19_level0_row0\" class=\"row_heading level0 row0\" >0</th>\n",
       "      <td id=\"T_cda19_row0_col0\" class=\"data row0 col0\" >9.93e+03 K</td>\n",
       "      <td id=\"T_cda19_row0_col1\" class=\"data row0 col1\" >1.01e+04 K</td>\n",
       "      <td id=\"T_cda19_row0_col2\" class=\"data row0 col2\" >0.4</td>\n",
       "      <td id=\"T_cda19_row0_col3\" class=\"data row0 col3\" >0.507</td>\n",
       "    </tr>\n",
       "    <tr>\n",
       "      <th id=\"T_cda19_level0_row1\" class=\"row_heading level0 row1\" >5</th>\n",
       "      <td id=\"T_cda19_row1_col0\" class=\"data row1 col0\" >9.85e+03 K</td>\n",
       "      <td id=\"T_cda19_row1_col1\" class=\"data row1 col1\" >1.02e+04 K</td>\n",
       "      <td id=\"T_cda19_row1_col2\" class=\"data row1 col2\" >0.211</td>\n",
       "      <td id=\"T_cda19_row1_col3\" class=\"data row1 col3\" >0.197</td>\n",
       "    </tr>\n",
       "    <tr>\n",
       "      <th id=\"T_cda19_level0_row2\" class=\"row_heading level0 row2\" >10</th>\n",
       "      <td id=\"T_cda19_row2_col0\" class=\"data row2 col0\" >9.78e+03 K</td>\n",
       "      <td id=\"T_cda19_row2_col1\" class=\"data row2 col1\" >1.01e+04 K</td>\n",
       "      <td id=\"T_cda19_row2_col2\" class=\"data row2 col2\" >0.143</td>\n",
       "      <td id=\"T_cda19_row2_col3\" class=\"data row2 col3\" >0.117</td>\n",
       "    </tr>\n",
       "    <tr>\n",
       "      <th id=\"T_cda19_level0_row3\" class=\"row_heading level0 row3\" >15</th>\n",
       "      <td id=\"T_cda19_row3_col0\" class=\"data row3 col0\" >9.71e+03 K</td>\n",
       "      <td id=\"T_cda19_row3_col1\" class=\"data row3 col1\" >9.87e+03 K</td>\n",
       "      <td id=\"T_cda19_row3_col2\" class=\"data row3 col2\" >0.105</td>\n",
       "      <td id=\"T_cda19_row3_col3\" class=\"data row3 col3\" >0.0869</td>\n",
       "    </tr>\n",
       "  </tbody>\n",
       "</table>\n"
      ],
      "text/plain": [
       "<pandas.io.formats.style.Styler at 0x7f3f7bd8b260>"
      ]
     },
     "metadata": {},
     "output_type": "display_data"
    },
    {
     "name": "stdout",
     "output_type": "stream",
     "text": [
      "[\u001b[1mtardis.simulation.base\u001b[0m][\u001b[1;37mINFO\u001b[0m   ]  \n",
      "\t\n",
      "\tCurrent t_inner = 9933.952 K\n",
      "\tExpected t_inner for next iteration = 10703.212 K\n",
      " (\u001b[1mbase.py\u001b[0m:658)\n"
     ]
    },
    {
     "name": "stdout",
     "output_type": "stream",
     "text": [
      "[\u001b[1mtardis.simulation.base\u001b[0m][\u001b[1;37mINFO\u001b[0m   ]  \n",
      "\t\n",
      "\tStarting iteration 2 of 20 (\u001b[1mbase.py\u001b[0m:450)\n"
     ]
    },
    {
     "name": "stdout",
     "output_type": "stream",
     "text": [
      "[\u001b[1mtardis.simulation.base\u001b[0m][\u001b[1;37mINFO\u001b[0m   ]  \n",
      "\t\n",
      "\tLuminosity emitted   = 1.071e+43 erg / s\n",
      "\tLuminosity absorbed  = 3.576e+42 erg / s\n",
      "\tLuminosity requested = 1.059e+43 erg / s\n",
      " (\u001b[1mbase.py\u001b[0m:663)\n"
     ]
    },
    {
     "name": "stdout",
     "output_type": "stream",
     "text": [
      "[\u001b[1mtardis.simulation.base\u001b[0m][\u001b[1;37mINFO\u001b[0m   ]  \n",
      "\t\n",
      "\tPlasma stratification: (\u001b[1mbase.py\u001b[0m:631)\n"
     ]
    },
    {
     "data": {
      "text/html": [
       "<style type=\"text/css\">\n",
       "</style>\n",
       "<table id=\"T_bafbf\">\n",
       "  <thead>\n",
       "    <tr>\n",
       "      <th class=\"index_name level0\" >Shell No.</th>\n",
       "      <th id=\"T_bafbf_level0_col0\" class=\"col_heading level0 col0\" >t_rad</th>\n",
       "      <th id=\"T_bafbf_level0_col1\" class=\"col_heading level0 col1\" >next_t_rad</th>\n",
       "      <th id=\"T_bafbf_level0_col2\" class=\"col_heading level0 col2\" >w</th>\n",
       "      <th id=\"T_bafbf_level0_col3\" class=\"col_heading level0 col3\" >next_w</th>\n",
       "    </tr>\n",
       "  </thead>\n",
       "  <tbody>\n",
       "    <tr>\n",
       "      <th id=\"T_bafbf_level0_row0\" class=\"row_heading level0 row0\" >0</th>\n",
       "      <td id=\"T_bafbf_row0_col0\" class=\"data row0 col0\" >1.01e+04 K</td>\n",
       "      <td id=\"T_bafbf_row0_col1\" class=\"data row0 col1\" >1.08e+04 K</td>\n",
       "      <td id=\"T_bafbf_row0_col2\" class=\"data row0 col2\" >0.507</td>\n",
       "      <td id=\"T_bafbf_row0_col3\" class=\"data row0 col3\" >0.525</td>\n",
       "    </tr>\n",
       "    <tr>\n",
       "      <th id=\"T_bafbf_level0_row1\" class=\"row_heading level0 row1\" >5</th>\n",
       "      <td id=\"T_bafbf_row1_col0\" class=\"data row1 col0\" >1.02e+04 K</td>\n",
       "      <td id=\"T_bafbf_row1_col1\" class=\"data row1 col1\" >1.1e+04 K</td>\n",
       "      <td id=\"T_bafbf_row1_col2\" class=\"data row1 col2\" >0.197</td>\n",
       "      <td id=\"T_bafbf_row1_col3\" class=\"data row1 col3\" >0.203</td>\n",
       "    </tr>\n",
       "    <tr>\n",
       "      <th id=\"T_bafbf_level0_row2\" class=\"row_heading level0 row2\" >10</th>\n",
       "      <td id=\"T_bafbf_row2_col0\" class=\"data row2 col0\" >1.01e+04 K</td>\n",
       "      <td id=\"T_bafbf_row2_col1\" class=\"data row2 col1\" >1.08e+04 K</td>\n",
       "      <td id=\"T_bafbf_row2_col2\" class=\"data row2 col2\" >0.117</td>\n",
       "      <td id=\"T_bafbf_row2_col3\" class=\"data row2 col3\" >0.125</td>\n",
       "    </tr>\n",
       "    <tr>\n",
       "      <th id=\"T_bafbf_level0_row3\" class=\"row_heading level0 row3\" >15</th>\n",
       "      <td id=\"T_bafbf_row3_col0\" class=\"data row3 col0\" >9.87e+03 K</td>\n",
       "      <td id=\"T_bafbf_row3_col1\" class=\"data row3 col1\" >1.05e+04 K</td>\n",
       "      <td id=\"T_bafbf_row3_col2\" class=\"data row3 col2\" >0.0869</td>\n",
       "      <td id=\"T_bafbf_row3_col3\" class=\"data row3 col3\" >0.0933</td>\n",
       "    </tr>\n",
       "  </tbody>\n",
       "</table>\n"
      ],
      "text/plain": [
       "<pandas.io.formats.style.Styler at 0x7f3f7bd61ee0>"
      ]
     },
     "metadata": {},
     "output_type": "display_data"
    },
    {
     "name": "stdout",
     "output_type": "stream",
     "text": [
      "[\u001b[1mtardis.simulation.base\u001b[0m][\u001b[1;37mINFO\u001b[0m   ]  \n",
      "\t\n",
      "\tCurrent t_inner = 10703.212 K\n",
      "\tExpected t_inner for next iteration = 10673.712 K\n",
      " (\u001b[1mbase.py\u001b[0m:658)\n"
     ]
    },
    {
     "name": "stdout",
     "output_type": "stream",
     "text": [
      "[\u001b[1mtardis.simulation.base\u001b[0m][\u001b[1;37mINFO\u001b[0m   ]  \n",
      "\t\n",
      "\tStarting iteration 3 of 20 (\u001b[1mbase.py\u001b[0m:450)\n"
     ]
    },
    {
     "name": "stdout",
     "output_type": "stream",
     "text": [
      "[\u001b[1mtardis.simulation.base\u001b[0m][\u001b[1;37mINFO\u001b[0m   ]  \n",
      "\t\n",
      "\tLuminosity emitted   = 1.074e+43 erg / s\n",
      "\tLuminosity absorbed  = 3.391e+42 erg / s\n",
      "\tLuminosity requested = 1.059e+43 erg / s\n",
      " (\u001b[1mbase.py\u001b[0m:663)\n"
     ]
    },
    {
     "name": "stdout",
     "output_type": "stream",
     "text": [
      "[\u001b[1mtardis.simulation.base\u001b[0m][\u001b[1;37mINFO\u001b[0m   ]  \n",
      "\tIteration converged 1/4 consecutive times. (\u001b[1mbase.py\u001b[0m:262)\n"
     ]
    },
    {
     "name": "stdout",
     "output_type": "stream",
     "text": [
      "[\u001b[1mtardis.simulation.base\u001b[0m][\u001b[1;37mINFO\u001b[0m   ]  \n",
      "\t\n",
      "\tPlasma stratification: (\u001b[1mbase.py\u001b[0m:631)\n"
     ]
    },
    {
     "data": {
      "text/html": [
       "<style type=\"text/css\">\n",
       "</style>\n",
       "<table id=\"T_e1205\">\n",
       "  <thead>\n",
       "    <tr>\n",
       "      <th class=\"index_name level0\" >Shell No.</th>\n",
       "      <th id=\"T_e1205_level0_col0\" class=\"col_heading level0 col0\" >t_rad</th>\n",
       "      <th id=\"T_e1205_level0_col1\" class=\"col_heading level0 col1\" >next_t_rad</th>\n",
       "      <th id=\"T_e1205_level0_col2\" class=\"col_heading level0 col2\" >w</th>\n",
       "      <th id=\"T_e1205_level0_col3\" class=\"col_heading level0 col3\" >next_w</th>\n",
       "    </tr>\n",
       "  </thead>\n",
       "  <tbody>\n",
       "    <tr>\n",
       "      <th id=\"T_e1205_level0_row0\" class=\"row_heading level0 row0\" >0</th>\n",
       "      <td id=\"T_e1205_row0_col0\" class=\"data row0 col0\" >1.08e+04 K</td>\n",
       "      <td id=\"T_e1205_row0_col1\" class=\"data row0 col1\" >1.1e+04 K</td>\n",
       "      <td id=\"T_e1205_row0_col2\" class=\"data row0 col2\" >0.525</td>\n",
       "      <td id=\"T_e1205_row0_col3\" class=\"data row0 col3\" >0.483</td>\n",
       "    </tr>\n",
       "    <tr>\n",
       "      <th id=\"T_e1205_level0_row1\" class=\"row_heading level0 row1\" >5</th>\n",
       "      <td id=\"T_e1205_row1_col0\" class=\"data row1 col0\" >1.1e+04 K</td>\n",
       "      <td id=\"T_e1205_row1_col1\" class=\"data row1 col1\" >1.12e+04 K</td>\n",
       "      <td id=\"T_e1205_row1_col2\" class=\"data row1 col2\" >0.203</td>\n",
       "      <td id=\"T_e1205_row1_col3\" class=\"data row1 col3\" >0.189</td>\n",
       "    </tr>\n",
       "    <tr>\n",
       "      <th id=\"T_e1205_level0_row2\" class=\"row_heading level0 row2\" >10</th>\n",
       "      <td id=\"T_e1205_row2_col0\" class=\"data row2 col0\" >1.08e+04 K</td>\n",
       "      <td id=\"T_e1205_row2_col1\" class=\"data row2 col1\" >1.1e+04 K</td>\n",
       "      <td id=\"T_e1205_row2_col2\" class=\"data row2 col2\" >0.125</td>\n",
       "      <td id=\"T_e1205_row2_col3\" class=\"data row2 col3\" >0.118</td>\n",
       "    </tr>\n",
       "    <tr>\n",
       "      <th id=\"T_e1205_level0_row3\" class=\"row_heading level0 row3\" >15</th>\n",
       "      <td id=\"T_e1205_row3_col0\" class=\"data row3 col0\" >1.05e+04 K</td>\n",
       "      <td id=\"T_e1205_row3_col1\" class=\"data row3 col1\" >1.06e+04 K</td>\n",
       "      <td id=\"T_e1205_row3_col2\" class=\"data row3 col2\" >0.0933</td>\n",
       "      <td id=\"T_e1205_row3_col3\" class=\"data row3 col3\" >0.0895</td>\n",
       "    </tr>\n",
       "  </tbody>\n",
       "</table>\n"
      ],
      "text/plain": [
       "<pandas.io.formats.style.Styler at 0x7f3f779aa4e0>"
      ]
     },
     "metadata": {},
     "output_type": "display_data"
    },
    {
     "name": "stdout",
     "output_type": "stream",
     "text": [
      "[\u001b[1mtardis.simulation.base\u001b[0m][\u001b[1;37mINFO\u001b[0m   ]  \n",
      "\t\n",
      "\tCurrent t_inner = 10673.712 K\n",
      "\tExpected t_inner for next iteration = 10635.953 K\n",
      " (\u001b[1mbase.py\u001b[0m:658)\n"
     ]
    },
    {
     "name": "stdout",
     "output_type": "stream",
     "text": [
      "[\u001b[1mtardis.simulation.base\u001b[0m][\u001b[1;37mINFO\u001b[0m   ]  \n",
      "\t\n",
      "\tStarting iteration 4 of 20 (\u001b[1mbase.py\u001b[0m:450)\n"
     ]
    },
    {
     "name": "stdout",
     "output_type": "stream",
     "text": [
      "[\u001b[1mtardis.simulation.base\u001b[0m][\u001b[1;37mINFO\u001b[0m   ]  \n",
      "\t\n",
      "\tLuminosity emitted   = 1.058e+43 erg / s\n",
      "\tLuminosity absorbed  = 3.352e+42 erg / s\n",
      "\tLuminosity requested = 1.059e+43 erg / s\n",
      " (\u001b[1mbase.py\u001b[0m:663)\n"
     ]
    },
    {
     "name": "stdout",
     "output_type": "stream",
     "text": [
      "[\u001b[1mtardis.simulation.base\u001b[0m][\u001b[1;37mINFO\u001b[0m   ]  \n",
      "\tIteration converged 2/4 consecutive times. (\u001b[1mbase.py\u001b[0m:262)\n"
     ]
    },
    {
     "name": "stdout",
     "output_type": "stream",
     "text": [
      "[\u001b[1mtardis.simulation.base\u001b[0m][\u001b[1;37mINFO\u001b[0m   ]  \n",
      "\t\n",
      "\tPlasma stratification: (\u001b[1mbase.py\u001b[0m:631)\n"
     ]
    },
    {
     "data": {
      "text/html": [
       "<style type=\"text/css\">\n",
       "</style>\n",
       "<table id=\"T_9d4ef\">\n",
       "  <thead>\n",
       "    <tr>\n",
       "      <th class=\"index_name level0\" >Shell No.</th>\n",
       "      <th id=\"T_9d4ef_level0_col0\" class=\"col_heading level0 col0\" >t_rad</th>\n",
       "      <th id=\"T_9d4ef_level0_col1\" class=\"col_heading level0 col1\" >next_t_rad</th>\n",
       "      <th id=\"T_9d4ef_level0_col2\" class=\"col_heading level0 col2\" >w</th>\n",
       "      <th id=\"T_9d4ef_level0_col3\" class=\"col_heading level0 col3\" >next_w</th>\n",
       "    </tr>\n",
       "  </thead>\n",
       "  <tbody>\n",
       "    <tr>\n",
       "      <th id=\"T_9d4ef_level0_row0\" class=\"row_heading level0 row0\" >0</th>\n",
       "      <td id=\"T_9d4ef_row0_col0\" class=\"data row0 col0\" >1.1e+04 K</td>\n",
       "      <td id=\"T_9d4ef_row0_col1\" class=\"data row0 col1\" >1.1e+04 K</td>\n",
       "      <td id=\"T_9d4ef_row0_col2\" class=\"data row0 col2\" >0.483</td>\n",
       "      <td id=\"T_9d4ef_row0_col3\" class=\"data row0 col3\" >0.469</td>\n",
       "    </tr>\n",
       "    <tr>\n",
       "      <th id=\"T_9d4ef_level0_row1\" class=\"row_heading level0 row1\" >5</th>\n",
       "      <td id=\"T_9d4ef_row1_col0\" class=\"data row1 col0\" >1.12e+04 K</td>\n",
       "      <td id=\"T_9d4ef_row1_col1\" class=\"data row1 col1\" >1.12e+04 K</td>\n",
       "      <td id=\"T_9d4ef_row1_col2\" class=\"data row1 col2\" >0.189</td>\n",
       "      <td id=\"T_9d4ef_row1_col3\" class=\"data row1 col3\" >0.182</td>\n",
       "    </tr>\n",
       "    <tr>\n",
       "      <th id=\"T_9d4ef_level0_row2\" class=\"row_heading level0 row2\" >10</th>\n",
       "      <td id=\"T_9d4ef_row2_col0\" class=\"data row2 col0\" >1.1e+04 K</td>\n",
       "      <td id=\"T_9d4ef_row2_col1\" class=\"data row2 col1\" >1.1e+04 K</td>\n",
       "      <td id=\"T_9d4ef_row2_col2\" class=\"data row2 col2\" >0.118</td>\n",
       "      <td id=\"T_9d4ef_row2_col3\" class=\"data row2 col3\" >0.113</td>\n",
       "    </tr>\n",
       "    <tr>\n",
       "      <th id=\"T_9d4ef_level0_row3\" class=\"row_heading level0 row3\" >15</th>\n",
       "      <td id=\"T_9d4ef_row3_col0\" class=\"data row3 col0\" >1.06e+04 K</td>\n",
       "      <td id=\"T_9d4ef_row3_col1\" class=\"data row3 col1\" >1.07e+04 K</td>\n",
       "      <td id=\"T_9d4ef_row3_col2\" class=\"data row3 col2\" >0.0895</td>\n",
       "      <td id=\"T_9d4ef_row3_col3\" class=\"data row3 col3\" >0.0861</td>\n",
       "    </tr>\n",
       "  </tbody>\n",
       "</table>\n"
      ],
      "text/plain": [
       "<pandas.io.formats.style.Styler at 0x7f3f979e0770>"
      ]
     },
     "metadata": {},
     "output_type": "display_data"
    },
    {
     "name": "stdout",
     "output_type": "stream",
     "text": [
      "[\u001b[1mtardis.simulation.base\u001b[0m][\u001b[1;37mINFO\u001b[0m   ]  \n",
      "\t\n",
      "\tCurrent t_inner = 10635.953 K\n",
      "\tExpected t_inner for next iteration = 10638.407 K\n",
      " (\u001b[1mbase.py\u001b[0m:658)\n"
     ]
    },
    {
     "name": "stdout",
     "output_type": "stream",
     "text": [
      "[\u001b[1mtardis.simulation.base\u001b[0m][\u001b[1;37mINFO\u001b[0m   ]  \n",
      "\t\n",
      "\tStarting iteration 5 of 20 (\u001b[1mbase.py\u001b[0m:450)\n"
     ]
    },
    {
     "name": "stdout",
     "output_type": "stream",
     "text": [
      "[\u001b[1mtardis.simulation.base\u001b[0m][\u001b[1;37mINFO\u001b[0m   ]  \n",
      "\t\n",
      "\tLuminosity emitted   = 1.055e+43 erg / s\n",
      "\tLuminosity absorbed  = 3.399e+42 erg / s\n",
      "\tLuminosity requested = 1.059e+43 erg / s\n",
      " (\u001b[1mbase.py\u001b[0m:663)\n"
     ]
    },
    {
     "name": "stdout",
     "output_type": "stream",
     "text": [
      "[\u001b[1mtardis.simulation.base\u001b[0m][\u001b[1;37mINFO\u001b[0m   ]  \n",
      "\tIteration converged 3/4 consecutive times. (\u001b[1mbase.py\u001b[0m:262)\n"
     ]
    },
    {
     "name": "stdout",
     "output_type": "stream",
     "text": [
      "[\u001b[1mtardis.simulation.base\u001b[0m][\u001b[1;37mINFO\u001b[0m   ]  \n",
      "\t\n",
      "\tPlasma stratification: (\u001b[1mbase.py\u001b[0m:631)\n"
     ]
    },
    {
     "data": {
      "text/html": [
       "<style type=\"text/css\">\n",
       "</style>\n",
       "<table id=\"T_bfef2\">\n",
       "  <thead>\n",
       "    <tr>\n",
       "      <th class=\"index_name level0\" >Shell No.</th>\n",
       "      <th id=\"T_bfef2_level0_col0\" class=\"col_heading level0 col0\" >t_rad</th>\n",
       "      <th id=\"T_bfef2_level0_col1\" class=\"col_heading level0 col1\" >next_t_rad</th>\n",
       "      <th id=\"T_bfef2_level0_col2\" class=\"col_heading level0 col2\" >w</th>\n",
       "      <th id=\"T_bfef2_level0_col3\" class=\"col_heading level0 col3\" >next_w</th>\n",
       "    </tr>\n",
       "  </thead>\n",
       "  <tbody>\n",
       "    <tr>\n",
       "      <th id=\"T_bfef2_level0_row0\" class=\"row_heading level0 row0\" >0</th>\n",
       "      <td id=\"T_bfef2_row0_col0\" class=\"data row0 col0\" >1.1e+04 K</td>\n",
       "      <td id=\"T_bfef2_row0_col1\" class=\"data row0 col1\" >1.1e+04 K</td>\n",
       "      <td id=\"T_bfef2_row0_col2\" class=\"data row0 col2\" >0.469</td>\n",
       "      <td id=\"T_bfef2_row0_col3\" class=\"data row0 col3\" >0.479</td>\n",
       "    </tr>\n",
       "    <tr>\n",
       "      <th id=\"T_bfef2_level0_row1\" class=\"row_heading level0 row1\" >5</th>\n",
       "      <td id=\"T_bfef2_row1_col0\" class=\"data row1 col0\" >1.12e+04 K</td>\n",
       "      <td id=\"T_bfef2_row1_col1\" class=\"data row1 col1\" >1.13e+04 K</td>\n",
       "      <td id=\"T_bfef2_row1_col2\" class=\"data row1 col2\" >0.182</td>\n",
       "      <td id=\"T_bfef2_row1_col3\" class=\"data row1 col3\" >0.178</td>\n",
       "    </tr>\n",
       "    <tr>\n",
       "      <th id=\"T_bfef2_level0_row2\" class=\"row_heading level0 row2\" >10</th>\n",
       "      <td id=\"T_bfef2_row2_col0\" class=\"data row2 col0\" >1.1e+04 K</td>\n",
       "      <td id=\"T_bfef2_row2_col1\" class=\"data row2 col1\" >1.1e+04 K</td>\n",
       "      <td id=\"T_bfef2_row2_col2\" class=\"data row2 col2\" >0.113</td>\n",
       "      <td id=\"T_bfef2_row2_col3\" class=\"data row2 col3\" >0.113</td>\n",
       "    </tr>\n",
       "    <tr>\n",
       "      <th id=\"T_bfef2_level0_row3\" class=\"row_heading level0 row3\" >15</th>\n",
       "      <td id=\"T_bfef2_row3_col0\" class=\"data row3 col0\" >1.07e+04 K</td>\n",
       "      <td id=\"T_bfef2_row3_col1\" class=\"data row3 col1\" >1.07e+04 K</td>\n",
       "      <td id=\"T_bfef2_row3_col2\" class=\"data row3 col2\" >0.0861</td>\n",
       "      <td id=\"T_bfef2_row3_col3\" class=\"data row3 col3\" >0.0839</td>\n",
       "    </tr>\n",
       "  </tbody>\n",
       "</table>\n"
      ],
      "text/plain": [
       "<pandas.io.formats.style.Styler at 0x7f3f979e0770>"
      ]
     },
     "metadata": {},
     "output_type": "display_data"
    },
    {
     "name": "stdout",
     "output_type": "stream",
     "text": [
      "[\u001b[1mtardis.simulation.base\u001b[0m][\u001b[1;37mINFO\u001b[0m   ]  \n",
      "\t\n",
      "\tCurrent t_inner = 10638.407 K\n",
      "\tExpected t_inner for next iteration = 10650.202 K\n",
      " (\u001b[1mbase.py\u001b[0m:658)\n"
     ]
    },
    {
     "name": "stdout",
     "output_type": "stream",
     "text": [
      "[\u001b[1mtardis.simulation.base\u001b[0m][\u001b[1;37mINFO\u001b[0m   ]  \n",
      "\t\n",
      "\tStarting iteration 6 of 20 (\u001b[1mbase.py\u001b[0m:450)\n"
     ]
    },
    {
     "name": "stdout",
     "output_type": "stream",
     "text": [
      "[\u001b[1mtardis.simulation.base\u001b[0m][\u001b[1;37mINFO\u001b[0m   ]  \n",
      "\t\n",
      "\tLuminosity emitted   = 1.061e+43 erg / s\n",
      "\tLuminosity absorbed  = 3.398e+42 erg / s\n",
      "\tLuminosity requested = 1.059e+43 erg / s\n",
      " (\u001b[1mbase.py\u001b[0m:663)\n"
     ]
    },
    {
     "name": "stdout",
     "output_type": "stream",
     "text": [
      "[\u001b[1mtardis.simulation.base\u001b[0m][\u001b[1;37mINFO\u001b[0m   ]  \n",
      "\tIteration converged 4/4 consecutive times. (\u001b[1mbase.py\u001b[0m:262)\n"
     ]
    },
    {
     "name": "stdout",
     "output_type": "stream",
     "text": [
      "[\u001b[1mtardis.simulation.base\u001b[0m][\u001b[1;37mINFO\u001b[0m   ]  \n",
      "\t\n",
      "\tPlasma stratification: (\u001b[1mbase.py\u001b[0m:631)\n"
     ]
    },
    {
     "data": {
      "text/html": [
       "<style type=\"text/css\">\n",
       "</style>\n",
       "<table id=\"T_80e45\">\n",
       "  <thead>\n",
       "    <tr>\n",
       "      <th class=\"index_name level0\" >Shell No.</th>\n",
       "      <th id=\"T_80e45_level0_col0\" class=\"col_heading level0 col0\" >t_rad</th>\n",
       "      <th id=\"T_80e45_level0_col1\" class=\"col_heading level0 col1\" >next_t_rad</th>\n",
       "      <th id=\"T_80e45_level0_col2\" class=\"col_heading level0 col2\" >w</th>\n",
       "      <th id=\"T_80e45_level0_col3\" class=\"col_heading level0 col3\" >next_w</th>\n",
       "    </tr>\n",
       "  </thead>\n",
       "  <tbody>\n",
       "    <tr>\n",
       "      <th id=\"T_80e45_level0_row0\" class=\"row_heading level0 row0\" >0</th>\n",
       "      <td id=\"T_80e45_row0_col0\" class=\"data row0 col0\" >1.1e+04 K</td>\n",
       "      <td id=\"T_80e45_row0_col1\" class=\"data row0 col1\" >1.1e+04 K</td>\n",
       "      <td id=\"T_80e45_row0_col2\" class=\"data row0 col2\" >0.479</td>\n",
       "      <td id=\"T_80e45_row0_col3\" class=\"data row0 col3\" >0.47</td>\n",
       "    </tr>\n",
       "    <tr>\n",
       "      <th id=\"T_80e45_level0_row1\" class=\"row_heading level0 row1\" >5</th>\n",
       "      <td id=\"T_80e45_row1_col0\" class=\"data row1 col0\" >1.13e+04 K</td>\n",
       "      <td id=\"T_80e45_row1_col1\" class=\"data row1 col1\" >1.12e+04 K</td>\n",
       "      <td id=\"T_80e45_row1_col2\" class=\"data row1 col2\" >0.178</td>\n",
       "      <td id=\"T_80e45_row1_col3\" class=\"data row1 col3\" >0.185</td>\n",
       "    </tr>\n",
       "    <tr>\n",
       "      <th id=\"T_80e45_level0_row2\" class=\"row_heading level0 row2\" >10</th>\n",
       "      <td id=\"T_80e45_row2_col0\" class=\"data row2 col0\" >1.1e+04 K</td>\n",
       "      <td id=\"T_80e45_row2_col1\" class=\"data row2 col1\" >1.11e+04 K</td>\n",
       "      <td id=\"T_80e45_row2_col2\" class=\"data row2 col2\" >0.113</td>\n",
       "      <td id=\"T_80e45_row2_col3\" class=\"data row2 col3\" >0.112</td>\n",
       "    </tr>\n",
       "    <tr>\n",
       "      <th id=\"T_80e45_level0_row3\" class=\"row_heading level0 row3\" >15</th>\n",
       "      <td id=\"T_80e45_row3_col0\" class=\"data row3 col0\" >1.07e+04 K</td>\n",
       "      <td id=\"T_80e45_row3_col1\" class=\"data row3 col1\" >1.07e+04 K</td>\n",
       "      <td id=\"T_80e45_row3_col2\" class=\"data row3 col2\" >0.0839</td>\n",
       "      <td id=\"T_80e45_row3_col3\" class=\"data row3 col3\" >0.0856</td>\n",
       "    </tr>\n",
       "  </tbody>\n",
       "</table>\n"
      ],
      "text/plain": [
       "<pandas.io.formats.style.Styler at 0x7f3f77a98710>"
      ]
     },
     "metadata": {},
     "output_type": "display_data"
    },
    {
     "name": "stdout",
     "output_type": "stream",
     "text": [
      "[\u001b[1mtardis.simulation.base\u001b[0m][\u001b[1;37mINFO\u001b[0m   ]  \n",
      "\t\n",
      "\tCurrent t_inner = 10650.202 K\n",
      "\tExpected t_inner for next iteration = 10645.955 K\n",
      " (\u001b[1mbase.py\u001b[0m:658)\n"
     ]
    },
    {
     "name": "stdout",
     "output_type": "stream",
     "text": [
      "[\u001b[1mtardis.simulation.base\u001b[0m][\u001b[1;37mINFO\u001b[0m   ]  \n",
      "\t\n",
      "\tStarting iteration 7 of 20 (\u001b[1mbase.py\u001b[0m:450)\n"
     ]
    },
    {
     "name": "stdout",
     "output_type": "stream",
     "text": [
      "[\u001b[1mtardis.simulation.base\u001b[0m][\u001b[1;37mINFO\u001b[0m   ]  \n",
      "\t\n",
      "\tLuminosity emitted   = 1.061e+43 erg / s\n",
      "\tLuminosity absorbed  = 3.382e+42 erg / s\n",
      "\tLuminosity requested = 1.059e+43 erg / s\n",
      " (\u001b[1mbase.py\u001b[0m:663)\n"
     ]
    },
    {
     "name": "stdout",
     "output_type": "stream",
     "text": [
      "[\u001b[1mtardis.simulation.base\u001b[0m][\u001b[1;37mINFO\u001b[0m   ]  \n",
      "\tIteration converged 5/4 consecutive times. (\u001b[1mbase.py\u001b[0m:262)\n"
     ]
    },
    {
     "name": "stdout",
     "output_type": "stream",
     "text": [
      "[\u001b[1mtardis.simulation.base\u001b[0m][\u001b[1;37mINFO\u001b[0m   ]  \n",
      "\t\n",
      "\tPlasma stratification: (\u001b[1mbase.py\u001b[0m:631)\n"
     ]
    },
    {
     "data": {
      "text/html": [
       "<style type=\"text/css\">\n",
       "</style>\n",
       "<table id=\"T_438e4\">\n",
       "  <thead>\n",
       "    <tr>\n",
       "      <th class=\"index_name level0\" >Shell No.</th>\n",
       "      <th id=\"T_438e4_level0_col0\" class=\"col_heading level0 col0\" >t_rad</th>\n",
       "      <th id=\"T_438e4_level0_col1\" class=\"col_heading level0 col1\" >next_t_rad</th>\n",
       "      <th id=\"T_438e4_level0_col2\" class=\"col_heading level0 col2\" >w</th>\n",
       "      <th id=\"T_438e4_level0_col3\" class=\"col_heading level0 col3\" >next_w</th>\n",
       "    </tr>\n",
       "  </thead>\n",
       "  <tbody>\n",
       "    <tr>\n",
       "      <th id=\"T_438e4_level0_row0\" class=\"row_heading level0 row0\" >0</th>\n",
       "      <td id=\"T_438e4_row0_col0\" class=\"data row0 col0\" >1.1e+04 K</td>\n",
       "      <td id=\"T_438e4_row0_col1\" class=\"data row0 col1\" >1.1e+04 K</td>\n",
       "      <td id=\"T_438e4_row0_col2\" class=\"data row0 col2\" >0.47</td>\n",
       "      <td id=\"T_438e4_row0_col3\" class=\"data row0 col3\" >0.47</td>\n",
       "    </tr>\n",
       "    <tr>\n",
       "      <th id=\"T_438e4_level0_row1\" class=\"row_heading level0 row1\" >5</th>\n",
       "      <td id=\"T_438e4_row1_col0\" class=\"data row1 col0\" >1.12e+04 K</td>\n",
       "      <td id=\"T_438e4_row1_col1\" class=\"data row1 col1\" >1.13e+04 K</td>\n",
       "      <td id=\"T_438e4_row1_col2\" class=\"data row1 col2\" >0.185</td>\n",
       "      <td id=\"T_438e4_row1_col3\" class=\"data row1 col3\" >0.178</td>\n",
       "    </tr>\n",
       "    <tr>\n",
       "      <th id=\"T_438e4_level0_row2\" class=\"row_heading level0 row2\" >10</th>\n",
       "      <td id=\"T_438e4_row2_col0\" class=\"data row2 col0\" >1.11e+04 K</td>\n",
       "      <td id=\"T_438e4_row2_col1\" class=\"data row2 col1\" >1.11e+04 K</td>\n",
       "      <td id=\"T_438e4_row2_col2\" class=\"data row2 col2\" >0.112</td>\n",
       "      <td id=\"T_438e4_row2_col3\" class=\"data row2 col3\" >0.112</td>\n",
       "    </tr>\n",
       "    <tr>\n",
       "      <th id=\"T_438e4_level0_row3\" class=\"row_heading level0 row3\" >15</th>\n",
       "      <td id=\"T_438e4_row3_col0\" class=\"data row3 col0\" >1.07e+04 K</td>\n",
       "      <td id=\"T_438e4_row3_col1\" class=\"data row3 col1\" >1.07e+04 K</td>\n",
       "      <td id=\"T_438e4_row3_col2\" class=\"data row3 col2\" >0.0856</td>\n",
       "      <td id=\"T_438e4_row3_col3\" class=\"data row3 col3\" >0.086</td>\n",
       "    </tr>\n",
       "  </tbody>\n",
       "</table>\n"
      ],
      "text/plain": [
       "<pandas.io.formats.style.Styler at 0x7f3f7bd34f80>"
      ]
     },
     "metadata": {},
     "output_type": "display_data"
    },
    {
     "name": "stdout",
     "output_type": "stream",
     "text": [
      "[\u001b[1mtardis.simulation.base\u001b[0m][\u001b[1;37mINFO\u001b[0m   ]  \n",
      "\t\n",
      "\tCurrent t_inner = 10645.955 K\n",
      "\tExpected t_inner for next iteration = 10642.050 K\n",
      " (\u001b[1mbase.py\u001b[0m:658)\n"
     ]
    },
    {
     "name": "stdout",
     "output_type": "stream",
     "text": [
      "[\u001b[1mtardis.simulation.base\u001b[0m][\u001b[1;37mINFO\u001b[0m   ]  \n",
      "\t\n",
      "\tStarting iteration 8 of 20 (\u001b[1mbase.py\u001b[0m:450)\n"
     ]
    },
    {
     "name": "stdout",
     "output_type": "stream",
     "text": [
      "[\u001b[1mtardis.simulation.base\u001b[0m][\u001b[1;37mINFO\u001b[0m   ]  \n",
      "\t\n",
      "\tLuminosity emitted   = 1.062e+43 erg / s\n",
      "\tLuminosity absorbed  = 3.350e+42 erg / s\n",
      "\tLuminosity requested = 1.059e+43 erg / s\n",
      " (\u001b[1mbase.py\u001b[0m:663)\n"
     ]
    },
    {
     "name": "stdout",
     "output_type": "stream",
     "text": [
      "[\u001b[1mtardis.simulation.base\u001b[0m][\u001b[1;37mINFO\u001b[0m   ]  \n",
      "\tIteration converged 6/4 consecutive times. (\u001b[1mbase.py\u001b[0m:262)\n"
     ]
    },
    {
     "name": "stdout",
     "output_type": "stream",
     "text": [
      "[\u001b[1mtardis.simulation.base\u001b[0m][\u001b[1;37mINFO\u001b[0m   ]  \n",
      "\t\n",
      "\tPlasma stratification: (\u001b[1mbase.py\u001b[0m:631)\n"
     ]
    },
    {
     "data": {
      "text/html": [
       "<style type=\"text/css\">\n",
       "</style>\n",
       "<table id=\"T_dc6bf\">\n",
       "  <thead>\n",
       "    <tr>\n",
       "      <th class=\"index_name level0\" >Shell No.</th>\n",
       "      <th id=\"T_dc6bf_level0_col0\" class=\"col_heading level0 col0\" >t_rad</th>\n",
       "      <th id=\"T_dc6bf_level0_col1\" class=\"col_heading level0 col1\" >next_t_rad</th>\n",
       "      <th id=\"T_dc6bf_level0_col2\" class=\"col_heading level0 col2\" >w</th>\n",
       "      <th id=\"T_dc6bf_level0_col3\" class=\"col_heading level0 col3\" >next_w</th>\n",
       "    </tr>\n",
       "  </thead>\n",
       "  <tbody>\n",
       "    <tr>\n",
       "      <th id=\"T_dc6bf_level0_row0\" class=\"row_heading level0 row0\" >0</th>\n",
       "      <td id=\"T_dc6bf_row0_col0\" class=\"data row0 col0\" >1.1e+04 K</td>\n",
       "      <td id=\"T_dc6bf_row0_col1\" class=\"data row0 col1\" >1.11e+04 K</td>\n",
       "      <td id=\"T_dc6bf_row0_col2\" class=\"data row0 col2\" >0.47</td>\n",
       "      <td id=\"T_dc6bf_row0_col3\" class=\"data row0 col3\" >0.472</td>\n",
       "    </tr>\n",
       "    <tr>\n",
       "      <th id=\"T_dc6bf_level0_row1\" class=\"row_heading level0 row1\" >5</th>\n",
       "      <td id=\"T_dc6bf_row1_col0\" class=\"data row1 col0\" >1.13e+04 K</td>\n",
       "      <td id=\"T_dc6bf_row1_col1\" class=\"data row1 col1\" >1.14e+04 K</td>\n",
       "      <td id=\"T_dc6bf_row1_col2\" class=\"data row1 col2\" >0.178</td>\n",
       "      <td id=\"T_dc6bf_row1_col3\" class=\"data row1 col3\" >0.175</td>\n",
       "    </tr>\n",
       "    <tr>\n",
       "      <th id=\"T_dc6bf_level0_row2\" class=\"row_heading level0 row2\" >10</th>\n",
       "      <td id=\"T_dc6bf_row2_col0\" class=\"data row2 col0\" >1.11e+04 K</td>\n",
       "      <td id=\"T_dc6bf_row2_col1\" class=\"data row2 col1\" >1.11e+04 K</td>\n",
       "      <td id=\"T_dc6bf_row2_col2\" class=\"data row2 col2\" >0.112</td>\n",
       "      <td id=\"T_dc6bf_row2_col3\" class=\"data row2 col3\" >0.111</td>\n",
       "    </tr>\n",
       "    <tr>\n",
       "      <th id=\"T_dc6bf_level0_row3\" class=\"row_heading level0 row3\" >15</th>\n",
       "      <td id=\"T_dc6bf_row3_col0\" class=\"data row3 col0\" >1.07e+04 K</td>\n",
       "      <td id=\"T_dc6bf_row3_col1\" class=\"data row3 col1\" >1.07e+04 K</td>\n",
       "      <td id=\"T_dc6bf_row3_col2\" class=\"data row3 col2\" >0.086</td>\n",
       "      <td id=\"T_dc6bf_row3_col3\" class=\"data row3 col3\" >0.084</td>\n",
       "    </tr>\n",
       "  </tbody>\n",
       "</table>\n"
      ],
      "text/plain": [
       "<pandas.io.formats.style.Styler at 0x7f3f7bd61ee0>"
      ]
     },
     "metadata": {},
     "output_type": "display_data"
    },
    {
     "name": "stdout",
     "output_type": "stream",
     "text": [
      "[\u001b[1mtardis.simulation.base\u001b[0m][\u001b[1;37mINFO\u001b[0m   ]  \n",
      "\t\n",
      "\tCurrent t_inner = 10642.050 K\n",
      "\tExpected t_inner for next iteration = 10636.106 K\n",
      " (\u001b[1mbase.py\u001b[0m:658)\n"
     ]
    },
    {
     "name": "stdout",
     "output_type": "stream",
     "text": [
      "[\u001b[1mtardis.simulation.base\u001b[0m][\u001b[1;37mINFO\u001b[0m   ]  \n",
      "\t\n",
      "\tStarting iteration 9 of 20 (\u001b[1mbase.py\u001b[0m:450)\n"
     ]
    },
    {
     "name": "stdout",
     "output_type": "stream",
     "text": [
      "[\u001b[1mtardis.simulation.base\u001b[0m][\u001b[1;37mINFO\u001b[0m   ]  \n",
      "\t\n",
      "\tLuminosity emitted   = 1.052e+43 erg / s\n",
      "\tLuminosity absorbed  = 3.411e+42 erg / s\n",
      "\tLuminosity requested = 1.059e+43 erg / s\n",
      " (\u001b[1mbase.py\u001b[0m:663)\n"
     ]
    },
    {
     "name": "stdout",
     "output_type": "stream",
     "text": [
      "[\u001b[1mtardis.simulation.base\u001b[0m][\u001b[1;37mINFO\u001b[0m   ]  \n",
      "\tIteration converged 7/4 consecutive times. (\u001b[1mbase.py\u001b[0m:262)\n"
     ]
    },
    {
     "name": "stdout",
     "output_type": "stream",
     "text": [
      "[\u001b[1mtardis.simulation.base\u001b[0m][\u001b[1;37mINFO\u001b[0m   ]  \n",
      "\t\n",
      "\tPlasma stratification: (\u001b[1mbase.py\u001b[0m:631)\n"
     ]
    },
    {
     "data": {
      "text/html": [
       "<style type=\"text/css\">\n",
       "</style>\n",
       "<table id=\"T_37d3d\">\n",
       "  <thead>\n",
       "    <tr>\n",
       "      <th class=\"index_name level0\" >Shell No.</th>\n",
       "      <th id=\"T_37d3d_level0_col0\" class=\"col_heading level0 col0\" >t_rad</th>\n",
       "      <th id=\"T_37d3d_level0_col1\" class=\"col_heading level0 col1\" >next_t_rad</th>\n",
       "      <th id=\"T_37d3d_level0_col2\" class=\"col_heading level0 col2\" >w</th>\n",
       "      <th id=\"T_37d3d_level0_col3\" class=\"col_heading level0 col3\" >next_w</th>\n",
       "    </tr>\n",
       "  </thead>\n",
       "  <tbody>\n",
       "    <tr>\n",
       "      <th id=\"T_37d3d_level0_row0\" class=\"row_heading level0 row0\" >0</th>\n",
       "      <td id=\"T_37d3d_row0_col0\" class=\"data row0 col0\" >1.11e+04 K</td>\n",
       "      <td id=\"T_37d3d_row0_col1\" class=\"data row0 col1\" >1.11e+04 K</td>\n",
       "      <td id=\"T_37d3d_row0_col2\" class=\"data row0 col2\" >0.472</td>\n",
       "      <td id=\"T_37d3d_row0_col3\" class=\"data row0 col3\" >0.469</td>\n",
       "    </tr>\n",
       "    <tr>\n",
       "      <th id=\"T_37d3d_level0_row1\" class=\"row_heading level0 row1\" >5</th>\n",
       "      <td id=\"T_37d3d_row1_col0\" class=\"data row1 col0\" >1.14e+04 K</td>\n",
       "      <td id=\"T_37d3d_row1_col1\" class=\"data row1 col1\" >1.15e+04 K</td>\n",
       "      <td id=\"T_37d3d_row1_col2\" class=\"data row1 col2\" >0.175</td>\n",
       "      <td id=\"T_37d3d_row1_col3\" class=\"data row1 col3\" >0.17</td>\n",
       "    </tr>\n",
       "    <tr>\n",
       "      <th id=\"T_37d3d_level0_row2\" class=\"row_heading level0 row2\" >10</th>\n",
       "      <td id=\"T_37d3d_row2_col0\" class=\"data row2 col0\" >1.11e+04 K</td>\n",
       "      <td id=\"T_37d3d_row2_col1\" class=\"data row2 col1\" >1.11e+04 K</td>\n",
       "      <td id=\"T_37d3d_row2_col2\" class=\"data row2 col2\" >0.111</td>\n",
       "      <td id=\"T_37d3d_row2_col3\" class=\"data row2 col3\" >0.109</td>\n",
       "    </tr>\n",
       "    <tr>\n",
       "      <th id=\"T_37d3d_level0_row3\" class=\"row_heading level0 row3\" >15</th>\n",
       "      <td id=\"T_37d3d_row3_col0\" class=\"data row3 col0\" >1.07e+04 K</td>\n",
       "      <td id=\"T_37d3d_row3_col1\" class=\"data row3 col1\" >1.08e+04 K</td>\n",
       "      <td id=\"T_37d3d_row3_col2\" class=\"data row3 col2\" >0.084</td>\n",
       "      <td id=\"T_37d3d_row3_col3\" class=\"data row3 col3\" >0.0822</td>\n",
       "    </tr>\n",
       "  </tbody>\n",
       "</table>\n"
      ],
      "text/plain": [
       "<pandas.io.formats.style.Styler at 0x7f3f77c9fcb0>"
      ]
     },
     "metadata": {},
     "output_type": "display_data"
    },
    {
     "name": "stdout",
     "output_type": "stream",
     "text": [
      "[\u001b[1mtardis.simulation.base\u001b[0m][\u001b[1;37mINFO\u001b[0m   ]  \n",
      "\t\n",
      "\tCurrent t_inner = 10636.106 K\n",
      "\tExpected t_inner for next iteration = 10654.313 K\n",
      " (\u001b[1mbase.py\u001b[0m:658)\n"
     ]
    },
    {
     "name": "stdout",
     "output_type": "stream",
     "text": [
      "[\u001b[1mtardis.simulation.base\u001b[0m][\u001b[1;37mINFO\u001b[0m   ]  \n",
      "\t\n",
      "\tStarting iteration 10 of 20 (\u001b[1mbase.py\u001b[0m:450)\n"
     ]
    },
    {
     "name": "stdout",
     "output_type": "stream",
     "text": [
      "[\u001b[1mtardis.simulation.base\u001b[0m][\u001b[1;37mINFO\u001b[0m   ]  \n",
      "\t\n",
      "\tLuminosity emitted   = 1.070e+43 erg / s\n",
      "\tLuminosity absorbed  = 3.335e+42 erg / s\n",
      "\tLuminosity requested = 1.059e+43 erg / s\n",
      " (\u001b[1mbase.py\u001b[0m:663)\n"
     ]
    },
    {
     "name": "stdout",
     "output_type": "stream",
     "text": [
      "[\u001b[1mtardis.simulation.base\u001b[0m][\u001b[1;37mINFO\u001b[0m   ]  \n",
      "\tIteration converged 8/4 consecutive times. (\u001b[1mbase.py\u001b[0m:262)\n"
     ]
    },
    {
     "name": "stdout",
     "output_type": "stream",
     "text": [
      "[\u001b[1mtardis.simulation.base\u001b[0m][\u001b[1;37mINFO\u001b[0m   ]  \n",
      "\t\n",
      "\tPlasma stratification: (\u001b[1mbase.py\u001b[0m:631)\n"
     ]
    },
    {
     "data": {
      "text/html": [
       "<style type=\"text/css\">\n",
       "</style>\n",
       "<table id=\"T_3f4a2\">\n",
       "  <thead>\n",
       "    <tr>\n",
       "      <th class=\"index_name level0\" >Shell No.</th>\n",
       "      <th id=\"T_3f4a2_level0_col0\" class=\"col_heading level0 col0\" >t_rad</th>\n",
       "      <th id=\"T_3f4a2_level0_col1\" class=\"col_heading level0 col1\" >next_t_rad</th>\n",
       "      <th id=\"T_3f4a2_level0_col2\" class=\"col_heading level0 col2\" >w</th>\n",
       "      <th id=\"T_3f4a2_level0_col3\" class=\"col_heading level0 col3\" >next_w</th>\n",
       "    </tr>\n",
       "  </thead>\n",
       "  <tbody>\n",
       "    <tr>\n",
       "      <th id=\"T_3f4a2_level0_row0\" class=\"row_heading level0 row0\" >0</th>\n",
       "      <td id=\"T_3f4a2_row0_col0\" class=\"data row0 col0\" >1.11e+04 K</td>\n",
       "      <td id=\"T_3f4a2_row0_col1\" class=\"data row0 col1\" >1.1e+04 K</td>\n",
       "      <td id=\"T_3f4a2_row0_col2\" class=\"data row0 col2\" >0.469</td>\n",
       "      <td id=\"T_3f4a2_row0_col3\" class=\"data row0 col3\" >0.475</td>\n",
       "    </tr>\n",
       "    <tr>\n",
       "      <th id=\"T_3f4a2_level0_row1\" class=\"row_heading level0 row1\" >5</th>\n",
       "      <td id=\"T_3f4a2_row1_col0\" class=\"data row1 col0\" >1.15e+04 K</td>\n",
       "      <td id=\"T_3f4a2_row1_col1\" class=\"data row1 col1\" >1.14e+04 K</td>\n",
       "      <td id=\"T_3f4a2_row1_col2\" class=\"data row1 col2\" >0.17</td>\n",
       "      <td id=\"T_3f4a2_row1_col3\" class=\"data row1 col3\" >0.177</td>\n",
       "    </tr>\n",
       "    <tr>\n",
       "      <th id=\"T_3f4a2_level0_row2\" class=\"row_heading level0 row2\" >10</th>\n",
       "      <td id=\"T_3f4a2_row2_col0\" class=\"data row2 col0\" >1.11e+04 K</td>\n",
       "      <td id=\"T_3f4a2_row2_col1\" class=\"data row2 col1\" >1.11e+04 K</td>\n",
       "      <td id=\"T_3f4a2_row2_col2\" class=\"data row2 col2\" >0.109</td>\n",
       "      <td id=\"T_3f4a2_row2_col3\" class=\"data row2 col3\" >0.112</td>\n",
       "    </tr>\n",
       "    <tr>\n",
       "      <th id=\"T_3f4a2_level0_row3\" class=\"row_heading level0 row3\" >15</th>\n",
       "      <td id=\"T_3f4a2_row3_col0\" class=\"data row3 col0\" >1.08e+04 K</td>\n",
       "      <td id=\"T_3f4a2_row3_col1\" class=\"data row3 col1\" >1.06e+04 K</td>\n",
       "      <td id=\"T_3f4a2_row3_col2\" class=\"data row3 col2\" >0.0822</td>\n",
       "      <td id=\"T_3f4a2_row3_col3\" class=\"data row3 col3\" >0.0878</td>\n",
       "    </tr>\n",
       "  </tbody>\n",
       "</table>\n"
      ],
      "text/plain": [
       "<pandas.io.formats.style.Styler at 0x7f3f779aa510>"
      ]
     },
     "metadata": {},
     "output_type": "display_data"
    },
    {
     "name": "stdout",
     "output_type": "stream",
     "text": [
      "[\u001b[1mtardis.simulation.base\u001b[0m][\u001b[1;37mINFO\u001b[0m   ]  \n",
      "\t\n",
      "\tCurrent t_inner = 10654.313 K\n",
      "\tExpected t_inner for next iteration = 10628.190 K\n",
      " (\u001b[1mbase.py\u001b[0m:658)\n"
     ]
    },
    {
     "name": "stdout",
     "output_type": "stream",
     "text": [
      "[\u001b[1mtardis.simulation.base\u001b[0m][\u001b[1;37mINFO\u001b[0m   ]  \n",
      "\t\n",
      "\tStarting iteration 11 of 20 (\u001b[1mbase.py\u001b[0m:450)\n"
     ]
    },
    {
     "name": "stdout",
     "output_type": "stream",
     "text": [
      "[\u001b[1mtardis.simulation.base\u001b[0m][\u001b[1;37mINFO\u001b[0m   ]  \n",
      "\t\n",
      "\tLuminosity emitted   = 1.053e+43 erg / s\n",
      "\tLuminosity absorbed  = 3.363e+42 erg / s\n",
      "\tLuminosity requested = 1.059e+43 erg / s\n",
      " (\u001b[1mbase.py\u001b[0m:663)\n"
     ]
    },
    {
     "name": "stdout",
     "output_type": "stream",
     "text": [
      "[\u001b[1mtardis.simulation.base\u001b[0m][\u001b[1;37mINFO\u001b[0m   ]  \n",
      "\tIteration converged 9/4 consecutive times. (\u001b[1mbase.py\u001b[0m:262)\n"
     ]
    },
    {
     "name": "stdout",
     "output_type": "stream",
     "text": [
      "[\u001b[1mtardis.simulation.base\u001b[0m][\u001b[1;37mINFO\u001b[0m   ]  \n",
      "\t\n",
      "\tPlasma stratification: (\u001b[1mbase.py\u001b[0m:631)\n"
     ]
    },
    {
     "data": {
      "text/html": [
       "<style type=\"text/css\">\n",
       "</style>\n",
       "<table id=\"T_bd803\">\n",
       "  <thead>\n",
       "    <tr>\n",
       "      <th class=\"index_name level0\" >Shell No.</th>\n",
       "      <th id=\"T_bd803_level0_col0\" class=\"col_heading level0 col0\" >t_rad</th>\n",
       "      <th id=\"T_bd803_level0_col1\" class=\"col_heading level0 col1\" >next_t_rad</th>\n",
       "      <th id=\"T_bd803_level0_col2\" class=\"col_heading level0 col2\" >w</th>\n",
       "      <th id=\"T_bd803_level0_col3\" class=\"col_heading level0 col3\" >next_w</th>\n",
       "    </tr>\n",
       "  </thead>\n",
       "  <tbody>\n",
       "    <tr>\n",
       "      <th id=\"T_bd803_level0_row0\" class=\"row_heading level0 row0\" >0</th>\n",
       "      <td id=\"T_bd803_row0_col0\" class=\"data row0 col0\" >1.1e+04 K</td>\n",
       "      <td id=\"T_bd803_row0_col1\" class=\"data row0 col1\" >1.1e+04 K</td>\n",
       "      <td id=\"T_bd803_row0_col2\" class=\"data row0 col2\" >0.475</td>\n",
       "      <td id=\"T_bd803_row0_col3\" class=\"data row0 col3\" >0.472</td>\n",
       "    </tr>\n",
       "    <tr>\n",
       "      <th id=\"T_bd803_level0_row1\" class=\"row_heading level0 row1\" >5</th>\n",
       "      <td id=\"T_bd803_row1_col0\" class=\"data row1 col0\" >1.14e+04 K</td>\n",
       "      <td id=\"T_bd803_row1_col1\" class=\"data row1 col1\" >1.12e+04 K</td>\n",
       "      <td id=\"T_bd803_row1_col2\" class=\"data row1 col2\" >0.177</td>\n",
       "      <td id=\"T_bd803_row1_col3\" class=\"data row1 col3\" >0.184</td>\n",
       "    </tr>\n",
       "    <tr>\n",
       "      <th id=\"T_bd803_level0_row2\" class=\"row_heading level0 row2\" >10</th>\n",
       "      <td id=\"T_bd803_row2_col0\" class=\"data row2 col0\" >1.11e+04 K</td>\n",
       "      <td id=\"T_bd803_row2_col1\" class=\"data row2 col1\" >1.1e+04 K</td>\n",
       "      <td id=\"T_bd803_row2_col2\" class=\"data row2 col2\" >0.112</td>\n",
       "      <td id=\"T_bd803_row2_col3\" class=\"data row2 col3\" >0.114</td>\n",
       "    </tr>\n",
       "    <tr>\n",
       "      <th id=\"T_bd803_level0_row3\" class=\"row_heading level0 row3\" >15</th>\n",
       "      <td id=\"T_bd803_row3_col0\" class=\"data row3 col0\" >1.06e+04 K</td>\n",
       "      <td id=\"T_bd803_row3_col1\" class=\"data row3 col1\" >1.06e+04 K</td>\n",
       "      <td id=\"T_bd803_row3_col2\" class=\"data row3 col2\" >0.0878</td>\n",
       "      <td id=\"T_bd803_row3_col3\" class=\"data row3 col3\" >0.0859</td>\n",
       "    </tr>\n",
       "  </tbody>\n",
       "</table>\n"
      ],
      "text/plain": [
       "<pandas.io.formats.style.Styler at 0x7f3f8a3b2060>"
      ]
     },
     "metadata": {},
     "output_type": "display_data"
    },
    {
     "name": "stdout",
     "output_type": "stream",
     "text": [
      "[\u001b[1mtardis.simulation.base\u001b[0m][\u001b[1;37mINFO\u001b[0m   ]  \n",
      "\t\n",
      "\tCurrent t_inner = 10628.190 K\n",
      "\tExpected t_inner for next iteration = 10644.054 K\n",
      " (\u001b[1mbase.py\u001b[0m:658)\n"
     ]
    },
    {
     "name": "stdout",
     "output_type": "stream",
     "text": [
      "[\u001b[1mtardis.simulation.base\u001b[0m][\u001b[1;37mINFO\u001b[0m   ]  \n",
      "\t\n",
      "\tStarting iteration 12 of 20 (\u001b[1mbase.py\u001b[0m:450)\n"
     ]
    },
    {
     "name": "stdout",
     "output_type": "stream",
     "text": [
      "[\u001b[1mtardis.simulation.base\u001b[0m][\u001b[1;37mINFO\u001b[0m   ]  \n",
      "\t\n",
      "\tLuminosity emitted   = 1.056e+43 erg / s\n",
      "\tLuminosity absorbed  = 3.420e+42 erg / s\n",
      "\tLuminosity requested = 1.059e+43 erg / s\n",
      " (\u001b[1mbase.py\u001b[0m:663)\n"
     ]
    },
    {
     "name": "stdout",
     "output_type": "stream",
     "text": [
      "[\u001b[1mtardis.simulation.base\u001b[0m][\u001b[1;37mINFO\u001b[0m   ]  \n",
      "\tIteration converged 10/4 consecutive times. (\u001b[1mbase.py\u001b[0m:262)\n"
     ]
    },
    {
     "name": "stdout",
     "output_type": "stream",
     "text": [
      "[\u001b[1mtardis.simulation.base\u001b[0m][\u001b[1;37mINFO\u001b[0m   ]  \n",
      "\t\n",
      "\tPlasma stratification: (\u001b[1mbase.py\u001b[0m:631)\n"
     ]
    },
    {
     "data": {
      "text/html": [
       "<style type=\"text/css\">\n",
       "</style>\n",
       "<table id=\"T_626ad\">\n",
       "  <thead>\n",
       "    <tr>\n",
       "      <th class=\"index_name level0\" >Shell No.</th>\n",
       "      <th id=\"T_626ad_level0_col0\" class=\"col_heading level0 col0\" >t_rad</th>\n",
       "      <th id=\"T_626ad_level0_col1\" class=\"col_heading level0 col1\" >next_t_rad</th>\n",
       "      <th id=\"T_626ad_level0_col2\" class=\"col_heading level0 col2\" >w</th>\n",
       "      <th id=\"T_626ad_level0_col3\" class=\"col_heading level0 col3\" >next_w</th>\n",
       "    </tr>\n",
       "  </thead>\n",
       "  <tbody>\n",
       "    <tr>\n",
       "      <th id=\"T_626ad_level0_row0\" class=\"row_heading level0 row0\" >0</th>\n",
       "      <td id=\"T_626ad_row0_col0\" class=\"data row0 col0\" >1.1e+04 K</td>\n",
       "      <td id=\"T_626ad_row0_col1\" class=\"data row0 col1\" >1.11e+04 K</td>\n",
       "      <td id=\"T_626ad_row0_col2\" class=\"data row0 col2\" >0.472</td>\n",
       "      <td id=\"T_626ad_row0_col3\" class=\"data row0 col3\" >0.467</td>\n",
       "    </tr>\n",
       "    <tr>\n",
       "      <th id=\"T_626ad_level0_row1\" class=\"row_heading level0 row1\" >5</th>\n",
       "      <td id=\"T_626ad_row1_col0\" class=\"data row1 col0\" >1.12e+04 K</td>\n",
       "      <td id=\"T_626ad_row1_col1\" class=\"data row1 col1\" >1.13e+04 K</td>\n",
       "      <td id=\"T_626ad_row1_col2\" class=\"data row1 col2\" >0.184</td>\n",
       "      <td id=\"T_626ad_row1_col3\" class=\"data row1 col3\" >0.176</td>\n",
       "    </tr>\n",
       "    <tr>\n",
       "      <th id=\"T_626ad_level0_row2\" class=\"row_heading level0 row2\" >10</th>\n",
       "      <td id=\"T_626ad_row2_col0\" class=\"data row2 col0\" >1.1e+04 K</td>\n",
       "      <td id=\"T_626ad_row2_col1\" class=\"data row2 col1\" >1.11e+04 K</td>\n",
       "      <td id=\"T_626ad_row2_col2\" class=\"data row2 col2\" >0.114</td>\n",
       "      <td id=\"T_626ad_row2_col3\" class=\"data row2 col3\" >0.11</td>\n",
       "    </tr>\n",
       "    <tr>\n",
       "      <th id=\"T_626ad_level0_row3\" class=\"row_heading level0 row3\" >15</th>\n",
       "      <td id=\"T_626ad_row3_col0\" class=\"data row3 col0\" >1.06e+04 K</td>\n",
       "      <td id=\"T_626ad_row3_col1\" class=\"data row3 col1\" >1.08e+04 K</td>\n",
       "      <td id=\"T_626ad_row3_col2\" class=\"data row3 col2\" >0.0859</td>\n",
       "      <td id=\"T_626ad_row3_col3\" class=\"data row3 col3\" >0.0821</td>\n",
       "    </tr>\n",
       "  </tbody>\n",
       "</table>\n"
      ],
      "text/plain": [
       "<pandas.io.formats.style.Styler at 0x7f3f779a8e00>"
      ]
     },
     "metadata": {},
     "output_type": "display_data"
    },
    {
     "name": "stdout",
     "output_type": "stream",
     "text": [
      "[\u001b[1mtardis.simulation.base\u001b[0m][\u001b[1;37mINFO\u001b[0m   ]  \n",
      "\t\n",
      "\tCurrent t_inner = 10644.054 K\n",
      "\tExpected t_inner for next iteration = 10653.543 K\n",
      " (\u001b[1mbase.py\u001b[0m:658)\n"
     ]
    },
    {
     "name": "stdout",
     "output_type": "stream",
     "text": [
      "[\u001b[1mtardis.simulation.base\u001b[0m][\u001b[1;37mINFO\u001b[0m   ]  \n",
      "\t\n",
      "\tStarting iteration 13 of 20 (\u001b[1mbase.py\u001b[0m:450)\n"
     ]
    },
    {
     "name": "stdout",
     "output_type": "stream",
     "text": [
      "[\u001b[1mtardis.simulation.base\u001b[0m][\u001b[1;37mINFO\u001b[0m   ]  \n",
      "\t\n",
      "\tLuminosity emitted   = 1.062e+43 erg / s\n",
      "\tLuminosity absorbed  = 3.406e+42 erg / s\n",
      "\tLuminosity requested = 1.059e+43 erg / s\n",
      " (\u001b[1mbase.py\u001b[0m:663)\n"
     ]
    },
    {
     "name": "stdout",
     "output_type": "stream",
     "text": [
      "[\u001b[1mtardis.simulation.base\u001b[0m][\u001b[1;37mINFO\u001b[0m   ]  \n",
      "\tIteration converged 11/4 consecutive times. (\u001b[1mbase.py\u001b[0m:262)\n"
     ]
    },
    {
     "name": "stdout",
     "output_type": "stream",
     "text": [
      "[\u001b[1mtardis.simulation.base\u001b[0m][\u001b[1;37mINFO\u001b[0m   ]  \n",
      "\t\n",
      "\tPlasma stratification: (\u001b[1mbase.py\u001b[0m:631)\n"
     ]
    },
    {
     "data": {
      "text/html": [
       "<style type=\"text/css\">\n",
       "</style>\n",
       "<table id=\"T_80c13\">\n",
       "  <thead>\n",
       "    <tr>\n",
       "      <th class=\"index_name level0\" >Shell No.</th>\n",
       "      <th id=\"T_80c13_level0_col0\" class=\"col_heading level0 col0\" >t_rad</th>\n",
       "      <th id=\"T_80c13_level0_col1\" class=\"col_heading level0 col1\" >next_t_rad</th>\n",
       "      <th id=\"T_80c13_level0_col2\" class=\"col_heading level0 col2\" >w</th>\n",
       "      <th id=\"T_80c13_level0_col3\" class=\"col_heading level0 col3\" >next_w</th>\n",
       "    </tr>\n",
       "  </thead>\n",
       "  <tbody>\n",
       "    <tr>\n",
       "      <th id=\"T_80c13_level0_row0\" class=\"row_heading level0 row0\" >0</th>\n",
       "      <td id=\"T_80c13_row0_col0\" class=\"data row0 col0\" >1.11e+04 K</td>\n",
       "      <td id=\"T_80c13_row0_col1\" class=\"data row0 col1\" >1.11e+04 K</td>\n",
       "      <td id=\"T_80c13_row0_col2\" class=\"data row0 col2\" >0.467</td>\n",
       "      <td id=\"T_80c13_row0_col3\" class=\"data row0 col3\" >0.466</td>\n",
       "    </tr>\n",
       "    <tr>\n",
       "      <th id=\"T_80c13_level0_row1\" class=\"row_heading level0 row1\" >5</th>\n",
       "      <td id=\"T_80c13_row1_col0\" class=\"data row1 col0\" >1.13e+04 K</td>\n",
       "      <td id=\"T_80c13_row1_col1\" class=\"data row1 col1\" >1.13e+04 K</td>\n",
       "      <td id=\"T_80c13_row1_col2\" class=\"data row1 col2\" >0.176</td>\n",
       "      <td id=\"T_80c13_row1_col3\" class=\"data row1 col3\" >0.18</td>\n",
       "    </tr>\n",
       "    <tr>\n",
       "      <th id=\"T_80c13_level0_row2\" class=\"row_heading level0 row2\" >10</th>\n",
       "      <td id=\"T_80c13_row2_col0\" class=\"data row2 col0\" >1.11e+04 K</td>\n",
       "      <td id=\"T_80c13_row2_col1\" class=\"data row2 col1\" >1.11e+04 K</td>\n",
       "      <td id=\"T_80c13_row2_col2\" class=\"data row2 col2\" >0.11</td>\n",
       "      <td id=\"T_80c13_row2_col3\" class=\"data row2 col3\" >0.111</td>\n",
       "    </tr>\n",
       "    <tr>\n",
       "      <th id=\"T_80c13_level0_row3\" class=\"row_heading level0 row3\" >15</th>\n",
       "      <td id=\"T_80c13_row3_col0\" class=\"data row3 col0\" >1.08e+04 K</td>\n",
       "      <td id=\"T_80c13_row3_col1\" class=\"data row3 col1\" >1.08e+04 K</td>\n",
       "      <td id=\"T_80c13_row3_col2\" class=\"data row3 col2\" >0.0821</td>\n",
       "      <td id=\"T_80c13_row3_col3\" class=\"data row3 col3\" >0.0841</td>\n",
       "    </tr>\n",
       "  </tbody>\n",
       "</table>\n"
      ],
      "text/plain": [
       "<pandas.io.formats.style.Styler at 0x7f3f78f768a0>"
      ]
     },
     "metadata": {},
     "output_type": "display_data"
    },
    {
     "name": "stdout",
     "output_type": "stream",
     "text": [
      "[\u001b[1mtardis.simulation.base\u001b[0m][\u001b[1;37mINFO\u001b[0m   ]  \n",
      "\t\n",
      "\tCurrent t_inner = 10653.543 K\n",
      "\tExpected t_inner for next iteration = 10647.277 K\n",
      " (\u001b[1mbase.py\u001b[0m:658)\n"
     ]
    },
    {
     "name": "stdout",
     "output_type": "stream",
     "text": [
      "[\u001b[1mtardis.simulation.base\u001b[0m][\u001b[1;37mINFO\u001b[0m   ]  \n",
      "\t\n",
      "\tStarting iteration 14 of 20 (\u001b[1mbase.py\u001b[0m:450)\n"
     ]
    },
    {
     "name": "stdout",
     "output_type": "stream",
     "text": [
      "[\u001b[1mtardis.simulation.base\u001b[0m][\u001b[1;37mINFO\u001b[0m   ]  \n",
      "\t\n",
      "\tLuminosity emitted   = 1.063e+43 erg / s\n",
      "\tLuminosity absorbed  = 3.369e+42 erg / s\n",
      "\tLuminosity requested = 1.059e+43 erg / s\n",
      " (\u001b[1mbase.py\u001b[0m:663)\n"
     ]
    },
    {
     "name": "stdout",
     "output_type": "stream",
     "text": [
      "[\u001b[1mtardis.simulation.base\u001b[0m][\u001b[1;37mINFO\u001b[0m   ]  \n",
      "\tIteration converged 12/4 consecutive times. (\u001b[1mbase.py\u001b[0m:262)\n"
     ]
    },
    {
     "name": "stdout",
     "output_type": "stream",
     "text": [
      "[\u001b[1mtardis.simulation.base\u001b[0m][\u001b[1;37mINFO\u001b[0m   ]  \n",
      "\t\n",
      "\tPlasma stratification: (\u001b[1mbase.py\u001b[0m:631)\n"
     ]
    },
    {
     "data": {
      "text/html": [
       "<style type=\"text/css\">\n",
       "</style>\n",
       "<table id=\"T_16379\">\n",
       "  <thead>\n",
       "    <tr>\n",
       "      <th class=\"index_name level0\" >Shell No.</th>\n",
       "      <th id=\"T_16379_level0_col0\" class=\"col_heading level0 col0\" >t_rad</th>\n",
       "      <th id=\"T_16379_level0_col1\" class=\"col_heading level0 col1\" >next_t_rad</th>\n",
       "      <th id=\"T_16379_level0_col2\" class=\"col_heading level0 col2\" >w</th>\n",
       "      <th id=\"T_16379_level0_col3\" class=\"col_heading level0 col3\" >next_w</th>\n",
       "    </tr>\n",
       "  </thead>\n",
       "  <tbody>\n",
       "    <tr>\n",
       "      <th id=\"T_16379_level0_row0\" class=\"row_heading level0 row0\" >0</th>\n",
       "      <td id=\"T_16379_row0_col0\" class=\"data row0 col0\" >1.11e+04 K</td>\n",
       "      <td id=\"T_16379_row0_col1\" class=\"data row0 col1\" >1.11e+04 K</td>\n",
       "      <td id=\"T_16379_row0_col2\" class=\"data row0 col2\" >0.466</td>\n",
       "      <td id=\"T_16379_row0_col3\" class=\"data row0 col3\" >0.469</td>\n",
       "    </tr>\n",
       "    <tr>\n",
       "      <th id=\"T_16379_level0_row1\" class=\"row_heading level0 row1\" >5</th>\n",
       "      <td id=\"T_16379_row1_col0\" class=\"data row1 col0\" >1.13e+04 K</td>\n",
       "      <td id=\"T_16379_row1_col1\" class=\"data row1 col1\" >1.13e+04 K</td>\n",
       "      <td id=\"T_16379_row1_col2\" class=\"data row1 col2\" >0.18</td>\n",
       "      <td id=\"T_16379_row1_col3\" class=\"data row1 col3\" >0.182</td>\n",
       "    </tr>\n",
       "    <tr>\n",
       "      <th id=\"T_16379_level0_row2\" class=\"row_heading level0 row2\" >10</th>\n",
       "      <td id=\"T_16379_row2_col0\" class=\"data row2 col0\" >1.11e+04 K</td>\n",
       "      <td id=\"T_16379_row2_col1\" class=\"data row2 col1\" >1.1e+04 K</td>\n",
       "      <td id=\"T_16379_row2_col2\" class=\"data row2 col2\" >0.111</td>\n",
       "      <td id=\"T_16379_row2_col3\" class=\"data row2 col3\" >0.113</td>\n",
       "    </tr>\n",
       "    <tr>\n",
       "      <th id=\"T_16379_level0_row3\" class=\"row_heading level0 row3\" >15</th>\n",
       "      <td id=\"T_16379_row3_col0\" class=\"data row3 col0\" >1.08e+04 K</td>\n",
       "      <td id=\"T_16379_row3_col1\" class=\"data row3 col1\" >1.07e+04 K</td>\n",
       "      <td id=\"T_16379_row3_col2\" class=\"data row3 col2\" >0.0841</td>\n",
       "      <td id=\"T_16379_row3_col3\" class=\"data row3 col3\" >0.0854</td>\n",
       "    </tr>\n",
       "  </tbody>\n",
       "</table>\n"
      ],
      "text/plain": [
       "<pandas.io.formats.style.Styler at 0x7f3f779aade0>"
      ]
     },
     "metadata": {},
     "output_type": "display_data"
    },
    {
     "name": "stdout",
     "output_type": "stream",
     "text": [
      "[\u001b[1mtardis.simulation.base\u001b[0m][\u001b[1;37mINFO\u001b[0m   ]  \n",
      "\t\n",
      "\tCurrent t_inner = 10647.277 K\n",
      "\tExpected t_inner for next iteration = 10638.875 K\n",
      " (\u001b[1mbase.py\u001b[0m:658)\n"
     ]
    },
    {
     "name": "stdout",
     "output_type": "stream",
     "text": [
      "[\u001b[1mtardis.simulation.base\u001b[0m][\u001b[1;37mINFO\u001b[0m   ]  \n",
      "\t\n",
      "\tStarting iteration 15 of 20 (\u001b[1mbase.py\u001b[0m:450)\n"
     ]
    },
    {
     "name": "stdout",
     "output_type": "stream",
     "text": [
      "[\u001b[1mtardis.simulation.base\u001b[0m][\u001b[1;37mINFO\u001b[0m   ]  \n",
      "\t\n",
      "\tLuminosity emitted   = 1.053e+43 erg / s\n",
      "\tLuminosity absorbed  = 3.417e+42 erg / s\n",
      "\tLuminosity requested = 1.059e+43 erg / s\n",
      " (\u001b[1mbase.py\u001b[0m:663)\n"
     ]
    },
    {
     "name": "stdout",
     "output_type": "stream",
     "text": [
      "[\u001b[1mtardis.simulation.base\u001b[0m][\u001b[1;37mINFO\u001b[0m   ]  \n",
      "\tIteration converged 13/4 consecutive times. (\u001b[1mbase.py\u001b[0m:262)\n"
     ]
    },
    {
     "name": "stdout",
     "output_type": "stream",
     "text": [
      "[\u001b[1mtardis.simulation.base\u001b[0m][\u001b[1;37mINFO\u001b[0m   ]  \n",
      "\t\n",
      "\tPlasma stratification: (\u001b[1mbase.py\u001b[0m:631)\n"
     ]
    },
    {
     "data": {
      "text/html": [
       "<style type=\"text/css\">\n",
       "</style>\n",
       "<table id=\"T_4b109\">\n",
       "  <thead>\n",
       "    <tr>\n",
       "      <th class=\"index_name level0\" >Shell No.</th>\n",
       "      <th id=\"T_4b109_level0_col0\" class=\"col_heading level0 col0\" >t_rad</th>\n",
       "      <th id=\"T_4b109_level0_col1\" class=\"col_heading level0 col1\" >next_t_rad</th>\n",
       "      <th id=\"T_4b109_level0_col2\" class=\"col_heading level0 col2\" >w</th>\n",
       "      <th id=\"T_4b109_level0_col3\" class=\"col_heading level0 col3\" >next_w</th>\n",
       "    </tr>\n",
       "  </thead>\n",
       "  <tbody>\n",
       "    <tr>\n",
       "      <th id=\"T_4b109_level0_row0\" class=\"row_heading level0 row0\" >0</th>\n",
       "      <td id=\"T_4b109_row0_col0\" class=\"data row0 col0\" >1.11e+04 K</td>\n",
       "      <td id=\"T_4b109_row0_col1\" class=\"data row0 col1\" >1.1e+04 K</td>\n",
       "      <td id=\"T_4b109_row0_col2\" class=\"data row0 col2\" >0.469</td>\n",
       "      <td id=\"T_4b109_row0_col3\" class=\"data row0 col3\" >0.484</td>\n",
       "    </tr>\n",
       "    <tr>\n",
       "      <th id=\"T_4b109_level0_row1\" class=\"row_heading level0 row1\" >5</th>\n",
       "      <td id=\"T_4b109_row1_col0\" class=\"data row1 col0\" >1.13e+04 K</td>\n",
       "      <td id=\"T_4b109_row1_col1\" class=\"data row1 col1\" >1.13e+04 K</td>\n",
       "      <td id=\"T_4b109_row1_col2\" class=\"data row1 col2\" >0.182</td>\n",
       "      <td id=\"T_4b109_row1_col3\" class=\"data row1 col3\" >0.181</td>\n",
       "    </tr>\n",
       "    <tr>\n",
       "      <th id=\"T_4b109_level0_row2\" class=\"row_heading level0 row2\" >10</th>\n",
       "      <td id=\"T_4b109_row2_col0\" class=\"data row2 col0\" >1.1e+04 K</td>\n",
       "      <td id=\"T_4b109_row2_col1\" class=\"data row2 col1\" >1.1e+04 K</td>\n",
       "      <td id=\"T_4b109_row2_col2\" class=\"data row2 col2\" >0.113</td>\n",
       "      <td id=\"T_4b109_row2_col3\" class=\"data row2 col3\" >0.113</td>\n",
       "    </tr>\n",
       "    <tr>\n",
       "      <th id=\"T_4b109_level0_row3\" class=\"row_heading level0 row3\" >15</th>\n",
       "      <td id=\"T_4b109_row3_col0\" class=\"data row3 col0\" >1.07e+04 K</td>\n",
       "      <td id=\"T_4b109_row3_col1\" class=\"data row3 col1\" >1.07e+04 K</td>\n",
       "      <td id=\"T_4b109_row3_col2\" class=\"data row3 col2\" >0.0854</td>\n",
       "      <td id=\"T_4b109_row3_col3\" class=\"data row3 col3\" >0.0858</td>\n",
       "    </tr>\n",
       "  </tbody>\n",
       "</table>\n"
      ],
      "text/plain": [
       "<pandas.io.formats.style.Styler at 0x7f3f7b2a3650>"
      ]
     },
     "metadata": {},
     "output_type": "display_data"
    },
    {
     "name": "stdout",
     "output_type": "stream",
     "text": [
      "[\u001b[1mtardis.simulation.base\u001b[0m][\u001b[1;37mINFO\u001b[0m   ]  \n",
      "\t\n",
      "\tCurrent t_inner = 10638.875 K\n",
      "\tExpected t_inner for next iteration = 10655.125 K\n",
      " (\u001b[1mbase.py\u001b[0m:658)\n"
     ]
    },
    {
     "name": "stdout",
     "output_type": "stream",
     "text": [
      "[\u001b[1mtardis.simulation.base\u001b[0m][\u001b[1;37mINFO\u001b[0m   ]  \n",
      "\t\n",
      "\tStarting iteration 16 of 20 (\u001b[1mbase.py\u001b[0m:450)\n"
     ]
    },
    {
     "name": "stdout",
     "output_type": "stream",
     "text": [
      "[\u001b[1mtardis.simulation.base\u001b[0m][\u001b[1;37mINFO\u001b[0m   ]  \n",
      "\t\n",
      "\tLuminosity emitted   = 1.059e+43 erg / s\n",
      "\tLuminosity absorbed  = 3.445e+42 erg / s\n",
      "\tLuminosity requested = 1.059e+43 erg / s\n",
      " (\u001b[1mbase.py\u001b[0m:663)\n"
     ]
    },
    {
     "name": "stdout",
     "output_type": "stream",
     "text": [
      "[\u001b[1mtardis.simulation.base\u001b[0m][\u001b[1;37mINFO\u001b[0m   ]  \n",
      "\tIteration converged 14/4 consecutive times. (\u001b[1mbase.py\u001b[0m:262)\n"
     ]
    },
    {
     "name": "stdout",
     "output_type": "stream",
     "text": [
      "[\u001b[1mtardis.simulation.base\u001b[0m][\u001b[1;37mINFO\u001b[0m   ]  \n",
      "\t\n",
      "\tPlasma stratification: (\u001b[1mbase.py\u001b[0m:631)\n"
     ]
    },
    {
     "data": {
      "text/html": [
       "<style type=\"text/css\">\n",
       "</style>\n",
       "<table id=\"T_752e6\">\n",
       "  <thead>\n",
       "    <tr>\n",
       "      <th class=\"index_name level0\" >Shell No.</th>\n",
       "      <th id=\"T_752e6_level0_col0\" class=\"col_heading level0 col0\" >t_rad</th>\n",
       "      <th id=\"T_752e6_level0_col1\" class=\"col_heading level0 col1\" >next_t_rad</th>\n",
       "      <th id=\"T_752e6_level0_col2\" class=\"col_heading level0 col2\" >w</th>\n",
       "      <th id=\"T_752e6_level0_col3\" class=\"col_heading level0 col3\" >next_w</th>\n",
       "    </tr>\n",
       "  </thead>\n",
       "  <tbody>\n",
       "    <tr>\n",
       "      <th id=\"T_752e6_level0_row0\" class=\"row_heading level0 row0\" >0</th>\n",
       "      <td id=\"T_752e6_row0_col0\" class=\"data row0 col0\" >1.1e+04 K</td>\n",
       "      <td id=\"T_752e6_row0_col1\" class=\"data row0 col1\" >1.1e+04 K</td>\n",
       "      <td id=\"T_752e6_row0_col2\" class=\"data row0 col2\" >0.484</td>\n",
       "      <td id=\"T_752e6_row0_col3\" class=\"data row0 col3\" >0.472</td>\n",
       "    </tr>\n",
       "    <tr>\n",
       "      <th id=\"T_752e6_level0_row1\" class=\"row_heading level0 row1\" >5</th>\n",
       "      <td id=\"T_752e6_row1_col0\" class=\"data row1 col0\" >1.13e+04 K</td>\n",
       "      <td id=\"T_752e6_row1_col1\" class=\"data row1 col1\" >1.13e+04 K</td>\n",
       "      <td id=\"T_752e6_row1_col2\" class=\"data row1 col2\" >0.181</td>\n",
       "      <td id=\"T_752e6_row1_col3\" class=\"data row1 col3\" >0.177</td>\n",
       "    </tr>\n",
       "    <tr>\n",
       "      <th id=\"T_752e6_level0_row2\" class=\"row_heading level0 row2\" >10</th>\n",
       "      <td id=\"T_752e6_row2_col0\" class=\"data row2 col0\" >1.1e+04 K</td>\n",
       "      <td id=\"T_752e6_row2_col1\" class=\"data row2 col1\" >1.1e+04 K</td>\n",
       "      <td id=\"T_752e6_row2_col2\" class=\"data row2 col2\" >0.113</td>\n",
       "      <td id=\"T_752e6_row2_col3\" class=\"data row2 col3\" >0.113</td>\n",
       "    </tr>\n",
       "    <tr>\n",
       "      <th id=\"T_752e6_level0_row3\" class=\"row_heading level0 row3\" >15</th>\n",
       "      <td id=\"T_752e6_row3_col0\" class=\"data row3 col0\" >1.07e+04 K</td>\n",
       "      <td id=\"T_752e6_row3_col1\" class=\"data row3 col1\" >1.06e+04 K</td>\n",
       "      <td id=\"T_752e6_row3_col2\" class=\"data row3 col2\" >0.0858</td>\n",
       "      <td id=\"T_752e6_row3_col3\" class=\"data row3 col3\" >0.0858</td>\n",
       "    </tr>\n",
       "  </tbody>\n",
       "</table>\n"
      ],
      "text/plain": [
       "<pandas.io.formats.style.Styler at 0x7f3f7b2700e0>"
      ]
     },
     "metadata": {},
     "output_type": "display_data"
    },
    {
     "name": "stdout",
     "output_type": "stream",
     "text": [
      "[\u001b[1mtardis.simulation.base\u001b[0m][\u001b[1;37mINFO\u001b[0m   ]  \n",
      "\t\n",
      "\tCurrent t_inner = 10655.125 K\n",
      "\tExpected t_inner for next iteration = 10655.561 K\n",
      " (\u001b[1mbase.py\u001b[0m:658)\n"
     ]
    },
    {
     "name": "stdout",
     "output_type": "stream",
     "text": [
      "[\u001b[1mtardis.simulation.base\u001b[0m][\u001b[1;37mINFO\u001b[0m   ]  \n",
      "\t\n",
      "\tStarting iteration 17 of 20 (\u001b[1mbase.py\u001b[0m:450)\n"
     ]
    },
    {
     "name": "stdout",
     "output_type": "stream",
     "text": [
      "[\u001b[1mtardis.simulation.base\u001b[0m][\u001b[1;37mINFO\u001b[0m   ]  \n",
      "\t\n",
      "\tLuminosity emitted   = 1.067e+43 erg / s\n",
      "\tLuminosity absorbed  = 3.372e+42 erg / s\n",
      "\tLuminosity requested = 1.059e+43 erg / s\n",
      " (\u001b[1mbase.py\u001b[0m:663)\n"
     ]
    },
    {
     "name": "stdout",
     "output_type": "stream",
     "text": [
      "[\u001b[1mtardis.simulation.base\u001b[0m][\u001b[1;37mINFO\u001b[0m   ]  \n",
      "\tIteration converged 15/4 consecutive times. (\u001b[1mbase.py\u001b[0m:262)\n"
     ]
    },
    {
     "name": "stdout",
     "output_type": "stream",
     "text": [
      "[\u001b[1mtardis.simulation.base\u001b[0m][\u001b[1;37mINFO\u001b[0m   ]  \n",
      "\t\n",
      "\tPlasma stratification: (\u001b[1mbase.py\u001b[0m:631)\n"
     ]
    },
    {
     "data": {
      "text/html": [
       "<style type=\"text/css\">\n",
       "</style>\n",
       "<table id=\"T_d2b8c\">\n",
       "  <thead>\n",
       "    <tr>\n",
       "      <th class=\"index_name level0\" >Shell No.</th>\n",
       "      <th id=\"T_d2b8c_level0_col0\" class=\"col_heading level0 col0\" >t_rad</th>\n",
       "      <th id=\"T_d2b8c_level0_col1\" class=\"col_heading level0 col1\" >next_t_rad</th>\n",
       "      <th id=\"T_d2b8c_level0_col2\" class=\"col_heading level0 col2\" >w</th>\n",
       "      <th id=\"T_d2b8c_level0_col3\" class=\"col_heading level0 col3\" >next_w</th>\n",
       "    </tr>\n",
       "  </thead>\n",
       "  <tbody>\n",
       "    <tr>\n",
       "      <th id=\"T_d2b8c_level0_row0\" class=\"row_heading level0 row0\" >0</th>\n",
       "      <td id=\"T_d2b8c_row0_col0\" class=\"data row0 col0\" >1.1e+04 K</td>\n",
       "      <td id=\"T_d2b8c_row0_col1\" class=\"data row0 col1\" >1.11e+04 K</td>\n",
       "      <td id=\"T_d2b8c_row0_col2\" class=\"data row0 col2\" >0.472</td>\n",
       "      <td id=\"T_d2b8c_row0_col3\" class=\"data row0 col3\" >0.468</td>\n",
       "    </tr>\n",
       "    <tr>\n",
       "      <th id=\"T_d2b8c_level0_row1\" class=\"row_heading level0 row1\" >5</th>\n",
       "      <td id=\"T_d2b8c_row1_col0\" class=\"data row1 col0\" >1.13e+04 K</td>\n",
       "      <td id=\"T_d2b8c_row1_col1\" class=\"data row1 col1\" >1.14e+04 K</td>\n",
       "      <td id=\"T_d2b8c_row1_col2\" class=\"data row1 col2\" >0.177</td>\n",
       "      <td id=\"T_d2b8c_row1_col3\" class=\"data row1 col3\" >0.175</td>\n",
       "    </tr>\n",
       "    <tr>\n",
       "      <th id=\"T_d2b8c_level0_row2\" class=\"row_heading level0 row2\" >10</th>\n",
       "      <td id=\"T_d2b8c_row2_col0\" class=\"data row2 col0\" >1.1e+04 K</td>\n",
       "      <td id=\"T_d2b8c_row2_col1\" class=\"data row2 col1\" >1.11e+04 K</td>\n",
       "      <td id=\"T_d2b8c_row2_col2\" class=\"data row2 col2\" >0.113</td>\n",
       "      <td id=\"T_d2b8c_row2_col3\" class=\"data row2 col3\" >0.11</td>\n",
       "    </tr>\n",
       "    <tr>\n",
       "      <th id=\"T_d2b8c_level0_row3\" class=\"row_heading level0 row3\" >15</th>\n",
       "      <td id=\"T_d2b8c_row3_col0\" class=\"data row3 col0\" >1.06e+04 K</td>\n",
       "      <td id=\"T_d2b8c_row3_col1\" class=\"data row3 col1\" >1.08e+04 K</td>\n",
       "      <td id=\"T_d2b8c_row3_col2\" class=\"data row3 col2\" >0.0858</td>\n",
       "      <td id=\"T_d2b8c_row3_col3\" class=\"data row3 col3\" >0.0816</td>\n",
       "    </tr>\n",
       "  </tbody>\n",
       "</table>\n"
      ],
      "text/plain": [
       "<pandas.io.formats.style.Styler at 0x7f3f77df5730>"
      ]
     },
     "metadata": {},
     "output_type": "display_data"
    },
    {
     "name": "stdout",
     "output_type": "stream",
     "text": [
      "[\u001b[1mtardis.simulation.base\u001b[0m][\u001b[1;37mINFO\u001b[0m   ]  \n",
      "\t\n",
      "\tCurrent t_inner = 10655.561 K\n",
      "\tExpected t_inner for next iteration = 10636.536 K\n",
      " (\u001b[1mbase.py\u001b[0m:658)\n"
     ]
    },
    {
     "name": "stdout",
     "output_type": "stream",
     "text": [
      "[\u001b[1mtardis.simulation.base\u001b[0m][\u001b[1;37mINFO\u001b[0m   ]  \n",
      "\t\n",
      "\tStarting iteration 18 of 20 (\u001b[1mbase.py\u001b[0m:450)\n"
     ]
    },
    {
     "name": "stdout",
     "output_type": "stream",
     "text": [
      "[\u001b[1mtardis.simulation.base\u001b[0m][\u001b[1;37mINFO\u001b[0m   ]  \n",
      "\t\n",
      "\tLuminosity emitted   = 1.057e+43 erg / s\n",
      "\tLuminosity absorbed  = 3.365e+42 erg / s\n",
      "\tLuminosity requested = 1.059e+43 erg / s\n",
      " (\u001b[1mbase.py\u001b[0m:663)\n"
     ]
    },
    {
     "name": "stdout",
     "output_type": "stream",
     "text": [
      "[\u001b[1mtardis.simulation.base\u001b[0m][\u001b[1;37mINFO\u001b[0m   ]  \n",
      "\tIteration converged 16/4 consecutive times. (\u001b[1mbase.py\u001b[0m:262)\n"
     ]
    },
    {
     "name": "stdout",
     "output_type": "stream",
     "text": [
      "[\u001b[1mtardis.simulation.base\u001b[0m][\u001b[1;37mINFO\u001b[0m   ]  \n",
      "\t\n",
      "\tPlasma stratification: (\u001b[1mbase.py\u001b[0m:631)\n"
     ]
    },
    {
     "data": {
      "text/html": [
       "<style type=\"text/css\">\n",
       "</style>\n",
       "<table id=\"T_6bef7\">\n",
       "  <thead>\n",
       "    <tr>\n",
       "      <th class=\"index_name level0\" >Shell No.</th>\n",
       "      <th id=\"T_6bef7_level0_col0\" class=\"col_heading level0 col0\" >t_rad</th>\n",
       "      <th id=\"T_6bef7_level0_col1\" class=\"col_heading level0 col1\" >next_t_rad</th>\n",
       "      <th id=\"T_6bef7_level0_col2\" class=\"col_heading level0 col2\" >w</th>\n",
       "      <th id=\"T_6bef7_level0_col3\" class=\"col_heading level0 col3\" >next_w</th>\n",
       "    </tr>\n",
       "  </thead>\n",
       "  <tbody>\n",
       "    <tr>\n",
       "      <th id=\"T_6bef7_level0_row0\" class=\"row_heading level0 row0\" >0</th>\n",
       "      <td id=\"T_6bef7_row0_col0\" class=\"data row0 col0\" >1.11e+04 K</td>\n",
       "      <td id=\"T_6bef7_row0_col1\" class=\"data row0 col1\" >1.11e+04 K</td>\n",
       "      <td id=\"T_6bef7_row0_col2\" class=\"data row0 col2\" >0.468</td>\n",
       "      <td id=\"T_6bef7_row0_col3\" class=\"data row0 col3\" >0.464</td>\n",
       "    </tr>\n",
       "    <tr>\n",
       "      <th id=\"T_6bef7_level0_row1\" class=\"row_heading level0 row1\" >5</th>\n",
       "      <td id=\"T_6bef7_row1_col0\" class=\"data row1 col0\" >1.14e+04 K</td>\n",
       "      <td id=\"T_6bef7_row1_col1\" class=\"data row1 col1\" >1.13e+04 K</td>\n",
       "      <td id=\"T_6bef7_row1_col2\" class=\"data row1 col2\" >0.175</td>\n",
       "      <td id=\"T_6bef7_row1_col3\" class=\"data row1 col3\" >0.177</td>\n",
       "    </tr>\n",
       "    <tr>\n",
       "      <th id=\"T_6bef7_level0_row2\" class=\"row_heading level0 row2\" >10</th>\n",
       "      <td id=\"T_6bef7_row2_col0\" class=\"data row2 col0\" >1.11e+04 K</td>\n",
       "      <td id=\"T_6bef7_row2_col1\" class=\"data row2 col1\" >1.1e+04 K</td>\n",
       "      <td id=\"T_6bef7_row2_col2\" class=\"data row2 col2\" >0.11</td>\n",
       "      <td id=\"T_6bef7_row2_col3\" class=\"data row2 col3\" >0.113</td>\n",
       "    </tr>\n",
       "    <tr>\n",
       "      <th id=\"T_6bef7_level0_row3\" class=\"row_heading level0 row3\" >15</th>\n",
       "      <td id=\"T_6bef7_row3_col0\" class=\"data row3 col0\" >1.08e+04 K</td>\n",
       "      <td id=\"T_6bef7_row3_col1\" class=\"data row3 col1\" >1.07e+04 K</td>\n",
       "      <td id=\"T_6bef7_row3_col2\" class=\"data row3 col2\" >0.0816</td>\n",
       "      <td id=\"T_6bef7_row3_col3\" class=\"data row3 col3\" >0.0848</td>\n",
       "    </tr>\n",
       "  </tbody>\n",
       "</table>\n"
      ],
      "text/plain": [
       "<pandas.io.formats.style.Styler at 0x7f3f7b2a1cd0>"
      ]
     },
     "metadata": {},
     "output_type": "display_data"
    },
    {
     "name": "stdout",
     "output_type": "stream",
     "text": [
      "[\u001b[1mtardis.simulation.base\u001b[0m][\u001b[1;37mINFO\u001b[0m   ]  \n",
      "\t\n",
      "\tCurrent t_inner = 10636.536 K\n",
      "\tExpected t_inner for next iteration = 10641.692 K\n",
      " (\u001b[1mbase.py\u001b[0m:658)\n"
     ]
    },
    {
     "name": "stdout",
     "output_type": "stream",
     "text": [
      "[\u001b[1mtardis.simulation.base\u001b[0m][\u001b[1;37mINFO\u001b[0m   ]  \n",
      "\t\n",
      "\tStarting iteration 19 of 20 (\u001b[1mbase.py\u001b[0m:450)\n"
     ]
    },
    {
     "name": "stdout",
     "output_type": "stream",
     "text": [
      "[\u001b[1mtardis.simulation.base\u001b[0m][\u001b[1;37mINFO\u001b[0m   ]  \n",
      "\t\n",
      "\tLuminosity emitted   = 1.056e+43 erg / s\n",
      "\tLuminosity absorbed  = 3.405e+42 erg / s\n",
      "\tLuminosity requested = 1.059e+43 erg / s\n",
      " (\u001b[1mbase.py\u001b[0m:663)\n"
     ]
    },
    {
     "name": "stdout",
     "output_type": "stream",
     "text": [
      "[\u001b[1mtardis.simulation.base\u001b[0m][\u001b[1;37mINFO\u001b[0m   ]  \n",
      "\tIteration converged 17/4 consecutive times. (\u001b[1mbase.py\u001b[0m:262)\n"
     ]
    },
    {
     "name": "stdout",
     "output_type": "stream",
     "text": [
      "[\u001b[1mtardis.simulation.base\u001b[0m][\u001b[1;37mINFO\u001b[0m   ]  \n",
      "\t\n",
      "\tPlasma stratification: (\u001b[1mbase.py\u001b[0m:631)\n"
     ]
    },
    {
     "data": {
      "text/html": [
       "<style type=\"text/css\">\n",
       "</style>\n",
       "<table id=\"T_0ca22\">\n",
       "  <thead>\n",
       "    <tr>\n",
       "      <th class=\"index_name level0\" >Shell No.</th>\n",
       "      <th id=\"T_0ca22_level0_col0\" class=\"col_heading level0 col0\" >t_rad</th>\n",
       "      <th id=\"T_0ca22_level0_col1\" class=\"col_heading level0 col1\" >next_t_rad</th>\n",
       "      <th id=\"T_0ca22_level0_col2\" class=\"col_heading level0 col2\" >w</th>\n",
       "      <th id=\"T_0ca22_level0_col3\" class=\"col_heading level0 col3\" >next_w</th>\n",
       "    </tr>\n",
       "  </thead>\n",
       "  <tbody>\n",
       "    <tr>\n",
       "      <th id=\"T_0ca22_level0_row0\" class=\"row_heading level0 row0\" >0</th>\n",
       "      <td id=\"T_0ca22_row0_col0\" class=\"data row0 col0\" >1.11e+04 K</td>\n",
       "      <td id=\"T_0ca22_row0_col1\" class=\"data row0 col1\" >1.11e+04 K</td>\n",
       "      <td id=\"T_0ca22_row0_col2\" class=\"data row0 col2\" >0.464</td>\n",
       "      <td id=\"T_0ca22_row0_col3\" class=\"data row0 col3\" >0.466</td>\n",
       "    </tr>\n",
       "    <tr>\n",
       "      <th id=\"T_0ca22_level0_row1\" class=\"row_heading level0 row1\" >5</th>\n",
       "      <td id=\"T_0ca22_row1_col0\" class=\"data row1 col0\" >1.13e+04 K</td>\n",
       "      <td id=\"T_0ca22_row1_col1\" class=\"data row1 col1\" >1.13e+04 K</td>\n",
       "      <td id=\"T_0ca22_row1_col2\" class=\"data row1 col2\" >0.177</td>\n",
       "      <td id=\"T_0ca22_row1_col3\" class=\"data row1 col3\" >0.177</td>\n",
       "    </tr>\n",
       "    <tr>\n",
       "      <th id=\"T_0ca22_level0_row2\" class=\"row_heading level0 row2\" >10</th>\n",
       "      <td id=\"T_0ca22_row2_col0\" class=\"data row2 col0\" >1.1e+04 K</td>\n",
       "      <td id=\"T_0ca22_row2_col1\" class=\"data row2 col1\" >1.11e+04 K</td>\n",
       "      <td id=\"T_0ca22_row2_col2\" class=\"data row2 col2\" >0.113</td>\n",
       "      <td id=\"T_0ca22_row2_col3\" class=\"data row2 col3\" >0.111</td>\n",
       "    </tr>\n",
       "    <tr>\n",
       "      <th id=\"T_0ca22_level0_row3\" class=\"row_heading level0 row3\" >15</th>\n",
       "      <td id=\"T_0ca22_row3_col0\" class=\"data row3 col0\" >1.07e+04 K</td>\n",
       "      <td id=\"T_0ca22_row3_col1\" class=\"data row3 col1\" >1.07e+04 K</td>\n",
       "      <td id=\"T_0ca22_row3_col2\" class=\"data row3 col2\" >0.0848</td>\n",
       "      <td id=\"T_0ca22_row3_col3\" class=\"data row3 col3\" >0.0853</td>\n",
       "    </tr>\n",
       "  </tbody>\n",
       "</table>\n"
      ],
      "text/plain": [
       "<pandas.io.formats.style.Styler at 0x7f3f7b2c1c10>"
      ]
     },
     "metadata": {},
     "output_type": "display_data"
    },
    {
     "name": "stdout",
     "output_type": "stream",
     "text": [
      "[\u001b[1mtardis.simulation.base\u001b[0m][\u001b[1;37mINFO\u001b[0m   ]  \n",
      "\t\n",
      "\tCurrent t_inner = 10641.692 K\n",
      "\tExpected t_inner for next iteration = 10650.463 K\n",
      " (\u001b[1mbase.py\u001b[0m:658)\n"
     ]
    },
    {
     "name": "stdout",
     "output_type": "stream",
     "text": [
      "[\u001b[1mtardis.simulation.base\u001b[0m][\u001b[1;37mINFO\u001b[0m   ]  \n",
      "\t\n",
      "\tSimulation finished in 19 iterations \n",
      "\tSimulation took 53.01 s\n",
      " (\u001b[1mbase.py\u001b[0m:548)\n"
     ]
    },
    {
     "name": "stdout",
     "output_type": "stream",
     "text": [
      "[\u001b[1mtardis.simulation.base\u001b[0m][\u001b[1;37mINFO\u001b[0m   ]  \n",
      "\t\n",
      "\tStarting iteration 20 of 20 (\u001b[1mbase.py\u001b[0m:450)\n"
     ]
    },
    {
     "name": "stdout",
     "output_type": "stream",
     "text": [
      "[\u001b[1mtardis.simulation.base\u001b[0m][\u001b[1;37mINFO\u001b[0m   ]  \n",
      "\t\n",
      "\tLuminosity emitted   = 1.061e+43 erg / s\n",
      "\tLuminosity absorbed  = 3.401e+42 erg / s\n",
      "\tLuminosity requested = 1.059e+43 erg / s\n",
      " (\u001b[1mbase.py\u001b[0m:663)\n"
     ]
    }
   ],
   "source": [
    "from tardis import run_tardis\n",
    "from tardis.io.atom_data import download_atom_data\n",
    "\n",
    "# We download the atomic data needed to run the simulation\n",
    "download_atom_data('kurucz_cd23_chianti_H_He')\n",
    "\n",
    "# We run the simulation\n",
    "simulation = run_tardis('tardis_example.yml')"
   ]
  },
  {
   "attachments": {},
   "cell_type": "markdown",
   "metadata": {},
   "source": [
    "You can now use the `to_hdf` method, to save properties to a HDF file.\n",
    "\n",
    "#### Parameters  \n",
    "\n",
    "`file_path`: Path where the HDF file should be stored. (Required)  \n",
    "`path`: Path inside the HDF store to store the elements. (Optional)  \n",
    "`name`: Name of the group inside HDF store, under which properties will be saved.(Optional)\n",
    "`overwrite`: If the HDF file already exists, do you overwrite the existing file (Optional, default `False`)\n",
    "\n",
    "<div class=\"alert alert-info\">\n",
    "\n",
    "Note\n",
    "    \n",
    "Throughout this notebook, we set ``overwrite=True`` so that the notebook can be run repeatedly if needed.\n",
    "\n",
    "</div>"
   ]
  },
  {
   "cell_type": "code",
   "execution_count": 2,
   "metadata": {
    "execution": {
     "iopub.execute_input": "2024-10-07T19:01:42.839303Z",
     "iopub.status.busy": "2024-10-07T19:01:42.838944Z",
     "iopub.status.idle": "2024-10-07T19:02:57.662507Z",
     "shell.execute_reply": "2024-10-07T19:02:57.661952Z"
    }
   },
   "outputs": [
    {
     "name": "stdout",
     "output_type": "stream",
     "text": [
      "[\u001b[1mpy.warnings         \u001b[0m][\u001b[1;33mWARNING\u001b[0m]  \n",
      "\t/home/runner/work/tardis/tardis/tardis/io/util.py:289: PerformanceWarning: \n",
      "your performance may suffer as PyTables will pickle object types that it cannot\n",
      "map directly to c-types [inferred_type->mixed,key->block0_values] [items->Index([0], dtype='int64')]\n",
      "\n",
      "  data.to_hdf(buf, key=os.path.join(path, key))\n",
      " (\u001b[1mwarnings.py\u001b[0m:112)\n"
     ]
    },
    {
     "name": "stdout",
     "output_type": "stream",
     "text": [
      "[\u001b[1mpy.warnings         \u001b[0m][\u001b[1;33mWARNING\u001b[0m]  \n",
      "\t/home/runner/work/tardis/tardis/tardis/io/util.py:276: PerformanceWarning: \n",
      "your performance may suffer as PyTables will pickle object types that it cannot\n",
      "map directly to c-types [inferred_type->mixed,key->block0_values] [items->Index([0], dtype='int64')]\n",
      "\n",
      "  pd.DataFrame(value).to_hdf(\n",
      " (\u001b[1mwarnings.py\u001b[0m:112)\n"
     ]
    },
    {
     "name": "stdout",
     "output_type": "stream",
     "text": [
      "[\u001b[1mpy.warnings         \u001b[0m][\u001b[1;33mWARNING\u001b[0m]  \n",
      "\t/home/runner/work/tardis/tardis/tardis/io/util.py:292: PerformanceWarning: \n",
      "your performance may suffer as PyTables will pickle object types that it cannot\n",
      "map directly to c-types [inferred_type->mixed,key->values] [items->None]\n",
      "\n",
      "  pd.Series(scalars).to_hdf(buf, key=os.path.join(path, \"scalars\"))\n",
      " (\u001b[1mwarnings.py\u001b[0m:112)\n"
     ]
    },
    {
     "name": "stdout",
     "output_type": "stream",
     "text": [
      "[\u001b[1mpy.warnings         \u001b[0m][\u001b[1;33mWARNING\u001b[0m]  \n",
      "\t/home/runner/work/tardis/tardis/tardis/spectrum/formal_integral.py:384: UserWarning: The number of interpolate_shells was not specified. The value was set to 80.\n",
      "  warnings.warn(\n",
      " (\u001b[1mwarnings.py\u001b[0m:112)\n"
     ]
    }
   ],
   "source": [
    "simulation.to_hdf('/tmp/full_example.hdf', overwrite=True)\n",
    "\n",
    "# The commented out code below shows an example of to_hdf with more parameters\n",
    "#simulation.to_hdf(file_path='/tmp/full_example.hdf', path='/', name='simulation')"
   ]
  },
  {
   "attachments": {},
   "cell_type": "markdown",
   "metadata": {},
   "source": [
    "Open the stored HDF file with pandas and print a list of its entries using the `keys()` method:"
   ]
  },
  {
   "cell_type": "code",
   "execution_count": 3,
   "metadata": {
    "execution": {
     "iopub.execute_input": "2024-10-07T19:02:57.665607Z",
     "iopub.status.busy": "2024-10-07T19:02:57.665288Z",
     "iopub.status.idle": "2024-10-07T19:02:57.705646Z",
     "shell.execute_reply": "2024-10-07T19:02:57.705127Z"
    },
    "scrolled": false
   },
   "outputs": [
    {
     "data": {
      "text/plain": [
       "['/simulation/iterations_electron_densities',\n",
       " '/simulation/iterations_t_inner',\n",
       " '/simulation/iterations_t_rad',\n",
       " '/simulation/iterations_w',\n",
       " '/simulation/transport/transport_state/emitted_packet_mask',\n",
       " '/simulation/transport/transport_state/j_blue_estimator',\n",
       " '/simulation/transport/transport_state/j_estimator',\n",
       " '/simulation/transport/transport_state/last_interaction_in_nu',\n",
       " '/simulation/transport/transport_state/last_interaction_in_r',\n",
       " '/simulation/transport/transport_state/last_interaction_type',\n",
       " '/simulation/transport/transport_state/last_line_interaction_in_id',\n",
       " '/simulation/transport/transport_state/last_line_interaction_out_id',\n",
       " '/simulation/transport/transport_state/last_line_interaction_shell_id',\n",
       " '/simulation/transport/transport_state/nu_bar_estimator',\n",
       " '/simulation/transport/transport_state/output_energy',\n",
       " '/simulation/transport/transport_state/output_nu',\n",
       " '/simulation/transport/transport_state/packet_luminosity',\n",
       " '/simulation/transport/transport_state/scalars',\n",
       " '/simulation/spectrum_solver/montecarlo_virtual_luminosity',\n",
       " '/simulation/spectrum_solver/spectrum_virtual_packets/_frequency',\n",
       " '/simulation/spectrum_solver/spectrum_virtual_packets/luminosity',\n",
       " '/simulation/spectrum_solver/spectrum_virtual_packets/luminosity_density_lambda',\n",
       " '/simulation/spectrum_solver/spectrum_virtual_packets/scalars',\n",
       " '/simulation/spectrum_solver/spectrum_virtual_packets/wavelength',\n",
       " '/simulation/spectrum_solver/spectrum_real_packets_reabsorbed/_frequency',\n",
       " '/simulation/spectrum_solver/spectrum_real_packets_reabsorbed/luminosity',\n",
       " '/simulation/spectrum_solver/spectrum_real_packets_reabsorbed/luminosity_density_lambda',\n",
       " '/simulation/spectrum_solver/spectrum_real_packets_reabsorbed/scalars',\n",
       " '/simulation/spectrum_solver/spectrum_real_packets_reabsorbed/wavelength',\n",
       " '/simulation/spectrum_solver/spectrum_real_packets/_frequency',\n",
       " '/simulation/spectrum_solver/spectrum_real_packets/luminosity',\n",
       " '/simulation/spectrum_solver/spectrum_real_packets/luminosity_density_lambda',\n",
       " '/simulation/spectrum_solver/spectrum_real_packets/scalars',\n",
       " '/simulation/spectrum_solver/spectrum_real_packets/wavelength',\n",
       " '/simulation/spectrum_solver/spectrum_integrated/_frequency',\n",
       " '/simulation/spectrum_solver/spectrum_integrated/luminosity',\n",
       " '/simulation/spectrum_solver/spectrum_integrated/luminosity_density_lambda',\n",
       " '/simulation/spectrum_solver/spectrum_integrated/scalars',\n",
       " '/simulation/spectrum_solver/spectrum_integrated/wavelength',\n",
       " '/simulation/simulation_state/abundance',\n",
       " '/simulation/simulation_state/density',\n",
       " '/simulation/simulation_state/dilution_factor',\n",
       " '/simulation/simulation_state/r_inner',\n",
       " '/simulation/simulation_state/scalars',\n",
       " '/simulation/simulation_state/t_radiative',\n",
       " '/simulation/simulation_state/v_inner',\n",
       " '/simulation/simulation_state/v_outer',\n",
       " '/simulation/plasma/beta_rad',\n",
       " '/simulation/plasma/beta_sobolev',\n",
       " '/simulation/plasma/continuum_interaction_species',\n",
       " '/simulation/plasma/dilute_planckian_radiation_field',\n",
       " '/simulation/plasma/electron_densities',\n",
       " '/simulation/plasma/excitation_energy',\n",
       " '/simulation/plasma/f_lu',\n",
       " '/simulation/plasma/g',\n",
       " '/simulation/plasma/g_electron',\n",
       " '/simulation/plasma/general_level_boltzmann_factor',\n",
       " '/simulation/plasma/ion_number_density',\n",
       " '/simulation/plasma/ionization_data',\n",
       " '/simulation/plasma/j_blues',\n",
       " '/simulation/plasma/level_boltzmann_factor',\n",
       " '/simulation/plasma/level_number_density',\n",
       " '/simulation/plasma/levels',\n",
       " '/simulation/plasma/lines',\n",
       " '/simulation/plasma/lines_lower_level_index',\n",
       " '/simulation/plasma/lines_upper_level_index',\n",
       " '/simulation/plasma/macro_atom_data',\n",
       " '/simulation/plasma/metastability',\n",
       " '/simulation/plasma/nlte_excitation_species',\n",
       " '/simulation/plasma/nlte_ionization_species',\n",
       " '/simulation/plasma/nu',\n",
       " '/simulation/plasma/number_density',\n",
       " '/simulation/plasma/partition_function',\n",
       " '/simulation/plasma/phi',\n",
       " '/simulation/plasma/scalars',\n",
       " '/simulation/plasma/selected_atoms',\n",
       " '/simulation/plasma/stimulated_emission_factor',\n",
       " '/simulation/plasma/t_electrons',\n",
       " '/simulation/plasma/t_rad',\n",
       " '/simulation/plasma/tau_sobolevs',\n",
       " '/simulation/plasma/transition_probabilities',\n",
       " '/simulation/plasma/w',\n",
       " '/simulation/plasma/wavelength_cm']"
      ]
     },
     "execution_count": 3,
     "metadata": {},
     "output_type": "execute_result"
    }
   ],
   "source": [
    "import pandas as pd\n",
    "\n",
    "data = pd.HDFStore('/tmp/full_example.hdf', overwrite=True)\n",
    "\n",
    "data.keys()"
   ]
  },
  {
   "attachments": {},
   "cell_type": "markdown",
   "metadata": {},
   "source": [
    "Access `model.density` under simulation, which is a one-dimensional array"
   ]
  },
  {
   "cell_type": "code",
   "execution_count": 4,
   "metadata": {
    "execution": {
     "iopub.execute_input": "2024-10-07T19:02:57.707798Z",
     "iopub.status.busy": "2024-10-07T19:02:57.707476Z",
     "iopub.status.idle": "2024-10-07T19:02:57.713746Z",
     "shell.execute_reply": "2024-10-07T19:02:57.713246Z"
    }
   },
   "outputs": [
    {
     "name": "stdout",
     "output_type": "stream",
     "text": [
      "0     7.542804e-14\n",
      "1     5.728475e-14\n",
      "2     4.396074e-14\n",
      "3     3.406287e-14\n",
      "4     2.663135e-14\n",
      "5     2.099596e-14\n",
      "6     1.668287e-14\n",
      "7     1.335311e-14\n",
      "8     1.076154e-14\n",
      "9     8.729085e-15\n",
      "10    7.123652e-15\n",
      "11    5.846921e-15\n",
      "12    4.825093e-15\n",
      "13    4.002324e-15\n",
      "14    3.336039e-15\n",
      "15    2.793540e-15\n",
      "16    2.349550e-15\n",
      "17    1.984397e-15\n",
      "18    1.682677e-15\n",
      "19    1.432260e-15\n",
      "dtype: float64\n"
     ]
    }
   ],
   "source": [
    "print(data['/simulation/simulation_state/density'])"
   ]
  },
  {
   "attachments": {},
   "cell_type": "markdown",
   "metadata": {
    "collapsed": true
   },
   "source": [
    "Scalars are stored in a `scalars` `pandas.Series` for every module. For example to access `model.t_inner` under simulation, one would need to do the following."
   ]
  },
  {
   "cell_type": "code",
   "execution_count": 5,
   "metadata": {
    "execution": {
     "iopub.execute_input": "2024-10-07T19:02:57.715886Z",
     "iopub.status.busy": "2024-10-07T19:02:57.715447Z",
     "iopub.status.idle": "2024-10-07T19:02:57.720355Z",
     "shell.execute_reply": "2024-10-07T19:02:57.719868Z"
    }
   },
   "outputs": [
    {
     "name": "stdout",
     "output_type": "stream",
     "text": [
      "10650.463255529794\n"
     ]
    }
   ],
   "source": [
    "print(data['/simulation/simulation_state/scalars']['t_inner'])"
   ]
  },
  {
   "attachments": {},
   "cell_type": "markdown",
   "metadata": {},
   "source": [
    "## Breakdown of the various to_hdf methods\n",
    "Every module in TARDIS has its own `to_hdf` method responsible to store its own data to an HDF file."
   ]
  },
  {
   "attachments": {},
   "cell_type": "markdown",
   "metadata": {},
   "source": [
    "### Plasma\n",
    "The following call will store every plasma property to `/tmp/plasma_output.hdf` under `/parent/plasma`"
   ]
  },
  {
   "cell_type": "code",
   "execution_count": 6,
   "metadata": {
    "execution": {
     "iopub.execute_input": "2024-10-07T19:02:57.722243Z",
     "iopub.status.busy": "2024-10-07T19:02:57.722060Z",
     "iopub.status.idle": "2024-10-07T19:02:57.934044Z",
     "shell.execute_reply": "2024-10-07T19:02:57.933636Z"
    }
   },
   "outputs": [
    {
     "name": "stdout",
     "output_type": "stream",
     "text": [
      "[\u001b[1mpy.warnings         \u001b[0m][\u001b[1;33mWARNING\u001b[0m]  \n",
      "\t/home/runner/work/tardis/tardis/tardis/io/util.py:289: PerformanceWarning: \n",
      "your performance may suffer as PyTables will pickle object types that it cannot\n",
      "map directly to c-types [inferred_type->mixed,key->block0_values] [items->Index([0], dtype='int64')]\n",
      "\n",
      "  data.to_hdf(buf, key=os.path.join(path, key))\n",
      " (\u001b[1mwarnings.py\u001b[0m:112)\n"
     ]
    },
    {
     "name": "stdout",
     "output_type": "stream",
     "text": [
      "[\u001b[1mpy.warnings         \u001b[0m][\u001b[1;33mWARNING\u001b[0m]  \n",
      "\t/home/runner/work/tardis/tardis/tardis/io/util.py:276: PerformanceWarning: \n",
      "your performance may suffer as PyTables will pickle object types that it cannot\n",
      "map directly to c-types [inferred_type->mixed,key->block0_values] [items->Index([0], dtype='int64')]\n",
      "\n",
      "  pd.DataFrame(value).to_hdf(\n",
      " (\u001b[1mwarnings.py\u001b[0m:112)\n"
     ]
    },
    {
     "name": "stdout",
     "output_type": "stream",
     "text": [
      "[\u001b[1mpy.warnings         \u001b[0m][\u001b[1;33mWARNING\u001b[0m]  \n",
      "\t/home/runner/work/tardis/tardis/tardis/io/util.py:292: PerformanceWarning: \n",
      "your performance may suffer as PyTables will pickle object types that it cannot\n",
      "map directly to c-types [inferred_type->mixed,key->values] [items->None]\n",
      "\n",
      "  pd.Series(scalars).to_hdf(buf, key=os.path.join(path, \"scalars\"))\n",
      " (\u001b[1mwarnings.py\u001b[0m:112)\n"
     ]
    }
   ],
   "source": [
    "simulation.plasma.to_hdf('/tmp/plasma_output.hdf', path='parent', overwrite=True)"
   ]
  },
  {
   "cell_type": "code",
   "execution_count": 7,
   "metadata": {
    "execution": {
     "iopub.execute_input": "2024-10-07T19:02:57.936181Z",
     "iopub.status.busy": "2024-10-07T19:02:57.935848Z",
     "iopub.status.idle": "2024-10-07T19:02:57.955242Z",
     "shell.execute_reply": "2024-10-07T19:02:57.954731Z"
    },
    "scrolled": false
   },
   "outputs": [
    {
     "data": {
      "text/plain": [
       "['/parent/plasma/beta_rad',\n",
       " '/parent/plasma/beta_sobolev',\n",
       " '/parent/plasma/continuum_interaction_species',\n",
       " '/parent/plasma/dilute_planckian_radiation_field',\n",
       " '/parent/plasma/electron_densities',\n",
       " '/parent/plasma/excitation_energy',\n",
       " '/parent/plasma/f_lu',\n",
       " '/parent/plasma/g',\n",
       " '/parent/plasma/g_electron',\n",
       " '/parent/plasma/general_level_boltzmann_factor',\n",
       " '/parent/plasma/ion_number_density',\n",
       " '/parent/plasma/ionization_data',\n",
       " '/parent/plasma/j_blues',\n",
       " '/parent/plasma/level_boltzmann_factor',\n",
       " '/parent/plasma/level_number_density',\n",
       " '/parent/plasma/levels',\n",
       " '/parent/plasma/lines',\n",
       " '/parent/plasma/lines_lower_level_index',\n",
       " '/parent/plasma/lines_upper_level_index',\n",
       " '/parent/plasma/macro_atom_data',\n",
       " '/parent/plasma/metastability',\n",
       " '/parent/plasma/nlte_excitation_species',\n",
       " '/parent/plasma/nlte_ionization_species',\n",
       " '/parent/plasma/nu',\n",
       " '/parent/plasma/number_density',\n",
       " '/parent/plasma/partition_function',\n",
       " '/parent/plasma/phi',\n",
       " '/parent/plasma/scalars',\n",
       " '/parent/plasma/selected_atoms',\n",
       " '/parent/plasma/stimulated_emission_factor',\n",
       " '/parent/plasma/t_electrons',\n",
       " '/parent/plasma/t_rad',\n",
       " '/parent/plasma/tau_sobolevs',\n",
       " '/parent/plasma/transition_probabilities',\n",
       " '/parent/plasma/w',\n",
       " '/parent/plasma/wavelength_cm']"
      ]
     },
     "execution_count": 7,
     "metadata": {},
     "output_type": "execute_result"
    }
   ],
   "source": [
    "import pandas\n",
    "\n",
    "plasma_data = pandas.HDFStore('/tmp/plasma_output.hdf')\n",
    "\n",
    "plasma_data.keys()"
   ]
  },
  {
   "attachments": {},
   "cell_type": "markdown",
   "metadata": {},
   "source": [
    "Plasma's `to_hdf` method can also accept a `collection` parameter which can specify which types of plasma properties will be stored. For example if we wanted to only store Input plasma properties, we would do the following:"
   ]
  },
  {
   "cell_type": "code",
   "execution_count": 8,
   "metadata": {
    "execution": {
     "iopub.execute_input": "2024-10-07T19:02:57.957282Z",
     "iopub.status.busy": "2024-10-07T19:02:57.957041Z",
     "iopub.status.idle": "2024-10-07T19:02:57.995928Z",
     "shell.execute_reply": "2024-10-07T19:02:57.995524Z"
    }
   },
   "outputs": [
    {
     "name": "stdout",
     "output_type": "stream",
     "text": [
      "[\u001b[1mpy.warnings         \u001b[0m][\u001b[1;33mWARNING\u001b[0m]  \n",
      "\t/home/runner/work/tardis/tardis/tardis/io/util.py:289: PerformanceWarning: \n",
      "your performance may suffer as PyTables will pickle object types that it cannot\n",
      "map directly to c-types [inferred_type->mixed,key->block0_values] [items->Index([0], dtype='int64')]\n",
      "\n",
      "  data.to_hdf(buf, key=os.path.join(path, key))\n",
      " (\u001b[1mwarnings.py\u001b[0m:112)\n"
     ]
    },
    {
     "name": "stdout",
     "output_type": "stream",
     "text": [
      "[\u001b[1mpy.warnings         \u001b[0m][\u001b[1;33mWARNING\u001b[0m]  \n",
      "\t/home/runner/work/tardis/tardis/tardis/io/util.py:292: PerformanceWarning: \n",
      "your performance may suffer as PyTables will pickle object types that it cannot\n",
      "map directly to c-types [inferred_type->mixed,key->values] [items->None]\n",
      "\n",
      "  pd.Series(scalars).to_hdf(buf, key=os.path.join(path, \"scalars\"))\n",
      " (\u001b[1mwarnings.py\u001b[0m:112)\n"
     ]
    }
   ],
   "source": [
    "from tardis.plasma.properties.base import Input\n",
    "simulation.plasma.to_hdf('/tmp/plasma_input_output.hdf', collection=[Input], overwrite=True)"
   ]
  },
  {
   "cell_type": "code",
   "execution_count": 9,
   "metadata": {
    "execution": {
     "iopub.execute_input": "2024-10-07T19:02:57.997924Z",
     "iopub.status.busy": "2024-10-07T19:02:57.997758Z",
     "iopub.status.idle": "2024-10-07T19:02:58.005202Z",
     "shell.execute_reply": "2024-10-07T19:02:58.004763Z"
    }
   },
   "outputs": [
    {
     "data": {
      "text/plain": [
       "['/plasma/continuum_interaction_species',\n",
       " '/plasma/dilute_planckian_radiation_field',\n",
       " '/plasma/j_blues',\n",
       " '/plasma/nlte_excitation_species',\n",
       " '/plasma/nlte_ionization_species',\n",
       " '/plasma/number_density',\n",
       " '/plasma/scalars']"
      ]
     },
     "execution_count": 9,
     "metadata": {},
     "output_type": "execute_result"
    }
   ],
   "source": [
    "import pandas\n",
    "\n",
    "plasma_input_data = pandas.HDFStore('/tmp/plasma_input_output.hdf')\n",
    "\n",
    "plasma_input_data.keys()"
   ]
  },
  {
   "attachments": {},
   "cell_type": "markdown",
   "metadata": {},
   "source": [
    "### Model\n",
    "The following call will store properties of the `SimulationState` to `/tmp/model_output.hdf` under `/simulation_state`."
   ]
  },
  {
   "cell_type": "code",
   "execution_count": 10,
   "metadata": {
    "execution": {
     "iopub.execute_input": "2024-10-07T19:02:58.007172Z",
     "iopub.status.busy": "2024-10-07T19:02:58.006760Z",
     "iopub.status.idle": "2024-10-07T19:02:58.035994Z",
     "shell.execute_reply": "2024-10-07T19:02:58.035558Z"
    }
   },
   "outputs": [],
   "source": [
    "simulation.simulation_state.to_hdf('/tmp/model_output.hdf', overwrite=True)"
   ]
  },
  {
   "cell_type": "code",
   "execution_count": 11,
   "metadata": {
    "execution": {
     "iopub.execute_input": "2024-10-07T19:02:58.038752Z",
     "iopub.status.busy": "2024-10-07T19:02:58.038290Z",
     "iopub.status.idle": "2024-10-07T19:02:58.046051Z",
     "shell.execute_reply": "2024-10-07T19:02:58.045559Z"
    }
   },
   "outputs": [
    {
     "data": {
      "text/plain": [
       "['/simulation_state/abundance',\n",
       " '/simulation_state/density',\n",
       " '/simulation_state/dilution_factor',\n",
       " '/simulation_state/r_inner',\n",
       " '/simulation_state/scalars',\n",
       " '/simulation_state/t_radiative',\n",
       " '/simulation_state/v_inner',\n",
       " '/simulation_state/v_outer']"
      ]
     },
     "execution_count": 11,
     "metadata": {},
     "output_type": "execute_result"
    }
   ],
   "source": [
    "import pandas\n",
    "\n",
    "model_data = pandas.HDFStore('/tmp/model_output.hdf')\n",
    "\n",
    "model_data.keys()"
   ]
  },
  {
   "attachments": {},
   "cell_type": "markdown",
   "metadata": {},
   "source": [
    "### MontecarloTransport\n",
    "The following call will store properties of the `MontecarloTransport` to `/tmp/transport_output.hdf` under `/transport`."
   ]
  },
  {
   "cell_type": "code",
   "execution_count": 12,
   "metadata": {
    "execution": {
     "iopub.execute_input": "2024-10-07T19:02:58.048715Z",
     "iopub.status.busy": "2024-10-07T19:02:58.048219Z",
     "iopub.status.idle": "2024-10-07T19:02:58.106423Z",
     "shell.execute_reply": "2024-10-07T19:02:58.105842Z"
    }
   },
   "outputs": [],
   "source": [
    "simulation.transport.to_hdf('/tmp/transport_output.hdf', overwrite=True)"
   ]
  },
  {
   "cell_type": "code",
   "execution_count": 13,
   "metadata": {
    "execution": {
     "iopub.execute_input": "2024-10-07T19:02:58.109067Z",
     "iopub.status.busy": "2024-10-07T19:02:58.108632Z",
     "iopub.status.idle": "2024-10-07T19:02:58.119939Z",
     "shell.execute_reply": "2024-10-07T19:02:58.119482Z"
    }
   },
   "outputs": [
    {
     "data": {
      "text/plain": [
       "['/transport/transport_state/emitted_packet_mask',\n",
       " '/transport/transport_state/j_blue_estimator',\n",
       " '/transport/transport_state/j_estimator',\n",
       " '/transport/transport_state/last_interaction_in_nu',\n",
       " '/transport/transport_state/last_interaction_in_r',\n",
       " '/transport/transport_state/last_interaction_type',\n",
       " '/transport/transport_state/last_line_interaction_in_id',\n",
       " '/transport/transport_state/last_line_interaction_out_id',\n",
       " '/transport/transport_state/last_line_interaction_shell_id',\n",
       " '/transport/transport_state/nu_bar_estimator',\n",
       " '/transport/transport_state/output_energy',\n",
       " '/transport/transport_state/output_nu',\n",
       " '/transport/transport_state/packet_luminosity',\n",
       " '/transport/transport_state/scalars']"
      ]
     },
     "execution_count": 13,
     "metadata": {},
     "output_type": "execute_result"
    }
   ],
   "source": [
    "import pandas\n",
    "\n",
    "transport_data = pandas.HDFStore('/tmp/transport_output.hdf')\n",
    "\n",
    "transport_data.keys()"
   ]
  }
 ],
 "metadata": {
  "celltoolbar": "Raw Cell Format",
  "kernelspec": {
   "display_name": "Python 3",
   "language": "python",
   "name": "python3"
  },
  "language_info": {
   "codemirror_mode": {
    "name": "ipython",
    "version": 3
   },
   "file_extension": ".py",
   "mimetype": "text/x-python",
   "name": "python",
   "nbconvert_exporter": "python",
   "pygments_lexer": "ipython3",
   "version": "3.12.4"
  },
  "widgets": {
   "application/vnd.jupyter.widget-state+json": {
    "state": {
     "00accba90a2849e89c537b5bc105cada": {
      "model_module": "@jupyter-widgets/base",
      "model_module_version": "1.2.0",
      "model_name": "LayoutModel",
      "state": {
       "_model_module": "@jupyter-widgets/base",
       "_model_module_version": "1.2.0",
       "_model_name": "LayoutModel",
       "_view_count": null,
       "_view_module": "@jupyter-widgets/base",
       "_view_module_version": "1.2.0",
       "_view_name": "LayoutView",
       "align_content": null,
       "align_items": null,
       "align_self": null,
       "border": null,
       "bottom": null,
       "display": null,
       "flex": null,
       "flex_flow": null,
       "grid_area": null,
       "grid_auto_columns": null,
       "grid_auto_flow": null,
       "grid_auto_rows": null,
       "grid_column": null,
       "grid_gap": null,
       "grid_row": null,
       "grid_template_areas": null,
       "grid_template_columns": null,
       "grid_template_rows": null,
       "height": null,
       "justify_content": null,
       "justify_items": null,
       "left": null,
       "margin": null,
       "max_height": null,
       "max_width": null,
       "min_height": null,
       "min_width": null,
       "object_fit": null,
       "object_position": null,
       "order": null,
       "overflow": null,
       "overflow_x": null,
       "overflow_y": null,
       "padding": null,
       "right": null,
       "top": null,
       "visibility": null,
       "width": "60%"
      }
     },
     "06536a8d7eb44cca96bb0bc6c2785f3e": {
      "model_module": "@jupyter-widgets/base",
      "model_module_version": "1.2.0",
      "model_name": "LayoutModel",
      "state": {
       "_model_module": "@jupyter-widgets/base",
       "_model_module_version": "1.2.0",
       "_model_name": "LayoutModel",
       "_view_count": null,
       "_view_module": "@jupyter-widgets/base",
       "_view_module_version": "1.2.0",
       "_view_name": "LayoutView",
       "align_content": null,
       "align_items": null,
       "align_self": null,
       "border": null,
       "bottom": null,
       "display": null,
       "flex": null,
       "flex_flow": null,
       "grid_area": null,
       "grid_auto_columns": null,
       "grid_auto_flow": null,
       "grid_auto_rows": null,
       "grid_column": null,
       "grid_gap": null,
       "grid_row": null,
       "grid_template_areas": null,
       "grid_template_columns": null,
       "grid_template_rows": null,
       "height": null,
       "justify_content": null,
       "justify_items": null,
       "left": null,
       "margin": null,
       "max_height": null,
       "max_width": null,
       "min_height": null,
       "min_width": null,
       "object_fit": null,
       "object_position": null,
       "order": null,
       "overflow": null,
       "overflow_x": null,
       "overflow_y": null,
       "padding": null,
       "right": null,
       "top": null,
       "visibility": null,
       "width": "6%"
      }
     },
     "06f42fcf26ef4cb99f93db6ec437b211": {
      "model_module": "@jupyter-widgets/base",
      "model_module_version": "1.2.0",
      "model_name": "LayoutModel",
      "state": {
       "_model_module": "@jupyter-widgets/base",
       "_model_module_version": "1.2.0",
       "_model_name": "LayoutModel",
       "_view_count": null,
       "_view_module": "@jupyter-widgets/base",
       "_view_module_version": "1.2.0",
       "_view_name": "LayoutView",
       "align_content": null,
       "align_items": null,
       "align_self": null,
       "border": null,
       "bottom": null,
       "display": null,
       "flex": null,
       "flex_flow": null,
       "grid_area": null,
       "grid_auto_columns": null,
       "grid_auto_flow": null,
       "grid_auto_rows": null,
       "grid_column": null,
       "grid_gap": null,
       "grid_row": null,
       "grid_template_areas": null,
       "grid_template_columns": null,
       "grid_template_rows": null,
       "height": null,
       "justify_content": null,
       "justify_items": null,
       "left": null,
       "margin": null,
       "max_height": null,
       "max_width": null,
       "min_height": null,
       "min_width": null,
       "object_fit": null,
       "object_position": null,
       "order": null,
       "overflow": null,
       "overflow_x": null,
       "overflow_y": null,
       "padding": null,
       "right": null,
       "top": null,
       "visibility": null,
       "width": "60%"
      }
     },
     "0a0c31af144745dfb1eb2a54be3188bb": {
      "model_module": "@jupyter-widgets/controls",
      "model_module_version": "1.5.0",
      "model_name": "HTMLModel",
      "state": {
       "_dom_classes": [],
       "_model_module": "@jupyter-widgets/controls",
       "_model_module_version": "1.5.0",
       "_model_name": "HTMLModel",
       "_view_count": null,
       "_view_module": "@jupyter-widgets/controls",
       "_view_module_version": "1.5.0",
       "_view_name": "HTMLView",
       "description": "",
       "description_tooltip": null,
       "layout": "IPY_MODEL_442aa4a3207d4d37a0253a03eda091e6",
       "placeholder": "​",
       "style": "IPY_MODEL_9d92ef9a431b4755a75d910b7873a09d",
       "value": "Packets:   "
      }
     },
     "136b0b31f87f451093121d809cbac7c4": {
      "model_module": "@jupyter-widgets/controls",
      "model_module_version": "1.5.0",
      "model_name": "DescriptionStyleModel",
      "state": {
       "_model_module": "@jupyter-widgets/controls",
       "_model_module_version": "1.5.0",
       "_model_name": "DescriptionStyleModel",
       "_view_count": null,
       "_view_module": "@jupyter-widgets/base",
       "_view_module_version": "1.2.0",
       "_view_name": "StyleView",
       "description_width": ""
      }
     },
     "1bc9860b6e3945d5b266bc5f309bf793": {
      "model_module": "@jupyter-widgets/controls",
      "model_module_version": "1.5.0",
      "model_name": "HTMLModel",
      "state": {
       "_dom_classes": [],
       "_model_module": "@jupyter-widgets/controls",
       "_model_module_version": "1.5.0",
       "_model_name": "HTMLModel",
       "_view_count": null,
       "_view_module": "@jupyter-widgets/controls",
       "_view_module_version": "1.5.0",
       "_view_name": "HTMLView",
       "description": "",
       "description_tooltip": null,
       "layout": "IPY_MODEL_7e69c1cdecca4153b283b4736c470695",
       "placeholder": "​",
       "style": "IPY_MODEL_443c4aad7e83481ab3789a7a27555989",
       "value": "Packets:   "
      }
     },
     "1eeeff9e033248d388200b760d70ea67": {
      "model_module": "@jupyter-widgets/base",
      "model_module_version": "1.2.0",
      "model_name": "LayoutModel",
      "state": {
       "_model_module": "@jupyter-widgets/base",
       "_model_module_version": "1.2.0",
       "_model_name": "LayoutModel",
       "_view_count": null,
       "_view_module": "@jupyter-widgets/base",
       "_view_module_version": "1.2.0",
       "_view_name": "LayoutView",
       "align_content": null,
       "align_items": null,
       "align_self": null,
       "border": null,
       "bottom": null,
       "display": null,
       "flex": null,
       "flex_flow": null,
       "grid_area": null,
       "grid_auto_columns": null,
       "grid_auto_flow": null,
       "grid_auto_rows": null,
       "grid_column": null,
       "grid_gap": null,
       "grid_row": null,
       "grid_template_areas": null,
       "grid_template_columns": null,
       "grid_template_rows": null,
       "height": null,
       "justify_content": null,
       "justify_items": null,
       "left": null,
       "margin": null,
       "max_height": null,
       "max_width": null,
       "min_height": null,
       "min_width": null,
       "object_fit": null,
       "object_position": null,
       "order": null,
       "overflow": null,
       "overflow_x": null,
       "overflow_y": null,
       "padding": null,
       "right": null,
       "top": null,
       "visibility": null,
       "width": null
      }
     },
     "276177d374aa4bd0a1fc383d001dc844": {
      "model_module": "@jupyter-widgets/controls",
      "model_module_version": "1.5.0",
      "model_name": "HBoxModel",
      "state": {
       "_dom_classes": [],
       "_model_module": "@jupyter-widgets/controls",
       "_model_module_version": "1.5.0",
       "_model_name": "HBoxModel",
       "_view_count": null,
       "_view_module": "@jupyter-widgets/controls",
       "_view_module_version": "1.5.0",
       "_view_name": "HBoxView",
       "box_style": "",
       "children": [
        "IPY_MODEL_667dde32d680435b96672d61db609115",
        "IPY_MODEL_8a13b65729f444c282227d246d548382",
        "IPY_MODEL_f9cfcea27cfc43c4857300d0b2851974"
       ],
       "layout": "IPY_MODEL_ce14a0bf23944d5590889d384fdd2bc6"
      }
     },
     "28ea6884c41343aaaa17317eb0c2a916": {
      "model_module": "@jupyter-widgets/controls",
      "model_module_version": "1.5.0",
      "model_name": "DescriptionStyleModel",
      "state": {
       "_model_module": "@jupyter-widgets/controls",
       "_model_module_version": "1.5.0",
       "_model_name": "DescriptionStyleModel",
       "_view_count": null,
       "_view_module": "@jupyter-widgets/base",
       "_view_module_version": "1.2.0",
       "_view_name": "StyleView",
       "description_width": ""
      }
     },
     "2dcad4fd95c84b26871799045b0cf5b1": {
      "model_module": "@jupyter-widgets/base",
      "model_module_version": "1.2.0",
      "model_name": "LayoutModel",
      "state": {
       "_model_module": "@jupyter-widgets/base",
       "_model_module_version": "1.2.0",
       "_model_name": "LayoutModel",
       "_view_count": null,
       "_view_module": "@jupyter-widgets/base",
       "_view_module_version": "1.2.0",
       "_view_name": "LayoutView",
       "align_content": null,
       "align_items": null,
       "align_self": null,
       "border": null,
       "bottom": null,
       "display": null,
       "flex": null,
       "flex_flow": null,
       "grid_area": null,
       "grid_auto_columns": null,
       "grid_auto_flow": null,
       "grid_auto_rows": null,
       "grid_column": null,
       "grid_gap": null,
       "grid_row": null,
       "grid_template_areas": null,
       "grid_template_columns": null,
       "grid_template_rows": null,
       "height": null,
       "justify_content": null,
       "justify_items": null,
       "left": null,
       "margin": null,
       "max_height": null,
       "max_width": null,
       "min_height": null,
       "min_width": null,
       "object_fit": null,
       "object_position": null,
       "order": null,
       "overflow": null,
       "overflow_x": null,
       "overflow_y": null,
       "padding": null,
       "right": null,
       "top": null,
       "visibility": null,
       "width": null
      }
     },
     "2f17e60951f2430394fb6fd3cbb1f2f2": {
      "model_module": "@jupyter-widgets/controls",
      "model_module_version": "1.5.0",
      "model_name": "ProgressStyleModel",
      "state": {
       "_model_module": "@jupyter-widgets/controls",
       "_model_module_version": "1.5.0",
       "_model_name": "ProgressStyleModel",
       "_view_count": null,
       "_view_module": "@jupyter-widgets/base",
       "_view_module_version": "1.2.0",
       "_view_name": "StyleView",
       "bar_color": null,
       "description_width": ""
      }
     },
     "2f710c9b12a84115b07dd19581cdd251": {
      "model_module": "@jupyter-widgets/controls",
      "model_module_version": "1.5.0",
      "model_name": "FloatProgressModel",
      "state": {
       "_dom_classes": [],
       "_model_module": "@jupyter-widgets/controls",
       "_model_module_version": "1.5.0",
       "_model_name": "FloatProgressModel",
       "_view_count": null,
       "_view_module": "@jupyter-widgets/controls",
       "_view_module_version": "1.5.0",
       "_view_name": "ProgressView",
       "bar_style": "",
       "description": "",
       "description_tooltip": null,
       "layout": "IPY_MODEL_06f42fcf26ef4cb99f93db6ec437b211",
       "max": 100000.0,
       "min": 0.0,
       "orientation": "horizontal",
       "style": "IPY_MODEL_c4c73e1ea23b4a349d224cbfa143d023",
       "value": 100000.0
      }
     },
     "30eae0ab66934355b8a614fcd77ea8fd": {
      "model_module": "@jupyter-widgets/output",
      "model_module_version": "1.0.0",
      "model_name": "OutputModel",
      "state": {
       "_dom_classes": [],
       "_model_module": "@jupyter-widgets/output",
       "_model_module_version": "1.0.0",
       "_model_name": "OutputModel",
       "_view_count": null,
       "_view_module": "@jupyter-widgets/output",
       "_view_module_version": "1.0.0",
       "_view_name": "OutputView",
       "layout": "IPY_MODEL_978bb98d0ad0460594af0d590c37a9d0",
       "msg_id": "",
       "outputs": []
      }
     },
     "334e4535144c4654952df8a1be9d1693": {
      "model_module": "@jupyter-widgets/controls",
      "model_module_version": "1.5.0",
      "model_name": "ProgressStyleModel",
      "state": {
       "_model_module": "@jupyter-widgets/controls",
       "_model_module_version": "1.5.0",
       "_model_name": "ProgressStyleModel",
       "_view_count": null,
       "_view_module": "@jupyter-widgets/base",
       "_view_module_version": "1.2.0",
       "_view_name": "StyleView",
       "bar_color": null,
       "description_width": ""
      }
     },
     "3f6ac45f07324d0aa8314dca68c88d3b": {
      "model_module": "@jupyter-widgets/base",
      "model_module_version": "1.2.0",
      "model_name": "LayoutModel",
      "state": {
       "_model_module": "@jupyter-widgets/base",
       "_model_module_version": "1.2.0",
       "_model_name": "LayoutModel",
       "_view_count": null,
       "_view_module": "@jupyter-widgets/base",
       "_view_module_version": "1.2.0",
       "_view_name": "LayoutView",
       "align_content": null,
       "align_items": null,
       "align_self": null,
       "border": null,
       "bottom": null,
       "display": null,
       "flex": null,
       "flex_flow": null,
       "grid_area": null,
       "grid_auto_columns": null,
       "grid_auto_flow": null,
       "grid_auto_rows": null,
       "grid_column": null,
       "grid_gap": null,
       "grid_row": null,
       "grid_template_areas": null,
       "grid_template_columns": null,
       "grid_template_rows": null,
       "height": null,
       "justify_content": null,
       "justify_items": null,
       "left": null,
       "margin": null,
       "max_height": null,
       "max_width": null,
       "min_height": null,
       "min_width": null,
       "object_fit": null,
       "object_position": null,
       "order": null,
       "overflow": null,
       "overflow_x": null,
       "overflow_y": null,
       "padding": null,
       "right": null,
       "top": null,
       "visibility": null,
       "width": null
      }
     },
     "4046c2040e8447b7b9cd599c205286c2": {
      "model_module": "@jupyter-widgets/controls",
      "model_module_version": "1.5.0",
      "model_name": "HTMLModel",
      "state": {
       "_dom_classes": [],
       "_model_module": "@jupyter-widgets/controls",
       "_model_module_version": "1.5.0",
       "_model_name": "HTMLModel",
       "_view_count": null,
       "_view_module": "@jupyter-widgets/controls",
       "_view_module_version": "1.5.0",
       "_view_name": "HTMLView",
       "description": "",
       "description_tooltip": null,
       "layout": "IPY_MODEL_63067a18147b4b389c01f5d782531298",
       "placeholder": "​",
       "style": "IPY_MODEL_28ea6884c41343aaaa17317eb0c2a916",
       "value": "0/? [00:00&lt;?, ?it/s]"
      }
     },
     "406cbf939c7d43b4a1b7279be62ba817": {
      "model_module": "@jupyter-widgets/controls",
      "model_module_version": "1.5.0",
      "model_name": "HBoxModel",
      "state": {
       "_dom_classes": [],
       "_model_module": "@jupyter-widgets/controls",
       "_model_module_version": "1.5.0",
       "_model_name": "HBoxModel",
       "_view_count": null,
       "_view_module": "@jupyter-widgets/controls",
       "_view_module_version": "1.5.0",
       "_view_name": "HBoxView",
       "box_style": "",
       "children": [
        "IPY_MODEL_0a0c31af144745dfb1eb2a54be3188bb",
        "IPY_MODEL_56233089cf314673addee64b425cb040",
        "IPY_MODEL_4046c2040e8447b7b9cd599c205286c2"
       ],
       "layout": "IPY_MODEL_1eeeff9e033248d388200b760d70ea67"
      }
     },
     "42dd62a6d1c74569876a2564d457f440": {
      "model_module": "@jupyter-widgets/controls",
      "model_module_version": "1.5.0",
      "model_name": "DescriptionStyleModel",
      "state": {
       "_model_module": "@jupyter-widgets/controls",
       "_model_module_version": "1.5.0",
       "_model_name": "DescriptionStyleModel",
       "_view_count": null,
       "_view_module": "@jupyter-widgets/base",
       "_view_module_version": "1.2.0",
       "_view_name": "StyleView",
       "description_width": ""
      }
     },
     "43ca01938c324bf6b2ca49b69c913871": {
      "model_module": "@jupyter-widgets/base",
      "model_module_version": "1.2.0",
      "model_name": "LayoutModel",
      "state": {
       "_model_module": "@jupyter-widgets/base",
       "_model_module_version": "1.2.0",
       "_model_name": "LayoutModel",
       "_view_count": null,
       "_view_module": "@jupyter-widgets/base",
       "_view_module_version": "1.2.0",
       "_view_name": "LayoutView",
       "align_content": null,
       "align_items": null,
       "align_self": null,
       "border": null,
       "bottom": null,
       "display": null,
       "flex": null,
       "flex_flow": null,
       "grid_area": null,
       "grid_auto_columns": null,
       "grid_auto_flow": null,
       "grid_auto_rows": null,
       "grid_column": null,
       "grid_gap": null,
       "grid_row": null,
       "grid_template_areas": null,
       "grid_template_columns": null,
       "grid_template_rows": null,
       "height": null,
       "justify_content": null,
       "justify_items": null,
       "left": null,
       "margin": null,
       "max_height": null,
       "max_width": null,
       "min_height": null,
       "min_width": null,
       "object_fit": null,
       "object_position": null,
       "order": null,
       "overflow": null,
       "overflow_x": null,
       "overflow_y": null,
       "padding": null,
       "right": null,
       "top": null,
       "visibility": null,
       "width": null
      }
     },
     "442aa4a3207d4d37a0253a03eda091e6": {
      "model_module": "@jupyter-widgets/base",
      "model_module_version": "1.2.0",
      "model_name": "LayoutModel",
      "state": {
       "_model_module": "@jupyter-widgets/base",
       "_model_module_version": "1.2.0",
       "_model_name": "LayoutModel",
       "_view_count": null,
       "_view_module": "@jupyter-widgets/base",
       "_view_module_version": "1.2.0",
       "_view_name": "LayoutView",
       "align_content": null,
       "align_items": null,
       "align_self": null,
       "border": null,
       "bottom": null,
       "display": null,
       "flex": null,
       "flex_flow": null,
       "grid_area": null,
       "grid_auto_columns": null,
       "grid_auto_flow": null,
       "grid_auto_rows": null,
       "grid_column": null,
       "grid_gap": null,
       "grid_row": null,
       "grid_template_areas": null,
       "grid_template_columns": null,
       "grid_template_rows": null,
       "height": null,
       "justify_content": null,
       "justify_items": null,
       "left": null,
       "margin": null,
       "max_height": null,
       "max_width": null,
       "min_height": null,
       "min_width": null,
       "object_fit": null,
       "object_position": null,
       "order": null,
       "overflow": null,
       "overflow_x": null,
       "overflow_y": null,
       "padding": null,
       "right": null,
       "top": null,
       "visibility": null,
       "width": null
      }
     },
     "443c4aad7e83481ab3789a7a27555989": {
      "model_module": "@jupyter-widgets/controls",
      "model_module_version": "1.5.0",
      "model_name": "DescriptionStyleModel",
      "state": {
       "_model_module": "@jupyter-widgets/controls",
       "_model_module_version": "1.5.0",
       "_model_name": "DescriptionStyleModel",
       "_view_count": null,
       "_view_module": "@jupyter-widgets/base",
       "_view_module_version": "1.2.0",
       "_view_name": "StyleView",
       "description_width": ""
      }
     },
     "48d18268aee446bdaa8b46abb06e4085": {
      "model_module": "@jupyter-widgets/base",
      "model_module_version": "1.2.0",
      "model_name": "LayoutModel",
      "state": {
       "_model_module": "@jupyter-widgets/base",
       "_model_module_version": "1.2.0",
       "_model_name": "LayoutModel",
       "_view_count": null,
       "_view_module": "@jupyter-widgets/base",
       "_view_module_version": "1.2.0",
       "_view_name": "LayoutView",
       "align_content": null,
       "align_items": null,
       "align_self": null,
       "border": null,
       "bottom": null,
       "display": null,
       "flex": null,
       "flex_flow": null,
       "grid_area": null,
       "grid_auto_columns": null,
       "grid_auto_flow": null,
       "grid_auto_rows": null,
       "grid_column": null,
       "grid_gap": null,
       "grid_row": null,
       "grid_template_areas": null,
       "grid_template_columns": null,
       "grid_template_rows": null,
       "height": null,
       "justify_content": null,
       "justify_items": null,
       "left": null,
       "margin": null,
       "max_height": null,
       "max_width": null,
       "min_height": null,
       "min_width": null,
       "object_fit": null,
       "object_position": null,
       "order": null,
       "overflow": null,
       "overflow_x": null,
       "overflow_y": null,
       "padding": null,
       "right": null,
       "top": null,
       "visibility": null,
       "width": null
      }
     },
     "5555fa961a494dc281cd0e8471b21fa5": {
      "model_module": "@jupyter-widgets/base",
      "model_module_version": "1.2.0",
      "model_name": "LayoutModel",
      "state": {
       "_model_module": "@jupyter-widgets/base",
       "_model_module_version": "1.2.0",
       "_model_name": "LayoutModel",
       "_view_count": null,
       "_view_module": "@jupyter-widgets/base",
       "_view_module_version": "1.2.0",
       "_view_name": "LayoutView",
       "align_content": null,
       "align_items": null,
       "align_self": null,
       "border": null,
       "bottom": null,
       "display": null,
       "flex": null,
       "flex_flow": null,
       "grid_area": null,
       "grid_auto_columns": null,
       "grid_auto_flow": null,
       "grid_auto_rows": null,
       "grid_column": null,
       "grid_gap": null,
       "grid_row": null,
       "grid_template_areas": null,
       "grid_template_columns": null,
       "grid_template_rows": null,
       "height": null,
       "justify_content": null,
       "justify_items": null,
       "left": null,
       "margin": null,
       "max_height": null,
       "max_width": null,
       "min_height": null,
       "min_width": null,
       "object_fit": null,
       "object_position": null,
       "order": null,
       "overflow": null,
       "overflow_x": null,
       "overflow_y": null,
       "padding": null,
       "right": null,
       "top": null,
       "visibility": null,
       "width": "20px"
      }
     },
     "56233089cf314673addee64b425cb040": {
      "model_module": "@jupyter-widgets/controls",
      "model_module_version": "1.5.0",
      "model_name": "FloatProgressModel",
      "state": {
       "_dom_classes": [],
       "_model_module": "@jupyter-widgets/controls",
       "_model_module_version": "1.5.0",
       "_model_name": "FloatProgressModel",
       "_view_count": null,
       "_view_module": "@jupyter-widgets/controls",
       "_view_module_version": "1.5.0",
       "_view_name": "ProgressView",
       "bar_style": "info",
       "description": "",
       "description_tooltip": null,
       "layout": "IPY_MODEL_5555fa961a494dc281cd0e8471b21fa5",
       "max": 1.0,
       "min": 0.0,
       "orientation": "horizontal",
       "style": "IPY_MODEL_2f17e60951f2430394fb6fd3cbb1f2f2",
       "value": 0.0
      }
     },
     "63067a18147b4b389c01f5d782531298": {
      "model_module": "@jupyter-widgets/base",
      "model_module_version": "1.2.0",
      "model_name": "LayoutModel",
      "state": {
       "_model_module": "@jupyter-widgets/base",
       "_model_module_version": "1.2.0",
       "_model_name": "LayoutModel",
       "_view_count": null,
       "_view_module": "@jupyter-widgets/base",
       "_view_module_version": "1.2.0",
       "_view_name": "LayoutView",
       "align_content": null,
       "align_items": null,
       "align_self": null,
       "border": null,
       "bottom": null,
       "display": null,
       "flex": null,
       "flex_flow": null,
       "grid_area": null,
       "grid_auto_columns": null,
       "grid_auto_flow": null,
       "grid_auto_rows": null,
       "grid_column": null,
       "grid_gap": null,
       "grid_row": null,
       "grid_template_areas": null,
       "grid_template_columns": null,
       "grid_template_rows": null,
       "height": null,
       "justify_content": null,
       "justify_items": null,
       "left": null,
       "margin": null,
       "max_height": null,
       "max_width": null,
       "min_height": null,
       "min_width": null,
       "object_fit": null,
       "object_position": null,
       "order": null,
       "overflow": null,
       "overflow_x": null,
       "overflow_y": null,
       "padding": null,
       "right": null,
       "top": null,
       "visibility": null,
       "width": null
      }
     },
     "667dde32d680435b96672d61db609115": {
      "model_module": "@jupyter-widgets/controls",
      "model_module_version": "1.5.0",
      "model_name": "HTMLModel",
      "state": {
       "_dom_classes": [],
       "_model_module": "@jupyter-widgets/controls",
       "_model_module_version": "1.5.0",
       "_model_name": "HTMLModel",
       "_view_count": null,
       "_view_module": "@jupyter-widgets/controls",
       "_view_module_version": "1.5.0",
       "_view_name": "HTMLView",
       "description": "",
       "description_tooltip": null,
       "layout": "IPY_MODEL_48d18268aee446bdaa8b46abb06e4085",
       "placeholder": "​",
       "style": "IPY_MODEL_136b0b31f87f451093121d809cbac7c4",
       "value": "Iterations:"
      }
     },
     "690eac3831934c2fbb4a354f581174ac": {
      "model_module": "@jupyter-widgets/output",
      "model_module_version": "1.0.0",
      "model_name": "OutputModel",
      "state": {
       "_dom_classes": [],
       "_model_module": "@jupyter-widgets/output",
       "_model_module_version": "1.0.0",
       "_model_name": "OutputModel",
       "_view_count": null,
       "_view_module": "@jupyter-widgets/output",
       "_view_module_version": "1.0.0",
       "_view_name": "OutputView",
       "layout": "IPY_MODEL_43ca01938c324bf6b2ca49b69c913871",
       "msg_id": "",
       "outputs": []
      }
     },
     "70c859e7de7c47dcbc82bf3b0db25483": {
      "model_module": "@jupyter-widgets/controls",
      "model_module_version": "1.5.0",
      "model_name": "ProgressStyleModel",
      "state": {
       "_model_module": "@jupyter-widgets/controls",
       "_model_module_version": "1.5.0",
       "_model_name": "ProgressStyleModel",
       "_view_count": null,
       "_view_module": "@jupyter-widgets/base",
       "_view_module_version": "1.2.0",
       "_view_name": "StyleView",
       "bar_color": null,
       "description_width": ""
      }
     },
     "7b4a632ce9f74e52b65c0a827e1b8439": {
      "model_module": "@jupyter-widgets/controls",
      "model_module_version": "1.5.0",
      "model_name": "FloatProgressModel",
      "state": {
       "_dom_classes": [],
       "_model_module": "@jupyter-widgets/controls",
       "_model_module_version": "1.5.0",
       "_model_name": "FloatProgressModel",
       "_view_count": null,
       "_view_module": "@jupyter-widgets/controls",
       "_view_module_version": "1.5.0",
       "_view_name": "ProgressView",
       "bar_style": "",
       "description": "",
       "description_tooltip": null,
       "layout": "IPY_MODEL_00accba90a2849e89c537b5bc105cada",
       "max": 20.0,
       "min": 0.0,
       "orientation": "horizontal",
       "style": "IPY_MODEL_334e4535144c4654952df8a1be9d1693",
       "value": 20.0
      }
     },
     "7c937a8f647142d7a780b6ff9bbb276f": {
      "model_module": "@jupyter-widgets/controls",
      "model_module_version": "1.5.0",
      "model_name": "HTMLModel",
      "state": {
       "_dom_classes": [],
       "_model_module": "@jupyter-widgets/controls",
       "_model_module_version": "1.5.0",
       "_model_name": "HTMLModel",
       "_view_count": null,
       "_view_module": "@jupyter-widgets/controls",
       "_view_module_version": "1.5.0",
       "_view_name": "HTMLView",
       "description": "",
       "description_tooltip": null,
       "layout": "IPY_MODEL_837d8a2e97594bc7bcc592e42a9f8354",
       "placeholder": "​",
       "style": "IPY_MODEL_c20e845981aa42dfbcaf3418eb362b1f",
       "value": "100000/100000 [00:21&lt;00:00, 20994.96it/s]"
      }
     },
     "7e69c1cdecca4153b283b4736c470695": {
      "model_module": "@jupyter-widgets/base",
      "model_module_version": "1.2.0",
      "model_name": "LayoutModel",
      "state": {
       "_model_module": "@jupyter-widgets/base",
       "_model_module_version": "1.2.0",
       "_model_name": "LayoutModel",
       "_view_count": null,
       "_view_module": "@jupyter-widgets/base",
       "_view_module_version": "1.2.0",
       "_view_name": "LayoutView",
       "align_content": null,
       "align_items": null,
       "align_self": null,
       "border": null,
       "bottom": null,
       "display": null,
       "flex": null,
       "flex_flow": null,
       "grid_area": null,
       "grid_auto_columns": null,
       "grid_auto_flow": null,
       "grid_auto_rows": null,
       "grid_column": null,
       "grid_gap": null,
       "grid_row": null,
       "grid_template_areas": null,
       "grid_template_columns": null,
       "grid_template_rows": null,
       "height": null,
       "justify_content": null,
       "justify_items": null,
       "left": null,
       "margin": null,
       "max_height": null,
       "max_width": null,
       "min_height": null,
       "min_width": null,
       "object_fit": null,
       "object_position": null,
       "order": null,
       "overflow": null,
       "overflow_x": null,
       "overflow_y": null,
       "padding": null,
       "right": null,
       "top": null,
       "visibility": null,
       "width": "6%"
      }
     },
     "837d8a2e97594bc7bcc592e42a9f8354": {
      "model_module": "@jupyter-widgets/base",
      "model_module_version": "1.2.0",
      "model_name": "LayoutModel",
      "state": {
       "_model_module": "@jupyter-widgets/base",
       "_model_module_version": "1.2.0",
       "_model_name": "LayoutModel",
       "_view_count": null,
       "_view_module": "@jupyter-widgets/base",
       "_view_module_version": "1.2.0",
       "_view_name": "LayoutView",
       "align_content": null,
       "align_items": null,
       "align_self": null,
       "border": null,
       "bottom": null,
       "display": null,
       "flex": null,
       "flex_flow": null,
       "grid_area": null,
       "grid_auto_columns": null,
       "grid_auto_flow": null,
       "grid_auto_rows": null,
       "grid_column": null,
       "grid_gap": null,
       "grid_row": null,
       "grid_template_areas": null,
       "grid_template_columns": null,
       "grid_template_rows": null,
       "height": null,
       "justify_content": null,
       "justify_items": null,
       "left": null,
       "margin": null,
       "max_height": null,
       "max_width": null,
       "min_height": null,
       "min_width": null,
       "object_fit": null,
       "object_position": null,
       "order": null,
       "overflow": null,
       "overflow_x": null,
       "overflow_y": null,
       "padding": null,
       "right": null,
       "top": null,
       "visibility": null,
       "width": null
      }
     },
     "8a13b65729f444c282227d246d548382": {
      "model_module": "@jupyter-widgets/controls",
      "model_module_version": "1.5.0",
      "model_name": "FloatProgressModel",
      "state": {
       "_dom_classes": [],
       "_model_module": "@jupyter-widgets/controls",
       "_model_module_version": "1.5.0",
       "_model_name": "FloatProgressModel",
       "_view_count": null,
       "_view_module": "@jupyter-widgets/controls",
       "_view_module_version": "1.5.0",
       "_view_name": "ProgressView",
       "bar_style": "info",
       "description": "",
       "description_tooltip": null,
       "layout": "IPY_MODEL_ba727609c6484f068119273e437f405d",
       "max": 1.0,
       "min": 0.0,
       "orientation": "horizontal",
       "style": "IPY_MODEL_70c859e7de7c47dcbc82bf3b0db25483",
       "value": 0.0
      }
     },
     "978bb98d0ad0460594af0d590c37a9d0": {
      "model_module": "@jupyter-widgets/base",
      "model_module_version": "1.2.0",
      "model_name": "LayoutModel",
      "state": {
       "_model_module": "@jupyter-widgets/base",
       "_model_module_version": "1.2.0",
       "_model_name": "LayoutModel",
       "_view_count": null,
       "_view_module": "@jupyter-widgets/base",
       "_view_module_version": "1.2.0",
       "_view_name": "LayoutView",
       "align_content": null,
       "align_items": null,
       "align_self": null,
       "border": null,
       "bottom": null,
       "display": null,
       "flex": null,
       "flex_flow": null,
       "grid_area": null,
       "grid_auto_columns": null,
       "grid_auto_flow": null,
       "grid_auto_rows": null,
       "grid_column": null,
       "grid_gap": null,
       "grid_row": null,
       "grid_template_areas": null,
       "grid_template_columns": null,
       "grid_template_rows": null,
       "height": null,
       "justify_content": null,
       "justify_items": null,
       "left": null,
       "margin": null,
       "max_height": null,
       "max_width": null,
       "min_height": null,
       "min_width": null,
       "object_fit": null,
       "object_position": null,
       "order": null,
       "overflow": null,
       "overflow_x": null,
       "overflow_y": null,
       "padding": null,
       "right": null,
       "top": null,
       "visibility": null,
       "width": null
      }
     },
     "9d92ef9a431b4755a75d910b7873a09d": {
      "model_module": "@jupyter-widgets/controls",
      "model_module_version": "1.5.0",
      "model_name": "DescriptionStyleModel",
      "state": {
       "_model_module": "@jupyter-widgets/controls",
       "_model_module_version": "1.5.0",
       "_model_name": "DescriptionStyleModel",
       "_view_count": null,
       "_view_module": "@jupyter-widgets/base",
       "_view_module_version": "1.2.0",
       "_view_name": "StyleView",
       "description_width": ""
      }
     },
     "a26e91231bc94d578c78e3701aef083e": {
      "model_module": "@jupyter-widgets/controls",
      "model_module_version": "1.5.0",
      "model_name": "DescriptionStyleModel",
      "state": {
       "_model_module": "@jupyter-widgets/controls",
       "_model_module_version": "1.5.0",
       "_model_name": "DescriptionStyleModel",
       "_view_count": null,
       "_view_module": "@jupyter-widgets/base",
       "_view_module_version": "1.2.0",
       "_view_name": "StyleView",
       "description_width": ""
      }
     },
     "a47210f8811d4b7ea7e918db327019a7": {
      "model_module": "@jupyter-widgets/controls",
      "model_module_version": "1.5.0",
      "model_name": "HTMLModel",
      "state": {
       "_dom_classes": [],
       "_model_module": "@jupyter-widgets/controls",
       "_model_module_version": "1.5.0",
       "_model_name": "HTMLModel",
       "_view_count": null,
       "_view_module": "@jupyter-widgets/controls",
       "_view_module_version": "1.5.0",
       "_view_name": "HTMLView",
       "description": "",
       "description_tooltip": null,
       "layout": "IPY_MODEL_f70ec74ea91a4b578a4a1ca87d1fb9dc",
       "placeholder": "​",
       "style": "IPY_MODEL_e1334f700d074f9cbf15ded68a48bc45",
       "value": "20/20 [00:13&lt;00:00,  1.81s/it]"
      }
     },
     "ae6052f13dd54ed480eac6371d33c9c4": {
      "model_module": "@jupyter-widgets/controls",
      "model_module_version": "1.5.0",
      "model_name": "HTMLModel",
      "state": {
       "_dom_classes": [],
       "_model_module": "@jupyter-widgets/controls",
       "_model_module_version": "1.5.0",
       "_model_name": "HTMLModel",
       "_view_count": null,
       "_view_module": "@jupyter-widgets/controls",
       "_view_module_version": "1.5.0",
       "_view_name": "HTMLView",
       "description": "",
       "description_tooltip": null,
       "layout": "IPY_MODEL_06536a8d7eb44cca96bb0bc6c2785f3e",
       "placeholder": "​",
       "style": "IPY_MODEL_a26e91231bc94d578c78e3701aef083e",
       "value": "Iterations:"
      }
     },
     "ba727609c6484f068119273e437f405d": {
      "model_module": "@jupyter-widgets/base",
      "model_module_version": "1.2.0",
      "model_name": "LayoutModel",
      "state": {
       "_model_module": "@jupyter-widgets/base",
       "_model_module_version": "1.2.0",
       "_model_name": "LayoutModel",
       "_view_count": null,
       "_view_module": "@jupyter-widgets/base",
       "_view_module_version": "1.2.0",
       "_view_name": "LayoutView",
       "align_content": null,
       "align_items": null,
       "align_self": null,
       "border": null,
       "bottom": null,
       "display": null,
       "flex": null,
       "flex_flow": null,
       "grid_area": null,
       "grid_auto_columns": null,
       "grid_auto_flow": null,
       "grid_auto_rows": null,
       "grid_column": null,
       "grid_gap": null,
       "grid_row": null,
       "grid_template_areas": null,
       "grid_template_columns": null,
       "grid_template_rows": null,
       "height": null,
       "justify_content": null,
       "justify_items": null,
       "left": null,
       "margin": null,
       "max_height": null,
       "max_width": null,
       "min_height": null,
       "min_width": null,
       "object_fit": null,
       "object_position": null,
       "order": null,
       "overflow": null,
       "overflow_x": null,
       "overflow_y": null,
       "padding": null,
       "right": null,
       "top": null,
       "visibility": null,
       "width": "20px"
      }
     },
     "c20e845981aa42dfbcaf3418eb362b1f": {
      "model_module": "@jupyter-widgets/controls",
      "model_module_version": "1.5.0",
      "model_name": "DescriptionStyleModel",
      "state": {
       "_model_module": "@jupyter-widgets/controls",
       "_model_module_version": "1.5.0",
       "_model_name": "DescriptionStyleModel",
       "_view_count": null,
       "_view_module": "@jupyter-widgets/base",
       "_view_module_version": "1.2.0",
       "_view_name": "StyleView",
       "description_width": ""
      }
     },
     "c4c73e1ea23b4a349d224cbfa143d023": {
      "model_module": "@jupyter-widgets/controls",
      "model_module_version": "1.5.0",
      "model_name": "ProgressStyleModel",
      "state": {
       "_model_module": "@jupyter-widgets/controls",
       "_model_module_version": "1.5.0",
       "_model_name": "ProgressStyleModel",
       "_view_count": null,
       "_view_module": "@jupyter-widgets/base",
       "_view_module_version": "1.2.0",
       "_view_name": "StyleView",
       "bar_color": null,
       "description_width": ""
      }
     },
     "ce14a0bf23944d5590889d384fdd2bc6": {
      "model_module": "@jupyter-widgets/base",
      "model_module_version": "1.2.0",
      "model_name": "LayoutModel",
      "state": {
       "_model_module": "@jupyter-widgets/base",
       "_model_module_version": "1.2.0",
       "_model_name": "LayoutModel",
       "_view_count": null,
       "_view_module": "@jupyter-widgets/base",
       "_view_module_version": "1.2.0",
       "_view_name": "LayoutView",
       "align_content": null,
       "align_items": null,
       "align_self": null,
       "border": null,
       "bottom": null,
       "display": null,
       "flex": null,
       "flex_flow": null,
       "grid_area": null,
       "grid_auto_columns": null,
       "grid_auto_flow": null,
       "grid_auto_rows": null,
       "grid_column": null,
       "grid_gap": null,
       "grid_row": null,
       "grid_template_areas": null,
       "grid_template_columns": null,
       "grid_template_rows": null,
       "height": null,
       "justify_content": null,
       "justify_items": null,
       "left": null,
       "margin": null,
       "max_height": null,
       "max_width": null,
       "min_height": null,
       "min_width": null,
       "object_fit": null,
       "object_position": null,
       "order": null,
       "overflow": null,
       "overflow_x": null,
       "overflow_y": null,
       "padding": null,
       "right": null,
       "top": null,
       "visibility": null,
       "width": null
      }
     },
     "e1334f700d074f9cbf15ded68a48bc45": {
      "model_module": "@jupyter-widgets/controls",
      "model_module_version": "1.5.0",
      "model_name": "DescriptionStyleModel",
      "state": {
       "_model_module": "@jupyter-widgets/controls",
       "_model_module_version": "1.5.0",
       "_model_name": "DescriptionStyleModel",
       "_view_count": null,
       "_view_module": "@jupyter-widgets/base",
       "_view_module_version": "1.2.0",
       "_view_name": "StyleView",
       "description_width": ""
      }
     },
     "e2b05dbf254f4b8c872f616e8e7e53a4": {
      "model_module": "@jupyter-widgets/base",
      "model_module_version": "1.2.0",
      "model_name": "LayoutModel",
      "state": {
       "_model_module": "@jupyter-widgets/base",
       "_model_module_version": "1.2.0",
       "_model_name": "LayoutModel",
       "_view_count": null,
       "_view_module": "@jupyter-widgets/base",
       "_view_module_version": "1.2.0",
       "_view_name": "LayoutView",
       "align_content": null,
       "align_items": null,
       "align_self": null,
       "border": null,
       "bottom": null,
       "display": null,
       "flex": null,
       "flex_flow": null,
       "grid_area": null,
       "grid_auto_columns": null,
       "grid_auto_flow": null,
       "grid_auto_rows": null,
       "grid_column": null,
       "grid_gap": null,
       "grid_row": null,
       "grid_template_areas": null,
       "grid_template_columns": null,
       "grid_template_rows": null,
       "height": null,
       "justify_content": null,
       "justify_items": null,
       "left": null,
       "margin": null,
       "max_height": null,
       "max_width": null,
       "min_height": null,
       "min_width": null,
       "object_fit": null,
       "object_position": null,
       "order": null,
       "overflow": null,
       "overflow_x": null,
       "overflow_y": null,
       "padding": null,
       "right": null,
       "top": null,
       "visibility": null,
       "width": null
      }
     },
     "e7f02ca3cb974828a337d5d933fcd108": {
      "model_module": "@jupyter-widgets/controls",
      "model_module_version": "1.5.0",
      "model_name": "HBoxModel",
      "state": {
       "_dom_classes": [],
       "_model_module": "@jupyter-widgets/controls",
       "_model_module_version": "1.5.0",
       "_model_name": "HBoxModel",
       "_view_count": null,
       "_view_module": "@jupyter-widgets/controls",
       "_view_module_version": "1.5.0",
       "_view_name": "HBoxView",
       "box_style": "",
       "children": [
        "IPY_MODEL_1bc9860b6e3945d5b266bc5f309bf793",
        "IPY_MODEL_2f710c9b12a84115b07dd19581cdd251",
        "IPY_MODEL_7c937a8f647142d7a780b6ff9bbb276f"
       ],
       "layout": "IPY_MODEL_2dcad4fd95c84b26871799045b0cf5b1"
      }
     },
     "eb46ae1487f84488b57fd72e377668b9": {
      "model_module": "@jupyter-widgets/controls",
      "model_module_version": "1.5.0",
      "model_name": "HBoxModel",
      "state": {
       "_dom_classes": [],
       "_model_module": "@jupyter-widgets/controls",
       "_model_module_version": "1.5.0",
       "_model_name": "HBoxModel",
       "_view_count": null,
       "_view_module": "@jupyter-widgets/controls",
       "_view_module_version": "1.5.0",
       "_view_name": "HBoxView",
       "box_style": "",
       "children": [
        "IPY_MODEL_ae6052f13dd54ed480eac6371d33c9c4",
        "IPY_MODEL_7b4a632ce9f74e52b65c0a827e1b8439",
        "IPY_MODEL_a47210f8811d4b7ea7e918db327019a7"
       ],
       "layout": "IPY_MODEL_3f6ac45f07324d0aa8314dca68c88d3b"
      }
     },
     "f70ec74ea91a4b578a4a1ca87d1fb9dc": {
      "model_module": "@jupyter-widgets/base",
      "model_module_version": "1.2.0",
      "model_name": "LayoutModel",
      "state": {
       "_model_module": "@jupyter-widgets/base",
       "_model_module_version": "1.2.0",
       "_model_name": "LayoutModel",
       "_view_count": null,
       "_view_module": "@jupyter-widgets/base",
       "_view_module_version": "1.2.0",
       "_view_name": "LayoutView",
       "align_content": null,
       "align_items": null,
       "align_self": null,
       "border": null,
       "bottom": null,
       "display": null,
       "flex": null,
       "flex_flow": null,
       "grid_area": null,
       "grid_auto_columns": null,
       "grid_auto_flow": null,
       "grid_auto_rows": null,
       "grid_column": null,
       "grid_gap": null,
       "grid_row": null,
       "grid_template_areas": null,
       "grid_template_columns": null,
       "grid_template_rows": null,
       "height": null,
       "justify_content": null,
       "justify_items": null,
       "left": null,
       "margin": null,
       "max_height": null,
       "max_width": null,
       "min_height": null,
       "min_width": null,
       "object_fit": null,
       "object_position": null,
       "order": null,
       "overflow": null,
       "overflow_x": null,
       "overflow_y": null,
       "padding": null,
       "right": null,
       "top": null,
       "visibility": null,
       "width": null
      }
     },
     "f9cfcea27cfc43c4857300d0b2851974": {
      "model_module": "@jupyter-widgets/controls",
      "model_module_version": "1.5.0",
      "model_name": "HTMLModel",
      "state": {
       "_dom_classes": [],
       "_model_module": "@jupyter-widgets/controls",
       "_model_module_version": "1.5.0",
       "_model_name": "HTMLModel",
       "_view_count": null,
       "_view_module": "@jupyter-widgets/controls",
       "_view_module_version": "1.5.0",
       "_view_name": "HTMLView",
       "description": "",
       "description_tooltip": null,
       "layout": "IPY_MODEL_e2b05dbf254f4b8c872f616e8e7e53a4",
       "placeholder": "​",
       "style": "IPY_MODEL_42dd62a6d1c74569876a2564d457f440",
       "value": "0/? [00:00&lt;?, ?it/s]"
      }
     }
    },
    "version_major": 2,
    "version_minor": 0
   }
  }
 },
 "nbformat": 4,
 "nbformat_minor": 1
}
