{
 "cells": [
  {
   "cell_type": "markdown",
   "metadata": {},
   "source": [
    "# Reading a Configuration\n",
    "\n",
    "This notebook demonstrates how TARDIS reads a configuration file or a configuration dictionary and creates an instance of the `Configuration` class."
   ]
  },
  {
   "cell_type": "code",
   "execution_count": 1,
   "metadata": {
    "ExecuteTime": {
     "end_time": "2018-07-18T16:56:52.848130Z",
     "start_time": "2018-07-18T16:56:52.844292Z"
    },
    "execution": {
     "iopub.execute_input": "2024-07-11T06:11:55.573258Z",
     "iopub.status.busy": "2024-07-11T06:11:55.573038Z",
     "iopub.status.idle": "2024-07-11T06:11:58.146366Z",
     "shell.execute_reply": "2024-07-11T06:11:58.145702Z"
    }
   },
   "outputs": [
    {
     "data": {
      "application/vnd.jupyter.widget-view+json": {
       "model_id": "c9f65911e22f4184926eb932aebd4876",
       "version_major": 2,
       "version_minor": 0
      },
      "text/plain": [
       "Iterations:          0/? [00:00<?, ?it/s]"
      ]
     },
     "metadata": {},
     "output_type": "display_data"
    },
    {
     "data": {
      "application/vnd.jupyter.widget-view+json": {
       "model_id": "47ea196c65224c7cb379f3f24c578c14",
       "version_major": 2,
       "version_minor": 0
      },
      "text/plain": [
       "Packets:             0/? [00:00<?, ?it/s]"
      ]
     },
     "metadata": {},
     "output_type": "display_data"
    }
   ],
   "source": [
    "from tardis.io.configuration.config_reader import Configuration"
   ]
  },
  {
   "cell_type": "markdown",
   "metadata": {},
   "source": [
    "The configuration can be read this way. It will be validated by the json-schema schemas (including filling out default configuration options that had not been specified)."
   ]
  },
  {
   "cell_type": "code",
   "execution_count": 2,
   "metadata": {
    "ExecuteTime": {
     "end_time": "2018-07-18T16:59:08.589550Z",
     "start_time": "2018-07-18T16:59:08.305384Z"
    },
    "execution": {
     "iopub.execute_input": "2024-07-11T06:11:58.150743Z",
     "iopub.status.busy": "2024-07-11T06:11:58.150414Z",
     "iopub.status.idle": "2024-07-11T06:11:58.313827Z",
     "shell.execute_reply": "2024-07-11T06:11:58.313230Z"
    }
   },
   "outputs": [],
   "source": [
    "conf = Configuration.from_yaml('tardis_example.yml')"
   ]
  },
  {
   "cell_type": "markdown",
   "metadata": {},
   "source": [
    "Despite the very simple nature of tardis_example.yml, the output does contain all the default values"
   ]
  },
  {
   "cell_type": "code",
   "execution_count": 3,
   "metadata": {
    "ExecuteTime": {
     "end_time": "2018-07-18T17:02:54.736144Z",
     "start_time": "2018-07-18T17:02:54.729478Z"
    },
    "execution": {
     "iopub.execute_input": "2024-07-11T06:11:58.317738Z",
     "iopub.status.busy": "2024-07-11T06:11:58.316632Z",
     "iopub.status.idle": "2024-07-11T06:11:58.329259Z",
     "shell.execute_reply": "2024-07-11T06:11:58.328676Z"
    }
   },
   "outputs": [
    {
     "data": {
      "text/plain": [
       "{'tardis_config_version': 'v1.0',\n",
       " 'supernova': {'luminosity_requested': <Quantity 1.05927636e+43 erg / s>,\n",
       "  'time_explosion': <Quantity 13. d>,\n",
       "  'luminosity_wavelength_start': <Quantity 0. Angstrom>,\n",
       "  'luminosity_wavelength_end': <Quantity inf Angstrom>},\n",
       " 'atom_data': 'kurucz_cd23_chianti_H_He.h5',\n",
       " 'model': {'structure': {'type': 'specific',\n",
       "   'velocity': {'start': <Quantity 11000. km / s>,\n",
       "    'stop': <Quantity 20000. km / s>,\n",
       "    'num': 20},\n",
       "   'density': {'type': 'branch85_w7',\n",
       "    'w7_time_0': <Quantity 0.00023148 d>,\n",
       "    'w7_rho_0': <Quantity 3.e+29 g / cm3>,\n",
       "    'w7_v_0': <Quantity 1. km / s>}},\n",
       "  'abundances': {'type': 'uniform',\n",
       "   'O': 0.19,\n",
       "   'Mg': 0.03,\n",
       "   'Si': 0.52,\n",
       "   'S': 0.19,\n",
       "   'Ar': 0.04,\n",
       "   'Ca': 0.03,\n",
       "   'model_isotope_time_0': <Quantity 0. s>}},\n",
       " 'plasma': {'disable_electron_scattering': False,\n",
       "  'ionization': 'lte',\n",
       "  'excitation': 'lte',\n",
       "  'radiative_rates_type': 'dilute-blackbody',\n",
       "  'line_interaction_type': 'macroatom',\n",
       "  'initial_t_inner': <Quantity -1. K>,\n",
       "  'initial_t_rad': <Quantity -1. K>,\n",
       "  'disable_line_scattering': False,\n",
       "  'w_epsilon': 1e-10,\n",
       "  'nlte': {'species': [],\n",
       "   'coronal_approximation': False,\n",
       "   'classical_nebular': False},\n",
       "  'continuum_interaction': {'species': [],\n",
       "   'enable_adiabatic_cooling': False,\n",
       "   'enable_two_photon_decay': False},\n",
       "  'helium_treatment': 'none',\n",
       "  'heating_rate_data_file': 'none',\n",
       "  'link_t_rad_t_electron': 0.9,\n",
       "  'nlte_ionization_species': [],\n",
       "  'nlte_excitation_species': [],\n",
       "  'nlte_solver': 'root'},\n",
       " 'montecarlo': {'seed': 23111963,\n",
       "  'no_of_packets': 40000.0,\n",
       "  'iterations': 20,\n",
       "  'nthreads': 1,\n",
       "  'last_no_of_packets': 100000.0,\n",
       "  'no_of_virtual_packets': 10,\n",
       "  'convergence_strategy': {'type': 'damped',\n",
       "   'damping_constant': 1.0,\n",
       "   'threshold': 0.05,\n",
       "   'fraction': 0.8,\n",
       "   'hold_iterations': 3,\n",
       "   't_inner': {'damping_constant': 0.5, 'type': 'damped', 'threshold': 0.05},\n",
       "   'stop_if_converged': False,\n",
       "   'lock_t_inner_cycles': 1,\n",
       "   't_inner_update_exponent': -0.5,\n",
       "   't_rad': {'damping_constant': 1.0, 'threshold': 0.05, 'type': 'damped'},\n",
       "   'w': {'damping_constant': 1.0, 'threshold': 0.05, 'type': 'damped'}},\n",
       "  'virtual_spectrum_spawn_range': {'start': <Quantity 1. Angstrom>,\n",
       "   'end': <Quantity inf Angstrom>},\n",
       "  'enable_full_relativity': False,\n",
       "  'enable_nonhomologous_expansion': False,\n",
       "  'tracking': {'track_rpacket': False, 'initial_array_length': 10},\n",
       "  'debug_packets': False,\n",
       "  'logger_buffer': 1},\n",
       " 'spectrum': {'start': <Quantity 500. Angstrom>,\n",
       "  'stop': <Quantity 20000. Angstrom>,\n",
       "  'num': 10000,\n",
       "  'method': 'virtual',\n",
       "  'integrated': {'points': 1000, 'interpolate_shells': 0, 'compute': 'CPU'},\n",
       "  'virtual': {'tau_russian': 10.0,\n",
       "   'survival_probability': 0.0,\n",
       "   'enable_biasing': False,\n",
       "   'virtual_packet_logging': False}},\n",
       " 'config_dirname': ''}"
      ]
     },
     "execution_count": 3,
     "metadata": {},
     "output_type": "execute_result"
    }
   ],
   "source": [
    "conf"
   ]
  },
  {
   "cell_type": "markdown",
   "metadata": {},
   "source": [
    "Values can either be accessed using `.`:"
   ]
  },
  {
   "cell_type": "code",
   "execution_count": 4,
   "metadata": {
    "execution": {
     "iopub.execute_input": "2024-07-11T06:11:58.332566Z",
     "iopub.status.busy": "2024-07-11T06:11:58.332126Z",
     "iopub.status.idle": "2024-07-11T06:11:58.338328Z",
     "shell.execute_reply": "2024-07-11T06:11:58.337835Z"
    }
   },
   "outputs": [
    {
     "data": {
      "text/latex": [
       "$11000 \\; \\mathrm{\\frac{km}{s}}$"
      ],
      "text/plain": [
       "<Quantity 11000. km / s>"
      ]
     },
     "execution_count": 4,
     "metadata": {},
     "output_type": "execute_result"
    }
   ],
   "source": [
    "conf.model.structure.velocity.start"
   ]
  },
  {
   "cell_type": "markdown",
   "metadata": {},
   "source": [
    "or by treating the configuration as a dictionary:"
   ]
  },
  {
   "cell_type": "code",
   "execution_count": 5,
   "metadata": {
    "execution": {
     "iopub.execute_input": "2024-07-11T06:11:58.340829Z",
     "iopub.status.busy": "2024-07-11T06:11:58.340622Z",
     "iopub.status.idle": "2024-07-11T06:11:58.346355Z",
     "shell.execute_reply": "2024-07-11T06:11:58.345861Z"
    }
   },
   "outputs": [
    {
     "data": {
      "text/plain": [
       "1.0"
      ]
     },
     "execution_count": 5,
     "metadata": {},
     "output_type": "execute_result"
    }
   ],
   "source": [
    "conf['montecarlo']['convergence_strategy']['damping_constant']"
   ]
  },
  {
   "cell_type": "markdown",
   "metadata": {},
   "source": [
    "Similarly to how they are accessed, entries in the configuration can be edited. For example,"
   ]
  },
  {
   "cell_type": "code",
   "execution_count": 6,
   "metadata": {
    "execution": {
     "iopub.execute_input": "2024-07-11T06:11:58.349101Z",
     "iopub.status.busy": "2024-07-11T06:11:58.348695Z",
     "iopub.status.idle": "2024-07-11T06:11:58.351783Z",
     "shell.execute_reply": "2024-07-11T06:11:58.351185Z"
    }
   },
   "outputs": [],
   "source": [
    "conf['montecarlo']['convergence_strategy']['damping_constant'] = 0.3"
   ]
  },
  {
   "cell_type": "markdown",
   "metadata": {},
   "source": [
    "sets that entry of the configuration to 0.3:"
   ]
  },
  {
   "cell_type": "code",
   "execution_count": 7,
   "metadata": {
    "execution": {
     "iopub.execute_input": "2024-07-11T06:11:58.354255Z",
     "iopub.status.busy": "2024-07-11T06:11:58.353878Z",
     "iopub.status.idle": "2024-07-11T06:11:58.359119Z",
     "shell.execute_reply": "2024-07-11T06:11:58.358604Z"
    }
   },
   "outputs": [
    {
     "data": {
      "text/plain": [
       "0.3"
      ]
     },
     "execution_count": 7,
     "metadata": {},
     "output_type": "execute_result"
    }
   ],
   "source": [
    "conf['montecarlo']['convergence_strategy']['damping_constant']"
   ]
  },
  {
   "cell_type": "markdown",
   "metadata": {},
   "source": [
    "This can be done using `.` as well.\n",
    "\n",
    "You can also read a configuration from a dictionary. For example:"
   ]
  },
  {
   "cell_type": "code",
   "execution_count": 8,
   "metadata": {
    "execution": {
     "iopub.execute_input": "2024-07-11T06:11:58.361930Z",
     "iopub.status.busy": "2024-07-11T06:11:58.361559Z",
     "iopub.status.idle": "2024-07-11T06:11:58.366500Z",
     "shell.execute_reply": "2024-07-11T06:11:58.366002Z"
    }
   },
   "outputs": [],
   "source": [
    "from astropy import units as u\n",
    "\n",
    "conf_dict = {'tardis_config_version': 'v1.0',\n",
    " 'supernova': {'luminosity_requested': 1.05e+43 * u.erg / u.s,\n",
    "  'time_explosion': 13 * u.day},\n",
    " 'atom_data': 'kurucz_cd23_chianti_H_He.h5',\n",
    " 'model': {'structure': {'type': 'specific',\n",
    "   'velocity': {'start': 11000. * u.km / u.s,\n",
    "    'stop': 20000. * u.km / u.s,\n",
    "    'num': 20},\n",
    "   'density': {'type': 'branch85_w7'}},\n",
    "  'abundances': {'type': 'uniform',\n",
    "   'O': 0.19,\n",
    "   'Mg': 0.03,\n",
    "   'Si': 0.52,\n",
    "   'S': 0.19,\n",
    "   'Ar': 0.04,\n",
    "   'Ca': 0.03}},\n",
    " 'plasma': {'ionization': 'lte',\n",
    "  'excitation': 'lte',\n",
    "  'radiative_rates_type': 'dilute-blackbody',\n",
    "  'line_interaction_type': 'macroatom',},\n",
    " 'montecarlo': {'seed': 23111963,\n",
    "  'no_of_packets': 40000.0,\n",
    "  'iterations': 20,\n",
    "  'last_no_of_packets': 100000.0,\n",
    "  'no_of_virtual_packets': 10,},\n",
    " 'spectrum': {'start': 500. * u.Angstrom,\n",
    "  'stop': 20000. * u.Angstrom,\n",
    "  'num': 10000,}}"
   ]
  },
  {
   "cell_type": "code",
   "execution_count": 9,
   "metadata": {
    "execution": {
     "iopub.execute_input": "2024-07-11T06:11:58.369163Z",
     "iopub.status.busy": "2024-07-11T06:11:58.368941Z",
     "iopub.status.idle": "2024-07-11T06:11:58.477577Z",
     "shell.execute_reply": "2024-07-11T06:11:58.476961Z"
    }
   },
   "outputs": [
    {
     "data": {
      "text/plain": [
       "{'tardis_config_version': 'v1.0',\n",
       " 'supernova': {'luminosity_requested': <Quantity 1.05e+43 erg / s>,\n",
       "  'time_explosion': <Quantity 13. d>,\n",
       "  'luminosity_wavelength_start': <Quantity 0. Angstrom>,\n",
       "  'luminosity_wavelength_end': <Quantity inf Angstrom>},\n",
       " 'atom_data': 'kurucz_cd23_chianti_H_He.h5',\n",
       " 'model': {'structure': {'type': 'specific',\n",
       "   'velocity': {'start': <Quantity 11000. km / s>,\n",
       "    'stop': <Quantity 20000. km / s>,\n",
       "    'num': 20},\n",
       "   'density': {'type': 'branch85_w7',\n",
       "    'w7_time_0': <Quantity 0.00023148 d>,\n",
       "    'w7_rho_0': <Quantity 3.e+29 g / cm3>,\n",
       "    'w7_v_0': <Quantity 1. km / s>}},\n",
       "  'abundances': {'type': 'uniform',\n",
       "   'O': 0.19,\n",
       "   'Mg': 0.03,\n",
       "   'Si': 0.52,\n",
       "   'S': 0.19,\n",
       "   'Ar': 0.04,\n",
       "   'Ca': 0.03,\n",
       "   'model_isotope_time_0': <Quantity 0. s>}},\n",
       " 'plasma': {'ionization': 'lte',\n",
       "  'excitation': 'lte',\n",
       "  'radiative_rates_type': 'dilute-blackbody',\n",
       "  'line_interaction_type': 'macroatom',\n",
       "  'initial_t_inner': <Quantity -1. K>,\n",
       "  'initial_t_rad': <Quantity -1. K>,\n",
       "  'disable_electron_scattering': False,\n",
       "  'disable_line_scattering': False,\n",
       "  'w_epsilon': 1e-10,\n",
       "  'nlte': {'species': [],\n",
       "   'coronal_approximation': False,\n",
       "   'classical_nebular': False},\n",
       "  'continuum_interaction': {'species': [],\n",
       "   'enable_adiabatic_cooling': False,\n",
       "   'enable_two_photon_decay': False},\n",
       "  'helium_treatment': 'none',\n",
       "  'heating_rate_data_file': 'none',\n",
       "  'link_t_rad_t_electron': 0.9,\n",
       "  'nlte_ionization_species': [],\n",
       "  'nlte_excitation_species': [],\n",
       "  'nlte_solver': 'root'},\n",
       " 'montecarlo': {'seed': 23111963,\n",
       "  'no_of_packets': 40000.0,\n",
       "  'iterations': 20,\n",
       "  'last_no_of_packets': 100000.0,\n",
       "  'no_of_virtual_packets': 10,\n",
       "  'nthreads': 1,\n",
       "  'virtual_spectrum_spawn_range': {'start': <Quantity 1. Angstrom>,\n",
       "   'end': <Quantity inf Angstrom>},\n",
       "  'convergence_strategy': {'type': 'damped',\n",
       "   'stop_if_converged': False,\n",
       "   'fraction': 0.8,\n",
       "   'hold_iterations': 3,\n",
       "   'damping_constant': 1.0,\n",
       "   'threshold': 0.05,\n",
       "   'lock_t_inner_cycles': 1,\n",
       "   't_inner_update_exponent': -0.5,\n",
       "   't_inner': {'damping_constant': 1.0, 'threshold': 0.05, 'type': 'damped'},\n",
       "   't_rad': {'damping_constant': 1.0, 'threshold': 0.05, 'type': 'damped'},\n",
       "   'w': {'damping_constant': 1.0, 'threshold': 0.05, 'type': 'damped'}},\n",
       "  'enable_full_relativity': False,\n",
       "  'enable_nonhomologous_expansion': False,\n",
       "  'tracking': {'track_rpacket': False, 'initial_array_length': 10},\n",
       "  'debug_packets': False,\n",
       "  'logger_buffer': 1},\n",
       " 'spectrum': {'start': <Quantity 500. Angstrom>,\n",
       "  'stop': <Quantity 20000. Angstrom>,\n",
       "  'num': 10000,\n",
       "  'method': 'virtual',\n",
       "  'integrated': {'points': 1000, 'interpolate_shells': 0, 'compute': 'CPU'},\n",
       "  'virtual': {'tau_russian': 10.0,\n",
       "   'survival_probability': 0.0,\n",
       "   'enable_biasing': False,\n",
       "   'virtual_packet_logging': False}},\n",
       " 'config_dirname': ''}"
      ]
     },
     "execution_count": 9,
     "metadata": {},
     "output_type": "execute_result"
    }
   ],
   "source": [
    "conf2 = Configuration.from_config_dict(conf_dict)\n",
    "conf2"
   ]
  },
  {
   "cell_type": "markdown",
   "metadata": {},
   "source": [
    "Notice that the `Configuration` object once again has all the default values filled in.\n",
    "\n",
    "<div class=\"alert alert-info\">\n",
    "\n",
    "Note\n",
    "\n",
    "In most cases, we strongly recommend using a configuration file as opposed to a configuration dictionary.\n",
    "</div>"
   ]
  }
 ],
 "metadata": {
  "kernelspec": {
   "display_name": "Python 3",
   "language": "python",
   "name": "python3"
  },
  "language_info": {
   "codemirror_mode": {
    "name": "ipython",
    "version": 3
   },
   "file_extension": ".py",
   "mimetype": "text/x-python",
   "name": "python",
   "nbconvert_exporter": "python",
   "pygments_lexer": "ipython3",
   "version": "3.12.4"
  },
  "toc": {
   "nav_menu": {},
   "number_sections": true,
   "sideBar": true,
   "skip_h1_title": false,
   "toc_cell": false,
   "toc_position": {},
   "toc_section_display": "block",
   "toc_window_display": false
  },
  "widgets": {
   "application/vnd.jupyter.widget-state+json": {
    "state": {
     "1205fcefa00049c797667de7f40374d6": {
      "model_module": "@jupyter-widgets/base",
      "model_module_version": "1.2.0",
      "model_name": "LayoutModel",
      "state": {
       "_model_module": "@jupyter-widgets/base",
       "_model_module_version": "1.2.0",
       "_model_name": "LayoutModel",
       "_view_count": null,
       "_view_module": "@jupyter-widgets/base",
       "_view_module_version": "1.2.0",
       "_view_name": "LayoutView",
       "align_content": null,
       "align_items": null,
       "align_self": null,
       "border": null,
       "bottom": null,
       "display": null,
       "flex": null,
       "flex_flow": null,
       "grid_area": null,
       "grid_auto_columns": null,
       "grid_auto_flow": null,
       "grid_auto_rows": null,
       "grid_column": null,
       "grid_gap": null,
       "grid_row": null,
       "grid_template_areas": null,
       "grid_template_columns": null,
       "grid_template_rows": null,
       "height": null,
       "justify_content": null,
       "justify_items": null,
       "left": null,
       "margin": null,
       "max_height": null,
       "max_width": null,
       "min_height": null,
       "min_width": null,
       "object_fit": null,
       "object_position": null,
       "order": null,
       "overflow": null,
       "overflow_x": null,
       "overflow_y": null,
       "padding": null,
       "right": null,
       "top": null,
       "visibility": null,
       "width": "20px"
      }
     },
     "14b0edee40014085aab7b38d665cfe09": {
      "model_module": "@jupyter-widgets/controls",
      "model_module_version": "1.5.0",
      "model_name": "HTMLModel",
      "state": {
       "_dom_classes": [],
       "_model_module": "@jupyter-widgets/controls",
       "_model_module_version": "1.5.0",
       "_model_name": "HTMLModel",
       "_view_count": null,
       "_view_module": "@jupyter-widgets/controls",
       "_view_module_version": "1.5.0",
       "_view_name": "HTMLView",
       "description": "",
       "description_tooltip": null,
       "layout": "IPY_MODEL_394264785a4a40e2a5768287ad9fc9bd",
       "placeholder": "​",
       "style": "IPY_MODEL_7e356e8c924145489424d68297e4de53",
       "value": "0/? [00:00&lt;?, ?it/s]"
      }
     },
     "1b5e621399ab4f3b971bbe5794c8ed86": {
      "model_module": "@jupyter-widgets/controls",
      "model_module_version": "1.5.0",
      "model_name": "DescriptionStyleModel",
      "state": {
       "_model_module": "@jupyter-widgets/controls",
       "_model_module_version": "1.5.0",
       "_model_name": "DescriptionStyleModel",
       "_view_count": null,
       "_view_module": "@jupyter-widgets/base",
       "_view_module_version": "1.2.0",
       "_view_name": "StyleView",
       "description_width": ""
      }
     },
     "1ca11758b065479891b106ae0342f4d0": {
      "model_module": "@jupyter-widgets/base",
      "model_module_version": "1.2.0",
      "model_name": "LayoutModel",
      "state": {
       "_model_module": "@jupyter-widgets/base",
       "_model_module_version": "1.2.0",
       "_model_name": "LayoutModel",
       "_view_count": null,
       "_view_module": "@jupyter-widgets/base",
       "_view_module_version": "1.2.0",
       "_view_name": "LayoutView",
       "align_content": null,
       "align_items": null,
       "align_self": null,
       "border": null,
       "bottom": null,
       "display": null,
       "flex": null,
       "flex_flow": null,
       "grid_area": null,
       "grid_auto_columns": null,
       "grid_auto_flow": null,
       "grid_auto_rows": null,
       "grid_column": null,
       "grid_gap": null,
       "grid_row": null,
       "grid_template_areas": null,
       "grid_template_columns": null,
       "grid_template_rows": null,
       "height": null,
       "justify_content": null,
       "justify_items": null,
       "left": null,
       "margin": null,
       "max_height": null,
       "max_width": null,
       "min_height": null,
       "min_width": null,
       "object_fit": null,
       "object_position": null,
       "order": null,
       "overflow": null,
       "overflow_x": null,
       "overflow_y": null,
       "padding": null,
       "right": null,
       "top": null,
       "visibility": null,
       "width": null
      }
     },
     "394264785a4a40e2a5768287ad9fc9bd": {
      "model_module": "@jupyter-widgets/base",
      "model_module_version": "1.2.0",
      "model_name": "LayoutModel",
      "state": {
       "_model_module": "@jupyter-widgets/base",
       "_model_module_version": "1.2.0",
       "_model_name": "LayoutModel",
       "_view_count": null,
       "_view_module": "@jupyter-widgets/base",
       "_view_module_version": "1.2.0",
       "_view_name": "LayoutView",
       "align_content": null,
       "align_items": null,
       "align_self": null,
       "border": null,
       "bottom": null,
       "display": null,
       "flex": null,
       "flex_flow": null,
       "grid_area": null,
       "grid_auto_columns": null,
       "grid_auto_flow": null,
       "grid_auto_rows": null,
       "grid_column": null,
       "grid_gap": null,
       "grid_row": null,
       "grid_template_areas": null,
       "grid_template_columns": null,
       "grid_template_rows": null,
       "height": null,
       "justify_content": null,
       "justify_items": null,
       "left": null,
       "margin": null,
       "max_height": null,
       "max_width": null,
       "min_height": null,
       "min_width": null,
       "object_fit": null,
       "object_position": null,
       "order": null,
       "overflow": null,
       "overflow_x": null,
       "overflow_y": null,
       "padding": null,
       "right": null,
       "top": null,
       "visibility": null,
       "width": null
      }
     },
     "47ea196c65224c7cb379f3f24c578c14": {
      "model_module": "@jupyter-widgets/controls",
      "model_module_version": "1.5.0",
      "model_name": "HBoxModel",
      "state": {
       "_dom_classes": [],
       "_model_module": "@jupyter-widgets/controls",
       "_model_module_version": "1.5.0",
       "_model_name": "HBoxModel",
       "_view_count": null,
       "_view_module": "@jupyter-widgets/controls",
       "_view_module_version": "1.5.0",
       "_view_name": "HBoxView",
       "box_style": "",
       "children": [
        "IPY_MODEL_cb624cf040ca46029d589a3d4f3df22f",
        "IPY_MODEL_66c29f8ecd894244ac683b5fd438041b",
        "IPY_MODEL_14b0edee40014085aab7b38d665cfe09"
       ],
       "layout": "IPY_MODEL_8da5d5f45835477a86856316f93d40e0"
      }
     },
     "59de9d5455cf4f66b280102b6fbc8f0d": {
      "model_module": "@jupyter-widgets/controls",
      "model_module_version": "1.5.0",
      "model_name": "FloatProgressModel",
      "state": {
       "_dom_classes": [],
       "_model_module": "@jupyter-widgets/controls",
       "_model_module_version": "1.5.0",
       "_model_name": "FloatProgressModel",
       "_view_count": null,
       "_view_module": "@jupyter-widgets/controls",
       "_view_module_version": "1.5.0",
       "_view_name": "ProgressView",
       "bar_style": "info",
       "description": "",
       "description_tooltip": null,
       "layout": "IPY_MODEL_97f2c53935b248498c1164ac422903fe",
       "max": 1.0,
       "min": 0.0,
       "orientation": "horizontal",
       "style": "IPY_MODEL_d6e46a5a86b042c991eec94eb0494aae",
       "value": 0.0
      }
     },
     "5c40abe285544fb4ae4634a76e5b3834": {
      "model_module": "@jupyter-widgets/controls",
      "model_module_version": "1.5.0",
      "model_name": "ProgressStyleModel",
      "state": {
       "_model_module": "@jupyter-widgets/controls",
       "_model_module_version": "1.5.0",
       "_model_name": "ProgressStyleModel",
       "_view_count": null,
       "_view_module": "@jupyter-widgets/base",
       "_view_module_version": "1.2.0",
       "_view_name": "StyleView",
       "bar_color": null,
       "description_width": ""
      }
     },
     "66c29f8ecd894244ac683b5fd438041b": {
      "model_module": "@jupyter-widgets/controls",
      "model_module_version": "1.5.0",
      "model_name": "FloatProgressModel",
      "state": {
       "_dom_classes": [],
       "_model_module": "@jupyter-widgets/controls",
       "_model_module_version": "1.5.0",
       "_model_name": "FloatProgressModel",
       "_view_count": null,
       "_view_module": "@jupyter-widgets/controls",
       "_view_module_version": "1.5.0",
       "_view_name": "ProgressView",
       "bar_style": "info",
       "description": "",
       "description_tooltip": null,
       "layout": "IPY_MODEL_1205fcefa00049c797667de7f40374d6",
       "max": 1.0,
       "min": 0.0,
       "orientation": "horizontal",
       "style": "IPY_MODEL_5c40abe285544fb4ae4634a76e5b3834",
       "value": 0.0
      }
     },
     "68e5e80d408b4c55af7d35ac1528d1e0": {
      "model_module": "@jupyter-widgets/controls",
      "model_module_version": "1.5.0",
      "model_name": "HTMLModel",
      "state": {
       "_dom_classes": [],
       "_model_module": "@jupyter-widgets/controls",
       "_model_module_version": "1.5.0",
       "_model_name": "HTMLModel",
       "_view_count": null,
       "_view_module": "@jupyter-widgets/controls",
       "_view_module_version": "1.5.0",
       "_view_name": "HTMLView",
       "description": "",
       "description_tooltip": null,
       "layout": "IPY_MODEL_1ca11758b065479891b106ae0342f4d0",
       "placeholder": "​",
       "style": "IPY_MODEL_1b5e621399ab4f3b971bbe5794c8ed86",
       "value": "Iterations:"
      }
     },
     "6a63e690c9674143bc4a45fa42ada69b": {
      "model_module": "@jupyter-widgets/controls",
      "model_module_version": "1.5.0",
      "model_name": "DescriptionStyleModel",
      "state": {
       "_model_module": "@jupyter-widgets/controls",
       "_model_module_version": "1.5.0",
       "_model_name": "DescriptionStyleModel",
       "_view_count": null,
       "_view_module": "@jupyter-widgets/base",
       "_view_module_version": "1.2.0",
       "_view_name": "StyleView",
       "description_width": ""
      }
     },
     "7e356e8c924145489424d68297e4de53": {
      "model_module": "@jupyter-widgets/controls",
      "model_module_version": "1.5.0",
      "model_name": "DescriptionStyleModel",
      "state": {
       "_model_module": "@jupyter-widgets/controls",
       "_model_module_version": "1.5.0",
       "_model_name": "DescriptionStyleModel",
       "_view_count": null,
       "_view_module": "@jupyter-widgets/base",
       "_view_module_version": "1.2.0",
       "_view_name": "StyleView",
       "description_width": ""
      }
     },
     "7e3ffe12bc7743b681a23337f7a9db0d": {
      "model_module": "@jupyter-widgets/controls",
      "model_module_version": "1.5.0",
      "model_name": "HTMLModel",
      "state": {
       "_dom_classes": [],
       "_model_module": "@jupyter-widgets/controls",
       "_model_module_version": "1.5.0",
       "_model_name": "HTMLModel",
       "_view_count": null,
       "_view_module": "@jupyter-widgets/controls",
       "_view_module_version": "1.5.0",
       "_view_name": "HTMLView",
       "description": "",
       "description_tooltip": null,
       "layout": "IPY_MODEL_dcddff319ddf4f67b4a335218df51c6b",
       "placeholder": "​",
       "style": "IPY_MODEL_6a63e690c9674143bc4a45fa42ada69b",
       "value": "0/? [00:00&lt;?, ?it/s]"
      }
     },
     "8da5d5f45835477a86856316f93d40e0": {
      "model_module": "@jupyter-widgets/base",
      "model_module_version": "1.2.0",
      "model_name": "LayoutModel",
      "state": {
       "_model_module": "@jupyter-widgets/base",
       "_model_module_version": "1.2.0",
       "_model_name": "LayoutModel",
       "_view_count": null,
       "_view_module": "@jupyter-widgets/base",
       "_view_module_version": "1.2.0",
       "_view_name": "LayoutView",
       "align_content": null,
       "align_items": null,
       "align_self": null,
       "border": null,
       "bottom": null,
       "display": null,
       "flex": null,
       "flex_flow": null,
       "grid_area": null,
       "grid_auto_columns": null,
       "grid_auto_flow": null,
       "grid_auto_rows": null,
       "grid_column": null,
       "grid_gap": null,
       "grid_row": null,
       "grid_template_areas": null,
       "grid_template_columns": null,
       "grid_template_rows": null,
       "height": null,
       "justify_content": null,
       "justify_items": null,
       "left": null,
       "margin": null,
       "max_height": null,
       "max_width": null,
       "min_height": null,
       "min_width": null,
       "object_fit": null,
       "object_position": null,
       "order": null,
       "overflow": null,
       "overflow_x": null,
       "overflow_y": null,
       "padding": null,
       "right": null,
       "top": null,
       "visibility": null,
       "width": null
      }
     },
     "97f2c53935b248498c1164ac422903fe": {
      "model_module": "@jupyter-widgets/base",
      "model_module_version": "1.2.0",
      "model_name": "LayoutModel",
      "state": {
       "_model_module": "@jupyter-widgets/base",
       "_model_module_version": "1.2.0",
       "_model_name": "LayoutModel",
       "_view_count": null,
       "_view_module": "@jupyter-widgets/base",
       "_view_module_version": "1.2.0",
       "_view_name": "LayoutView",
       "align_content": null,
       "align_items": null,
       "align_self": null,
       "border": null,
       "bottom": null,
       "display": null,
       "flex": null,
       "flex_flow": null,
       "grid_area": null,
       "grid_auto_columns": null,
       "grid_auto_flow": null,
       "grid_auto_rows": null,
       "grid_column": null,
       "grid_gap": null,
       "grid_row": null,
       "grid_template_areas": null,
       "grid_template_columns": null,
       "grid_template_rows": null,
       "height": null,
       "justify_content": null,
       "justify_items": null,
       "left": null,
       "margin": null,
       "max_height": null,
       "max_width": null,
       "min_height": null,
       "min_width": null,
       "object_fit": null,
       "object_position": null,
       "order": null,
       "overflow": null,
       "overflow_x": null,
       "overflow_y": null,
       "padding": null,
       "right": null,
       "top": null,
       "visibility": null,
       "width": "20px"
      }
     },
     "9e7921c41a724e4a973ec30779e40678": {
      "model_module": "@jupyter-widgets/base",
      "model_module_version": "1.2.0",
      "model_name": "LayoutModel",
      "state": {
       "_model_module": "@jupyter-widgets/base",
       "_model_module_version": "1.2.0",
       "_model_name": "LayoutModel",
       "_view_count": null,
       "_view_module": "@jupyter-widgets/base",
       "_view_module_version": "1.2.0",
       "_view_name": "LayoutView",
       "align_content": null,
       "align_items": null,
       "align_self": null,
       "border": null,
       "bottom": null,
       "display": null,
       "flex": null,
       "flex_flow": null,
       "grid_area": null,
       "grid_auto_columns": null,
       "grid_auto_flow": null,
       "grid_auto_rows": null,
       "grid_column": null,
       "grid_gap": null,
       "grid_row": null,
       "grid_template_areas": null,
       "grid_template_columns": null,
       "grid_template_rows": null,
       "height": null,
       "justify_content": null,
       "justify_items": null,
       "left": null,
       "margin": null,
       "max_height": null,
       "max_width": null,
       "min_height": null,
       "min_width": null,
       "object_fit": null,
       "object_position": null,
       "order": null,
       "overflow": null,
       "overflow_x": null,
       "overflow_y": null,
       "padding": null,
       "right": null,
       "top": null,
       "visibility": null,
       "width": null
      }
     },
     "ac2506453e8e40e4a3d31fdb173bdadb": {
      "model_module": "@jupyter-widgets/controls",
      "model_module_version": "1.5.0",
      "model_name": "DescriptionStyleModel",
      "state": {
       "_model_module": "@jupyter-widgets/controls",
       "_model_module_version": "1.5.0",
       "_model_name": "DescriptionStyleModel",
       "_view_count": null,
       "_view_module": "@jupyter-widgets/base",
       "_view_module_version": "1.2.0",
       "_view_name": "StyleView",
       "description_width": ""
      }
     },
     "c9f65911e22f4184926eb932aebd4876": {
      "model_module": "@jupyter-widgets/controls",
      "model_module_version": "1.5.0",
      "model_name": "HBoxModel",
      "state": {
       "_dom_classes": [],
       "_model_module": "@jupyter-widgets/controls",
       "_model_module_version": "1.5.0",
       "_model_name": "HBoxModel",
       "_view_count": null,
       "_view_module": "@jupyter-widgets/controls",
       "_view_module_version": "1.5.0",
       "_view_name": "HBoxView",
       "box_style": "",
       "children": [
        "IPY_MODEL_68e5e80d408b4c55af7d35ac1528d1e0",
        "IPY_MODEL_59de9d5455cf4f66b280102b6fbc8f0d",
        "IPY_MODEL_7e3ffe12bc7743b681a23337f7a9db0d"
       ],
       "layout": "IPY_MODEL_9e7921c41a724e4a973ec30779e40678"
      }
     },
     "cb624cf040ca46029d589a3d4f3df22f": {
      "model_module": "@jupyter-widgets/controls",
      "model_module_version": "1.5.0",
      "model_name": "HTMLModel",
      "state": {
       "_dom_classes": [],
       "_model_module": "@jupyter-widgets/controls",
       "_model_module_version": "1.5.0",
       "_model_name": "HTMLModel",
       "_view_count": null,
       "_view_module": "@jupyter-widgets/controls",
       "_view_module_version": "1.5.0",
       "_view_name": "HTMLView",
       "description": "",
       "description_tooltip": null,
       "layout": "IPY_MODEL_e0f3cbe7620e40569752aad186886cc1",
       "placeholder": "​",
       "style": "IPY_MODEL_ac2506453e8e40e4a3d31fdb173bdadb",
       "value": "Packets:   "
      }
     },
     "d6e46a5a86b042c991eec94eb0494aae": {
      "model_module": "@jupyter-widgets/controls",
      "model_module_version": "1.5.0",
      "model_name": "ProgressStyleModel",
      "state": {
       "_model_module": "@jupyter-widgets/controls",
       "_model_module_version": "1.5.0",
       "_model_name": "ProgressStyleModel",
       "_view_count": null,
       "_view_module": "@jupyter-widgets/base",
       "_view_module_version": "1.2.0",
       "_view_name": "StyleView",
       "bar_color": null,
       "description_width": ""
      }
     },
     "dcddff319ddf4f67b4a335218df51c6b": {
      "model_module": "@jupyter-widgets/base",
      "model_module_version": "1.2.0",
      "model_name": "LayoutModel",
      "state": {
       "_model_module": "@jupyter-widgets/base",
       "_model_module_version": "1.2.0",
       "_model_name": "LayoutModel",
       "_view_count": null,
       "_view_module": "@jupyter-widgets/base",
       "_view_module_version": "1.2.0",
       "_view_name": "LayoutView",
       "align_content": null,
       "align_items": null,
       "align_self": null,
       "border": null,
       "bottom": null,
       "display": null,
       "flex": null,
       "flex_flow": null,
       "grid_area": null,
       "grid_auto_columns": null,
       "grid_auto_flow": null,
       "grid_auto_rows": null,
       "grid_column": null,
       "grid_gap": null,
       "grid_row": null,
       "grid_template_areas": null,
       "grid_template_columns": null,
       "grid_template_rows": null,
       "height": null,
       "justify_content": null,
       "justify_items": null,
       "left": null,
       "margin": null,
       "max_height": null,
       "max_width": null,
       "min_height": null,
       "min_width": null,
       "object_fit": null,
       "object_position": null,
       "order": null,
       "overflow": null,
       "overflow_x": null,
       "overflow_y": null,
       "padding": null,
       "right": null,
       "top": null,
       "visibility": null,
       "width": null
      }
     },
     "e0f3cbe7620e40569752aad186886cc1": {
      "model_module": "@jupyter-widgets/base",
      "model_module_version": "1.2.0",
      "model_name": "LayoutModel",
      "state": {
       "_model_module": "@jupyter-widgets/base",
       "_model_module_version": "1.2.0",
       "_model_name": "LayoutModel",
       "_view_count": null,
       "_view_module": "@jupyter-widgets/base",
       "_view_module_version": "1.2.0",
       "_view_name": "LayoutView",
       "align_content": null,
       "align_items": null,
       "align_self": null,
       "border": null,
       "bottom": null,
       "display": null,
       "flex": null,
       "flex_flow": null,
       "grid_area": null,
       "grid_auto_columns": null,
       "grid_auto_flow": null,
       "grid_auto_rows": null,
       "grid_column": null,
       "grid_gap": null,
       "grid_row": null,
       "grid_template_areas": null,
       "grid_template_columns": null,
       "grid_template_rows": null,
       "height": null,
       "justify_content": null,
       "justify_items": null,
       "left": null,
       "margin": null,
       "max_height": null,
       "max_width": null,
       "min_height": null,
       "min_width": null,
       "object_fit": null,
       "object_position": null,
       "order": null,
       "overflow": null,
       "overflow_x": null,
       "overflow_y": null,
       "padding": null,
       "right": null,
       "top": null,
       "visibility": null,
       "width": null
      }
     }
    },
    "version_major": 2,
    "version_minor": 0
   }
  }
 },
 "nbformat": 4,
 "nbformat_minor": 1
}
