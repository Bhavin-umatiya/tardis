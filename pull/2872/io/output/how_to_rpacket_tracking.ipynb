{
 "cells": [
  {
   "attachments": {},
   "cell_type": "markdown",
   "id": "f57cd4fe",
   "metadata": {},
   "source": [
    "# How to Track the Properties of Real Packets"
   ]
  },
  {
   "attachments": {},
   "cell_type": "markdown",
   "id": "c103617c",
   "metadata": {},
   "source": [
    "**TARDIS** has the functionality to track the properties of the *RPackets* that are generated when running the Simulation. The `rpacket_tracker` can track all the interactions a packet undergoes & thus keeps a track of the various properties, a packet may have.<br>Currently, the `rpacket_tracker` tracks the properties of all the rpackets in the *Last Iteration of the Simulation*. It generates a `List` that contains the individual instances of `RPacketTracker`{`Numba JITClass`}, for storing all the interaction properties as listed below."
   ]
  },
  {
   "attachments": {},
   "cell_type": "markdown",
   "id": "ce6214b9",
   "metadata": {},
   "source": [
    "<html>\n",
    "    <body>\n",
    "        The properties that are tracked are as follows :\n",
    "        <ol>\n",
    "            <li><b>index</b> - Index of the Packet</li>\n",
    "            <li><b>seed</b> - Seed of the Packet</li>\n",
    "            <li><b>status</b> - Current Status for the Packet Interaction</li>\n",
    "            <li><b>r</b> - Radius of the Current Shell</li> \n",
    "            <li><b>nu</b> - Packet's Frequency</li> \n",
    "            <li><b>mu</b> - Propagation Direction of the Packet (cosine of the angle the packet’s path makes with the radial direction)</li>\n",
    "            <li><b>energy</b> - Energy of the Packet</li>\n",
    "            <li><b>shell_id</b> - Current Shell Id where the Packet is present</li>\n",
    "            <li><b>interaction_type</b> - Last Interaction type of the packet</li>\n",
    "            <li><b>boundary_interaction</b> - Boundary interactions data in the format <b>(event_id, current_shell_id, next_shell_id)</b> of the packet</li>\n",
    "        </ol>\n",
    "    </body>\n",
    "</html>"
   ]
  },
  {
   "attachments": {},
   "cell_type": "markdown",
   "id": "4b0de6ca",
   "metadata": {},
   "source": [
    "The data can be obtained in two ways i.e. `rpacket_tracker` and `rpacket_tracker_df`. The `rpacket_tracker` stores all the data for the interaction of the packets in a `list`, so it needs to accessed with a `list index` for each property for a particular `rpacket`. `rpacket_tracker_df` stores the data in a dataframe. Examples for the same are shown as follows. "
   ]
  },
  {
   "attachments": {},
   "cell_type": "markdown",
   "id": "1686d9f1",
   "metadata": {},
   "source": [
    "## How to Setup the Tracking for the RPackets?"
   ]
  },
  {
   "attachments": {},
   "cell_type": "markdown",
   "id": "29e14475",
   "metadata": {},
   "source": [
    "**TARDIS**' `rpacket_tracker` is configured via the `YAML` file. This functionality of tracking the packets is turned **off**, by default. This is due to that fact that using this property, may slow down the execution time for the Simulation. An example configuration can be seen below for setting up the *tracking*:\n",
    "\n",
    "```yaml\n",
    "... \n",
    "montecarlo:\n",
    "...\n",
    "tracking:\n",
    "    track_rpacket: true\n",
    "```"
   ]
  },
  {
   "attachments": {},
   "cell_type": "markdown",
   "id": "13b6420b",
   "metadata": {},
   "source": [
    "The `montecarlo` section of the **YAML** file now has a `tracking` sub section which holds the configuration properties for the `track_rpacket` & the `initial_array_length` (discussed later in the tutorial)."
   ]
  },
  {
   "attachments": {},
   "cell_type": "markdown",
   "id": "2634c571",
   "metadata": {},
   "source": [
    "Let us see, the new `rpacket_tracker` in action."
   ]
  },
  {
   "cell_type": "code",
   "execution_count": 1,
   "id": "a0e975b6",
   "metadata": {
    "execution": {
     "iopub.execute_input": "2024-12-11T16:44:36.976722Z",
     "iopub.status.busy": "2024-12-11T16:44:36.976538Z",
     "iopub.status.idle": "2024-12-11T16:44:38.683762Z",
     "shell.execute_reply": "2024-12-11T16:44:38.683193Z"
    }
   },
   "outputs": [
    {
     "data": {
      "application/vnd.jupyter.widget-view+json": {
       "model_id": "9b799a8b86a2495a90470eb75c04c44e",
       "version_major": 2,
       "version_minor": 0
      },
      "text/plain": [
       "Iterations:          0/? [00:00<?, ?it/s]"
      ]
     },
     "metadata": {},
     "output_type": "display_data"
    },
    {
     "data": {
      "application/vnd.jupyter.widget-view+json": {
       "model_id": "ab661da359524211b77faf14fc79644f",
       "version_major": 2,
       "version_minor": 0
      },
      "text/plain": [
       "Packets:             0/? [00:00<?, ?it/s]"
      ]
     },
     "metadata": {},
     "output_type": "display_data"
    }
   ],
   "source": [
    "from tardis.io.configuration.config_reader import Configuration"
   ]
  },
  {
   "cell_type": "code",
   "execution_count": 2,
   "id": "adbf5f75",
   "metadata": {
    "execution": {
     "iopub.execute_input": "2024-12-11T16:44:38.689026Z",
     "iopub.status.busy": "2024-12-11T16:44:38.688795Z",
     "iopub.status.idle": "2024-12-11T16:44:38.784815Z",
     "shell.execute_reply": "2024-12-11T16:44:38.784220Z"
    }
   },
   "outputs": [],
   "source": [
    "# Reading the Configuration stored in `tardis_config_packet_tracking.yml` into config\n",
    "\n",
    "config = Configuration.from_yaml(\"tardis_example.yml\")"
   ]
  },
  {
   "cell_type": "code",
   "execution_count": 3,
   "id": "975766e9",
   "metadata": {
    "execution": {
     "iopub.execute_input": "2024-12-11T16:44:38.787161Z",
     "iopub.status.busy": "2024-12-11T16:44:38.786818Z",
     "iopub.status.idle": "2024-12-11T16:44:38.790383Z",
     "shell.execute_reply": "2024-12-11T16:44:38.789914Z"
    }
   },
   "outputs": [
    {
     "data": {
      "text/plain": [
       "{'track_rpacket': False, 'initial_array_length': 10}"
      ]
     },
     "execution_count": 3,
     "metadata": {},
     "output_type": "execute_result"
    }
   ],
   "source": [
    "# Checking the `tracking` section via the Schema\n",
    "\n",
    "config[\"montecarlo\"][\"tracking\"]"
   ]
  },
  {
   "cell_type": "code",
   "execution_count": 4,
   "id": "b00bc2ca",
   "metadata": {
    "execution": {
     "iopub.execute_input": "2024-12-11T16:44:38.792191Z",
     "iopub.status.busy": "2024-12-11T16:44:38.792012Z",
     "iopub.status.idle": "2024-12-11T16:44:38.794702Z",
     "shell.execute_reply": "2024-12-11T16:44:38.794181Z"
    }
   },
   "outputs": [],
   "source": [
    "# Setting `r_packet_tracking` to True to turn on the Tracking \n",
    "\n",
    "config[\"montecarlo\"][\"tracking\"][\"track_rpacket\"] = True"
   ]
  },
  {
   "cell_type": "code",
   "execution_count": 5,
   "id": "3ece2c10",
   "metadata": {
    "execution": {
     "iopub.execute_input": "2024-12-11T16:44:38.796590Z",
     "iopub.status.busy": "2024-12-11T16:44:38.796383Z",
     "iopub.status.idle": "2024-12-11T16:44:38.800087Z",
     "shell.execute_reply": "2024-12-11T16:44:38.799675Z"
    }
   },
   "outputs": [
    {
     "data": {
      "text/plain": [
       "{'track_rpacket': True, 'initial_array_length': 10}"
      ]
     },
     "execution_count": 5,
     "metadata": {},
     "output_type": "execute_result"
    }
   ],
   "source": [
    "config[\"montecarlo\"][\"tracking\"]"
   ]
  },
  {
   "cell_type": "code",
   "execution_count": 6,
   "id": "b25271d6",
   "metadata": {
    "execution": {
     "iopub.execute_input": "2024-12-11T16:44:38.801854Z",
     "iopub.status.busy": "2024-12-11T16:44:38.801670Z",
     "iopub.status.idle": "2024-12-11T16:44:38.989154Z",
     "shell.execute_reply": "2024-12-11T16:44:38.988705Z"
    }
   },
   "outputs": [],
   "source": [
    "from tardis import run_tardis\n",
    "from tardis.io.atom_data import download_atom_data"
   ]
  },
  {
   "cell_type": "code",
   "execution_count": 7,
   "id": "7d8471c3",
   "metadata": {
    "execution": {
     "iopub.execute_input": "2024-12-11T16:44:38.991668Z",
     "iopub.status.busy": "2024-12-11T16:44:38.991144Z",
     "iopub.status.idle": "2024-12-11T16:44:38.995176Z",
     "shell.execute_reply": "2024-12-11T16:44:38.994701Z"
    }
   },
   "outputs": [
    {
     "name": "stderr",
     "output_type": "stream",
     "text": [
      "Atomic Data kurucz_cd23_chianti_H_He already exists in /home/runner/Downloads/tardis-data/kurucz_cd23_chianti_H_He.h5. Will not download - override with force_download=True.\n"
     ]
    }
   ],
   "source": [
    "download_atom_data('kurucz_cd23_chianti_H_He')"
   ]
  },
  {
   "cell_type": "code",
   "execution_count": 8,
   "id": "f9e51fd3",
   "metadata": {
    "execution": {
     "iopub.execute_input": "2024-12-11T16:44:38.997044Z",
     "iopub.status.busy": "2024-12-11T16:44:38.996862Z",
     "iopub.status.idle": "2024-12-11T16:48:10.484918Z",
     "shell.execute_reply": "2024-12-11T16:48:10.484338Z"
    },
    "scrolled": false
   },
   "outputs": [
    {
     "data": {
      "text/html": [
       "<script type=\"esms-options\">{\"shimMode\": true}</script><style>*[data-root-id],\n",
       "*[data-root-id] > * {\n",
       "  box-sizing: border-box;\n",
       "  font-family: var(--jp-ui-font-family);\n",
       "  font-size: var(--jp-ui-font-size1);\n",
       "  color: var(--vscode-editor-foreground, var(--jp-ui-font-color1));\n",
       "}\n",
       "\n",
       "/* Override VSCode background color */\n",
       ".cell-output-ipywidget-background:has(\n",
       "    > .cell-output-ipywidget-background > .lm-Widget > *[data-root-id]\n",
       "  ),\n",
       ".cell-output-ipywidget-background:has(> .lm-Widget > *[data-root-id]) {\n",
       "  background-color: transparent !important;\n",
       "}\n",
       "</style>"
      ]
     },
     "metadata": {},
     "output_type": "display_data"
    },
    {
     "data": {
      "application/javascript": [
       "(function(root) {\n",
       "  function now() {\n",
       "    return new Date();\n",
       "  }\n",
       "\n",
       "  const force = true;\n",
       "  const py_version = '3.6.2'.replace('rc', '-rc.').replace('.dev', '-dev.');\n",
       "  const reloading = false;\n",
       "  const Bokeh = root.Bokeh;\n",
       "\n",
       "  // Set a timeout for this load but only if we are not already initializing\n",
       "  if (typeof (root._bokeh_timeout) === \"undefined\" || (force || !root._bokeh_is_initializing)) {\n",
       "    root._bokeh_timeout = Date.now() + 5000;\n",
       "    root._bokeh_failed_load = false;\n",
       "  }\n",
       "\n",
       "  function run_callbacks() {\n",
       "    try {\n",
       "      root._bokeh_onload_callbacks.forEach(function(callback) {\n",
       "        if (callback != null)\n",
       "          callback();\n",
       "      });\n",
       "    } finally {\n",
       "      delete root._bokeh_onload_callbacks;\n",
       "    }\n",
       "    console.debug(\"Bokeh: all callbacks have finished\");\n",
       "  }\n",
       "\n",
       "  function load_libs(css_urls, js_urls, js_modules, js_exports, callback) {\n",
       "    if (css_urls == null) css_urls = [];\n",
       "    if (js_urls == null) js_urls = [];\n",
       "    if (js_modules == null) js_modules = [];\n",
       "    if (js_exports == null) js_exports = {};\n",
       "\n",
       "    root._bokeh_onload_callbacks.push(callback);\n",
       "\n",
       "    if (root._bokeh_is_loading > 0) {\n",
       "      // Don't load bokeh if it is still initializing\n",
       "      console.debug(\"Bokeh: BokehJS is being loaded, scheduling callback at\", now());\n",
       "      return null;\n",
       "    } else if (js_urls.length === 0 && js_modules.length === 0 && Object.keys(js_exports).length === 0) {\n",
       "      // There is nothing to load\n",
       "      run_callbacks();\n",
       "      return null;\n",
       "    }\n",
       "\n",
       "    function on_load() {\n",
       "      root._bokeh_is_loading--;\n",
       "      if (root._bokeh_is_loading === 0) {\n",
       "        console.debug(\"Bokeh: all BokehJS libraries/stylesheets loaded\");\n",
       "        run_callbacks()\n",
       "      }\n",
       "    }\n",
       "    window._bokeh_on_load = on_load\n",
       "\n",
       "    function on_error(e) {\n",
       "      const src_el = e.srcElement\n",
       "      console.error(\"failed to load \" + (src_el.href || src_el.src));\n",
       "    }\n",
       "\n",
       "    const skip = [];\n",
       "    if (window.requirejs) {\n",
       "      window.requirejs.config({'packages': {}, 'paths': {}, 'shim': {}});\n",
       "      root._bokeh_is_loading = css_urls.length + 0;\n",
       "    } else {\n",
       "      root._bokeh_is_loading = css_urls.length + js_urls.length + js_modules.length + Object.keys(js_exports).length;\n",
       "    }\n",
       "\n",
       "    const existing_stylesheets = []\n",
       "    const links = document.getElementsByTagName('link')\n",
       "    for (let i = 0; i < links.length; i++) {\n",
       "      const link = links[i]\n",
       "      if (link.href != null) {\n",
       "        existing_stylesheets.push(link.href)\n",
       "      }\n",
       "    }\n",
       "    for (let i = 0; i < css_urls.length; i++) {\n",
       "      const url = css_urls[i];\n",
       "      const escaped = encodeURI(url)\n",
       "      if (existing_stylesheets.indexOf(escaped) !== -1) {\n",
       "        on_load()\n",
       "        continue;\n",
       "      }\n",
       "      const element = document.createElement(\"link\");\n",
       "      element.onload = on_load;\n",
       "      element.onerror = on_error;\n",
       "      element.rel = \"stylesheet\";\n",
       "      element.type = \"text/css\";\n",
       "      element.href = url;\n",
       "      console.debug(\"Bokeh: injecting link tag for BokehJS stylesheet: \", url);\n",
       "      document.body.appendChild(element);\n",
       "    }    var existing_scripts = []\n",
       "    const scripts = document.getElementsByTagName('script')\n",
       "    for (let i = 0; i < scripts.length; i++) {\n",
       "      var script = scripts[i]\n",
       "      if (script.src != null) {\n",
       "        existing_scripts.push(script.src)\n",
       "      }\n",
       "    }\n",
       "    for (let i = 0; i < js_urls.length; i++) {\n",
       "      const url = js_urls[i];\n",
       "      const escaped = encodeURI(url)\n",
       "      if (skip.indexOf(escaped) !== -1 || existing_scripts.indexOf(escaped) !== -1) {\n",
       "        if (!window.requirejs) {\n",
       "          on_load();\n",
       "        }\n",
       "        continue;\n",
       "      }\n",
       "      const element = document.createElement('script');\n",
       "      element.onload = on_load;\n",
       "      element.onerror = on_error;\n",
       "      element.async = false;\n",
       "      element.src = url;\n",
       "      console.debug(\"Bokeh: injecting script tag for BokehJS library: \", url);\n",
       "      document.head.appendChild(element);\n",
       "    }\n",
       "    for (let i = 0; i < js_modules.length; i++) {\n",
       "      const url = js_modules[i];\n",
       "      const escaped = encodeURI(url)\n",
       "      if (skip.indexOf(escaped) !== -1 || existing_scripts.indexOf(escaped) !== -1) {\n",
       "        if (!window.requirejs) {\n",
       "          on_load();\n",
       "        }\n",
       "        continue;\n",
       "      }\n",
       "      var element = document.createElement('script');\n",
       "      element.onload = on_load;\n",
       "      element.onerror = on_error;\n",
       "      element.async = false;\n",
       "      element.src = url;\n",
       "      element.type = \"module\";\n",
       "      console.debug(\"Bokeh: injecting script tag for BokehJS library: \", url);\n",
       "      document.head.appendChild(element);\n",
       "    }\n",
       "    for (const name in js_exports) {\n",
       "      const url = js_exports[name];\n",
       "      const escaped = encodeURI(url)\n",
       "      if (skip.indexOf(escaped) >= 0 || root[name] != null) {\n",
       "        if (!window.requirejs) {\n",
       "          on_load();\n",
       "        }\n",
       "        continue;\n",
       "      }\n",
       "      var element = document.createElement('script');\n",
       "      element.onerror = on_error;\n",
       "      element.async = false;\n",
       "      element.type = \"module\";\n",
       "      console.debug(\"Bokeh: injecting script tag for BokehJS library: \", url);\n",
       "      element.textContent = `\n",
       "      import ${name} from \"${url}\"\n",
       "      window.${name} = ${name}\n",
       "      window._bokeh_on_load()\n",
       "      `\n",
       "      document.head.appendChild(element);\n",
       "    }\n",
       "    if (!js_urls.length && !js_modules.length) {\n",
       "      on_load()\n",
       "    }\n",
       "  };\n",
       "\n",
       "  function inject_raw_css(css) {\n",
       "    const element = document.createElement(\"style\");\n",
       "    element.appendChild(document.createTextNode(css));\n",
       "    document.body.appendChild(element);\n",
       "  }\n",
       "\n",
       "  const js_urls = [\"https://cdn.holoviz.org/panel/1.5.4/dist/bundled/reactiveesm/es-module-shims@^1.10.0/dist/es-module-shims.min.js\", \"https://cdn.bokeh.org/bokeh/release/bokeh-3.6.2.min.js\", \"https://cdn.bokeh.org/bokeh/release/bokeh-gl-3.6.2.min.js\", \"https://cdn.bokeh.org/bokeh/release/bokeh-widgets-3.6.2.min.js\", \"https://cdn.bokeh.org/bokeh/release/bokeh-tables-3.6.2.min.js\", \"https://cdn.holoviz.org/panel/1.5.4/dist/panel.min.js\"];\n",
       "  const js_modules = [];\n",
       "  const js_exports = {};\n",
       "  const css_urls = [];\n",
       "  const inline_js = [    function(Bokeh) {\n",
       "      Bokeh.set_log_level(\"info\");\n",
       "    },\n",
       "function(Bokeh) {} // ensure no trailing comma for IE\n",
       "  ];\n",
       "\n",
       "  function run_inline_js() {\n",
       "    if ((root.Bokeh !== undefined) || (force === true)) {\n",
       "      for (let i = 0; i < inline_js.length; i++) {\n",
       "        try {\n",
       "          inline_js[i].call(root, root.Bokeh);\n",
       "        } catch(e) {\n",
       "          if (!reloading) {\n",
       "            throw e;\n",
       "          }\n",
       "        }\n",
       "      }\n",
       "      // Cache old bokeh versions\n",
       "      if (Bokeh != undefined && !reloading) {\n",
       "        var NewBokeh = root.Bokeh;\n",
       "        if (Bokeh.versions === undefined) {\n",
       "          Bokeh.versions = new Map();\n",
       "        }\n",
       "        if (NewBokeh.version !== Bokeh.version) {\n",
       "          Bokeh.versions.set(NewBokeh.version, NewBokeh)\n",
       "        }\n",
       "        root.Bokeh = Bokeh;\n",
       "      }\n",
       "    } else if (Date.now() < root._bokeh_timeout) {\n",
       "      setTimeout(run_inline_js, 100);\n",
       "    } else if (!root._bokeh_failed_load) {\n",
       "      console.log(\"Bokeh: BokehJS failed to load within specified timeout.\");\n",
       "      root._bokeh_failed_load = true;\n",
       "    }\n",
       "    root._bokeh_is_initializing = false\n",
       "  }\n",
       "\n",
       "  function load_or_wait() {\n",
       "    // Implement a backoff loop that tries to ensure we do not load multiple\n",
       "    // versions of Bokeh and its dependencies at the same time.\n",
       "    // In recent versions we use the root._bokeh_is_initializing flag\n",
       "    // to determine whether there is an ongoing attempt to initialize\n",
       "    // bokeh, however for backward compatibility we also try to ensure\n",
       "    // that we do not start loading a newer (Panel>=1.0 and Bokeh>3) version\n",
       "    // before older versions are fully initialized.\n",
       "    if (root._bokeh_is_initializing && Date.now() > root._bokeh_timeout) {\n",
       "      // If the timeout and bokeh was not successfully loaded we reset\n",
       "      // everything and try loading again\n",
       "      root._bokeh_timeout = Date.now() + 5000;\n",
       "      root._bokeh_is_initializing = false;\n",
       "      root._bokeh_onload_callbacks = undefined;\n",
       "      root._bokeh_is_loading = 0\n",
       "      console.log(\"Bokeh: BokehJS was loaded multiple times but one version failed to initialize.\");\n",
       "      load_or_wait();\n",
       "    } else if (root._bokeh_is_initializing || (typeof root._bokeh_is_initializing === \"undefined\" && root._bokeh_onload_callbacks !== undefined)) {\n",
       "      setTimeout(load_or_wait, 100);\n",
       "    } else {\n",
       "      root._bokeh_is_initializing = true\n",
       "      root._bokeh_onload_callbacks = []\n",
       "      const bokeh_loaded = root.Bokeh != null && (root.Bokeh.version === py_version || (root.Bokeh.versions !== undefined && root.Bokeh.versions.has(py_version)));\n",
       "      if (!reloading && !bokeh_loaded) {\n",
       "        if (root.Bokeh) {\n",
       "          root.Bokeh = undefined;\n",
       "        }\n",
       "        console.debug(\"Bokeh: BokehJS not loaded, scheduling load and callback at\", now());\n",
       "      }\n",
       "      load_libs(css_urls, js_urls, js_modules, js_exports, function() {\n",
       "        console.debug(\"Bokeh: BokehJS plotting callback run at\", now());\n",
       "        run_inline_js();\n",
       "      });\n",
       "    }\n",
       "  }\n",
       "  // Give older versions of the autoload script a head-start to ensure\n",
       "  // they initialize before we start loading newer version.\n",
       "  setTimeout(load_or_wait, 100)\n",
       "}(window));"
      ],
      "application/vnd.holoviews_load.v0+json": "(function(root) {\n  function now() {\n    return new Date();\n  }\n\n  const force = true;\n  const py_version = '3.6.2'.replace('rc', '-rc.').replace('.dev', '-dev.');\n  const reloading = false;\n  const Bokeh = root.Bokeh;\n\n  // Set a timeout for this load but only if we are not already initializing\n  if (typeof (root._bokeh_timeout) === \"undefined\" || (force || !root._bokeh_is_initializing)) {\n    root._bokeh_timeout = Date.now() + 5000;\n    root._bokeh_failed_load = false;\n  }\n\n  function run_callbacks() {\n    try {\n      root._bokeh_onload_callbacks.forEach(function(callback) {\n        if (callback != null)\n          callback();\n      });\n    } finally {\n      delete root._bokeh_onload_callbacks;\n    }\n    console.debug(\"Bokeh: all callbacks have finished\");\n  }\n\n  function load_libs(css_urls, js_urls, js_modules, js_exports, callback) {\n    if (css_urls == null) css_urls = [];\n    if (js_urls == null) js_urls = [];\n    if (js_modules == null) js_modules = [];\n    if (js_exports == null) js_exports = {};\n\n    root._bokeh_onload_callbacks.push(callback);\n\n    if (root._bokeh_is_loading > 0) {\n      // Don't load bokeh if it is still initializing\n      console.debug(\"Bokeh: BokehJS is being loaded, scheduling callback at\", now());\n      return null;\n    } else if (js_urls.length === 0 && js_modules.length === 0 && Object.keys(js_exports).length === 0) {\n      // There is nothing to load\n      run_callbacks();\n      return null;\n    }\n\n    function on_load() {\n      root._bokeh_is_loading--;\n      if (root._bokeh_is_loading === 0) {\n        console.debug(\"Bokeh: all BokehJS libraries/stylesheets loaded\");\n        run_callbacks()\n      }\n    }\n    window._bokeh_on_load = on_load\n\n    function on_error(e) {\n      const src_el = e.srcElement\n      console.error(\"failed to load \" + (src_el.href || src_el.src));\n    }\n\n    const skip = [];\n    if (window.requirejs) {\n      window.requirejs.config({'packages': {}, 'paths': {}, 'shim': {}});\n      root._bokeh_is_loading = css_urls.length + 0;\n    } else {\n      root._bokeh_is_loading = css_urls.length + js_urls.length + js_modules.length + Object.keys(js_exports).length;\n    }\n\n    const existing_stylesheets = []\n    const links = document.getElementsByTagName('link')\n    for (let i = 0; i < links.length; i++) {\n      const link = links[i]\n      if (link.href != null) {\n        existing_stylesheets.push(link.href)\n      }\n    }\n    for (let i = 0; i < css_urls.length; i++) {\n      const url = css_urls[i];\n      const escaped = encodeURI(url)\n      if (existing_stylesheets.indexOf(escaped) !== -1) {\n        on_load()\n        continue;\n      }\n      const element = document.createElement(\"link\");\n      element.onload = on_load;\n      element.onerror = on_error;\n      element.rel = \"stylesheet\";\n      element.type = \"text/css\";\n      element.href = url;\n      console.debug(\"Bokeh: injecting link tag for BokehJS stylesheet: \", url);\n      document.body.appendChild(element);\n    }    var existing_scripts = []\n    const scripts = document.getElementsByTagName('script')\n    for (let i = 0; i < scripts.length; i++) {\n      var script = scripts[i]\n      if (script.src != null) {\n        existing_scripts.push(script.src)\n      }\n    }\n    for (let i = 0; i < js_urls.length; i++) {\n      const url = js_urls[i];\n      const escaped = encodeURI(url)\n      if (skip.indexOf(escaped) !== -1 || existing_scripts.indexOf(escaped) !== -1) {\n        if (!window.requirejs) {\n          on_load();\n        }\n        continue;\n      }\n      const element = document.createElement('script');\n      element.onload = on_load;\n      element.onerror = on_error;\n      element.async = false;\n      element.src = url;\n      console.debug(\"Bokeh: injecting script tag for BokehJS library: \", url);\n      document.head.appendChild(element);\n    }\n    for (let i = 0; i < js_modules.length; i++) {\n      const url = js_modules[i];\n      const escaped = encodeURI(url)\n      if (skip.indexOf(escaped) !== -1 || existing_scripts.indexOf(escaped) !== -1) {\n        if (!window.requirejs) {\n          on_load();\n        }\n        continue;\n      }\n      var element = document.createElement('script');\n      element.onload = on_load;\n      element.onerror = on_error;\n      element.async = false;\n      element.src = url;\n      element.type = \"module\";\n      console.debug(\"Bokeh: injecting script tag for BokehJS library: \", url);\n      document.head.appendChild(element);\n    }\n    for (const name in js_exports) {\n      const url = js_exports[name];\n      const escaped = encodeURI(url)\n      if (skip.indexOf(escaped) >= 0 || root[name] != null) {\n        if (!window.requirejs) {\n          on_load();\n        }\n        continue;\n      }\n      var element = document.createElement('script');\n      element.onerror = on_error;\n      element.async = false;\n      element.type = \"module\";\n      console.debug(\"Bokeh: injecting script tag for BokehJS library: \", url);\n      element.textContent = `\n      import ${name} from \"${url}\"\n      window.${name} = ${name}\n      window._bokeh_on_load()\n      `\n      document.head.appendChild(element);\n    }\n    if (!js_urls.length && !js_modules.length) {\n      on_load()\n    }\n  };\n\n  function inject_raw_css(css) {\n    const element = document.createElement(\"style\");\n    element.appendChild(document.createTextNode(css));\n    document.body.appendChild(element);\n  }\n\n  const js_urls = [\"https://cdn.holoviz.org/panel/1.5.4/dist/bundled/reactiveesm/es-module-shims@^1.10.0/dist/es-module-shims.min.js\", \"https://cdn.bokeh.org/bokeh/release/bokeh-3.6.2.min.js\", \"https://cdn.bokeh.org/bokeh/release/bokeh-gl-3.6.2.min.js\", \"https://cdn.bokeh.org/bokeh/release/bokeh-widgets-3.6.2.min.js\", \"https://cdn.bokeh.org/bokeh/release/bokeh-tables-3.6.2.min.js\", \"https://cdn.holoviz.org/panel/1.5.4/dist/panel.min.js\"];\n  const js_modules = [];\n  const js_exports = {};\n  const css_urls = [];\n  const inline_js = [    function(Bokeh) {\n      Bokeh.set_log_level(\"info\");\n    },\nfunction(Bokeh) {} // ensure no trailing comma for IE\n  ];\n\n  function run_inline_js() {\n    if ((root.Bokeh !== undefined) || (force === true)) {\n      for (let i = 0; i < inline_js.length; i++) {\n        try {\n          inline_js[i].call(root, root.Bokeh);\n        } catch(e) {\n          if (!reloading) {\n            throw e;\n          }\n        }\n      }\n      // Cache old bokeh versions\n      if (Bokeh != undefined && !reloading) {\n        var NewBokeh = root.Bokeh;\n        if (Bokeh.versions === undefined) {\n          Bokeh.versions = new Map();\n        }\n        if (NewBokeh.version !== Bokeh.version) {\n          Bokeh.versions.set(NewBokeh.version, NewBokeh)\n        }\n        root.Bokeh = Bokeh;\n      }\n    } else if (Date.now() < root._bokeh_timeout) {\n      setTimeout(run_inline_js, 100);\n    } else if (!root._bokeh_failed_load) {\n      console.log(\"Bokeh: BokehJS failed to load within specified timeout.\");\n      root._bokeh_failed_load = true;\n    }\n    root._bokeh_is_initializing = false\n  }\n\n  function load_or_wait() {\n    // Implement a backoff loop that tries to ensure we do not load multiple\n    // versions of Bokeh and its dependencies at the same time.\n    // In recent versions we use the root._bokeh_is_initializing flag\n    // to determine whether there is an ongoing attempt to initialize\n    // bokeh, however for backward compatibility we also try to ensure\n    // that we do not start loading a newer (Panel>=1.0 and Bokeh>3) version\n    // before older versions are fully initialized.\n    if (root._bokeh_is_initializing && Date.now() > root._bokeh_timeout) {\n      // If the timeout and bokeh was not successfully loaded we reset\n      // everything and try loading again\n      root._bokeh_timeout = Date.now() + 5000;\n      root._bokeh_is_initializing = false;\n      root._bokeh_onload_callbacks = undefined;\n      root._bokeh_is_loading = 0\n      console.log(\"Bokeh: BokehJS was loaded multiple times but one version failed to initialize.\");\n      load_or_wait();\n    } else if (root._bokeh_is_initializing || (typeof root._bokeh_is_initializing === \"undefined\" && root._bokeh_onload_callbacks !== undefined)) {\n      setTimeout(load_or_wait, 100);\n    } else {\n      root._bokeh_is_initializing = true\n      root._bokeh_onload_callbacks = []\n      const bokeh_loaded = root.Bokeh != null && (root.Bokeh.version === py_version || (root.Bokeh.versions !== undefined && root.Bokeh.versions.has(py_version)));\n      if (!reloading && !bokeh_loaded) {\n        if (root.Bokeh) {\n          root.Bokeh = undefined;\n        }\n        console.debug(\"Bokeh: BokehJS not loaded, scheduling load and callback at\", now());\n      }\n      load_libs(css_urls, js_urls, js_modules, js_exports, function() {\n        console.debug(\"Bokeh: BokehJS plotting callback run at\", now());\n        run_inline_js();\n      });\n    }\n  }\n  // Give older versions of the autoload script a head-start to ensure\n  // they initialize before we start loading newer version.\n  setTimeout(load_or_wait, 100)\n}(window));"
     },
     "metadata": {},
     "output_type": "display_data"
    },
    {
     "data": {
      "application/javascript": [
       "\n",
       "if ((window.PyViz === undefined) || (window.PyViz instanceof HTMLElement)) {\n",
       "  window.PyViz = {comms: {}, comm_status:{}, kernels:{}, receivers: {}, plot_index: []}\n",
       "}\n",
       "\n",
       "\n",
       "    function JupyterCommManager() {\n",
       "    }\n",
       "\n",
       "    JupyterCommManager.prototype.register_target = function(plot_id, comm_id, msg_handler) {\n",
       "      if (window.comm_manager || ((window.Jupyter !== undefined) && (Jupyter.notebook.kernel != null))) {\n",
       "        var comm_manager = window.comm_manager || Jupyter.notebook.kernel.comm_manager;\n",
       "        comm_manager.register_target(comm_id, function(comm) {\n",
       "          comm.on_msg(msg_handler);\n",
       "        });\n",
       "      } else if ((plot_id in window.PyViz.kernels) && (window.PyViz.kernels[plot_id])) {\n",
       "        window.PyViz.kernels[plot_id].registerCommTarget(comm_id, function(comm) {\n",
       "          comm.onMsg = msg_handler;\n",
       "        });\n",
       "      } else if (typeof google != 'undefined' && google.colab.kernel != null) {\n",
       "        google.colab.kernel.comms.registerTarget(comm_id, (comm) => {\n",
       "          var messages = comm.messages[Symbol.asyncIterator]();\n",
       "          function processIteratorResult(result) {\n",
       "            var message = result.value;\n",
       "            console.log(message)\n",
       "            var content = {data: message.data, comm_id};\n",
       "            var buffers = []\n",
       "            for (var buffer of message.buffers || []) {\n",
       "              buffers.push(new DataView(buffer))\n",
       "            }\n",
       "            var metadata = message.metadata || {};\n",
       "            var msg = {content, buffers, metadata}\n",
       "            msg_handler(msg);\n",
       "            return messages.next().then(processIteratorResult);\n",
       "          }\n",
       "          return messages.next().then(processIteratorResult);\n",
       "        })\n",
       "      }\n",
       "    }\n",
       "\n",
       "    JupyterCommManager.prototype.get_client_comm = function(plot_id, comm_id, msg_handler) {\n",
       "      if (comm_id in window.PyViz.comms) {\n",
       "        return window.PyViz.comms[comm_id];\n",
       "      } else if (window.comm_manager || ((window.Jupyter !== undefined) && (Jupyter.notebook.kernel != null))) {\n",
       "        var comm_manager = window.comm_manager || Jupyter.notebook.kernel.comm_manager;\n",
       "        var comm = comm_manager.new_comm(comm_id, {}, {}, {}, comm_id);\n",
       "        if (msg_handler) {\n",
       "          comm.on_msg(msg_handler);\n",
       "        }\n",
       "      } else if ((plot_id in window.PyViz.kernels) && (window.PyViz.kernels[plot_id])) {\n",
       "        var comm = window.PyViz.kernels[plot_id].connectToComm(comm_id);\n",
       "        comm.open();\n",
       "        if (msg_handler) {\n",
       "          comm.onMsg = msg_handler;\n",
       "        }\n",
       "      } else if (typeof google != 'undefined' && google.colab.kernel != null) {\n",
       "        var comm_promise = google.colab.kernel.comms.open(comm_id)\n",
       "        comm_promise.then((comm) => {\n",
       "          window.PyViz.comms[comm_id] = comm;\n",
       "          if (msg_handler) {\n",
       "            var messages = comm.messages[Symbol.asyncIterator]();\n",
       "            function processIteratorResult(result) {\n",
       "              var message = result.value;\n",
       "              var content = {data: message.data};\n",
       "              var metadata = message.metadata || {comm_id};\n",
       "              var msg = {content, metadata}\n",
       "              msg_handler(msg);\n",
       "              return messages.next().then(processIteratorResult);\n",
       "            }\n",
       "            return messages.next().then(processIteratorResult);\n",
       "          }\n",
       "        }) \n",
       "        var sendClosure = (data, metadata, buffers, disposeOnDone) => {\n",
       "          return comm_promise.then((comm) => {\n",
       "            comm.send(data, metadata, buffers, disposeOnDone);\n",
       "          });\n",
       "        };\n",
       "        var comm = {\n",
       "          send: sendClosure\n",
       "        };\n",
       "      }\n",
       "      window.PyViz.comms[comm_id] = comm;\n",
       "      return comm;\n",
       "    }\n",
       "    window.PyViz.comm_manager = new JupyterCommManager();\n",
       "    \n",
       "\n",
       "\n",
       "var JS_MIME_TYPE = 'application/javascript';\n",
       "var HTML_MIME_TYPE = 'text/html';\n",
       "var EXEC_MIME_TYPE = 'application/vnd.holoviews_exec.v0+json';\n",
       "var CLASS_NAME = 'output';\n",
       "\n",
       "/**\n",
       " * Render data to the DOM node\n",
       " */\n",
       "function render(props, node) {\n",
       "  var div = document.createElement(\"div\");\n",
       "  var script = document.createElement(\"script\");\n",
       "  node.appendChild(div);\n",
       "  node.appendChild(script);\n",
       "}\n",
       "\n",
       "/**\n",
       " * Handle when a new output is added\n",
       " */\n",
       "function handle_add_output(event, handle) {\n",
       "  var output_area = handle.output_area;\n",
       "  var output = handle.output;\n",
       "  if ((output.data == undefined) || (!output.data.hasOwnProperty(EXEC_MIME_TYPE))) {\n",
       "    return\n",
       "  }\n",
       "  var id = output.metadata[EXEC_MIME_TYPE][\"id\"];\n",
       "  var toinsert = output_area.element.find(\".\" + CLASS_NAME.split(' ')[0]);\n",
       "  if (id !== undefined) {\n",
       "    var nchildren = toinsert.length;\n",
       "    var html_node = toinsert[nchildren-1].children[0];\n",
       "    html_node.innerHTML = output.data[HTML_MIME_TYPE];\n",
       "    var scripts = [];\n",
       "    var nodelist = html_node.querySelectorAll(\"script\");\n",
       "    for (var i in nodelist) {\n",
       "      if (nodelist.hasOwnProperty(i)) {\n",
       "        scripts.push(nodelist[i])\n",
       "      }\n",
       "    }\n",
       "\n",
       "    scripts.forEach( function (oldScript) {\n",
       "      var newScript = document.createElement(\"script\");\n",
       "      var attrs = [];\n",
       "      var nodemap = oldScript.attributes;\n",
       "      for (var j in nodemap) {\n",
       "        if (nodemap.hasOwnProperty(j)) {\n",
       "          attrs.push(nodemap[j])\n",
       "        }\n",
       "      }\n",
       "      attrs.forEach(function(attr) { newScript.setAttribute(attr.name, attr.value) });\n",
       "      newScript.appendChild(document.createTextNode(oldScript.innerHTML));\n",
       "      oldScript.parentNode.replaceChild(newScript, oldScript);\n",
       "    });\n",
       "    if (JS_MIME_TYPE in output.data) {\n",
       "      toinsert[nchildren-1].children[1].textContent = output.data[JS_MIME_TYPE];\n",
       "    }\n",
       "    output_area._hv_plot_id = id;\n",
       "    if ((window.Bokeh !== undefined) && (id in Bokeh.index)) {\n",
       "      window.PyViz.plot_index[id] = Bokeh.index[id];\n",
       "    } else {\n",
       "      window.PyViz.plot_index[id] = null;\n",
       "    }\n",
       "  } else if (output.metadata[EXEC_MIME_TYPE][\"server_id\"] !== undefined) {\n",
       "    var bk_div = document.createElement(\"div\");\n",
       "    bk_div.innerHTML = output.data[HTML_MIME_TYPE];\n",
       "    var script_attrs = bk_div.children[0].attributes;\n",
       "    for (var i = 0; i < script_attrs.length; i++) {\n",
       "      toinsert[toinsert.length - 1].childNodes[1].setAttribute(script_attrs[i].name, script_attrs[i].value);\n",
       "    }\n",
       "    // store reference to server id on output_area\n",
       "    output_area._bokeh_server_id = output.metadata[EXEC_MIME_TYPE][\"server_id\"];\n",
       "  }\n",
       "}\n",
       "\n",
       "/**\n",
       " * Handle when an output is cleared or removed\n",
       " */\n",
       "function handle_clear_output(event, handle) {\n",
       "  var id = handle.cell.output_area._hv_plot_id;\n",
       "  var server_id = handle.cell.output_area._bokeh_server_id;\n",
       "  if (((id === undefined) || !(id in PyViz.plot_index)) && (server_id !== undefined)) { return; }\n",
       "  var comm = window.PyViz.comm_manager.get_client_comm(\"hv-extension-comm\", \"hv-extension-comm\", function () {});\n",
       "  if (server_id !== null) {\n",
       "    comm.send({event_type: 'server_delete', 'id': server_id});\n",
       "    return;\n",
       "  } else if (comm !== null) {\n",
       "    comm.send({event_type: 'delete', 'id': id});\n",
       "  }\n",
       "  delete PyViz.plot_index[id];\n",
       "  if ((window.Bokeh !== undefined) & (id in window.Bokeh.index)) {\n",
       "    var doc = window.Bokeh.index[id].model.document\n",
       "    doc.clear();\n",
       "    const i = window.Bokeh.documents.indexOf(doc);\n",
       "    if (i > -1) {\n",
       "      window.Bokeh.documents.splice(i, 1);\n",
       "    }\n",
       "  }\n",
       "}\n",
       "\n",
       "/**\n",
       " * Handle kernel restart event\n",
       " */\n",
       "function handle_kernel_cleanup(event, handle) {\n",
       "  delete PyViz.comms[\"hv-extension-comm\"];\n",
       "  window.PyViz.plot_index = {}\n",
       "}\n",
       "\n",
       "/**\n",
       " * Handle update_display_data messages\n",
       " */\n",
       "function handle_update_output(event, handle) {\n",
       "  handle_clear_output(event, {cell: {output_area: handle.output_area}})\n",
       "  handle_add_output(event, handle)\n",
       "}\n",
       "\n",
       "function register_renderer(events, OutputArea) {\n",
       "  function append_mime(data, metadata, element) {\n",
       "    // create a DOM node to render to\n",
       "    var toinsert = this.create_output_subarea(\n",
       "    metadata,\n",
       "    CLASS_NAME,\n",
       "    EXEC_MIME_TYPE\n",
       "    );\n",
       "    this.keyboard_manager.register_events(toinsert);\n",
       "    // Render to node\n",
       "    var props = {data: data, metadata: metadata[EXEC_MIME_TYPE]};\n",
       "    render(props, toinsert[0]);\n",
       "    element.append(toinsert);\n",
       "    return toinsert\n",
       "  }\n",
       "\n",
       "  events.on('output_added.OutputArea', handle_add_output);\n",
       "  events.on('output_updated.OutputArea', handle_update_output);\n",
       "  events.on('clear_output.CodeCell', handle_clear_output);\n",
       "  events.on('delete.Cell', handle_clear_output);\n",
       "  events.on('kernel_ready.Kernel', handle_kernel_cleanup);\n",
       "\n",
       "  OutputArea.prototype.register_mime_type(EXEC_MIME_TYPE, append_mime, {\n",
       "    safe: true,\n",
       "    index: 0\n",
       "  });\n",
       "}\n",
       "\n",
       "if (window.Jupyter !== undefined) {\n",
       "  try {\n",
       "    var events = require('base/js/events');\n",
       "    var OutputArea = require('notebook/js/outputarea').OutputArea;\n",
       "    if (OutputArea.prototype.mime_types().indexOf(EXEC_MIME_TYPE) == -1) {\n",
       "      register_renderer(events, OutputArea);\n",
       "    }\n",
       "  } catch(err) {\n",
       "  }\n",
       "}\n"
      ],
      "application/vnd.holoviews_load.v0+json": "\nif ((window.PyViz === undefined) || (window.PyViz instanceof HTMLElement)) {\n  window.PyViz = {comms: {}, comm_status:{}, kernels:{}, receivers: {}, plot_index: []}\n}\n\n\n    function JupyterCommManager() {\n    }\n\n    JupyterCommManager.prototype.register_target = function(plot_id, comm_id, msg_handler) {\n      if (window.comm_manager || ((window.Jupyter !== undefined) && (Jupyter.notebook.kernel != null))) {\n        var comm_manager = window.comm_manager || Jupyter.notebook.kernel.comm_manager;\n        comm_manager.register_target(comm_id, function(comm) {\n          comm.on_msg(msg_handler);\n        });\n      } else if ((plot_id in window.PyViz.kernels) && (window.PyViz.kernels[plot_id])) {\n        window.PyViz.kernels[plot_id].registerCommTarget(comm_id, function(comm) {\n          comm.onMsg = msg_handler;\n        });\n      } else if (typeof google != 'undefined' && google.colab.kernel != null) {\n        google.colab.kernel.comms.registerTarget(comm_id, (comm) => {\n          var messages = comm.messages[Symbol.asyncIterator]();\n          function processIteratorResult(result) {\n            var message = result.value;\n            console.log(message)\n            var content = {data: message.data, comm_id};\n            var buffers = []\n            for (var buffer of message.buffers || []) {\n              buffers.push(new DataView(buffer))\n            }\n            var metadata = message.metadata || {};\n            var msg = {content, buffers, metadata}\n            msg_handler(msg);\n            return messages.next().then(processIteratorResult);\n          }\n          return messages.next().then(processIteratorResult);\n        })\n      }\n    }\n\n    JupyterCommManager.prototype.get_client_comm = function(plot_id, comm_id, msg_handler) {\n      if (comm_id in window.PyViz.comms) {\n        return window.PyViz.comms[comm_id];\n      } else if (window.comm_manager || ((window.Jupyter !== undefined) && (Jupyter.notebook.kernel != null))) {\n        var comm_manager = window.comm_manager || Jupyter.notebook.kernel.comm_manager;\n        var comm = comm_manager.new_comm(comm_id, {}, {}, {}, comm_id);\n        if (msg_handler) {\n          comm.on_msg(msg_handler);\n        }\n      } else if ((plot_id in window.PyViz.kernels) && (window.PyViz.kernels[plot_id])) {\n        var comm = window.PyViz.kernels[plot_id].connectToComm(comm_id);\n        comm.open();\n        if (msg_handler) {\n          comm.onMsg = msg_handler;\n        }\n      } else if (typeof google != 'undefined' && google.colab.kernel != null) {\n        var comm_promise = google.colab.kernel.comms.open(comm_id)\n        comm_promise.then((comm) => {\n          window.PyViz.comms[comm_id] = comm;\n          if (msg_handler) {\n            var messages = comm.messages[Symbol.asyncIterator]();\n            function processIteratorResult(result) {\n              var message = result.value;\n              var content = {data: message.data};\n              var metadata = message.metadata || {comm_id};\n              var msg = {content, metadata}\n              msg_handler(msg);\n              return messages.next().then(processIteratorResult);\n            }\n            return messages.next().then(processIteratorResult);\n          }\n        }) \n        var sendClosure = (data, metadata, buffers, disposeOnDone) => {\n          return comm_promise.then((comm) => {\n            comm.send(data, metadata, buffers, disposeOnDone);\n          });\n        };\n        var comm = {\n          send: sendClosure\n        };\n      }\n      window.PyViz.comms[comm_id] = comm;\n      return comm;\n    }\n    window.PyViz.comm_manager = new JupyterCommManager();\n    \n\n\nvar JS_MIME_TYPE = 'application/javascript';\nvar HTML_MIME_TYPE = 'text/html';\nvar EXEC_MIME_TYPE = 'application/vnd.holoviews_exec.v0+json';\nvar CLASS_NAME = 'output';\n\n/**\n * Render data to the DOM node\n */\nfunction render(props, node) {\n  var div = document.createElement(\"div\");\n  var script = document.createElement(\"script\");\n  node.appendChild(div);\n  node.appendChild(script);\n}\n\n/**\n * Handle when a new output is added\n */\nfunction handle_add_output(event, handle) {\n  var output_area = handle.output_area;\n  var output = handle.output;\n  if ((output.data == undefined) || (!output.data.hasOwnProperty(EXEC_MIME_TYPE))) {\n    return\n  }\n  var id = output.metadata[EXEC_MIME_TYPE][\"id\"];\n  var toinsert = output_area.element.find(\".\" + CLASS_NAME.split(' ')[0]);\n  if (id !== undefined) {\n    var nchildren = toinsert.length;\n    var html_node = toinsert[nchildren-1].children[0];\n    html_node.innerHTML = output.data[HTML_MIME_TYPE];\n    var scripts = [];\n    var nodelist = html_node.querySelectorAll(\"script\");\n    for (var i in nodelist) {\n      if (nodelist.hasOwnProperty(i)) {\n        scripts.push(nodelist[i])\n      }\n    }\n\n    scripts.forEach( function (oldScript) {\n      var newScript = document.createElement(\"script\");\n      var attrs = [];\n      var nodemap = oldScript.attributes;\n      for (var j in nodemap) {\n        if (nodemap.hasOwnProperty(j)) {\n          attrs.push(nodemap[j])\n        }\n      }\n      attrs.forEach(function(attr) { newScript.setAttribute(attr.name, attr.value) });\n      newScript.appendChild(document.createTextNode(oldScript.innerHTML));\n      oldScript.parentNode.replaceChild(newScript, oldScript);\n    });\n    if (JS_MIME_TYPE in output.data) {\n      toinsert[nchildren-1].children[1].textContent = output.data[JS_MIME_TYPE];\n    }\n    output_area._hv_plot_id = id;\n    if ((window.Bokeh !== undefined) && (id in Bokeh.index)) {\n      window.PyViz.plot_index[id] = Bokeh.index[id];\n    } else {\n      window.PyViz.plot_index[id] = null;\n    }\n  } else if (output.metadata[EXEC_MIME_TYPE][\"server_id\"] !== undefined) {\n    var bk_div = document.createElement(\"div\");\n    bk_div.innerHTML = output.data[HTML_MIME_TYPE];\n    var script_attrs = bk_div.children[0].attributes;\n    for (var i = 0; i < script_attrs.length; i++) {\n      toinsert[toinsert.length - 1].childNodes[1].setAttribute(script_attrs[i].name, script_attrs[i].value);\n    }\n    // store reference to server id on output_area\n    output_area._bokeh_server_id = output.metadata[EXEC_MIME_TYPE][\"server_id\"];\n  }\n}\n\n/**\n * Handle when an output is cleared or removed\n */\nfunction handle_clear_output(event, handle) {\n  var id = handle.cell.output_area._hv_plot_id;\n  var server_id = handle.cell.output_area._bokeh_server_id;\n  if (((id === undefined) || !(id in PyViz.plot_index)) && (server_id !== undefined)) { return; }\n  var comm = window.PyViz.comm_manager.get_client_comm(\"hv-extension-comm\", \"hv-extension-comm\", function () {});\n  if (server_id !== null) {\n    comm.send({event_type: 'server_delete', 'id': server_id});\n    return;\n  } else if (comm !== null) {\n    comm.send({event_type: 'delete', 'id': id});\n  }\n  delete PyViz.plot_index[id];\n  if ((window.Bokeh !== undefined) & (id in window.Bokeh.index)) {\n    var doc = window.Bokeh.index[id].model.document\n    doc.clear();\n    const i = window.Bokeh.documents.indexOf(doc);\n    if (i > -1) {\n      window.Bokeh.documents.splice(i, 1);\n    }\n  }\n}\n\n/**\n * Handle kernel restart event\n */\nfunction handle_kernel_cleanup(event, handle) {\n  delete PyViz.comms[\"hv-extension-comm\"];\n  window.PyViz.plot_index = {}\n}\n\n/**\n * Handle update_display_data messages\n */\nfunction handle_update_output(event, handle) {\n  handle_clear_output(event, {cell: {output_area: handle.output_area}})\n  handle_add_output(event, handle)\n}\n\nfunction register_renderer(events, OutputArea) {\n  function append_mime(data, metadata, element) {\n    // create a DOM node to render to\n    var toinsert = this.create_output_subarea(\n    metadata,\n    CLASS_NAME,\n    EXEC_MIME_TYPE\n    );\n    this.keyboard_manager.register_events(toinsert);\n    // Render to node\n    var props = {data: data, metadata: metadata[EXEC_MIME_TYPE]};\n    render(props, toinsert[0]);\n    element.append(toinsert);\n    return toinsert\n  }\n\n  events.on('output_added.OutputArea', handle_add_output);\n  events.on('output_updated.OutputArea', handle_update_output);\n  events.on('clear_output.CodeCell', handle_clear_output);\n  events.on('delete.Cell', handle_clear_output);\n  events.on('kernel_ready.Kernel', handle_kernel_cleanup);\n\n  OutputArea.prototype.register_mime_type(EXEC_MIME_TYPE, append_mime, {\n    safe: true,\n    index: 0\n  });\n}\n\nif (window.Jupyter !== undefined) {\n  try {\n    var events = require('base/js/events');\n    var OutputArea = require('notebook/js/outputarea').OutputArea;\n    if (OutputArea.prototype.mime_types().indexOf(EXEC_MIME_TYPE) == -1) {\n      register_renderer(events, OutputArea);\n    }\n  } catch(err) {\n  }\n}\n"
     },
     "metadata": {},
     "output_type": "display_data"
    },
    {
     "data": {
      "application/vnd.holoviews_exec.v0+json": "",
      "text/html": [
       "<div id='c62e90b5-eeee-457b-87fd-ffd726f0fe22'>\n",
       "  <div id=\"d258a078-263b-4a8a-b9cf-ba61c99fac5d\" data-root-id=\"c62e90b5-eeee-457b-87fd-ffd726f0fe22\" style=\"display: contents;\"></div>\n",
       "</div>\n",
       "<script type=\"application/javascript\">(function(root) {\n",
       "  var docs_json = {\"93752312-dfa2-4650-8d71-c1cb4e60dcdf\":{\"version\":\"3.6.2\",\"title\":\"Bokeh Application\",\"roots\":[{\"type\":\"object\",\"name\":\"panel.models.browser.BrowserInfo\",\"id\":\"c62e90b5-eeee-457b-87fd-ffd726f0fe22\"},{\"type\":\"object\",\"name\":\"panel.models.comm_manager.CommManager\",\"id\":\"8a63c7bb-cfb2-43cb-bcd8-0975bfe42b00\",\"attributes\":{\"plot_id\":\"c62e90b5-eeee-457b-87fd-ffd726f0fe22\",\"comm_id\":\"b9cc2c3379ff4e8f93cd138414d38ad1\",\"client_comm_id\":\"07b893769dd6468da3e0e20e179ef69d\"}}],\"defs\":[{\"type\":\"model\",\"name\":\"ReactiveHTML1\"},{\"type\":\"model\",\"name\":\"FlexBox1\",\"properties\":[{\"name\":\"align_content\",\"kind\":\"Any\",\"default\":\"flex-start\"},{\"name\":\"align_items\",\"kind\":\"Any\",\"default\":\"flex-start\"},{\"name\":\"flex_direction\",\"kind\":\"Any\",\"default\":\"row\"},{\"name\":\"flex_wrap\",\"kind\":\"Any\",\"default\":\"wrap\"},{\"name\":\"gap\",\"kind\":\"Any\",\"default\":\"\"},{\"name\":\"justify_content\",\"kind\":\"Any\",\"default\":\"flex-start\"}]},{\"type\":\"model\",\"name\":\"FloatPanel1\",\"properties\":[{\"name\":\"config\",\"kind\":\"Any\",\"default\":{\"type\":\"map\"}},{\"name\":\"contained\",\"kind\":\"Any\",\"default\":true},{\"name\":\"position\",\"kind\":\"Any\",\"default\":\"right-top\"},{\"name\":\"offsetx\",\"kind\":\"Any\",\"default\":null},{\"name\":\"offsety\",\"kind\":\"Any\",\"default\":null},{\"name\":\"theme\",\"kind\":\"Any\",\"default\":\"primary\"},{\"name\":\"status\",\"kind\":\"Any\",\"default\":\"normalized\"}]},{\"type\":\"model\",\"name\":\"GridStack1\",\"properties\":[{\"name\":\"mode\",\"kind\":\"Any\",\"default\":\"warn\"},{\"name\":\"ncols\",\"kind\":\"Any\",\"default\":null},{\"name\":\"nrows\",\"kind\":\"Any\",\"default\":null},{\"name\":\"allow_resize\",\"kind\":\"Any\",\"default\":true},{\"name\":\"allow_drag\",\"kind\":\"Any\",\"default\":true},{\"name\":\"state\",\"kind\":\"Any\",\"default\":[]}]},{\"type\":\"model\",\"name\":\"drag1\",\"properties\":[{\"name\":\"slider_width\",\"kind\":\"Any\",\"default\":5},{\"name\":\"slider_color\",\"kind\":\"Any\",\"default\":\"black\"},{\"name\":\"value\",\"kind\":\"Any\",\"default\":50}]},{\"type\":\"model\",\"name\":\"click1\",\"properties\":[{\"name\":\"terminal_output\",\"kind\":\"Any\",\"default\":\"\"},{\"name\":\"debug_name\",\"kind\":\"Any\",\"default\":\"\"},{\"name\":\"clears\",\"kind\":\"Any\",\"default\":0}]},{\"type\":\"model\",\"name\":\"FastWrapper1\",\"properties\":[{\"name\":\"object\",\"kind\":\"Any\",\"default\":null},{\"name\":\"style\",\"kind\":\"Any\",\"default\":null}]},{\"type\":\"model\",\"name\":\"NotificationAreaBase1\",\"properties\":[{\"name\":\"js_events\",\"kind\":\"Any\",\"default\":{\"type\":\"map\"}},{\"name\":\"position\",\"kind\":\"Any\",\"default\":\"bottom-right\"},{\"name\":\"_clear\",\"kind\":\"Any\",\"default\":0}]},{\"type\":\"model\",\"name\":\"NotificationArea1\",\"properties\":[{\"name\":\"js_events\",\"kind\":\"Any\",\"default\":{\"type\":\"map\"}},{\"name\":\"notifications\",\"kind\":\"Any\",\"default\":[]},{\"name\":\"position\",\"kind\":\"Any\",\"default\":\"bottom-right\"},{\"name\":\"_clear\",\"kind\":\"Any\",\"default\":0},{\"name\":\"types\",\"kind\":\"Any\",\"default\":[{\"type\":\"map\",\"entries\":[[\"type\",\"warning\"],[\"background\",\"#ffc107\"],[\"icon\",{\"type\":\"map\",\"entries\":[[\"className\",\"fas fa-exclamation-triangle\"],[\"tagName\",\"i\"],[\"color\",\"white\"]]}]]},{\"type\":\"map\",\"entries\":[[\"type\",\"info\"],[\"background\",\"#007bff\"],[\"icon\",{\"type\":\"map\",\"entries\":[[\"className\",\"fas fa-info-circle\"],[\"tagName\",\"i\"],[\"color\",\"white\"]]}]]}]}]},{\"type\":\"model\",\"name\":\"Notification\",\"properties\":[{\"name\":\"background\",\"kind\":\"Any\",\"default\":null},{\"name\":\"duration\",\"kind\":\"Any\",\"default\":3000},{\"name\":\"icon\",\"kind\":\"Any\",\"default\":null},{\"name\":\"message\",\"kind\":\"Any\",\"default\":\"\"},{\"name\":\"notification_type\",\"kind\":\"Any\",\"default\":null},{\"name\":\"_destroyed\",\"kind\":\"Any\",\"default\":false}]},{\"type\":\"model\",\"name\":\"TemplateActions1\",\"properties\":[{\"name\":\"open_modal\",\"kind\":\"Any\",\"default\":0},{\"name\":\"close_modal\",\"kind\":\"Any\",\"default\":0}]},{\"type\":\"model\",\"name\":\"BootstrapTemplateActions1\",\"properties\":[{\"name\":\"open_modal\",\"kind\":\"Any\",\"default\":0},{\"name\":\"close_modal\",\"kind\":\"Any\",\"default\":0}]},{\"type\":\"model\",\"name\":\"TemplateEditor1\",\"properties\":[{\"name\":\"layout\",\"kind\":\"Any\",\"default\":[]}]},{\"type\":\"model\",\"name\":\"MaterialTemplateActions1\",\"properties\":[{\"name\":\"open_modal\",\"kind\":\"Any\",\"default\":0},{\"name\":\"close_modal\",\"kind\":\"Any\",\"default\":0}]},{\"type\":\"model\",\"name\":\"ReactiveESM1\",\"properties\":[{\"name\":\"esm_constants\",\"kind\":\"Any\",\"default\":{\"type\":\"map\"}}]},{\"type\":\"model\",\"name\":\"JSComponent1\",\"properties\":[{\"name\":\"esm_constants\",\"kind\":\"Any\",\"default\":{\"type\":\"map\"}}]},{\"type\":\"model\",\"name\":\"ReactComponent1\",\"properties\":[{\"name\":\"esm_constants\",\"kind\":\"Any\",\"default\":{\"type\":\"map\"}}]},{\"type\":\"model\",\"name\":\"AnyWidgetComponent1\",\"properties\":[{\"name\":\"esm_constants\",\"kind\":\"Any\",\"default\":{\"type\":\"map\"}}]},{\"type\":\"model\",\"name\":\"request_value1\",\"properties\":[{\"name\":\"fill\",\"kind\":\"Any\",\"default\":\"none\"},{\"name\":\"_synced\",\"kind\":\"Any\",\"default\":null},{\"name\":\"_request_sync\",\"kind\":\"Any\",\"default\":0}]}]}};\n",
       "  var render_items = [{\"docid\":\"93752312-dfa2-4650-8d71-c1cb4e60dcdf\",\"roots\":{\"c62e90b5-eeee-457b-87fd-ffd726f0fe22\":\"d258a078-263b-4a8a-b9cf-ba61c99fac5d\"},\"root_ids\":[\"c62e90b5-eeee-457b-87fd-ffd726f0fe22\"]}];\n",
       "  var docs = Object.values(docs_json)\n",
       "  if (!docs) {\n",
       "    return\n",
       "  }\n",
       "  const py_version = docs[0].version.replace('rc', '-rc.').replace('.dev', '-dev.')\n",
       "  async function embed_document(root) {\n",
       "    var Bokeh = get_bokeh(root)\n",
       "    await Bokeh.embed.embed_items_notebook(docs_json, render_items);\n",
       "    for (const render_item of render_items) {\n",
       "      for (const root_id of render_item.root_ids) {\n",
       "\tconst id_el = document.getElementById(root_id)\n",
       "\tif (id_el.children.length && id_el.children[0].hasAttribute('data-root-id')) {\n",
       "\t  const root_el = id_el.children[0]\n",
       "\t  root_el.id = root_el.id + '-rendered'\n",
       "\t  for (const child of root_el.children) {\n",
       "            // Ensure JupyterLab does not capture keyboard shortcuts\n",
       "            // see: https://jupyterlab.readthedocs.io/en/4.1.x/extension/notebook.html#keyboard-interaction-model\n",
       "\t    child.setAttribute('data-lm-suppress-shortcuts', 'true')\n",
       "\t  }\n",
       "\t}\n",
       "      }\n",
       "    }\n",
       "  }\n",
       "  function get_bokeh(root) {\n",
       "    if (root.Bokeh === undefined) {\n",
       "      return null\n",
       "    } else if (root.Bokeh.version !== py_version) {\n",
       "      if (root.Bokeh.versions === undefined || !root.Bokeh.versions.has(py_version)) {\n",
       "\treturn null\n",
       "      }\n",
       "      return root.Bokeh.versions.get(py_version);\n",
       "    } else if (root.Bokeh.version === py_version) {\n",
       "      return root.Bokeh\n",
       "    }\n",
       "    return null\n",
       "  }\n",
       "  function is_loaded(root) {\n",
       "    var Bokeh = get_bokeh(root)\n",
       "    return (Bokeh != null && Bokeh.Panel !== undefined)\n",
       "  }\n",
       "  if (is_loaded(root)) {\n",
       "    embed_document(root);\n",
       "  } else {\n",
       "    var attempts = 0;\n",
       "    var timer = setInterval(function(root) {\n",
       "      if (is_loaded(root)) {\n",
       "        clearInterval(timer);\n",
       "        embed_document(root);\n",
       "      } else if (document.readyState == \"complete\") {\n",
       "        attempts++;\n",
       "        if (attempts > 200) {\n",
       "          clearInterval(timer);\n",
       "\t  var Bokeh = get_bokeh(root)\n",
       "\t  if (Bokeh == null || Bokeh.Panel == null) {\n",
       "            console.warn(\"Panel: ERROR: Unable to run Panel code because Bokeh or Panel library is missing\");\n",
       "\t  } else {\n",
       "\t    console.warn(\"Panel: WARNING: Attempting to render but not all required libraries could be resolved.\")\n",
       "\t    embed_document(root)\n",
       "\t  }\n",
       "        }\n",
       "      }\n",
       "    }, 25, root)\n",
       "  }\n",
       "})(window);</script>"
      ]
     },
     "metadata": {
      "application/vnd.holoviews_exec.v0+json": {
       "id": "c62e90b5-eeee-457b-87fd-ffd726f0fe22"
      }
     },
     "output_type": "display_data"
    },
    {
     "data": {},
     "metadata": {},
     "output_type": "display_data"
    },
    {
     "data": {
      "application/vnd.holoviews_exec.v0+json": "",
      "text/html": [
       "<div id='e8cec827-5983-46b0-beaf-055b7b6e8906'>\n",
       "  <div id=\"b903d92e-a350-442b-aad9-3682e5533959\" data-root-id=\"e8cec827-5983-46b0-beaf-055b7b6e8906\" style=\"display: contents;\"></div>\n",
       "</div>\n",
       "<script type=\"application/javascript\">(function(root) {\n",
       "  var docs_json = {\"8f15413f-901e-4de1-bf53-9564799223f9\":{\"version\":\"3.6.2\",\"title\":\"Bokeh Application\",\"roots\":[{\"type\":\"object\",\"name\":\"panel.models.tabs.Tabs\",\"id\":\"e8cec827-5983-46b0-beaf-055b7b6e8906\",\"attributes\":{\"tags\":[\"embedded\"],\"stylesheets\":[\"\\n:host(.pn-loading):before, .pn-loading:before {\\n  background-color: #c3c3c3;\\n  mask-size: auto calc(min(50%, 400px));\\n  -webkit-mask-size: auto calc(min(50%, 400px));\\n}\",{\"type\":\"object\",\"name\":\"ImportedStyleSheet\",\"id\":\"969d371a-d485-49de-8d3e-d895a7b563c1\",\"attributes\":{\"url\":\"https://cdn.holoviz.org/panel/1.5.4/dist/css/loading.css\"}},{\"type\":\"object\",\"name\":\"ImportedStyleSheet\",\"id\":\"253ab351-beae-40f9-adc7-43e590fa5f29\",\"attributes\":{\"url\":\"https://cdn.holoviz.org/panel/1.5.4/dist/bundled/theme/default.css\"}},{\"type\":\"object\",\"name\":\"ImportedStyleSheet\",\"id\":\"fca26a88-5593-41cc-911e-50356bdb09d2\",\"attributes\":{\"url\":\"https://cdn.holoviz.org/panel/1.5.4/dist/bundled/theme/native.css\"}}],\"height\":350,\"margin\":0,\"sizing_mode\":\"stretch_width\",\"align\":\"start\",\"tabs\":[{\"type\":\"object\",\"name\":\"TabPanel\",\"id\":\"3ec65aed-cbdb-424a-9b5d-e0d839069d1d\",\"attributes\":{\"name\":\"Feed00124\",\"title\":\"ALL\",\"child\":{\"type\":\"object\",\"name\":\"panel.models.feed.Feed\",\"id\":\"b42cb0eb-f835-4419-b469-68bbb8684a7f\",\"attributes\":{\"name\":\"Feed00124\",\"subscribed_events\":{\"type\":\"set\",\"entries\":[\"scroll_button_click\"]},\"css_classes\":[\"scroll-vertical\"],\"styles\":{\"type\":\"map\",\"entries\":[[\"border\",\"1px solid #ddd\"],[\"width\",\"100%\"],[\"font-family\",\"monospace\"],[\"padding\",\"8px\"],[\"background-color\",\"white\"]]},\"stylesheets\":[\"\\n:host(.pn-loading):before, .pn-loading:before {\\n  background-color: #c3c3c3;\\n  mask-size: auto calc(min(50%, 400px));\\n  -webkit-mask-size: auto calc(min(50%, 400px));\\n}\",{\"id\":\"969d371a-d485-49de-8d3e-d895a7b563c1\"},{\"type\":\"object\",\"name\":\"ImportedStyleSheet\",\"id\":\"80b54e4b-23c5-4295-8605-8fdbb2924614\",\"attributes\":{\"url\":\"https://cdn.holoviz.org/panel/1.5.4/dist/css/listpanel.css\"}},{\"id\":\"253ab351-beae-40f9-adc7-43e590fa5f29\"},{\"id\":\"fca26a88-5593-41cc-911e-50356bdb09d2\"}],\"height\":300,\"min_height\":300,\"margin\":0,\"align\":\"start\",\"children\":[{\"type\":\"object\",\"name\":\"panel.models.markup.HTML\",\"id\":\"c9e0688e-b292-45d4-9fca-3e3510f93cd8\",\"attributes\":{\"stylesheets\":[\"\\n:host(.pn-loading):before, .pn-loading:before {\\n  background-color: #c3c3c3;\\n  mask-size: auto calc(min(50%, 400px));\\n  -webkit-mask-size: auto calc(min(50%, 400px));\\n}\",{\"id\":\"969d371a-d485-49de-8d3e-d895a7b563c1\"},{\"id\":\"253ab351-beae-40f9-adc7-43e590fa5f29\"},{\"id\":\"fca26a88-5593-41cc-911e-50356bdb09d2\"}],\"margin\":[5,10],\"align\":\"start\",\"text\":\"&lt;div style=&#x27;margin: 0;&#x27;&gt;&lt;span&gt;tardis.io.model.parse_atom_data&lt;/span&gt; &lt;span style=&quot;color: #D3D3D3; font-weight: bold;&quot;&gt;[INFO]&lt;/span&gt; \\n\\tReading Atomic Data from kurucz_cd23_chianti_H_He.h5 (parse_atom_data.py:40)&lt;/div&gt;\",\"disable_math\":true}},{\"type\":\"object\",\"name\":\"panel.models.markup.HTML\",\"id\":\"fc75d64e-59c6-4190-94c3-7e511d123085\",\"attributes\":{\"stylesheets\":[\"\\n:host(.pn-loading):before, .pn-loading:before {\\n  background-color: #c3c3c3;\\n  mask-size: auto calc(min(50%, 400px));\\n  -webkit-mask-size: auto calc(min(50%, 400px));\\n}\",{\"id\":\"969d371a-d485-49de-8d3e-d895a7b563c1\"},{\"id\":\"253ab351-beae-40f9-adc7-43e590fa5f29\"},{\"id\":\"fca26a88-5593-41cc-911e-50356bdb09d2\"}],\"margin\":[5,10],\"align\":\"start\",\"text\":\"&lt;div style=&#x27;margin: 0;&#x27;&gt;&lt;span&gt;tardis.io.atom_data.util&lt;/span&gt; &lt;span style=&quot;color: #D3D3D3; font-weight: bold;&quot;&gt;[INFO]&lt;/span&gt; \\n\\tAtom Data kurucz_cd23_chianti_H_He.h5 not found in local path.\\n\\tExists in TARDIS Data repo /home/runner/Downloads/tardis-data/kurucz_cd23_chianti_H_He.h5 (util.py:34)&lt;/div&gt;\",\"disable_math\":true}},{\"type\":\"object\",\"name\":\"panel.models.markup.HTML\",\"id\":\"10ed13cc-dd2d-49c3-af45-bd5399eecf65\",\"attributes\":{\"stylesheets\":[\"\\n:host(.pn-loading):before, .pn-loading:before {\\n  background-color: #c3c3c3;\\n  mask-size: auto calc(min(50%, 400px));\\n  -webkit-mask-size: auto calc(min(50%, 400px));\\n}\",{\"id\":\"969d371a-d485-49de-8d3e-d895a7b563c1\"},{\"id\":\"253ab351-beae-40f9-adc7-43e590fa5f29\"},{\"id\":\"fca26a88-5593-41cc-911e-50356bdb09d2\"}],\"margin\":[5,10],\"align\":\"start\",\"text\":\"&lt;div style=&#x27;margin: 0;&#x27;&gt;&lt;span&gt;tardis.io.atom_data.base&lt;/span&gt; &lt;span style=&quot;color: #D3D3D3; font-weight: bold;&quot;&gt;[INFO]&lt;/span&gt; Reading Atom Data with: UUID = 6f7b09e887a311e7a06b246e96350010 MD5  = 864f1753714343c41f99cb065710cace  (base.py:262)&lt;/div&gt;\",\"disable_math\":true}},{\"type\":\"object\",\"name\":\"panel.models.markup.HTML\",\"id\":\"2a3d131b-4527-4334-aa5a-3561679ffffa\",\"attributes\":{\"stylesheets\":[\"\\n:host(.pn-loading):before, .pn-loading:before {\\n  background-color: #c3c3c3;\\n  mask-size: auto calc(min(50%, 400px));\\n  -webkit-mask-size: auto calc(min(50%, 400px));\\n}\",{\"id\":\"969d371a-d485-49de-8d3e-d895a7b563c1\"},{\"id\":\"253ab351-beae-40f9-adc7-43e590fa5f29\"},{\"id\":\"fca26a88-5593-41cc-911e-50356bdb09d2\"}],\"margin\":[5,10],\"align\":\"start\",\"text\":\"&lt;div style=&#x27;margin: 0;&#x27;&gt;&lt;span&gt;tardis.io.atom_data.base&lt;/span&gt; &lt;span style=&quot;color: #D3D3D3; font-weight: bold;&quot;&gt;[INFO]&lt;/span&gt; Non provided Atomic Data: synpp_refs, photoionization_data, yg_data, two_photon_data, linelist_atoms, linelist_molecules (base.py:266)&lt;/div&gt;\",\"disable_math\":true}},{\"type\":\"object\",\"name\":\"panel.models.markup.HTML\",\"id\":\"1aaba34a-aeb5-4db9-8bd5-f1a9dab7161a\",\"attributes\":{\"stylesheets\":[\"\\n:host(.pn-loading):before, .pn-loading:before {\\n  background-color: #c3c3c3;\\n  mask-size: auto calc(min(50%, 400px));\\n  -webkit-mask-size: auto calc(min(50%, 400px));\\n}\",{\"id\":\"969d371a-d485-49de-8d3e-d895a7b563c1\"},{\"id\":\"253ab351-beae-40f9-adc7-43e590fa5f29\"},{\"id\":\"fca26a88-5593-41cc-911e-50356bdb09d2\"}],\"margin\":[5,10],\"align\":\"start\",\"text\":\"&lt;div style=&#x27;margin: 0;&#x27;&gt;&lt;span&gt;tardis.io.model.parse_density_configuration&lt;/span&gt; &lt;span style=&quot;color: orange; font-weight: bold;&quot;&gt;[WARNING]&lt;/span&gt; Number of density points larger than number of shells. Assuming inner point irrelevant (parse_density_configuration.py:114)&lt;/div&gt;\",\"disable_math\":true}},{\"type\":\"object\",\"name\":\"panel.models.markup.HTML\",\"id\":\"bab2a196-a027-4b9e-a095-70cc5802eb53\",\"attributes\":{\"stylesheets\":[\"\\n:host(.pn-loading):before, .pn-loading:before {\\n  background-color: #c3c3c3;\\n  mask-size: auto calc(min(50%, 400px));\\n  -webkit-mask-size: auto calc(min(50%, 400px));\\n}\",{\"id\":\"969d371a-d485-49de-8d3e-d895a7b563c1\"},{\"id\":\"253ab351-beae-40f9-adc7-43e590fa5f29\"},{\"id\":\"fca26a88-5593-41cc-911e-50356bdb09d2\"}],\"margin\":[5,10],\"align\":\"start\",\"text\":\"&lt;div style=&#x27;margin: 0;&#x27;&gt;&lt;span&gt;tardis.model.matter.decay&lt;/span&gt; &lt;span style=&quot;color: #D3D3D3; font-weight: bold;&quot;&gt;[INFO]&lt;/span&gt; Decaying abundances for 1123200.0 seconds (decay.py:101)&lt;/div&gt;\",\"disable_math\":true}},{\"type\":\"object\",\"name\":\"panel.models.markup.HTML\",\"id\":\"e11889af-641e-498f-a2e4-e34504c15fd0\",\"attributes\":{\"stylesheets\":[\"\\n:host(.pn-loading):before, .pn-loading:before {\\n  background-color: #c3c3c3;\\n  mask-size: auto calc(min(50%, 400px));\\n  -webkit-mask-size: auto calc(min(50%, 400px));\\n}\",{\"id\":\"969d371a-d485-49de-8d3e-d895a7b563c1\"},{\"id\":\"253ab351-beae-40f9-adc7-43e590fa5f29\"},{\"id\":\"fca26a88-5593-41cc-911e-50356bdb09d2\"}],\"margin\":[5,10],\"align\":\"start\",\"text\":\"&lt;div style=&#x27;margin: 0;&#x27;&gt;&lt;span&gt;tardis.simulation.base&lt;/span&gt; &lt;span style=&quot;color: #D3D3D3; font-weight: bold;&quot;&gt;[INFO]&lt;/span&gt; \\n\\tStarting iteration 1 of 20 (base.py:448)&lt;/div&gt;\",\"disable_math\":true}},{\"type\":\"object\",\"name\":\"panel.models.markup.HTML\",\"id\":\"db655dc4-0ef5-44f2-8e12-8269065bd15e\",\"attributes\":{\"stylesheets\":[\"\\n:host(.pn-loading):before, .pn-loading:before {\\n  background-color: #c3c3c3;\\n  mask-size: auto calc(min(50%, 400px));\\n  -webkit-mask-size: auto calc(min(50%, 400px));\\n}\",{\"id\":\"969d371a-d485-49de-8d3e-d895a7b563c1\"},{\"id\":\"253ab351-beae-40f9-adc7-43e590fa5f29\"},{\"id\":\"fca26a88-5593-41cc-911e-50356bdb09d2\"}],\"margin\":[5,10],\"align\":\"start\",\"text\":\"&lt;div style=&#x27;margin: 0;&#x27;&gt;&lt;span&gt;py.warnings&lt;/span&gt; &lt;span style=&quot;color: orange; font-weight: bold;&quot;&gt;[WARNING]&lt;/span&gt; /home/runner/work/tardis/tardis/tardis/transport/montecarlo/montecarlo_main_loop.py:123: NumbaTypeSafetyWarning: unsafe cast from uint64 to int64. Precision may be lost.\\n  vpacket_collection = vpacket_collections[i]\\n (warnings.py:112)&lt;/div&gt;\",\"disable_math\":true}},{\"type\":\"object\",\"name\":\"panel.models.markup.HTML\",\"id\":\"b59f9010-8ad2-4ced-9923-0b5fb669cdcf\",\"attributes\":{\"stylesheets\":[\"\\n:host(.pn-loading):before, .pn-loading:before {\\n  background-color: #c3c3c3;\\n  mask-size: auto calc(min(50%, 400px));\\n  -webkit-mask-size: auto calc(min(50%, 400px));\\n}\",{\"id\":\"969d371a-d485-49de-8d3e-d895a7b563c1\"},{\"id\":\"253ab351-beae-40f9-adc7-43e590fa5f29\"},{\"id\":\"fca26a88-5593-41cc-911e-50356bdb09d2\"}],\"margin\":[5,10],\"align\":\"start\",\"text\":\"&lt;div style=&#x27;margin: 0;&#x27;&gt;&lt;span&gt;tardis.simulation.base&lt;/span&gt; &lt;span style=&quot;color: #D3D3D3; font-weight: bold;&quot;&gt;[INFO]&lt;/span&gt; \\n\\tLuminosity emitted   = 7.940e+42 erg / s\\n\\tLuminosity absorbed  = 2.660e+42 erg / s\\n\\tLuminosity requested = 1.059e+43 erg / s\\n (base.py:643)&lt;/div&gt;\",\"disable_math\":true}},{\"type\":\"object\",\"name\":\"panel.models.markup.HTML\",\"id\":\"f16971ac-a01b-4919-9cb8-398ac5a5af5b\",\"attributes\":{\"stylesheets\":[\"\\n:host(.pn-loading):before, .pn-loading:before {\\n  background-color: #c3c3c3;\\n  mask-size: auto calc(min(50%, 400px));\\n  -webkit-mask-size: auto calc(min(50%, 400px));\\n}\",{\"id\":\"969d371a-d485-49de-8d3e-d895a7b563c1\"},{\"id\":\"253ab351-beae-40f9-adc7-43e590fa5f29\"},{\"id\":\"fca26a88-5593-41cc-911e-50356bdb09d2\"}],\"margin\":[5,10],\"align\":\"start\",\"text\":\"&lt;div style=&#x27;margin: 0;&#x27;&gt;&lt;span&gt;tardis.simulation.base&lt;/span&gt; &lt;span style=&quot;color: #D3D3D3; font-weight: bold;&quot;&gt;[INFO]&lt;/span&gt; \\n\\tPlasma stratification: (base.py:635)&lt;/div&gt;\",\"disable_math\":true}},{\"type\":\"object\",\"name\":\"panel.models.markup.HTML\",\"id\":\"f09788fe-b0a2-487a-a34e-733eabdd2d18\",\"attributes\":{\"stylesheets\":[\"\\n:host(.pn-loading):before, .pn-loading:before {\\n  background-color: #c3c3c3;\\n  mask-size: auto calc(min(50%, 400px));\\n  -webkit-mask-size: auto calc(min(50%, 400px));\\n}\",{\"id\":\"969d371a-d485-49de-8d3e-d895a7b563c1\"},{\"id\":\"253ab351-beae-40f9-adc7-43e590fa5f29\"},{\"id\":\"fca26a88-5593-41cc-911e-50356bdb09d2\"}],\"margin\":[5,10],\"align\":\"start\",\"text\":\"&lt;div style=&#x27;margin: 0;&#x27;&gt;&lt;span&gt;tardis.simulation.base&lt;/span&gt; &lt;span style=&quot;color: #D3D3D3; font-weight: bold;&quot;&gt;[INFO]&lt;/span&gt; \\n\\tShell No.    t_rad    next_t_rad    w   next_w\\n\\t0         9.93e+03 K  1.01e+04 K   0.4   0.507\\n\\t5         9.85e+03 K  1.02e+04 K 0.211   0.197\\n\\t10        9.78e+03 K  1.01e+04 K 0.143   0.117\\n\\t15        9.71e+03 K  9.88e+03 K 0.105  0.0868\\n (base.py:636)&lt;/div&gt;\",\"disable_math\":true}},{\"type\":\"object\",\"name\":\"panel.models.markup.HTML\",\"id\":\"ef3d4b41-72a3-4ba7-8fc9-ebd9a6c585ef\",\"attributes\":{\"stylesheets\":[\"\\n:host(.pn-loading):before, .pn-loading:before {\\n  background-color: #c3c3c3;\\n  mask-size: auto calc(min(50%, 400px));\\n  -webkit-mask-size: auto calc(min(50%, 400px));\\n}\",{\"id\":\"969d371a-d485-49de-8d3e-d895a7b563c1\"},{\"id\":\"253ab351-beae-40f9-adc7-43e590fa5f29\"},{\"id\":\"fca26a88-5593-41cc-911e-50356bdb09d2\"}],\"margin\":[5,10],\"align\":\"start\",\"text\":\"&lt;div style=&#x27;margin: 0;&#x27;&gt;&lt;span&gt;tardis.simulation.base&lt;/span&gt; &lt;span style=&quot;color: #D3D3D3; font-weight: bold;&quot;&gt;[INFO]&lt;/span&gt; \\n\\tCurrent t_inner = 9933.952 K\\n\\tExpected t_inner for next iteration = 10703.881 K\\n (base.py:638)&lt;/div&gt;\",\"disable_math\":true}},{\"type\":\"object\",\"name\":\"panel.models.markup.HTML\",\"id\":\"5078fc8c-9450-48e3-8800-48ef971c6847\",\"attributes\":{\"stylesheets\":[\"\\n:host(.pn-loading):before, .pn-loading:before {\\n  background-color: #c3c3c3;\\n  mask-size: auto calc(min(50%, 400px));\\n  -webkit-mask-size: auto calc(min(50%, 400px));\\n}\",{\"id\":\"969d371a-d485-49de-8d3e-d895a7b563c1\"},{\"id\":\"253ab351-beae-40f9-adc7-43e590fa5f29\"},{\"id\":\"fca26a88-5593-41cc-911e-50356bdb09d2\"}],\"margin\":[5,10],\"align\":\"start\",\"text\":\"&lt;div style=&#x27;margin: 0;&#x27;&gt;&lt;span&gt;tardis.simulation.base&lt;/span&gt; &lt;span style=&quot;color: #D3D3D3; font-weight: bold;&quot;&gt;[INFO]&lt;/span&gt; \\n\\tStarting iteration 2 of 20 (base.py:448)&lt;/div&gt;\",\"disable_math\":true}},{\"type\":\"object\",\"name\":\"panel.models.markup.HTML\",\"id\":\"08ec935d-f0bd-4651-bfcc-6bc5879d1241\",\"attributes\":{\"stylesheets\":[\"\\n:host(.pn-loading):before, .pn-loading:before {\\n  background-color: #c3c3c3;\\n  mask-size: auto calc(min(50%, 400px));\\n  -webkit-mask-size: auto calc(min(50%, 400px));\\n}\",{\"id\":\"969d371a-d485-49de-8d3e-d895a7b563c1\"},{\"id\":\"253ab351-beae-40f9-adc7-43e590fa5f29\"},{\"id\":\"fca26a88-5593-41cc-911e-50356bdb09d2\"}],\"margin\":[5,10],\"align\":\"start\",\"text\":\"&lt;div style=&#x27;margin: 0;&#x27;&gt;&lt;span&gt;tardis.simulation.base&lt;/span&gt; &lt;span style=&quot;color: #D3D3D3; font-weight: bold;&quot;&gt;[INFO]&lt;/span&gt; \\n\\tLuminosity emitted   = 1.072e+43 erg / s\\n\\tLuminosity absorbed  = 3.571e+42 erg / s\\n\\tLuminosity requested = 1.059e+43 erg / s\\n (base.py:643)&lt;/div&gt;\",\"disable_math\":true}},{\"type\":\"object\",\"name\":\"panel.models.markup.HTML\",\"id\":\"54c3151c-e8e0-473b-a0c0-27b3746eaae6\",\"attributes\":{\"stylesheets\":[\"\\n:host(.pn-loading):before, .pn-loading:before {\\n  background-color: #c3c3c3;\\n  mask-size: auto calc(min(50%, 400px));\\n  -webkit-mask-size: auto calc(min(50%, 400px));\\n}\",{\"id\":\"969d371a-d485-49de-8d3e-d895a7b563c1\"},{\"id\":\"253ab351-beae-40f9-adc7-43e590fa5f29\"},{\"id\":\"fca26a88-5593-41cc-911e-50356bdb09d2\"}],\"margin\":[5,10],\"align\":\"start\",\"text\":\"&lt;div style=&#x27;margin: 0;&#x27;&gt;&lt;span&gt;tardis.simulation.base&lt;/span&gt; &lt;span style=&quot;color: #D3D3D3; font-weight: bold;&quot;&gt;[INFO]&lt;/span&gt; \\n\\tPlasma stratification: (base.py:635)&lt;/div&gt;\",\"disable_math\":true}},{\"type\":\"object\",\"name\":\"panel.models.markup.HTML\",\"id\":\"4d5e09eb-d364-4edd-9fde-ccfe0b9e6a98\",\"attributes\":{\"stylesheets\":[\"\\n:host(.pn-loading):before, .pn-loading:before {\\n  background-color: #c3c3c3;\\n  mask-size: auto calc(min(50%, 400px));\\n  -webkit-mask-size: auto calc(min(50%, 400px));\\n}\",{\"id\":\"969d371a-d485-49de-8d3e-d895a7b563c1\"},{\"id\":\"253ab351-beae-40f9-adc7-43e590fa5f29\"},{\"id\":\"fca26a88-5593-41cc-911e-50356bdb09d2\"}],\"margin\":[5,10],\"align\":\"start\",\"text\":\"&lt;div style=&#x27;margin: 0;&#x27;&gt;&lt;span&gt;tardis.simulation.base&lt;/span&gt; &lt;span style=&quot;color: #D3D3D3; font-weight: bold;&quot;&gt;[INFO]&lt;/span&gt; \\n\\tShell No.    t_rad    next_t_rad    w    next_w\\n\\t0         1.01e+04 K  1.08e+04 K  0.507   0.527\\n\\t5         1.02e+04 K   1.1e+04 K  0.197   0.201\\n\\t10        1.01e+04 K  1.08e+04 K  0.117   0.124\\n\\t15        9.88e+03 K  1.05e+04 K 0.0868  0.0934\\n (base.py:636)&lt;/div&gt;\",\"disable_math\":true}},{\"type\":\"object\",\"name\":\"panel.models.markup.HTML\",\"id\":\"6d4464df-19f6-478b-abdb-e25f07b5527c\",\"attributes\":{\"stylesheets\":[\"\\n:host(.pn-loading):before, .pn-loading:before {\\n  background-color: #c3c3c3;\\n  mask-size: auto calc(min(50%, 400px));\\n  -webkit-mask-size: auto calc(min(50%, 400px));\\n}\",{\"id\":\"969d371a-d485-49de-8d3e-d895a7b563c1\"},{\"id\":\"253ab351-beae-40f9-adc7-43e590fa5f29\"},{\"id\":\"fca26a88-5593-41cc-911e-50356bdb09d2\"}],\"margin\":[5,10],\"align\":\"start\",\"text\":\"&lt;div style=&#x27;margin: 0;&#x27;&gt;&lt;span&gt;tardis.simulation.base&lt;/span&gt; &lt;span style=&quot;color: #D3D3D3; font-weight: bold;&quot;&gt;[INFO]&lt;/span&gt; \\n\\tCurrent t_inner = 10703.881 K\\n\\tExpected t_inner for next iteration = 10672.215 K\\n (base.py:638)&lt;/div&gt;\",\"disable_math\":true}},{\"type\":\"object\",\"name\":\"panel.models.markup.HTML\",\"id\":\"d62929b9-6bf7-455b-ab26-ce4eb826cd4a\",\"attributes\":{\"stylesheets\":[\"\\n:host(.pn-loading):before, .pn-loading:before {\\n  background-color: #c3c3c3;\\n  mask-size: auto calc(min(50%, 400px));\\n  -webkit-mask-size: auto calc(min(50%, 400px));\\n}\",{\"id\":\"969d371a-d485-49de-8d3e-d895a7b563c1\"},{\"id\":\"253ab351-beae-40f9-adc7-43e590fa5f29\"},{\"id\":\"fca26a88-5593-41cc-911e-50356bdb09d2\"}],\"margin\":[5,10],\"align\":\"start\",\"text\":\"&lt;div style=&#x27;margin: 0;&#x27;&gt;&lt;span&gt;tardis.simulation.base&lt;/span&gt; &lt;span style=&quot;color: #D3D3D3; font-weight: bold;&quot;&gt;[INFO]&lt;/span&gt; \\n\\tStarting iteration 3 of 20 (base.py:448)&lt;/div&gt;\",\"disable_math\":true}},{\"type\":\"object\",\"name\":\"panel.models.markup.HTML\",\"id\":\"f4506c2a-2cd7-44e8-9acc-6e5735e2031b\",\"attributes\":{\"stylesheets\":[\"\\n:host(.pn-loading):before, .pn-loading:before {\\n  background-color: #c3c3c3;\\n  mask-size: auto calc(min(50%, 400px));\\n  -webkit-mask-size: auto calc(min(50%, 400px));\\n}\",{\"id\":\"969d371a-d485-49de-8d3e-d895a7b563c1\"},{\"id\":\"253ab351-beae-40f9-adc7-43e590fa5f29\"},{\"id\":\"fca26a88-5593-41cc-911e-50356bdb09d2\"}],\"margin\":[5,10],\"align\":\"start\",\"text\":\"&lt;div style=&#x27;margin: 0;&#x27;&gt;&lt;span&gt;tardis.simulation.base&lt;/span&gt; &lt;span style=&quot;color: #D3D3D3; font-weight: bold;&quot;&gt;[INFO]&lt;/span&gt; \\n\\tLuminosity emitted   = 1.073e+43 erg / s\\n\\tLuminosity absorbed  = 3.395e+42 erg / s\\n\\tLuminosity requested = 1.059e+43 erg / s\\n (base.py:643)&lt;/div&gt;\",\"disable_math\":true}},{\"type\":\"object\",\"name\":\"panel.models.markup.HTML\",\"id\":\"577ebf99-5d7a-48db-bab7-1d6ae2973c90\",\"attributes\":{\"stylesheets\":[\"\\n:host(.pn-loading):before, .pn-loading:before {\\n  background-color: #c3c3c3;\\n  mask-size: auto calc(min(50%, 400px));\\n  -webkit-mask-size: auto calc(min(50%, 400px));\\n}\",{\"id\":\"969d371a-d485-49de-8d3e-d895a7b563c1\"},{\"id\":\"253ab351-beae-40f9-adc7-43e590fa5f29\"},{\"id\":\"fca26a88-5593-41cc-911e-50356bdb09d2\"}],\"margin\":[5,10],\"align\":\"start\",\"text\":\"&lt;div style=&#x27;margin: 0;&#x27;&gt;&lt;span&gt;tardis.simulation.base&lt;/span&gt; &lt;span style=&quot;color: #D3D3D3; font-weight: bold;&quot;&gt;[INFO]&lt;/span&gt; Iteration converged 1/4 consecutive times. (base.py:260)&lt;/div&gt;\",\"disable_math\":true}},{\"type\":\"object\",\"name\":\"panel.models.markup.HTML\",\"id\":\"c4615323-40d9-45ac-b979-523b555c93fa\",\"attributes\":{\"stylesheets\":[\"\\n:host(.pn-loading):before, .pn-loading:before {\\n  background-color: #c3c3c3;\\n  mask-size: auto calc(min(50%, 400px));\\n  -webkit-mask-size: auto calc(min(50%, 400px));\\n}\",{\"id\":\"969d371a-d485-49de-8d3e-d895a7b563c1\"},{\"id\":\"253ab351-beae-40f9-adc7-43e590fa5f29\"},{\"id\":\"fca26a88-5593-41cc-911e-50356bdb09d2\"}],\"margin\":[5,10],\"align\":\"start\",\"text\":\"&lt;div style=&#x27;margin: 0;&#x27;&gt;&lt;span&gt;tardis.simulation.base&lt;/span&gt; &lt;span style=&quot;color: #D3D3D3; font-weight: bold;&quot;&gt;[INFO]&lt;/span&gt; \\n\\tPlasma stratification: (base.py:635)&lt;/div&gt;\",\"disable_math\":true}},{\"type\":\"object\",\"name\":\"panel.models.markup.HTML\",\"id\":\"5f2b2750-2eb8-43f2-98a7-e28b98a10be9\",\"attributes\":{\"stylesheets\":[\"\\n:host(.pn-loading):before, .pn-loading:before {\\n  background-color: #c3c3c3;\\n  mask-size: auto calc(min(50%, 400px));\\n  -webkit-mask-size: auto calc(min(50%, 400px));\\n}\",{\"id\":\"969d371a-d485-49de-8d3e-d895a7b563c1\"},{\"id\":\"253ab351-beae-40f9-adc7-43e590fa5f29\"},{\"id\":\"fca26a88-5593-41cc-911e-50356bdb09d2\"}],\"margin\":[5,10],\"align\":\"start\",\"text\":\"&lt;div style=&#x27;margin: 0;&#x27;&gt;&lt;span&gt;tardis.simulation.base&lt;/span&gt; &lt;span style=&quot;color: #D3D3D3; font-weight: bold;&quot;&gt;[INFO]&lt;/span&gt; \\n\\tShell No.    t_rad    next_t_rad    w    next_w\\n\\t0         1.08e+04 K   1.1e+04 K  0.527  0.485 \\n\\t5          1.1e+04 K  1.12e+04 K  0.201  0.189 \\n\\t10        1.08e+04 K  1.09e+04 K  0.124  0.118 \\n\\t15        1.05e+04 K  1.06e+04 K 0.0934  0.088 \\n (base.py:636)&lt;/div&gt;\",\"disable_math\":true}},{\"type\":\"object\",\"name\":\"panel.models.markup.HTML\",\"id\":\"23f63c23-2277-4f7c-91c8-e2a45adb118c\",\"attributes\":{\"stylesheets\":[\"\\n:host(.pn-loading):before, .pn-loading:before {\\n  background-color: #c3c3c3;\\n  mask-size: auto calc(min(50%, 400px));\\n  -webkit-mask-size: auto calc(min(50%, 400px));\\n}\",{\"id\":\"969d371a-d485-49de-8d3e-d895a7b563c1\"},{\"id\":\"253ab351-beae-40f9-adc7-43e590fa5f29\"},{\"id\":\"fca26a88-5593-41cc-911e-50356bdb09d2\"}],\"margin\":[5,10],\"align\":\"start\",\"text\":\"&lt;div style=&#x27;margin: 0;&#x27;&gt;&lt;span&gt;tardis.simulation.base&lt;/span&gt; &lt;span style=&quot;color: #D3D3D3; font-weight: bold;&quot;&gt;[INFO]&lt;/span&gt; \\n\\tCurrent t_inner = 10672.215 K\\n\\tExpected t_inner for next iteration = 10637.379 K\\n (base.py:638)&lt;/div&gt;\",\"disable_math\":true}},{\"type\":\"object\",\"name\":\"panel.models.markup.HTML\",\"id\":\"ac34d22b-9983-44a1-98f2-d79925267094\",\"attributes\":{\"stylesheets\":[\"\\n:host(.pn-loading):before, .pn-loading:before {\\n  background-color: #c3c3c3;\\n  mask-size: auto calc(min(50%, 400px));\\n  -webkit-mask-size: auto calc(min(50%, 400px));\\n}\",{\"id\":\"969d371a-d485-49de-8d3e-d895a7b563c1\"},{\"id\":\"253ab351-beae-40f9-adc7-43e590fa5f29\"},{\"id\":\"fca26a88-5593-41cc-911e-50356bdb09d2\"}],\"margin\":[5,10],\"align\":\"start\",\"text\":\"&lt;div style=&#x27;margin: 0;&#x27;&gt;&lt;span&gt;tardis.simulation.base&lt;/span&gt; &lt;span style=&quot;color: #D3D3D3; font-weight: bold;&quot;&gt;[INFO]&lt;/span&gt; \\n\\tStarting iteration 4 of 20 (base.py:448)&lt;/div&gt;\",\"disable_math\":true}},{\"type\":\"object\",\"name\":\"panel.models.markup.HTML\",\"id\":\"1a15f6b3-8841-4f53-9246-ebd0723fd18a\",\"attributes\":{\"stylesheets\":[\"\\n:host(.pn-loading):before, .pn-loading:before {\\n  background-color: #c3c3c3;\\n  mask-size: auto calc(min(50%, 400px));\\n  -webkit-mask-size: auto calc(min(50%, 400px));\\n}\",{\"id\":\"969d371a-d485-49de-8d3e-d895a7b563c1\"},{\"id\":\"253ab351-beae-40f9-adc7-43e590fa5f29\"},{\"id\":\"fca26a88-5593-41cc-911e-50356bdb09d2\"}],\"margin\":[5,10],\"align\":\"start\",\"text\":\"&lt;div style=&#x27;margin: 0;&#x27;&gt;&lt;span&gt;tardis.simulation.base&lt;/span&gt; &lt;span style=&quot;color: #D3D3D3; font-weight: bold;&quot;&gt;[INFO]&lt;/span&gt; \\n\\tLuminosity emitted   = 1.059e+43 erg / s\\n\\tLuminosity absorbed  = 3.356e+42 erg / s\\n\\tLuminosity requested = 1.059e+43 erg / s\\n (base.py:643)&lt;/div&gt;\",\"disable_math\":true}},{\"type\":\"object\",\"name\":\"panel.models.markup.HTML\",\"id\":\"80d4b431-067f-4e25-8612-9c7b0c451c9b\",\"attributes\":{\"stylesheets\":[\"\\n:host(.pn-loading):before, .pn-loading:before {\\n  background-color: #c3c3c3;\\n  mask-size: auto calc(min(50%, 400px));\\n  -webkit-mask-size: auto calc(min(50%, 400px));\\n}\",{\"id\":\"969d371a-d485-49de-8d3e-d895a7b563c1\"},{\"id\":\"253ab351-beae-40f9-adc7-43e590fa5f29\"},{\"id\":\"fca26a88-5593-41cc-911e-50356bdb09d2\"}],\"margin\":[5,10],\"align\":\"start\",\"text\":\"&lt;div style=&#x27;margin: 0;&#x27;&gt;&lt;span&gt;tardis.simulation.base&lt;/span&gt; &lt;span style=&quot;color: #D3D3D3; font-weight: bold;&quot;&gt;[INFO]&lt;/span&gt; Iteration converged 2/4 consecutive times. (base.py:260)&lt;/div&gt;\",\"disable_math\":true}},{\"type\":\"object\",\"name\":\"panel.models.markup.HTML\",\"id\":\"dde74985-343f-424b-abaa-3a3070c803d6\",\"attributes\":{\"stylesheets\":[\"\\n:host(.pn-loading):before, .pn-loading:before {\\n  background-color: #c3c3c3;\\n  mask-size: auto calc(min(50%, 400px));\\n  -webkit-mask-size: auto calc(min(50%, 400px));\\n}\",{\"id\":\"969d371a-d485-49de-8d3e-d895a7b563c1\"},{\"id\":\"253ab351-beae-40f9-adc7-43e590fa5f29\"},{\"id\":\"fca26a88-5593-41cc-911e-50356bdb09d2\"}],\"margin\":[5,10],\"align\":\"start\",\"text\":\"&lt;div style=&#x27;margin: 0;&#x27;&gt;&lt;span&gt;tardis.simulation.base&lt;/span&gt; &lt;span style=&quot;color: #D3D3D3; font-weight: bold;&quot;&gt;[INFO]&lt;/span&gt; \\n\\tPlasma stratification: (base.py:635)&lt;/div&gt;\",\"disable_math\":true}},{\"type\":\"object\",\"name\":\"panel.models.markup.HTML\",\"id\":\"fd2a3876-013b-4efd-a7f1-8335a9684891\",\"attributes\":{\"stylesheets\":[\"\\n:host(.pn-loading):before, .pn-loading:before {\\n  background-color: #c3c3c3;\\n  mask-size: auto calc(min(50%, 400px));\\n  -webkit-mask-size: auto calc(min(50%, 400px));\\n}\",{\"id\":\"969d371a-d485-49de-8d3e-d895a7b563c1\"},{\"id\":\"253ab351-beae-40f9-adc7-43e590fa5f29\"},{\"id\":\"fca26a88-5593-41cc-911e-50356bdb09d2\"}],\"margin\":[5,10],\"align\":\"start\",\"text\":\"&lt;div style=&#x27;margin: 0;&#x27;&gt;&lt;span&gt;tardis.simulation.base&lt;/span&gt; &lt;span style=&quot;color: #D3D3D3; font-weight: bold;&quot;&gt;[INFO]&lt;/span&gt; \\n\\tShell No.    t_rad    next_t_rad    w   next_w\\n\\t0          1.1e+04 K   1.1e+04 K 0.485   0.474\\n\\t5         1.12e+04 K  1.12e+04 K 0.189   0.182\\n\\t10        1.09e+04 K  1.11e+04 K 0.118   0.113\\n\\t15        1.06e+04 K  1.07e+04 K 0.088  0.0852\\n (base.py:636)&lt;/div&gt;\",\"disable_math\":true}},{\"type\":\"object\",\"name\":\"panel.models.markup.HTML\",\"id\":\"0623f0ae-0ccc-4ebb-82f0-2012025c56b5\",\"attributes\":{\"stylesheets\":[\"\\n:host(.pn-loading):before, .pn-loading:before {\\n  background-color: #c3c3c3;\\n  mask-size: auto calc(min(50%, 400px));\\n  -webkit-mask-size: auto calc(min(50%, 400px));\\n}\",{\"id\":\"969d371a-d485-49de-8d3e-d895a7b563c1\"},{\"id\":\"253ab351-beae-40f9-adc7-43e590fa5f29\"},{\"id\":\"fca26a88-5593-41cc-911e-50356bdb09d2\"}],\"margin\":[5,10],\"align\":\"start\",\"text\":\"&lt;div style=&#x27;margin: 0;&#x27;&gt;&lt;span&gt;tardis.simulation.base&lt;/span&gt; &lt;span style=&quot;color: #D3D3D3; font-weight: bold;&quot;&gt;[INFO]&lt;/span&gt; \\n\\tCurrent t_inner = 10637.379 K\\n\\tExpected t_inner for next iteration = 10638.692 K\\n (base.py:638)&lt;/div&gt;\",\"disable_math\":true}},{\"type\":\"object\",\"name\":\"panel.models.markup.HTML\",\"id\":\"3df1e80b-a593-4e2b-a355-e1a0814a2297\",\"attributes\":{\"stylesheets\":[\"\\n:host(.pn-loading):before, .pn-loading:before {\\n  background-color: #c3c3c3;\\n  mask-size: auto calc(min(50%, 400px));\\n  -webkit-mask-size: auto calc(min(50%, 400px));\\n}\",{\"id\":\"969d371a-d485-49de-8d3e-d895a7b563c1\"},{\"id\":\"253ab351-beae-40f9-adc7-43e590fa5f29\"},{\"id\":\"fca26a88-5593-41cc-911e-50356bdb09d2\"}],\"margin\":[5,10],\"align\":\"start\",\"text\":\"&lt;div style=&#x27;margin: 0;&#x27;&gt;&lt;span&gt;tardis.simulation.base&lt;/span&gt; &lt;span style=&quot;color: #D3D3D3; font-weight: bold;&quot;&gt;[INFO]&lt;/span&gt; \\n\\tStarting iteration 5 of 20 (base.py:448)&lt;/div&gt;\",\"disable_math\":true}},{\"type\":\"object\",\"name\":\"panel.models.markup.HTML\",\"id\":\"8fbe4161-4399-44a0-b0e6-03a7e38bd115\",\"attributes\":{\"stylesheets\":[\"\\n:host(.pn-loading):before, .pn-loading:before {\\n  background-color: #c3c3c3;\\n  mask-size: auto calc(min(50%, 400px));\\n  -webkit-mask-size: auto calc(min(50%, 400px));\\n}\",{\"id\":\"969d371a-d485-49de-8d3e-d895a7b563c1\"},{\"id\":\"253ab351-beae-40f9-adc7-43e590fa5f29\"},{\"id\":\"fca26a88-5593-41cc-911e-50356bdb09d2\"}],\"margin\":[5,10],\"align\":\"start\",\"text\":\"&lt;div style=&#x27;margin: 0;&#x27;&gt;&lt;span&gt;tardis.simulation.base&lt;/span&gt; &lt;span style=&quot;color: #D3D3D3; font-weight: bold;&quot;&gt;[INFO]&lt;/span&gt; \\n\\tLuminosity emitted   = 1.056e+43 erg / s\\n\\tLuminosity absorbed  = 3.389e+42 erg / s\\n\\tLuminosity requested = 1.059e+43 erg / s\\n (base.py:643)&lt;/div&gt;\",\"disable_math\":true}},{\"type\":\"object\",\"name\":\"panel.models.markup.HTML\",\"id\":\"44dbecc1-8d4b-48ed-8631-60a174b2d83b\",\"attributes\":{\"stylesheets\":[\"\\n:host(.pn-loading):before, .pn-loading:before {\\n  background-color: #c3c3c3;\\n  mask-size: auto calc(min(50%, 400px));\\n  -webkit-mask-size: auto calc(min(50%, 400px));\\n}\",{\"id\":\"969d371a-d485-49de-8d3e-d895a7b563c1\"},{\"id\":\"253ab351-beae-40f9-adc7-43e590fa5f29\"},{\"id\":\"fca26a88-5593-41cc-911e-50356bdb09d2\"}],\"margin\":[5,10],\"align\":\"start\",\"text\":\"&lt;div style=&#x27;margin: 0;&#x27;&gt;&lt;span&gt;tardis.simulation.base&lt;/span&gt; &lt;span style=&quot;color: #D3D3D3; font-weight: bold;&quot;&gt;[INFO]&lt;/span&gt; Iteration converged 3/4 consecutive times. (base.py:260)&lt;/div&gt;\",\"disable_math\":true}},{\"type\":\"object\",\"name\":\"panel.models.markup.HTML\",\"id\":\"c232230c-964d-4505-93dc-8fca8f9b2477\",\"attributes\":{\"stylesheets\":[\"\\n:host(.pn-loading):before, .pn-loading:before {\\n  background-color: #c3c3c3;\\n  mask-size: auto calc(min(50%, 400px));\\n  -webkit-mask-size: auto calc(min(50%, 400px));\\n}\",{\"id\":\"969d371a-d485-49de-8d3e-d895a7b563c1\"},{\"id\":\"253ab351-beae-40f9-adc7-43e590fa5f29\"},{\"id\":\"fca26a88-5593-41cc-911e-50356bdb09d2\"}],\"margin\":[5,10],\"align\":\"start\",\"text\":\"&lt;div style=&#x27;margin: 0;&#x27;&gt;&lt;span&gt;tardis.simulation.base&lt;/span&gt; &lt;span style=&quot;color: #D3D3D3; font-weight: bold;&quot;&gt;[INFO]&lt;/span&gt; \\n\\tPlasma stratification: (base.py:635)&lt;/div&gt;\",\"disable_math\":true}},{\"type\":\"object\",\"name\":\"panel.models.markup.HTML\",\"id\":\"17786ad1-f308-453d-a29b-0b53cc0a28bb\",\"attributes\":{\"stylesheets\":[\"\\n:host(.pn-loading):before, .pn-loading:before {\\n  background-color: #c3c3c3;\\n  mask-size: auto calc(min(50%, 400px));\\n  -webkit-mask-size: auto calc(min(50%, 400px));\\n}\",{\"id\":\"969d371a-d485-49de-8d3e-d895a7b563c1\"},{\"id\":\"253ab351-beae-40f9-adc7-43e590fa5f29\"},{\"id\":\"fca26a88-5593-41cc-911e-50356bdb09d2\"}],\"margin\":[5,10],\"align\":\"start\",\"text\":\"&lt;div style=&#x27;margin: 0;&#x27;&gt;&lt;span&gt;tardis.simulation.base&lt;/span&gt; &lt;span style=&quot;color: #D3D3D3; font-weight: bold;&quot;&gt;[INFO]&lt;/span&gt; \\n\\tShell No.    t_rad    next_t_rad    w    next_w\\n\\t0          1.1e+04 K   1.1e+04 K  0.474   0.481\\n\\t5         1.12e+04 K  1.13e+04 K  0.182   0.179\\n\\t10        1.11e+04 K   1.1e+04 K  0.113   0.114\\n\\t15        1.07e+04 K  1.07e+04 K 0.0852  0.0844\\n (base.py:636)&lt;/div&gt;\",\"disable_math\":true}},{\"type\":\"object\",\"name\":\"panel.models.markup.HTML\",\"id\":\"c77303d1-8bdb-4f20-a5a5-323d37e8ac55\",\"attributes\":{\"stylesheets\":[\"\\n:host(.pn-loading):before, .pn-loading:before {\\n  background-color: #c3c3c3;\\n  mask-size: auto calc(min(50%, 400px));\\n  -webkit-mask-size: auto calc(min(50%, 400px));\\n}\",{\"id\":\"969d371a-d485-49de-8d3e-d895a7b563c1\"},{\"id\":\"253ab351-beae-40f9-adc7-43e590fa5f29\"},{\"id\":\"fca26a88-5593-41cc-911e-50356bdb09d2\"}],\"margin\":[5,10],\"align\":\"start\",\"text\":\"&lt;div style=&#x27;margin: 0;&#x27;&gt;&lt;span&gt;tardis.simulation.base&lt;/span&gt; &lt;span style=&quot;color: #D3D3D3; font-weight: bold;&quot;&gt;[INFO]&lt;/span&gt; \\n\\tCurrent t_inner = 10638.692 K\\n\\tExpected t_inner for next iteration = 10647.667 K\\n (base.py:638)&lt;/div&gt;\",\"disable_math\":true}},{\"type\":\"object\",\"name\":\"panel.models.markup.HTML\",\"id\":\"38d8ed8e-6c40-4a91-82c0-23ba97fb9515\",\"attributes\":{\"stylesheets\":[\"\\n:host(.pn-loading):before, .pn-loading:before {\\n  background-color: #c3c3c3;\\n  mask-size: auto calc(min(50%, 400px));\\n  -webkit-mask-size: auto calc(min(50%, 400px));\\n}\",{\"id\":\"969d371a-d485-49de-8d3e-d895a7b563c1\"},{\"id\":\"253ab351-beae-40f9-adc7-43e590fa5f29\"},{\"id\":\"fca26a88-5593-41cc-911e-50356bdb09d2\"}],\"margin\":[5,10],\"align\":\"start\",\"text\":\"&lt;div style=&#x27;margin: 0;&#x27;&gt;&lt;span&gt;tardis.simulation.base&lt;/span&gt; &lt;span style=&quot;color: #D3D3D3; font-weight: bold;&quot;&gt;[INFO]&lt;/span&gt; \\n\\tStarting iteration 6 of 20 (base.py:448)&lt;/div&gt;\",\"disable_math\":true}},{\"type\":\"object\",\"name\":\"panel.models.markup.HTML\",\"id\":\"b5d25a6a-b82e-42ff-9fb3-e596228c68c0\",\"attributes\":{\"stylesheets\":[\"\\n:host(.pn-loading):before, .pn-loading:before {\\n  background-color: #c3c3c3;\\n  mask-size: auto calc(min(50%, 400px));\\n  -webkit-mask-size: auto calc(min(50%, 400px));\\n}\",{\"id\":\"969d371a-d485-49de-8d3e-d895a7b563c1\"},{\"id\":\"253ab351-beae-40f9-adc7-43e590fa5f29\"},{\"id\":\"fca26a88-5593-41cc-911e-50356bdb09d2\"}],\"margin\":[5,10],\"align\":\"start\",\"text\":\"&lt;div style=&#x27;margin: 0;&#x27;&gt;&lt;span&gt;tardis.simulation.base&lt;/span&gt; &lt;span style=&quot;color: #D3D3D3; font-weight: bold;&quot;&gt;[INFO]&lt;/span&gt; \\n\\tLuminosity emitted   = 1.061e+43 erg / s\\n\\tLuminosity absorbed  = 3.391e+42 erg / s\\n\\tLuminosity requested = 1.059e+43 erg / s\\n (base.py:643)&lt;/div&gt;\",\"disable_math\":true}},{\"type\":\"object\",\"name\":\"panel.models.markup.HTML\",\"id\":\"493677dd-4fec-4f8b-aaf3-3c44567e56d2\",\"attributes\":{\"stylesheets\":[\"\\n:host(.pn-loading):before, .pn-loading:before {\\n  background-color: #c3c3c3;\\n  mask-size: auto calc(min(50%, 400px));\\n  -webkit-mask-size: auto calc(min(50%, 400px));\\n}\",{\"id\":\"969d371a-d485-49de-8d3e-d895a7b563c1\"},{\"id\":\"253ab351-beae-40f9-adc7-43e590fa5f29\"},{\"id\":\"fca26a88-5593-41cc-911e-50356bdb09d2\"}],\"margin\":[5,10],\"align\":\"start\",\"text\":\"&lt;div style=&#x27;margin: 0;&#x27;&gt;&lt;span&gt;tardis.simulation.base&lt;/span&gt; &lt;span style=&quot;color: #D3D3D3; font-weight: bold;&quot;&gt;[INFO]&lt;/span&gt; Iteration converged 4/4 consecutive times. (base.py:260)&lt;/div&gt;\",\"disable_math\":true}},{\"type\":\"object\",\"name\":\"panel.models.markup.HTML\",\"id\":\"9ba86645-8412-46c7-8334-6f1626f7ca05\",\"attributes\":{\"stylesheets\":[\"\\n:host(.pn-loading):before, .pn-loading:before {\\n  background-color: #c3c3c3;\\n  mask-size: auto calc(min(50%, 400px));\\n  -webkit-mask-size: auto calc(min(50%, 400px));\\n}\",{\"id\":\"969d371a-d485-49de-8d3e-d895a7b563c1\"},{\"id\":\"253ab351-beae-40f9-adc7-43e590fa5f29\"},{\"id\":\"fca26a88-5593-41cc-911e-50356bdb09d2\"}],\"margin\":[5,10],\"align\":\"start\",\"text\":\"&lt;div style=&#x27;margin: 0;&#x27;&gt;&lt;span&gt;tardis.simulation.base&lt;/span&gt; &lt;span style=&quot;color: #D3D3D3; font-weight: bold;&quot;&gt;[INFO]&lt;/span&gt; \\n\\tPlasma stratification: (base.py:635)&lt;/div&gt;\",\"disable_math\":true}},{\"type\":\"object\",\"name\":\"panel.models.markup.HTML\",\"id\":\"af2b2c7b-5ed6-4760-9f72-ba97baa1960c\",\"attributes\":{\"stylesheets\":[\"\\n:host(.pn-loading):before, .pn-loading:before {\\n  background-color: #c3c3c3;\\n  mask-size: auto calc(min(50%, 400px));\\n  -webkit-mask-size: auto calc(min(50%, 400px));\\n}\",{\"id\":\"969d371a-d485-49de-8d3e-d895a7b563c1\"},{\"id\":\"253ab351-beae-40f9-adc7-43e590fa5f29\"},{\"id\":\"fca26a88-5593-41cc-911e-50356bdb09d2\"}],\"margin\":[5,10],\"align\":\"start\",\"text\":\"&lt;div style=&#x27;margin: 0;&#x27;&gt;&lt;span&gt;tardis.simulation.base&lt;/span&gt; &lt;span style=&quot;color: #D3D3D3; font-weight: bold;&quot;&gt;[INFO]&lt;/span&gt; \\n\\tShell No.    t_rad    next_t_rad    w    next_w\\n\\t0          1.1e+04 K  1.11e+04 K  0.481   0.469\\n\\t5         1.13e+04 K  1.12e+04 K  0.179   0.184\\n\\t10         1.1e+04 K   1.1e+04 K  0.114   0.115\\n\\t15        1.07e+04 K  1.06e+04 K 0.0844  0.0866\\n (base.py:636)&lt;/div&gt;\",\"disable_math\":true}},{\"type\":\"object\",\"name\":\"panel.models.markup.HTML\",\"id\":\"91f6bf7b-bb5c-4166-a688-8233d1cfef6b\",\"attributes\":{\"stylesheets\":[\"\\n:host(.pn-loading):before, .pn-loading:before {\\n  background-color: #c3c3c3;\\n  mask-size: auto calc(min(50%, 400px));\\n  -webkit-mask-size: auto calc(min(50%, 400px));\\n}\",{\"id\":\"969d371a-d485-49de-8d3e-d895a7b563c1\"},{\"id\":\"253ab351-beae-40f9-adc7-43e590fa5f29\"},{\"id\":\"fca26a88-5593-41cc-911e-50356bdb09d2\"}],\"margin\":[5,10],\"align\":\"start\",\"text\":\"&lt;div style=&#x27;margin: 0;&#x27;&gt;&lt;span&gt;tardis.simulation.base&lt;/span&gt; &lt;span style=&quot;color: #D3D3D3; font-weight: bold;&quot;&gt;[INFO]&lt;/span&gt; \\n\\tCurrent t_inner = 10647.667 K\\n\\tExpected t_inner for next iteration = 10644.519 K\\n (base.py:638)&lt;/div&gt;\",\"disable_math\":true}},{\"type\":\"object\",\"name\":\"panel.models.markup.HTML\",\"id\":\"f1ab065b-c31d-4ea0-8347-ecb17bf7a2e4\",\"attributes\":{\"stylesheets\":[\"\\n:host(.pn-loading):before, .pn-loading:before {\\n  background-color: #c3c3c3;\\n  mask-size: auto calc(min(50%, 400px));\\n  -webkit-mask-size: auto calc(min(50%, 400px));\\n}\",{\"id\":\"969d371a-d485-49de-8d3e-d895a7b563c1\"},{\"id\":\"253ab351-beae-40f9-adc7-43e590fa5f29\"},{\"id\":\"fca26a88-5593-41cc-911e-50356bdb09d2\"}],\"margin\":[5,10],\"align\":\"start\",\"text\":\"&lt;div style=&#x27;margin: 0;&#x27;&gt;&lt;span&gt;tardis.simulation.base&lt;/span&gt; &lt;span style=&quot;color: #D3D3D3; font-weight: bold;&quot;&gt;[INFO]&lt;/span&gt; \\n\\tStarting iteration 7 of 20 (base.py:448)&lt;/div&gt;\",\"disable_math\":true}},{\"type\":\"object\",\"name\":\"panel.models.markup.HTML\",\"id\":\"18c9dc8b-4200-4b0e-a448-79be66012b67\",\"attributes\":{\"stylesheets\":[\"\\n:host(.pn-loading):before, .pn-loading:before {\\n  background-color: #c3c3c3;\\n  mask-size: auto calc(min(50%, 400px));\\n  -webkit-mask-size: auto calc(min(50%, 400px));\\n}\",{\"id\":\"969d371a-d485-49de-8d3e-d895a7b563c1\"},{\"id\":\"253ab351-beae-40f9-adc7-43e590fa5f29\"},{\"id\":\"fca26a88-5593-41cc-911e-50356bdb09d2\"}],\"margin\":[5,10],\"align\":\"start\",\"text\":\"&lt;div style=&#x27;margin: 0;&#x27;&gt;&lt;span&gt;tardis.simulation.base&lt;/span&gt; &lt;span style=&quot;color: #D3D3D3; font-weight: bold;&quot;&gt;[INFO]&lt;/span&gt; \\n\\tLuminosity emitted   = 1.059e+43 erg / s\\n\\tLuminosity absorbed  = 3.388e+42 erg / s\\n\\tLuminosity requested = 1.059e+43 erg / s\\n (base.py:643)&lt;/div&gt;\",\"disable_math\":true}},{\"type\":\"object\",\"name\":\"panel.models.markup.HTML\",\"id\":\"cac6d1b8-3eeb-4eee-8526-21ee6e5a7503\",\"attributes\":{\"stylesheets\":[\"\\n:host(.pn-loading):before, .pn-loading:before {\\n  background-color: #c3c3c3;\\n  mask-size: auto calc(min(50%, 400px));\\n  -webkit-mask-size: auto calc(min(50%, 400px));\\n}\",{\"id\":\"969d371a-d485-49de-8d3e-d895a7b563c1\"},{\"id\":\"253ab351-beae-40f9-adc7-43e590fa5f29\"},{\"id\":\"fca26a88-5593-41cc-911e-50356bdb09d2\"}],\"margin\":[5,10],\"align\":\"start\",\"text\":\"&lt;div style=&#x27;margin: 0;&#x27;&gt;&lt;span&gt;tardis.simulation.base&lt;/span&gt; &lt;span style=&quot;color: #D3D3D3; font-weight: bold;&quot;&gt;[INFO]&lt;/span&gt; Iteration converged 5/4 consecutive times. (base.py:260)&lt;/div&gt;\",\"disable_math\":true}},{\"type\":\"object\",\"name\":\"panel.models.markup.HTML\",\"id\":\"a735ed11-3da7-423c-9322-d39b23a170a0\",\"attributes\":{\"stylesheets\":[\"\\n:host(.pn-loading):before, .pn-loading:before {\\n  background-color: #c3c3c3;\\n  mask-size: auto calc(min(50%, 400px));\\n  -webkit-mask-size: auto calc(min(50%, 400px));\\n}\",{\"id\":\"969d371a-d485-49de-8d3e-d895a7b563c1\"},{\"id\":\"253ab351-beae-40f9-adc7-43e590fa5f29\"},{\"id\":\"fca26a88-5593-41cc-911e-50356bdb09d2\"}],\"margin\":[5,10],\"align\":\"start\",\"text\":\"&lt;div style=&#x27;margin: 0;&#x27;&gt;&lt;span&gt;tardis.simulation.base&lt;/span&gt; &lt;span style=&quot;color: #D3D3D3; font-weight: bold;&quot;&gt;[INFO]&lt;/span&gt; \\n\\tPlasma stratification: (base.py:635)&lt;/div&gt;\",\"disable_math\":true}},{\"type\":\"object\",\"name\":\"panel.models.markup.HTML\",\"id\":\"3223908e-0ffc-4d3c-91fa-d2d5ed5aecf3\",\"attributes\":{\"stylesheets\":[\"\\n:host(.pn-loading):before, .pn-loading:before {\\n  background-color: #c3c3c3;\\n  mask-size: auto calc(min(50%, 400px));\\n  -webkit-mask-size: auto calc(min(50%, 400px));\\n}\",{\"id\":\"969d371a-d485-49de-8d3e-d895a7b563c1\"},{\"id\":\"253ab351-beae-40f9-adc7-43e590fa5f29\"},{\"id\":\"fca26a88-5593-41cc-911e-50356bdb09d2\"}],\"margin\":[5,10],\"align\":\"start\",\"text\":\"&lt;div style=&#x27;margin: 0;&#x27;&gt;&lt;span&gt;tardis.simulation.base&lt;/span&gt; &lt;span style=&quot;color: #D3D3D3; font-weight: bold;&quot;&gt;[INFO]&lt;/span&gt; \\n\\tShell No.    t_rad    next_t_rad    w    next_w\\n\\t0         1.11e+04 K  1.11e+04 K  0.469   0.466\\n\\t5         1.12e+04 K  1.14e+04 K  0.184   0.171\\n\\t10         1.1e+04 K  1.11e+04 K  0.115    0.11\\n\\t15        1.06e+04 K  1.07e+04 K 0.0866  0.0854\\n (base.py:636)&lt;/div&gt;\",\"disable_math\":true}},{\"type\":\"object\",\"name\":\"panel.models.markup.HTML\",\"id\":\"027df66d-52d9-411f-9522-3510d02a7cc1\",\"attributes\":{\"stylesheets\":[\"\\n:host(.pn-loading):before, .pn-loading:before {\\n  background-color: #c3c3c3;\\n  mask-size: auto calc(min(50%, 400px));\\n  -webkit-mask-size: auto calc(min(50%, 400px));\\n}\",{\"id\":\"969d371a-d485-49de-8d3e-d895a7b563c1\"},{\"id\":\"253ab351-beae-40f9-adc7-43e590fa5f29\"},{\"id\":\"fca26a88-5593-41cc-911e-50356bdb09d2\"}],\"margin\":[5,10],\"align\":\"start\",\"text\":\"&lt;div style=&#x27;margin: 0;&#x27;&gt;&lt;span&gt;tardis.simulation.base&lt;/span&gt; &lt;span style=&quot;color: #D3D3D3; font-weight: bold;&quot;&gt;[INFO]&lt;/span&gt; \\n\\tCurrent t_inner = 10644.519 K\\n\\tExpected t_inner for next iteration = 10644.372 K\\n (base.py:638)&lt;/div&gt;\",\"disable_math\":true}},{\"type\":\"object\",\"name\":\"panel.models.markup.HTML\",\"id\":\"796d525c-1b14-42b0-b5a3-f832af8f568f\",\"attributes\":{\"stylesheets\":[\"\\n:host(.pn-loading):before, .pn-loading:before {\\n  background-color: #c3c3c3;\\n  mask-size: auto calc(min(50%, 400px));\\n  -webkit-mask-size: auto calc(min(50%, 400px));\\n}\",{\"id\":\"969d371a-d485-49de-8d3e-d895a7b563c1\"},{\"id\":\"253ab351-beae-40f9-adc7-43e590fa5f29\"},{\"id\":\"fca26a88-5593-41cc-911e-50356bdb09d2\"}],\"margin\":[5,10],\"align\":\"start\",\"text\":\"&lt;div style=&#x27;margin: 0;&#x27;&gt;&lt;span&gt;tardis.simulation.base&lt;/span&gt; &lt;span style=&quot;color: #D3D3D3; font-weight: bold;&quot;&gt;[INFO]&lt;/span&gt; \\n\\tStarting iteration 8 of 20 (base.py:448)&lt;/div&gt;\",\"disable_math\":true}},{\"type\":\"object\",\"name\":\"panel.models.markup.HTML\",\"id\":\"6c298df2-dc5d-421e-b505-2e2921c67079\",\"attributes\":{\"stylesheets\":[\"\\n:host(.pn-loading):before, .pn-loading:before {\\n  background-color: #c3c3c3;\\n  mask-size: auto calc(min(50%, 400px));\\n  -webkit-mask-size: auto calc(min(50%, 400px));\\n}\",{\"id\":\"969d371a-d485-49de-8d3e-d895a7b563c1\"},{\"id\":\"253ab351-beae-40f9-adc7-43e590fa5f29\"},{\"id\":\"fca26a88-5593-41cc-911e-50356bdb09d2\"}],\"margin\":[5,10],\"align\":\"start\",\"text\":\"&lt;div style=&#x27;margin: 0;&#x27;&gt;&lt;span&gt;tardis.simulation.base&lt;/span&gt; &lt;span style=&quot;color: #D3D3D3; font-weight: bold;&quot;&gt;[INFO]&lt;/span&gt; \\n\\tLuminosity emitted   = 1.062e+43 erg / s\\n\\tLuminosity absorbed  = 3.363e+42 erg / s\\n\\tLuminosity requested = 1.059e+43 erg / s\\n (base.py:643)&lt;/div&gt;\",\"disable_math\":true}},{\"type\":\"object\",\"name\":\"panel.models.markup.HTML\",\"id\":\"370f2db0-02a8-4a0b-948c-32e3246e7cb7\",\"attributes\":{\"stylesheets\":[\"\\n:host(.pn-loading):before, .pn-loading:before {\\n  background-color: #c3c3c3;\\n  mask-size: auto calc(min(50%, 400px));\\n  -webkit-mask-size: auto calc(min(50%, 400px));\\n}\",{\"id\":\"969d371a-d485-49de-8d3e-d895a7b563c1\"},{\"id\":\"253ab351-beae-40f9-adc7-43e590fa5f29\"},{\"id\":\"fca26a88-5593-41cc-911e-50356bdb09d2\"}],\"margin\":[5,10],\"align\":\"start\",\"text\":\"&lt;div style=&#x27;margin: 0;&#x27;&gt;&lt;span&gt;tardis.simulation.base&lt;/span&gt; &lt;span style=&quot;color: #D3D3D3; font-weight: bold;&quot;&gt;[INFO]&lt;/span&gt; Iteration converged 6/4 consecutive times. (base.py:260)&lt;/div&gt;\",\"disable_math\":true}},{\"type\":\"object\",\"name\":\"panel.models.markup.HTML\",\"id\":\"93364e3e-1019-4e75-8aa6-11c6308f2d31\",\"attributes\":{\"stylesheets\":[\"\\n:host(.pn-loading):before, .pn-loading:before {\\n  background-color: #c3c3c3;\\n  mask-size: auto calc(min(50%, 400px));\\n  -webkit-mask-size: auto calc(min(50%, 400px));\\n}\",{\"id\":\"969d371a-d485-49de-8d3e-d895a7b563c1\"},{\"id\":\"253ab351-beae-40f9-adc7-43e590fa5f29\"},{\"id\":\"fca26a88-5593-41cc-911e-50356bdb09d2\"}],\"margin\":[5,10],\"align\":\"start\",\"text\":\"&lt;div style=&#x27;margin: 0;&#x27;&gt;&lt;span&gt;tardis.simulation.base&lt;/span&gt; &lt;span style=&quot;color: #D3D3D3; font-weight: bold;&quot;&gt;[INFO]&lt;/span&gt; \\n\\tPlasma stratification: (base.py:635)&lt;/div&gt;\",\"disable_math\":true}},{\"type\":\"object\",\"name\":\"panel.models.markup.HTML\",\"id\":\"23adece3-fa72-499d-a0bd-7a7370b77601\",\"attributes\":{\"stylesheets\":[\"\\n:host(.pn-loading):before, .pn-loading:before {\\n  background-color: #c3c3c3;\\n  mask-size: auto calc(min(50%, 400px));\\n  -webkit-mask-size: auto calc(min(50%, 400px));\\n}\",{\"id\":\"969d371a-d485-49de-8d3e-d895a7b563c1\"},{\"id\":\"253ab351-beae-40f9-adc7-43e590fa5f29\"},{\"id\":\"fca26a88-5593-41cc-911e-50356bdb09d2\"}],\"margin\":[5,10],\"align\":\"start\",\"text\":\"&lt;div style=&#x27;margin: 0;&#x27;&gt;&lt;span&gt;tardis.simulation.base&lt;/span&gt; &lt;span style=&quot;color: #D3D3D3; font-weight: bold;&quot;&gt;[INFO]&lt;/span&gt; \\n\\tShell No.    t_rad    next_t_rad    w    next_w\\n\\t0         1.11e+04 K  1.11e+04 K  0.466   0.469\\n\\t5         1.14e+04 K  1.14e+04 K  0.171   0.176\\n\\t10        1.11e+04 K  1.11e+04 K   0.11   0.111\\n\\t15        1.07e+04 K  1.07e+04 K 0.0854  0.0847\\n (base.py:636)&lt;/div&gt;\",\"disable_math\":true}},{\"type\":\"object\",\"name\":\"panel.models.markup.HTML\",\"id\":\"455d66ae-2bf1-4837-ab5a-6eca919e9698\",\"attributes\":{\"stylesheets\":[\"\\n:host(.pn-loading):before, .pn-loading:before {\\n  background-color: #c3c3c3;\\n  mask-size: auto calc(min(50%, 400px));\\n  -webkit-mask-size: auto calc(min(50%, 400px));\\n}\",{\"id\":\"969d371a-d485-49de-8d3e-d895a7b563c1\"},{\"id\":\"253ab351-beae-40f9-adc7-43e590fa5f29\"},{\"id\":\"fca26a88-5593-41cc-911e-50356bdb09d2\"}],\"margin\":[5,10],\"align\":\"start\",\"text\":\"&lt;div style=&#x27;margin: 0;&#x27;&gt;&lt;span&gt;tardis.simulation.base&lt;/span&gt; &lt;span style=&quot;color: #D3D3D3; font-weight: bold;&quot;&gt;[INFO]&lt;/span&gt; \\n\\tCurrent t_inner = 10644.372 K\\n\\tExpected t_inner for next iteration = 10638.593 K\\n (base.py:638)&lt;/div&gt;\",\"disable_math\":true}},{\"type\":\"object\",\"name\":\"panel.models.markup.HTML\",\"id\":\"7228a395-ea86-425d-a25e-6c02b83cd3ee\",\"attributes\":{\"stylesheets\":[\"\\n:host(.pn-loading):before, .pn-loading:before {\\n  background-color: #c3c3c3;\\n  mask-size: auto calc(min(50%, 400px));\\n  -webkit-mask-size: auto calc(min(50%, 400px));\\n}\",{\"id\":\"969d371a-d485-49de-8d3e-d895a7b563c1\"},{\"id\":\"253ab351-beae-40f9-adc7-43e590fa5f29\"},{\"id\":\"fca26a88-5593-41cc-911e-50356bdb09d2\"}],\"margin\":[5,10],\"align\":\"start\",\"text\":\"&lt;div style=&#x27;margin: 0;&#x27;&gt;&lt;span&gt;tardis.simulation.base&lt;/span&gt; &lt;span style=&quot;color: #D3D3D3; font-weight: bold;&quot;&gt;[INFO]&lt;/span&gt; \\n\\tStarting iteration 9 of 20 (base.py:448)&lt;/div&gt;\",\"disable_math\":true}},{\"type\":\"object\",\"name\":\"panel.models.markup.HTML\",\"id\":\"5d139d97-f6bc-42cf-a45f-5cc12d502eb5\",\"attributes\":{\"stylesheets\":[\"\\n:host(.pn-loading):before, .pn-loading:before {\\n  background-color: #c3c3c3;\\n  mask-size: auto calc(min(50%, 400px));\\n  -webkit-mask-size: auto calc(min(50%, 400px));\\n}\",{\"id\":\"969d371a-d485-49de-8d3e-d895a7b563c1\"},{\"id\":\"253ab351-beae-40f9-adc7-43e590fa5f29\"},{\"id\":\"fca26a88-5593-41cc-911e-50356bdb09d2\"}],\"margin\":[5,10],\"align\":\"start\",\"text\":\"&lt;div style=&#x27;margin: 0;&#x27;&gt;&lt;span&gt;tardis.simulation.base&lt;/span&gt; &lt;span style=&quot;color: #D3D3D3; font-weight: bold;&quot;&gt;[INFO]&lt;/span&gt; \\n\\tLuminosity emitted   = 1.052e+43 erg / s\\n\\tLuminosity absorbed  = 3.425e+42 erg / s\\n\\tLuminosity requested = 1.059e+43 erg / s\\n (base.py:643)&lt;/div&gt;\",\"disable_math\":true}},{\"type\":\"object\",\"name\":\"panel.models.markup.HTML\",\"id\":\"360bbaec-d09f-4d16-bfe5-cd27d84656e4\",\"attributes\":{\"stylesheets\":[\"\\n:host(.pn-loading):before, .pn-loading:before {\\n  background-color: #c3c3c3;\\n  mask-size: auto calc(min(50%, 400px));\\n  -webkit-mask-size: auto calc(min(50%, 400px));\\n}\",{\"id\":\"969d371a-d485-49de-8d3e-d895a7b563c1\"},{\"id\":\"253ab351-beae-40f9-adc7-43e590fa5f29\"},{\"id\":\"fca26a88-5593-41cc-911e-50356bdb09d2\"}],\"margin\":[5,10],\"align\":\"start\",\"text\":\"&lt;div style=&#x27;margin: 0;&#x27;&gt;&lt;span&gt;tardis.simulation.base&lt;/span&gt; &lt;span style=&quot;color: #D3D3D3; font-weight: bold;&quot;&gt;[INFO]&lt;/span&gt; Iteration converged 7/4 consecutive times. (base.py:260)&lt;/div&gt;\",\"disable_math\":true}},{\"type\":\"object\",\"name\":\"panel.models.markup.HTML\",\"id\":\"de5a7c67-d8dc-4e19-80d7-ea96384aaf19\",\"attributes\":{\"stylesheets\":[\"\\n:host(.pn-loading):before, .pn-loading:before {\\n  background-color: #c3c3c3;\\n  mask-size: auto calc(min(50%, 400px));\\n  -webkit-mask-size: auto calc(min(50%, 400px));\\n}\",{\"id\":\"969d371a-d485-49de-8d3e-d895a7b563c1\"},{\"id\":\"253ab351-beae-40f9-adc7-43e590fa5f29\"},{\"id\":\"fca26a88-5593-41cc-911e-50356bdb09d2\"}],\"margin\":[5,10],\"align\":\"start\",\"text\":\"&lt;div style=&#x27;margin: 0;&#x27;&gt;&lt;span&gt;tardis.simulation.base&lt;/span&gt; &lt;span style=&quot;color: #D3D3D3; font-weight: bold;&quot;&gt;[INFO]&lt;/span&gt; \\n\\tPlasma stratification: (base.py:635)&lt;/div&gt;\",\"disable_math\":true}},{\"type\":\"object\",\"name\":\"panel.models.markup.HTML\",\"id\":\"55307287-1fcc-4b43-86b6-d24e49df999d\",\"attributes\":{\"stylesheets\":[\"\\n:host(.pn-loading):before, .pn-loading:before {\\n  background-color: #c3c3c3;\\n  mask-size: auto calc(min(50%, 400px));\\n  -webkit-mask-size: auto calc(min(50%, 400px));\\n}\",{\"id\":\"969d371a-d485-49de-8d3e-d895a7b563c1\"},{\"id\":\"253ab351-beae-40f9-adc7-43e590fa5f29\"},{\"id\":\"fca26a88-5593-41cc-911e-50356bdb09d2\"}],\"margin\":[5,10],\"align\":\"start\",\"text\":\"&lt;div style=&#x27;margin: 0;&#x27;&gt;&lt;span&gt;tardis.simulation.base&lt;/span&gt; &lt;span style=&quot;color: #D3D3D3; font-weight: bold;&quot;&gt;[INFO]&lt;/span&gt; \\n\\tShell No.    t_rad    next_t_rad    w    next_w\\n\\t0         1.11e+04 K  1.11e+04 K  0.469   0.467\\n\\t5         1.14e+04 K  1.15e+04 K  0.176    0.17\\n\\t10        1.11e+04 K  1.11e+04 K  0.111    0.11\\n\\t15        1.07e+04 K  1.08e+04 K 0.0847  0.0816\\n (base.py:636)&lt;/div&gt;\",\"disable_math\":true}},{\"type\":\"object\",\"name\":\"panel.models.markup.HTML\",\"id\":\"43ee76f6-9323-44d2-a86a-6a053595b39d\",\"attributes\":{\"stylesheets\":[\"\\n:host(.pn-loading):before, .pn-loading:before {\\n  background-color: #c3c3c3;\\n  mask-size: auto calc(min(50%, 400px));\\n  -webkit-mask-size: auto calc(min(50%, 400px));\\n}\",{\"id\":\"969d371a-d485-49de-8d3e-d895a7b563c1\"},{\"id\":\"253ab351-beae-40f9-adc7-43e590fa5f29\"},{\"id\":\"fca26a88-5593-41cc-911e-50356bdb09d2\"}],\"margin\":[5,10],\"align\":\"start\",\"text\":\"&lt;div style=&#x27;margin: 0;&#x27;&gt;&lt;span&gt;tardis.simulation.base&lt;/span&gt; &lt;span style=&quot;color: #D3D3D3; font-weight: bold;&quot;&gt;[INFO]&lt;/span&gt; \\n\\tCurrent t_inner = 10638.593 K\\n\\tExpected t_inner for next iteration = 10657.551 K\\n (base.py:638)&lt;/div&gt;\",\"disable_math\":true}},{\"type\":\"object\",\"name\":\"panel.models.markup.HTML\",\"id\":\"e47028f8-f770-4db3-9cd7-65241e09a5d9\",\"attributes\":{\"stylesheets\":[\"\\n:host(.pn-loading):before, .pn-loading:before {\\n  background-color: #c3c3c3;\\n  mask-size: auto calc(min(50%, 400px));\\n  -webkit-mask-size: auto calc(min(50%, 400px));\\n}\",{\"id\":\"969d371a-d485-49de-8d3e-d895a7b563c1\"},{\"id\":\"253ab351-beae-40f9-adc7-43e590fa5f29\"},{\"id\":\"fca26a88-5593-41cc-911e-50356bdb09d2\"}],\"margin\":[5,10],\"align\":\"start\",\"text\":\"&lt;div style=&#x27;margin: 0;&#x27;&gt;&lt;span&gt;tardis.simulation.base&lt;/span&gt; &lt;span style=&quot;color: #D3D3D3; font-weight: bold;&quot;&gt;[INFO]&lt;/span&gt; \\n\\tStarting iteration 10 of 20 (base.py:448)&lt;/div&gt;\",\"disable_math\":true}},{\"type\":\"object\",\"name\":\"panel.models.markup.HTML\",\"id\":\"951e5f26-fe0a-4660-8495-6f4f560f9ea8\",\"attributes\":{\"stylesheets\":[\"\\n:host(.pn-loading):before, .pn-loading:before {\\n  background-color: #c3c3c3;\\n  mask-size: auto calc(min(50%, 400px));\\n  -webkit-mask-size: auto calc(min(50%, 400px));\\n}\",{\"id\":\"969d371a-d485-49de-8d3e-d895a7b563c1\"},{\"id\":\"253ab351-beae-40f9-adc7-43e590fa5f29\"},{\"id\":\"fca26a88-5593-41cc-911e-50356bdb09d2\"}],\"margin\":[5,10],\"align\":\"start\",\"text\":\"&lt;div style=&#x27;margin: 0;&#x27;&gt;&lt;span&gt;tardis.simulation.base&lt;/span&gt; &lt;span style=&quot;color: #D3D3D3; font-weight: bold;&quot;&gt;[INFO]&lt;/span&gt; \\n\\tLuminosity emitted   = 1.070e+43 erg / s\\n\\tLuminosity absorbed  = 3.351e+42 erg / s\\n\\tLuminosity requested = 1.059e+43 erg / s\\n (base.py:643)&lt;/div&gt;\",\"disable_math\":true}},{\"type\":\"object\",\"name\":\"panel.models.markup.HTML\",\"id\":\"55f182d4-a6bb-4914-baa7-cbb3f5df56eb\",\"attributes\":{\"stylesheets\":[\"\\n:host(.pn-loading):before, .pn-loading:before {\\n  background-color: #c3c3c3;\\n  mask-size: auto calc(min(50%, 400px));\\n  -webkit-mask-size: auto calc(min(50%, 400px));\\n}\",{\"id\":\"969d371a-d485-49de-8d3e-d895a7b563c1\"},{\"id\":\"253ab351-beae-40f9-adc7-43e590fa5f29\"},{\"id\":\"fca26a88-5593-41cc-911e-50356bdb09d2\"}],\"margin\":[5,10],\"align\":\"start\",\"text\":\"&lt;div style=&#x27;margin: 0;&#x27;&gt;&lt;span&gt;tardis.simulation.base&lt;/span&gt; &lt;span style=&quot;color: #D3D3D3; font-weight: bold;&quot;&gt;[INFO]&lt;/span&gt; Iteration converged 8/4 consecutive times. (base.py:260)&lt;/div&gt;\",\"disable_math\":true}},{\"type\":\"object\",\"name\":\"panel.models.markup.HTML\",\"id\":\"f2439051-6fe5-4a66-b5c4-1f7cf53f3447\",\"attributes\":{\"stylesheets\":[\"\\n:host(.pn-loading):before, .pn-loading:before {\\n  background-color: #c3c3c3;\\n  mask-size: auto calc(min(50%, 400px));\\n  -webkit-mask-size: auto calc(min(50%, 400px));\\n}\",{\"id\":\"969d371a-d485-49de-8d3e-d895a7b563c1\"},{\"id\":\"253ab351-beae-40f9-adc7-43e590fa5f29\"},{\"id\":\"fca26a88-5593-41cc-911e-50356bdb09d2\"}],\"margin\":[5,10],\"align\":\"start\",\"text\":\"&lt;div style=&#x27;margin: 0;&#x27;&gt;&lt;span&gt;tardis.simulation.base&lt;/span&gt; &lt;span style=&quot;color: #D3D3D3; font-weight: bold;&quot;&gt;[INFO]&lt;/span&gt; \\n\\tPlasma stratification: (base.py:635)&lt;/div&gt;\",\"disable_math\":true}},{\"type\":\"object\",\"name\":\"panel.models.markup.HTML\",\"id\":\"1071abf9-4974-4882-8c0a-d10ee3933933\",\"attributes\":{\"stylesheets\":[\"\\n:host(.pn-loading):before, .pn-loading:before {\\n  background-color: #c3c3c3;\\n  mask-size: auto calc(min(50%, 400px));\\n  -webkit-mask-size: auto calc(min(50%, 400px));\\n}\",{\"id\":\"969d371a-d485-49de-8d3e-d895a7b563c1\"},{\"id\":\"253ab351-beae-40f9-adc7-43e590fa5f29\"},{\"id\":\"fca26a88-5593-41cc-911e-50356bdb09d2\"}],\"margin\":[5,10],\"align\":\"start\",\"text\":\"&lt;div style=&#x27;margin: 0;&#x27;&gt;&lt;span&gt;tardis.simulation.base&lt;/span&gt; &lt;span style=&quot;color: #D3D3D3; font-weight: bold;&quot;&gt;[INFO]&lt;/span&gt; \\n\\tShell No.    t_rad    next_t_rad    w    next_w\\n\\t0         1.11e+04 K   1.1e+04 K  0.467   0.473\\n\\t5         1.15e+04 K  1.13e+04 K   0.17   0.179\\n\\t10        1.11e+04 K  1.11e+04 K   0.11   0.113\\n\\t15        1.08e+04 K  1.06e+04 K 0.0816  0.0873\\n (base.py:636)&lt;/div&gt;\",\"disable_math\":true}},{\"type\":\"object\",\"name\":\"panel.models.markup.HTML\",\"id\":\"32e21805-03ab-4f24-a87c-fe4f86900525\",\"attributes\":{\"stylesheets\":[\"\\n:host(.pn-loading):before, .pn-loading:before {\\n  background-color: #c3c3c3;\\n  mask-size: auto calc(min(50%, 400px));\\n  -webkit-mask-size: auto calc(min(50%, 400px));\\n}\",{\"id\":\"969d371a-d485-49de-8d3e-d895a7b563c1\"},{\"id\":\"253ab351-beae-40f9-adc7-43e590fa5f29\"},{\"id\":\"fca26a88-5593-41cc-911e-50356bdb09d2\"}],\"margin\":[5,10],\"align\":\"start\",\"text\":\"&lt;div style=&#x27;margin: 0;&#x27;&gt;&lt;span&gt;tardis.simulation.base&lt;/span&gt; &lt;span style=&quot;color: #D3D3D3; font-weight: bold;&quot;&gt;[INFO]&lt;/span&gt; \\n\\tCurrent t_inner = 10657.551 K\\n\\tExpected t_inner for next iteration = 10631.142 K\\n (base.py:638)&lt;/div&gt;\",\"disable_math\":true}},{\"type\":\"object\",\"name\":\"panel.models.markup.HTML\",\"id\":\"b9a5b8fe-6659-4492-948a-9cfd66a1de68\",\"attributes\":{\"stylesheets\":[\"\\n:host(.pn-loading):before, .pn-loading:before {\\n  background-color: #c3c3c3;\\n  mask-size: auto calc(min(50%, 400px));\\n  -webkit-mask-size: auto calc(min(50%, 400px));\\n}\",{\"id\":\"969d371a-d485-49de-8d3e-d895a7b563c1\"},{\"id\":\"253ab351-beae-40f9-adc7-43e590fa5f29\"},{\"id\":\"fca26a88-5593-41cc-911e-50356bdb09d2\"}],\"margin\":[5,10],\"align\":\"start\",\"text\":\"&lt;div style=&#x27;margin: 0;&#x27;&gt;&lt;span&gt;tardis.simulation.base&lt;/span&gt; &lt;span style=&quot;color: #D3D3D3; font-weight: bold;&quot;&gt;[INFO]&lt;/span&gt; \\n\\tStarting iteration 11 of 20 (base.py:448)&lt;/div&gt;\",\"disable_math\":true}},{\"type\":\"object\",\"name\":\"panel.models.markup.HTML\",\"id\":\"4a32c568-ab3b-4fe9-a08d-e549b4ec7e29\",\"attributes\":{\"stylesheets\":[\"\\n:host(.pn-loading):before, .pn-loading:before {\\n  background-color: #c3c3c3;\\n  mask-size: auto calc(min(50%, 400px));\\n  -webkit-mask-size: auto calc(min(50%, 400px));\\n}\",{\"id\":\"969d371a-d485-49de-8d3e-d895a7b563c1\"},{\"id\":\"253ab351-beae-40f9-adc7-43e590fa5f29\"},{\"id\":\"fca26a88-5593-41cc-911e-50356bdb09d2\"}],\"margin\":[5,10],\"align\":\"start\",\"text\":\"&lt;div style=&#x27;margin: 0;&#x27;&gt;&lt;span&gt;tardis.simulation.base&lt;/span&gt; &lt;span style=&quot;color: #D3D3D3; font-weight: bold;&quot;&gt;[INFO]&lt;/span&gt; \\n\\tLuminosity emitted   = 1.054e+43 erg / s\\n\\tLuminosity absorbed  = 3.371e+42 erg / s\\n\\tLuminosity requested = 1.059e+43 erg / s\\n (base.py:643)&lt;/div&gt;\",\"disable_math\":true}},{\"type\":\"object\",\"name\":\"panel.models.markup.HTML\",\"id\":\"3ae7b02b-38d4-4bde-9cac-9eb5b18d75dd\",\"attributes\":{\"stylesheets\":[\"\\n:host(.pn-loading):before, .pn-loading:before {\\n  background-color: #c3c3c3;\\n  mask-size: auto calc(min(50%, 400px));\\n  -webkit-mask-size: auto calc(min(50%, 400px));\\n}\",{\"id\":\"969d371a-d485-49de-8d3e-d895a7b563c1\"},{\"id\":\"253ab351-beae-40f9-adc7-43e590fa5f29\"},{\"id\":\"fca26a88-5593-41cc-911e-50356bdb09d2\"}],\"margin\":[5,10],\"align\":\"start\",\"text\":\"&lt;div style=&#x27;margin: 0;&#x27;&gt;&lt;span&gt;tardis.simulation.base&lt;/span&gt; &lt;span style=&quot;color: #D3D3D3; font-weight: bold;&quot;&gt;[INFO]&lt;/span&gt; Iteration converged 9/4 consecutive times. (base.py:260)&lt;/div&gt;\",\"disable_math\":true}},{\"type\":\"object\",\"name\":\"panel.models.markup.HTML\",\"id\":\"329ee0e4-5f31-4a53-ac40-a69e3f91155e\",\"attributes\":{\"stylesheets\":[\"\\n:host(.pn-loading):before, .pn-loading:before {\\n  background-color: #c3c3c3;\\n  mask-size: auto calc(min(50%, 400px));\\n  -webkit-mask-size: auto calc(min(50%, 400px));\\n}\",{\"id\":\"969d371a-d485-49de-8d3e-d895a7b563c1\"},{\"id\":\"253ab351-beae-40f9-adc7-43e590fa5f29\"},{\"id\":\"fca26a88-5593-41cc-911e-50356bdb09d2\"}],\"margin\":[5,10],\"align\":\"start\",\"text\":\"&lt;div style=&#x27;margin: 0;&#x27;&gt;&lt;span&gt;tardis.simulation.base&lt;/span&gt; &lt;span style=&quot;color: #D3D3D3; font-weight: bold;&quot;&gt;[INFO]&lt;/span&gt; \\n\\tPlasma stratification: (base.py:635)&lt;/div&gt;\",\"disable_math\":true}},{\"type\":\"object\",\"name\":\"panel.models.markup.HTML\",\"id\":\"11b9a724-9e7d-4fe7-8f87-a5b7375e3850\",\"attributes\":{\"stylesheets\":[\"\\n:host(.pn-loading):before, .pn-loading:before {\\n  background-color: #c3c3c3;\\n  mask-size: auto calc(min(50%, 400px));\\n  -webkit-mask-size: auto calc(min(50%, 400px));\\n}\",{\"id\":\"969d371a-d485-49de-8d3e-d895a7b563c1\"},{\"id\":\"253ab351-beae-40f9-adc7-43e590fa5f29\"},{\"id\":\"fca26a88-5593-41cc-911e-50356bdb09d2\"}],\"margin\":[5,10],\"align\":\"start\",\"text\":\"&lt;div style=&#x27;margin: 0;&#x27;&gt;&lt;span&gt;tardis.simulation.base&lt;/span&gt; &lt;span style=&quot;color: #D3D3D3; font-weight: bold;&quot;&gt;[INFO]&lt;/span&gt; \\n\\tShell No.    t_rad    next_t_rad    w    next_w\\n\\t0          1.1e+04 K   1.1e+04 K  0.473   0.475\\n\\t5         1.13e+04 K  1.13e+04 K  0.179   0.179\\n\\t10        1.11e+04 K   1.1e+04 K  0.113   0.114\\n\\t15        1.06e+04 K  1.07e+04 K 0.0873  0.0842\\n (base.py:636)&lt;/div&gt;\",\"disable_math\":true}},{\"type\":\"object\",\"name\":\"panel.models.markup.HTML\",\"id\":\"ecd9b16f-8b73-4ce0-8cbe-e4b1efea3fcd\",\"attributes\":{\"stylesheets\":[\"\\n:host(.pn-loading):before, .pn-loading:before {\\n  background-color: #c3c3c3;\\n  mask-size: auto calc(min(50%, 400px));\\n  -webkit-mask-size: auto calc(min(50%, 400px));\\n}\",{\"id\":\"969d371a-d485-49de-8d3e-d895a7b563c1\"},{\"id\":\"253ab351-beae-40f9-adc7-43e590fa5f29\"},{\"id\":\"fca26a88-5593-41cc-911e-50356bdb09d2\"}],\"margin\":[5,10],\"align\":\"start\",\"text\":\"&lt;div style=&#x27;margin: 0;&#x27;&gt;&lt;span&gt;tardis.simulation.base&lt;/span&gt; &lt;span style=&quot;color: #D3D3D3; font-weight: bold;&quot;&gt;[INFO]&lt;/span&gt; \\n\\tCurrent t_inner = 10631.142 K\\n\\tExpected t_inner for next iteration = 10645.027 K\\n (base.py:638)&lt;/div&gt;\",\"disable_math\":true}},{\"type\":\"object\",\"name\":\"panel.models.markup.HTML\",\"id\":\"4ded94f0-3954-4d7a-8940-9d335ad2d466\",\"attributes\":{\"stylesheets\":[\"\\n:host(.pn-loading):before, .pn-loading:before {\\n  background-color: #c3c3c3;\\n  mask-size: auto calc(min(50%, 400px));\\n  -webkit-mask-size: auto calc(min(50%, 400px));\\n}\",{\"id\":\"969d371a-d485-49de-8d3e-d895a7b563c1\"},{\"id\":\"253ab351-beae-40f9-adc7-43e590fa5f29\"},{\"id\":\"fca26a88-5593-41cc-911e-50356bdb09d2\"}],\"margin\":[5,10],\"align\":\"start\",\"text\":\"&lt;div style=&#x27;margin: 0;&#x27;&gt;&lt;span&gt;tardis.simulation.base&lt;/span&gt; &lt;span style=&quot;color: #D3D3D3; font-weight: bold;&quot;&gt;[INFO]&lt;/span&gt; \\n\\tStarting iteration 12 of 20 (base.py:448)&lt;/div&gt;\",\"disable_math\":true}},{\"type\":\"object\",\"name\":\"panel.models.markup.HTML\",\"id\":\"905db112-2097-41c6-bdda-194edd20f37d\",\"attributes\":{\"stylesheets\":[\"\\n:host(.pn-loading):before, .pn-loading:before {\\n  background-color: #c3c3c3;\\n  mask-size: auto calc(min(50%, 400px));\\n  -webkit-mask-size: auto calc(min(50%, 400px));\\n}\",{\"id\":\"969d371a-d485-49de-8d3e-d895a7b563c1\"},{\"id\":\"253ab351-beae-40f9-adc7-43e590fa5f29\"},{\"id\":\"fca26a88-5593-41cc-911e-50356bdb09d2\"}],\"margin\":[5,10],\"align\":\"start\",\"text\":\"&lt;div style=&#x27;margin: 0;&#x27;&gt;&lt;span&gt;tardis.simulation.base&lt;/span&gt; &lt;span style=&quot;color: #D3D3D3; font-weight: bold;&quot;&gt;[INFO]&lt;/span&gt; \\n\\tLuminosity emitted   = 1.056e+43 erg / s\\n\\tLuminosity absorbed  = 3.417e+42 erg / s\\n\\tLuminosity requested = 1.059e+43 erg / s\\n (base.py:643)&lt;/div&gt;\",\"disable_math\":true}},{\"type\":\"object\",\"name\":\"panel.models.markup.HTML\",\"id\":\"28cd6d83-86b2-442e-977d-70312b921353\",\"attributes\":{\"stylesheets\":[\"\\n:host(.pn-loading):before, .pn-loading:before {\\n  background-color: #c3c3c3;\\n  mask-size: auto calc(min(50%, 400px));\\n  -webkit-mask-size: auto calc(min(50%, 400px));\\n}\",{\"id\":\"969d371a-d485-49de-8d3e-d895a7b563c1\"},{\"id\":\"253ab351-beae-40f9-adc7-43e590fa5f29\"},{\"id\":\"fca26a88-5593-41cc-911e-50356bdb09d2\"}],\"margin\":[5,10],\"align\":\"start\",\"text\":\"&lt;div style=&#x27;margin: 0;&#x27;&gt;&lt;span&gt;tardis.simulation.base&lt;/span&gt; &lt;span style=&quot;color: #D3D3D3; font-weight: bold;&quot;&gt;[INFO]&lt;/span&gt; Iteration converged 10/4 consecutive times. (base.py:260)&lt;/div&gt;\",\"disable_math\":true}},{\"type\":\"object\",\"name\":\"panel.models.markup.HTML\",\"id\":\"57e86d18-102e-43a2-9638-b1c611692b1d\",\"attributes\":{\"stylesheets\":[\"\\n:host(.pn-loading):before, .pn-loading:before {\\n  background-color: #c3c3c3;\\n  mask-size: auto calc(min(50%, 400px));\\n  -webkit-mask-size: auto calc(min(50%, 400px));\\n}\",{\"id\":\"969d371a-d485-49de-8d3e-d895a7b563c1\"},{\"id\":\"253ab351-beae-40f9-adc7-43e590fa5f29\"},{\"id\":\"fca26a88-5593-41cc-911e-50356bdb09d2\"}],\"margin\":[5,10],\"align\":\"start\",\"text\":\"&lt;div style=&#x27;margin: 0;&#x27;&gt;&lt;span&gt;tardis.simulation.base&lt;/span&gt; &lt;span style=&quot;color: #D3D3D3; font-weight: bold;&quot;&gt;[INFO]&lt;/span&gt; \\n\\tPlasma stratification: (base.py:635)&lt;/div&gt;\",\"disable_math\":true}},{\"type\":\"object\",\"name\":\"panel.models.markup.HTML\",\"id\":\"16204a52-fbcc-4498-b012-45a5c1d6acbe\",\"attributes\":{\"stylesheets\":[\"\\n:host(.pn-loading):before, .pn-loading:before {\\n  background-color: #c3c3c3;\\n  mask-size: auto calc(min(50%, 400px));\\n  -webkit-mask-size: auto calc(min(50%, 400px));\\n}\",{\"id\":\"969d371a-d485-49de-8d3e-d895a7b563c1\"},{\"id\":\"253ab351-beae-40f9-adc7-43e590fa5f29\"},{\"id\":\"fca26a88-5593-41cc-911e-50356bdb09d2\"}],\"margin\":[5,10],\"align\":\"start\",\"text\":\"&lt;div style=&#x27;margin: 0;&#x27;&gt;&lt;span&gt;tardis.simulation.base&lt;/span&gt; &lt;span style=&quot;color: #D3D3D3; font-weight: bold;&quot;&gt;[INFO]&lt;/span&gt; \\n\\tShell No.    t_rad    next_t_rad    w    next_w\\n\\t0          1.1e+04 K  1.11e+04 K  0.475   0.462\\n\\t5         1.13e+04 K  1.13e+04 K  0.179   0.177\\n\\t10         1.1e+04 K  1.11e+04 K  0.114   0.109\\n\\t15        1.07e+04 K  1.08e+04 K 0.0842  0.0829\\n (base.py:636)&lt;/div&gt;\",\"disable_math\":true}},{\"type\":\"object\",\"name\":\"panel.models.markup.HTML\",\"id\":\"35810c45-00dd-4ae2-812d-05bb747623b5\",\"attributes\":{\"stylesheets\":[\"\\n:host(.pn-loading):before, .pn-loading:before {\\n  background-color: #c3c3c3;\\n  mask-size: auto calc(min(50%, 400px));\\n  -webkit-mask-size: auto calc(min(50%, 400px));\\n}\",{\"id\":\"969d371a-d485-49de-8d3e-d895a7b563c1\"},{\"id\":\"253ab351-beae-40f9-adc7-43e590fa5f29\"},{\"id\":\"fca26a88-5593-41cc-911e-50356bdb09d2\"}],\"margin\":[5,10],\"align\":\"start\",\"text\":\"&lt;div style=&#x27;margin: 0;&#x27;&gt;&lt;span&gt;tardis.simulation.base&lt;/span&gt; &lt;span style=&quot;color: #D3D3D3; font-weight: bold;&quot;&gt;[INFO]&lt;/span&gt; \\n\\tCurrent t_inner = 10645.027 K\\n\\tExpected t_inner for next iteration = 10652.245 K\\n (base.py:638)&lt;/div&gt;\",\"disable_math\":true}},{\"type\":\"object\",\"name\":\"panel.models.markup.HTML\",\"id\":\"43b71886-b34b-4102-a960-fe7cde15836d\",\"attributes\":{\"stylesheets\":[\"\\n:host(.pn-loading):before, .pn-loading:before {\\n  background-color: #c3c3c3;\\n  mask-size: auto calc(min(50%, 400px));\\n  -webkit-mask-size: auto calc(min(50%, 400px));\\n}\",{\"id\":\"969d371a-d485-49de-8d3e-d895a7b563c1\"},{\"id\":\"253ab351-beae-40f9-adc7-43e590fa5f29\"},{\"id\":\"fca26a88-5593-41cc-911e-50356bdb09d2\"}],\"margin\":[5,10],\"align\":\"start\",\"text\":\"&lt;div style=&#x27;margin: 0;&#x27;&gt;&lt;span&gt;tardis.simulation.base&lt;/span&gt; &lt;span style=&quot;color: #D3D3D3; font-weight: bold;&quot;&gt;[INFO]&lt;/span&gt; \\n\\tStarting iteration 13 of 20 (base.py:448)&lt;/div&gt;\",\"disable_math\":true}},{\"type\":\"object\",\"name\":\"panel.models.markup.HTML\",\"id\":\"6c02d7a3-0f4e-4544-b8c6-0ac810a8c871\",\"attributes\":{\"stylesheets\":[\"\\n:host(.pn-loading):before, .pn-loading:before {\\n  background-color: #c3c3c3;\\n  mask-size: auto calc(min(50%, 400px));\\n  -webkit-mask-size: auto calc(min(50%, 400px));\\n}\",{\"id\":\"969d371a-d485-49de-8d3e-d895a7b563c1\"},{\"id\":\"253ab351-beae-40f9-adc7-43e590fa5f29\"},{\"id\":\"fca26a88-5593-41cc-911e-50356bdb09d2\"}],\"margin\":[5,10],\"align\":\"start\",\"text\":\"&lt;div style=&#x27;margin: 0;&#x27;&gt;&lt;span&gt;tardis.simulation.base&lt;/span&gt; &lt;span style=&quot;color: #D3D3D3; font-weight: bold;&quot;&gt;[INFO]&lt;/span&gt; \\n\\tLuminosity emitted   = 1.062e+43 erg / s\\n\\tLuminosity absorbed  = 3.398e+42 erg / s\\n\\tLuminosity requested = 1.059e+43 erg / s\\n (base.py:643)&lt;/div&gt;\",\"disable_math\":true}},{\"type\":\"object\",\"name\":\"panel.models.markup.HTML\",\"id\":\"b14b5fe8-5bbf-42ab-8372-604cb0c99a63\",\"attributes\":{\"stylesheets\":[\"\\n:host(.pn-loading):before, .pn-loading:before {\\n  background-color: #c3c3c3;\\n  mask-size: auto calc(min(50%, 400px));\\n  -webkit-mask-size: auto calc(min(50%, 400px));\\n}\",{\"id\":\"969d371a-d485-49de-8d3e-d895a7b563c1\"},{\"id\":\"253ab351-beae-40f9-adc7-43e590fa5f29\"},{\"id\":\"fca26a88-5593-41cc-911e-50356bdb09d2\"}],\"margin\":[5,10],\"align\":\"start\",\"text\":\"&lt;div style=&#x27;margin: 0;&#x27;&gt;&lt;span&gt;tardis.simulation.base&lt;/span&gt; &lt;span style=&quot;color: #D3D3D3; font-weight: bold;&quot;&gt;[INFO]&lt;/span&gt; Iteration converged 11/4 consecutive times. (base.py:260)&lt;/div&gt;\",\"disable_math\":true}},{\"type\":\"object\",\"name\":\"panel.models.markup.HTML\",\"id\":\"c57b4018-7d10-433e-9154-a706658b9be1\",\"attributes\":{\"stylesheets\":[\"\\n:host(.pn-loading):before, .pn-loading:before {\\n  background-color: #c3c3c3;\\n  mask-size: auto calc(min(50%, 400px));\\n  -webkit-mask-size: auto calc(min(50%, 400px));\\n}\",{\"id\":\"969d371a-d485-49de-8d3e-d895a7b563c1\"},{\"id\":\"253ab351-beae-40f9-adc7-43e590fa5f29\"},{\"id\":\"fca26a88-5593-41cc-911e-50356bdb09d2\"}],\"margin\":[5,10],\"align\":\"start\",\"text\":\"&lt;div style=&#x27;margin: 0;&#x27;&gt;&lt;span&gt;tardis.simulation.base&lt;/span&gt; &lt;span style=&quot;color: #D3D3D3; font-weight: bold;&quot;&gt;[INFO]&lt;/span&gt; \\n\\tPlasma stratification: (base.py:635)&lt;/div&gt;\",\"disable_math\":true}},{\"type\":\"object\",\"name\":\"panel.models.markup.HTML\",\"id\":\"83aca487-d11a-411e-af1d-5eff8c1bc8bd\",\"attributes\":{\"stylesheets\":[\"\\n:host(.pn-loading):before, .pn-loading:before {\\n  background-color: #c3c3c3;\\n  mask-size: auto calc(min(50%, 400px));\\n  -webkit-mask-size: auto calc(min(50%, 400px));\\n}\",{\"id\":\"969d371a-d485-49de-8d3e-d895a7b563c1\"},{\"id\":\"253ab351-beae-40f9-adc7-43e590fa5f29\"},{\"id\":\"fca26a88-5593-41cc-911e-50356bdb09d2\"}],\"margin\":[5,10],\"align\":\"start\",\"text\":\"&lt;div style=&#x27;margin: 0;&#x27;&gt;&lt;span&gt;tardis.simulation.base&lt;/span&gt; &lt;span style=&quot;color: #D3D3D3; font-weight: bold;&quot;&gt;[INFO]&lt;/span&gt; \\n\\tShell No.    t_rad    next_t_rad    w    next_w\\n\\t0         1.11e+04 K  1.11e+04 K  0.462   0.467\\n\\t5         1.13e+04 K  1.13e+04 K  0.177   0.178\\n\\t10        1.11e+04 K  1.11e+04 K  0.109   0.111\\n\\t15        1.08e+04 K  1.07e+04 K 0.0829  0.0847\\n (base.py:636)&lt;/div&gt;\",\"disable_math\":true}},{\"type\":\"object\",\"name\":\"panel.models.markup.HTML\",\"id\":\"daaff5b3-d1d2-46bf-90a2-22ac50b40939\",\"attributes\":{\"stylesheets\":[\"\\n:host(.pn-loading):before, .pn-loading:before {\\n  background-color: #c3c3c3;\\n  mask-size: auto calc(min(50%, 400px));\\n  -webkit-mask-size: auto calc(min(50%, 400px));\\n}\",{\"id\":\"969d371a-d485-49de-8d3e-d895a7b563c1\"},{\"id\":\"253ab351-beae-40f9-adc7-43e590fa5f29\"},{\"id\":\"fca26a88-5593-41cc-911e-50356bdb09d2\"}],\"margin\":[5,10],\"align\":\"start\",\"text\":\"&lt;div style=&#x27;margin: 0;&#x27;&gt;&lt;span&gt;tardis.simulation.base&lt;/span&gt; &lt;span style=&quot;color: #D3D3D3; font-weight: bold;&quot;&gt;[INFO]&lt;/span&gt; \\n\\tCurrent t_inner = 10652.245 K\\n\\tExpected t_inner for next iteration = 10645.555 K\\n (base.py:638)&lt;/div&gt;\",\"disable_math\":true}},{\"type\":\"object\",\"name\":\"panel.models.markup.HTML\",\"id\":\"aae90f06-de36-49bf-a9df-b1efed648c83\",\"attributes\":{\"stylesheets\":[\"\\n:host(.pn-loading):before, .pn-loading:before {\\n  background-color: #c3c3c3;\\n  mask-size: auto calc(min(50%, 400px));\\n  -webkit-mask-size: auto calc(min(50%, 400px));\\n}\",{\"id\":\"969d371a-d485-49de-8d3e-d895a7b563c1\"},{\"id\":\"253ab351-beae-40f9-adc7-43e590fa5f29\"},{\"id\":\"fca26a88-5593-41cc-911e-50356bdb09d2\"}],\"margin\":[5,10],\"align\":\"start\",\"text\":\"&lt;div style=&#x27;margin: 0;&#x27;&gt;&lt;span&gt;tardis.simulation.base&lt;/span&gt; &lt;span style=&quot;color: #D3D3D3; font-weight: bold;&quot;&gt;[INFO]&lt;/span&gt; \\n\\tStarting iteration 14 of 20 (base.py:448)&lt;/div&gt;\",\"disable_math\":true}},{\"type\":\"object\",\"name\":\"panel.models.markup.HTML\",\"id\":\"3198496d-261d-43eb-8e42-4236603c4158\",\"attributes\":{\"stylesheets\":[\"\\n:host(.pn-loading):before, .pn-loading:before {\\n  background-color: #c3c3c3;\\n  mask-size: auto calc(min(50%, 400px));\\n  -webkit-mask-size: auto calc(min(50%, 400px));\\n}\",{\"id\":\"969d371a-d485-49de-8d3e-d895a7b563c1\"},{\"id\":\"253ab351-beae-40f9-adc7-43e590fa5f29\"},{\"id\":\"fca26a88-5593-41cc-911e-50356bdb09d2\"}],\"margin\":[5,10],\"align\":\"start\",\"text\":\"&lt;div style=&#x27;margin: 0;&#x27;&gt;&lt;span&gt;tardis.simulation.base&lt;/span&gt; &lt;span style=&quot;color: #D3D3D3; font-weight: bold;&quot;&gt;[INFO]&lt;/span&gt; \\n\\tLuminosity emitted   = 1.060e+43 erg / s\\n\\tLuminosity absorbed  = 3.383e+42 erg / s\\n\\tLuminosity requested = 1.059e+43 erg / s\\n (base.py:643)&lt;/div&gt;\",\"disable_math\":true}},{\"type\":\"object\",\"name\":\"panel.models.markup.HTML\",\"id\":\"ab2a66d0-8697-40f6-8dba-d849aac3ff4e\",\"attributes\":{\"stylesheets\":[\"\\n:host(.pn-loading):before, .pn-loading:before {\\n  background-color: #c3c3c3;\\n  mask-size: auto calc(min(50%, 400px));\\n  -webkit-mask-size: auto calc(min(50%, 400px));\\n}\",{\"id\":\"969d371a-d485-49de-8d3e-d895a7b563c1\"},{\"id\":\"253ab351-beae-40f9-adc7-43e590fa5f29\"},{\"id\":\"fca26a88-5593-41cc-911e-50356bdb09d2\"}],\"margin\":[5,10],\"align\":\"start\",\"text\":\"&lt;div style=&#x27;margin: 0;&#x27;&gt;&lt;span&gt;tardis.simulation.base&lt;/span&gt; &lt;span style=&quot;color: #D3D3D3; font-weight: bold;&quot;&gt;[INFO]&lt;/span&gt; Iteration converged 12/4 consecutive times. (base.py:260)&lt;/div&gt;\",\"disable_math\":true}},{\"type\":\"object\",\"name\":\"panel.models.markup.HTML\",\"id\":\"d121b4da-e248-492f-9b96-3ed143d532da\",\"attributes\":{\"stylesheets\":[\"\\n:host(.pn-loading):before, .pn-loading:before {\\n  background-color: #c3c3c3;\\n  mask-size: auto calc(min(50%, 400px));\\n  -webkit-mask-size: auto calc(min(50%, 400px));\\n}\",{\"id\":\"969d371a-d485-49de-8d3e-d895a7b563c1\"},{\"id\":\"253ab351-beae-40f9-adc7-43e590fa5f29\"},{\"id\":\"fca26a88-5593-41cc-911e-50356bdb09d2\"}],\"margin\":[5,10],\"align\":\"start\",\"text\":\"&lt;div style=&#x27;margin: 0;&#x27;&gt;&lt;span&gt;tardis.simulation.base&lt;/span&gt; &lt;span style=&quot;color: #D3D3D3; font-weight: bold;&quot;&gt;[INFO]&lt;/span&gt; \\n\\tPlasma stratification: (base.py:635)&lt;/div&gt;\",\"disable_math\":true}},{\"type\":\"object\",\"name\":\"panel.models.markup.HTML\",\"id\":\"78db62f2-46f1-4d1a-91e4-3d85e42f6b6f\",\"attributes\":{\"stylesheets\":[\"\\n:host(.pn-loading):before, .pn-loading:before {\\n  background-color: #c3c3c3;\\n  mask-size: auto calc(min(50%, 400px));\\n  -webkit-mask-size: auto calc(min(50%, 400px));\\n}\",{\"id\":\"969d371a-d485-49de-8d3e-d895a7b563c1\"},{\"id\":\"253ab351-beae-40f9-adc7-43e590fa5f29\"},{\"id\":\"fca26a88-5593-41cc-911e-50356bdb09d2\"}],\"margin\":[5,10],\"align\":\"start\",\"text\":\"&lt;div style=&#x27;margin: 0;&#x27;&gt;&lt;span&gt;tardis.simulation.base&lt;/span&gt; &lt;span style=&quot;color: #D3D3D3; font-weight: bold;&quot;&gt;[INFO]&lt;/span&gt; \\n\\tShell No.    t_rad    next_t_rad    w    next_w\\n\\t0         1.11e+04 K  1.11e+04 K  0.467   0.469\\n\\t5         1.13e+04 K  1.13e+04 K  0.178   0.183\\n\\t10        1.11e+04 K   1.1e+04 K  0.111   0.115\\n\\t15        1.07e+04 K  1.06e+04 K 0.0847  0.0868\\n (base.py:636)&lt;/div&gt;\",\"disable_math\":true}},{\"type\":\"object\",\"name\":\"panel.models.markup.HTML\",\"id\":\"d8e7817c-afe6-44aa-af13-9d2f3fc91144\",\"attributes\":{\"stylesheets\":[\"\\n:host(.pn-loading):before, .pn-loading:before {\\n  background-color: #c3c3c3;\\n  mask-size: auto calc(min(50%, 400px));\\n  -webkit-mask-size: auto calc(min(50%, 400px));\\n}\",{\"id\":\"969d371a-d485-49de-8d3e-d895a7b563c1\"},{\"id\":\"253ab351-beae-40f9-adc7-43e590fa5f29\"},{\"id\":\"fca26a88-5593-41cc-911e-50356bdb09d2\"}],\"margin\":[5,10],\"align\":\"start\",\"text\":\"&lt;div style=&#x27;margin: 0;&#x27;&gt;&lt;span&gt;tardis.simulation.base&lt;/span&gt; &lt;span style=&quot;color: #D3D3D3; font-weight: bold;&quot;&gt;[INFO]&lt;/span&gt; \\n\\tCurrent t_inner = 10645.555 K\\n\\tExpected t_inner for next iteration = 10643.346 K\\n (base.py:638)&lt;/div&gt;\",\"disable_math\":true}},{\"type\":\"object\",\"name\":\"panel.models.markup.HTML\",\"id\":\"56e3125b-5639-4d7d-9dcf-b4f26aa35996\",\"attributes\":{\"stylesheets\":[\"\\n:host(.pn-loading):before, .pn-loading:before {\\n  background-color: #c3c3c3;\\n  mask-size: auto calc(min(50%, 400px));\\n  -webkit-mask-size: auto calc(min(50%, 400px));\\n}\",{\"id\":\"969d371a-d485-49de-8d3e-d895a7b563c1\"},{\"id\":\"253ab351-beae-40f9-adc7-43e590fa5f29\"},{\"id\":\"fca26a88-5593-41cc-911e-50356bdb09d2\"}],\"margin\":[5,10],\"align\":\"start\",\"text\":\"&lt;div style=&#x27;margin: 0;&#x27;&gt;&lt;span&gt;tardis.simulation.base&lt;/span&gt; &lt;span style=&quot;color: #D3D3D3; font-weight: bold;&quot;&gt;[INFO]&lt;/span&gt; \\n\\tStarting iteration 15 of 20 (base.py:448)&lt;/div&gt;\",\"disable_math\":true}},{\"type\":\"object\",\"name\":\"panel.models.markup.HTML\",\"id\":\"ded0da81-74cc-47c6-b37e-0f63d46b7945\",\"attributes\":{\"stylesheets\":[\"\\n:host(.pn-loading):before, .pn-loading:before {\\n  background-color: #c3c3c3;\\n  mask-size: auto calc(min(50%, 400px));\\n  -webkit-mask-size: auto calc(min(50%, 400px));\\n}\",{\"id\":\"969d371a-d485-49de-8d3e-d895a7b563c1\"},{\"id\":\"253ab351-beae-40f9-adc7-43e590fa5f29\"},{\"id\":\"fca26a88-5593-41cc-911e-50356bdb09d2\"}],\"margin\":[5,10],\"align\":\"start\",\"text\":\"&lt;div style=&#x27;margin: 0;&#x27;&gt;&lt;span&gt;tardis.simulation.base&lt;/span&gt; &lt;span style=&quot;color: #D3D3D3; font-weight: bold;&quot;&gt;[INFO]&lt;/span&gt; \\n\\tLuminosity emitted   = 1.058e+43 erg / s\\n\\tLuminosity absorbed  = 3.392e+42 erg / s\\n\\tLuminosity requested = 1.059e+43 erg / s\\n (base.py:643)&lt;/div&gt;\",\"disable_math\":true}},{\"type\":\"object\",\"name\":\"panel.models.markup.HTML\",\"id\":\"95cec81e-203a-4c89-8c42-1197c884fefc\",\"attributes\":{\"stylesheets\":[\"\\n:host(.pn-loading):before, .pn-loading:before {\\n  background-color: #c3c3c3;\\n  mask-size: auto calc(min(50%, 400px));\\n  -webkit-mask-size: auto calc(min(50%, 400px));\\n}\",{\"id\":\"969d371a-d485-49de-8d3e-d895a7b563c1\"},{\"id\":\"253ab351-beae-40f9-adc7-43e590fa5f29\"},{\"id\":\"fca26a88-5593-41cc-911e-50356bdb09d2\"}],\"margin\":[5,10],\"align\":\"start\",\"text\":\"&lt;div style=&#x27;margin: 0;&#x27;&gt;&lt;span&gt;tardis.simulation.base&lt;/span&gt; &lt;span style=&quot;color: #D3D3D3; font-weight: bold;&quot;&gt;[INFO]&lt;/span&gt; Iteration converged 13/4 consecutive times. (base.py:260)&lt;/div&gt;\",\"disable_math\":true}},{\"type\":\"object\",\"name\":\"panel.models.markup.HTML\",\"id\":\"8e60447c-a4b3-4284-a536-b849c83d01e1\",\"attributes\":{\"stylesheets\":[\"\\n:host(.pn-loading):before, .pn-loading:before {\\n  background-color: #c3c3c3;\\n  mask-size: auto calc(min(50%, 400px));\\n  -webkit-mask-size: auto calc(min(50%, 400px));\\n}\",{\"id\":\"969d371a-d485-49de-8d3e-d895a7b563c1\"},{\"id\":\"253ab351-beae-40f9-adc7-43e590fa5f29\"},{\"id\":\"fca26a88-5593-41cc-911e-50356bdb09d2\"}],\"margin\":[5,10],\"align\":\"start\",\"text\":\"&lt;div style=&#x27;margin: 0;&#x27;&gt;&lt;span&gt;tardis.simulation.base&lt;/span&gt; &lt;span style=&quot;color: #D3D3D3; font-weight: bold;&quot;&gt;[INFO]&lt;/span&gt; \\n\\tPlasma stratification: (base.py:635)&lt;/div&gt;\",\"disable_math\":true}},{\"type\":\"object\",\"name\":\"panel.models.markup.HTML\",\"id\":\"970b7512-3729-40d9-a41b-ee4d6b91876f\",\"attributes\":{\"stylesheets\":[\"\\n:host(.pn-loading):before, .pn-loading:before {\\n  background-color: #c3c3c3;\\n  mask-size: auto calc(min(50%, 400px));\\n  -webkit-mask-size: auto calc(min(50%, 400px));\\n}\",{\"id\":\"969d371a-d485-49de-8d3e-d895a7b563c1\"},{\"id\":\"253ab351-beae-40f9-adc7-43e590fa5f29\"},{\"id\":\"fca26a88-5593-41cc-911e-50356bdb09d2\"}],\"margin\":[5,10],\"align\":\"start\",\"text\":\"&lt;div style=&#x27;margin: 0;&#x27;&gt;&lt;span&gt;tardis.simulation.base&lt;/span&gt; &lt;span style=&quot;color: #D3D3D3; font-weight: bold;&quot;&gt;[INFO]&lt;/span&gt; \\n\\tShell No.    t_rad    next_t_rad    w    next_w\\n\\t0         1.11e+04 K   1.1e+04 K  0.469   0.486\\n\\t5         1.13e+04 K  1.13e+04 K  0.183    0.18\\n\\t10         1.1e+04 K  1.11e+04 K  0.115   0.112\\n\\t15        1.06e+04 K  1.07e+04 K 0.0868  0.0846\\n (base.py:636)&lt;/div&gt;\",\"disable_math\":true}},{\"type\":\"object\",\"name\":\"panel.models.markup.HTML\",\"id\":\"7edee683-1626-4b60-ac31-5fb0245b85ad\",\"attributes\":{\"stylesheets\":[\"\\n:host(.pn-loading):before, .pn-loading:before {\\n  background-color: #c3c3c3;\\n  mask-size: auto calc(min(50%, 400px));\\n  -webkit-mask-size: auto calc(min(50%, 400px));\\n}\",{\"id\":\"969d371a-d485-49de-8d3e-d895a7b563c1\"},{\"id\":\"253ab351-beae-40f9-adc7-43e590fa5f29\"},{\"id\":\"fca26a88-5593-41cc-911e-50356bdb09d2\"}],\"margin\":[5,10],\"align\":\"start\",\"text\":\"&lt;div style=&#x27;margin: 0;&#x27;&gt;&lt;span&gt;tardis.simulation.base&lt;/span&gt; &lt;span style=&quot;color: #D3D3D3; font-weight: bold;&quot;&gt;[INFO]&lt;/span&gt; \\n\\tCurrent t_inner = 10643.346 K\\n\\tExpected t_inner for next iteration = 10646.730 K\\n (base.py:638)&lt;/div&gt;\",\"disable_math\":true}},{\"type\":\"object\",\"name\":\"panel.models.markup.HTML\",\"id\":\"9ffca814-43b0-44d6-aedf-274502b16b0f\",\"attributes\":{\"stylesheets\":[\"\\n:host(.pn-loading):before, .pn-loading:before {\\n  background-color: #c3c3c3;\\n  mask-size: auto calc(min(50%, 400px));\\n  -webkit-mask-size: auto calc(min(50%, 400px));\\n}\",{\"id\":\"969d371a-d485-49de-8d3e-d895a7b563c1\"},{\"id\":\"253ab351-beae-40f9-adc7-43e590fa5f29\"},{\"id\":\"fca26a88-5593-41cc-911e-50356bdb09d2\"}],\"margin\":[5,10],\"align\":\"start\",\"text\":\"&lt;div style=&#x27;margin: 0;&#x27;&gt;&lt;span&gt;tardis.simulation.base&lt;/span&gt; &lt;span style=&quot;color: #D3D3D3; font-weight: bold;&quot;&gt;[INFO]&lt;/span&gt; \\n\\tStarting iteration 16 of 20 (base.py:448)&lt;/div&gt;\",\"disable_math\":true}},{\"type\":\"object\",\"name\":\"panel.models.markup.HTML\",\"id\":\"76cf3239-f274-42c4-9b60-ea04166bc7f7\",\"attributes\":{\"stylesheets\":[\"\\n:host(.pn-loading):before, .pn-loading:before {\\n  background-color: #c3c3c3;\\n  mask-size: auto calc(min(50%, 400px));\\n  -webkit-mask-size: auto calc(min(50%, 400px));\\n}\",{\"id\":\"969d371a-d485-49de-8d3e-d895a7b563c1\"},{\"id\":\"253ab351-beae-40f9-adc7-43e590fa5f29\"},{\"id\":\"fca26a88-5593-41cc-911e-50356bdb09d2\"}],\"margin\":[5,10],\"align\":\"start\",\"text\":\"&lt;div style=&#x27;margin: 0;&#x27;&gt;&lt;span&gt;tardis.simulation.base&lt;/span&gt; &lt;span style=&quot;color: #D3D3D3; font-weight: bold;&quot;&gt;[INFO]&lt;/span&gt; \\n\\tLuminosity emitted   = 1.056e+43 erg / s\\n\\tLuminosity absorbed  = 3.432e+42 erg / s\\n\\tLuminosity requested = 1.059e+43 erg / s\\n (base.py:643)&lt;/div&gt;\",\"disable_math\":true}},{\"type\":\"object\",\"name\":\"panel.models.markup.HTML\",\"id\":\"1cbd60b5-829b-4db7-b841-f4889460eafe\",\"attributes\":{\"stylesheets\":[\"\\n:host(.pn-loading):before, .pn-loading:before {\\n  background-color: #c3c3c3;\\n  mask-size: auto calc(min(50%, 400px));\\n  -webkit-mask-size: auto calc(min(50%, 400px));\\n}\",{\"id\":\"969d371a-d485-49de-8d3e-d895a7b563c1\"},{\"id\":\"253ab351-beae-40f9-adc7-43e590fa5f29\"},{\"id\":\"fca26a88-5593-41cc-911e-50356bdb09d2\"}],\"margin\":[5,10],\"align\":\"start\",\"text\":\"&lt;div style=&#x27;margin: 0;&#x27;&gt;&lt;span&gt;tardis.simulation.base&lt;/span&gt; &lt;span style=&quot;color: #D3D3D3; font-weight: bold;&quot;&gt;[INFO]&lt;/span&gt; Iteration converged 14/4 consecutive times. (base.py:260)&lt;/div&gt;\",\"disable_math\":true}},{\"type\":\"object\",\"name\":\"panel.models.markup.HTML\",\"id\":\"f5d614ce-be82-4bc0-84dc-387bf7c7aaa7\",\"attributes\":{\"stylesheets\":[\"\\n:host(.pn-loading):before, .pn-loading:before {\\n  background-color: #c3c3c3;\\n  mask-size: auto calc(min(50%, 400px));\\n  -webkit-mask-size: auto calc(min(50%, 400px));\\n}\",{\"id\":\"969d371a-d485-49de-8d3e-d895a7b563c1\"},{\"id\":\"253ab351-beae-40f9-adc7-43e590fa5f29\"},{\"id\":\"fca26a88-5593-41cc-911e-50356bdb09d2\"}],\"margin\":[5,10],\"align\":\"start\",\"text\":\"&lt;div style=&#x27;margin: 0;&#x27;&gt;&lt;span&gt;tardis.simulation.base&lt;/span&gt; &lt;span style=&quot;color: #D3D3D3; font-weight: bold;&quot;&gt;[INFO]&lt;/span&gt; \\n\\tPlasma stratification: (base.py:635)&lt;/div&gt;\",\"disable_math\":true}},{\"type\":\"object\",\"name\":\"panel.models.markup.HTML\",\"id\":\"6c16125a-cb6e-470f-80ec-994eff3463f0\",\"attributes\":{\"stylesheets\":[\"\\n:host(.pn-loading):before, .pn-loading:before {\\n  background-color: #c3c3c3;\\n  mask-size: auto calc(min(50%, 400px));\\n  -webkit-mask-size: auto calc(min(50%, 400px));\\n}\",{\"id\":\"969d371a-d485-49de-8d3e-d895a7b563c1\"},{\"id\":\"253ab351-beae-40f9-adc7-43e590fa5f29\"},{\"id\":\"fca26a88-5593-41cc-911e-50356bdb09d2\"}],\"margin\":[5,10],\"align\":\"start\",\"text\":\"&lt;div style=&#x27;margin: 0;&#x27;&gt;&lt;span&gt;tardis.simulation.base&lt;/span&gt; &lt;span style=&quot;color: #D3D3D3; font-weight: bold;&quot;&gt;[INFO]&lt;/span&gt; \\n\\tShell No.    t_rad    next_t_rad    w    next_w\\n\\t0          1.1e+04 K   1.1e+04 K  0.486  0.482 \\n\\t5         1.13e+04 K  1.14e+04 K   0.18  0.174 \\n\\t10        1.11e+04 K  1.11e+04 K  0.112  0.111 \\n\\t15        1.07e+04 K  1.08e+04 K 0.0846  0.082 \\n (base.py:636)&lt;/div&gt;\",\"disable_math\":true}},{\"type\":\"object\",\"name\":\"panel.models.markup.HTML\",\"id\":\"6740629d-f3fa-4ad7-a6cc-864b6d484006\",\"attributes\":{\"stylesheets\":[\"\\n:host(.pn-loading):before, .pn-loading:before {\\n  background-color: #c3c3c3;\\n  mask-size: auto calc(min(50%, 400px));\\n  -webkit-mask-size: auto calc(min(50%, 400px));\\n}\",{\"id\":\"969d371a-d485-49de-8d3e-d895a7b563c1\"},{\"id\":\"253ab351-beae-40f9-adc7-43e590fa5f29\"},{\"id\":\"fca26a88-5593-41cc-911e-50356bdb09d2\"}],\"margin\":[5,10],\"align\":\"start\",\"text\":\"&lt;div style=&#x27;margin: 0;&#x27;&gt;&lt;span&gt;tardis.simulation.base&lt;/span&gt; &lt;span style=&quot;color: #D3D3D3; font-weight: bold;&quot;&gt;[INFO]&lt;/span&gt; \\n\\tCurrent t_inner = 10646.730 K\\n\\tExpected t_inner for next iteration = 10655.832 K\\n (base.py:638)&lt;/div&gt;\",\"disable_math\":true}},{\"type\":\"object\",\"name\":\"panel.models.markup.HTML\",\"id\":\"b040f923-27ea-4a1a-87b3-16550e8fd7fa\",\"attributes\":{\"stylesheets\":[\"\\n:host(.pn-loading):before, .pn-loading:before {\\n  background-color: #c3c3c3;\\n  mask-size: auto calc(min(50%, 400px));\\n  -webkit-mask-size: auto calc(min(50%, 400px));\\n}\",{\"id\":\"969d371a-d485-49de-8d3e-d895a7b563c1\"},{\"id\":\"253ab351-beae-40f9-adc7-43e590fa5f29\"},{\"id\":\"fca26a88-5593-41cc-911e-50356bdb09d2\"}],\"margin\":[5,10],\"align\":\"start\",\"text\":\"&lt;div style=&#x27;margin: 0;&#x27;&gt;&lt;span&gt;tardis.simulation.base&lt;/span&gt; &lt;span style=&quot;color: #D3D3D3; font-weight: bold;&quot;&gt;[INFO]&lt;/span&gt; \\n\\tStarting iteration 17 of 20 (base.py:448)&lt;/div&gt;\",\"disable_math\":true}},{\"type\":\"object\",\"name\":\"panel.models.markup.HTML\",\"id\":\"5321a0b8-e4db-4703-8db7-15740aa20d1b\",\"attributes\":{\"stylesheets\":[\"\\n:host(.pn-loading):before, .pn-loading:before {\\n  background-color: #c3c3c3;\\n  mask-size: auto calc(min(50%, 400px));\\n  -webkit-mask-size: auto calc(min(50%, 400px));\\n}\",{\"id\":\"969d371a-d485-49de-8d3e-d895a7b563c1\"},{\"id\":\"253ab351-beae-40f9-adc7-43e590fa5f29\"},{\"id\":\"fca26a88-5593-41cc-911e-50356bdb09d2\"}],\"margin\":[5,10],\"align\":\"start\",\"text\":\"&lt;div style=&#x27;margin: 0;&#x27;&gt;&lt;span&gt;tardis.simulation.base&lt;/span&gt; &lt;span style=&quot;color: #D3D3D3; font-weight: bold;&quot;&gt;[INFO]&lt;/span&gt; \\n\\tLuminosity emitted   = 1.065e+43 erg / s\\n\\tLuminosity absorbed  = 3.390e+42 erg / s\\n\\tLuminosity requested = 1.059e+43 erg / s\\n (base.py:643)&lt;/div&gt;\",\"disable_math\":true}},{\"type\":\"object\",\"name\":\"panel.models.markup.HTML\",\"id\":\"986e178b-d474-4309-8dc0-c43ed4295e88\",\"attributes\":{\"stylesheets\":[\"\\n:host(.pn-loading):before, .pn-loading:before {\\n  background-color: #c3c3c3;\\n  mask-size: auto calc(min(50%, 400px));\\n  -webkit-mask-size: auto calc(min(50%, 400px));\\n}\",{\"id\":\"969d371a-d485-49de-8d3e-d895a7b563c1\"},{\"id\":\"253ab351-beae-40f9-adc7-43e590fa5f29\"},{\"id\":\"fca26a88-5593-41cc-911e-50356bdb09d2\"}],\"margin\":[5,10],\"align\":\"start\",\"text\":\"&lt;div style=&#x27;margin: 0;&#x27;&gt;&lt;span&gt;tardis.simulation.base&lt;/span&gt; &lt;span style=&quot;color: #D3D3D3; font-weight: bold;&quot;&gt;[INFO]&lt;/span&gt; Iteration converged 15/4 consecutive times. (base.py:260)&lt;/div&gt;\",\"disable_math\":true}},{\"type\":\"object\",\"name\":\"panel.models.markup.HTML\",\"id\":\"8cfa064b-e294-4d6a-9a43-bd42992211c3\",\"attributes\":{\"stylesheets\":[\"\\n:host(.pn-loading):before, .pn-loading:before {\\n  background-color: #c3c3c3;\\n  mask-size: auto calc(min(50%, 400px));\\n  -webkit-mask-size: auto calc(min(50%, 400px));\\n}\",{\"id\":\"969d371a-d485-49de-8d3e-d895a7b563c1\"},{\"id\":\"253ab351-beae-40f9-adc7-43e590fa5f29\"},{\"id\":\"fca26a88-5593-41cc-911e-50356bdb09d2\"}],\"margin\":[5,10],\"align\":\"start\",\"text\":\"&lt;div style=&#x27;margin: 0;&#x27;&gt;&lt;span&gt;tardis.simulation.base&lt;/span&gt; &lt;span style=&quot;color: #D3D3D3; font-weight: bold;&quot;&gt;[INFO]&lt;/span&gt; \\n\\tPlasma stratification: (base.py:635)&lt;/div&gt;\",\"disable_math\":true}},{\"type\":\"object\",\"name\":\"panel.models.markup.HTML\",\"id\":\"b595428e-63d2-4c44-bb05-a6efaf82ae1e\",\"attributes\":{\"stylesheets\":[\"\\n:host(.pn-loading):before, .pn-loading:before {\\n  background-color: #c3c3c3;\\n  mask-size: auto calc(min(50%, 400px));\\n  -webkit-mask-size: auto calc(min(50%, 400px));\\n}\",{\"id\":\"969d371a-d485-49de-8d3e-d895a7b563c1\"},{\"id\":\"253ab351-beae-40f9-adc7-43e590fa5f29\"},{\"id\":\"fca26a88-5593-41cc-911e-50356bdb09d2\"}],\"margin\":[5,10],\"align\":\"start\",\"text\":\"&lt;div style=&#x27;margin: 0;&#x27;&gt;&lt;span&gt;tardis.simulation.base&lt;/span&gt; &lt;span style=&quot;color: #D3D3D3; font-weight: bold;&quot;&gt;[INFO]&lt;/span&gt; \\n\\tShell No.    t_rad    next_t_rad    w   next_w\\n\\t0          1.1e+04 K  1.11e+04 K 0.482   0.468\\n\\t5         1.14e+04 K  1.14e+04 K 0.174   0.174\\n\\t10        1.11e+04 K  1.12e+04 K 0.111   0.108\\n\\t15        1.08e+04 K  1.08e+04 K 0.082  0.0826\\n (base.py:636)&lt;/div&gt;\",\"disable_math\":true}},{\"type\":\"object\",\"name\":\"panel.models.markup.HTML\",\"id\":\"84a38e79-6f48-42cd-95f0-1bb0e46bc690\",\"attributes\":{\"stylesheets\":[\"\\n:host(.pn-loading):before, .pn-loading:before {\\n  background-color: #c3c3c3;\\n  mask-size: auto calc(min(50%, 400px));\\n  -webkit-mask-size: auto calc(min(50%, 400px));\\n}\",{\"id\":\"969d371a-d485-49de-8d3e-d895a7b563c1\"},{\"id\":\"253ab351-beae-40f9-adc7-43e590fa5f29\"},{\"id\":\"fca26a88-5593-41cc-911e-50356bdb09d2\"}],\"margin\":[5,10],\"align\":\"start\",\"text\":\"&lt;div style=&#x27;margin: 0;&#x27;&gt;&lt;span&gt;tardis.simulation.base&lt;/span&gt; &lt;span style=&quot;color: #D3D3D3; font-weight: bold;&quot;&gt;[INFO]&lt;/span&gt; \\n\\tCurrent t_inner = 10655.832 K\\n\\tExpected t_inner for next iteration = 10641.369 K\\n (base.py:638)&lt;/div&gt;\",\"disable_math\":true}},{\"type\":\"object\",\"name\":\"panel.models.markup.HTML\",\"id\":\"228150b9-6d9f-4344-835c-e6678855ff3f\",\"attributes\":{\"stylesheets\":[\"\\n:host(.pn-loading):before, .pn-loading:before {\\n  background-color: #c3c3c3;\\n  mask-size: auto calc(min(50%, 400px));\\n  -webkit-mask-size: auto calc(min(50%, 400px));\\n}\",{\"id\":\"969d371a-d485-49de-8d3e-d895a7b563c1\"},{\"id\":\"253ab351-beae-40f9-adc7-43e590fa5f29\"},{\"id\":\"fca26a88-5593-41cc-911e-50356bdb09d2\"}],\"margin\":[5,10],\"align\":\"start\",\"text\":\"&lt;div style=&#x27;margin: 0;&#x27;&gt;&lt;span&gt;tardis.simulation.base&lt;/span&gt; &lt;span style=&quot;color: #D3D3D3; font-weight: bold;&quot;&gt;[INFO]&lt;/span&gt; \\n\\tStarting iteration 18 of 20 (base.py:448)&lt;/div&gt;\",\"disable_math\":true}},{\"type\":\"object\",\"name\":\"panel.models.markup.HTML\",\"id\":\"4b60e4fb-86a5-4cb9-99db-0a28b529a3de\",\"attributes\":{\"stylesheets\":[\"\\n:host(.pn-loading):before, .pn-loading:before {\\n  background-color: #c3c3c3;\\n  mask-size: auto calc(min(50%, 400px));\\n  -webkit-mask-size: auto calc(min(50%, 400px));\\n}\",{\"id\":\"969d371a-d485-49de-8d3e-d895a7b563c1\"},{\"id\":\"253ab351-beae-40f9-adc7-43e590fa5f29\"},{\"id\":\"fca26a88-5593-41cc-911e-50356bdb09d2\"}],\"margin\":[5,10],\"align\":\"start\",\"text\":\"&lt;div style=&#x27;margin: 0;&#x27;&gt;&lt;span&gt;tardis.simulation.base&lt;/span&gt; &lt;span style=&quot;color: #D3D3D3; font-weight: bold;&quot;&gt;[INFO]&lt;/span&gt; \\n\\tLuminosity emitted   = 1.060e+43 erg / s\\n\\tLuminosity absorbed  = 3.358e+42 erg / s\\n\\tLuminosity requested = 1.059e+43 erg / s\\n (base.py:643)&lt;/div&gt;\",\"disable_math\":true}},{\"type\":\"object\",\"name\":\"panel.models.markup.HTML\",\"id\":\"b39b2f90-0c06-4f97-b361-ede1c80a02f5\",\"attributes\":{\"stylesheets\":[\"\\n:host(.pn-loading):before, .pn-loading:before {\\n  background-color: #c3c3c3;\\n  mask-size: auto calc(min(50%, 400px));\\n  -webkit-mask-size: auto calc(min(50%, 400px));\\n}\",{\"id\":\"969d371a-d485-49de-8d3e-d895a7b563c1\"},{\"id\":\"253ab351-beae-40f9-adc7-43e590fa5f29\"},{\"id\":\"fca26a88-5593-41cc-911e-50356bdb09d2\"}],\"margin\":[5,10],\"align\":\"start\",\"text\":\"&lt;div style=&#x27;margin: 0;&#x27;&gt;&lt;span&gt;tardis.simulation.base&lt;/span&gt; &lt;span style=&quot;color: #D3D3D3; font-weight: bold;&quot;&gt;[INFO]&lt;/span&gt; Iteration converged 16/4 consecutive times. (base.py:260)&lt;/div&gt;\",\"disable_math\":true}},{\"type\":\"object\",\"name\":\"panel.models.markup.HTML\",\"id\":\"da64896d-3fac-48db-bfd2-c917644264e3\",\"attributes\":{\"stylesheets\":[\"\\n:host(.pn-loading):before, .pn-loading:before {\\n  background-color: #c3c3c3;\\n  mask-size: auto calc(min(50%, 400px));\\n  -webkit-mask-size: auto calc(min(50%, 400px));\\n}\",{\"id\":\"969d371a-d485-49de-8d3e-d895a7b563c1\"},{\"id\":\"253ab351-beae-40f9-adc7-43e590fa5f29\"},{\"id\":\"fca26a88-5593-41cc-911e-50356bdb09d2\"}],\"margin\":[5,10],\"align\":\"start\",\"text\":\"&lt;div style=&#x27;margin: 0;&#x27;&gt;&lt;span&gt;tardis.simulation.base&lt;/span&gt; &lt;span style=&quot;color: #D3D3D3; font-weight: bold;&quot;&gt;[INFO]&lt;/span&gt; \\n\\tPlasma stratification: (base.py:635)&lt;/div&gt;\",\"disable_math\":true}},{\"type\":\"object\",\"name\":\"panel.models.markup.HTML\",\"id\":\"e91db909-d994-48fe-9210-1ba6fd3bb575\",\"attributes\":{\"stylesheets\":[\"\\n:host(.pn-loading):before, .pn-loading:before {\\n  background-color: #c3c3c3;\\n  mask-size: auto calc(min(50%, 400px));\\n  -webkit-mask-size: auto calc(min(50%, 400px));\\n}\",{\"id\":\"969d371a-d485-49de-8d3e-d895a7b563c1\"},{\"id\":\"253ab351-beae-40f9-adc7-43e590fa5f29\"},{\"id\":\"fca26a88-5593-41cc-911e-50356bdb09d2\"}],\"margin\":[5,10],\"align\":\"start\",\"text\":\"&lt;div style=&#x27;margin: 0;&#x27;&gt;&lt;span&gt;tardis.simulation.base&lt;/span&gt; &lt;span style=&quot;color: #D3D3D3; font-weight: bold;&quot;&gt;[INFO]&lt;/span&gt; \\n\\tShell No.    t_rad    next_t_rad    w    next_w\\n\\t0         1.11e+04 K  1.11e+04 K  0.468   0.464\\n\\t5         1.14e+04 K  1.14e+04 K  0.174   0.175\\n\\t10        1.12e+04 K  1.11e+04 K  0.108   0.112\\n\\t15        1.08e+04 K  1.07e+04 K 0.0826  0.0838\\n (base.py:636)&lt;/div&gt;\",\"disable_math\":true}},{\"type\":\"object\",\"name\":\"panel.models.markup.HTML\",\"id\":\"fe4e88e5-1846-4a41-9e26-98bb40003611\",\"attributes\":{\"stylesheets\":[\"\\n:host(.pn-loading):before, .pn-loading:before {\\n  background-color: #c3c3c3;\\n  mask-size: auto calc(min(50%, 400px));\\n  -webkit-mask-size: auto calc(min(50%, 400px));\\n}\",{\"id\":\"969d371a-d485-49de-8d3e-d895a7b563c1\"},{\"id\":\"253ab351-beae-40f9-adc7-43e590fa5f29\"},{\"id\":\"fca26a88-5593-41cc-911e-50356bdb09d2\"}],\"margin\":[5,10],\"align\":\"start\",\"text\":\"&lt;div style=&#x27;margin: 0;&#x27;&gt;&lt;span&gt;tardis.simulation.base&lt;/span&gt; &lt;span style=&quot;color: #D3D3D3; font-weight: bold;&quot;&gt;[INFO]&lt;/span&gt; \\n\\tCurrent t_inner = 10641.369 K\\n\\tExpected t_inner for next iteration = 10638.369 K\\n (base.py:638)&lt;/div&gt;\",\"disable_math\":true}},{\"type\":\"object\",\"name\":\"panel.models.markup.HTML\",\"id\":\"4169ea90-7b25-4343-b73e-7ddb3c15f419\",\"attributes\":{\"stylesheets\":[\"\\n:host(.pn-loading):before, .pn-loading:before {\\n  background-color: #c3c3c3;\\n  mask-size: auto calc(min(50%, 400px));\\n  -webkit-mask-size: auto calc(min(50%, 400px));\\n}\",{\"id\":\"969d371a-d485-49de-8d3e-d895a7b563c1\"},{\"id\":\"253ab351-beae-40f9-adc7-43e590fa5f29\"},{\"id\":\"fca26a88-5593-41cc-911e-50356bdb09d2\"}],\"margin\":[5,10],\"align\":\"start\",\"text\":\"&lt;div style=&#x27;margin: 0;&#x27;&gt;&lt;span&gt;tardis.simulation.base&lt;/span&gt; &lt;span style=&quot;color: #D3D3D3; font-weight: bold;&quot;&gt;[INFO]&lt;/span&gt; \\n\\tStarting iteration 19 of 20 (base.py:448)&lt;/div&gt;\",\"disable_math\":true}},{\"type\":\"object\",\"name\":\"panel.models.markup.HTML\",\"id\":\"74a92022-279e-41a9-81cd-db13e0ec0255\",\"attributes\":{\"stylesheets\":[\"\\n:host(.pn-loading):before, .pn-loading:before {\\n  background-color: #c3c3c3;\\n  mask-size: auto calc(min(50%, 400px));\\n  -webkit-mask-size: auto calc(min(50%, 400px));\\n}\",{\"id\":\"969d371a-d485-49de-8d3e-d895a7b563c1\"},{\"id\":\"253ab351-beae-40f9-adc7-43e590fa5f29\"},{\"id\":\"fca26a88-5593-41cc-911e-50356bdb09d2\"}],\"margin\":[5,10],\"align\":\"start\",\"text\":\"&lt;div style=&#x27;margin: 0;&#x27;&gt;&lt;span&gt;tardis.simulation.base&lt;/span&gt; &lt;span style=&quot;color: #D3D3D3; font-weight: bold;&quot;&gt;[INFO]&lt;/span&gt; \\n\\tLuminosity emitted   = 1.054e+43 erg / s\\n\\tLuminosity absorbed  = 3.404e+42 erg / s\\n\\tLuminosity requested = 1.059e+43 erg / s\\n (base.py:643)&lt;/div&gt;\",\"disable_math\":true}},{\"type\":\"object\",\"name\":\"panel.models.markup.HTML\",\"id\":\"10a25475-9265-4171-adc5-86b4891f559e\",\"attributes\":{\"stylesheets\":[\"\\n:host(.pn-loading):before, .pn-loading:before {\\n  background-color: #c3c3c3;\\n  mask-size: auto calc(min(50%, 400px));\\n  -webkit-mask-size: auto calc(min(50%, 400px));\\n}\",{\"id\":\"969d371a-d485-49de-8d3e-d895a7b563c1\"},{\"id\":\"253ab351-beae-40f9-adc7-43e590fa5f29\"},{\"id\":\"fca26a88-5593-41cc-911e-50356bdb09d2\"}],\"margin\":[5,10],\"align\":\"start\",\"text\":\"&lt;div style=&#x27;margin: 0;&#x27;&gt;&lt;span&gt;tardis.simulation.base&lt;/span&gt; &lt;span style=&quot;color: #D3D3D3; font-weight: bold;&quot;&gt;[INFO]&lt;/span&gt; Iteration converged 17/4 consecutive times. (base.py:260)&lt;/div&gt;\",\"disable_math\":true}},{\"type\":\"object\",\"name\":\"panel.models.markup.HTML\",\"id\":\"2253551a-4bb3-497d-a346-e79caa9355a2\",\"attributes\":{\"stylesheets\":[\"\\n:host(.pn-loading):before, .pn-loading:before {\\n  background-color: #c3c3c3;\\n  mask-size: auto calc(min(50%, 400px));\\n  -webkit-mask-size: auto calc(min(50%, 400px));\\n}\",{\"id\":\"969d371a-d485-49de-8d3e-d895a7b563c1\"},{\"id\":\"253ab351-beae-40f9-adc7-43e590fa5f29\"},{\"id\":\"fca26a88-5593-41cc-911e-50356bdb09d2\"}],\"margin\":[5,10],\"align\":\"start\",\"text\":\"&lt;div style=&#x27;margin: 0;&#x27;&gt;&lt;span&gt;tardis.simulation.base&lt;/span&gt; &lt;span style=&quot;color: #D3D3D3; font-weight: bold;&quot;&gt;[INFO]&lt;/span&gt; \\n\\tPlasma stratification: (base.py:635)&lt;/div&gt;\",\"disable_math\":true}},{\"type\":\"object\",\"name\":\"panel.models.markup.HTML\",\"id\":\"5c7cbac2-18cf-40b9-8854-960d4c046697\",\"attributes\":{\"stylesheets\":[\"\\n:host(.pn-loading):before, .pn-loading:before {\\n  background-color: #c3c3c3;\\n  mask-size: auto calc(min(50%, 400px));\\n  -webkit-mask-size: auto calc(min(50%, 400px));\\n}\",{\"id\":\"969d371a-d485-49de-8d3e-d895a7b563c1\"},{\"id\":\"253ab351-beae-40f9-adc7-43e590fa5f29\"},{\"id\":\"fca26a88-5593-41cc-911e-50356bdb09d2\"}],\"margin\":[5,10],\"align\":\"start\",\"text\":\"&lt;div style=&#x27;margin: 0;&#x27;&gt;&lt;span&gt;tardis.simulation.base&lt;/span&gt; &lt;span style=&quot;color: #D3D3D3; font-weight: bold;&quot;&gt;[INFO]&lt;/span&gt; \\n\\tShell No.    t_rad    next_t_rad    w    next_w\\n\\t0         1.11e+04 K  1.11e+04 K  0.464  0.465 \\n\\t5         1.14e+04 K  1.14e+04 K  0.175  0.171 \\n\\t10        1.11e+04 K  1.11e+04 K  0.112  0.109 \\n\\t15        1.07e+04 K  1.07e+04 K 0.0838  0.084 \\n (base.py:636)&lt;/div&gt;\",\"disable_math\":true}},{\"type\":\"object\",\"name\":\"panel.models.markup.HTML\",\"id\":\"bb740636-0581-4bd1-9266-a676756f6aaa\",\"attributes\":{\"stylesheets\":[\"\\n:host(.pn-loading):before, .pn-loading:before {\\n  background-color: #c3c3c3;\\n  mask-size: auto calc(min(50%, 400px));\\n  -webkit-mask-size: auto calc(min(50%, 400px));\\n}\",{\"id\":\"969d371a-d485-49de-8d3e-d895a7b563c1\"},{\"id\":\"253ab351-beae-40f9-adc7-43e590fa5f29\"},{\"id\":\"fca26a88-5593-41cc-911e-50356bdb09d2\"}],\"margin\":[5,10],\"align\":\"start\",\"text\":\"&lt;div style=&#x27;margin: 0;&#x27;&gt;&lt;span&gt;tardis.simulation.base&lt;/span&gt; &lt;span style=&quot;color: #D3D3D3; font-weight: bold;&quot;&gt;[INFO]&lt;/span&gt; \\n\\tCurrent t_inner = 10638.369 K\\n\\tExpected t_inner for next iteration = 10651.597 K\\n (base.py:638)&lt;/div&gt;\",\"disable_math\":true}},{\"type\":\"object\",\"name\":\"panel.models.markup.HTML\",\"id\":\"809a8105-5b38-4c8f-8e08-f6533e8c6093\",\"attributes\":{\"stylesheets\":[\"\\n:host(.pn-loading):before, .pn-loading:before {\\n  background-color: #c3c3c3;\\n  mask-size: auto calc(min(50%, 400px));\\n  -webkit-mask-size: auto calc(min(50%, 400px));\\n}\",{\"id\":\"969d371a-d485-49de-8d3e-d895a7b563c1\"},{\"id\":\"253ab351-beae-40f9-adc7-43e590fa5f29\"},{\"id\":\"fca26a88-5593-41cc-911e-50356bdb09d2\"}],\"margin\":[5,10],\"align\":\"start\",\"text\":\"&lt;div style=&#x27;margin: 0;&#x27;&gt;&lt;span&gt;tardis.simulation.base&lt;/span&gt; &lt;span style=&quot;color: #D3D3D3; font-weight: bold;&quot;&gt;[INFO]&lt;/span&gt; \\n\\tSimulation finished in 19 iterations \\n\\tSimulation took 190.76 s\\n (base.py:546)&lt;/div&gt;\",\"disable_math\":true}},{\"type\":\"object\",\"name\":\"panel.models.markup.HTML\",\"id\":\"981c0626-7248-4bf3-9109-30a476eb40dd\",\"attributes\":{\"stylesheets\":[\"\\n:host(.pn-loading):before, .pn-loading:before {\\n  background-color: #c3c3c3;\\n  mask-size: auto calc(min(50%, 400px));\\n  -webkit-mask-size: auto calc(min(50%, 400px));\\n}\",{\"id\":\"969d371a-d485-49de-8d3e-d895a7b563c1\"},{\"id\":\"253ab351-beae-40f9-adc7-43e590fa5f29\"},{\"id\":\"fca26a88-5593-41cc-911e-50356bdb09d2\"}],\"margin\":[5,10],\"align\":\"start\",\"text\":\"&lt;div style=&#x27;margin: 0;&#x27;&gt;&lt;span&gt;tardis.simulation.base&lt;/span&gt; &lt;span style=&quot;color: #D3D3D3; font-weight: bold;&quot;&gt;[INFO]&lt;/span&gt; \\n\\tStarting iteration 20 of 20 (base.py:448)&lt;/div&gt;\",\"disable_math\":true}},{\"type\":\"object\",\"name\":\"panel.models.markup.HTML\",\"id\":\"0d052b50-34eb-4958-a6ac-2a847c4d51ae\",\"attributes\":{\"stylesheets\":[\"\\n:host(.pn-loading):before, .pn-loading:before {\\n  background-color: #c3c3c3;\\n  mask-size: auto calc(min(50%, 400px));\\n  -webkit-mask-size: auto calc(min(50%, 400px));\\n}\",{\"id\":\"969d371a-d485-49de-8d3e-d895a7b563c1\"},{\"id\":\"253ab351-beae-40f9-adc7-43e590fa5f29\"},{\"id\":\"fca26a88-5593-41cc-911e-50356bdb09d2\"}],\"margin\":[5,10],\"align\":\"start\",\"text\":\"&lt;div style=&#x27;margin: 0;&#x27;&gt;&lt;span&gt;tardis.simulation.base&lt;/span&gt; &lt;span style=&quot;color: #D3D3D3; font-weight: bold;&quot;&gt;[INFO]&lt;/span&gt; \\n\\tLuminosity emitted   = 1.061e+43 erg / s\\n\\tLuminosity absorbed  = 3.401e+42 erg / s\\n\\tLuminosity requested = 1.059e+43 erg / s\\n (base.py:643)&lt;/div&gt;\",\"disable_math\":true}}],\"view_latest\":true}}}},{\"type\":\"object\",\"name\":\"TabPanel\",\"id\":\"63ecc89c-1799-4d40-89cb-ec648f519bde\",\"attributes\":{\"name\":\"Feed00121\",\"title\":\"WARNING/ERROR\",\"child\":{\"type\":\"object\",\"name\":\"panel.models.feed.Feed\",\"id\":\"dcbe13ae-18a4-4949-93e2-df6266cb4a5a\",\"attributes\":{\"name\":\"Feed00121\",\"subscribed_events\":{\"type\":\"set\",\"entries\":[\"scroll_button_click\"]},\"css_classes\":[\"scroll-vertical\"],\"styles\":{\"type\":\"map\",\"entries\":[[\"border\",\"1px solid #ddd\"],[\"width\",\"100%\"],[\"font-family\",\"monospace\"],[\"padding\",\"8px\"],[\"background-color\",\"white\"]]},\"stylesheets\":[\"\\n:host(.pn-loading):before, .pn-loading:before {\\n  background-color: #c3c3c3;\\n  mask-size: auto calc(min(50%, 400px));\\n  -webkit-mask-size: auto calc(min(50%, 400px));\\n}\",{\"id\":\"969d371a-d485-49de-8d3e-d895a7b563c1\"},{\"id\":\"80b54e4b-23c5-4295-8605-8fdbb2924614\"},{\"id\":\"253ab351-beae-40f9-adc7-43e590fa5f29\"},{\"id\":\"fca26a88-5593-41cc-911e-50356bdb09d2\"}],\"height\":300,\"min_height\":300,\"margin\":0,\"align\":\"start\",\"children\":[{\"id\":\"1aaba34a-aeb5-4db9-8bd5-f1a9dab7161a\"},{\"id\":\"db655dc4-0ef5-44f2-8e12-8269065bd15e\"}],\"view_latest\":true}}}},{\"type\":\"object\",\"name\":\"TabPanel\",\"id\":\"496270ca-7bb4-494c-9676-06a4bf3cb8cf\",\"attributes\":{\"name\":\"Feed00122\",\"title\":\"INFO\",\"child\":{\"type\":\"object\",\"name\":\"panel.models.feed.Feed\",\"id\":\"6b897790-9d03-4bda-ad97-adfa616c15d4\",\"attributes\":{\"name\":\"Feed00122\",\"subscribed_events\":{\"type\":\"set\",\"entries\":[\"scroll_button_click\"]},\"css_classes\":[\"scroll-vertical\"],\"styles\":{\"type\":\"map\",\"entries\":[[\"border\",\"1px solid #ddd\"],[\"width\",\"100%\"],[\"font-family\",\"monospace\"],[\"padding\",\"8px\"],[\"background-color\",\"white\"]]},\"stylesheets\":[\"\\n:host(.pn-loading):before, .pn-loading:before {\\n  background-color: #c3c3c3;\\n  mask-size: auto calc(min(50%, 400px));\\n  -webkit-mask-size: auto calc(min(50%, 400px));\\n}\",{\"id\":\"969d371a-d485-49de-8d3e-d895a7b563c1\"},{\"id\":\"80b54e4b-23c5-4295-8605-8fdbb2924614\"},{\"id\":\"253ab351-beae-40f9-adc7-43e590fa5f29\"},{\"id\":\"fca26a88-5593-41cc-911e-50356bdb09d2\"}],\"height\":300,\"min_height\":300,\"margin\":0,\"align\":\"start\",\"children\":[{\"id\":\"c9e0688e-b292-45d4-9fca-3e3510f93cd8\"},{\"id\":\"fc75d64e-59c6-4190-94c3-7e511d123085\"},{\"id\":\"10ed13cc-dd2d-49c3-af45-bd5399eecf65\"},{\"id\":\"2a3d131b-4527-4334-aa5a-3561679ffffa\"},{\"id\":\"bab2a196-a027-4b9e-a095-70cc5802eb53\"},{\"id\":\"e11889af-641e-498f-a2e4-e34504c15fd0\"},{\"id\":\"b59f9010-8ad2-4ced-9923-0b5fb669cdcf\"},{\"id\":\"f16971ac-a01b-4919-9cb8-398ac5a5af5b\"},{\"id\":\"f09788fe-b0a2-487a-a34e-733eabdd2d18\"},{\"id\":\"ef3d4b41-72a3-4ba7-8fc9-ebd9a6c585ef\"},{\"id\":\"5078fc8c-9450-48e3-8800-48ef971c6847\"},{\"id\":\"08ec935d-f0bd-4651-bfcc-6bc5879d1241\"},{\"id\":\"54c3151c-e8e0-473b-a0c0-27b3746eaae6\"},{\"id\":\"4d5e09eb-d364-4edd-9fde-ccfe0b9e6a98\"},{\"id\":\"6d4464df-19f6-478b-abdb-e25f07b5527c\"},{\"id\":\"d62929b9-6bf7-455b-ab26-ce4eb826cd4a\"},{\"id\":\"f4506c2a-2cd7-44e8-9acc-6e5735e2031b\"},{\"id\":\"577ebf99-5d7a-48db-bab7-1d6ae2973c90\"},{\"id\":\"c4615323-40d9-45ac-b979-523b555c93fa\"},{\"id\":\"5f2b2750-2eb8-43f2-98a7-e28b98a10be9\"},{\"id\":\"23f63c23-2277-4f7c-91c8-e2a45adb118c\"},{\"id\":\"ac34d22b-9983-44a1-98f2-d79925267094\"},{\"id\":\"1a15f6b3-8841-4f53-9246-ebd0723fd18a\"},{\"id\":\"80d4b431-067f-4e25-8612-9c7b0c451c9b\"},{\"id\":\"dde74985-343f-424b-abaa-3a3070c803d6\"},{\"id\":\"fd2a3876-013b-4efd-a7f1-8335a9684891\"},{\"id\":\"0623f0ae-0ccc-4ebb-82f0-2012025c56b5\"},{\"id\":\"3df1e80b-a593-4e2b-a355-e1a0814a2297\"},{\"id\":\"8fbe4161-4399-44a0-b0e6-03a7e38bd115\"},{\"id\":\"44dbecc1-8d4b-48ed-8631-60a174b2d83b\"},{\"id\":\"c232230c-964d-4505-93dc-8fca8f9b2477\"},{\"id\":\"17786ad1-f308-453d-a29b-0b53cc0a28bb\"},{\"id\":\"c77303d1-8bdb-4f20-a5a5-323d37e8ac55\"},{\"id\":\"38d8ed8e-6c40-4a91-82c0-23ba97fb9515\"},{\"id\":\"b5d25a6a-b82e-42ff-9fb3-e596228c68c0\"},{\"id\":\"493677dd-4fec-4f8b-aaf3-3c44567e56d2\"},{\"id\":\"9ba86645-8412-46c7-8334-6f1626f7ca05\"},{\"id\":\"af2b2c7b-5ed6-4760-9f72-ba97baa1960c\"},{\"id\":\"91f6bf7b-bb5c-4166-a688-8233d1cfef6b\"},{\"id\":\"f1ab065b-c31d-4ea0-8347-ecb17bf7a2e4\"},{\"id\":\"18c9dc8b-4200-4b0e-a448-79be66012b67\"},{\"id\":\"cac6d1b8-3eeb-4eee-8526-21ee6e5a7503\"},{\"id\":\"a735ed11-3da7-423c-9322-d39b23a170a0\"},{\"id\":\"3223908e-0ffc-4d3c-91fa-d2d5ed5aecf3\"},{\"id\":\"027df66d-52d9-411f-9522-3510d02a7cc1\"},{\"id\":\"796d525c-1b14-42b0-b5a3-f832af8f568f\"},{\"id\":\"6c298df2-dc5d-421e-b505-2e2921c67079\"},{\"id\":\"370f2db0-02a8-4a0b-948c-32e3246e7cb7\"},{\"id\":\"93364e3e-1019-4e75-8aa6-11c6308f2d31\"},{\"id\":\"23adece3-fa72-499d-a0bd-7a7370b77601\"},{\"id\":\"455d66ae-2bf1-4837-ab5a-6eca919e9698\"},{\"id\":\"7228a395-ea86-425d-a25e-6c02b83cd3ee\"},{\"id\":\"5d139d97-f6bc-42cf-a45f-5cc12d502eb5\"},{\"id\":\"360bbaec-d09f-4d16-bfe5-cd27d84656e4\"},{\"id\":\"de5a7c67-d8dc-4e19-80d7-ea96384aaf19\"},{\"id\":\"55307287-1fcc-4b43-86b6-d24e49df999d\"},{\"id\":\"43ee76f6-9323-44d2-a86a-6a053595b39d\"},{\"id\":\"e47028f8-f770-4db3-9cd7-65241e09a5d9\"},{\"id\":\"951e5f26-fe0a-4660-8495-6f4f560f9ea8\"},{\"id\":\"55f182d4-a6bb-4914-baa7-cbb3f5df56eb\"},{\"id\":\"f2439051-6fe5-4a66-b5c4-1f7cf53f3447\"},{\"id\":\"1071abf9-4974-4882-8c0a-d10ee3933933\"},{\"id\":\"32e21805-03ab-4f24-a87c-fe4f86900525\"},{\"id\":\"b9a5b8fe-6659-4492-948a-9cfd66a1de68\"},{\"id\":\"4a32c568-ab3b-4fe9-a08d-e549b4ec7e29\"},{\"id\":\"3ae7b02b-38d4-4bde-9cac-9eb5b18d75dd\"},{\"id\":\"329ee0e4-5f31-4a53-ac40-a69e3f91155e\"},{\"id\":\"11b9a724-9e7d-4fe7-8f87-a5b7375e3850\"},{\"id\":\"ecd9b16f-8b73-4ce0-8cbe-e4b1efea3fcd\"},{\"id\":\"4ded94f0-3954-4d7a-8940-9d335ad2d466\"},{\"id\":\"905db112-2097-41c6-bdda-194edd20f37d\"},{\"id\":\"28cd6d83-86b2-442e-977d-70312b921353\"},{\"id\":\"57e86d18-102e-43a2-9638-b1c611692b1d\"},{\"id\":\"16204a52-fbcc-4498-b012-45a5c1d6acbe\"},{\"id\":\"35810c45-00dd-4ae2-812d-05bb747623b5\"},{\"id\":\"43b71886-b34b-4102-a960-fe7cde15836d\"},{\"id\":\"6c02d7a3-0f4e-4544-b8c6-0ac810a8c871\"},{\"id\":\"b14b5fe8-5bbf-42ab-8372-604cb0c99a63\"},{\"id\":\"c57b4018-7d10-433e-9154-a706658b9be1\"},{\"id\":\"83aca487-d11a-411e-af1d-5eff8c1bc8bd\"},{\"id\":\"daaff5b3-d1d2-46bf-90a2-22ac50b40939\"},{\"id\":\"aae90f06-de36-49bf-a9df-b1efed648c83\"},{\"id\":\"3198496d-261d-43eb-8e42-4236603c4158\"},{\"id\":\"ab2a66d0-8697-40f6-8dba-d849aac3ff4e\"},{\"id\":\"d121b4da-e248-492f-9b96-3ed143d532da\"},{\"id\":\"78db62f2-46f1-4d1a-91e4-3d85e42f6b6f\"},{\"id\":\"d8e7817c-afe6-44aa-af13-9d2f3fc91144\"},{\"id\":\"56e3125b-5639-4d7d-9dcf-b4f26aa35996\"},{\"id\":\"ded0da81-74cc-47c6-b37e-0f63d46b7945\"},{\"id\":\"95cec81e-203a-4c89-8c42-1197c884fefc\"},{\"id\":\"8e60447c-a4b3-4284-a536-b849c83d01e1\"},{\"id\":\"970b7512-3729-40d9-a41b-ee4d6b91876f\"},{\"id\":\"7edee683-1626-4b60-ac31-5fb0245b85ad\"},{\"id\":\"9ffca814-43b0-44d6-aedf-274502b16b0f\"},{\"id\":\"76cf3239-f274-42c4-9b60-ea04166bc7f7\"},{\"id\":\"1cbd60b5-829b-4db7-b841-f4889460eafe\"},{\"id\":\"f5d614ce-be82-4bc0-84dc-387bf7c7aaa7\"},{\"id\":\"6c16125a-cb6e-470f-80ec-994eff3463f0\"},{\"id\":\"6740629d-f3fa-4ad7-a6cc-864b6d484006\"},{\"id\":\"b040f923-27ea-4a1a-87b3-16550e8fd7fa\"},{\"id\":\"5321a0b8-e4db-4703-8db7-15740aa20d1b\"},{\"id\":\"986e178b-d474-4309-8dc0-c43ed4295e88\"},{\"id\":\"8cfa064b-e294-4d6a-9a43-bd42992211c3\"},{\"id\":\"b595428e-63d2-4c44-bb05-a6efaf82ae1e\"},{\"id\":\"84a38e79-6f48-42cd-95f0-1bb0e46bc690\"},{\"id\":\"228150b9-6d9f-4344-835c-e6678855ff3f\"},{\"id\":\"4b60e4fb-86a5-4cb9-99db-0a28b529a3de\"},{\"id\":\"b39b2f90-0c06-4f97-b361-ede1c80a02f5\"},{\"id\":\"da64896d-3fac-48db-bfd2-c917644264e3\"},{\"id\":\"e91db909-d994-48fe-9210-1ba6fd3bb575\"},{\"id\":\"fe4e88e5-1846-4a41-9e26-98bb40003611\"},{\"id\":\"4169ea90-7b25-4343-b73e-7ddb3c15f419\"},{\"id\":\"74a92022-279e-41a9-81cd-db13e0ec0255\"},{\"id\":\"10a25475-9265-4171-adc5-86b4891f559e\"},{\"id\":\"2253551a-4bb3-497d-a346-e79caa9355a2\"},{\"id\":\"5c7cbac2-18cf-40b9-8854-960d4c046697\"},{\"id\":\"bb740636-0581-4bd1-9266-a676756f6aaa\"},{\"id\":\"809a8105-5b38-4c8f-8e08-f6533e8c6093\"},{\"id\":\"981c0626-7248-4bf3-9109-30a476eb40dd\"},{\"id\":\"0d052b50-34eb-4958-a6ac-2a847c4d51ae\"}],\"view_latest\":true}}}},{\"type\":\"object\",\"name\":\"TabPanel\",\"id\":\"41334ad4-627e-45ad-a715-466ff66b64f8\",\"attributes\":{\"name\":\"Feed00123\",\"title\":\"DEBUG\",\"child\":{\"type\":\"object\",\"name\":\"panel.models.feed.Feed\",\"id\":\"4ca6b66e-7d87-444c-a3df-cd425de1e1ec\",\"attributes\":{\"name\":\"Feed00123\",\"subscribed_events\":{\"type\":\"set\",\"entries\":[\"scroll_button_click\"]},\"css_classes\":[\"scroll-vertical\"],\"styles\":{\"type\":\"map\",\"entries\":[[\"border\",\"1px solid #ddd\"],[\"width\",\"100%\"],[\"font-family\",\"monospace\"],[\"padding\",\"8px\"],[\"background-color\",\"white\"]]},\"stylesheets\":[\"\\n:host(.pn-loading):before, .pn-loading:before {\\n  background-color: #c3c3c3;\\n  mask-size: auto calc(min(50%, 400px));\\n  -webkit-mask-size: auto calc(min(50%, 400px));\\n}\",{\"id\":\"969d371a-d485-49de-8d3e-d895a7b563c1\"},{\"id\":\"80b54e4b-23c5-4295-8605-8fdbb2924614\"},{\"id\":\"253ab351-beae-40f9-adc7-43e590fa5f29\"},{\"id\":\"fca26a88-5593-41cc-911e-50356bdb09d2\"}],\"height\":300,\"min_height\":300,\"margin\":0,\"align\":\"start\",\"view_latest\":true}}}}]}}],\"defs\":[{\"type\":\"model\",\"name\":\"ReactiveHTML1\"},{\"type\":\"model\",\"name\":\"FlexBox1\",\"properties\":[{\"name\":\"align_content\",\"kind\":\"Any\",\"default\":\"flex-start\"},{\"name\":\"align_items\",\"kind\":\"Any\",\"default\":\"flex-start\"},{\"name\":\"flex_direction\",\"kind\":\"Any\",\"default\":\"row\"},{\"name\":\"flex_wrap\",\"kind\":\"Any\",\"default\":\"wrap\"},{\"name\":\"gap\",\"kind\":\"Any\",\"default\":\"\"},{\"name\":\"justify_content\",\"kind\":\"Any\",\"default\":\"flex-start\"}]},{\"type\":\"model\",\"name\":\"FloatPanel1\",\"properties\":[{\"name\":\"config\",\"kind\":\"Any\",\"default\":{\"type\":\"map\"}},{\"name\":\"contained\",\"kind\":\"Any\",\"default\":true},{\"name\":\"position\",\"kind\":\"Any\",\"default\":\"right-top\"},{\"name\":\"offsetx\",\"kind\":\"Any\",\"default\":null},{\"name\":\"offsety\",\"kind\":\"Any\",\"default\":null},{\"name\":\"theme\",\"kind\":\"Any\",\"default\":\"primary\"},{\"name\":\"status\",\"kind\":\"Any\",\"default\":\"normalized\"}]},{\"type\":\"model\",\"name\":\"GridStack1\",\"properties\":[{\"name\":\"mode\",\"kind\":\"Any\",\"default\":\"warn\"},{\"name\":\"ncols\",\"kind\":\"Any\",\"default\":null},{\"name\":\"nrows\",\"kind\":\"Any\",\"default\":null},{\"name\":\"allow_resize\",\"kind\":\"Any\",\"default\":true},{\"name\":\"allow_drag\",\"kind\":\"Any\",\"default\":true},{\"name\":\"state\",\"kind\":\"Any\",\"default\":[]}]},{\"type\":\"model\",\"name\":\"drag1\",\"properties\":[{\"name\":\"slider_width\",\"kind\":\"Any\",\"default\":5},{\"name\":\"slider_color\",\"kind\":\"Any\",\"default\":\"black\"},{\"name\":\"value\",\"kind\":\"Any\",\"default\":50}]},{\"type\":\"model\",\"name\":\"click1\",\"properties\":[{\"name\":\"terminal_output\",\"kind\":\"Any\",\"default\":\"\"},{\"name\":\"debug_name\",\"kind\":\"Any\",\"default\":\"\"},{\"name\":\"clears\",\"kind\":\"Any\",\"default\":0}]},{\"type\":\"model\",\"name\":\"FastWrapper1\",\"properties\":[{\"name\":\"object\",\"kind\":\"Any\",\"default\":null},{\"name\":\"style\",\"kind\":\"Any\",\"default\":null}]},{\"type\":\"model\",\"name\":\"NotificationAreaBase1\",\"properties\":[{\"name\":\"js_events\",\"kind\":\"Any\",\"default\":{\"type\":\"map\"}},{\"name\":\"position\",\"kind\":\"Any\",\"default\":\"bottom-right\"},{\"name\":\"_clear\",\"kind\":\"Any\",\"default\":0}]},{\"type\":\"model\",\"name\":\"NotificationArea1\",\"properties\":[{\"name\":\"js_events\",\"kind\":\"Any\",\"default\":{\"type\":\"map\"}},{\"name\":\"notifications\",\"kind\":\"Any\",\"default\":[]},{\"name\":\"position\",\"kind\":\"Any\",\"default\":\"bottom-right\"},{\"name\":\"_clear\",\"kind\":\"Any\",\"default\":0},{\"name\":\"types\",\"kind\":\"Any\",\"default\":[{\"type\":\"map\",\"entries\":[[\"type\",\"warning\"],[\"background\",\"#ffc107\"],[\"icon\",{\"type\":\"map\",\"entries\":[[\"className\",\"fas fa-exclamation-triangle\"],[\"tagName\",\"i\"],[\"color\",\"white\"]]}]]},{\"type\":\"map\",\"entries\":[[\"type\",\"info\"],[\"background\",\"#007bff\"],[\"icon\",{\"type\":\"map\",\"entries\":[[\"className\",\"fas fa-info-circle\"],[\"tagName\",\"i\"],[\"color\",\"white\"]]}]]}]}]},{\"type\":\"model\",\"name\":\"Notification\",\"properties\":[{\"name\":\"background\",\"kind\":\"Any\",\"default\":null},{\"name\":\"duration\",\"kind\":\"Any\",\"default\":3000},{\"name\":\"icon\",\"kind\":\"Any\",\"default\":null},{\"name\":\"message\",\"kind\":\"Any\",\"default\":\"\"},{\"name\":\"notification_type\",\"kind\":\"Any\",\"default\":null},{\"name\":\"_destroyed\",\"kind\":\"Any\",\"default\":false}]},{\"type\":\"model\",\"name\":\"TemplateActions1\",\"properties\":[{\"name\":\"open_modal\",\"kind\":\"Any\",\"default\":0},{\"name\":\"close_modal\",\"kind\":\"Any\",\"default\":0}]},{\"type\":\"model\",\"name\":\"BootstrapTemplateActions1\",\"properties\":[{\"name\":\"open_modal\",\"kind\":\"Any\",\"default\":0},{\"name\":\"close_modal\",\"kind\":\"Any\",\"default\":0}]},{\"type\":\"model\",\"name\":\"TemplateEditor1\",\"properties\":[{\"name\":\"layout\",\"kind\":\"Any\",\"default\":[]}]},{\"type\":\"model\",\"name\":\"MaterialTemplateActions1\",\"properties\":[{\"name\":\"open_modal\",\"kind\":\"Any\",\"default\":0},{\"name\":\"close_modal\",\"kind\":\"Any\",\"default\":0}]},{\"type\":\"model\",\"name\":\"ReactiveESM1\",\"properties\":[{\"name\":\"esm_constants\",\"kind\":\"Any\",\"default\":{\"type\":\"map\"}}]},{\"type\":\"model\",\"name\":\"JSComponent1\",\"properties\":[{\"name\":\"esm_constants\",\"kind\":\"Any\",\"default\":{\"type\":\"map\"}}]},{\"type\":\"model\",\"name\":\"ReactComponent1\",\"properties\":[{\"name\":\"esm_constants\",\"kind\":\"Any\",\"default\":{\"type\":\"map\"}}]},{\"type\":\"model\",\"name\":\"AnyWidgetComponent1\",\"properties\":[{\"name\":\"esm_constants\",\"kind\":\"Any\",\"default\":{\"type\":\"map\"}}]},{\"type\":\"model\",\"name\":\"request_value1\",\"properties\":[{\"name\":\"fill\",\"kind\":\"Any\",\"default\":\"none\"},{\"name\":\"_synced\",\"kind\":\"Any\",\"default\":null},{\"name\":\"_request_sync\",\"kind\":\"Any\",\"default\":0}]}]}};\n",
       "  var render_items = [{\"docid\":\"8f15413f-901e-4de1-bf53-9564799223f9\",\"roots\":{\"e8cec827-5983-46b0-beaf-055b7b6e8906\":\"b903d92e-a350-442b-aad9-3682e5533959\"},\"root_ids\":[\"e8cec827-5983-46b0-beaf-055b7b6e8906\"]}];\n",
       "  var docs = Object.values(docs_json)\n",
       "  if (!docs) {\n",
       "    return\n",
       "  }\n",
       "  const py_version = docs[0].version.replace('rc', '-rc.').replace('.dev', '-dev.')\n",
       "  async function embed_document(root) {\n",
       "    var Bokeh = get_bokeh(root)\n",
       "    await Bokeh.embed.embed_items_notebook(docs_json, render_items);\n",
       "    for (const render_item of render_items) {\n",
       "      for (const root_id of render_item.root_ids) {\n",
       "\tconst id_el = document.getElementById(root_id)\n",
       "\tif (id_el.children.length && id_el.children[0].hasAttribute('data-root-id')) {\n",
       "\t  const root_el = id_el.children[0]\n",
       "\t  root_el.id = root_el.id + '-rendered'\n",
       "\t  for (const child of root_el.children) {\n",
       "            // Ensure JupyterLab does not capture keyboard shortcuts\n",
       "            // see: https://jupyterlab.readthedocs.io/en/4.1.x/extension/notebook.html#keyboard-interaction-model\n",
       "\t    child.setAttribute('data-lm-suppress-shortcuts', 'true')\n",
       "\t  }\n",
       "\t}\n",
       "      }\n",
       "    }\n",
       "  }\n",
       "  function get_bokeh(root) {\n",
       "    if (root.Bokeh === undefined) {\n",
       "      return null\n",
       "    } else if (root.Bokeh.version !== py_version) {\n",
       "      if (root.Bokeh.versions === undefined || !root.Bokeh.versions.has(py_version)) {\n",
       "\treturn null\n",
       "      }\n",
       "      return root.Bokeh.versions.get(py_version);\n",
       "    } else if (root.Bokeh.version === py_version) {\n",
       "      return root.Bokeh\n",
       "    }\n",
       "    return null\n",
       "  }\n",
       "  function is_loaded(root) {\n",
       "    var Bokeh = get_bokeh(root)\n",
       "    return (Bokeh != null && Bokeh.Panel !== undefined)\n",
       "  }\n",
       "  if (is_loaded(root)) {\n",
       "    embed_document(root);\n",
       "  } else {\n",
       "    var attempts = 0;\n",
       "    var timer = setInterval(function(root) {\n",
       "      if (is_loaded(root)) {\n",
       "        clearInterval(timer);\n",
       "        embed_document(root);\n",
       "      } else if (document.readyState == \"complete\") {\n",
       "        attempts++;\n",
       "        if (attempts > 200) {\n",
       "          clearInterval(timer);\n",
       "\t  var Bokeh = get_bokeh(root)\n",
       "\t  if (Bokeh == null || Bokeh.Panel == null) {\n",
       "            console.warn(\"Panel: ERROR: Unable to run Panel code because Bokeh or Panel library is missing\");\n",
       "\t  } else {\n",
       "\t    console.warn(\"Panel: WARNING: Attempting to render but not all required libraries could be resolved.\")\n",
       "\t    embed_document(root)\n",
       "\t  }\n",
       "        }\n",
       "      }\n",
       "    }, 25, root)\n",
       "  }\n",
       "})(window);</script>"
      ],
      "text/plain": [
       "<panel.io.notebook.Mimebundle at 0x7f465b17f260>"
      ]
     },
     "metadata": {
      "application/vnd.holoviews_exec.v0+json": {
       "id": "e8cec827-5983-46b0-beaf-055b7b6e8906"
      }
     },
     "output_type": "display_data"
    }
   ],
   "source": [
    "# Running the simulation from the config\n",
    "\n",
    "sim = run_tardis(config, show_convergence_plots=False, show_progress_bars=False)"
   ]
  },
  {
   "attachments": {},
   "cell_type": "markdown",
   "id": "532bfafc",
   "metadata": {},
   "source": [
    "Now, the `tracked` properties can be accessed via the `rpacket_tracker` attribute of the `sim.transport.transport_state` object. "
   ]
  },
  {
   "cell_type": "code",
   "execution_count": 9,
   "id": "f8b3424f",
   "metadata": {
    "execution": {
     "iopub.execute_input": "2024-12-11T16:48:10.489881Z",
     "iopub.status.busy": "2024-12-11T16:48:10.489706Z",
     "iopub.status.idle": "2024-12-11T16:48:10.493124Z",
     "shell.execute_reply": "2024-12-11T16:48:10.492691Z"
    }
   },
   "outputs": [
    {
     "data": {
      "text/plain": [
       "numba.typed.typedlist.List"
      ]
     },
     "execution_count": 9,
     "metadata": {},
     "output_type": "execute_result"
    }
   ],
   "source": [
    "type(sim.transport.transport_state.rpacket_tracker)"
   ]
  },
  {
   "attachments": {},
   "cell_type": "markdown",
   "id": "4771d92a",
   "metadata": {},
   "source": [
    "It can be seen from the above code, that the `sim.transport.transport_state.rpacket_tracker` is an instance of the `List` specifically *Numba Typed List*. The `RPacketTracker` class has the following structure for the properties : {More information in the **TARDIS API** for `RPacketTracker` class}"
   ]
  },
  {
   "attachments": {},
   "cell_type": "markdown",
   "id": "ce587807",
   "metadata": {},
   "source": [
    "```python\n",
    "# Basic structure for the RPacketTracker Class\n",
    "class RPacketTracker:\n",
    "   # Properties\n",
    "    index\n",
    "    seed\n",
    "    status\n",
    "    r\n",
    "    nu\n",
    "    mu\n",
    "    energy\n",
    "    shell_id\n",
    "    interaction_type\n",
    "    boundary_interaction\n",
    "```"
   ]
  },
  {
   "cell_type": "code",
   "execution_count": 10,
   "id": "a3ea2f54",
   "metadata": {
    "execution": {
     "iopub.execute_input": "2024-12-11T16:48:10.495138Z",
     "iopub.status.busy": "2024-12-11T16:48:10.494671Z",
     "iopub.status.idle": "2024-12-11T16:48:10.498074Z",
     "shell.execute_reply": "2024-12-11T16:48:10.497608Z"
    }
   },
   "outputs": [
    {
     "data": {
      "text/plain": [
       "100000"
      ]
     },
     "execution_count": 10,
     "metadata": {},
     "output_type": "execute_result"
    }
   ],
   "source": [
    "len(sim.transport.transport_state.rpacket_tracker)"
   ]
  },
  {
   "attachments": {},
   "cell_type": "markdown",
   "id": "0f8566f4",
   "metadata": {},
   "source": [
    "### Accessing properties through `rpacket_tracker`"
   ]
  },
  {
   "attachments": {},
   "cell_type": "markdown",
   "id": "411f2ef9",
   "metadata": {},
   "source": [
    "To access these different properties, we may consider the following examples for the `rpacket_tracker`:\n",
    "<br>In this Example, we are trying to access the properties of the packet at index `10`.<br>In a similar way, we can check for any property for any packet in the range of packets for the last iteration."
   ]
  },
  {
   "attachments": {},
   "cell_type": "markdown",
   "id": "a4772b00",
   "metadata": {},
   "source": [
    "#### Accessing the `index` property for the packet with index = 10 :"
   ]
  },
  {
   "cell_type": "code",
   "execution_count": 11,
   "id": "de7b8877",
   "metadata": {
    "execution": {
     "iopub.execute_input": "2024-12-11T16:48:10.500003Z",
     "iopub.status.busy": "2024-12-11T16:48:10.499605Z",
     "iopub.status.idle": "2024-12-11T16:48:10.502929Z",
     "shell.execute_reply": "2024-12-11T16:48:10.502446Z"
    }
   },
   "outputs": [
    {
     "data": {
      "text/plain": [
       "10"
      ]
     },
     "execution_count": 11,
     "metadata": {},
     "output_type": "execute_result"
    }
   ],
   "source": [
    "sim.transport.transport_state.rpacket_tracker[10].index"
   ]
  },
  {
   "attachments": {},
   "cell_type": "markdown",
   "id": "d81fbbf7",
   "metadata": {},
   "source": [
    "#### Accessing the `seed` property for the packet with index = 10 :"
   ]
  },
  {
   "cell_type": "code",
   "execution_count": 12,
   "id": "39e2dbd2",
   "metadata": {
    "execution": {
     "iopub.execute_input": "2024-12-11T16:48:10.504698Z",
     "iopub.status.busy": "2024-12-11T16:48:10.504508Z",
     "iopub.status.idle": "2024-12-11T16:48:10.507820Z",
     "shell.execute_reply": "2024-12-11T16:48:10.507331Z"
    }
   },
   "outputs": [
    {
     "data": {
      "text/plain": [
       "2729103521"
      ]
     },
     "execution_count": 12,
     "metadata": {},
     "output_type": "execute_result"
    }
   ],
   "source": [
    "sim.transport.transport_state.rpacket_tracker[10].seed"
   ]
  },
  {
   "attachments": {},
   "cell_type": "markdown",
   "id": "7afe2110",
   "metadata": {},
   "source": [
    "#### Accessing the `status` property for the packet with index = 10 :"
   ]
  },
  {
   "cell_type": "code",
   "execution_count": 13,
   "id": "e82427ea",
   "metadata": {
    "execution": {
     "iopub.execute_input": "2024-12-11T16:48:10.509514Z",
     "iopub.status.busy": "2024-12-11T16:48:10.509361Z",
     "iopub.status.idle": "2024-12-11T16:48:10.512873Z",
     "shell.execute_reply": "2024-12-11T16:48:10.512438Z"
    }
   },
   "outputs": [
    {
     "data": {
      "text/plain": [
       "array([0, 0, 0, 0, 0, 0, 0, 1])"
      ]
     },
     "execution_count": 13,
     "metadata": {},
     "output_type": "execute_result"
    }
   ],
   "source": [
    "sim.transport.transport_state.rpacket_tracker[10].status"
   ]
  },
  {
   "attachments": {},
   "cell_type": "markdown",
   "id": "ea308a55",
   "metadata": {},
   "source": [
    "Thus, all other properties (`r`, `nu`, `mu`, `energy`, `shell_id`,`interaction_type`, `boundary_interaction`) can be accessed accordingly."
   ]
  },
  {
   "attachments": {},
   "cell_type": "markdown",
   "id": "c83dd906",
   "metadata": {},
   "source": [
    "We can also see the total number of interactions of index `10` packet under went, with the following example:"
   ]
  },
  {
   "cell_type": "code",
   "execution_count": 14,
   "id": "090b1517",
   "metadata": {
    "execution": {
     "iopub.execute_input": "2024-12-11T16:48:10.514653Z",
     "iopub.status.busy": "2024-12-11T16:48:10.514333Z",
     "iopub.status.idle": "2024-12-11T16:48:10.517604Z",
     "shell.execute_reply": "2024-12-11T16:48:10.517127Z"
    }
   },
   "outputs": [
    {
     "data": {
      "text/plain": [
       "8"
      ]
     },
     "execution_count": 14,
     "metadata": {},
     "output_type": "execute_result"
    }
   ],
   "source": [
    "len(sim.transport.transport_state.rpacket_tracker[10].shell_id)"
   ]
  },
  {
   "attachments": {},
   "cell_type": "markdown",
   "id": "9136fba1",
   "metadata": {},
   "source": [
    "<div class=\"alert alert-warning\">\n",
    "\n",
    "Warning\n",
    "\n",
    "If we try to access `sim.transport.transport_state.rpacket_tracker` property when we have the `track_rpacket` property in the `tracking` subsection of `montecarlo` config, turned off as follows `config[\"montecarlo\"][\"tracking\"][\"track_rpacket\"] = False`, it will return `None`.  Error will be raised if we try to access the properties i.e. `seed`, `index`, etc.\n",
    "</div>"
   ]
  },
  {
   "attachments": {},
   "cell_type": "markdown",
   "id": "afa3c7f4",
   "metadata": {},
   "source": [
    "<div class=\"alert alert-info\">\n",
    "\n",
    "Note\n",
    "    \n",
    "When we initialise the `RPacketTracker()` class, the properties arrays {`index`, `seed`, `status`, etc} are allocated certain length based on the `initial_array_length` parameter that can be set via the `initial_array_length` property under `montecarlo -> tracking` section of the configuration. The default size of the array is `10`. This variable is important as the number of interactions a packet may have is variable, thus we need to allocate space dynamically. This variable is used to compute the size and expand the array such that the properties are able to hold these values for the packet interaction. Higher number, allocates more space initially leading to lesser times the arrays expands and vice versa. It can be set in the following manner `config[\"montecarlo\"][\"tracking\"][\"initial_array_length\"] = {value}`.\n",
    "</div>"
   ]
  },
  {
   "attachments": {},
   "cell_type": "markdown",
   "id": "2da1215e",
   "metadata": {},
   "source": [
    "### Accessing properties with `rpacket_tracker_df`"
   ]
  },
  {
   "attachments": {},
   "cell_type": "markdown",
   "id": "6eaee13d",
   "metadata": {},
   "source": [
    "Also, the `tracked` properties can be accessed via the `rpacket_tracker_df` attribute of the `sim.transport` object. "
   ]
  },
  {
   "cell_type": "code",
   "execution_count": 15,
   "id": "5fa074c2",
   "metadata": {
    "execution": {
     "iopub.execute_input": "2024-12-11T16:48:10.519449Z",
     "iopub.status.busy": "2024-12-11T16:48:10.519139Z",
     "iopub.status.idle": "2024-12-11T16:48:10.522342Z",
     "shell.execute_reply": "2024-12-11T16:48:10.521877Z"
    }
   },
   "outputs": [
    {
     "data": {
      "text/plain": [
       "pandas.core.frame.DataFrame"
      ]
     },
     "execution_count": 15,
     "metadata": {},
     "output_type": "execute_result"
    }
   ],
   "source": [
    "type(sim.transport.transport_state.rpacket_tracker_df)"
   ]
  },
  {
   "attachments": {},
   "cell_type": "markdown",
   "id": "9a39309b",
   "metadata": {},
   "source": [
    "Here, all the properties of the rpackets discussed above are stored as a `Pandas.Dataframe` object. This makes accessing the properties of any rpacket more convenient and in a more organized way."
   ]
  },
  {
   "attachments": {},
   "cell_type": "markdown",
   "id": "93e78750",
   "metadata": {},
   "source": [
    "<html>\n",
    "    <body>\n",
    "        The Basic structure of the Dataframe is as follows:<br><br>\n",
    "        Index Columns:\n",
    "        <ol>\n",
    "            <li><b>index</b> - Indicates the index number of the packet.</li>\n",
    "            <li><b>step</b> - It is the step number that any particular packet is on, as it moves through the ejecta.</li>\n",
    "        </ol>\n",
    "        Properties:<br><br>\n",
    "        These following properties are present as columns in the Dataframe. These are the same properties that were present in the <b>rpacket_tracker</b>\n",
    "        <ol>\n",
    "            <li><b>status</b></li>\n",
    "            <li><b>seed</b></li>\n",
    "            <li><b>r</b></li>\n",
    "            <li><b>nu</b></li>\n",
    "            <li><b>mu</b></li>\n",
    "            <li><b>energy</b></li>\n",
    "            <li><b>shell_id</b></li>\n",
    "            <li><b>interaction_type</b></li>\n",
    "        </ol>\n",
    "    </body>\n",
    "</html>"
   ]
  },
  {
   "attachments": {},
   "cell_type": "markdown",
   "id": "54dce761",
   "metadata": {},
   "source": [
    "The entire dataframe, containing all the properties mentioned above, can be fetched as:"
   ]
  },
  {
   "cell_type": "code",
   "execution_count": 16,
   "id": "0ec47b2f",
   "metadata": {
    "execution": {
     "iopub.execute_input": "2024-12-11T16:48:10.524266Z",
     "iopub.status.busy": "2024-12-11T16:48:10.523957Z",
     "iopub.status.idle": "2024-12-11T16:48:10.535065Z",
     "shell.execute_reply": "2024-12-11T16:48:10.534598Z"
    }
   },
   "outputs": [
    {
     "data": {
      "text/html": [
       "<div>\n",
       "<style scoped>\n",
       "    .dataframe tbody tr th:only-of-type {\n",
       "        vertical-align: middle;\n",
       "    }\n",
       "\n",
       "    .dataframe tbody tr th {\n",
       "        vertical-align: top;\n",
       "    }\n",
       "\n",
       "    .dataframe thead th {\n",
       "        text-align: right;\n",
       "    }\n",
       "</style>\n",
       "<table border=\"1\" class=\"dataframe\">\n",
       "  <thead>\n",
       "    <tr style=\"text-align: right;\">\n",
       "      <th></th>\n",
       "      <th></th>\n",
       "      <th>status</th>\n",
       "      <th>seed</th>\n",
       "      <th>r</th>\n",
       "      <th>nu</th>\n",
       "      <th>mu</th>\n",
       "      <th>energy</th>\n",
       "      <th>shell_id</th>\n",
       "      <th>interaction_type</th>\n",
       "    </tr>\n",
       "    <tr>\n",
       "      <th>index</th>\n",
       "      <th>step</th>\n",
       "      <th></th>\n",
       "      <th></th>\n",
       "      <th></th>\n",
       "      <th></th>\n",
       "      <th></th>\n",
       "      <th></th>\n",
       "      <th></th>\n",
       "      <th></th>\n",
       "    </tr>\n",
       "  </thead>\n",
       "  <tbody>\n",
       "    <tr>\n",
       "      <th rowspan=\"5\" valign=\"top\">0</th>\n",
       "      <th>0</th>\n",
       "      <td>0</td>\n",
       "      <td>3338016338</td>\n",
       "      <td>1.235520e+15</td>\n",
       "      <td>1.736667e+15</td>\n",
       "      <td>0.839765</td>\n",
       "      <td>0.00001</td>\n",
       "      <td>0</td>\n",
       "      <td>-1</td>\n",
       "    </tr>\n",
       "    <tr>\n",
       "      <th>1</th>\n",
       "      <td>0</td>\n",
       "      <td>3338016338</td>\n",
       "      <td>1.266619e+15</td>\n",
       "      <td>2.569677e+15</td>\n",
       "      <td>-0.608549</td>\n",
       "      <td>0.00001</td>\n",
       "      <td>0</td>\n",
       "      <td>2</td>\n",
       "    </tr>\n",
       "    <tr>\n",
       "      <th>2</th>\n",
       "      <td>0</td>\n",
       "      <td>3338016338</td>\n",
       "      <td>1.247897e+15</td>\n",
       "      <td>1.684578e+15</td>\n",
       "      <td>0.052209</td>\n",
       "      <td>0.00001</td>\n",
       "      <td>0</td>\n",
       "      <td>2</td>\n",
       "    </tr>\n",
       "    <tr>\n",
       "      <th>3</th>\n",
       "      <td>0</td>\n",
       "      <td>3338016338</td>\n",
       "      <td>1.247964e+15</td>\n",
       "      <td>1.682869e+15</td>\n",
       "      <td>0.025872</td>\n",
       "      <td>0.00001</td>\n",
       "      <td>0</td>\n",
       "      <td>2</td>\n",
       "    </tr>\n",
       "    <tr>\n",
       "      <th>4</th>\n",
       "      <td>0</td>\n",
       "      <td>3338016338</td>\n",
       "      <td>1.251213e+15</td>\n",
       "      <td>9.577636e+14</td>\n",
       "      <td>-0.281524</td>\n",
       "      <td>0.00001</td>\n",
       "      <td>0</td>\n",
       "      <td>2</td>\n",
       "    </tr>\n",
       "    <tr>\n",
       "      <th>...</th>\n",
       "      <th>...</th>\n",
       "      <td>...</td>\n",
       "      <td>...</td>\n",
       "      <td>...</td>\n",
       "      <td>...</td>\n",
       "      <td>...</td>\n",
       "      <td>...</td>\n",
       "      <td>...</td>\n",
       "      <td>...</td>\n",
       "    </tr>\n",
       "    <tr>\n",
       "      <th rowspan=\"2\" valign=\"top\">99998</th>\n",
       "      <th>1</th>\n",
       "      <td>0</td>\n",
       "      <td>856604741</td>\n",
       "      <td>1.240969e+15</td>\n",
       "      <td>4.678870e+14</td>\n",
       "      <td>0.228747</td>\n",
       "      <td>0.00001</td>\n",
       "      <td>0</td>\n",
       "      <td>1</td>\n",
       "    </tr>\n",
       "    <tr>\n",
       "      <th>2</th>\n",
       "      <td>1</td>\n",
       "      <td>856604741</td>\n",
       "      <td>2.246400e+15</td>\n",
       "      <td>4.678870e+14</td>\n",
       "      <td>0.843086</td>\n",
       "      <td>0.00001</td>\n",
       "      <td>19</td>\n",
       "      <td>-1</td>\n",
       "    </tr>\n",
       "    <tr>\n",
       "      <th rowspan=\"3\" valign=\"top\">99999</th>\n",
       "      <th>0</th>\n",
       "      <td>0</td>\n",
       "      <td>864415001</td>\n",
       "      <td>1.235520e+15</td>\n",
       "      <td>1.157530e+14</td>\n",
       "      <td>0.663583</td>\n",
       "      <td>0.00001</td>\n",
       "      <td>0</td>\n",
       "      <td>-1</td>\n",
       "    </tr>\n",
       "    <tr>\n",
       "      <th>1</th>\n",
       "      <td>0</td>\n",
       "      <td>864415001</td>\n",
       "      <td>1.382024e+15</td>\n",
       "      <td>1.159166e+14</td>\n",
       "      <td>0.776785</td>\n",
       "      <td>0.00001</td>\n",
       "      <td>2</td>\n",
       "      <td>1</td>\n",
       "    </tr>\n",
       "    <tr>\n",
       "      <th>2</th>\n",
       "      <td>1</td>\n",
       "      <td>864415001</td>\n",
       "      <td>2.246400e+15</td>\n",
       "      <td>1.159166e+14</td>\n",
       "      <td>0.921894</td>\n",
       "      <td>0.00001</td>\n",
       "      <td>19</td>\n",
       "      <td>-1</td>\n",
       "    </tr>\n",
       "  </tbody>\n",
       "</table>\n",
       "<p>367582 rows × 8 columns</p>\n",
       "</div>"
      ],
      "text/plain": [
       "            status        seed             r            nu        mu   energy  \\\n",
       "index step                                                                      \n",
       "0     0          0  3338016338  1.235520e+15  1.736667e+15  0.839765  0.00001   \n",
       "      1          0  3338016338  1.266619e+15  2.569677e+15 -0.608549  0.00001   \n",
       "      2          0  3338016338  1.247897e+15  1.684578e+15  0.052209  0.00001   \n",
       "      3          0  3338016338  1.247964e+15  1.682869e+15  0.025872  0.00001   \n",
       "      4          0  3338016338  1.251213e+15  9.577636e+14 -0.281524  0.00001   \n",
       "...            ...         ...           ...           ...       ...      ...   \n",
       "99998 1          0   856604741  1.240969e+15  4.678870e+14  0.228747  0.00001   \n",
       "      2          1   856604741  2.246400e+15  4.678870e+14  0.843086  0.00001   \n",
       "99999 0          0   864415001  1.235520e+15  1.157530e+14  0.663583  0.00001   \n",
       "      1          0   864415001  1.382024e+15  1.159166e+14  0.776785  0.00001   \n",
       "      2          1   864415001  2.246400e+15  1.159166e+14  0.921894  0.00001   \n",
       "\n",
       "            shell_id  interaction_type  \n",
       "index step                              \n",
       "0     0            0                -1  \n",
       "      1            0                 2  \n",
       "      2            0                 2  \n",
       "      3            0                 2  \n",
       "      4            0                 2  \n",
       "...              ...               ...  \n",
       "99998 1            0                 1  \n",
       "      2           19                -1  \n",
       "99999 0            0                -1  \n",
       "      1            2                 1  \n",
       "      2           19                -1  \n",
       "\n",
       "[367582 rows x 8 columns]"
      ]
     },
     "execution_count": 16,
     "metadata": {},
     "output_type": "execute_result"
    }
   ],
   "source": [
    "sim.transport.transport_state.rpacket_tracker_df"
   ]
  },
  {
   "attachments": {},
   "cell_type": "markdown",
   "id": "81f1d718",
   "metadata": {},
   "source": [
    "To access these different properties in the dataframe, we may consider the following examples for the `rpacket_tracker_df`:\n",
    "<br>In this Example, we are trying to access the properties of the packet at index `10`.<br>In a similar way, we can check for any property for any packet in the range of packets for the last iteration."
   ]
  },
  {
   "attachments": {},
   "cell_type": "markdown",
   "id": "eb8df3d9",
   "metadata": {},
   "source": [
    "#### Accessing all the properties for the packet with index = 10:"
   ]
  },
  {
   "cell_type": "code",
   "execution_count": 17,
   "id": "612c8234",
   "metadata": {
    "execution": {
     "iopub.execute_input": "2024-12-11T16:48:10.536947Z",
     "iopub.status.busy": "2024-12-11T16:48:10.536632Z",
     "iopub.status.idle": "2024-12-11T16:48:10.546206Z",
     "shell.execute_reply": "2024-12-11T16:48:10.545728Z"
    }
   },
   "outputs": [
    {
     "data": {
      "text/html": [
       "<div>\n",
       "<style scoped>\n",
       "    .dataframe tbody tr th:only-of-type {\n",
       "        vertical-align: middle;\n",
       "    }\n",
       "\n",
       "    .dataframe tbody tr th {\n",
       "        vertical-align: top;\n",
       "    }\n",
       "\n",
       "    .dataframe thead th {\n",
       "        text-align: right;\n",
       "    }\n",
       "</style>\n",
       "<table border=\"1\" class=\"dataframe\">\n",
       "  <thead>\n",
       "    <tr style=\"text-align: right;\">\n",
       "      <th></th>\n",
       "      <th>status</th>\n",
       "      <th>seed</th>\n",
       "      <th>r</th>\n",
       "      <th>nu</th>\n",
       "      <th>mu</th>\n",
       "      <th>energy</th>\n",
       "      <th>shell_id</th>\n",
       "      <th>interaction_type</th>\n",
       "    </tr>\n",
       "    <tr>\n",
       "      <th>step</th>\n",
       "      <th></th>\n",
       "      <th></th>\n",
       "      <th></th>\n",
       "      <th></th>\n",
       "      <th></th>\n",
       "      <th></th>\n",
       "      <th></th>\n",
       "      <th></th>\n",
       "    </tr>\n",
       "  </thead>\n",
       "  <tbody>\n",
       "    <tr>\n",
       "      <th>0</th>\n",
       "      <td>0</td>\n",
       "      <td>2729103521</td>\n",
       "      <td>1.235520e+15</td>\n",
       "      <td>2.100658e+15</td>\n",
       "      <td>0.587433</td>\n",
       "      <td>0.000010</td>\n",
       "      <td>0</td>\n",
       "      <td>-1</td>\n",
       "    </tr>\n",
       "    <tr>\n",
       "      <th>1</th>\n",
       "      <td>0</td>\n",
       "      <td>2729103521</td>\n",
       "      <td>1.514558e+15</td>\n",
       "      <td>1.967123e+15</td>\n",
       "      <td>-0.707127</td>\n",
       "      <td>0.000010</td>\n",
       "      <td>5</td>\n",
       "      <td>1</td>\n",
       "    </tr>\n",
       "    <tr>\n",
       "      <th>2</th>\n",
       "      <td>0</td>\n",
       "      <td>2729103521</td>\n",
       "      <td>1.385815e+15</td>\n",
       "      <td>2.093346e+15</td>\n",
       "      <td>0.868696</td>\n",
       "      <td>0.000010</td>\n",
       "      <td>2</td>\n",
       "      <td>2</td>\n",
       "    </tr>\n",
       "    <tr>\n",
       "      <th>3</th>\n",
       "      <td>0</td>\n",
       "      <td>2729103521</td>\n",
       "      <td>1.708055e+15</td>\n",
       "      <td>2.754732e+15</td>\n",
       "      <td>0.357089</td>\n",
       "      <td>0.000010</td>\n",
       "      <td>9</td>\n",
       "      <td>2</td>\n",
       "    </tr>\n",
       "    <tr>\n",
       "      <th>4</th>\n",
       "      <td>0</td>\n",
       "      <td>2729103521</td>\n",
       "      <td>1.725444e+15</td>\n",
       "      <td>3.040716e+15</td>\n",
       "      <td>0.224209</td>\n",
       "      <td>0.000010</td>\n",
       "      <td>9</td>\n",
       "      <td>2</td>\n",
       "    </tr>\n",
       "    <tr>\n",
       "      <th>5</th>\n",
       "      <td>0</td>\n",
       "      <td>2729103521</td>\n",
       "      <td>1.751445e+15</td>\n",
       "      <td>1.680371e+15</td>\n",
       "      <td>0.226400</td>\n",
       "      <td>0.000010</td>\n",
       "      <td>10</td>\n",
       "      <td>2</td>\n",
       "    </tr>\n",
       "    <tr>\n",
       "      <th>6</th>\n",
       "      <td>0</td>\n",
       "      <td>2729103521</td>\n",
       "      <td>2.012914e+15</td>\n",
       "      <td>1.175267e+15</td>\n",
       "      <td>-0.054379</td>\n",
       "      <td>0.000009</td>\n",
       "      <td>15</td>\n",
       "      <td>2</td>\n",
       "    </tr>\n",
       "    <tr>\n",
       "      <th>7</th>\n",
       "      <td>1</td>\n",
       "      <td>2729103521</td>\n",
       "      <td>2.246400e+15</td>\n",
       "      <td>1.175267e+15</td>\n",
       "      <td>0.446595</td>\n",
       "      <td>0.000009</td>\n",
       "      <td>19</td>\n",
       "      <td>-1</td>\n",
       "    </tr>\n",
       "  </tbody>\n",
       "</table>\n",
       "</div>"
      ],
      "text/plain": [
       "      status        seed             r            nu        mu    energy  \\\n",
       "step                                                                       \n",
       "0          0  2729103521  1.235520e+15  2.100658e+15  0.587433  0.000010   \n",
       "1          0  2729103521  1.514558e+15  1.967123e+15 -0.707127  0.000010   \n",
       "2          0  2729103521  1.385815e+15  2.093346e+15  0.868696  0.000010   \n",
       "3          0  2729103521  1.708055e+15  2.754732e+15  0.357089  0.000010   \n",
       "4          0  2729103521  1.725444e+15  3.040716e+15  0.224209  0.000010   \n",
       "5          0  2729103521  1.751445e+15  1.680371e+15  0.226400  0.000010   \n",
       "6          0  2729103521  2.012914e+15  1.175267e+15 -0.054379  0.000009   \n",
       "7          1  2729103521  2.246400e+15  1.175267e+15  0.446595  0.000009   \n",
       "\n",
       "      shell_id  interaction_type  \n",
       "step                              \n",
       "0            0                -1  \n",
       "1            5                 1  \n",
       "2            2                 2  \n",
       "3            9                 2  \n",
       "4            9                 2  \n",
       "5           10                 2  \n",
       "6           15                 2  \n",
       "7           19                -1  "
      ]
     },
     "execution_count": 17,
     "metadata": {},
     "output_type": "execute_result"
    }
   ],
   "source": [
    "sim.transport.transport_state.rpacket_tracker_df.loc[10]"
   ]
  },
  {
   "attachments": {},
   "cell_type": "markdown",
   "id": "75d86f95",
   "metadata": {},
   "source": [
    "#### Accessing the `energy` property for the packet with index = 10:\n"
   ]
  },
  {
   "cell_type": "code",
   "execution_count": 18,
   "id": "2c84adb1",
   "metadata": {
    "execution": {
     "iopub.execute_input": "2024-12-11T16:48:10.548138Z",
     "iopub.status.busy": "2024-12-11T16:48:10.547830Z",
     "iopub.status.idle": "2024-12-11T16:48:10.551974Z",
     "shell.execute_reply": "2024-12-11T16:48:10.551487Z"
    }
   },
   "outputs": [
    {
     "data": {
      "text/plain": [
       "step\n",
       "0    0.000010\n",
       "1    0.000010\n",
       "2    0.000010\n",
       "3    0.000010\n",
       "4    0.000010\n",
       "5    0.000010\n",
       "6    0.000009\n",
       "7    0.000009\n",
       "Name: energy, dtype: float64"
      ]
     },
     "execution_count": 18,
     "metadata": {},
     "output_type": "execute_result"
    }
   ],
   "source": [
    "sim.transport.transport_state.rpacket_tracker_df.loc[10][\"energy\"]"
   ]
  },
  {
   "attachments": {},
   "cell_type": "markdown",
   "id": "1beffb1f",
   "metadata": {},
   "source": [
    "The above command returns a Pandas Series for the packet `#10` across different steps. To access any property at a particular step (for example at step `5`), the following commands can be used."
   ]
  },
  {
   "cell_type": "code",
   "execution_count": 19,
   "id": "1d7f0bb4",
   "metadata": {
    "execution": {
     "iopub.execute_input": "2024-12-11T16:48:10.553637Z",
     "iopub.status.busy": "2024-12-11T16:48:10.553451Z",
     "iopub.status.idle": "2024-12-11T16:48:10.565329Z",
     "shell.execute_reply": "2024-12-11T16:48:10.564935Z"
    }
   },
   "outputs": [
    {
     "data": {
      "text/plain": [
       "np.float64(9.782973132999937e-06)"
      ]
     },
     "execution_count": 19,
     "metadata": {},
     "output_type": "execute_result"
    }
   ],
   "source": [
    "sim.transport.transport_state.rpacket_tracker_df.loc[10,5][\"energy\"]"
   ]
  },
  {
   "cell_type": "code",
   "execution_count": 20,
   "id": "1cf17109",
   "metadata": {
    "execution": {
     "iopub.execute_input": "2024-12-11T16:48:10.567334Z",
     "iopub.status.busy": "2024-12-11T16:48:10.566997Z",
     "iopub.status.idle": "2024-12-11T16:48:10.570893Z",
     "shell.execute_reply": "2024-12-11T16:48:10.570383Z"
    }
   },
   "outputs": [
    {
     "data": {
      "text/plain": [
       "np.float64(9.782973132999937e-06)"
      ]
     },
     "execution_count": 20,
     "metadata": {},
     "output_type": "execute_result"
    }
   ],
   "source": [
    "sim.transport.transport_state.rpacket_tracker_df.loc[10][\"energy\"][5]"
   ]
  },
  {
   "attachments": {},
   "cell_type": "markdown",
   "id": "6921f480",
   "metadata": {},
   "source": [
    "Thus, all other properties (`status`, `seed`, `r`, `nu`, `mu`, `shell_id`,`interaction_type`) can be accessed accordingly."
   ]
  }
 ],
 "metadata": {
  "kernelspec": {
   "display_name": "Python 3 (ipykernel)",
   "language": "python",
   "name": "python3"
  },
  "language_info": {
   "codemirror_mode": {
    "name": "ipython",
    "version": 3
   },
   "file_extension": ".py",
   "mimetype": "text/x-python",
   "name": "python",
   "nbconvert_exporter": "python",
   "pygments_lexer": "ipython3",
   "version": "3.12.8"
  },
  "vscode": {
   "interpreter": {
    "hash": "6890d83cfa6c65bebc4bd449872c06a268510d8b8ae8c923ce6786e6c4796836"
   }
  },
  "widgets": {
   "application/vnd.jupyter.widget-state+json": {
    "state": {
     "023276372d284d26b25ff9800db05544": {
      "model_module": "@jupyter-widgets/base",
      "model_module_version": "2.0.0",
      "model_name": "LayoutModel",
      "state": {
       "_model_module": "@jupyter-widgets/base",
       "_model_module_version": "2.0.0",
       "_model_name": "LayoutModel",
       "_view_count": null,
       "_view_module": "@jupyter-widgets/base",
       "_view_module_version": "2.0.0",
       "_view_name": "LayoutView",
       "align_content": null,
       "align_items": null,
       "align_self": null,
       "border_bottom": null,
       "border_left": null,
       "border_right": null,
       "border_top": null,
       "bottom": null,
       "display": null,
       "flex": null,
       "flex_flow": null,
       "grid_area": null,
       "grid_auto_columns": null,
       "grid_auto_flow": null,
       "grid_auto_rows": null,
       "grid_column": null,
       "grid_gap": null,
       "grid_row": null,
       "grid_template_areas": null,
       "grid_template_columns": null,
       "grid_template_rows": null,
       "height": null,
       "justify_content": null,
       "justify_items": null,
       "left": null,
       "margin": null,
       "max_height": null,
       "max_width": null,
       "min_height": null,
       "min_width": null,
       "object_fit": null,
       "object_position": null,
       "order": null,
       "overflow": null,
       "padding": null,
       "right": null,
       "top": null,
       "visibility": null,
       "width": null
      }
     },
     "05685cc216694839b392299bc960b797": {
      "model_module": "@jupyter-widgets/controls",
      "model_module_version": "2.0.0",
      "model_name": "HTMLModel",
      "state": {
       "_dom_classes": [],
       "_model_module": "@jupyter-widgets/controls",
       "_model_module_version": "2.0.0",
       "_model_name": "HTMLModel",
       "_view_count": null,
       "_view_module": "@jupyter-widgets/controls",
       "_view_module_version": "2.0.0",
       "_view_name": "HTMLView",
       "description": "",
       "description_allow_html": false,
       "layout": "IPY_MODEL_eba77a0c96d34609be6014bff567f26e",
       "placeholder": "​",
       "style": "IPY_MODEL_f213edef631b497d8cdc7ef967b679b4",
       "tabbable": null,
       "tooltip": null,
       "value": "Iterations:"
      }
     },
     "06abeecaa57041fd83fc438230fb8a87": {
      "model_module": "@jupyter-widgets/output",
      "model_module_version": "1.0.0",
      "model_name": "OutputModel",
      "state": {
       "_dom_classes": [],
       "_model_module": "@jupyter-widgets/output",
       "_model_module_version": "1.0.0",
       "_model_name": "OutputModel",
       "_view_count": null,
       "_view_module": "@jupyter-widgets/output",
       "_view_module_version": "1.0.0",
       "_view_name": "OutputView",
       "layout": "IPY_MODEL_d4d43c28d3cb4b8aa2fa63648a5a1959",
       "msg_id": "",
       "outputs": [],
       "tabbable": null,
       "tooltip": null
      }
     },
     "0abd91fcba3444fb86a021c6a12c6933": {
      "model_module": "@jupyter-widgets/controls",
      "model_module_version": "2.0.0",
      "model_name": "ProgressStyleModel",
      "state": {
       "_model_module": "@jupyter-widgets/controls",
       "_model_module_version": "2.0.0",
       "_model_name": "ProgressStyleModel",
       "_view_count": null,
       "_view_module": "@jupyter-widgets/base",
       "_view_module_version": "2.0.0",
       "_view_name": "StyleView",
       "bar_color": null,
       "description_width": ""
      }
     },
     "12eabee98b5a48f1b09d8efd1c563529": {
      "model_module": "@jupyter-widgets/controls",
      "model_module_version": "2.0.0",
      "model_name": "ProgressStyleModel",
      "state": {
       "_model_module": "@jupyter-widgets/controls",
       "_model_module_version": "2.0.0",
       "_model_name": "ProgressStyleModel",
       "_view_count": null,
       "_view_module": "@jupyter-widgets/base",
       "_view_module_version": "2.0.0",
       "_view_name": "StyleView",
       "bar_color": null,
       "description_width": ""
      }
     },
     "1fc89681ff8a4a6088f15dc9d3b082a6": {
      "model_module": "@jupyter-widgets/controls",
      "model_module_version": "2.0.0",
      "model_name": "HTMLModel",
      "state": {
       "_dom_classes": [],
       "_model_module": "@jupyter-widgets/controls",
       "_model_module_version": "2.0.0",
       "_model_name": "HTMLModel",
       "_view_count": null,
       "_view_module": "@jupyter-widgets/controls",
       "_view_module_version": "2.0.0",
       "_view_name": "HTMLView",
       "description": "",
       "description_allow_html": false,
       "layout": "IPY_MODEL_f9fc4063763942d1a7b4ef22db9b46b6",
       "placeholder": "​",
       "style": "IPY_MODEL_dac9b0ce74f2419e8b7670716a7760d4",
       "tabbable": null,
       "tooltip": null,
       "value": "0/? [03:26&lt;?, ?it/s]"
      }
     },
     "29f20f9c96984fd3bc2b64058347095f": {
      "model_module": "@jupyter-widgets/base",
      "model_module_version": "2.0.0",
      "model_name": "LayoutModel",
      "state": {
       "_model_module": "@jupyter-widgets/base",
       "_model_module_version": "2.0.0",
       "_model_name": "LayoutModel",
       "_view_count": null,
       "_view_module": "@jupyter-widgets/base",
       "_view_module_version": "2.0.0",
       "_view_name": "LayoutView",
       "align_content": null,
       "align_items": null,
       "align_self": null,
       "border_bottom": null,
       "border_left": null,
       "border_right": null,
       "border_top": null,
       "bottom": null,
       "display": null,
       "flex": null,
       "flex_flow": null,
       "grid_area": null,
       "grid_auto_columns": null,
       "grid_auto_flow": null,
       "grid_auto_rows": null,
       "grid_column": null,
       "grid_gap": null,
       "grid_row": null,
       "grid_template_areas": null,
       "grid_template_columns": null,
       "grid_template_rows": null,
       "height": null,
       "justify_content": null,
       "justify_items": null,
       "left": null,
       "margin": null,
       "max_height": null,
       "max_width": null,
       "min_height": null,
       "min_width": null,
       "object_fit": null,
       "object_position": null,
       "order": null,
       "overflow": null,
       "padding": null,
       "right": null,
       "top": null,
       "visibility": null,
       "width": null
      }
     },
     "2f0a49290cda4c14b431ecb7b177d7b0": {
      "model_module": "@jupyter-widgets/controls",
      "model_module_version": "2.0.0",
      "model_name": "FloatProgressModel",
      "state": {
       "_dom_classes": [],
       "_model_module": "@jupyter-widgets/controls",
       "_model_module_version": "2.0.0",
       "_model_name": "FloatProgressModel",
       "_view_count": null,
       "_view_module": "@jupyter-widgets/controls",
       "_view_module_version": "2.0.0",
       "_view_name": "ProgressView",
       "bar_style": "info",
       "description": "",
       "description_allow_html": false,
       "layout": "IPY_MODEL_f04e05b649314119b6b978c259ee19a5",
       "max": 1.0,
       "min": 0.0,
       "orientation": "horizontal",
       "style": "IPY_MODEL_12eabee98b5a48f1b09d8efd1c563529",
       "tabbable": null,
       "tooltip": null,
       "value": 1.0
      }
     },
     "349a8fc9c6964150ae865cf6d3c11584": {
      "model_module": "@jupyter-widgets/output",
      "model_module_version": "1.0.0",
      "model_name": "OutputModel",
      "state": {
       "_dom_classes": [],
       "_model_module": "@jupyter-widgets/output",
       "_model_module_version": "1.0.0",
       "_model_name": "OutputModel",
       "_view_count": null,
       "_view_module": "@jupyter-widgets/output",
       "_view_module_version": "1.0.0",
       "_view_name": "OutputView",
       "layout": "IPY_MODEL_8abe36bc5602495195af7b6becef3831",
       "msg_id": "",
       "outputs": [],
       "tabbable": null,
       "tooltip": null
      }
     },
     "35a20823a40c4a23a5c7fee9a5063a7c": {
      "model_module": "@jupyter-widgets/base",
      "model_module_version": "2.0.0",
      "model_name": "LayoutModel",
      "state": {
       "_model_module": "@jupyter-widgets/base",
       "_model_module_version": "2.0.0",
       "_model_name": "LayoutModel",
       "_view_count": null,
       "_view_module": "@jupyter-widgets/base",
       "_view_module_version": "2.0.0",
       "_view_name": "LayoutView",
       "align_content": null,
       "align_items": null,
       "align_self": null,
       "border_bottom": null,
       "border_left": null,
       "border_right": null,
       "border_top": null,
       "bottom": null,
       "display": null,
       "flex": null,
       "flex_flow": null,
       "grid_area": null,
       "grid_auto_columns": null,
       "grid_auto_flow": null,
       "grid_auto_rows": null,
       "grid_column": null,
       "grid_gap": null,
       "grid_row": null,
       "grid_template_areas": null,
       "grid_template_columns": null,
       "grid_template_rows": null,
       "height": null,
       "justify_content": null,
       "justify_items": null,
       "left": null,
       "margin": null,
       "max_height": null,
       "max_width": null,
       "min_height": null,
       "min_width": null,
       "object_fit": null,
       "object_position": null,
       "order": null,
       "overflow": null,
       "padding": null,
       "right": null,
       "top": null,
       "visibility": null,
       "width": "20px"
      }
     },
     "53b6f63d527d40e28e3d60b4f17bdfc2": {
      "model_module": "@jupyter-widgets/controls",
      "model_module_version": "2.0.0",
      "model_name": "HTMLModel",
      "state": {
       "_dom_classes": [],
       "_model_module": "@jupyter-widgets/controls",
       "_model_module_version": "2.0.0",
       "_model_name": "HTMLModel",
       "_view_count": null,
       "_view_module": "@jupyter-widgets/controls",
       "_view_module_version": "2.0.0",
       "_view_name": "HTMLView",
       "description": "",
       "description_allow_html": false,
       "layout": "IPY_MODEL_29f20f9c96984fd3bc2b64058347095f",
       "placeholder": "​",
       "style": "IPY_MODEL_e76d1843b3624deda1bd18b36dfc27fb",
       "tabbable": null,
       "tooltip": null,
       "value": "Packets:   "
      }
     },
     "75ce9f28990b4352973676208e148e61": {
      "model_module": "@jupyter-widgets/controls",
      "model_module_version": "2.0.0",
      "model_name": "HTMLModel",
      "state": {
       "_dom_classes": [],
       "_model_module": "@jupyter-widgets/controls",
       "_model_module_version": "2.0.0",
       "_model_name": "HTMLModel",
       "_view_count": null,
       "_view_module": "@jupyter-widgets/controls",
       "_view_module_version": "2.0.0",
       "_view_name": "HTMLView",
       "description": "",
       "description_allow_html": false,
       "layout": "IPY_MODEL_023276372d284d26b25ff9800db05544",
       "placeholder": "​",
       "style": "IPY_MODEL_eb315b9404b24d86b54e3d2361367a3e",
       "tabbable": null,
       "tooltip": null,
       "value": "20/? [03:26&lt;00:00, 17.15s/it]"
      }
     },
     "80e2f42cf9064fc6b95ab7984742e775": {
      "model_module": "@jupyter-widgets/controls",
      "model_module_version": "2.0.0",
      "model_name": "FloatProgressModel",
      "state": {
       "_dom_classes": [],
       "_model_module": "@jupyter-widgets/controls",
       "_model_module_version": "2.0.0",
       "_model_name": "FloatProgressModel",
       "_view_count": null,
       "_view_module": "@jupyter-widgets/controls",
       "_view_module_version": "2.0.0",
       "_view_name": "ProgressView",
       "bar_style": "info",
       "description": "",
       "description_allow_html": false,
       "layout": "IPY_MODEL_35a20823a40c4a23a5c7fee9a5063a7c",
       "max": 1.0,
       "min": 0.0,
       "orientation": "horizontal",
       "style": "IPY_MODEL_0abd91fcba3444fb86a021c6a12c6933",
       "tabbable": null,
       "tooltip": null,
       "value": 0.0
      }
     },
     "8abe36bc5602495195af7b6becef3831": {
      "model_module": "@jupyter-widgets/base",
      "model_module_version": "2.0.0",
      "model_name": "LayoutModel",
      "state": {
       "_model_module": "@jupyter-widgets/base",
       "_model_module_version": "2.0.0",
       "_model_name": "LayoutModel",
       "_view_count": null,
       "_view_module": "@jupyter-widgets/base",
       "_view_module_version": "2.0.0",
       "_view_name": "LayoutView",
       "align_content": null,
       "align_items": null,
       "align_self": null,
       "border_bottom": null,
       "border_left": null,
       "border_right": null,
       "border_top": null,
       "bottom": null,
       "display": null,
       "flex": null,
       "flex_flow": null,
       "grid_area": null,
       "grid_auto_columns": null,
       "grid_auto_flow": null,
       "grid_auto_rows": null,
       "grid_column": null,
       "grid_gap": null,
       "grid_row": null,
       "grid_template_areas": null,
       "grid_template_columns": null,
       "grid_template_rows": null,
       "height": null,
       "justify_content": null,
       "justify_items": null,
       "left": null,
       "margin": null,
       "max_height": null,
       "max_width": null,
       "min_height": null,
       "min_width": null,
       "object_fit": null,
       "object_position": null,
       "order": null,
       "overflow": null,
       "padding": null,
       "right": null,
       "top": null,
       "visibility": null,
       "width": null
      }
     },
     "906ef64f992d4f4d90303772c32be7d7": {
      "model_module": "@jupyter-widgets/base",
      "model_module_version": "2.0.0",
      "model_name": "LayoutModel",
      "state": {
       "_model_module": "@jupyter-widgets/base",
       "_model_module_version": "2.0.0",
       "_model_name": "LayoutModel",
       "_view_count": null,
       "_view_module": "@jupyter-widgets/base",
       "_view_module_version": "2.0.0",
       "_view_name": "LayoutView",
       "align_content": null,
       "align_items": null,
       "align_self": null,
       "border_bottom": null,
       "border_left": null,
       "border_right": null,
       "border_top": null,
       "bottom": null,
       "display": null,
       "flex": null,
       "flex_flow": null,
       "grid_area": null,
       "grid_auto_columns": null,
       "grid_auto_flow": null,
       "grid_auto_rows": null,
       "grid_column": null,
       "grid_gap": null,
       "grid_row": null,
       "grid_template_areas": null,
       "grid_template_columns": null,
       "grid_template_rows": null,
       "height": null,
       "justify_content": null,
       "justify_items": null,
       "left": null,
       "margin": null,
       "max_height": null,
       "max_width": null,
       "min_height": null,
       "min_width": null,
       "object_fit": null,
       "object_position": null,
       "order": null,
       "overflow": null,
       "padding": null,
       "right": null,
       "top": null,
       "visibility": null,
       "width": null
      }
     },
     "9b799a8b86a2495a90470eb75c04c44e": {
      "model_module": "@jupyter-widgets/controls",
      "model_module_version": "2.0.0",
      "model_name": "HBoxModel",
      "state": {
       "_dom_classes": [],
       "_model_module": "@jupyter-widgets/controls",
       "_model_module_version": "2.0.0",
       "_model_name": "HBoxModel",
       "_view_count": null,
       "_view_module": "@jupyter-widgets/controls",
       "_view_module_version": "2.0.0",
       "_view_name": "HBoxView",
       "box_style": "",
       "children": [
        "IPY_MODEL_05685cc216694839b392299bc960b797",
        "IPY_MODEL_2f0a49290cda4c14b431ecb7b177d7b0",
        "IPY_MODEL_75ce9f28990b4352973676208e148e61"
       ],
       "layout": "IPY_MODEL_dd252899ab834ebeb01dcf8fa047bc18",
       "tabbable": null,
       "tooltip": null
      }
     },
     "ab661da359524211b77faf14fc79644f": {
      "model_module": "@jupyter-widgets/controls",
      "model_module_version": "2.0.0",
      "model_name": "HBoxModel",
      "state": {
       "_dom_classes": [],
       "_model_module": "@jupyter-widgets/controls",
       "_model_module_version": "2.0.0",
       "_model_name": "HBoxModel",
       "_view_count": null,
       "_view_module": "@jupyter-widgets/controls",
       "_view_module_version": "2.0.0",
       "_view_name": "HBoxView",
       "box_style": "",
       "children": [
        "IPY_MODEL_53b6f63d527d40e28e3d60b4f17bdfc2",
        "IPY_MODEL_80e2f42cf9064fc6b95ab7984742e775",
        "IPY_MODEL_1fc89681ff8a4a6088f15dc9d3b082a6"
       ],
       "layout": "IPY_MODEL_906ef64f992d4f4d90303772c32be7d7",
       "tabbable": null,
       "tooltip": null
      }
     },
     "d4d43c28d3cb4b8aa2fa63648a5a1959": {
      "model_module": "@jupyter-widgets/base",
      "model_module_version": "2.0.0",
      "model_name": "LayoutModel",
      "state": {
       "_model_module": "@jupyter-widgets/base",
       "_model_module_version": "2.0.0",
       "_model_name": "LayoutModel",
       "_view_count": null,
       "_view_module": "@jupyter-widgets/base",
       "_view_module_version": "2.0.0",
       "_view_name": "LayoutView",
       "align_content": null,
       "align_items": null,
       "align_self": null,
       "border_bottom": null,
       "border_left": null,
       "border_right": null,
       "border_top": null,
       "bottom": null,
       "display": null,
       "flex": null,
       "flex_flow": null,
       "grid_area": null,
       "grid_auto_columns": null,
       "grid_auto_flow": null,
       "grid_auto_rows": null,
       "grid_column": null,
       "grid_gap": null,
       "grid_row": null,
       "grid_template_areas": null,
       "grid_template_columns": null,
       "grid_template_rows": null,
       "height": null,
       "justify_content": null,
       "justify_items": null,
       "left": null,
       "margin": null,
       "max_height": null,
       "max_width": null,
       "min_height": null,
       "min_width": null,
       "object_fit": null,
       "object_position": null,
       "order": null,
       "overflow": null,
       "padding": null,
       "right": null,
       "top": null,
       "visibility": null,
       "width": null
      }
     },
     "dac9b0ce74f2419e8b7670716a7760d4": {
      "model_module": "@jupyter-widgets/controls",
      "model_module_version": "2.0.0",
      "model_name": "HTMLStyleModel",
      "state": {
       "_model_module": "@jupyter-widgets/controls",
       "_model_module_version": "2.0.0",
       "_model_name": "HTMLStyleModel",
       "_view_count": null,
       "_view_module": "@jupyter-widgets/base",
       "_view_module_version": "2.0.0",
       "_view_name": "StyleView",
       "background": null,
       "description_width": "",
       "font_size": null,
       "text_color": null
      }
     },
     "dd252899ab834ebeb01dcf8fa047bc18": {
      "model_module": "@jupyter-widgets/base",
      "model_module_version": "2.0.0",
      "model_name": "LayoutModel",
      "state": {
       "_model_module": "@jupyter-widgets/base",
       "_model_module_version": "2.0.0",
       "_model_name": "LayoutModel",
       "_view_count": null,
       "_view_module": "@jupyter-widgets/base",
       "_view_module_version": "2.0.0",
       "_view_name": "LayoutView",
       "align_content": null,
       "align_items": null,
       "align_self": null,
       "border_bottom": null,
       "border_left": null,
       "border_right": null,
       "border_top": null,
       "bottom": null,
       "display": null,
       "flex": null,
       "flex_flow": null,
       "grid_area": null,
       "grid_auto_columns": null,
       "grid_auto_flow": null,
       "grid_auto_rows": null,
       "grid_column": null,
       "grid_gap": null,
       "grid_row": null,
       "grid_template_areas": null,
       "grid_template_columns": null,
       "grid_template_rows": null,
       "height": null,
       "justify_content": null,
       "justify_items": null,
       "left": null,
       "margin": null,
       "max_height": null,
       "max_width": null,
       "min_height": null,
       "min_width": null,
       "object_fit": null,
       "object_position": null,
       "order": null,
       "overflow": null,
       "padding": null,
       "right": null,
       "top": null,
       "visibility": null,
       "width": null
      }
     },
     "e76d1843b3624deda1bd18b36dfc27fb": {
      "model_module": "@jupyter-widgets/controls",
      "model_module_version": "2.0.0",
      "model_name": "HTMLStyleModel",
      "state": {
       "_model_module": "@jupyter-widgets/controls",
       "_model_module_version": "2.0.0",
       "_model_name": "HTMLStyleModel",
       "_view_count": null,
       "_view_module": "@jupyter-widgets/base",
       "_view_module_version": "2.0.0",
       "_view_name": "StyleView",
       "background": null,
       "description_width": "",
       "font_size": null,
       "text_color": null
      }
     },
     "eb315b9404b24d86b54e3d2361367a3e": {
      "model_module": "@jupyter-widgets/controls",
      "model_module_version": "2.0.0",
      "model_name": "HTMLStyleModel",
      "state": {
       "_model_module": "@jupyter-widgets/controls",
       "_model_module_version": "2.0.0",
       "_model_name": "HTMLStyleModel",
       "_view_count": null,
       "_view_module": "@jupyter-widgets/base",
       "_view_module_version": "2.0.0",
       "_view_name": "StyleView",
       "background": null,
       "description_width": "",
       "font_size": null,
       "text_color": null
      }
     },
     "eba77a0c96d34609be6014bff567f26e": {
      "model_module": "@jupyter-widgets/base",
      "model_module_version": "2.0.0",
      "model_name": "LayoutModel",
      "state": {
       "_model_module": "@jupyter-widgets/base",
       "_model_module_version": "2.0.0",
       "_model_name": "LayoutModel",
       "_view_count": null,
       "_view_module": "@jupyter-widgets/base",
       "_view_module_version": "2.0.0",
       "_view_name": "LayoutView",
       "align_content": null,
       "align_items": null,
       "align_self": null,
       "border_bottom": null,
       "border_left": null,
       "border_right": null,
       "border_top": null,
       "bottom": null,
       "display": null,
       "flex": null,
       "flex_flow": null,
       "grid_area": null,
       "grid_auto_columns": null,
       "grid_auto_flow": null,
       "grid_auto_rows": null,
       "grid_column": null,
       "grid_gap": null,
       "grid_row": null,
       "grid_template_areas": null,
       "grid_template_columns": null,
       "grid_template_rows": null,
       "height": null,
       "justify_content": null,
       "justify_items": null,
       "left": null,
       "margin": null,
       "max_height": null,
       "max_width": null,
       "min_height": null,
       "min_width": null,
       "object_fit": null,
       "object_position": null,
       "order": null,
       "overflow": null,
       "padding": null,
       "right": null,
       "top": null,
       "visibility": null,
       "width": null
      }
     },
     "f04e05b649314119b6b978c259ee19a5": {
      "model_module": "@jupyter-widgets/base",
      "model_module_version": "2.0.0",
      "model_name": "LayoutModel",
      "state": {
       "_model_module": "@jupyter-widgets/base",
       "_model_module_version": "2.0.0",
       "_model_name": "LayoutModel",
       "_view_count": null,
       "_view_module": "@jupyter-widgets/base",
       "_view_module_version": "2.0.0",
       "_view_name": "LayoutView",
       "align_content": null,
       "align_items": null,
       "align_self": null,
       "border_bottom": null,
       "border_left": null,
       "border_right": null,
       "border_top": null,
       "bottom": null,
       "display": null,
       "flex": null,
       "flex_flow": null,
       "grid_area": null,
       "grid_auto_columns": null,
       "grid_auto_flow": null,
       "grid_auto_rows": null,
       "grid_column": null,
       "grid_gap": null,
       "grid_row": null,
       "grid_template_areas": null,
       "grid_template_columns": null,
       "grid_template_rows": null,
       "height": null,
       "justify_content": null,
       "justify_items": null,
       "left": null,
       "margin": null,
       "max_height": null,
       "max_width": null,
       "min_height": null,
       "min_width": null,
       "object_fit": null,
       "object_position": null,
       "order": null,
       "overflow": null,
       "padding": null,
       "right": null,
       "top": null,
       "visibility": null,
       "width": "20px"
      }
     },
     "f213edef631b497d8cdc7ef967b679b4": {
      "model_module": "@jupyter-widgets/controls",
      "model_module_version": "2.0.0",
      "model_name": "HTMLStyleModel",
      "state": {
       "_model_module": "@jupyter-widgets/controls",
       "_model_module_version": "2.0.0",
       "_model_name": "HTMLStyleModel",
       "_view_count": null,
       "_view_module": "@jupyter-widgets/base",
       "_view_module_version": "2.0.0",
       "_view_name": "StyleView",
       "background": null,
       "description_width": "",
       "font_size": null,
       "text_color": null
      }
     },
     "f9fc4063763942d1a7b4ef22db9b46b6": {
      "model_module": "@jupyter-widgets/base",
      "model_module_version": "2.0.0",
      "model_name": "LayoutModel",
      "state": {
       "_model_module": "@jupyter-widgets/base",
       "_model_module_version": "2.0.0",
       "_model_name": "LayoutModel",
       "_view_count": null,
       "_view_module": "@jupyter-widgets/base",
       "_view_module_version": "2.0.0",
       "_view_name": "LayoutView",
       "align_content": null,
       "align_items": null,
       "align_self": null,
       "border_bottom": null,
       "border_left": null,
       "border_right": null,
       "border_top": null,
       "bottom": null,
       "display": null,
       "flex": null,
       "flex_flow": null,
       "grid_area": null,
       "grid_auto_columns": null,
       "grid_auto_flow": null,
       "grid_auto_rows": null,
       "grid_column": null,
       "grid_gap": null,
       "grid_row": null,
       "grid_template_areas": null,
       "grid_template_columns": null,
       "grid_template_rows": null,
       "height": null,
       "justify_content": null,
       "justify_items": null,
       "left": null,
       "margin": null,
       "max_height": null,
       "max_width": null,
       "min_height": null,
       "min_width": null,
       "object_fit": null,
       "object_position": null,
       "order": null,
       "overflow": null,
       "padding": null,
       "right": null,
       "top": null,
       "visibility": null,
       "width": null
      }
     }
    },
    "version_major": 2,
    "version_minor": 0
   }
  }
 },
 "nbformat": 4,
 "nbformat_minor": 5
}
