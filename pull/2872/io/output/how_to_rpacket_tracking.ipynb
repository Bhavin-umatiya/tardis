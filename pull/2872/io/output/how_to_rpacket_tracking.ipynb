{
 "cells": [
  {
   "attachments": {},
   "cell_type": "markdown",
   "id": "f57cd4fe",
   "metadata": {},
   "source": [
    "# How to Track the Properties of Real Packets"
   ]
  },
  {
   "attachments": {},
   "cell_type": "markdown",
   "id": "c103617c",
   "metadata": {},
   "source": [
    "**TARDIS** has the functionality to track the properties of the *RPackets* that are generated when running the Simulation. The `rpacket_tracker` can track all the interactions a packet undergoes & thus keeps a track of the various properties, a packet may have.<br>Currently, the `rpacket_tracker` tracks the properties of all the rpackets in the *Last Iteration of the Simulation*. It generates a `List` that contains the individual instances of `RPacketTracker`{`Numba JITClass`}, for storing all the interaction properties as listed below."
   ]
  },
  {
   "attachments": {},
   "cell_type": "markdown",
   "id": "ce6214b9",
   "metadata": {},
   "source": [
    "<html>\n",
    "    <body>\n",
    "        The properties that are tracked are as follows :\n",
    "        <ol>\n",
    "            <li><b>index</b> - Index of the Packet</li>\n",
    "            <li><b>seed</b> - Seed of the Packet</li>\n",
    "            <li><b>status</b> - Current Status for the Packet Interaction</li>\n",
    "            <li><b>r</b> - Radius of the Current Shell</li> \n",
    "            <li><b>nu</b> - Packet's Frequency</li> \n",
    "            <li><b>mu</b> - Propagation Direction of the Packet (cosine of the angle the packet’s path makes with the radial direction)</li>\n",
    "            <li><b>energy</b> - Energy of the Packet</li>\n",
    "            <li><b>shell_id</b> - Current Shell Id where the Packet is present</li>\n",
    "            <li><b>interaction_type</b> - Last Interaction type of the packet</li>\n",
    "            <li><b>boundary_interaction</b> - Boundary interactions data in the format <b>(event_id, current_shell_id, next_shell_id)</b> of the packet</li>\n",
    "        </ol>\n",
    "    </body>\n",
    "</html>"
   ]
  },
  {
   "attachments": {},
   "cell_type": "markdown",
   "id": "4b0de6ca",
   "metadata": {},
   "source": [
    "The data can be obtained in two ways i.e. `rpacket_tracker` and `rpacket_tracker_df`. The `rpacket_tracker` stores all the data for the interaction of the packets in a `list`, so it needs to accessed with a `list index` for each property for a particular `rpacket`. `rpacket_tracker_df` stores the data in a dataframe. Examples for the same are shown as follows. "
   ]
  },
  {
   "attachments": {},
   "cell_type": "markdown",
   "id": "1686d9f1",
   "metadata": {},
   "source": [
    "## How to Setup the Tracking for the RPackets?"
   ]
  },
  {
   "attachments": {},
   "cell_type": "markdown",
   "id": "29e14475",
   "metadata": {},
   "source": [
    "**TARDIS**' `rpacket_tracker` is configured via the `YAML` file. This functionality of tracking the packets is turned **off**, by default. This is due to that fact that using this property, may slow down the execution time for the Simulation. An example configuration can be seen below for setting up the *tracking*:\n",
    "\n",
    "```yaml\n",
    "... \n",
    "montecarlo:\n",
    "...\n",
    "tracking:\n",
    "    track_rpacket: true\n",
    "```"
   ]
  },
  {
   "attachments": {},
   "cell_type": "markdown",
   "id": "13b6420b",
   "metadata": {},
   "source": [
    "The `montecarlo` section of the **YAML** file now has a `tracking` sub section which holds the configuration properties for the `track_rpacket` & the `initial_array_length` (discussed later in the tutorial)."
   ]
  },
  {
   "attachments": {},
   "cell_type": "markdown",
   "id": "2634c571",
   "metadata": {},
   "source": [
    "Let us see, the new `rpacket_tracker` in action."
   ]
  },
  {
   "cell_type": "code",
   "execution_count": 1,
   "id": "a0e975b6",
   "metadata": {
    "execution": {
     "iopub.execute_input": "2024-12-10T08:12:33.317756Z",
     "iopub.status.busy": "2024-12-10T08:12:33.317318Z",
     "iopub.status.idle": "2024-12-10T08:12:34.907408Z",
     "shell.execute_reply": "2024-12-10T08:12:34.906901Z"
    }
   },
   "outputs": [
    {
     "data": {
      "application/vnd.jupyter.widget-view+json": {
       "model_id": "8222aec9a36443cebac5e76696ab9020",
       "version_major": 2,
       "version_minor": 0
      },
      "text/plain": [
       "Iterations:          0/? [00:00<?, ?it/s]"
      ]
     },
     "metadata": {},
     "output_type": "display_data"
    },
    {
     "data": {
      "application/vnd.jupyter.widget-view+json": {
       "model_id": "cbcc23f794af4c34acf3113baee9f959",
       "version_major": 2,
       "version_minor": 0
      },
      "text/plain": [
       "Packets:             0/? [00:00<?, ?it/s]"
      ]
     },
     "metadata": {},
     "output_type": "display_data"
    }
   ],
   "source": [
    "from tardis.io.configuration.config_reader import Configuration"
   ]
  },
  {
   "cell_type": "code",
   "execution_count": 2,
   "id": "adbf5f75",
   "metadata": {
    "execution": {
     "iopub.execute_input": "2024-12-10T08:12:34.909770Z",
     "iopub.status.busy": "2024-12-10T08:12:34.909467Z",
     "iopub.status.idle": "2024-12-10T08:12:35.002776Z",
     "shell.execute_reply": "2024-12-10T08:12:35.002234Z"
    }
   },
   "outputs": [],
   "source": [
    "# Reading the Configuration stored in `tardis_config_packet_tracking.yml` into config\n",
    "\n",
    "config = Configuration.from_yaml(\"tardis_example.yml\")"
   ]
  },
  {
   "cell_type": "code",
   "execution_count": 3,
   "id": "975766e9",
   "metadata": {
    "execution": {
     "iopub.execute_input": "2024-12-10T08:12:35.004770Z",
     "iopub.status.busy": "2024-12-10T08:12:35.004249Z",
     "iopub.status.idle": "2024-12-10T08:12:35.007698Z",
     "shell.execute_reply": "2024-12-10T08:12:35.007338Z"
    }
   },
   "outputs": [
    {
     "data": {
      "text/plain": [
       "{'track_rpacket': False, 'initial_array_length': 10}"
      ]
     },
     "execution_count": 3,
     "metadata": {},
     "output_type": "execute_result"
    }
   ],
   "source": [
    "# Checking the `tracking` section via the Schema\n",
    "\n",
    "config[\"montecarlo\"][\"tracking\"]"
   ]
  },
  {
   "cell_type": "code",
   "execution_count": 4,
   "id": "b00bc2ca",
   "metadata": {
    "execution": {
     "iopub.execute_input": "2024-12-10T08:12:35.009204Z",
     "iopub.status.busy": "2024-12-10T08:12:35.008902Z",
     "iopub.status.idle": "2024-12-10T08:12:35.011159Z",
     "shell.execute_reply": "2024-12-10T08:12:35.010800Z"
    }
   },
   "outputs": [],
   "source": [
    "# Setting `r_packet_tracking` to True to turn on the Tracking \n",
    "\n",
    "config[\"montecarlo\"][\"tracking\"][\"track_rpacket\"] = True"
   ]
  },
  {
   "cell_type": "code",
   "execution_count": 5,
   "id": "3ece2c10",
   "metadata": {
    "execution": {
     "iopub.execute_input": "2024-12-10T08:12:35.012589Z",
     "iopub.status.busy": "2024-12-10T08:12:35.012289Z",
     "iopub.status.idle": "2024-12-10T08:12:35.015589Z",
     "shell.execute_reply": "2024-12-10T08:12:35.015116Z"
    }
   },
   "outputs": [
    {
     "data": {
      "text/plain": [
       "{'track_rpacket': True, 'initial_array_length': 10}"
      ]
     },
     "execution_count": 5,
     "metadata": {},
     "output_type": "execute_result"
    }
   ],
   "source": [
    "config[\"montecarlo\"][\"tracking\"]"
   ]
  },
  {
   "cell_type": "code",
   "execution_count": 6,
   "id": "b25271d6",
   "metadata": {
    "execution": {
     "iopub.execute_input": "2024-12-10T08:12:35.017165Z",
     "iopub.status.busy": "2024-12-10T08:12:35.016783Z",
     "iopub.status.idle": "2024-12-10T08:12:35.194534Z",
     "shell.execute_reply": "2024-12-10T08:12:35.193976Z"
    }
   },
   "outputs": [],
   "source": [
    "from tardis import run_tardis\n",
    "from tardis.io.atom_data import download_atom_data"
   ]
  },
  {
   "cell_type": "code",
   "execution_count": 7,
   "id": "7d8471c3",
   "metadata": {
    "execution": {
     "iopub.execute_input": "2024-12-10T08:12:35.196630Z",
     "iopub.status.busy": "2024-12-10T08:12:35.196085Z",
     "iopub.status.idle": "2024-12-10T08:12:35.199928Z",
     "shell.execute_reply": "2024-12-10T08:12:35.199561Z"
    }
   },
   "outputs": [
    {
     "name": "stderr",
     "output_type": "stream",
     "text": [
      "Atomic Data kurucz_cd23_chianti_H_He already exists in /home/runner/Downloads/tardis-data/kurucz_cd23_chianti_H_He.h5. Will not download - override with force_download=True.\n"
     ]
    }
   ],
   "source": [
    "download_atom_data('kurucz_cd23_chianti_H_He')"
   ]
  },
  {
   "cell_type": "code",
   "execution_count": 8,
   "id": "f9e51fd3",
   "metadata": {
    "execution": {
     "iopub.execute_input": "2024-12-10T08:12:35.201599Z",
     "iopub.status.busy": "2024-12-10T08:12:35.201126Z",
     "iopub.status.idle": "2024-12-10T08:16:06.618365Z",
     "shell.execute_reply": "2024-12-10T08:16:06.617821Z"
    },
    "scrolled": false
   },
   "outputs": [
    {
     "data": {
      "text/html": [
       "<script type=\"esms-options\">{\"shimMode\": true}</script><style>*[data-root-id],\n",
       "*[data-root-id] > * {\n",
       "  box-sizing: border-box;\n",
       "  font-family: var(--jp-ui-font-family);\n",
       "  font-size: var(--jp-ui-font-size1);\n",
       "  color: var(--vscode-editor-foreground, var(--jp-ui-font-color1));\n",
       "}\n",
       "\n",
       "/* Override VSCode background color */\n",
       ".cell-output-ipywidget-background:has(\n",
       "    > .cell-output-ipywidget-background > .lm-Widget > *[data-root-id]\n",
       "  ),\n",
       ".cell-output-ipywidget-background:has(> .lm-Widget > *[data-root-id]) {\n",
       "  background-color: transparent !important;\n",
       "}\n",
       "</style>"
      ]
     },
     "metadata": {},
     "output_type": "display_data"
    },
    {
     "data": {
      "application/javascript": [
       "(function(root) {\n",
       "  function now() {\n",
       "    return new Date();\n",
       "  }\n",
       "\n",
       "  const force = true;\n",
       "  const py_version = '3.6.1'.replace('rc', '-rc.').replace('.dev', '-dev.');\n",
       "  const reloading = false;\n",
       "  const Bokeh = root.Bokeh;\n",
       "\n",
       "  // Set a timeout for this load but only if we are not already initializing\n",
       "  if (typeof (root._bokeh_timeout) === \"undefined\" || (force || !root._bokeh_is_initializing)) {\n",
       "    root._bokeh_timeout = Date.now() + 5000;\n",
       "    root._bokeh_failed_load = false;\n",
       "  }\n",
       "\n",
       "  function run_callbacks() {\n",
       "    try {\n",
       "      root._bokeh_onload_callbacks.forEach(function(callback) {\n",
       "        if (callback != null)\n",
       "          callback();\n",
       "      });\n",
       "    } finally {\n",
       "      delete root._bokeh_onload_callbacks;\n",
       "    }\n",
       "    console.debug(\"Bokeh: all callbacks have finished\");\n",
       "  }\n",
       "\n",
       "  function load_libs(css_urls, js_urls, js_modules, js_exports, callback) {\n",
       "    if (css_urls == null) css_urls = [];\n",
       "    if (js_urls == null) js_urls = [];\n",
       "    if (js_modules == null) js_modules = [];\n",
       "    if (js_exports == null) js_exports = {};\n",
       "\n",
       "    root._bokeh_onload_callbacks.push(callback);\n",
       "\n",
       "    if (root._bokeh_is_loading > 0) {\n",
       "      // Don't load bokeh if it is still initializing\n",
       "      console.debug(\"Bokeh: BokehJS is being loaded, scheduling callback at\", now());\n",
       "      return null;\n",
       "    } else if (js_urls.length === 0 && js_modules.length === 0 && Object.keys(js_exports).length === 0) {\n",
       "      // There is nothing to load\n",
       "      run_callbacks();\n",
       "      return null;\n",
       "    }\n",
       "\n",
       "    function on_load() {\n",
       "      root._bokeh_is_loading--;\n",
       "      if (root._bokeh_is_loading === 0) {\n",
       "        console.debug(\"Bokeh: all BokehJS libraries/stylesheets loaded\");\n",
       "        run_callbacks()\n",
       "      }\n",
       "    }\n",
       "    window._bokeh_on_load = on_load\n",
       "\n",
       "    function on_error(e) {\n",
       "      const src_el = e.srcElement\n",
       "      console.error(\"failed to load \" + (src_el.href || src_el.src));\n",
       "    }\n",
       "\n",
       "    const skip = [];\n",
       "    if (window.requirejs) {\n",
       "      window.requirejs.config({'packages': {}, 'paths': {}, 'shim': {}});\n",
       "      root._bokeh_is_loading = css_urls.length + 0;\n",
       "    } else {\n",
       "      root._bokeh_is_loading = css_urls.length + js_urls.length + js_modules.length + Object.keys(js_exports).length;\n",
       "    }\n",
       "\n",
       "    const existing_stylesheets = []\n",
       "    const links = document.getElementsByTagName('link')\n",
       "    for (let i = 0; i < links.length; i++) {\n",
       "      const link = links[i]\n",
       "      if (link.href != null) {\n",
       "        existing_stylesheets.push(link.href)\n",
       "      }\n",
       "    }\n",
       "    for (let i = 0; i < css_urls.length; i++) {\n",
       "      const url = css_urls[i];\n",
       "      const escaped = encodeURI(url)\n",
       "      if (existing_stylesheets.indexOf(escaped) !== -1) {\n",
       "        on_load()\n",
       "        continue;\n",
       "      }\n",
       "      const element = document.createElement(\"link\");\n",
       "      element.onload = on_load;\n",
       "      element.onerror = on_error;\n",
       "      element.rel = \"stylesheet\";\n",
       "      element.type = \"text/css\";\n",
       "      element.href = url;\n",
       "      console.debug(\"Bokeh: injecting link tag for BokehJS stylesheet: \", url);\n",
       "      document.body.appendChild(element);\n",
       "    }    var existing_scripts = []\n",
       "    const scripts = document.getElementsByTagName('script')\n",
       "    for (let i = 0; i < scripts.length; i++) {\n",
       "      var script = scripts[i]\n",
       "      if (script.src != null) {\n",
       "        existing_scripts.push(script.src)\n",
       "      }\n",
       "    }\n",
       "    for (let i = 0; i < js_urls.length; i++) {\n",
       "      const url = js_urls[i];\n",
       "      const escaped = encodeURI(url)\n",
       "      if (skip.indexOf(escaped) !== -1 || existing_scripts.indexOf(escaped) !== -1) {\n",
       "        if (!window.requirejs) {\n",
       "          on_load();\n",
       "        }\n",
       "        continue;\n",
       "      }\n",
       "      const element = document.createElement('script');\n",
       "      element.onload = on_load;\n",
       "      element.onerror = on_error;\n",
       "      element.async = false;\n",
       "      element.src = url;\n",
       "      console.debug(\"Bokeh: injecting script tag for BokehJS library: \", url);\n",
       "      document.head.appendChild(element);\n",
       "    }\n",
       "    for (let i = 0; i < js_modules.length; i++) {\n",
       "      const url = js_modules[i];\n",
       "      const escaped = encodeURI(url)\n",
       "      if (skip.indexOf(escaped) !== -1 || existing_scripts.indexOf(escaped) !== -1) {\n",
       "        if (!window.requirejs) {\n",
       "          on_load();\n",
       "        }\n",
       "        continue;\n",
       "      }\n",
       "      var element = document.createElement('script');\n",
       "      element.onload = on_load;\n",
       "      element.onerror = on_error;\n",
       "      element.async = false;\n",
       "      element.src = url;\n",
       "      element.type = \"module\";\n",
       "      console.debug(\"Bokeh: injecting script tag for BokehJS library: \", url);\n",
       "      document.head.appendChild(element);\n",
       "    }\n",
       "    for (const name in js_exports) {\n",
       "      const url = js_exports[name];\n",
       "      const escaped = encodeURI(url)\n",
       "      if (skip.indexOf(escaped) >= 0 || root[name] != null) {\n",
       "        if (!window.requirejs) {\n",
       "          on_load();\n",
       "        }\n",
       "        continue;\n",
       "      }\n",
       "      var element = document.createElement('script');\n",
       "      element.onerror = on_error;\n",
       "      element.async = false;\n",
       "      element.type = \"module\";\n",
       "      console.debug(\"Bokeh: injecting script tag for BokehJS library: \", url);\n",
       "      element.textContent = `\n",
       "      import ${name} from \"${url}\"\n",
       "      window.${name} = ${name}\n",
       "      window._bokeh_on_load()\n",
       "      `\n",
       "      document.head.appendChild(element);\n",
       "    }\n",
       "    if (!js_urls.length && !js_modules.length) {\n",
       "      on_load()\n",
       "    }\n",
       "  };\n",
       "\n",
       "  function inject_raw_css(css) {\n",
       "    const element = document.createElement(\"style\");\n",
       "    element.appendChild(document.createTextNode(css));\n",
       "    document.body.appendChild(element);\n",
       "  }\n",
       "\n",
       "  const js_urls = [\"https://cdn.holoviz.org/panel/1.5.4/dist/bundled/reactiveesm/es-module-shims@^1.10.0/dist/es-module-shims.min.js\", \"https://cdn.bokeh.org/bokeh/release/bokeh-3.6.1.min.js\", \"https://cdn.bokeh.org/bokeh/release/bokeh-gl-3.6.1.min.js\", \"https://cdn.bokeh.org/bokeh/release/bokeh-widgets-3.6.1.min.js\", \"https://cdn.bokeh.org/bokeh/release/bokeh-tables-3.6.1.min.js\", \"https://cdn.holoviz.org/panel/1.5.4/dist/panel.min.js\"];\n",
       "  const js_modules = [];\n",
       "  const js_exports = {};\n",
       "  const css_urls = [];\n",
       "  const inline_js = [    function(Bokeh) {\n",
       "      Bokeh.set_log_level(\"info\");\n",
       "    },\n",
       "function(Bokeh) {} // ensure no trailing comma for IE\n",
       "  ];\n",
       "\n",
       "  function run_inline_js() {\n",
       "    if ((root.Bokeh !== undefined) || (force === true)) {\n",
       "      for (let i = 0; i < inline_js.length; i++) {\n",
       "        try {\n",
       "          inline_js[i].call(root, root.Bokeh);\n",
       "        } catch(e) {\n",
       "          if (!reloading) {\n",
       "            throw e;\n",
       "          }\n",
       "        }\n",
       "      }\n",
       "      // Cache old bokeh versions\n",
       "      if (Bokeh != undefined && !reloading) {\n",
       "        var NewBokeh = root.Bokeh;\n",
       "        if (Bokeh.versions === undefined) {\n",
       "          Bokeh.versions = new Map();\n",
       "        }\n",
       "        if (NewBokeh.version !== Bokeh.version) {\n",
       "          Bokeh.versions.set(NewBokeh.version, NewBokeh)\n",
       "        }\n",
       "        root.Bokeh = Bokeh;\n",
       "      }\n",
       "    } else if (Date.now() < root._bokeh_timeout) {\n",
       "      setTimeout(run_inline_js, 100);\n",
       "    } else if (!root._bokeh_failed_load) {\n",
       "      console.log(\"Bokeh: BokehJS failed to load within specified timeout.\");\n",
       "      root._bokeh_failed_load = true;\n",
       "    }\n",
       "    root._bokeh_is_initializing = false\n",
       "  }\n",
       "\n",
       "  function load_or_wait() {\n",
       "    // Implement a backoff loop that tries to ensure we do not load multiple\n",
       "    // versions of Bokeh and its dependencies at the same time.\n",
       "    // In recent versions we use the root._bokeh_is_initializing flag\n",
       "    // to determine whether there is an ongoing attempt to initialize\n",
       "    // bokeh, however for backward compatibility we also try to ensure\n",
       "    // that we do not start loading a newer (Panel>=1.0 and Bokeh>3) version\n",
       "    // before older versions are fully initialized.\n",
       "    if (root._bokeh_is_initializing && Date.now() > root._bokeh_timeout) {\n",
       "      // If the timeout and bokeh was not successfully loaded we reset\n",
       "      // everything and try loading again\n",
       "      root._bokeh_timeout = Date.now() + 5000;\n",
       "      root._bokeh_is_initializing = false;\n",
       "      root._bokeh_onload_callbacks = undefined;\n",
       "      root._bokeh_is_loading = 0\n",
       "      console.log(\"Bokeh: BokehJS was loaded multiple times but one version failed to initialize.\");\n",
       "      load_or_wait();\n",
       "    } else if (root._bokeh_is_initializing || (typeof root._bokeh_is_initializing === \"undefined\" && root._bokeh_onload_callbacks !== undefined)) {\n",
       "      setTimeout(load_or_wait, 100);\n",
       "    } else {\n",
       "      root._bokeh_is_initializing = true\n",
       "      root._bokeh_onload_callbacks = []\n",
       "      const bokeh_loaded = root.Bokeh != null && (root.Bokeh.version === py_version || (root.Bokeh.versions !== undefined && root.Bokeh.versions.has(py_version)));\n",
       "      if (!reloading && !bokeh_loaded) {\n",
       "        if (root.Bokeh) {\n",
       "          root.Bokeh = undefined;\n",
       "        }\n",
       "        console.debug(\"Bokeh: BokehJS not loaded, scheduling load and callback at\", now());\n",
       "      }\n",
       "      load_libs(css_urls, js_urls, js_modules, js_exports, function() {\n",
       "        console.debug(\"Bokeh: BokehJS plotting callback run at\", now());\n",
       "        run_inline_js();\n",
       "      });\n",
       "    }\n",
       "  }\n",
       "  // Give older versions of the autoload script a head-start to ensure\n",
       "  // they initialize before we start loading newer version.\n",
       "  setTimeout(load_or_wait, 100)\n",
       "}(window));"
      ],
      "application/vnd.holoviews_load.v0+json": "(function(root) {\n  function now() {\n    return new Date();\n  }\n\n  const force = true;\n  const py_version = '3.6.1'.replace('rc', '-rc.').replace('.dev', '-dev.');\n  const reloading = false;\n  const Bokeh = root.Bokeh;\n\n  // Set a timeout for this load but only if we are not already initializing\n  if (typeof (root._bokeh_timeout) === \"undefined\" || (force || !root._bokeh_is_initializing)) {\n    root._bokeh_timeout = Date.now() + 5000;\n    root._bokeh_failed_load = false;\n  }\n\n  function run_callbacks() {\n    try {\n      root._bokeh_onload_callbacks.forEach(function(callback) {\n        if (callback != null)\n          callback();\n      });\n    } finally {\n      delete root._bokeh_onload_callbacks;\n    }\n    console.debug(\"Bokeh: all callbacks have finished\");\n  }\n\n  function load_libs(css_urls, js_urls, js_modules, js_exports, callback) {\n    if (css_urls == null) css_urls = [];\n    if (js_urls == null) js_urls = [];\n    if (js_modules == null) js_modules = [];\n    if (js_exports == null) js_exports = {};\n\n    root._bokeh_onload_callbacks.push(callback);\n\n    if (root._bokeh_is_loading > 0) {\n      // Don't load bokeh if it is still initializing\n      console.debug(\"Bokeh: BokehJS is being loaded, scheduling callback at\", now());\n      return null;\n    } else if (js_urls.length === 0 && js_modules.length === 0 && Object.keys(js_exports).length === 0) {\n      // There is nothing to load\n      run_callbacks();\n      return null;\n    }\n\n    function on_load() {\n      root._bokeh_is_loading--;\n      if (root._bokeh_is_loading === 0) {\n        console.debug(\"Bokeh: all BokehJS libraries/stylesheets loaded\");\n        run_callbacks()\n      }\n    }\n    window._bokeh_on_load = on_load\n\n    function on_error(e) {\n      const src_el = e.srcElement\n      console.error(\"failed to load \" + (src_el.href || src_el.src));\n    }\n\n    const skip = [];\n    if (window.requirejs) {\n      window.requirejs.config({'packages': {}, 'paths': {}, 'shim': {}});\n      root._bokeh_is_loading = css_urls.length + 0;\n    } else {\n      root._bokeh_is_loading = css_urls.length + js_urls.length + js_modules.length + Object.keys(js_exports).length;\n    }\n\n    const existing_stylesheets = []\n    const links = document.getElementsByTagName('link')\n    for (let i = 0; i < links.length; i++) {\n      const link = links[i]\n      if (link.href != null) {\n        existing_stylesheets.push(link.href)\n      }\n    }\n    for (let i = 0; i < css_urls.length; i++) {\n      const url = css_urls[i];\n      const escaped = encodeURI(url)\n      if (existing_stylesheets.indexOf(escaped) !== -1) {\n        on_load()\n        continue;\n      }\n      const element = document.createElement(\"link\");\n      element.onload = on_load;\n      element.onerror = on_error;\n      element.rel = \"stylesheet\";\n      element.type = \"text/css\";\n      element.href = url;\n      console.debug(\"Bokeh: injecting link tag for BokehJS stylesheet: \", url);\n      document.body.appendChild(element);\n    }    var existing_scripts = []\n    const scripts = document.getElementsByTagName('script')\n    for (let i = 0; i < scripts.length; i++) {\n      var script = scripts[i]\n      if (script.src != null) {\n        existing_scripts.push(script.src)\n      }\n    }\n    for (let i = 0; i < js_urls.length; i++) {\n      const url = js_urls[i];\n      const escaped = encodeURI(url)\n      if (skip.indexOf(escaped) !== -1 || existing_scripts.indexOf(escaped) !== -1) {\n        if (!window.requirejs) {\n          on_load();\n        }\n        continue;\n      }\n      const element = document.createElement('script');\n      element.onload = on_load;\n      element.onerror = on_error;\n      element.async = false;\n      element.src = url;\n      console.debug(\"Bokeh: injecting script tag for BokehJS library: \", url);\n      document.head.appendChild(element);\n    }\n    for (let i = 0; i < js_modules.length; i++) {\n      const url = js_modules[i];\n      const escaped = encodeURI(url)\n      if (skip.indexOf(escaped) !== -1 || existing_scripts.indexOf(escaped) !== -1) {\n        if (!window.requirejs) {\n          on_load();\n        }\n        continue;\n      }\n      var element = document.createElement('script');\n      element.onload = on_load;\n      element.onerror = on_error;\n      element.async = false;\n      element.src = url;\n      element.type = \"module\";\n      console.debug(\"Bokeh: injecting script tag for BokehJS library: \", url);\n      document.head.appendChild(element);\n    }\n    for (const name in js_exports) {\n      const url = js_exports[name];\n      const escaped = encodeURI(url)\n      if (skip.indexOf(escaped) >= 0 || root[name] != null) {\n        if (!window.requirejs) {\n          on_load();\n        }\n        continue;\n      }\n      var element = document.createElement('script');\n      element.onerror = on_error;\n      element.async = false;\n      element.type = \"module\";\n      console.debug(\"Bokeh: injecting script tag for BokehJS library: \", url);\n      element.textContent = `\n      import ${name} from \"${url}\"\n      window.${name} = ${name}\n      window._bokeh_on_load()\n      `\n      document.head.appendChild(element);\n    }\n    if (!js_urls.length && !js_modules.length) {\n      on_load()\n    }\n  };\n\n  function inject_raw_css(css) {\n    const element = document.createElement(\"style\");\n    element.appendChild(document.createTextNode(css));\n    document.body.appendChild(element);\n  }\n\n  const js_urls = [\"https://cdn.holoviz.org/panel/1.5.4/dist/bundled/reactiveesm/es-module-shims@^1.10.0/dist/es-module-shims.min.js\", \"https://cdn.bokeh.org/bokeh/release/bokeh-3.6.1.min.js\", \"https://cdn.bokeh.org/bokeh/release/bokeh-gl-3.6.1.min.js\", \"https://cdn.bokeh.org/bokeh/release/bokeh-widgets-3.6.1.min.js\", \"https://cdn.bokeh.org/bokeh/release/bokeh-tables-3.6.1.min.js\", \"https://cdn.holoviz.org/panel/1.5.4/dist/panel.min.js\"];\n  const js_modules = [];\n  const js_exports = {};\n  const css_urls = [];\n  const inline_js = [    function(Bokeh) {\n      Bokeh.set_log_level(\"info\");\n    },\nfunction(Bokeh) {} // ensure no trailing comma for IE\n  ];\n\n  function run_inline_js() {\n    if ((root.Bokeh !== undefined) || (force === true)) {\n      for (let i = 0; i < inline_js.length; i++) {\n        try {\n          inline_js[i].call(root, root.Bokeh);\n        } catch(e) {\n          if (!reloading) {\n            throw e;\n          }\n        }\n      }\n      // Cache old bokeh versions\n      if (Bokeh != undefined && !reloading) {\n        var NewBokeh = root.Bokeh;\n        if (Bokeh.versions === undefined) {\n          Bokeh.versions = new Map();\n        }\n        if (NewBokeh.version !== Bokeh.version) {\n          Bokeh.versions.set(NewBokeh.version, NewBokeh)\n        }\n        root.Bokeh = Bokeh;\n      }\n    } else if (Date.now() < root._bokeh_timeout) {\n      setTimeout(run_inline_js, 100);\n    } else if (!root._bokeh_failed_load) {\n      console.log(\"Bokeh: BokehJS failed to load within specified timeout.\");\n      root._bokeh_failed_load = true;\n    }\n    root._bokeh_is_initializing = false\n  }\n\n  function load_or_wait() {\n    // Implement a backoff loop that tries to ensure we do not load multiple\n    // versions of Bokeh and its dependencies at the same time.\n    // In recent versions we use the root._bokeh_is_initializing flag\n    // to determine whether there is an ongoing attempt to initialize\n    // bokeh, however for backward compatibility we also try to ensure\n    // that we do not start loading a newer (Panel>=1.0 and Bokeh>3) version\n    // before older versions are fully initialized.\n    if (root._bokeh_is_initializing && Date.now() > root._bokeh_timeout) {\n      // If the timeout and bokeh was not successfully loaded we reset\n      // everything and try loading again\n      root._bokeh_timeout = Date.now() + 5000;\n      root._bokeh_is_initializing = false;\n      root._bokeh_onload_callbacks = undefined;\n      root._bokeh_is_loading = 0\n      console.log(\"Bokeh: BokehJS was loaded multiple times but one version failed to initialize.\");\n      load_or_wait();\n    } else if (root._bokeh_is_initializing || (typeof root._bokeh_is_initializing === \"undefined\" && root._bokeh_onload_callbacks !== undefined)) {\n      setTimeout(load_or_wait, 100);\n    } else {\n      root._bokeh_is_initializing = true\n      root._bokeh_onload_callbacks = []\n      const bokeh_loaded = root.Bokeh != null && (root.Bokeh.version === py_version || (root.Bokeh.versions !== undefined && root.Bokeh.versions.has(py_version)));\n      if (!reloading && !bokeh_loaded) {\n        if (root.Bokeh) {\n          root.Bokeh = undefined;\n        }\n        console.debug(\"Bokeh: BokehJS not loaded, scheduling load and callback at\", now());\n      }\n      load_libs(css_urls, js_urls, js_modules, js_exports, function() {\n        console.debug(\"Bokeh: BokehJS plotting callback run at\", now());\n        run_inline_js();\n      });\n    }\n  }\n  // Give older versions of the autoload script a head-start to ensure\n  // they initialize before we start loading newer version.\n  setTimeout(load_or_wait, 100)\n}(window));"
     },
     "metadata": {},
     "output_type": "display_data"
    },
    {
     "data": {
      "application/javascript": [
       "\n",
       "if ((window.PyViz === undefined) || (window.PyViz instanceof HTMLElement)) {\n",
       "  window.PyViz = {comms: {}, comm_status:{}, kernels:{}, receivers: {}, plot_index: []}\n",
       "}\n",
       "\n",
       "\n",
       "    function JupyterCommManager() {\n",
       "    }\n",
       "\n",
       "    JupyterCommManager.prototype.register_target = function(plot_id, comm_id, msg_handler) {\n",
       "      if (window.comm_manager || ((window.Jupyter !== undefined) && (Jupyter.notebook.kernel != null))) {\n",
       "        var comm_manager = window.comm_manager || Jupyter.notebook.kernel.comm_manager;\n",
       "        comm_manager.register_target(comm_id, function(comm) {\n",
       "          comm.on_msg(msg_handler);\n",
       "        });\n",
       "      } else if ((plot_id in window.PyViz.kernels) && (window.PyViz.kernels[plot_id])) {\n",
       "        window.PyViz.kernels[plot_id].registerCommTarget(comm_id, function(comm) {\n",
       "          comm.onMsg = msg_handler;\n",
       "        });\n",
       "      } else if (typeof google != 'undefined' && google.colab.kernel != null) {\n",
       "        google.colab.kernel.comms.registerTarget(comm_id, (comm) => {\n",
       "          var messages = comm.messages[Symbol.asyncIterator]();\n",
       "          function processIteratorResult(result) {\n",
       "            var message = result.value;\n",
       "            console.log(message)\n",
       "            var content = {data: message.data, comm_id};\n",
       "            var buffers = []\n",
       "            for (var buffer of message.buffers || []) {\n",
       "              buffers.push(new DataView(buffer))\n",
       "            }\n",
       "            var metadata = message.metadata || {};\n",
       "            var msg = {content, buffers, metadata}\n",
       "            msg_handler(msg);\n",
       "            return messages.next().then(processIteratorResult);\n",
       "          }\n",
       "          return messages.next().then(processIteratorResult);\n",
       "        })\n",
       "      }\n",
       "    }\n",
       "\n",
       "    JupyterCommManager.prototype.get_client_comm = function(plot_id, comm_id, msg_handler) {\n",
       "      if (comm_id in window.PyViz.comms) {\n",
       "        return window.PyViz.comms[comm_id];\n",
       "      } else if (window.comm_manager || ((window.Jupyter !== undefined) && (Jupyter.notebook.kernel != null))) {\n",
       "        var comm_manager = window.comm_manager || Jupyter.notebook.kernel.comm_manager;\n",
       "        var comm = comm_manager.new_comm(comm_id, {}, {}, {}, comm_id);\n",
       "        if (msg_handler) {\n",
       "          comm.on_msg(msg_handler);\n",
       "        }\n",
       "      } else if ((plot_id in window.PyViz.kernels) && (window.PyViz.kernels[plot_id])) {\n",
       "        var comm = window.PyViz.kernels[plot_id].connectToComm(comm_id);\n",
       "        comm.open();\n",
       "        if (msg_handler) {\n",
       "          comm.onMsg = msg_handler;\n",
       "        }\n",
       "      } else if (typeof google != 'undefined' && google.colab.kernel != null) {\n",
       "        var comm_promise = google.colab.kernel.comms.open(comm_id)\n",
       "        comm_promise.then((comm) => {\n",
       "          window.PyViz.comms[comm_id] = comm;\n",
       "          if (msg_handler) {\n",
       "            var messages = comm.messages[Symbol.asyncIterator]();\n",
       "            function processIteratorResult(result) {\n",
       "              var message = result.value;\n",
       "              var content = {data: message.data};\n",
       "              var metadata = message.metadata || {comm_id};\n",
       "              var msg = {content, metadata}\n",
       "              msg_handler(msg);\n",
       "              return messages.next().then(processIteratorResult);\n",
       "            }\n",
       "            return messages.next().then(processIteratorResult);\n",
       "          }\n",
       "        }) \n",
       "        var sendClosure = (data, metadata, buffers, disposeOnDone) => {\n",
       "          return comm_promise.then((comm) => {\n",
       "            comm.send(data, metadata, buffers, disposeOnDone);\n",
       "          });\n",
       "        };\n",
       "        var comm = {\n",
       "          send: sendClosure\n",
       "        };\n",
       "      }\n",
       "      window.PyViz.comms[comm_id] = comm;\n",
       "      return comm;\n",
       "    }\n",
       "    window.PyViz.comm_manager = new JupyterCommManager();\n",
       "    \n",
       "\n",
       "\n",
       "var JS_MIME_TYPE = 'application/javascript';\n",
       "var HTML_MIME_TYPE = 'text/html';\n",
       "var EXEC_MIME_TYPE = 'application/vnd.holoviews_exec.v0+json';\n",
       "var CLASS_NAME = 'output';\n",
       "\n",
       "/**\n",
       " * Render data to the DOM node\n",
       " */\n",
       "function render(props, node) {\n",
       "  var div = document.createElement(\"div\");\n",
       "  var script = document.createElement(\"script\");\n",
       "  node.appendChild(div);\n",
       "  node.appendChild(script);\n",
       "}\n",
       "\n",
       "/**\n",
       " * Handle when a new output is added\n",
       " */\n",
       "function handle_add_output(event, handle) {\n",
       "  var output_area = handle.output_area;\n",
       "  var output = handle.output;\n",
       "  if ((output.data == undefined) || (!output.data.hasOwnProperty(EXEC_MIME_TYPE))) {\n",
       "    return\n",
       "  }\n",
       "  var id = output.metadata[EXEC_MIME_TYPE][\"id\"];\n",
       "  var toinsert = output_area.element.find(\".\" + CLASS_NAME.split(' ')[0]);\n",
       "  if (id !== undefined) {\n",
       "    var nchildren = toinsert.length;\n",
       "    var html_node = toinsert[nchildren-1].children[0];\n",
       "    html_node.innerHTML = output.data[HTML_MIME_TYPE];\n",
       "    var scripts = [];\n",
       "    var nodelist = html_node.querySelectorAll(\"script\");\n",
       "    for (var i in nodelist) {\n",
       "      if (nodelist.hasOwnProperty(i)) {\n",
       "        scripts.push(nodelist[i])\n",
       "      }\n",
       "    }\n",
       "\n",
       "    scripts.forEach( function (oldScript) {\n",
       "      var newScript = document.createElement(\"script\");\n",
       "      var attrs = [];\n",
       "      var nodemap = oldScript.attributes;\n",
       "      for (var j in nodemap) {\n",
       "        if (nodemap.hasOwnProperty(j)) {\n",
       "          attrs.push(nodemap[j])\n",
       "        }\n",
       "      }\n",
       "      attrs.forEach(function(attr) { newScript.setAttribute(attr.name, attr.value) });\n",
       "      newScript.appendChild(document.createTextNode(oldScript.innerHTML));\n",
       "      oldScript.parentNode.replaceChild(newScript, oldScript);\n",
       "    });\n",
       "    if (JS_MIME_TYPE in output.data) {\n",
       "      toinsert[nchildren-1].children[1].textContent = output.data[JS_MIME_TYPE];\n",
       "    }\n",
       "    output_area._hv_plot_id = id;\n",
       "    if ((window.Bokeh !== undefined) && (id in Bokeh.index)) {\n",
       "      window.PyViz.plot_index[id] = Bokeh.index[id];\n",
       "    } else {\n",
       "      window.PyViz.plot_index[id] = null;\n",
       "    }\n",
       "  } else if (output.metadata[EXEC_MIME_TYPE][\"server_id\"] !== undefined) {\n",
       "    var bk_div = document.createElement(\"div\");\n",
       "    bk_div.innerHTML = output.data[HTML_MIME_TYPE];\n",
       "    var script_attrs = bk_div.children[0].attributes;\n",
       "    for (var i = 0; i < script_attrs.length; i++) {\n",
       "      toinsert[toinsert.length - 1].childNodes[1].setAttribute(script_attrs[i].name, script_attrs[i].value);\n",
       "    }\n",
       "    // store reference to server id on output_area\n",
       "    output_area._bokeh_server_id = output.metadata[EXEC_MIME_TYPE][\"server_id\"];\n",
       "  }\n",
       "}\n",
       "\n",
       "/**\n",
       " * Handle when an output is cleared or removed\n",
       " */\n",
       "function handle_clear_output(event, handle) {\n",
       "  var id = handle.cell.output_area._hv_plot_id;\n",
       "  var server_id = handle.cell.output_area._bokeh_server_id;\n",
       "  if (((id === undefined) || !(id in PyViz.plot_index)) && (server_id !== undefined)) { return; }\n",
       "  var comm = window.PyViz.comm_manager.get_client_comm(\"hv-extension-comm\", \"hv-extension-comm\", function () {});\n",
       "  if (server_id !== null) {\n",
       "    comm.send({event_type: 'server_delete', 'id': server_id});\n",
       "    return;\n",
       "  } else if (comm !== null) {\n",
       "    comm.send({event_type: 'delete', 'id': id});\n",
       "  }\n",
       "  delete PyViz.plot_index[id];\n",
       "  if ((window.Bokeh !== undefined) & (id in window.Bokeh.index)) {\n",
       "    var doc = window.Bokeh.index[id].model.document\n",
       "    doc.clear();\n",
       "    const i = window.Bokeh.documents.indexOf(doc);\n",
       "    if (i > -1) {\n",
       "      window.Bokeh.documents.splice(i, 1);\n",
       "    }\n",
       "  }\n",
       "}\n",
       "\n",
       "/**\n",
       " * Handle kernel restart event\n",
       " */\n",
       "function handle_kernel_cleanup(event, handle) {\n",
       "  delete PyViz.comms[\"hv-extension-comm\"];\n",
       "  window.PyViz.plot_index = {}\n",
       "}\n",
       "\n",
       "/**\n",
       " * Handle update_display_data messages\n",
       " */\n",
       "function handle_update_output(event, handle) {\n",
       "  handle_clear_output(event, {cell: {output_area: handle.output_area}})\n",
       "  handle_add_output(event, handle)\n",
       "}\n",
       "\n",
       "function register_renderer(events, OutputArea) {\n",
       "  function append_mime(data, metadata, element) {\n",
       "    // create a DOM node to render to\n",
       "    var toinsert = this.create_output_subarea(\n",
       "    metadata,\n",
       "    CLASS_NAME,\n",
       "    EXEC_MIME_TYPE\n",
       "    );\n",
       "    this.keyboard_manager.register_events(toinsert);\n",
       "    // Render to node\n",
       "    var props = {data: data, metadata: metadata[EXEC_MIME_TYPE]};\n",
       "    render(props, toinsert[0]);\n",
       "    element.append(toinsert);\n",
       "    return toinsert\n",
       "  }\n",
       "\n",
       "  events.on('output_added.OutputArea', handle_add_output);\n",
       "  events.on('output_updated.OutputArea', handle_update_output);\n",
       "  events.on('clear_output.CodeCell', handle_clear_output);\n",
       "  events.on('delete.Cell', handle_clear_output);\n",
       "  events.on('kernel_ready.Kernel', handle_kernel_cleanup);\n",
       "\n",
       "  OutputArea.prototype.register_mime_type(EXEC_MIME_TYPE, append_mime, {\n",
       "    safe: true,\n",
       "    index: 0\n",
       "  });\n",
       "}\n",
       "\n",
       "if (window.Jupyter !== undefined) {\n",
       "  try {\n",
       "    var events = require('base/js/events');\n",
       "    var OutputArea = require('notebook/js/outputarea').OutputArea;\n",
       "    if (OutputArea.prototype.mime_types().indexOf(EXEC_MIME_TYPE) == -1) {\n",
       "      register_renderer(events, OutputArea);\n",
       "    }\n",
       "  } catch(err) {\n",
       "  }\n",
       "}\n"
      ],
      "application/vnd.holoviews_load.v0+json": "\nif ((window.PyViz === undefined) || (window.PyViz instanceof HTMLElement)) {\n  window.PyViz = {comms: {}, comm_status:{}, kernels:{}, receivers: {}, plot_index: []}\n}\n\n\n    function JupyterCommManager() {\n    }\n\n    JupyterCommManager.prototype.register_target = function(plot_id, comm_id, msg_handler) {\n      if (window.comm_manager || ((window.Jupyter !== undefined) && (Jupyter.notebook.kernel != null))) {\n        var comm_manager = window.comm_manager || Jupyter.notebook.kernel.comm_manager;\n        comm_manager.register_target(comm_id, function(comm) {\n          comm.on_msg(msg_handler);\n        });\n      } else if ((plot_id in window.PyViz.kernels) && (window.PyViz.kernels[plot_id])) {\n        window.PyViz.kernels[plot_id].registerCommTarget(comm_id, function(comm) {\n          comm.onMsg = msg_handler;\n        });\n      } else if (typeof google != 'undefined' && google.colab.kernel != null) {\n        google.colab.kernel.comms.registerTarget(comm_id, (comm) => {\n          var messages = comm.messages[Symbol.asyncIterator]();\n          function processIteratorResult(result) {\n            var message = result.value;\n            console.log(message)\n            var content = {data: message.data, comm_id};\n            var buffers = []\n            for (var buffer of message.buffers || []) {\n              buffers.push(new DataView(buffer))\n            }\n            var metadata = message.metadata || {};\n            var msg = {content, buffers, metadata}\n            msg_handler(msg);\n            return messages.next().then(processIteratorResult);\n          }\n          return messages.next().then(processIteratorResult);\n        })\n      }\n    }\n\n    JupyterCommManager.prototype.get_client_comm = function(plot_id, comm_id, msg_handler) {\n      if (comm_id in window.PyViz.comms) {\n        return window.PyViz.comms[comm_id];\n      } else if (window.comm_manager || ((window.Jupyter !== undefined) && (Jupyter.notebook.kernel != null))) {\n        var comm_manager = window.comm_manager || Jupyter.notebook.kernel.comm_manager;\n        var comm = comm_manager.new_comm(comm_id, {}, {}, {}, comm_id);\n        if (msg_handler) {\n          comm.on_msg(msg_handler);\n        }\n      } else if ((plot_id in window.PyViz.kernels) && (window.PyViz.kernels[plot_id])) {\n        var comm = window.PyViz.kernels[plot_id].connectToComm(comm_id);\n        comm.open();\n        if (msg_handler) {\n          comm.onMsg = msg_handler;\n        }\n      } else if (typeof google != 'undefined' && google.colab.kernel != null) {\n        var comm_promise = google.colab.kernel.comms.open(comm_id)\n        comm_promise.then((comm) => {\n          window.PyViz.comms[comm_id] = comm;\n          if (msg_handler) {\n            var messages = comm.messages[Symbol.asyncIterator]();\n            function processIteratorResult(result) {\n              var message = result.value;\n              var content = {data: message.data};\n              var metadata = message.metadata || {comm_id};\n              var msg = {content, metadata}\n              msg_handler(msg);\n              return messages.next().then(processIteratorResult);\n            }\n            return messages.next().then(processIteratorResult);\n          }\n        }) \n        var sendClosure = (data, metadata, buffers, disposeOnDone) => {\n          return comm_promise.then((comm) => {\n            comm.send(data, metadata, buffers, disposeOnDone);\n          });\n        };\n        var comm = {\n          send: sendClosure\n        };\n      }\n      window.PyViz.comms[comm_id] = comm;\n      return comm;\n    }\n    window.PyViz.comm_manager = new JupyterCommManager();\n    \n\n\nvar JS_MIME_TYPE = 'application/javascript';\nvar HTML_MIME_TYPE = 'text/html';\nvar EXEC_MIME_TYPE = 'application/vnd.holoviews_exec.v0+json';\nvar CLASS_NAME = 'output';\n\n/**\n * Render data to the DOM node\n */\nfunction render(props, node) {\n  var div = document.createElement(\"div\");\n  var script = document.createElement(\"script\");\n  node.appendChild(div);\n  node.appendChild(script);\n}\n\n/**\n * Handle when a new output is added\n */\nfunction handle_add_output(event, handle) {\n  var output_area = handle.output_area;\n  var output = handle.output;\n  if ((output.data == undefined) || (!output.data.hasOwnProperty(EXEC_MIME_TYPE))) {\n    return\n  }\n  var id = output.metadata[EXEC_MIME_TYPE][\"id\"];\n  var toinsert = output_area.element.find(\".\" + CLASS_NAME.split(' ')[0]);\n  if (id !== undefined) {\n    var nchildren = toinsert.length;\n    var html_node = toinsert[nchildren-1].children[0];\n    html_node.innerHTML = output.data[HTML_MIME_TYPE];\n    var scripts = [];\n    var nodelist = html_node.querySelectorAll(\"script\");\n    for (var i in nodelist) {\n      if (nodelist.hasOwnProperty(i)) {\n        scripts.push(nodelist[i])\n      }\n    }\n\n    scripts.forEach( function (oldScript) {\n      var newScript = document.createElement(\"script\");\n      var attrs = [];\n      var nodemap = oldScript.attributes;\n      for (var j in nodemap) {\n        if (nodemap.hasOwnProperty(j)) {\n          attrs.push(nodemap[j])\n        }\n      }\n      attrs.forEach(function(attr) { newScript.setAttribute(attr.name, attr.value) });\n      newScript.appendChild(document.createTextNode(oldScript.innerHTML));\n      oldScript.parentNode.replaceChild(newScript, oldScript);\n    });\n    if (JS_MIME_TYPE in output.data) {\n      toinsert[nchildren-1].children[1].textContent = output.data[JS_MIME_TYPE];\n    }\n    output_area._hv_plot_id = id;\n    if ((window.Bokeh !== undefined) && (id in Bokeh.index)) {\n      window.PyViz.plot_index[id] = Bokeh.index[id];\n    } else {\n      window.PyViz.plot_index[id] = null;\n    }\n  } else if (output.metadata[EXEC_MIME_TYPE][\"server_id\"] !== undefined) {\n    var bk_div = document.createElement(\"div\");\n    bk_div.innerHTML = output.data[HTML_MIME_TYPE];\n    var script_attrs = bk_div.children[0].attributes;\n    for (var i = 0; i < script_attrs.length; i++) {\n      toinsert[toinsert.length - 1].childNodes[1].setAttribute(script_attrs[i].name, script_attrs[i].value);\n    }\n    // store reference to server id on output_area\n    output_area._bokeh_server_id = output.metadata[EXEC_MIME_TYPE][\"server_id\"];\n  }\n}\n\n/**\n * Handle when an output is cleared or removed\n */\nfunction handle_clear_output(event, handle) {\n  var id = handle.cell.output_area._hv_plot_id;\n  var server_id = handle.cell.output_area._bokeh_server_id;\n  if (((id === undefined) || !(id in PyViz.plot_index)) && (server_id !== undefined)) { return; }\n  var comm = window.PyViz.comm_manager.get_client_comm(\"hv-extension-comm\", \"hv-extension-comm\", function () {});\n  if (server_id !== null) {\n    comm.send({event_type: 'server_delete', 'id': server_id});\n    return;\n  } else if (comm !== null) {\n    comm.send({event_type: 'delete', 'id': id});\n  }\n  delete PyViz.plot_index[id];\n  if ((window.Bokeh !== undefined) & (id in window.Bokeh.index)) {\n    var doc = window.Bokeh.index[id].model.document\n    doc.clear();\n    const i = window.Bokeh.documents.indexOf(doc);\n    if (i > -1) {\n      window.Bokeh.documents.splice(i, 1);\n    }\n  }\n}\n\n/**\n * Handle kernel restart event\n */\nfunction handle_kernel_cleanup(event, handle) {\n  delete PyViz.comms[\"hv-extension-comm\"];\n  window.PyViz.plot_index = {}\n}\n\n/**\n * Handle update_display_data messages\n */\nfunction handle_update_output(event, handle) {\n  handle_clear_output(event, {cell: {output_area: handle.output_area}})\n  handle_add_output(event, handle)\n}\n\nfunction register_renderer(events, OutputArea) {\n  function append_mime(data, metadata, element) {\n    // create a DOM node to render to\n    var toinsert = this.create_output_subarea(\n    metadata,\n    CLASS_NAME,\n    EXEC_MIME_TYPE\n    );\n    this.keyboard_manager.register_events(toinsert);\n    // Render to node\n    var props = {data: data, metadata: metadata[EXEC_MIME_TYPE]};\n    render(props, toinsert[0]);\n    element.append(toinsert);\n    return toinsert\n  }\n\n  events.on('output_added.OutputArea', handle_add_output);\n  events.on('output_updated.OutputArea', handle_update_output);\n  events.on('clear_output.CodeCell', handle_clear_output);\n  events.on('delete.Cell', handle_clear_output);\n  events.on('kernel_ready.Kernel', handle_kernel_cleanup);\n\n  OutputArea.prototype.register_mime_type(EXEC_MIME_TYPE, append_mime, {\n    safe: true,\n    index: 0\n  });\n}\n\nif (window.Jupyter !== undefined) {\n  try {\n    var events = require('base/js/events');\n    var OutputArea = require('notebook/js/outputarea').OutputArea;\n    if (OutputArea.prototype.mime_types().indexOf(EXEC_MIME_TYPE) == -1) {\n      register_renderer(events, OutputArea);\n    }\n  } catch(err) {\n  }\n}\n"
     },
     "metadata": {},
     "output_type": "display_data"
    },
    {
     "data": {
      "application/vnd.holoviews_exec.v0+json": "",
      "text/html": [
       "<div id='9b8fd1e7-687c-46b3-92f3-29f4a91dd0ca'>\n",
       "  <div id=\"dc0e54ef-d60e-4ba1-bf69-e999c5edc70c\" data-root-id=\"9b8fd1e7-687c-46b3-92f3-29f4a91dd0ca\" style=\"display: contents;\"></div>\n",
       "</div>\n",
       "<script type=\"application/javascript\">(function(root) {\n",
       "  var docs_json = {\"f1bc78c0-78b2-4202-94cc-c974859a4804\":{\"version\":\"3.6.1\",\"title\":\"Bokeh Application\",\"roots\":[{\"type\":\"object\",\"name\":\"panel.models.browser.BrowserInfo\",\"id\":\"9b8fd1e7-687c-46b3-92f3-29f4a91dd0ca\"},{\"type\":\"object\",\"name\":\"panel.models.comm_manager.CommManager\",\"id\":\"dad4d9fd-b032-433e-9702-3d15729e850b\",\"attributes\":{\"plot_id\":\"9b8fd1e7-687c-46b3-92f3-29f4a91dd0ca\",\"comm_id\":\"1aed7f4490f942fbbf3fb5f60dc857d6\",\"client_comm_id\":\"8408b9044668492d83147359431e3bae\"}}],\"defs\":[{\"type\":\"model\",\"name\":\"ReactiveHTML1\"},{\"type\":\"model\",\"name\":\"FlexBox1\",\"properties\":[{\"name\":\"align_content\",\"kind\":\"Any\",\"default\":\"flex-start\"},{\"name\":\"align_items\",\"kind\":\"Any\",\"default\":\"flex-start\"},{\"name\":\"flex_direction\",\"kind\":\"Any\",\"default\":\"row\"},{\"name\":\"flex_wrap\",\"kind\":\"Any\",\"default\":\"wrap\"},{\"name\":\"gap\",\"kind\":\"Any\",\"default\":\"\"},{\"name\":\"justify_content\",\"kind\":\"Any\",\"default\":\"flex-start\"}]},{\"type\":\"model\",\"name\":\"FloatPanel1\",\"properties\":[{\"name\":\"config\",\"kind\":\"Any\",\"default\":{\"type\":\"map\"}},{\"name\":\"contained\",\"kind\":\"Any\",\"default\":true},{\"name\":\"position\",\"kind\":\"Any\",\"default\":\"right-top\"},{\"name\":\"offsetx\",\"kind\":\"Any\",\"default\":null},{\"name\":\"offsety\",\"kind\":\"Any\",\"default\":null},{\"name\":\"theme\",\"kind\":\"Any\",\"default\":\"primary\"},{\"name\":\"status\",\"kind\":\"Any\",\"default\":\"normalized\"}]},{\"type\":\"model\",\"name\":\"GridStack1\",\"properties\":[{\"name\":\"mode\",\"kind\":\"Any\",\"default\":\"warn\"},{\"name\":\"ncols\",\"kind\":\"Any\",\"default\":null},{\"name\":\"nrows\",\"kind\":\"Any\",\"default\":null},{\"name\":\"allow_resize\",\"kind\":\"Any\",\"default\":true},{\"name\":\"allow_drag\",\"kind\":\"Any\",\"default\":true},{\"name\":\"state\",\"kind\":\"Any\",\"default\":[]}]},{\"type\":\"model\",\"name\":\"drag1\",\"properties\":[{\"name\":\"slider_width\",\"kind\":\"Any\",\"default\":5},{\"name\":\"slider_color\",\"kind\":\"Any\",\"default\":\"black\"},{\"name\":\"value\",\"kind\":\"Any\",\"default\":50}]},{\"type\":\"model\",\"name\":\"click1\",\"properties\":[{\"name\":\"terminal_output\",\"kind\":\"Any\",\"default\":\"\"},{\"name\":\"debug_name\",\"kind\":\"Any\",\"default\":\"\"},{\"name\":\"clears\",\"kind\":\"Any\",\"default\":0}]},{\"type\":\"model\",\"name\":\"FastWrapper1\",\"properties\":[{\"name\":\"object\",\"kind\":\"Any\",\"default\":null},{\"name\":\"style\",\"kind\":\"Any\",\"default\":null}]},{\"type\":\"model\",\"name\":\"NotificationAreaBase1\",\"properties\":[{\"name\":\"js_events\",\"kind\":\"Any\",\"default\":{\"type\":\"map\"}},{\"name\":\"position\",\"kind\":\"Any\",\"default\":\"bottom-right\"},{\"name\":\"_clear\",\"kind\":\"Any\",\"default\":0}]},{\"type\":\"model\",\"name\":\"NotificationArea1\",\"properties\":[{\"name\":\"js_events\",\"kind\":\"Any\",\"default\":{\"type\":\"map\"}},{\"name\":\"notifications\",\"kind\":\"Any\",\"default\":[]},{\"name\":\"position\",\"kind\":\"Any\",\"default\":\"bottom-right\"},{\"name\":\"_clear\",\"kind\":\"Any\",\"default\":0},{\"name\":\"types\",\"kind\":\"Any\",\"default\":[{\"type\":\"map\",\"entries\":[[\"type\",\"warning\"],[\"background\",\"#ffc107\"],[\"icon\",{\"type\":\"map\",\"entries\":[[\"className\",\"fas fa-exclamation-triangle\"],[\"tagName\",\"i\"],[\"color\",\"white\"]]}]]},{\"type\":\"map\",\"entries\":[[\"type\",\"info\"],[\"background\",\"#007bff\"],[\"icon\",{\"type\":\"map\",\"entries\":[[\"className\",\"fas fa-info-circle\"],[\"tagName\",\"i\"],[\"color\",\"white\"]]}]]}]}]},{\"type\":\"model\",\"name\":\"Notification\",\"properties\":[{\"name\":\"background\",\"kind\":\"Any\",\"default\":null},{\"name\":\"duration\",\"kind\":\"Any\",\"default\":3000},{\"name\":\"icon\",\"kind\":\"Any\",\"default\":null},{\"name\":\"message\",\"kind\":\"Any\",\"default\":\"\"},{\"name\":\"notification_type\",\"kind\":\"Any\",\"default\":null},{\"name\":\"_destroyed\",\"kind\":\"Any\",\"default\":false}]},{\"type\":\"model\",\"name\":\"TemplateActions1\",\"properties\":[{\"name\":\"open_modal\",\"kind\":\"Any\",\"default\":0},{\"name\":\"close_modal\",\"kind\":\"Any\",\"default\":0}]},{\"type\":\"model\",\"name\":\"BootstrapTemplateActions1\",\"properties\":[{\"name\":\"open_modal\",\"kind\":\"Any\",\"default\":0},{\"name\":\"close_modal\",\"kind\":\"Any\",\"default\":0}]},{\"type\":\"model\",\"name\":\"TemplateEditor1\",\"properties\":[{\"name\":\"layout\",\"kind\":\"Any\",\"default\":[]}]},{\"type\":\"model\",\"name\":\"MaterialTemplateActions1\",\"properties\":[{\"name\":\"open_modal\",\"kind\":\"Any\",\"default\":0},{\"name\":\"close_modal\",\"kind\":\"Any\",\"default\":0}]},{\"type\":\"model\",\"name\":\"ReactiveESM1\",\"properties\":[{\"name\":\"esm_constants\",\"kind\":\"Any\",\"default\":{\"type\":\"map\"}}]},{\"type\":\"model\",\"name\":\"JSComponent1\",\"properties\":[{\"name\":\"esm_constants\",\"kind\":\"Any\",\"default\":{\"type\":\"map\"}}]},{\"type\":\"model\",\"name\":\"ReactComponent1\",\"properties\":[{\"name\":\"esm_constants\",\"kind\":\"Any\",\"default\":{\"type\":\"map\"}}]},{\"type\":\"model\",\"name\":\"AnyWidgetComponent1\",\"properties\":[{\"name\":\"esm_constants\",\"kind\":\"Any\",\"default\":{\"type\":\"map\"}}]},{\"type\":\"model\",\"name\":\"request_value1\",\"properties\":[{\"name\":\"fill\",\"kind\":\"Any\",\"default\":\"none\"},{\"name\":\"_synced\",\"kind\":\"Any\",\"default\":null},{\"name\":\"_request_sync\",\"kind\":\"Any\",\"default\":0}]}]}};\n",
       "  var render_items = [{\"docid\":\"f1bc78c0-78b2-4202-94cc-c974859a4804\",\"roots\":{\"9b8fd1e7-687c-46b3-92f3-29f4a91dd0ca\":\"dc0e54ef-d60e-4ba1-bf69-e999c5edc70c\"},\"root_ids\":[\"9b8fd1e7-687c-46b3-92f3-29f4a91dd0ca\"]}];\n",
       "  var docs = Object.values(docs_json)\n",
       "  if (!docs) {\n",
       "    return\n",
       "  }\n",
       "  const py_version = docs[0].version.replace('rc', '-rc.').replace('.dev', '-dev.')\n",
       "  async function embed_document(root) {\n",
       "    var Bokeh = get_bokeh(root)\n",
       "    await Bokeh.embed.embed_items_notebook(docs_json, render_items);\n",
       "    for (const render_item of render_items) {\n",
       "      for (const root_id of render_item.root_ids) {\n",
       "\tconst id_el = document.getElementById(root_id)\n",
       "\tif (id_el.children.length && id_el.children[0].hasAttribute('data-root-id')) {\n",
       "\t  const root_el = id_el.children[0]\n",
       "\t  root_el.id = root_el.id + '-rendered'\n",
       "\t  for (const child of root_el.children) {\n",
       "            // Ensure JupyterLab does not capture keyboard shortcuts\n",
       "            // see: https://jupyterlab.readthedocs.io/en/4.1.x/extension/notebook.html#keyboard-interaction-model\n",
       "\t    child.setAttribute('data-lm-suppress-shortcuts', 'true')\n",
       "\t  }\n",
       "\t}\n",
       "      }\n",
       "    }\n",
       "  }\n",
       "  function get_bokeh(root) {\n",
       "    if (root.Bokeh === undefined) {\n",
       "      return null\n",
       "    } else if (root.Bokeh.version !== py_version) {\n",
       "      if (root.Bokeh.versions === undefined || !root.Bokeh.versions.has(py_version)) {\n",
       "\treturn null\n",
       "      }\n",
       "      return root.Bokeh.versions.get(py_version);\n",
       "    } else if (root.Bokeh.version === py_version) {\n",
       "      return root.Bokeh\n",
       "    }\n",
       "    return null\n",
       "  }\n",
       "  function is_loaded(root) {\n",
       "    var Bokeh = get_bokeh(root)\n",
       "    return (Bokeh != null && Bokeh.Panel !== undefined)\n",
       "  }\n",
       "  if (is_loaded(root)) {\n",
       "    embed_document(root);\n",
       "  } else {\n",
       "    var attempts = 0;\n",
       "    var timer = setInterval(function(root) {\n",
       "      if (is_loaded(root)) {\n",
       "        clearInterval(timer);\n",
       "        embed_document(root);\n",
       "      } else if (document.readyState == \"complete\") {\n",
       "        attempts++;\n",
       "        if (attempts > 200) {\n",
       "          clearInterval(timer);\n",
       "\t  var Bokeh = get_bokeh(root)\n",
       "\t  if (Bokeh == null || Bokeh.Panel == null) {\n",
       "            console.warn(\"Panel: ERROR: Unable to run Panel code because Bokeh or Panel library is missing\");\n",
       "\t  } else {\n",
       "\t    console.warn(\"Panel: WARNING: Attempting to render but not all required libraries could be resolved.\")\n",
       "\t    embed_document(root)\n",
       "\t  }\n",
       "        }\n",
       "      }\n",
       "    }, 25, root)\n",
       "  }\n",
       "})(window);</script>"
      ]
     },
     "metadata": {
      "application/vnd.holoviews_exec.v0+json": {
       "id": "9b8fd1e7-687c-46b3-92f3-29f4a91dd0ca"
      }
     },
     "output_type": "display_data"
    },
    {
     "data": {},
     "metadata": {},
     "output_type": "display_data"
    },
    {
     "data": {
      "application/vnd.holoviews_exec.v0+json": "",
      "text/html": [
       "<div id='58fb4151-1100-4519-a3a4-aeb4047441ca'>\n",
       "  <div id=\"a29d6cd1-2b53-4c67-adc9-7d4420a181ea\" data-root-id=\"58fb4151-1100-4519-a3a4-aeb4047441ca\" style=\"display: contents;\"></div>\n",
       "</div>\n",
       "<script type=\"application/javascript\">(function(root) {\n",
       "  var docs_json = {\"6e8a010a-7e63-43a4-a7b3-9611efc7d740\":{\"version\":\"3.6.1\",\"title\":\"Bokeh Application\",\"roots\":[{\"type\":\"object\",\"name\":\"panel.models.tabs.Tabs\",\"id\":\"58fb4151-1100-4519-a3a4-aeb4047441ca\",\"attributes\":{\"tags\":[\"embedded\"],\"stylesheets\":[\"\\n:host(.pn-loading):before, .pn-loading:before {\\n  background-color: #c3c3c3;\\n  mask-size: auto calc(min(50%, 400px));\\n  -webkit-mask-size: auto calc(min(50%, 400px));\\n}\",{\"type\":\"object\",\"name\":\"ImportedStyleSheet\",\"id\":\"82fceb5d-2dc9-4bb2-a373-fa17ccf3b14b\",\"attributes\":{\"url\":\"https://cdn.holoviz.org/panel/1.5.4/dist/css/loading.css\"}},{\"type\":\"object\",\"name\":\"ImportedStyleSheet\",\"id\":\"55b8e48a-d2fa-4f03-93d7-8d40224b182f\",\"attributes\":{\"url\":\"https://cdn.holoviz.org/panel/1.5.4/dist/bundled/theme/default.css\"}},{\"type\":\"object\",\"name\":\"ImportedStyleSheet\",\"id\":\"88ac36f6-047b-4ec9-b19f-24dec5819bde\",\"attributes\":{\"url\":\"https://cdn.holoviz.org/panel/1.5.4/dist/bundled/theme/native.css\"}}],\"height\":350,\"margin\":0,\"sizing_mode\":\"stretch_width\",\"align\":\"start\",\"tabs\":[{\"type\":\"object\",\"name\":\"TabPanel\",\"id\":\"1895e4c2-6d8b-4f5d-b3a6-a06a7f32d9f0\",\"attributes\":{\"name\":\"Feed00124\",\"title\":\"ALL\",\"child\":{\"type\":\"object\",\"name\":\"panel.models.feed.Feed\",\"id\":\"d3cff098-c59c-48dc-9bdc-e3fc73b52a9f\",\"attributes\":{\"name\":\"Feed00124\",\"subscribed_events\":{\"type\":\"set\",\"entries\":[\"scroll_button_click\"]},\"css_classes\":[\"scroll-vertical\"],\"styles\":{\"type\":\"map\",\"entries\":[[\"border\",\"1px solid #ddd\"],[\"width\",\"100%\"],[\"font-family\",\"monospace\"],[\"padding\",\"8px\"],[\"background-color\",\"white\"]]},\"stylesheets\":[\"\\n:host(.pn-loading):before, .pn-loading:before {\\n  background-color: #c3c3c3;\\n  mask-size: auto calc(min(50%, 400px));\\n  -webkit-mask-size: auto calc(min(50%, 400px));\\n}\",{\"id\":\"82fceb5d-2dc9-4bb2-a373-fa17ccf3b14b\"},{\"type\":\"object\",\"name\":\"ImportedStyleSheet\",\"id\":\"36edf68c-0ce8-4915-b0c9-e23b3770196c\",\"attributes\":{\"url\":\"https://cdn.holoviz.org/panel/1.5.4/dist/css/listpanel.css\"}},{\"id\":\"55b8e48a-d2fa-4f03-93d7-8d40224b182f\"},{\"id\":\"88ac36f6-047b-4ec9-b19f-24dec5819bde\"}],\"height\":300,\"min_height\":300,\"margin\":0,\"align\":\"start\",\"children\":[{\"type\":\"object\",\"name\":\"panel.models.markup.HTML\",\"id\":\"0eab01f1-04f3-4485-bc36-b5dd3f71aa8a\",\"attributes\":{\"stylesheets\":[\"\\n:host(.pn-loading):before, .pn-loading:before {\\n  background-color: #c3c3c3;\\n  mask-size: auto calc(min(50%, 400px));\\n  -webkit-mask-size: auto calc(min(50%, 400px));\\n}\",{\"id\":\"82fceb5d-2dc9-4bb2-a373-fa17ccf3b14b\"},{\"id\":\"55b8e48a-d2fa-4f03-93d7-8d40224b182f\"},{\"id\":\"88ac36f6-047b-4ec9-b19f-24dec5819bde\"}],\"margin\":[5,10],\"align\":\"start\",\"text\":\"&lt;div style=&#x27;margin: 0;&#x27;&gt;&lt;span&gt;tardis.io.model.parse_atom_data&lt;/span&gt; &lt;span style=&quot;color: #D3D3D3; font-weight: bold;&quot;&gt;[INFO]&lt;/span&gt; \\n\\tReading Atomic Data from kurucz_cd23_chianti_H_He.h5 (parse_atom_data.py:40)&lt;/div&gt;\",\"disable_math\":true}},{\"type\":\"object\",\"name\":\"panel.models.markup.HTML\",\"id\":\"c9432774-51de-4bc7-8572-37177ea37412\",\"attributes\":{\"stylesheets\":[\"\\n:host(.pn-loading):before, .pn-loading:before {\\n  background-color: #c3c3c3;\\n  mask-size: auto calc(min(50%, 400px));\\n  -webkit-mask-size: auto calc(min(50%, 400px));\\n}\",{\"id\":\"82fceb5d-2dc9-4bb2-a373-fa17ccf3b14b\"},{\"id\":\"55b8e48a-d2fa-4f03-93d7-8d40224b182f\"},{\"id\":\"88ac36f6-047b-4ec9-b19f-24dec5819bde\"}],\"margin\":[5,10],\"align\":\"start\",\"text\":\"&lt;div style=&#x27;margin: 0;&#x27;&gt;&lt;span&gt;tardis.io.atom_data.util&lt;/span&gt; &lt;span style=&quot;color: #D3D3D3; font-weight: bold;&quot;&gt;[INFO]&lt;/span&gt; \\n\\tAtom Data kurucz_cd23_chianti_H_He.h5 not found in local path.\\n\\tExists in TARDIS Data repo /home/runner/Downloads/tardis-data/kurucz_cd23_chianti_H_He.h5 (util.py:34)&lt;/div&gt;\",\"disable_math\":true}},{\"type\":\"object\",\"name\":\"panel.models.markup.HTML\",\"id\":\"f8eed761-6ef0-470c-b0f0-d425c803c251\",\"attributes\":{\"stylesheets\":[\"\\n:host(.pn-loading):before, .pn-loading:before {\\n  background-color: #c3c3c3;\\n  mask-size: auto calc(min(50%, 400px));\\n  -webkit-mask-size: auto calc(min(50%, 400px));\\n}\",{\"id\":\"82fceb5d-2dc9-4bb2-a373-fa17ccf3b14b\"},{\"id\":\"55b8e48a-d2fa-4f03-93d7-8d40224b182f\"},{\"id\":\"88ac36f6-047b-4ec9-b19f-24dec5819bde\"}],\"margin\":[5,10],\"align\":\"start\",\"text\":\"&lt;div style=&#x27;margin: 0;&#x27;&gt;&lt;span&gt;tardis.io.atom_data.base&lt;/span&gt; &lt;span style=&quot;color: #D3D3D3; font-weight: bold;&quot;&gt;[INFO]&lt;/span&gt; Reading Atom Data with: UUID = 6f7b09e887a311e7a06b246e96350010 MD5  = 864f1753714343c41f99cb065710cace  (base.py:262)&lt;/div&gt;\",\"disable_math\":true}},{\"type\":\"object\",\"name\":\"panel.models.markup.HTML\",\"id\":\"41771837-87ab-4bc9-8a6e-f1779f98f277\",\"attributes\":{\"stylesheets\":[\"\\n:host(.pn-loading):before, .pn-loading:before {\\n  background-color: #c3c3c3;\\n  mask-size: auto calc(min(50%, 400px));\\n  -webkit-mask-size: auto calc(min(50%, 400px));\\n}\",{\"id\":\"82fceb5d-2dc9-4bb2-a373-fa17ccf3b14b\"},{\"id\":\"55b8e48a-d2fa-4f03-93d7-8d40224b182f\"},{\"id\":\"88ac36f6-047b-4ec9-b19f-24dec5819bde\"}],\"margin\":[5,10],\"align\":\"start\",\"text\":\"&lt;div style=&#x27;margin: 0;&#x27;&gt;&lt;span&gt;tardis.io.atom_data.base&lt;/span&gt; &lt;span style=&quot;color: #D3D3D3; font-weight: bold;&quot;&gt;[INFO]&lt;/span&gt; Non provided Atomic Data: synpp_refs, photoionization_data, yg_data, two_photon_data, linelist_atoms, linelist_molecules (base.py:266)&lt;/div&gt;\",\"disable_math\":true}},{\"type\":\"object\",\"name\":\"panel.models.markup.HTML\",\"id\":\"da4c3e04-7951-4e0a-8f56-1d55be3348be\",\"attributes\":{\"stylesheets\":[\"\\n:host(.pn-loading):before, .pn-loading:before {\\n  background-color: #c3c3c3;\\n  mask-size: auto calc(min(50%, 400px));\\n  -webkit-mask-size: auto calc(min(50%, 400px));\\n}\",{\"id\":\"82fceb5d-2dc9-4bb2-a373-fa17ccf3b14b\"},{\"id\":\"55b8e48a-d2fa-4f03-93d7-8d40224b182f\"},{\"id\":\"88ac36f6-047b-4ec9-b19f-24dec5819bde\"}],\"margin\":[5,10],\"align\":\"start\",\"text\":\"&lt;div style=&#x27;margin: 0;&#x27;&gt;&lt;span&gt;tardis.io.model.parse_density_configuration&lt;/span&gt; &lt;span style=&quot;color: orange; font-weight: bold;&quot;&gt;[WARNING]&lt;/span&gt; Number of density points larger than number of shells. Assuming inner point irrelevant (parse_density_configuration.py:114)&lt;/div&gt;\",\"disable_math\":true}},{\"type\":\"object\",\"name\":\"panel.models.markup.HTML\",\"id\":\"b88e47ce-0feb-4a3b-838f-5f1632edd2a9\",\"attributes\":{\"stylesheets\":[\"\\n:host(.pn-loading):before, .pn-loading:before {\\n  background-color: #c3c3c3;\\n  mask-size: auto calc(min(50%, 400px));\\n  -webkit-mask-size: auto calc(min(50%, 400px));\\n}\",{\"id\":\"82fceb5d-2dc9-4bb2-a373-fa17ccf3b14b\"},{\"id\":\"55b8e48a-d2fa-4f03-93d7-8d40224b182f\"},{\"id\":\"88ac36f6-047b-4ec9-b19f-24dec5819bde\"}],\"margin\":[5,10],\"align\":\"start\",\"text\":\"&lt;div style=&#x27;margin: 0;&#x27;&gt;&lt;span&gt;tardis.model.matter.decay&lt;/span&gt; &lt;span style=&quot;color: #D3D3D3; font-weight: bold;&quot;&gt;[INFO]&lt;/span&gt; Decaying abundances for 1123200.0 seconds (decay.py:101)&lt;/div&gt;\",\"disable_math\":true}},{\"type\":\"object\",\"name\":\"panel.models.markup.HTML\",\"id\":\"aa25e54a-f316-4608-96a7-18ac52f9100b\",\"attributes\":{\"stylesheets\":[\"\\n:host(.pn-loading):before, .pn-loading:before {\\n  background-color: #c3c3c3;\\n  mask-size: auto calc(min(50%, 400px));\\n  -webkit-mask-size: auto calc(min(50%, 400px));\\n}\",{\"id\":\"82fceb5d-2dc9-4bb2-a373-fa17ccf3b14b\"},{\"id\":\"55b8e48a-d2fa-4f03-93d7-8d40224b182f\"},{\"id\":\"88ac36f6-047b-4ec9-b19f-24dec5819bde\"}],\"margin\":[5,10],\"align\":\"start\",\"text\":\"&lt;div style=&#x27;margin: 0;&#x27;&gt;&lt;span&gt;tardis.simulation.base&lt;/span&gt; &lt;span style=&quot;color: #D3D3D3; font-weight: bold;&quot;&gt;[INFO]&lt;/span&gt; \\n\\tStarting iteration 1 of 20 (base.py:448)&lt;/div&gt;\",\"disable_math\":true}},{\"type\":\"object\",\"name\":\"panel.models.markup.HTML\",\"id\":\"26b0baf0-d489-4dfb-8dd6-422f4712275a\",\"attributes\":{\"stylesheets\":[\"\\n:host(.pn-loading):before, .pn-loading:before {\\n  background-color: #c3c3c3;\\n  mask-size: auto calc(min(50%, 400px));\\n  -webkit-mask-size: auto calc(min(50%, 400px));\\n}\",{\"id\":\"82fceb5d-2dc9-4bb2-a373-fa17ccf3b14b\"},{\"id\":\"55b8e48a-d2fa-4f03-93d7-8d40224b182f\"},{\"id\":\"88ac36f6-047b-4ec9-b19f-24dec5819bde\"}],\"margin\":[5,10],\"align\":\"start\",\"text\":\"&lt;div style=&#x27;margin: 0;&#x27;&gt;&lt;span&gt;py.warnings&lt;/span&gt; &lt;span style=&quot;color: orange; font-weight: bold;&quot;&gt;[WARNING]&lt;/span&gt; /home/runner/work/tardis/tardis/tardis/transport/montecarlo/montecarlo_main_loop.py:123: NumbaTypeSafetyWarning: unsafe cast from uint64 to int64. Precision may be lost.\\n  vpacket_collection = vpacket_collections[i]\\n (warnings.py:112)&lt;/div&gt;\",\"disable_math\":true}},{\"type\":\"object\",\"name\":\"panel.models.markup.HTML\",\"id\":\"b014150a-2714-44c5-ae68-ecb4b9edb228\",\"attributes\":{\"stylesheets\":[\"\\n:host(.pn-loading):before, .pn-loading:before {\\n  background-color: #c3c3c3;\\n  mask-size: auto calc(min(50%, 400px));\\n  -webkit-mask-size: auto calc(min(50%, 400px));\\n}\",{\"id\":\"82fceb5d-2dc9-4bb2-a373-fa17ccf3b14b\"},{\"id\":\"55b8e48a-d2fa-4f03-93d7-8d40224b182f\"},{\"id\":\"88ac36f6-047b-4ec9-b19f-24dec5819bde\"}],\"margin\":[5,10],\"align\":\"start\",\"text\":\"&lt;div style=&#x27;margin: 0;&#x27;&gt;&lt;span&gt;tardis.simulation.base&lt;/span&gt; &lt;span style=&quot;color: #D3D3D3; font-weight: bold;&quot;&gt;[INFO]&lt;/span&gt; \\n\\tLuminosity emitted   = 7.940e+42 erg / s\\n\\tLuminosity absorbed  = 2.660e+42 erg / s\\n\\tLuminosity requested = 1.059e+43 erg / s\\n (base.py:643)&lt;/div&gt;\",\"disable_math\":true}},{\"type\":\"object\",\"name\":\"panel.models.markup.HTML\",\"id\":\"be3a0d97-0482-43b6-ba6b-c1d9aa4133de\",\"attributes\":{\"stylesheets\":[\"\\n:host(.pn-loading):before, .pn-loading:before {\\n  background-color: #c3c3c3;\\n  mask-size: auto calc(min(50%, 400px));\\n  -webkit-mask-size: auto calc(min(50%, 400px));\\n}\",{\"id\":\"82fceb5d-2dc9-4bb2-a373-fa17ccf3b14b\"},{\"id\":\"55b8e48a-d2fa-4f03-93d7-8d40224b182f\"},{\"id\":\"88ac36f6-047b-4ec9-b19f-24dec5819bde\"}],\"margin\":[5,10],\"align\":\"start\",\"text\":\"&lt;div style=&#x27;margin: 0;&#x27;&gt;&lt;span&gt;tardis.simulation.base&lt;/span&gt; &lt;span style=&quot;color: #D3D3D3; font-weight: bold;&quot;&gt;[INFO]&lt;/span&gt; \\n\\tPlasma stratification: (base.py:635)&lt;/div&gt;\",\"disable_math\":true}},{\"type\":\"object\",\"name\":\"panel.models.markup.HTML\",\"id\":\"76f20ffa-ed7f-45e0-bda3-d2a7435dd2ee\",\"attributes\":{\"stylesheets\":[\"\\n:host(.pn-loading):before, .pn-loading:before {\\n  background-color: #c3c3c3;\\n  mask-size: auto calc(min(50%, 400px));\\n  -webkit-mask-size: auto calc(min(50%, 400px));\\n}\",{\"id\":\"82fceb5d-2dc9-4bb2-a373-fa17ccf3b14b\"},{\"id\":\"55b8e48a-d2fa-4f03-93d7-8d40224b182f\"},{\"id\":\"88ac36f6-047b-4ec9-b19f-24dec5819bde\"}],\"margin\":[5,10],\"align\":\"start\",\"text\":\"&lt;div style=&#x27;margin: 0;&#x27;&gt;&lt;span&gt;tardis.simulation.base&lt;/span&gt; &lt;span style=&quot;color: #D3D3D3; font-weight: bold;&quot;&gt;[INFO]&lt;/span&gt; \\n\\tShell No.    t_rad    next_t_rad    w   next_w\\n\\t0         9.93e+03 K  1.01e+04 K   0.4   0.507\\n\\t5         9.85e+03 K  1.02e+04 K 0.211   0.197\\n\\t10        9.78e+03 K  1.01e+04 K 0.143   0.117\\n\\t15        9.71e+03 K  9.88e+03 K 0.105  0.0868\\n (base.py:636)&lt;/div&gt;\",\"disable_math\":true}},{\"type\":\"object\",\"name\":\"panel.models.markup.HTML\",\"id\":\"06fb644c-5e13-4433-9a39-eb2397468906\",\"attributes\":{\"stylesheets\":[\"\\n:host(.pn-loading):before, .pn-loading:before {\\n  background-color: #c3c3c3;\\n  mask-size: auto calc(min(50%, 400px));\\n  -webkit-mask-size: auto calc(min(50%, 400px));\\n}\",{\"id\":\"82fceb5d-2dc9-4bb2-a373-fa17ccf3b14b\"},{\"id\":\"55b8e48a-d2fa-4f03-93d7-8d40224b182f\"},{\"id\":\"88ac36f6-047b-4ec9-b19f-24dec5819bde\"}],\"margin\":[5,10],\"align\":\"start\",\"text\":\"&lt;div style=&#x27;margin: 0;&#x27;&gt;&lt;span&gt;tardis.simulation.base&lt;/span&gt; &lt;span style=&quot;color: #D3D3D3; font-weight: bold;&quot;&gt;[INFO]&lt;/span&gt; \\n\\tCurrent t_inner = 9933.952 K\\n\\tExpected t_inner for next iteration = 10703.881 K\\n (base.py:638)&lt;/div&gt;\",\"disable_math\":true}},{\"type\":\"object\",\"name\":\"panel.models.markup.HTML\",\"id\":\"d952adb0-a37b-4fad-828c-e0a8c0ef571f\",\"attributes\":{\"stylesheets\":[\"\\n:host(.pn-loading):before, .pn-loading:before {\\n  background-color: #c3c3c3;\\n  mask-size: auto calc(min(50%, 400px));\\n  -webkit-mask-size: auto calc(min(50%, 400px));\\n}\",{\"id\":\"82fceb5d-2dc9-4bb2-a373-fa17ccf3b14b\"},{\"id\":\"55b8e48a-d2fa-4f03-93d7-8d40224b182f\"},{\"id\":\"88ac36f6-047b-4ec9-b19f-24dec5819bde\"}],\"margin\":[5,10],\"align\":\"start\",\"text\":\"&lt;div style=&#x27;margin: 0;&#x27;&gt;&lt;span&gt;tardis.simulation.base&lt;/span&gt; &lt;span style=&quot;color: #D3D3D3; font-weight: bold;&quot;&gt;[INFO]&lt;/span&gt; \\n\\tStarting iteration 2 of 20 (base.py:448)&lt;/div&gt;\",\"disable_math\":true}},{\"type\":\"object\",\"name\":\"panel.models.markup.HTML\",\"id\":\"d77e64c9-cb1b-47dc-a5b0-3a533d597b9f\",\"attributes\":{\"stylesheets\":[\"\\n:host(.pn-loading):before, .pn-loading:before {\\n  background-color: #c3c3c3;\\n  mask-size: auto calc(min(50%, 400px));\\n  -webkit-mask-size: auto calc(min(50%, 400px));\\n}\",{\"id\":\"82fceb5d-2dc9-4bb2-a373-fa17ccf3b14b\"},{\"id\":\"55b8e48a-d2fa-4f03-93d7-8d40224b182f\"},{\"id\":\"88ac36f6-047b-4ec9-b19f-24dec5819bde\"}],\"margin\":[5,10],\"align\":\"start\",\"text\":\"&lt;div style=&#x27;margin: 0;&#x27;&gt;&lt;span&gt;tardis.simulation.base&lt;/span&gt; &lt;span style=&quot;color: #D3D3D3; font-weight: bold;&quot;&gt;[INFO]&lt;/span&gt; \\n\\tLuminosity emitted   = 1.072e+43 erg / s\\n\\tLuminosity absorbed  = 3.571e+42 erg / s\\n\\tLuminosity requested = 1.059e+43 erg / s\\n (base.py:643)&lt;/div&gt;\",\"disable_math\":true}},{\"type\":\"object\",\"name\":\"panel.models.markup.HTML\",\"id\":\"c61d54ac-8d3a-43bf-86f1-da8927516eb5\",\"attributes\":{\"stylesheets\":[\"\\n:host(.pn-loading):before, .pn-loading:before {\\n  background-color: #c3c3c3;\\n  mask-size: auto calc(min(50%, 400px));\\n  -webkit-mask-size: auto calc(min(50%, 400px));\\n}\",{\"id\":\"82fceb5d-2dc9-4bb2-a373-fa17ccf3b14b\"},{\"id\":\"55b8e48a-d2fa-4f03-93d7-8d40224b182f\"},{\"id\":\"88ac36f6-047b-4ec9-b19f-24dec5819bde\"}],\"margin\":[5,10],\"align\":\"start\",\"text\":\"&lt;div style=&#x27;margin: 0;&#x27;&gt;&lt;span&gt;tardis.simulation.base&lt;/span&gt; &lt;span style=&quot;color: #D3D3D3; font-weight: bold;&quot;&gt;[INFO]&lt;/span&gt; \\n\\tPlasma stratification: (base.py:635)&lt;/div&gt;\",\"disable_math\":true}},{\"type\":\"object\",\"name\":\"panel.models.markup.HTML\",\"id\":\"dc50b58f-4a4d-4e87-80bd-25aaa15343dd\",\"attributes\":{\"stylesheets\":[\"\\n:host(.pn-loading):before, .pn-loading:before {\\n  background-color: #c3c3c3;\\n  mask-size: auto calc(min(50%, 400px));\\n  -webkit-mask-size: auto calc(min(50%, 400px));\\n}\",{\"id\":\"82fceb5d-2dc9-4bb2-a373-fa17ccf3b14b\"},{\"id\":\"55b8e48a-d2fa-4f03-93d7-8d40224b182f\"},{\"id\":\"88ac36f6-047b-4ec9-b19f-24dec5819bde\"}],\"margin\":[5,10],\"align\":\"start\",\"text\":\"&lt;div style=&#x27;margin: 0;&#x27;&gt;&lt;span&gt;tardis.simulation.base&lt;/span&gt; &lt;span style=&quot;color: #D3D3D3; font-weight: bold;&quot;&gt;[INFO]&lt;/span&gt; \\n\\tShell No.    t_rad    next_t_rad    w    next_w\\n\\t0         1.01e+04 K  1.08e+04 K  0.507   0.527\\n\\t5         1.02e+04 K   1.1e+04 K  0.197   0.201\\n\\t10        1.01e+04 K  1.08e+04 K  0.117   0.124\\n\\t15        9.88e+03 K  1.05e+04 K 0.0868  0.0934\\n (base.py:636)&lt;/div&gt;\",\"disable_math\":true}},{\"type\":\"object\",\"name\":\"panel.models.markup.HTML\",\"id\":\"39f70a7e-35a2-4666-90b5-30f48ae53e62\",\"attributes\":{\"stylesheets\":[\"\\n:host(.pn-loading):before, .pn-loading:before {\\n  background-color: #c3c3c3;\\n  mask-size: auto calc(min(50%, 400px));\\n  -webkit-mask-size: auto calc(min(50%, 400px));\\n}\",{\"id\":\"82fceb5d-2dc9-4bb2-a373-fa17ccf3b14b\"},{\"id\":\"55b8e48a-d2fa-4f03-93d7-8d40224b182f\"},{\"id\":\"88ac36f6-047b-4ec9-b19f-24dec5819bde\"}],\"margin\":[5,10],\"align\":\"start\",\"text\":\"&lt;div style=&#x27;margin: 0;&#x27;&gt;&lt;span&gt;tardis.simulation.base&lt;/span&gt; &lt;span style=&quot;color: #D3D3D3; font-weight: bold;&quot;&gt;[INFO]&lt;/span&gt; \\n\\tCurrent t_inner = 10703.881 K\\n\\tExpected t_inner for next iteration = 10672.215 K\\n (base.py:638)&lt;/div&gt;\",\"disable_math\":true}},{\"type\":\"object\",\"name\":\"panel.models.markup.HTML\",\"id\":\"c61df9cd-f5d6-4af7-91f5-427c22b838ad\",\"attributes\":{\"stylesheets\":[\"\\n:host(.pn-loading):before, .pn-loading:before {\\n  background-color: #c3c3c3;\\n  mask-size: auto calc(min(50%, 400px));\\n  -webkit-mask-size: auto calc(min(50%, 400px));\\n}\",{\"id\":\"82fceb5d-2dc9-4bb2-a373-fa17ccf3b14b\"},{\"id\":\"55b8e48a-d2fa-4f03-93d7-8d40224b182f\"},{\"id\":\"88ac36f6-047b-4ec9-b19f-24dec5819bde\"}],\"margin\":[5,10],\"align\":\"start\",\"text\":\"&lt;div style=&#x27;margin: 0;&#x27;&gt;&lt;span&gt;tardis.simulation.base&lt;/span&gt; &lt;span style=&quot;color: #D3D3D3; font-weight: bold;&quot;&gt;[INFO]&lt;/span&gt; \\n\\tStarting iteration 3 of 20 (base.py:448)&lt;/div&gt;\",\"disable_math\":true}},{\"type\":\"object\",\"name\":\"panel.models.markup.HTML\",\"id\":\"4b2a4990-307f-495d-9642-f667343c3700\",\"attributes\":{\"stylesheets\":[\"\\n:host(.pn-loading):before, .pn-loading:before {\\n  background-color: #c3c3c3;\\n  mask-size: auto calc(min(50%, 400px));\\n  -webkit-mask-size: auto calc(min(50%, 400px));\\n}\",{\"id\":\"82fceb5d-2dc9-4bb2-a373-fa17ccf3b14b\"},{\"id\":\"55b8e48a-d2fa-4f03-93d7-8d40224b182f\"},{\"id\":\"88ac36f6-047b-4ec9-b19f-24dec5819bde\"}],\"margin\":[5,10],\"align\":\"start\",\"text\":\"&lt;div style=&#x27;margin: 0;&#x27;&gt;&lt;span&gt;tardis.simulation.base&lt;/span&gt; &lt;span style=&quot;color: #D3D3D3; font-weight: bold;&quot;&gt;[INFO]&lt;/span&gt; \\n\\tLuminosity emitted   = 1.073e+43 erg / s\\n\\tLuminosity absorbed  = 3.395e+42 erg / s\\n\\tLuminosity requested = 1.059e+43 erg / s\\n (base.py:643)&lt;/div&gt;\",\"disable_math\":true}},{\"type\":\"object\",\"name\":\"panel.models.markup.HTML\",\"id\":\"74a59c04-ff3a-43a3-ae90-10506850601b\",\"attributes\":{\"stylesheets\":[\"\\n:host(.pn-loading):before, .pn-loading:before {\\n  background-color: #c3c3c3;\\n  mask-size: auto calc(min(50%, 400px));\\n  -webkit-mask-size: auto calc(min(50%, 400px));\\n}\",{\"id\":\"82fceb5d-2dc9-4bb2-a373-fa17ccf3b14b\"},{\"id\":\"55b8e48a-d2fa-4f03-93d7-8d40224b182f\"},{\"id\":\"88ac36f6-047b-4ec9-b19f-24dec5819bde\"}],\"margin\":[5,10],\"align\":\"start\",\"text\":\"&lt;div style=&#x27;margin: 0;&#x27;&gt;&lt;span&gt;tardis.simulation.base&lt;/span&gt; &lt;span style=&quot;color: #D3D3D3; font-weight: bold;&quot;&gt;[INFO]&lt;/span&gt; Iteration converged 1/4 consecutive times. (base.py:260)&lt;/div&gt;\",\"disable_math\":true}},{\"type\":\"object\",\"name\":\"panel.models.markup.HTML\",\"id\":\"35c1d61d-ce44-4523-8943-29998c1f40da\",\"attributes\":{\"stylesheets\":[\"\\n:host(.pn-loading):before, .pn-loading:before {\\n  background-color: #c3c3c3;\\n  mask-size: auto calc(min(50%, 400px));\\n  -webkit-mask-size: auto calc(min(50%, 400px));\\n}\",{\"id\":\"82fceb5d-2dc9-4bb2-a373-fa17ccf3b14b\"},{\"id\":\"55b8e48a-d2fa-4f03-93d7-8d40224b182f\"},{\"id\":\"88ac36f6-047b-4ec9-b19f-24dec5819bde\"}],\"margin\":[5,10],\"align\":\"start\",\"text\":\"&lt;div style=&#x27;margin: 0;&#x27;&gt;&lt;span&gt;tardis.simulation.base&lt;/span&gt; &lt;span style=&quot;color: #D3D3D3; font-weight: bold;&quot;&gt;[INFO]&lt;/span&gt; \\n\\tPlasma stratification: (base.py:635)&lt;/div&gt;\",\"disable_math\":true}},{\"type\":\"object\",\"name\":\"panel.models.markup.HTML\",\"id\":\"b3059d5b-354e-444f-ae88-60ef478aa851\",\"attributes\":{\"stylesheets\":[\"\\n:host(.pn-loading):before, .pn-loading:before {\\n  background-color: #c3c3c3;\\n  mask-size: auto calc(min(50%, 400px));\\n  -webkit-mask-size: auto calc(min(50%, 400px));\\n}\",{\"id\":\"82fceb5d-2dc9-4bb2-a373-fa17ccf3b14b\"},{\"id\":\"55b8e48a-d2fa-4f03-93d7-8d40224b182f\"},{\"id\":\"88ac36f6-047b-4ec9-b19f-24dec5819bde\"}],\"margin\":[5,10],\"align\":\"start\",\"text\":\"&lt;div style=&#x27;margin: 0;&#x27;&gt;&lt;span&gt;tardis.simulation.base&lt;/span&gt; &lt;span style=&quot;color: #D3D3D3; font-weight: bold;&quot;&gt;[INFO]&lt;/span&gt; \\n\\tShell No.    t_rad    next_t_rad    w    next_w\\n\\t0         1.08e+04 K   1.1e+04 K  0.527  0.485 \\n\\t5          1.1e+04 K  1.12e+04 K  0.201  0.189 \\n\\t10        1.08e+04 K  1.09e+04 K  0.124  0.118 \\n\\t15        1.05e+04 K  1.06e+04 K 0.0934  0.088 \\n (base.py:636)&lt;/div&gt;\",\"disable_math\":true}},{\"type\":\"object\",\"name\":\"panel.models.markup.HTML\",\"id\":\"2b5ac3d5-440e-485c-b9b8-8a0af08ae3ca\",\"attributes\":{\"stylesheets\":[\"\\n:host(.pn-loading):before, .pn-loading:before {\\n  background-color: #c3c3c3;\\n  mask-size: auto calc(min(50%, 400px));\\n  -webkit-mask-size: auto calc(min(50%, 400px));\\n}\",{\"id\":\"82fceb5d-2dc9-4bb2-a373-fa17ccf3b14b\"},{\"id\":\"55b8e48a-d2fa-4f03-93d7-8d40224b182f\"},{\"id\":\"88ac36f6-047b-4ec9-b19f-24dec5819bde\"}],\"margin\":[5,10],\"align\":\"start\",\"text\":\"&lt;div style=&#x27;margin: 0;&#x27;&gt;&lt;span&gt;tardis.simulation.base&lt;/span&gt; &lt;span style=&quot;color: #D3D3D3; font-weight: bold;&quot;&gt;[INFO]&lt;/span&gt; \\n\\tCurrent t_inner = 10672.215 K\\n\\tExpected t_inner for next iteration = 10637.379 K\\n (base.py:638)&lt;/div&gt;\",\"disable_math\":true}},{\"type\":\"object\",\"name\":\"panel.models.markup.HTML\",\"id\":\"9807b10b-ae00-4fc9-bf68-7333fa5ea936\",\"attributes\":{\"stylesheets\":[\"\\n:host(.pn-loading):before, .pn-loading:before {\\n  background-color: #c3c3c3;\\n  mask-size: auto calc(min(50%, 400px));\\n  -webkit-mask-size: auto calc(min(50%, 400px));\\n}\",{\"id\":\"82fceb5d-2dc9-4bb2-a373-fa17ccf3b14b\"},{\"id\":\"55b8e48a-d2fa-4f03-93d7-8d40224b182f\"},{\"id\":\"88ac36f6-047b-4ec9-b19f-24dec5819bde\"}],\"margin\":[5,10],\"align\":\"start\",\"text\":\"&lt;div style=&#x27;margin: 0;&#x27;&gt;&lt;span&gt;tardis.simulation.base&lt;/span&gt; &lt;span style=&quot;color: #D3D3D3; font-weight: bold;&quot;&gt;[INFO]&lt;/span&gt; \\n\\tStarting iteration 4 of 20 (base.py:448)&lt;/div&gt;\",\"disable_math\":true}},{\"type\":\"object\",\"name\":\"panel.models.markup.HTML\",\"id\":\"e41b2e14-83bc-4790-a624-a464cef541f2\",\"attributes\":{\"stylesheets\":[\"\\n:host(.pn-loading):before, .pn-loading:before {\\n  background-color: #c3c3c3;\\n  mask-size: auto calc(min(50%, 400px));\\n  -webkit-mask-size: auto calc(min(50%, 400px));\\n}\",{\"id\":\"82fceb5d-2dc9-4bb2-a373-fa17ccf3b14b\"},{\"id\":\"55b8e48a-d2fa-4f03-93d7-8d40224b182f\"},{\"id\":\"88ac36f6-047b-4ec9-b19f-24dec5819bde\"}],\"margin\":[5,10],\"align\":\"start\",\"text\":\"&lt;div style=&#x27;margin: 0;&#x27;&gt;&lt;span&gt;tardis.simulation.base&lt;/span&gt; &lt;span style=&quot;color: #D3D3D3; font-weight: bold;&quot;&gt;[INFO]&lt;/span&gt; \\n\\tLuminosity emitted   = 1.059e+43 erg / s\\n\\tLuminosity absorbed  = 3.356e+42 erg / s\\n\\tLuminosity requested = 1.059e+43 erg / s\\n (base.py:643)&lt;/div&gt;\",\"disable_math\":true}},{\"type\":\"object\",\"name\":\"panel.models.markup.HTML\",\"id\":\"4f93ac4a-0ec5-4b47-b8a1-0ab9c7072cd5\",\"attributes\":{\"stylesheets\":[\"\\n:host(.pn-loading):before, .pn-loading:before {\\n  background-color: #c3c3c3;\\n  mask-size: auto calc(min(50%, 400px));\\n  -webkit-mask-size: auto calc(min(50%, 400px));\\n}\",{\"id\":\"82fceb5d-2dc9-4bb2-a373-fa17ccf3b14b\"},{\"id\":\"55b8e48a-d2fa-4f03-93d7-8d40224b182f\"},{\"id\":\"88ac36f6-047b-4ec9-b19f-24dec5819bde\"}],\"margin\":[5,10],\"align\":\"start\",\"text\":\"&lt;div style=&#x27;margin: 0;&#x27;&gt;&lt;span&gt;tardis.simulation.base&lt;/span&gt; &lt;span style=&quot;color: #D3D3D3; font-weight: bold;&quot;&gt;[INFO]&lt;/span&gt; Iteration converged 2/4 consecutive times. (base.py:260)&lt;/div&gt;\",\"disable_math\":true}},{\"type\":\"object\",\"name\":\"panel.models.markup.HTML\",\"id\":\"ebcadb5b-9429-4670-8014-a4edbffe7436\",\"attributes\":{\"stylesheets\":[\"\\n:host(.pn-loading):before, .pn-loading:before {\\n  background-color: #c3c3c3;\\n  mask-size: auto calc(min(50%, 400px));\\n  -webkit-mask-size: auto calc(min(50%, 400px));\\n}\",{\"id\":\"82fceb5d-2dc9-4bb2-a373-fa17ccf3b14b\"},{\"id\":\"55b8e48a-d2fa-4f03-93d7-8d40224b182f\"},{\"id\":\"88ac36f6-047b-4ec9-b19f-24dec5819bde\"}],\"margin\":[5,10],\"align\":\"start\",\"text\":\"&lt;div style=&#x27;margin: 0;&#x27;&gt;&lt;span&gt;tardis.simulation.base&lt;/span&gt; &lt;span style=&quot;color: #D3D3D3; font-weight: bold;&quot;&gt;[INFO]&lt;/span&gt; \\n\\tPlasma stratification: (base.py:635)&lt;/div&gt;\",\"disable_math\":true}},{\"type\":\"object\",\"name\":\"panel.models.markup.HTML\",\"id\":\"c7809822-4a1b-40c3-b372-1fbf14c5e9ee\",\"attributes\":{\"stylesheets\":[\"\\n:host(.pn-loading):before, .pn-loading:before {\\n  background-color: #c3c3c3;\\n  mask-size: auto calc(min(50%, 400px));\\n  -webkit-mask-size: auto calc(min(50%, 400px));\\n}\",{\"id\":\"82fceb5d-2dc9-4bb2-a373-fa17ccf3b14b\"},{\"id\":\"55b8e48a-d2fa-4f03-93d7-8d40224b182f\"},{\"id\":\"88ac36f6-047b-4ec9-b19f-24dec5819bde\"}],\"margin\":[5,10],\"align\":\"start\",\"text\":\"&lt;div style=&#x27;margin: 0;&#x27;&gt;&lt;span&gt;tardis.simulation.base&lt;/span&gt; &lt;span style=&quot;color: #D3D3D3; font-weight: bold;&quot;&gt;[INFO]&lt;/span&gt; \\n\\tShell No.    t_rad    next_t_rad    w   next_w\\n\\t0          1.1e+04 K   1.1e+04 K 0.485   0.474\\n\\t5         1.12e+04 K  1.12e+04 K 0.189   0.182\\n\\t10        1.09e+04 K  1.11e+04 K 0.118   0.113\\n\\t15        1.06e+04 K  1.07e+04 K 0.088  0.0852\\n (base.py:636)&lt;/div&gt;\",\"disable_math\":true}},{\"type\":\"object\",\"name\":\"panel.models.markup.HTML\",\"id\":\"a3d31330-5b7b-497d-b647-2460756d18b4\",\"attributes\":{\"stylesheets\":[\"\\n:host(.pn-loading):before, .pn-loading:before {\\n  background-color: #c3c3c3;\\n  mask-size: auto calc(min(50%, 400px));\\n  -webkit-mask-size: auto calc(min(50%, 400px));\\n}\",{\"id\":\"82fceb5d-2dc9-4bb2-a373-fa17ccf3b14b\"},{\"id\":\"55b8e48a-d2fa-4f03-93d7-8d40224b182f\"},{\"id\":\"88ac36f6-047b-4ec9-b19f-24dec5819bde\"}],\"margin\":[5,10],\"align\":\"start\",\"text\":\"&lt;div style=&#x27;margin: 0;&#x27;&gt;&lt;span&gt;tardis.simulation.base&lt;/span&gt; &lt;span style=&quot;color: #D3D3D3; font-weight: bold;&quot;&gt;[INFO]&lt;/span&gt; \\n\\tCurrent t_inner = 10637.379 K\\n\\tExpected t_inner for next iteration = 10638.692 K\\n (base.py:638)&lt;/div&gt;\",\"disable_math\":true}},{\"type\":\"object\",\"name\":\"panel.models.markup.HTML\",\"id\":\"df7f6a3e-8ef6-4c5e-af6b-ce017e65dcb8\",\"attributes\":{\"stylesheets\":[\"\\n:host(.pn-loading):before, .pn-loading:before {\\n  background-color: #c3c3c3;\\n  mask-size: auto calc(min(50%, 400px));\\n  -webkit-mask-size: auto calc(min(50%, 400px));\\n}\",{\"id\":\"82fceb5d-2dc9-4bb2-a373-fa17ccf3b14b\"},{\"id\":\"55b8e48a-d2fa-4f03-93d7-8d40224b182f\"},{\"id\":\"88ac36f6-047b-4ec9-b19f-24dec5819bde\"}],\"margin\":[5,10],\"align\":\"start\",\"text\":\"&lt;div style=&#x27;margin: 0;&#x27;&gt;&lt;span&gt;tardis.simulation.base&lt;/span&gt; &lt;span style=&quot;color: #D3D3D3; font-weight: bold;&quot;&gt;[INFO]&lt;/span&gt; \\n\\tStarting iteration 5 of 20 (base.py:448)&lt;/div&gt;\",\"disable_math\":true}},{\"type\":\"object\",\"name\":\"panel.models.markup.HTML\",\"id\":\"8e523085-93df-4e5e-8c8e-1c202ec5299f\",\"attributes\":{\"stylesheets\":[\"\\n:host(.pn-loading):before, .pn-loading:before {\\n  background-color: #c3c3c3;\\n  mask-size: auto calc(min(50%, 400px));\\n  -webkit-mask-size: auto calc(min(50%, 400px));\\n}\",{\"id\":\"82fceb5d-2dc9-4bb2-a373-fa17ccf3b14b\"},{\"id\":\"55b8e48a-d2fa-4f03-93d7-8d40224b182f\"},{\"id\":\"88ac36f6-047b-4ec9-b19f-24dec5819bde\"}],\"margin\":[5,10],\"align\":\"start\",\"text\":\"&lt;div style=&#x27;margin: 0;&#x27;&gt;&lt;span&gt;tardis.simulation.base&lt;/span&gt; &lt;span style=&quot;color: #D3D3D3; font-weight: bold;&quot;&gt;[INFO]&lt;/span&gt; \\n\\tLuminosity emitted   = 1.056e+43 erg / s\\n\\tLuminosity absorbed  = 3.389e+42 erg / s\\n\\tLuminosity requested = 1.059e+43 erg / s\\n (base.py:643)&lt;/div&gt;\",\"disable_math\":true}},{\"type\":\"object\",\"name\":\"panel.models.markup.HTML\",\"id\":\"b8c504e6-98bc-447d-b028-c7e9c44bb59e\",\"attributes\":{\"stylesheets\":[\"\\n:host(.pn-loading):before, .pn-loading:before {\\n  background-color: #c3c3c3;\\n  mask-size: auto calc(min(50%, 400px));\\n  -webkit-mask-size: auto calc(min(50%, 400px));\\n}\",{\"id\":\"82fceb5d-2dc9-4bb2-a373-fa17ccf3b14b\"},{\"id\":\"55b8e48a-d2fa-4f03-93d7-8d40224b182f\"},{\"id\":\"88ac36f6-047b-4ec9-b19f-24dec5819bde\"}],\"margin\":[5,10],\"align\":\"start\",\"text\":\"&lt;div style=&#x27;margin: 0;&#x27;&gt;&lt;span&gt;tardis.simulation.base&lt;/span&gt; &lt;span style=&quot;color: #D3D3D3; font-weight: bold;&quot;&gt;[INFO]&lt;/span&gt; Iteration converged 3/4 consecutive times. (base.py:260)&lt;/div&gt;\",\"disable_math\":true}},{\"type\":\"object\",\"name\":\"panel.models.markup.HTML\",\"id\":\"782a5f5f-130a-4324-b898-02c1c6223241\",\"attributes\":{\"stylesheets\":[\"\\n:host(.pn-loading):before, .pn-loading:before {\\n  background-color: #c3c3c3;\\n  mask-size: auto calc(min(50%, 400px));\\n  -webkit-mask-size: auto calc(min(50%, 400px));\\n}\",{\"id\":\"82fceb5d-2dc9-4bb2-a373-fa17ccf3b14b\"},{\"id\":\"55b8e48a-d2fa-4f03-93d7-8d40224b182f\"},{\"id\":\"88ac36f6-047b-4ec9-b19f-24dec5819bde\"}],\"margin\":[5,10],\"align\":\"start\",\"text\":\"&lt;div style=&#x27;margin: 0;&#x27;&gt;&lt;span&gt;tardis.simulation.base&lt;/span&gt; &lt;span style=&quot;color: #D3D3D3; font-weight: bold;&quot;&gt;[INFO]&lt;/span&gt; \\n\\tPlasma stratification: (base.py:635)&lt;/div&gt;\",\"disable_math\":true}},{\"type\":\"object\",\"name\":\"panel.models.markup.HTML\",\"id\":\"ea8cc6eb-5755-4c5b-ba19-8a16ed1c3e45\",\"attributes\":{\"stylesheets\":[\"\\n:host(.pn-loading):before, .pn-loading:before {\\n  background-color: #c3c3c3;\\n  mask-size: auto calc(min(50%, 400px));\\n  -webkit-mask-size: auto calc(min(50%, 400px));\\n}\",{\"id\":\"82fceb5d-2dc9-4bb2-a373-fa17ccf3b14b\"},{\"id\":\"55b8e48a-d2fa-4f03-93d7-8d40224b182f\"},{\"id\":\"88ac36f6-047b-4ec9-b19f-24dec5819bde\"}],\"margin\":[5,10],\"align\":\"start\",\"text\":\"&lt;div style=&#x27;margin: 0;&#x27;&gt;&lt;span&gt;tardis.simulation.base&lt;/span&gt; &lt;span style=&quot;color: #D3D3D3; font-weight: bold;&quot;&gt;[INFO]&lt;/span&gt; \\n\\tShell No.    t_rad    next_t_rad    w    next_w\\n\\t0          1.1e+04 K   1.1e+04 K  0.474   0.481\\n\\t5         1.12e+04 K  1.13e+04 K  0.182   0.179\\n\\t10        1.11e+04 K   1.1e+04 K  0.113   0.114\\n\\t15        1.07e+04 K  1.07e+04 K 0.0852  0.0844\\n (base.py:636)&lt;/div&gt;\",\"disable_math\":true}},{\"type\":\"object\",\"name\":\"panel.models.markup.HTML\",\"id\":\"b7e180c3-2bf4-4cc8-bae1-384f72e1c407\",\"attributes\":{\"stylesheets\":[\"\\n:host(.pn-loading):before, .pn-loading:before {\\n  background-color: #c3c3c3;\\n  mask-size: auto calc(min(50%, 400px));\\n  -webkit-mask-size: auto calc(min(50%, 400px));\\n}\",{\"id\":\"82fceb5d-2dc9-4bb2-a373-fa17ccf3b14b\"},{\"id\":\"55b8e48a-d2fa-4f03-93d7-8d40224b182f\"},{\"id\":\"88ac36f6-047b-4ec9-b19f-24dec5819bde\"}],\"margin\":[5,10],\"align\":\"start\",\"text\":\"&lt;div style=&#x27;margin: 0;&#x27;&gt;&lt;span&gt;tardis.simulation.base&lt;/span&gt; &lt;span style=&quot;color: #D3D3D3; font-weight: bold;&quot;&gt;[INFO]&lt;/span&gt; \\n\\tCurrent t_inner = 10638.692 K\\n\\tExpected t_inner for next iteration = 10647.667 K\\n (base.py:638)&lt;/div&gt;\",\"disable_math\":true}},{\"type\":\"object\",\"name\":\"panel.models.markup.HTML\",\"id\":\"0ccff511-ec0d-4511-bbbd-4b43ae68932d\",\"attributes\":{\"stylesheets\":[\"\\n:host(.pn-loading):before, .pn-loading:before {\\n  background-color: #c3c3c3;\\n  mask-size: auto calc(min(50%, 400px));\\n  -webkit-mask-size: auto calc(min(50%, 400px));\\n}\",{\"id\":\"82fceb5d-2dc9-4bb2-a373-fa17ccf3b14b\"},{\"id\":\"55b8e48a-d2fa-4f03-93d7-8d40224b182f\"},{\"id\":\"88ac36f6-047b-4ec9-b19f-24dec5819bde\"}],\"margin\":[5,10],\"align\":\"start\",\"text\":\"&lt;div style=&#x27;margin: 0;&#x27;&gt;&lt;span&gt;tardis.simulation.base&lt;/span&gt; &lt;span style=&quot;color: #D3D3D3; font-weight: bold;&quot;&gt;[INFO]&lt;/span&gt; \\n\\tStarting iteration 6 of 20 (base.py:448)&lt;/div&gt;\",\"disable_math\":true}},{\"type\":\"object\",\"name\":\"panel.models.markup.HTML\",\"id\":\"f1d05bec-f703-4204-b3d9-46ead25bb747\",\"attributes\":{\"stylesheets\":[\"\\n:host(.pn-loading):before, .pn-loading:before {\\n  background-color: #c3c3c3;\\n  mask-size: auto calc(min(50%, 400px));\\n  -webkit-mask-size: auto calc(min(50%, 400px));\\n}\",{\"id\":\"82fceb5d-2dc9-4bb2-a373-fa17ccf3b14b\"},{\"id\":\"55b8e48a-d2fa-4f03-93d7-8d40224b182f\"},{\"id\":\"88ac36f6-047b-4ec9-b19f-24dec5819bde\"}],\"margin\":[5,10],\"align\":\"start\",\"text\":\"&lt;div style=&#x27;margin: 0;&#x27;&gt;&lt;span&gt;tardis.simulation.base&lt;/span&gt; &lt;span style=&quot;color: #D3D3D3; font-weight: bold;&quot;&gt;[INFO]&lt;/span&gt; \\n\\tLuminosity emitted   = 1.061e+43 erg / s\\n\\tLuminosity absorbed  = 3.391e+42 erg / s\\n\\tLuminosity requested = 1.059e+43 erg / s\\n (base.py:643)&lt;/div&gt;\",\"disable_math\":true}},{\"type\":\"object\",\"name\":\"panel.models.markup.HTML\",\"id\":\"74d95371-848b-4377-bb9c-37ee373365f3\",\"attributes\":{\"stylesheets\":[\"\\n:host(.pn-loading):before, .pn-loading:before {\\n  background-color: #c3c3c3;\\n  mask-size: auto calc(min(50%, 400px));\\n  -webkit-mask-size: auto calc(min(50%, 400px));\\n}\",{\"id\":\"82fceb5d-2dc9-4bb2-a373-fa17ccf3b14b\"},{\"id\":\"55b8e48a-d2fa-4f03-93d7-8d40224b182f\"},{\"id\":\"88ac36f6-047b-4ec9-b19f-24dec5819bde\"}],\"margin\":[5,10],\"align\":\"start\",\"text\":\"&lt;div style=&#x27;margin: 0;&#x27;&gt;&lt;span&gt;tardis.simulation.base&lt;/span&gt; &lt;span style=&quot;color: #D3D3D3; font-weight: bold;&quot;&gt;[INFO]&lt;/span&gt; Iteration converged 4/4 consecutive times. (base.py:260)&lt;/div&gt;\",\"disable_math\":true}},{\"type\":\"object\",\"name\":\"panel.models.markup.HTML\",\"id\":\"e26702c8-0307-43c7-8056-e03629157b4e\",\"attributes\":{\"stylesheets\":[\"\\n:host(.pn-loading):before, .pn-loading:before {\\n  background-color: #c3c3c3;\\n  mask-size: auto calc(min(50%, 400px));\\n  -webkit-mask-size: auto calc(min(50%, 400px));\\n}\",{\"id\":\"82fceb5d-2dc9-4bb2-a373-fa17ccf3b14b\"},{\"id\":\"55b8e48a-d2fa-4f03-93d7-8d40224b182f\"},{\"id\":\"88ac36f6-047b-4ec9-b19f-24dec5819bde\"}],\"margin\":[5,10],\"align\":\"start\",\"text\":\"&lt;div style=&#x27;margin: 0;&#x27;&gt;&lt;span&gt;tardis.simulation.base&lt;/span&gt; &lt;span style=&quot;color: #D3D3D3; font-weight: bold;&quot;&gt;[INFO]&lt;/span&gt; \\n\\tPlasma stratification: (base.py:635)&lt;/div&gt;\",\"disable_math\":true}},{\"type\":\"object\",\"name\":\"panel.models.markup.HTML\",\"id\":\"b0c83744-d464-4ff0-911e-38bdeead2c47\",\"attributes\":{\"stylesheets\":[\"\\n:host(.pn-loading):before, .pn-loading:before {\\n  background-color: #c3c3c3;\\n  mask-size: auto calc(min(50%, 400px));\\n  -webkit-mask-size: auto calc(min(50%, 400px));\\n}\",{\"id\":\"82fceb5d-2dc9-4bb2-a373-fa17ccf3b14b\"},{\"id\":\"55b8e48a-d2fa-4f03-93d7-8d40224b182f\"},{\"id\":\"88ac36f6-047b-4ec9-b19f-24dec5819bde\"}],\"margin\":[5,10],\"align\":\"start\",\"text\":\"&lt;div style=&#x27;margin: 0;&#x27;&gt;&lt;span&gt;tardis.simulation.base&lt;/span&gt; &lt;span style=&quot;color: #D3D3D3; font-weight: bold;&quot;&gt;[INFO]&lt;/span&gt; \\n\\tShell No.    t_rad    next_t_rad    w    next_w\\n\\t0          1.1e+04 K  1.11e+04 K  0.481   0.469\\n\\t5         1.13e+04 K  1.12e+04 K  0.179   0.184\\n\\t10         1.1e+04 K   1.1e+04 K  0.114   0.115\\n\\t15        1.07e+04 K  1.06e+04 K 0.0844  0.0866\\n (base.py:636)&lt;/div&gt;\",\"disable_math\":true}},{\"type\":\"object\",\"name\":\"panel.models.markup.HTML\",\"id\":\"bb1ebef5-5a93-46f2-90f9-9f68a5be7320\",\"attributes\":{\"stylesheets\":[\"\\n:host(.pn-loading):before, .pn-loading:before {\\n  background-color: #c3c3c3;\\n  mask-size: auto calc(min(50%, 400px));\\n  -webkit-mask-size: auto calc(min(50%, 400px));\\n}\",{\"id\":\"82fceb5d-2dc9-4bb2-a373-fa17ccf3b14b\"},{\"id\":\"55b8e48a-d2fa-4f03-93d7-8d40224b182f\"},{\"id\":\"88ac36f6-047b-4ec9-b19f-24dec5819bde\"}],\"margin\":[5,10],\"align\":\"start\",\"text\":\"&lt;div style=&#x27;margin: 0;&#x27;&gt;&lt;span&gt;tardis.simulation.base&lt;/span&gt; &lt;span style=&quot;color: #D3D3D3; font-weight: bold;&quot;&gt;[INFO]&lt;/span&gt; \\n\\tCurrent t_inner = 10647.667 K\\n\\tExpected t_inner for next iteration = 10644.519 K\\n (base.py:638)&lt;/div&gt;\",\"disable_math\":true}},{\"type\":\"object\",\"name\":\"panel.models.markup.HTML\",\"id\":\"e7b85c79-1237-4720-be05-aaedf08b4d64\",\"attributes\":{\"stylesheets\":[\"\\n:host(.pn-loading):before, .pn-loading:before {\\n  background-color: #c3c3c3;\\n  mask-size: auto calc(min(50%, 400px));\\n  -webkit-mask-size: auto calc(min(50%, 400px));\\n}\",{\"id\":\"82fceb5d-2dc9-4bb2-a373-fa17ccf3b14b\"},{\"id\":\"55b8e48a-d2fa-4f03-93d7-8d40224b182f\"},{\"id\":\"88ac36f6-047b-4ec9-b19f-24dec5819bde\"}],\"margin\":[5,10],\"align\":\"start\",\"text\":\"&lt;div style=&#x27;margin: 0;&#x27;&gt;&lt;span&gt;tardis.simulation.base&lt;/span&gt; &lt;span style=&quot;color: #D3D3D3; font-weight: bold;&quot;&gt;[INFO]&lt;/span&gt; \\n\\tStarting iteration 7 of 20 (base.py:448)&lt;/div&gt;\",\"disable_math\":true}},{\"type\":\"object\",\"name\":\"panel.models.markup.HTML\",\"id\":\"81aaf9de-faba-40b2-bd0b-fde60b8bb43b\",\"attributes\":{\"stylesheets\":[\"\\n:host(.pn-loading):before, .pn-loading:before {\\n  background-color: #c3c3c3;\\n  mask-size: auto calc(min(50%, 400px));\\n  -webkit-mask-size: auto calc(min(50%, 400px));\\n}\",{\"id\":\"82fceb5d-2dc9-4bb2-a373-fa17ccf3b14b\"},{\"id\":\"55b8e48a-d2fa-4f03-93d7-8d40224b182f\"},{\"id\":\"88ac36f6-047b-4ec9-b19f-24dec5819bde\"}],\"margin\":[5,10],\"align\":\"start\",\"text\":\"&lt;div style=&#x27;margin: 0;&#x27;&gt;&lt;span&gt;tardis.simulation.base&lt;/span&gt; &lt;span style=&quot;color: #D3D3D3; font-weight: bold;&quot;&gt;[INFO]&lt;/span&gt; \\n\\tLuminosity emitted   = 1.059e+43 erg / s\\n\\tLuminosity absorbed  = 3.388e+42 erg / s\\n\\tLuminosity requested = 1.059e+43 erg / s\\n (base.py:643)&lt;/div&gt;\",\"disable_math\":true}},{\"type\":\"object\",\"name\":\"panel.models.markup.HTML\",\"id\":\"d367b86f-c498-453e-825b-36a982489bd9\",\"attributes\":{\"stylesheets\":[\"\\n:host(.pn-loading):before, .pn-loading:before {\\n  background-color: #c3c3c3;\\n  mask-size: auto calc(min(50%, 400px));\\n  -webkit-mask-size: auto calc(min(50%, 400px));\\n}\",{\"id\":\"82fceb5d-2dc9-4bb2-a373-fa17ccf3b14b\"},{\"id\":\"55b8e48a-d2fa-4f03-93d7-8d40224b182f\"},{\"id\":\"88ac36f6-047b-4ec9-b19f-24dec5819bde\"}],\"margin\":[5,10],\"align\":\"start\",\"text\":\"&lt;div style=&#x27;margin: 0;&#x27;&gt;&lt;span&gt;tardis.simulation.base&lt;/span&gt; &lt;span style=&quot;color: #D3D3D3; font-weight: bold;&quot;&gt;[INFO]&lt;/span&gt; Iteration converged 5/4 consecutive times. (base.py:260)&lt;/div&gt;\",\"disable_math\":true}},{\"type\":\"object\",\"name\":\"panel.models.markup.HTML\",\"id\":\"95b30ea0-86d5-4933-af23-bc4e22086352\",\"attributes\":{\"stylesheets\":[\"\\n:host(.pn-loading):before, .pn-loading:before {\\n  background-color: #c3c3c3;\\n  mask-size: auto calc(min(50%, 400px));\\n  -webkit-mask-size: auto calc(min(50%, 400px));\\n}\",{\"id\":\"82fceb5d-2dc9-4bb2-a373-fa17ccf3b14b\"},{\"id\":\"55b8e48a-d2fa-4f03-93d7-8d40224b182f\"},{\"id\":\"88ac36f6-047b-4ec9-b19f-24dec5819bde\"}],\"margin\":[5,10],\"align\":\"start\",\"text\":\"&lt;div style=&#x27;margin: 0;&#x27;&gt;&lt;span&gt;tardis.simulation.base&lt;/span&gt; &lt;span style=&quot;color: #D3D3D3; font-weight: bold;&quot;&gt;[INFO]&lt;/span&gt; \\n\\tPlasma stratification: (base.py:635)&lt;/div&gt;\",\"disable_math\":true}},{\"type\":\"object\",\"name\":\"panel.models.markup.HTML\",\"id\":\"a6bd2596-a1cf-4b36-9685-3502e8ca35c9\",\"attributes\":{\"stylesheets\":[\"\\n:host(.pn-loading):before, .pn-loading:before {\\n  background-color: #c3c3c3;\\n  mask-size: auto calc(min(50%, 400px));\\n  -webkit-mask-size: auto calc(min(50%, 400px));\\n}\",{\"id\":\"82fceb5d-2dc9-4bb2-a373-fa17ccf3b14b\"},{\"id\":\"55b8e48a-d2fa-4f03-93d7-8d40224b182f\"},{\"id\":\"88ac36f6-047b-4ec9-b19f-24dec5819bde\"}],\"margin\":[5,10],\"align\":\"start\",\"text\":\"&lt;div style=&#x27;margin: 0;&#x27;&gt;&lt;span&gt;tardis.simulation.base&lt;/span&gt; &lt;span style=&quot;color: #D3D3D3; font-weight: bold;&quot;&gt;[INFO]&lt;/span&gt; \\n\\tShell No.    t_rad    next_t_rad    w    next_w\\n\\t0         1.11e+04 K  1.11e+04 K  0.469   0.466\\n\\t5         1.12e+04 K  1.14e+04 K  0.184   0.171\\n\\t10         1.1e+04 K  1.11e+04 K  0.115    0.11\\n\\t15        1.06e+04 K  1.07e+04 K 0.0866  0.0854\\n (base.py:636)&lt;/div&gt;\",\"disable_math\":true}},{\"type\":\"object\",\"name\":\"panel.models.markup.HTML\",\"id\":\"c6a9ce43-81b8-4db3-b184-f67361de26e8\",\"attributes\":{\"stylesheets\":[\"\\n:host(.pn-loading):before, .pn-loading:before {\\n  background-color: #c3c3c3;\\n  mask-size: auto calc(min(50%, 400px));\\n  -webkit-mask-size: auto calc(min(50%, 400px));\\n}\",{\"id\":\"82fceb5d-2dc9-4bb2-a373-fa17ccf3b14b\"},{\"id\":\"55b8e48a-d2fa-4f03-93d7-8d40224b182f\"},{\"id\":\"88ac36f6-047b-4ec9-b19f-24dec5819bde\"}],\"margin\":[5,10],\"align\":\"start\",\"text\":\"&lt;div style=&#x27;margin: 0;&#x27;&gt;&lt;span&gt;tardis.simulation.base&lt;/span&gt; &lt;span style=&quot;color: #D3D3D3; font-weight: bold;&quot;&gt;[INFO]&lt;/span&gt; \\n\\tCurrent t_inner = 10644.519 K\\n\\tExpected t_inner for next iteration = 10644.372 K\\n (base.py:638)&lt;/div&gt;\",\"disable_math\":true}},{\"type\":\"object\",\"name\":\"panel.models.markup.HTML\",\"id\":\"2f4c8fb1-f2ac-452d-a8d3-fa72718d893d\",\"attributes\":{\"stylesheets\":[\"\\n:host(.pn-loading):before, .pn-loading:before {\\n  background-color: #c3c3c3;\\n  mask-size: auto calc(min(50%, 400px));\\n  -webkit-mask-size: auto calc(min(50%, 400px));\\n}\",{\"id\":\"82fceb5d-2dc9-4bb2-a373-fa17ccf3b14b\"},{\"id\":\"55b8e48a-d2fa-4f03-93d7-8d40224b182f\"},{\"id\":\"88ac36f6-047b-4ec9-b19f-24dec5819bde\"}],\"margin\":[5,10],\"align\":\"start\",\"text\":\"&lt;div style=&#x27;margin: 0;&#x27;&gt;&lt;span&gt;tardis.simulation.base&lt;/span&gt; &lt;span style=&quot;color: #D3D3D3; font-weight: bold;&quot;&gt;[INFO]&lt;/span&gt; \\n\\tStarting iteration 8 of 20 (base.py:448)&lt;/div&gt;\",\"disable_math\":true}},{\"type\":\"object\",\"name\":\"panel.models.markup.HTML\",\"id\":\"5d5f7d93-3c16-48db-a3e6-c7026b971c46\",\"attributes\":{\"stylesheets\":[\"\\n:host(.pn-loading):before, .pn-loading:before {\\n  background-color: #c3c3c3;\\n  mask-size: auto calc(min(50%, 400px));\\n  -webkit-mask-size: auto calc(min(50%, 400px));\\n}\",{\"id\":\"82fceb5d-2dc9-4bb2-a373-fa17ccf3b14b\"},{\"id\":\"55b8e48a-d2fa-4f03-93d7-8d40224b182f\"},{\"id\":\"88ac36f6-047b-4ec9-b19f-24dec5819bde\"}],\"margin\":[5,10],\"align\":\"start\",\"text\":\"&lt;div style=&#x27;margin: 0;&#x27;&gt;&lt;span&gt;tardis.simulation.base&lt;/span&gt; &lt;span style=&quot;color: #D3D3D3; font-weight: bold;&quot;&gt;[INFO]&lt;/span&gt; \\n\\tLuminosity emitted   = 1.062e+43 erg / s\\n\\tLuminosity absorbed  = 3.363e+42 erg / s\\n\\tLuminosity requested = 1.059e+43 erg / s\\n (base.py:643)&lt;/div&gt;\",\"disable_math\":true}},{\"type\":\"object\",\"name\":\"panel.models.markup.HTML\",\"id\":\"53cdcf4f-5e8d-442f-ba4f-21e3ffa4ba43\",\"attributes\":{\"stylesheets\":[\"\\n:host(.pn-loading):before, .pn-loading:before {\\n  background-color: #c3c3c3;\\n  mask-size: auto calc(min(50%, 400px));\\n  -webkit-mask-size: auto calc(min(50%, 400px));\\n}\",{\"id\":\"82fceb5d-2dc9-4bb2-a373-fa17ccf3b14b\"},{\"id\":\"55b8e48a-d2fa-4f03-93d7-8d40224b182f\"},{\"id\":\"88ac36f6-047b-4ec9-b19f-24dec5819bde\"}],\"margin\":[5,10],\"align\":\"start\",\"text\":\"&lt;div style=&#x27;margin: 0;&#x27;&gt;&lt;span&gt;tardis.simulation.base&lt;/span&gt; &lt;span style=&quot;color: #D3D3D3; font-weight: bold;&quot;&gt;[INFO]&lt;/span&gt; Iteration converged 6/4 consecutive times. (base.py:260)&lt;/div&gt;\",\"disable_math\":true}},{\"type\":\"object\",\"name\":\"panel.models.markup.HTML\",\"id\":\"b3a2eeaf-0d67-4a59-93e2-158125a0d551\",\"attributes\":{\"stylesheets\":[\"\\n:host(.pn-loading):before, .pn-loading:before {\\n  background-color: #c3c3c3;\\n  mask-size: auto calc(min(50%, 400px));\\n  -webkit-mask-size: auto calc(min(50%, 400px));\\n}\",{\"id\":\"82fceb5d-2dc9-4bb2-a373-fa17ccf3b14b\"},{\"id\":\"55b8e48a-d2fa-4f03-93d7-8d40224b182f\"},{\"id\":\"88ac36f6-047b-4ec9-b19f-24dec5819bde\"}],\"margin\":[5,10],\"align\":\"start\",\"text\":\"&lt;div style=&#x27;margin: 0;&#x27;&gt;&lt;span&gt;tardis.simulation.base&lt;/span&gt; &lt;span style=&quot;color: #D3D3D3; font-weight: bold;&quot;&gt;[INFO]&lt;/span&gt; \\n\\tPlasma stratification: (base.py:635)&lt;/div&gt;\",\"disable_math\":true}},{\"type\":\"object\",\"name\":\"panel.models.markup.HTML\",\"id\":\"9ab86ed3-b438-4f40-84d9-63ffa16eca9e\",\"attributes\":{\"stylesheets\":[\"\\n:host(.pn-loading):before, .pn-loading:before {\\n  background-color: #c3c3c3;\\n  mask-size: auto calc(min(50%, 400px));\\n  -webkit-mask-size: auto calc(min(50%, 400px));\\n}\",{\"id\":\"82fceb5d-2dc9-4bb2-a373-fa17ccf3b14b\"},{\"id\":\"55b8e48a-d2fa-4f03-93d7-8d40224b182f\"},{\"id\":\"88ac36f6-047b-4ec9-b19f-24dec5819bde\"}],\"margin\":[5,10],\"align\":\"start\",\"text\":\"&lt;div style=&#x27;margin: 0;&#x27;&gt;&lt;span&gt;tardis.simulation.base&lt;/span&gt; &lt;span style=&quot;color: #D3D3D3; font-weight: bold;&quot;&gt;[INFO]&lt;/span&gt; \\n\\tShell No.    t_rad    next_t_rad    w    next_w\\n\\t0         1.11e+04 K  1.11e+04 K  0.466   0.469\\n\\t5         1.14e+04 K  1.14e+04 K  0.171   0.176\\n\\t10        1.11e+04 K  1.11e+04 K   0.11   0.111\\n\\t15        1.07e+04 K  1.07e+04 K 0.0854  0.0847\\n (base.py:636)&lt;/div&gt;\",\"disable_math\":true}},{\"type\":\"object\",\"name\":\"panel.models.markup.HTML\",\"id\":\"f0c36a34-b877-4e23-95b0-d2466b7701a1\",\"attributes\":{\"stylesheets\":[\"\\n:host(.pn-loading):before, .pn-loading:before {\\n  background-color: #c3c3c3;\\n  mask-size: auto calc(min(50%, 400px));\\n  -webkit-mask-size: auto calc(min(50%, 400px));\\n}\",{\"id\":\"82fceb5d-2dc9-4bb2-a373-fa17ccf3b14b\"},{\"id\":\"55b8e48a-d2fa-4f03-93d7-8d40224b182f\"},{\"id\":\"88ac36f6-047b-4ec9-b19f-24dec5819bde\"}],\"margin\":[5,10],\"align\":\"start\",\"text\":\"&lt;div style=&#x27;margin: 0;&#x27;&gt;&lt;span&gt;tardis.simulation.base&lt;/span&gt; &lt;span style=&quot;color: #D3D3D3; font-weight: bold;&quot;&gt;[INFO]&lt;/span&gt; \\n\\tCurrent t_inner = 10644.372 K\\n\\tExpected t_inner for next iteration = 10638.593 K\\n (base.py:638)&lt;/div&gt;\",\"disable_math\":true}},{\"type\":\"object\",\"name\":\"panel.models.markup.HTML\",\"id\":\"a04a15ca-1f82-4031-b446-4e983de9b313\",\"attributes\":{\"stylesheets\":[\"\\n:host(.pn-loading):before, .pn-loading:before {\\n  background-color: #c3c3c3;\\n  mask-size: auto calc(min(50%, 400px));\\n  -webkit-mask-size: auto calc(min(50%, 400px));\\n}\",{\"id\":\"82fceb5d-2dc9-4bb2-a373-fa17ccf3b14b\"},{\"id\":\"55b8e48a-d2fa-4f03-93d7-8d40224b182f\"},{\"id\":\"88ac36f6-047b-4ec9-b19f-24dec5819bde\"}],\"margin\":[5,10],\"align\":\"start\",\"text\":\"&lt;div style=&#x27;margin: 0;&#x27;&gt;&lt;span&gt;tardis.simulation.base&lt;/span&gt; &lt;span style=&quot;color: #D3D3D3; font-weight: bold;&quot;&gt;[INFO]&lt;/span&gt; \\n\\tStarting iteration 9 of 20 (base.py:448)&lt;/div&gt;\",\"disable_math\":true}},{\"type\":\"object\",\"name\":\"panel.models.markup.HTML\",\"id\":\"e78453b4-5289-440a-bed1-57798c20467a\",\"attributes\":{\"stylesheets\":[\"\\n:host(.pn-loading):before, .pn-loading:before {\\n  background-color: #c3c3c3;\\n  mask-size: auto calc(min(50%, 400px));\\n  -webkit-mask-size: auto calc(min(50%, 400px));\\n}\",{\"id\":\"82fceb5d-2dc9-4bb2-a373-fa17ccf3b14b\"},{\"id\":\"55b8e48a-d2fa-4f03-93d7-8d40224b182f\"},{\"id\":\"88ac36f6-047b-4ec9-b19f-24dec5819bde\"}],\"margin\":[5,10],\"align\":\"start\",\"text\":\"&lt;div style=&#x27;margin: 0;&#x27;&gt;&lt;span&gt;tardis.simulation.base&lt;/span&gt; &lt;span style=&quot;color: #D3D3D3; font-weight: bold;&quot;&gt;[INFO]&lt;/span&gt; \\n\\tLuminosity emitted   = 1.052e+43 erg / s\\n\\tLuminosity absorbed  = 3.425e+42 erg / s\\n\\tLuminosity requested = 1.059e+43 erg / s\\n (base.py:643)&lt;/div&gt;\",\"disable_math\":true}},{\"type\":\"object\",\"name\":\"panel.models.markup.HTML\",\"id\":\"e5b79ba2-13ac-4671-8b5a-95ea5d95ce0c\",\"attributes\":{\"stylesheets\":[\"\\n:host(.pn-loading):before, .pn-loading:before {\\n  background-color: #c3c3c3;\\n  mask-size: auto calc(min(50%, 400px));\\n  -webkit-mask-size: auto calc(min(50%, 400px));\\n}\",{\"id\":\"82fceb5d-2dc9-4bb2-a373-fa17ccf3b14b\"},{\"id\":\"55b8e48a-d2fa-4f03-93d7-8d40224b182f\"},{\"id\":\"88ac36f6-047b-4ec9-b19f-24dec5819bde\"}],\"margin\":[5,10],\"align\":\"start\",\"text\":\"&lt;div style=&#x27;margin: 0;&#x27;&gt;&lt;span&gt;tardis.simulation.base&lt;/span&gt; &lt;span style=&quot;color: #D3D3D3; font-weight: bold;&quot;&gt;[INFO]&lt;/span&gt; Iteration converged 7/4 consecutive times. (base.py:260)&lt;/div&gt;\",\"disable_math\":true}},{\"type\":\"object\",\"name\":\"panel.models.markup.HTML\",\"id\":\"91991bf9-4ed2-4b8b-8c60-c8166ace1cd1\",\"attributes\":{\"stylesheets\":[\"\\n:host(.pn-loading):before, .pn-loading:before {\\n  background-color: #c3c3c3;\\n  mask-size: auto calc(min(50%, 400px));\\n  -webkit-mask-size: auto calc(min(50%, 400px));\\n}\",{\"id\":\"82fceb5d-2dc9-4bb2-a373-fa17ccf3b14b\"},{\"id\":\"55b8e48a-d2fa-4f03-93d7-8d40224b182f\"},{\"id\":\"88ac36f6-047b-4ec9-b19f-24dec5819bde\"}],\"margin\":[5,10],\"align\":\"start\",\"text\":\"&lt;div style=&#x27;margin: 0;&#x27;&gt;&lt;span&gt;tardis.simulation.base&lt;/span&gt; &lt;span style=&quot;color: #D3D3D3; font-weight: bold;&quot;&gt;[INFO]&lt;/span&gt; \\n\\tPlasma stratification: (base.py:635)&lt;/div&gt;\",\"disable_math\":true}},{\"type\":\"object\",\"name\":\"panel.models.markup.HTML\",\"id\":\"328c96ca-fae7-4105-bca3-91f07c07ac2a\",\"attributes\":{\"stylesheets\":[\"\\n:host(.pn-loading):before, .pn-loading:before {\\n  background-color: #c3c3c3;\\n  mask-size: auto calc(min(50%, 400px));\\n  -webkit-mask-size: auto calc(min(50%, 400px));\\n}\",{\"id\":\"82fceb5d-2dc9-4bb2-a373-fa17ccf3b14b\"},{\"id\":\"55b8e48a-d2fa-4f03-93d7-8d40224b182f\"},{\"id\":\"88ac36f6-047b-4ec9-b19f-24dec5819bde\"}],\"margin\":[5,10],\"align\":\"start\",\"text\":\"&lt;div style=&#x27;margin: 0;&#x27;&gt;&lt;span&gt;tardis.simulation.base&lt;/span&gt; &lt;span style=&quot;color: #D3D3D3; font-weight: bold;&quot;&gt;[INFO]&lt;/span&gt; \\n\\tShell No.    t_rad    next_t_rad    w    next_w\\n\\t0         1.11e+04 K  1.11e+04 K  0.469   0.467\\n\\t5         1.14e+04 K  1.15e+04 K  0.176    0.17\\n\\t10        1.11e+04 K  1.11e+04 K  0.111    0.11\\n\\t15        1.07e+04 K  1.08e+04 K 0.0847  0.0816\\n (base.py:636)&lt;/div&gt;\",\"disable_math\":true}},{\"type\":\"object\",\"name\":\"panel.models.markup.HTML\",\"id\":\"43573423-0a6f-40ae-b893-d8dbd08685aa\",\"attributes\":{\"stylesheets\":[\"\\n:host(.pn-loading):before, .pn-loading:before {\\n  background-color: #c3c3c3;\\n  mask-size: auto calc(min(50%, 400px));\\n  -webkit-mask-size: auto calc(min(50%, 400px));\\n}\",{\"id\":\"82fceb5d-2dc9-4bb2-a373-fa17ccf3b14b\"},{\"id\":\"55b8e48a-d2fa-4f03-93d7-8d40224b182f\"},{\"id\":\"88ac36f6-047b-4ec9-b19f-24dec5819bde\"}],\"margin\":[5,10],\"align\":\"start\",\"text\":\"&lt;div style=&#x27;margin: 0;&#x27;&gt;&lt;span&gt;tardis.simulation.base&lt;/span&gt; &lt;span style=&quot;color: #D3D3D3; font-weight: bold;&quot;&gt;[INFO]&lt;/span&gt; \\n\\tCurrent t_inner = 10638.593 K\\n\\tExpected t_inner for next iteration = 10657.551 K\\n (base.py:638)&lt;/div&gt;\",\"disable_math\":true}},{\"type\":\"object\",\"name\":\"panel.models.markup.HTML\",\"id\":\"75eac1f5-acb6-4ec4-ba82-89b93017ca7d\",\"attributes\":{\"stylesheets\":[\"\\n:host(.pn-loading):before, .pn-loading:before {\\n  background-color: #c3c3c3;\\n  mask-size: auto calc(min(50%, 400px));\\n  -webkit-mask-size: auto calc(min(50%, 400px));\\n}\",{\"id\":\"82fceb5d-2dc9-4bb2-a373-fa17ccf3b14b\"},{\"id\":\"55b8e48a-d2fa-4f03-93d7-8d40224b182f\"},{\"id\":\"88ac36f6-047b-4ec9-b19f-24dec5819bde\"}],\"margin\":[5,10],\"align\":\"start\",\"text\":\"&lt;div style=&#x27;margin: 0;&#x27;&gt;&lt;span&gt;tardis.simulation.base&lt;/span&gt; &lt;span style=&quot;color: #D3D3D3; font-weight: bold;&quot;&gt;[INFO]&lt;/span&gt; \\n\\tStarting iteration 10 of 20 (base.py:448)&lt;/div&gt;\",\"disable_math\":true}},{\"type\":\"object\",\"name\":\"panel.models.markup.HTML\",\"id\":\"e9bc377d-422b-43a4-8e69-405a65ec6e3a\",\"attributes\":{\"stylesheets\":[\"\\n:host(.pn-loading):before, .pn-loading:before {\\n  background-color: #c3c3c3;\\n  mask-size: auto calc(min(50%, 400px));\\n  -webkit-mask-size: auto calc(min(50%, 400px));\\n}\",{\"id\":\"82fceb5d-2dc9-4bb2-a373-fa17ccf3b14b\"},{\"id\":\"55b8e48a-d2fa-4f03-93d7-8d40224b182f\"},{\"id\":\"88ac36f6-047b-4ec9-b19f-24dec5819bde\"}],\"margin\":[5,10],\"align\":\"start\",\"text\":\"&lt;div style=&#x27;margin: 0;&#x27;&gt;&lt;span&gt;tardis.simulation.base&lt;/span&gt; &lt;span style=&quot;color: #D3D3D3; font-weight: bold;&quot;&gt;[INFO]&lt;/span&gt; \\n\\tLuminosity emitted   = 1.070e+43 erg / s\\n\\tLuminosity absorbed  = 3.351e+42 erg / s\\n\\tLuminosity requested = 1.059e+43 erg / s\\n (base.py:643)&lt;/div&gt;\",\"disable_math\":true}},{\"type\":\"object\",\"name\":\"panel.models.markup.HTML\",\"id\":\"3b579d12-5775-4696-a424-da863b3d36da\",\"attributes\":{\"stylesheets\":[\"\\n:host(.pn-loading):before, .pn-loading:before {\\n  background-color: #c3c3c3;\\n  mask-size: auto calc(min(50%, 400px));\\n  -webkit-mask-size: auto calc(min(50%, 400px));\\n}\",{\"id\":\"82fceb5d-2dc9-4bb2-a373-fa17ccf3b14b\"},{\"id\":\"55b8e48a-d2fa-4f03-93d7-8d40224b182f\"},{\"id\":\"88ac36f6-047b-4ec9-b19f-24dec5819bde\"}],\"margin\":[5,10],\"align\":\"start\",\"text\":\"&lt;div style=&#x27;margin: 0;&#x27;&gt;&lt;span&gt;tardis.simulation.base&lt;/span&gt; &lt;span style=&quot;color: #D3D3D3; font-weight: bold;&quot;&gt;[INFO]&lt;/span&gt; Iteration converged 8/4 consecutive times. (base.py:260)&lt;/div&gt;\",\"disable_math\":true}},{\"type\":\"object\",\"name\":\"panel.models.markup.HTML\",\"id\":\"54bf4702-ba29-4fa1-8668-0e335db7d679\",\"attributes\":{\"stylesheets\":[\"\\n:host(.pn-loading):before, .pn-loading:before {\\n  background-color: #c3c3c3;\\n  mask-size: auto calc(min(50%, 400px));\\n  -webkit-mask-size: auto calc(min(50%, 400px));\\n}\",{\"id\":\"82fceb5d-2dc9-4bb2-a373-fa17ccf3b14b\"},{\"id\":\"55b8e48a-d2fa-4f03-93d7-8d40224b182f\"},{\"id\":\"88ac36f6-047b-4ec9-b19f-24dec5819bde\"}],\"margin\":[5,10],\"align\":\"start\",\"text\":\"&lt;div style=&#x27;margin: 0;&#x27;&gt;&lt;span&gt;tardis.simulation.base&lt;/span&gt; &lt;span style=&quot;color: #D3D3D3; font-weight: bold;&quot;&gt;[INFO]&lt;/span&gt; \\n\\tPlasma stratification: (base.py:635)&lt;/div&gt;\",\"disable_math\":true}},{\"type\":\"object\",\"name\":\"panel.models.markup.HTML\",\"id\":\"a1a6fc05-bdc4-4187-a449-3d553f7a955c\",\"attributes\":{\"stylesheets\":[\"\\n:host(.pn-loading):before, .pn-loading:before {\\n  background-color: #c3c3c3;\\n  mask-size: auto calc(min(50%, 400px));\\n  -webkit-mask-size: auto calc(min(50%, 400px));\\n}\",{\"id\":\"82fceb5d-2dc9-4bb2-a373-fa17ccf3b14b\"},{\"id\":\"55b8e48a-d2fa-4f03-93d7-8d40224b182f\"},{\"id\":\"88ac36f6-047b-4ec9-b19f-24dec5819bde\"}],\"margin\":[5,10],\"align\":\"start\",\"text\":\"&lt;div style=&#x27;margin: 0;&#x27;&gt;&lt;span&gt;tardis.simulation.base&lt;/span&gt; &lt;span style=&quot;color: #D3D3D3; font-weight: bold;&quot;&gt;[INFO]&lt;/span&gt; \\n\\tShell No.    t_rad    next_t_rad    w    next_w\\n\\t0         1.11e+04 K   1.1e+04 K  0.467   0.473\\n\\t5         1.15e+04 K  1.13e+04 K   0.17   0.179\\n\\t10        1.11e+04 K  1.11e+04 K   0.11   0.113\\n\\t15        1.08e+04 K  1.06e+04 K 0.0816  0.0873\\n (base.py:636)&lt;/div&gt;\",\"disable_math\":true}},{\"type\":\"object\",\"name\":\"panel.models.markup.HTML\",\"id\":\"ff69bf5c-6085-411e-a36a-3e2398a1a5a6\",\"attributes\":{\"stylesheets\":[\"\\n:host(.pn-loading):before, .pn-loading:before {\\n  background-color: #c3c3c3;\\n  mask-size: auto calc(min(50%, 400px));\\n  -webkit-mask-size: auto calc(min(50%, 400px));\\n}\",{\"id\":\"82fceb5d-2dc9-4bb2-a373-fa17ccf3b14b\"},{\"id\":\"55b8e48a-d2fa-4f03-93d7-8d40224b182f\"},{\"id\":\"88ac36f6-047b-4ec9-b19f-24dec5819bde\"}],\"margin\":[5,10],\"align\":\"start\",\"text\":\"&lt;div style=&#x27;margin: 0;&#x27;&gt;&lt;span&gt;tardis.simulation.base&lt;/span&gt; &lt;span style=&quot;color: #D3D3D3; font-weight: bold;&quot;&gt;[INFO]&lt;/span&gt; \\n\\tCurrent t_inner = 10657.551 K\\n\\tExpected t_inner for next iteration = 10631.142 K\\n (base.py:638)&lt;/div&gt;\",\"disable_math\":true}},{\"type\":\"object\",\"name\":\"panel.models.markup.HTML\",\"id\":\"5ee0e205-f10b-4145-a835-e63640f2cf0b\",\"attributes\":{\"stylesheets\":[\"\\n:host(.pn-loading):before, .pn-loading:before {\\n  background-color: #c3c3c3;\\n  mask-size: auto calc(min(50%, 400px));\\n  -webkit-mask-size: auto calc(min(50%, 400px));\\n}\",{\"id\":\"82fceb5d-2dc9-4bb2-a373-fa17ccf3b14b\"},{\"id\":\"55b8e48a-d2fa-4f03-93d7-8d40224b182f\"},{\"id\":\"88ac36f6-047b-4ec9-b19f-24dec5819bde\"}],\"margin\":[5,10],\"align\":\"start\",\"text\":\"&lt;div style=&#x27;margin: 0;&#x27;&gt;&lt;span&gt;tardis.simulation.base&lt;/span&gt; &lt;span style=&quot;color: #D3D3D3; font-weight: bold;&quot;&gt;[INFO]&lt;/span&gt; \\n\\tStarting iteration 11 of 20 (base.py:448)&lt;/div&gt;\",\"disable_math\":true}},{\"type\":\"object\",\"name\":\"panel.models.markup.HTML\",\"id\":\"f3ba7467-a831-4221-a79f-9bf13fa18073\",\"attributes\":{\"stylesheets\":[\"\\n:host(.pn-loading):before, .pn-loading:before {\\n  background-color: #c3c3c3;\\n  mask-size: auto calc(min(50%, 400px));\\n  -webkit-mask-size: auto calc(min(50%, 400px));\\n}\",{\"id\":\"82fceb5d-2dc9-4bb2-a373-fa17ccf3b14b\"},{\"id\":\"55b8e48a-d2fa-4f03-93d7-8d40224b182f\"},{\"id\":\"88ac36f6-047b-4ec9-b19f-24dec5819bde\"}],\"margin\":[5,10],\"align\":\"start\",\"text\":\"&lt;div style=&#x27;margin: 0;&#x27;&gt;&lt;span&gt;tardis.simulation.base&lt;/span&gt; &lt;span style=&quot;color: #D3D3D3; font-weight: bold;&quot;&gt;[INFO]&lt;/span&gt; \\n\\tLuminosity emitted   = 1.054e+43 erg / s\\n\\tLuminosity absorbed  = 3.371e+42 erg / s\\n\\tLuminosity requested = 1.059e+43 erg / s\\n (base.py:643)&lt;/div&gt;\",\"disable_math\":true}},{\"type\":\"object\",\"name\":\"panel.models.markup.HTML\",\"id\":\"7d9be919-6bf6-40b0-b2bb-0a6470ddf12b\",\"attributes\":{\"stylesheets\":[\"\\n:host(.pn-loading):before, .pn-loading:before {\\n  background-color: #c3c3c3;\\n  mask-size: auto calc(min(50%, 400px));\\n  -webkit-mask-size: auto calc(min(50%, 400px));\\n}\",{\"id\":\"82fceb5d-2dc9-4bb2-a373-fa17ccf3b14b\"},{\"id\":\"55b8e48a-d2fa-4f03-93d7-8d40224b182f\"},{\"id\":\"88ac36f6-047b-4ec9-b19f-24dec5819bde\"}],\"margin\":[5,10],\"align\":\"start\",\"text\":\"&lt;div style=&#x27;margin: 0;&#x27;&gt;&lt;span&gt;tardis.simulation.base&lt;/span&gt; &lt;span style=&quot;color: #D3D3D3; font-weight: bold;&quot;&gt;[INFO]&lt;/span&gt; Iteration converged 9/4 consecutive times. (base.py:260)&lt;/div&gt;\",\"disable_math\":true}},{\"type\":\"object\",\"name\":\"panel.models.markup.HTML\",\"id\":\"a562212e-cffb-4b9f-80ab-4a59292676f7\",\"attributes\":{\"stylesheets\":[\"\\n:host(.pn-loading):before, .pn-loading:before {\\n  background-color: #c3c3c3;\\n  mask-size: auto calc(min(50%, 400px));\\n  -webkit-mask-size: auto calc(min(50%, 400px));\\n}\",{\"id\":\"82fceb5d-2dc9-4bb2-a373-fa17ccf3b14b\"},{\"id\":\"55b8e48a-d2fa-4f03-93d7-8d40224b182f\"},{\"id\":\"88ac36f6-047b-4ec9-b19f-24dec5819bde\"}],\"margin\":[5,10],\"align\":\"start\",\"text\":\"&lt;div style=&#x27;margin: 0;&#x27;&gt;&lt;span&gt;tardis.simulation.base&lt;/span&gt; &lt;span style=&quot;color: #D3D3D3; font-weight: bold;&quot;&gt;[INFO]&lt;/span&gt; \\n\\tPlasma stratification: (base.py:635)&lt;/div&gt;\",\"disable_math\":true}},{\"type\":\"object\",\"name\":\"panel.models.markup.HTML\",\"id\":\"3d860e95-0428-42d7-a5b3-8f53af4e725a\",\"attributes\":{\"stylesheets\":[\"\\n:host(.pn-loading):before, .pn-loading:before {\\n  background-color: #c3c3c3;\\n  mask-size: auto calc(min(50%, 400px));\\n  -webkit-mask-size: auto calc(min(50%, 400px));\\n}\",{\"id\":\"82fceb5d-2dc9-4bb2-a373-fa17ccf3b14b\"},{\"id\":\"55b8e48a-d2fa-4f03-93d7-8d40224b182f\"},{\"id\":\"88ac36f6-047b-4ec9-b19f-24dec5819bde\"}],\"margin\":[5,10],\"align\":\"start\",\"text\":\"&lt;div style=&#x27;margin: 0;&#x27;&gt;&lt;span&gt;tardis.simulation.base&lt;/span&gt; &lt;span style=&quot;color: #D3D3D3; font-weight: bold;&quot;&gt;[INFO]&lt;/span&gt; \\n\\tShell No.    t_rad    next_t_rad    w    next_w\\n\\t0          1.1e+04 K   1.1e+04 K  0.473   0.475\\n\\t5         1.13e+04 K  1.13e+04 K  0.179   0.179\\n\\t10        1.11e+04 K   1.1e+04 K  0.113   0.114\\n\\t15        1.06e+04 K  1.07e+04 K 0.0873  0.0842\\n (base.py:636)&lt;/div&gt;\",\"disable_math\":true}},{\"type\":\"object\",\"name\":\"panel.models.markup.HTML\",\"id\":\"22529fb7-7409-4f54-92b6-5d7080b96cb5\",\"attributes\":{\"stylesheets\":[\"\\n:host(.pn-loading):before, .pn-loading:before {\\n  background-color: #c3c3c3;\\n  mask-size: auto calc(min(50%, 400px));\\n  -webkit-mask-size: auto calc(min(50%, 400px));\\n}\",{\"id\":\"82fceb5d-2dc9-4bb2-a373-fa17ccf3b14b\"},{\"id\":\"55b8e48a-d2fa-4f03-93d7-8d40224b182f\"},{\"id\":\"88ac36f6-047b-4ec9-b19f-24dec5819bde\"}],\"margin\":[5,10],\"align\":\"start\",\"text\":\"&lt;div style=&#x27;margin: 0;&#x27;&gt;&lt;span&gt;tardis.simulation.base&lt;/span&gt; &lt;span style=&quot;color: #D3D3D3; font-weight: bold;&quot;&gt;[INFO]&lt;/span&gt; \\n\\tCurrent t_inner = 10631.142 K\\n\\tExpected t_inner for next iteration = 10645.027 K\\n (base.py:638)&lt;/div&gt;\",\"disable_math\":true}},{\"type\":\"object\",\"name\":\"panel.models.markup.HTML\",\"id\":\"7a38eb80-8489-4bf6-bfa7-d473a603dbf7\",\"attributes\":{\"stylesheets\":[\"\\n:host(.pn-loading):before, .pn-loading:before {\\n  background-color: #c3c3c3;\\n  mask-size: auto calc(min(50%, 400px));\\n  -webkit-mask-size: auto calc(min(50%, 400px));\\n}\",{\"id\":\"82fceb5d-2dc9-4bb2-a373-fa17ccf3b14b\"},{\"id\":\"55b8e48a-d2fa-4f03-93d7-8d40224b182f\"},{\"id\":\"88ac36f6-047b-4ec9-b19f-24dec5819bde\"}],\"margin\":[5,10],\"align\":\"start\",\"text\":\"&lt;div style=&#x27;margin: 0;&#x27;&gt;&lt;span&gt;tardis.simulation.base&lt;/span&gt; &lt;span style=&quot;color: #D3D3D3; font-weight: bold;&quot;&gt;[INFO]&lt;/span&gt; \\n\\tStarting iteration 12 of 20 (base.py:448)&lt;/div&gt;\",\"disable_math\":true}},{\"type\":\"object\",\"name\":\"panel.models.markup.HTML\",\"id\":\"1daaa9fd-72af-4c5e-a490-88c886252c7b\",\"attributes\":{\"stylesheets\":[\"\\n:host(.pn-loading):before, .pn-loading:before {\\n  background-color: #c3c3c3;\\n  mask-size: auto calc(min(50%, 400px));\\n  -webkit-mask-size: auto calc(min(50%, 400px));\\n}\",{\"id\":\"82fceb5d-2dc9-4bb2-a373-fa17ccf3b14b\"},{\"id\":\"55b8e48a-d2fa-4f03-93d7-8d40224b182f\"},{\"id\":\"88ac36f6-047b-4ec9-b19f-24dec5819bde\"}],\"margin\":[5,10],\"align\":\"start\",\"text\":\"&lt;div style=&#x27;margin: 0;&#x27;&gt;&lt;span&gt;tardis.simulation.base&lt;/span&gt; &lt;span style=&quot;color: #D3D3D3; font-weight: bold;&quot;&gt;[INFO]&lt;/span&gt; \\n\\tLuminosity emitted   = 1.056e+43 erg / s\\n\\tLuminosity absorbed  = 3.417e+42 erg / s\\n\\tLuminosity requested = 1.059e+43 erg / s\\n (base.py:643)&lt;/div&gt;\",\"disable_math\":true}},{\"type\":\"object\",\"name\":\"panel.models.markup.HTML\",\"id\":\"3d7efda3-8163-4fba-8566-a5c62c11bf07\",\"attributes\":{\"stylesheets\":[\"\\n:host(.pn-loading):before, .pn-loading:before {\\n  background-color: #c3c3c3;\\n  mask-size: auto calc(min(50%, 400px));\\n  -webkit-mask-size: auto calc(min(50%, 400px));\\n}\",{\"id\":\"82fceb5d-2dc9-4bb2-a373-fa17ccf3b14b\"},{\"id\":\"55b8e48a-d2fa-4f03-93d7-8d40224b182f\"},{\"id\":\"88ac36f6-047b-4ec9-b19f-24dec5819bde\"}],\"margin\":[5,10],\"align\":\"start\",\"text\":\"&lt;div style=&#x27;margin: 0;&#x27;&gt;&lt;span&gt;tardis.simulation.base&lt;/span&gt; &lt;span style=&quot;color: #D3D3D3; font-weight: bold;&quot;&gt;[INFO]&lt;/span&gt; Iteration converged 10/4 consecutive times. (base.py:260)&lt;/div&gt;\",\"disable_math\":true}},{\"type\":\"object\",\"name\":\"panel.models.markup.HTML\",\"id\":\"257d05ae-c045-4ec3-b3aa-3defaba1336a\",\"attributes\":{\"stylesheets\":[\"\\n:host(.pn-loading):before, .pn-loading:before {\\n  background-color: #c3c3c3;\\n  mask-size: auto calc(min(50%, 400px));\\n  -webkit-mask-size: auto calc(min(50%, 400px));\\n}\",{\"id\":\"82fceb5d-2dc9-4bb2-a373-fa17ccf3b14b\"},{\"id\":\"55b8e48a-d2fa-4f03-93d7-8d40224b182f\"},{\"id\":\"88ac36f6-047b-4ec9-b19f-24dec5819bde\"}],\"margin\":[5,10],\"align\":\"start\",\"text\":\"&lt;div style=&#x27;margin: 0;&#x27;&gt;&lt;span&gt;tardis.simulation.base&lt;/span&gt; &lt;span style=&quot;color: #D3D3D3; font-weight: bold;&quot;&gt;[INFO]&lt;/span&gt; \\n\\tPlasma stratification: (base.py:635)&lt;/div&gt;\",\"disable_math\":true}},{\"type\":\"object\",\"name\":\"panel.models.markup.HTML\",\"id\":\"5113fcec-cf13-4e5b-aa14-a21069d6b86e\",\"attributes\":{\"stylesheets\":[\"\\n:host(.pn-loading):before, .pn-loading:before {\\n  background-color: #c3c3c3;\\n  mask-size: auto calc(min(50%, 400px));\\n  -webkit-mask-size: auto calc(min(50%, 400px));\\n}\",{\"id\":\"82fceb5d-2dc9-4bb2-a373-fa17ccf3b14b\"},{\"id\":\"55b8e48a-d2fa-4f03-93d7-8d40224b182f\"},{\"id\":\"88ac36f6-047b-4ec9-b19f-24dec5819bde\"}],\"margin\":[5,10],\"align\":\"start\",\"text\":\"&lt;div style=&#x27;margin: 0;&#x27;&gt;&lt;span&gt;tardis.simulation.base&lt;/span&gt; &lt;span style=&quot;color: #D3D3D3; font-weight: bold;&quot;&gt;[INFO]&lt;/span&gt; \\n\\tShell No.    t_rad    next_t_rad    w    next_w\\n\\t0          1.1e+04 K  1.11e+04 K  0.475   0.462\\n\\t5         1.13e+04 K  1.13e+04 K  0.179   0.177\\n\\t10         1.1e+04 K  1.11e+04 K  0.114   0.109\\n\\t15        1.07e+04 K  1.08e+04 K 0.0842  0.0829\\n (base.py:636)&lt;/div&gt;\",\"disable_math\":true}},{\"type\":\"object\",\"name\":\"panel.models.markup.HTML\",\"id\":\"b7921422-cb95-47a7-a80a-47c5557195f2\",\"attributes\":{\"stylesheets\":[\"\\n:host(.pn-loading):before, .pn-loading:before {\\n  background-color: #c3c3c3;\\n  mask-size: auto calc(min(50%, 400px));\\n  -webkit-mask-size: auto calc(min(50%, 400px));\\n}\",{\"id\":\"82fceb5d-2dc9-4bb2-a373-fa17ccf3b14b\"},{\"id\":\"55b8e48a-d2fa-4f03-93d7-8d40224b182f\"},{\"id\":\"88ac36f6-047b-4ec9-b19f-24dec5819bde\"}],\"margin\":[5,10],\"align\":\"start\",\"text\":\"&lt;div style=&#x27;margin: 0;&#x27;&gt;&lt;span&gt;tardis.simulation.base&lt;/span&gt; &lt;span style=&quot;color: #D3D3D3; font-weight: bold;&quot;&gt;[INFO]&lt;/span&gt; \\n\\tCurrent t_inner = 10645.027 K\\n\\tExpected t_inner for next iteration = 10652.245 K\\n (base.py:638)&lt;/div&gt;\",\"disable_math\":true}},{\"type\":\"object\",\"name\":\"panel.models.markup.HTML\",\"id\":\"3df41e5a-96e1-4753-8e01-7f826b538c60\",\"attributes\":{\"stylesheets\":[\"\\n:host(.pn-loading):before, .pn-loading:before {\\n  background-color: #c3c3c3;\\n  mask-size: auto calc(min(50%, 400px));\\n  -webkit-mask-size: auto calc(min(50%, 400px));\\n}\",{\"id\":\"82fceb5d-2dc9-4bb2-a373-fa17ccf3b14b\"},{\"id\":\"55b8e48a-d2fa-4f03-93d7-8d40224b182f\"},{\"id\":\"88ac36f6-047b-4ec9-b19f-24dec5819bde\"}],\"margin\":[5,10],\"align\":\"start\",\"text\":\"&lt;div style=&#x27;margin: 0;&#x27;&gt;&lt;span&gt;tardis.simulation.base&lt;/span&gt; &lt;span style=&quot;color: #D3D3D3; font-weight: bold;&quot;&gt;[INFO]&lt;/span&gt; \\n\\tStarting iteration 13 of 20 (base.py:448)&lt;/div&gt;\",\"disable_math\":true}},{\"type\":\"object\",\"name\":\"panel.models.markup.HTML\",\"id\":\"189e5da2-46dc-4958-82b4-c4e6a5c10322\",\"attributes\":{\"stylesheets\":[\"\\n:host(.pn-loading):before, .pn-loading:before {\\n  background-color: #c3c3c3;\\n  mask-size: auto calc(min(50%, 400px));\\n  -webkit-mask-size: auto calc(min(50%, 400px));\\n}\",{\"id\":\"82fceb5d-2dc9-4bb2-a373-fa17ccf3b14b\"},{\"id\":\"55b8e48a-d2fa-4f03-93d7-8d40224b182f\"},{\"id\":\"88ac36f6-047b-4ec9-b19f-24dec5819bde\"}],\"margin\":[5,10],\"align\":\"start\",\"text\":\"&lt;div style=&#x27;margin: 0;&#x27;&gt;&lt;span&gt;tardis.simulation.base&lt;/span&gt; &lt;span style=&quot;color: #D3D3D3; font-weight: bold;&quot;&gt;[INFO]&lt;/span&gt; \\n\\tLuminosity emitted   = 1.062e+43 erg / s\\n\\tLuminosity absorbed  = 3.398e+42 erg / s\\n\\tLuminosity requested = 1.059e+43 erg / s\\n (base.py:643)&lt;/div&gt;\",\"disable_math\":true}},{\"type\":\"object\",\"name\":\"panel.models.markup.HTML\",\"id\":\"39c99fab-5a7c-4565-a7f1-285c5e527cd7\",\"attributes\":{\"stylesheets\":[\"\\n:host(.pn-loading):before, .pn-loading:before {\\n  background-color: #c3c3c3;\\n  mask-size: auto calc(min(50%, 400px));\\n  -webkit-mask-size: auto calc(min(50%, 400px));\\n}\",{\"id\":\"82fceb5d-2dc9-4bb2-a373-fa17ccf3b14b\"},{\"id\":\"55b8e48a-d2fa-4f03-93d7-8d40224b182f\"},{\"id\":\"88ac36f6-047b-4ec9-b19f-24dec5819bde\"}],\"margin\":[5,10],\"align\":\"start\",\"text\":\"&lt;div style=&#x27;margin: 0;&#x27;&gt;&lt;span&gt;tardis.simulation.base&lt;/span&gt; &lt;span style=&quot;color: #D3D3D3; font-weight: bold;&quot;&gt;[INFO]&lt;/span&gt; Iteration converged 11/4 consecutive times. (base.py:260)&lt;/div&gt;\",\"disable_math\":true}},{\"type\":\"object\",\"name\":\"panel.models.markup.HTML\",\"id\":\"cb733a46-0b9c-4c4a-945b-6ad609406707\",\"attributes\":{\"stylesheets\":[\"\\n:host(.pn-loading):before, .pn-loading:before {\\n  background-color: #c3c3c3;\\n  mask-size: auto calc(min(50%, 400px));\\n  -webkit-mask-size: auto calc(min(50%, 400px));\\n}\",{\"id\":\"82fceb5d-2dc9-4bb2-a373-fa17ccf3b14b\"},{\"id\":\"55b8e48a-d2fa-4f03-93d7-8d40224b182f\"},{\"id\":\"88ac36f6-047b-4ec9-b19f-24dec5819bde\"}],\"margin\":[5,10],\"align\":\"start\",\"text\":\"&lt;div style=&#x27;margin: 0;&#x27;&gt;&lt;span&gt;tardis.simulation.base&lt;/span&gt; &lt;span style=&quot;color: #D3D3D3; font-weight: bold;&quot;&gt;[INFO]&lt;/span&gt; \\n\\tPlasma stratification: (base.py:635)&lt;/div&gt;\",\"disable_math\":true}},{\"type\":\"object\",\"name\":\"panel.models.markup.HTML\",\"id\":\"fecf7a9a-583d-45f0-a657-4e9e9c3b8923\",\"attributes\":{\"stylesheets\":[\"\\n:host(.pn-loading):before, .pn-loading:before {\\n  background-color: #c3c3c3;\\n  mask-size: auto calc(min(50%, 400px));\\n  -webkit-mask-size: auto calc(min(50%, 400px));\\n}\",{\"id\":\"82fceb5d-2dc9-4bb2-a373-fa17ccf3b14b\"},{\"id\":\"55b8e48a-d2fa-4f03-93d7-8d40224b182f\"},{\"id\":\"88ac36f6-047b-4ec9-b19f-24dec5819bde\"}],\"margin\":[5,10],\"align\":\"start\",\"text\":\"&lt;div style=&#x27;margin: 0;&#x27;&gt;&lt;span&gt;tardis.simulation.base&lt;/span&gt; &lt;span style=&quot;color: #D3D3D3; font-weight: bold;&quot;&gt;[INFO]&lt;/span&gt; \\n\\tShell No.    t_rad    next_t_rad    w    next_w\\n\\t0         1.11e+04 K  1.11e+04 K  0.462   0.467\\n\\t5         1.13e+04 K  1.13e+04 K  0.177   0.178\\n\\t10        1.11e+04 K  1.11e+04 K  0.109   0.111\\n\\t15        1.08e+04 K  1.07e+04 K 0.0829  0.0847\\n (base.py:636)&lt;/div&gt;\",\"disable_math\":true}},{\"type\":\"object\",\"name\":\"panel.models.markup.HTML\",\"id\":\"fa783600-78a2-4663-9436-a891c3091266\",\"attributes\":{\"stylesheets\":[\"\\n:host(.pn-loading):before, .pn-loading:before {\\n  background-color: #c3c3c3;\\n  mask-size: auto calc(min(50%, 400px));\\n  -webkit-mask-size: auto calc(min(50%, 400px));\\n}\",{\"id\":\"82fceb5d-2dc9-4bb2-a373-fa17ccf3b14b\"},{\"id\":\"55b8e48a-d2fa-4f03-93d7-8d40224b182f\"},{\"id\":\"88ac36f6-047b-4ec9-b19f-24dec5819bde\"}],\"margin\":[5,10],\"align\":\"start\",\"text\":\"&lt;div style=&#x27;margin: 0;&#x27;&gt;&lt;span&gt;tardis.simulation.base&lt;/span&gt; &lt;span style=&quot;color: #D3D3D3; font-weight: bold;&quot;&gt;[INFO]&lt;/span&gt; \\n\\tCurrent t_inner = 10652.245 K\\n\\tExpected t_inner for next iteration = 10645.555 K\\n (base.py:638)&lt;/div&gt;\",\"disable_math\":true}},{\"type\":\"object\",\"name\":\"panel.models.markup.HTML\",\"id\":\"cd3a56ad-f7c0-4197-9f2f-4e4bb6721c26\",\"attributes\":{\"stylesheets\":[\"\\n:host(.pn-loading):before, .pn-loading:before {\\n  background-color: #c3c3c3;\\n  mask-size: auto calc(min(50%, 400px));\\n  -webkit-mask-size: auto calc(min(50%, 400px));\\n}\",{\"id\":\"82fceb5d-2dc9-4bb2-a373-fa17ccf3b14b\"},{\"id\":\"55b8e48a-d2fa-4f03-93d7-8d40224b182f\"},{\"id\":\"88ac36f6-047b-4ec9-b19f-24dec5819bde\"}],\"margin\":[5,10],\"align\":\"start\",\"text\":\"&lt;div style=&#x27;margin: 0;&#x27;&gt;&lt;span&gt;tardis.simulation.base&lt;/span&gt; &lt;span style=&quot;color: #D3D3D3; font-weight: bold;&quot;&gt;[INFO]&lt;/span&gt; \\n\\tStarting iteration 14 of 20 (base.py:448)&lt;/div&gt;\",\"disable_math\":true}},{\"type\":\"object\",\"name\":\"panel.models.markup.HTML\",\"id\":\"9f9ae8fb-92cd-4df7-b341-15999e077371\",\"attributes\":{\"stylesheets\":[\"\\n:host(.pn-loading):before, .pn-loading:before {\\n  background-color: #c3c3c3;\\n  mask-size: auto calc(min(50%, 400px));\\n  -webkit-mask-size: auto calc(min(50%, 400px));\\n}\",{\"id\":\"82fceb5d-2dc9-4bb2-a373-fa17ccf3b14b\"},{\"id\":\"55b8e48a-d2fa-4f03-93d7-8d40224b182f\"},{\"id\":\"88ac36f6-047b-4ec9-b19f-24dec5819bde\"}],\"margin\":[5,10],\"align\":\"start\",\"text\":\"&lt;div style=&#x27;margin: 0;&#x27;&gt;&lt;span&gt;tardis.simulation.base&lt;/span&gt; &lt;span style=&quot;color: #D3D3D3; font-weight: bold;&quot;&gt;[INFO]&lt;/span&gt; \\n\\tLuminosity emitted   = 1.060e+43 erg / s\\n\\tLuminosity absorbed  = 3.383e+42 erg / s\\n\\tLuminosity requested = 1.059e+43 erg / s\\n (base.py:643)&lt;/div&gt;\",\"disable_math\":true}},{\"type\":\"object\",\"name\":\"panel.models.markup.HTML\",\"id\":\"d78942b7-df5f-400a-a392-3b78a6fb6f70\",\"attributes\":{\"stylesheets\":[\"\\n:host(.pn-loading):before, .pn-loading:before {\\n  background-color: #c3c3c3;\\n  mask-size: auto calc(min(50%, 400px));\\n  -webkit-mask-size: auto calc(min(50%, 400px));\\n}\",{\"id\":\"82fceb5d-2dc9-4bb2-a373-fa17ccf3b14b\"},{\"id\":\"55b8e48a-d2fa-4f03-93d7-8d40224b182f\"},{\"id\":\"88ac36f6-047b-4ec9-b19f-24dec5819bde\"}],\"margin\":[5,10],\"align\":\"start\",\"text\":\"&lt;div style=&#x27;margin: 0;&#x27;&gt;&lt;span&gt;tardis.simulation.base&lt;/span&gt; &lt;span style=&quot;color: #D3D3D3; font-weight: bold;&quot;&gt;[INFO]&lt;/span&gt; Iteration converged 12/4 consecutive times. (base.py:260)&lt;/div&gt;\",\"disable_math\":true}},{\"type\":\"object\",\"name\":\"panel.models.markup.HTML\",\"id\":\"2fe7b0d1-dbfb-4663-bbaa-56204ced0a22\",\"attributes\":{\"stylesheets\":[\"\\n:host(.pn-loading):before, .pn-loading:before {\\n  background-color: #c3c3c3;\\n  mask-size: auto calc(min(50%, 400px));\\n  -webkit-mask-size: auto calc(min(50%, 400px));\\n}\",{\"id\":\"82fceb5d-2dc9-4bb2-a373-fa17ccf3b14b\"},{\"id\":\"55b8e48a-d2fa-4f03-93d7-8d40224b182f\"},{\"id\":\"88ac36f6-047b-4ec9-b19f-24dec5819bde\"}],\"margin\":[5,10],\"align\":\"start\",\"text\":\"&lt;div style=&#x27;margin: 0;&#x27;&gt;&lt;span&gt;tardis.simulation.base&lt;/span&gt; &lt;span style=&quot;color: #D3D3D3; font-weight: bold;&quot;&gt;[INFO]&lt;/span&gt; \\n\\tPlasma stratification: (base.py:635)&lt;/div&gt;\",\"disable_math\":true}},{\"type\":\"object\",\"name\":\"panel.models.markup.HTML\",\"id\":\"e7315d1c-ecdb-453f-9da3-e916ed6c542b\",\"attributes\":{\"stylesheets\":[\"\\n:host(.pn-loading):before, .pn-loading:before {\\n  background-color: #c3c3c3;\\n  mask-size: auto calc(min(50%, 400px));\\n  -webkit-mask-size: auto calc(min(50%, 400px));\\n}\",{\"id\":\"82fceb5d-2dc9-4bb2-a373-fa17ccf3b14b\"},{\"id\":\"55b8e48a-d2fa-4f03-93d7-8d40224b182f\"},{\"id\":\"88ac36f6-047b-4ec9-b19f-24dec5819bde\"}],\"margin\":[5,10],\"align\":\"start\",\"text\":\"&lt;div style=&#x27;margin: 0;&#x27;&gt;&lt;span&gt;tardis.simulation.base&lt;/span&gt; &lt;span style=&quot;color: #D3D3D3; font-weight: bold;&quot;&gt;[INFO]&lt;/span&gt; \\n\\tShell No.    t_rad    next_t_rad    w    next_w\\n\\t0         1.11e+04 K  1.11e+04 K  0.467   0.469\\n\\t5         1.13e+04 K  1.13e+04 K  0.178   0.183\\n\\t10        1.11e+04 K   1.1e+04 K  0.111   0.115\\n\\t15        1.07e+04 K  1.06e+04 K 0.0847  0.0868\\n (base.py:636)&lt;/div&gt;\",\"disable_math\":true}},{\"type\":\"object\",\"name\":\"panel.models.markup.HTML\",\"id\":\"35b33253-2ee9-4a29-b76c-27c670a8e056\",\"attributes\":{\"stylesheets\":[\"\\n:host(.pn-loading):before, .pn-loading:before {\\n  background-color: #c3c3c3;\\n  mask-size: auto calc(min(50%, 400px));\\n  -webkit-mask-size: auto calc(min(50%, 400px));\\n}\",{\"id\":\"82fceb5d-2dc9-4bb2-a373-fa17ccf3b14b\"},{\"id\":\"55b8e48a-d2fa-4f03-93d7-8d40224b182f\"},{\"id\":\"88ac36f6-047b-4ec9-b19f-24dec5819bde\"}],\"margin\":[5,10],\"align\":\"start\",\"text\":\"&lt;div style=&#x27;margin: 0;&#x27;&gt;&lt;span&gt;tardis.simulation.base&lt;/span&gt; &lt;span style=&quot;color: #D3D3D3; font-weight: bold;&quot;&gt;[INFO]&lt;/span&gt; \\n\\tCurrent t_inner = 10645.555 K\\n\\tExpected t_inner for next iteration = 10643.346 K\\n (base.py:638)&lt;/div&gt;\",\"disable_math\":true}},{\"type\":\"object\",\"name\":\"panel.models.markup.HTML\",\"id\":\"c4934a65-9a88-41b2-8c50-8023d2c40220\",\"attributes\":{\"stylesheets\":[\"\\n:host(.pn-loading):before, .pn-loading:before {\\n  background-color: #c3c3c3;\\n  mask-size: auto calc(min(50%, 400px));\\n  -webkit-mask-size: auto calc(min(50%, 400px));\\n}\",{\"id\":\"82fceb5d-2dc9-4bb2-a373-fa17ccf3b14b\"},{\"id\":\"55b8e48a-d2fa-4f03-93d7-8d40224b182f\"},{\"id\":\"88ac36f6-047b-4ec9-b19f-24dec5819bde\"}],\"margin\":[5,10],\"align\":\"start\",\"text\":\"&lt;div style=&#x27;margin: 0;&#x27;&gt;&lt;span&gt;tardis.simulation.base&lt;/span&gt; &lt;span style=&quot;color: #D3D3D3; font-weight: bold;&quot;&gt;[INFO]&lt;/span&gt; \\n\\tStarting iteration 15 of 20 (base.py:448)&lt;/div&gt;\",\"disable_math\":true}},{\"type\":\"object\",\"name\":\"panel.models.markup.HTML\",\"id\":\"9540fa5d-b453-4542-8859-4608b8170170\",\"attributes\":{\"stylesheets\":[\"\\n:host(.pn-loading):before, .pn-loading:before {\\n  background-color: #c3c3c3;\\n  mask-size: auto calc(min(50%, 400px));\\n  -webkit-mask-size: auto calc(min(50%, 400px));\\n}\",{\"id\":\"82fceb5d-2dc9-4bb2-a373-fa17ccf3b14b\"},{\"id\":\"55b8e48a-d2fa-4f03-93d7-8d40224b182f\"},{\"id\":\"88ac36f6-047b-4ec9-b19f-24dec5819bde\"}],\"margin\":[5,10],\"align\":\"start\",\"text\":\"&lt;div style=&#x27;margin: 0;&#x27;&gt;&lt;span&gt;tardis.simulation.base&lt;/span&gt; &lt;span style=&quot;color: #D3D3D3; font-weight: bold;&quot;&gt;[INFO]&lt;/span&gt; \\n\\tLuminosity emitted   = 1.058e+43 erg / s\\n\\tLuminosity absorbed  = 3.392e+42 erg / s\\n\\tLuminosity requested = 1.059e+43 erg / s\\n (base.py:643)&lt;/div&gt;\",\"disable_math\":true}},{\"type\":\"object\",\"name\":\"panel.models.markup.HTML\",\"id\":\"740519e0-6cff-4697-92ef-31750dbf3c12\",\"attributes\":{\"stylesheets\":[\"\\n:host(.pn-loading):before, .pn-loading:before {\\n  background-color: #c3c3c3;\\n  mask-size: auto calc(min(50%, 400px));\\n  -webkit-mask-size: auto calc(min(50%, 400px));\\n}\",{\"id\":\"82fceb5d-2dc9-4bb2-a373-fa17ccf3b14b\"},{\"id\":\"55b8e48a-d2fa-4f03-93d7-8d40224b182f\"},{\"id\":\"88ac36f6-047b-4ec9-b19f-24dec5819bde\"}],\"margin\":[5,10],\"align\":\"start\",\"text\":\"&lt;div style=&#x27;margin: 0;&#x27;&gt;&lt;span&gt;tardis.simulation.base&lt;/span&gt; &lt;span style=&quot;color: #D3D3D3; font-weight: bold;&quot;&gt;[INFO]&lt;/span&gt; Iteration converged 13/4 consecutive times. (base.py:260)&lt;/div&gt;\",\"disable_math\":true}},{\"type\":\"object\",\"name\":\"panel.models.markup.HTML\",\"id\":\"7c78ddeb-56f0-4431-bb41-6ef9f5281f92\",\"attributes\":{\"stylesheets\":[\"\\n:host(.pn-loading):before, .pn-loading:before {\\n  background-color: #c3c3c3;\\n  mask-size: auto calc(min(50%, 400px));\\n  -webkit-mask-size: auto calc(min(50%, 400px));\\n}\",{\"id\":\"82fceb5d-2dc9-4bb2-a373-fa17ccf3b14b\"},{\"id\":\"55b8e48a-d2fa-4f03-93d7-8d40224b182f\"},{\"id\":\"88ac36f6-047b-4ec9-b19f-24dec5819bde\"}],\"margin\":[5,10],\"align\":\"start\",\"text\":\"&lt;div style=&#x27;margin: 0;&#x27;&gt;&lt;span&gt;tardis.simulation.base&lt;/span&gt; &lt;span style=&quot;color: #D3D3D3; font-weight: bold;&quot;&gt;[INFO]&lt;/span&gt; \\n\\tPlasma stratification: (base.py:635)&lt;/div&gt;\",\"disable_math\":true}},{\"type\":\"object\",\"name\":\"panel.models.markup.HTML\",\"id\":\"1d3a560e-1f7a-4e5b-9cbc-6cb8967d5f72\",\"attributes\":{\"stylesheets\":[\"\\n:host(.pn-loading):before, .pn-loading:before {\\n  background-color: #c3c3c3;\\n  mask-size: auto calc(min(50%, 400px));\\n  -webkit-mask-size: auto calc(min(50%, 400px));\\n}\",{\"id\":\"82fceb5d-2dc9-4bb2-a373-fa17ccf3b14b\"},{\"id\":\"55b8e48a-d2fa-4f03-93d7-8d40224b182f\"},{\"id\":\"88ac36f6-047b-4ec9-b19f-24dec5819bde\"}],\"margin\":[5,10],\"align\":\"start\",\"text\":\"&lt;div style=&#x27;margin: 0;&#x27;&gt;&lt;span&gt;tardis.simulation.base&lt;/span&gt; &lt;span style=&quot;color: #D3D3D3; font-weight: bold;&quot;&gt;[INFO]&lt;/span&gt; \\n\\tShell No.    t_rad    next_t_rad    w    next_w\\n\\t0         1.11e+04 K   1.1e+04 K  0.469   0.486\\n\\t5         1.13e+04 K  1.13e+04 K  0.183    0.18\\n\\t10         1.1e+04 K  1.11e+04 K  0.115   0.112\\n\\t15        1.06e+04 K  1.07e+04 K 0.0868  0.0846\\n (base.py:636)&lt;/div&gt;\",\"disable_math\":true}},{\"type\":\"object\",\"name\":\"panel.models.markup.HTML\",\"id\":\"089a1c96-39ed-4366-a578-3bb1abab3013\",\"attributes\":{\"stylesheets\":[\"\\n:host(.pn-loading):before, .pn-loading:before {\\n  background-color: #c3c3c3;\\n  mask-size: auto calc(min(50%, 400px));\\n  -webkit-mask-size: auto calc(min(50%, 400px));\\n}\",{\"id\":\"82fceb5d-2dc9-4bb2-a373-fa17ccf3b14b\"},{\"id\":\"55b8e48a-d2fa-4f03-93d7-8d40224b182f\"},{\"id\":\"88ac36f6-047b-4ec9-b19f-24dec5819bde\"}],\"margin\":[5,10],\"align\":\"start\",\"text\":\"&lt;div style=&#x27;margin: 0;&#x27;&gt;&lt;span&gt;tardis.simulation.base&lt;/span&gt; &lt;span style=&quot;color: #D3D3D3; font-weight: bold;&quot;&gt;[INFO]&lt;/span&gt; \\n\\tCurrent t_inner = 10643.346 K\\n\\tExpected t_inner for next iteration = 10646.730 K\\n (base.py:638)&lt;/div&gt;\",\"disable_math\":true}},{\"type\":\"object\",\"name\":\"panel.models.markup.HTML\",\"id\":\"39390353-6120-4008-b8f1-6e454ffac7f2\",\"attributes\":{\"stylesheets\":[\"\\n:host(.pn-loading):before, .pn-loading:before {\\n  background-color: #c3c3c3;\\n  mask-size: auto calc(min(50%, 400px));\\n  -webkit-mask-size: auto calc(min(50%, 400px));\\n}\",{\"id\":\"82fceb5d-2dc9-4bb2-a373-fa17ccf3b14b\"},{\"id\":\"55b8e48a-d2fa-4f03-93d7-8d40224b182f\"},{\"id\":\"88ac36f6-047b-4ec9-b19f-24dec5819bde\"}],\"margin\":[5,10],\"align\":\"start\",\"text\":\"&lt;div style=&#x27;margin: 0;&#x27;&gt;&lt;span&gt;tardis.simulation.base&lt;/span&gt; &lt;span style=&quot;color: #D3D3D3; font-weight: bold;&quot;&gt;[INFO]&lt;/span&gt; \\n\\tStarting iteration 16 of 20 (base.py:448)&lt;/div&gt;\",\"disable_math\":true}},{\"type\":\"object\",\"name\":\"panel.models.markup.HTML\",\"id\":\"4290e750-1e00-42ba-9e62-7adfadd78479\",\"attributes\":{\"stylesheets\":[\"\\n:host(.pn-loading):before, .pn-loading:before {\\n  background-color: #c3c3c3;\\n  mask-size: auto calc(min(50%, 400px));\\n  -webkit-mask-size: auto calc(min(50%, 400px));\\n}\",{\"id\":\"82fceb5d-2dc9-4bb2-a373-fa17ccf3b14b\"},{\"id\":\"55b8e48a-d2fa-4f03-93d7-8d40224b182f\"},{\"id\":\"88ac36f6-047b-4ec9-b19f-24dec5819bde\"}],\"margin\":[5,10],\"align\":\"start\",\"text\":\"&lt;div style=&#x27;margin: 0;&#x27;&gt;&lt;span&gt;tardis.simulation.base&lt;/span&gt; &lt;span style=&quot;color: #D3D3D3; font-weight: bold;&quot;&gt;[INFO]&lt;/span&gt; \\n\\tLuminosity emitted   = 1.056e+43 erg / s\\n\\tLuminosity absorbed  = 3.432e+42 erg / s\\n\\tLuminosity requested = 1.059e+43 erg / s\\n (base.py:643)&lt;/div&gt;\",\"disable_math\":true}},{\"type\":\"object\",\"name\":\"panel.models.markup.HTML\",\"id\":\"dc267926-810c-4e1a-81e4-501ec8e19a67\",\"attributes\":{\"stylesheets\":[\"\\n:host(.pn-loading):before, .pn-loading:before {\\n  background-color: #c3c3c3;\\n  mask-size: auto calc(min(50%, 400px));\\n  -webkit-mask-size: auto calc(min(50%, 400px));\\n}\",{\"id\":\"82fceb5d-2dc9-4bb2-a373-fa17ccf3b14b\"},{\"id\":\"55b8e48a-d2fa-4f03-93d7-8d40224b182f\"},{\"id\":\"88ac36f6-047b-4ec9-b19f-24dec5819bde\"}],\"margin\":[5,10],\"align\":\"start\",\"text\":\"&lt;div style=&#x27;margin: 0;&#x27;&gt;&lt;span&gt;tardis.simulation.base&lt;/span&gt; &lt;span style=&quot;color: #D3D3D3; font-weight: bold;&quot;&gt;[INFO]&lt;/span&gt; Iteration converged 14/4 consecutive times. (base.py:260)&lt;/div&gt;\",\"disable_math\":true}},{\"type\":\"object\",\"name\":\"panel.models.markup.HTML\",\"id\":\"4315e642-c538-4e6d-96ac-cf07aa2cb26a\",\"attributes\":{\"stylesheets\":[\"\\n:host(.pn-loading):before, .pn-loading:before {\\n  background-color: #c3c3c3;\\n  mask-size: auto calc(min(50%, 400px));\\n  -webkit-mask-size: auto calc(min(50%, 400px));\\n}\",{\"id\":\"82fceb5d-2dc9-4bb2-a373-fa17ccf3b14b\"},{\"id\":\"55b8e48a-d2fa-4f03-93d7-8d40224b182f\"},{\"id\":\"88ac36f6-047b-4ec9-b19f-24dec5819bde\"}],\"margin\":[5,10],\"align\":\"start\",\"text\":\"&lt;div style=&#x27;margin: 0;&#x27;&gt;&lt;span&gt;tardis.simulation.base&lt;/span&gt; &lt;span style=&quot;color: #D3D3D3; font-weight: bold;&quot;&gt;[INFO]&lt;/span&gt; \\n\\tPlasma stratification: (base.py:635)&lt;/div&gt;\",\"disable_math\":true}},{\"type\":\"object\",\"name\":\"panel.models.markup.HTML\",\"id\":\"1928c2c9-4e90-47df-ba74-74462aefb53f\",\"attributes\":{\"stylesheets\":[\"\\n:host(.pn-loading):before, .pn-loading:before {\\n  background-color: #c3c3c3;\\n  mask-size: auto calc(min(50%, 400px));\\n  -webkit-mask-size: auto calc(min(50%, 400px));\\n}\",{\"id\":\"82fceb5d-2dc9-4bb2-a373-fa17ccf3b14b\"},{\"id\":\"55b8e48a-d2fa-4f03-93d7-8d40224b182f\"},{\"id\":\"88ac36f6-047b-4ec9-b19f-24dec5819bde\"}],\"margin\":[5,10],\"align\":\"start\",\"text\":\"&lt;div style=&#x27;margin: 0;&#x27;&gt;&lt;span&gt;tardis.simulation.base&lt;/span&gt; &lt;span style=&quot;color: #D3D3D3; font-weight: bold;&quot;&gt;[INFO]&lt;/span&gt; \\n\\tShell No.    t_rad    next_t_rad    w    next_w\\n\\t0          1.1e+04 K   1.1e+04 K  0.486  0.482 \\n\\t5         1.13e+04 K  1.14e+04 K   0.18  0.174 \\n\\t10        1.11e+04 K  1.11e+04 K  0.112  0.111 \\n\\t15        1.07e+04 K  1.08e+04 K 0.0846  0.082 \\n (base.py:636)&lt;/div&gt;\",\"disable_math\":true}},{\"type\":\"object\",\"name\":\"panel.models.markup.HTML\",\"id\":\"cdcc08f8-0bc3-453a-8c80-8f7777afbe03\",\"attributes\":{\"stylesheets\":[\"\\n:host(.pn-loading):before, .pn-loading:before {\\n  background-color: #c3c3c3;\\n  mask-size: auto calc(min(50%, 400px));\\n  -webkit-mask-size: auto calc(min(50%, 400px));\\n}\",{\"id\":\"82fceb5d-2dc9-4bb2-a373-fa17ccf3b14b\"},{\"id\":\"55b8e48a-d2fa-4f03-93d7-8d40224b182f\"},{\"id\":\"88ac36f6-047b-4ec9-b19f-24dec5819bde\"}],\"margin\":[5,10],\"align\":\"start\",\"text\":\"&lt;div style=&#x27;margin: 0;&#x27;&gt;&lt;span&gt;tardis.simulation.base&lt;/span&gt; &lt;span style=&quot;color: #D3D3D3; font-weight: bold;&quot;&gt;[INFO]&lt;/span&gt; \\n\\tCurrent t_inner = 10646.730 K\\n\\tExpected t_inner for next iteration = 10655.832 K\\n (base.py:638)&lt;/div&gt;\",\"disable_math\":true}},{\"type\":\"object\",\"name\":\"panel.models.markup.HTML\",\"id\":\"bfea084e-8bb0-4c83-9b7f-895171111bf6\",\"attributes\":{\"stylesheets\":[\"\\n:host(.pn-loading):before, .pn-loading:before {\\n  background-color: #c3c3c3;\\n  mask-size: auto calc(min(50%, 400px));\\n  -webkit-mask-size: auto calc(min(50%, 400px));\\n}\",{\"id\":\"82fceb5d-2dc9-4bb2-a373-fa17ccf3b14b\"},{\"id\":\"55b8e48a-d2fa-4f03-93d7-8d40224b182f\"},{\"id\":\"88ac36f6-047b-4ec9-b19f-24dec5819bde\"}],\"margin\":[5,10],\"align\":\"start\",\"text\":\"&lt;div style=&#x27;margin: 0;&#x27;&gt;&lt;span&gt;tardis.simulation.base&lt;/span&gt; &lt;span style=&quot;color: #D3D3D3; font-weight: bold;&quot;&gt;[INFO]&lt;/span&gt; \\n\\tStarting iteration 17 of 20 (base.py:448)&lt;/div&gt;\",\"disable_math\":true}},{\"type\":\"object\",\"name\":\"panel.models.markup.HTML\",\"id\":\"df65ba93-3d87-4958-9ebd-47d741ac0c27\",\"attributes\":{\"stylesheets\":[\"\\n:host(.pn-loading):before, .pn-loading:before {\\n  background-color: #c3c3c3;\\n  mask-size: auto calc(min(50%, 400px));\\n  -webkit-mask-size: auto calc(min(50%, 400px));\\n}\",{\"id\":\"82fceb5d-2dc9-4bb2-a373-fa17ccf3b14b\"},{\"id\":\"55b8e48a-d2fa-4f03-93d7-8d40224b182f\"},{\"id\":\"88ac36f6-047b-4ec9-b19f-24dec5819bde\"}],\"margin\":[5,10],\"align\":\"start\",\"text\":\"&lt;div style=&#x27;margin: 0;&#x27;&gt;&lt;span&gt;tardis.simulation.base&lt;/span&gt; &lt;span style=&quot;color: #D3D3D3; font-weight: bold;&quot;&gt;[INFO]&lt;/span&gt; \\n\\tLuminosity emitted   = 1.065e+43 erg / s\\n\\tLuminosity absorbed  = 3.390e+42 erg / s\\n\\tLuminosity requested = 1.059e+43 erg / s\\n (base.py:643)&lt;/div&gt;\",\"disable_math\":true}},{\"type\":\"object\",\"name\":\"panel.models.markup.HTML\",\"id\":\"dc556650-8e42-4ce0-abf2-ff0bf21bab55\",\"attributes\":{\"stylesheets\":[\"\\n:host(.pn-loading):before, .pn-loading:before {\\n  background-color: #c3c3c3;\\n  mask-size: auto calc(min(50%, 400px));\\n  -webkit-mask-size: auto calc(min(50%, 400px));\\n}\",{\"id\":\"82fceb5d-2dc9-4bb2-a373-fa17ccf3b14b\"},{\"id\":\"55b8e48a-d2fa-4f03-93d7-8d40224b182f\"},{\"id\":\"88ac36f6-047b-4ec9-b19f-24dec5819bde\"}],\"margin\":[5,10],\"align\":\"start\",\"text\":\"&lt;div style=&#x27;margin: 0;&#x27;&gt;&lt;span&gt;tardis.simulation.base&lt;/span&gt; &lt;span style=&quot;color: #D3D3D3; font-weight: bold;&quot;&gt;[INFO]&lt;/span&gt; Iteration converged 15/4 consecutive times. (base.py:260)&lt;/div&gt;\",\"disable_math\":true}},{\"type\":\"object\",\"name\":\"panel.models.markup.HTML\",\"id\":\"c79de22f-654b-42c7-9052-017e6a971a00\",\"attributes\":{\"stylesheets\":[\"\\n:host(.pn-loading):before, .pn-loading:before {\\n  background-color: #c3c3c3;\\n  mask-size: auto calc(min(50%, 400px));\\n  -webkit-mask-size: auto calc(min(50%, 400px));\\n}\",{\"id\":\"82fceb5d-2dc9-4bb2-a373-fa17ccf3b14b\"},{\"id\":\"55b8e48a-d2fa-4f03-93d7-8d40224b182f\"},{\"id\":\"88ac36f6-047b-4ec9-b19f-24dec5819bde\"}],\"margin\":[5,10],\"align\":\"start\",\"text\":\"&lt;div style=&#x27;margin: 0;&#x27;&gt;&lt;span&gt;tardis.simulation.base&lt;/span&gt; &lt;span style=&quot;color: #D3D3D3; font-weight: bold;&quot;&gt;[INFO]&lt;/span&gt; \\n\\tPlasma stratification: (base.py:635)&lt;/div&gt;\",\"disable_math\":true}},{\"type\":\"object\",\"name\":\"panel.models.markup.HTML\",\"id\":\"92ad8d4c-d243-4095-9aeb-8320bcceb255\",\"attributes\":{\"stylesheets\":[\"\\n:host(.pn-loading):before, .pn-loading:before {\\n  background-color: #c3c3c3;\\n  mask-size: auto calc(min(50%, 400px));\\n  -webkit-mask-size: auto calc(min(50%, 400px));\\n}\",{\"id\":\"82fceb5d-2dc9-4bb2-a373-fa17ccf3b14b\"},{\"id\":\"55b8e48a-d2fa-4f03-93d7-8d40224b182f\"},{\"id\":\"88ac36f6-047b-4ec9-b19f-24dec5819bde\"}],\"margin\":[5,10],\"align\":\"start\",\"text\":\"&lt;div style=&#x27;margin: 0;&#x27;&gt;&lt;span&gt;tardis.simulation.base&lt;/span&gt; &lt;span style=&quot;color: #D3D3D3; font-weight: bold;&quot;&gt;[INFO]&lt;/span&gt; \\n\\tShell No.    t_rad    next_t_rad    w   next_w\\n\\t0          1.1e+04 K  1.11e+04 K 0.482   0.468\\n\\t5         1.14e+04 K  1.14e+04 K 0.174   0.174\\n\\t10        1.11e+04 K  1.12e+04 K 0.111   0.108\\n\\t15        1.08e+04 K  1.08e+04 K 0.082  0.0826\\n (base.py:636)&lt;/div&gt;\",\"disable_math\":true}},{\"type\":\"object\",\"name\":\"panel.models.markup.HTML\",\"id\":\"234264b5-2492-46a7-a364-b770261d272b\",\"attributes\":{\"stylesheets\":[\"\\n:host(.pn-loading):before, .pn-loading:before {\\n  background-color: #c3c3c3;\\n  mask-size: auto calc(min(50%, 400px));\\n  -webkit-mask-size: auto calc(min(50%, 400px));\\n}\",{\"id\":\"82fceb5d-2dc9-4bb2-a373-fa17ccf3b14b\"},{\"id\":\"55b8e48a-d2fa-4f03-93d7-8d40224b182f\"},{\"id\":\"88ac36f6-047b-4ec9-b19f-24dec5819bde\"}],\"margin\":[5,10],\"align\":\"start\",\"text\":\"&lt;div style=&#x27;margin: 0;&#x27;&gt;&lt;span&gt;tardis.simulation.base&lt;/span&gt; &lt;span style=&quot;color: #D3D3D3; font-weight: bold;&quot;&gt;[INFO]&lt;/span&gt; \\n\\tCurrent t_inner = 10655.832 K\\n\\tExpected t_inner for next iteration = 10641.369 K\\n (base.py:638)&lt;/div&gt;\",\"disable_math\":true}},{\"type\":\"object\",\"name\":\"panel.models.markup.HTML\",\"id\":\"00092e7c-8de1-4d99-a5a6-afba16344f33\",\"attributes\":{\"stylesheets\":[\"\\n:host(.pn-loading):before, .pn-loading:before {\\n  background-color: #c3c3c3;\\n  mask-size: auto calc(min(50%, 400px));\\n  -webkit-mask-size: auto calc(min(50%, 400px));\\n}\",{\"id\":\"82fceb5d-2dc9-4bb2-a373-fa17ccf3b14b\"},{\"id\":\"55b8e48a-d2fa-4f03-93d7-8d40224b182f\"},{\"id\":\"88ac36f6-047b-4ec9-b19f-24dec5819bde\"}],\"margin\":[5,10],\"align\":\"start\",\"text\":\"&lt;div style=&#x27;margin: 0;&#x27;&gt;&lt;span&gt;tardis.simulation.base&lt;/span&gt; &lt;span style=&quot;color: #D3D3D3; font-weight: bold;&quot;&gt;[INFO]&lt;/span&gt; \\n\\tStarting iteration 18 of 20 (base.py:448)&lt;/div&gt;\",\"disable_math\":true}},{\"type\":\"object\",\"name\":\"panel.models.markup.HTML\",\"id\":\"6b4c49df-580b-4c7a-bbf3-a7b0ee4b9fd0\",\"attributes\":{\"stylesheets\":[\"\\n:host(.pn-loading):before, .pn-loading:before {\\n  background-color: #c3c3c3;\\n  mask-size: auto calc(min(50%, 400px));\\n  -webkit-mask-size: auto calc(min(50%, 400px));\\n}\",{\"id\":\"82fceb5d-2dc9-4bb2-a373-fa17ccf3b14b\"},{\"id\":\"55b8e48a-d2fa-4f03-93d7-8d40224b182f\"},{\"id\":\"88ac36f6-047b-4ec9-b19f-24dec5819bde\"}],\"margin\":[5,10],\"align\":\"start\",\"text\":\"&lt;div style=&#x27;margin: 0;&#x27;&gt;&lt;span&gt;tardis.simulation.base&lt;/span&gt; &lt;span style=&quot;color: #D3D3D3; font-weight: bold;&quot;&gt;[INFO]&lt;/span&gt; \\n\\tLuminosity emitted   = 1.060e+43 erg / s\\n\\tLuminosity absorbed  = 3.358e+42 erg / s\\n\\tLuminosity requested = 1.059e+43 erg / s\\n (base.py:643)&lt;/div&gt;\",\"disable_math\":true}},{\"type\":\"object\",\"name\":\"panel.models.markup.HTML\",\"id\":\"6c332ec5-1580-45cf-a90b-e3a364411ae3\",\"attributes\":{\"stylesheets\":[\"\\n:host(.pn-loading):before, .pn-loading:before {\\n  background-color: #c3c3c3;\\n  mask-size: auto calc(min(50%, 400px));\\n  -webkit-mask-size: auto calc(min(50%, 400px));\\n}\",{\"id\":\"82fceb5d-2dc9-4bb2-a373-fa17ccf3b14b\"},{\"id\":\"55b8e48a-d2fa-4f03-93d7-8d40224b182f\"},{\"id\":\"88ac36f6-047b-4ec9-b19f-24dec5819bde\"}],\"margin\":[5,10],\"align\":\"start\",\"text\":\"&lt;div style=&#x27;margin: 0;&#x27;&gt;&lt;span&gt;tardis.simulation.base&lt;/span&gt; &lt;span style=&quot;color: #D3D3D3; font-weight: bold;&quot;&gt;[INFO]&lt;/span&gt; Iteration converged 16/4 consecutive times. (base.py:260)&lt;/div&gt;\",\"disable_math\":true}},{\"type\":\"object\",\"name\":\"panel.models.markup.HTML\",\"id\":\"b7babf76-8a27-4396-87ed-3cee702367a7\",\"attributes\":{\"stylesheets\":[\"\\n:host(.pn-loading):before, .pn-loading:before {\\n  background-color: #c3c3c3;\\n  mask-size: auto calc(min(50%, 400px));\\n  -webkit-mask-size: auto calc(min(50%, 400px));\\n}\",{\"id\":\"82fceb5d-2dc9-4bb2-a373-fa17ccf3b14b\"},{\"id\":\"55b8e48a-d2fa-4f03-93d7-8d40224b182f\"},{\"id\":\"88ac36f6-047b-4ec9-b19f-24dec5819bde\"}],\"margin\":[5,10],\"align\":\"start\",\"text\":\"&lt;div style=&#x27;margin: 0;&#x27;&gt;&lt;span&gt;tardis.simulation.base&lt;/span&gt; &lt;span style=&quot;color: #D3D3D3; font-weight: bold;&quot;&gt;[INFO]&lt;/span&gt; \\n\\tPlasma stratification: (base.py:635)&lt;/div&gt;\",\"disable_math\":true}},{\"type\":\"object\",\"name\":\"panel.models.markup.HTML\",\"id\":\"d09246e4-33b7-4279-a206-b48b753301fb\",\"attributes\":{\"stylesheets\":[\"\\n:host(.pn-loading):before, .pn-loading:before {\\n  background-color: #c3c3c3;\\n  mask-size: auto calc(min(50%, 400px));\\n  -webkit-mask-size: auto calc(min(50%, 400px));\\n}\",{\"id\":\"82fceb5d-2dc9-4bb2-a373-fa17ccf3b14b\"},{\"id\":\"55b8e48a-d2fa-4f03-93d7-8d40224b182f\"},{\"id\":\"88ac36f6-047b-4ec9-b19f-24dec5819bde\"}],\"margin\":[5,10],\"align\":\"start\",\"text\":\"&lt;div style=&#x27;margin: 0;&#x27;&gt;&lt;span&gt;tardis.simulation.base&lt;/span&gt; &lt;span style=&quot;color: #D3D3D3; font-weight: bold;&quot;&gt;[INFO]&lt;/span&gt; \\n\\tShell No.    t_rad    next_t_rad    w    next_w\\n\\t0         1.11e+04 K  1.11e+04 K  0.468   0.464\\n\\t5         1.14e+04 K  1.14e+04 K  0.174   0.175\\n\\t10        1.12e+04 K  1.11e+04 K  0.108   0.112\\n\\t15        1.08e+04 K  1.07e+04 K 0.0826  0.0838\\n (base.py:636)&lt;/div&gt;\",\"disable_math\":true}},{\"type\":\"object\",\"name\":\"panel.models.markup.HTML\",\"id\":\"e3457d68-d7b2-4bd5-a15f-bb8cea2b1592\",\"attributes\":{\"stylesheets\":[\"\\n:host(.pn-loading):before, .pn-loading:before {\\n  background-color: #c3c3c3;\\n  mask-size: auto calc(min(50%, 400px));\\n  -webkit-mask-size: auto calc(min(50%, 400px));\\n}\",{\"id\":\"82fceb5d-2dc9-4bb2-a373-fa17ccf3b14b\"},{\"id\":\"55b8e48a-d2fa-4f03-93d7-8d40224b182f\"},{\"id\":\"88ac36f6-047b-4ec9-b19f-24dec5819bde\"}],\"margin\":[5,10],\"align\":\"start\",\"text\":\"&lt;div style=&#x27;margin: 0;&#x27;&gt;&lt;span&gt;tardis.simulation.base&lt;/span&gt; &lt;span style=&quot;color: #D3D3D3; font-weight: bold;&quot;&gt;[INFO]&lt;/span&gt; \\n\\tCurrent t_inner = 10641.369 K\\n\\tExpected t_inner for next iteration = 10638.369 K\\n (base.py:638)&lt;/div&gt;\",\"disable_math\":true}},{\"type\":\"object\",\"name\":\"panel.models.markup.HTML\",\"id\":\"7c0e0597-2dde-43a4-a328-fb33d5df10d7\",\"attributes\":{\"stylesheets\":[\"\\n:host(.pn-loading):before, .pn-loading:before {\\n  background-color: #c3c3c3;\\n  mask-size: auto calc(min(50%, 400px));\\n  -webkit-mask-size: auto calc(min(50%, 400px));\\n}\",{\"id\":\"82fceb5d-2dc9-4bb2-a373-fa17ccf3b14b\"},{\"id\":\"55b8e48a-d2fa-4f03-93d7-8d40224b182f\"},{\"id\":\"88ac36f6-047b-4ec9-b19f-24dec5819bde\"}],\"margin\":[5,10],\"align\":\"start\",\"text\":\"&lt;div style=&#x27;margin: 0;&#x27;&gt;&lt;span&gt;tardis.simulation.base&lt;/span&gt; &lt;span style=&quot;color: #D3D3D3; font-weight: bold;&quot;&gt;[INFO]&lt;/span&gt; \\n\\tStarting iteration 19 of 20 (base.py:448)&lt;/div&gt;\",\"disable_math\":true}},{\"type\":\"object\",\"name\":\"panel.models.markup.HTML\",\"id\":\"dc7df1e1-e8c8-4bf4-9019-233319612082\",\"attributes\":{\"stylesheets\":[\"\\n:host(.pn-loading):before, .pn-loading:before {\\n  background-color: #c3c3c3;\\n  mask-size: auto calc(min(50%, 400px));\\n  -webkit-mask-size: auto calc(min(50%, 400px));\\n}\",{\"id\":\"82fceb5d-2dc9-4bb2-a373-fa17ccf3b14b\"},{\"id\":\"55b8e48a-d2fa-4f03-93d7-8d40224b182f\"},{\"id\":\"88ac36f6-047b-4ec9-b19f-24dec5819bde\"}],\"margin\":[5,10],\"align\":\"start\",\"text\":\"&lt;div style=&#x27;margin: 0;&#x27;&gt;&lt;span&gt;tardis.simulation.base&lt;/span&gt; &lt;span style=&quot;color: #D3D3D3; font-weight: bold;&quot;&gt;[INFO]&lt;/span&gt; \\n\\tLuminosity emitted   = 1.054e+43 erg / s\\n\\tLuminosity absorbed  = 3.404e+42 erg / s\\n\\tLuminosity requested = 1.059e+43 erg / s\\n (base.py:643)&lt;/div&gt;\",\"disable_math\":true}},{\"type\":\"object\",\"name\":\"panel.models.markup.HTML\",\"id\":\"2ce78d31-f6f1-4aef-833b-3af74726b233\",\"attributes\":{\"stylesheets\":[\"\\n:host(.pn-loading):before, .pn-loading:before {\\n  background-color: #c3c3c3;\\n  mask-size: auto calc(min(50%, 400px));\\n  -webkit-mask-size: auto calc(min(50%, 400px));\\n}\",{\"id\":\"82fceb5d-2dc9-4bb2-a373-fa17ccf3b14b\"},{\"id\":\"55b8e48a-d2fa-4f03-93d7-8d40224b182f\"},{\"id\":\"88ac36f6-047b-4ec9-b19f-24dec5819bde\"}],\"margin\":[5,10],\"align\":\"start\",\"text\":\"&lt;div style=&#x27;margin: 0;&#x27;&gt;&lt;span&gt;tardis.simulation.base&lt;/span&gt; &lt;span style=&quot;color: #D3D3D3; font-weight: bold;&quot;&gt;[INFO]&lt;/span&gt; Iteration converged 17/4 consecutive times. (base.py:260)&lt;/div&gt;\",\"disable_math\":true}},{\"type\":\"object\",\"name\":\"panel.models.markup.HTML\",\"id\":\"ff20f451-e026-4875-9998-3ae9f28ffc70\",\"attributes\":{\"stylesheets\":[\"\\n:host(.pn-loading):before, .pn-loading:before {\\n  background-color: #c3c3c3;\\n  mask-size: auto calc(min(50%, 400px));\\n  -webkit-mask-size: auto calc(min(50%, 400px));\\n}\",{\"id\":\"82fceb5d-2dc9-4bb2-a373-fa17ccf3b14b\"},{\"id\":\"55b8e48a-d2fa-4f03-93d7-8d40224b182f\"},{\"id\":\"88ac36f6-047b-4ec9-b19f-24dec5819bde\"}],\"margin\":[5,10],\"align\":\"start\",\"text\":\"&lt;div style=&#x27;margin: 0;&#x27;&gt;&lt;span&gt;tardis.simulation.base&lt;/span&gt; &lt;span style=&quot;color: #D3D3D3; font-weight: bold;&quot;&gt;[INFO]&lt;/span&gt; \\n\\tPlasma stratification: (base.py:635)&lt;/div&gt;\",\"disable_math\":true}},{\"type\":\"object\",\"name\":\"panel.models.markup.HTML\",\"id\":\"cea8f700-2f13-4976-9df2-cdc41efd7d8a\",\"attributes\":{\"stylesheets\":[\"\\n:host(.pn-loading):before, .pn-loading:before {\\n  background-color: #c3c3c3;\\n  mask-size: auto calc(min(50%, 400px));\\n  -webkit-mask-size: auto calc(min(50%, 400px));\\n}\",{\"id\":\"82fceb5d-2dc9-4bb2-a373-fa17ccf3b14b\"},{\"id\":\"55b8e48a-d2fa-4f03-93d7-8d40224b182f\"},{\"id\":\"88ac36f6-047b-4ec9-b19f-24dec5819bde\"}],\"margin\":[5,10],\"align\":\"start\",\"text\":\"&lt;div style=&#x27;margin: 0;&#x27;&gt;&lt;span&gt;tardis.simulation.base&lt;/span&gt; &lt;span style=&quot;color: #D3D3D3; font-weight: bold;&quot;&gt;[INFO]&lt;/span&gt; \\n\\tShell No.    t_rad    next_t_rad    w    next_w\\n\\t0         1.11e+04 K  1.11e+04 K  0.464  0.465 \\n\\t5         1.14e+04 K  1.14e+04 K  0.175  0.171 \\n\\t10        1.11e+04 K  1.11e+04 K  0.112  0.109 \\n\\t15        1.07e+04 K  1.07e+04 K 0.0838  0.084 \\n (base.py:636)&lt;/div&gt;\",\"disable_math\":true}},{\"type\":\"object\",\"name\":\"panel.models.markup.HTML\",\"id\":\"3388eaf7-0f07-4a31-9f91-f48e09b45b62\",\"attributes\":{\"stylesheets\":[\"\\n:host(.pn-loading):before, .pn-loading:before {\\n  background-color: #c3c3c3;\\n  mask-size: auto calc(min(50%, 400px));\\n  -webkit-mask-size: auto calc(min(50%, 400px));\\n}\",{\"id\":\"82fceb5d-2dc9-4bb2-a373-fa17ccf3b14b\"},{\"id\":\"55b8e48a-d2fa-4f03-93d7-8d40224b182f\"},{\"id\":\"88ac36f6-047b-4ec9-b19f-24dec5819bde\"}],\"margin\":[5,10],\"align\":\"start\",\"text\":\"&lt;div style=&#x27;margin: 0;&#x27;&gt;&lt;span&gt;tardis.simulation.base&lt;/span&gt; &lt;span style=&quot;color: #D3D3D3; font-weight: bold;&quot;&gt;[INFO]&lt;/span&gt; \\n\\tCurrent t_inner = 10638.369 K\\n\\tExpected t_inner for next iteration = 10651.597 K\\n (base.py:638)&lt;/div&gt;\",\"disable_math\":true}},{\"type\":\"object\",\"name\":\"panel.models.markup.HTML\",\"id\":\"aaa1b573-732d-4239-883e-0028644bc98a\",\"attributes\":{\"stylesheets\":[\"\\n:host(.pn-loading):before, .pn-loading:before {\\n  background-color: #c3c3c3;\\n  mask-size: auto calc(min(50%, 400px));\\n  -webkit-mask-size: auto calc(min(50%, 400px));\\n}\",{\"id\":\"82fceb5d-2dc9-4bb2-a373-fa17ccf3b14b\"},{\"id\":\"55b8e48a-d2fa-4f03-93d7-8d40224b182f\"},{\"id\":\"88ac36f6-047b-4ec9-b19f-24dec5819bde\"}],\"margin\":[5,10],\"align\":\"start\",\"text\":\"&lt;div style=&#x27;margin: 0;&#x27;&gt;&lt;span&gt;tardis.simulation.base&lt;/span&gt; &lt;span style=&quot;color: #D3D3D3; font-weight: bold;&quot;&gt;[INFO]&lt;/span&gt; \\n\\tSimulation finished in 19 iterations \\n\\tSimulation took 190.77 s\\n (base.py:546)&lt;/div&gt;\",\"disable_math\":true}},{\"type\":\"object\",\"name\":\"panel.models.markup.HTML\",\"id\":\"ac549d5e-d220-4fbf-a31b-e0b440cf7c78\",\"attributes\":{\"stylesheets\":[\"\\n:host(.pn-loading):before, .pn-loading:before {\\n  background-color: #c3c3c3;\\n  mask-size: auto calc(min(50%, 400px));\\n  -webkit-mask-size: auto calc(min(50%, 400px));\\n}\",{\"id\":\"82fceb5d-2dc9-4bb2-a373-fa17ccf3b14b\"},{\"id\":\"55b8e48a-d2fa-4f03-93d7-8d40224b182f\"},{\"id\":\"88ac36f6-047b-4ec9-b19f-24dec5819bde\"}],\"margin\":[5,10],\"align\":\"start\",\"text\":\"&lt;div style=&#x27;margin: 0;&#x27;&gt;&lt;span&gt;tardis.simulation.base&lt;/span&gt; &lt;span style=&quot;color: #D3D3D3; font-weight: bold;&quot;&gt;[INFO]&lt;/span&gt; \\n\\tStarting iteration 20 of 20 (base.py:448)&lt;/div&gt;\",\"disable_math\":true}},{\"type\":\"object\",\"name\":\"panel.models.markup.HTML\",\"id\":\"232faaaa-08e2-42c3-84cb-fbbefd5d0cca\",\"attributes\":{\"stylesheets\":[\"\\n:host(.pn-loading):before, .pn-loading:before {\\n  background-color: #c3c3c3;\\n  mask-size: auto calc(min(50%, 400px));\\n  -webkit-mask-size: auto calc(min(50%, 400px));\\n}\",{\"id\":\"82fceb5d-2dc9-4bb2-a373-fa17ccf3b14b\"},{\"id\":\"55b8e48a-d2fa-4f03-93d7-8d40224b182f\"},{\"id\":\"88ac36f6-047b-4ec9-b19f-24dec5819bde\"}],\"margin\":[5,10],\"align\":\"start\",\"text\":\"&lt;div style=&#x27;margin: 0;&#x27;&gt;&lt;span&gt;tardis.simulation.base&lt;/span&gt; &lt;span style=&quot;color: #D3D3D3; font-weight: bold;&quot;&gt;[INFO]&lt;/span&gt; \\n\\tLuminosity emitted   = 1.061e+43 erg / s\\n\\tLuminosity absorbed  = 3.401e+42 erg / s\\n\\tLuminosity requested = 1.059e+43 erg / s\\n (base.py:643)&lt;/div&gt;\",\"disable_math\":true}}],\"view_latest\":true}}}},{\"type\":\"object\",\"name\":\"TabPanel\",\"id\":\"141567b6-f83b-4791-bcb2-6896e9314d34\",\"attributes\":{\"name\":\"Feed00121\",\"title\":\"WARNING/ERROR\",\"child\":{\"type\":\"object\",\"name\":\"panel.models.feed.Feed\",\"id\":\"6b22a265-2e8c-4038-b068-3c1c584bdc5c\",\"attributes\":{\"name\":\"Feed00121\",\"subscribed_events\":{\"type\":\"set\",\"entries\":[\"scroll_button_click\"]},\"css_classes\":[\"scroll-vertical\"],\"styles\":{\"type\":\"map\",\"entries\":[[\"border\",\"1px solid #ddd\"],[\"width\",\"100%\"],[\"font-family\",\"monospace\"],[\"padding\",\"8px\"],[\"background-color\",\"white\"]]},\"stylesheets\":[\"\\n:host(.pn-loading):before, .pn-loading:before {\\n  background-color: #c3c3c3;\\n  mask-size: auto calc(min(50%, 400px));\\n  -webkit-mask-size: auto calc(min(50%, 400px));\\n}\",{\"id\":\"82fceb5d-2dc9-4bb2-a373-fa17ccf3b14b\"},{\"id\":\"36edf68c-0ce8-4915-b0c9-e23b3770196c\"},{\"id\":\"55b8e48a-d2fa-4f03-93d7-8d40224b182f\"},{\"id\":\"88ac36f6-047b-4ec9-b19f-24dec5819bde\"}],\"height\":300,\"min_height\":300,\"margin\":0,\"align\":\"start\",\"children\":[{\"id\":\"da4c3e04-7951-4e0a-8f56-1d55be3348be\"},{\"id\":\"26b0baf0-d489-4dfb-8dd6-422f4712275a\"}],\"view_latest\":true}}}},{\"type\":\"object\",\"name\":\"TabPanel\",\"id\":\"d6e99829-4fa8-4cce-b96e-4bb7c2b9b91b\",\"attributes\":{\"name\":\"Feed00122\",\"title\":\"INFO\",\"child\":{\"type\":\"object\",\"name\":\"panel.models.feed.Feed\",\"id\":\"b089d18e-0eb1-4bb2-a9f8-069fc2b61358\",\"attributes\":{\"name\":\"Feed00122\",\"subscribed_events\":{\"type\":\"set\",\"entries\":[\"scroll_button_click\"]},\"css_classes\":[\"scroll-vertical\"],\"styles\":{\"type\":\"map\",\"entries\":[[\"border\",\"1px solid #ddd\"],[\"width\",\"100%\"],[\"font-family\",\"monospace\"],[\"padding\",\"8px\"],[\"background-color\",\"white\"]]},\"stylesheets\":[\"\\n:host(.pn-loading):before, .pn-loading:before {\\n  background-color: #c3c3c3;\\n  mask-size: auto calc(min(50%, 400px));\\n  -webkit-mask-size: auto calc(min(50%, 400px));\\n}\",{\"id\":\"82fceb5d-2dc9-4bb2-a373-fa17ccf3b14b\"},{\"id\":\"36edf68c-0ce8-4915-b0c9-e23b3770196c\"},{\"id\":\"55b8e48a-d2fa-4f03-93d7-8d40224b182f\"},{\"id\":\"88ac36f6-047b-4ec9-b19f-24dec5819bde\"}],\"height\":300,\"min_height\":300,\"margin\":0,\"align\":\"start\",\"children\":[{\"id\":\"0eab01f1-04f3-4485-bc36-b5dd3f71aa8a\"},{\"id\":\"c9432774-51de-4bc7-8572-37177ea37412\"},{\"id\":\"f8eed761-6ef0-470c-b0f0-d425c803c251\"},{\"id\":\"41771837-87ab-4bc9-8a6e-f1779f98f277\"},{\"id\":\"b88e47ce-0feb-4a3b-838f-5f1632edd2a9\"},{\"id\":\"aa25e54a-f316-4608-96a7-18ac52f9100b\"},{\"id\":\"b014150a-2714-44c5-ae68-ecb4b9edb228\"},{\"id\":\"be3a0d97-0482-43b6-ba6b-c1d9aa4133de\"},{\"id\":\"76f20ffa-ed7f-45e0-bda3-d2a7435dd2ee\"},{\"id\":\"06fb644c-5e13-4433-9a39-eb2397468906\"},{\"id\":\"d952adb0-a37b-4fad-828c-e0a8c0ef571f\"},{\"id\":\"d77e64c9-cb1b-47dc-a5b0-3a533d597b9f\"},{\"id\":\"c61d54ac-8d3a-43bf-86f1-da8927516eb5\"},{\"id\":\"dc50b58f-4a4d-4e87-80bd-25aaa15343dd\"},{\"id\":\"39f70a7e-35a2-4666-90b5-30f48ae53e62\"},{\"id\":\"c61df9cd-f5d6-4af7-91f5-427c22b838ad\"},{\"id\":\"4b2a4990-307f-495d-9642-f667343c3700\"},{\"id\":\"74a59c04-ff3a-43a3-ae90-10506850601b\"},{\"id\":\"35c1d61d-ce44-4523-8943-29998c1f40da\"},{\"id\":\"b3059d5b-354e-444f-ae88-60ef478aa851\"},{\"id\":\"2b5ac3d5-440e-485c-b9b8-8a0af08ae3ca\"},{\"id\":\"9807b10b-ae00-4fc9-bf68-7333fa5ea936\"},{\"id\":\"e41b2e14-83bc-4790-a624-a464cef541f2\"},{\"id\":\"4f93ac4a-0ec5-4b47-b8a1-0ab9c7072cd5\"},{\"id\":\"ebcadb5b-9429-4670-8014-a4edbffe7436\"},{\"id\":\"c7809822-4a1b-40c3-b372-1fbf14c5e9ee\"},{\"id\":\"a3d31330-5b7b-497d-b647-2460756d18b4\"},{\"id\":\"df7f6a3e-8ef6-4c5e-af6b-ce017e65dcb8\"},{\"id\":\"8e523085-93df-4e5e-8c8e-1c202ec5299f\"},{\"id\":\"b8c504e6-98bc-447d-b028-c7e9c44bb59e\"},{\"id\":\"782a5f5f-130a-4324-b898-02c1c6223241\"},{\"id\":\"ea8cc6eb-5755-4c5b-ba19-8a16ed1c3e45\"},{\"id\":\"b7e180c3-2bf4-4cc8-bae1-384f72e1c407\"},{\"id\":\"0ccff511-ec0d-4511-bbbd-4b43ae68932d\"},{\"id\":\"f1d05bec-f703-4204-b3d9-46ead25bb747\"},{\"id\":\"74d95371-848b-4377-bb9c-37ee373365f3\"},{\"id\":\"e26702c8-0307-43c7-8056-e03629157b4e\"},{\"id\":\"b0c83744-d464-4ff0-911e-38bdeead2c47\"},{\"id\":\"bb1ebef5-5a93-46f2-90f9-9f68a5be7320\"},{\"id\":\"e7b85c79-1237-4720-be05-aaedf08b4d64\"},{\"id\":\"81aaf9de-faba-40b2-bd0b-fde60b8bb43b\"},{\"id\":\"d367b86f-c498-453e-825b-36a982489bd9\"},{\"id\":\"95b30ea0-86d5-4933-af23-bc4e22086352\"},{\"id\":\"a6bd2596-a1cf-4b36-9685-3502e8ca35c9\"},{\"id\":\"c6a9ce43-81b8-4db3-b184-f67361de26e8\"},{\"id\":\"2f4c8fb1-f2ac-452d-a8d3-fa72718d893d\"},{\"id\":\"5d5f7d93-3c16-48db-a3e6-c7026b971c46\"},{\"id\":\"53cdcf4f-5e8d-442f-ba4f-21e3ffa4ba43\"},{\"id\":\"b3a2eeaf-0d67-4a59-93e2-158125a0d551\"},{\"id\":\"9ab86ed3-b438-4f40-84d9-63ffa16eca9e\"},{\"id\":\"f0c36a34-b877-4e23-95b0-d2466b7701a1\"},{\"id\":\"a04a15ca-1f82-4031-b446-4e983de9b313\"},{\"id\":\"e78453b4-5289-440a-bed1-57798c20467a\"},{\"id\":\"e5b79ba2-13ac-4671-8b5a-95ea5d95ce0c\"},{\"id\":\"91991bf9-4ed2-4b8b-8c60-c8166ace1cd1\"},{\"id\":\"328c96ca-fae7-4105-bca3-91f07c07ac2a\"},{\"id\":\"43573423-0a6f-40ae-b893-d8dbd08685aa\"},{\"id\":\"75eac1f5-acb6-4ec4-ba82-89b93017ca7d\"},{\"id\":\"e9bc377d-422b-43a4-8e69-405a65ec6e3a\"},{\"id\":\"3b579d12-5775-4696-a424-da863b3d36da\"},{\"id\":\"54bf4702-ba29-4fa1-8668-0e335db7d679\"},{\"id\":\"a1a6fc05-bdc4-4187-a449-3d553f7a955c\"},{\"id\":\"ff69bf5c-6085-411e-a36a-3e2398a1a5a6\"},{\"id\":\"5ee0e205-f10b-4145-a835-e63640f2cf0b\"},{\"id\":\"f3ba7467-a831-4221-a79f-9bf13fa18073\"},{\"id\":\"7d9be919-6bf6-40b0-b2bb-0a6470ddf12b\"},{\"id\":\"a562212e-cffb-4b9f-80ab-4a59292676f7\"},{\"id\":\"3d860e95-0428-42d7-a5b3-8f53af4e725a\"},{\"id\":\"22529fb7-7409-4f54-92b6-5d7080b96cb5\"},{\"id\":\"7a38eb80-8489-4bf6-bfa7-d473a603dbf7\"},{\"id\":\"1daaa9fd-72af-4c5e-a490-88c886252c7b\"},{\"id\":\"3d7efda3-8163-4fba-8566-a5c62c11bf07\"},{\"id\":\"257d05ae-c045-4ec3-b3aa-3defaba1336a\"},{\"id\":\"5113fcec-cf13-4e5b-aa14-a21069d6b86e\"},{\"id\":\"b7921422-cb95-47a7-a80a-47c5557195f2\"},{\"id\":\"3df41e5a-96e1-4753-8e01-7f826b538c60\"},{\"id\":\"189e5da2-46dc-4958-82b4-c4e6a5c10322\"},{\"id\":\"39c99fab-5a7c-4565-a7f1-285c5e527cd7\"},{\"id\":\"cb733a46-0b9c-4c4a-945b-6ad609406707\"},{\"id\":\"fecf7a9a-583d-45f0-a657-4e9e9c3b8923\"},{\"id\":\"fa783600-78a2-4663-9436-a891c3091266\"},{\"id\":\"cd3a56ad-f7c0-4197-9f2f-4e4bb6721c26\"},{\"id\":\"9f9ae8fb-92cd-4df7-b341-15999e077371\"},{\"id\":\"d78942b7-df5f-400a-a392-3b78a6fb6f70\"},{\"id\":\"2fe7b0d1-dbfb-4663-bbaa-56204ced0a22\"},{\"id\":\"e7315d1c-ecdb-453f-9da3-e916ed6c542b\"},{\"id\":\"35b33253-2ee9-4a29-b76c-27c670a8e056\"},{\"id\":\"c4934a65-9a88-41b2-8c50-8023d2c40220\"},{\"id\":\"9540fa5d-b453-4542-8859-4608b8170170\"},{\"id\":\"740519e0-6cff-4697-92ef-31750dbf3c12\"},{\"id\":\"7c78ddeb-56f0-4431-bb41-6ef9f5281f92\"},{\"id\":\"1d3a560e-1f7a-4e5b-9cbc-6cb8967d5f72\"},{\"id\":\"089a1c96-39ed-4366-a578-3bb1abab3013\"},{\"id\":\"39390353-6120-4008-b8f1-6e454ffac7f2\"},{\"id\":\"4290e750-1e00-42ba-9e62-7adfadd78479\"},{\"id\":\"dc267926-810c-4e1a-81e4-501ec8e19a67\"},{\"id\":\"4315e642-c538-4e6d-96ac-cf07aa2cb26a\"},{\"id\":\"1928c2c9-4e90-47df-ba74-74462aefb53f\"},{\"id\":\"cdcc08f8-0bc3-453a-8c80-8f7777afbe03\"},{\"id\":\"bfea084e-8bb0-4c83-9b7f-895171111bf6\"},{\"id\":\"df65ba93-3d87-4958-9ebd-47d741ac0c27\"},{\"id\":\"dc556650-8e42-4ce0-abf2-ff0bf21bab55\"},{\"id\":\"c79de22f-654b-42c7-9052-017e6a971a00\"},{\"id\":\"92ad8d4c-d243-4095-9aeb-8320bcceb255\"},{\"id\":\"234264b5-2492-46a7-a364-b770261d272b\"},{\"id\":\"00092e7c-8de1-4d99-a5a6-afba16344f33\"},{\"id\":\"6b4c49df-580b-4c7a-bbf3-a7b0ee4b9fd0\"},{\"id\":\"6c332ec5-1580-45cf-a90b-e3a364411ae3\"},{\"id\":\"b7babf76-8a27-4396-87ed-3cee702367a7\"},{\"id\":\"d09246e4-33b7-4279-a206-b48b753301fb\"},{\"id\":\"e3457d68-d7b2-4bd5-a15f-bb8cea2b1592\"},{\"id\":\"7c0e0597-2dde-43a4-a328-fb33d5df10d7\"},{\"id\":\"dc7df1e1-e8c8-4bf4-9019-233319612082\"},{\"id\":\"2ce78d31-f6f1-4aef-833b-3af74726b233\"},{\"id\":\"ff20f451-e026-4875-9998-3ae9f28ffc70\"},{\"id\":\"cea8f700-2f13-4976-9df2-cdc41efd7d8a\"},{\"id\":\"3388eaf7-0f07-4a31-9f91-f48e09b45b62\"},{\"id\":\"aaa1b573-732d-4239-883e-0028644bc98a\"},{\"id\":\"ac549d5e-d220-4fbf-a31b-e0b440cf7c78\"},{\"id\":\"232faaaa-08e2-42c3-84cb-fbbefd5d0cca\"}],\"view_latest\":true}}}},{\"type\":\"object\",\"name\":\"TabPanel\",\"id\":\"6638c548-419d-4407-8b23-d9db4e5a9df1\",\"attributes\":{\"name\":\"Feed00123\",\"title\":\"DEBUG\",\"child\":{\"type\":\"object\",\"name\":\"panel.models.feed.Feed\",\"id\":\"5c51e055-e505-4410-b8df-81a0d12ff172\",\"attributes\":{\"name\":\"Feed00123\",\"subscribed_events\":{\"type\":\"set\",\"entries\":[\"scroll_button_click\"]},\"css_classes\":[\"scroll-vertical\"],\"styles\":{\"type\":\"map\",\"entries\":[[\"border\",\"1px solid #ddd\"],[\"width\",\"100%\"],[\"font-family\",\"monospace\"],[\"padding\",\"8px\"],[\"background-color\",\"white\"]]},\"stylesheets\":[\"\\n:host(.pn-loading):before, .pn-loading:before {\\n  background-color: #c3c3c3;\\n  mask-size: auto calc(min(50%, 400px));\\n  -webkit-mask-size: auto calc(min(50%, 400px));\\n}\",{\"id\":\"82fceb5d-2dc9-4bb2-a373-fa17ccf3b14b\"},{\"id\":\"36edf68c-0ce8-4915-b0c9-e23b3770196c\"},{\"id\":\"55b8e48a-d2fa-4f03-93d7-8d40224b182f\"},{\"id\":\"88ac36f6-047b-4ec9-b19f-24dec5819bde\"}],\"height\":300,\"min_height\":300,\"margin\":0,\"align\":\"start\",\"view_latest\":true}}}}]}}],\"defs\":[{\"type\":\"model\",\"name\":\"ReactiveHTML1\"},{\"type\":\"model\",\"name\":\"FlexBox1\",\"properties\":[{\"name\":\"align_content\",\"kind\":\"Any\",\"default\":\"flex-start\"},{\"name\":\"align_items\",\"kind\":\"Any\",\"default\":\"flex-start\"},{\"name\":\"flex_direction\",\"kind\":\"Any\",\"default\":\"row\"},{\"name\":\"flex_wrap\",\"kind\":\"Any\",\"default\":\"wrap\"},{\"name\":\"gap\",\"kind\":\"Any\",\"default\":\"\"},{\"name\":\"justify_content\",\"kind\":\"Any\",\"default\":\"flex-start\"}]},{\"type\":\"model\",\"name\":\"FloatPanel1\",\"properties\":[{\"name\":\"config\",\"kind\":\"Any\",\"default\":{\"type\":\"map\"}},{\"name\":\"contained\",\"kind\":\"Any\",\"default\":true},{\"name\":\"position\",\"kind\":\"Any\",\"default\":\"right-top\"},{\"name\":\"offsetx\",\"kind\":\"Any\",\"default\":null},{\"name\":\"offsety\",\"kind\":\"Any\",\"default\":null},{\"name\":\"theme\",\"kind\":\"Any\",\"default\":\"primary\"},{\"name\":\"status\",\"kind\":\"Any\",\"default\":\"normalized\"}]},{\"type\":\"model\",\"name\":\"GridStack1\",\"properties\":[{\"name\":\"mode\",\"kind\":\"Any\",\"default\":\"warn\"},{\"name\":\"ncols\",\"kind\":\"Any\",\"default\":null},{\"name\":\"nrows\",\"kind\":\"Any\",\"default\":null},{\"name\":\"allow_resize\",\"kind\":\"Any\",\"default\":true},{\"name\":\"allow_drag\",\"kind\":\"Any\",\"default\":true},{\"name\":\"state\",\"kind\":\"Any\",\"default\":[]}]},{\"type\":\"model\",\"name\":\"drag1\",\"properties\":[{\"name\":\"slider_width\",\"kind\":\"Any\",\"default\":5},{\"name\":\"slider_color\",\"kind\":\"Any\",\"default\":\"black\"},{\"name\":\"value\",\"kind\":\"Any\",\"default\":50}]},{\"type\":\"model\",\"name\":\"click1\",\"properties\":[{\"name\":\"terminal_output\",\"kind\":\"Any\",\"default\":\"\"},{\"name\":\"debug_name\",\"kind\":\"Any\",\"default\":\"\"},{\"name\":\"clears\",\"kind\":\"Any\",\"default\":0}]},{\"type\":\"model\",\"name\":\"FastWrapper1\",\"properties\":[{\"name\":\"object\",\"kind\":\"Any\",\"default\":null},{\"name\":\"style\",\"kind\":\"Any\",\"default\":null}]},{\"type\":\"model\",\"name\":\"NotificationAreaBase1\",\"properties\":[{\"name\":\"js_events\",\"kind\":\"Any\",\"default\":{\"type\":\"map\"}},{\"name\":\"position\",\"kind\":\"Any\",\"default\":\"bottom-right\"},{\"name\":\"_clear\",\"kind\":\"Any\",\"default\":0}]},{\"type\":\"model\",\"name\":\"NotificationArea1\",\"properties\":[{\"name\":\"js_events\",\"kind\":\"Any\",\"default\":{\"type\":\"map\"}},{\"name\":\"notifications\",\"kind\":\"Any\",\"default\":[]},{\"name\":\"position\",\"kind\":\"Any\",\"default\":\"bottom-right\"},{\"name\":\"_clear\",\"kind\":\"Any\",\"default\":0},{\"name\":\"types\",\"kind\":\"Any\",\"default\":[{\"type\":\"map\",\"entries\":[[\"type\",\"warning\"],[\"background\",\"#ffc107\"],[\"icon\",{\"type\":\"map\",\"entries\":[[\"className\",\"fas fa-exclamation-triangle\"],[\"tagName\",\"i\"],[\"color\",\"white\"]]}]]},{\"type\":\"map\",\"entries\":[[\"type\",\"info\"],[\"background\",\"#007bff\"],[\"icon\",{\"type\":\"map\",\"entries\":[[\"className\",\"fas fa-info-circle\"],[\"tagName\",\"i\"],[\"color\",\"white\"]]}]]}]}]},{\"type\":\"model\",\"name\":\"Notification\",\"properties\":[{\"name\":\"background\",\"kind\":\"Any\",\"default\":null},{\"name\":\"duration\",\"kind\":\"Any\",\"default\":3000},{\"name\":\"icon\",\"kind\":\"Any\",\"default\":null},{\"name\":\"message\",\"kind\":\"Any\",\"default\":\"\"},{\"name\":\"notification_type\",\"kind\":\"Any\",\"default\":null},{\"name\":\"_destroyed\",\"kind\":\"Any\",\"default\":false}]},{\"type\":\"model\",\"name\":\"TemplateActions1\",\"properties\":[{\"name\":\"open_modal\",\"kind\":\"Any\",\"default\":0},{\"name\":\"close_modal\",\"kind\":\"Any\",\"default\":0}]},{\"type\":\"model\",\"name\":\"BootstrapTemplateActions1\",\"properties\":[{\"name\":\"open_modal\",\"kind\":\"Any\",\"default\":0},{\"name\":\"close_modal\",\"kind\":\"Any\",\"default\":0}]},{\"type\":\"model\",\"name\":\"TemplateEditor1\",\"properties\":[{\"name\":\"layout\",\"kind\":\"Any\",\"default\":[]}]},{\"type\":\"model\",\"name\":\"MaterialTemplateActions1\",\"properties\":[{\"name\":\"open_modal\",\"kind\":\"Any\",\"default\":0},{\"name\":\"close_modal\",\"kind\":\"Any\",\"default\":0}]},{\"type\":\"model\",\"name\":\"ReactiveESM1\",\"properties\":[{\"name\":\"esm_constants\",\"kind\":\"Any\",\"default\":{\"type\":\"map\"}}]},{\"type\":\"model\",\"name\":\"JSComponent1\",\"properties\":[{\"name\":\"esm_constants\",\"kind\":\"Any\",\"default\":{\"type\":\"map\"}}]},{\"type\":\"model\",\"name\":\"ReactComponent1\",\"properties\":[{\"name\":\"esm_constants\",\"kind\":\"Any\",\"default\":{\"type\":\"map\"}}]},{\"type\":\"model\",\"name\":\"AnyWidgetComponent1\",\"properties\":[{\"name\":\"esm_constants\",\"kind\":\"Any\",\"default\":{\"type\":\"map\"}}]},{\"type\":\"model\",\"name\":\"request_value1\",\"properties\":[{\"name\":\"fill\",\"kind\":\"Any\",\"default\":\"none\"},{\"name\":\"_synced\",\"kind\":\"Any\",\"default\":null},{\"name\":\"_request_sync\",\"kind\":\"Any\",\"default\":0}]}]}};\n",
       "  var render_items = [{\"docid\":\"6e8a010a-7e63-43a4-a7b3-9611efc7d740\",\"roots\":{\"58fb4151-1100-4519-a3a4-aeb4047441ca\":\"a29d6cd1-2b53-4c67-adc9-7d4420a181ea\"},\"root_ids\":[\"58fb4151-1100-4519-a3a4-aeb4047441ca\"]}];\n",
       "  var docs = Object.values(docs_json)\n",
       "  if (!docs) {\n",
       "    return\n",
       "  }\n",
       "  const py_version = docs[0].version.replace('rc', '-rc.').replace('.dev', '-dev.')\n",
       "  async function embed_document(root) {\n",
       "    var Bokeh = get_bokeh(root)\n",
       "    await Bokeh.embed.embed_items_notebook(docs_json, render_items);\n",
       "    for (const render_item of render_items) {\n",
       "      for (const root_id of render_item.root_ids) {\n",
       "\tconst id_el = document.getElementById(root_id)\n",
       "\tif (id_el.children.length && id_el.children[0].hasAttribute('data-root-id')) {\n",
       "\t  const root_el = id_el.children[0]\n",
       "\t  root_el.id = root_el.id + '-rendered'\n",
       "\t  for (const child of root_el.children) {\n",
       "            // Ensure JupyterLab does not capture keyboard shortcuts\n",
       "            // see: https://jupyterlab.readthedocs.io/en/4.1.x/extension/notebook.html#keyboard-interaction-model\n",
       "\t    child.setAttribute('data-lm-suppress-shortcuts', 'true')\n",
       "\t  }\n",
       "\t}\n",
       "      }\n",
       "    }\n",
       "  }\n",
       "  function get_bokeh(root) {\n",
       "    if (root.Bokeh === undefined) {\n",
       "      return null\n",
       "    } else if (root.Bokeh.version !== py_version) {\n",
       "      if (root.Bokeh.versions === undefined || !root.Bokeh.versions.has(py_version)) {\n",
       "\treturn null\n",
       "      }\n",
       "      return root.Bokeh.versions.get(py_version);\n",
       "    } else if (root.Bokeh.version === py_version) {\n",
       "      return root.Bokeh\n",
       "    }\n",
       "    return null\n",
       "  }\n",
       "  function is_loaded(root) {\n",
       "    var Bokeh = get_bokeh(root)\n",
       "    return (Bokeh != null && Bokeh.Panel !== undefined)\n",
       "  }\n",
       "  if (is_loaded(root)) {\n",
       "    embed_document(root);\n",
       "  } else {\n",
       "    var attempts = 0;\n",
       "    var timer = setInterval(function(root) {\n",
       "      if (is_loaded(root)) {\n",
       "        clearInterval(timer);\n",
       "        embed_document(root);\n",
       "      } else if (document.readyState == \"complete\") {\n",
       "        attempts++;\n",
       "        if (attempts > 200) {\n",
       "          clearInterval(timer);\n",
       "\t  var Bokeh = get_bokeh(root)\n",
       "\t  if (Bokeh == null || Bokeh.Panel == null) {\n",
       "            console.warn(\"Panel: ERROR: Unable to run Panel code because Bokeh or Panel library is missing\");\n",
       "\t  } else {\n",
       "\t    console.warn(\"Panel: WARNING: Attempting to render but not all required libraries could be resolved.\")\n",
       "\t    embed_document(root)\n",
       "\t  }\n",
       "        }\n",
       "      }\n",
       "    }, 25, root)\n",
       "  }\n",
       "})(window);</script>"
      ],
      "text/plain": [
       "<panel.io.notebook.Mimebundle at 0x7f83ed2fa2a0>"
      ]
     },
     "metadata": {
      "application/vnd.holoviews_exec.v0+json": {
       "id": "58fb4151-1100-4519-a3a4-aeb4047441ca"
      }
     },
     "output_type": "display_data"
    }
   ],
   "source": [
    "# Running the simulation from the config\n",
    "\n",
    "sim = run_tardis(config, show_convergence_plots=False, show_progress_bars=False)"
   ]
  },
  {
   "attachments": {},
   "cell_type": "markdown",
   "id": "532bfafc",
   "metadata": {},
   "source": [
    "Now, the `tracked` properties can be accessed via the `rpacket_tracker` attribute of the `sim.transport.transport_state` object. "
   ]
  },
  {
   "cell_type": "code",
   "execution_count": 9,
   "id": "f8b3424f",
   "metadata": {
    "execution": {
     "iopub.execute_input": "2024-12-10T08:16:06.622844Z",
     "iopub.status.busy": "2024-12-10T08:16:06.622668Z",
     "iopub.status.idle": "2024-12-10T08:16:06.626238Z",
     "shell.execute_reply": "2024-12-10T08:16:06.625780Z"
    }
   },
   "outputs": [
    {
     "data": {
      "text/plain": [
       "numba.typed.typedlist.List"
      ]
     },
     "execution_count": 9,
     "metadata": {},
     "output_type": "execute_result"
    }
   ],
   "source": [
    "type(sim.transport.transport_state.rpacket_tracker)"
   ]
  },
  {
   "attachments": {},
   "cell_type": "markdown",
   "id": "4771d92a",
   "metadata": {},
   "source": [
    "It can be seen from the above code, that the `sim.transport.transport_state.rpacket_tracker` is an instance of the `List` specifically *Numba Typed List*. The `RPacketTracker` class has the following structure for the properties : {More information in the **TARDIS API** for `RPacketTracker` class}"
   ]
  },
  {
   "attachments": {},
   "cell_type": "markdown",
   "id": "ce587807",
   "metadata": {},
   "source": [
    "```python\n",
    "# Basic structure for the RPacketTracker Class\n",
    "class RPacketTracker:\n",
    "   # Properties\n",
    "    index\n",
    "    seed\n",
    "    status\n",
    "    r\n",
    "    nu\n",
    "    mu\n",
    "    energy\n",
    "    shell_id\n",
    "    interaction_type\n",
    "    boundary_interaction\n",
    "```"
   ]
  },
  {
   "cell_type": "code",
   "execution_count": 10,
   "id": "a3ea2f54",
   "metadata": {
    "execution": {
     "iopub.execute_input": "2024-12-10T08:16:06.627702Z",
     "iopub.status.busy": "2024-12-10T08:16:06.627547Z",
     "iopub.status.idle": "2024-12-10T08:16:06.630636Z",
     "shell.execute_reply": "2024-12-10T08:16:06.630237Z"
    }
   },
   "outputs": [
    {
     "data": {
      "text/plain": [
       "100000"
      ]
     },
     "execution_count": 10,
     "metadata": {},
     "output_type": "execute_result"
    }
   ],
   "source": [
    "len(sim.transport.transport_state.rpacket_tracker)"
   ]
  },
  {
   "attachments": {},
   "cell_type": "markdown",
   "id": "0f8566f4",
   "metadata": {},
   "source": [
    "### Accessing properties through `rpacket_tracker`"
   ]
  },
  {
   "attachments": {},
   "cell_type": "markdown",
   "id": "411f2ef9",
   "metadata": {},
   "source": [
    "To access these different properties, we may consider the following examples for the `rpacket_tracker`:\n",
    "<br>In this Example, we are trying to access the properties of the packet at index `10`.<br>In a similar way, we can check for any property for any packet in the range of packets for the last iteration."
   ]
  },
  {
   "attachments": {},
   "cell_type": "markdown",
   "id": "a4772b00",
   "metadata": {},
   "source": [
    "#### Accessing the `index` property for the packet with index = 10 :"
   ]
  },
  {
   "cell_type": "code",
   "execution_count": 11,
   "id": "de7b8877",
   "metadata": {
    "execution": {
     "iopub.execute_input": "2024-12-10T08:16:06.632265Z",
     "iopub.status.busy": "2024-12-10T08:16:06.631896Z",
     "iopub.status.idle": "2024-12-10T08:16:06.635035Z",
     "shell.execute_reply": "2024-12-10T08:16:06.634667Z"
    }
   },
   "outputs": [
    {
     "data": {
      "text/plain": [
       "10"
      ]
     },
     "execution_count": 11,
     "metadata": {},
     "output_type": "execute_result"
    }
   ],
   "source": [
    "sim.transport.transport_state.rpacket_tracker[10].index"
   ]
  },
  {
   "attachments": {},
   "cell_type": "markdown",
   "id": "d81fbbf7",
   "metadata": {},
   "source": [
    "#### Accessing the `seed` property for the packet with index = 10 :"
   ]
  },
  {
   "cell_type": "code",
   "execution_count": 12,
   "id": "39e2dbd2",
   "metadata": {
    "execution": {
     "iopub.execute_input": "2024-12-10T08:16:06.636607Z",
     "iopub.status.busy": "2024-12-10T08:16:06.636227Z",
     "iopub.status.idle": "2024-12-10T08:16:06.639500Z",
     "shell.execute_reply": "2024-12-10T08:16:06.639034Z"
    }
   },
   "outputs": [
    {
     "data": {
      "text/plain": [
       "2729103521"
      ]
     },
     "execution_count": 12,
     "metadata": {},
     "output_type": "execute_result"
    }
   ],
   "source": [
    "sim.transport.transport_state.rpacket_tracker[10].seed"
   ]
  },
  {
   "attachments": {},
   "cell_type": "markdown",
   "id": "7afe2110",
   "metadata": {},
   "source": [
    "#### Accessing the `status` property for the packet with index = 10 :"
   ]
  },
  {
   "cell_type": "code",
   "execution_count": 13,
   "id": "e82427ea",
   "metadata": {
    "execution": {
     "iopub.execute_input": "2024-12-10T08:16:06.640824Z",
     "iopub.status.busy": "2024-12-10T08:16:06.640682Z",
     "iopub.status.idle": "2024-12-10T08:16:06.643952Z",
     "shell.execute_reply": "2024-12-10T08:16:06.643495Z"
    }
   },
   "outputs": [
    {
     "data": {
      "text/plain": [
       "array([0, 0, 0, 0, 0, 0, 0, 1])"
      ]
     },
     "execution_count": 13,
     "metadata": {},
     "output_type": "execute_result"
    }
   ],
   "source": [
    "sim.transport.transport_state.rpacket_tracker[10].status"
   ]
  },
  {
   "attachments": {},
   "cell_type": "markdown",
   "id": "ea308a55",
   "metadata": {},
   "source": [
    "Thus, all other properties (`r`, `nu`, `mu`, `energy`, `shell_id`,`interaction_type`, `boundary_interaction`) can be accessed accordingly."
   ]
  },
  {
   "attachments": {},
   "cell_type": "markdown",
   "id": "c83dd906",
   "metadata": {},
   "source": [
    "We can also see the total number of interactions of index `10` packet under went, with the following example:"
   ]
  },
  {
   "cell_type": "code",
   "execution_count": 14,
   "id": "090b1517",
   "metadata": {
    "execution": {
     "iopub.execute_input": "2024-12-10T08:16:06.645371Z",
     "iopub.status.busy": "2024-12-10T08:16:06.645192Z",
     "iopub.status.idle": "2024-12-10T08:16:06.648441Z",
     "shell.execute_reply": "2024-12-10T08:16:06.647961Z"
    }
   },
   "outputs": [
    {
     "data": {
      "text/plain": [
       "8"
      ]
     },
     "execution_count": 14,
     "metadata": {},
     "output_type": "execute_result"
    }
   ],
   "source": [
    "len(sim.transport.transport_state.rpacket_tracker[10].shell_id)"
   ]
  },
  {
   "attachments": {},
   "cell_type": "markdown",
   "id": "9136fba1",
   "metadata": {},
   "source": [
    "<div class=\"alert alert-warning\">\n",
    "\n",
    "Warning\n",
    "\n",
    "If we try to access `sim.transport.transport_state.rpacket_tracker` property when we have the `track_rpacket` property in the `tracking` subsection of `montecarlo` config, turned off as follows `config[\"montecarlo\"][\"tracking\"][\"track_rpacket\"] = False`, it will return `None`.  Error will be raised if we try to access the properties i.e. `seed`, `index`, etc.\n",
    "</div>"
   ]
  },
  {
   "attachments": {},
   "cell_type": "markdown",
   "id": "afa3c7f4",
   "metadata": {},
   "source": [
    "<div class=\"alert alert-info\">\n",
    "\n",
    "Note\n",
    "    \n",
    "When we initialise the `RPacketTracker()` class, the properties arrays {`index`, `seed`, `status`, etc} are allocated certain length based on the `initial_array_length` parameter that can be set via the `initial_array_length` property under `montecarlo -> tracking` section of the configuration. The default size of the array is `10`. This variable is important as the number of interactions a packet may have is variable, thus we need to allocate space dynamically. This variable is used to compute the size and expand the array such that the properties are able to hold these values for the packet interaction. Higher number, allocates more space initially leading to lesser times the arrays expands and vice versa. It can be set in the following manner `config[\"montecarlo\"][\"tracking\"][\"initial_array_length\"] = {value}`.\n",
    "</div>"
   ]
  },
  {
   "attachments": {},
   "cell_type": "markdown",
   "id": "2da1215e",
   "metadata": {},
   "source": [
    "### Accessing properties with `rpacket_tracker_df`"
   ]
  },
  {
   "attachments": {},
   "cell_type": "markdown",
   "id": "6eaee13d",
   "metadata": {},
   "source": [
    "Also, the `tracked` properties can be accessed via the `rpacket_tracker_df` attribute of the `sim.transport` object. "
   ]
  },
  {
   "cell_type": "code",
   "execution_count": 15,
   "id": "5fa074c2",
   "metadata": {
    "execution": {
     "iopub.execute_input": "2024-12-10T08:16:06.649917Z",
     "iopub.status.busy": "2024-12-10T08:16:06.649774Z",
     "iopub.status.idle": "2024-12-10T08:16:06.652950Z",
     "shell.execute_reply": "2024-12-10T08:16:06.652493Z"
    }
   },
   "outputs": [
    {
     "data": {
      "text/plain": [
       "pandas.core.frame.DataFrame"
      ]
     },
     "execution_count": 15,
     "metadata": {},
     "output_type": "execute_result"
    }
   ],
   "source": [
    "type(sim.transport.transport_state.rpacket_tracker_df)"
   ]
  },
  {
   "attachments": {},
   "cell_type": "markdown",
   "id": "9a39309b",
   "metadata": {},
   "source": [
    "Here, all the properties of the rpackets discussed above are stored as a `Pandas.Dataframe` object. This makes accessing the properties of any rpacket more convenient and in a more organized way."
   ]
  },
  {
   "attachments": {},
   "cell_type": "markdown",
   "id": "93e78750",
   "metadata": {},
   "source": [
    "<html>\n",
    "    <body>\n",
    "        The Basic structure of the Dataframe is as follows:<br><br>\n",
    "        Index Columns:\n",
    "        <ol>\n",
    "            <li><b>index</b> - Indicates the index number of the packet.</li>\n",
    "            <li><b>step</b> - It is the step number that any particular packet is on, as it moves through the ejecta.</li>\n",
    "        </ol>\n",
    "        Properties:<br><br>\n",
    "        These following properties are present as columns in the Dataframe. These are the same properties that were present in the <b>rpacket_tracker</b>\n",
    "        <ol>\n",
    "            <li><b>status</b></li>\n",
    "            <li><b>seed</b></li>\n",
    "            <li><b>r</b></li>\n",
    "            <li><b>nu</b></li>\n",
    "            <li><b>mu</b></li>\n",
    "            <li><b>energy</b></li>\n",
    "            <li><b>shell_id</b></li>\n",
    "            <li><b>interaction_type</b></li>\n",
    "        </ol>\n",
    "    </body>\n",
    "</html>"
   ]
  },
  {
   "attachments": {},
   "cell_type": "markdown",
   "id": "54dce761",
   "metadata": {},
   "source": [
    "The entire dataframe, containing all the properties mentioned above, can be fetched as:"
   ]
  },
  {
   "cell_type": "code",
   "execution_count": 16,
   "id": "0ec47b2f",
   "metadata": {
    "execution": {
     "iopub.execute_input": "2024-12-10T08:16:06.654547Z",
     "iopub.status.busy": "2024-12-10T08:16:06.654151Z",
     "iopub.status.idle": "2024-12-10T08:16:06.663984Z",
     "shell.execute_reply": "2024-12-10T08:16:06.663537Z"
    }
   },
   "outputs": [
    {
     "data": {
      "text/html": [
       "<div>\n",
       "<style scoped>\n",
       "    .dataframe tbody tr th:only-of-type {\n",
       "        vertical-align: middle;\n",
       "    }\n",
       "\n",
       "    .dataframe tbody tr th {\n",
       "        vertical-align: top;\n",
       "    }\n",
       "\n",
       "    .dataframe thead th {\n",
       "        text-align: right;\n",
       "    }\n",
       "</style>\n",
       "<table border=\"1\" class=\"dataframe\">\n",
       "  <thead>\n",
       "    <tr style=\"text-align: right;\">\n",
       "      <th></th>\n",
       "      <th></th>\n",
       "      <th>status</th>\n",
       "      <th>seed</th>\n",
       "      <th>r</th>\n",
       "      <th>nu</th>\n",
       "      <th>mu</th>\n",
       "      <th>energy</th>\n",
       "      <th>shell_id</th>\n",
       "      <th>interaction_type</th>\n",
       "    </tr>\n",
       "    <tr>\n",
       "      <th>index</th>\n",
       "      <th>step</th>\n",
       "      <th></th>\n",
       "      <th></th>\n",
       "      <th></th>\n",
       "      <th></th>\n",
       "      <th></th>\n",
       "      <th></th>\n",
       "      <th></th>\n",
       "      <th></th>\n",
       "    </tr>\n",
       "  </thead>\n",
       "  <tbody>\n",
       "    <tr>\n",
       "      <th rowspan=\"5\" valign=\"top\">0</th>\n",
       "      <th>0</th>\n",
       "      <td>0</td>\n",
       "      <td>3338016338</td>\n",
       "      <td>1.235520e+15</td>\n",
       "      <td>1.736667e+15</td>\n",
       "      <td>0.839765</td>\n",
       "      <td>0.00001</td>\n",
       "      <td>0</td>\n",
       "      <td>-1</td>\n",
       "    </tr>\n",
       "    <tr>\n",
       "      <th>1</th>\n",
       "      <td>0</td>\n",
       "      <td>3338016338</td>\n",
       "      <td>1.266619e+15</td>\n",
       "      <td>2.569677e+15</td>\n",
       "      <td>-0.608549</td>\n",
       "      <td>0.00001</td>\n",
       "      <td>0</td>\n",
       "      <td>2</td>\n",
       "    </tr>\n",
       "    <tr>\n",
       "      <th>2</th>\n",
       "      <td>0</td>\n",
       "      <td>3338016338</td>\n",
       "      <td>1.247897e+15</td>\n",
       "      <td>1.684578e+15</td>\n",
       "      <td>0.052209</td>\n",
       "      <td>0.00001</td>\n",
       "      <td>0</td>\n",
       "      <td>2</td>\n",
       "    </tr>\n",
       "    <tr>\n",
       "      <th>3</th>\n",
       "      <td>0</td>\n",
       "      <td>3338016338</td>\n",
       "      <td>1.247964e+15</td>\n",
       "      <td>1.682869e+15</td>\n",
       "      <td>0.025872</td>\n",
       "      <td>0.00001</td>\n",
       "      <td>0</td>\n",
       "      <td>2</td>\n",
       "    </tr>\n",
       "    <tr>\n",
       "      <th>4</th>\n",
       "      <td>0</td>\n",
       "      <td>3338016338</td>\n",
       "      <td>1.251213e+15</td>\n",
       "      <td>9.577636e+14</td>\n",
       "      <td>-0.281524</td>\n",
       "      <td>0.00001</td>\n",
       "      <td>0</td>\n",
       "      <td>2</td>\n",
       "    </tr>\n",
       "    <tr>\n",
       "      <th>...</th>\n",
       "      <th>...</th>\n",
       "      <td>...</td>\n",
       "      <td>...</td>\n",
       "      <td>...</td>\n",
       "      <td>...</td>\n",
       "      <td>...</td>\n",
       "      <td>...</td>\n",
       "      <td>...</td>\n",
       "      <td>...</td>\n",
       "    </tr>\n",
       "    <tr>\n",
       "      <th rowspan=\"2\" valign=\"top\">99998</th>\n",
       "      <th>1</th>\n",
       "      <td>0</td>\n",
       "      <td>856604741</td>\n",
       "      <td>1.240969e+15</td>\n",
       "      <td>4.678870e+14</td>\n",
       "      <td>0.228747</td>\n",
       "      <td>0.00001</td>\n",
       "      <td>0</td>\n",
       "      <td>1</td>\n",
       "    </tr>\n",
       "    <tr>\n",
       "      <th>2</th>\n",
       "      <td>1</td>\n",
       "      <td>856604741</td>\n",
       "      <td>2.246400e+15</td>\n",
       "      <td>4.678870e+14</td>\n",
       "      <td>0.843086</td>\n",
       "      <td>0.00001</td>\n",
       "      <td>19</td>\n",
       "      <td>-1</td>\n",
       "    </tr>\n",
       "    <tr>\n",
       "      <th rowspan=\"3\" valign=\"top\">99999</th>\n",
       "      <th>0</th>\n",
       "      <td>0</td>\n",
       "      <td>864415001</td>\n",
       "      <td>1.235520e+15</td>\n",
       "      <td>1.157530e+14</td>\n",
       "      <td>0.663583</td>\n",
       "      <td>0.00001</td>\n",
       "      <td>0</td>\n",
       "      <td>-1</td>\n",
       "    </tr>\n",
       "    <tr>\n",
       "      <th>1</th>\n",
       "      <td>0</td>\n",
       "      <td>864415001</td>\n",
       "      <td>1.382024e+15</td>\n",
       "      <td>1.159166e+14</td>\n",
       "      <td>0.776785</td>\n",
       "      <td>0.00001</td>\n",
       "      <td>2</td>\n",
       "      <td>1</td>\n",
       "    </tr>\n",
       "    <tr>\n",
       "      <th>2</th>\n",
       "      <td>1</td>\n",
       "      <td>864415001</td>\n",
       "      <td>2.246400e+15</td>\n",
       "      <td>1.159166e+14</td>\n",
       "      <td>0.921894</td>\n",
       "      <td>0.00001</td>\n",
       "      <td>19</td>\n",
       "      <td>-1</td>\n",
       "    </tr>\n",
       "  </tbody>\n",
       "</table>\n",
       "<p>367582 rows × 8 columns</p>\n",
       "</div>"
      ],
      "text/plain": [
       "            status        seed             r            nu        mu   energy  \\\n",
       "index step                                                                      \n",
       "0     0          0  3338016338  1.235520e+15  1.736667e+15  0.839765  0.00001   \n",
       "      1          0  3338016338  1.266619e+15  2.569677e+15 -0.608549  0.00001   \n",
       "      2          0  3338016338  1.247897e+15  1.684578e+15  0.052209  0.00001   \n",
       "      3          0  3338016338  1.247964e+15  1.682869e+15  0.025872  0.00001   \n",
       "      4          0  3338016338  1.251213e+15  9.577636e+14 -0.281524  0.00001   \n",
       "...            ...         ...           ...           ...       ...      ...   \n",
       "99998 1          0   856604741  1.240969e+15  4.678870e+14  0.228747  0.00001   \n",
       "      2          1   856604741  2.246400e+15  4.678870e+14  0.843086  0.00001   \n",
       "99999 0          0   864415001  1.235520e+15  1.157530e+14  0.663583  0.00001   \n",
       "      1          0   864415001  1.382024e+15  1.159166e+14  0.776785  0.00001   \n",
       "      2          1   864415001  2.246400e+15  1.159166e+14  0.921894  0.00001   \n",
       "\n",
       "            shell_id  interaction_type  \n",
       "index step                              \n",
       "0     0            0                -1  \n",
       "      1            0                 2  \n",
       "      2            0                 2  \n",
       "      3            0                 2  \n",
       "      4            0                 2  \n",
       "...              ...               ...  \n",
       "99998 1            0                 1  \n",
       "      2           19                -1  \n",
       "99999 0            0                -1  \n",
       "      1            2                 1  \n",
       "      2           19                -1  \n",
       "\n",
       "[367582 rows x 8 columns]"
      ]
     },
     "execution_count": 16,
     "metadata": {},
     "output_type": "execute_result"
    }
   ],
   "source": [
    "sim.transport.transport_state.rpacket_tracker_df"
   ]
  },
  {
   "attachments": {},
   "cell_type": "markdown",
   "id": "81f1d718",
   "metadata": {},
   "source": [
    "To access these different properties in the dataframe, we may consider the following examples for the `rpacket_tracker_df`:\n",
    "<br>In this Example, we are trying to access the properties of the packet at index `10`.<br>In a similar way, we can check for any property for any packet in the range of packets for the last iteration."
   ]
  },
  {
   "attachments": {},
   "cell_type": "markdown",
   "id": "eb8df3d9",
   "metadata": {},
   "source": [
    "#### Accessing all the properties for the packet with index = 10:"
   ]
  },
  {
   "cell_type": "code",
   "execution_count": 17,
   "id": "612c8234",
   "metadata": {
    "execution": {
     "iopub.execute_input": "2024-12-10T08:16:06.665582Z",
     "iopub.status.busy": "2024-12-10T08:16:06.665329Z",
     "iopub.status.idle": "2024-12-10T08:16:06.674282Z",
     "shell.execute_reply": "2024-12-10T08:16:06.673832Z"
    }
   },
   "outputs": [
    {
     "data": {
      "text/html": [
       "<div>\n",
       "<style scoped>\n",
       "    .dataframe tbody tr th:only-of-type {\n",
       "        vertical-align: middle;\n",
       "    }\n",
       "\n",
       "    .dataframe tbody tr th {\n",
       "        vertical-align: top;\n",
       "    }\n",
       "\n",
       "    .dataframe thead th {\n",
       "        text-align: right;\n",
       "    }\n",
       "</style>\n",
       "<table border=\"1\" class=\"dataframe\">\n",
       "  <thead>\n",
       "    <tr style=\"text-align: right;\">\n",
       "      <th></th>\n",
       "      <th>status</th>\n",
       "      <th>seed</th>\n",
       "      <th>r</th>\n",
       "      <th>nu</th>\n",
       "      <th>mu</th>\n",
       "      <th>energy</th>\n",
       "      <th>shell_id</th>\n",
       "      <th>interaction_type</th>\n",
       "    </tr>\n",
       "    <tr>\n",
       "      <th>step</th>\n",
       "      <th></th>\n",
       "      <th></th>\n",
       "      <th></th>\n",
       "      <th></th>\n",
       "      <th></th>\n",
       "      <th></th>\n",
       "      <th></th>\n",
       "      <th></th>\n",
       "    </tr>\n",
       "  </thead>\n",
       "  <tbody>\n",
       "    <tr>\n",
       "      <th>0</th>\n",
       "      <td>0</td>\n",
       "      <td>2729103521</td>\n",
       "      <td>1.235520e+15</td>\n",
       "      <td>2.100658e+15</td>\n",
       "      <td>0.587433</td>\n",
       "      <td>0.000010</td>\n",
       "      <td>0</td>\n",
       "      <td>-1</td>\n",
       "    </tr>\n",
       "    <tr>\n",
       "      <th>1</th>\n",
       "      <td>0</td>\n",
       "      <td>2729103521</td>\n",
       "      <td>1.514558e+15</td>\n",
       "      <td>1.967123e+15</td>\n",
       "      <td>-0.707127</td>\n",
       "      <td>0.000010</td>\n",
       "      <td>5</td>\n",
       "      <td>1</td>\n",
       "    </tr>\n",
       "    <tr>\n",
       "      <th>2</th>\n",
       "      <td>0</td>\n",
       "      <td>2729103521</td>\n",
       "      <td>1.385815e+15</td>\n",
       "      <td>2.093346e+15</td>\n",
       "      <td>0.868696</td>\n",
       "      <td>0.000010</td>\n",
       "      <td>2</td>\n",
       "      <td>2</td>\n",
       "    </tr>\n",
       "    <tr>\n",
       "      <th>3</th>\n",
       "      <td>0</td>\n",
       "      <td>2729103521</td>\n",
       "      <td>1.708055e+15</td>\n",
       "      <td>2.754732e+15</td>\n",
       "      <td>0.357089</td>\n",
       "      <td>0.000010</td>\n",
       "      <td>9</td>\n",
       "      <td>2</td>\n",
       "    </tr>\n",
       "    <tr>\n",
       "      <th>4</th>\n",
       "      <td>0</td>\n",
       "      <td>2729103521</td>\n",
       "      <td>1.725444e+15</td>\n",
       "      <td>3.040716e+15</td>\n",
       "      <td>0.224209</td>\n",
       "      <td>0.000010</td>\n",
       "      <td>9</td>\n",
       "      <td>2</td>\n",
       "    </tr>\n",
       "    <tr>\n",
       "      <th>5</th>\n",
       "      <td>0</td>\n",
       "      <td>2729103521</td>\n",
       "      <td>1.751445e+15</td>\n",
       "      <td>1.680371e+15</td>\n",
       "      <td>0.226400</td>\n",
       "      <td>0.000010</td>\n",
       "      <td>10</td>\n",
       "      <td>2</td>\n",
       "    </tr>\n",
       "    <tr>\n",
       "      <th>6</th>\n",
       "      <td>0</td>\n",
       "      <td>2729103521</td>\n",
       "      <td>2.012914e+15</td>\n",
       "      <td>1.175267e+15</td>\n",
       "      <td>-0.054379</td>\n",
       "      <td>0.000009</td>\n",
       "      <td>15</td>\n",
       "      <td>2</td>\n",
       "    </tr>\n",
       "    <tr>\n",
       "      <th>7</th>\n",
       "      <td>1</td>\n",
       "      <td>2729103521</td>\n",
       "      <td>2.246400e+15</td>\n",
       "      <td>1.175267e+15</td>\n",
       "      <td>0.446595</td>\n",
       "      <td>0.000009</td>\n",
       "      <td>19</td>\n",
       "      <td>-1</td>\n",
       "    </tr>\n",
       "  </tbody>\n",
       "</table>\n",
       "</div>"
      ],
      "text/plain": [
       "      status        seed             r            nu        mu    energy  \\\n",
       "step                                                                       \n",
       "0          0  2729103521  1.235520e+15  2.100658e+15  0.587433  0.000010   \n",
       "1          0  2729103521  1.514558e+15  1.967123e+15 -0.707127  0.000010   \n",
       "2          0  2729103521  1.385815e+15  2.093346e+15  0.868696  0.000010   \n",
       "3          0  2729103521  1.708055e+15  2.754732e+15  0.357089  0.000010   \n",
       "4          0  2729103521  1.725444e+15  3.040716e+15  0.224209  0.000010   \n",
       "5          0  2729103521  1.751445e+15  1.680371e+15  0.226400  0.000010   \n",
       "6          0  2729103521  2.012914e+15  1.175267e+15 -0.054379  0.000009   \n",
       "7          1  2729103521  2.246400e+15  1.175267e+15  0.446595  0.000009   \n",
       "\n",
       "      shell_id  interaction_type  \n",
       "step                              \n",
       "0            0                -1  \n",
       "1            5                 1  \n",
       "2            2                 2  \n",
       "3            9                 2  \n",
       "4            9                 2  \n",
       "5           10                 2  \n",
       "6           15                 2  \n",
       "7           19                -1  "
      ]
     },
     "execution_count": 17,
     "metadata": {},
     "output_type": "execute_result"
    }
   ],
   "source": [
    "sim.transport.transport_state.rpacket_tracker_df.loc[10]"
   ]
  },
  {
   "attachments": {},
   "cell_type": "markdown",
   "id": "75d86f95",
   "metadata": {},
   "source": [
    "#### Accessing the `energy` property for the packet with index = 10:\n"
   ]
  },
  {
   "cell_type": "code",
   "execution_count": 18,
   "id": "2c84adb1",
   "metadata": {
    "execution": {
     "iopub.execute_input": "2024-12-10T08:16:06.675766Z",
     "iopub.status.busy": "2024-12-10T08:16:06.675468Z",
     "iopub.status.idle": "2024-12-10T08:16:06.679514Z",
     "shell.execute_reply": "2024-12-10T08:16:06.679053Z"
    }
   },
   "outputs": [
    {
     "data": {
      "text/plain": [
       "step\n",
       "0    0.000010\n",
       "1    0.000010\n",
       "2    0.000010\n",
       "3    0.000010\n",
       "4    0.000010\n",
       "5    0.000010\n",
       "6    0.000009\n",
       "7    0.000009\n",
       "Name: energy, dtype: float64"
      ]
     },
     "execution_count": 18,
     "metadata": {},
     "output_type": "execute_result"
    }
   ],
   "source": [
    "sim.transport.transport_state.rpacket_tracker_df.loc[10][\"energy\"]"
   ]
  },
  {
   "attachments": {},
   "cell_type": "markdown",
   "id": "1beffb1f",
   "metadata": {},
   "source": [
    "The above command returns a Pandas Series for the packet `#10` across different steps. To access any property at a particular step (for example at step `5`), the following commands can be used."
   ]
  },
  {
   "cell_type": "code",
   "execution_count": 19,
   "id": "1d7f0bb4",
   "metadata": {
    "execution": {
     "iopub.execute_input": "2024-12-10T08:16:06.681018Z",
     "iopub.status.busy": "2024-12-10T08:16:06.680721Z",
     "iopub.status.idle": "2024-12-10T08:16:06.693477Z",
     "shell.execute_reply": "2024-12-10T08:16:06.693007Z"
    }
   },
   "outputs": [
    {
     "data": {
      "text/plain": [
       "np.float64(9.782973132999937e-06)"
      ]
     },
     "execution_count": 19,
     "metadata": {},
     "output_type": "execute_result"
    }
   ],
   "source": [
    "sim.transport.transport_state.rpacket_tracker_df.loc[10,5][\"energy\"]"
   ]
  },
  {
   "cell_type": "code",
   "execution_count": 20,
   "id": "1cf17109",
   "metadata": {
    "execution": {
     "iopub.execute_input": "2024-12-10T08:16:06.695201Z",
     "iopub.status.busy": "2024-12-10T08:16:06.694808Z",
     "iopub.status.idle": "2024-12-10T08:16:06.698748Z",
     "shell.execute_reply": "2024-12-10T08:16:06.698270Z"
    }
   },
   "outputs": [
    {
     "data": {
      "text/plain": [
       "np.float64(9.782973132999937e-06)"
      ]
     },
     "execution_count": 20,
     "metadata": {},
     "output_type": "execute_result"
    }
   ],
   "source": [
    "sim.transport.transport_state.rpacket_tracker_df.loc[10][\"energy\"][5]"
   ]
  },
  {
   "attachments": {},
   "cell_type": "markdown",
   "id": "6921f480",
   "metadata": {},
   "source": [
    "Thus, all other properties (`status`, `seed`, `r`, `nu`, `mu`, `shell_id`,`interaction_type`) can be accessed accordingly."
   ]
  }
 ],
 "metadata": {
  "kernelspec": {
   "display_name": "Python 3 (ipykernel)",
   "language": "python",
   "name": "python3"
  },
  "language_info": {
   "codemirror_mode": {
    "name": "ipython",
    "version": 3
   },
   "file_extension": ".py",
   "mimetype": "text/x-python",
   "name": "python",
   "nbconvert_exporter": "python",
   "pygments_lexer": "ipython3",
   "version": "3.12.7"
  },
  "vscode": {
   "interpreter": {
    "hash": "6890d83cfa6c65bebc4bd449872c06a268510d8b8ae8c923ce6786e6c4796836"
   }
  },
  "widgets": {
   "application/vnd.jupyter.widget-state+json": {
    "state": {
     "01d5e1ab8a3340a99b965075984caff1": {
      "model_module": "@jupyter-widgets/base",
      "model_module_version": "2.0.0",
      "model_name": "LayoutModel",
      "state": {
       "_model_module": "@jupyter-widgets/base",
       "_model_module_version": "2.0.0",
       "_model_name": "LayoutModel",
       "_view_count": null,
       "_view_module": "@jupyter-widgets/base",
       "_view_module_version": "2.0.0",
       "_view_name": "LayoutView",
       "align_content": null,
       "align_items": null,
       "align_self": null,
       "border_bottom": null,
       "border_left": null,
       "border_right": null,
       "border_top": null,
       "bottom": null,
       "display": null,
       "flex": null,
       "flex_flow": null,
       "grid_area": null,
       "grid_auto_columns": null,
       "grid_auto_flow": null,
       "grid_auto_rows": null,
       "grid_column": null,
       "grid_gap": null,
       "grid_row": null,
       "grid_template_areas": null,
       "grid_template_columns": null,
       "grid_template_rows": null,
       "height": null,
       "justify_content": null,
       "justify_items": null,
       "left": null,
       "margin": null,
       "max_height": null,
       "max_width": null,
       "min_height": null,
       "min_width": null,
       "object_fit": null,
       "object_position": null,
       "order": null,
       "overflow": null,
       "padding": null,
       "right": null,
       "top": null,
       "visibility": null,
       "width": "20px"
      }
     },
     "079f708b295d41bbb97e4700f71c5e31": {
      "model_module": "@jupyter-widgets/controls",
      "model_module_version": "2.0.0",
      "model_name": "FloatProgressModel",
      "state": {
       "_dom_classes": [],
       "_model_module": "@jupyter-widgets/controls",
       "_model_module_version": "2.0.0",
       "_model_name": "FloatProgressModel",
       "_view_count": null,
       "_view_module": "@jupyter-widgets/controls",
       "_view_module_version": "2.0.0",
       "_view_name": "ProgressView",
       "bar_style": "info",
       "description": "",
       "description_allow_html": false,
       "layout": "IPY_MODEL_bd45f2c3de1f4eb8b5a5ad8917af65df",
       "max": 1.0,
       "min": 0.0,
       "orientation": "horizontal",
       "style": "IPY_MODEL_ce0d858c48d44dca8ded1d7379ff1659",
       "tabbable": null,
       "tooltip": null,
       "value": 0.0
      }
     },
     "0f498382cda14d5ebac1357ccb577019": {
      "model_module": "@jupyter-widgets/base",
      "model_module_version": "2.0.0",
      "model_name": "LayoutModel",
      "state": {
       "_model_module": "@jupyter-widgets/base",
       "_model_module_version": "2.0.0",
       "_model_name": "LayoutModel",
       "_view_count": null,
       "_view_module": "@jupyter-widgets/base",
       "_view_module_version": "2.0.0",
       "_view_name": "LayoutView",
       "align_content": null,
       "align_items": null,
       "align_self": null,
       "border_bottom": null,
       "border_left": null,
       "border_right": null,
       "border_top": null,
       "bottom": null,
       "display": null,
       "flex": null,
       "flex_flow": null,
       "grid_area": null,
       "grid_auto_columns": null,
       "grid_auto_flow": null,
       "grid_auto_rows": null,
       "grid_column": null,
       "grid_gap": null,
       "grid_row": null,
       "grid_template_areas": null,
       "grid_template_columns": null,
       "grid_template_rows": null,
       "height": null,
       "justify_content": null,
       "justify_items": null,
       "left": null,
       "margin": null,
       "max_height": null,
       "max_width": null,
       "min_height": null,
       "min_width": null,
       "object_fit": null,
       "object_position": null,
       "order": null,
       "overflow": null,
       "padding": null,
       "right": null,
       "top": null,
       "visibility": null,
       "width": null
      }
     },
     "128cb1728e174b6995ba37b86697b065": {
      "model_module": "@jupyter-widgets/base",
      "model_module_version": "2.0.0",
      "model_name": "LayoutModel",
      "state": {
       "_model_module": "@jupyter-widgets/base",
       "_model_module_version": "2.0.0",
       "_model_name": "LayoutModel",
       "_view_count": null,
       "_view_module": "@jupyter-widgets/base",
       "_view_module_version": "2.0.0",
       "_view_name": "LayoutView",
       "align_content": null,
       "align_items": null,
       "align_self": null,
       "border_bottom": null,
       "border_left": null,
       "border_right": null,
       "border_top": null,
       "bottom": null,
       "display": null,
       "flex": null,
       "flex_flow": null,
       "grid_area": null,
       "grid_auto_columns": null,
       "grid_auto_flow": null,
       "grid_auto_rows": null,
       "grid_column": null,
       "grid_gap": null,
       "grid_row": null,
       "grid_template_areas": null,
       "grid_template_columns": null,
       "grid_template_rows": null,
       "height": null,
       "justify_content": null,
       "justify_items": null,
       "left": null,
       "margin": null,
       "max_height": null,
       "max_width": null,
       "min_height": null,
       "min_width": null,
       "object_fit": null,
       "object_position": null,
       "order": null,
       "overflow": null,
       "padding": null,
       "right": null,
       "top": null,
       "visibility": null,
       "width": null
      }
     },
     "2287f0f562bd48ee8fcf715077014c4d": {
      "model_module": "@jupyter-widgets/output",
      "model_module_version": "1.0.0",
      "model_name": "OutputModel",
      "state": {
       "_dom_classes": [],
       "_model_module": "@jupyter-widgets/output",
       "_model_module_version": "1.0.0",
       "_model_name": "OutputModel",
       "_view_count": null,
       "_view_module": "@jupyter-widgets/output",
       "_view_module_version": "1.0.0",
       "_view_name": "OutputView",
       "layout": "IPY_MODEL_6c8ed2d78a0f4f9ea638e51812ee59ae",
       "msg_id": "",
       "outputs": [],
       "tabbable": null,
       "tooltip": null
      }
     },
     "25b4511486804250ae92a0ebdbf62e1e": {
      "model_module": "@jupyter-widgets/controls",
      "model_module_version": "2.0.0",
      "model_name": "HTMLStyleModel",
      "state": {
       "_model_module": "@jupyter-widgets/controls",
       "_model_module_version": "2.0.0",
       "_model_name": "HTMLStyleModel",
       "_view_count": null,
       "_view_module": "@jupyter-widgets/base",
       "_view_module_version": "2.0.0",
       "_view_name": "StyleView",
       "background": null,
       "description_width": "",
       "font_size": null,
       "text_color": null
      }
     },
     "38d4ef3c9f9e42418dfb8e6a31c5f5c0": {
      "model_module": "@jupyter-widgets/controls",
      "model_module_version": "2.0.0",
      "model_name": "ProgressStyleModel",
      "state": {
       "_model_module": "@jupyter-widgets/controls",
       "_model_module_version": "2.0.0",
       "_model_name": "ProgressStyleModel",
       "_view_count": null,
       "_view_module": "@jupyter-widgets/base",
       "_view_module_version": "2.0.0",
       "_view_name": "StyleView",
       "bar_color": null,
       "description_width": ""
      }
     },
     "43d532284151473eafc0145bc5b85c3d": {
      "model_module": "@jupyter-widgets/controls",
      "model_module_version": "2.0.0",
      "model_name": "HTMLStyleModel",
      "state": {
       "_model_module": "@jupyter-widgets/controls",
       "_model_module_version": "2.0.0",
       "_model_name": "HTMLStyleModel",
       "_view_count": null,
       "_view_module": "@jupyter-widgets/base",
       "_view_module_version": "2.0.0",
       "_view_name": "StyleView",
       "background": null,
       "description_width": "",
       "font_size": null,
       "text_color": null
      }
     },
     "4535018479e447d29ef260b06d942a69": {
      "model_module": "@jupyter-widgets/base",
      "model_module_version": "2.0.0",
      "model_name": "LayoutModel",
      "state": {
       "_model_module": "@jupyter-widgets/base",
       "_model_module_version": "2.0.0",
       "_model_name": "LayoutModel",
       "_view_count": null,
       "_view_module": "@jupyter-widgets/base",
       "_view_module_version": "2.0.0",
       "_view_name": "LayoutView",
       "align_content": null,
       "align_items": null,
       "align_self": null,
       "border_bottom": null,
       "border_left": null,
       "border_right": null,
       "border_top": null,
       "bottom": null,
       "display": null,
       "flex": null,
       "flex_flow": null,
       "grid_area": null,
       "grid_auto_columns": null,
       "grid_auto_flow": null,
       "grid_auto_rows": null,
       "grid_column": null,
       "grid_gap": null,
       "grid_row": null,
       "grid_template_areas": null,
       "grid_template_columns": null,
       "grid_template_rows": null,
       "height": null,
       "justify_content": null,
       "justify_items": null,
       "left": null,
       "margin": null,
       "max_height": null,
       "max_width": null,
       "min_height": null,
       "min_width": null,
       "object_fit": null,
       "object_position": null,
       "order": null,
       "overflow": null,
       "padding": null,
       "right": null,
       "top": null,
       "visibility": null,
       "width": null
      }
     },
     "4a9b17836b6a4723a41b8f33029c1f39": {
      "model_module": "@jupyter-widgets/output",
      "model_module_version": "1.0.0",
      "model_name": "OutputModel",
      "state": {
       "_dom_classes": [],
       "_model_module": "@jupyter-widgets/output",
       "_model_module_version": "1.0.0",
       "_model_name": "OutputModel",
       "_view_count": null,
       "_view_module": "@jupyter-widgets/output",
       "_view_module_version": "1.0.0",
       "_view_name": "OutputView",
       "layout": "IPY_MODEL_128cb1728e174b6995ba37b86697b065",
       "msg_id": "",
       "outputs": [],
       "tabbable": null,
       "tooltip": null
      }
     },
     "4c18beaff2b240e79c3cf09494bddcb8": {
      "model_module": "@jupyter-widgets/controls",
      "model_module_version": "2.0.0",
      "model_name": "HTMLModel",
      "state": {
       "_dom_classes": [],
       "_model_module": "@jupyter-widgets/controls",
       "_model_module_version": "2.0.0",
       "_model_name": "HTMLModel",
       "_view_count": null,
       "_view_module": "@jupyter-widgets/controls",
       "_view_module_version": "2.0.0",
       "_view_name": "HTMLView",
       "description": "",
       "description_allow_html": false,
       "layout": "IPY_MODEL_e5953c7810c048c2b211d4f2c9ae4f56",
       "placeholder": "​",
       "style": "IPY_MODEL_25b4511486804250ae92a0ebdbf62e1e",
       "tabbable": null,
       "tooltip": null,
       "value": "Iterations:"
      }
     },
     "555c7458488b4b9291571f7cd762d0ed": {
      "model_module": "@jupyter-widgets/base",
      "model_module_version": "2.0.0",
      "model_name": "LayoutModel",
      "state": {
       "_model_module": "@jupyter-widgets/base",
       "_model_module_version": "2.0.0",
       "_model_name": "LayoutModel",
       "_view_count": null,
       "_view_module": "@jupyter-widgets/base",
       "_view_module_version": "2.0.0",
       "_view_name": "LayoutView",
       "align_content": null,
       "align_items": null,
       "align_self": null,
       "border_bottom": null,
       "border_left": null,
       "border_right": null,
       "border_top": null,
       "bottom": null,
       "display": null,
       "flex": null,
       "flex_flow": null,
       "grid_area": null,
       "grid_auto_columns": null,
       "grid_auto_flow": null,
       "grid_auto_rows": null,
       "grid_column": null,
       "grid_gap": null,
       "grid_row": null,
       "grid_template_areas": null,
       "grid_template_columns": null,
       "grid_template_rows": null,
       "height": null,
       "justify_content": null,
       "justify_items": null,
       "left": null,
       "margin": null,
       "max_height": null,
       "max_width": null,
       "min_height": null,
       "min_width": null,
       "object_fit": null,
       "object_position": null,
       "order": null,
       "overflow": null,
       "padding": null,
       "right": null,
       "top": null,
       "visibility": null,
       "width": null
      }
     },
     "658843daec1b42438891e6210a349991": {
      "model_module": "@jupyter-widgets/controls",
      "model_module_version": "2.0.0",
      "model_name": "HTMLStyleModel",
      "state": {
       "_model_module": "@jupyter-widgets/controls",
       "_model_module_version": "2.0.0",
       "_model_name": "HTMLStyleModel",
       "_view_count": null,
       "_view_module": "@jupyter-widgets/base",
       "_view_module_version": "2.0.0",
       "_view_name": "StyleView",
       "background": null,
       "description_width": "",
       "font_size": null,
       "text_color": null
      }
     },
     "6a85d90cea2149ef8da4331189ee9def": {
      "model_module": "@jupyter-widgets/controls",
      "model_module_version": "2.0.0",
      "model_name": "HTMLModel",
      "state": {
       "_dom_classes": [],
       "_model_module": "@jupyter-widgets/controls",
       "_model_module_version": "2.0.0",
       "_model_name": "HTMLModel",
       "_view_count": null,
       "_view_module": "@jupyter-widgets/controls",
       "_view_module_version": "2.0.0",
       "_view_name": "HTMLView",
       "description": "",
       "description_allow_html": false,
       "layout": "IPY_MODEL_555c7458488b4b9291571f7cd762d0ed",
       "placeholder": "​",
       "style": "IPY_MODEL_43d532284151473eafc0145bc5b85c3d",
       "tabbable": null,
       "tooltip": null,
       "value": "Packets:   "
      }
     },
     "6c8ed2d78a0f4f9ea638e51812ee59ae": {
      "model_module": "@jupyter-widgets/base",
      "model_module_version": "2.0.0",
      "model_name": "LayoutModel",
      "state": {
       "_model_module": "@jupyter-widgets/base",
       "_model_module_version": "2.0.0",
       "_model_name": "LayoutModel",
       "_view_count": null,
       "_view_module": "@jupyter-widgets/base",
       "_view_module_version": "2.0.0",
       "_view_name": "LayoutView",
       "align_content": null,
       "align_items": null,
       "align_self": null,
       "border_bottom": null,
       "border_left": null,
       "border_right": null,
       "border_top": null,
       "bottom": null,
       "display": null,
       "flex": null,
       "flex_flow": null,
       "grid_area": null,
       "grid_auto_columns": null,
       "grid_auto_flow": null,
       "grid_auto_rows": null,
       "grid_column": null,
       "grid_gap": null,
       "grid_row": null,
       "grid_template_areas": null,
       "grid_template_columns": null,
       "grid_template_rows": null,
       "height": null,
       "justify_content": null,
       "justify_items": null,
       "left": null,
       "margin": null,
       "max_height": null,
       "max_width": null,
       "min_height": null,
       "min_width": null,
       "object_fit": null,
       "object_position": null,
       "order": null,
       "overflow": null,
       "padding": null,
       "right": null,
       "top": null,
       "visibility": null,
       "width": null
      }
     },
     "79d556fd0e2d4711bdcbe72872ec010a": {
      "model_module": "@jupyter-widgets/controls",
      "model_module_version": "2.0.0",
      "model_name": "HTMLModel",
      "state": {
       "_dom_classes": [],
       "_model_module": "@jupyter-widgets/controls",
       "_model_module_version": "2.0.0",
       "_model_name": "HTMLModel",
       "_view_count": null,
       "_view_module": "@jupyter-widgets/controls",
       "_view_module_version": "2.0.0",
       "_view_name": "HTMLView",
       "description": "",
       "description_allow_html": false,
       "layout": "IPY_MODEL_4535018479e447d29ef260b06d942a69",
       "placeholder": "​",
       "style": "IPY_MODEL_658843daec1b42438891e6210a349991",
       "tabbable": null,
       "tooltip": null,
       "value": "0/? [03:25&lt;?, ?it/s]"
      }
     },
     "8222aec9a36443cebac5e76696ab9020": {
      "model_module": "@jupyter-widgets/controls",
      "model_module_version": "2.0.0",
      "model_name": "HBoxModel",
      "state": {
       "_dom_classes": [],
       "_model_module": "@jupyter-widgets/controls",
       "_model_module_version": "2.0.0",
       "_model_name": "HBoxModel",
       "_view_count": null,
       "_view_module": "@jupyter-widgets/controls",
       "_view_module_version": "2.0.0",
       "_view_name": "HBoxView",
       "box_style": "",
       "children": [
        "IPY_MODEL_4c18beaff2b240e79c3cf09494bddcb8",
        "IPY_MODEL_c3b06298e2824e4f81de4b020eab8ebc",
        "IPY_MODEL_8fc8c3e0c329444c9229e669e5a98a58"
       ],
       "layout": "IPY_MODEL_95df0bdc03c24022a230c7dcee2745e9",
       "tabbable": null,
       "tooltip": null
      }
     },
     "8fc8c3e0c329444c9229e669e5a98a58": {
      "model_module": "@jupyter-widgets/controls",
      "model_module_version": "2.0.0",
      "model_name": "HTMLModel",
      "state": {
       "_dom_classes": [],
       "_model_module": "@jupyter-widgets/controls",
       "_model_module_version": "2.0.0",
       "_model_name": "HTMLModel",
       "_view_count": null,
       "_view_module": "@jupyter-widgets/controls",
       "_view_module_version": "2.0.0",
       "_view_name": "HTMLView",
       "description": "",
       "description_allow_html": false,
       "layout": "IPY_MODEL_0f498382cda14d5ebac1357ccb577019",
       "placeholder": "​",
       "style": "IPY_MODEL_a3fdc0df90b5495ea9098f8a53742e29",
       "tabbable": null,
       "tooltip": null,
       "value": "20/? [03:25&lt;00:00, 17.11s/it]"
      }
     },
     "95df0bdc03c24022a230c7dcee2745e9": {
      "model_module": "@jupyter-widgets/base",
      "model_module_version": "2.0.0",
      "model_name": "LayoutModel",
      "state": {
       "_model_module": "@jupyter-widgets/base",
       "_model_module_version": "2.0.0",
       "_model_name": "LayoutModel",
       "_view_count": null,
       "_view_module": "@jupyter-widgets/base",
       "_view_module_version": "2.0.0",
       "_view_name": "LayoutView",
       "align_content": null,
       "align_items": null,
       "align_self": null,
       "border_bottom": null,
       "border_left": null,
       "border_right": null,
       "border_top": null,
       "bottom": null,
       "display": null,
       "flex": null,
       "flex_flow": null,
       "grid_area": null,
       "grid_auto_columns": null,
       "grid_auto_flow": null,
       "grid_auto_rows": null,
       "grid_column": null,
       "grid_gap": null,
       "grid_row": null,
       "grid_template_areas": null,
       "grid_template_columns": null,
       "grid_template_rows": null,
       "height": null,
       "justify_content": null,
       "justify_items": null,
       "left": null,
       "margin": null,
       "max_height": null,
       "max_width": null,
       "min_height": null,
       "min_width": null,
       "object_fit": null,
       "object_position": null,
       "order": null,
       "overflow": null,
       "padding": null,
       "right": null,
       "top": null,
       "visibility": null,
       "width": null
      }
     },
     "a3fdc0df90b5495ea9098f8a53742e29": {
      "model_module": "@jupyter-widgets/controls",
      "model_module_version": "2.0.0",
      "model_name": "HTMLStyleModel",
      "state": {
       "_model_module": "@jupyter-widgets/controls",
       "_model_module_version": "2.0.0",
       "_model_name": "HTMLStyleModel",
       "_view_count": null,
       "_view_module": "@jupyter-widgets/base",
       "_view_module_version": "2.0.0",
       "_view_name": "StyleView",
       "background": null,
       "description_width": "",
       "font_size": null,
       "text_color": null
      }
     },
     "bd45f2c3de1f4eb8b5a5ad8917af65df": {
      "model_module": "@jupyter-widgets/base",
      "model_module_version": "2.0.0",
      "model_name": "LayoutModel",
      "state": {
       "_model_module": "@jupyter-widgets/base",
       "_model_module_version": "2.0.0",
       "_model_name": "LayoutModel",
       "_view_count": null,
       "_view_module": "@jupyter-widgets/base",
       "_view_module_version": "2.0.0",
       "_view_name": "LayoutView",
       "align_content": null,
       "align_items": null,
       "align_self": null,
       "border_bottom": null,
       "border_left": null,
       "border_right": null,
       "border_top": null,
       "bottom": null,
       "display": null,
       "flex": null,
       "flex_flow": null,
       "grid_area": null,
       "grid_auto_columns": null,
       "grid_auto_flow": null,
       "grid_auto_rows": null,
       "grid_column": null,
       "grid_gap": null,
       "grid_row": null,
       "grid_template_areas": null,
       "grid_template_columns": null,
       "grid_template_rows": null,
       "height": null,
       "justify_content": null,
       "justify_items": null,
       "left": null,
       "margin": null,
       "max_height": null,
       "max_width": null,
       "min_height": null,
       "min_width": null,
       "object_fit": null,
       "object_position": null,
       "order": null,
       "overflow": null,
       "padding": null,
       "right": null,
       "top": null,
       "visibility": null,
       "width": "20px"
      }
     },
     "c3b06298e2824e4f81de4b020eab8ebc": {
      "model_module": "@jupyter-widgets/controls",
      "model_module_version": "2.0.0",
      "model_name": "FloatProgressModel",
      "state": {
       "_dom_classes": [],
       "_model_module": "@jupyter-widgets/controls",
       "_model_module_version": "2.0.0",
       "_model_name": "FloatProgressModel",
       "_view_count": null,
       "_view_module": "@jupyter-widgets/controls",
       "_view_module_version": "2.0.0",
       "_view_name": "ProgressView",
       "bar_style": "info",
       "description": "",
       "description_allow_html": false,
       "layout": "IPY_MODEL_01d5e1ab8a3340a99b965075984caff1",
       "max": 1.0,
       "min": 0.0,
       "orientation": "horizontal",
       "style": "IPY_MODEL_38d4ef3c9f9e42418dfb8e6a31c5f5c0",
       "tabbable": null,
       "tooltip": null,
       "value": 1.0
      }
     },
     "c8dbffd332794cea9a1aeda677abcd7e": {
      "model_module": "@jupyter-widgets/base",
      "model_module_version": "2.0.0",
      "model_name": "LayoutModel",
      "state": {
       "_model_module": "@jupyter-widgets/base",
       "_model_module_version": "2.0.0",
       "_model_name": "LayoutModel",
       "_view_count": null,
       "_view_module": "@jupyter-widgets/base",
       "_view_module_version": "2.0.0",
       "_view_name": "LayoutView",
       "align_content": null,
       "align_items": null,
       "align_self": null,
       "border_bottom": null,
       "border_left": null,
       "border_right": null,
       "border_top": null,
       "bottom": null,
       "display": null,
       "flex": null,
       "flex_flow": null,
       "grid_area": null,
       "grid_auto_columns": null,
       "grid_auto_flow": null,
       "grid_auto_rows": null,
       "grid_column": null,
       "grid_gap": null,
       "grid_row": null,
       "grid_template_areas": null,
       "grid_template_columns": null,
       "grid_template_rows": null,
       "height": null,
       "justify_content": null,
       "justify_items": null,
       "left": null,
       "margin": null,
       "max_height": null,
       "max_width": null,
       "min_height": null,
       "min_width": null,
       "object_fit": null,
       "object_position": null,
       "order": null,
       "overflow": null,
       "padding": null,
       "right": null,
       "top": null,
       "visibility": null,
       "width": null
      }
     },
     "cbcc23f794af4c34acf3113baee9f959": {
      "model_module": "@jupyter-widgets/controls",
      "model_module_version": "2.0.0",
      "model_name": "HBoxModel",
      "state": {
       "_dom_classes": [],
       "_model_module": "@jupyter-widgets/controls",
       "_model_module_version": "2.0.0",
       "_model_name": "HBoxModel",
       "_view_count": null,
       "_view_module": "@jupyter-widgets/controls",
       "_view_module_version": "2.0.0",
       "_view_name": "HBoxView",
       "box_style": "",
       "children": [
        "IPY_MODEL_6a85d90cea2149ef8da4331189ee9def",
        "IPY_MODEL_079f708b295d41bbb97e4700f71c5e31",
        "IPY_MODEL_79d556fd0e2d4711bdcbe72872ec010a"
       ],
       "layout": "IPY_MODEL_c8dbffd332794cea9a1aeda677abcd7e",
       "tabbable": null,
       "tooltip": null
      }
     },
     "ce0d858c48d44dca8ded1d7379ff1659": {
      "model_module": "@jupyter-widgets/controls",
      "model_module_version": "2.0.0",
      "model_name": "ProgressStyleModel",
      "state": {
       "_model_module": "@jupyter-widgets/controls",
       "_model_module_version": "2.0.0",
       "_model_name": "ProgressStyleModel",
       "_view_count": null,
       "_view_module": "@jupyter-widgets/base",
       "_view_module_version": "2.0.0",
       "_view_name": "StyleView",
       "bar_color": null,
       "description_width": ""
      }
     },
     "e5953c7810c048c2b211d4f2c9ae4f56": {
      "model_module": "@jupyter-widgets/base",
      "model_module_version": "2.0.0",
      "model_name": "LayoutModel",
      "state": {
       "_model_module": "@jupyter-widgets/base",
       "_model_module_version": "2.0.0",
       "_model_name": "LayoutModel",
       "_view_count": null,
       "_view_module": "@jupyter-widgets/base",
       "_view_module_version": "2.0.0",
       "_view_name": "LayoutView",
       "align_content": null,
       "align_items": null,
       "align_self": null,
       "border_bottom": null,
       "border_left": null,
       "border_right": null,
       "border_top": null,
       "bottom": null,
       "display": null,
       "flex": null,
       "flex_flow": null,
       "grid_area": null,
       "grid_auto_columns": null,
       "grid_auto_flow": null,
       "grid_auto_rows": null,
       "grid_column": null,
       "grid_gap": null,
       "grid_row": null,
       "grid_template_areas": null,
       "grid_template_columns": null,
       "grid_template_rows": null,
       "height": null,
       "justify_content": null,
       "justify_items": null,
       "left": null,
       "margin": null,
       "max_height": null,
       "max_width": null,
       "min_height": null,
       "min_width": null,
       "object_fit": null,
       "object_position": null,
       "order": null,
       "overflow": null,
       "padding": null,
       "right": null,
       "top": null,
       "visibility": null,
       "width": null
      }
     }
    },
    "version_major": 2,
    "version_minor": 0
   }
  }
 },
 "nbformat": 4,
 "nbformat_minor": 5
}
