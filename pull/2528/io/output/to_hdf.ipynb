{
 "cells": [
  {
   "attachments": {},
   "cell_type": "markdown",
   "metadata": {
    "raw_mimetype": "text/restructuredtext"
   },
   "source": [
    "# Storing Simulations to HDF\n",
    "\n",
    "You can ask TARDIS to store the state of each iteration of the simulation you are running. We show examples of how this is done:"
   ]
  },
  {
   "attachments": {},
   "cell_type": "markdown",
   "metadata": {},
   "source": [
    "Initialize the simulation with the `tardis_example.yml` configuration file."
   ]
  },
  {
   "cell_type": "code",
   "execution_count": 1,
   "metadata": {
    "execution": {
     "iopub.execute_input": "2024-04-07T01:51:23.724001Z",
     "iopub.status.busy": "2024-04-07T01:51:23.723834Z",
     "iopub.status.idle": "2024-04-07T01:52:24.642563Z",
     "shell.execute_reply": "2024-04-07T01:52:24.642064Z"
    }
   },
   "outputs": [
    {
     "name": "stderr",
     "output_type": "stream",
     "text": [
      "/usr/share/miniconda3/envs/tardis/lib/python3.11/site-packages/setuptools_scm/git.py:162: UserWarning: \"/home/runner/work/tardis/tardis\" is shallow and may cause errors\n",
      "  warnings.warn(f'\"{wd.path}\" is shallow and may cause errors')\n"
     ]
    },
    {
     "data": {
      "application/vnd.jupyter.widget-view+json": {
       "model_id": "399b25f0483c427099d6fe6649fd50a6",
       "version_major": 2,
       "version_minor": 0
      },
      "text/plain": [
       "Iterations:          0/? [00:00<?, ?it/s]"
      ]
     },
     "metadata": {},
     "output_type": "display_data"
    },
    {
     "data": {
      "application/vnd.jupyter.widget-view+json": {
       "model_id": "ced4fc2b5a9345e89ca9fb6d5c349399",
       "version_major": 2,
       "version_minor": 0
      },
      "text/plain": [
       "Packets:             0/? [00:00<?, ?it/s]"
      ]
     },
     "metadata": {},
     "output_type": "display_data"
    },
    {
     "name": "stderr",
     "output_type": "stream",
     "text": [
      "Atomic Data kurucz_cd23_chianti_H_He already exists in /home/runner/Downloads/tardis-data/kurucz_cd23_chianti_H_He.h5. Will not download - override with force_download=True.\n"
     ]
    },
    {
     "name": "stdout",
     "output_type": "stream",
     "text": [
      "[\u001b[1mtardis.simulation.base\u001b[0m][\u001b[1;37mINFO\u001b[0m   ]  \n",
      "\t\n",
      "\tReading Atomic Data from kurucz_cd23_chianti_H_He.h5 (\u001b[1mbase.py\u001b[0m:681)\n"
     ]
    },
    {
     "name": "stdout",
     "output_type": "stream",
     "text": [
      "[\u001b[1mtardis.io.atom_data.util\u001b[0m][\u001b[1;37mINFO\u001b[0m   ]  \n",
      "\t\n",
      "\tAtom Data kurucz_cd23_chianti_H_He.h5 not found in local path.\n",
      "\tExists in TARDIS Data repo /home/runner/Downloads/tardis-data/kurucz_cd23_chianti_H_He.h5 (\u001b[1mutil.py\u001b[0m:36)\n"
     ]
    },
    {
     "name": "stdout",
     "output_type": "stream",
     "text": [
      "[\u001b[1mtardis.io.atom_data.base\u001b[0m][\u001b[1;37mINFO\u001b[0m   ]  \n",
      "\tReading Atom Data with: UUID = 6f7b09e887a311e7a06b246e96350010 MD5  = 864f1753714343c41f99cb065710cace  (\u001b[1mbase.py\u001b[0m:258)\n"
     ]
    },
    {
     "name": "stdout",
     "output_type": "stream",
     "text": [
      "[\u001b[1mtardis.io.atom_data.base\u001b[0m][\u001b[1;37mINFO\u001b[0m   ]  \n",
      "\tNon provided Atomic Data: synpp_refs, photoionization_data, yg_data, two_photon_data, linelist (\u001b[1mbase.py\u001b[0m:262)\n"
     ]
    },
    {
     "name": "stdout",
     "output_type": "stream",
     "text": [
      "[\u001b[1mtardis.model.parse_input\u001b[0m][\u001b[1;33mWARNING\u001b[0m]  \n",
      "\tNumber of density points larger than number of shells. Assuming inner point irrelevant (\u001b[1mparse_input.py\u001b[0m:143)\n"
     ]
    },
    {
     "name": "stdout",
     "output_type": "stream",
     "text": [
      "[\u001b[1mtardis.model.matter.decay\u001b[0m][\u001b[1;37mINFO\u001b[0m   ]  \n",
      "\tDecaying abundances for 1123200.0 seconds (\u001b[1mdecay.py\u001b[0m:101)\n"
     ]
    },
    {
     "name": "stdout",
     "output_type": "stream",
     "text": [
      "[\u001b[1mpy.warnings         \u001b[0m][\u001b[1;33mWARNING\u001b[0m]  \n",
      "\t/home/runner/work/tardis/tardis/tardis/plasma/properties/radiative_properties.py:93: RuntimeWarning: invalid value encountered in divide\n",
      "  (g_lower * n_upper) / (g_upper * n_lower)\n",
      " (\u001b[1mwarnings.py\u001b[0m:109)\n"
     ]
    },
    {
     "name": "stdout",
     "output_type": "stream",
     "text": [
      "[\u001b[1mpy.warnings         \u001b[0m][\u001b[1;33mWARNING\u001b[0m]  \n",
      "\t/home/runner/work/tardis/tardis/tardis/plasma/properties/radiative_properties.py:93: RuntimeWarning: invalid value encountered in divide\n",
      "  (g_lower * n_upper) / (g_upper * n_lower)\n",
      " (\u001b[1mwarnings.py\u001b[0m:109)\n"
     ]
    },
    {
     "name": "stdout",
     "output_type": "stream",
     "text": [
      "[\u001b[1mtardis.simulation.base\u001b[0m][\u001b[1;37mINFO\u001b[0m   ]  \n",
      "\t\n",
      "\tStarting iteration 1 of 20 (\u001b[1mbase.py\u001b[0m:398)\n"
     ]
    },
    {
     "data": {
      "application/vnd.jupyter.widget-view+json": {
       "model_id": "115a294cef1d421b90bbde6600bff139",
       "version_major": 2,
       "version_minor": 0
      },
      "text/plain": [
       "TqdmHBox(children=(HTML(value='Iterations:', layout=Layout(width='6%')), FloatProgress(value=0.0, layout=Layou…"
      ]
     },
     "metadata": {},
     "output_type": "display_data"
    },
    {
     "data": {
      "application/vnd.jupyter.widget-view+json": {
       "model_id": "070d59e092424f178754fb7f2ee35f26",
       "version_major": 2,
       "version_minor": 0
      },
      "text/plain": [
       "TqdmHBox(children=(HTML(value='Packets:   ', layout=Layout(width='6%')), FloatProgress(value=0.0, layout=Layou…"
      ]
     },
     "metadata": {},
     "output_type": "display_data"
    },
    {
     "name": "stdout",
     "output_type": "stream",
     "text": [
      "[\u001b[1mtardis.simulation.base\u001b[0m][\u001b[1;37mINFO\u001b[0m   ]  \n",
      "\t\n",
      "\tLuminosity emitted   = 7.942e+42 erg / s\n",
      "\tLuminosity absorbed  = 2.659e+42 erg / s\n",
      "\tLuminosity requested = 1.059e+43 erg / s\n",
      " (\u001b[1mbase.py\u001b[0m:580)\n"
     ]
    },
    {
     "name": "stdout",
     "output_type": "stream",
     "text": [
      "[\u001b[1mtardis.simulation.base\u001b[0m][\u001b[1;37mINFO\u001b[0m   ]  \n",
      "\t\n",
      "\tPlasma stratification: (\u001b[1mbase.py\u001b[0m:548)\n"
     ]
    },
    {
     "data": {
      "text/html": [
       "<style type=\"text/css\">\n",
       "</style>\n",
       "<table id=\"T_51d4e\">\n",
       "  <thead>\n",
       "    <tr>\n",
       "      <th class=\"index_name level0\" >Shell No.</th>\n",
       "      <th id=\"T_51d4e_level0_col0\" class=\"col_heading level0 col0\" >t_rad</th>\n",
       "      <th id=\"T_51d4e_level0_col1\" class=\"col_heading level0 col1\" >next_t_rad</th>\n",
       "      <th id=\"T_51d4e_level0_col2\" class=\"col_heading level0 col2\" >w</th>\n",
       "      <th id=\"T_51d4e_level0_col3\" class=\"col_heading level0 col3\" >next_w</th>\n",
       "    </tr>\n",
       "  </thead>\n",
       "  <tbody>\n",
       "    <tr>\n",
       "      <th id=\"T_51d4e_level0_row0\" class=\"row_heading level0 row0\" >0</th>\n",
       "      <td id=\"T_51d4e_row0_col0\" class=\"data row0 col0\" >9.93e+03 K</td>\n",
       "      <td id=\"T_51d4e_row0_col1\" class=\"data row0 col1\" >1.01e+04 K</td>\n",
       "      <td id=\"T_51d4e_row0_col2\" class=\"data row0 col2\" >0.4</td>\n",
       "      <td id=\"T_51d4e_row0_col3\" class=\"data row0 col3\" >0.507</td>\n",
       "    </tr>\n",
       "    <tr>\n",
       "      <th id=\"T_51d4e_level0_row1\" class=\"row_heading level0 row1\" >5</th>\n",
       "      <td id=\"T_51d4e_row1_col0\" class=\"data row1 col0\" >9.85e+03 K</td>\n",
       "      <td id=\"T_51d4e_row1_col1\" class=\"data row1 col1\" >1.02e+04 K</td>\n",
       "      <td id=\"T_51d4e_row1_col2\" class=\"data row1 col2\" >0.211</td>\n",
       "      <td id=\"T_51d4e_row1_col3\" class=\"data row1 col3\" >0.197</td>\n",
       "    </tr>\n",
       "    <tr>\n",
       "      <th id=\"T_51d4e_level0_row2\" class=\"row_heading level0 row2\" >10</th>\n",
       "      <td id=\"T_51d4e_row2_col0\" class=\"data row2 col0\" >9.78e+03 K</td>\n",
       "      <td id=\"T_51d4e_row2_col1\" class=\"data row2 col1\" >1.01e+04 K</td>\n",
       "      <td id=\"T_51d4e_row2_col2\" class=\"data row2 col2\" >0.143</td>\n",
       "      <td id=\"T_51d4e_row2_col3\" class=\"data row2 col3\" >0.117</td>\n",
       "    </tr>\n",
       "    <tr>\n",
       "      <th id=\"T_51d4e_level0_row3\" class=\"row_heading level0 row3\" >15</th>\n",
       "      <td id=\"T_51d4e_row3_col0\" class=\"data row3 col0\" >9.71e+03 K</td>\n",
       "      <td id=\"T_51d4e_row3_col1\" class=\"data row3 col1\" >9.87e+03 K</td>\n",
       "      <td id=\"T_51d4e_row3_col2\" class=\"data row3 col2\" >0.105</td>\n",
       "      <td id=\"T_51d4e_row3_col3\" class=\"data row3 col3\" >0.0869</td>\n",
       "    </tr>\n",
       "  </tbody>\n",
       "</table>\n"
      ],
      "text/plain": [
       "<pandas.io.formats.style.Styler at 0x7fc9be76c790>"
      ]
     },
     "metadata": {},
     "output_type": "display_data"
    },
    {
     "name": "stdout",
     "output_type": "stream",
     "text": [
      "[\u001b[1mtardis.simulation.base\u001b[0m][\u001b[1;37mINFO\u001b[0m   ]  \n",
      "\t\n",
      "\tCurrent t_inner = 9933.952 K\n",
      "\tExpected t_inner for next iteration = 10703.212 K\n",
      " (\u001b[1mbase.py\u001b[0m:575)\n"
     ]
    },
    {
     "name": "stdout",
     "output_type": "stream",
     "text": [
      "[\u001b[1mpy.warnings         \u001b[0m][\u001b[1;33mWARNING\u001b[0m]  \n",
      "\t/home/runner/work/tardis/tardis/tardis/plasma/properties/radiative_properties.py:93: RuntimeWarning: invalid value encountered in divide\n",
      "  (g_lower * n_upper) / (g_upper * n_lower)\n",
      " (\u001b[1mwarnings.py\u001b[0m:109)\n"
     ]
    },
    {
     "name": "stdout",
     "output_type": "stream",
     "text": [
      "[\u001b[1mtardis.simulation.base\u001b[0m][\u001b[1;37mINFO\u001b[0m   ]  \n",
      "\t\n",
      "\tStarting iteration 2 of 20 (\u001b[1mbase.py\u001b[0m:398)\n"
     ]
    },
    {
     "name": "stdout",
     "output_type": "stream",
     "text": [
      "[\u001b[1mtardis.simulation.base\u001b[0m][\u001b[1;37mINFO\u001b[0m   ]  \n",
      "\t\n",
      "\tLuminosity emitted   = 1.071e+43 erg / s\n",
      "\tLuminosity absorbed  = 3.576e+42 erg / s\n",
      "\tLuminosity requested = 1.059e+43 erg / s\n",
      " (\u001b[1mbase.py\u001b[0m:580)\n"
     ]
    },
    {
     "name": "stdout",
     "output_type": "stream",
     "text": [
      "[\u001b[1mtardis.simulation.base\u001b[0m][\u001b[1;37mINFO\u001b[0m   ]  \n",
      "\t\n",
      "\tPlasma stratification: (\u001b[1mbase.py\u001b[0m:548)\n"
     ]
    },
    {
     "data": {
      "text/html": [
       "<style type=\"text/css\">\n",
       "</style>\n",
       "<table id=\"T_a5923\">\n",
       "  <thead>\n",
       "    <tr>\n",
       "      <th class=\"index_name level0\" >Shell No.</th>\n",
       "      <th id=\"T_a5923_level0_col0\" class=\"col_heading level0 col0\" >t_rad</th>\n",
       "      <th id=\"T_a5923_level0_col1\" class=\"col_heading level0 col1\" >next_t_rad</th>\n",
       "      <th id=\"T_a5923_level0_col2\" class=\"col_heading level0 col2\" >w</th>\n",
       "      <th id=\"T_a5923_level0_col3\" class=\"col_heading level0 col3\" >next_w</th>\n",
       "    </tr>\n",
       "  </thead>\n",
       "  <tbody>\n",
       "    <tr>\n",
       "      <th id=\"T_a5923_level0_row0\" class=\"row_heading level0 row0\" >0</th>\n",
       "      <td id=\"T_a5923_row0_col0\" class=\"data row0 col0\" >1.01e+04 K</td>\n",
       "      <td id=\"T_a5923_row0_col1\" class=\"data row0 col1\" >1.08e+04 K</td>\n",
       "      <td id=\"T_a5923_row0_col2\" class=\"data row0 col2\" >0.507</td>\n",
       "      <td id=\"T_a5923_row0_col3\" class=\"data row0 col3\" >0.525</td>\n",
       "    </tr>\n",
       "    <tr>\n",
       "      <th id=\"T_a5923_level0_row1\" class=\"row_heading level0 row1\" >5</th>\n",
       "      <td id=\"T_a5923_row1_col0\" class=\"data row1 col0\" >1.02e+04 K</td>\n",
       "      <td id=\"T_a5923_row1_col1\" class=\"data row1 col1\" >1.1e+04 K</td>\n",
       "      <td id=\"T_a5923_row1_col2\" class=\"data row1 col2\" >0.197</td>\n",
       "      <td id=\"T_a5923_row1_col3\" class=\"data row1 col3\" >0.203</td>\n",
       "    </tr>\n",
       "    <tr>\n",
       "      <th id=\"T_a5923_level0_row2\" class=\"row_heading level0 row2\" >10</th>\n",
       "      <td id=\"T_a5923_row2_col0\" class=\"data row2 col0\" >1.01e+04 K</td>\n",
       "      <td id=\"T_a5923_row2_col1\" class=\"data row2 col1\" >1.08e+04 K</td>\n",
       "      <td id=\"T_a5923_row2_col2\" class=\"data row2 col2\" >0.117</td>\n",
       "      <td id=\"T_a5923_row2_col3\" class=\"data row2 col3\" >0.125</td>\n",
       "    </tr>\n",
       "    <tr>\n",
       "      <th id=\"T_a5923_level0_row3\" class=\"row_heading level0 row3\" >15</th>\n",
       "      <td id=\"T_a5923_row3_col0\" class=\"data row3 col0\" >9.87e+03 K</td>\n",
       "      <td id=\"T_a5923_row3_col1\" class=\"data row3 col1\" >1.05e+04 K</td>\n",
       "      <td id=\"T_a5923_row3_col2\" class=\"data row3 col2\" >0.0869</td>\n",
       "      <td id=\"T_a5923_row3_col3\" class=\"data row3 col3\" >0.0933</td>\n",
       "    </tr>\n",
       "  </tbody>\n",
       "</table>\n"
      ],
      "text/plain": [
       "<pandas.io.formats.style.Styler at 0x7fc9b5431f10>"
      ]
     },
     "metadata": {},
     "output_type": "display_data"
    },
    {
     "name": "stdout",
     "output_type": "stream",
     "text": [
      "[\u001b[1mtardis.simulation.base\u001b[0m][\u001b[1;37mINFO\u001b[0m   ]  \n",
      "\t\n",
      "\tCurrent t_inner = 10703.212 K\n",
      "\tExpected t_inner for next iteration = 10673.712 K\n",
      " (\u001b[1mbase.py\u001b[0m:575)\n"
     ]
    },
    {
     "name": "stdout",
     "output_type": "stream",
     "text": [
      "[\u001b[1mpy.warnings         \u001b[0m][\u001b[1;33mWARNING\u001b[0m]  \n",
      "\t/home/runner/work/tardis/tardis/tardis/plasma/properties/radiative_properties.py:93: RuntimeWarning: invalid value encountered in divide\n",
      "  (g_lower * n_upper) / (g_upper * n_lower)\n",
      " (\u001b[1mwarnings.py\u001b[0m:109)\n"
     ]
    },
    {
     "name": "stdout",
     "output_type": "stream",
     "text": [
      "[\u001b[1mtardis.simulation.base\u001b[0m][\u001b[1;37mINFO\u001b[0m   ]  \n",
      "\t\n",
      "\tStarting iteration 3 of 20 (\u001b[1mbase.py\u001b[0m:398)\n"
     ]
    },
    {
     "name": "stdout",
     "output_type": "stream",
     "text": [
      "[\u001b[1mtardis.simulation.base\u001b[0m][\u001b[1;37mINFO\u001b[0m   ]  \n",
      "\t\n",
      "\tLuminosity emitted   = 1.074e+43 erg / s\n",
      "\tLuminosity absorbed  = 3.391e+42 erg / s\n",
      "\tLuminosity requested = 1.059e+43 erg / s\n",
      " (\u001b[1mbase.py\u001b[0m:580)\n"
     ]
    },
    {
     "name": "stdout",
     "output_type": "stream",
     "text": [
      "[\u001b[1mtardis.simulation.base\u001b[0m][\u001b[1;37mINFO\u001b[0m   ]  \n",
      "\t\n",
      "\tPlasma stratification: (\u001b[1mbase.py\u001b[0m:548)\n"
     ]
    },
    {
     "data": {
      "text/html": [
       "<style type=\"text/css\">\n",
       "</style>\n",
       "<table id=\"T_1b780\">\n",
       "  <thead>\n",
       "    <tr>\n",
       "      <th class=\"index_name level0\" >Shell No.</th>\n",
       "      <th id=\"T_1b780_level0_col0\" class=\"col_heading level0 col0\" >t_rad</th>\n",
       "      <th id=\"T_1b780_level0_col1\" class=\"col_heading level0 col1\" >next_t_rad</th>\n",
       "      <th id=\"T_1b780_level0_col2\" class=\"col_heading level0 col2\" >w</th>\n",
       "      <th id=\"T_1b780_level0_col3\" class=\"col_heading level0 col3\" >next_w</th>\n",
       "    </tr>\n",
       "  </thead>\n",
       "  <tbody>\n",
       "    <tr>\n",
       "      <th id=\"T_1b780_level0_row0\" class=\"row_heading level0 row0\" >0</th>\n",
       "      <td id=\"T_1b780_row0_col0\" class=\"data row0 col0\" >1.08e+04 K</td>\n",
       "      <td id=\"T_1b780_row0_col1\" class=\"data row0 col1\" >1.1e+04 K</td>\n",
       "      <td id=\"T_1b780_row0_col2\" class=\"data row0 col2\" >0.525</td>\n",
       "      <td id=\"T_1b780_row0_col3\" class=\"data row0 col3\" >0.483</td>\n",
       "    </tr>\n",
       "    <tr>\n",
       "      <th id=\"T_1b780_level0_row1\" class=\"row_heading level0 row1\" >5</th>\n",
       "      <td id=\"T_1b780_row1_col0\" class=\"data row1 col0\" >1.1e+04 K</td>\n",
       "      <td id=\"T_1b780_row1_col1\" class=\"data row1 col1\" >1.12e+04 K</td>\n",
       "      <td id=\"T_1b780_row1_col2\" class=\"data row1 col2\" >0.203</td>\n",
       "      <td id=\"T_1b780_row1_col3\" class=\"data row1 col3\" >0.189</td>\n",
       "    </tr>\n",
       "    <tr>\n",
       "      <th id=\"T_1b780_level0_row2\" class=\"row_heading level0 row2\" >10</th>\n",
       "      <td id=\"T_1b780_row2_col0\" class=\"data row2 col0\" >1.08e+04 K</td>\n",
       "      <td id=\"T_1b780_row2_col1\" class=\"data row2 col1\" >1.1e+04 K</td>\n",
       "      <td id=\"T_1b780_row2_col2\" class=\"data row2 col2\" >0.125</td>\n",
       "      <td id=\"T_1b780_row2_col3\" class=\"data row2 col3\" >0.118</td>\n",
       "    </tr>\n",
       "    <tr>\n",
       "      <th id=\"T_1b780_level0_row3\" class=\"row_heading level0 row3\" >15</th>\n",
       "      <td id=\"T_1b780_row3_col0\" class=\"data row3 col0\" >1.05e+04 K</td>\n",
       "      <td id=\"T_1b780_row3_col1\" class=\"data row3 col1\" >1.06e+04 K</td>\n",
       "      <td id=\"T_1b780_row3_col2\" class=\"data row3 col2\" >0.0933</td>\n",
       "      <td id=\"T_1b780_row3_col3\" class=\"data row3 col3\" >0.0895</td>\n",
       "    </tr>\n",
       "  </tbody>\n",
       "</table>\n"
      ],
      "text/plain": [
       "<pandas.io.formats.style.Styler at 0x7fc9b55aefd0>"
      ]
     },
     "metadata": {},
     "output_type": "display_data"
    },
    {
     "name": "stdout",
     "output_type": "stream",
     "text": [
      "[\u001b[1mtardis.simulation.base\u001b[0m][\u001b[1;37mINFO\u001b[0m   ]  \n",
      "\t\n",
      "\tCurrent t_inner = 10673.712 K\n",
      "\tExpected t_inner for next iteration = 10635.953 K\n",
      " (\u001b[1mbase.py\u001b[0m:575)\n"
     ]
    },
    {
     "name": "stdout",
     "output_type": "stream",
     "text": [
      "[\u001b[1mpy.warnings         \u001b[0m][\u001b[1;33mWARNING\u001b[0m]  \n",
      "\t/home/runner/work/tardis/tardis/tardis/plasma/properties/radiative_properties.py:93: RuntimeWarning: invalid value encountered in divide\n",
      "  (g_lower * n_upper) / (g_upper * n_lower)\n",
      " (\u001b[1mwarnings.py\u001b[0m:109)\n"
     ]
    },
    {
     "name": "stdout",
     "output_type": "stream",
     "text": [
      "[\u001b[1mtardis.simulation.base\u001b[0m][\u001b[1;37mINFO\u001b[0m   ]  \n",
      "\t\n",
      "\tStarting iteration 4 of 20 (\u001b[1mbase.py\u001b[0m:398)\n"
     ]
    },
    {
     "name": "stdout",
     "output_type": "stream",
     "text": [
      "[\u001b[1mtardis.simulation.base\u001b[0m][\u001b[1;37mINFO\u001b[0m   ]  \n",
      "\t\n",
      "\tLuminosity emitted   = 1.058e+43 erg / s\n",
      "\tLuminosity absorbed  = 3.352e+42 erg / s\n",
      "\tLuminosity requested = 1.059e+43 erg / s\n",
      " (\u001b[1mbase.py\u001b[0m:580)\n"
     ]
    },
    {
     "name": "stdout",
     "output_type": "stream",
     "text": [
      "[\u001b[1mtardis.simulation.base\u001b[0m][\u001b[1;37mINFO\u001b[0m   ]  \n",
      "\t\n",
      "\tPlasma stratification: (\u001b[1mbase.py\u001b[0m:548)\n"
     ]
    },
    {
     "data": {
      "text/html": [
       "<style type=\"text/css\">\n",
       "</style>\n",
       "<table id=\"T_f78f9\">\n",
       "  <thead>\n",
       "    <tr>\n",
       "      <th class=\"index_name level0\" >Shell No.</th>\n",
       "      <th id=\"T_f78f9_level0_col0\" class=\"col_heading level0 col0\" >t_rad</th>\n",
       "      <th id=\"T_f78f9_level0_col1\" class=\"col_heading level0 col1\" >next_t_rad</th>\n",
       "      <th id=\"T_f78f9_level0_col2\" class=\"col_heading level0 col2\" >w</th>\n",
       "      <th id=\"T_f78f9_level0_col3\" class=\"col_heading level0 col3\" >next_w</th>\n",
       "    </tr>\n",
       "  </thead>\n",
       "  <tbody>\n",
       "    <tr>\n",
       "      <th id=\"T_f78f9_level0_row0\" class=\"row_heading level0 row0\" >0</th>\n",
       "      <td id=\"T_f78f9_row0_col0\" class=\"data row0 col0\" >1.1e+04 K</td>\n",
       "      <td id=\"T_f78f9_row0_col1\" class=\"data row0 col1\" >1.1e+04 K</td>\n",
       "      <td id=\"T_f78f9_row0_col2\" class=\"data row0 col2\" >0.483</td>\n",
       "      <td id=\"T_f78f9_row0_col3\" class=\"data row0 col3\" >0.469</td>\n",
       "    </tr>\n",
       "    <tr>\n",
       "      <th id=\"T_f78f9_level0_row1\" class=\"row_heading level0 row1\" >5</th>\n",
       "      <td id=\"T_f78f9_row1_col0\" class=\"data row1 col0\" >1.12e+04 K</td>\n",
       "      <td id=\"T_f78f9_row1_col1\" class=\"data row1 col1\" >1.12e+04 K</td>\n",
       "      <td id=\"T_f78f9_row1_col2\" class=\"data row1 col2\" >0.189</td>\n",
       "      <td id=\"T_f78f9_row1_col3\" class=\"data row1 col3\" >0.182</td>\n",
       "    </tr>\n",
       "    <tr>\n",
       "      <th id=\"T_f78f9_level0_row2\" class=\"row_heading level0 row2\" >10</th>\n",
       "      <td id=\"T_f78f9_row2_col0\" class=\"data row2 col0\" >1.1e+04 K</td>\n",
       "      <td id=\"T_f78f9_row2_col1\" class=\"data row2 col1\" >1.1e+04 K</td>\n",
       "      <td id=\"T_f78f9_row2_col2\" class=\"data row2 col2\" >0.118</td>\n",
       "      <td id=\"T_f78f9_row2_col3\" class=\"data row2 col3\" >0.113</td>\n",
       "    </tr>\n",
       "    <tr>\n",
       "      <th id=\"T_f78f9_level0_row3\" class=\"row_heading level0 row3\" >15</th>\n",
       "      <td id=\"T_f78f9_row3_col0\" class=\"data row3 col0\" >1.06e+04 K</td>\n",
       "      <td id=\"T_f78f9_row3_col1\" class=\"data row3 col1\" >1.07e+04 K</td>\n",
       "      <td id=\"T_f78f9_row3_col2\" class=\"data row3 col2\" >0.0895</td>\n",
       "      <td id=\"T_f78f9_row3_col3\" class=\"data row3 col3\" >0.0861</td>\n",
       "    </tr>\n",
       "  </tbody>\n",
       "</table>\n"
      ],
      "text/plain": [
       "<pandas.io.formats.style.Styler at 0x7fc9b53f76d0>"
      ]
     },
     "metadata": {},
     "output_type": "display_data"
    },
    {
     "name": "stdout",
     "output_type": "stream",
     "text": [
      "[\u001b[1mtardis.simulation.base\u001b[0m][\u001b[1;37mINFO\u001b[0m   ]  \n",
      "\t\n",
      "\tCurrent t_inner = 10635.953 K\n",
      "\tExpected t_inner for next iteration = 10638.407 K\n",
      " (\u001b[1mbase.py\u001b[0m:575)\n"
     ]
    },
    {
     "name": "stdout",
     "output_type": "stream",
     "text": [
      "[\u001b[1mpy.warnings         \u001b[0m][\u001b[1;33mWARNING\u001b[0m]  \n",
      "\t/home/runner/work/tardis/tardis/tardis/plasma/properties/radiative_properties.py:93: RuntimeWarning: invalid value encountered in divide\n",
      "  (g_lower * n_upper) / (g_upper * n_lower)\n",
      " (\u001b[1mwarnings.py\u001b[0m:109)\n"
     ]
    },
    {
     "name": "stdout",
     "output_type": "stream",
     "text": [
      "[\u001b[1mtardis.simulation.base\u001b[0m][\u001b[1;37mINFO\u001b[0m   ]  \n",
      "\t\n",
      "\tStarting iteration 5 of 20 (\u001b[1mbase.py\u001b[0m:398)\n"
     ]
    },
    {
     "name": "stdout",
     "output_type": "stream",
     "text": [
      "[\u001b[1mtardis.simulation.base\u001b[0m][\u001b[1;37mINFO\u001b[0m   ]  \n",
      "\t\n",
      "\tLuminosity emitted   = 1.055e+43 erg / s\n",
      "\tLuminosity absorbed  = 3.399e+42 erg / s\n",
      "\tLuminosity requested = 1.059e+43 erg / s\n",
      " (\u001b[1mbase.py\u001b[0m:580)\n"
     ]
    },
    {
     "name": "stdout",
     "output_type": "stream",
     "text": [
      "[\u001b[1mtardis.simulation.base\u001b[0m][\u001b[1;37mINFO\u001b[0m   ]  \n",
      "\tIteration converged 1/4 consecutive times. (\u001b[1mbase.py\u001b[0m:268)\n"
     ]
    },
    {
     "name": "stdout",
     "output_type": "stream",
     "text": [
      "[\u001b[1mtardis.simulation.base\u001b[0m][\u001b[1;37mINFO\u001b[0m   ]  \n",
      "\t\n",
      "\tPlasma stratification: (\u001b[1mbase.py\u001b[0m:548)\n"
     ]
    },
    {
     "data": {
      "text/html": [
       "<style type=\"text/css\">\n",
       "</style>\n",
       "<table id=\"T_d848a\">\n",
       "  <thead>\n",
       "    <tr>\n",
       "      <th class=\"index_name level0\" >Shell No.</th>\n",
       "      <th id=\"T_d848a_level0_col0\" class=\"col_heading level0 col0\" >t_rad</th>\n",
       "      <th id=\"T_d848a_level0_col1\" class=\"col_heading level0 col1\" >next_t_rad</th>\n",
       "      <th id=\"T_d848a_level0_col2\" class=\"col_heading level0 col2\" >w</th>\n",
       "      <th id=\"T_d848a_level0_col3\" class=\"col_heading level0 col3\" >next_w</th>\n",
       "    </tr>\n",
       "  </thead>\n",
       "  <tbody>\n",
       "    <tr>\n",
       "      <th id=\"T_d848a_level0_row0\" class=\"row_heading level0 row0\" >0</th>\n",
       "      <td id=\"T_d848a_row0_col0\" class=\"data row0 col0\" >1.1e+04 K</td>\n",
       "      <td id=\"T_d848a_row0_col1\" class=\"data row0 col1\" >1.1e+04 K</td>\n",
       "      <td id=\"T_d848a_row0_col2\" class=\"data row0 col2\" >0.469</td>\n",
       "      <td id=\"T_d848a_row0_col3\" class=\"data row0 col3\" >0.479</td>\n",
       "    </tr>\n",
       "    <tr>\n",
       "      <th id=\"T_d848a_level0_row1\" class=\"row_heading level0 row1\" >5</th>\n",
       "      <td id=\"T_d848a_row1_col0\" class=\"data row1 col0\" >1.12e+04 K</td>\n",
       "      <td id=\"T_d848a_row1_col1\" class=\"data row1 col1\" >1.13e+04 K</td>\n",
       "      <td id=\"T_d848a_row1_col2\" class=\"data row1 col2\" >0.182</td>\n",
       "      <td id=\"T_d848a_row1_col3\" class=\"data row1 col3\" >0.178</td>\n",
       "    </tr>\n",
       "    <tr>\n",
       "      <th id=\"T_d848a_level0_row2\" class=\"row_heading level0 row2\" >10</th>\n",
       "      <td id=\"T_d848a_row2_col0\" class=\"data row2 col0\" >1.1e+04 K</td>\n",
       "      <td id=\"T_d848a_row2_col1\" class=\"data row2 col1\" >1.1e+04 K</td>\n",
       "      <td id=\"T_d848a_row2_col2\" class=\"data row2 col2\" >0.113</td>\n",
       "      <td id=\"T_d848a_row2_col3\" class=\"data row2 col3\" >0.113</td>\n",
       "    </tr>\n",
       "    <tr>\n",
       "      <th id=\"T_d848a_level0_row3\" class=\"row_heading level0 row3\" >15</th>\n",
       "      <td id=\"T_d848a_row3_col0\" class=\"data row3 col0\" >1.07e+04 K</td>\n",
       "      <td id=\"T_d848a_row3_col1\" class=\"data row3 col1\" >1.07e+04 K</td>\n",
       "      <td id=\"T_d848a_row3_col2\" class=\"data row3 col2\" >0.0861</td>\n",
       "      <td id=\"T_d848a_row3_col3\" class=\"data row3 col3\" >0.0839</td>\n",
       "    </tr>\n",
       "  </tbody>\n",
       "</table>\n"
      ],
      "text/plain": [
       "<pandas.io.formats.style.Styler at 0x7fc9b55b5590>"
      ]
     },
     "metadata": {},
     "output_type": "display_data"
    },
    {
     "name": "stdout",
     "output_type": "stream",
     "text": [
      "[\u001b[1mtardis.simulation.base\u001b[0m][\u001b[1;37mINFO\u001b[0m   ]  \n",
      "\t\n",
      "\tCurrent t_inner = 10638.407 K\n",
      "\tExpected t_inner for next iteration = 10650.202 K\n",
      " (\u001b[1mbase.py\u001b[0m:575)\n"
     ]
    },
    {
     "name": "stdout",
     "output_type": "stream",
     "text": [
      "[\u001b[1mpy.warnings         \u001b[0m][\u001b[1;33mWARNING\u001b[0m]  \n",
      "\t/home/runner/work/tardis/tardis/tardis/plasma/properties/radiative_properties.py:93: RuntimeWarning: invalid value encountered in divide\n",
      "  (g_lower * n_upper) / (g_upper * n_lower)\n",
      " (\u001b[1mwarnings.py\u001b[0m:109)\n"
     ]
    },
    {
     "name": "stdout",
     "output_type": "stream",
     "text": [
      "[\u001b[1mtardis.simulation.base\u001b[0m][\u001b[1;37mINFO\u001b[0m   ]  \n",
      "\t\n",
      "\tStarting iteration 6 of 20 (\u001b[1mbase.py\u001b[0m:398)\n"
     ]
    },
    {
     "name": "stdout",
     "output_type": "stream",
     "text": [
      "[\u001b[1mtardis.simulation.base\u001b[0m][\u001b[1;37mINFO\u001b[0m   ]  \n",
      "\t\n",
      "\tLuminosity emitted   = 1.061e+43 erg / s\n",
      "\tLuminosity absorbed  = 3.398e+42 erg / s\n",
      "\tLuminosity requested = 1.059e+43 erg / s\n",
      " (\u001b[1mbase.py\u001b[0m:580)\n"
     ]
    },
    {
     "name": "stdout",
     "output_type": "stream",
     "text": [
      "[\u001b[1mtardis.simulation.base\u001b[0m][\u001b[1;37mINFO\u001b[0m   ]  \n",
      "\tIteration converged 2/4 consecutive times. (\u001b[1mbase.py\u001b[0m:268)\n"
     ]
    },
    {
     "name": "stdout",
     "output_type": "stream",
     "text": [
      "[\u001b[1mtardis.simulation.base\u001b[0m][\u001b[1;37mINFO\u001b[0m   ]  \n",
      "\t\n",
      "\tPlasma stratification: (\u001b[1mbase.py\u001b[0m:548)\n"
     ]
    },
    {
     "data": {
      "text/html": [
       "<style type=\"text/css\">\n",
       "</style>\n",
       "<table id=\"T_aba75\">\n",
       "  <thead>\n",
       "    <tr>\n",
       "      <th class=\"index_name level0\" >Shell No.</th>\n",
       "      <th id=\"T_aba75_level0_col0\" class=\"col_heading level0 col0\" >t_rad</th>\n",
       "      <th id=\"T_aba75_level0_col1\" class=\"col_heading level0 col1\" >next_t_rad</th>\n",
       "      <th id=\"T_aba75_level0_col2\" class=\"col_heading level0 col2\" >w</th>\n",
       "      <th id=\"T_aba75_level0_col3\" class=\"col_heading level0 col3\" >next_w</th>\n",
       "    </tr>\n",
       "  </thead>\n",
       "  <tbody>\n",
       "    <tr>\n",
       "      <th id=\"T_aba75_level0_row0\" class=\"row_heading level0 row0\" >0</th>\n",
       "      <td id=\"T_aba75_row0_col0\" class=\"data row0 col0\" >1.1e+04 K</td>\n",
       "      <td id=\"T_aba75_row0_col1\" class=\"data row0 col1\" >1.1e+04 K</td>\n",
       "      <td id=\"T_aba75_row0_col2\" class=\"data row0 col2\" >0.479</td>\n",
       "      <td id=\"T_aba75_row0_col3\" class=\"data row0 col3\" >0.47</td>\n",
       "    </tr>\n",
       "    <tr>\n",
       "      <th id=\"T_aba75_level0_row1\" class=\"row_heading level0 row1\" >5</th>\n",
       "      <td id=\"T_aba75_row1_col0\" class=\"data row1 col0\" >1.13e+04 K</td>\n",
       "      <td id=\"T_aba75_row1_col1\" class=\"data row1 col1\" >1.12e+04 K</td>\n",
       "      <td id=\"T_aba75_row1_col2\" class=\"data row1 col2\" >0.178</td>\n",
       "      <td id=\"T_aba75_row1_col3\" class=\"data row1 col3\" >0.185</td>\n",
       "    </tr>\n",
       "    <tr>\n",
       "      <th id=\"T_aba75_level0_row2\" class=\"row_heading level0 row2\" >10</th>\n",
       "      <td id=\"T_aba75_row2_col0\" class=\"data row2 col0\" >1.1e+04 K</td>\n",
       "      <td id=\"T_aba75_row2_col1\" class=\"data row2 col1\" >1.11e+04 K</td>\n",
       "      <td id=\"T_aba75_row2_col2\" class=\"data row2 col2\" >0.113</td>\n",
       "      <td id=\"T_aba75_row2_col3\" class=\"data row2 col3\" >0.112</td>\n",
       "    </tr>\n",
       "    <tr>\n",
       "      <th id=\"T_aba75_level0_row3\" class=\"row_heading level0 row3\" >15</th>\n",
       "      <td id=\"T_aba75_row3_col0\" class=\"data row3 col0\" >1.07e+04 K</td>\n",
       "      <td id=\"T_aba75_row3_col1\" class=\"data row3 col1\" >1.07e+04 K</td>\n",
       "      <td id=\"T_aba75_row3_col2\" class=\"data row3 col2\" >0.0839</td>\n",
       "      <td id=\"T_aba75_row3_col3\" class=\"data row3 col3\" >0.0856</td>\n",
       "    </tr>\n",
       "  </tbody>\n",
       "</table>\n"
      ],
      "text/plain": [
       "<pandas.io.formats.style.Styler at 0x7fc9b53f6dd0>"
      ]
     },
     "metadata": {},
     "output_type": "display_data"
    },
    {
     "name": "stdout",
     "output_type": "stream",
     "text": [
      "[\u001b[1mtardis.simulation.base\u001b[0m][\u001b[1;37mINFO\u001b[0m   ]  \n",
      "\t\n",
      "\tCurrent t_inner = 10650.202 K\n",
      "\tExpected t_inner for next iteration = 10645.955 K\n",
      " (\u001b[1mbase.py\u001b[0m:575)\n"
     ]
    },
    {
     "name": "stdout",
     "output_type": "stream",
     "text": [
      "[\u001b[1mpy.warnings         \u001b[0m][\u001b[1;33mWARNING\u001b[0m]  \n",
      "\t/home/runner/work/tardis/tardis/tardis/plasma/properties/radiative_properties.py:93: RuntimeWarning: invalid value encountered in divide\n",
      "  (g_lower * n_upper) / (g_upper * n_lower)\n",
      " (\u001b[1mwarnings.py\u001b[0m:109)\n"
     ]
    },
    {
     "name": "stdout",
     "output_type": "stream",
     "text": [
      "[\u001b[1mtardis.simulation.base\u001b[0m][\u001b[1;37mINFO\u001b[0m   ]  \n",
      "\t\n",
      "\tStarting iteration 7 of 20 (\u001b[1mbase.py\u001b[0m:398)\n"
     ]
    },
    {
     "name": "stdout",
     "output_type": "stream",
     "text": [
      "[\u001b[1mtardis.simulation.base\u001b[0m][\u001b[1;37mINFO\u001b[0m   ]  \n",
      "\t\n",
      "\tLuminosity emitted   = 1.061e+43 erg / s\n",
      "\tLuminosity absorbed  = 3.382e+42 erg / s\n",
      "\tLuminosity requested = 1.059e+43 erg / s\n",
      " (\u001b[1mbase.py\u001b[0m:580)\n"
     ]
    },
    {
     "name": "stdout",
     "output_type": "stream",
     "text": [
      "[\u001b[1mtardis.simulation.base\u001b[0m][\u001b[1;37mINFO\u001b[0m   ]  \n",
      "\tIteration converged 3/4 consecutive times. (\u001b[1mbase.py\u001b[0m:268)\n"
     ]
    },
    {
     "name": "stdout",
     "output_type": "stream",
     "text": [
      "[\u001b[1mtardis.simulation.base\u001b[0m][\u001b[1;37mINFO\u001b[0m   ]  \n",
      "\t\n",
      "\tPlasma stratification: (\u001b[1mbase.py\u001b[0m:548)\n"
     ]
    },
    {
     "data": {
      "text/html": [
       "<style type=\"text/css\">\n",
       "</style>\n",
       "<table id=\"T_eba3c\">\n",
       "  <thead>\n",
       "    <tr>\n",
       "      <th class=\"index_name level0\" >Shell No.</th>\n",
       "      <th id=\"T_eba3c_level0_col0\" class=\"col_heading level0 col0\" >t_rad</th>\n",
       "      <th id=\"T_eba3c_level0_col1\" class=\"col_heading level0 col1\" >next_t_rad</th>\n",
       "      <th id=\"T_eba3c_level0_col2\" class=\"col_heading level0 col2\" >w</th>\n",
       "      <th id=\"T_eba3c_level0_col3\" class=\"col_heading level0 col3\" >next_w</th>\n",
       "    </tr>\n",
       "  </thead>\n",
       "  <tbody>\n",
       "    <tr>\n",
       "      <th id=\"T_eba3c_level0_row0\" class=\"row_heading level0 row0\" >0</th>\n",
       "      <td id=\"T_eba3c_row0_col0\" class=\"data row0 col0\" >1.1e+04 K</td>\n",
       "      <td id=\"T_eba3c_row0_col1\" class=\"data row0 col1\" >1.1e+04 K</td>\n",
       "      <td id=\"T_eba3c_row0_col2\" class=\"data row0 col2\" >0.47</td>\n",
       "      <td id=\"T_eba3c_row0_col3\" class=\"data row0 col3\" >0.47</td>\n",
       "    </tr>\n",
       "    <tr>\n",
       "      <th id=\"T_eba3c_level0_row1\" class=\"row_heading level0 row1\" >5</th>\n",
       "      <td id=\"T_eba3c_row1_col0\" class=\"data row1 col0\" >1.12e+04 K</td>\n",
       "      <td id=\"T_eba3c_row1_col1\" class=\"data row1 col1\" >1.13e+04 K</td>\n",
       "      <td id=\"T_eba3c_row1_col2\" class=\"data row1 col2\" >0.185</td>\n",
       "      <td id=\"T_eba3c_row1_col3\" class=\"data row1 col3\" >0.178</td>\n",
       "    </tr>\n",
       "    <tr>\n",
       "      <th id=\"T_eba3c_level0_row2\" class=\"row_heading level0 row2\" >10</th>\n",
       "      <td id=\"T_eba3c_row2_col0\" class=\"data row2 col0\" >1.11e+04 K</td>\n",
       "      <td id=\"T_eba3c_row2_col1\" class=\"data row2 col1\" >1.11e+04 K</td>\n",
       "      <td id=\"T_eba3c_row2_col2\" class=\"data row2 col2\" >0.112</td>\n",
       "      <td id=\"T_eba3c_row2_col3\" class=\"data row2 col3\" >0.112</td>\n",
       "    </tr>\n",
       "    <tr>\n",
       "      <th id=\"T_eba3c_level0_row3\" class=\"row_heading level0 row3\" >15</th>\n",
       "      <td id=\"T_eba3c_row3_col0\" class=\"data row3 col0\" >1.07e+04 K</td>\n",
       "      <td id=\"T_eba3c_row3_col1\" class=\"data row3 col1\" >1.07e+04 K</td>\n",
       "      <td id=\"T_eba3c_row3_col2\" class=\"data row3 col2\" >0.0856</td>\n",
       "      <td id=\"T_eba3c_row3_col3\" class=\"data row3 col3\" >0.086</td>\n",
       "    </tr>\n",
       "  </tbody>\n",
       "</table>\n"
      ],
      "text/plain": [
       "<pandas.io.formats.style.Styler at 0x7fc9b55a6510>"
      ]
     },
     "metadata": {},
     "output_type": "display_data"
    },
    {
     "name": "stdout",
     "output_type": "stream",
     "text": [
      "[\u001b[1mtardis.simulation.base\u001b[0m][\u001b[1;37mINFO\u001b[0m   ]  \n",
      "\t\n",
      "\tCurrent t_inner = 10645.955 K\n",
      "\tExpected t_inner for next iteration = 10642.050 K\n",
      " (\u001b[1mbase.py\u001b[0m:575)\n"
     ]
    },
    {
     "name": "stdout",
     "output_type": "stream",
     "text": [
      "[\u001b[1mpy.warnings         \u001b[0m][\u001b[1;33mWARNING\u001b[0m]  \n",
      "\t/home/runner/work/tardis/tardis/tardis/plasma/properties/radiative_properties.py:93: RuntimeWarning: invalid value encountered in divide\n",
      "  (g_lower * n_upper) / (g_upper * n_lower)\n",
      " (\u001b[1mwarnings.py\u001b[0m:109)\n"
     ]
    },
    {
     "name": "stdout",
     "output_type": "stream",
     "text": [
      "[\u001b[1mtardis.simulation.base\u001b[0m][\u001b[1;37mINFO\u001b[0m   ]  \n",
      "\t\n",
      "\tStarting iteration 8 of 20 (\u001b[1mbase.py\u001b[0m:398)\n"
     ]
    },
    {
     "name": "stdout",
     "output_type": "stream",
     "text": [
      "[\u001b[1mtardis.simulation.base\u001b[0m][\u001b[1;37mINFO\u001b[0m   ]  \n",
      "\t\n",
      "\tLuminosity emitted   = 1.062e+43 erg / s\n",
      "\tLuminosity absorbed  = 3.350e+42 erg / s\n",
      "\tLuminosity requested = 1.059e+43 erg / s\n",
      " (\u001b[1mbase.py\u001b[0m:580)\n"
     ]
    },
    {
     "name": "stdout",
     "output_type": "stream",
     "text": [
      "[\u001b[1mtardis.simulation.base\u001b[0m][\u001b[1;37mINFO\u001b[0m   ]  \n",
      "\tIteration converged 4/4 consecutive times. (\u001b[1mbase.py\u001b[0m:268)\n"
     ]
    },
    {
     "name": "stdout",
     "output_type": "stream",
     "text": [
      "[\u001b[1mtardis.simulation.base\u001b[0m][\u001b[1;37mINFO\u001b[0m   ]  \n",
      "\t\n",
      "\tPlasma stratification: (\u001b[1mbase.py\u001b[0m:548)\n"
     ]
    },
    {
     "data": {
      "text/html": [
       "<style type=\"text/css\">\n",
       "</style>\n",
       "<table id=\"T_bd8cc\">\n",
       "  <thead>\n",
       "    <tr>\n",
       "      <th class=\"index_name level0\" >Shell No.</th>\n",
       "      <th id=\"T_bd8cc_level0_col0\" class=\"col_heading level0 col0\" >t_rad</th>\n",
       "      <th id=\"T_bd8cc_level0_col1\" class=\"col_heading level0 col1\" >next_t_rad</th>\n",
       "      <th id=\"T_bd8cc_level0_col2\" class=\"col_heading level0 col2\" >w</th>\n",
       "      <th id=\"T_bd8cc_level0_col3\" class=\"col_heading level0 col3\" >next_w</th>\n",
       "    </tr>\n",
       "  </thead>\n",
       "  <tbody>\n",
       "    <tr>\n",
       "      <th id=\"T_bd8cc_level0_row0\" class=\"row_heading level0 row0\" >0</th>\n",
       "      <td id=\"T_bd8cc_row0_col0\" class=\"data row0 col0\" >1.1e+04 K</td>\n",
       "      <td id=\"T_bd8cc_row0_col1\" class=\"data row0 col1\" >1.11e+04 K</td>\n",
       "      <td id=\"T_bd8cc_row0_col2\" class=\"data row0 col2\" >0.47</td>\n",
       "      <td id=\"T_bd8cc_row0_col3\" class=\"data row0 col3\" >0.472</td>\n",
       "    </tr>\n",
       "    <tr>\n",
       "      <th id=\"T_bd8cc_level0_row1\" class=\"row_heading level0 row1\" >5</th>\n",
       "      <td id=\"T_bd8cc_row1_col0\" class=\"data row1 col0\" >1.13e+04 K</td>\n",
       "      <td id=\"T_bd8cc_row1_col1\" class=\"data row1 col1\" >1.14e+04 K</td>\n",
       "      <td id=\"T_bd8cc_row1_col2\" class=\"data row1 col2\" >0.178</td>\n",
       "      <td id=\"T_bd8cc_row1_col3\" class=\"data row1 col3\" >0.175</td>\n",
       "    </tr>\n",
       "    <tr>\n",
       "      <th id=\"T_bd8cc_level0_row2\" class=\"row_heading level0 row2\" >10</th>\n",
       "      <td id=\"T_bd8cc_row2_col0\" class=\"data row2 col0\" >1.11e+04 K</td>\n",
       "      <td id=\"T_bd8cc_row2_col1\" class=\"data row2 col1\" >1.11e+04 K</td>\n",
       "      <td id=\"T_bd8cc_row2_col2\" class=\"data row2 col2\" >0.112</td>\n",
       "      <td id=\"T_bd8cc_row2_col3\" class=\"data row2 col3\" >0.111</td>\n",
       "    </tr>\n",
       "    <tr>\n",
       "      <th id=\"T_bd8cc_level0_row3\" class=\"row_heading level0 row3\" >15</th>\n",
       "      <td id=\"T_bd8cc_row3_col0\" class=\"data row3 col0\" >1.07e+04 K</td>\n",
       "      <td id=\"T_bd8cc_row3_col1\" class=\"data row3 col1\" >1.07e+04 K</td>\n",
       "      <td id=\"T_bd8cc_row3_col2\" class=\"data row3 col2\" >0.086</td>\n",
       "      <td id=\"T_bd8cc_row3_col3\" class=\"data row3 col3\" >0.084</td>\n",
       "    </tr>\n",
       "  </tbody>\n",
       "</table>\n"
      ],
      "text/plain": [
       "<pandas.io.formats.style.Styler at 0x7fc9bf254f50>"
      ]
     },
     "metadata": {},
     "output_type": "display_data"
    },
    {
     "name": "stdout",
     "output_type": "stream",
     "text": [
      "[\u001b[1mtardis.simulation.base\u001b[0m][\u001b[1;37mINFO\u001b[0m   ]  \n",
      "\t\n",
      "\tCurrent t_inner = 10642.050 K\n",
      "\tExpected t_inner for next iteration = 10636.106 K\n",
      " (\u001b[1mbase.py\u001b[0m:575)\n"
     ]
    },
    {
     "name": "stdout",
     "output_type": "stream",
     "text": [
      "[\u001b[1mpy.warnings         \u001b[0m][\u001b[1;33mWARNING\u001b[0m]  \n",
      "\t/home/runner/work/tardis/tardis/tardis/plasma/properties/radiative_properties.py:93: RuntimeWarning: invalid value encountered in divide\n",
      "  (g_lower * n_upper) / (g_upper * n_lower)\n",
      " (\u001b[1mwarnings.py\u001b[0m:109)\n"
     ]
    },
    {
     "name": "stdout",
     "output_type": "stream",
     "text": [
      "[\u001b[1mtardis.simulation.base\u001b[0m][\u001b[1;37mINFO\u001b[0m   ]  \n",
      "\t\n",
      "\tStarting iteration 9 of 20 (\u001b[1mbase.py\u001b[0m:398)\n"
     ]
    },
    {
     "name": "stdout",
     "output_type": "stream",
     "text": [
      "[\u001b[1mtardis.simulation.base\u001b[0m][\u001b[1;37mINFO\u001b[0m   ]  \n",
      "\t\n",
      "\tLuminosity emitted   = 1.052e+43 erg / s\n",
      "\tLuminosity absorbed  = 3.411e+42 erg / s\n",
      "\tLuminosity requested = 1.059e+43 erg / s\n",
      " (\u001b[1mbase.py\u001b[0m:580)\n"
     ]
    },
    {
     "name": "stdout",
     "output_type": "stream",
     "text": [
      "[\u001b[1mtardis.simulation.base\u001b[0m][\u001b[1;37mINFO\u001b[0m   ]  \n",
      "\tIteration converged 5/4 consecutive times. (\u001b[1mbase.py\u001b[0m:268)\n"
     ]
    },
    {
     "name": "stdout",
     "output_type": "stream",
     "text": [
      "[\u001b[1mtardis.simulation.base\u001b[0m][\u001b[1;37mINFO\u001b[0m   ]  \n",
      "\t\n",
      "\tPlasma stratification: (\u001b[1mbase.py\u001b[0m:548)\n"
     ]
    },
    {
     "data": {
      "text/html": [
       "<style type=\"text/css\">\n",
       "</style>\n",
       "<table id=\"T_54b4d\">\n",
       "  <thead>\n",
       "    <tr>\n",
       "      <th class=\"index_name level0\" >Shell No.</th>\n",
       "      <th id=\"T_54b4d_level0_col0\" class=\"col_heading level0 col0\" >t_rad</th>\n",
       "      <th id=\"T_54b4d_level0_col1\" class=\"col_heading level0 col1\" >next_t_rad</th>\n",
       "      <th id=\"T_54b4d_level0_col2\" class=\"col_heading level0 col2\" >w</th>\n",
       "      <th id=\"T_54b4d_level0_col3\" class=\"col_heading level0 col3\" >next_w</th>\n",
       "    </tr>\n",
       "  </thead>\n",
       "  <tbody>\n",
       "    <tr>\n",
       "      <th id=\"T_54b4d_level0_row0\" class=\"row_heading level0 row0\" >0</th>\n",
       "      <td id=\"T_54b4d_row0_col0\" class=\"data row0 col0\" >1.11e+04 K</td>\n",
       "      <td id=\"T_54b4d_row0_col1\" class=\"data row0 col1\" >1.11e+04 K</td>\n",
       "      <td id=\"T_54b4d_row0_col2\" class=\"data row0 col2\" >0.472</td>\n",
       "      <td id=\"T_54b4d_row0_col3\" class=\"data row0 col3\" >0.469</td>\n",
       "    </tr>\n",
       "    <tr>\n",
       "      <th id=\"T_54b4d_level0_row1\" class=\"row_heading level0 row1\" >5</th>\n",
       "      <td id=\"T_54b4d_row1_col0\" class=\"data row1 col0\" >1.14e+04 K</td>\n",
       "      <td id=\"T_54b4d_row1_col1\" class=\"data row1 col1\" >1.15e+04 K</td>\n",
       "      <td id=\"T_54b4d_row1_col2\" class=\"data row1 col2\" >0.175</td>\n",
       "      <td id=\"T_54b4d_row1_col3\" class=\"data row1 col3\" >0.17</td>\n",
       "    </tr>\n",
       "    <tr>\n",
       "      <th id=\"T_54b4d_level0_row2\" class=\"row_heading level0 row2\" >10</th>\n",
       "      <td id=\"T_54b4d_row2_col0\" class=\"data row2 col0\" >1.11e+04 K</td>\n",
       "      <td id=\"T_54b4d_row2_col1\" class=\"data row2 col1\" >1.11e+04 K</td>\n",
       "      <td id=\"T_54b4d_row2_col2\" class=\"data row2 col2\" >0.111</td>\n",
       "      <td id=\"T_54b4d_row2_col3\" class=\"data row2 col3\" >0.109</td>\n",
       "    </tr>\n",
       "    <tr>\n",
       "      <th id=\"T_54b4d_level0_row3\" class=\"row_heading level0 row3\" >15</th>\n",
       "      <td id=\"T_54b4d_row3_col0\" class=\"data row3 col0\" >1.07e+04 K</td>\n",
       "      <td id=\"T_54b4d_row3_col1\" class=\"data row3 col1\" >1.08e+04 K</td>\n",
       "      <td id=\"T_54b4d_row3_col2\" class=\"data row3 col2\" >0.084</td>\n",
       "      <td id=\"T_54b4d_row3_col3\" class=\"data row3 col3\" >0.0822</td>\n",
       "    </tr>\n",
       "  </tbody>\n",
       "</table>\n"
      ],
      "text/plain": [
       "<pandas.io.formats.style.Styler at 0x7fc9be76c6d0>"
      ]
     },
     "metadata": {},
     "output_type": "display_data"
    },
    {
     "name": "stdout",
     "output_type": "stream",
     "text": [
      "[\u001b[1mtardis.simulation.base\u001b[0m][\u001b[1;37mINFO\u001b[0m   ]  \n",
      "\t\n",
      "\tCurrent t_inner = 10636.106 K\n",
      "\tExpected t_inner for next iteration = 10654.313 K\n",
      " (\u001b[1mbase.py\u001b[0m:575)\n"
     ]
    },
    {
     "name": "stdout",
     "output_type": "stream",
     "text": [
      "[\u001b[1mpy.warnings         \u001b[0m][\u001b[1;33mWARNING\u001b[0m]  \n",
      "\t/home/runner/work/tardis/tardis/tardis/plasma/properties/radiative_properties.py:93: RuntimeWarning: invalid value encountered in divide\n",
      "  (g_lower * n_upper) / (g_upper * n_lower)\n",
      " (\u001b[1mwarnings.py\u001b[0m:109)\n"
     ]
    },
    {
     "name": "stdout",
     "output_type": "stream",
     "text": [
      "[\u001b[1mtardis.simulation.base\u001b[0m][\u001b[1;37mINFO\u001b[0m   ]  \n",
      "\t\n",
      "\tStarting iteration 10 of 20 (\u001b[1mbase.py\u001b[0m:398)\n"
     ]
    },
    {
     "name": "stdout",
     "output_type": "stream",
     "text": [
      "[\u001b[1mtardis.simulation.base\u001b[0m][\u001b[1;37mINFO\u001b[0m   ]  \n",
      "\t\n",
      "\tLuminosity emitted   = 1.070e+43 erg / s\n",
      "\tLuminosity absorbed  = 3.335e+42 erg / s\n",
      "\tLuminosity requested = 1.059e+43 erg / s\n",
      " (\u001b[1mbase.py\u001b[0m:580)\n"
     ]
    },
    {
     "name": "stdout",
     "output_type": "stream",
     "text": [
      "[\u001b[1mtardis.simulation.base\u001b[0m][\u001b[1;37mINFO\u001b[0m   ]  \n",
      "\t\n",
      "\tPlasma stratification: (\u001b[1mbase.py\u001b[0m:548)\n"
     ]
    },
    {
     "data": {
      "text/html": [
       "<style type=\"text/css\">\n",
       "</style>\n",
       "<table id=\"T_feec4\">\n",
       "  <thead>\n",
       "    <tr>\n",
       "      <th class=\"index_name level0\" >Shell No.</th>\n",
       "      <th id=\"T_feec4_level0_col0\" class=\"col_heading level0 col0\" >t_rad</th>\n",
       "      <th id=\"T_feec4_level0_col1\" class=\"col_heading level0 col1\" >next_t_rad</th>\n",
       "      <th id=\"T_feec4_level0_col2\" class=\"col_heading level0 col2\" >w</th>\n",
       "      <th id=\"T_feec4_level0_col3\" class=\"col_heading level0 col3\" >next_w</th>\n",
       "    </tr>\n",
       "  </thead>\n",
       "  <tbody>\n",
       "    <tr>\n",
       "      <th id=\"T_feec4_level0_row0\" class=\"row_heading level0 row0\" >0</th>\n",
       "      <td id=\"T_feec4_row0_col0\" class=\"data row0 col0\" >1.11e+04 K</td>\n",
       "      <td id=\"T_feec4_row0_col1\" class=\"data row0 col1\" >1.1e+04 K</td>\n",
       "      <td id=\"T_feec4_row0_col2\" class=\"data row0 col2\" >0.469</td>\n",
       "      <td id=\"T_feec4_row0_col3\" class=\"data row0 col3\" >0.475</td>\n",
       "    </tr>\n",
       "    <tr>\n",
       "      <th id=\"T_feec4_level0_row1\" class=\"row_heading level0 row1\" >5</th>\n",
       "      <td id=\"T_feec4_row1_col0\" class=\"data row1 col0\" >1.15e+04 K</td>\n",
       "      <td id=\"T_feec4_row1_col1\" class=\"data row1 col1\" >1.14e+04 K</td>\n",
       "      <td id=\"T_feec4_row1_col2\" class=\"data row1 col2\" >0.17</td>\n",
       "      <td id=\"T_feec4_row1_col3\" class=\"data row1 col3\" >0.177</td>\n",
       "    </tr>\n",
       "    <tr>\n",
       "      <th id=\"T_feec4_level0_row2\" class=\"row_heading level0 row2\" >10</th>\n",
       "      <td id=\"T_feec4_row2_col0\" class=\"data row2 col0\" >1.11e+04 K</td>\n",
       "      <td id=\"T_feec4_row2_col1\" class=\"data row2 col1\" >1.11e+04 K</td>\n",
       "      <td id=\"T_feec4_row2_col2\" class=\"data row2 col2\" >0.109</td>\n",
       "      <td id=\"T_feec4_row2_col3\" class=\"data row2 col3\" >0.112</td>\n",
       "    </tr>\n",
       "    <tr>\n",
       "      <th id=\"T_feec4_level0_row3\" class=\"row_heading level0 row3\" >15</th>\n",
       "      <td id=\"T_feec4_row3_col0\" class=\"data row3 col0\" >1.08e+04 K</td>\n",
       "      <td id=\"T_feec4_row3_col1\" class=\"data row3 col1\" >1.06e+04 K</td>\n",
       "      <td id=\"T_feec4_row3_col2\" class=\"data row3 col2\" >0.0822</td>\n",
       "      <td id=\"T_feec4_row3_col3\" class=\"data row3 col3\" >0.0878</td>\n",
       "    </tr>\n",
       "  </tbody>\n",
       "</table>\n"
      ],
      "text/plain": [
       "<pandas.io.formats.style.Styler at 0x7fc9b55aa350>"
      ]
     },
     "metadata": {},
     "output_type": "display_data"
    },
    {
     "name": "stdout",
     "output_type": "stream",
     "text": [
      "[\u001b[1mtardis.simulation.base\u001b[0m][\u001b[1;37mINFO\u001b[0m   ]  \n",
      "\t\n",
      "\tCurrent t_inner = 10654.313 K\n",
      "\tExpected t_inner for next iteration = 10628.190 K\n",
      " (\u001b[1mbase.py\u001b[0m:575)\n"
     ]
    },
    {
     "name": "stdout",
     "output_type": "stream",
     "text": [
      "[\u001b[1mpy.warnings         \u001b[0m][\u001b[1;33mWARNING\u001b[0m]  \n",
      "\t/home/runner/work/tardis/tardis/tardis/plasma/properties/radiative_properties.py:93: RuntimeWarning: invalid value encountered in divide\n",
      "  (g_lower * n_upper) / (g_upper * n_lower)\n",
      " (\u001b[1mwarnings.py\u001b[0m:109)\n"
     ]
    },
    {
     "name": "stdout",
     "output_type": "stream",
     "text": [
      "[\u001b[1mtardis.simulation.base\u001b[0m][\u001b[1;37mINFO\u001b[0m   ]  \n",
      "\t\n",
      "\tStarting iteration 11 of 20 (\u001b[1mbase.py\u001b[0m:398)\n"
     ]
    },
    {
     "name": "stdout",
     "output_type": "stream",
     "text": [
      "[\u001b[1mtardis.simulation.base\u001b[0m][\u001b[1;37mINFO\u001b[0m   ]  \n",
      "\t\n",
      "\tLuminosity emitted   = 1.053e+43 erg / s\n",
      "\tLuminosity absorbed  = 3.363e+42 erg / s\n",
      "\tLuminosity requested = 1.059e+43 erg / s\n",
      " (\u001b[1mbase.py\u001b[0m:580)\n"
     ]
    },
    {
     "name": "stdout",
     "output_type": "stream",
     "text": [
      "[\u001b[1mtardis.simulation.base\u001b[0m][\u001b[1;37mINFO\u001b[0m   ]  \n",
      "\tIteration converged 1/4 consecutive times. (\u001b[1mbase.py\u001b[0m:268)\n"
     ]
    },
    {
     "name": "stdout",
     "output_type": "stream",
     "text": [
      "[\u001b[1mtardis.simulation.base\u001b[0m][\u001b[1;37mINFO\u001b[0m   ]  \n",
      "\t\n",
      "\tPlasma stratification: (\u001b[1mbase.py\u001b[0m:548)\n"
     ]
    },
    {
     "data": {
      "text/html": [
       "<style type=\"text/css\">\n",
       "</style>\n",
       "<table id=\"T_4e2ff\">\n",
       "  <thead>\n",
       "    <tr>\n",
       "      <th class=\"index_name level0\" >Shell No.</th>\n",
       "      <th id=\"T_4e2ff_level0_col0\" class=\"col_heading level0 col0\" >t_rad</th>\n",
       "      <th id=\"T_4e2ff_level0_col1\" class=\"col_heading level0 col1\" >next_t_rad</th>\n",
       "      <th id=\"T_4e2ff_level0_col2\" class=\"col_heading level0 col2\" >w</th>\n",
       "      <th id=\"T_4e2ff_level0_col3\" class=\"col_heading level0 col3\" >next_w</th>\n",
       "    </tr>\n",
       "  </thead>\n",
       "  <tbody>\n",
       "    <tr>\n",
       "      <th id=\"T_4e2ff_level0_row0\" class=\"row_heading level0 row0\" >0</th>\n",
       "      <td id=\"T_4e2ff_row0_col0\" class=\"data row0 col0\" >1.1e+04 K</td>\n",
       "      <td id=\"T_4e2ff_row0_col1\" class=\"data row0 col1\" >1.1e+04 K</td>\n",
       "      <td id=\"T_4e2ff_row0_col2\" class=\"data row0 col2\" >0.475</td>\n",
       "      <td id=\"T_4e2ff_row0_col3\" class=\"data row0 col3\" >0.472</td>\n",
       "    </tr>\n",
       "    <tr>\n",
       "      <th id=\"T_4e2ff_level0_row1\" class=\"row_heading level0 row1\" >5</th>\n",
       "      <td id=\"T_4e2ff_row1_col0\" class=\"data row1 col0\" >1.14e+04 K</td>\n",
       "      <td id=\"T_4e2ff_row1_col1\" class=\"data row1 col1\" >1.12e+04 K</td>\n",
       "      <td id=\"T_4e2ff_row1_col2\" class=\"data row1 col2\" >0.177</td>\n",
       "      <td id=\"T_4e2ff_row1_col3\" class=\"data row1 col3\" >0.184</td>\n",
       "    </tr>\n",
       "    <tr>\n",
       "      <th id=\"T_4e2ff_level0_row2\" class=\"row_heading level0 row2\" >10</th>\n",
       "      <td id=\"T_4e2ff_row2_col0\" class=\"data row2 col0\" >1.11e+04 K</td>\n",
       "      <td id=\"T_4e2ff_row2_col1\" class=\"data row2 col1\" >1.1e+04 K</td>\n",
       "      <td id=\"T_4e2ff_row2_col2\" class=\"data row2 col2\" >0.112</td>\n",
       "      <td id=\"T_4e2ff_row2_col3\" class=\"data row2 col3\" >0.114</td>\n",
       "    </tr>\n",
       "    <tr>\n",
       "      <th id=\"T_4e2ff_level0_row3\" class=\"row_heading level0 row3\" >15</th>\n",
       "      <td id=\"T_4e2ff_row3_col0\" class=\"data row3 col0\" >1.06e+04 K</td>\n",
       "      <td id=\"T_4e2ff_row3_col1\" class=\"data row3 col1\" >1.06e+04 K</td>\n",
       "      <td id=\"T_4e2ff_row3_col2\" class=\"data row3 col2\" >0.0878</td>\n",
       "      <td id=\"T_4e2ff_row3_col3\" class=\"data row3 col3\" >0.0859</td>\n",
       "    </tr>\n",
       "  </tbody>\n",
       "</table>\n"
      ],
      "text/plain": [
       "<pandas.io.formats.style.Styler at 0x7fc9b55b91d0>"
      ]
     },
     "metadata": {},
     "output_type": "display_data"
    },
    {
     "name": "stdout",
     "output_type": "stream",
     "text": [
      "[\u001b[1mtardis.simulation.base\u001b[0m][\u001b[1;37mINFO\u001b[0m   ]  \n",
      "\t\n",
      "\tCurrent t_inner = 10628.190 K\n",
      "\tExpected t_inner for next iteration = 10644.054 K\n",
      " (\u001b[1mbase.py\u001b[0m:575)\n"
     ]
    },
    {
     "name": "stdout",
     "output_type": "stream",
     "text": [
      "[\u001b[1mpy.warnings         \u001b[0m][\u001b[1;33mWARNING\u001b[0m]  \n",
      "\t/home/runner/work/tardis/tardis/tardis/plasma/properties/radiative_properties.py:93: RuntimeWarning: invalid value encountered in divide\n",
      "  (g_lower * n_upper) / (g_upper * n_lower)\n",
      " (\u001b[1mwarnings.py\u001b[0m:109)\n"
     ]
    },
    {
     "name": "stdout",
     "output_type": "stream",
     "text": [
      "[\u001b[1mtardis.simulation.base\u001b[0m][\u001b[1;37mINFO\u001b[0m   ]  \n",
      "\t\n",
      "\tStarting iteration 12 of 20 (\u001b[1mbase.py\u001b[0m:398)\n"
     ]
    },
    {
     "name": "stdout",
     "output_type": "stream",
     "text": [
      "[\u001b[1mtardis.simulation.base\u001b[0m][\u001b[1;37mINFO\u001b[0m   ]  \n",
      "\t\n",
      "\tLuminosity emitted   = 1.056e+43 erg / s\n",
      "\tLuminosity absorbed  = 3.420e+42 erg / s\n",
      "\tLuminosity requested = 1.059e+43 erg / s\n",
      " (\u001b[1mbase.py\u001b[0m:580)\n"
     ]
    },
    {
     "name": "stdout",
     "output_type": "stream",
     "text": [
      "[\u001b[1mtardis.simulation.base\u001b[0m][\u001b[1;37mINFO\u001b[0m   ]  \n",
      "\t\n",
      "\tPlasma stratification: (\u001b[1mbase.py\u001b[0m:548)\n"
     ]
    },
    {
     "data": {
      "text/html": [
       "<style type=\"text/css\">\n",
       "</style>\n",
       "<table id=\"T_e428c\">\n",
       "  <thead>\n",
       "    <tr>\n",
       "      <th class=\"index_name level0\" >Shell No.</th>\n",
       "      <th id=\"T_e428c_level0_col0\" class=\"col_heading level0 col0\" >t_rad</th>\n",
       "      <th id=\"T_e428c_level0_col1\" class=\"col_heading level0 col1\" >next_t_rad</th>\n",
       "      <th id=\"T_e428c_level0_col2\" class=\"col_heading level0 col2\" >w</th>\n",
       "      <th id=\"T_e428c_level0_col3\" class=\"col_heading level0 col3\" >next_w</th>\n",
       "    </tr>\n",
       "  </thead>\n",
       "  <tbody>\n",
       "    <tr>\n",
       "      <th id=\"T_e428c_level0_row0\" class=\"row_heading level0 row0\" >0</th>\n",
       "      <td id=\"T_e428c_row0_col0\" class=\"data row0 col0\" >1.1e+04 K</td>\n",
       "      <td id=\"T_e428c_row0_col1\" class=\"data row0 col1\" >1.11e+04 K</td>\n",
       "      <td id=\"T_e428c_row0_col2\" class=\"data row0 col2\" >0.472</td>\n",
       "      <td id=\"T_e428c_row0_col3\" class=\"data row0 col3\" >0.467</td>\n",
       "    </tr>\n",
       "    <tr>\n",
       "      <th id=\"T_e428c_level0_row1\" class=\"row_heading level0 row1\" >5</th>\n",
       "      <td id=\"T_e428c_row1_col0\" class=\"data row1 col0\" >1.12e+04 K</td>\n",
       "      <td id=\"T_e428c_row1_col1\" class=\"data row1 col1\" >1.13e+04 K</td>\n",
       "      <td id=\"T_e428c_row1_col2\" class=\"data row1 col2\" >0.184</td>\n",
       "      <td id=\"T_e428c_row1_col3\" class=\"data row1 col3\" >0.176</td>\n",
       "    </tr>\n",
       "    <tr>\n",
       "      <th id=\"T_e428c_level0_row2\" class=\"row_heading level0 row2\" >10</th>\n",
       "      <td id=\"T_e428c_row2_col0\" class=\"data row2 col0\" >1.1e+04 K</td>\n",
       "      <td id=\"T_e428c_row2_col1\" class=\"data row2 col1\" >1.11e+04 K</td>\n",
       "      <td id=\"T_e428c_row2_col2\" class=\"data row2 col2\" >0.114</td>\n",
       "      <td id=\"T_e428c_row2_col3\" class=\"data row2 col3\" >0.11</td>\n",
       "    </tr>\n",
       "    <tr>\n",
       "      <th id=\"T_e428c_level0_row3\" class=\"row_heading level0 row3\" >15</th>\n",
       "      <td id=\"T_e428c_row3_col0\" class=\"data row3 col0\" >1.06e+04 K</td>\n",
       "      <td id=\"T_e428c_row3_col1\" class=\"data row3 col1\" >1.08e+04 K</td>\n",
       "      <td id=\"T_e428c_row3_col2\" class=\"data row3 col2\" >0.0859</td>\n",
       "      <td id=\"T_e428c_row3_col3\" class=\"data row3 col3\" >0.0821</td>\n",
       "    </tr>\n",
       "  </tbody>\n",
       "</table>\n"
      ],
      "text/plain": [
       "<pandas.io.formats.style.Styler at 0x7fc9b55cbcd0>"
      ]
     },
     "metadata": {},
     "output_type": "display_data"
    },
    {
     "name": "stdout",
     "output_type": "stream",
     "text": [
      "[\u001b[1mtardis.simulation.base\u001b[0m][\u001b[1;37mINFO\u001b[0m   ]  \n",
      "\t\n",
      "\tCurrent t_inner = 10644.054 K\n",
      "\tExpected t_inner for next iteration = 10653.543 K\n",
      " (\u001b[1mbase.py\u001b[0m:575)\n"
     ]
    },
    {
     "name": "stdout",
     "output_type": "stream",
     "text": [
      "[\u001b[1mpy.warnings         \u001b[0m][\u001b[1;33mWARNING\u001b[0m]  \n",
      "\t/home/runner/work/tardis/tardis/tardis/plasma/properties/radiative_properties.py:93: RuntimeWarning: invalid value encountered in divide\n",
      "  (g_lower * n_upper) / (g_upper * n_lower)\n",
      " (\u001b[1mwarnings.py\u001b[0m:109)\n"
     ]
    },
    {
     "name": "stdout",
     "output_type": "stream",
     "text": [
      "[\u001b[1mtardis.simulation.base\u001b[0m][\u001b[1;37mINFO\u001b[0m   ]  \n",
      "\t\n",
      "\tStarting iteration 13 of 20 (\u001b[1mbase.py\u001b[0m:398)\n"
     ]
    },
    {
     "name": "stdout",
     "output_type": "stream",
     "text": [
      "[\u001b[1mtardis.simulation.base\u001b[0m][\u001b[1;37mINFO\u001b[0m   ]  \n",
      "\t\n",
      "\tLuminosity emitted   = 1.062e+43 erg / s\n",
      "\tLuminosity absorbed  = 3.406e+42 erg / s\n",
      "\tLuminosity requested = 1.059e+43 erg / s\n",
      " (\u001b[1mbase.py\u001b[0m:580)\n"
     ]
    },
    {
     "name": "stdout",
     "output_type": "stream",
     "text": [
      "[\u001b[1mtardis.simulation.base\u001b[0m][\u001b[1;37mINFO\u001b[0m   ]  \n",
      "\tIteration converged 1/4 consecutive times. (\u001b[1mbase.py\u001b[0m:268)\n"
     ]
    },
    {
     "name": "stdout",
     "output_type": "stream",
     "text": [
      "[\u001b[1mtardis.simulation.base\u001b[0m][\u001b[1;37mINFO\u001b[0m   ]  \n",
      "\t\n",
      "\tPlasma stratification: (\u001b[1mbase.py\u001b[0m:548)\n"
     ]
    },
    {
     "data": {
      "text/html": [
       "<style type=\"text/css\">\n",
       "</style>\n",
       "<table id=\"T_a8fa6\">\n",
       "  <thead>\n",
       "    <tr>\n",
       "      <th class=\"index_name level0\" >Shell No.</th>\n",
       "      <th id=\"T_a8fa6_level0_col0\" class=\"col_heading level0 col0\" >t_rad</th>\n",
       "      <th id=\"T_a8fa6_level0_col1\" class=\"col_heading level0 col1\" >next_t_rad</th>\n",
       "      <th id=\"T_a8fa6_level0_col2\" class=\"col_heading level0 col2\" >w</th>\n",
       "      <th id=\"T_a8fa6_level0_col3\" class=\"col_heading level0 col3\" >next_w</th>\n",
       "    </tr>\n",
       "  </thead>\n",
       "  <tbody>\n",
       "    <tr>\n",
       "      <th id=\"T_a8fa6_level0_row0\" class=\"row_heading level0 row0\" >0</th>\n",
       "      <td id=\"T_a8fa6_row0_col0\" class=\"data row0 col0\" >1.11e+04 K</td>\n",
       "      <td id=\"T_a8fa6_row0_col1\" class=\"data row0 col1\" >1.11e+04 K</td>\n",
       "      <td id=\"T_a8fa6_row0_col2\" class=\"data row0 col2\" >0.467</td>\n",
       "      <td id=\"T_a8fa6_row0_col3\" class=\"data row0 col3\" >0.466</td>\n",
       "    </tr>\n",
       "    <tr>\n",
       "      <th id=\"T_a8fa6_level0_row1\" class=\"row_heading level0 row1\" >5</th>\n",
       "      <td id=\"T_a8fa6_row1_col0\" class=\"data row1 col0\" >1.13e+04 K</td>\n",
       "      <td id=\"T_a8fa6_row1_col1\" class=\"data row1 col1\" >1.13e+04 K</td>\n",
       "      <td id=\"T_a8fa6_row1_col2\" class=\"data row1 col2\" >0.176</td>\n",
       "      <td id=\"T_a8fa6_row1_col3\" class=\"data row1 col3\" >0.18</td>\n",
       "    </tr>\n",
       "    <tr>\n",
       "      <th id=\"T_a8fa6_level0_row2\" class=\"row_heading level0 row2\" >10</th>\n",
       "      <td id=\"T_a8fa6_row2_col0\" class=\"data row2 col0\" >1.11e+04 K</td>\n",
       "      <td id=\"T_a8fa6_row2_col1\" class=\"data row2 col1\" >1.11e+04 K</td>\n",
       "      <td id=\"T_a8fa6_row2_col2\" class=\"data row2 col2\" >0.11</td>\n",
       "      <td id=\"T_a8fa6_row2_col3\" class=\"data row2 col3\" >0.111</td>\n",
       "    </tr>\n",
       "    <tr>\n",
       "      <th id=\"T_a8fa6_level0_row3\" class=\"row_heading level0 row3\" >15</th>\n",
       "      <td id=\"T_a8fa6_row3_col0\" class=\"data row3 col0\" >1.08e+04 K</td>\n",
       "      <td id=\"T_a8fa6_row3_col1\" class=\"data row3 col1\" >1.08e+04 K</td>\n",
       "      <td id=\"T_a8fa6_row3_col2\" class=\"data row3 col2\" >0.0821</td>\n",
       "      <td id=\"T_a8fa6_row3_col3\" class=\"data row3 col3\" >0.0841</td>\n",
       "    </tr>\n",
       "  </tbody>\n",
       "</table>\n"
      ],
      "text/plain": [
       "<pandas.io.formats.style.Styler at 0x7fc9b55abc10>"
      ]
     },
     "metadata": {},
     "output_type": "display_data"
    },
    {
     "name": "stdout",
     "output_type": "stream",
     "text": [
      "[\u001b[1mtardis.simulation.base\u001b[0m][\u001b[1;37mINFO\u001b[0m   ]  \n",
      "\t\n",
      "\tCurrent t_inner = 10653.543 K\n",
      "\tExpected t_inner for next iteration = 10647.277 K\n",
      " (\u001b[1mbase.py\u001b[0m:575)\n"
     ]
    },
    {
     "name": "stdout",
     "output_type": "stream",
     "text": [
      "[\u001b[1mpy.warnings         \u001b[0m][\u001b[1;33mWARNING\u001b[0m]  \n",
      "\t/home/runner/work/tardis/tardis/tardis/plasma/properties/radiative_properties.py:93: RuntimeWarning: invalid value encountered in divide\n",
      "  (g_lower * n_upper) / (g_upper * n_lower)\n",
      " (\u001b[1mwarnings.py\u001b[0m:109)\n"
     ]
    },
    {
     "name": "stdout",
     "output_type": "stream",
     "text": [
      "[\u001b[1mtardis.simulation.base\u001b[0m][\u001b[1;37mINFO\u001b[0m   ]  \n",
      "\t\n",
      "\tStarting iteration 14 of 20 (\u001b[1mbase.py\u001b[0m:398)\n"
     ]
    },
    {
     "name": "stdout",
     "output_type": "stream",
     "text": [
      "[\u001b[1mtardis.simulation.base\u001b[0m][\u001b[1;37mINFO\u001b[0m   ]  \n",
      "\t\n",
      "\tLuminosity emitted   = 1.063e+43 erg / s\n",
      "\tLuminosity absorbed  = 3.369e+42 erg / s\n",
      "\tLuminosity requested = 1.059e+43 erg / s\n",
      " (\u001b[1mbase.py\u001b[0m:580)\n"
     ]
    },
    {
     "name": "stdout",
     "output_type": "stream",
     "text": [
      "[\u001b[1mtardis.simulation.base\u001b[0m][\u001b[1;37mINFO\u001b[0m   ]  \n",
      "\tIteration converged 2/4 consecutive times. (\u001b[1mbase.py\u001b[0m:268)\n"
     ]
    },
    {
     "name": "stdout",
     "output_type": "stream",
     "text": [
      "[\u001b[1mtardis.simulation.base\u001b[0m][\u001b[1;37mINFO\u001b[0m   ]  \n",
      "\t\n",
      "\tPlasma stratification: (\u001b[1mbase.py\u001b[0m:548)\n"
     ]
    },
    {
     "data": {
      "text/html": [
       "<style type=\"text/css\">\n",
       "</style>\n",
       "<table id=\"T_37d39\">\n",
       "  <thead>\n",
       "    <tr>\n",
       "      <th class=\"index_name level0\" >Shell No.</th>\n",
       "      <th id=\"T_37d39_level0_col0\" class=\"col_heading level0 col0\" >t_rad</th>\n",
       "      <th id=\"T_37d39_level0_col1\" class=\"col_heading level0 col1\" >next_t_rad</th>\n",
       "      <th id=\"T_37d39_level0_col2\" class=\"col_heading level0 col2\" >w</th>\n",
       "      <th id=\"T_37d39_level0_col3\" class=\"col_heading level0 col3\" >next_w</th>\n",
       "    </tr>\n",
       "  </thead>\n",
       "  <tbody>\n",
       "    <tr>\n",
       "      <th id=\"T_37d39_level0_row0\" class=\"row_heading level0 row0\" >0</th>\n",
       "      <td id=\"T_37d39_row0_col0\" class=\"data row0 col0\" >1.11e+04 K</td>\n",
       "      <td id=\"T_37d39_row0_col1\" class=\"data row0 col1\" >1.11e+04 K</td>\n",
       "      <td id=\"T_37d39_row0_col2\" class=\"data row0 col2\" >0.466</td>\n",
       "      <td id=\"T_37d39_row0_col3\" class=\"data row0 col3\" >0.469</td>\n",
       "    </tr>\n",
       "    <tr>\n",
       "      <th id=\"T_37d39_level0_row1\" class=\"row_heading level0 row1\" >5</th>\n",
       "      <td id=\"T_37d39_row1_col0\" class=\"data row1 col0\" >1.13e+04 K</td>\n",
       "      <td id=\"T_37d39_row1_col1\" class=\"data row1 col1\" >1.13e+04 K</td>\n",
       "      <td id=\"T_37d39_row1_col2\" class=\"data row1 col2\" >0.18</td>\n",
       "      <td id=\"T_37d39_row1_col3\" class=\"data row1 col3\" >0.182</td>\n",
       "    </tr>\n",
       "    <tr>\n",
       "      <th id=\"T_37d39_level0_row2\" class=\"row_heading level0 row2\" >10</th>\n",
       "      <td id=\"T_37d39_row2_col0\" class=\"data row2 col0\" >1.11e+04 K</td>\n",
       "      <td id=\"T_37d39_row2_col1\" class=\"data row2 col1\" >1.1e+04 K</td>\n",
       "      <td id=\"T_37d39_row2_col2\" class=\"data row2 col2\" >0.111</td>\n",
       "      <td id=\"T_37d39_row2_col3\" class=\"data row2 col3\" >0.113</td>\n",
       "    </tr>\n",
       "    <tr>\n",
       "      <th id=\"T_37d39_level0_row3\" class=\"row_heading level0 row3\" >15</th>\n",
       "      <td id=\"T_37d39_row3_col0\" class=\"data row3 col0\" >1.08e+04 K</td>\n",
       "      <td id=\"T_37d39_row3_col1\" class=\"data row3 col1\" >1.07e+04 K</td>\n",
       "      <td id=\"T_37d39_row3_col2\" class=\"data row3 col2\" >0.0841</td>\n",
       "      <td id=\"T_37d39_row3_col3\" class=\"data row3 col3\" >0.0854</td>\n",
       "    </tr>\n",
       "  </tbody>\n",
       "</table>\n"
      ],
      "text/plain": [
       "<pandas.io.formats.style.Styler at 0x7fc9b55caed0>"
      ]
     },
     "metadata": {},
     "output_type": "display_data"
    },
    {
     "name": "stdout",
     "output_type": "stream",
     "text": [
      "[\u001b[1mtardis.simulation.base\u001b[0m][\u001b[1;37mINFO\u001b[0m   ]  \n",
      "\t\n",
      "\tCurrent t_inner = 10647.277 K\n",
      "\tExpected t_inner for next iteration = 10638.875 K\n",
      " (\u001b[1mbase.py\u001b[0m:575)\n"
     ]
    },
    {
     "name": "stdout",
     "output_type": "stream",
     "text": [
      "[\u001b[1mpy.warnings         \u001b[0m][\u001b[1;33mWARNING\u001b[0m]  \n",
      "\t/home/runner/work/tardis/tardis/tardis/plasma/properties/radiative_properties.py:93: RuntimeWarning: invalid value encountered in divide\n",
      "  (g_lower * n_upper) / (g_upper * n_lower)\n",
      " (\u001b[1mwarnings.py\u001b[0m:109)\n"
     ]
    },
    {
     "name": "stdout",
     "output_type": "stream",
     "text": [
      "[\u001b[1mtardis.simulation.base\u001b[0m][\u001b[1;37mINFO\u001b[0m   ]  \n",
      "\t\n",
      "\tStarting iteration 15 of 20 (\u001b[1mbase.py\u001b[0m:398)\n"
     ]
    },
    {
     "name": "stdout",
     "output_type": "stream",
     "text": [
      "[\u001b[1mtardis.simulation.base\u001b[0m][\u001b[1;37mINFO\u001b[0m   ]  \n",
      "\t\n",
      "\tLuminosity emitted   = 1.053e+43 erg / s\n",
      "\tLuminosity absorbed  = 3.417e+42 erg / s\n",
      "\tLuminosity requested = 1.059e+43 erg / s\n",
      " (\u001b[1mbase.py\u001b[0m:580)\n"
     ]
    },
    {
     "name": "stdout",
     "output_type": "stream",
     "text": [
      "[\u001b[1mtardis.simulation.base\u001b[0m][\u001b[1;37mINFO\u001b[0m   ]  \n",
      "\tIteration converged 3/4 consecutive times. (\u001b[1mbase.py\u001b[0m:268)\n"
     ]
    },
    {
     "name": "stdout",
     "output_type": "stream",
     "text": [
      "[\u001b[1mtardis.simulation.base\u001b[0m][\u001b[1;37mINFO\u001b[0m   ]  \n",
      "\t\n",
      "\tPlasma stratification: (\u001b[1mbase.py\u001b[0m:548)\n"
     ]
    },
    {
     "data": {
      "text/html": [
       "<style type=\"text/css\">\n",
       "</style>\n",
       "<table id=\"T_0c322\">\n",
       "  <thead>\n",
       "    <tr>\n",
       "      <th class=\"index_name level0\" >Shell No.</th>\n",
       "      <th id=\"T_0c322_level0_col0\" class=\"col_heading level0 col0\" >t_rad</th>\n",
       "      <th id=\"T_0c322_level0_col1\" class=\"col_heading level0 col1\" >next_t_rad</th>\n",
       "      <th id=\"T_0c322_level0_col2\" class=\"col_heading level0 col2\" >w</th>\n",
       "      <th id=\"T_0c322_level0_col3\" class=\"col_heading level0 col3\" >next_w</th>\n",
       "    </tr>\n",
       "  </thead>\n",
       "  <tbody>\n",
       "    <tr>\n",
       "      <th id=\"T_0c322_level0_row0\" class=\"row_heading level0 row0\" >0</th>\n",
       "      <td id=\"T_0c322_row0_col0\" class=\"data row0 col0\" >1.11e+04 K</td>\n",
       "      <td id=\"T_0c322_row0_col1\" class=\"data row0 col1\" >1.1e+04 K</td>\n",
       "      <td id=\"T_0c322_row0_col2\" class=\"data row0 col2\" >0.469</td>\n",
       "      <td id=\"T_0c322_row0_col3\" class=\"data row0 col3\" >0.484</td>\n",
       "    </tr>\n",
       "    <tr>\n",
       "      <th id=\"T_0c322_level0_row1\" class=\"row_heading level0 row1\" >5</th>\n",
       "      <td id=\"T_0c322_row1_col0\" class=\"data row1 col0\" >1.13e+04 K</td>\n",
       "      <td id=\"T_0c322_row1_col1\" class=\"data row1 col1\" >1.13e+04 K</td>\n",
       "      <td id=\"T_0c322_row1_col2\" class=\"data row1 col2\" >0.182</td>\n",
       "      <td id=\"T_0c322_row1_col3\" class=\"data row1 col3\" >0.181</td>\n",
       "    </tr>\n",
       "    <tr>\n",
       "      <th id=\"T_0c322_level0_row2\" class=\"row_heading level0 row2\" >10</th>\n",
       "      <td id=\"T_0c322_row2_col0\" class=\"data row2 col0\" >1.1e+04 K</td>\n",
       "      <td id=\"T_0c322_row2_col1\" class=\"data row2 col1\" >1.1e+04 K</td>\n",
       "      <td id=\"T_0c322_row2_col2\" class=\"data row2 col2\" >0.113</td>\n",
       "      <td id=\"T_0c322_row2_col3\" class=\"data row2 col3\" >0.113</td>\n",
       "    </tr>\n",
       "    <tr>\n",
       "      <th id=\"T_0c322_level0_row3\" class=\"row_heading level0 row3\" >15</th>\n",
       "      <td id=\"T_0c322_row3_col0\" class=\"data row3 col0\" >1.07e+04 K</td>\n",
       "      <td id=\"T_0c322_row3_col1\" class=\"data row3 col1\" >1.07e+04 K</td>\n",
       "      <td id=\"T_0c322_row3_col2\" class=\"data row3 col2\" >0.0854</td>\n",
       "      <td id=\"T_0c322_row3_col3\" class=\"data row3 col3\" >0.0858</td>\n",
       "    </tr>\n",
       "  </tbody>\n",
       "</table>\n"
      ],
      "text/plain": [
       "<pandas.io.formats.style.Styler at 0x7fc9b55b1c50>"
      ]
     },
     "metadata": {},
     "output_type": "display_data"
    },
    {
     "name": "stdout",
     "output_type": "stream",
     "text": [
      "[\u001b[1mtardis.simulation.base\u001b[0m][\u001b[1;37mINFO\u001b[0m   ]  \n",
      "\t\n",
      "\tCurrent t_inner = 10638.875 K\n",
      "\tExpected t_inner for next iteration = 10655.125 K\n",
      " (\u001b[1mbase.py\u001b[0m:575)\n"
     ]
    },
    {
     "name": "stdout",
     "output_type": "stream",
     "text": [
      "[\u001b[1mpy.warnings         \u001b[0m][\u001b[1;33mWARNING\u001b[0m]  \n",
      "\t/home/runner/work/tardis/tardis/tardis/plasma/properties/radiative_properties.py:93: RuntimeWarning: invalid value encountered in divide\n",
      "  (g_lower * n_upper) / (g_upper * n_lower)\n",
      " (\u001b[1mwarnings.py\u001b[0m:109)\n"
     ]
    },
    {
     "name": "stdout",
     "output_type": "stream",
     "text": [
      "[\u001b[1mtardis.simulation.base\u001b[0m][\u001b[1;37mINFO\u001b[0m   ]  \n",
      "\t\n",
      "\tStarting iteration 16 of 20 (\u001b[1mbase.py\u001b[0m:398)\n"
     ]
    },
    {
     "name": "stdout",
     "output_type": "stream",
     "text": [
      "[\u001b[1mtardis.simulation.base\u001b[0m][\u001b[1;37mINFO\u001b[0m   ]  \n",
      "\t\n",
      "\tLuminosity emitted   = 1.059e+43 erg / s\n",
      "\tLuminosity absorbed  = 3.445e+42 erg / s\n",
      "\tLuminosity requested = 1.059e+43 erg / s\n",
      " (\u001b[1mbase.py\u001b[0m:580)\n"
     ]
    },
    {
     "name": "stdout",
     "output_type": "stream",
     "text": [
      "[\u001b[1mtardis.simulation.base\u001b[0m][\u001b[1;37mINFO\u001b[0m   ]  \n",
      "\tIteration converged 4/4 consecutive times. (\u001b[1mbase.py\u001b[0m:268)\n"
     ]
    },
    {
     "name": "stdout",
     "output_type": "stream",
     "text": [
      "[\u001b[1mtardis.simulation.base\u001b[0m][\u001b[1;37mINFO\u001b[0m   ]  \n",
      "\t\n",
      "\tPlasma stratification: (\u001b[1mbase.py\u001b[0m:548)\n"
     ]
    },
    {
     "data": {
      "text/html": [
       "<style type=\"text/css\">\n",
       "</style>\n",
       "<table id=\"T_e25b2\">\n",
       "  <thead>\n",
       "    <tr>\n",
       "      <th class=\"index_name level0\" >Shell No.</th>\n",
       "      <th id=\"T_e25b2_level0_col0\" class=\"col_heading level0 col0\" >t_rad</th>\n",
       "      <th id=\"T_e25b2_level0_col1\" class=\"col_heading level0 col1\" >next_t_rad</th>\n",
       "      <th id=\"T_e25b2_level0_col2\" class=\"col_heading level0 col2\" >w</th>\n",
       "      <th id=\"T_e25b2_level0_col3\" class=\"col_heading level0 col3\" >next_w</th>\n",
       "    </tr>\n",
       "  </thead>\n",
       "  <tbody>\n",
       "    <tr>\n",
       "      <th id=\"T_e25b2_level0_row0\" class=\"row_heading level0 row0\" >0</th>\n",
       "      <td id=\"T_e25b2_row0_col0\" class=\"data row0 col0\" >1.1e+04 K</td>\n",
       "      <td id=\"T_e25b2_row0_col1\" class=\"data row0 col1\" >1.1e+04 K</td>\n",
       "      <td id=\"T_e25b2_row0_col2\" class=\"data row0 col2\" >0.484</td>\n",
       "      <td id=\"T_e25b2_row0_col3\" class=\"data row0 col3\" >0.472</td>\n",
       "    </tr>\n",
       "    <tr>\n",
       "      <th id=\"T_e25b2_level0_row1\" class=\"row_heading level0 row1\" >5</th>\n",
       "      <td id=\"T_e25b2_row1_col0\" class=\"data row1 col0\" >1.13e+04 K</td>\n",
       "      <td id=\"T_e25b2_row1_col1\" class=\"data row1 col1\" >1.13e+04 K</td>\n",
       "      <td id=\"T_e25b2_row1_col2\" class=\"data row1 col2\" >0.181</td>\n",
       "      <td id=\"T_e25b2_row1_col3\" class=\"data row1 col3\" >0.177</td>\n",
       "    </tr>\n",
       "    <tr>\n",
       "      <th id=\"T_e25b2_level0_row2\" class=\"row_heading level0 row2\" >10</th>\n",
       "      <td id=\"T_e25b2_row2_col0\" class=\"data row2 col0\" >1.1e+04 K</td>\n",
       "      <td id=\"T_e25b2_row2_col1\" class=\"data row2 col1\" >1.1e+04 K</td>\n",
       "      <td id=\"T_e25b2_row2_col2\" class=\"data row2 col2\" >0.113</td>\n",
       "      <td id=\"T_e25b2_row2_col3\" class=\"data row2 col3\" >0.113</td>\n",
       "    </tr>\n",
       "    <tr>\n",
       "      <th id=\"T_e25b2_level0_row3\" class=\"row_heading level0 row3\" >15</th>\n",
       "      <td id=\"T_e25b2_row3_col0\" class=\"data row3 col0\" >1.07e+04 K</td>\n",
       "      <td id=\"T_e25b2_row3_col1\" class=\"data row3 col1\" >1.06e+04 K</td>\n",
       "      <td id=\"T_e25b2_row3_col2\" class=\"data row3 col2\" >0.0858</td>\n",
       "      <td id=\"T_e25b2_row3_col3\" class=\"data row3 col3\" >0.0858</td>\n",
       "    </tr>\n",
       "  </tbody>\n",
       "</table>\n"
      ],
      "text/plain": [
       "<pandas.io.formats.style.Styler at 0x7fc9b544be50>"
      ]
     },
     "metadata": {},
     "output_type": "display_data"
    },
    {
     "name": "stdout",
     "output_type": "stream",
     "text": [
      "[\u001b[1mtardis.simulation.base\u001b[0m][\u001b[1;37mINFO\u001b[0m   ]  \n",
      "\t\n",
      "\tCurrent t_inner = 10655.125 K\n",
      "\tExpected t_inner for next iteration = 10655.561 K\n",
      " (\u001b[1mbase.py\u001b[0m:575)\n"
     ]
    },
    {
     "name": "stdout",
     "output_type": "stream",
     "text": [
      "[\u001b[1mpy.warnings         \u001b[0m][\u001b[1;33mWARNING\u001b[0m]  \n",
      "\t/home/runner/work/tardis/tardis/tardis/plasma/properties/radiative_properties.py:93: RuntimeWarning: invalid value encountered in divide\n",
      "  (g_lower * n_upper) / (g_upper * n_lower)\n",
      " (\u001b[1mwarnings.py\u001b[0m:109)\n"
     ]
    },
    {
     "name": "stdout",
     "output_type": "stream",
     "text": [
      "[\u001b[1mtardis.simulation.base\u001b[0m][\u001b[1;37mINFO\u001b[0m   ]  \n",
      "\t\n",
      "\tStarting iteration 17 of 20 (\u001b[1mbase.py\u001b[0m:398)\n"
     ]
    },
    {
     "name": "stdout",
     "output_type": "stream",
     "text": [
      "[\u001b[1mtardis.simulation.base\u001b[0m][\u001b[1;37mINFO\u001b[0m   ]  \n",
      "\t\n",
      "\tLuminosity emitted   = 1.067e+43 erg / s\n",
      "\tLuminosity absorbed  = 3.372e+42 erg / s\n",
      "\tLuminosity requested = 1.059e+43 erg / s\n",
      " (\u001b[1mbase.py\u001b[0m:580)\n"
     ]
    },
    {
     "name": "stdout",
     "output_type": "stream",
     "text": [
      "[\u001b[1mtardis.simulation.base\u001b[0m][\u001b[1;37mINFO\u001b[0m   ]  \n",
      "\t\n",
      "\tPlasma stratification: (\u001b[1mbase.py\u001b[0m:548)\n"
     ]
    },
    {
     "data": {
      "text/html": [
       "<style type=\"text/css\">\n",
       "</style>\n",
       "<table id=\"T_a7d39\">\n",
       "  <thead>\n",
       "    <tr>\n",
       "      <th class=\"index_name level0\" >Shell No.</th>\n",
       "      <th id=\"T_a7d39_level0_col0\" class=\"col_heading level0 col0\" >t_rad</th>\n",
       "      <th id=\"T_a7d39_level0_col1\" class=\"col_heading level0 col1\" >next_t_rad</th>\n",
       "      <th id=\"T_a7d39_level0_col2\" class=\"col_heading level0 col2\" >w</th>\n",
       "      <th id=\"T_a7d39_level0_col3\" class=\"col_heading level0 col3\" >next_w</th>\n",
       "    </tr>\n",
       "  </thead>\n",
       "  <tbody>\n",
       "    <tr>\n",
       "      <th id=\"T_a7d39_level0_row0\" class=\"row_heading level0 row0\" >0</th>\n",
       "      <td id=\"T_a7d39_row0_col0\" class=\"data row0 col0\" >1.1e+04 K</td>\n",
       "      <td id=\"T_a7d39_row0_col1\" class=\"data row0 col1\" >1.11e+04 K</td>\n",
       "      <td id=\"T_a7d39_row0_col2\" class=\"data row0 col2\" >0.472</td>\n",
       "      <td id=\"T_a7d39_row0_col3\" class=\"data row0 col3\" >0.468</td>\n",
       "    </tr>\n",
       "    <tr>\n",
       "      <th id=\"T_a7d39_level0_row1\" class=\"row_heading level0 row1\" >5</th>\n",
       "      <td id=\"T_a7d39_row1_col0\" class=\"data row1 col0\" >1.13e+04 K</td>\n",
       "      <td id=\"T_a7d39_row1_col1\" class=\"data row1 col1\" >1.14e+04 K</td>\n",
       "      <td id=\"T_a7d39_row1_col2\" class=\"data row1 col2\" >0.177</td>\n",
       "      <td id=\"T_a7d39_row1_col3\" class=\"data row1 col3\" >0.175</td>\n",
       "    </tr>\n",
       "    <tr>\n",
       "      <th id=\"T_a7d39_level0_row2\" class=\"row_heading level0 row2\" >10</th>\n",
       "      <td id=\"T_a7d39_row2_col0\" class=\"data row2 col0\" >1.1e+04 K</td>\n",
       "      <td id=\"T_a7d39_row2_col1\" class=\"data row2 col1\" >1.11e+04 K</td>\n",
       "      <td id=\"T_a7d39_row2_col2\" class=\"data row2 col2\" >0.113</td>\n",
       "      <td id=\"T_a7d39_row2_col3\" class=\"data row2 col3\" >0.11</td>\n",
       "    </tr>\n",
       "    <tr>\n",
       "      <th id=\"T_a7d39_level0_row3\" class=\"row_heading level0 row3\" >15</th>\n",
       "      <td id=\"T_a7d39_row3_col0\" class=\"data row3 col0\" >1.06e+04 K</td>\n",
       "      <td id=\"T_a7d39_row3_col1\" class=\"data row3 col1\" >1.08e+04 K</td>\n",
       "      <td id=\"T_a7d39_row3_col2\" class=\"data row3 col2\" >0.0858</td>\n",
       "      <td id=\"T_a7d39_row3_col3\" class=\"data row3 col3\" >0.0816</td>\n",
       "    </tr>\n",
       "  </tbody>\n",
       "</table>\n"
      ],
      "text/plain": [
       "<pandas.io.formats.style.Styler at 0x7fc9b5414990>"
      ]
     },
     "metadata": {},
     "output_type": "display_data"
    },
    {
     "name": "stdout",
     "output_type": "stream",
     "text": [
      "[\u001b[1mtardis.simulation.base\u001b[0m][\u001b[1;37mINFO\u001b[0m   ]  \n",
      "\t\n",
      "\tCurrent t_inner = 10655.561 K\n",
      "\tExpected t_inner for next iteration = 10636.536 K\n",
      " (\u001b[1mbase.py\u001b[0m:575)\n"
     ]
    },
    {
     "name": "stdout",
     "output_type": "stream",
     "text": [
      "[\u001b[1mpy.warnings         \u001b[0m][\u001b[1;33mWARNING\u001b[0m]  \n",
      "\t/home/runner/work/tardis/tardis/tardis/plasma/properties/radiative_properties.py:93: RuntimeWarning: invalid value encountered in divide\n",
      "  (g_lower * n_upper) / (g_upper * n_lower)\n",
      " (\u001b[1mwarnings.py\u001b[0m:109)\n"
     ]
    },
    {
     "name": "stdout",
     "output_type": "stream",
     "text": [
      "[\u001b[1mtardis.simulation.base\u001b[0m][\u001b[1;37mINFO\u001b[0m   ]  \n",
      "\t\n",
      "\tStarting iteration 18 of 20 (\u001b[1mbase.py\u001b[0m:398)\n"
     ]
    },
    {
     "name": "stdout",
     "output_type": "stream",
     "text": [
      "[\u001b[1mtardis.simulation.base\u001b[0m][\u001b[1;37mINFO\u001b[0m   ]  \n",
      "\t\n",
      "\tLuminosity emitted   = 1.057e+43 erg / s\n",
      "\tLuminosity absorbed  = 3.365e+42 erg / s\n",
      "\tLuminosity requested = 1.059e+43 erg / s\n",
      " (\u001b[1mbase.py\u001b[0m:580)\n"
     ]
    },
    {
     "name": "stdout",
     "output_type": "stream",
     "text": [
      "[\u001b[1mtardis.simulation.base\u001b[0m][\u001b[1;37mINFO\u001b[0m   ]  \n",
      "\tIteration converged 1/4 consecutive times. (\u001b[1mbase.py\u001b[0m:268)\n"
     ]
    },
    {
     "name": "stdout",
     "output_type": "stream",
     "text": [
      "[\u001b[1mtardis.simulation.base\u001b[0m][\u001b[1;37mINFO\u001b[0m   ]  \n",
      "\t\n",
      "\tPlasma stratification: (\u001b[1mbase.py\u001b[0m:548)\n"
     ]
    },
    {
     "data": {
      "text/html": [
       "<style type=\"text/css\">\n",
       "</style>\n",
       "<table id=\"T_3f6ed\">\n",
       "  <thead>\n",
       "    <tr>\n",
       "      <th class=\"index_name level0\" >Shell No.</th>\n",
       "      <th id=\"T_3f6ed_level0_col0\" class=\"col_heading level0 col0\" >t_rad</th>\n",
       "      <th id=\"T_3f6ed_level0_col1\" class=\"col_heading level0 col1\" >next_t_rad</th>\n",
       "      <th id=\"T_3f6ed_level0_col2\" class=\"col_heading level0 col2\" >w</th>\n",
       "      <th id=\"T_3f6ed_level0_col3\" class=\"col_heading level0 col3\" >next_w</th>\n",
       "    </tr>\n",
       "  </thead>\n",
       "  <tbody>\n",
       "    <tr>\n",
       "      <th id=\"T_3f6ed_level0_row0\" class=\"row_heading level0 row0\" >0</th>\n",
       "      <td id=\"T_3f6ed_row0_col0\" class=\"data row0 col0\" >1.11e+04 K</td>\n",
       "      <td id=\"T_3f6ed_row0_col1\" class=\"data row0 col1\" >1.11e+04 K</td>\n",
       "      <td id=\"T_3f6ed_row0_col2\" class=\"data row0 col2\" >0.468</td>\n",
       "      <td id=\"T_3f6ed_row0_col3\" class=\"data row0 col3\" >0.464</td>\n",
       "    </tr>\n",
       "    <tr>\n",
       "      <th id=\"T_3f6ed_level0_row1\" class=\"row_heading level0 row1\" >5</th>\n",
       "      <td id=\"T_3f6ed_row1_col0\" class=\"data row1 col0\" >1.14e+04 K</td>\n",
       "      <td id=\"T_3f6ed_row1_col1\" class=\"data row1 col1\" >1.13e+04 K</td>\n",
       "      <td id=\"T_3f6ed_row1_col2\" class=\"data row1 col2\" >0.175</td>\n",
       "      <td id=\"T_3f6ed_row1_col3\" class=\"data row1 col3\" >0.177</td>\n",
       "    </tr>\n",
       "    <tr>\n",
       "      <th id=\"T_3f6ed_level0_row2\" class=\"row_heading level0 row2\" >10</th>\n",
       "      <td id=\"T_3f6ed_row2_col0\" class=\"data row2 col0\" >1.11e+04 K</td>\n",
       "      <td id=\"T_3f6ed_row2_col1\" class=\"data row2 col1\" >1.1e+04 K</td>\n",
       "      <td id=\"T_3f6ed_row2_col2\" class=\"data row2 col2\" >0.11</td>\n",
       "      <td id=\"T_3f6ed_row2_col3\" class=\"data row2 col3\" >0.113</td>\n",
       "    </tr>\n",
       "    <tr>\n",
       "      <th id=\"T_3f6ed_level0_row3\" class=\"row_heading level0 row3\" >15</th>\n",
       "      <td id=\"T_3f6ed_row3_col0\" class=\"data row3 col0\" >1.08e+04 K</td>\n",
       "      <td id=\"T_3f6ed_row3_col1\" class=\"data row3 col1\" >1.07e+04 K</td>\n",
       "      <td id=\"T_3f6ed_row3_col2\" class=\"data row3 col2\" >0.0816</td>\n",
       "      <td id=\"T_3f6ed_row3_col3\" class=\"data row3 col3\" >0.0848</td>\n",
       "    </tr>\n",
       "  </tbody>\n",
       "</table>\n"
      ],
      "text/plain": [
       "<pandas.io.formats.style.Styler at 0x7fc9b5414f50>"
      ]
     },
     "metadata": {},
     "output_type": "display_data"
    },
    {
     "name": "stdout",
     "output_type": "stream",
     "text": [
      "[\u001b[1mtardis.simulation.base\u001b[0m][\u001b[1;37mINFO\u001b[0m   ]  \n",
      "\t\n",
      "\tCurrent t_inner = 10636.536 K\n",
      "\tExpected t_inner for next iteration = 10641.692 K\n",
      " (\u001b[1mbase.py\u001b[0m:575)\n"
     ]
    },
    {
     "name": "stdout",
     "output_type": "stream",
     "text": [
      "[\u001b[1mpy.warnings         \u001b[0m][\u001b[1;33mWARNING\u001b[0m]  \n",
      "\t/home/runner/work/tardis/tardis/tardis/plasma/properties/radiative_properties.py:93: RuntimeWarning: invalid value encountered in divide\n",
      "  (g_lower * n_upper) / (g_upper * n_lower)\n",
      " (\u001b[1mwarnings.py\u001b[0m:109)\n"
     ]
    },
    {
     "name": "stdout",
     "output_type": "stream",
     "text": [
      "[\u001b[1mtardis.simulation.base\u001b[0m][\u001b[1;37mINFO\u001b[0m   ]  \n",
      "\t\n",
      "\tStarting iteration 19 of 20 (\u001b[1mbase.py\u001b[0m:398)\n"
     ]
    },
    {
     "name": "stdout",
     "output_type": "stream",
     "text": [
      "[\u001b[1mtardis.simulation.base\u001b[0m][\u001b[1;37mINFO\u001b[0m   ]  \n",
      "\t\n",
      "\tLuminosity emitted   = 1.056e+43 erg / s\n",
      "\tLuminosity absorbed  = 3.405e+42 erg / s\n",
      "\tLuminosity requested = 1.059e+43 erg / s\n",
      " (\u001b[1mbase.py\u001b[0m:580)\n"
     ]
    },
    {
     "name": "stdout",
     "output_type": "stream",
     "text": [
      "[\u001b[1mtardis.simulation.base\u001b[0m][\u001b[1;37mINFO\u001b[0m   ]  \n",
      "\tIteration converged 2/4 consecutive times. (\u001b[1mbase.py\u001b[0m:268)\n"
     ]
    },
    {
     "name": "stdout",
     "output_type": "stream",
     "text": [
      "[\u001b[1mtardis.simulation.base\u001b[0m][\u001b[1;37mINFO\u001b[0m   ]  \n",
      "\t\n",
      "\tPlasma stratification: (\u001b[1mbase.py\u001b[0m:548)\n"
     ]
    },
    {
     "data": {
      "text/html": [
       "<style type=\"text/css\">\n",
       "</style>\n",
       "<table id=\"T_6d8a2\">\n",
       "  <thead>\n",
       "    <tr>\n",
       "      <th class=\"index_name level0\" >Shell No.</th>\n",
       "      <th id=\"T_6d8a2_level0_col0\" class=\"col_heading level0 col0\" >t_rad</th>\n",
       "      <th id=\"T_6d8a2_level0_col1\" class=\"col_heading level0 col1\" >next_t_rad</th>\n",
       "      <th id=\"T_6d8a2_level0_col2\" class=\"col_heading level0 col2\" >w</th>\n",
       "      <th id=\"T_6d8a2_level0_col3\" class=\"col_heading level0 col3\" >next_w</th>\n",
       "    </tr>\n",
       "  </thead>\n",
       "  <tbody>\n",
       "    <tr>\n",
       "      <th id=\"T_6d8a2_level0_row0\" class=\"row_heading level0 row0\" >0</th>\n",
       "      <td id=\"T_6d8a2_row0_col0\" class=\"data row0 col0\" >1.11e+04 K</td>\n",
       "      <td id=\"T_6d8a2_row0_col1\" class=\"data row0 col1\" >1.11e+04 K</td>\n",
       "      <td id=\"T_6d8a2_row0_col2\" class=\"data row0 col2\" >0.464</td>\n",
       "      <td id=\"T_6d8a2_row0_col3\" class=\"data row0 col3\" >0.466</td>\n",
       "    </tr>\n",
       "    <tr>\n",
       "      <th id=\"T_6d8a2_level0_row1\" class=\"row_heading level0 row1\" >5</th>\n",
       "      <td id=\"T_6d8a2_row1_col0\" class=\"data row1 col0\" >1.13e+04 K</td>\n",
       "      <td id=\"T_6d8a2_row1_col1\" class=\"data row1 col1\" >1.13e+04 K</td>\n",
       "      <td id=\"T_6d8a2_row1_col2\" class=\"data row1 col2\" >0.177</td>\n",
       "      <td id=\"T_6d8a2_row1_col3\" class=\"data row1 col3\" >0.177</td>\n",
       "    </tr>\n",
       "    <tr>\n",
       "      <th id=\"T_6d8a2_level0_row2\" class=\"row_heading level0 row2\" >10</th>\n",
       "      <td id=\"T_6d8a2_row2_col0\" class=\"data row2 col0\" >1.1e+04 K</td>\n",
       "      <td id=\"T_6d8a2_row2_col1\" class=\"data row2 col1\" >1.11e+04 K</td>\n",
       "      <td id=\"T_6d8a2_row2_col2\" class=\"data row2 col2\" >0.113</td>\n",
       "      <td id=\"T_6d8a2_row2_col3\" class=\"data row2 col3\" >0.111</td>\n",
       "    </tr>\n",
       "    <tr>\n",
       "      <th id=\"T_6d8a2_level0_row3\" class=\"row_heading level0 row3\" >15</th>\n",
       "      <td id=\"T_6d8a2_row3_col0\" class=\"data row3 col0\" >1.07e+04 K</td>\n",
       "      <td id=\"T_6d8a2_row3_col1\" class=\"data row3 col1\" >1.07e+04 K</td>\n",
       "      <td id=\"T_6d8a2_row3_col2\" class=\"data row3 col2\" >0.0848</td>\n",
       "      <td id=\"T_6d8a2_row3_col3\" class=\"data row3 col3\" >0.0853</td>\n",
       "    </tr>\n",
       "  </tbody>\n",
       "</table>\n"
      ],
      "text/plain": [
       "<pandas.io.formats.style.Styler at 0x7fc9b5417b90>"
      ]
     },
     "metadata": {},
     "output_type": "display_data"
    },
    {
     "name": "stdout",
     "output_type": "stream",
     "text": [
      "[\u001b[1mtardis.simulation.base\u001b[0m][\u001b[1;37mINFO\u001b[0m   ]  \n",
      "\t\n",
      "\tCurrent t_inner = 10641.692 K\n",
      "\tExpected t_inner for next iteration = 10650.463 K\n",
      " (\u001b[1mbase.py\u001b[0m:575)\n"
     ]
    },
    {
     "name": "stdout",
     "output_type": "stream",
     "text": [
      "[\u001b[1mpy.warnings         \u001b[0m][\u001b[1;33mWARNING\u001b[0m]  \n",
      "\t/home/runner/work/tardis/tardis/tardis/plasma/properties/radiative_properties.py:93: RuntimeWarning: invalid value encountered in divide\n",
      "  (g_lower * n_upper) / (g_upper * n_lower)\n",
      " (\u001b[1mwarnings.py\u001b[0m:109)\n"
     ]
    },
    {
     "name": "stdout",
     "output_type": "stream",
     "text": [
      "[\u001b[1mtardis.simulation.base\u001b[0m][\u001b[1;37mINFO\u001b[0m   ]  \n",
      "\t\n",
      "\tSimulation finished in 19 iterations \n",
      "\tSimulation took 50.80 s\n",
      " (\u001b[1mbase.py\u001b[0m:476)\n"
     ]
    },
    {
     "name": "stdout",
     "output_type": "stream",
     "text": [
      "[\u001b[1mtardis.simulation.base\u001b[0m][\u001b[1;37mINFO\u001b[0m   ]  \n",
      "\t\n",
      "\tStarting iteration 20 of 20 (\u001b[1mbase.py\u001b[0m:398)\n"
     ]
    },
    {
     "name": "stdout",
     "output_type": "stream",
     "text": [
      "[\u001b[1mtardis.simulation.base\u001b[0m][\u001b[1;37mINFO\u001b[0m   ]  \n",
      "\t\n",
      "\tLuminosity emitted   = 1.061e+43 erg / s\n",
      "\tLuminosity absorbed  = 3.401e+42 erg / s\n",
      "\tLuminosity requested = 1.059e+43 erg / s\n",
      " (\u001b[1mbase.py\u001b[0m:580)\n"
     ]
    }
   ],
   "source": [
    "from tardis import run_tardis\n",
    "from tardis.io.atom_data.util import download_atom_data\n",
    "\n",
    "# We download the atomic data needed to run the simulation\n",
    "download_atom_data('kurucz_cd23_chianti_H_He')\n",
    "\n",
    "# We run the simulation\n",
    "simulation = run_tardis('tardis_example.yml')"
   ]
  },
  {
   "attachments": {},
   "cell_type": "markdown",
   "metadata": {},
   "source": [
    "You can now use the `to_hdf` method, to save properties to a HDF file.\n",
    "\n",
    "#### Parameters  \n",
    "\n",
    "`file_path`: Path where the HDF file should be stored. (Required)  \n",
    "`path`: Path inside the HDF store to store the elements. (Optional)  \n",
    "`name`: Name of the group inside HDF store, under which properties will be saved.(Optional)\n",
    "`overwrite`: If the HDF file already exists, do you overwrite the existing file (Optional, default `False`)\n",
    "\n",
    "<div class=\"alert alert-info\">\n",
    "\n",
    "Note\n",
    "    \n",
    "Throughout this notebook, we set ``overwrite=True`` so that the notebook can be run repeatedly if needed.\n",
    "\n",
    "</div>"
   ]
  },
  {
   "cell_type": "code",
   "execution_count": 2,
   "metadata": {
    "execution": {
     "iopub.execute_input": "2024-04-07T01:52:24.645080Z",
     "iopub.status.busy": "2024-04-07T01:52:24.644562Z",
     "iopub.status.idle": "2024-04-07T01:52:25.075401Z",
     "shell.execute_reply": "2024-04-07T01:52:25.074790Z"
    }
   },
   "outputs": [
    {
     "name": "stdout",
     "output_type": "stream",
     "text": [
      "[\u001b[1mpy.warnings         \u001b[0m][\u001b[1;33mWARNING\u001b[0m]  \n",
      "\t/home/runner/work/tardis/tardis/tardis/io/util.py:274: PerformanceWarning: \n",
      "your performance may suffer as PyTables will pickle object types that it cannot\n",
      "map directly to c-types [inferred_type->mixed,key->block0_values] [items->Index([0], dtype='int64')]\n",
      "\n",
      "  pd.DataFrame(value).to_hdf(buf, os.path.join(path, key))\n",
      " (\u001b[1mwarnings.py\u001b[0m:109)\n"
     ]
    },
    {
     "name": "stdout",
     "output_type": "stream",
     "text": [
      "[\u001b[1mpy.warnings         \u001b[0m][\u001b[1;33mWARNING\u001b[0m]  \n",
      "\t/home/runner/work/tardis/tardis/tardis/io/util.py:288: PerformanceWarning: \n",
      "your performance may suffer as PyTables will pickle object types that it cannot\n",
      "map directly to c-types [inferred_type->mixed,key->values] [items->None]\n",
      "\n",
      "  pd.Series(scalars).to_hdf(buf, os.path.join(path, \"scalars\"))\n",
      " (\u001b[1mwarnings.py\u001b[0m:109)\n"
     ]
    }
   ],
   "source": [
    "simulation.to_hdf('/tmp/full_example.hdf', overwrite=True)\n",
    "\n",
    "# The commented out code below shows an example of to_hdf with more parameters\n",
    "#simulation.to_hdf(file_path='/tmp/full_example.hdf', path='/', name='simulation')"
   ]
  },
  {
   "attachments": {},
   "cell_type": "markdown",
   "metadata": {},
   "source": [
    "Open the stored HDF file with pandas and print a list of its entries using the `keys()` method:"
   ]
  },
  {
   "cell_type": "code",
   "execution_count": 3,
   "metadata": {
    "execution": {
     "iopub.execute_input": "2024-04-07T01:52:25.078790Z",
     "iopub.status.busy": "2024-04-07T01:52:25.078308Z",
     "iopub.status.idle": "2024-04-07T01:52:25.116291Z",
     "shell.execute_reply": "2024-04-07T01:52:25.115773Z"
    },
    "scrolled": false
   },
   "outputs": [
    {
     "data": {
      "text/plain": [
       "['/simulation/iterations_electron_densities',\n",
       " '/simulation/iterations_t_inner',\n",
       " '/simulation/iterations_t_rad',\n",
       " '/simulation/iterations_w',\n",
       " '/simulation/transport/transport_state/emitted_packet_mask',\n",
       " '/simulation/transport/transport_state/j_estimator',\n",
       " '/simulation/transport/transport_state/last_interaction_in_nu',\n",
       " '/simulation/transport/transport_state/last_interaction_type',\n",
       " '/simulation/transport/transport_state/last_line_interaction_in_id',\n",
       " '/simulation/transport/transport_state/last_line_interaction_out_id',\n",
       " '/simulation/transport/transport_state/last_line_interaction_shell_id',\n",
       " '/simulation/transport/transport_state/montecarlo_virtual_luminosity',\n",
       " '/simulation/transport/transport_state/nu_bar_estimator',\n",
       " '/simulation/transport/transport_state/output_energy',\n",
       " '/simulation/transport/transport_state/output_nu',\n",
       " '/simulation/transport/transport_state/packet_luminosity',\n",
       " '/simulation/transport/transport_state/scalars',\n",
       " '/simulation/transport/transport_state/spectrum_virtual/_frequency',\n",
       " '/simulation/transport/transport_state/spectrum_virtual/luminosity',\n",
       " '/simulation/transport/transport_state/spectrum_virtual/luminosity_density_lambda',\n",
       " '/simulation/transport/transport_state/spectrum_virtual/scalars',\n",
       " '/simulation/transport/transport_state/spectrum_virtual/wavelength',\n",
       " '/simulation/transport/transport_state/spectrum_reabsorbed/_frequency',\n",
       " '/simulation/transport/transport_state/spectrum_reabsorbed/luminosity',\n",
       " '/simulation/transport/transport_state/spectrum_reabsorbed/luminosity_density_lambda',\n",
       " '/simulation/transport/transport_state/spectrum_reabsorbed/scalars',\n",
       " '/simulation/transport/transport_state/spectrum_reabsorbed/wavelength',\n",
       " '/simulation/transport/transport_state/spectrum/_frequency',\n",
       " '/simulation/transport/transport_state/spectrum/luminosity',\n",
       " '/simulation/transport/transport_state/spectrum/luminosity_density_lambda',\n",
       " '/simulation/transport/transport_state/spectrum/scalars',\n",
       " '/simulation/transport/transport_state/spectrum/wavelength',\n",
       " '/simulation/simulation_state/density',\n",
       " '/simulation/simulation_state/dilution_factor',\n",
       " '/simulation/simulation_state/r_inner',\n",
       " '/simulation/simulation_state/scalars',\n",
       " '/simulation/simulation_state/t_radiative',\n",
       " '/simulation/simulation_state/v_inner',\n",
       " '/simulation/simulation_state/v_outer',\n",
       " '/simulation/plasma/abundance',\n",
       " '/simulation/plasma/atomic_mass',\n",
       " '/simulation/plasma/beta_rad',\n",
       " '/simulation/plasma/beta_sobolev',\n",
       " '/simulation/plasma/continuum_interaction_species',\n",
       " '/simulation/plasma/density',\n",
       " '/simulation/plasma/electron_densities',\n",
       " '/simulation/plasma/excitation_energy',\n",
       " '/simulation/plasma/f_lu',\n",
       " '/simulation/plasma/g',\n",
       " '/simulation/plasma/g_electron',\n",
       " '/simulation/plasma/general_level_boltzmann_factor',\n",
       " '/simulation/plasma/ion_number_density',\n",
       " '/simulation/plasma/ionization_data',\n",
       " '/simulation/plasma/j_blues',\n",
       " '/simulation/plasma/level_boltzmann_factor',\n",
       " '/simulation/plasma/level_number_density',\n",
       " '/simulation/plasma/levels',\n",
       " '/simulation/plasma/lines',\n",
       " '/simulation/plasma/lines_lower_level_index',\n",
       " '/simulation/plasma/lines_upper_level_index',\n",
       " '/simulation/plasma/macro_atom_data',\n",
       " '/simulation/plasma/metastability',\n",
       " '/simulation/plasma/nlte_excitation_species',\n",
       " '/simulation/plasma/nlte_ionization_species',\n",
       " '/simulation/plasma/nu',\n",
       " '/simulation/plasma/number_density',\n",
       " '/simulation/plasma/partition_function',\n",
       " '/simulation/plasma/phi',\n",
       " '/simulation/plasma/scalars',\n",
       " '/simulation/plasma/selected_atoms',\n",
       " '/simulation/plasma/stimulated_emission_factor',\n",
       " '/simulation/plasma/t_electrons',\n",
       " '/simulation/plasma/t_rad',\n",
       " '/simulation/plasma/tau_sobolevs',\n",
       " '/simulation/plasma/transition_probabilities',\n",
       " '/simulation/plasma/w',\n",
       " '/simulation/plasma/wavelength_cm']"
      ]
     },
     "execution_count": 3,
     "metadata": {},
     "output_type": "execute_result"
    }
   ],
   "source": [
    "import pandas as pd\n",
    "\n",
    "data = pd.HDFStore('/tmp/full_example.hdf', overwrite=True)\n",
    "\n",
    "data.keys()"
   ]
  },
  {
   "attachments": {},
   "cell_type": "markdown",
   "metadata": {},
   "source": [
    "Access `model.density` under simulation, which is a one-dimensional array"
   ]
  },
  {
   "cell_type": "code",
   "execution_count": 4,
   "metadata": {
    "execution": {
     "iopub.execute_input": "2024-04-07T01:52:25.118457Z",
     "iopub.status.busy": "2024-04-07T01:52:25.118245Z",
     "iopub.status.idle": "2024-04-07T01:52:25.125279Z",
     "shell.execute_reply": "2024-04-07T01:52:25.124746Z"
    }
   },
   "outputs": [
    {
     "name": "stdout",
     "output_type": "stream",
     "text": [
      "0     7.542804e-14\n",
      "1     5.728475e-14\n",
      "2     4.396074e-14\n",
      "3     3.406287e-14\n",
      "4     2.663135e-14\n",
      "5     2.099596e-14\n",
      "6     1.668287e-14\n",
      "7     1.335311e-14\n",
      "8     1.076154e-14\n",
      "9     8.729085e-15\n",
      "10    7.123652e-15\n",
      "11    5.846921e-15\n",
      "12    4.825093e-15\n",
      "13    4.002324e-15\n",
      "14    3.336039e-15\n",
      "15    2.793540e-15\n",
      "16    2.349550e-15\n",
      "17    1.984397e-15\n",
      "18    1.682677e-15\n",
      "19    1.432260e-15\n",
      "dtype: float64\n"
     ]
    }
   ],
   "source": [
    "print(data['/simulation/simulation_state/density'])"
   ]
  },
  {
   "attachments": {},
   "cell_type": "markdown",
   "metadata": {
    "collapsed": true
   },
   "source": [
    "Scalars are stored in a `scalars` `pandas.Series` for every module. For example to access `model.t_inner` under simulation, one would need to do the following."
   ]
  },
  {
   "cell_type": "code",
   "execution_count": 5,
   "metadata": {
    "execution": {
     "iopub.execute_input": "2024-04-07T01:52:25.127346Z",
     "iopub.status.busy": "2024-04-07T01:52:25.127156Z",
     "iopub.status.idle": "2024-04-07T01:52:25.132184Z",
     "shell.execute_reply": "2024-04-07T01:52:25.131782Z"
    }
   },
   "outputs": [
    {
     "name": "stdout",
     "output_type": "stream",
     "text": [
      "10650.463255529794\n"
     ]
    }
   ],
   "source": [
    "print(data['/simulation/simulation_state/scalars']['t_inner'])"
   ]
  },
  {
   "attachments": {},
   "cell_type": "markdown",
   "metadata": {},
   "source": [
    "## Breakdown of the various to_hdf methods\n",
    "Every module in TARDIS has its own `to_hdf` method responsible to store its own data to an HDF file."
   ]
  },
  {
   "attachments": {},
   "cell_type": "markdown",
   "metadata": {},
   "source": [
    "### Plasma\n",
    "The following call will store every plasma property to `/tmp/plasma_output.hdf` under `/parent/plasma`"
   ]
  },
  {
   "cell_type": "code",
   "execution_count": 6,
   "metadata": {
    "execution": {
     "iopub.execute_input": "2024-04-07T01:52:25.134103Z",
     "iopub.status.busy": "2024-04-07T01:52:25.133938Z",
     "iopub.status.idle": "2024-04-07T01:52:25.370301Z",
     "shell.execute_reply": "2024-04-07T01:52:25.369768Z"
    }
   },
   "outputs": [
    {
     "name": "stdout",
     "output_type": "stream",
     "text": [
      "[\u001b[1mpy.warnings         \u001b[0m][\u001b[1;33mWARNING\u001b[0m]  \n",
      "\t/home/runner/work/tardis/tardis/tardis/io/util.py:274: PerformanceWarning: \n",
      "your performance may suffer as PyTables will pickle object types that it cannot\n",
      "map directly to c-types [inferred_type->mixed,key->block0_values] [items->Index([0], dtype='int64')]\n",
      "\n",
      "  pd.DataFrame(value).to_hdf(buf, os.path.join(path, key))\n",
      " (\u001b[1mwarnings.py\u001b[0m:109)\n"
     ]
    },
    {
     "name": "stdout",
     "output_type": "stream",
     "text": [
      "[\u001b[1mpy.warnings         \u001b[0m][\u001b[1;33mWARNING\u001b[0m]  \n",
      "\t/home/runner/work/tardis/tardis/tardis/io/util.py:288: PerformanceWarning: \n",
      "your performance may suffer as PyTables will pickle object types that it cannot\n",
      "map directly to c-types [inferred_type->mixed,key->values] [items->None]\n",
      "\n",
      "  pd.Series(scalars).to_hdf(buf, os.path.join(path, \"scalars\"))\n",
      " (\u001b[1mwarnings.py\u001b[0m:109)\n"
     ]
    }
   ],
   "source": [
    "simulation.plasma.to_hdf('/tmp/plasma_output.hdf', path='parent', overwrite=True)"
   ]
  },
  {
   "cell_type": "code",
   "execution_count": 7,
   "metadata": {
    "execution": {
     "iopub.execute_input": "2024-04-07T01:52:25.372538Z",
     "iopub.status.busy": "2024-04-07T01:52:25.372350Z",
     "iopub.status.idle": "2024-04-07T01:52:25.393304Z",
     "shell.execute_reply": "2024-04-07T01:52:25.392689Z"
    },
    "scrolled": false
   },
   "outputs": [
    {
     "data": {
      "text/plain": [
       "['/parent/plasma/abundance',\n",
       " '/parent/plasma/atomic_mass',\n",
       " '/parent/plasma/beta_rad',\n",
       " '/parent/plasma/beta_sobolev',\n",
       " '/parent/plasma/continuum_interaction_species',\n",
       " '/parent/plasma/density',\n",
       " '/parent/plasma/electron_densities',\n",
       " '/parent/plasma/excitation_energy',\n",
       " '/parent/plasma/f_lu',\n",
       " '/parent/plasma/g',\n",
       " '/parent/plasma/g_electron',\n",
       " '/parent/plasma/general_level_boltzmann_factor',\n",
       " '/parent/plasma/ion_number_density',\n",
       " '/parent/plasma/ionization_data',\n",
       " '/parent/plasma/j_blues',\n",
       " '/parent/plasma/level_boltzmann_factor',\n",
       " '/parent/plasma/level_number_density',\n",
       " '/parent/plasma/levels',\n",
       " '/parent/plasma/lines',\n",
       " '/parent/plasma/lines_lower_level_index',\n",
       " '/parent/plasma/lines_upper_level_index',\n",
       " '/parent/plasma/macro_atom_data',\n",
       " '/parent/plasma/metastability',\n",
       " '/parent/plasma/nlte_excitation_species',\n",
       " '/parent/plasma/nlte_ionization_species',\n",
       " '/parent/plasma/nu',\n",
       " '/parent/plasma/number_density',\n",
       " '/parent/plasma/partition_function',\n",
       " '/parent/plasma/phi',\n",
       " '/parent/plasma/scalars',\n",
       " '/parent/plasma/selected_atoms',\n",
       " '/parent/plasma/stimulated_emission_factor',\n",
       " '/parent/plasma/t_electrons',\n",
       " '/parent/plasma/t_rad',\n",
       " '/parent/plasma/tau_sobolevs',\n",
       " '/parent/plasma/transition_probabilities',\n",
       " '/parent/plasma/w',\n",
       " '/parent/plasma/wavelength_cm']"
      ]
     },
     "execution_count": 7,
     "metadata": {},
     "output_type": "execute_result"
    }
   ],
   "source": [
    "import pandas\n",
    "\n",
    "plasma_data = pandas.HDFStore('/tmp/plasma_output.hdf')\n",
    "\n",
    "plasma_data.keys()"
   ]
  },
  {
   "attachments": {},
   "cell_type": "markdown",
   "metadata": {},
   "source": [
    "Plasma's `to_hdf` method can also accept a `collection` parameter which can specify which types of plasma properties will be stored. For example if we wanted to only store Input plasma properties, we would do the following:"
   ]
  },
  {
   "cell_type": "code",
   "execution_count": 8,
   "metadata": {
    "execution": {
     "iopub.execute_input": "2024-04-07T01:52:25.395636Z",
     "iopub.status.busy": "2024-04-07T01:52:25.395229Z",
     "iopub.status.idle": "2024-04-07T01:52:25.429971Z",
     "shell.execute_reply": "2024-04-07T01:52:25.429486Z"
    }
   },
   "outputs": [],
   "source": [
    "from tardis.plasma.properties.base import Input\n",
    "simulation.plasma.to_hdf('/tmp/plasma_input_output.hdf', collection=[Input], overwrite=True)"
   ]
  },
  {
   "cell_type": "code",
   "execution_count": 9,
   "metadata": {
    "execution": {
     "iopub.execute_input": "2024-04-07T01:52:25.432764Z",
     "iopub.status.busy": "2024-04-07T01:52:25.432308Z",
     "iopub.status.idle": "2024-04-07T01:52:25.441669Z",
     "shell.execute_reply": "2024-04-07T01:52:25.441114Z"
    }
   },
   "outputs": [
    {
     "data": {
      "text/plain": [
       "['/plasma/abundance',\n",
       " '/plasma/continuum_interaction_species',\n",
       " '/plasma/density',\n",
       " '/plasma/nlte_excitation_species',\n",
       " '/plasma/nlte_ionization_species',\n",
       " '/plasma/scalars',\n",
       " '/plasma/t_rad',\n",
       " '/plasma/w']"
      ]
     },
     "execution_count": 9,
     "metadata": {},
     "output_type": "execute_result"
    }
   ],
   "source": [
    "import pandas\n",
    "\n",
    "plasma_input_data = pandas.HDFStore('/tmp/plasma_input_output.hdf')\n",
    "\n",
    "plasma_input_data.keys()"
   ]
  },
  {
   "attachments": {},
   "cell_type": "markdown",
   "metadata": {},
   "source": [
    "### Model\n",
    "The following call will store properties of the `SimulationState` to `/tmp/model_output.hdf` under `/simulation_state`."
   ]
  },
  {
   "cell_type": "code",
   "execution_count": 10,
   "metadata": {
    "execution": {
     "iopub.execute_input": "2024-04-07T01:52:25.444193Z",
     "iopub.status.busy": "2024-04-07T01:52:25.443775Z",
     "iopub.status.idle": "2024-04-07T01:52:25.467415Z",
     "shell.execute_reply": "2024-04-07T01:52:25.466826Z"
    }
   },
   "outputs": [],
   "source": [
    "simulation.simulation_state.to_hdf('/tmp/model_output.hdf', overwrite=True)"
   ]
  },
  {
   "cell_type": "code",
   "execution_count": 11,
   "metadata": {
    "execution": {
     "iopub.execute_input": "2024-04-07T01:52:25.470013Z",
     "iopub.status.busy": "2024-04-07T01:52:25.469663Z",
     "iopub.status.idle": "2024-04-07T01:52:25.476835Z",
     "shell.execute_reply": "2024-04-07T01:52:25.476323Z"
    }
   },
   "outputs": [
    {
     "data": {
      "text/plain": [
       "['/simulation_state/density',\n",
       " '/simulation_state/dilution_factor',\n",
       " '/simulation_state/r_inner',\n",
       " '/simulation_state/scalars',\n",
       " '/simulation_state/t_radiative',\n",
       " '/simulation_state/v_inner',\n",
       " '/simulation_state/v_outer']"
      ]
     },
     "execution_count": 11,
     "metadata": {},
     "output_type": "execute_result"
    }
   ],
   "source": [
    "import pandas\n",
    "\n",
    "model_data = pandas.HDFStore('/tmp/model_output.hdf')\n",
    "\n",
    "model_data.keys()"
   ]
  },
  {
   "attachments": {},
   "cell_type": "markdown",
   "metadata": {},
   "source": [
    "### MontecarloTransport\n",
    "The following call will store properties of the `MontecarloTransport` to `/tmp/transport_output.hdf` under `/transport`."
   ]
  },
  {
   "cell_type": "code",
   "execution_count": 12,
   "metadata": {
    "execution": {
     "iopub.execute_input": "2024-04-07T01:52:25.478816Z",
     "iopub.status.busy": "2024-04-07T01:52:25.478640Z",
     "iopub.status.idle": "2024-04-07T01:52:25.611887Z",
     "shell.execute_reply": "2024-04-07T01:52:25.611413Z"
    }
   },
   "outputs": [],
   "source": [
    "simulation.transport.to_hdf('/tmp/transport_output.hdf', overwrite=True)"
   ]
  },
  {
   "cell_type": "code",
   "execution_count": 13,
   "metadata": {
    "execution": {
     "iopub.execute_input": "2024-04-07T01:52:25.614225Z",
     "iopub.status.busy": "2024-04-07T01:52:25.614030Z",
     "iopub.status.idle": "2024-04-07T01:52:25.629531Z",
     "shell.execute_reply": "2024-04-07T01:52:25.629091Z"
    }
   },
   "outputs": [
    {
     "data": {
      "text/plain": [
       "['/transport/transport_state/emitted_packet_mask',\n",
       " '/transport/transport_state/j_estimator',\n",
       " '/transport/transport_state/last_interaction_in_nu',\n",
       " '/transport/transport_state/last_interaction_type',\n",
       " '/transport/transport_state/last_line_interaction_in_id',\n",
       " '/transport/transport_state/last_line_interaction_out_id',\n",
       " '/transport/transport_state/last_line_interaction_shell_id',\n",
       " '/transport/transport_state/montecarlo_virtual_luminosity',\n",
       " '/transport/transport_state/nu_bar_estimator',\n",
       " '/transport/transport_state/output_energy',\n",
       " '/transport/transport_state/output_nu',\n",
       " '/transport/transport_state/packet_luminosity',\n",
       " '/transport/transport_state/scalars',\n",
       " '/transport/transport_state/spectrum_virtual/_frequency',\n",
       " '/transport/transport_state/spectrum_virtual/luminosity',\n",
       " '/transport/transport_state/spectrum_virtual/luminosity_density_lambda',\n",
       " '/transport/transport_state/spectrum_virtual/scalars',\n",
       " '/transport/transport_state/spectrum_virtual/wavelength',\n",
       " '/transport/transport_state/spectrum_reabsorbed/_frequency',\n",
       " '/transport/transport_state/spectrum_reabsorbed/luminosity',\n",
       " '/transport/transport_state/spectrum_reabsorbed/luminosity_density_lambda',\n",
       " '/transport/transport_state/spectrum_reabsorbed/scalars',\n",
       " '/transport/transport_state/spectrum_reabsorbed/wavelength',\n",
       " '/transport/transport_state/spectrum/_frequency',\n",
       " '/transport/transport_state/spectrum/luminosity',\n",
       " '/transport/transport_state/spectrum/luminosity_density_lambda',\n",
       " '/transport/transport_state/spectrum/scalars',\n",
       " '/transport/transport_state/spectrum/wavelength']"
      ]
     },
     "execution_count": 13,
     "metadata": {},
     "output_type": "execute_result"
    }
   ],
   "source": [
    "import pandas\n",
    "\n",
    "transport_data = pandas.HDFStore('/tmp/transport_output.hdf')\n",
    "\n",
    "transport_data.keys()"
   ]
  }
 ],
 "metadata": {
  "celltoolbar": "Raw Cell Format",
  "kernelspec": {
   "display_name": "Python 3",
   "language": "python",
   "name": "python3"
  },
  "language_info": {
   "codemirror_mode": {
    "name": "ipython",
    "version": 3
   },
   "file_extension": ".py",
   "mimetype": "text/x-python",
   "name": "python",
   "nbconvert_exporter": "python",
   "pygments_lexer": "ipython3",
   "version": "3.11.5"
  },
  "widgets": {
   "application/vnd.jupyter.widget-state+json": {
    "state": {
     "014889e2a8204c96a2de242754b32089": {
      "model_module": "@jupyter-widgets/base",
      "model_module_version": "1.2.0",
      "model_name": "LayoutModel",
      "state": {
       "_model_module": "@jupyter-widgets/base",
       "_model_module_version": "1.2.0",
       "_model_name": "LayoutModel",
       "_view_count": null,
       "_view_module": "@jupyter-widgets/base",
       "_view_module_version": "1.2.0",
       "_view_name": "LayoutView",
       "align_content": null,
       "align_items": null,
       "align_self": null,
       "border": null,
       "bottom": null,
       "display": null,
       "flex": null,
       "flex_flow": null,
       "grid_area": null,
       "grid_auto_columns": null,
       "grid_auto_flow": null,
       "grid_auto_rows": null,
       "grid_column": null,
       "grid_gap": null,
       "grid_row": null,
       "grid_template_areas": null,
       "grid_template_columns": null,
       "grid_template_rows": null,
       "height": null,
       "justify_content": null,
       "justify_items": null,
       "left": null,
       "margin": null,
       "max_height": null,
       "max_width": null,
       "min_height": null,
       "min_width": null,
       "object_fit": null,
       "object_position": null,
       "order": null,
       "overflow": null,
       "overflow_x": null,
       "overflow_y": null,
       "padding": null,
       "right": null,
       "top": null,
       "visibility": null,
       "width": "60%"
      }
     },
     "070d59e092424f178754fb7f2ee35f26": {
      "model_module": "@jupyter-widgets/controls",
      "model_module_version": "1.5.0",
      "model_name": "HBoxModel",
      "state": {
       "_dom_classes": [],
       "_model_module": "@jupyter-widgets/controls",
       "_model_module_version": "1.5.0",
       "_model_name": "HBoxModel",
       "_view_count": null,
       "_view_module": "@jupyter-widgets/controls",
       "_view_module_version": "1.5.0",
       "_view_name": "HBoxView",
       "box_style": "",
       "children": [
        "IPY_MODEL_74019564fe944621aeae9620b5551664",
        "IPY_MODEL_a518acfdb6d946d99d3489d5a9135769",
        "IPY_MODEL_70c582a8de674eebba42ffb778597a52"
       ],
       "layout": "IPY_MODEL_66f281ea7d284b5d85f1aad19d0c05f7"
      }
     },
     "095673d60f2f47f2a6f911551687f9c0": {
      "model_module": "@jupyter-widgets/base",
      "model_module_version": "1.2.0",
      "model_name": "LayoutModel",
      "state": {
       "_model_module": "@jupyter-widgets/base",
       "_model_module_version": "1.2.0",
       "_model_name": "LayoutModel",
       "_view_count": null,
       "_view_module": "@jupyter-widgets/base",
       "_view_module_version": "1.2.0",
       "_view_name": "LayoutView",
       "align_content": null,
       "align_items": null,
       "align_self": null,
       "border": null,
       "bottom": null,
       "display": null,
       "flex": null,
       "flex_flow": null,
       "grid_area": null,
       "grid_auto_columns": null,
       "grid_auto_flow": null,
       "grid_auto_rows": null,
       "grid_column": null,
       "grid_gap": null,
       "grid_row": null,
       "grid_template_areas": null,
       "grid_template_columns": null,
       "grid_template_rows": null,
       "height": null,
       "justify_content": null,
       "justify_items": null,
       "left": null,
       "margin": null,
       "max_height": null,
       "max_width": null,
       "min_height": null,
       "min_width": null,
       "object_fit": null,
       "object_position": null,
       "order": null,
       "overflow": null,
       "overflow_x": null,
       "overflow_y": null,
       "padding": null,
       "right": null,
       "top": null,
       "visibility": null,
       "width": "60%"
      }
     },
     "0c7cb23f814142bea124a05914227e46": {
      "model_module": "@jupyter-widgets/controls",
      "model_module_version": "1.5.0",
      "model_name": "ProgressStyleModel",
      "state": {
       "_model_module": "@jupyter-widgets/controls",
       "_model_module_version": "1.5.0",
       "_model_name": "ProgressStyleModel",
       "_view_count": null,
       "_view_module": "@jupyter-widgets/base",
       "_view_module_version": "1.2.0",
       "_view_name": "StyleView",
       "bar_color": null,
       "description_width": ""
      }
     },
     "115a294cef1d421b90bbde6600bff139": {
      "model_module": "@jupyter-widgets/controls",
      "model_module_version": "1.5.0",
      "model_name": "HBoxModel",
      "state": {
       "_dom_classes": [],
       "_model_module": "@jupyter-widgets/controls",
       "_model_module_version": "1.5.0",
       "_model_name": "HBoxModel",
       "_view_count": null,
       "_view_module": "@jupyter-widgets/controls",
       "_view_module_version": "1.5.0",
       "_view_name": "HBoxView",
       "box_style": "",
       "children": [
        "IPY_MODEL_26b795282e4e4a33bb0ad0d2522c7174",
        "IPY_MODEL_8e99c37d336f4ddb9723e2f757bbbe66",
        "IPY_MODEL_6c397d4517364e2a81066b9cedb4af21"
       ],
       "layout": "IPY_MODEL_e3455c1a03b345a6b519122c42746e80"
      }
     },
     "1289a17d1238420f85cf912b256f16df": {
      "model_module": "@jupyter-widgets/controls",
      "model_module_version": "1.5.0",
      "model_name": "ProgressStyleModel",
      "state": {
       "_model_module": "@jupyter-widgets/controls",
       "_model_module_version": "1.5.0",
       "_model_name": "ProgressStyleModel",
       "_view_count": null,
       "_view_module": "@jupyter-widgets/base",
       "_view_module_version": "1.2.0",
       "_view_name": "StyleView",
       "bar_color": null,
       "description_width": ""
      }
     },
     "135b62287ac54580abb0e888675e368a": {
      "model_module": "@jupyter-widgets/controls",
      "model_module_version": "1.5.0",
      "model_name": "DescriptionStyleModel",
      "state": {
       "_model_module": "@jupyter-widgets/controls",
       "_model_module_version": "1.5.0",
       "_model_name": "DescriptionStyleModel",
       "_view_count": null,
       "_view_module": "@jupyter-widgets/base",
       "_view_module_version": "1.2.0",
       "_view_name": "StyleView",
       "description_width": ""
      }
     },
     "13985eba15634d1dbbb85f34e5430929": {
      "model_module": "@jupyter-widgets/base",
      "model_module_version": "1.2.0",
      "model_name": "LayoutModel",
      "state": {
       "_model_module": "@jupyter-widgets/base",
       "_model_module_version": "1.2.0",
       "_model_name": "LayoutModel",
       "_view_count": null,
       "_view_module": "@jupyter-widgets/base",
       "_view_module_version": "1.2.0",
       "_view_name": "LayoutView",
       "align_content": null,
       "align_items": null,
       "align_self": null,
       "border": null,
       "bottom": null,
       "display": null,
       "flex": null,
       "flex_flow": null,
       "grid_area": null,
       "grid_auto_columns": null,
       "grid_auto_flow": null,
       "grid_auto_rows": null,
       "grid_column": null,
       "grid_gap": null,
       "grid_row": null,
       "grid_template_areas": null,
       "grid_template_columns": null,
       "grid_template_rows": null,
       "height": null,
       "justify_content": null,
       "justify_items": null,
       "left": null,
       "margin": null,
       "max_height": null,
       "max_width": null,
       "min_height": null,
       "min_width": null,
       "object_fit": null,
       "object_position": null,
       "order": null,
       "overflow": null,
       "overflow_x": null,
       "overflow_y": null,
       "padding": null,
       "right": null,
       "top": null,
       "visibility": null,
       "width": null
      }
     },
     "14ae225ce94e41fdb50fcfc3e18274f4": {
      "model_module": "@jupyter-widgets/controls",
      "model_module_version": "1.5.0",
      "model_name": "FloatProgressModel",
      "state": {
       "_dom_classes": [],
       "_model_module": "@jupyter-widgets/controls",
       "_model_module_version": "1.5.0",
       "_model_name": "FloatProgressModel",
       "_view_count": null,
       "_view_module": "@jupyter-widgets/controls",
       "_view_module_version": "1.5.0",
       "_view_name": "ProgressView",
       "bar_style": "info",
       "description": "",
       "description_tooltip": null,
       "layout": "IPY_MODEL_dd0e51e3685b4406bdf4e6d7074d0fdf",
       "max": 1.0,
       "min": 0.0,
       "orientation": "horizontal",
       "style": "IPY_MODEL_84a0747e6108420a84e162a2ec4ac4b2",
       "value": 0.0
      }
     },
     "1ca6bc6e01b94d3eb48ccc09526190d9": {
      "model_module": "@jupyter-widgets/controls",
      "model_module_version": "1.5.0",
      "model_name": "FloatProgressModel",
      "state": {
       "_dom_classes": [],
       "_model_module": "@jupyter-widgets/controls",
       "_model_module_version": "1.5.0",
       "_model_name": "FloatProgressModel",
       "_view_count": null,
       "_view_module": "@jupyter-widgets/controls",
       "_view_module_version": "1.5.0",
       "_view_name": "ProgressView",
       "bar_style": "info",
       "description": "",
       "description_tooltip": null,
       "layout": "IPY_MODEL_c768e8f4e585461d96f2d84bc072aaf7",
       "max": 1.0,
       "min": 0.0,
       "orientation": "horizontal",
       "style": "IPY_MODEL_0c7cb23f814142bea124a05914227e46",
       "value": 0.0
      }
     },
     "26b795282e4e4a33bb0ad0d2522c7174": {
      "model_module": "@jupyter-widgets/controls",
      "model_module_version": "1.5.0",
      "model_name": "HTMLModel",
      "state": {
       "_dom_classes": [],
       "_model_module": "@jupyter-widgets/controls",
       "_model_module_version": "1.5.0",
       "_model_name": "HTMLModel",
       "_view_count": null,
       "_view_module": "@jupyter-widgets/controls",
       "_view_module_version": "1.5.0",
       "_view_name": "HTMLView",
       "description": "",
       "description_tooltip": null,
       "layout": "IPY_MODEL_6fd9dd6ca0c6496d86c17943f7388206",
       "placeholder": "​",
       "style": "IPY_MODEL_40f8014870f34a71b01c03566a50ca1c",
       "value": "Iterations:"
      }
     },
     "28fb7d7224424b5986741d429a62ac2f": {
      "model_module": "@jupyter-widgets/base",
      "model_module_version": "1.2.0",
      "model_name": "LayoutModel",
      "state": {
       "_model_module": "@jupyter-widgets/base",
       "_model_module_version": "1.2.0",
       "_model_name": "LayoutModel",
       "_view_count": null,
       "_view_module": "@jupyter-widgets/base",
       "_view_module_version": "1.2.0",
       "_view_name": "LayoutView",
       "align_content": null,
       "align_items": null,
       "align_self": null,
       "border": null,
       "bottom": null,
       "display": null,
       "flex": null,
       "flex_flow": null,
       "grid_area": null,
       "grid_auto_columns": null,
       "grid_auto_flow": null,
       "grid_auto_rows": null,
       "grid_column": null,
       "grid_gap": null,
       "grid_row": null,
       "grid_template_areas": null,
       "grid_template_columns": null,
       "grid_template_rows": null,
       "height": null,
       "justify_content": null,
       "justify_items": null,
       "left": null,
       "margin": null,
       "max_height": null,
       "max_width": null,
       "min_height": null,
       "min_width": null,
       "object_fit": null,
       "object_position": null,
       "order": null,
       "overflow": null,
       "overflow_x": null,
       "overflow_y": null,
       "padding": null,
       "right": null,
       "top": null,
       "visibility": null,
       "width": null
      }
     },
     "386c39f6693f41e983cdc49219478a43": {
      "model_module": "@jupyter-widgets/output",
      "model_module_version": "1.0.0",
      "model_name": "OutputModel",
      "state": {
       "_dom_classes": [],
       "_model_module": "@jupyter-widgets/output",
       "_model_module_version": "1.0.0",
       "_model_name": "OutputModel",
       "_view_count": null,
       "_view_module": "@jupyter-widgets/output",
       "_view_module_version": "1.0.0",
       "_view_name": "OutputView",
       "layout": "IPY_MODEL_28fb7d7224424b5986741d429a62ac2f",
       "msg_id": "",
       "outputs": []
      }
     },
     "399b25f0483c427099d6fe6649fd50a6": {
      "model_module": "@jupyter-widgets/controls",
      "model_module_version": "1.5.0",
      "model_name": "HBoxModel",
      "state": {
       "_dom_classes": [],
       "_model_module": "@jupyter-widgets/controls",
       "_model_module_version": "1.5.0",
       "_model_name": "HBoxModel",
       "_view_count": null,
       "_view_module": "@jupyter-widgets/controls",
       "_view_module_version": "1.5.0",
       "_view_name": "HBoxView",
       "box_style": "",
       "children": [
        "IPY_MODEL_cc2be0d95ce84b88a0e02b76b0374e54",
        "IPY_MODEL_14ae225ce94e41fdb50fcfc3e18274f4",
        "IPY_MODEL_4f819f8db2b34493872cad0883e13b30"
       ],
       "layout": "IPY_MODEL_594fa63171694a01aed7212952de825d"
      }
     },
     "3f067672f3b34424a0c2431e7779a689": {
      "model_module": "@jupyter-widgets/base",
      "model_module_version": "1.2.0",
      "model_name": "LayoutModel",
      "state": {
       "_model_module": "@jupyter-widgets/base",
       "_model_module_version": "1.2.0",
       "_model_name": "LayoutModel",
       "_view_count": null,
       "_view_module": "@jupyter-widgets/base",
       "_view_module_version": "1.2.0",
       "_view_name": "LayoutView",
       "align_content": null,
       "align_items": null,
       "align_self": null,
       "border": null,
       "bottom": null,
       "display": null,
       "flex": null,
       "flex_flow": null,
       "grid_area": null,
       "grid_auto_columns": null,
       "grid_auto_flow": null,
       "grid_auto_rows": null,
       "grid_column": null,
       "grid_gap": null,
       "grid_row": null,
       "grid_template_areas": null,
       "grid_template_columns": null,
       "grid_template_rows": null,
       "height": null,
       "justify_content": null,
       "justify_items": null,
       "left": null,
       "margin": null,
       "max_height": null,
       "max_width": null,
       "min_height": null,
       "min_width": null,
       "object_fit": null,
       "object_position": null,
       "order": null,
       "overflow": null,
       "overflow_x": null,
       "overflow_y": null,
       "padding": null,
       "right": null,
       "top": null,
       "visibility": null,
       "width": null
      }
     },
     "40f8014870f34a71b01c03566a50ca1c": {
      "model_module": "@jupyter-widgets/controls",
      "model_module_version": "1.5.0",
      "model_name": "DescriptionStyleModel",
      "state": {
       "_model_module": "@jupyter-widgets/controls",
       "_model_module_version": "1.5.0",
       "_model_name": "DescriptionStyleModel",
       "_view_count": null,
       "_view_module": "@jupyter-widgets/base",
       "_view_module_version": "1.2.0",
       "_view_name": "StyleView",
       "description_width": ""
      }
     },
     "49bf57a56b114d59b72ba20dfcc17fd9": {
      "model_module": "@jupyter-widgets/controls",
      "model_module_version": "1.5.0",
      "model_name": "DescriptionStyleModel",
      "state": {
       "_model_module": "@jupyter-widgets/controls",
       "_model_module_version": "1.5.0",
       "_model_name": "DescriptionStyleModel",
       "_view_count": null,
       "_view_module": "@jupyter-widgets/base",
       "_view_module_version": "1.2.0",
       "_view_name": "StyleView",
       "description_width": ""
      }
     },
     "4b9e613744d548cd9949d7d5ed3090ae": {
      "model_module": "@jupyter-widgets/base",
      "model_module_version": "1.2.0",
      "model_name": "LayoutModel",
      "state": {
       "_model_module": "@jupyter-widgets/base",
       "_model_module_version": "1.2.0",
       "_model_name": "LayoutModel",
       "_view_count": null,
       "_view_module": "@jupyter-widgets/base",
       "_view_module_version": "1.2.0",
       "_view_name": "LayoutView",
       "align_content": null,
       "align_items": null,
       "align_self": null,
       "border": null,
       "bottom": null,
       "display": null,
       "flex": null,
       "flex_flow": null,
       "grid_area": null,
       "grid_auto_columns": null,
       "grid_auto_flow": null,
       "grid_auto_rows": null,
       "grid_column": null,
       "grid_gap": null,
       "grid_row": null,
       "grid_template_areas": null,
       "grid_template_columns": null,
       "grid_template_rows": null,
       "height": null,
       "justify_content": null,
       "justify_items": null,
       "left": null,
       "margin": null,
       "max_height": null,
       "max_width": null,
       "min_height": null,
       "min_width": null,
       "object_fit": null,
       "object_position": null,
       "order": null,
       "overflow": null,
       "overflow_x": null,
       "overflow_y": null,
       "padding": null,
       "right": null,
       "top": null,
       "visibility": null,
       "width": null
      }
     },
     "4f819f8db2b34493872cad0883e13b30": {
      "model_module": "@jupyter-widgets/controls",
      "model_module_version": "1.5.0",
      "model_name": "HTMLModel",
      "state": {
       "_dom_classes": [],
       "_model_module": "@jupyter-widgets/controls",
       "_model_module_version": "1.5.0",
       "_model_name": "HTMLModel",
       "_view_count": null,
       "_view_module": "@jupyter-widgets/controls",
       "_view_module_version": "1.5.0",
       "_view_name": "HTMLView",
       "description": "",
       "description_tooltip": null,
       "layout": "IPY_MODEL_c071dd8390a84fe9a84f98e556a75501",
       "placeholder": "​",
       "style": "IPY_MODEL_135b62287ac54580abb0e888675e368a",
       "value": "0/? [00:00&lt;?, ?it/s]"
      }
     },
     "54210b8311e84a3f8b9d14775bb7ce21": {
      "model_module": "@jupyter-widgets/base",
      "model_module_version": "1.2.0",
      "model_name": "LayoutModel",
      "state": {
       "_model_module": "@jupyter-widgets/base",
       "_model_module_version": "1.2.0",
       "_model_name": "LayoutModel",
       "_view_count": null,
       "_view_module": "@jupyter-widgets/base",
       "_view_module_version": "1.2.0",
       "_view_name": "LayoutView",
       "align_content": null,
       "align_items": null,
       "align_self": null,
       "border": null,
       "bottom": null,
       "display": null,
       "flex": null,
       "flex_flow": null,
       "grid_area": null,
       "grid_auto_columns": null,
       "grid_auto_flow": null,
       "grid_auto_rows": null,
       "grid_column": null,
       "grid_gap": null,
       "grid_row": null,
       "grid_template_areas": null,
       "grid_template_columns": null,
       "grid_template_rows": null,
       "height": null,
       "justify_content": null,
       "justify_items": null,
       "left": null,
       "margin": null,
       "max_height": null,
       "max_width": null,
       "min_height": null,
       "min_width": null,
       "object_fit": null,
       "object_position": null,
       "order": null,
       "overflow": null,
       "overflow_x": null,
       "overflow_y": null,
       "padding": null,
       "right": null,
       "top": null,
       "visibility": null,
       "width": "6%"
      }
     },
     "594fa63171694a01aed7212952de825d": {
      "model_module": "@jupyter-widgets/base",
      "model_module_version": "1.2.0",
      "model_name": "LayoutModel",
      "state": {
       "_model_module": "@jupyter-widgets/base",
       "_model_module_version": "1.2.0",
       "_model_name": "LayoutModel",
       "_view_count": null,
       "_view_module": "@jupyter-widgets/base",
       "_view_module_version": "1.2.0",
       "_view_name": "LayoutView",
       "align_content": null,
       "align_items": null,
       "align_self": null,
       "border": null,
       "bottom": null,
       "display": null,
       "flex": null,
       "flex_flow": null,
       "grid_area": null,
       "grid_auto_columns": null,
       "grid_auto_flow": null,
       "grid_auto_rows": null,
       "grid_column": null,
       "grid_gap": null,
       "grid_row": null,
       "grid_template_areas": null,
       "grid_template_columns": null,
       "grid_template_rows": null,
       "height": null,
       "justify_content": null,
       "justify_items": null,
       "left": null,
       "margin": null,
       "max_height": null,
       "max_width": null,
       "min_height": null,
       "min_width": null,
       "object_fit": null,
       "object_position": null,
       "order": null,
       "overflow": null,
       "overflow_x": null,
       "overflow_y": null,
       "padding": null,
       "right": null,
       "top": null,
       "visibility": null,
       "width": null
      }
     },
     "60fa04dbb02849fc8999a1543fd5b058": {
      "model_module": "@jupyter-widgets/controls",
      "model_module_version": "1.5.0",
      "model_name": "DescriptionStyleModel",
      "state": {
       "_model_module": "@jupyter-widgets/controls",
       "_model_module_version": "1.5.0",
       "_model_name": "DescriptionStyleModel",
       "_view_count": null,
       "_view_module": "@jupyter-widgets/base",
       "_view_module_version": "1.2.0",
       "_view_name": "StyleView",
       "description_width": ""
      }
     },
     "66f281ea7d284b5d85f1aad19d0c05f7": {
      "model_module": "@jupyter-widgets/base",
      "model_module_version": "1.2.0",
      "model_name": "LayoutModel",
      "state": {
       "_model_module": "@jupyter-widgets/base",
       "_model_module_version": "1.2.0",
       "_model_name": "LayoutModel",
       "_view_count": null,
       "_view_module": "@jupyter-widgets/base",
       "_view_module_version": "1.2.0",
       "_view_name": "LayoutView",
       "align_content": null,
       "align_items": null,
       "align_self": null,
       "border": null,
       "bottom": null,
       "display": null,
       "flex": null,
       "flex_flow": null,
       "grid_area": null,
       "grid_auto_columns": null,
       "grid_auto_flow": null,
       "grid_auto_rows": null,
       "grid_column": null,
       "grid_gap": null,
       "grid_row": null,
       "grid_template_areas": null,
       "grid_template_columns": null,
       "grid_template_rows": null,
       "height": null,
       "justify_content": null,
       "justify_items": null,
       "left": null,
       "margin": null,
       "max_height": null,
       "max_width": null,
       "min_height": null,
       "min_width": null,
       "object_fit": null,
       "object_position": null,
       "order": null,
       "overflow": null,
       "overflow_x": null,
       "overflow_y": null,
       "padding": null,
       "right": null,
       "top": null,
       "visibility": null,
       "width": null
      }
     },
     "6c397d4517364e2a81066b9cedb4af21": {
      "model_module": "@jupyter-widgets/controls",
      "model_module_version": "1.5.0",
      "model_name": "HTMLModel",
      "state": {
       "_dom_classes": [],
       "_model_module": "@jupyter-widgets/controls",
       "_model_module_version": "1.5.0",
       "_model_name": "HTMLModel",
       "_view_count": null,
       "_view_module": "@jupyter-widgets/controls",
       "_view_module_version": "1.5.0",
       "_view_name": "HTMLView",
       "description": "",
       "description_tooltip": null,
       "layout": "IPY_MODEL_f801b4fecbfd4e5099ca038b5f5a1135",
       "placeholder": "​",
       "style": "IPY_MODEL_d86bffe9958940b0be076b00d57f59d7",
       "value": "20/20 [00:13&lt;00:00,  1.86s/it]"
      }
     },
     "6fd9dd6ca0c6496d86c17943f7388206": {
      "model_module": "@jupyter-widgets/base",
      "model_module_version": "1.2.0",
      "model_name": "LayoutModel",
      "state": {
       "_model_module": "@jupyter-widgets/base",
       "_model_module_version": "1.2.0",
       "_model_name": "LayoutModel",
       "_view_count": null,
       "_view_module": "@jupyter-widgets/base",
       "_view_module_version": "1.2.0",
       "_view_name": "LayoutView",
       "align_content": null,
       "align_items": null,
       "align_self": null,
       "border": null,
       "bottom": null,
       "display": null,
       "flex": null,
       "flex_flow": null,
       "grid_area": null,
       "grid_auto_columns": null,
       "grid_auto_flow": null,
       "grid_auto_rows": null,
       "grid_column": null,
       "grid_gap": null,
       "grid_row": null,
       "grid_template_areas": null,
       "grid_template_columns": null,
       "grid_template_rows": null,
       "height": null,
       "justify_content": null,
       "justify_items": null,
       "left": null,
       "margin": null,
       "max_height": null,
       "max_width": null,
       "min_height": null,
       "min_width": null,
       "object_fit": null,
       "object_position": null,
       "order": null,
       "overflow": null,
       "overflow_x": null,
       "overflow_y": null,
       "padding": null,
       "right": null,
       "top": null,
       "visibility": null,
       "width": "6%"
      }
     },
     "70c582a8de674eebba42ffb778597a52": {
      "model_module": "@jupyter-widgets/controls",
      "model_module_version": "1.5.0",
      "model_name": "HTMLModel",
      "state": {
       "_dom_classes": [],
       "_model_module": "@jupyter-widgets/controls",
       "_model_module_version": "1.5.0",
       "_model_name": "HTMLModel",
       "_view_count": null,
       "_view_module": "@jupyter-widgets/controls",
       "_view_module_version": "1.5.0",
       "_view_name": "HTMLView",
       "description": "",
       "description_tooltip": null,
       "layout": "IPY_MODEL_13985eba15634d1dbbb85f34e5430929",
       "placeholder": "​",
       "style": "IPY_MODEL_60fa04dbb02849fc8999a1543fd5b058",
       "value": "100000/100000 [00:04&lt;00:00, 21159.84it/s]"
      }
     },
     "74019564fe944621aeae9620b5551664": {
      "model_module": "@jupyter-widgets/controls",
      "model_module_version": "1.5.0",
      "model_name": "HTMLModel",
      "state": {
       "_dom_classes": [],
       "_model_module": "@jupyter-widgets/controls",
       "_model_module_version": "1.5.0",
       "_model_name": "HTMLModel",
       "_view_count": null,
       "_view_module": "@jupyter-widgets/controls",
       "_view_module_version": "1.5.0",
       "_view_name": "HTMLView",
       "description": "",
       "description_tooltip": null,
       "layout": "IPY_MODEL_54210b8311e84a3f8b9d14775bb7ce21",
       "placeholder": "​",
       "style": "IPY_MODEL_a9a637ee22b24fe08d72689dfe2f831b",
       "value": "Packets:   "
      }
     },
     "74be832794cb4b93926bc57c9146e74c": {
      "model_module": "@jupyter-widgets/controls",
      "model_module_version": "1.5.0",
      "model_name": "ProgressStyleModel",
      "state": {
       "_model_module": "@jupyter-widgets/controls",
       "_model_module_version": "1.5.0",
       "_model_name": "ProgressStyleModel",
       "_view_count": null,
       "_view_module": "@jupyter-widgets/base",
       "_view_module_version": "1.2.0",
       "_view_name": "StyleView",
       "bar_color": null,
       "description_width": ""
      }
     },
     "81b13746b276459b9ef655381b38c54c": {
      "model_module": "@jupyter-widgets/output",
      "model_module_version": "1.0.0",
      "model_name": "OutputModel",
      "state": {
       "_dom_classes": [],
       "_model_module": "@jupyter-widgets/output",
       "_model_module_version": "1.0.0",
       "_model_name": "OutputModel",
       "_view_count": null,
       "_view_module": "@jupyter-widgets/output",
       "_view_module_version": "1.0.0",
       "_view_name": "OutputView",
       "layout": "IPY_MODEL_a103ad38e46e42318b0d942f6871a8a2",
       "msg_id": "",
       "outputs": []
      }
     },
     "84a0747e6108420a84e162a2ec4ac4b2": {
      "model_module": "@jupyter-widgets/controls",
      "model_module_version": "1.5.0",
      "model_name": "ProgressStyleModel",
      "state": {
       "_model_module": "@jupyter-widgets/controls",
       "_model_module_version": "1.5.0",
       "_model_name": "ProgressStyleModel",
       "_view_count": null,
       "_view_module": "@jupyter-widgets/base",
       "_view_module_version": "1.2.0",
       "_view_name": "StyleView",
       "bar_color": null,
       "description_width": ""
      }
     },
     "8e99c37d336f4ddb9723e2f757bbbe66": {
      "model_module": "@jupyter-widgets/controls",
      "model_module_version": "1.5.0",
      "model_name": "FloatProgressModel",
      "state": {
       "_dom_classes": [],
       "_model_module": "@jupyter-widgets/controls",
       "_model_module_version": "1.5.0",
       "_model_name": "FloatProgressModel",
       "_view_count": null,
       "_view_module": "@jupyter-widgets/controls",
       "_view_module_version": "1.5.0",
       "_view_name": "ProgressView",
       "bar_style": "",
       "description": "",
       "description_tooltip": null,
       "layout": "IPY_MODEL_014889e2a8204c96a2de242754b32089",
       "max": 20.0,
       "min": 0.0,
       "orientation": "horizontal",
       "style": "IPY_MODEL_1289a17d1238420f85cf912b256f16df",
       "value": 20.0
      }
     },
     "a103ad38e46e42318b0d942f6871a8a2": {
      "model_module": "@jupyter-widgets/base",
      "model_module_version": "1.2.0",
      "model_name": "LayoutModel",
      "state": {
       "_model_module": "@jupyter-widgets/base",
       "_model_module_version": "1.2.0",
       "_model_name": "LayoutModel",
       "_view_count": null,
       "_view_module": "@jupyter-widgets/base",
       "_view_module_version": "1.2.0",
       "_view_name": "LayoutView",
       "align_content": null,
       "align_items": null,
       "align_self": null,
       "border": null,
       "bottom": null,
       "display": null,
       "flex": null,
       "flex_flow": null,
       "grid_area": null,
       "grid_auto_columns": null,
       "grid_auto_flow": null,
       "grid_auto_rows": null,
       "grid_column": null,
       "grid_gap": null,
       "grid_row": null,
       "grid_template_areas": null,
       "grid_template_columns": null,
       "grid_template_rows": null,
       "height": null,
       "justify_content": null,
       "justify_items": null,
       "left": null,
       "margin": null,
       "max_height": null,
       "max_width": null,
       "min_height": null,
       "min_width": null,
       "object_fit": null,
       "object_position": null,
       "order": null,
       "overflow": null,
       "overflow_x": null,
       "overflow_y": null,
       "padding": null,
       "right": null,
       "top": null,
       "visibility": null,
       "width": null
      }
     },
     "a4fa158be3bb44d28f1b6095382d91c2": {
      "model_module": "@jupyter-widgets/controls",
      "model_module_version": "1.5.0",
      "model_name": "HTMLModel",
      "state": {
       "_dom_classes": [],
       "_model_module": "@jupyter-widgets/controls",
       "_model_module_version": "1.5.0",
       "_model_name": "HTMLModel",
       "_view_count": null,
       "_view_module": "@jupyter-widgets/controls",
       "_view_module_version": "1.5.0",
       "_view_name": "HTMLView",
       "description": "",
       "description_tooltip": null,
       "layout": "IPY_MODEL_4b9e613744d548cd9949d7d5ed3090ae",
       "placeholder": "​",
       "style": "IPY_MODEL_db58ac68b9274f23a48977cac9ca5ed7",
       "value": "Packets:   "
      }
     },
     "a518acfdb6d946d99d3489d5a9135769": {
      "model_module": "@jupyter-widgets/controls",
      "model_module_version": "1.5.0",
      "model_name": "FloatProgressModel",
      "state": {
       "_dom_classes": [],
       "_model_module": "@jupyter-widgets/controls",
       "_model_module_version": "1.5.0",
       "_model_name": "FloatProgressModel",
       "_view_count": null,
       "_view_module": "@jupyter-widgets/controls",
       "_view_module_version": "1.5.0",
       "_view_name": "ProgressView",
       "bar_style": "",
       "description": "",
       "description_tooltip": null,
       "layout": "IPY_MODEL_095673d60f2f47f2a6f911551687f9c0",
       "max": 100000.0,
       "min": 0.0,
       "orientation": "horizontal",
       "style": "IPY_MODEL_74be832794cb4b93926bc57c9146e74c",
       "value": 100000.0
      }
     },
     "a9a637ee22b24fe08d72689dfe2f831b": {
      "model_module": "@jupyter-widgets/controls",
      "model_module_version": "1.5.0",
      "model_name": "DescriptionStyleModel",
      "state": {
       "_model_module": "@jupyter-widgets/controls",
       "_model_module_version": "1.5.0",
       "_model_name": "DescriptionStyleModel",
       "_view_count": null,
       "_view_module": "@jupyter-widgets/base",
       "_view_module_version": "1.2.0",
       "_view_name": "StyleView",
       "description_width": ""
      }
     },
     "c071dd8390a84fe9a84f98e556a75501": {
      "model_module": "@jupyter-widgets/base",
      "model_module_version": "1.2.0",
      "model_name": "LayoutModel",
      "state": {
       "_model_module": "@jupyter-widgets/base",
       "_model_module_version": "1.2.0",
       "_model_name": "LayoutModel",
       "_view_count": null,
       "_view_module": "@jupyter-widgets/base",
       "_view_module_version": "1.2.0",
       "_view_name": "LayoutView",
       "align_content": null,
       "align_items": null,
       "align_self": null,
       "border": null,
       "bottom": null,
       "display": null,
       "flex": null,
       "flex_flow": null,
       "grid_area": null,
       "grid_auto_columns": null,
       "grid_auto_flow": null,
       "grid_auto_rows": null,
       "grid_column": null,
       "grid_gap": null,
       "grid_row": null,
       "grid_template_areas": null,
       "grid_template_columns": null,
       "grid_template_rows": null,
       "height": null,
       "justify_content": null,
       "justify_items": null,
       "left": null,
       "margin": null,
       "max_height": null,
       "max_width": null,
       "min_height": null,
       "min_width": null,
       "object_fit": null,
       "object_position": null,
       "order": null,
       "overflow": null,
       "overflow_x": null,
       "overflow_y": null,
       "padding": null,
       "right": null,
       "top": null,
       "visibility": null,
       "width": null
      }
     },
     "c768e8f4e585461d96f2d84bc072aaf7": {
      "model_module": "@jupyter-widgets/base",
      "model_module_version": "1.2.0",
      "model_name": "LayoutModel",
      "state": {
       "_model_module": "@jupyter-widgets/base",
       "_model_module_version": "1.2.0",
       "_model_name": "LayoutModel",
       "_view_count": null,
       "_view_module": "@jupyter-widgets/base",
       "_view_module_version": "1.2.0",
       "_view_name": "LayoutView",
       "align_content": null,
       "align_items": null,
       "align_self": null,
       "border": null,
       "bottom": null,
       "display": null,
       "flex": null,
       "flex_flow": null,
       "grid_area": null,
       "grid_auto_columns": null,
       "grid_auto_flow": null,
       "grid_auto_rows": null,
       "grid_column": null,
       "grid_gap": null,
       "grid_row": null,
       "grid_template_areas": null,
       "grid_template_columns": null,
       "grid_template_rows": null,
       "height": null,
       "justify_content": null,
       "justify_items": null,
       "left": null,
       "margin": null,
       "max_height": null,
       "max_width": null,
       "min_height": null,
       "min_width": null,
       "object_fit": null,
       "object_position": null,
       "order": null,
       "overflow": null,
       "overflow_x": null,
       "overflow_y": null,
       "padding": null,
       "right": null,
       "top": null,
       "visibility": null,
       "width": "20px"
      }
     },
     "ca4cf2f4510a40d1b110b91197cf4528": {
      "model_module": "@jupyter-widgets/base",
      "model_module_version": "1.2.0",
      "model_name": "LayoutModel",
      "state": {
       "_model_module": "@jupyter-widgets/base",
       "_model_module_version": "1.2.0",
       "_model_name": "LayoutModel",
       "_view_count": null,
       "_view_module": "@jupyter-widgets/base",
       "_view_module_version": "1.2.0",
       "_view_name": "LayoutView",
       "align_content": null,
       "align_items": null,
       "align_self": null,
       "border": null,
       "bottom": null,
       "display": null,
       "flex": null,
       "flex_flow": null,
       "grid_area": null,
       "grid_auto_columns": null,
       "grid_auto_flow": null,
       "grid_auto_rows": null,
       "grid_column": null,
       "grid_gap": null,
       "grid_row": null,
       "grid_template_areas": null,
       "grid_template_columns": null,
       "grid_template_rows": null,
       "height": null,
       "justify_content": null,
       "justify_items": null,
       "left": null,
       "margin": null,
       "max_height": null,
       "max_width": null,
       "min_height": null,
       "min_width": null,
       "object_fit": null,
       "object_position": null,
       "order": null,
       "overflow": null,
       "overflow_x": null,
       "overflow_y": null,
       "padding": null,
       "right": null,
       "top": null,
       "visibility": null,
       "width": null
      }
     },
     "cbb5f252b841471a87859fb8795084bc": {
      "model_module": "@jupyter-widgets/controls",
      "model_module_version": "1.5.0",
      "model_name": "HTMLModel",
      "state": {
       "_dom_classes": [],
       "_model_module": "@jupyter-widgets/controls",
       "_model_module_version": "1.5.0",
       "_model_name": "HTMLModel",
       "_view_count": null,
       "_view_module": "@jupyter-widgets/controls",
       "_view_module_version": "1.5.0",
       "_view_name": "HTMLView",
       "description": "",
       "description_tooltip": null,
       "layout": "IPY_MODEL_fb242c145f054536814fa02911942a2c",
       "placeholder": "​",
       "style": "IPY_MODEL_49bf57a56b114d59b72ba20dfcc17fd9",
       "value": "0/? [00:00&lt;?, ?it/s]"
      }
     },
     "cc2be0d95ce84b88a0e02b76b0374e54": {
      "model_module": "@jupyter-widgets/controls",
      "model_module_version": "1.5.0",
      "model_name": "HTMLModel",
      "state": {
       "_dom_classes": [],
       "_model_module": "@jupyter-widgets/controls",
       "_model_module_version": "1.5.0",
       "_model_name": "HTMLModel",
       "_view_count": null,
       "_view_module": "@jupyter-widgets/controls",
       "_view_module_version": "1.5.0",
       "_view_name": "HTMLView",
       "description": "",
       "description_tooltip": null,
       "layout": "IPY_MODEL_ca4cf2f4510a40d1b110b91197cf4528",
       "placeholder": "​",
       "style": "IPY_MODEL_d0a4f36705f64a6db307b0b712633d15",
       "value": "Iterations:"
      }
     },
     "ced4fc2b5a9345e89ca9fb6d5c349399": {
      "model_module": "@jupyter-widgets/controls",
      "model_module_version": "1.5.0",
      "model_name": "HBoxModel",
      "state": {
       "_dom_classes": [],
       "_model_module": "@jupyter-widgets/controls",
       "_model_module_version": "1.5.0",
       "_model_name": "HBoxModel",
       "_view_count": null,
       "_view_module": "@jupyter-widgets/controls",
       "_view_module_version": "1.5.0",
       "_view_name": "HBoxView",
       "box_style": "",
       "children": [
        "IPY_MODEL_a4fa158be3bb44d28f1b6095382d91c2",
        "IPY_MODEL_1ca6bc6e01b94d3eb48ccc09526190d9",
        "IPY_MODEL_cbb5f252b841471a87859fb8795084bc"
       ],
       "layout": "IPY_MODEL_3f067672f3b34424a0c2431e7779a689"
      }
     },
     "d0a4f36705f64a6db307b0b712633d15": {
      "model_module": "@jupyter-widgets/controls",
      "model_module_version": "1.5.0",
      "model_name": "DescriptionStyleModel",
      "state": {
       "_model_module": "@jupyter-widgets/controls",
       "_model_module_version": "1.5.0",
       "_model_name": "DescriptionStyleModel",
       "_view_count": null,
       "_view_module": "@jupyter-widgets/base",
       "_view_module_version": "1.2.0",
       "_view_name": "StyleView",
       "description_width": ""
      }
     },
     "d86bffe9958940b0be076b00d57f59d7": {
      "model_module": "@jupyter-widgets/controls",
      "model_module_version": "1.5.0",
      "model_name": "DescriptionStyleModel",
      "state": {
       "_model_module": "@jupyter-widgets/controls",
       "_model_module_version": "1.5.0",
       "_model_name": "DescriptionStyleModel",
       "_view_count": null,
       "_view_module": "@jupyter-widgets/base",
       "_view_module_version": "1.2.0",
       "_view_name": "StyleView",
       "description_width": ""
      }
     },
     "db58ac68b9274f23a48977cac9ca5ed7": {
      "model_module": "@jupyter-widgets/controls",
      "model_module_version": "1.5.0",
      "model_name": "DescriptionStyleModel",
      "state": {
       "_model_module": "@jupyter-widgets/controls",
       "_model_module_version": "1.5.0",
       "_model_name": "DescriptionStyleModel",
       "_view_count": null,
       "_view_module": "@jupyter-widgets/base",
       "_view_module_version": "1.2.0",
       "_view_name": "StyleView",
       "description_width": ""
      }
     },
     "dd0e51e3685b4406bdf4e6d7074d0fdf": {
      "model_module": "@jupyter-widgets/base",
      "model_module_version": "1.2.0",
      "model_name": "LayoutModel",
      "state": {
       "_model_module": "@jupyter-widgets/base",
       "_model_module_version": "1.2.0",
       "_model_name": "LayoutModel",
       "_view_count": null,
       "_view_module": "@jupyter-widgets/base",
       "_view_module_version": "1.2.0",
       "_view_name": "LayoutView",
       "align_content": null,
       "align_items": null,
       "align_self": null,
       "border": null,
       "bottom": null,
       "display": null,
       "flex": null,
       "flex_flow": null,
       "grid_area": null,
       "grid_auto_columns": null,
       "grid_auto_flow": null,
       "grid_auto_rows": null,
       "grid_column": null,
       "grid_gap": null,
       "grid_row": null,
       "grid_template_areas": null,
       "grid_template_columns": null,
       "grid_template_rows": null,
       "height": null,
       "justify_content": null,
       "justify_items": null,
       "left": null,
       "margin": null,
       "max_height": null,
       "max_width": null,
       "min_height": null,
       "min_width": null,
       "object_fit": null,
       "object_position": null,
       "order": null,
       "overflow": null,
       "overflow_x": null,
       "overflow_y": null,
       "padding": null,
       "right": null,
       "top": null,
       "visibility": null,
       "width": "20px"
      }
     },
     "e3455c1a03b345a6b519122c42746e80": {
      "model_module": "@jupyter-widgets/base",
      "model_module_version": "1.2.0",
      "model_name": "LayoutModel",
      "state": {
       "_model_module": "@jupyter-widgets/base",
       "_model_module_version": "1.2.0",
       "_model_name": "LayoutModel",
       "_view_count": null,
       "_view_module": "@jupyter-widgets/base",
       "_view_module_version": "1.2.0",
       "_view_name": "LayoutView",
       "align_content": null,
       "align_items": null,
       "align_self": null,
       "border": null,
       "bottom": null,
       "display": null,
       "flex": null,
       "flex_flow": null,
       "grid_area": null,
       "grid_auto_columns": null,
       "grid_auto_flow": null,
       "grid_auto_rows": null,
       "grid_column": null,
       "grid_gap": null,
       "grid_row": null,
       "grid_template_areas": null,
       "grid_template_columns": null,
       "grid_template_rows": null,
       "height": null,
       "justify_content": null,
       "justify_items": null,
       "left": null,
       "margin": null,
       "max_height": null,
       "max_width": null,
       "min_height": null,
       "min_width": null,
       "object_fit": null,
       "object_position": null,
       "order": null,
       "overflow": null,
       "overflow_x": null,
       "overflow_y": null,
       "padding": null,
       "right": null,
       "top": null,
       "visibility": null,
       "width": null
      }
     },
     "f801b4fecbfd4e5099ca038b5f5a1135": {
      "model_module": "@jupyter-widgets/base",
      "model_module_version": "1.2.0",
      "model_name": "LayoutModel",
      "state": {
       "_model_module": "@jupyter-widgets/base",
       "_model_module_version": "1.2.0",
       "_model_name": "LayoutModel",
       "_view_count": null,
       "_view_module": "@jupyter-widgets/base",
       "_view_module_version": "1.2.0",
       "_view_name": "LayoutView",
       "align_content": null,
       "align_items": null,
       "align_self": null,
       "border": null,
       "bottom": null,
       "display": null,
       "flex": null,
       "flex_flow": null,
       "grid_area": null,
       "grid_auto_columns": null,
       "grid_auto_flow": null,
       "grid_auto_rows": null,
       "grid_column": null,
       "grid_gap": null,
       "grid_row": null,
       "grid_template_areas": null,
       "grid_template_columns": null,
       "grid_template_rows": null,
       "height": null,
       "justify_content": null,
       "justify_items": null,
       "left": null,
       "margin": null,
       "max_height": null,
       "max_width": null,
       "min_height": null,
       "min_width": null,
       "object_fit": null,
       "object_position": null,
       "order": null,
       "overflow": null,
       "overflow_x": null,
       "overflow_y": null,
       "padding": null,
       "right": null,
       "top": null,
       "visibility": null,
       "width": null
      }
     },
     "fb242c145f054536814fa02911942a2c": {
      "model_module": "@jupyter-widgets/base",
      "model_module_version": "1.2.0",
      "model_name": "LayoutModel",
      "state": {
       "_model_module": "@jupyter-widgets/base",
       "_model_module_version": "1.2.0",
       "_model_name": "LayoutModel",
       "_view_count": null,
       "_view_module": "@jupyter-widgets/base",
       "_view_module_version": "1.2.0",
       "_view_name": "LayoutView",
       "align_content": null,
       "align_items": null,
       "align_self": null,
       "border": null,
       "bottom": null,
       "display": null,
       "flex": null,
       "flex_flow": null,
       "grid_area": null,
       "grid_auto_columns": null,
       "grid_auto_flow": null,
       "grid_auto_rows": null,
       "grid_column": null,
       "grid_gap": null,
       "grid_row": null,
       "grid_template_areas": null,
       "grid_template_columns": null,
       "grid_template_rows": null,
       "height": null,
       "justify_content": null,
       "justify_items": null,
       "left": null,
       "margin": null,
       "max_height": null,
       "max_width": null,
       "min_height": null,
       "min_width": null,
       "object_fit": null,
       "object_position": null,
       "order": null,
       "overflow": null,
       "overflow_x": null,
       "overflow_y": null,
       "padding": null,
       "right": null,
       "top": null,
       "visibility": null,
       "width": null
      }
     }
    },
    "version_major": 2,
    "version_minor": 0
   }
  }
 },
 "nbformat": 4,
 "nbformat_minor": 1
}
