{
 "cells": [
  {
   "cell_type": "markdown",
   "id": "67d6982f",
   "metadata": {},
   "source": [
    "# Configuring the Logging Output for TARDIS"
   ]
  },
  {
   "cell_type": "markdown",
   "id": "ac4ba612",
   "metadata": {},
   "source": [
    "**TARDIS** has a Notebook logger that logs information of Simulation runs. The logs allows to access vital information regarding the execution sequence, data for plasma stratification & progress of the simulation.<br>\n",
    "**TARDIS** allows configuring the logger via *Functional Arguments* as well as *YAML Parameters*.\n",
    "The following code snippets are some of the possible configuration that is available for the notebook logging done with TARDIS simulation."
   ]
  },
  {
   "cell_type": "markdown",
   "id": "ce886182",
   "metadata": {},
   "source": [
    "## Default Configuration"
   ]
  },
  {
   "cell_type": "markdown",
   "id": "34e59abc",
   "metadata": {},
   "source": [
    "The default configuration of the Notebook Simulation logger is such that it doesn't output any logs."
   ]
  },
  {
   "cell_type": "markdown",
   "id": "41da9db6",
   "metadata": {},
   "source": [
    "The output simulation logging, while executing the **TARDIS** simulation (default behaviour), can be seen below:"
   ]
  },
  {
   "cell_type": "code",
   "execution_count": 1,
   "id": "018bb127",
   "metadata": {
    "execution": {
     "iopub.execute_input": "2024-11-18T15:10:14.607049Z",
     "iopub.status.busy": "2024-11-18T15:10:14.606676Z",
     "iopub.status.idle": "2024-11-18T15:10:16.791168Z",
     "shell.execute_reply": "2024-11-18T15:10:16.790664Z"
    }
   },
   "outputs": [
    {
     "data": {
      "application/vnd.jupyter.widget-view+json": {
       "model_id": "77a58a4ba9ee497baa3fcb7a4fc242be",
       "version_major": 2,
       "version_minor": 0
      },
      "text/plain": [
       "Iterations:          0/? [00:00<?, ?it/s]"
      ]
     },
     "metadata": {},
     "output_type": "display_data"
    },
    {
     "data": {
      "application/vnd.jupyter.widget-view+json": {
       "model_id": "f0bf8e9a3a9f4778bd07d723abcd3502",
       "version_major": 2,
       "version_minor": 0
      },
      "text/plain": [
       "Packets:             0/? [00:00<?, ?it/s]"
      ]
     },
     "metadata": {},
     "output_type": "display_data"
    }
   ],
   "source": [
    "from tardis import run_tardis\n",
    "from tardis.io.atom_data import download_atom_data"
   ]
  },
  {
   "cell_type": "code",
   "execution_count": 2,
   "id": "ad59aa05",
   "metadata": {
    "execution": {
     "iopub.execute_input": "2024-11-18T15:10:16.793669Z",
     "iopub.status.busy": "2024-11-18T15:10:16.793321Z",
     "iopub.status.idle": "2024-11-18T15:10:16.797083Z",
     "shell.execute_reply": "2024-11-18T15:10:16.796623Z"
    },
    "scrolled": false
   },
   "outputs": [
    {
     "name": "stderr",
     "output_type": "stream",
     "text": [
      "Atomic Data kurucz_cd23_chianti_H_He already exists in /home/runner/Downloads/tardis-data/kurucz_cd23_chianti_H_He.h5. Will not download - override with force_download=True.\n"
     ]
    }
   ],
   "source": [
    "# We download the atomic data needed to run the simulation\n",
    "download_atom_data('kurucz_cd23_chianti_H_He')"
   ]
  },
  {
   "cell_type": "code",
   "execution_count": 3,
   "id": "64cf4bb2",
   "metadata": {
    "execution": {
     "iopub.execute_input": "2024-11-18T15:10:16.799376Z",
     "iopub.status.busy": "2024-11-18T15:10:16.799045Z",
     "iopub.status.idle": "2024-11-18T15:11:11.122060Z",
     "shell.execute_reply": "2024-11-18T15:11:11.121456Z"
    }
   },
   "outputs": [
    {
     "name": "stdout",
     "output_type": "stream",
     "text": [
      "[\u001b[1mpy.warnings         \u001b[0m][\u001b[1;33mWARNING\u001b[0m]  \n",
      "\t/home/runner/work/tardis/tardis/tardis/transport/montecarlo/montecarlo_main_loop.py:123: NumbaTypeSafetyWarning: \u001b[1m\u001b[1m\u001b[1munsafe cast from uint64 to int64. Precision may be lost.\u001b[0m\u001b[0m\u001b[0m\n",
      "  vpacket_collection = vpacket_collections[i]\n",
      " (\u001b[1mwarnings.py\u001b[0m:112)\n"
     ]
    },
    {
     "data": {
      "application/vnd.jupyter.widget-view+json": {
       "model_id": "1df42d158350427a83c6eaf44affc5c7",
       "version_major": 2,
       "version_minor": 0
      },
      "text/plain": [
       "TqdmHBox(children=(HTML(value='Iterations:', layout=Layout(width='6%')), FloatProgress(value=0.0, layout=Layou…"
      ]
     },
     "metadata": {},
     "output_type": "display_data"
    },
    {
     "data": {
      "application/vnd.jupyter.widget-view+json": {
       "model_id": "70237c90f6d3402297220b7604230866",
       "version_major": 2,
       "version_minor": 0
      },
      "text/plain": [
       "TqdmHBox(children=(HTML(value='Packets:\\u2007\\u2007\\u2007', layout=Layout(width='6%')), FloatProgress(value=0.…"
      ]
     },
     "metadata": {},
     "output_type": "display_data"
    }
   ],
   "source": [
    "sim = run_tardis(\"tardis_config_logger.yml\", show_cplots=False)"
   ]
  },
  {
   "cell_type": "markdown",
   "id": "9bf77405",
   "metadata": {},
   "source": [
    "It can be examined that the logs are not printed.<br> The logging level, by default, is set to `CRITICAL`. Logs will only be captured if any `CRITICAL` level logs are encountered while running the simulation."
   ]
  },
  {
   "cell_type": "markdown",
   "id": "420dd7c2",
   "metadata": {},
   "source": [
    "## Logging Configuration (Functional Arguments)"
   ]
  },
  {
   "cell_type": "markdown",
   "id": "ac8d5088",
   "metadata": {},
   "source": [
    "The `run_tardis()` function from the `tardis module` has two functional arguments:`log_level` & `specific_log_level`."
   ]
  },
  {
   "cell_type": "markdown",
   "id": "d58f2d9c",
   "metadata": {},
   "source": [
    "<div class=\"alert alert-info\">\n",
    "\n",
    "Note\n",
    "\n",
    "Both <strong>log_level</strong> & <strong>specific</strong> are optional arguments for the <strong>run_tardis()</strong> function, however, if <strong>specific</strong> argument is used then, <strong>log_level</strong> must be set to a particular level.\n",
    "</div>"
   ]
  },
  {
   "cell_type": "markdown",
   "id": "1176f370",
   "metadata": {},
   "source": [
    "### The `log_level` Argument"
   ]
  },
  {
   "cell_type": "markdown",
   "id": "c3547b04",
   "metadata": {},
   "source": [
    "The `log_level` argument can be passed in `run_tardis()` to set the logging level for the simulation. The input for this argument **must be** one of the following: **Notset, Debug, Info, Warning, Error** or **Critical**."
   ]
  },
  {
   "cell_type": "code",
   "execution_count": 4,
   "id": "dc2dcd71",
   "metadata": {
    "execution": {
     "iopub.execute_input": "2024-11-18T15:11:11.125287Z",
     "iopub.status.busy": "2024-11-18T15:11:11.124883Z",
     "iopub.status.idle": "2024-11-18T15:11:12.521182Z",
     "shell.execute_reply": "2024-11-18T15:11:12.520551Z"
    },
    "scrolled": false
   },
   "outputs": [
    {
     "name": "stdout",
     "output_type": "stream",
     "text": [
      "log_level is defined both in Functional Argument & YAML Configuration {debug section}\n",
      "log_level = INFO will be used for Log Level Determination\n",
      "\n",
      "[\u001b[1mtardis.io.model.parse_atom_data\u001b[0m][\u001b[1;37mINFO\u001b[0m   ]  \n",
      "\t\n",
      "\tReading Atomic Data from kurucz_cd23_chianti_H_He.h5 (\u001b[1mparse_atom_data.py\u001b[0m:40)\n"
     ]
    },
    {
     "name": "stdout",
     "output_type": "stream",
     "text": [
      "[\u001b[1mtardis.io.atom_data.util\u001b[0m][\u001b[1;37mINFO\u001b[0m   ]  \n",
      "\t\n",
      "\tAtom Data kurucz_cd23_chianti_H_He.h5 not found in local path.\n",
      "\tExists in TARDIS Data repo /home/runner/Downloads/tardis-data/kurucz_cd23_chianti_H_He.h5 (\u001b[1mutil.py\u001b[0m:34)\n"
     ]
    },
    {
     "name": "stdout",
     "output_type": "stream",
     "text": [
      "[\u001b[1mtardis.io.atom_data.base\u001b[0m][\u001b[1;37mINFO\u001b[0m   ]  \n",
      "\tReading Atom Data with: UUID = 6f7b09e887a311e7a06b246e96350010 MD5  = 864f1753714343c41f99cb065710cace  (\u001b[1mbase.py\u001b[0m:262)\n"
     ]
    },
    {
     "name": "stdout",
     "output_type": "stream",
     "text": [
      "[\u001b[1mtardis.io.atom_data.base\u001b[0m][\u001b[1;37mINFO\u001b[0m   ]  \n",
      "\tNon provided Atomic Data: synpp_refs, photoionization_data, yg_data, two_photon_data, linelist_atoms, linelist_molecules (\u001b[1mbase.py\u001b[0m:266)\n"
     ]
    },
    {
     "name": "stdout",
     "output_type": "stream",
     "text": [
      "[\u001b[1mtardis.io.model.parse_density_configuration\u001b[0m][\u001b[1;33mWARNING\u001b[0m]  \n",
      "\tNumber of density points larger than number of shells. Assuming inner point irrelevant (\u001b[1mparse_density_configuration.py\u001b[0m:114)\n"
     ]
    },
    {
     "name": "stdout",
     "output_type": "stream",
     "text": [
      "[\u001b[1mtardis.model.matter.decay\u001b[0m][\u001b[1;37mINFO\u001b[0m   ]  \n",
      "\tDecaying abundances for 1123200.0 seconds (\u001b[1mdecay.py\u001b[0m:101)\n"
     ]
    },
    {
     "name": "stdout",
     "output_type": "stream",
     "text": [
      "[\u001b[1mtardis.simulation.base\u001b[0m][\u001b[1;37mINFO\u001b[0m   ]  \n",
      "\t\n",
      "\tStarting iteration 1 of 5 (\u001b[1mbase.py\u001b[0m:448)\n"
     ]
    },
    {
     "data": {
      "application/vnd.jupyter.widget-view+json": {
       "model_id": "8c4506f519f14b7597a8eb372cc8c093",
       "version_major": 2,
       "version_minor": 0
      },
      "text/plain": [
       "TqdmHBox(children=(HTML(value='Iterations:', layout=Layout(width='6%')), FloatProgress(value=0.0, layout=Layou…"
      ]
     },
     "metadata": {},
     "output_type": "display_data"
    },
    {
     "data": {
      "application/vnd.jupyter.widget-view+json": {
       "model_id": "b496a39f9c594899b02b6b033f5cc45b",
       "version_major": 2,
       "version_minor": 0
      },
      "text/plain": [
       "TqdmHBox(children=(HTML(value='Packets:\\u2007\\u2007\\u2007', layout=Layout(width='6%')), FloatProgress(value=0.…"
      ]
     },
     "metadata": {},
     "output_type": "display_data"
    },
    {
     "name": "stdout",
     "output_type": "stream",
     "text": [
      "[\u001b[1mtardis.simulation.base\u001b[0m][\u001b[1;37mINFO\u001b[0m   ]  \n",
      "\t\n",
      "\tLuminosity emitted   = 7.947e+42 erg / s\n",
      "\tLuminosity absorbed  = 2.654e+42 erg / s\n",
      "\tLuminosity requested = 1.059e+43 erg / s\n",
      " (\u001b[1mbase.py\u001b[0m:661)\n"
     ]
    },
    {
     "name": "stdout",
     "output_type": "stream",
     "text": [
      "[\u001b[1mtardis.simulation.base\u001b[0m][\u001b[1;37mINFO\u001b[0m   ]  \n",
      "\t\n",
      "\tPlasma stratification: (\u001b[1mbase.py\u001b[0m:629)\n"
     ]
    },
    {
     "data": {
      "text/html": [
       "<style type=\"text/css\">\n",
       "</style>\n",
       "<table id=\"T_f6350\">\n",
       "  <thead>\n",
       "    <tr>\n",
       "      <th class=\"index_name level0\" >Shell No.</th>\n",
       "      <th id=\"T_f6350_level0_col0\" class=\"col_heading level0 col0\" >t_rad</th>\n",
       "      <th id=\"T_f6350_level0_col1\" class=\"col_heading level0 col1\" >next_t_rad</th>\n",
       "      <th id=\"T_f6350_level0_col2\" class=\"col_heading level0 col2\" >w</th>\n",
       "      <th id=\"T_f6350_level0_col3\" class=\"col_heading level0 col3\" >next_w</th>\n",
       "    </tr>\n",
       "  </thead>\n",
       "  <tbody>\n",
       "    <tr>\n",
       "      <th id=\"T_f6350_level0_row0\" class=\"row_heading level0 row0\" >0</th>\n",
       "      <td id=\"T_f6350_row0_col0\" class=\"data row0 col0\" >9.93e+03 K</td>\n",
       "      <td id=\"T_f6350_row0_col1\" class=\"data row0 col1\" >1.03e+04 K</td>\n",
       "      <td id=\"T_f6350_row0_col2\" class=\"data row0 col2\" >0.4</td>\n",
       "      <td id=\"T_f6350_row0_col3\" class=\"data row0 col3\" >0.481</td>\n",
       "    </tr>\n",
       "    <tr>\n",
       "      <th id=\"T_f6350_level0_row1\" class=\"row_heading level0 row1\" >5</th>\n",
       "      <td id=\"T_f6350_row1_col0\" class=\"data row1 col0\" >9.85e+03 K</td>\n",
       "      <td id=\"T_f6350_row1_col1\" class=\"data row1 col1\" >1.03e+04 K</td>\n",
       "      <td id=\"T_f6350_row1_col2\" class=\"data row1 col2\" >0.211</td>\n",
       "      <td id=\"T_f6350_row1_col3\" class=\"data row1 col3\" >0.193</td>\n",
       "    </tr>\n",
       "    <tr>\n",
       "      <th id=\"T_f6350_level0_row2\" class=\"row_heading level0 row2\" >10</th>\n",
       "      <td id=\"T_f6350_row2_col0\" class=\"data row2 col0\" >9.78e+03 K</td>\n",
       "      <td id=\"T_f6350_row2_col1\" class=\"data row2 col1\" >1.02e+04 K</td>\n",
       "      <td id=\"T_f6350_row2_col2\" class=\"data row2 col2\" >0.143</td>\n",
       "      <td id=\"T_f6350_row2_col3\" class=\"data row2 col3\" >0.112</td>\n",
       "    </tr>\n",
       "    <tr>\n",
       "      <th id=\"T_f6350_level0_row3\" class=\"row_heading level0 row3\" >15</th>\n",
       "      <td id=\"T_f6350_row3_col0\" class=\"data row3 col0\" >9.71e+03 K</td>\n",
       "      <td id=\"T_f6350_row3_col1\" class=\"data row3 col1\" >9.98e+03 K</td>\n",
       "      <td id=\"T_f6350_row3_col2\" class=\"data row3 col2\" >0.105</td>\n",
       "      <td id=\"T_f6350_row3_col3\" class=\"data row3 col3\" >0.0826</td>\n",
       "    </tr>\n",
       "  </tbody>\n",
       "</table>\n"
      ],
      "text/plain": [
       "<pandas.io.formats.style.Styler at 0x7fd1911c2420>"
      ]
     },
     "metadata": {},
     "output_type": "display_data"
    },
    {
     "name": "stdout",
     "output_type": "stream",
     "text": [
      "[\u001b[1mtardis.simulation.base\u001b[0m][\u001b[1;37mINFO\u001b[0m   ]  \n",
      "\t\n",
      "\tCurrent t_inner = 9933.952 K\n",
      "\tExpected t_inner for next iteration = 11468.808 K\n",
      " (\u001b[1mbase.py\u001b[0m:656)\n"
     ]
    },
    {
     "name": "stdout",
     "output_type": "stream",
     "text": [
      "[\u001b[1mtardis.simulation.base\u001b[0m][\u001b[1;37mINFO\u001b[0m   ]  \n",
      "\t\n",
      "\tStarting iteration 2 of 5 (\u001b[1mbase.py\u001b[0m:448)\n"
     ]
    },
    {
     "name": "stdout",
     "output_type": "stream",
     "text": [
      "[\u001b[1mtardis.simulation.base\u001b[0m][\u001b[1;37mINFO\u001b[0m   ]  \n",
      "\t\n",
      "\tLuminosity emitted   = 1.413e+43 erg / s\n",
      "\tLuminosity absorbed  = 4.704e+42 erg / s\n",
      "\tLuminosity requested = 1.059e+43 erg / s\n",
      " (\u001b[1mbase.py\u001b[0m:661)\n"
     ]
    },
    {
     "name": "stdout",
     "output_type": "stream",
     "text": [
      "[\u001b[1mtardis.simulation.base\u001b[0m][\u001b[1;37mINFO\u001b[0m   ]  \n",
      "\t\n",
      "\tPlasma stratification: (\u001b[1mbase.py\u001b[0m:629)\n"
     ]
    },
    {
     "data": {
      "text/html": [
       "<style type=\"text/css\">\n",
       "</style>\n",
       "<table id=\"T_68d44\">\n",
       "  <thead>\n",
       "    <tr>\n",
       "      <th class=\"index_name level0\" >Shell No.</th>\n",
       "      <th id=\"T_68d44_level0_col0\" class=\"col_heading level0 col0\" >t_rad</th>\n",
       "      <th id=\"T_68d44_level0_col1\" class=\"col_heading level0 col1\" >next_t_rad</th>\n",
       "      <th id=\"T_68d44_level0_col2\" class=\"col_heading level0 col2\" >w</th>\n",
       "      <th id=\"T_68d44_level0_col3\" class=\"col_heading level0 col3\" >next_w</th>\n",
       "    </tr>\n",
       "  </thead>\n",
       "  <tbody>\n",
       "    <tr>\n",
       "      <th id=\"T_68d44_level0_row0\" class=\"row_heading level0 row0\" >0</th>\n",
       "      <td id=\"T_68d44_row0_col0\" class=\"data row0 col0\" >1.03e+04 K</td>\n",
       "      <td id=\"T_68d44_row0_col1\" class=\"data row0 col1\" >1.15e+04 K</td>\n",
       "      <td id=\"T_68d44_row0_col2\" class=\"data row0 col2\" >0.481</td>\n",
       "      <td id=\"T_68d44_row0_col3\" class=\"data row0 col3\" >0.555</td>\n",
       "    </tr>\n",
       "    <tr>\n",
       "      <th id=\"T_68d44_level0_row1\" class=\"row_heading level0 row1\" >5</th>\n",
       "      <td id=\"T_68d44_row1_col0\" class=\"data row1 col0\" >1.03e+04 K</td>\n",
       "      <td id=\"T_68d44_row1_col1\" class=\"data row1 col1\" >1.17e+04 K</td>\n",
       "      <td id=\"T_68d44_row1_col2\" class=\"data row1 col2\" >0.193</td>\n",
       "      <td id=\"T_68d44_row1_col3\" class=\"data row1 col3\" >0.203</td>\n",
       "    </tr>\n",
       "    <tr>\n",
       "      <th id=\"T_68d44_level0_row2\" class=\"row_heading level0 row2\" >10</th>\n",
       "      <td id=\"T_68d44_row2_col0\" class=\"data row2 col0\" >1.02e+04 K</td>\n",
       "      <td id=\"T_68d44_row2_col1\" class=\"data row2 col1\" >1.13e+04 K</td>\n",
       "      <td id=\"T_68d44_row2_col2\" class=\"data row2 col2\" >0.112</td>\n",
       "      <td id=\"T_68d44_row2_col3\" class=\"data row2 col3\" >0.135</td>\n",
       "    </tr>\n",
       "    <tr>\n",
       "      <th id=\"T_68d44_level0_row3\" class=\"row_heading level0 row3\" >15</th>\n",
       "      <td id=\"T_68d44_row3_col0\" class=\"data row3 col0\" >9.98e+03 K</td>\n",
       "      <td id=\"T_68d44_row3_col1\" class=\"data row3 col1\" >1.1e+04 K</td>\n",
       "      <td id=\"T_68d44_row3_col2\" class=\"data row3 col2\" >0.0826</td>\n",
       "      <td id=\"T_68d44_row3_col3\" class=\"data row3 col3\" >0.0998</td>\n",
       "    </tr>\n",
       "  </tbody>\n",
       "</table>\n"
      ],
      "text/plain": [
       "<pandas.io.formats.style.Styler at 0x7fd1919b8bc0>"
      ]
     },
     "metadata": {},
     "output_type": "display_data"
    },
    {
     "name": "stdout",
     "output_type": "stream",
     "text": [
      "[\u001b[1mtardis.simulation.base\u001b[0m][\u001b[1;37mINFO\u001b[0m   ]  \n",
      "\t\n",
      "\tCurrent t_inner = 11468.808 K\n",
      "\tExpected t_inner for next iteration = 9929.475 K\n",
      " (\u001b[1mbase.py\u001b[0m:656)\n"
     ]
    },
    {
     "name": "stdout",
     "output_type": "stream",
     "text": [
      "[\u001b[1mtardis.simulation.base\u001b[0m][\u001b[1;37mINFO\u001b[0m   ]  \n",
      "\t\n",
      "\tStarting iteration 3 of 5 (\u001b[1mbase.py\u001b[0m:448)\n"
     ]
    },
    {
     "name": "stdout",
     "output_type": "stream",
     "text": [
      "[\u001b[1mtardis.simulation.base\u001b[0m][\u001b[1;37mINFO\u001b[0m   ]  \n",
      "\t\n",
      "\tLuminosity emitted   = 8.259e+42 erg / s\n",
      "\tLuminosity absorbed  = 2.337e+42 erg / s\n",
      "\tLuminosity requested = 1.059e+43 erg / s\n",
      " (\u001b[1mbase.py\u001b[0m:661)\n"
     ]
    },
    {
     "name": "stdout",
     "output_type": "stream",
     "text": [
      "[\u001b[1mtardis.simulation.base\u001b[0m][\u001b[1;37mINFO\u001b[0m   ]  \n",
      "\t\n",
      "\tPlasma stratification: (\u001b[1mbase.py\u001b[0m:629)\n"
     ]
    },
    {
     "data": {
      "text/html": [
       "<style type=\"text/css\">\n",
       "</style>\n",
       "<table id=\"T_9840b\">\n",
       "  <thead>\n",
       "    <tr>\n",
       "      <th class=\"index_name level0\" >Shell No.</th>\n",
       "      <th id=\"T_9840b_level0_col0\" class=\"col_heading level0 col0\" >t_rad</th>\n",
       "      <th id=\"T_9840b_level0_col1\" class=\"col_heading level0 col1\" >next_t_rad</th>\n",
       "      <th id=\"T_9840b_level0_col2\" class=\"col_heading level0 col2\" >w</th>\n",
       "      <th id=\"T_9840b_level0_col3\" class=\"col_heading level0 col3\" >next_w</th>\n",
       "    </tr>\n",
       "  </thead>\n",
       "  <tbody>\n",
       "    <tr>\n",
       "      <th id=\"T_9840b_level0_row0\" class=\"row_heading level0 row0\" >0</th>\n",
       "      <td id=\"T_9840b_row0_col0\" class=\"data row0 col0\" >1.15e+04 K</td>\n",
       "      <td id=\"T_9840b_row0_col1\" class=\"data row0 col1\" >1.03e+04 K</td>\n",
       "      <td id=\"T_9840b_row0_col2\" class=\"data row0 col2\" >0.555</td>\n",
       "      <td id=\"T_9840b_row0_col3\" class=\"data row0 col3\" >0.468</td>\n",
       "    </tr>\n",
       "    <tr>\n",
       "      <th id=\"T_9840b_level0_row1\" class=\"row_heading level0 row1\" >5</th>\n",
       "      <td id=\"T_9840b_row1_col0\" class=\"data row1 col0\" >1.17e+04 K</td>\n",
       "      <td id=\"T_9840b_row1_col1\" class=\"data row1 col1\" >1.05e+04 K</td>\n",
       "      <td id=\"T_9840b_row1_col2\" class=\"data row1 col2\" >0.203</td>\n",
       "      <td id=\"T_9840b_row1_col3\" class=\"data row1 col3\" >0.181</td>\n",
       "    </tr>\n",
       "    <tr>\n",
       "      <th id=\"T_9840b_level0_row2\" class=\"row_heading level0 row2\" >10</th>\n",
       "      <td id=\"T_9840b_row2_col0\" class=\"data row2 col0\" >1.13e+04 K</td>\n",
       "      <td id=\"T_9840b_row2_col1\" class=\"data row2 col1\" >1.05e+04 K</td>\n",
       "      <td id=\"T_9840b_row2_col2\" class=\"data row2 col2\" >0.135</td>\n",
       "      <td id=\"T_9840b_row2_col3\" class=\"data row2 col3\" >0.108</td>\n",
       "    </tr>\n",
       "    <tr>\n",
       "      <th id=\"T_9840b_level0_row3\" class=\"row_heading level0 row3\" >15</th>\n",
       "      <td id=\"T_9840b_row3_col0\" class=\"data row3 col0\" >1.1e+04 K</td>\n",
       "      <td id=\"T_9840b_row3_col1\" class=\"data row3 col1\" >1.03e+04 K</td>\n",
       "      <td id=\"T_9840b_row3_col2\" class=\"data row3 col2\" >0.0998</td>\n",
       "      <td id=\"T_9840b_row3_col3\" class=\"data row3 col3\" >0.0779</td>\n",
       "    </tr>\n",
       "  </tbody>\n",
       "</table>\n"
      ],
      "text/plain": [
       "<pandas.io.formats.style.Styler at 0x7fd195e092b0>"
      ]
     },
     "metadata": {},
     "output_type": "display_data"
    },
    {
     "name": "stdout",
     "output_type": "stream",
     "text": [
      "[\u001b[1mtardis.simulation.base\u001b[0m][\u001b[1;37mINFO\u001b[0m   ]  \n",
      "\t\n",
      "\tCurrent t_inner = 9929.475 K\n",
      "\tExpected t_inner for next iteration = 11245.497 K\n",
      " (\u001b[1mbase.py\u001b[0m:656)\n"
     ]
    },
    {
     "name": "stdout",
     "output_type": "stream",
     "text": [
      "[\u001b[1mtardis.simulation.base\u001b[0m][\u001b[1;37mINFO\u001b[0m   ]  \n",
      "\t\n",
      "\tStarting iteration 4 of 5 (\u001b[1mbase.py\u001b[0m:448)\n"
     ]
    },
    {
     "name": "stdout",
     "output_type": "stream",
     "text": [
      "[\u001b[1mtardis.simulation.base\u001b[0m][\u001b[1;37mINFO\u001b[0m   ]  \n",
      "\t\n",
      "\tLuminosity emitted   = 1.299e+43 erg / s\n",
      "\tLuminosity absorbed  = 4.407e+42 erg / s\n",
      "\tLuminosity requested = 1.059e+43 erg / s\n",
      " (\u001b[1mbase.py\u001b[0m:661)\n"
     ]
    },
    {
     "name": "stdout",
     "output_type": "stream",
     "text": [
      "[\u001b[1mtardis.simulation.base\u001b[0m][\u001b[1;37mINFO\u001b[0m   ]  \n",
      "\t\n",
      "\tPlasma stratification: (\u001b[1mbase.py\u001b[0m:629)\n"
     ]
    },
    {
     "data": {
      "text/html": [
       "<style type=\"text/css\">\n",
       "</style>\n",
       "<table id=\"T_30c22\">\n",
       "  <thead>\n",
       "    <tr>\n",
       "      <th class=\"index_name level0\" >Shell No.</th>\n",
       "      <th id=\"T_30c22_level0_col0\" class=\"col_heading level0 col0\" >t_rad</th>\n",
       "      <th id=\"T_30c22_level0_col1\" class=\"col_heading level0 col1\" >next_t_rad</th>\n",
       "      <th id=\"T_30c22_level0_col2\" class=\"col_heading level0 col2\" >w</th>\n",
       "      <th id=\"T_30c22_level0_col3\" class=\"col_heading level0 col3\" >next_w</th>\n",
       "    </tr>\n",
       "  </thead>\n",
       "  <tbody>\n",
       "    <tr>\n",
       "      <th id=\"T_30c22_level0_row0\" class=\"row_heading level0 row0\" >0</th>\n",
       "      <td id=\"T_30c22_row0_col0\" class=\"data row0 col0\" >1.03e+04 K</td>\n",
       "      <td id=\"T_30c22_row0_col1\" class=\"data row0 col1\" >1.14e+04 K</td>\n",
       "      <td id=\"T_30c22_row0_col2\" class=\"data row0 col2\" >0.468</td>\n",
       "      <td id=\"T_30c22_row0_col3\" class=\"data row0 col3\" >0.527</td>\n",
       "    </tr>\n",
       "    <tr>\n",
       "      <th id=\"T_30c22_level0_row1\" class=\"row_heading level0 row1\" >5</th>\n",
       "      <td id=\"T_30c22_row1_col0\" class=\"data row1 col0\" >1.05e+04 K</td>\n",
       "      <td id=\"T_30c22_row1_col1\" class=\"data row1 col1\" >1.13e+04 K</td>\n",
       "      <td id=\"T_30c22_row1_col2\" class=\"data row1 col2\" >0.181</td>\n",
       "      <td id=\"T_30c22_row1_col3\" class=\"data row1 col3\" >0.225</td>\n",
       "    </tr>\n",
       "    <tr>\n",
       "      <th id=\"T_30c22_level0_row2\" class=\"row_heading level0 row2\" >10</th>\n",
       "      <td id=\"T_30c22_row2_col0\" class=\"data row2 col0\" >1.05e+04 K</td>\n",
       "      <td id=\"T_30c22_row2_col1\" class=\"data row2 col1\" >1.12e+04 K</td>\n",
       "      <td id=\"T_30c22_row2_col2\" class=\"data row2 col2\" >0.108</td>\n",
       "      <td id=\"T_30c22_row2_col3\" class=\"data row2 col3\" >0.126</td>\n",
       "    </tr>\n",
       "    <tr>\n",
       "      <th id=\"T_30c22_level0_row3\" class=\"row_heading level0 row3\" >15</th>\n",
       "      <td id=\"T_30c22_row3_col0\" class=\"data row3 col0\" >1.03e+04 K</td>\n",
       "      <td id=\"T_30c22_row3_col1\" class=\"data row3 col1\" >1.1e+04 K</td>\n",
       "      <td id=\"T_30c22_row3_col2\" class=\"data row3 col2\" >0.0779</td>\n",
       "      <td id=\"T_30c22_row3_col3\" class=\"data row3 col3\" >0.0926</td>\n",
       "    </tr>\n",
       "  </tbody>\n",
       "</table>\n"
      ],
      "text/plain": [
       "<pandas.io.formats.style.Styler at 0x7fd1919b8380>"
      ]
     },
     "metadata": {},
     "output_type": "display_data"
    },
    {
     "name": "stdout",
     "output_type": "stream",
     "text": [
      "[\u001b[1mtardis.simulation.base\u001b[0m][\u001b[1;37mINFO\u001b[0m   ]  \n",
      "\t\n",
      "\tCurrent t_inner = 11245.497 K\n",
      "\tExpected t_inner for next iteration = 10153.431 K\n",
      " (\u001b[1mbase.py\u001b[0m:656)\n"
     ]
    },
    {
     "name": "stdout",
     "output_type": "stream",
     "text": [
      "[\u001b[1mtardis.simulation.base\u001b[0m][\u001b[1;37mINFO\u001b[0m   ]  \n",
      "\t\n",
      "\tSimulation finished in 4 iterations \n",
      "\tSimulation took 0.48 s\n",
      " (\u001b[1mbase.py\u001b[0m:546)\n"
     ]
    },
    {
     "name": "stdout",
     "output_type": "stream",
     "text": [
      "[\u001b[1mtardis.simulation.base\u001b[0m][\u001b[1;37mINFO\u001b[0m   ]  \n",
      "\t\n",
      "\tStarting iteration 5 of 5 (\u001b[1mbase.py\u001b[0m:448)\n"
     ]
    },
    {
     "name": "stdout",
     "output_type": "stream",
     "text": [
      "[\u001b[1mtardis.simulation.base\u001b[0m][\u001b[1;37mINFO\u001b[0m   ]  \n",
      "\t\n",
      "\tLuminosity emitted   = 8.742e+42 erg / s\n",
      "\tLuminosity absorbed  = 2.834e+42 erg / s\n",
      "\tLuminosity requested = 1.059e+43 erg / s\n",
      " (\u001b[1mbase.py\u001b[0m:661)\n"
     ]
    }
   ],
   "source": [
    "sim = run_tardis(\"tardis_config_logger.yml\", log_level=\"Info\", show_cplots=False)"
   ]
  },
  {
   "cell_type": "markdown",
   "id": "52e778bc",
   "metadata": {},
   "source": [
    "By setting up the `log_level` parameter to **\"Info\"** in the above example, we can check that the logs are at the **\"Info\"** or higher logging level. "
   ]
  },
  {
   "cell_type": "markdown",
   "id": "25277fe8",
   "metadata": {},
   "source": [
    "### The `specific` Argument"
   ]
  },
  {
   "cell_type": "markdown",
   "id": "56a5ef36",
   "metadata": {},
   "source": [
    "The `specific_log_level` argument tells the logger to capture log messages set by the `log_level` parameter. It can only take *Boolean* values for input, which are `True` or `False`. Take for example the following:"
   ]
  },
  {
   "cell_type": "code",
   "execution_count": 5,
   "id": "a0df43d1",
   "metadata": {
    "execution": {
     "iopub.execute_input": "2024-11-18T15:11:12.523614Z",
     "iopub.status.busy": "2024-11-18T15:11:12.523281Z",
     "iopub.status.idle": "2024-11-18T15:11:13.865203Z",
     "shell.execute_reply": "2024-11-18T15:11:13.864647Z"
    },
    "scrolled": false
   },
   "outputs": [
    {
     "name": "stdout",
     "output_type": "stream",
     "text": [
      "log_level is defined both in Functional Argument & YAML Configuration {debug section}\n",
      "log_level = DEBUG will be used for Log Level Determination\n",
      "\n",
      "[\u001b[1mtardis.io.atom_data.base\u001b[0m][\u001b[1;34mDEBUG\u001b[0m  ]  Dataframe does not contain synpp_refs column (\u001b[1mbase.py\u001b[0m:198)\n"
     ]
    },
    {
     "name": "stdout",
     "output_type": "stream",
     "text": [
      "[\u001b[1mtardis.io.atom_data.base\u001b[0m][\u001b[1;34mDEBUG\u001b[0m  ]  Dataframe does not contain photoionization_data column (\u001b[1mbase.py\u001b[0m:198)\n"
     ]
    },
    {
     "name": "stdout",
     "output_type": "stream",
     "text": [
      "[\u001b[1mtardis.io.atom_data.base\u001b[0m][\u001b[1;34mDEBUG\u001b[0m  ]  Dataframe does not contain yg_data column (\u001b[1mbase.py\u001b[0m:198)\n"
     ]
    },
    {
     "name": "stdout",
     "output_type": "stream",
     "text": [
      "[\u001b[1mtardis.io.atom_data.base\u001b[0m][\u001b[1;34mDEBUG\u001b[0m  ]  Dataframe does not contain two_photon_data column (\u001b[1mbase.py\u001b[0m:198)\n"
     ]
    },
    {
     "name": "stdout",
     "output_type": "stream",
     "text": [
      "[\u001b[1mtardis.io.atom_data.base\u001b[0m][\u001b[1;34mDEBUG\u001b[0m  ]  Dataframe does not contain linelist_atoms column (\u001b[1mbase.py\u001b[0m:198)\n"
     ]
    },
    {
     "name": "stdout",
     "output_type": "stream",
     "text": [
      "[\u001b[1mtardis.io.atom_data.base\u001b[0m][\u001b[1;34mDEBUG\u001b[0m  ]  Dataframe does not contain linelist_molecules column (\u001b[1mbase.py\u001b[0m:198)\n"
     ]
    },
    {
     "name": "stdout",
     "output_type": "stream",
     "text": [
      "[\u001b[1mtardis.plasma.base  \u001b[0m][\u001b[1;34mDEBUG\u001b[0m  ]  Updating modules in the following order:TRadiative->DilutionFactor->SelectedAtoms->BetaRadiation->ElectronTemperature->Levels->Lines->IonizationData->MacroAtomData->GElectron->LevelBoltzmannFactorLTE->LinesLowerLevelIndex->LinesUpperLevelIndex->LevelBoltzmannFactorNoNLTE->PartitionFunction->PhiSahaLTE->IonNumberDensity->LevelNumberDensity->StimulatedEmissionFactor->TauSobolev->BetaSobolev->TransitionProbabilities (\u001b[1mbase.py\u001b[0m:272)\n"
     ]
    },
    {
     "name": "stdout",
     "output_type": "stream",
     "text": [
      "[\u001b[1mtardis.plasma.base  \u001b[0m][\u001b[1;34mDEBUG\u001b[0m  ]  Updating modules in the following order:TRadiative->DilutionFactor->SelectedAtoms->BetaRadiation->ElectronTemperature->Levels->Lines->IonizationData->MacroAtomData->GElectron->LevelBoltzmannFactorLTE->LinesLowerLevelIndex->LinesUpperLevelIndex->LevelBoltzmannFactorNoNLTE->PartitionFunction->PhiSahaLTE->IonNumberDensity->LevelNumberDensity->StimulatedEmissionFactor->TauSobolev->BetaSobolev->TransitionProbabilities (\u001b[1mbase.py\u001b[0m:272)\n"
     ]
    },
    {
     "name": "stdout",
     "output_type": "stream",
     "text": [
      "[\u001b[1mtardis.transport.montecarlo.base\u001b[0m][\u001b[1;34mDEBUG\u001b[0m  ]  Electron scattering switched on (\u001b[1mbase.py\u001b[0m:267)\n"
     ]
    },
    {
     "data": {
      "application/vnd.jupyter.widget-view+json": {
       "model_id": "2b3ca0393099455fa090905f4abd0cd8",
       "version_major": 2,
       "version_minor": 0
      },
      "text/plain": [
       "TqdmHBox(children=(HTML(value='Iterations:', layout=Layout(width='6%')), FloatProgress(value=0.0, layout=Layou…"
      ]
     },
     "metadata": {},
     "output_type": "display_data"
    },
    {
     "data": {
      "application/vnd.jupyter.widget-view+json": {
       "model_id": "51cb313824464f5b98316aaa0eb9491b",
       "version_major": 2,
       "version_minor": 0
      },
      "text/plain": [
       "TqdmHBox(children=(HTML(value='Packets:\\u2007\\u2007\\u2007', layout=Layout(width='6%')), FloatProgress(value=0.…"
      ]
     },
     "metadata": {},
     "output_type": "display_data"
    },
    {
     "name": "stdout",
     "output_type": "stream",
     "text": [
      "[\u001b[1mtardis.plasma.base  \u001b[0m][\u001b[1;34mDEBUG\u001b[0m  ]  Updating modules in the following order:TRadiative->DilutionFactor->BetaRadiation->ElectronTemperature->GElectron->LevelBoltzmannFactorLTE->LevelBoltzmannFactorNoNLTE->PartitionFunction->PhiSahaLTE->IonNumberDensity->LevelNumberDensity->StimulatedEmissionFactor->TauSobolev->BetaSobolev->TransitionProbabilities (\u001b[1mbase.py\u001b[0m:272)\n"
     ]
    },
    {
     "name": "stdout",
     "output_type": "stream",
     "text": [
      "[\u001b[1mtardis.plasma.base  \u001b[0m][\u001b[1;34mDEBUG\u001b[0m  ]  Updating modules in the following order:TRadiative->DilutionFactor->BetaRadiation->ElectronTemperature->GElectron->LevelBoltzmannFactorLTE->LevelBoltzmannFactorNoNLTE->PartitionFunction->PhiSahaLTE->IonNumberDensity->LevelNumberDensity->StimulatedEmissionFactor->TauSobolev->BetaSobolev->TransitionProbabilities (\u001b[1mbase.py\u001b[0m:272)\n"
     ]
    },
    {
     "name": "stdout",
     "output_type": "stream",
     "text": [
      "[\u001b[1mtardis.plasma.base  \u001b[0m][\u001b[1;34mDEBUG\u001b[0m  ]  Updating modules in the following order:TRadiative->DilutionFactor->BetaRadiation->ElectronTemperature->GElectron->LevelBoltzmannFactorLTE->LevelBoltzmannFactorNoNLTE->PartitionFunction->PhiSahaLTE->IonNumberDensity->LevelNumberDensity->StimulatedEmissionFactor->TauSobolev->BetaSobolev->TransitionProbabilities (\u001b[1mbase.py\u001b[0m:272)\n"
     ]
    },
    {
     "name": "stdout",
     "output_type": "stream",
     "text": [
      "[\u001b[1mtardis.plasma.base  \u001b[0m][\u001b[1;34mDEBUG\u001b[0m  ]  Updating modules in the following order:TRadiative->DilutionFactor->BetaRadiation->ElectronTemperature->GElectron->LevelBoltzmannFactorLTE->LevelBoltzmannFactorNoNLTE->PartitionFunction->PhiSahaLTE->IonNumberDensity->LevelNumberDensity->StimulatedEmissionFactor->TauSobolev->BetaSobolev->TransitionProbabilities (\u001b[1mbase.py\u001b[0m:272)\n"
     ]
    }
   ],
   "source": [
    "sim = run_tardis(\"tardis_config_logger.yml\", log_level=\"Debug\", specific_log_level=True, show_cplots=False)"
   ]
  },
  {
   "cell_type": "markdown",
   "id": "5c6ff57c",
   "metadata": {},
   "source": [
    "It can be examined that, when we set `specific_log_level` to `True`, the log messages captured were only at the `DEBUG` log level.<br> This allows for logging only specified logging messages for inspection."
   ]
  },
  {
   "cell_type": "markdown",
   "id": "5083321b",
   "metadata": {},
   "source": [
    "The changes in the captured log messages can be seen when we set `specific_log_level` to `False`."
   ]
  },
  {
   "cell_type": "code",
   "execution_count": 6,
   "id": "566919b3",
   "metadata": {
    "execution": {
     "iopub.execute_input": "2024-11-18T15:11:13.867428Z",
     "iopub.status.busy": "2024-11-18T15:11:13.867237Z",
     "iopub.status.idle": "2024-11-18T15:11:15.219382Z",
     "shell.execute_reply": "2024-11-18T15:11:15.218861Z"
    },
    "scrolled": false
   },
   "outputs": [
    {
     "name": "stdout",
     "output_type": "stream",
     "text": [
      "log_level is defined both in Functional Argument & YAML Configuration {debug section}\n",
      "log_level = DEBUG will be used for Log Level Determination\n",
      "\n",
      "[\u001b[1mtardis.io.model.parse_atom_data\u001b[0m][\u001b[1;37mINFO\u001b[0m   ]  \n",
      "\t\n",
      "\tReading Atomic Data from kurucz_cd23_chianti_H_He.h5 (\u001b[1mparse_atom_data.py\u001b[0m:40)\n"
     ]
    },
    {
     "name": "stdout",
     "output_type": "stream",
     "text": [
      "[\u001b[1mtardis.io.atom_data.util\u001b[0m][\u001b[1;37mINFO\u001b[0m   ]  \n",
      "\t\n",
      "\tAtom Data kurucz_cd23_chianti_H_He.h5 not found in local path.\n",
      "\tExists in TARDIS Data repo /home/runner/Downloads/tardis-data/kurucz_cd23_chianti_H_He.h5 (\u001b[1mutil.py\u001b[0m:34)\n"
     ]
    },
    {
     "name": "stdout",
     "output_type": "stream",
     "text": [
      "[\u001b[1mtardis.io.atom_data.base\u001b[0m][\u001b[1;34mDEBUG\u001b[0m  ]  Dataframe does not contain synpp_refs column (\u001b[1mbase.py\u001b[0m:198)\n"
     ]
    },
    {
     "name": "stdout",
     "output_type": "stream",
     "text": [
      "[\u001b[1mtardis.io.atom_data.base\u001b[0m][\u001b[1;34mDEBUG\u001b[0m  ]  Dataframe does not contain photoionization_data column (\u001b[1mbase.py\u001b[0m:198)\n"
     ]
    },
    {
     "name": "stdout",
     "output_type": "stream",
     "text": [
      "[\u001b[1mtardis.io.atom_data.base\u001b[0m][\u001b[1;34mDEBUG\u001b[0m  ]  Dataframe does not contain yg_data column (\u001b[1mbase.py\u001b[0m:198)\n"
     ]
    },
    {
     "name": "stdout",
     "output_type": "stream",
     "text": [
      "[\u001b[1mtardis.io.atom_data.base\u001b[0m][\u001b[1;34mDEBUG\u001b[0m  ]  Dataframe does not contain two_photon_data column (\u001b[1mbase.py\u001b[0m:198)\n"
     ]
    },
    {
     "name": "stdout",
     "output_type": "stream",
     "text": [
      "[\u001b[1mtardis.io.atom_data.base\u001b[0m][\u001b[1;34mDEBUG\u001b[0m  ]  Dataframe does not contain linelist_atoms column (\u001b[1mbase.py\u001b[0m:198)\n"
     ]
    },
    {
     "name": "stdout",
     "output_type": "stream",
     "text": [
      "[\u001b[1mtardis.io.atom_data.base\u001b[0m][\u001b[1;34mDEBUG\u001b[0m  ]  Dataframe does not contain linelist_molecules column (\u001b[1mbase.py\u001b[0m:198)\n"
     ]
    },
    {
     "name": "stdout",
     "output_type": "stream",
     "text": [
      "[\u001b[1mtardis.io.atom_data.base\u001b[0m][\u001b[1;37mINFO\u001b[0m   ]  \n",
      "\tReading Atom Data with: UUID = 6f7b09e887a311e7a06b246e96350010 MD5  = 864f1753714343c41f99cb065710cace  (\u001b[1mbase.py\u001b[0m:262)\n"
     ]
    },
    {
     "name": "stdout",
     "output_type": "stream",
     "text": [
      "[\u001b[1mtardis.io.atom_data.base\u001b[0m][\u001b[1;37mINFO\u001b[0m   ]  \n",
      "\tNon provided Atomic Data: synpp_refs, photoionization_data, yg_data, two_photon_data, linelist_atoms, linelist_molecules (\u001b[1mbase.py\u001b[0m:266)\n"
     ]
    },
    {
     "name": "stdout",
     "output_type": "stream",
     "text": [
      "[\u001b[1mtardis.io.model.parse_density_configuration\u001b[0m][\u001b[1;33mWARNING\u001b[0m]  \n",
      "\tNumber of density points larger than number of shells. Assuming inner point irrelevant (\u001b[1mparse_density_configuration.py\u001b[0m:114)\n"
     ]
    },
    {
     "name": "stdout",
     "output_type": "stream",
     "text": [
      "[\u001b[1mtardis.model.matter.decay\u001b[0m][\u001b[1;37mINFO\u001b[0m   ]  \n",
      "\tDecaying abundances for 1123200.0 seconds (\u001b[1mdecay.py\u001b[0m:101)\n"
     ]
    },
    {
     "name": "stdout",
     "output_type": "stream",
     "text": [
      "[\u001b[1mtardis.plasma.base  \u001b[0m][\u001b[1;34mDEBUG\u001b[0m  ]  Updating modules in the following order:TRadiative->DilutionFactor->SelectedAtoms->BetaRadiation->ElectronTemperature->Levels->Lines->IonizationData->MacroAtomData->GElectron->LevelBoltzmannFactorLTE->LinesLowerLevelIndex->LinesUpperLevelIndex->LevelBoltzmannFactorNoNLTE->PartitionFunction->PhiSahaLTE->IonNumberDensity->LevelNumberDensity->StimulatedEmissionFactor->TauSobolev->BetaSobolev->TransitionProbabilities (\u001b[1mbase.py\u001b[0m:272)\n"
     ]
    },
    {
     "name": "stdout",
     "output_type": "stream",
     "text": [
      "[\u001b[1mtardis.plasma.base  \u001b[0m][\u001b[1;34mDEBUG\u001b[0m  ]  Updating modules in the following order:TRadiative->DilutionFactor->SelectedAtoms->BetaRadiation->ElectronTemperature->Levels->Lines->IonizationData->MacroAtomData->GElectron->LevelBoltzmannFactorLTE->LinesLowerLevelIndex->LinesUpperLevelIndex->LevelBoltzmannFactorNoNLTE->PartitionFunction->PhiSahaLTE->IonNumberDensity->LevelNumberDensity->StimulatedEmissionFactor->TauSobolev->BetaSobolev->TransitionProbabilities (\u001b[1mbase.py\u001b[0m:272)\n"
     ]
    },
    {
     "name": "stdout",
     "output_type": "stream",
     "text": [
      "[\u001b[1mtardis.transport.montecarlo.base\u001b[0m][\u001b[1;34mDEBUG\u001b[0m  ]  Electron scattering switched on (\u001b[1mbase.py\u001b[0m:267)\n"
     ]
    },
    {
     "name": "stdout",
     "output_type": "stream",
     "text": [
      "[\u001b[1mtardis.simulation.base\u001b[0m][\u001b[1;37mINFO\u001b[0m   ]  \n",
      "\t\n",
      "\tStarting iteration 1 of 5 (\u001b[1mbase.py\u001b[0m:448)\n"
     ]
    },
    {
     "data": {
      "application/vnd.jupyter.widget-view+json": {
       "model_id": "df56829e5d4042a7ac2a1b7314b96b39",
       "version_major": 2,
       "version_minor": 0
      },
      "text/plain": [
       "TqdmHBox(children=(HTML(value='Iterations:', layout=Layout(width='6%')), FloatProgress(value=0.0, layout=Layou…"
      ]
     },
     "metadata": {},
     "output_type": "display_data"
    },
    {
     "data": {
      "application/vnd.jupyter.widget-view+json": {
       "model_id": "097ee32f270c4d9d98d2662b6dcdb3e5",
       "version_major": 2,
       "version_minor": 0
      },
      "text/plain": [
       "TqdmHBox(children=(HTML(value='Packets:\\u2007\\u2007\\u2007', layout=Layout(width='6%')), FloatProgress(value=0.…"
      ]
     },
     "metadata": {},
     "output_type": "display_data"
    },
    {
     "name": "stdout",
     "output_type": "stream",
     "text": [
      "[\u001b[1mtardis.simulation.base\u001b[0m][\u001b[1;37mINFO\u001b[0m   ]  \n",
      "\t\n",
      "\tLuminosity emitted   = 7.947e+42 erg / s\n",
      "\tLuminosity absorbed  = 2.654e+42 erg / s\n",
      "\tLuminosity requested = 1.059e+43 erg / s\n",
      " (\u001b[1mbase.py\u001b[0m:661)\n"
     ]
    },
    {
     "name": "stdout",
     "output_type": "stream",
     "text": [
      "[\u001b[1mtardis.simulation.base\u001b[0m][\u001b[1;37mINFO\u001b[0m   ]  \n",
      "\t\n",
      "\tPlasma stratification: (\u001b[1mbase.py\u001b[0m:629)\n"
     ]
    },
    {
     "data": {
      "text/html": [
       "<style type=\"text/css\">\n",
       "</style>\n",
       "<table id=\"T_3b646\">\n",
       "  <thead>\n",
       "    <tr>\n",
       "      <th class=\"index_name level0\" >Shell No.</th>\n",
       "      <th id=\"T_3b646_level0_col0\" class=\"col_heading level0 col0\" >t_rad</th>\n",
       "      <th id=\"T_3b646_level0_col1\" class=\"col_heading level0 col1\" >next_t_rad</th>\n",
       "      <th id=\"T_3b646_level0_col2\" class=\"col_heading level0 col2\" >w</th>\n",
       "      <th id=\"T_3b646_level0_col3\" class=\"col_heading level0 col3\" >next_w</th>\n",
       "    </tr>\n",
       "  </thead>\n",
       "  <tbody>\n",
       "    <tr>\n",
       "      <th id=\"T_3b646_level0_row0\" class=\"row_heading level0 row0\" >0</th>\n",
       "      <td id=\"T_3b646_row0_col0\" class=\"data row0 col0\" >9.93e+03 K</td>\n",
       "      <td id=\"T_3b646_row0_col1\" class=\"data row0 col1\" >1.03e+04 K</td>\n",
       "      <td id=\"T_3b646_row0_col2\" class=\"data row0 col2\" >0.4</td>\n",
       "      <td id=\"T_3b646_row0_col3\" class=\"data row0 col3\" >0.481</td>\n",
       "    </tr>\n",
       "    <tr>\n",
       "      <th id=\"T_3b646_level0_row1\" class=\"row_heading level0 row1\" >5</th>\n",
       "      <td id=\"T_3b646_row1_col0\" class=\"data row1 col0\" >9.85e+03 K</td>\n",
       "      <td id=\"T_3b646_row1_col1\" class=\"data row1 col1\" >1.03e+04 K</td>\n",
       "      <td id=\"T_3b646_row1_col2\" class=\"data row1 col2\" >0.211</td>\n",
       "      <td id=\"T_3b646_row1_col3\" class=\"data row1 col3\" >0.193</td>\n",
       "    </tr>\n",
       "    <tr>\n",
       "      <th id=\"T_3b646_level0_row2\" class=\"row_heading level0 row2\" >10</th>\n",
       "      <td id=\"T_3b646_row2_col0\" class=\"data row2 col0\" >9.78e+03 K</td>\n",
       "      <td id=\"T_3b646_row2_col1\" class=\"data row2 col1\" >1.02e+04 K</td>\n",
       "      <td id=\"T_3b646_row2_col2\" class=\"data row2 col2\" >0.143</td>\n",
       "      <td id=\"T_3b646_row2_col3\" class=\"data row2 col3\" >0.112</td>\n",
       "    </tr>\n",
       "    <tr>\n",
       "      <th id=\"T_3b646_level0_row3\" class=\"row_heading level0 row3\" >15</th>\n",
       "      <td id=\"T_3b646_row3_col0\" class=\"data row3 col0\" >9.71e+03 K</td>\n",
       "      <td id=\"T_3b646_row3_col1\" class=\"data row3 col1\" >9.98e+03 K</td>\n",
       "      <td id=\"T_3b646_row3_col2\" class=\"data row3 col2\" >0.105</td>\n",
       "      <td id=\"T_3b646_row3_col3\" class=\"data row3 col3\" >0.0826</td>\n",
       "    </tr>\n",
       "  </tbody>\n",
       "</table>\n"
      ],
      "text/plain": [
       "<pandas.io.formats.style.Styler at 0x7fd191bc6c00>"
      ]
     },
     "metadata": {},
     "output_type": "display_data"
    },
    {
     "name": "stdout",
     "output_type": "stream",
     "text": [
      "[\u001b[1mtardis.simulation.base\u001b[0m][\u001b[1;37mINFO\u001b[0m   ]  \n",
      "\t\n",
      "\tCurrent t_inner = 9933.952 K\n",
      "\tExpected t_inner for next iteration = 11468.808 K\n",
      " (\u001b[1mbase.py\u001b[0m:656)\n"
     ]
    },
    {
     "name": "stdout",
     "output_type": "stream",
     "text": [
      "[\u001b[1mtardis.plasma.base  \u001b[0m][\u001b[1;34mDEBUG\u001b[0m  ]  Updating modules in the following order:TRadiative->DilutionFactor->BetaRadiation->ElectronTemperature->GElectron->LevelBoltzmannFactorLTE->LevelBoltzmannFactorNoNLTE->PartitionFunction->PhiSahaLTE->IonNumberDensity->LevelNumberDensity->StimulatedEmissionFactor->TauSobolev->BetaSobolev->TransitionProbabilities (\u001b[1mbase.py\u001b[0m:272)\n"
     ]
    },
    {
     "name": "stdout",
     "output_type": "stream",
     "text": [
      "[\u001b[1mtardis.simulation.base\u001b[0m][\u001b[1;37mINFO\u001b[0m   ]  \n",
      "\t\n",
      "\tStarting iteration 2 of 5 (\u001b[1mbase.py\u001b[0m:448)\n"
     ]
    },
    {
     "name": "stdout",
     "output_type": "stream",
     "text": [
      "[\u001b[1mtardis.simulation.base\u001b[0m][\u001b[1;37mINFO\u001b[0m   ]  \n",
      "\t\n",
      "\tLuminosity emitted   = 1.413e+43 erg / s\n",
      "\tLuminosity absorbed  = 4.704e+42 erg / s\n",
      "\tLuminosity requested = 1.059e+43 erg / s\n",
      " (\u001b[1mbase.py\u001b[0m:661)\n"
     ]
    },
    {
     "name": "stdout",
     "output_type": "stream",
     "text": [
      "[\u001b[1mtardis.simulation.base\u001b[0m][\u001b[1;37mINFO\u001b[0m   ]  \n",
      "\t\n",
      "\tPlasma stratification: (\u001b[1mbase.py\u001b[0m:629)\n"
     ]
    },
    {
     "data": {
      "text/html": [
       "<style type=\"text/css\">\n",
       "</style>\n",
       "<table id=\"T_3bc4b\">\n",
       "  <thead>\n",
       "    <tr>\n",
       "      <th class=\"index_name level0\" >Shell No.</th>\n",
       "      <th id=\"T_3bc4b_level0_col0\" class=\"col_heading level0 col0\" >t_rad</th>\n",
       "      <th id=\"T_3bc4b_level0_col1\" class=\"col_heading level0 col1\" >next_t_rad</th>\n",
       "      <th id=\"T_3bc4b_level0_col2\" class=\"col_heading level0 col2\" >w</th>\n",
       "      <th id=\"T_3bc4b_level0_col3\" class=\"col_heading level0 col3\" >next_w</th>\n",
       "    </tr>\n",
       "  </thead>\n",
       "  <tbody>\n",
       "    <tr>\n",
       "      <th id=\"T_3bc4b_level0_row0\" class=\"row_heading level0 row0\" >0</th>\n",
       "      <td id=\"T_3bc4b_row0_col0\" class=\"data row0 col0\" >1.03e+04 K</td>\n",
       "      <td id=\"T_3bc4b_row0_col1\" class=\"data row0 col1\" >1.15e+04 K</td>\n",
       "      <td id=\"T_3bc4b_row0_col2\" class=\"data row0 col2\" >0.481</td>\n",
       "      <td id=\"T_3bc4b_row0_col3\" class=\"data row0 col3\" >0.555</td>\n",
       "    </tr>\n",
       "    <tr>\n",
       "      <th id=\"T_3bc4b_level0_row1\" class=\"row_heading level0 row1\" >5</th>\n",
       "      <td id=\"T_3bc4b_row1_col0\" class=\"data row1 col0\" >1.03e+04 K</td>\n",
       "      <td id=\"T_3bc4b_row1_col1\" class=\"data row1 col1\" >1.17e+04 K</td>\n",
       "      <td id=\"T_3bc4b_row1_col2\" class=\"data row1 col2\" >0.193</td>\n",
       "      <td id=\"T_3bc4b_row1_col3\" class=\"data row1 col3\" >0.203</td>\n",
       "    </tr>\n",
       "    <tr>\n",
       "      <th id=\"T_3bc4b_level0_row2\" class=\"row_heading level0 row2\" >10</th>\n",
       "      <td id=\"T_3bc4b_row2_col0\" class=\"data row2 col0\" >1.02e+04 K</td>\n",
       "      <td id=\"T_3bc4b_row2_col1\" class=\"data row2 col1\" >1.13e+04 K</td>\n",
       "      <td id=\"T_3bc4b_row2_col2\" class=\"data row2 col2\" >0.112</td>\n",
       "      <td id=\"T_3bc4b_row2_col3\" class=\"data row2 col3\" >0.135</td>\n",
       "    </tr>\n",
       "    <tr>\n",
       "      <th id=\"T_3bc4b_level0_row3\" class=\"row_heading level0 row3\" >15</th>\n",
       "      <td id=\"T_3bc4b_row3_col0\" class=\"data row3 col0\" >9.98e+03 K</td>\n",
       "      <td id=\"T_3bc4b_row3_col1\" class=\"data row3 col1\" >1.1e+04 K</td>\n",
       "      <td id=\"T_3bc4b_row3_col2\" class=\"data row3 col2\" >0.0826</td>\n",
       "      <td id=\"T_3bc4b_row3_col3\" class=\"data row3 col3\" >0.0998</td>\n",
       "    </tr>\n",
       "  </tbody>\n",
       "</table>\n"
      ],
      "text/plain": [
       "<pandas.io.formats.style.Styler at 0x7fd1919bb740>"
      ]
     },
     "metadata": {},
     "output_type": "display_data"
    },
    {
     "name": "stdout",
     "output_type": "stream",
     "text": [
      "[\u001b[1mtardis.simulation.base\u001b[0m][\u001b[1;37mINFO\u001b[0m   ]  \n",
      "\t\n",
      "\tCurrent t_inner = 11468.808 K\n",
      "\tExpected t_inner for next iteration = 9929.475 K\n",
      " (\u001b[1mbase.py\u001b[0m:656)\n"
     ]
    },
    {
     "name": "stdout",
     "output_type": "stream",
     "text": [
      "[\u001b[1mtardis.plasma.base  \u001b[0m][\u001b[1;34mDEBUG\u001b[0m  ]  Updating modules in the following order:TRadiative->DilutionFactor->BetaRadiation->ElectronTemperature->GElectron->LevelBoltzmannFactorLTE->LevelBoltzmannFactorNoNLTE->PartitionFunction->PhiSahaLTE->IonNumberDensity->LevelNumberDensity->StimulatedEmissionFactor->TauSobolev->BetaSobolev->TransitionProbabilities (\u001b[1mbase.py\u001b[0m:272)\n"
     ]
    },
    {
     "name": "stdout",
     "output_type": "stream",
     "text": [
      "[\u001b[1mtardis.simulation.base\u001b[0m][\u001b[1;37mINFO\u001b[0m   ]  \n",
      "\t\n",
      "\tStarting iteration 3 of 5 (\u001b[1mbase.py\u001b[0m:448)\n"
     ]
    },
    {
     "name": "stdout",
     "output_type": "stream",
     "text": [
      "[\u001b[1mtardis.simulation.base\u001b[0m][\u001b[1;37mINFO\u001b[0m   ]  \n",
      "\t\n",
      "\tLuminosity emitted   = 8.259e+42 erg / s\n",
      "\tLuminosity absorbed  = 2.337e+42 erg / s\n",
      "\tLuminosity requested = 1.059e+43 erg / s\n",
      " (\u001b[1mbase.py\u001b[0m:661)\n"
     ]
    },
    {
     "name": "stdout",
     "output_type": "stream",
     "text": [
      "[\u001b[1mtardis.simulation.base\u001b[0m][\u001b[1;37mINFO\u001b[0m   ]  \n",
      "\t\n",
      "\tPlasma stratification: (\u001b[1mbase.py\u001b[0m:629)\n"
     ]
    },
    {
     "data": {
      "text/html": [
       "<style type=\"text/css\">\n",
       "</style>\n",
       "<table id=\"T_00b6b\">\n",
       "  <thead>\n",
       "    <tr>\n",
       "      <th class=\"index_name level0\" >Shell No.</th>\n",
       "      <th id=\"T_00b6b_level0_col0\" class=\"col_heading level0 col0\" >t_rad</th>\n",
       "      <th id=\"T_00b6b_level0_col1\" class=\"col_heading level0 col1\" >next_t_rad</th>\n",
       "      <th id=\"T_00b6b_level0_col2\" class=\"col_heading level0 col2\" >w</th>\n",
       "      <th id=\"T_00b6b_level0_col3\" class=\"col_heading level0 col3\" >next_w</th>\n",
       "    </tr>\n",
       "  </thead>\n",
       "  <tbody>\n",
       "    <tr>\n",
       "      <th id=\"T_00b6b_level0_row0\" class=\"row_heading level0 row0\" >0</th>\n",
       "      <td id=\"T_00b6b_row0_col0\" class=\"data row0 col0\" >1.15e+04 K</td>\n",
       "      <td id=\"T_00b6b_row0_col1\" class=\"data row0 col1\" >1.03e+04 K</td>\n",
       "      <td id=\"T_00b6b_row0_col2\" class=\"data row0 col2\" >0.555</td>\n",
       "      <td id=\"T_00b6b_row0_col3\" class=\"data row0 col3\" >0.468</td>\n",
       "    </tr>\n",
       "    <tr>\n",
       "      <th id=\"T_00b6b_level0_row1\" class=\"row_heading level0 row1\" >5</th>\n",
       "      <td id=\"T_00b6b_row1_col0\" class=\"data row1 col0\" >1.17e+04 K</td>\n",
       "      <td id=\"T_00b6b_row1_col1\" class=\"data row1 col1\" >1.05e+04 K</td>\n",
       "      <td id=\"T_00b6b_row1_col2\" class=\"data row1 col2\" >0.203</td>\n",
       "      <td id=\"T_00b6b_row1_col3\" class=\"data row1 col3\" >0.181</td>\n",
       "    </tr>\n",
       "    <tr>\n",
       "      <th id=\"T_00b6b_level0_row2\" class=\"row_heading level0 row2\" >10</th>\n",
       "      <td id=\"T_00b6b_row2_col0\" class=\"data row2 col0\" >1.13e+04 K</td>\n",
       "      <td id=\"T_00b6b_row2_col1\" class=\"data row2 col1\" >1.05e+04 K</td>\n",
       "      <td id=\"T_00b6b_row2_col2\" class=\"data row2 col2\" >0.135</td>\n",
       "      <td id=\"T_00b6b_row2_col3\" class=\"data row2 col3\" >0.108</td>\n",
       "    </tr>\n",
       "    <tr>\n",
       "      <th id=\"T_00b6b_level0_row3\" class=\"row_heading level0 row3\" >15</th>\n",
       "      <td id=\"T_00b6b_row3_col0\" class=\"data row3 col0\" >1.1e+04 K</td>\n",
       "      <td id=\"T_00b6b_row3_col1\" class=\"data row3 col1\" >1.03e+04 K</td>\n",
       "      <td id=\"T_00b6b_row3_col2\" class=\"data row3 col2\" >0.0998</td>\n",
       "      <td id=\"T_00b6b_row3_col3\" class=\"data row3 col3\" >0.0779</td>\n",
       "    </tr>\n",
       "  </tbody>\n",
       "</table>\n"
      ],
      "text/plain": [
       "<pandas.io.formats.style.Styler at 0x7fd178cffec0>"
      ]
     },
     "metadata": {},
     "output_type": "display_data"
    },
    {
     "name": "stdout",
     "output_type": "stream",
     "text": [
      "[\u001b[1mtardis.simulation.base\u001b[0m][\u001b[1;37mINFO\u001b[0m   ]  \n",
      "\t\n",
      "\tCurrent t_inner = 9929.475 K\n",
      "\tExpected t_inner for next iteration = 11245.497 K\n",
      " (\u001b[1mbase.py\u001b[0m:656)\n"
     ]
    },
    {
     "name": "stdout",
     "output_type": "stream",
     "text": [
      "[\u001b[1mtardis.plasma.base  \u001b[0m][\u001b[1;34mDEBUG\u001b[0m  ]  Updating modules in the following order:TRadiative->DilutionFactor->BetaRadiation->ElectronTemperature->GElectron->LevelBoltzmannFactorLTE->LevelBoltzmannFactorNoNLTE->PartitionFunction->PhiSahaLTE->IonNumberDensity->LevelNumberDensity->StimulatedEmissionFactor->TauSobolev->BetaSobolev->TransitionProbabilities (\u001b[1mbase.py\u001b[0m:272)\n"
     ]
    },
    {
     "name": "stdout",
     "output_type": "stream",
     "text": [
      "[\u001b[1mtardis.simulation.base\u001b[0m][\u001b[1;37mINFO\u001b[0m   ]  \n",
      "\t\n",
      "\tStarting iteration 4 of 5 (\u001b[1mbase.py\u001b[0m:448)\n"
     ]
    },
    {
     "name": "stdout",
     "output_type": "stream",
     "text": [
      "[\u001b[1mtardis.simulation.base\u001b[0m][\u001b[1;37mINFO\u001b[0m   ]  \n",
      "\t\n",
      "\tLuminosity emitted   = 1.299e+43 erg / s\n",
      "\tLuminosity absorbed  = 4.407e+42 erg / s\n",
      "\tLuminosity requested = 1.059e+43 erg / s\n",
      " (\u001b[1mbase.py\u001b[0m:661)\n"
     ]
    },
    {
     "name": "stdout",
     "output_type": "stream",
     "text": [
      "[\u001b[1mtardis.simulation.base\u001b[0m][\u001b[1;37mINFO\u001b[0m   ]  \n",
      "\t\n",
      "\tPlasma stratification: (\u001b[1mbase.py\u001b[0m:629)\n"
     ]
    },
    {
     "data": {
      "text/html": [
       "<style type=\"text/css\">\n",
       "</style>\n",
       "<table id=\"T_2ac3e\">\n",
       "  <thead>\n",
       "    <tr>\n",
       "      <th class=\"index_name level0\" >Shell No.</th>\n",
       "      <th id=\"T_2ac3e_level0_col0\" class=\"col_heading level0 col0\" >t_rad</th>\n",
       "      <th id=\"T_2ac3e_level0_col1\" class=\"col_heading level0 col1\" >next_t_rad</th>\n",
       "      <th id=\"T_2ac3e_level0_col2\" class=\"col_heading level0 col2\" >w</th>\n",
       "      <th id=\"T_2ac3e_level0_col3\" class=\"col_heading level0 col3\" >next_w</th>\n",
       "    </tr>\n",
       "  </thead>\n",
       "  <tbody>\n",
       "    <tr>\n",
       "      <th id=\"T_2ac3e_level0_row0\" class=\"row_heading level0 row0\" >0</th>\n",
       "      <td id=\"T_2ac3e_row0_col0\" class=\"data row0 col0\" >1.03e+04 K</td>\n",
       "      <td id=\"T_2ac3e_row0_col1\" class=\"data row0 col1\" >1.14e+04 K</td>\n",
       "      <td id=\"T_2ac3e_row0_col2\" class=\"data row0 col2\" >0.468</td>\n",
       "      <td id=\"T_2ac3e_row0_col3\" class=\"data row0 col3\" >0.527</td>\n",
       "    </tr>\n",
       "    <tr>\n",
       "      <th id=\"T_2ac3e_level0_row1\" class=\"row_heading level0 row1\" >5</th>\n",
       "      <td id=\"T_2ac3e_row1_col0\" class=\"data row1 col0\" >1.05e+04 K</td>\n",
       "      <td id=\"T_2ac3e_row1_col1\" class=\"data row1 col1\" >1.13e+04 K</td>\n",
       "      <td id=\"T_2ac3e_row1_col2\" class=\"data row1 col2\" >0.181</td>\n",
       "      <td id=\"T_2ac3e_row1_col3\" class=\"data row1 col3\" >0.225</td>\n",
       "    </tr>\n",
       "    <tr>\n",
       "      <th id=\"T_2ac3e_level0_row2\" class=\"row_heading level0 row2\" >10</th>\n",
       "      <td id=\"T_2ac3e_row2_col0\" class=\"data row2 col0\" >1.05e+04 K</td>\n",
       "      <td id=\"T_2ac3e_row2_col1\" class=\"data row2 col1\" >1.12e+04 K</td>\n",
       "      <td id=\"T_2ac3e_row2_col2\" class=\"data row2 col2\" >0.108</td>\n",
       "      <td id=\"T_2ac3e_row2_col3\" class=\"data row2 col3\" >0.126</td>\n",
       "    </tr>\n",
       "    <tr>\n",
       "      <th id=\"T_2ac3e_level0_row3\" class=\"row_heading level0 row3\" >15</th>\n",
       "      <td id=\"T_2ac3e_row3_col0\" class=\"data row3 col0\" >1.03e+04 K</td>\n",
       "      <td id=\"T_2ac3e_row3_col1\" class=\"data row3 col1\" >1.1e+04 K</td>\n",
       "      <td id=\"T_2ac3e_row3_col2\" class=\"data row3 col2\" >0.0779</td>\n",
       "      <td id=\"T_2ac3e_row3_col3\" class=\"data row3 col3\" >0.0926</td>\n",
       "    </tr>\n",
       "  </tbody>\n",
       "</table>\n"
      ],
      "text/plain": [
       "<pandas.io.formats.style.Styler at 0x7fd178cff080>"
      ]
     },
     "metadata": {},
     "output_type": "display_data"
    },
    {
     "name": "stdout",
     "output_type": "stream",
     "text": [
      "[\u001b[1mtardis.simulation.base\u001b[0m][\u001b[1;37mINFO\u001b[0m   ]  \n",
      "\t\n",
      "\tCurrent t_inner = 11245.497 K\n",
      "\tExpected t_inner for next iteration = 10153.431 K\n",
      " (\u001b[1mbase.py\u001b[0m:656)\n"
     ]
    },
    {
     "name": "stdout",
     "output_type": "stream",
     "text": [
      "[\u001b[1mtardis.plasma.base  \u001b[0m][\u001b[1;34mDEBUG\u001b[0m  ]  Updating modules in the following order:TRadiative->DilutionFactor->BetaRadiation->ElectronTemperature->GElectron->LevelBoltzmannFactorLTE->LevelBoltzmannFactorNoNLTE->PartitionFunction->PhiSahaLTE->IonNumberDensity->LevelNumberDensity->StimulatedEmissionFactor->TauSobolev->BetaSobolev->TransitionProbabilities (\u001b[1mbase.py\u001b[0m:272)\n"
     ]
    },
    {
     "name": "stdout",
     "output_type": "stream",
     "text": [
      "[\u001b[1mtardis.simulation.base\u001b[0m][\u001b[1;37mINFO\u001b[0m   ]  \n",
      "\t\n",
      "\tSimulation finished in 4 iterations \n",
      "\tSimulation took 0.43 s\n",
      " (\u001b[1mbase.py\u001b[0m:546)\n"
     ]
    },
    {
     "name": "stdout",
     "output_type": "stream",
     "text": [
      "[\u001b[1mtardis.simulation.base\u001b[0m][\u001b[1;37mINFO\u001b[0m   ]  \n",
      "\t\n",
      "\tStarting iteration 5 of 5 (\u001b[1mbase.py\u001b[0m:448)\n"
     ]
    },
    {
     "name": "stdout",
     "output_type": "stream",
     "text": [
      "[\u001b[1mtardis.simulation.base\u001b[0m][\u001b[1;37mINFO\u001b[0m   ]  \n",
      "\t\n",
      "\tLuminosity emitted   = 8.742e+42 erg / s\n",
      "\tLuminosity absorbed  = 2.834e+42 erg / s\n",
      "\tLuminosity requested = 1.059e+43 erg / s\n",
      " (\u001b[1mbase.py\u001b[0m:661)\n"
     ]
    }
   ],
   "source": [
    "sim = run_tardis(\"tardis_config_logger.yml\", log_level=\"Debug\", specific_log_level=False, show_cplots=False)"
   ]
  },
  {
   "cell_type": "markdown",
   "id": "42ddc98b",
   "metadata": {},
   "source": [
    "It can be examined in this example that when we kept `specific_log_level` to `False`, the captured log output includes all log messages from `DEBUG` and higher logging levels, which is the default behavior of the logger."
   ]
  },
  {
   "cell_type": "markdown",
   "id": "f9f478f6",
   "metadata": {},
   "source": [
    "## Logging Configuration (YAML Configuration)"
   ]
  },
  {
   "cell_type": "markdown",
   "id": "0d672a8d",
   "metadata": {},
   "source": [
    "The behavior of the logging output for the simulation can be configured via the `tardis_config_logger.yml` *(**YAML** Configuration)* file. For setting up the logger via the YAML file, the configuration file must include a `debug` section. An example configuration for the `debug` section can be seen below:"
   ]
  },
  {
   "cell_type": "markdown",
   "id": "cd8c3eed",
   "metadata": {},
   "source": [
    "```YAML\n",
    "...\n",
    "debug:\n",
    "  log_level: \"Info\"\n",
    "  specific_log_level : False\n",
    "```"
   ]
  },
  {
   "cell_type": "markdown",
   "id": "85ea7ae2",
   "metadata": {},
   "source": [
    "The `debug` schema includes the `log_level` & `specific_log_level` parameters."
   ]
  },
  {
   "cell_type": "markdown",
   "id": "65204c82",
   "metadata": {},
   "source": [
    "<div class=\"alert alert-info\">\n",
    "\n",
    "Note\n",
    "    \n",
    "The <strong>debug</strong> section of the <strong>YAML</strong> config file is <i>optional</i>. The <strong>log_level</strong> and the <strong>specific</strong> arguments are <i>optional</i> as well. If none of the parameters are defined, then the values of these parameter fall back on the <strong>default values</strong>.\n",
    "</div>"
   ]
  },
  {
   "cell_type": "markdown",
   "id": "62750463",
   "metadata": {},
   "source": [
    "Let us load the `tardis_config_logger.yml` configuration to a variable & check out the schema:"
   ]
  },
  {
   "cell_type": "code",
   "execution_count": 7,
   "id": "d9a5e83b",
   "metadata": {
    "execution": {
     "iopub.execute_input": "2024-11-18T15:11:15.221979Z",
     "iopub.status.busy": "2024-11-18T15:11:15.221554Z",
     "iopub.status.idle": "2024-11-18T15:11:15.224607Z",
     "shell.execute_reply": "2024-11-18T15:11:15.224084Z"
    }
   },
   "outputs": [],
   "source": [
    "from tardis.io.configuration.config_reader import Configuration"
   ]
  },
  {
   "cell_type": "code",
   "execution_count": 8,
   "id": "a1fa5e1b",
   "metadata": {
    "execution": {
     "iopub.execute_input": "2024-11-18T15:11:15.226481Z",
     "iopub.status.busy": "2024-11-18T15:11:15.226311Z",
     "iopub.status.idle": "2024-11-18T15:11:15.289270Z",
     "shell.execute_reply": "2024-11-18T15:11:15.288709Z"
    }
   },
   "outputs": [
    {
     "data": {
      "text/plain": [
       "{'specific_log_level': False, 'log_level': 'Critical'}"
      ]
     },
     "execution_count": 8,
     "metadata": {},
     "output_type": "execute_result"
    }
   ],
   "source": [
    "# Loading the Schema \n",
    "config = Configuration.from_yaml(\"tardis_config_logger.yml\")\n",
    "\n",
    "# Checking the Debug Schema via dictionary\n",
    "config[\"debug\"]"
   ]
  },
  {
   "cell_type": "markdown",
   "id": "7f5f2d9f",
   "metadata": {},
   "source": [
    "### The `log_level` Entry"
   ]
  },
  {
   "cell_type": "markdown",
   "id": "1389e902",
   "metadata": {},
   "source": [
    "The `log_level` parameter, in the `debug` section of the config file, is similar in functionality to the `log_level` functional argument that can be passed via the `run_tardis()` function. The value of this parameter **must be** one of the following: **Notset, Debug, Info, Warning, Error** or **Critical**."
   ]
  },
  {
   "cell_type": "markdown",
   "id": "3bdd9972",
   "metadata": {},
   "source": [
    "Let us see an example of the captured simulation logging output, when the `log_level` parameter is set to `\"Info\"` log level in the `tardis_config_logger.yml` config file."
   ]
  },
  {
   "cell_type": "code",
   "execution_count": 9,
   "id": "88223ed0",
   "metadata": {
    "execution": {
     "iopub.execute_input": "2024-11-18T15:11:15.291642Z",
     "iopub.status.busy": "2024-11-18T15:11:15.291206Z",
     "iopub.status.idle": "2024-11-18T15:11:15.294215Z",
     "shell.execute_reply": "2024-11-18T15:11:15.293733Z"
    }
   },
   "outputs": [],
   "source": [
    "config[\"debug\"][\"log_level\"] = \"Info\""
   ]
  },
  {
   "cell_type": "code",
   "execution_count": 10,
   "id": "ad8eac94",
   "metadata": {
    "execution": {
     "iopub.execute_input": "2024-11-18T15:11:15.295995Z",
     "iopub.status.busy": "2024-11-18T15:11:15.295824Z",
     "iopub.status.idle": "2024-11-18T15:11:16.591845Z",
     "shell.execute_reply": "2024-11-18T15:11:16.591317Z"
    },
    "scrolled": false
   },
   "outputs": [
    {
     "name": "stdout",
     "output_type": "stream",
     "text": [
      "[\u001b[1mtardis.io.model.parse_atom_data\u001b[0m][\u001b[1;37mINFO\u001b[0m   ]  \n",
      "\t\n",
      "\tReading Atomic Data from kurucz_cd23_chianti_H_He.h5 (\u001b[1mparse_atom_data.py\u001b[0m:40)\n"
     ]
    },
    {
     "name": "stdout",
     "output_type": "stream",
     "text": [
      "[\u001b[1mtardis.io.atom_data.util\u001b[0m][\u001b[1;37mINFO\u001b[0m   ]  \n",
      "\t\n",
      "\tAtom Data kurucz_cd23_chianti_H_He.h5 not found in local path.\n",
      "\tExists in TARDIS Data repo /home/runner/Downloads/tardis-data/kurucz_cd23_chianti_H_He.h5 (\u001b[1mutil.py\u001b[0m:34)\n"
     ]
    },
    {
     "name": "stdout",
     "output_type": "stream",
     "text": [
      "[\u001b[1mtardis.io.atom_data.base\u001b[0m][\u001b[1;37mINFO\u001b[0m   ]  \n",
      "\tReading Atom Data with: UUID = 6f7b09e887a311e7a06b246e96350010 MD5  = 864f1753714343c41f99cb065710cace  (\u001b[1mbase.py\u001b[0m:262)\n"
     ]
    },
    {
     "name": "stdout",
     "output_type": "stream",
     "text": [
      "[\u001b[1mtardis.io.atom_data.base\u001b[0m][\u001b[1;37mINFO\u001b[0m   ]  \n",
      "\tNon provided Atomic Data: synpp_refs, photoionization_data, yg_data, two_photon_data, linelist_atoms, linelist_molecules (\u001b[1mbase.py\u001b[0m:266)\n"
     ]
    },
    {
     "name": "stdout",
     "output_type": "stream",
     "text": [
      "[\u001b[1mtardis.io.model.parse_density_configuration\u001b[0m][\u001b[1;33mWARNING\u001b[0m]  \n",
      "\tNumber of density points larger than number of shells. Assuming inner point irrelevant (\u001b[1mparse_density_configuration.py\u001b[0m:114)\n"
     ]
    },
    {
     "name": "stdout",
     "output_type": "stream",
     "text": [
      "[\u001b[1mtardis.model.matter.decay\u001b[0m][\u001b[1;37mINFO\u001b[0m   ]  \n",
      "\tDecaying abundances for 1123200.0 seconds (\u001b[1mdecay.py\u001b[0m:101)\n"
     ]
    },
    {
     "name": "stdout",
     "output_type": "stream",
     "text": [
      "[\u001b[1mtardis.simulation.base\u001b[0m][\u001b[1;37mINFO\u001b[0m   ]  \n",
      "\t\n",
      "\tStarting iteration 1 of 5 (\u001b[1mbase.py\u001b[0m:448)\n"
     ]
    },
    {
     "data": {
      "application/vnd.jupyter.widget-view+json": {
       "model_id": "41b0d87250ed4d729e247f1420051a7d",
       "version_major": 2,
       "version_minor": 0
      },
      "text/plain": [
       "TqdmHBox(children=(HTML(value='Iterations:', layout=Layout(width='6%')), FloatProgress(value=0.0, layout=Layou…"
      ]
     },
     "metadata": {},
     "output_type": "display_data"
    },
    {
     "data": {
      "application/vnd.jupyter.widget-view+json": {
       "model_id": "e5a17334a918463da80ff2282247debd",
       "version_major": 2,
       "version_minor": 0
      },
      "text/plain": [
       "TqdmHBox(children=(HTML(value='Packets:\\u2007\\u2007\\u2007', layout=Layout(width='6%')), FloatProgress(value=0.…"
      ]
     },
     "metadata": {},
     "output_type": "display_data"
    },
    {
     "name": "stdout",
     "output_type": "stream",
     "text": [
      "[\u001b[1mtardis.simulation.base\u001b[0m][\u001b[1;37mINFO\u001b[0m   ]  \n",
      "\t\n",
      "\tLuminosity emitted   = 7.947e+42 erg / s\n",
      "\tLuminosity absorbed  = 2.654e+42 erg / s\n",
      "\tLuminosity requested = 1.059e+43 erg / s\n",
      " (\u001b[1mbase.py\u001b[0m:661)\n"
     ]
    },
    {
     "name": "stdout",
     "output_type": "stream",
     "text": [
      "[\u001b[1mtardis.simulation.base\u001b[0m][\u001b[1;37mINFO\u001b[0m   ]  \n",
      "\t\n",
      "\tPlasma stratification: (\u001b[1mbase.py\u001b[0m:629)\n"
     ]
    },
    {
     "data": {
      "text/html": [
       "<style type=\"text/css\">\n",
       "</style>\n",
       "<table id=\"T_f6960\">\n",
       "  <thead>\n",
       "    <tr>\n",
       "      <th class=\"index_name level0\" >Shell No.</th>\n",
       "      <th id=\"T_f6960_level0_col0\" class=\"col_heading level0 col0\" >t_rad</th>\n",
       "      <th id=\"T_f6960_level0_col1\" class=\"col_heading level0 col1\" >next_t_rad</th>\n",
       "      <th id=\"T_f6960_level0_col2\" class=\"col_heading level0 col2\" >w</th>\n",
       "      <th id=\"T_f6960_level0_col3\" class=\"col_heading level0 col3\" >next_w</th>\n",
       "    </tr>\n",
       "  </thead>\n",
       "  <tbody>\n",
       "    <tr>\n",
       "      <th id=\"T_f6960_level0_row0\" class=\"row_heading level0 row0\" >0</th>\n",
       "      <td id=\"T_f6960_row0_col0\" class=\"data row0 col0\" >9.93e+03 K</td>\n",
       "      <td id=\"T_f6960_row0_col1\" class=\"data row0 col1\" >1.03e+04 K</td>\n",
       "      <td id=\"T_f6960_row0_col2\" class=\"data row0 col2\" >0.4</td>\n",
       "      <td id=\"T_f6960_row0_col3\" class=\"data row0 col3\" >0.481</td>\n",
       "    </tr>\n",
       "    <tr>\n",
       "      <th id=\"T_f6960_level0_row1\" class=\"row_heading level0 row1\" >5</th>\n",
       "      <td id=\"T_f6960_row1_col0\" class=\"data row1 col0\" >9.85e+03 K</td>\n",
       "      <td id=\"T_f6960_row1_col1\" class=\"data row1 col1\" >1.03e+04 K</td>\n",
       "      <td id=\"T_f6960_row1_col2\" class=\"data row1 col2\" >0.211</td>\n",
       "      <td id=\"T_f6960_row1_col3\" class=\"data row1 col3\" >0.193</td>\n",
       "    </tr>\n",
       "    <tr>\n",
       "      <th id=\"T_f6960_level0_row2\" class=\"row_heading level0 row2\" >10</th>\n",
       "      <td id=\"T_f6960_row2_col0\" class=\"data row2 col0\" >9.78e+03 K</td>\n",
       "      <td id=\"T_f6960_row2_col1\" class=\"data row2 col1\" >1.02e+04 K</td>\n",
       "      <td id=\"T_f6960_row2_col2\" class=\"data row2 col2\" >0.143</td>\n",
       "      <td id=\"T_f6960_row2_col3\" class=\"data row2 col3\" >0.112</td>\n",
       "    </tr>\n",
       "    <tr>\n",
       "      <th id=\"T_f6960_level0_row3\" class=\"row_heading level0 row3\" >15</th>\n",
       "      <td id=\"T_f6960_row3_col0\" class=\"data row3 col0\" >9.71e+03 K</td>\n",
       "      <td id=\"T_f6960_row3_col1\" class=\"data row3 col1\" >9.98e+03 K</td>\n",
       "      <td id=\"T_f6960_row3_col2\" class=\"data row3 col2\" >0.105</td>\n",
       "      <td id=\"T_f6960_row3_col3\" class=\"data row3 col3\" >0.0826</td>\n",
       "    </tr>\n",
       "  </tbody>\n",
       "</table>\n"
      ],
      "text/plain": [
       "<pandas.io.formats.style.Styler at 0x7fd1a9044650>"
      ]
     },
     "metadata": {},
     "output_type": "display_data"
    },
    {
     "name": "stdout",
     "output_type": "stream",
     "text": [
      "[\u001b[1mtardis.simulation.base\u001b[0m][\u001b[1;37mINFO\u001b[0m   ]  \n",
      "\t\n",
      "\tCurrent t_inner = 9933.952 K\n",
      "\tExpected t_inner for next iteration = 11468.808 K\n",
      " (\u001b[1mbase.py\u001b[0m:656)\n"
     ]
    },
    {
     "name": "stdout",
     "output_type": "stream",
     "text": [
      "[\u001b[1mtardis.simulation.base\u001b[0m][\u001b[1;37mINFO\u001b[0m   ]  \n",
      "\t\n",
      "\tStarting iteration 2 of 5 (\u001b[1mbase.py\u001b[0m:448)\n"
     ]
    },
    {
     "name": "stdout",
     "output_type": "stream",
     "text": [
      "[\u001b[1mtardis.simulation.base\u001b[0m][\u001b[1;37mINFO\u001b[0m   ]  \n",
      "\t\n",
      "\tLuminosity emitted   = 1.413e+43 erg / s\n",
      "\tLuminosity absorbed  = 4.704e+42 erg / s\n",
      "\tLuminosity requested = 1.059e+43 erg / s\n",
      " (\u001b[1mbase.py\u001b[0m:661)\n"
     ]
    },
    {
     "name": "stdout",
     "output_type": "stream",
     "text": [
      "[\u001b[1mtardis.simulation.base\u001b[0m][\u001b[1;37mINFO\u001b[0m   ]  \n",
      "\t\n",
      "\tPlasma stratification: (\u001b[1mbase.py\u001b[0m:629)\n"
     ]
    },
    {
     "data": {
      "text/html": [
       "<style type=\"text/css\">\n",
       "</style>\n",
       "<table id=\"T_c5347\">\n",
       "  <thead>\n",
       "    <tr>\n",
       "      <th class=\"index_name level0\" >Shell No.</th>\n",
       "      <th id=\"T_c5347_level0_col0\" class=\"col_heading level0 col0\" >t_rad</th>\n",
       "      <th id=\"T_c5347_level0_col1\" class=\"col_heading level0 col1\" >next_t_rad</th>\n",
       "      <th id=\"T_c5347_level0_col2\" class=\"col_heading level0 col2\" >w</th>\n",
       "      <th id=\"T_c5347_level0_col3\" class=\"col_heading level0 col3\" >next_w</th>\n",
       "    </tr>\n",
       "  </thead>\n",
       "  <tbody>\n",
       "    <tr>\n",
       "      <th id=\"T_c5347_level0_row0\" class=\"row_heading level0 row0\" >0</th>\n",
       "      <td id=\"T_c5347_row0_col0\" class=\"data row0 col0\" >1.03e+04 K</td>\n",
       "      <td id=\"T_c5347_row0_col1\" class=\"data row0 col1\" >1.15e+04 K</td>\n",
       "      <td id=\"T_c5347_row0_col2\" class=\"data row0 col2\" >0.481</td>\n",
       "      <td id=\"T_c5347_row0_col3\" class=\"data row0 col3\" >0.555</td>\n",
       "    </tr>\n",
       "    <tr>\n",
       "      <th id=\"T_c5347_level0_row1\" class=\"row_heading level0 row1\" >5</th>\n",
       "      <td id=\"T_c5347_row1_col0\" class=\"data row1 col0\" >1.03e+04 K</td>\n",
       "      <td id=\"T_c5347_row1_col1\" class=\"data row1 col1\" >1.17e+04 K</td>\n",
       "      <td id=\"T_c5347_row1_col2\" class=\"data row1 col2\" >0.193</td>\n",
       "      <td id=\"T_c5347_row1_col3\" class=\"data row1 col3\" >0.203</td>\n",
       "    </tr>\n",
       "    <tr>\n",
       "      <th id=\"T_c5347_level0_row2\" class=\"row_heading level0 row2\" >10</th>\n",
       "      <td id=\"T_c5347_row2_col0\" class=\"data row2 col0\" >1.02e+04 K</td>\n",
       "      <td id=\"T_c5347_row2_col1\" class=\"data row2 col1\" >1.13e+04 K</td>\n",
       "      <td id=\"T_c5347_row2_col2\" class=\"data row2 col2\" >0.112</td>\n",
       "      <td id=\"T_c5347_row2_col3\" class=\"data row2 col3\" >0.135</td>\n",
       "    </tr>\n",
       "    <tr>\n",
       "      <th id=\"T_c5347_level0_row3\" class=\"row_heading level0 row3\" >15</th>\n",
       "      <td id=\"T_c5347_row3_col0\" class=\"data row3 col0\" >9.98e+03 K</td>\n",
       "      <td id=\"T_c5347_row3_col1\" class=\"data row3 col1\" >1.1e+04 K</td>\n",
       "      <td id=\"T_c5347_row3_col2\" class=\"data row3 col2\" >0.0826</td>\n",
       "      <td id=\"T_c5347_row3_col3\" class=\"data row3 col3\" >0.0998</td>\n",
       "    </tr>\n",
       "  </tbody>\n",
       "</table>\n"
      ],
      "text/plain": [
       "<pandas.io.formats.style.Styler at 0x7fd191825160>"
      ]
     },
     "metadata": {},
     "output_type": "display_data"
    },
    {
     "name": "stdout",
     "output_type": "stream",
     "text": [
      "[\u001b[1mtardis.simulation.base\u001b[0m][\u001b[1;37mINFO\u001b[0m   ]  \n",
      "\t\n",
      "\tCurrent t_inner = 11468.808 K\n",
      "\tExpected t_inner for next iteration = 9929.475 K\n",
      " (\u001b[1mbase.py\u001b[0m:656)\n"
     ]
    },
    {
     "name": "stdout",
     "output_type": "stream",
     "text": [
      "[\u001b[1mtardis.simulation.base\u001b[0m][\u001b[1;37mINFO\u001b[0m   ]  \n",
      "\t\n",
      "\tStarting iteration 3 of 5 (\u001b[1mbase.py\u001b[0m:448)\n"
     ]
    },
    {
     "name": "stdout",
     "output_type": "stream",
     "text": [
      "[\u001b[1mtardis.simulation.base\u001b[0m][\u001b[1;37mINFO\u001b[0m   ]  \n",
      "\t\n",
      "\tLuminosity emitted   = 8.259e+42 erg / s\n",
      "\tLuminosity absorbed  = 2.337e+42 erg / s\n",
      "\tLuminosity requested = 1.059e+43 erg / s\n",
      " (\u001b[1mbase.py\u001b[0m:661)\n"
     ]
    },
    {
     "name": "stdout",
     "output_type": "stream",
     "text": [
      "[\u001b[1mtardis.simulation.base\u001b[0m][\u001b[1;37mINFO\u001b[0m   ]  \n",
      "\t\n",
      "\tPlasma stratification: (\u001b[1mbase.py\u001b[0m:629)\n"
     ]
    },
    {
     "data": {
      "text/html": [
       "<style type=\"text/css\">\n",
       "</style>\n",
       "<table id=\"T_7de87\">\n",
       "  <thead>\n",
       "    <tr>\n",
       "      <th class=\"index_name level0\" >Shell No.</th>\n",
       "      <th id=\"T_7de87_level0_col0\" class=\"col_heading level0 col0\" >t_rad</th>\n",
       "      <th id=\"T_7de87_level0_col1\" class=\"col_heading level0 col1\" >next_t_rad</th>\n",
       "      <th id=\"T_7de87_level0_col2\" class=\"col_heading level0 col2\" >w</th>\n",
       "      <th id=\"T_7de87_level0_col3\" class=\"col_heading level0 col3\" >next_w</th>\n",
       "    </tr>\n",
       "  </thead>\n",
       "  <tbody>\n",
       "    <tr>\n",
       "      <th id=\"T_7de87_level0_row0\" class=\"row_heading level0 row0\" >0</th>\n",
       "      <td id=\"T_7de87_row0_col0\" class=\"data row0 col0\" >1.15e+04 K</td>\n",
       "      <td id=\"T_7de87_row0_col1\" class=\"data row0 col1\" >1.03e+04 K</td>\n",
       "      <td id=\"T_7de87_row0_col2\" class=\"data row0 col2\" >0.555</td>\n",
       "      <td id=\"T_7de87_row0_col3\" class=\"data row0 col3\" >0.468</td>\n",
       "    </tr>\n",
       "    <tr>\n",
       "      <th id=\"T_7de87_level0_row1\" class=\"row_heading level0 row1\" >5</th>\n",
       "      <td id=\"T_7de87_row1_col0\" class=\"data row1 col0\" >1.17e+04 K</td>\n",
       "      <td id=\"T_7de87_row1_col1\" class=\"data row1 col1\" >1.05e+04 K</td>\n",
       "      <td id=\"T_7de87_row1_col2\" class=\"data row1 col2\" >0.203</td>\n",
       "      <td id=\"T_7de87_row1_col3\" class=\"data row1 col3\" >0.181</td>\n",
       "    </tr>\n",
       "    <tr>\n",
       "      <th id=\"T_7de87_level0_row2\" class=\"row_heading level0 row2\" >10</th>\n",
       "      <td id=\"T_7de87_row2_col0\" class=\"data row2 col0\" >1.13e+04 K</td>\n",
       "      <td id=\"T_7de87_row2_col1\" class=\"data row2 col1\" >1.05e+04 K</td>\n",
       "      <td id=\"T_7de87_row2_col2\" class=\"data row2 col2\" >0.135</td>\n",
       "      <td id=\"T_7de87_row2_col3\" class=\"data row2 col3\" >0.108</td>\n",
       "    </tr>\n",
       "    <tr>\n",
       "      <th id=\"T_7de87_level0_row3\" class=\"row_heading level0 row3\" >15</th>\n",
       "      <td id=\"T_7de87_row3_col0\" class=\"data row3 col0\" >1.1e+04 K</td>\n",
       "      <td id=\"T_7de87_row3_col1\" class=\"data row3 col1\" >1.03e+04 K</td>\n",
       "      <td id=\"T_7de87_row3_col2\" class=\"data row3 col2\" >0.0998</td>\n",
       "      <td id=\"T_7de87_row3_col3\" class=\"data row3 col3\" >0.0779</td>\n",
       "    </tr>\n",
       "  </tbody>\n",
       "</table>\n"
      ],
      "text/plain": [
       "<pandas.io.formats.style.Styler at 0x7fd178cf6270>"
      ]
     },
     "metadata": {},
     "output_type": "display_data"
    },
    {
     "name": "stdout",
     "output_type": "stream",
     "text": [
      "[\u001b[1mtardis.simulation.base\u001b[0m][\u001b[1;37mINFO\u001b[0m   ]  \n",
      "\t\n",
      "\tCurrent t_inner = 9929.475 K\n",
      "\tExpected t_inner for next iteration = 11245.497 K\n",
      " (\u001b[1mbase.py\u001b[0m:656)\n"
     ]
    },
    {
     "name": "stdout",
     "output_type": "stream",
     "text": [
      "[\u001b[1mtardis.simulation.base\u001b[0m][\u001b[1;37mINFO\u001b[0m   ]  \n",
      "\t\n",
      "\tStarting iteration 4 of 5 (\u001b[1mbase.py\u001b[0m:448)\n"
     ]
    },
    {
     "name": "stdout",
     "output_type": "stream",
     "text": [
      "[\u001b[1mtardis.simulation.base\u001b[0m][\u001b[1;37mINFO\u001b[0m   ]  \n",
      "\t\n",
      "\tLuminosity emitted   = 1.299e+43 erg / s\n",
      "\tLuminosity absorbed  = 4.407e+42 erg / s\n",
      "\tLuminosity requested = 1.059e+43 erg / s\n",
      " (\u001b[1mbase.py\u001b[0m:661)\n"
     ]
    },
    {
     "name": "stdout",
     "output_type": "stream",
     "text": [
      "[\u001b[1mtardis.simulation.base\u001b[0m][\u001b[1;37mINFO\u001b[0m   ]  \n",
      "\t\n",
      "\tPlasma stratification: (\u001b[1mbase.py\u001b[0m:629)\n"
     ]
    },
    {
     "data": {
      "text/html": [
       "<style type=\"text/css\">\n",
       "</style>\n",
       "<table id=\"T_db3d4\">\n",
       "  <thead>\n",
       "    <tr>\n",
       "      <th class=\"index_name level0\" >Shell No.</th>\n",
       "      <th id=\"T_db3d4_level0_col0\" class=\"col_heading level0 col0\" >t_rad</th>\n",
       "      <th id=\"T_db3d4_level0_col1\" class=\"col_heading level0 col1\" >next_t_rad</th>\n",
       "      <th id=\"T_db3d4_level0_col2\" class=\"col_heading level0 col2\" >w</th>\n",
       "      <th id=\"T_db3d4_level0_col3\" class=\"col_heading level0 col3\" >next_w</th>\n",
       "    </tr>\n",
       "  </thead>\n",
       "  <tbody>\n",
       "    <tr>\n",
       "      <th id=\"T_db3d4_level0_row0\" class=\"row_heading level0 row0\" >0</th>\n",
       "      <td id=\"T_db3d4_row0_col0\" class=\"data row0 col0\" >1.03e+04 K</td>\n",
       "      <td id=\"T_db3d4_row0_col1\" class=\"data row0 col1\" >1.14e+04 K</td>\n",
       "      <td id=\"T_db3d4_row0_col2\" class=\"data row0 col2\" >0.468</td>\n",
       "      <td id=\"T_db3d4_row0_col3\" class=\"data row0 col3\" >0.527</td>\n",
       "    </tr>\n",
       "    <tr>\n",
       "      <th id=\"T_db3d4_level0_row1\" class=\"row_heading level0 row1\" >5</th>\n",
       "      <td id=\"T_db3d4_row1_col0\" class=\"data row1 col0\" >1.05e+04 K</td>\n",
       "      <td id=\"T_db3d4_row1_col1\" class=\"data row1 col1\" >1.13e+04 K</td>\n",
       "      <td id=\"T_db3d4_row1_col2\" class=\"data row1 col2\" >0.181</td>\n",
       "      <td id=\"T_db3d4_row1_col3\" class=\"data row1 col3\" >0.225</td>\n",
       "    </tr>\n",
       "    <tr>\n",
       "      <th id=\"T_db3d4_level0_row2\" class=\"row_heading level0 row2\" >10</th>\n",
       "      <td id=\"T_db3d4_row2_col0\" class=\"data row2 col0\" >1.05e+04 K</td>\n",
       "      <td id=\"T_db3d4_row2_col1\" class=\"data row2 col1\" >1.12e+04 K</td>\n",
       "      <td id=\"T_db3d4_row2_col2\" class=\"data row2 col2\" >0.108</td>\n",
       "      <td id=\"T_db3d4_row2_col3\" class=\"data row2 col3\" >0.126</td>\n",
       "    </tr>\n",
       "    <tr>\n",
       "      <th id=\"T_db3d4_level0_row3\" class=\"row_heading level0 row3\" >15</th>\n",
       "      <td id=\"T_db3d4_row3_col0\" class=\"data row3 col0\" >1.03e+04 K</td>\n",
       "      <td id=\"T_db3d4_row3_col1\" class=\"data row3 col1\" >1.1e+04 K</td>\n",
       "      <td id=\"T_db3d4_row3_col2\" class=\"data row3 col2\" >0.0779</td>\n",
       "      <td id=\"T_db3d4_row3_col3\" class=\"data row3 col3\" >0.0926</td>\n",
       "    </tr>\n",
       "  </tbody>\n",
       "</table>\n"
      ],
      "text/plain": [
       "<pandas.io.formats.style.Styler at 0x7fd178d30ce0>"
      ]
     },
     "metadata": {},
     "output_type": "display_data"
    },
    {
     "name": "stdout",
     "output_type": "stream",
     "text": [
      "[\u001b[1mtardis.simulation.base\u001b[0m][\u001b[1;37mINFO\u001b[0m   ]  \n",
      "\t\n",
      "\tCurrent t_inner = 11245.497 K\n",
      "\tExpected t_inner for next iteration = 10153.431 K\n",
      " (\u001b[1mbase.py\u001b[0m:656)\n"
     ]
    },
    {
     "name": "stdout",
     "output_type": "stream",
     "text": [
      "[\u001b[1mtardis.simulation.base\u001b[0m][\u001b[1;37mINFO\u001b[0m   ]  \n",
      "\t\n",
      "\tSimulation finished in 4 iterations \n",
      "\tSimulation took 0.46 s\n",
      " (\u001b[1mbase.py\u001b[0m:546)\n"
     ]
    },
    {
     "name": "stdout",
     "output_type": "stream",
     "text": [
      "[\u001b[1mtardis.simulation.base\u001b[0m][\u001b[1;37mINFO\u001b[0m   ]  \n",
      "\t\n",
      "\tStarting iteration 5 of 5 (\u001b[1mbase.py\u001b[0m:448)\n"
     ]
    },
    {
     "name": "stdout",
     "output_type": "stream",
     "text": [
      "[\u001b[1mtardis.simulation.base\u001b[0m][\u001b[1;37mINFO\u001b[0m   ]  \n",
      "\t\n",
      "\tLuminosity emitted   = 8.742e+42 erg / s\n",
      "\tLuminosity absorbed  = 2.834e+42 erg / s\n",
      "\tLuminosity requested = 1.059e+43 erg / s\n",
      " (\u001b[1mbase.py\u001b[0m:661)\n"
     ]
    }
   ],
   "source": [
    "# Running the simulation by passing the config dictionary to `run_tardis()` function\n",
    "sim = run_tardis(config, show_cplots=False)"
   ]
  },
  {
   "cell_type": "markdown",
   "id": "3fadc651",
   "metadata": {},
   "source": [
    "### The `specific` Entry"
   ]
  },
  {
   "cell_type": "markdown",
   "id": "df50d2e1",
   "metadata": {},
   "source": [
    "The `specific_log_level` parameter in the `debug` section of the schema is similar in functionality to the `specific_log_level` functional argument. It takes **Boolean** values, i.e., `True` or `False`. It is an optional parameter. "
   ]
  },
  {
   "cell_type": "markdown",
   "id": "b71946ad",
   "metadata": {},
   "source": [
    "Let us see an example when we set `specific_log_level` to `True` at the `Debug` level."
   ]
  },
  {
   "cell_type": "code",
   "execution_count": 11,
   "id": "64ce1048",
   "metadata": {
    "execution": {
     "iopub.execute_input": "2024-11-18T15:11:16.594257Z",
     "iopub.status.busy": "2024-11-18T15:11:16.594077Z",
     "iopub.status.idle": "2024-11-18T15:11:16.596762Z",
     "shell.execute_reply": "2024-11-18T15:11:16.596263Z"
    }
   },
   "outputs": [],
   "source": [
    "config[\"debug\"][\"log_level\"] = \"Debug\"\n",
    "config[\"debug\"][\"specific_log_level\"] = True"
   ]
  },
  {
   "cell_type": "code",
   "execution_count": 12,
   "id": "33696bdd",
   "metadata": {
    "execution": {
     "iopub.execute_input": "2024-11-18T15:11:16.598843Z",
     "iopub.status.busy": "2024-11-18T15:11:16.598457Z",
     "iopub.status.idle": "2024-11-18T15:11:17.828858Z",
     "shell.execute_reply": "2024-11-18T15:11:17.828298Z"
    }
   },
   "outputs": [
    {
     "name": "stdout",
     "output_type": "stream",
     "text": [
      "[\u001b[1mtardis.io.atom_data.base\u001b[0m][\u001b[1;34mDEBUG\u001b[0m  ]  Dataframe does not contain synpp_refs column (\u001b[1mbase.py\u001b[0m:198)\n"
     ]
    },
    {
     "name": "stdout",
     "output_type": "stream",
     "text": [
      "[\u001b[1mtardis.io.atom_data.base\u001b[0m][\u001b[1;34mDEBUG\u001b[0m  ]  Dataframe does not contain photoionization_data column (\u001b[1mbase.py\u001b[0m:198)\n"
     ]
    },
    {
     "name": "stdout",
     "output_type": "stream",
     "text": [
      "[\u001b[1mtardis.io.atom_data.base\u001b[0m][\u001b[1;34mDEBUG\u001b[0m  ]  Dataframe does not contain yg_data column (\u001b[1mbase.py\u001b[0m:198)\n"
     ]
    },
    {
     "name": "stdout",
     "output_type": "stream",
     "text": [
      "[\u001b[1mtardis.io.atom_data.base\u001b[0m][\u001b[1;34mDEBUG\u001b[0m  ]  Dataframe does not contain two_photon_data column (\u001b[1mbase.py\u001b[0m:198)\n"
     ]
    },
    {
     "name": "stdout",
     "output_type": "stream",
     "text": [
      "[\u001b[1mtardis.io.atom_data.base\u001b[0m][\u001b[1;34mDEBUG\u001b[0m  ]  Dataframe does not contain linelist_atoms column (\u001b[1mbase.py\u001b[0m:198)\n"
     ]
    },
    {
     "name": "stdout",
     "output_type": "stream",
     "text": [
      "[\u001b[1mtardis.io.atom_data.base\u001b[0m][\u001b[1;34mDEBUG\u001b[0m  ]  Dataframe does not contain linelist_molecules column (\u001b[1mbase.py\u001b[0m:198)\n"
     ]
    },
    {
     "name": "stdout",
     "output_type": "stream",
     "text": [
      "[\u001b[1mtardis.plasma.base  \u001b[0m][\u001b[1;34mDEBUG\u001b[0m  ]  Updating modules in the following order:TRadiative->DilutionFactor->SelectedAtoms->BetaRadiation->ElectronTemperature->Levels->Lines->IonizationData->MacroAtomData->GElectron->LevelBoltzmannFactorLTE->LinesLowerLevelIndex->LinesUpperLevelIndex->LevelBoltzmannFactorNoNLTE->PartitionFunction->PhiSahaLTE->IonNumberDensity->LevelNumberDensity->StimulatedEmissionFactor->TauSobolev->BetaSobolev->TransitionProbabilities (\u001b[1mbase.py\u001b[0m:272)\n"
     ]
    },
    {
     "name": "stdout",
     "output_type": "stream",
     "text": [
      "[\u001b[1mtardis.plasma.base  \u001b[0m][\u001b[1;34mDEBUG\u001b[0m  ]  Updating modules in the following order:TRadiative->DilutionFactor->SelectedAtoms->BetaRadiation->ElectronTemperature->Levels->Lines->IonizationData->MacroAtomData->GElectron->LevelBoltzmannFactorLTE->LinesLowerLevelIndex->LinesUpperLevelIndex->LevelBoltzmannFactorNoNLTE->PartitionFunction->PhiSahaLTE->IonNumberDensity->LevelNumberDensity->StimulatedEmissionFactor->TauSobolev->BetaSobolev->TransitionProbabilities (\u001b[1mbase.py\u001b[0m:272)\n"
     ]
    },
    {
     "name": "stdout",
     "output_type": "stream",
     "text": [
      "[\u001b[1mtardis.transport.montecarlo.base\u001b[0m][\u001b[1;34mDEBUG\u001b[0m  ]  Electron scattering switched on (\u001b[1mbase.py\u001b[0m:267)\n"
     ]
    },
    {
     "data": {
      "application/vnd.jupyter.widget-view+json": {
       "model_id": "e80e2d460faf4b7592d41ddb2a07b016",
       "version_major": 2,
       "version_minor": 0
      },
      "text/plain": [
       "TqdmHBox(children=(HTML(value='Iterations:', layout=Layout(width='6%')), FloatProgress(value=0.0, layout=Layou…"
      ]
     },
     "metadata": {},
     "output_type": "display_data"
    },
    {
     "data": {
      "application/vnd.jupyter.widget-view+json": {
       "model_id": "389b4f5b55344f5583cf5997dfd10892",
       "version_major": 2,
       "version_minor": 0
      },
      "text/plain": [
       "TqdmHBox(children=(HTML(value='Packets:\\u2007\\u2007\\u2007', layout=Layout(width='6%')), FloatProgress(value=0.…"
      ]
     },
     "metadata": {},
     "output_type": "display_data"
    },
    {
     "name": "stdout",
     "output_type": "stream",
     "text": [
      "[\u001b[1mtardis.plasma.base  \u001b[0m][\u001b[1;34mDEBUG\u001b[0m  ]  Updating modules in the following order:TRadiative->DilutionFactor->BetaRadiation->ElectronTemperature->GElectron->LevelBoltzmannFactorLTE->LevelBoltzmannFactorNoNLTE->PartitionFunction->PhiSahaLTE->IonNumberDensity->LevelNumberDensity->StimulatedEmissionFactor->TauSobolev->BetaSobolev->TransitionProbabilities (\u001b[1mbase.py\u001b[0m:272)\n"
     ]
    },
    {
     "name": "stdout",
     "output_type": "stream",
     "text": [
      "[\u001b[1mtardis.plasma.base  \u001b[0m][\u001b[1;34mDEBUG\u001b[0m  ]  Updating modules in the following order:TRadiative->DilutionFactor->BetaRadiation->ElectronTemperature->GElectron->LevelBoltzmannFactorLTE->LevelBoltzmannFactorNoNLTE->PartitionFunction->PhiSahaLTE->IonNumberDensity->LevelNumberDensity->StimulatedEmissionFactor->TauSobolev->BetaSobolev->TransitionProbabilities (\u001b[1mbase.py\u001b[0m:272)\n"
     ]
    },
    {
     "name": "stdout",
     "output_type": "stream",
     "text": [
      "[\u001b[1mtardis.plasma.base  \u001b[0m][\u001b[1;34mDEBUG\u001b[0m  ]  Updating modules in the following order:TRadiative->DilutionFactor->BetaRadiation->ElectronTemperature->GElectron->LevelBoltzmannFactorLTE->LevelBoltzmannFactorNoNLTE->PartitionFunction->PhiSahaLTE->IonNumberDensity->LevelNumberDensity->StimulatedEmissionFactor->TauSobolev->BetaSobolev->TransitionProbabilities (\u001b[1mbase.py\u001b[0m:272)\n"
     ]
    },
    {
     "name": "stdout",
     "output_type": "stream",
     "text": [
      "[\u001b[1mtardis.plasma.base  \u001b[0m][\u001b[1;34mDEBUG\u001b[0m  ]  Updating modules in the following order:TRadiative->DilutionFactor->BetaRadiation->ElectronTemperature->GElectron->LevelBoltzmannFactorLTE->LevelBoltzmannFactorNoNLTE->PartitionFunction->PhiSahaLTE->IonNumberDensity->LevelNumberDensity->StimulatedEmissionFactor->TauSobolev->BetaSobolev->TransitionProbabilities (\u001b[1mbase.py\u001b[0m:272)\n"
     ]
    }
   ],
   "source": [
    "sim = run_tardis(config, show_cplots=False)"
   ]
  },
  {
   "cell_type": "markdown",
   "id": "3e895aec",
   "metadata": {},
   "source": [
    "Setting `specific_log_level` to `False` to check the actual output at the `DEBUG` level for the simulation logs."
   ]
  },
  {
   "cell_type": "code",
   "execution_count": 13,
   "id": "762c858f",
   "metadata": {
    "execution": {
     "iopub.execute_input": "2024-11-18T15:11:17.830974Z",
     "iopub.status.busy": "2024-11-18T15:11:17.830790Z",
     "iopub.status.idle": "2024-11-18T15:11:17.833634Z",
     "shell.execute_reply": "2024-11-18T15:11:17.833145Z"
    }
   },
   "outputs": [],
   "source": [
    "config[\"debug\"][\"specific_log_level\"] = False"
   ]
  },
  {
   "cell_type": "code",
   "execution_count": 14,
   "id": "581f2d8d",
   "metadata": {
    "execution": {
     "iopub.execute_input": "2024-11-18T15:11:17.835762Z",
     "iopub.status.busy": "2024-11-18T15:11:17.835273Z",
     "iopub.status.idle": "2024-11-18T15:11:19.100238Z",
     "shell.execute_reply": "2024-11-18T15:11:19.099675Z"
    },
    "scrolled": false
   },
   "outputs": [
    {
     "name": "stdout",
     "output_type": "stream",
     "text": [
      "[\u001b[1mtardis.io.model.parse_atom_data\u001b[0m][\u001b[1;37mINFO\u001b[0m   ]  \n",
      "\t\n",
      "\tReading Atomic Data from kurucz_cd23_chianti_H_He.h5 (\u001b[1mparse_atom_data.py\u001b[0m:40)\n"
     ]
    },
    {
     "name": "stdout",
     "output_type": "stream",
     "text": [
      "[\u001b[1mtardis.io.atom_data.util\u001b[0m][\u001b[1;37mINFO\u001b[0m   ]  \n",
      "\t\n",
      "\tAtom Data kurucz_cd23_chianti_H_He.h5 not found in local path.\n",
      "\tExists in TARDIS Data repo /home/runner/Downloads/tardis-data/kurucz_cd23_chianti_H_He.h5 (\u001b[1mutil.py\u001b[0m:34)\n"
     ]
    },
    {
     "name": "stdout",
     "output_type": "stream",
     "text": [
      "[\u001b[1mtardis.io.atom_data.base\u001b[0m][\u001b[1;34mDEBUG\u001b[0m  ]  Dataframe does not contain synpp_refs column (\u001b[1mbase.py\u001b[0m:198)\n"
     ]
    },
    {
     "name": "stdout",
     "output_type": "stream",
     "text": [
      "[\u001b[1mtardis.io.atom_data.base\u001b[0m][\u001b[1;34mDEBUG\u001b[0m  ]  Dataframe does not contain photoionization_data column (\u001b[1mbase.py\u001b[0m:198)\n"
     ]
    },
    {
     "name": "stdout",
     "output_type": "stream",
     "text": [
      "[\u001b[1mtardis.io.atom_data.base\u001b[0m][\u001b[1;34mDEBUG\u001b[0m  ]  Dataframe does not contain yg_data column (\u001b[1mbase.py\u001b[0m:198)\n"
     ]
    },
    {
     "name": "stdout",
     "output_type": "stream",
     "text": [
      "[\u001b[1mtardis.io.atom_data.base\u001b[0m][\u001b[1;34mDEBUG\u001b[0m  ]  Dataframe does not contain two_photon_data column (\u001b[1mbase.py\u001b[0m:198)\n"
     ]
    },
    {
     "name": "stdout",
     "output_type": "stream",
     "text": [
      "[\u001b[1mtardis.io.atom_data.base\u001b[0m][\u001b[1;34mDEBUG\u001b[0m  ]  Dataframe does not contain linelist_atoms column (\u001b[1mbase.py\u001b[0m:198)\n"
     ]
    },
    {
     "name": "stdout",
     "output_type": "stream",
     "text": [
      "[\u001b[1mtardis.io.atom_data.base\u001b[0m][\u001b[1;34mDEBUG\u001b[0m  ]  Dataframe does not contain linelist_molecules column (\u001b[1mbase.py\u001b[0m:198)\n"
     ]
    },
    {
     "name": "stdout",
     "output_type": "stream",
     "text": [
      "[\u001b[1mtardis.io.atom_data.base\u001b[0m][\u001b[1;37mINFO\u001b[0m   ]  \n",
      "\tReading Atom Data with: UUID = 6f7b09e887a311e7a06b246e96350010 MD5  = 864f1753714343c41f99cb065710cace  (\u001b[1mbase.py\u001b[0m:262)\n"
     ]
    },
    {
     "name": "stdout",
     "output_type": "stream",
     "text": [
      "[\u001b[1mtardis.io.atom_data.base\u001b[0m][\u001b[1;37mINFO\u001b[0m   ]  \n",
      "\tNon provided Atomic Data: synpp_refs, photoionization_data, yg_data, two_photon_data, linelist_atoms, linelist_molecules (\u001b[1mbase.py\u001b[0m:266)\n"
     ]
    },
    {
     "name": "stdout",
     "output_type": "stream",
     "text": [
      "[\u001b[1mtardis.io.model.parse_density_configuration\u001b[0m][\u001b[1;33mWARNING\u001b[0m]  \n",
      "\tNumber of density points larger than number of shells. Assuming inner point irrelevant (\u001b[1mparse_density_configuration.py\u001b[0m:114)\n"
     ]
    },
    {
     "name": "stdout",
     "output_type": "stream",
     "text": [
      "[\u001b[1mtardis.model.matter.decay\u001b[0m][\u001b[1;37mINFO\u001b[0m   ]  \n",
      "\tDecaying abundances for 1123200.0 seconds (\u001b[1mdecay.py\u001b[0m:101)\n"
     ]
    },
    {
     "name": "stdout",
     "output_type": "stream",
     "text": [
      "[\u001b[1mtardis.plasma.base  \u001b[0m][\u001b[1;34mDEBUG\u001b[0m  ]  Updating modules in the following order:TRadiative->DilutionFactor->SelectedAtoms->BetaRadiation->ElectronTemperature->Levels->Lines->IonizationData->MacroAtomData->GElectron->LevelBoltzmannFactorLTE->LinesLowerLevelIndex->LinesUpperLevelIndex->LevelBoltzmannFactorNoNLTE->PartitionFunction->PhiSahaLTE->IonNumberDensity->LevelNumberDensity->StimulatedEmissionFactor->TauSobolev->BetaSobolev->TransitionProbabilities (\u001b[1mbase.py\u001b[0m:272)\n"
     ]
    },
    {
     "name": "stdout",
     "output_type": "stream",
     "text": [
      "[\u001b[1mtardis.plasma.base  \u001b[0m][\u001b[1;34mDEBUG\u001b[0m  ]  Updating modules in the following order:TRadiative->DilutionFactor->SelectedAtoms->BetaRadiation->ElectronTemperature->Levels->Lines->IonizationData->MacroAtomData->GElectron->LevelBoltzmannFactorLTE->LinesLowerLevelIndex->LinesUpperLevelIndex->LevelBoltzmannFactorNoNLTE->PartitionFunction->PhiSahaLTE->IonNumberDensity->LevelNumberDensity->StimulatedEmissionFactor->TauSobolev->BetaSobolev->TransitionProbabilities (\u001b[1mbase.py\u001b[0m:272)\n"
     ]
    },
    {
     "name": "stdout",
     "output_type": "stream",
     "text": [
      "[\u001b[1mtardis.transport.montecarlo.base\u001b[0m][\u001b[1;34mDEBUG\u001b[0m  ]  Electron scattering switched on (\u001b[1mbase.py\u001b[0m:267)\n"
     ]
    },
    {
     "name": "stdout",
     "output_type": "stream",
     "text": [
      "[\u001b[1mtardis.simulation.base\u001b[0m][\u001b[1;37mINFO\u001b[0m   ]  \n",
      "\t\n",
      "\tStarting iteration 1 of 5 (\u001b[1mbase.py\u001b[0m:448)\n"
     ]
    },
    {
     "data": {
      "application/vnd.jupyter.widget-view+json": {
       "model_id": "74a321f3a4f44b7ca51ae498df61adf2",
       "version_major": 2,
       "version_minor": 0
      },
      "text/plain": [
       "TqdmHBox(children=(HTML(value='Iterations:', layout=Layout(width='6%')), FloatProgress(value=0.0, layout=Layou…"
      ]
     },
     "metadata": {},
     "output_type": "display_data"
    },
    {
     "data": {
      "application/vnd.jupyter.widget-view+json": {
       "model_id": "f9cb667909dc4eca9ddbee65226bee96",
       "version_major": 2,
       "version_minor": 0
      },
      "text/plain": [
       "TqdmHBox(children=(HTML(value='Packets:\\u2007\\u2007\\u2007', layout=Layout(width='6%')), FloatProgress(value=0.…"
      ]
     },
     "metadata": {},
     "output_type": "display_data"
    },
    {
     "name": "stdout",
     "output_type": "stream",
     "text": [
      "[\u001b[1mtardis.simulation.base\u001b[0m][\u001b[1;37mINFO\u001b[0m   ]  \n",
      "\t\n",
      "\tLuminosity emitted   = 7.947e+42 erg / s\n",
      "\tLuminosity absorbed  = 2.654e+42 erg / s\n",
      "\tLuminosity requested = 1.059e+43 erg / s\n",
      " (\u001b[1mbase.py\u001b[0m:661)\n"
     ]
    },
    {
     "name": "stdout",
     "output_type": "stream",
     "text": [
      "[\u001b[1mtardis.simulation.base\u001b[0m][\u001b[1;37mINFO\u001b[0m   ]  \n",
      "\t\n",
      "\tPlasma stratification: (\u001b[1mbase.py\u001b[0m:629)\n"
     ]
    },
    {
     "data": {
      "text/html": [
       "<style type=\"text/css\">\n",
       "</style>\n",
       "<table id=\"T_f1475\">\n",
       "  <thead>\n",
       "    <tr>\n",
       "      <th class=\"index_name level0\" >Shell No.</th>\n",
       "      <th id=\"T_f1475_level0_col0\" class=\"col_heading level0 col0\" >t_rad</th>\n",
       "      <th id=\"T_f1475_level0_col1\" class=\"col_heading level0 col1\" >next_t_rad</th>\n",
       "      <th id=\"T_f1475_level0_col2\" class=\"col_heading level0 col2\" >w</th>\n",
       "      <th id=\"T_f1475_level0_col3\" class=\"col_heading level0 col3\" >next_w</th>\n",
       "    </tr>\n",
       "  </thead>\n",
       "  <tbody>\n",
       "    <tr>\n",
       "      <th id=\"T_f1475_level0_row0\" class=\"row_heading level0 row0\" >0</th>\n",
       "      <td id=\"T_f1475_row0_col0\" class=\"data row0 col0\" >9.93e+03 K</td>\n",
       "      <td id=\"T_f1475_row0_col1\" class=\"data row0 col1\" >1.03e+04 K</td>\n",
       "      <td id=\"T_f1475_row0_col2\" class=\"data row0 col2\" >0.4</td>\n",
       "      <td id=\"T_f1475_row0_col3\" class=\"data row0 col3\" >0.481</td>\n",
       "    </tr>\n",
       "    <tr>\n",
       "      <th id=\"T_f1475_level0_row1\" class=\"row_heading level0 row1\" >5</th>\n",
       "      <td id=\"T_f1475_row1_col0\" class=\"data row1 col0\" >9.85e+03 K</td>\n",
       "      <td id=\"T_f1475_row1_col1\" class=\"data row1 col1\" >1.03e+04 K</td>\n",
       "      <td id=\"T_f1475_row1_col2\" class=\"data row1 col2\" >0.211</td>\n",
       "      <td id=\"T_f1475_row1_col3\" class=\"data row1 col3\" >0.193</td>\n",
       "    </tr>\n",
       "    <tr>\n",
       "      <th id=\"T_f1475_level0_row2\" class=\"row_heading level0 row2\" >10</th>\n",
       "      <td id=\"T_f1475_row2_col0\" class=\"data row2 col0\" >9.78e+03 K</td>\n",
       "      <td id=\"T_f1475_row2_col1\" class=\"data row2 col1\" >1.02e+04 K</td>\n",
       "      <td id=\"T_f1475_row2_col2\" class=\"data row2 col2\" >0.143</td>\n",
       "      <td id=\"T_f1475_row2_col3\" class=\"data row2 col3\" >0.112</td>\n",
       "    </tr>\n",
       "    <tr>\n",
       "      <th id=\"T_f1475_level0_row3\" class=\"row_heading level0 row3\" >15</th>\n",
       "      <td id=\"T_f1475_row3_col0\" class=\"data row3 col0\" >9.71e+03 K</td>\n",
       "      <td id=\"T_f1475_row3_col1\" class=\"data row3 col1\" >9.98e+03 K</td>\n",
       "      <td id=\"T_f1475_row3_col2\" class=\"data row3 col2\" >0.105</td>\n",
       "      <td id=\"T_f1475_row3_col3\" class=\"data row3 col3\" >0.0826</td>\n",
       "    </tr>\n",
       "  </tbody>\n",
       "</table>\n"
      ],
      "text/plain": [
       "<pandas.io.formats.style.Styler at 0x7fd1634ffc20>"
      ]
     },
     "metadata": {},
     "output_type": "display_data"
    },
    {
     "name": "stdout",
     "output_type": "stream",
     "text": [
      "[\u001b[1mtardis.simulation.base\u001b[0m][\u001b[1;37mINFO\u001b[0m   ]  \n",
      "\t\n",
      "\tCurrent t_inner = 9933.952 K\n",
      "\tExpected t_inner for next iteration = 11468.808 K\n",
      " (\u001b[1mbase.py\u001b[0m:656)\n"
     ]
    },
    {
     "name": "stdout",
     "output_type": "stream",
     "text": [
      "[\u001b[1mtardis.plasma.base  \u001b[0m][\u001b[1;34mDEBUG\u001b[0m  ]  Updating modules in the following order:TRadiative->DilutionFactor->BetaRadiation->ElectronTemperature->GElectron->LevelBoltzmannFactorLTE->LevelBoltzmannFactorNoNLTE->PartitionFunction->PhiSahaLTE->IonNumberDensity->LevelNumberDensity->StimulatedEmissionFactor->TauSobolev->BetaSobolev->TransitionProbabilities (\u001b[1mbase.py\u001b[0m:272)\n"
     ]
    },
    {
     "name": "stdout",
     "output_type": "stream",
     "text": [
      "[\u001b[1mtardis.simulation.base\u001b[0m][\u001b[1;37mINFO\u001b[0m   ]  \n",
      "\t\n",
      "\tStarting iteration 2 of 5 (\u001b[1mbase.py\u001b[0m:448)\n"
     ]
    },
    {
     "name": "stdout",
     "output_type": "stream",
     "text": [
      "[\u001b[1mtardis.simulation.base\u001b[0m][\u001b[1;37mINFO\u001b[0m   ]  \n",
      "\t\n",
      "\tLuminosity emitted   = 1.413e+43 erg / s\n",
      "\tLuminosity absorbed  = 4.704e+42 erg / s\n",
      "\tLuminosity requested = 1.059e+43 erg / s\n",
      " (\u001b[1mbase.py\u001b[0m:661)\n"
     ]
    },
    {
     "name": "stdout",
     "output_type": "stream",
     "text": [
      "[\u001b[1mtardis.simulation.base\u001b[0m][\u001b[1;37mINFO\u001b[0m   ]  \n",
      "\t\n",
      "\tPlasma stratification: (\u001b[1mbase.py\u001b[0m:629)\n"
     ]
    },
    {
     "data": {
      "text/html": [
       "<style type=\"text/css\">\n",
       "</style>\n",
       "<table id=\"T_a2f0f\">\n",
       "  <thead>\n",
       "    <tr>\n",
       "      <th class=\"index_name level0\" >Shell No.</th>\n",
       "      <th id=\"T_a2f0f_level0_col0\" class=\"col_heading level0 col0\" >t_rad</th>\n",
       "      <th id=\"T_a2f0f_level0_col1\" class=\"col_heading level0 col1\" >next_t_rad</th>\n",
       "      <th id=\"T_a2f0f_level0_col2\" class=\"col_heading level0 col2\" >w</th>\n",
       "      <th id=\"T_a2f0f_level0_col3\" class=\"col_heading level0 col3\" >next_w</th>\n",
       "    </tr>\n",
       "  </thead>\n",
       "  <tbody>\n",
       "    <tr>\n",
       "      <th id=\"T_a2f0f_level0_row0\" class=\"row_heading level0 row0\" >0</th>\n",
       "      <td id=\"T_a2f0f_row0_col0\" class=\"data row0 col0\" >1.03e+04 K</td>\n",
       "      <td id=\"T_a2f0f_row0_col1\" class=\"data row0 col1\" >1.15e+04 K</td>\n",
       "      <td id=\"T_a2f0f_row0_col2\" class=\"data row0 col2\" >0.481</td>\n",
       "      <td id=\"T_a2f0f_row0_col3\" class=\"data row0 col3\" >0.555</td>\n",
       "    </tr>\n",
       "    <tr>\n",
       "      <th id=\"T_a2f0f_level0_row1\" class=\"row_heading level0 row1\" >5</th>\n",
       "      <td id=\"T_a2f0f_row1_col0\" class=\"data row1 col0\" >1.03e+04 K</td>\n",
       "      <td id=\"T_a2f0f_row1_col1\" class=\"data row1 col1\" >1.17e+04 K</td>\n",
       "      <td id=\"T_a2f0f_row1_col2\" class=\"data row1 col2\" >0.193</td>\n",
       "      <td id=\"T_a2f0f_row1_col3\" class=\"data row1 col3\" >0.203</td>\n",
       "    </tr>\n",
       "    <tr>\n",
       "      <th id=\"T_a2f0f_level0_row2\" class=\"row_heading level0 row2\" >10</th>\n",
       "      <td id=\"T_a2f0f_row2_col0\" class=\"data row2 col0\" >1.02e+04 K</td>\n",
       "      <td id=\"T_a2f0f_row2_col1\" class=\"data row2 col1\" >1.13e+04 K</td>\n",
       "      <td id=\"T_a2f0f_row2_col2\" class=\"data row2 col2\" >0.112</td>\n",
       "      <td id=\"T_a2f0f_row2_col3\" class=\"data row2 col3\" >0.135</td>\n",
       "    </tr>\n",
       "    <tr>\n",
       "      <th id=\"T_a2f0f_level0_row3\" class=\"row_heading level0 row3\" >15</th>\n",
       "      <td id=\"T_a2f0f_row3_col0\" class=\"data row3 col0\" >9.98e+03 K</td>\n",
       "      <td id=\"T_a2f0f_row3_col1\" class=\"data row3 col1\" >1.1e+04 K</td>\n",
       "      <td id=\"T_a2f0f_row3_col2\" class=\"data row3 col2\" >0.0826</td>\n",
       "      <td id=\"T_a2f0f_row3_col3\" class=\"data row3 col3\" >0.0998</td>\n",
       "    </tr>\n",
       "  </tbody>\n",
       "</table>\n"
      ],
      "text/plain": [
       "<pandas.io.formats.style.Styler at 0x7fd14d898080>"
      ]
     },
     "metadata": {},
     "output_type": "display_data"
    },
    {
     "name": "stdout",
     "output_type": "stream",
     "text": [
      "[\u001b[1mtardis.simulation.base\u001b[0m][\u001b[1;37mINFO\u001b[0m   ]  \n",
      "\t\n",
      "\tCurrent t_inner = 11468.808 K\n",
      "\tExpected t_inner for next iteration = 9929.475 K\n",
      " (\u001b[1mbase.py\u001b[0m:656)\n"
     ]
    },
    {
     "name": "stdout",
     "output_type": "stream",
     "text": [
      "[\u001b[1mtardis.plasma.base  \u001b[0m][\u001b[1;34mDEBUG\u001b[0m  ]  Updating modules in the following order:TRadiative->DilutionFactor->BetaRadiation->ElectronTemperature->GElectron->LevelBoltzmannFactorLTE->LevelBoltzmannFactorNoNLTE->PartitionFunction->PhiSahaLTE->IonNumberDensity->LevelNumberDensity->StimulatedEmissionFactor->TauSobolev->BetaSobolev->TransitionProbabilities (\u001b[1mbase.py\u001b[0m:272)\n"
     ]
    },
    {
     "name": "stdout",
     "output_type": "stream",
     "text": [
      "[\u001b[1mtardis.simulation.base\u001b[0m][\u001b[1;37mINFO\u001b[0m   ]  \n",
      "\t\n",
      "\tStarting iteration 3 of 5 (\u001b[1mbase.py\u001b[0m:448)\n"
     ]
    },
    {
     "name": "stdout",
     "output_type": "stream",
     "text": [
      "[\u001b[1mtardis.simulation.base\u001b[0m][\u001b[1;37mINFO\u001b[0m   ]  \n",
      "\t\n",
      "\tLuminosity emitted   = 8.259e+42 erg / s\n",
      "\tLuminosity absorbed  = 2.337e+42 erg / s\n",
      "\tLuminosity requested = 1.059e+43 erg / s\n",
      " (\u001b[1mbase.py\u001b[0m:661)\n"
     ]
    },
    {
     "name": "stdout",
     "output_type": "stream",
     "text": [
      "[\u001b[1mtardis.simulation.base\u001b[0m][\u001b[1;37mINFO\u001b[0m   ]  \n",
      "\t\n",
      "\tPlasma stratification: (\u001b[1mbase.py\u001b[0m:629)\n"
     ]
    },
    {
     "data": {
      "text/html": [
       "<style type=\"text/css\">\n",
       "</style>\n",
       "<table id=\"T_ca14c\">\n",
       "  <thead>\n",
       "    <tr>\n",
       "      <th class=\"index_name level0\" >Shell No.</th>\n",
       "      <th id=\"T_ca14c_level0_col0\" class=\"col_heading level0 col0\" >t_rad</th>\n",
       "      <th id=\"T_ca14c_level0_col1\" class=\"col_heading level0 col1\" >next_t_rad</th>\n",
       "      <th id=\"T_ca14c_level0_col2\" class=\"col_heading level0 col2\" >w</th>\n",
       "      <th id=\"T_ca14c_level0_col3\" class=\"col_heading level0 col3\" >next_w</th>\n",
       "    </tr>\n",
       "  </thead>\n",
       "  <tbody>\n",
       "    <tr>\n",
       "      <th id=\"T_ca14c_level0_row0\" class=\"row_heading level0 row0\" >0</th>\n",
       "      <td id=\"T_ca14c_row0_col0\" class=\"data row0 col0\" >1.15e+04 K</td>\n",
       "      <td id=\"T_ca14c_row0_col1\" class=\"data row0 col1\" >1.03e+04 K</td>\n",
       "      <td id=\"T_ca14c_row0_col2\" class=\"data row0 col2\" >0.555</td>\n",
       "      <td id=\"T_ca14c_row0_col3\" class=\"data row0 col3\" >0.468</td>\n",
       "    </tr>\n",
       "    <tr>\n",
       "      <th id=\"T_ca14c_level0_row1\" class=\"row_heading level0 row1\" >5</th>\n",
       "      <td id=\"T_ca14c_row1_col0\" class=\"data row1 col0\" >1.17e+04 K</td>\n",
       "      <td id=\"T_ca14c_row1_col1\" class=\"data row1 col1\" >1.05e+04 K</td>\n",
       "      <td id=\"T_ca14c_row1_col2\" class=\"data row1 col2\" >0.203</td>\n",
       "      <td id=\"T_ca14c_row1_col3\" class=\"data row1 col3\" >0.181</td>\n",
       "    </tr>\n",
       "    <tr>\n",
       "      <th id=\"T_ca14c_level0_row2\" class=\"row_heading level0 row2\" >10</th>\n",
       "      <td id=\"T_ca14c_row2_col0\" class=\"data row2 col0\" >1.13e+04 K</td>\n",
       "      <td id=\"T_ca14c_row2_col1\" class=\"data row2 col1\" >1.05e+04 K</td>\n",
       "      <td id=\"T_ca14c_row2_col2\" class=\"data row2 col2\" >0.135</td>\n",
       "      <td id=\"T_ca14c_row2_col3\" class=\"data row2 col3\" >0.108</td>\n",
       "    </tr>\n",
       "    <tr>\n",
       "      <th id=\"T_ca14c_level0_row3\" class=\"row_heading level0 row3\" >15</th>\n",
       "      <td id=\"T_ca14c_row3_col0\" class=\"data row3 col0\" >1.1e+04 K</td>\n",
       "      <td id=\"T_ca14c_row3_col1\" class=\"data row3 col1\" >1.03e+04 K</td>\n",
       "      <td id=\"T_ca14c_row3_col2\" class=\"data row3 col2\" >0.0998</td>\n",
       "      <td id=\"T_ca14c_row3_col3\" class=\"data row3 col3\" >0.0779</td>\n",
       "    </tr>\n",
       "  </tbody>\n",
       "</table>\n"
      ],
      "text/plain": [
       "<pandas.io.formats.style.Styler at 0x7fd15532c650>"
      ]
     },
     "metadata": {},
     "output_type": "display_data"
    },
    {
     "name": "stdout",
     "output_type": "stream",
     "text": [
      "[\u001b[1mtardis.simulation.base\u001b[0m][\u001b[1;37mINFO\u001b[0m   ]  \n",
      "\t\n",
      "\tCurrent t_inner = 9929.475 K\n",
      "\tExpected t_inner for next iteration = 11245.497 K\n",
      " (\u001b[1mbase.py\u001b[0m:656)\n"
     ]
    },
    {
     "name": "stdout",
     "output_type": "stream",
     "text": [
      "[\u001b[1mtardis.plasma.base  \u001b[0m][\u001b[1;34mDEBUG\u001b[0m  ]  Updating modules in the following order:TRadiative->DilutionFactor->BetaRadiation->ElectronTemperature->GElectron->LevelBoltzmannFactorLTE->LevelBoltzmannFactorNoNLTE->PartitionFunction->PhiSahaLTE->IonNumberDensity->LevelNumberDensity->StimulatedEmissionFactor->TauSobolev->BetaSobolev->TransitionProbabilities (\u001b[1mbase.py\u001b[0m:272)\n"
     ]
    },
    {
     "name": "stdout",
     "output_type": "stream",
     "text": [
      "[\u001b[1mtardis.simulation.base\u001b[0m][\u001b[1;37mINFO\u001b[0m   ]  \n",
      "\t\n",
      "\tStarting iteration 4 of 5 (\u001b[1mbase.py\u001b[0m:448)\n"
     ]
    },
    {
     "name": "stdout",
     "output_type": "stream",
     "text": [
      "[\u001b[1mtardis.simulation.base\u001b[0m][\u001b[1;37mINFO\u001b[0m   ]  \n",
      "\t\n",
      "\tLuminosity emitted   = 1.299e+43 erg / s\n",
      "\tLuminosity absorbed  = 4.407e+42 erg / s\n",
      "\tLuminosity requested = 1.059e+43 erg / s\n",
      " (\u001b[1mbase.py\u001b[0m:661)\n"
     ]
    },
    {
     "name": "stdout",
     "output_type": "stream",
     "text": [
      "[\u001b[1mtardis.simulation.base\u001b[0m][\u001b[1;37mINFO\u001b[0m   ]  \n",
      "\t\n",
      "\tPlasma stratification: (\u001b[1mbase.py\u001b[0m:629)\n"
     ]
    },
    {
     "data": {
      "text/html": [
       "<style type=\"text/css\">\n",
       "</style>\n",
       "<table id=\"T_4ab15\">\n",
       "  <thead>\n",
       "    <tr>\n",
       "      <th class=\"index_name level0\" >Shell No.</th>\n",
       "      <th id=\"T_4ab15_level0_col0\" class=\"col_heading level0 col0\" >t_rad</th>\n",
       "      <th id=\"T_4ab15_level0_col1\" class=\"col_heading level0 col1\" >next_t_rad</th>\n",
       "      <th id=\"T_4ab15_level0_col2\" class=\"col_heading level0 col2\" >w</th>\n",
       "      <th id=\"T_4ab15_level0_col3\" class=\"col_heading level0 col3\" >next_w</th>\n",
       "    </tr>\n",
       "  </thead>\n",
       "  <tbody>\n",
       "    <tr>\n",
       "      <th id=\"T_4ab15_level0_row0\" class=\"row_heading level0 row0\" >0</th>\n",
       "      <td id=\"T_4ab15_row0_col0\" class=\"data row0 col0\" >1.03e+04 K</td>\n",
       "      <td id=\"T_4ab15_row0_col1\" class=\"data row0 col1\" >1.14e+04 K</td>\n",
       "      <td id=\"T_4ab15_row0_col2\" class=\"data row0 col2\" >0.468</td>\n",
       "      <td id=\"T_4ab15_row0_col3\" class=\"data row0 col3\" >0.527</td>\n",
       "    </tr>\n",
       "    <tr>\n",
       "      <th id=\"T_4ab15_level0_row1\" class=\"row_heading level0 row1\" >5</th>\n",
       "      <td id=\"T_4ab15_row1_col0\" class=\"data row1 col0\" >1.05e+04 K</td>\n",
       "      <td id=\"T_4ab15_row1_col1\" class=\"data row1 col1\" >1.13e+04 K</td>\n",
       "      <td id=\"T_4ab15_row1_col2\" class=\"data row1 col2\" >0.181</td>\n",
       "      <td id=\"T_4ab15_row1_col3\" class=\"data row1 col3\" >0.225</td>\n",
       "    </tr>\n",
       "    <tr>\n",
       "      <th id=\"T_4ab15_level0_row2\" class=\"row_heading level0 row2\" >10</th>\n",
       "      <td id=\"T_4ab15_row2_col0\" class=\"data row2 col0\" >1.05e+04 K</td>\n",
       "      <td id=\"T_4ab15_row2_col1\" class=\"data row2 col1\" >1.12e+04 K</td>\n",
       "      <td id=\"T_4ab15_row2_col2\" class=\"data row2 col2\" >0.108</td>\n",
       "      <td id=\"T_4ab15_row2_col3\" class=\"data row2 col3\" >0.126</td>\n",
       "    </tr>\n",
       "    <tr>\n",
       "      <th id=\"T_4ab15_level0_row3\" class=\"row_heading level0 row3\" >15</th>\n",
       "      <td id=\"T_4ab15_row3_col0\" class=\"data row3 col0\" >1.03e+04 K</td>\n",
       "      <td id=\"T_4ab15_row3_col1\" class=\"data row3 col1\" >1.1e+04 K</td>\n",
       "      <td id=\"T_4ab15_row3_col2\" class=\"data row3 col2\" >0.0779</td>\n",
       "      <td id=\"T_4ab15_row3_col3\" class=\"data row3 col3\" >0.0926</td>\n",
       "    </tr>\n",
       "  </tbody>\n",
       "</table>\n"
      ],
      "text/plain": [
       "<pandas.io.formats.style.Styler at 0x7fd14d880f20>"
      ]
     },
     "metadata": {},
     "output_type": "display_data"
    },
    {
     "name": "stdout",
     "output_type": "stream",
     "text": [
      "[\u001b[1mtardis.simulation.base\u001b[0m][\u001b[1;37mINFO\u001b[0m   ]  \n",
      "\t\n",
      "\tCurrent t_inner = 11245.497 K\n",
      "\tExpected t_inner for next iteration = 10153.431 K\n",
      " (\u001b[1mbase.py\u001b[0m:656)\n"
     ]
    },
    {
     "name": "stdout",
     "output_type": "stream",
     "text": [
      "[\u001b[1mtardis.plasma.base  \u001b[0m][\u001b[1;34mDEBUG\u001b[0m  ]  Updating modules in the following order:TRadiative->DilutionFactor->BetaRadiation->ElectronTemperature->GElectron->LevelBoltzmannFactorLTE->LevelBoltzmannFactorNoNLTE->PartitionFunction->PhiSahaLTE->IonNumberDensity->LevelNumberDensity->StimulatedEmissionFactor->TauSobolev->BetaSobolev->TransitionProbabilities (\u001b[1mbase.py\u001b[0m:272)\n"
     ]
    },
    {
     "name": "stdout",
     "output_type": "stream",
     "text": [
      "[\u001b[1mtardis.simulation.base\u001b[0m][\u001b[1;37mINFO\u001b[0m   ]  \n",
      "\t\n",
      "\tSimulation finished in 4 iterations \n",
      "\tSimulation took 0.42 s\n",
      " (\u001b[1mbase.py\u001b[0m:546)\n"
     ]
    },
    {
     "name": "stdout",
     "output_type": "stream",
     "text": [
      "[\u001b[1mtardis.simulation.base\u001b[0m][\u001b[1;37mINFO\u001b[0m   ]  \n",
      "\t\n",
      "\tStarting iteration 5 of 5 (\u001b[1mbase.py\u001b[0m:448)\n"
     ]
    },
    {
     "name": "stdout",
     "output_type": "stream",
     "text": [
      "[\u001b[1mtardis.simulation.base\u001b[0m][\u001b[1;37mINFO\u001b[0m   ]  \n",
      "\t\n",
      "\tLuminosity emitted   = 8.742e+42 erg / s\n",
      "\tLuminosity absorbed  = 2.834e+42 erg / s\n",
      "\tLuminosity requested = 1.059e+43 erg / s\n",
      " (\u001b[1mbase.py\u001b[0m:661)\n"
     ]
    }
   ],
   "source": [
    "sim = run_tardis(config,show_cplots=False)"
   ]
  },
  {
   "cell_type": "markdown",
   "id": "5e8f1dbe",
   "metadata": {},
   "source": [
    "### What Happens When Both Parameters Are Specified? { Function & YAML Arguments }"
   ]
  },
  {
   "cell_type": "markdown",
   "id": "f32403c7",
   "metadata": {},
   "source": [
    "If a user specifies both the parameters passed through the `log_level` & `log_level` in the **YAML** configuration file, then the `log_level` parameter *(Functional Argument)* takes precedence & is used to determine the logging level for the simulation logs."
   ]
  },
  {
   "cell_type": "markdown",
   "id": "f2a24e11",
   "metadata": {},
   "source": [
    "Let us consider the following example for the configuration:"
   ]
  },
  {
   "cell_type": "markdown",
   "id": "863042a4",
   "metadata": {},
   "source": [
    "Continuing from the previous example, the `config[\"debug\"][\"log_level\"]` is set to `Debug` via the **YAML** file. The user will also set the `log_level` {Functional Argument} to `Info`."
   ]
  },
  {
   "cell_type": "code",
   "execution_count": 15,
   "id": "30763e52",
   "metadata": {
    "execution": {
     "iopub.execute_input": "2024-11-18T15:11:19.103363Z",
     "iopub.status.busy": "2024-11-18T15:11:19.102820Z",
     "iopub.status.idle": "2024-11-18T15:11:20.361743Z",
     "shell.execute_reply": "2024-11-18T15:11:20.361207Z"
    },
    "scrolled": false
   },
   "outputs": [
    {
     "name": "stdout",
     "output_type": "stream",
     "text": [
      "log_level is defined both in Functional Argument & YAML Configuration {debug section}\n",
      "log_level = INFO will be used for Log Level Determination\n",
      "\n",
      "[\u001b[1mtardis.io.model.parse_atom_data\u001b[0m][\u001b[1;37mINFO\u001b[0m   ]  \n",
      "\t\n",
      "\tReading Atomic Data from kurucz_cd23_chianti_H_He.h5 (\u001b[1mparse_atom_data.py\u001b[0m:40)\n"
     ]
    },
    {
     "name": "stdout",
     "output_type": "stream",
     "text": [
      "[\u001b[1mtardis.io.atom_data.util\u001b[0m][\u001b[1;37mINFO\u001b[0m   ]  \n",
      "\t\n",
      "\tAtom Data kurucz_cd23_chianti_H_He.h5 not found in local path.\n",
      "\tExists in TARDIS Data repo /home/runner/Downloads/tardis-data/kurucz_cd23_chianti_H_He.h5 (\u001b[1mutil.py\u001b[0m:34)\n"
     ]
    },
    {
     "name": "stdout",
     "output_type": "stream",
     "text": [
      "[\u001b[1mtardis.io.atom_data.base\u001b[0m][\u001b[1;37mINFO\u001b[0m   ]  \n",
      "\tReading Atom Data with: UUID = 6f7b09e887a311e7a06b246e96350010 MD5  = 864f1753714343c41f99cb065710cace  (\u001b[1mbase.py\u001b[0m:262)\n"
     ]
    },
    {
     "name": "stdout",
     "output_type": "stream",
     "text": [
      "[\u001b[1mtardis.io.atom_data.base\u001b[0m][\u001b[1;37mINFO\u001b[0m   ]  \n",
      "\tNon provided Atomic Data: synpp_refs, photoionization_data, yg_data, two_photon_data, linelist_atoms, linelist_molecules (\u001b[1mbase.py\u001b[0m:266)\n"
     ]
    },
    {
     "name": "stdout",
     "output_type": "stream",
     "text": [
      "[\u001b[1mtardis.io.model.parse_density_configuration\u001b[0m][\u001b[1;33mWARNING\u001b[0m]  \n",
      "\tNumber of density points larger than number of shells. Assuming inner point irrelevant (\u001b[1mparse_density_configuration.py\u001b[0m:114)\n"
     ]
    },
    {
     "name": "stdout",
     "output_type": "stream",
     "text": [
      "[\u001b[1mtardis.model.matter.decay\u001b[0m][\u001b[1;37mINFO\u001b[0m   ]  \n",
      "\tDecaying abundances for 1123200.0 seconds (\u001b[1mdecay.py\u001b[0m:101)\n"
     ]
    },
    {
     "name": "stdout",
     "output_type": "stream",
     "text": [
      "[\u001b[1mtardis.simulation.base\u001b[0m][\u001b[1;37mINFO\u001b[0m   ]  \n",
      "\t\n",
      "\tStarting iteration 1 of 5 (\u001b[1mbase.py\u001b[0m:448)\n"
     ]
    },
    {
     "data": {
      "application/vnd.jupyter.widget-view+json": {
       "model_id": "eb529aa2a5dd4d419392f63559596b84",
       "version_major": 2,
       "version_minor": 0
      },
      "text/plain": [
       "TqdmHBox(children=(HTML(value='Iterations:', layout=Layout(width='6%')), FloatProgress(value=0.0, layout=Layou…"
      ]
     },
     "metadata": {},
     "output_type": "display_data"
    },
    {
     "data": {
      "application/vnd.jupyter.widget-view+json": {
       "model_id": "4bf68927beb2463a82bc2ac845efe1d4",
       "version_major": 2,
       "version_minor": 0
      },
      "text/plain": [
       "TqdmHBox(children=(HTML(value='Packets:\\u2007\\u2007\\u2007', layout=Layout(width='6%')), FloatProgress(value=0.…"
      ]
     },
     "metadata": {},
     "output_type": "display_data"
    },
    {
     "name": "stdout",
     "output_type": "stream",
     "text": [
      "[\u001b[1mtardis.simulation.base\u001b[0m][\u001b[1;37mINFO\u001b[0m   ]  \n",
      "\t\n",
      "\tLuminosity emitted   = 7.947e+42 erg / s\n",
      "\tLuminosity absorbed  = 2.654e+42 erg / s\n",
      "\tLuminosity requested = 1.059e+43 erg / s\n",
      " (\u001b[1mbase.py\u001b[0m:661)\n"
     ]
    },
    {
     "name": "stdout",
     "output_type": "stream",
     "text": [
      "[\u001b[1mtardis.simulation.base\u001b[0m][\u001b[1;37mINFO\u001b[0m   ]  \n",
      "\t\n",
      "\tPlasma stratification: (\u001b[1mbase.py\u001b[0m:629)\n"
     ]
    },
    {
     "data": {
      "text/html": [
       "<style type=\"text/css\">\n",
       "</style>\n",
       "<table id=\"T_dbfa1\">\n",
       "  <thead>\n",
       "    <tr>\n",
       "      <th class=\"index_name level0\" >Shell No.</th>\n",
       "      <th id=\"T_dbfa1_level0_col0\" class=\"col_heading level0 col0\" >t_rad</th>\n",
       "      <th id=\"T_dbfa1_level0_col1\" class=\"col_heading level0 col1\" >next_t_rad</th>\n",
       "      <th id=\"T_dbfa1_level0_col2\" class=\"col_heading level0 col2\" >w</th>\n",
       "      <th id=\"T_dbfa1_level0_col3\" class=\"col_heading level0 col3\" >next_w</th>\n",
       "    </tr>\n",
       "  </thead>\n",
       "  <tbody>\n",
       "    <tr>\n",
       "      <th id=\"T_dbfa1_level0_row0\" class=\"row_heading level0 row0\" >0</th>\n",
       "      <td id=\"T_dbfa1_row0_col0\" class=\"data row0 col0\" >9.93e+03 K</td>\n",
       "      <td id=\"T_dbfa1_row0_col1\" class=\"data row0 col1\" >1.03e+04 K</td>\n",
       "      <td id=\"T_dbfa1_row0_col2\" class=\"data row0 col2\" >0.4</td>\n",
       "      <td id=\"T_dbfa1_row0_col3\" class=\"data row0 col3\" >0.481</td>\n",
       "    </tr>\n",
       "    <tr>\n",
       "      <th id=\"T_dbfa1_level0_row1\" class=\"row_heading level0 row1\" >5</th>\n",
       "      <td id=\"T_dbfa1_row1_col0\" class=\"data row1 col0\" >9.85e+03 K</td>\n",
       "      <td id=\"T_dbfa1_row1_col1\" class=\"data row1 col1\" >1.03e+04 K</td>\n",
       "      <td id=\"T_dbfa1_row1_col2\" class=\"data row1 col2\" >0.211</td>\n",
       "      <td id=\"T_dbfa1_row1_col3\" class=\"data row1 col3\" >0.193</td>\n",
       "    </tr>\n",
       "    <tr>\n",
       "      <th id=\"T_dbfa1_level0_row2\" class=\"row_heading level0 row2\" >10</th>\n",
       "      <td id=\"T_dbfa1_row2_col0\" class=\"data row2 col0\" >9.78e+03 K</td>\n",
       "      <td id=\"T_dbfa1_row2_col1\" class=\"data row2 col1\" >1.02e+04 K</td>\n",
       "      <td id=\"T_dbfa1_row2_col2\" class=\"data row2 col2\" >0.143</td>\n",
       "      <td id=\"T_dbfa1_row2_col3\" class=\"data row2 col3\" >0.112</td>\n",
       "    </tr>\n",
       "    <tr>\n",
       "      <th id=\"T_dbfa1_level0_row3\" class=\"row_heading level0 row3\" >15</th>\n",
       "      <td id=\"T_dbfa1_row3_col0\" class=\"data row3 col0\" >9.71e+03 K</td>\n",
       "      <td id=\"T_dbfa1_row3_col1\" class=\"data row3 col1\" >9.98e+03 K</td>\n",
       "      <td id=\"T_dbfa1_row3_col2\" class=\"data row3 col2\" >0.105</td>\n",
       "      <td id=\"T_dbfa1_row3_col3\" class=\"data row3 col3\" >0.0826</td>\n",
       "    </tr>\n",
       "  </tbody>\n",
       "</table>\n"
      ],
      "text/plain": [
       "<pandas.io.formats.style.Styler at 0x7fd155fed100>"
      ]
     },
     "metadata": {},
     "output_type": "display_data"
    },
    {
     "name": "stdout",
     "output_type": "stream",
     "text": [
      "[\u001b[1mtardis.simulation.base\u001b[0m][\u001b[1;37mINFO\u001b[0m   ]  \n",
      "\t\n",
      "\tCurrent t_inner = 9933.952 K\n",
      "\tExpected t_inner for next iteration = 11468.808 K\n",
      " (\u001b[1mbase.py\u001b[0m:656)\n"
     ]
    },
    {
     "name": "stdout",
     "output_type": "stream",
     "text": [
      "[\u001b[1mtardis.simulation.base\u001b[0m][\u001b[1;37mINFO\u001b[0m   ]  \n",
      "\t\n",
      "\tStarting iteration 2 of 5 (\u001b[1mbase.py\u001b[0m:448)\n"
     ]
    },
    {
     "name": "stdout",
     "output_type": "stream",
     "text": [
      "[\u001b[1mtardis.simulation.base\u001b[0m][\u001b[1;37mINFO\u001b[0m   ]  \n",
      "\t\n",
      "\tLuminosity emitted   = 1.413e+43 erg / s\n",
      "\tLuminosity absorbed  = 4.704e+42 erg / s\n",
      "\tLuminosity requested = 1.059e+43 erg / s\n",
      " (\u001b[1mbase.py\u001b[0m:661)\n"
     ]
    },
    {
     "name": "stdout",
     "output_type": "stream",
     "text": [
      "[\u001b[1mtardis.simulation.base\u001b[0m][\u001b[1;37mINFO\u001b[0m   ]  \n",
      "\t\n",
      "\tPlasma stratification: (\u001b[1mbase.py\u001b[0m:629)\n"
     ]
    },
    {
     "data": {
      "text/html": [
       "<style type=\"text/css\">\n",
       "</style>\n",
       "<table id=\"T_8b99d\">\n",
       "  <thead>\n",
       "    <tr>\n",
       "      <th class=\"index_name level0\" >Shell No.</th>\n",
       "      <th id=\"T_8b99d_level0_col0\" class=\"col_heading level0 col0\" >t_rad</th>\n",
       "      <th id=\"T_8b99d_level0_col1\" class=\"col_heading level0 col1\" >next_t_rad</th>\n",
       "      <th id=\"T_8b99d_level0_col2\" class=\"col_heading level0 col2\" >w</th>\n",
       "      <th id=\"T_8b99d_level0_col3\" class=\"col_heading level0 col3\" >next_w</th>\n",
       "    </tr>\n",
       "  </thead>\n",
       "  <tbody>\n",
       "    <tr>\n",
       "      <th id=\"T_8b99d_level0_row0\" class=\"row_heading level0 row0\" >0</th>\n",
       "      <td id=\"T_8b99d_row0_col0\" class=\"data row0 col0\" >1.03e+04 K</td>\n",
       "      <td id=\"T_8b99d_row0_col1\" class=\"data row0 col1\" >1.15e+04 K</td>\n",
       "      <td id=\"T_8b99d_row0_col2\" class=\"data row0 col2\" >0.481</td>\n",
       "      <td id=\"T_8b99d_row0_col3\" class=\"data row0 col3\" >0.555</td>\n",
       "    </tr>\n",
       "    <tr>\n",
       "      <th id=\"T_8b99d_level0_row1\" class=\"row_heading level0 row1\" >5</th>\n",
       "      <td id=\"T_8b99d_row1_col0\" class=\"data row1 col0\" >1.03e+04 K</td>\n",
       "      <td id=\"T_8b99d_row1_col1\" class=\"data row1 col1\" >1.17e+04 K</td>\n",
       "      <td id=\"T_8b99d_row1_col2\" class=\"data row1 col2\" >0.193</td>\n",
       "      <td id=\"T_8b99d_row1_col3\" class=\"data row1 col3\" >0.203</td>\n",
       "    </tr>\n",
       "    <tr>\n",
       "      <th id=\"T_8b99d_level0_row2\" class=\"row_heading level0 row2\" >10</th>\n",
       "      <td id=\"T_8b99d_row2_col0\" class=\"data row2 col0\" >1.02e+04 K</td>\n",
       "      <td id=\"T_8b99d_row2_col1\" class=\"data row2 col1\" >1.13e+04 K</td>\n",
       "      <td id=\"T_8b99d_row2_col2\" class=\"data row2 col2\" >0.112</td>\n",
       "      <td id=\"T_8b99d_row2_col3\" class=\"data row2 col3\" >0.135</td>\n",
       "    </tr>\n",
       "    <tr>\n",
       "      <th id=\"T_8b99d_level0_row3\" class=\"row_heading level0 row3\" >15</th>\n",
       "      <td id=\"T_8b99d_row3_col0\" class=\"data row3 col0\" >9.98e+03 K</td>\n",
       "      <td id=\"T_8b99d_row3_col1\" class=\"data row3 col1\" >1.1e+04 K</td>\n",
       "      <td id=\"T_8b99d_row3_col2\" class=\"data row3 col2\" >0.0826</td>\n",
       "      <td id=\"T_8b99d_row3_col3\" class=\"data row3 col3\" >0.0998</td>\n",
       "    </tr>\n",
       "  </tbody>\n",
       "</table>\n"
      ],
      "text/plain": [
       "<pandas.io.formats.style.Styler at 0x7fd178ce2fc0>"
      ]
     },
     "metadata": {},
     "output_type": "display_data"
    },
    {
     "name": "stdout",
     "output_type": "stream",
     "text": [
      "[\u001b[1mtardis.simulation.base\u001b[0m][\u001b[1;37mINFO\u001b[0m   ]  \n",
      "\t\n",
      "\tCurrent t_inner = 11468.808 K\n",
      "\tExpected t_inner for next iteration = 9929.475 K\n",
      " (\u001b[1mbase.py\u001b[0m:656)\n"
     ]
    },
    {
     "name": "stdout",
     "output_type": "stream",
     "text": [
      "[\u001b[1mtardis.simulation.base\u001b[0m][\u001b[1;37mINFO\u001b[0m   ]  \n",
      "\t\n",
      "\tStarting iteration 3 of 5 (\u001b[1mbase.py\u001b[0m:448)\n"
     ]
    },
    {
     "name": "stdout",
     "output_type": "stream",
     "text": [
      "[\u001b[1mtardis.simulation.base\u001b[0m][\u001b[1;37mINFO\u001b[0m   ]  \n",
      "\t\n",
      "\tLuminosity emitted   = 8.259e+42 erg / s\n",
      "\tLuminosity absorbed  = 2.337e+42 erg / s\n",
      "\tLuminosity requested = 1.059e+43 erg / s\n",
      " (\u001b[1mbase.py\u001b[0m:661)\n"
     ]
    },
    {
     "name": "stdout",
     "output_type": "stream",
     "text": [
      "[\u001b[1mtardis.simulation.base\u001b[0m][\u001b[1;37mINFO\u001b[0m   ]  \n",
      "\t\n",
      "\tPlasma stratification: (\u001b[1mbase.py\u001b[0m:629)\n"
     ]
    },
    {
     "data": {
      "text/html": [
       "<style type=\"text/css\">\n",
       "</style>\n",
       "<table id=\"T_c5255\">\n",
       "  <thead>\n",
       "    <tr>\n",
       "      <th class=\"index_name level0\" >Shell No.</th>\n",
       "      <th id=\"T_c5255_level0_col0\" class=\"col_heading level0 col0\" >t_rad</th>\n",
       "      <th id=\"T_c5255_level0_col1\" class=\"col_heading level0 col1\" >next_t_rad</th>\n",
       "      <th id=\"T_c5255_level0_col2\" class=\"col_heading level0 col2\" >w</th>\n",
       "      <th id=\"T_c5255_level0_col3\" class=\"col_heading level0 col3\" >next_w</th>\n",
       "    </tr>\n",
       "  </thead>\n",
       "  <tbody>\n",
       "    <tr>\n",
       "      <th id=\"T_c5255_level0_row0\" class=\"row_heading level0 row0\" >0</th>\n",
       "      <td id=\"T_c5255_row0_col0\" class=\"data row0 col0\" >1.15e+04 K</td>\n",
       "      <td id=\"T_c5255_row0_col1\" class=\"data row0 col1\" >1.03e+04 K</td>\n",
       "      <td id=\"T_c5255_row0_col2\" class=\"data row0 col2\" >0.555</td>\n",
       "      <td id=\"T_c5255_row0_col3\" class=\"data row0 col3\" >0.468</td>\n",
       "    </tr>\n",
       "    <tr>\n",
       "      <th id=\"T_c5255_level0_row1\" class=\"row_heading level0 row1\" >5</th>\n",
       "      <td id=\"T_c5255_row1_col0\" class=\"data row1 col0\" >1.17e+04 K</td>\n",
       "      <td id=\"T_c5255_row1_col1\" class=\"data row1 col1\" >1.05e+04 K</td>\n",
       "      <td id=\"T_c5255_row1_col2\" class=\"data row1 col2\" >0.203</td>\n",
       "      <td id=\"T_c5255_row1_col3\" class=\"data row1 col3\" >0.181</td>\n",
       "    </tr>\n",
       "    <tr>\n",
       "      <th id=\"T_c5255_level0_row2\" class=\"row_heading level0 row2\" >10</th>\n",
       "      <td id=\"T_c5255_row2_col0\" class=\"data row2 col0\" >1.13e+04 K</td>\n",
       "      <td id=\"T_c5255_row2_col1\" class=\"data row2 col1\" >1.05e+04 K</td>\n",
       "      <td id=\"T_c5255_row2_col2\" class=\"data row2 col2\" >0.135</td>\n",
       "      <td id=\"T_c5255_row2_col3\" class=\"data row2 col3\" >0.108</td>\n",
       "    </tr>\n",
       "    <tr>\n",
       "      <th id=\"T_c5255_level0_row3\" class=\"row_heading level0 row3\" >15</th>\n",
       "      <td id=\"T_c5255_row3_col0\" class=\"data row3 col0\" >1.1e+04 K</td>\n",
       "      <td id=\"T_c5255_row3_col1\" class=\"data row3 col1\" >1.03e+04 K</td>\n",
       "      <td id=\"T_c5255_row3_col2\" class=\"data row3 col2\" >0.0998</td>\n",
       "      <td id=\"T_c5255_row3_col3\" class=\"data row3 col3\" >0.0779</td>\n",
       "    </tr>\n",
       "  </tbody>\n",
       "</table>\n"
      ],
      "text/plain": [
       "<pandas.io.formats.style.Styler at 0x7fd15532c650>"
      ]
     },
     "metadata": {},
     "output_type": "display_data"
    },
    {
     "name": "stdout",
     "output_type": "stream",
     "text": [
      "[\u001b[1mtardis.simulation.base\u001b[0m][\u001b[1;37mINFO\u001b[0m   ]  \n",
      "\t\n",
      "\tCurrent t_inner = 9929.475 K\n",
      "\tExpected t_inner for next iteration = 11245.497 K\n",
      " (\u001b[1mbase.py\u001b[0m:656)\n"
     ]
    },
    {
     "name": "stdout",
     "output_type": "stream",
     "text": [
      "[\u001b[1mtardis.simulation.base\u001b[0m][\u001b[1;37mINFO\u001b[0m   ]  \n",
      "\t\n",
      "\tStarting iteration 4 of 5 (\u001b[1mbase.py\u001b[0m:448)\n"
     ]
    },
    {
     "name": "stdout",
     "output_type": "stream",
     "text": [
      "[\u001b[1mtardis.simulation.base\u001b[0m][\u001b[1;37mINFO\u001b[0m   ]  \n",
      "\t\n",
      "\tLuminosity emitted   = 1.299e+43 erg / s\n",
      "\tLuminosity absorbed  = 4.407e+42 erg / s\n",
      "\tLuminosity requested = 1.059e+43 erg / s\n",
      " (\u001b[1mbase.py\u001b[0m:661)\n"
     ]
    },
    {
     "name": "stdout",
     "output_type": "stream",
     "text": [
      "[\u001b[1mtardis.simulation.base\u001b[0m][\u001b[1;37mINFO\u001b[0m   ]  \n",
      "\t\n",
      "\tPlasma stratification: (\u001b[1mbase.py\u001b[0m:629)\n"
     ]
    },
    {
     "data": {
      "text/html": [
       "<style type=\"text/css\">\n",
       "</style>\n",
       "<table id=\"T_0e486\">\n",
       "  <thead>\n",
       "    <tr>\n",
       "      <th class=\"index_name level0\" >Shell No.</th>\n",
       "      <th id=\"T_0e486_level0_col0\" class=\"col_heading level0 col0\" >t_rad</th>\n",
       "      <th id=\"T_0e486_level0_col1\" class=\"col_heading level0 col1\" >next_t_rad</th>\n",
       "      <th id=\"T_0e486_level0_col2\" class=\"col_heading level0 col2\" >w</th>\n",
       "      <th id=\"T_0e486_level0_col3\" class=\"col_heading level0 col3\" >next_w</th>\n",
       "    </tr>\n",
       "  </thead>\n",
       "  <tbody>\n",
       "    <tr>\n",
       "      <th id=\"T_0e486_level0_row0\" class=\"row_heading level0 row0\" >0</th>\n",
       "      <td id=\"T_0e486_row0_col0\" class=\"data row0 col0\" >1.03e+04 K</td>\n",
       "      <td id=\"T_0e486_row0_col1\" class=\"data row0 col1\" >1.14e+04 K</td>\n",
       "      <td id=\"T_0e486_row0_col2\" class=\"data row0 col2\" >0.468</td>\n",
       "      <td id=\"T_0e486_row0_col3\" class=\"data row0 col3\" >0.527</td>\n",
       "    </tr>\n",
       "    <tr>\n",
       "      <th id=\"T_0e486_level0_row1\" class=\"row_heading level0 row1\" >5</th>\n",
       "      <td id=\"T_0e486_row1_col0\" class=\"data row1 col0\" >1.05e+04 K</td>\n",
       "      <td id=\"T_0e486_row1_col1\" class=\"data row1 col1\" >1.13e+04 K</td>\n",
       "      <td id=\"T_0e486_row1_col2\" class=\"data row1 col2\" >0.181</td>\n",
       "      <td id=\"T_0e486_row1_col3\" class=\"data row1 col3\" >0.225</td>\n",
       "    </tr>\n",
       "    <tr>\n",
       "      <th id=\"T_0e486_level0_row2\" class=\"row_heading level0 row2\" >10</th>\n",
       "      <td id=\"T_0e486_row2_col0\" class=\"data row2 col0\" >1.05e+04 K</td>\n",
       "      <td id=\"T_0e486_row2_col1\" class=\"data row2 col1\" >1.12e+04 K</td>\n",
       "      <td id=\"T_0e486_row2_col2\" class=\"data row2 col2\" >0.108</td>\n",
       "      <td id=\"T_0e486_row2_col3\" class=\"data row2 col3\" >0.126</td>\n",
       "    </tr>\n",
       "    <tr>\n",
       "      <th id=\"T_0e486_level0_row3\" class=\"row_heading level0 row3\" >15</th>\n",
       "      <td id=\"T_0e486_row3_col0\" class=\"data row3 col0\" >1.03e+04 K</td>\n",
       "      <td id=\"T_0e486_row3_col1\" class=\"data row3 col1\" >1.1e+04 K</td>\n",
       "      <td id=\"T_0e486_row3_col2\" class=\"data row3 col2\" >0.0779</td>\n",
       "      <td id=\"T_0e486_row3_col3\" class=\"data row3 col3\" >0.0926</td>\n",
       "    </tr>\n",
       "  </tbody>\n",
       "</table>\n"
      ],
      "text/plain": [
       "<pandas.io.formats.style.Styler at 0x7fd1628742f0>"
      ]
     },
     "metadata": {},
     "output_type": "display_data"
    },
    {
     "name": "stdout",
     "output_type": "stream",
     "text": [
      "[\u001b[1mtardis.simulation.base\u001b[0m][\u001b[1;37mINFO\u001b[0m   ]  \n",
      "\t\n",
      "\tCurrent t_inner = 11245.497 K\n",
      "\tExpected t_inner for next iteration = 10153.431 K\n",
      " (\u001b[1mbase.py\u001b[0m:656)\n"
     ]
    },
    {
     "name": "stdout",
     "output_type": "stream",
     "text": [
      "[\u001b[1mtardis.simulation.base\u001b[0m][\u001b[1;37mINFO\u001b[0m   ]  \n",
      "\t\n",
      "\tSimulation finished in 4 iterations \n",
      "\tSimulation took 0.41 s\n",
      " (\u001b[1mbase.py\u001b[0m:546)\n"
     ]
    },
    {
     "name": "stdout",
     "output_type": "stream",
     "text": [
      "[\u001b[1mtardis.simulation.base\u001b[0m][\u001b[1;37mINFO\u001b[0m   ]  \n",
      "\t\n",
      "\tStarting iteration 5 of 5 (\u001b[1mbase.py\u001b[0m:448)\n"
     ]
    },
    {
     "name": "stdout",
     "output_type": "stream",
     "text": [
      "[\u001b[1mtardis.simulation.base\u001b[0m][\u001b[1;37mINFO\u001b[0m   ]  \n",
      "\t\n",
      "\tLuminosity emitted   = 8.742e+42 erg / s\n",
      "\tLuminosity absorbed  = 2.834e+42 erg / s\n",
      "\tLuminosity requested = 1.059e+43 erg / s\n",
      " (\u001b[1mbase.py\u001b[0m:661)\n"
     ]
    }
   ],
   "source": [
    "sim = run_tardis(config, log_level=\"Info\")"
   ]
  },
  {
   "cell_type": "markdown",
   "id": "674f4972",
   "metadata": {},
   "source": [
    "A new message can be seen from the execution of the simulation,\n",
    "```\n",
    "log_level is defined both in Functional Argument & YAML Configuration {debug section}\n",
    "log_level = Info will be used for Log Level Determination\n",
    "```\n",
    "that is informing the user which input log level value will determine the logging level. Thus, `log_level = \"Info\"` is used for logging the simulation output."
   ]
  },
  {
   "cell_type": "markdown",
   "id": "9ff806bd",
   "metadata": {},
   "source": [
    "In regards to the `specific_log_level` parameter, if any of the config input value is `True`, then `specific_log_level` will be set to `True` for the simulation output."
   ]
  },
  {
   "cell_type": "code",
   "execution_count": 16,
   "id": "5d1900f5",
   "metadata": {
    "execution": {
     "iopub.execute_input": "2024-11-18T15:11:20.364221Z",
     "iopub.status.busy": "2024-11-18T15:11:20.363812Z",
     "iopub.status.idle": "2024-11-18T15:11:21.640295Z",
     "shell.execute_reply": "2024-11-18T15:11:21.639718Z"
    },
    "scrolled": false
   },
   "outputs": [
    {
     "name": "stdout",
     "output_type": "stream",
     "text": [
      "log_level is defined both in Functional Argument & YAML Configuration {debug section}\n",
      "log_level = INFO will be used for Log Level Determination\n",
      "\n",
      "[\u001b[1mtardis.io.model.parse_atom_data\u001b[0m][\u001b[1;37mINFO\u001b[0m   ]  \n",
      "\t\n",
      "\tReading Atomic Data from kurucz_cd23_chianti_H_He.h5 (\u001b[1mparse_atom_data.py\u001b[0m:40)\n"
     ]
    },
    {
     "name": "stdout",
     "output_type": "stream",
     "text": [
      "[\u001b[1mtardis.io.atom_data.util\u001b[0m][\u001b[1;37mINFO\u001b[0m   ]  \n",
      "\t\n",
      "\tAtom Data kurucz_cd23_chianti_H_He.h5 not found in local path.\n",
      "\tExists in TARDIS Data repo /home/runner/Downloads/tardis-data/kurucz_cd23_chianti_H_He.h5 (\u001b[1mutil.py\u001b[0m:34)\n"
     ]
    },
    {
     "name": "stdout",
     "output_type": "stream",
     "text": [
      "[\u001b[1mtardis.io.atom_data.base\u001b[0m][\u001b[1;37mINFO\u001b[0m   ]  \n",
      "\tReading Atom Data with: UUID = 6f7b09e887a311e7a06b246e96350010 MD5  = 864f1753714343c41f99cb065710cace  (\u001b[1mbase.py\u001b[0m:262)\n"
     ]
    },
    {
     "name": "stdout",
     "output_type": "stream",
     "text": [
      "[\u001b[1mtardis.io.atom_data.base\u001b[0m][\u001b[1;37mINFO\u001b[0m   ]  \n",
      "\tNon provided Atomic Data: synpp_refs, photoionization_data, yg_data, two_photon_data, linelist_atoms, linelist_molecules (\u001b[1mbase.py\u001b[0m:266)\n"
     ]
    },
    {
     "name": "stdout",
     "output_type": "stream",
     "text": [
      "[\u001b[1mtardis.io.model.parse_density_configuration\u001b[0m][\u001b[1;33mWARNING\u001b[0m]  \n",
      "\tNumber of density points larger than number of shells. Assuming inner point irrelevant (\u001b[1mparse_density_configuration.py\u001b[0m:114)\n"
     ]
    },
    {
     "name": "stdout",
     "output_type": "stream",
     "text": [
      "[\u001b[1mtardis.model.matter.decay\u001b[0m][\u001b[1;37mINFO\u001b[0m   ]  \n",
      "\tDecaying abundances for 1123200.0 seconds (\u001b[1mdecay.py\u001b[0m:101)\n"
     ]
    },
    {
     "name": "stdout",
     "output_type": "stream",
     "text": [
      "[\u001b[1mtardis.simulation.base\u001b[0m][\u001b[1;37mINFO\u001b[0m   ]  \n",
      "\t\n",
      "\tStarting iteration 1 of 5 (\u001b[1mbase.py\u001b[0m:448)\n"
     ]
    },
    {
     "data": {
      "application/vnd.jupyter.widget-view+json": {
       "model_id": "02caa08eb2f54bc1b0c3ef286b13302f",
       "version_major": 2,
       "version_minor": 0
      },
      "text/plain": [
       "TqdmHBox(children=(HTML(value='Iterations:', layout=Layout(width='6%')), FloatProgress(value=0.0, layout=Layou…"
      ]
     },
     "metadata": {},
     "output_type": "display_data"
    },
    {
     "data": {
      "application/vnd.jupyter.widget-view+json": {
       "model_id": "c62c23b243f9406da80033776f4b555c",
       "version_major": 2,
       "version_minor": 0
      },
      "text/plain": [
       "TqdmHBox(children=(HTML(value='Packets:\\u2007\\u2007\\u2007', layout=Layout(width='6%')), FloatProgress(value=0.…"
      ]
     },
     "metadata": {},
     "output_type": "display_data"
    },
    {
     "name": "stdout",
     "output_type": "stream",
     "text": [
      "[\u001b[1mtardis.simulation.base\u001b[0m][\u001b[1;37mINFO\u001b[0m   ]  \n",
      "\t\n",
      "\tLuminosity emitted   = 7.947e+42 erg / s\n",
      "\tLuminosity absorbed  = 2.654e+42 erg / s\n",
      "\tLuminosity requested = 1.059e+43 erg / s\n",
      " (\u001b[1mbase.py\u001b[0m:661)\n"
     ]
    },
    {
     "name": "stdout",
     "output_type": "stream",
     "text": [
      "[\u001b[1mtardis.simulation.base\u001b[0m][\u001b[1;37mINFO\u001b[0m   ]  \n",
      "\t\n",
      "\tPlasma stratification: (\u001b[1mbase.py\u001b[0m:629)\n"
     ]
    },
    {
     "data": {
      "text/html": [
       "<style type=\"text/css\">\n",
       "</style>\n",
       "<table id=\"T_59267\">\n",
       "  <thead>\n",
       "    <tr>\n",
       "      <th class=\"index_name level0\" >Shell No.</th>\n",
       "      <th id=\"T_59267_level0_col0\" class=\"col_heading level0 col0\" >t_rad</th>\n",
       "      <th id=\"T_59267_level0_col1\" class=\"col_heading level0 col1\" >next_t_rad</th>\n",
       "      <th id=\"T_59267_level0_col2\" class=\"col_heading level0 col2\" >w</th>\n",
       "      <th id=\"T_59267_level0_col3\" class=\"col_heading level0 col3\" >next_w</th>\n",
       "    </tr>\n",
       "  </thead>\n",
       "  <tbody>\n",
       "    <tr>\n",
       "      <th id=\"T_59267_level0_row0\" class=\"row_heading level0 row0\" >0</th>\n",
       "      <td id=\"T_59267_row0_col0\" class=\"data row0 col0\" >9.93e+03 K</td>\n",
       "      <td id=\"T_59267_row0_col1\" class=\"data row0 col1\" >1.03e+04 K</td>\n",
       "      <td id=\"T_59267_row0_col2\" class=\"data row0 col2\" >0.4</td>\n",
       "      <td id=\"T_59267_row0_col3\" class=\"data row0 col3\" >0.481</td>\n",
       "    </tr>\n",
       "    <tr>\n",
       "      <th id=\"T_59267_level0_row1\" class=\"row_heading level0 row1\" >5</th>\n",
       "      <td id=\"T_59267_row1_col0\" class=\"data row1 col0\" >9.85e+03 K</td>\n",
       "      <td id=\"T_59267_row1_col1\" class=\"data row1 col1\" >1.03e+04 K</td>\n",
       "      <td id=\"T_59267_row1_col2\" class=\"data row1 col2\" >0.211</td>\n",
       "      <td id=\"T_59267_row1_col3\" class=\"data row1 col3\" >0.193</td>\n",
       "    </tr>\n",
       "    <tr>\n",
       "      <th id=\"T_59267_level0_row2\" class=\"row_heading level0 row2\" >10</th>\n",
       "      <td id=\"T_59267_row2_col0\" class=\"data row2 col0\" >9.78e+03 K</td>\n",
       "      <td id=\"T_59267_row2_col1\" class=\"data row2 col1\" >1.02e+04 K</td>\n",
       "      <td id=\"T_59267_row2_col2\" class=\"data row2 col2\" >0.143</td>\n",
       "      <td id=\"T_59267_row2_col3\" class=\"data row2 col3\" >0.112</td>\n",
       "    </tr>\n",
       "    <tr>\n",
       "      <th id=\"T_59267_level0_row3\" class=\"row_heading level0 row3\" >15</th>\n",
       "      <td id=\"T_59267_row3_col0\" class=\"data row3 col0\" >9.71e+03 K</td>\n",
       "      <td id=\"T_59267_row3_col1\" class=\"data row3 col1\" >9.98e+03 K</td>\n",
       "      <td id=\"T_59267_row3_col2\" class=\"data row3 col2\" >0.105</td>\n",
       "      <td id=\"T_59267_row3_col3\" class=\"data row3 col3\" >0.0826</td>\n",
       "    </tr>\n",
       "  </tbody>\n",
       "</table>\n"
      ],
      "text/plain": [
       "<pandas.io.formats.style.Styler at 0x7fd15606c410>"
      ]
     },
     "metadata": {},
     "output_type": "display_data"
    },
    {
     "name": "stdout",
     "output_type": "stream",
     "text": [
      "[\u001b[1mtardis.simulation.base\u001b[0m][\u001b[1;37mINFO\u001b[0m   ]  \n",
      "\t\n",
      "\tCurrent t_inner = 9933.952 K\n",
      "\tExpected t_inner for next iteration = 11468.808 K\n",
      " (\u001b[1mbase.py\u001b[0m:656)\n"
     ]
    },
    {
     "name": "stdout",
     "output_type": "stream",
     "text": [
      "[\u001b[1mtardis.simulation.base\u001b[0m][\u001b[1;37mINFO\u001b[0m   ]  \n",
      "\t\n",
      "\tStarting iteration 2 of 5 (\u001b[1mbase.py\u001b[0m:448)\n"
     ]
    },
    {
     "name": "stdout",
     "output_type": "stream",
     "text": [
      "[\u001b[1mtardis.simulation.base\u001b[0m][\u001b[1;37mINFO\u001b[0m   ]  \n",
      "\t\n",
      "\tLuminosity emitted   = 1.413e+43 erg / s\n",
      "\tLuminosity absorbed  = 4.704e+42 erg / s\n",
      "\tLuminosity requested = 1.059e+43 erg / s\n",
      " (\u001b[1mbase.py\u001b[0m:661)\n"
     ]
    },
    {
     "name": "stdout",
     "output_type": "stream",
     "text": [
      "[\u001b[1mtardis.simulation.base\u001b[0m][\u001b[1;37mINFO\u001b[0m   ]  \n",
      "\t\n",
      "\tPlasma stratification: (\u001b[1mbase.py\u001b[0m:629)\n"
     ]
    },
    {
     "data": {
      "text/html": [
       "<style type=\"text/css\">\n",
       "</style>\n",
       "<table id=\"T_f11cd\">\n",
       "  <thead>\n",
       "    <tr>\n",
       "      <th class=\"index_name level0\" >Shell No.</th>\n",
       "      <th id=\"T_f11cd_level0_col0\" class=\"col_heading level0 col0\" >t_rad</th>\n",
       "      <th id=\"T_f11cd_level0_col1\" class=\"col_heading level0 col1\" >next_t_rad</th>\n",
       "      <th id=\"T_f11cd_level0_col2\" class=\"col_heading level0 col2\" >w</th>\n",
       "      <th id=\"T_f11cd_level0_col3\" class=\"col_heading level0 col3\" >next_w</th>\n",
       "    </tr>\n",
       "  </thead>\n",
       "  <tbody>\n",
       "    <tr>\n",
       "      <th id=\"T_f11cd_level0_row0\" class=\"row_heading level0 row0\" >0</th>\n",
       "      <td id=\"T_f11cd_row0_col0\" class=\"data row0 col0\" >1.03e+04 K</td>\n",
       "      <td id=\"T_f11cd_row0_col1\" class=\"data row0 col1\" >1.15e+04 K</td>\n",
       "      <td id=\"T_f11cd_row0_col2\" class=\"data row0 col2\" >0.481</td>\n",
       "      <td id=\"T_f11cd_row0_col3\" class=\"data row0 col3\" >0.555</td>\n",
       "    </tr>\n",
       "    <tr>\n",
       "      <th id=\"T_f11cd_level0_row1\" class=\"row_heading level0 row1\" >5</th>\n",
       "      <td id=\"T_f11cd_row1_col0\" class=\"data row1 col0\" >1.03e+04 K</td>\n",
       "      <td id=\"T_f11cd_row1_col1\" class=\"data row1 col1\" >1.17e+04 K</td>\n",
       "      <td id=\"T_f11cd_row1_col2\" class=\"data row1 col2\" >0.193</td>\n",
       "      <td id=\"T_f11cd_row1_col3\" class=\"data row1 col3\" >0.203</td>\n",
       "    </tr>\n",
       "    <tr>\n",
       "      <th id=\"T_f11cd_level0_row2\" class=\"row_heading level0 row2\" >10</th>\n",
       "      <td id=\"T_f11cd_row2_col0\" class=\"data row2 col0\" >1.02e+04 K</td>\n",
       "      <td id=\"T_f11cd_row2_col1\" class=\"data row2 col1\" >1.13e+04 K</td>\n",
       "      <td id=\"T_f11cd_row2_col2\" class=\"data row2 col2\" >0.112</td>\n",
       "      <td id=\"T_f11cd_row2_col3\" class=\"data row2 col3\" >0.135</td>\n",
       "    </tr>\n",
       "    <tr>\n",
       "      <th id=\"T_f11cd_level0_row3\" class=\"row_heading level0 row3\" >15</th>\n",
       "      <td id=\"T_f11cd_row3_col0\" class=\"data row3 col0\" >9.98e+03 K</td>\n",
       "      <td id=\"T_f11cd_row3_col1\" class=\"data row3 col1\" >1.1e+04 K</td>\n",
       "      <td id=\"T_f11cd_row3_col2\" class=\"data row3 col2\" >0.0826</td>\n",
       "      <td id=\"T_f11cd_row3_col3\" class=\"data row3 col3\" >0.0998</td>\n",
       "    </tr>\n",
       "  </tbody>\n",
       "</table>\n"
      ],
      "text/plain": [
       "<pandas.io.formats.style.Styler at 0x7fd140f6f0b0>"
      ]
     },
     "metadata": {},
     "output_type": "display_data"
    },
    {
     "name": "stdout",
     "output_type": "stream",
     "text": [
      "[\u001b[1mtardis.simulation.base\u001b[0m][\u001b[1;37mINFO\u001b[0m   ]  \n",
      "\t\n",
      "\tCurrent t_inner = 11468.808 K\n",
      "\tExpected t_inner for next iteration = 9929.475 K\n",
      " (\u001b[1mbase.py\u001b[0m:656)\n"
     ]
    },
    {
     "name": "stdout",
     "output_type": "stream",
     "text": [
      "[\u001b[1mtardis.simulation.base\u001b[0m][\u001b[1;37mINFO\u001b[0m   ]  \n",
      "\t\n",
      "\tStarting iteration 3 of 5 (\u001b[1mbase.py\u001b[0m:448)\n"
     ]
    },
    {
     "name": "stdout",
     "output_type": "stream",
     "text": [
      "[\u001b[1mtardis.simulation.base\u001b[0m][\u001b[1;37mINFO\u001b[0m   ]  \n",
      "\t\n",
      "\tLuminosity emitted   = 8.259e+42 erg / s\n",
      "\tLuminosity absorbed  = 2.337e+42 erg / s\n",
      "\tLuminosity requested = 1.059e+43 erg / s\n",
      " (\u001b[1mbase.py\u001b[0m:661)\n"
     ]
    },
    {
     "name": "stdout",
     "output_type": "stream",
     "text": [
      "[\u001b[1mtardis.simulation.base\u001b[0m][\u001b[1;37mINFO\u001b[0m   ]  \n",
      "\t\n",
      "\tPlasma stratification: (\u001b[1mbase.py\u001b[0m:629)\n"
     ]
    },
    {
     "data": {
      "text/html": [
       "<style type=\"text/css\">\n",
       "</style>\n",
       "<table id=\"T_941cd\">\n",
       "  <thead>\n",
       "    <tr>\n",
       "      <th class=\"index_name level0\" >Shell No.</th>\n",
       "      <th id=\"T_941cd_level0_col0\" class=\"col_heading level0 col0\" >t_rad</th>\n",
       "      <th id=\"T_941cd_level0_col1\" class=\"col_heading level0 col1\" >next_t_rad</th>\n",
       "      <th id=\"T_941cd_level0_col2\" class=\"col_heading level0 col2\" >w</th>\n",
       "      <th id=\"T_941cd_level0_col3\" class=\"col_heading level0 col3\" >next_w</th>\n",
       "    </tr>\n",
       "  </thead>\n",
       "  <tbody>\n",
       "    <tr>\n",
       "      <th id=\"T_941cd_level0_row0\" class=\"row_heading level0 row0\" >0</th>\n",
       "      <td id=\"T_941cd_row0_col0\" class=\"data row0 col0\" >1.15e+04 K</td>\n",
       "      <td id=\"T_941cd_row0_col1\" class=\"data row0 col1\" >1.03e+04 K</td>\n",
       "      <td id=\"T_941cd_row0_col2\" class=\"data row0 col2\" >0.555</td>\n",
       "      <td id=\"T_941cd_row0_col3\" class=\"data row0 col3\" >0.468</td>\n",
       "    </tr>\n",
       "    <tr>\n",
       "      <th id=\"T_941cd_level0_row1\" class=\"row_heading level0 row1\" >5</th>\n",
       "      <td id=\"T_941cd_row1_col0\" class=\"data row1 col0\" >1.17e+04 K</td>\n",
       "      <td id=\"T_941cd_row1_col1\" class=\"data row1 col1\" >1.05e+04 K</td>\n",
       "      <td id=\"T_941cd_row1_col2\" class=\"data row1 col2\" >0.203</td>\n",
       "      <td id=\"T_941cd_row1_col3\" class=\"data row1 col3\" >0.181</td>\n",
       "    </tr>\n",
       "    <tr>\n",
       "      <th id=\"T_941cd_level0_row2\" class=\"row_heading level0 row2\" >10</th>\n",
       "      <td id=\"T_941cd_row2_col0\" class=\"data row2 col0\" >1.13e+04 K</td>\n",
       "      <td id=\"T_941cd_row2_col1\" class=\"data row2 col1\" >1.05e+04 K</td>\n",
       "      <td id=\"T_941cd_row2_col2\" class=\"data row2 col2\" >0.135</td>\n",
       "      <td id=\"T_941cd_row2_col3\" class=\"data row2 col3\" >0.108</td>\n",
       "    </tr>\n",
       "    <tr>\n",
       "      <th id=\"T_941cd_level0_row3\" class=\"row_heading level0 row3\" >15</th>\n",
       "      <td id=\"T_941cd_row3_col0\" class=\"data row3 col0\" >1.1e+04 K</td>\n",
       "      <td id=\"T_941cd_row3_col1\" class=\"data row3 col1\" >1.03e+04 K</td>\n",
       "      <td id=\"T_941cd_row3_col2\" class=\"data row3 col2\" >0.0998</td>\n",
       "      <td id=\"T_941cd_row3_col3\" class=\"data row3 col3\" >0.0779</td>\n",
       "    </tr>\n",
       "  </tbody>\n",
       "</table>\n"
      ],
      "text/plain": [
       "<pandas.io.formats.style.Styler at 0x7fd13741ec00>"
      ]
     },
     "metadata": {},
     "output_type": "display_data"
    },
    {
     "name": "stdout",
     "output_type": "stream",
     "text": [
      "[\u001b[1mtardis.simulation.base\u001b[0m][\u001b[1;37mINFO\u001b[0m   ]  \n",
      "\t\n",
      "\tCurrent t_inner = 9929.475 K\n",
      "\tExpected t_inner for next iteration = 11245.497 K\n",
      " (\u001b[1mbase.py\u001b[0m:656)\n"
     ]
    },
    {
     "name": "stdout",
     "output_type": "stream",
     "text": [
      "[\u001b[1mtardis.simulation.base\u001b[0m][\u001b[1;37mINFO\u001b[0m   ]  \n",
      "\t\n",
      "\tStarting iteration 4 of 5 (\u001b[1mbase.py\u001b[0m:448)\n"
     ]
    },
    {
     "name": "stdout",
     "output_type": "stream",
     "text": [
      "[\u001b[1mtardis.simulation.base\u001b[0m][\u001b[1;37mINFO\u001b[0m   ]  \n",
      "\t\n",
      "\tLuminosity emitted   = 1.299e+43 erg / s\n",
      "\tLuminosity absorbed  = 4.407e+42 erg / s\n",
      "\tLuminosity requested = 1.059e+43 erg / s\n",
      " (\u001b[1mbase.py\u001b[0m:661)\n"
     ]
    },
    {
     "name": "stdout",
     "output_type": "stream",
     "text": [
      "[\u001b[1mtardis.simulation.base\u001b[0m][\u001b[1;37mINFO\u001b[0m   ]  \n",
      "\t\n",
      "\tPlasma stratification: (\u001b[1mbase.py\u001b[0m:629)\n"
     ]
    },
    {
     "data": {
      "text/html": [
       "<style type=\"text/css\">\n",
       "</style>\n",
       "<table id=\"T_b7f47\">\n",
       "  <thead>\n",
       "    <tr>\n",
       "      <th class=\"index_name level0\" >Shell No.</th>\n",
       "      <th id=\"T_b7f47_level0_col0\" class=\"col_heading level0 col0\" >t_rad</th>\n",
       "      <th id=\"T_b7f47_level0_col1\" class=\"col_heading level0 col1\" >next_t_rad</th>\n",
       "      <th id=\"T_b7f47_level0_col2\" class=\"col_heading level0 col2\" >w</th>\n",
       "      <th id=\"T_b7f47_level0_col3\" class=\"col_heading level0 col3\" >next_w</th>\n",
       "    </tr>\n",
       "  </thead>\n",
       "  <tbody>\n",
       "    <tr>\n",
       "      <th id=\"T_b7f47_level0_row0\" class=\"row_heading level0 row0\" >0</th>\n",
       "      <td id=\"T_b7f47_row0_col0\" class=\"data row0 col0\" >1.03e+04 K</td>\n",
       "      <td id=\"T_b7f47_row0_col1\" class=\"data row0 col1\" >1.14e+04 K</td>\n",
       "      <td id=\"T_b7f47_row0_col2\" class=\"data row0 col2\" >0.468</td>\n",
       "      <td id=\"T_b7f47_row0_col3\" class=\"data row0 col3\" >0.527</td>\n",
       "    </tr>\n",
       "    <tr>\n",
       "      <th id=\"T_b7f47_level0_row1\" class=\"row_heading level0 row1\" >5</th>\n",
       "      <td id=\"T_b7f47_row1_col0\" class=\"data row1 col0\" >1.05e+04 K</td>\n",
       "      <td id=\"T_b7f47_row1_col1\" class=\"data row1 col1\" >1.13e+04 K</td>\n",
       "      <td id=\"T_b7f47_row1_col2\" class=\"data row1 col2\" >0.181</td>\n",
       "      <td id=\"T_b7f47_row1_col3\" class=\"data row1 col3\" >0.225</td>\n",
       "    </tr>\n",
       "    <tr>\n",
       "      <th id=\"T_b7f47_level0_row2\" class=\"row_heading level0 row2\" >10</th>\n",
       "      <td id=\"T_b7f47_row2_col0\" class=\"data row2 col0\" >1.05e+04 K</td>\n",
       "      <td id=\"T_b7f47_row2_col1\" class=\"data row2 col1\" >1.12e+04 K</td>\n",
       "      <td id=\"T_b7f47_row2_col2\" class=\"data row2 col2\" >0.108</td>\n",
       "      <td id=\"T_b7f47_row2_col3\" class=\"data row2 col3\" >0.126</td>\n",
       "    </tr>\n",
       "    <tr>\n",
       "      <th id=\"T_b7f47_level0_row3\" class=\"row_heading level0 row3\" >15</th>\n",
       "      <td id=\"T_b7f47_row3_col0\" class=\"data row3 col0\" >1.03e+04 K</td>\n",
       "      <td id=\"T_b7f47_row3_col1\" class=\"data row3 col1\" >1.1e+04 K</td>\n",
       "      <td id=\"T_b7f47_row3_col2\" class=\"data row3 col2\" >0.0779</td>\n",
       "      <td id=\"T_b7f47_row3_col3\" class=\"data row3 col3\" >0.0926</td>\n",
       "    </tr>\n",
       "  </tbody>\n",
       "</table>\n"
      ],
      "text/plain": [
       "<pandas.io.formats.style.Styler at 0x7fd14d89bbc0>"
      ]
     },
     "metadata": {},
     "output_type": "display_data"
    },
    {
     "name": "stdout",
     "output_type": "stream",
     "text": [
      "[\u001b[1mtardis.simulation.base\u001b[0m][\u001b[1;37mINFO\u001b[0m   ]  \n",
      "\t\n",
      "\tCurrent t_inner = 11245.497 K\n",
      "\tExpected t_inner for next iteration = 10153.431 K\n",
      " (\u001b[1mbase.py\u001b[0m:656)\n"
     ]
    },
    {
     "name": "stdout",
     "output_type": "stream",
     "text": [
      "[\u001b[1mtardis.simulation.base\u001b[0m][\u001b[1;37mINFO\u001b[0m   ]  \n",
      "\t\n",
      "\tSimulation finished in 4 iterations \n",
      "\tSimulation took 0.44 s\n",
      " (\u001b[1mbase.py\u001b[0m:546)\n"
     ]
    },
    {
     "name": "stdout",
     "output_type": "stream",
     "text": [
      "[\u001b[1mtardis.simulation.base\u001b[0m][\u001b[1;37mINFO\u001b[0m   ]  \n",
      "\t\n",
      "\tStarting iteration 5 of 5 (\u001b[1mbase.py\u001b[0m:448)\n"
     ]
    },
    {
     "name": "stdout",
     "output_type": "stream",
     "text": [
      "[\u001b[1mtardis.simulation.base\u001b[0m][\u001b[1;37mINFO\u001b[0m   ]  \n",
      "\t\n",
      "\tLuminosity emitted   = 8.742e+42 erg / s\n",
      "\tLuminosity absorbed  = 2.834e+42 erg / s\n",
      "\tLuminosity requested = 1.059e+43 erg / s\n",
      " (\u001b[1mbase.py\u001b[0m:661)\n"
     ]
    }
   ],
   "source": [
    "sim = run_tardis(config, log_level=\"Info\", specific=True)"
   ]
  }
 ],
 "metadata": {
  "kernelspec": {
   "display_name": "Python 3",
   "language": "python",
   "name": "python3"
  },
  "language_info": {
   "codemirror_mode": {
    "name": "ipython",
    "version": 3
   },
   "file_extension": ".py",
   "mimetype": "text/x-python",
   "name": "python",
   "nbconvert_exporter": "python",
   "pygments_lexer": "ipython3",
   "version": "3.12.4"
  },
  "widgets": {
   "application/vnd.jupyter.widget-state+json": {
    "state": {
     "0078420403044b2d8afb61c3f759dbe1": {
      "model_module": "@jupyter-widgets/controls",
      "model_module_version": "1.5.0",
      "model_name": "HTMLModel",
      "state": {
       "_dom_classes": [],
       "_model_module": "@jupyter-widgets/controls",
       "_model_module_version": "1.5.0",
       "_model_name": "HTMLModel",
       "_view_count": null,
       "_view_module": "@jupyter-widgets/controls",
       "_view_module_version": "1.5.0",
       "_view_name": "HTMLView",
       "description": "",
       "description_tooltip": null,
       "layout": "IPY_MODEL_55089f69f8a74bad8245f1143f1d84de",
       "placeholder": "​",
       "style": "IPY_MODEL_d8fca581da11435a9207979e3e14b7ae",
       "value": "10000/10000 [00:00&lt;00:00, 63481.36it/s]"
      }
     },
     "0188e8cd29e843b08a1bfb2f6a135247": {
      "model_module": "@jupyter-widgets/controls",
      "model_module_version": "1.5.0",
      "model_name": "ProgressStyleModel",
      "state": {
       "_model_module": "@jupyter-widgets/controls",
       "_model_module_version": "1.5.0",
       "_model_name": "ProgressStyleModel",
       "_view_count": null,
       "_view_module": "@jupyter-widgets/base",
       "_view_module_version": "1.2.0",
       "_view_name": "StyleView",
       "bar_color": null,
       "description_width": ""
      }
     },
     "018f16665bdf4004b6c468337a13547d": {
      "model_module": "@jupyter-widgets/controls",
      "model_module_version": "1.5.0",
      "model_name": "DescriptionStyleModel",
      "state": {
       "_model_module": "@jupyter-widgets/controls",
       "_model_module_version": "1.5.0",
       "_model_name": "DescriptionStyleModel",
       "_view_count": null,
       "_view_module": "@jupyter-widgets/base",
       "_view_module_version": "1.2.0",
       "_view_name": "StyleView",
       "description_width": ""
      }
     },
     "02caa08eb2f54bc1b0c3ef286b13302f": {
      "model_module": "@jupyter-widgets/controls",
      "model_module_version": "1.5.0",
      "model_name": "HBoxModel",
      "state": {
       "_dom_classes": [],
       "_model_module": "@jupyter-widgets/controls",
       "_model_module_version": "1.5.0",
       "_model_name": "HBoxModel",
       "_view_count": null,
       "_view_module": "@jupyter-widgets/controls",
       "_view_module_version": "1.5.0",
       "_view_name": "HBoxView",
       "box_style": "",
       "children": [
        "IPY_MODEL_e25efeb9893a442f9f54907c4edd9c92",
        "IPY_MODEL_34ce0ac2c9f144ddb31a7d67ec628e36",
        "IPY_MODEL_5e7c9b6a27ca429a999cf0dc537b58c8"
       ],
       "layout": "IPY_MODEL_9fdec168c1b147fdb599f3e9744933f3"
      }
     },
     "02e95870aeb54197b9ce6e6f17442556": {
      "model_module": "@jupyter-widgets/base",
      "model_module_version": "1.2.0",
      "model_name": "LayoutModel",
      "state": {
       "_model_module": "@jupyter-widgets/base",
       "_model_module_version": "1.2.0",
       "_model_name": "LayoutModel",
       "_view_count": null,
       "_view_module": "@jupyter-widgets/base",
       "_view_module_version": "1.2.0",
       "_view_name": "LayoutView",
       "align_content": null,
       "align_items": null,
       "align_self": null,
       "border": null,
       "bottom": null,
       "display": null,
       "flex": null,
       "flex_flow": null,
       "grid_area": null,
       "grid_auto_columns": null,
       "grid_auto_flow": null,
       "grid_auto_rows": null,
       "grid_column": null,
       "grid_gap": null,
       "grid_row": null,
       "grid_template_areas": null,
       "grid_template_columns": null,
       "grid_template_rows": null,
       "height": null,
       "justify_content": null,
       "justify_items": null,
       "left": null,
       "margin": null,
       "max_height": null,
       "max_width": null,
       "min_height": null,
       "min_width": null,
       "object_fit": null,
       "object_position": null,
       "order": null,
       "overflow": null,
       "overflow_x": null,
       "overflow_y": null,
       "padding": null,
       "right": null,
       "top": null,
       "visibility": null,
       "width": null
      }
     },
     "04b266648f5b46a39ebc9fc5a166a7b4": {
      "model_module": "@jupyter-widgets/controls",
      "model_module_version": "1.5.0",
      "model_name": "DescriptionStyleModel",
      "state": {
       "_model_module": "@jupyter-widgets/controls",
       "_model_module_version": "1.5.0",
       "_model_name": "DescriptionStyleModel",
       "_view_count": null,
       "_view_module": "@jupyter-widgets/base",
       "_view_module_version": "1.2.0",
       "_view_name": "StyleView",
       "description_width": ""
      }
     },
     "055a2dc90a6844e0a8be5bbb0bdfbd86": {
      "model_module": "@jupyter-widgets/controls",
      "model_module_version": "1.5.0",
      "model_name": "HTMLModel",
      "state": {
       "_dom_classes": [],
       "_model_module": "@jupyter-widgets/controls",
       "_model_module_version": "1.5.0",
       "_model_name": "HTMLModel",
       "_view_count": null,
       "_view_module": "@jupyter-widgets/controls",
       "_view_module_version": "1.5.0",
       "_view_name": "HTMLView",
       "description": "",
       "description_tooltip": null,
       "layout": "IPY_MODEL_137b9ee982184f2eac962b88450852d7",
       "placeholder": "​",
       "style": "IPY_MODEL_aad03d4c770141af81aff20ee41c0a20",
       "value": "Iterations:"
      }
     },
     "097ee32f270c4d9d98d2662b6dcdb3e5": {
      "model_module": "@jupyter-widgets/controls",
      "model_module_version": "1.5.0",
      "model_name": "HBoxModel",
      "state": {
       "_dom_classes": [],
       "_model_module": "@jupyter-widgets/controls",
       "_model_module_version": "1.5.0",
       "_model_name": "HBoxModel",
       "_view_count": null,
       "_view_module": "@jupyter-widgets/controls",
       "_view_module_version": "1.5.0",
       "_view_name": "HBoxView",
       "box_style": "",
       "children": [
        "IPY_MODEL_62db399e7c814b1d9431091a0442e828",
        "IPY_MODEL_66dbc455fde14ed8bc7e1d2c3ee1a11d",
        "IPY_MODEL_5ca4d0c16a2c4ab68073e41aef962869"
       ],
       "layout": "IPY_MODEL_f4925740a47d4106bebf69cfdafee4ae"
      }
     },
     "098b1adda2774105a99cf5f3ad0f9c94": {
      "model_module": "@jupyter-widgets/controls",
      "model_module_version": "1.5.0",
      "model_name": "FloatProgressModel",
      "state": {
       "_dom_classes": [],
       "_model_module": "@jupyter-widgets/controls",
       "_model_module_version": "1.5.0",
       "_model_name": "FloatProgressModel",
       "_view_count": null,
       "_view_module": "@jupyter-widgets/controls",
       "_view_module_version": "1.5.0",
       "_view_name": "ProgressView",
       "bar_style": "",
       "description": "",
       "description_tooltip": null,
       "layout": "IPY_MODEL_21702f7eafef4427935cf15caa43b953",
       "max": 5.0,
       "min": 0.0,
       "orientation": "horizontal",
       "style": "IPY_MODEL_49fb81ddc8aa41af814cf6ae8ba51034",
       "value": 4.0
      }
     },
     "09acf044029e487698d8320ea5a4b803": {
      "model_module": "@jupyter-widgets/controls",
      "model_module_version": "1.5.0",
      "model_name": "HTMLModel",
      "state": {
       "_dom_classes": [],
       "_model_module": "@jupyter-widgets/controls",
       "_model_module_version": "1.5.0",
       "_model_name": "HTMLModel",
       "_view_count": null,
       "_view_module": "@jupyter-widgets/controls",
       "_view_module_version": "1.5.0",
       "_view_name": "HTMLView",
       "description": "",
       "description_tooltip": null,
       "layout": "IPY_MODEL_8bf0c4ec51e843a7a117a33b5e88bd0e",
       "placeholder": "​",
       "style": "IPY_MODEL_1e4145f0336a4c63bf8c45e4c02e7bcf",
       "value": "4/5 [00:00&lt;00:00, 11.32it/s]"
      }
     },
     "0a4be1092aeb4f05a5973823d520f889": {
      "model_module": "@jupyter-widgets/base",
      "model_module_version": "1.2.0",
      "model_name": "LayoutModel",
      "state": {
       "_model_module": "@jupyter-widgets/base",
       "_model_module_version": "1.2.0",
       "_model_name": "LayoutModel",
       "_view_count": null,
       "_view_module": "@jupyter-widgets/base",
       "_view_module_version": "1.2.0",
       "_view_name": "LayoutView",
       "align_content": null,
       "align_items": null,
       "align_self": null,
       "border": null,
       "bottom": null,
       "display": null,
       "flex": null,
       "flex_flow": null,
       "grid_area": null,
       "grid_auto_columns": null,
       "grid_auto_flow": null,
       "grid_auto_rows": null,
       "grid_column": null,
       "grid_gap": null,
       "grid_row": null,
       "grid_template_areas": null,
       "grid_template_columns": null,
       "grid_template_rows": null,
       "height": null,
       "justify_content": null,
       "justify_items": null,
       "left": null,
       "margin": null,
       "max_height": null,
       "max_width": null,
       "min_height": null,
       "min_width": null,
       "object_fit": null,
       "object_position": null,
       "order": null,
       "overflow": null,
       "overflow_x": null,
       "overflow_y": null,
       "padding": null,
       "right": null,
       "top": null,
       "visibility": null,
       "width": "6%"
      }
     },
     "0df7748486134571b2f564c29f72abc4": {
      "model_module": "@jupyter-widgets/controls",
      "model_module_version": "1.5.0",
      "model_name": "DescriptionStyleModel",
      "state": {
       "_model_module": "@jupyter-widgets/controls",
       "_model_module_version": "1.5.0",
       "_model_name": "DescriptionStyleModel",
       "_view_count": null,
       "_view_module": "@jupyter-widgets/base",
       "_view_module_version": "1.2.0",
       "_view_name": "StyleView",
       "description_width": ""
      }
     },
     "0f3689d07cf0474cb67f77d834a850ca": {
      "model_module": "@jupyter-widgets/controls",
      "model_module_version": "1.5.0",
      "model_name": "DescriptionStyleModel",
      "state": {
       "_model_module": "@jupyter-widgets/controls",
       "_model_module_version": "1.5.0",
       "_model_name": "DescriptionStyleModel",
       "_view_count": null,
       "_view_module": "@jupyter-widgets/base",
       "_view_module_version": "1.2.0",
       "_view_name": "StyleView",
       "description_width": ""
      }
     },
     "1059dcdd154140ebad32bf6f900cf86a": {
      "model_module": "@jupyter-widgets/base",
      "model_module_version": "1.2.0",
      "model_name": "LayoutModel",
      "state": {
       "_model_module": "@jupyter-widgets/base",
       "_model_module_version": "1.2.0",
       "_model_name": "LayoutModel",
       "_view_count": null,
       "_view_module": "@jupyter-widgets/base",
       "_view_module_version": "1.2.0",
       "_view_name": "LayoutView",
       "align_content": null,
       "align_items": null,
       "align_self": null,
       "border": null,
       "bottom": null,
       "display": null,
       "flex": null,
       "flex_flow": null,
       "grid_area": null,
       "grid_auto_columns": null,
       "grid_auto_flow": null,
       "grid_auto_rows": null,
       "grid_column": null,
       "grid_gap": null,
       "grid_row": null,
       "grid_template_areas": null,
       "grid_template_columns": null,
       "grid_template_rows": null,
       "height": null,
       "justify_content": null,
       "justify_items": null,
       "left": null,
       "margin": null,
       "max_height": null,
       "max_width": null,
       "min_height": null,
       "min_width": null,
       "object_fit": null,
       "object_position": null,
       "order": null,
       "overflow": null,
       "overflow_x": null,
       "overflow_y": null,
       "padding": null,
       "right": null,
       "top": null,
       "visibility": null,
       "width": null
      }
     },
     "1199f049a4a54e08a60a24184247b7f5": {
      "model_module": "@jupyter-widgets/base",
      "model_module_version": "1.2.0",
      "model_name": "LayoutModel",
      "state": {
       "_model_module": "@jupyter-widgets/base",
       "_model_module_version": "1.2.0",
       "_model_name": "LayoutModel",
       "_view_count": null,
       "_view_module": "@jupyter-widgets/base",
       "_view_module_version": "1.2.0",
       "_view_name": "LayoutView",
       "align_content": null,
       "align_items": null,
       "align_self": null,
       "border": null,
       "bottom": null,
       "display": null,
       "flex": null,
       "flex_flow": null,
       "grid_area": null,
       "grid_auto_columns": null,
       "grid_auto_flow": null,
       "grid_auto_rows": null,
       "grid_column": null,
       "grid_gap": null,
       "grid_row": null,
       "grid_template_areas": null,
       "grid_template_columns": null,
       "grid_template_rows": null,
       "height": null,
       "justify_content": null,
       "justify_items": null,
       "left": null,
       "margin": null,
       "max_height": null,
       "max_width": null,
       "min_height": null,
       "min_width": null,
       "object_fit": null,
       "object_position": null,
       "order": null,
       "overflow": null,
       "overflow_x": null,
       "overflow_y": null,
       "padding": null,
       "right": null,
       "top": null,
       "visibility": null,
       "width": null
      }
     },
     "12ee85d299d0465aae94ba22bb2b65f6": {
      "model_module": "@jupyter-widgets/controls",
      "model_module_version": "1.5.0",
      "model_name": "DescriptionStyleModel",
      "state": {
       "_model_module": "@jupyter-widgets/controls",
       "_model_module_version": "1.5.0",
       "_model_name": "DescriptionStyleModel",
       "_view_count": null,
       "_view_module": "@jupyter-widgets/base",
       "_view_module_version": "1.2.0",
       "_view_name": "StyleView",
       "description_width": ""
      }
     },
     "1334ef8d662940f3a81401e2ec172ce4": {
      "model_module": "@jupyter-widgets/controls",
      "model_module_version": "1.5.0",
      "model_name": "HTMLModel",
      "state": {
       "_dom_classes": [],
       "_model_module": "@jupyter-widgets/controls",
       "_model_module_version": "1.5.0",
       "_model_name": "HTMLModel",
       "_view_count": null,
       "_view_module": "@jupyter-widgets/controls",
       "_view_module_version": "1.5.0",
       "_view_name": "HTMLView",
       "description": "",
       "description_tooltip": null,
       "layout": "IPY_MODEL_967e6a52eb124bfeb77fb89578e537e0",
       "placeholder": "​",
       "style": "IPY_MODEL_98cc68831db540619e13eb17f2d5d2c5",
       "value": "Iterations:"
      }
     },
     "137b9ee982184f2eac962b88450852d7": {
      "model_module": "@jupyter-widgets/base",
      "model_module_version": "1.2.0",
      "model_name": "LayoutModel",
      "state": {
       "_model_module": "@jupyter-widgets/base",
       "_model_module_version": "1.2.0",
       "_model_name": "LayoutModel",
       "_view_count": null,
       "_view_module": "@jupyter-widgets/base",
       "_view_module_version": "1.2.0",
       "_view_name": "LayoutView",
       "align_content": null,
       "align_items": null,
       "align_self": null,
       "border": null,
       "bottom": null,
       "display": null,
       "flex": null,
       "flex_flow": null,
       "grid_area": null,
       "grid_auto_columns": null,
       "grid_auto_flow": null,
       "grid_auto_rows": null,
       "grid_column": null,
       "grid_gap": null,
       "grid_row": null,
       "grid_template_areas": null,
       "grid_template_columns": null,
       "grid_template_rows": null,
       "height": null,
       "justify_content": null,
       "justify_items": null,
       "left": null,
       "margin": null,
       "max_height": null,
       "max_width": null,
       "min_height": null,
       "min_width": null,
       "object_fit": null,
       "object_position": null,
       "order": null,
       "overflow": null,
       "overflow_x": null,
       "overflow_y": null,
       "padding": null,
       "right": null,
       "top": null,
       "visibility": null,
       "width": "6%"
      }
     },
     "155bba2719ee4df7b1d4ea319e13f72e": {
      "model_module": "@jupyter-widgets/controls",
      "model_module_version": "1.5.0",
      "model_name": "DescriptionStyleModel",
      "state": {
       "_model_module": "@jupyter-widgets/controls",
       "_model_module_version": "1.5.0",
       "_model_name": "DescriptionStyleModel",
       "_view_count": null,
       "_view_module": "@jupyter-widgets/base",
       "_view_module_version": "1.2.0",
       "_view_name": "StyleView",
       "description_width": ""
      }
     },
     "15a5b2e50dbc41ebb2ef33f48a048db2": {
      "model_module": "@jupyter-widgets/controls",
      "model_module_version": "1.5.0",
      "model_name": "DescriptionStyleModel",
      "state": {
       "_model_module": "@jupyter-widgets/controls",
       "_model_module_version": "1.5.0",
       "_model_name": "DescriptionStyleModel",
       "_view_count": null,
       "_view_module": "@jupyter-widgets/base",
       "_view_module_version": "1.2.0",
       "_view_name": "StyleView",
       "description_width": ""
      }
     },
     "15fb53ca1b1449c18e0860120d2c9068": {
      "model_module": "@jupyter-widgets/base",
      "model_module_version": "1.2.0",
      "model_name": "LayoutModel",
      "state": {
       "_model_module": "@jupyter-widgets/base",
       "_model_module_version": "1.2.0",
       "_model_name": "LayoutModel",
       "_view_count": null,
       "_view_module": "@jupyter-widgets/base",
       "_view_module_version": "1.2.0",
       "_view_name": "LayoutView",
       "align_content": null,
       "align_items": null,
       "align_self": null,
       "border": null,
       "bottom": null,
       "display": null,
       "flex": null,
       "flex_flow": null,
       "grid_area": null,
       "grid_auto_columns": null,
       "grid_auto_flow": null,
       "grid_auto_rows": null,
       "grid_column": null,
       "grid_gap": null,
       "grid_row": null,
       "grid_template_areas": null,
       "grid_template_columns": null,
       "grid_template_rows": null,
       "height": null,
       "justify_content": null,
       "justify_items": null,
       "left": null,
       "margin": null,
       "max_height": null,
       "max_width": null,
       "min_height": null,
       "min_width": null,
       "object_fit": null,
       "object_position": null,
       "order": null,
       "overflow": null,
       "overflow_x": null,
       "overflow_y": null,
       "padding": null,
       "right": null,
       "top": null,
       "visibility": null,
       "width": "60%"
      }
     },
     "179092968a5c40829b482d04a64857a7": {
      "model_module": "@jupyter-widgets/controls",
      "model_module_version": "1.5.0",
      "model_name": "DescriptionStyleModel",
      "state": {
       "_model_module": "@jupyter-widgets/controls",
       "_model_module_version": "1.5.0",
       "_model_name": "DescriptionStyleModel",
       "_view_count": null,
       "_view_module": "@jupyter-widgets/base",
       "_view_module_version": "1.2.0",
       "_view_name": "StyleView",
       "description_width": ""
      }
     },
     "17e9d1f13e84428d952b9a2e7acb0d17": {
      "model_module": "@jupyter-widgets/controls",
      "model_module_version": "1.5.0",
      "model_name": "DescriptionStyleModel",
      "state": {
       "_model_module": "@jupyter-widgets/controls",
       "_model_module_version": "1.5.0",
       "_model_name": "DescriptionStyleModel",
       "_view_count": null,
       "_view_module": "@jupyter-widgets/base",
       "_view_module_version": "1.2.0",
       "_view_name": "StyleView",
       "description_width": ""
      }
     },
     "1852fc1b2ae8466fbe62a696c542518c": {
      "model_module": "@jupyter-widgets/controls",
      "model_module_version": "1.5.0",
      "model_name": "DescriptionStyleModel",
      "state": {
       "_model_module": "@jupyter-widgets/controls",
       "_model_module_version": "1.5.0",
       "_model_name": "DescriptionStyleModel",
       "_view_count": null,
       "_view_module": "@jupyter-widgets/base",
       "_view_module_version": "1.2.0",
       "_view_name": "StyleView",
       "description_width": ""
      }
     },
     "198422af91fa47f3b81f557c280bd6bf": {
      "model_module": "@jupyter-widgets/controls",
      "model_module_version": "1.5.0",
      "model_name": "HTMLModel",
      "state": {
       "_dom_classes": [],
       "_model_module": "@jupyter-widgets/controls",
       "_model_module_version": "1.5.0",
       "_model_name": "HTMLModel",
       "_view_count": null,
       "_view_module": "@jupyter-widgets/controls",
       "_view_module_version": "1.5.0",
       "_view_name": "HTMLView",
       "description": "",
       "description_tooltip": null,
       "layout": "IPY_MODEL_32565bbe2629424e898f13af43627953",
       "placeholder": "​",
       "style": "IPY_MODEL_15a5b2e50dbc41ebb2ef33f48a048db2",
       "value": "10000/10000 [00:00&lt;00:00, 61405.00it/s]"
      }
     },
     "1cc944b900a44f219697759b6a437851": {
      "model_module": "@jupyter-widgets/controls",
      "model_module_version": "1.5.0",
      "model_name": "DescriptionStyleModel",
      "state": {
       "_model_module": "@jupyter-widgets/controls",
       "_model_module_version": "1.5.0",
       "_model_name": "DescriptionStyleModel",
       "_view_count": null,
       "_view_module": "@jupyter-widgets/base",
       "_view_module_version": "1.2.0",
       "_view_name": "StyleView",
       "description_width": ""
      }
     },
     "1d8dc878b44e433684fa4b52e161464f": {
      "model_module": "@jupyter-widgets/controls",
      "model_module_version": "1.5.0",
      "model_name": "DescriptionStyleModel",
      "state": {
       "_model_module": "@jupyter-widgets/controls",
       "_model_module_version": "1.5.0",
       "_model_name": "DescriptionStyleModel",
       "_view_count": null,
       "_view_module": "@jupyter-widgets/base",
       "_view_module_version": "1.2.0",
       "_view_name": "StyleView",
       "description_width": ""
      }
     },
     "1df42d158350427a83c6eaf44affc5c7": {
      "model_module": "@jupyter-widgets/controls",
      "model_module_version": "1.5.0",
      "model_name": "HBoxModel",
      "state": {
       "_dom_classes": [],
       "_model_module": "@jupyter-widgets/controls",
       "_model_module_version": "1.5.0",
       "_model_name": "HBoxModel",
       "_view_count": null,
       "_view_module": "@jupyter-widgets/controls",
       "_view_module_version": "1.5.0",
       "_view_name": "HBoxView",
       "box_style": "",
       "children": [
        "IPY_MODEL_fd03fb3c1b124e929fbe5e6893dc407c",
        "IPY_MODEL_098b1adda2774105a99cf5f3ad0f9c94",
        "IPY_MODEL_4419a2c7da15485fa4efe8a0eb8c1e9a"
       ],
       "layout": "IPY_MODEL_6717ebe39ec345199374dd12669f8eb5"
      }
     },
     "1e4145f0336a4c63bf8c45e4c02e7bcf": {
      "model_module": "@jupyter-widgets/controls",
      "model_module_version": "1.5.0",
      "model_name": "DescriptionStyleModel",
      "state": {
       "_model_module": "@jupyter-widgets/controls",
       "_model_module_version": "1.5.0",
       "_model_name": "DescriptionStyleModel",
       "_view_count": null,
       "_view_module": "@jupyter-widgets/base",
       "_view_module_version": "1.2.0",
       "_view_name": "StyleView",
       "description_width": ""
      }
     },
     "1ed812688740450aa4fbefb1e8623317": {
      "model_module": "@jupyter-widgets/output",
      "model_module_version": "1.0.0",
      "model_name": "OutputModel",
      "state": {
       "_dom_classes": [],
       "_model_module": "@jupyter-widgets/output",
       "_model_module_version": "1.0.0",
       "_model_name": "OutputModel",
       "_view_count": null,
       "_view_module": "@jupyter-widgets/output",
       "_view_module_version": "1.0.0",
       "_view_name": "OutputView",
       "layout": "IPY_MODEL_a9e584c962674acb9369798c53c26db5",
       "msg_id": "",
       "outputs": []
      }
     },
     "21702f7eafef4427935cf15caa43b953": {
      "model_module": "@jupyter-widgets/base",
      "model_module_version": "1.2.0",
      "model_name": "LayoutModel",
      "state": {
       "_model_module": "@jupyter-widgets/base",
       "_model_module_version": "1.2.0",
       "_model_name": "LayoutModel",
       "_view_count": null,
       "_view_module": "@jupyter-widgets/base",
       "_view_module_version": "1.2.0",
       "_view_name": "LayoutView",
       "align_content": null,
       "align_items": null,
       "align_self": null,
       "border": null,
       "bottom": null,
       "display": null,
       "flex": null,
       "flex_flow": null,
       "grid_area": null,
       "grid_auto_columns": null,
       "grid_auto_flow": null,
       "grid_auto_rows": null,
       "grid_column": null,
       "grid_gap": null,
       "grid_row": null,
       "grid_template_areas": null,
       "grid_template_columns": null,
       "grid_template_rows": null,
       "height": null,
       "justify_content": null,
       "justify_items": null,
       "left": null,
       "margin": null,
       "max_height": null,
       "max_width": null,
       "min_height": null,
       "min_width": null,
       "object_fit": null,
       "object_position": null,
       "order": null,
       "overflow": null,
       "overflow_x": null,
       "overflow_y": null,
       "padding": null,
       "right": null,
       "top": null,
       "visibility": null,
       "width": "60%"
      }
     },
     "219d1ca71a184ec4a73a0a977693e364": {
      "model_module": "@jupyter-widgets/controls",
      "model_module_version": "1.5.0",
      "model_name": "FloatProgressModel",
      "state": {
       "_dom_classes": [],
       "_model_module": "@jupyter-widgets/controls",
       "_model_module_version": "1.5.0",
       "_model_name": "FloatProgressModel",
       "_view_count": null,
       "_view_module": "@jupyter-widgets/controls",
       "_view_module_version": "1.5.0",
       "_view_name": "ProgressView",
       "bar_style": "",
       "description": "",
       "description_tooltip": null,
       "layout": "IPY_MODEL_b91c6c60e70346c9862d0b38b3b3d77a",
       "max": 5.0,
       "min": 0.0,
       "orientation": "horizontal",
       "style": "IPY_MODEL_2c6cbb3746a64460a9ee81b3d6f818b7",
       "value": 4.0
      }
     },
     "220b26061dc946e6829f0fba81c09b04": {
      "model_module": "@jupyter-widgets/base",
      "model_module_version": "1.2.0",
      "model_name": "LayoutModel",
      "state": {
       "_model_module": "@jupyter-widgets/base",
       "_model_module_version": "1.2.0",
       "_model_name": "LayoutModel",
       "_view_count": null,
       "_view_module": "@jupyter-widgets/base",
       "_view_module_version": "1.2.0",
       "_view_name": "LayoutView",
       "align_content": null,
       "align_items": null,
       "align_self": null,
       "border": null,
       "bottom": null,
       "display": null,
       "flex": null,
       "flex_flow": null,
       "grid_area": null,
       "grid_auto_columns": null,
       "grid_auto_flow": null,
       "grid_auto_rows": null,
       "grid_column": null,
       "grid_gap": null,
       "grid_row": null,
       "grid_template_areas": null,
       "grid_template_columns": null,
       "grid_template_rows": null,
       "height": null,
       "justify_content": null,
       "justify_items": null,
       "left": null,
       "margin": null,
       "max_height": null,
       "max_width": null,
       "min_height": null,
       "min_width": null,
       "object_fit": null,
       "object_position": null,
       "order": null,
       "overflow": null,
       "overflow_x": null,
       "overflow_y": null,
       "padding": null,
       "right": null,
       "top": null,
       "visibility": null,
       "width": "60%"
      }
     },
     "2482c66d64134d049a5b6fd585f7de09": {
      "model_module": "@jupyter-widgets/controls",
      "model_module_version": "1.5.0",
      "model_name": "ProgressStyleModel",
      "state": {
       "_model_module": "@jupyter-widgets/controls",
       "_model_module_version": "1.5.0",
       "_model_name": "ProgressStyleModel",
       "_view_count": null,
       "_view_module": "@jupyter-widgets/base",
       "_view_module_version": "1.2.0",
       "_view_name": "StyleView",
       "bar_color": null,
       "description_width": ""
      }
     },
     "24c96848ef794ff6b7077e5c7592db2b": {
      "model_module": "@jupyter-widgets/controls",
      "model_module_version": "1.5.0",
      "model_name": "DescriptionStyleModel",
      "state": {
       "_model_module": "@jupyter-widgets/controls",
       "_model_module_version": "1.5.0",
       "_model_name": "DescriptionStyleModel",
       "_view_count": null,
       "_view_module": "@jupyter-widgets/base",
       "_view_module_version": "1.2.0",
       "_view_name": "StyleView",
       "description_width": ""
      }
     },
     "285588cade7b4922873d760b8520735c": {
      "model_module": "@jupyter-widgets/controls",
      "model_module_version": "1.5.0",
      "model_name": "FloatProgressModel",
      "state": {
       "_dom_classes": [],
       "_model_module": "@jupyter-widgets/controls",
       "_model_module_version": "1.5.0",
       "_model_name": "FloatProgressModel",
       "_view_count": null,
       "_view_module": "@jupyter-widgets/controls",
       "_view_module_version": "1.5.0",
       "_view_name": "ProgressView",
       "bar_style": "",
       "description": "",
       "description_tooltip": null,
       "layout": "IPY_MODEL_ba25a22d836d48bd900b0ba06b2ee8ff",
       "max": 5.0,
       "min": 0.0,
       "orientation": "horizontal",
       "style": "IPY_MODEL_d9aff42a4fb34796971947f60b144e8b",
       "value": 4.0
      }
     },
     "29342dc0540d41a0a8a75b09b658a148": {
      "model_module": "@jupyter-widgets/base",
      "model_module_version": "1.2.0",
      "model_name": "LayoutModel",
      "state": {
       "_model_module": "@jupyter-widgets/base",
       "_model_module_version": "1.2.0",
       "_model_name": "LayoutModel",
       "_view_count": null,
       "_view_module": "@jupyter-widgets/base",
       "_view_module_version": "1.2.0",
       "_view_name": "LayoutView",
       "align_content": null,
       "align_items": null,
       "align_self": null,
       "border": null,
       "bottom": null,
       "display": null,
       "flex": null,
       "flex_flow": null,
       "grid_area": null,
       "grid_auto_columns": null,
       "grid_auto_flow": null,
       "grid_auto_rows": null,
       "grid_column": null,
       "grid_gap": null,
       "grid_row": null,
       "grid_template_areas": null,
       "grid_template_columns": null,
       "grid_template_rows": null,
       "height": null,
       "justify_content": null,
       "justify_items": null,
       "left": null,
       "margin": null,
       "max_height": null,
       "max_width": null,
       "min_height": null,
       "min_width": null,
       "object_fit": null,
       "object_position": null,
       "order": null,
       "overflow": null,
       "overflow_x": null,
       "overflow_y": null,
       "padding": null,
       "right": null,
       "top": null,
       "visibility": null,
       "width": null
      }
     },
     "2986bf16dbb94d50b60ba50ede9e617d": {
      "model_module": "@jupyter-widgets/base",
      "model_module_version": "1.2.0",
      "model_name": "LayoutModel",
      "state": {
       "_model_module": "@jupyter-widgets/base",
       "_model_module_version": "1.2.0",
       "_model_name": "LayoutModel",
       "_view_count": null,
       "_view_module": "@jupyter-widgets/base",
       "_view_module_version": "1.2.0",
       "_view_name": "LayoutView",
       "align_content": null,
       "align_items": null,
       "align_self": null,
       "border": null,
       "bottom": null,
       "display": null,
       "flex": null,
       "flex_flow": null,
       "grid_area": null,
       "grid_auto_columns": null,
       "grid_auto_flow": null,
       "grid_auto_rows": null,
       "grid_column": null,
       "grid_gap": null,
       "grid_row": null,
       "grid_template_areas": null,
       "grid_template_columns": null,
       "grid_template_rows": null,
       "height": null,
       "justify_content": null,
       "justify_items": null,
       "left": null,
       "margin": null,
       "max_height": null,
       "max_width": null,
       "min_height": null,
       "min_width": null,
       "object_fit": null,
       "object_position": null,
       "order": null,
       "overflow": null,
       "overflow_x": null,
       "overflow_y": null,
       "padding": null,
       "right": null,
       "top": null,
       "visibility": null,
       "width": null
      }
     },
     "2a52e7b3392b4161ae305acb9e0ffe3c": {
      "model_module": "@jupyter-widgets/controls",
      "model_module_version": "1.5.0",
      "model_name": "ProgressStyleModel",
      "state": {
       "_model_module": "@jupyter-widgets/controls",
       "_model_module_version": "1.5.0",
       "_model_name": "ProgressStyleModel",
       "_view_count": null,
       "_view_module": "@jupyter-widgets/base",
       "_view_module_version": "1.2.0",
       "_view_name": "StyleView",
       "bar_color": null,
       "description_width": ""
      }
     },
     "2b3ca0393099455fa090905f4abd0cd8": {
      "model_module": "@jupyter-widgets/controls",
      "model_module_version": "1.5.0",
      "model_name": "HBoxModel",
      "state": {
       "_dom_classes": [],
       "_model_module": "@jupyter-widgets/controls",
       "_model_module_version": "1.5.0",
       "_model_name": "HBoxModel",
       "_view_count": null,
       "_view_module": "@jupyter-widgets/controls",
       "_view_module_version": "1.5.0",
       "_view_name": "HBoxView",
       "box_style": "",
       "children": [
        "IPY_MODEL_5921ed834db64e15869534b12bd33505",
        "IPY_MODEL_e1e1072d2a594170ad1f9f9bbe990f7c",
        "IPY_MODEL_7fbea6b38a9a42468a66f3bce2946730"
       ],
       "layout": "IPY_MODEL_f2782b14fbfb46d996dab59fcbc58751"
      }
     },
     "2c6cbb3746a64460a9ee81b3d6f818b7": {
      "model_module": "@jupyter-widgets/controls",
      "model_module_version": "1.5.0",
      "model_name": "ProgressStyleModel",
      "state": {
       "_model_module": "@jupyter-widgets/controls",
       "_model_module_version": "1.5.0",
       "_model_name": "ProgressStyleModel",
       "_view_count": null,
       "_view_module": "@jupyter-widgets/base",
       "_view_module_version": "1.2.0",
       "_view_name": "StyleView",
       "bar_color": null,
       "description_width": ""
      }
     },
     "2cb79a586ae04e74a9fc6064da6b728a": {
      "model_module": "@jupyter-widgets/base",
      "model_module_version": "1.2.0",
      "model_name": "LayoutModel",
      "state": {
       "_model_module": "@jupyter-widgets/base",
       "_model_module_version": "1.2.0",
       "_model_name": "LayoutModel",
       "_view_count": null,
       "_view_module": "@jupyter-widgets/base",
       "_view_module_version": "1.2.0",
       "_view_name": "LayoutView",
       "align_content": null,
       "align_items": null,
       "align_self": null,
       "border": null,
       "bottom": null,
       "display": null,
       "flex": null,
       "flex_flow": null,
       "grid_area": null,
       "grid_auto_columns": null,
       "grid_auto_flow": null,
       "grid_auto_rows": null,
       "grid_column": null,
       "grid_gap": null,
       "grid_row": null,
       "grid_template_areas": null,
       "grid_template_columns": null,
       "grid_template_rows": null,
       "height": null,
       "justify_content": null,
       "justify_items": null,
       "left": null,
       "margin": null,
       "max_height": null,
       "max_width": null,
       "min_height": null,
       "min_width": null,
       "object_fit": null,
       "object_position": null,
       "order": null,
       "overflow": null,
       "overflow_x": null,
       "overflow_y": null,
       "padding": null,
       "right": null,
       "top": null,
       "visibility": null,
       "width": "60%"
      }
     },
     "2d84ac21a29c46569873f187cce3aafb": {
      "model_module": "@jupyter-widgets/controls",
      "model_module_version": "1.5.0",
      "model_name": "FloatProgressModel",
      "state": {
       "_dom_classes": [],
       "_model_module": "@jupyter-widgets/controls",
       "_model_module_version": "1.5.0",
       "_model_name": "FloatProgressModel",
       "_view_count": null,
       "_view_module": "@jupyter-widgets/controls",
       "_view_module_version": "1.5.0",
       "_view_name": "ProgressView",
       "bar_style": "",
       "description": "",
       "description_tooltip": null,
       "layout": "IPY_MODEL_15fb53ca1b1449c18e0860120d2c9068",
       "max": 5.0,
       "min": 0.0,
       "orientation": "horizontal",
       "style": "IPY_MODEL_cec7f2a519ed4481b1c9200756f1ce04",
       "value": 4.0
      }
     },
     "2db4999b8d114ca8ab8397d0f6dfcfcd": {
      "model_module": "@jupyter-widgets/controls",
      "model_module_version": "1.5.0",
      "model_name": "HTMLModel",
      "state": {
       "_dom_classes": [],
       "_model_module": "@jupyter-widgets/controls",
       "_model_module_version": "1.5.0",
       "_model_name": "HTMLModel",
       "_view_count": null,
       "_view_module": "@jupyter-widgets/controls",
       "_view_module_version": "1.5.0",
       "_view_name": "HTMLView",
       "description": "",
       "description_tooltip": null,
       "layout": "IPY_MODEL_c382482bab44491f84527db5d6c35433",
       "placeholder": "​",
       "style": "IPY_MODEL_d47b8fb9a8fb46c2877ca7a71da85ec8",
       "value": "Packets:   "
      }
     },
     "2e6876f283944cdd886dfba56014d97e": {
      "model_module": "@jupyter-widgets/controls",
      "model_module_version": "1.5.0",
      "model_name": "ProgressStyleModel",
      "state": {
       "_model_module": "@jupyter-widgets/controls",
       "_model_module_version": "1.5.0",
       "_model_name": "ProgressStyleModel",
       "_view_count": null,
       "_view_module": "@jupyter-widgets/base",
       "_view_module_version": "1.2.0",
       "_view_name": "StyleView",
       "bar_color": null,
       "description_width": ""
      }
     },
     "30af297d6744453295799e3b95280760": {
      "model_module": "@jupyter-widgets/controls",
      "model_module_version": "1.5.0",
      "model_name": "DescriptionStyleModel",
      "state": {
       "_model_module": "@jupyter-widgets/controls",
       "_model_module_version": "1.5.0",
       "_model_name": "DescriptionStyleModel",
       "_view_count": null,
       "_view_module": "@jupyter-widgets/base",
       "_view_module_version": "1.2.0",
       "_view_name": "StyleView",
       "description_width": ""
      }
     },
     "31f464142b024bb9894a7f7d9b893fa0": {
      "model_module": "@jupyter-widgets/controls",
      "model_module_version": "1.5.0",
      "model_name": "DescriptionStyleModel",
      "state": {
       "_model_module": "@jupyter-widgets/controls",
       "_model_module_version": "1.5.0",
       "_model_name": "DescriptionStyleModel",
       "_view_count": null,
       "_view_module": "@jupyter-widgets/base",
       "_view_module_version": "1.2.0",
       "_view_name": "StyleView",
       "description_width": ""
      }
     },
     "32565bbe2629424e898f13af43627953": {
      "model_module": "@jupyter-widgets/base",
      "model_module_version": "1.2.0",
      "model_name": "LayoutModel",
      "state": {
       "_model_module": "@jupyter-widgets/base",
       "_model_module_version": "1.2.0",
       "_model_name": "LayoutModel",
       "_view_count": null,
       "_view_module": "@jupyter-widgets/base",
       "_view_module_version": "1.2.0",
       "_view_name": "LayoutView",
       "align_content": null,
       "align_items": null,
       "align_self": null,
       "border": null,
       "bottom": null,
       "display": null,
       "flex": null,
       "flex_flow": null,
       "grid_area": null,
       "grid_auto_columns": null,
       "grid_auto_flow": null,
       "grid_auto_rows": null,
       "grid_column": null,
       "grid_gap": null,
       "grid_row": null,
       "grid_template_areas": null,
       "grid_template_columns": null,
       "grid_template_rows": null,
       "height": null,
       "justify_content": null,
       "justify_items": null,
       "left": null,
       "margin": null,
       "max_height": null,
       "max_width": null,
       "min_height": null,
       "min_width": null,
       "object_fit": null,
       "object_position": null,
       "order": null,
       "overflow": null,
       "overflow_x": null,
       "overflow_y": null,
       "padding": null,
       "right": null,
       "top": null,
       "visibility": null,
       "width": null
      }
     },
     "32bda438cf234fffb0248a975bde37a7": {
      "model_module": "@jupyter-widgets/base",
      "model_module_version": "1.2.0",
      "model_name": "LayoutModel",
      "state": {
       "_model_module": "@jupyter-widgets/base",
       "_model_module_version": "1.2.0",
       "_model_name": "LayoutModel",
       "_view_count": null,
       "_view_module": "@jupyter-widgets/base",
       "_view_module_version": "1.2.0",
       "_view_name": "LayoutView",
       "align_content": null,
       "align_items": null,
       "align_self": null,
       "border": null,
       "bottom": null,
       "display": null,
       "flex": null,
       "flex_flow": null,
       "grid_area": null,
       "grid_auto_columns": null,
       "grid_auto_flow": null,
       "grid_auto_rows": null,
       "grid_column": null,
       "grid_gap": null,
       "grid_row": null,
       "grid_template_areas": null,
       "grid_template_columns": null,
       "grid_template_rows": null,
       "height": null,
       "justify_content": null,
       "justify_items": null,
       "left": null,
       "margin": null,
       "max_height": null,
       "max_width": null,
       "min_height": null,
       "min_width": null,
       "object_fit": null,
       "object_position": null,
       "order": null,
       "overflow": null,
       "overflow_x": null,
       "overflow_y": null,
       "padding": null,
       "right": null,
       "top": null,
       "visibility": null,
       "width": "6%"
      }
     },
     "335dff04e50746ef9f8f8760b2cbe091": {
      "model_module": "@jupyter-widgets/base",
      "model_module_version": "1.2.0",
      "model_name": "LayoutModel",
      "state": {
       "_model_module": "@jupyter-widgets/base",
       "_model_module_version": "1.2.0",
       "_model_name": "LayoutModel",
       "_view_count": null,
       "_view_module": "@jupyter-widgets/base",
       "_view_module_version": "1.2.0",
       "_view_name": "LayoutView",
       "align_content": null,
       "align_items": null,
       "align_self": null,
       "border": null,
       "bottom": null,
       "display": null,
       "flex": null,
       "flex_flow": null,
       "grid_area": null,
       "grid_auto_columns": null,
       "grid_auto_flow": null,
       "grid_auto_rows": null,
       "grid_column": null,
       "grid_gap": null,
       "grid_row": null,
       "grid_template_areas": null,
       "grid_template_columns": null,
       "grid_template_rows": null,
       "height": null,
       "justify_content": null,
       "justify_items": null,
       "left": null,
       "margin": null,
       "max_height": null,
       "max_width": null,
       "min_height": null,
       "min_width": null,
       "object_fit": null,
       "object_position": null,
       "order": null,
       "overflow": null,
       "overflow_x": null,
       "overflow_y": null,
       "padding": null,
       "right": null,
       "top": null,
       "visibility": null,
       "width": null
      }
     },
     "3361395d907548d08674164e7eaa0051": {
      "model_module": "@jupyter-widgets/base",
      "model_module_version": "1.2.0",
      "model_name": "LayoutModel",
      "state": {
       "_model_module": "@jupyter-widgets/base",
       "_model_module_version": "1.2.0",
       "_model_name": "LayoutModel",
       "_view_count": null,
       "_view_module": "@jupyter-widgets/base",
       "_view_module_version": "1.2.0",
       "_view_name": "LayoutView",
       "align_content": null,
       "align_items": null,
       "align_self": null,
       "border": null,
       "bottom": null,
       "display": null,
       "flex": null,
       "flex_flow": null,
       "grid_area": null,
       "grid_auto_columns": null,
       "grid_auto_flow": null,
       "grid_auto_rows": null,
       "grid_column": null,
       "grid_gap": null,
       "grid_row": null,
       "grid_template_areas": null,
       "grid_template_columns": null,
       "grid_template_rows": null,
       "height": null,
       "justify_content": null,
       "justify_items": null,
       "left": null,
       "margin": null,
       "max_height": null,
       "max_width": null,
       "min_height": null,
       "min_width": null,
       "object_fit": null,
       "object_position": null,
       "order": null,
       "overflow": null,
       "overflow_x": null,
       "overflow_y": null,
       "padding": null,
       "right": null,
       "top": null,
       "visibility": null,
       "width": "20px"
      }
     },
     "348c7dd9334143cb94499e3089c06cbb": {
      "model_module": "@jupyter-widgets/base",
      "model_module_version": "1.2.0",
      "model_name": "LayoutModel",
      "state": {
       "_model_module": "@jupyter-widgets/base",
       "_model_module_version": "1.2.0",
       "_model_name": "LayoutModel",
       "_view_count": null,
       "_view_module": "@jupyter-widgets/base",
       "_view_module_version": "1.2.0",
       "_view_name": "LayoutView",
       "align_content": null,
       "align_items": null,
       "align_self": null,
       "border": null,
       "bottom": null,
       "display": null,
       "flex": null,
       "flex_flow": null,
       "grid_area": null,
       "grid_auto_columns": null,
       "grid_auto_flow": null,
       "grid_auto_rows": null,
       "grid_column": null,
       "grid_gap": null,
       "grid_row": null,
       "grid_template_areas": null,
       "grid_template_columns": null,
       "grid_template_rows": null,
       "height": null,
       "justify_content": null,
       "justify_items": null,
       "left": null,
       "margin": null,
       "max_height": null,
       "max_width": null,
       "min_height": null,
       "min_width": null,
       "object_fit": null,
       "object_position": null,
       "order": null,
       "overflow": null,
       "overflow_x": null,
       "overflow_y": null,
       "padding": null,
       "right": null,
       "top": null,
       "visibility": null,
       "width": null
      }
     },
     "34ce0ac2c9f144ddb31a7d67ec628e36": {
      "model_module": "@jupyter-widgets/controls",
      "model_module_version": "1.5.0",
      "model_name": "FloatProgressModel",
      "state": {
       "_dom_classes": [],
       "_model_module": "@jupyter-widgets/controls",
       "_model_module_version": "1.5.0",
       "_model_name": "FloatProgressModel",
       "_view_count": null,
       "_view_module": "@jupyter-widgets/controls",
       "_view_module_version": "1.5.0",
       "_view_name": "ProgressView",
       "bar_style": "",
       "description": "",
       "description_tooltip": null,
       "layout": "IPY_MODEL_e5309dab80b643a0b28dd916ed864321",
       "max": 5.0,
       "min": 0.0,
       "orientation": "horizontal",
       "style": "IPY_MODEL_9695da245916469ea94d3ffbc3b0df51",
       "value": 4.0
      }
     },
     "351694f2200149839afc7b42ef9ba92c": {
      "model_module": "@jupyter-widgets/controls",
      "model_module_version": "1.5.0",
      "model_name": "FloatProgressModel",
      "state": {
       "_dom_classes": [],
       "_model_module": "@jupyter-widgets/controls",
       "_model_module_version": "1.5.0",
       "_model_name": "FloatProgressModel",
       "_view_count": null,
       "_view_module": "@jupyter-widgets/controls",
       "_view_module_version": "1.5.0",
       "_view_name": "ProgressView",
       "bar_style": "",
       "description": "",
       "description_tooltip": null,
       "layout": "IPY_MODEL_c21cb0c332ae411e9d965c232deb6b40",
       "max": 10000.0,
       "min": 0.0,
       "orientation": "horizontal",
       "style": "IPY_MODEL_ad657aa57d394e9e95e30b8e79df2b0c",
       "value": 10000.0
      }
     },
     "389b4f5b55344f5583cf5997dfd10892": {
      "model_module": "@jupyter-widgets/controls",
      "model_module_version": "1.5.0",
      "model_name": "HBoxModel",
      "state": {
       "_dom_classes": [],
       "_model_module": "@jupyter-widgets/controls",
       "_model_module_version": "1.5.0",
       "_model_name": "HBoxModel",
       "_view_count": null,
       "_view_module": "@jupyter-widgets/controls",
       "_view_module_version": "1.5.0",
       "_view_name": "HBoxView",
       "box_style": "",
       "children": [
        "IPY_MODEL_7ce0ca8a3681443e841030d91e043c44",
        "IPY_MODEL_7520e6d92fd54b068efd60f5ca7755c7",
        "IPY_MODEL_0078420403044b2d8afb61c3f759dbe1"
       ],
       "layout": "IPY_MODEL_85fda206670f4588a4b566a9b184b174"
      }
     },
     "3b083d66dd934d76b222614216bcad41": {
      "model_module": "@jupyter-widgets/base",
      "model_module_version": "1.2.0",
      "model_name": "LayoutModel",
      "state": {
       "_model_module": "@jupyter-widgets/base",
       "_model_module_version": "1.2.0",
       "_model_name": "LayoutModel",
       "_view_count": null,
       "_view_module": "@jupyter-widgets/base",
       "_view_module_version": "1.2.0",
       "_view_name": "LayoutView",
       "align_content": null,
       "align_items": null,
       "align_self": null,
       "border": null,
       "bottom": null,
       "display": null,
       "flex": null,
       "flex_flow": null,
       "grid_area": null,
       "grid_auto_columns": null,
       "grid_auto_flow": null,
       "grid_auto_rows": null,
       "grid_column": null,
       "grid_gap": null,
       "grid_row": null,
       "grid_template_areas": null,
       "grid_template_columns": null,
       "grid_template_rows": null,
       "height": null,
       "justify_content": null,
       "justify_items": null,
       "left": null,
       "margin": null,
       "max_height": null,
       "max_width": null,
       "min_height": null,
       "min_width": null,
       "object_fit": null,
       "object_position": null,
       "order": null,
       "overflow": null,
       "overflow_x": null,
       "overflow_y": null,
       "padding": null,
       "right": null,
       "top": null,
       "visibility": null,
       "width": "6%"
      }
     },
     "3bc5693ad3b149bfbd8715ac3b062ab0": {
      "model_module": "@jupyter-widgets/base",
      "model_module_version": "1.2.0",
      "model_name": "LayoutModel",
      "state": {
       "_model_module": "@jupyter-widgets/base",
       "_model_module_version": "1.2.0",
       "_model_name": "LayoutModel",
       "_view_count": null,
       "_view_module": "@jupyter-widgets/base",
       "_view_module_version": "1.2.0",
       "_view_name": "LayoutView",
       "align_content": null,
       "align_items": null,
       "align_self": null,
       "border": null,
       "bottom": null,
       "display": null,
       "flex": null,
       "flex_flow": null,
       "grid_area": null,
       "grid_auto_columns": null,
       "grid_auto_flow": null,
       "grid_auto_rows": null,
       "grid_column": null,
       "grid_gap": null,
       "grid_row": null,
       "grid_template_areas": null,
       "grid_template_columns": null,
       "grid_template_rows": null,
       "height": null,
       "justify_content": null,
       "justify_items": null,
       "left": null,
       "margin": null,
       "max_height": null,
       "max_width": null,
       "min_height": null,
       "min_width": null,
       "object_fit": null,
       "object_position": null,
       "order": null,
       "overflow": null,
       "overflow_x": null,
       "overflow_y": null,
       "padding": null,
       "right": null,
       "top": null,
       "visibility": null,
       "width": null
      }
     },
     "3e616f5882d64f7a96e57799d1d41fff": {
      "model_module": "@jupyter-widgets/controls",
      "model_module_version": "1.5.0",
      "model_name": "ProgressStyleModel",
      "state": {
       "_model_module": "@jupyter-widgets/controls",
       "_model_module_version": "1.5.0",
       "_model_name": "ProgressStyleModel",
       "_view_count": null,
       "_view_module": "@jupyter-widgets/base",
       "_view_module_version": "1.2.0",
       "_view_name": "StyleView",
       "bar_color": null,
       "description_width": ""
      }
     },
     "3f8d5c431e7741cf82f98bae3450905b": {
      "model_module": "@jupyter-widgets/controls",
      "model_module_version": "1.5.0",
      "model_name": "DescriptionStyleModel",
      "state": {
       "_model_module": "@jupyter-widgets/controls",
       "_model_module_version": "1.5.0",
       "_model_name": "DescriptionStyleModel",
       "_view_count": null,
       "_view_module": "@jupyter-widgets/base",
       "_view_module_version": "1.2.0",
       "_view_name": "StyleView",
       "description_width": ""
      }
     },
     "3fa66e11d3a94c2aa45a476bd98ece3f": {
      "model_module": "@jupyter-widgets/base",
      "model_module_version": "1.2.0",
      "model_name": "LayoutModel",
      "state": {
       "_model_module": "@jupyter-widgets/base",
       "_model_module_version": "1.2.0",
       "_model_name": "LayoutModel",
       "_view_count": null,
       "_view_module": "@jupyter-widgets/base",
       "_view_module_version": "1.2.0",
       "_view_name": "LayoutView",
       "align_content": null,
       "align_items": null,
       "align_self": null,
       "border": null,
       "bottom": null,
       "display": null,
       "flex": null,
       "flex_flow": null,
       "grid_area": null,
       "grid_auto_columns": null,
       "grid_auto_flow": null,
       "grid_auto_rows": null,
       "grid_column": null,
       "grid_gap": null,
       "grid_row": null,
       "grid_template_areas": null,
       "grid_template_columns": null,
       "grid_template_rows": null,
       "height": null,
       "justify_content": null,
       "justify_items": null,
       "left": null,
       "margin": null,
       "max_height": null,
       "max_width": null,
       "min_height": null,
       "min_width": null,
       "object_fit": null,
       "object_position": null,
       "order": null,
       "overflow": null,
       "overflow_x": null,
       "overflow_y": null,
       "padding": null,
       "right": null,
       "top": null,
       "visibility": null,
       "width": null
      }
     },
     "3fc7d2ffc36743ca9876c8fb9adf5f30": {
      "model_module": "@jupyter-widgets/controls",
      "model_module_version": "1.5.0",
      "model_name": "HTMLModel",
      "state": {
       "_dom_classes": [],
       "_model_module": "@jupyter-widgets/controls",
       "_model_module_version": "1.5.0",
       "_model_name": "HTMLModel",
       "_view_count": null,
       "_view_module": "@jupyter-widgets/controls",
       "_view_module_version": "1.5.0",
       "_view_name": "HTMLView",
       "description": "",
       "description_tooltip": null,
       "layout": "IPY_MODEL_5f30b925bd4d4927bff6a276f391174e",
       "placeholder": "​",
       "style": "IPY_MODEL_018f16665bdf4004b6c468337a13547d",
       "value": "Iterations:"
      }
     },
     "3fd44aa92de14d5a8206be128c6a6a03": {
      "model_module": "@jupyter-widgets/base",
      "model_module_version": "1.2.0",
      "model_name": "LayoutModel",
      "state": {
       "_model_module": "@jupyter-widgets/base",
       "_model_module_version": "1.2.0",
       "_model_name": "LayoutModel",
       "_view_count": null,
       "_view_module": "@jupyter-widgets/base",
       "_view_module_version": "1.2.0",
       "_view_name": "LayoutView",
       "align_content": null,
       "align_items": null,
       "align_self": null,
       "border": null,
       "bottom": null,
       "display": null,
       "flex": null,
       "flex_flow": null,
       "grid_area": null,
       "grid_auto_columns": null,
       "grid_auto_flow": null,
       "grid_auto_rows": null,
       "grid_column": null,
       "grid_gap": null,
       "grid_row": null,
       "grid_template_areas": null,
       "grid_template_columns": null,
       "grid_template_rows": null,
       "height": null,
       "justify_content": null,
       "justify_items": null,
       "left": null,
       "margin": null,
       "max_height": null,
       "max_width": null,
       "min_height": null,
       "min_width": null,
       "object_fit": null,
       "object_position": null,
       "order": null,
       "overflow": null,
       "overflow_x": null,
       "overflow_y": null,
       "padding": null,
       "right": null,
       "top": null,
       "visibility": null,
       "width": "6%"
      }
     },
     "40ea84652b214a93a039e66613c4da8b": {
      "model_module": "@jupyter-widgets/controls",
      "model_module_version": "1.5.0",
      "model_name": "DescriptionStyleModel",
      "state": {
       "_model_module": "@jupyter-widgets/controls",
       "_model_module_version": "1.5.0",
       "_model_name": "DescriptionStyleModel",
       "_view_count": null,
       "_view_module": "@jupyter-widgets/base",
       "_view_module_version": "1.2.0",
       "_view_name": "StyleView",
       "description_width": ""
      }
     },
     "4178ce1f179d41468761be98fa3fa1b1": {
      "model_module": "@jupyter-widgets/base",
      "model_module_version": "1.2.0",
      "model_name": "LayoutModel",
      "state": {
       "_model_module": "@jupyter-widgets/base",
       "_model_module_version": "1.2.0",
       "_model_name": "LayoutModel",
       "_view_count": null,
       "_view_module": "@jupyter-widgets/base",
       "_view_module_version": "1.2.0",
       "_view_name": "LayoutView",
       "align_content": null,
       "align_items": null,
       "align_self": null,
       "border": null,
       "bottom": null,
       "display": null,
       "flex": null,
       "flex_flow": null,
       "grid_area": null,
       "grid_auto_columns": null,
       "grid_auto_flow": null,
       "grid_auto_rows": null,
       "grid_column": null,
       "grid_gap": null,
       "grid_row": null,
       "grid_template_areas": null,
       "grid_template_columns": null,
       "grid_template_rows": null,
       "height": null,
       "justify_content": null,
       "justify_items": null,
       "left": null,
       "margin": null,
       "max_height": null,
       "max_width": null,
       "min_height": null,
       "min_width": null,
       "object_fit": null,
       "object_position": null,
       "order": null,
       "overflow": null,
       "overflow_x": null,
       "overflow_y": null,
       "padding": null,
       "right": null,
       "top": null,
       "visibility": null,
       "width": null
      }
     },
     "41b0d87250ed4d729e247f1420051a7d": {
      "model_module": "@jupyter-widgets/controls",
      "model_module_version": "1.5.0",
      "model_name": "HBoxModel",
      "state": {
       "_dom_classes": [],
       "_model_module": "@jupyter-widgets/controls",
       "_model_module_version": "1.5.0",
       "_model_name": "HBoxModel",
       "_view_count": null,
       "_view_module": "@jupyter-widgets/controls",
       "_view_module_version": "1.5.0",
       "_view_name": "HBoxView",
       "box_style": "",
       "children": [
        "IPY_MODEL_724150cdc0064ee58239229c046e8e45",
        "IPY_MODEL_2d84ac21a29c46569873f187cce3aafb",
        "IPY_MODEL_b94ea21ac2f744fc8d83cd0a23c6fdb9"
       ],
       "layout": "IPY_MODEL_f9a844274651448b9c238a106256941a"
      }
     },
     "42c1d2dff77441bdb65f0eb1d835a492": {
      "model_module": "@jupyter-widgets/controls",
      "model_module_version": "1.5.0",
      "model_name": "FloatProgressModel",
      "state": {
       "_dom_classes": [],
       "_model_module": "@jupyter-widgets/controls",
       "_model_module_version": "1.5.0",
       "_model_name": "FloatProgressModel",
       "_view_count": null,
       "_view_module": "@jupyter-widgets/controls",
       "_view_module_version": "1.5.0",
       "_view_name": "ProgressView",
       "bar_style": "info",
       "description": "",
       "description_tooltip": null,
       "layout": "IPY_MODEL_ac9fe2aff55744d5ab3af8e441c97db7",
       "max": 1.0,
       "min": 0.0,
       "orientation": "horizontal",
       "style": "IPY_MODEL_b965329f94e74a4b9c214706f0267ba9",
       "value": 0.0
      }
     },
     "42c8a93dfeed49f7abc9eb088b8efb31": {
      "model_module": "@jupyter-widgets/controls",
      "model_module_version": "1.5.0",
      "model_name": "HTMLModel",
      "state": {
       "_dom_classes": [],
       "_model_module": "@jupyter-widgets/controls",
       "_model_module_version": "1.5.0",
       "_model_name": "HTMLModel",
       "_view_count": null,
       "_view_module": "@jupyter-widgets/controls",
       "_view_module_version": "1.5.0",
       "_view_name": "HTMLView",
       "description": "",
       "description_tooltip": null,
       "layout": "IPY_MODEL_76a498ae00c6477cb9e971d5cb498cc7",
       "placeholder": "​",
       "style": "IPY_MODEL_d534538072d341bc8898673ce28be830",
       "value": "4/5 [00:00&lt;00:00, 11.21it/s]"
      }
     },
     "42ead9290c404964a055fbf4c328341f": {
      "model_module": "@jupyter-widgets/base",
      "model_module_version": "1.2.0",
      "model_name": "LayoutModel",
      "state": {
       "_model_module": "@jupyter-widgets/base",
       "_model_module_version": "1.2.0",
       "_model_name": "LayoutModel",
       "_view_count": null,
       "_view_module": "@jupyter-widgets/base",
       "_view_module_version": "1.2.0",
       "_view_name": "LayoutView",
       "align_content": null,
       "align_items": null,
       "align_self": null,
       "border": null,
       "bottom": null,
       "display": null,
       "flex": null,
       "flex_flow": null,
       "grid_area": null,
       "grid_auto_columns": null,
       "grid_auto_flow": null,
       "grid_auto_rows": null,
       "grid_column": null,
       "grid_gap": null,
       "grid_row": null,
       "grid_template_areas": null,
       "grid_template_columns": null,
       "grid_template_rows": null,
       "height": null,
       "justify_content": null,
       "justify_items": null,
       "left": null,
       "margin": null,
       "max_height": null,
       "max_width": null,
       "min_height": null,
       "min_width": null,
       "object_fit": null,
       "object_position": null,
       "order": null,
       "overflow": null,
       "overflow_x": null,
       "overflow_y": null,
       "padding": null,
       "right": null,
       "top": null,
       "visibility": null,
       "width": null
      }
     },
     "4419a2c7da15485fa4efe8a0eb8c1e9a": {
      "model_module": "@jupyter-widgets/controls",
      "model_module_version": "1.5.0",
      "model_name": "HTMLModel",
      "state": {
       "_dom_classes": [],
       "_model_module": "@jupyter-widgets/controls",
       "_model_module_version": "1.5.0",
       "_model_name": "HTMLModel",
       "_view_count": null,
       "_view_module": "@jupyter-widgets/controls",
       "_view_module_version": "1.5.0",
       "_view_name": "HTMLView",
       "description": "",
       "description_tooltip": null,
       "layout": "IPY_MODEL_9fd39e3c4dfb46cd9d128e6bed7cbfc0",
       "placeholder": "​",
       "style": "IPY_MODEL_a889f9e531db476bb1d4a8b9b2142711",
       "value": "4/5 [00:00&lt;00:00, 10.89it/s]"
      }
     },
     "465e7a110a134e8da66e5281055aabc1": {
      "model_module": "@jupyter-widgets/controls",
      "model_module_version": "1.5.0",
      "model_name": "HTMLModel",
      "state": {
       "_dom_classes": [],
       "_model_module": "@jupyter-widgets/controls",
       "_model_module_version": "1.5.0",
       "_model_name": "HTMLModel",
       "_view_count": null,
       "_view_module": "@jupyter-widgets/controls",
       "_view_module_version": "1.5.0",
       "_view_name": "HTMLView",
       "description": "",
       "description_tooltip": null,
       "layout": "IPY_MODEL_6bd60dfb64644328805ef8458bec243e",
       "placeholder": "​",
       "style": "IPY_MODEL_c45428949c8447849ca664986ddc681c",
       "value": "0/? [00:00&lt;?, ?it/s]"
      }
     },
     "465e82210f9d46b4a0431fb756d5c567": {
      "model_module": "@jupyter-widgets/controls",
      "model_module_version": "1.5.0",
      "model_name": "HTMLModel",
      "state": {
       "_dom_classes": [],
       "_model_module": "@jupyter-widgets/controls",
       "_model_module_version": "1.5.0",
       "_model_name": "HTMLModel",
       "_view_count": null,
       "_view_module": "@jupyter-widgets/controls",
       "_view_module_version": "1.5.0",
       "_view_name": "HTMLView",
       "description": "",
       "description_tooltip": null,
       "layout": "IPY_MODEL_46ef7267f8f94f10bcc4f5e286a1e310",
       "placeholder": "​",
       "style": "IPY_MODEL_83d4867ff5c040c18ddcf714db483a31",
       "value": "Packets:   "
      }
     },
     "46ef7267f8f94f10bcc4f5e286a1e310": {
      "model_module": "@jupyter-widgets/base",
      "model_module_version": "1.2.0",
      "model_name": "LayoutModel",
      "state": {
       "_model_module": "@jupyter-widgets/base",
       "_model_module_version": "1.2.0",
       "_model_name": "LayoutModel",
       "_view_count": null,
       "_view_module": "@jupyter-widgets/base",
       "_view_module_version": "1.2.0",
       "_view_name": "LayoutView",
       "align_content": null,
       "align_items": null,
       "align_self": null,
       "border": null,
       "bottom": null,
       "display": null,
       "flex": null,
       "flex_flow": null,
       "grid_area": null,
       "grid_auto_columns": null,
       "grid_auto_flow": null,
       "grid_auto_rows": null,
       "grid_column": null,
       "grid_gap": null,
       "grid_row": null,
       "grid_template_areas": null,
       "grid_template_columns": null,
       "grid_template_rows": null,
       "height": null,
       "justify_content": null,
       "justify_items": null,
       "left": null,
       "margin": null,
       "max_height": null,
       "max_width": null,
       "min_height": null,
       "min_width": null,
       "object_fit": null,
       "object_position": null,
       "order": null,
       "overflow": null,
       "overflow_x": null,
       "overflow_y": null,
       "padding": null,
       "right": null,
       "top": null,
       "visibility": null,
       "width": null
      }
     },
     "47c0d28c167c488db2b107ccff320e57": {
      "model_module": "@jupyter-widgets/base",
      "model_module_version": "1.2.0",
      "model_name": "LayoutModel",
      "state": {
       "_model_module": "@jupyter-widgets/base",
       "_model_module_version": "1.2.0",
       "_model_name": "LayoutModel",
       "_view_count": null,
       "_view_module": "@jupyter-widgets/base",
       "_view_module_version": "1.2.0",
       "_view_name": "LayoutView",
       "align_content": null,
       "align_items": null,
       "align_self": null,
       "border": null,
       "bottom": null,
       "display": null,
       "flex": null,
       "flex_flow": null,
       "grid_area": null,
       "grid_auto_columns": null,
       "grid_auto_flow": null,
       "grid_auto_rows": null,
       "grid_column": null,
       "grid_gap": null,
       "grid_row": null,
       "grid_template_areas": null,
       "grid_template_columns": null,
       "grid_template_rows": null,
       "height": null,
       "justify_content": null,
       "justify_items": null,
       "left": null,
       "margin": null,
       "max_height": null,
       "max_width": null,
       "min_height": null,
       "min_width": null,
       "object_fit": null,
       "object_position": null,
       "order": null,
       "overflow": null,
       "overflow_x": null,
       "overflow_y": null,
       "padding": null,
       "right": null,
       "top": null,
       "visibility": null,
       "width": null
      }
     },
     "49fb81ddc8aa41af814cf6ae8ba51034": {
      "model_module": "@jupyter-widgets/controls",
      "model_module_version": "1.5.0",
      "model_name": "ProgressStyleModel",
      "state": {
       "_model_module": "@jupyter-widgets/controls",
       "_model_module_version": "1.5.0",
       "_model_name": "ProgressStyleModel",
       "_view_count": null,
       "_view_module": "@jupyter-widgets/base",
       "_view_module_version": "1.2.0",
       "_view_name": "StyleView",
       "bar_color": null,
       "description_width": ""
      }
     },
     "4bf68927beb2463a82bc2ac845efe1d4": {
      "model_module": "@jupyter-widgets/controls",
      "model_module_version": "1.5.0",
      "model_name": "HBoxModel",
      "state": {
       "_dom_classes": [],
       "_model_module": "@jupyter-widgets/controls",
       "_model_module_version": "1.5.0",
       "_model_name": "HBoxModel",
       "_view_count": null,
       "_view_module": "@jupyter-widgets/controls",
       "_view_module_version": "1.5.0",
       "_view_name": "HBoxView",
       "box_style": "",
       "children": [
        "IPY_MODEL_f416746143d3414581e5e4e04cd88c8a",
        "IPY_MODEL_5e5f1359e8974a6fa8be8444fd323319",
        "IPY_MODEL_e6a360f750c54bc2b5223c2361605af3"
       ],
       "layout": "IPY_MODEL_9ead29dcdf1c417f896dd50e3d05061e"
      }
     },
     "4f483d6f34174b56872212c4c57794ec": {
      "model_module": "@jupyter-widgets/controls",
      "model_module_version": "1.5.0",
      "model_name": "DescriptionStyleModel",
      "state": {
       "_model_module": "@jupyter-widgets/controls",
       "_model_module_version": "1.5.0",
       "_model_name": "DescriptionStyleModel",
       "_view_count": null,
       "_view_module": "@jupyter-widgets/base",
       "_view_module_version": "1.2.0",
       "_view_name": "StyleView",
       "description_width": ""
      }
     },
     "50e6baacdbd84240a09921a6289d2cc4": {
      "model_module": "@jupyter-widgets/base",
      "model_module_version": "1.2.0",
      "model_name": "LayoutModel",
      "state": {
       "_model_module": "@jupyter-widgets/base",
       "_model_module_version": "1.2.0",
       "_model_name": "LayoutModel",
       "_view_count": null,
       "_view_module": "@jupyter-widgets/base",
       "_view_module_version": "1.2.0",
       "_view_name": "LayoutView",
       "align_content": null,
       "align_items": null,
       "align_self": null,
       "border": null,
       "bottom": null,
       "display": null,
       "flex": null,
       "flex_flow": null,
       "grid_area": null,
       "grid_auto_columns": null,
       "grid_auto_flow": null,
       "grid_auto_rows": null,
       "grid_column": null,
       "grid_gap": null,
       "grid_row": null,
       "grid_template_areas": null,
       "grid_template_columns": null,
       "grid_template_rows": null,
       "height": null,
       "justify_content": null,
       "justify_items": null,
       "left": null,
       "margin": null,
       "max_height": null,
       "max_width": null,
       "min_height": null,
       "min_width": null,
       "object_fit": null,
       "object_position": null,
       "order": null,
       "overflow": null,
       "overflow_x": null,
       "overflow_y": null,
       "padding": null,
       "right": null,
       "top": null,
       "visibility": null,
       "width": null
      }
     },
     "51cb313824464f5b98316aaa0eb9491b": {
      "model_module": "@jupyter-widgets/controls",
      "model_module_version": "1.5.0",
      "model_name": "HBoxModel",
      "state": {
       "_dom_classes": [],
       "_model_module": "@jupyter-widgets/controls",
       "_model_module_version": "1.5.0",
       "_model_name": "HBoxModel",
       "_view_count": null,
       "_view_module": "@jupyter-widgets/controls",
       "_view_module_version": "1.5.0",
       "_view_name": "HBoxView",
       "box_style": "",
       "children": [
        "IPY_MODEL_f45645aac3ca49d48706778b341d7c51",
        "IPY_MODEL_351694f2200149839afc7b42ef9ba92c",
        "IPY_MODEL_c2b2441e68b94c04bade7792ed48e0e7"
       ],
       "layout": "IPY_MODEL_c34a13452d3c4e57a96dfadb8fa9e853"
      }
     },
     "529c672b8fe04cc89caa0a2a39d126bd": {
      "model_module": "@jupyter-widgets/controls",
      "model_module_version": "1.5.0",
      "model_name": "FloatProgressModel",
      "state": {
       "_dom_classes": [],
       "_model_module": "@jupyter-widgets/controls",
       "_model_module_version": "1.5.0",
       "_model_name": "FloatProgressModel",
       "_view_count": null,
       "_view_module": "@jupyter-widgets/controls",
       "_view_module_version": "1.5.0",
       "_view_name": "ProgressView",
       "bar_style": "",
       "description": "",
       "description_tooltip": null,
       "layout": "IPY_MODEL_a4c87e257223488f88242caad7266d0c",
       "max": 10000.0,
       "min": 0.0,
       "orientation": "horizontal",
       "style": "IPY_MODEL_5589c03f80a6454f93ef18fed38b908d",
       "value": 10000.0
      }
     },
     "53d04cecc7c34298a28a679f5ed38a3d": {
      "model_module": "@jupyter-widgets/controls",
      "model_module_version": "1.5.0",
      "model_name": "HTMLModel",
      "state": {
       "_dom_classes": [],
       "_model_module": "@jupyter-widgets/controls",
       "_model_module_version": "1.5.0",
       "_model_name": "HTMLModel",
       "_view_count": null,
       "_view_module": "@jupyter-widgets/controls",
       "_view_module_version": "1.5.0",
       "_view_name": "HTMLView",
       "description": "",
       "description_tooltip": null,
       "layout": "IPY_MODEL_72af36a57a2d4e0384088f290cbf3fff",
       "placeholder": "​",
       "style": "IPY_MODEL_ee9de55d2f224a24844efbfe35eb187f",
       "value": "Packets:   "
      }
     },
     "55089f69f8a74bad8245f1143f1d84de": {
      "model_module": "@jupyter-widgets/base",
      "model_module_version": "1.2.0",
      "model_name": "LayoutModel",
      "state": {
       "_model_module": "@jupyter-widgets/base",
       "_model_module_version": "1.2.0",
       "_model_name": "LayoutModel",
       "_view_count": null,
       "_view_module": "@jupyter-widgets/base",
       "_view_module_version": "1.2.0",
       "_view_name": "LayoutView",
       "align_content": null,
       "align_items": null,
       "align_self": null,
       "border": null,
       "bottom": null,
       "display": null,
       "flex": null,
       "flex_flow": null,
       "grid_area": null,
       "grid_auto_columns": null,
       "grid_auto_flow": null,
       "grid_auto_rows": null,
       "grid_column": null,
       "grid_gap": null,
       "grid_row": null,
       "grid_template_areas": null,
       "grid_template_columns": null,
       "grid_template_rows": null,
       "height": null,
       "justify_content": null,
       "justify_items": null,
       "left": null,
       "margin": null,
       "max_height": null,
       "max_width": null,
       "min_height": null,
       "min_width": null,
       "object_fit": null,
       "object_position": null,
       "order": null,
       "overflow": null,
       "overflow_x": null,
       "overflow_y": null,
       "padding": null,
       "right": null,
       "top": null,
       "visibility": null,
       "width": null
      }
     },
     "553e2093fe6446a6890ed89d3099545a": {
      "model_module": "@jupyter-widgets/controls",
      "model_module_version": "1.5.0",
      "model_name": "FloatProgressModel",
      "state": {
       "_dom_classes": [],
       "_model_module": "@jupyter-widgets/controls",
       "_model_module_version": "1.5.0",
       "_model_name": "FloatProgressModel",
       "_view_count": null,
       "_view_module": "@jupyter-widgets/controls",
       "_view_module_version": "1.5.0",
       "_view_name": "ProgressView",
       "bar_style": "",
       "description": "",
       "description_tooltip": null,
       "layout": "IPY_MODEL_bbf20d0086494892a45839a2096b4bbb",
       "max": 10000.0,
       "min": 0.0,
       "orientation": "horizontal",
       "style": "IPY_MODEL_2e6876f283944cdd886dfba56014d97e",
       "value": 10000.0
      }
     },
     "5551ba37b72c462f8fe34fd82562a089": {
      "model_module": "@jupyter-widgets/base",
      "model_module_version": "1.2.0",
      "model_name": "LayoutModel",
      "state": {
       "_model_module": "@jupyter-widgets/base",
       "_model_module_version": "1.2.0",
       "_model_name": "LayoutModel",
       "_view_count": null,
       "_view_module": "@jupyter-widgets/base",
       "_view_module_version": "1.2.0",
       "_view_name": "LayoutView",
       "align_content": null,
       "align_items": null,
       "align_self": null,
       "border": null,
       "bottom": null,
       "display": null,
       "flex": null,
       "flex_flow": null,
       "grid_area": null,
       "grid_auto_columns": null,
       "grid_auto_flow": null,
       "grid_auto_rows": null,
       "grid_column": null,
       "grid_gap": null,
       "grid_row": null,
       "grid_template_areas": null,
       "grid_template_columns": null,
       "grid_template_rows": null,
       "height": null,
       "justify_content": null,
       "justify_items": null,
       "left": null,
       "margin": null,
       "max_height": null,
       "max_width": null,
       "min_height": null,
       "min_width": null,
       "object_fit": null,
       "object_position": null,
       "order": null,
       "overflow": null,
       "overflow_x": null,
       "overflow_y": null,
       "padding": null,
       "right": null,
       "top": null,
       "visibility": null,
       "width": "60%"
      }
     },
     "5589c03f80a6454f93ef18fed38b908d": {
      "model_module": "@jupyter-widgets/controls",
      "model_module_version": "1.5.0",
      "model_name": "ProgressStyleModel",
      "state": {
       "_model_module": "@jupyter-widgets/controls",
       "_model_module_version": "1.5.0",
       "_model_name": "ProgressStyleModel",
       "_view_count": null,
       "_view_module": "@jupyter-widgets/base",
       "_view_module_version": "1.2.0",
       "_view_name": "StyleView",
       "bar_color": null,
       "description_width": ""
      }
     },
     "5921ed834db64e15869534b12bd33505": {
      "model_module": "@jupyter-widgets/controls",
      "model_module_version": "1.5.0",
      "model_name": "HTMLModel",
      "state": {
       "_dom_classes": [],
       "_model_module": "@jupyter-widgets/controls",
       "_model_module_version": "1.5.0",
       "_model_name": "HTMLModel",
       "_view_count": null,
       "_view_module": "@jupyter-widgets/controls",
       "_view_module_version": "1.5.0",
       "_view_name": "HTMLView",
       "description": "",
       "description_tooltip": null,
       "layout": "IPY_MODEL_61626f442cc4462b85c819a5e16abb6a",
       "placeholder": "​",
       "style": "IPY_MODEL_8fb73d450e9a444fa2e36319168b5d9f",
       "value": "Iterations:"
      }
     },
     "598b83f02b86453fafd3dc8b968664e4": {
      "model_module": "@jupyter-widgets/controls",
      "model_module_version": "1.5.0",
      "model_name": "FloatProgressModel",
      "state": {
       "_dom_classes": [],
       "_model_module": "@jupyter-widgets/controls",
       "_model_module_version": "1.5.0",
       "_model_name": "FloatProgressModel",
       "_view_count": null,
       "_view_module": "@jupyter-widgets/controls",
       "_view_module_version": "1.5.0",
       "_view_name": "ProgressView",
       "bar_style": "",
       "description": "",
       "description_tooltip": null,
       "layout": "IPY_MODEL_220b26061dc946e6829f0fba81c09b04",
       "max": 10000.0,
       "min": 0.0,
       "orientation": "horizontal",
       "style": "IPY_MODEL_c31f9e5b06e94c0ba46f98455420dbac",
       "value": 10000.0
      }
     },
     "5aa0a9a1709644f79470e1af64dbe745": {
      "model_module": "@jupyter-widgets/controls",
      "model_module_version": "1.5.0",
      "model_name": "FloatProgressModel",
      "state": {
       "_dom_classes": [],
       "_model_module": "@jupyter-widgets/controls",
       "_model_module_version": "1.5.0",
       "_model_name": "FloatProgressModel",
       "_view_count": null,
       "_view_module": "@jupyter-widgets/controls",
       "_view_module_version": "1.5.0",
       "_view_name": "ProgressView",
       "bar_style": "",
       "description": "",
       "description_tooltip": null,
       "layout": "IPY_MODEL_8f7f391b52604e8ea1a850056659cb8b",
       "max": 5.0,
       "min": 0.0,
       "orientation": "horizontal",
       "style": "IPY_MODEL_8cec9193bbb6445bbbfc55d35bfee123",
       "value": 5.0
      }
     },
     "5b0ca07cdeac4bf4918f1faf9290d0d2": {
      "model_module": "@jupyter-widgets/base",
      "model_module_version": "1.2.0",
      "model_name": "LayoutModel",
      "state": {
       "_model_module": "@jupyter-widgets/base",
       "_model_module_version": "1.2.0",
       "_model_name": "LayoutModel",
       "_view_count": null,
       "_view_module": "@jupyter-widgets/base",
       "_view_module_version": "1.2.0",
       "_view_name": "LayoutView",
       "align_content": null,
       "align_items": null,
       "align_self": null,
       "border": null,
       "bottom": null,
       "display": null,
       "flex": null,
       "flex_flow": null,
       "grid_area": null,
       "grid_auto_columns": null,
       "grid_auto_flow": null,
       "grid_auto_rows": null,
       "grid_column": null,
       "grid_gap": null,
       "grid_row": null,
       "grid_template_areas": null,
       "grid_template_columns": null,
       "grid_template_rows": null,
       "height": null,
       "justify_content": null,
       "justify_items": null,
       "left": null,
       "margin": null,
       "max_height": null,
       "max_width": null,
       "min_height": null,
       "min_width": null,
       "object_fit": null,
       "object_position": null,
       "order": null,
       "overflow": null,
       "overflow_x": null,
       "overflow_y": null,
       "padding": null,
       "right": null,
       "top": null,
       "visibility": null,
       "width": "60%"
      }
     },
     "5bb10d8f1d4e41429bb40f228ae59667": {
      "model_module": "@jupyter-widgets/base",
      "model_module_version": "1.2.0",
      "model_name": "LayoutModel",
      "state": {
       "_model_module": "@jupyter-widgets/base",
       "_model_module_version": "1.2.0",
       "_model_name": "LayoutModel",
       "_view_count": null,
       "_view_module": "@jupyter-widgets/base",
       "_view_module_version": "1.2.0",
       "_view_name": "LayoutView",
       "align_content": null,
       "align_items": null,
       "align_self": null,
       "border": null,
       "bottom": null,
       "display": null,
       "flex": null,
       "flex_flow": null,
       "grid_area": null,
       "grid_auto_columns": null,
       "grid_auto_flow": null,
       "grid_auto_rows": null,
       "grid_column": null,
       "grid_gap": null,
       "grid_row": null,
       "grid_template_areas": null,
       "grid_template_columns": null,
       "grid_template_rows": null,
       "height": null,
       "justify_content": null,
       "justify_items": null,
       "left": null,
       "margin": null,
       "max_height": null,
       "max_width": null,
       "min_height": null,
       "min_width": null,
       "object_fit": null,
       "object_position": null,
       "order": null,
       "overflow": null,
       "overflow_x": null,
       "overflow_y": null,
       "padding": null,
       "right": null,
       "top": null,
       "visibility": null,
       "width": "60%"
      }
     },
     "5ca4d0c16a2c4ab68073e41aef962869": {
      "model_module": "@jupyter-widgets/controls",
      "model_module_version": "1.5.0",
      "model_name": "HTMLModel",
      "state": {
       "_dom_classes": [],
       "_model_module": "@jupyter-widgets/controls",
       "_model_module_version": "1.5.0",
       "_model_name": "HTMLModel",
       "_view_count": null,
       "_view_module": "@jupyter-widgets/controls",
       "_view_module_version": "1.5.0",
       "_view_name": "HTMLView",
       "description": "",
       "description_tooltip": null,
       "layout": "IPY_MODEL_348c7dd9334143cb94499e3089c06cbb",
       "placeholder": "​",
       "style": "IPY_MODEL_9b97612fcc7247cdbabb669e4df4d1ad",
       "value": "10000/10000 [00:00&lt;00:00, 62559.76it/s]"
      }
     },
     "5e5f1359e8974a6fa8be8444fd323319": {
      "model_module": "@jupyter-widgets/controls",
      "model_module_version": "1.5.0",
      "model_name": "FloatProgressModel",
      "state": {
       "_dom_classes": [],
       "_model_module": "@jupyter-widgets/controls",
       "_model_module_version": "1.5.0",
       "_model_name": "FloatProgressModel",
       "_view_count": null,
       "_view_module": "@jupyter-widgets/controls",
       "_view_module_version": "1.5.0",
       "_view_name": "ProgressView",
       "bar_style": "",
       "description": "",
       "description_tooltip": null,
       "layout": "IPY_MODEL_2cb79a586ae04e74a9fc6064da6b728a",
       "max": 10000.0,
       "min": 0.0,
       "orientation": "horizontal",
       "style": "IPY_MODEL_ec899cfa679c4677aab5510fc7c14b5b",
       "value": 10000.0
      }
     },
     "5e7c9b6a27ca429a999cf0dc537b58c8": {
      "model_module": "@jupyter-widgets/controls",
      "model_module_version": "1.5.0",
      "model_name": "HTMLModel",
      "state": {
       "_dom_classes": [],
       "_model_module": "@jupyter-widgets/controls",
       "_model_module_version": "1.5.0",
       "_model_name": "HTMLModel",
       "_view_count": null,
       "_view_module": "@jupyter-widgets/controls",
       "_view_module_version": "1.5.0",
       "_view_name": "HTMLView",
       "description": "",
       "description_tooltip": null,
       "layout": "IPY_MODEL_aab987a746bc46a69341be76f020c3b2",
       "placeholder": "​",
       "style": "IPY_MODEL_155bba2719ee4df7b1d4ea319e13f72e",
       "value": "4/5 [00:00&lt;00:00, 10.55it/s]"
      }
     },
     "5f30b925bd4d4927bff6a276f391174e": {
      "model_module": "@jupyter-widgets/base",
      "model_module_version": "1.2.0",
      "model_name": "LayoutModel",
      "state": {
       "_model_module": "@jupyter-widgets/base",
       "_model_module_version": "1.2.0",
       "_model_name": "LayoutModel",
       "_view_count": null,
       "_view_module": "@jupyter-widgets/base",
       "_view_module_version": "1.2.0",
       "_view_name": "LayoutView",
       "align_content": null,
       "align_items": null,
       "align_self": null,
       "border": null,
       "bottom": null,
       "display": null,
       "flex": null,
       "flex_flow": null,
       "grid_area": null,
       "grid_auto_columns": null,
       "grid_auto_flow": null,
       "grid_auto_rows": null,
       "grid_column": null,
       "grid_gap": null,
       "grid_row": null,
       "grid_template_areas": null,
       "grid_template_columns": null,
       "grid_template_rows": null,
       "height": null,
       "justify_content": null,
       "justify_items": null,
       "left": null,
       "margin": null,
       "max_height": null,
       "max_width": null,
       "min_height": null,
       "min_width": null,
       "object_fit": null,
       "object_position": null,
       "order": null,
       "overflow": null,
       "overflow_x": null,
       "overflow_y": null,
       "padding": null,
       "right": null,
       "top": null,
       "visibility": null,
       "width": "6%"
      }
     },
     "5f7c05560bb1406ebcaa22dce1c5b719": {
      "model_module": "@jupyter-widgets/controls",
      "model_module_version": "1.5.0",
      "model_name": "HTMLModel",
      "state": {
       "_dom_classes": [],
       "_model_module": "@jupyter-widgets/controls",
       "_model_module_version": "1.5.0",
       "_model_name": "HTMLModel",
       "_view_count": null,
       "_view_module": "@jupyter-widgets/controls",
       "_view_module_version": "1.5.0",
       "_view_name": "HTMLView",
       "description": "",
       "description_tooltip": null,
       "layout": "IPY_MODEL_3b083d66dd934d76b222614216bcad41",
       "placeholder": "​",
       "style": "IPY_MODEL_1852fc1b2ae8466fbe62a696c542518c",
       "value": "Packets:   "
      }
     },
     "61626f442cc4462b85c819a5e16abb6a": {
      "model_module": "@jupyter-widgets/base",
      "model_module_version": "1.2.0",
      "model_name": "LayoutModel",
      "state": {
       "_model_module": "@jupyter-widgets/base",
       "_model_module_version": "1.2.0",
       "_model_name": "LayoutModel",
       "_view_count": null,
       "_view_module": "@jupyter-widgets/base",
       "_view_module_version": "1.2.0",
       "_view_name": "LayoutView",
       "align_content": null,
       "align_items": null,
       "align_self": null,
       "border": null,
       "bottom": null,
       "display": null,
       "flex": null,
       "flex_flow": null,
       "grid_area": null,
       "grid_auto_columns": null,
       "grid_auto_flow": null,
       "grid_auto_rows": null,
       "grid_column": null,
       "grid_gap": null,
       "grid_row": null,
       "grid_template_areas": null,
       "grid_template_columns": null,
       "grid_template_rows": null,
       "height": null,
       "justify_content": null,
       "justify_items": null,
       "left": null,
       "margin": null,
       "max_height": null,
       "max_width": null,
       "min_height": null,
       "min_width": null,
       "object_fit": null,
       "object_position": null,
       "order": null,
       "overflow": null,
       "overflow_x": null,
       "overflow_y": null,
       "padding": null,
       "right": null,
       "top": null,
       "visibility": null,
       "width": "6%"
      }
     },
     "6270b47a6aec44b7b9faade1f26d1216": {
      "model_module": "@jupyter-widgets/controls",
      "model_module_version": "1.5.0",
      "model_name": "HTMLModel",
      "state": {
       "_dom_classes": [],
       "_model_module": "@jupyter-widgets/controls",
       "_model_module_version": "1.5.0",
       "_model_name": "HTMLModel",
       "_view_count": null,
       "_view_module": "@jupyter-widgets/controls",
       "_view_module_version": "1.5.0",
       "_view_name": "HTMLView",
       "description": "",
       "description_tooltip": null,
       "layout": "IPY_MODEL_3fa66e11d3a94c2aa45a476bd98ece3f",
       "placeholder": "​",
       "style": "IPY_MODEL_8b4cd9611103435a80fd115987933c75",
       "value": "10000/10000 [00:00&lt;00:00, 62569.31it/s]"
      }
     },
     "62db399e7c814b1d9431091a0442e828": {
      "model_module": "@jupyter-widgets/controls",
      "model_module_version": "1.5.0",
      "model_name": "HTMLModel",
      "state": {
       "_dom_classes": [],
       "_model_module": "@jupyter-widgets/controls",
       "_model_module_version": "1.5.0",
       "_model_name": "HTMLModel",
       "_view_count": null,
       "_view_module": "@jupyter-widgets/controls",
       "_view_module_version": "1.5.0",
       "_view_name": "HTMLView",
       "description": "",
       "description_tooltip": null,
       "layout": "IPY_MODEL_8bd15a191c534f4e8a720870d7dcff88",
       "placeholder": "​",
       "style": "IPY_MODEL_17e9d1f13e84428d952b9a2e7acb0d17",
       "value": "Packets:   "
      }
     },
     "6434c28f519c4d2e8c411c6757040c4c": {
      "model_module": "@jupyter-widgets/controls",
      "model_module_version": "1.5.0",
      "model_name": "HTMLModel",
      "state": {
       "_dom_classes": [],
       "_model_module": "@jupyter-widgets/controls",
       "_model_module_version": "1.5.0",
       "_model_name": "HTMLModel",
       "_view_count": null,
       "_view_module": "@jupyter-widgets/controls",
       "_view_module_version": "1.5.0",
       "_view_name": "HTMLView",
       "description": "",
       "description_tooltip": null,
       "layout": "IPY_MODEL_77365c3c02c740319f77527f1d2a64e1",
       "placeholder": "​",
       "style": "IPY_MODEL_40ea84652b214a93a039e66613c4da8b",
       "value": "Iterations:"
      }
     },
     "66dbc455fde14ed8bc7e1d2c3ee1a11d": {
      "model_module": "@jupyter-widgets/controls",
      "model_module_version": "1.5.0",
      "model_name": "FloatProgressModel",
      "state": {
       "_dom_classes": [],
       "_model_module": "@jupyter-widgets/controls",
       "_model_module_version": "1.5.0",
       "_model_name": "FloatProgressModel",
       "_view_count": null,
       "_view_module": "@jupyter-widgets/controls",
       "_view_module_version": "1.5.0",
       "_view_name": "ProgressView",
       "bar_style": "",
       "description": "",
       "description_tooltip": null,
       "layout": "IPY_MODEL_5551ba37b72c462f8fe34fd82562a089",
       "max": 10000.0,
       "min": 0.0,
       "orientation": "horizontal",
       "style": "IPY_MODEL_ae03d93b09e841b4847695d66337a12a",
       "value": 10000.0
      }
     },
     "6717ebe39ec345199374dd12669f8eb5": {
      "model_module": "@jupyter-widgets/base",
      "model_module_version": "1.2.0",
      "model_name": "LayoutModel",
      "state": {
       "_model_module": "@jupyter-widgets/base",
       "_model_module_version": "1.2.0",
       "_model_name": "LayoutModel",
       "_view_count": null,
       "_view_module": "@jupyter-widgets/base",
       "_view_module_version": "1.2.0",
       "_view_name": "LayoutView",
       "align_content": null,
       "align_items": null,
       "align_self": null,
       "border": null,
       "bottom": null,
       "display": null,
       "flex": null,
       "flex_flow": null,
       "grid_area": null,
       "grid_auto_columns": null,
       "grid_auto_flow": null,
       "grid_auto_rows": null,
       "grid_column": null,
       "grid_gap": null,
       "grid_row": null,
       "grid_template_areas": null,
       "grid_template_columns": null,
       "grid_template_rows": null,
       "height": null,
       "justify_content": null,
       "justify_items": null,
       "left": null,
       "margin": null,
       "max_height": null,
       "max_width": null,
       "min_height": null,
       "min_width": null,
       "object_fit": null,
       "object_position": null,
       "order": null,
       "overflow": null,
       "overflow_x": null,
       "overflow_y": null,
       "padding": null,
       "right": null,
       "top": null,
       "visibility": null,
       "width": null
      }
     },
     "6bd60dfb64644328805ef8458bec243e": {
      "model_module": "@jupyter-widgets/base",
      "model_module_version": "1.2.0",
      "model_name": "LayoutModel",
      "state": {
       "_model_module": "@jupyter-widgets/base",
       "_model_module_version": "1.2.0",
       "_model_name": "LayoutModel",
       "_view_count": null,
       "_view_module": "@jupyter-widgets/base",
       "_view_module_version": "1.2.0",
       "_view_name": "LayoutView",
       "align_content": null,
       "align_items": null,
       "align_self": null,
       "border": null,
       "bottom": null,
       "display": null,
       "flex": null,
       "flex_flow": null,
       "grid_area": null,
       "grid_auto_columns": null,
       "grid_auto_flow": null,
       "grid_auto_rows": null,
       "grid_column": null,
       "grid_gap": null,
       "grid_row": null,
       "grid_template_areas": null,
       "grid_template_columns": null,
       "grid_template_rows": null,
       "height": null,
       "justify_content": null,
       "justify_items": null,
       "left": null,
       "margin": null,
       "max_height": null,
       "max_width": null,
       "min_height": null,
       "min_width": null,
       "object_fit": null,
       "object_position": null,
       "order": null,
       "overflow": null,
       "overflow_x": null,
       "overflow_y": null,
       "padding": null,
       "right": null,
       "top": null,
       "visibility": null,
       "width": null
      }
     },
     "6ee24bd96e7f4ece9e4c50821841e7c9": {
      "model_module": "@jupyter-widgets/controls",
      "model_module_version": "1.5.0",
      "model_name": "FloatProgressModel",
      "state": {
       "_dom_classes": [],
       "_model_module": "@jupyter-widgets/controls",
       "_model_module_version": "1.5.0",
       "_model_name": "FloatProgressModel",
       "_view_count": null,
       "_view_module": "@jupyter-widgets/controls",
       "_view_module_version": "1.5.0",
       "_view_name": "ProgressView",
       "bar_style": "",
       "description": "",
       "description_tooltip": null,
       "layout": "IPY_MODEL_c6875d07aa9a43c08b4dc5bd6a8c1f8a",
       "max": 10000.0,
       "min": 0.0,
       "orientation": "horizontal",
       "style": "IPY_MODEL_b40dad13205146579e754ff8955fc6d7",
       "value": 10000.0
      }
     },
     "6f5bdb9861e2438b8bbccddce3f8c803": {
      "model_module": "@jupyter-widgets/controls",
      "model_module_version": "1.5.0",
      "model_name": "ProgressStyleModel",
      "state": {
       "_model_module": "@jupyter-widgets/controls",
       "_model_module_version": "1.5.0",
       "_model_name": "ProgressStyleModel",
       "_view_count": null,
       "_view_module": "@jupyter-widgets/base",
       "_view_module_version": "1.2.0",
       "_view_name": "StyleView",
       "bar_color": null,
       "description_width": ""
      }
     },
     "70237c90f6d3402297220b7604230866": {
      "model_module": "@jupyter-widgets/controls",
      "model_module_version": "1.5.0",
      "model_name": "HBoxModel",
      "state": {
       "_dom_classes": [],
       "_model_module": "@jupyter-widgets/controls",
       "_model_module_version": "1.5.0",
       "_model_name": "HBoxModel",
       "_view_count": null,
       "_view_module": "@jupyter-widgets/controls",
       "_view_module_version": "1.5.0",
       "_view_name": "HBoxView",
       "box_style": "",
       "children": [
        "IPY_MODEL_a3189ec8c55e496783ff8b802512339c",
        "IPY_MODEL_598b83f02b86453fafd3dc8b968664e4",
        "IPY_MODEL_6270b47a6aec44b7b9faade1f26d1216"
       ],
       "layout": "IPY_MODEL_95d7c2cbd99643729040ee61d46e75af"
      }
     },
     "724150cdc0064ee58239229c046e8e45": {
      "model_module": "@jupyter-widgets/controls",
      "model_module_version": "1.5.0",
      "model_name": "HTMLModel",
      "state": {
       "_dom_classes": [],
       "_model_module": "@jupyter-widgets/controls",
       "_model_module_version": "1.5.0",
       "_model_name": "HTMLModel",
       "_view_count": null,
       "_view_module": "@jupyter-widgets/controls",
       "_view_module_version": "1.5.0",
       "_view_name": "HTMLView",
       "description": "",
       "description_tooltip": null,
       "layout": "IPY_MODEL_dd5f4ea687694e668944031b0d1dece4",
       "placeholder": "​",
       "style": "IPY_MODEL_12ee85d299d0465aae94ba22bb2b65f6",
       "value": "Iterations:"
      }
     },
     "7246289294c9415186a39b76cb7d6c66": {
      "model_module": "@jupyter-widgets/controls",
      "model_module_version": "1.5.0",
      "model_name": "FloatProgressModel",
      "state": {
       "_dom_classes": [],
       "_model_module": "@jupyter-widgets/controls",
       "_model_module_version": "1.5.0",
       "_model_name": "FloatProgressModel",
       "_view_count": null,
       "_view_module": "@jupyter-widgets/controls",
       "_view_module_version": "1.5.0",
       "_view_name": "ProgressView",
       "bar_style": "",
       "description": "",
       "description_tooltip": null,
       "layout": "IPY_MODEL_5b0ca07cdeac4bf4918f1faf9290d0d2",
       "max": 10000.0,
       "min": 0.0,
       "orientation": "horizontal",
       "style": "IPY_MODEL_6f5bdb9861e2438b8bbccddce3f8c803",
       "value": 10000.0
      }
     },
     "72af36a57a2d4e0384088f290cbf3fff": {
      "model_module": "@jupyter-widgets/base",
      "model_module_version": "1.2.0",
      "model_name": "LayoutModel",
      "state": {
       "_model_module": "@jupyter-widgets/base",
       "_model_module_version": "1.2.0",
       "_model_name": "LayoutModel",
       "_view_count": null,
       "_view_module": "@jupyter-widgets/base",
       "_view_module_version": "1.2.0",
       "_view_name": "LayoutView",
       "align_content": null,
       "align_items": null,
       "align_self": null,
       "border": null,
       "bottom": null,
       "display": null,
       "flex": null,
       "flex_flow": null,
       "grid_area": null,
       "grid_auto_columns": null,
       "grid_auto_flow": null,
       "grid_auto_rows": null,
       "grid_column": null,
       "grid_gap": null,
       "grid_row": null,
       "grid_template_areas": null,
       "grid_template_columns": null,
       "grid_template_rows": null,
       "height": null,
       "justify_content": null,
       "justify_items": null,
       "left": null,
       "margin": null,
       "max_height": null,
       "max_width": null,
       "min_height": null,
       "min_width": null,
       "object_fit": null,
       "object_position": null,
       "order": null,
       "overflow": null,
       "overflow_x": null,
       "overflow_y": null,
       "padding": null,
       "right": null,
       "top": null,
       "visibility": null,
       "width": "6%"
      }
     },
     "735aad9a3ab64890adc7c1934c307bf9": {
      "model_module": "@jupyter-widgets/base",
      "model_module_version": "1.2.0",
      "model_name": "LayoutModel",
      "state": {
       "_model_module": "@jupyter-widgets/base",
       "_model_module_version": "1.2.0",
       "_model_name": "LayoutModel",
       "_view_count": null,
       "_view_module": "@jupyter-widgets/base",
       "_view_module_version": "1.2.0",
       "_view_name": "LayoutView",
       "align_content": null,
       "align_items": null,
       "align_self": null,
       "border": null,
       "bottom": null,
       "display": null,
       "flex": null,
       "flex_flow": null,
       "grid_area": null,
       "grid_auto_columns": null,
       "grid_auto_flow": null,
       "grid_auto_rows": null,
       "grid_column": null,
       "grid_gap": null,
       "grid_row": null,
       "grid_template_areas": null,
       "grid_template_columns": null,
       "grid_template_rows": null,
       "height": null,
       "justify_content": null,
       "justify_items": null,
       "left": null,
       "margin": null,
       "max_height": null,
       "max_width": null,
       "min_height": null,
       "min_width": null,
       "object_fit": null,
       "object_position": null,
       "order": null,
       "overflow": null,
       "overflow_x": null,
       "overflow_y": null,
       "padding": null,
       "right": null,
       "top": null,
       "visibility": null,
       "width": null
      }
     },
     "74a321f3a4f44b7ca51ae498df61adf2": {
      "model_module": "@jupyter-widgets/controls",
      "model_module_version": "1.5.0",
      "model_name": "HBoxModel",
      "state": {
       "_dom_classes": [],
       "_model_module": "@jupyter-widgets/controls",
       "_model_module_version": "1.5.0",
       "_model_name": "HBoxModel",
       "_view_count": null,
       "_view_module": "@jupyter-widgets/controls",
       "_view_module_version": "1.5.0",
       "_view_name": "HBoxView",
       "box_style": "",
       "children": [
        "IPY_MODEL_88180298cdc84255bf81488ff5fbf2bd",
        "IPY_MODEL_219d1ca71a184ec4a73a0a977693e364",
        "IPY_MODEL_42c8a93dfeed49f7abc9eb088b8efb31"
       ],
       "layout": "IPY_MODEL_29342dc0540d41a0a8a75b09b658a148"
      }
     },
     "7520e6d92fd54b068efd60f5ca7755c7": {
      "model_module": "@jupyter-widgets/controls",
      "model_module_version": "1.5.0",
      "model_name": "FloatProgressModel",
      "state": {
       "_dom_classes": [],
       "_model_module": "@jupyter-widgets/controls",
       "_model_module_version": "1.5.0",
       "_model_name": "FloatProgressModel",
       "_view_count": null,
       "_view_module": "@jupyter-widgets/controls",
       "_view_module_version": "1.5.0",
       "_view_name": "ProgressView",
       "bar_style": "",
       "description": "",
       "description_tooltip": null,
       "layout": "IPY_MODEL_5bb10d8f1d4e41429bb40f228ae59667",
       "max": 10000.0,
       "min": 0.0,
       "orientation": "horizontal",
       "style": "IPY_MODEL_fbfbcb1e1a1941d692d93cb51f7b3999",
       "value": 10000.0
      }
     },
     "76a498ae00c6477cb9e971d5cb498cc7": {
      "model_module": "@jupyter-widgets/base",
      "model_module_version": "1.2.0",
      "model_name": "LayoutModel",
      "state": {
       "_model_module": "@jupyter-widgets/base",
       "_model_module_version": "1.2.0",
       "_model_name": "LayoutModel",
       "_view_count": null,
       "_view_module": "@jupyter-widgets/base",
       "_view_module_version": "1.2.0",
       "_view_name": "LayoutView",
       "align_content": null,
       "align_items": null,
       "align_self": null,
       "border": null,
       "bottom": null,
       "display": null,
       "flex": null,
       "flex_flow": null,
       "grid_area": null,
       "grid_auto_columns": null,
       "grid_auto_flow": null,
       "grid_auto_rows": null,
       "grid_column": null,
       "grid_gap": null,
       "grid_row": null,
       "grid_template_areas": null,
       "grid_template_columns": null,
       "grid_template_rows": null,
       "height": null,
       "justify_content": null,
       "justify_items": null,
       "left": null,
       "margin": null,
       "max_height": null,
       "max_width": null,
       "min_height": null,
       "min_width": null,
       "object_fit": null,
       "object_position": null,
       "order": null,
       "overflow": null,
       "overflow_x": null,
       "overflow_y": null,
       "padding": null,
       "right": null,
       "top": null,
       "visibility": null,
       "width": null
      }
     },
     "76d2ca7850cb491c82f28128759e6139": {
      "model_module": "@jupyter-widgets/base",
      "model_module_version": "1.2.0",
      "model_name": "LayoutModel",
      "state": {
       "_model_module": "@jupyter-widgets/base",
       "_model_module_version": "1.2.0",
       "_model_name": "LayoutModel",
       "_view_count": null,
       "_view_module": "@jupyter-widgets/base",
       "_view_module_version": "1.2.0",
       "_view_name": "LayoutView",
       "align_content": null,
       "align_items": null,
       "align_self": null,
       "border": null,
       "bottom": null,
       "display": null,
       "flex": null,
       "flex_flow": null,
       "grid_area": null,
       "grid_auto_columns": null,
       "grid_auto_flow": null,
       "grid_auto_rows": null,
       "grid_column": null,
       "grid_gap": null,
       "grid_row": null,
       "grid_template_areas": null,
       "grid_template_columns": null,
       "grid_template_rows": null,
       "height": null,
       "justify_content": null,
       "justify_items": null,
       "left": null,
       "margin": null,
       "max_height": null,
       "max_width": null,
       "min_height": null,
       "min_width": null,
       "object_fit": null,
       "object_position": null,
       "order": null,
       "overflow": null,
       "overflow_x": null,
       "overflow_y": null,
       "padding": null,
       "right": null,
       "top": null,
       "visibility": null,
       "width": null
      }
     },
     "77365c3c02c740319f77527f1d2a64e1": {
      "model_module": "@jupyter-widgets/base",
      "model_module_version": "1.2.0",
      "model_name": "LayoutModel",
      "state": {
       "_model_module": "@jupyter-widgets/base",
       "_model_module_version": "1.2.0",
       "_model_name": "LayoutModel",
       "_view_count": null,
       "_view_module": "@jupyter-widgets/base",
       "_view_module_version": "1.2.0",
       "_view_name": "LayoutView",
       "align_content": null,
       "align_items": null,
       "align_self": null,
       "border": null,
       "bottom": null,
       "display": null,
       "flex": null,
       "flex_flow": null,
       "grid_area": null,
       "grid_auto_columns": null,
       "grid_auto_flow": null,
       "grid_auto_rows": null,
       "grid_column": null,
       "grid_gap": null,
       "grid_row": null,
       "grid_template_areas": null,
       "grid_template_columns": null,
       "grid_template_rows": null,
       "height": null,
       "justify_content": null,
       "justify_items": null,
       "left": null,
       "margin": null,
       "max_height": null,
       "max_width": null,
       "min_height": null,
       "min_width": null,
       "object_fit": null,
       "object_position": null,
       "order": null,
       "overflow": null,
       "overflow_x": null,
       "overflow_y": null,
       "padding": null,
       "right": null,
       "top": null,
       "visibility": null,
       "width": null
      }
     },
     "77a58a4ba9ee497baa3fcb7a4fc242be": {
      "model_module": "@jupyter-widgets/controls",
      "model_module_version": "1.5.0",
      "model_name": "HBoxModel",
      "state": {
       "_dom_classes": [],
       "_model_module": "@jupyter-widgets/controls",
       "_model_module_version": "1.5.0",
       "_model_name": "HBoxModel",
       "_view_count": null,
       "_view_module": "@jupyter-widgets/controls",
       "_view_module_version": "1.5.0",
       "_view_name": "HBoxView",
       "box_style": "",
       "children": [
        "IPY_MODEL_6434c28f519c4d2e8c411c6757040c4c",
        "IPY_MODEL_d9ddb1629bb84940b86f115744120cea",
        "IPY_MODEL_465e7a110a134e8da66e5281055aabc1"
       ],
       "layout": "IPY_MODEL_1199f049a4a54e08a60a24184247b7f5"
      }
     },
     "7cc3f9a5e3554ab99583b72543dc218c": {
      "model_module": "@jupyter-widgets/controls",
      "model_module_version": "1.5.0",
      "model_name": "HTMLModel",
      "state": {
       "_dom_classes": [],
       "_model_module": "@jupyter-widgets/controls",
       "_model_module_version": "1.5.0",
       "_model_name": "HTMLModel",
       "_view_count": null,
       "_view_module": "@jupyter-widgets/controls",
       "_view_module_version": "1.5.0",
       "_view_name": "HTMLView",
       "description": "",
       "description_tooltip": null,
       "layout": "IPY_MODEL_02e95870aeb54197b9ce6e6f17442556",
       "placeholder": "​",
       "style": "IPY_MODEL_c4f7df54b60a4522b7a6132bd405bcc1",
       "value": "10000/10000 [00:00&lt;00:00, 55637.51it/s]"
      }
     },
     "7ce0ca8a3681443e841030d91e043c44": {
      "model_module": "@jupyter-widgets/controls",
      "model_module_version": "1.5.0",
      "model_name": "HTMLModel",
      "state": {
       "_dom_classes": [],
       "_model_module": "@jupyter-widgets/controls",
       "_model_module_version": "1.5.0",
       "_model_name": "HTMLModel",
       "_view_count": null,
       "_view_module": "@jupyter-widgets/controls",
       "_view_module_version": "1.5.0",
       "_view_name": "HTMLView",
       "description": "",
       "description_tooltip": null,
       "layout": "IPY_MODEL_b0aff162305941349b7a9625ec1f1ef5",
       "placeholder": "​",
       "style": "IPY_MODEL_179092968a5c40829b482d04a64857a7",
       "value": "Packets:   "
      }
     },
     "7fbea6b38a9a42468a66f3bce2946730": {
      "model_module": "@jupyter-widgets/controls",
      "model_module_version": "1.5.0",
      "model_name": "HTMLModel",
      "state": {
       "_dom_classes": [],
       "_model_module": "@jupyter-widgets/controls",
       "_model_module_version": "1.5.0",
       "_model_name": "HTMLModel",
       "_view_count": null,
       "_view_module": "@jupyter-widgets/controls",
       "_view_module_version": "1.5.0",
       "_view_name": "HTMLView",
       "description": "",
       "description_tooltip": null,
       "layout": "IPY_MODEL_efbc05eec92f409a9aa989cbcd5316b6",
       "placeholder": "​",
       "style": "IPY_MODEL_1cc944b900a44f219697759b6a437851",
       "value": "4/5 [00:00&lt;00:00, 11.55it/s]"
      }
     },
     "7ffe141f3a3b4aefb70e25d80a1e2782": {
      "model_module": "@jupyter-widgets/controls",
      "model_module_version": "1.5.0",
      "model_name": "HTMLModel",
      "state": {
       "_dom_classes": [],
       "_model_module": "@jupyter-widgets/controls",
       "_model_module_version": "1.5.0",
       "_model_name": "HTMLModel",
       "_view_count": null,
       "_view_module": "@jupyter-widgets/controls",
       "_view_module_version": "1.5.0",
       "_view_name": "HTMLView",
       "description": "",
       "description_tooltip": null,
       "layout": "IPY_MODEL_4178ce1f179d41468761be98fa3fa1b1",
       "placeholder": "​",
       "style": "IPY_MODEL_ff8dab8176f747e88f6520eabf30e078",
       "value": "10000/10000 [00:00&lt;00:00, 62761.19it/s]"
      }
     },
     "83d4867ff5c040c18ddcf714db483a31": {
      "model_module": "@jupyter-widgets/controls",
      "model_module_version": "1.5.0",
      "model_name": "DescriptionStyleModel",
      "state": {
       "_model_module": "@jupyter-widgets/controls",
       "_model_module_version": "1.5.0",
       "_model_name": "DescriptionStyleModel",
       "_view_count": null,
       "_view_module": "@jupyter-widgets/base",
       "_view_module_version": "1.2.0",
       "_view_name": "StyleView",
       "description_width": ""
      }
     },
     "85fda206670f4588a4b566a9b184b174": {
      "model_module": "@jupyter-widgets/base",
      "model_module_version": "1.2.0",
      "model_name": "LayoutModel",
      "state": {
       "_model_module": "@jupyter-widgets/base",
       "_model_module_version": "1.2.0",
       "_model_name": "LayoutModel",
       "_view_count": null,
       "_view_module": "@jupyter-widgets/base",
       "_view_module_version": "1.2.0",
       "_view_name": "LayoutView",
       "align_content": null,
       "align_items": null,
       "align_self": null,
       "border": null,
       "bottom": null,
       "display": null,
       "flex": null,
       "flex_flow": null,
       "grid_area": null,
       "grid_auto_columns": null,
       "grid_auto_flow": null,
       "grid_auto_rows": null,
       "grid_column": null,
       "grid_gap": null,
       "grid_row": null,
       "grid_template_areas": null,
       "grid_template_columns": null,
       "grid_template_rows": null,
       "height": null,
       "justify_content": null,
       "justify_items": null,
       "left": null,
       "margin": null,
       "max_height": null,
       "max_width": null,
       "min_height": null,
       "min_width": null,
       "object_fit": null,
       "object_position": null,
       "order": null,
       "overflow": null,
       "overflow_x": null,
       "overflow_y": null,
       "padding": null,
       "right": null,
       "top": null,
       "visibility": null,
       "width": null
      }
     },
     "863557ee49b947f48bc72e187665361d": {
      "model_module": "@jupyter-widgets/base",
      "model_module_version": "1.2.0",
      "model_name": "LayoutModel",
      "state": {
       "_model_module": "@jupyter-widgets/base",
       "_model_module_version": "1.2.0",
       "_model_name": "LayoutModel",
       "_view_count": null,
       "_view_module": "@jupyter-widgets/base",
       "_view_module_version": "1.2.0",
       "_view_name": "LayoutView",
       "align_content": null,
       "align_items": null,
       "align_self": null,
       "border": null,
       "bottom": null,
       "display": null,
       "flex": null,
       "flex_flow": null,
       "grid_area": null,
       "grid_auto_columns": null,
       "grid_auto_flow": null,
       "grid_auto_rows": null,
       "grid_column": null,
       "grid_gap": null,
       "grid_row": null,
       "grid_template_areas": null,
       "grid_template_columns": null,
       "grid_template_rows": null,
       "height": null,
       "justify_content": null,
       "justify_items": null,
       "left": null,
       "margin": null,
       "max_height": null,
       "max_width": null,
       "min_height": null,
       "min_width": null,
       "object_fit": null,
       "object_position": null,
       "order": null,
       "overflow": null,
       "overflow_x": null,
       "overflow_y": null,
       "padding": null,
       "right": null,
       "top": null,
       "visibility": null,
       "width": null
      }
     },
     "88180298cdc84255bf81488ff5fbf2bd": {
      "model_module": "@jupyter-widgets/controls",
      "model_module_version": "1.5.0",
      "model_name": "HTMLModel",
      "state": {
       "_dom_classes": [],
       "_model_module": "@jupyter-widgets/controls",
       "_model_module_version": "1.5.0",
       "_model_name": "HTMLModel",
       "_view_count": null,
       "_view_module": "@jupyter-widgets/controls",
       "_view_module_version": "1.5.0",
       "_view_name": "HTMLView",
       "description": "",
       "description_tooltip": null,
       "layout": "IPY_MODEL_a0066a8c64c0423b8fa064fd13138546",
       "placeholder": "​",
       "style": "IPY_MODEL_8c77223df9de47c19059aef979b5a785",
       "value": "Iterations:"
      }
     },
     "8849bbe831cb4c6681b69c0537d6a609": {
      "model_module": "@jupyter-widgets/base",
      "model_module_version": "1.2.0",
      "model_name": "LayoutModel",
      "state": {
       "_model_module": "@jupyter-widgets/base",
       "_model_module_version": "1.2.0",
       "_model_name": "LayoutModel",
       "_view_count": null,
       "_view_module": "@jupyter-widgets/base",
       "_view_module_version": "1.2.0",
       "_view_name": "LayoutView",
       "align_content": null,
       "align_items": null,
       "align_self": null,
       "border": null,
       "bottom": null,
       "display": null,
       "flex": null,
       "flex_flow": null,
       "grid_area": null,
       "grid_auto_columns": null,
       "grid_auto_flow": null,
       "grid_auto_rows": null,
       "grid_column": null,
       "grid_gap": null,
       "grid_row": null,
       "grid_template_areas": null,
       "grid_template_columns": null,
       "grid_template_rows": null,
       "height": null,
       "justify_content": null,
       "justify_items": null,
       "left": null,
       "margin": null,
       "max_height": null,
       "max_width": null,
       "min_height": null,
       "min_width": null,
       "object_fit": null,
       "object_position": null,
       "order": null,
       "overflow": null,
       "overflow_x": null,
       "overflow_y": null,
       "padding": null,
       "right": null,
       "top": null,
       "visibility": null,
       "width": "6%"
      }
     },
     "8ad007c24114444386d17c558b72383d": {
      "model_module": "@jupyter-widgets/base",
      "model_module_version": "1.2.0",
      "model_name": "LayoutModel",
      "state": {
       "_model_module": "@jupyter-widgets/base",
       "_model_module_version": "1.2.0",
       "_model_name": "LayoutModel",
       "_view_count": null,
       "_view_module": "@jupyter-widgets/base",
       "_view_module_version": "1.2.0",
       "_view_name": "LayoutView",
       "align_content": null,
       "align_items": null,
       "align_self": null,
       "border": null,
       "bottom": null,
       "display": null,
       "flex": null,
       "flex_flow": null,
       "grid_area": null,
       "grid_auto_columns": null,
       "grid_auto_flow": null,
       "grid_auto_rows": null,
       "grid_column": null,
       "grid_gap": null,
       "grid_row": null,
       "grid_template_areas": null,
       "grid_template_columns": null,
       "grid_template_rows": null,
       "height": null,
       "justify_content": null,
       "justify_items": null,
       "left": null,
       "margin": null,
       "max_height": null,
       "max_width": null,
       "min_height": null,
       "min_width": null,
       "object_fit": null,
       "object_position": null,
       "order": null,
       "overflow": null,
       "overflow_x": null,
       "overflow_y": null,
       "padding": null,
       "right": null,
       "top": null,
       "visibility": null,
       "width": null
      }
     },
     "8b4cd9611103435a80fd115987933c75": {
      "model_module": "@jupyter-widgets/controls",
      "model_module_version": "1.5.0",
      "model_name": "DescriptionStyleModel",
      "state": {
       "_model_module": "@jupyter-widgets/controls",
       "_model_module_version": "1.5.0",
       "_model_name": "DescriptionStyleModel",
       "_view_count": null,
       "_view_module": "@jupyter-widgets/base",
       "_view_module_version": "1.2.0",
       "_view_name": "StyleView",
       "description_width": ""
      }
     },
     "8bd15a191c534f4e8a720870d7dcff88": {
      "model_module": "@jupyter-widgets/base",
      "model_module_version": "1.2.0",
      "model_name": "LayoutModel",
      "state": {
       "_model_module": "@jupyter-widgets/base",
       "_model_module_version": "1.2.0",
       "_model_name": "LayoutModel",
       "_view_count": null,
       "_view_module": "@jupyter-widgets/base",
       "_view_module_version": "1.2.0",
       "_view_name": "LayoutView",
       "align_content": null,
       "align_items": null,
       "align_self": null,
       "border": null,
       "bottom": null,
       "display": null,
       "flex": null,
       "flex_flow": null,
       "grid_area": null,
       "grid_auto_columns": null,
       "grid_auto_flow": null,
       "grid_auto_rows": null,
       "grid_column": null,
       "grid_gap": null,
       "grid_row": null,
       "grid_template_areas": null,
       "grid_template_columns": null,
       "grid_template_rows": null,
       "height": null,
       "justify_content": null,
       "justify_items": null,
       "left": null,
       "margin": null,
       "max_height": null,
       "max_width": null,
       "min_height": null,
       "min_width": null,
       "object_fit": null,
       "object_position": null,
       "order": null,
       "overflow": null,
       "overflow_x": null,
       "overflow_y": null,
       "padding": null,
       "right": null,
       "top": null,
       "visibility": null,
       "width": "6%"
      }
     },
     "8bf0c4ec51e843a7a117a33b5e88bd0e": {
      "model_module": "@jupyter-widgets/base",
      "model_module_version": "1.2.0",
      "model_name": "LayoutModel",
      "state": {
       "_model_module": "@jupyter-widgets/base",
       "_model_module_version": "1.2.0",
       "_model_name": "LayoutModel",
       "_view_count": null,
       "_view_module": "@jupyter-widgets/base",
       "_view_module_version": "1.2.0",
       "_view_name": "LayoutView",
       "align_content": null,
       "align_items": null,
       "align_self": null,
       "border": null,
       "bottom": null,
       "display": null,
       "flex": null,
       "flex_flow": null,
       "grid_area": null,
       "grid_auto_columns": null,
       "grid_auto_flow": null,
       "grid_auto_rows": null,
       "grid_column": null,
       "grid_gap": null,
       "grid_row": null,
       "grid_template_areas": null,
       "grid_template_columns": null,
       "grid_template_rows": null,
       "height": null,
       "justify_content": null,
       "justify_items": null,
       "left": null,
       "margin": null,
       "max_height": null,
       "max_width": null,
       "min_height": null,
       "min_width": null,
       "object_fit": null,
       "object_position": null,
       "order": null,
       "overflow": null,
       "overflow_x": null,
       "overflow_y": null,
       "padding": null,
       "right": null,
       "top": null,
       "visibility": null,
       "width": null
      }
     },
     "8c4506f519f14b7597a8eb372cc8c093": {
      "model_module": "@jupyter-widgets/controls",
      "model_module_version": "1.5.0",
      "model_name": "HBoxModel",
      "state": {
       "_dom_classes": [],
       "_model_module": "@jupyter-widgets/controls",
       "_model_module_version": "1.5.0",
       "_model_name": "HBoxModel",
       "_view_count": null,
       "_view_module": "@jupyter-widgets/controls",
       "_view_module_version": "1.5.0",
       "_view_name": "HBoxView",
       "box_style": "",
       "children": [
        "IPY_MODEL_3fc7d2ffc36743ca9876c8fb9adf5f30",
        "IPY_MODEL_5aa0a9a1709644f79470e1af64dbe745",
        "IPY_MODEL_c2c2655039ca479091750a7aa2d18bfb"
       ],
       "layout": "IPY_MODEL_f712989090b94a9abb03278bf627ae87"
      }
     },
     "8c77223df9de47c19059aef979b5a785": {
      "model_module": "@jupyter-widgets/controls",
      "model_module_version": "1.5.0",
      "model_name": "DescriptionStyleModel",
      "state": {
       "_model_module": "@jupyter-widgets/controls",
       "_model_module_version": "1.5.0",
       "_model_name": "DescriptionStyleModel",
       "_view_count": null,
       "_view_module": "@jupyter-widgets/base",
       "_view_module_version": "1.2.0",
       "_view_name": "StyleView",
       "description_width": ""
      }
     },
     "8c9de4ed532c446a900dd39848d19075": {
      "model_module": "@jupyter-widgets/base",
      "model_module_version": "1.2.0",
      "model_name": "LayoutModel",
      "state": {
       "_model_module": "@jupyter-widgets/base",
       "_model_module_version": "1.2.0",
       "_model_name": "LayoutModel",
       "_view_count": null,
       "_view_module": "@jupyter-widgets/base",
       "_view_module_version": "1.2.0",
       "_view_name": "LayoutView",
       "align_content": null,
       "align_items": null,
       "align_self": null,
       "border": null,
       "bottom": null,
       "display": null,
       "flex": null,
       "flex_flow": null,
       "grid_area": null,
       "grid_auto_columns": null,
       "grid_auto_flow": null,
       "grid_auto_rows": null,
       "grid_column": null,
       "grid_gap": null,
       "grid_row": null,
       "grid_template_areas": null,
       "grid_template_columns": null,
       "grid_template_rows": null,
       "height": null,
       "justify_content": null,
       "justify_items": null,
       "left": null,
       "margin": null,
       "max_height": null,
       "max_width": null,
       "min_height": null,
       "min_width": null,
       "object_fit": null,
       "object_position": null,
       "order": null,
       "overflow": null,
       "overflow_x": null,
       "overflow_y": null,
       "padding": null,
       "right": null,
       "top": null,
       "visibility": null,
       "width": "60%"
      }
     },
     "8cec9193bbb6445bbbfc55d35bfee123": {
      "model_module": "@jupyter-widgets/controls",
      "model_module_version": "1.5.0",
      "model_name": "ProgressStyleModel",
      "state": {
       "_model_module": "@jupyter-widgets/controls",
       "_model_module_version": "1.5.0",
       "_model_name": "ProgressStyleModel",
       "_view_count": null,
       "_view_module": "@jupyter-widgets/base",
       "_view_module_version": "1.2.0",
       "_view_name": "StyleView",
       "bar_color": null,
       "description_width": ""
      }
     },
     "8f22e8d178db426a9f06549ca46e0ae4": {
      "model_module": "@jupyter-widgets/base",
      "model_module_version": "1.2.0",
      "model_name": "LayoutModel",
      "state": {
       "_model_module": "@jupyter-widgets/base",
       "_model_module_version": "1.2.0",
       "_model_name": "LayoutModel",
       "_view_count": null,
       "_view_module": "@jupyter-widgets/base",
       "_view_module_version": "1.2.0",
       "_view_name": "LayoutView",
       "align_content": null,
       "align_items": null,
       "align_self": null,
       "border": null,
       "bottom": null,
       "display": null,
       "flex": null,
       "flex_flow": null,
       "grid_area": null,
       "grid_auto_columns": null,
       "grid_auto_flow": null,
       "grid_auto_rows": null,
       "grid_column": null,
       "grid_gap": null,
       "grid_row": null,
       "grid_template_areas": null,
       "grid_template_columns": null,
       "grid_template_rows": null,
       "height": null,
       "justify_content": null,
       "justify_items": null,
       "left": null,
       "margin": null,
       "max_height": null,
       "max_width": null,
       "min_height": null,
       "min_width": null,
       "object_fit": null,
       "object_position": null,
       "order": null,
       "overflow": null,
       "overflow_x": null,
       "overflow_y": null,
       "padding": null,
       "right": null,
       "top": null,
       "visibility": null,
       "width": "60%"
      }
     },
     "8f7f391b52604e8ea1a850056659cb8b": {
      "model_module": "@jupyter-widgets/base",
      "model_module_version": "1.2.0",
      "model_name": "LayoutModel",
      "state": {
       "_model_module": "@jupyter-widgets/base",
       "_model_module_version": "1.2.0",
       "_model_name": "LayoutModel",
       "_view_count": null,
       "_view_module": "@jupyter-widgets/base",
       "_view_module_version": "1.2.0",
       "_view_name": "LayoutView",
       "align_content": null,
       "align_items": null,
       "align_self": null,
       "border": null,
       "bottom": null,
       "display": null,
       "flex": null,
       "flex_flow": null,
       "grid_area": null,
       "grid_auto_columns": null,
       "grid_auto_flow": null,
       "grid_auto_rows": null,
       "grid_column": null,
       "grid_gap": null,
       "grid_row": null,
       "grid_template_areas": null,
       "grid_template_columns": null,
       "grid_template_rows": null,
       "height": null,
       "justify_content": null,
       "justify_items": null,
       "left": null,
       "margin": null,
       "max_height": null,
       "max_width": null,
       "min_height": null,
       "min_width": null,
       "object_fit": null,
       "object_position": null,
       "order": null,
       "overflow": null,
       "overflow_x": null,
       "overflow_y": null,
       "padding": null,
       "right": null,
       "top": null,
       "visibility": null,
       "width": "60%"
      }
     },
     "8fb73d450e9a444fa2e36319168b5d9f": {
      "model_module": "@jupyter-widgets/controls",
      "model_module_version": "1.5.0",
      "model_name": "DescriptionStyleModel",
      "state": {
       "_model_module": "@jupyter-widgets/controls",
       "_model_module_version": "1.5.0",
       "_model_name": "DescriptionStyleModel",
       "_view_count": null,
       "_view_module": "@jupyter-widgets/base",
       "_view_module_version": "1.2.0",
       "_view_name": "StyleView",
       "description_width": ""
      }
     },
     "91b1852605d844db819b0ff0c893dbab": {
      "model_module": "@jupyter-widgets/base",
      "model_module_version": "1.2.0",
      "model_name": "LayoutModel",
      "state": {
       "_model_module": "@jupyter-widgets/base",
       "_model_module_version": "1.2.0",
       "_model_name": "LayoutModel",
       "_view_count": null,
       "_view_module": "@jupyter-widgets/base",
       "_view_module_version": "1.2.0",
       "_view_name": "LayoutView",
       "align_content": null,
       "align_items": null,
       "align_self": null,
       "border": null,
       "bottom": null,
       "display": null,
       "flex": null,
       "flex_flow": null,
       "grid_area": null,
       "grid_auto_columns": null,
       "grid_auto_flow": null,
       "grid_auto_rows": null,
       "grid_column": null,
       "grid_gap": null,
       "grid_row": null,
       "grid_template_areas": null,
       "grid_template_columns": null,
       "grid_template_rows": null,
       "height": null,
       "justify_content": null,
       "justify_items": null,
       "left": null,
       "margin": null,
       "max_height": null,
       "max_width": null,
       "min_height": null,
       "min_width": null,
       "object_fit": null,
       "object_position": null,
       "order": null,
       "overflow": null,
       "overflow_x": null,
       "overflow_y": null,
       "padding": null,
       "right": null,
       "top": null,
       "visibility": null,
       "width": null
      }
     },
     "95d7c2cbd99643729040ee61d46e75af": {
      "model_module": "@jupyter-widgets/base",
      "model_module_version": "1.2.0",
      "model_name": "LayoutModel",
      "state": {
       "_model_module": "@jupyter-widgets/base",
       "_model_module_version": "1.2.0",
       "_model_name": "LayoutModel",
       "_view_count": null,
       "_view_module": "@jupyter-widgets/base",
       "_view_module_version": "1.2.0",
       "_view_name": "LayoutView",
       "align_content": null,
       "align_items": null,
       "align_self": null,
       "border": null,
       "bottom": null,
       "display": null,
       "flex": null,
       "flex_flow": null,
       "grid_area": null,
       "grid_auto_columns": null,
       "grid_auto_flow": null,
       "grid_auto_rows": null,
       "grid_column": null,
       "grid_gap": null,
       "grid_row": null,
       "grid_template_areas": null,
       "grid_template_columns": null,
       "grid_template_rows": null,
       "height": null,
       "justify_content": null,
       "justify_items": null,
       "left": null,
       "margin": null,
       "max_height": null,
       "max_width": null,
       "min_height": null,
       "min_width": null,
       "object_fit": null,
       "object_position": null,
       "order": null,
       "overflow": null,
       "overflow_x": null,
       "overflow_y": null,
       "padding": null,
       "right": null,
       "top": null,
       "visibility": null,
       "width": null
      }
     },
     "967e6a52eb124bfeb77fb89578e537e0": {
      "model_module": "@jupyter-widgets/base",
      "model_module_version": "1.2.0",
      "model_name": "LayoutModel",
      "state": {
       "_model_module": "@jupyter-widgets/base",
       "_model_module_version": "1.2.0",
       "_model_name": "LayoutModel",
       "_view_count": null,
       "_view_module": "@jupyter-widgets/base",
       "_view_module_version": "1.2.0",
       "_view_name": "LayoutView",
       "align_content": null,
       "align_items": null,
       "align_self": null,
       "border": null,
       "bottom": null,
       "display": null,
       "flex": null,
       "flex_flow": null,
       "grid_area": null,
       "grid_auto_columns": null,
       "grid_auto_flow": null,
       "grid_auto_rows": null,
       "grid_column": null,
       "grid_gap": null,
       "grid_row": null,
       "grid_template_areas": null,
       "grid_template_columns": null,
       "grid_template_rows": null,
       "height": null,
       "justify_content": null,
       "justify_items": null,
       "left": null,
       "margin": null,
       "max_height": null,
       "max_width": null,
       "min_height": null,
       "min_width": null,
       "object_fit": null,
       "object_position": null,
       "order": null,
       "overflow": null,
       "overflow_x": null,
       "overflow_y": null,
       "padding": null,
       "right": null,
       "top": null,
       "visibility": null,
       "width": "6%"
      }
     },
     "9695da245916469ea94d3ffbc3b0df51": {
      "model_module": "@jupyter-widgets/controls",
      "model_module_version": "1.5.0",
      "model_name": "ProgressStyleModel",
      "state": {
       "_model_module": "@jupyter-widgets/controls",
       "_model_module_version": "1.5.0",
       "_model_name": "ProgressStyleModel",
       "_view_count": null,
       "_view_module": "@jupyter-widgets/base",
       "_view_module_version": "1.2.0",
       "_view_name": "StyleView",
       "bar_color": null,
       "description_width": ""
      }
     },
     "984fb23354344ac9b9d116a9dc35d89b": {
      "model_module": "@jupyter-widgets/controls",
      "model_module_version": "1.5.0",
      "model_name": "DescriptionStyleModel",
      "state": {
       "_model_module": "@jupyter-widgets/controls",
       "_model_module_version": "1.5.0",
       "_model_name": "DescriptionStyleModel",
       "_view_count": null,
       "_view_module": "@jupyter-widgets/base",
       "_view_module_version": "1.2.0",
       "_view_name": "StyleView",
       "description_width": ""
      }
     },
     "98cc68831db540619e13eb17f2d5d2c5": {
      "model_module": "@jupyter-widgets/controls",
      "model_module_version": "1.5.0",
      "model_name": "DescriptionStyleModel",
      "state": {
       "_model_module": "@jupyter-widgets/controls",
       "_model_module_version": "1.5.0",
       "_model_name": "DescriptionStyleModel",
       "_view_count": null,
       "_view_module": "@jupyter-widgets/base",
       "_view_module_version": "1.2.0",
       "_view_name": "StyleView",
       "description_width": ""
      }
     },
     "99181b997111420da08d168a14ae9ac7": {
      "model_module": "@jupyter-widgets/controls",
      "model_module_version": "1.5.0",
      "model_name": "HTMLModel",
      "state": {
       "_dom_classes": [],
       "_model_module": "@jupyter-widgets/controls",
       "_model_module_version": "1.5.0",
       "_model_name": "HTMLModel",
       "_view_count": null,
       "_view_module": "@jupyter-widgets/controls",
       "_view_module_version": "1.5.0",
       "_view_name": "HTMLView",
       "description": "",
       "description_tooltip": null,
       "layout": "IPY_MODEL_91b1852605d844db819b0ff0c893dbab",
       "placeholder": "​",
       "style": "IPY_MODEL_0f3689d07cf0474cb67f77d834a850ca",
       "value": "0/? [00:00&lt;?, ?it/s]"
      }
     },
     "9a8f4ca761674629bf121020a6cc40c7": {
      "model_module": "@jupyter-widgets/base",
      "model_module_version": "1.2.0",
      "model_name": "LayoutModel",
      "state": {
       "_model_module": "@jupyter-widgets/base",
       "_model_module_version": "1.2.0",
       "_model_name": "LayoutModel",
       "_view_count": null,
       "_view_module": "@jupyter-widgets/base",
       "_view_module_version": "1.2.0",
       "_view_name": "LayoutView",
       "align_content": null,
       "align_items": null,
       "align_self": null,
       "border": null,
       "bottom": null,
       "display": null,
       "flex": null,
       "flex_flow": null,
       "grid_area": null,
       "grid_auto_columns": null,
       "grid_auto_flow": null,
       "grid_auto_rows": null,
       "grid_column": null,
       "grid_gap": null,
       "grid_row": null,
       "grid_template_areas": null,
       "grid_template_columns": null,
       "grid_template_rows": null,
       "height": null,
       "justify_content": null,
       "justify_items": null,
       "left": null,
       "margin": null,
       "max_height": null,
       "max_width": null,
       "min_height": null,
       "min_width": null,
       "object_fit": null,
       "object_position": null,
       "order": null,
       "overflow": null,
       "overflow_x": null,
       "overflow_y": null,
       "padding": null,
       "right": null,
       "top": null,
       "visibility": null,
       "width": "6%"
      }
     },
     "9b97612fcc7247cdbabb669e4df4d1ad": {
      "model_module": "@jupyter-widgets/controls",
      "model_module_version": "1.5.0",
      "model_name": "DescriptionStyleModel",
      "state": {
       "_model_module": "@jupyter-widgets/controls",
       "_model_module_version": "1.5.0",
       "_model_name": "DescriptionStyleModel",
       "_view_count": null,
       "_view_module": "@jupyter-widgets/base",
       "_view_module_version": "1.2.0",
       "_view_name": "StyleView",
       "description_width": ""
      }
     },
     "9bf659b68986404ab1d9c95dbea3453e": {
      "model_module": "@jupyter-widgets/base",
      "model_module_version": "1.2.0",
      "model_name": "LayoutModel",
      "state": {
       "_model_module": "@jupyter-widgets/base",
       "_model_module_version": "1.2.0",
       "_model_name": "LayoutModel",
       "_view_count": null,
       "_view_module": "@jupyter-widgets/base",
       "_view_module_version": "1.2.0",
       "_view_name": "LayoutView",
       "align_content": null,
       "align_items": null,
       "align_self": null,
       "border": null,
       "bottom": null,
       "display": null,
       "flex": null,
       "flex_flow": null,
       "grid_area": null,
       "grid_auto_columns": null,
       "grid_auto_flow": null,
       "grid_auto_rows": null,
       "grid_column": null,
       "grid_gap": null,
       "grid_row": null,
       "grid_template_areas": null,
       "grid_template_columns": null,
       "grid_template_rows": null,
       "height": null,
       "justify_content": null,
       "justify_items": null,
       "left": null,
       "margin": null,
       "max_height": null,
       "max_width": null,
       "min_height": null,
       "min_width": null,
       "object_fit": null,
       "object_position": null,
       "order": null,
       "overflow": null,
       "overflow_x": null,
       "overflow_y": null,
       "padding": null,
       "right": null,
       "top": null,
       "visibility": null,
       "width": null
      }
     },
     "9ead29dcdf1c417f896dd50e3d05061e": {
      "model_module": "@jupyter-widgets/base",
      "model_module_version": "1.2.0",
      "model_name": "LayoutModel",
      "state": {
       "_model_module": "@jupyter-widgets/base",
       "_model_module_version": "1.2.0",
       "_model_name": "LayoutModel",
       "_view_count": null,
       "_view_module": "@jupyter-widgets/base",
       "_view_module_version": "1.2.0",
       "_view_name": "LayoutView",
       "align_content": null,
       "align_items": null,
       "align_self": null,
       "border": null,
       "bottom": null,
       "display": null,
       "flex": null,
       "flex_flow": null,
       "grid_area": null,
       "grid_auto_columns": null,
       "grid_auto_flow": null,
       "grid_auto_rows": null,
       "grid_column": null,
       "grid_gap": null,
       "grid_row": null,
       "grid_template_areas": null,
       "grid_template_columns": null,
       "grid_template_rows": null,
       "height": null,
       "justify_content": null,
       "justify_items": null,
       "left": null,
       "margin": null,
       "max_height": null,
       "max_width": null,
       "min_height": null,
       "min_width": null,
       "object_fit": null,
       "object_position": null,
       "order": null,
       "overflow": null,
       "overflow_x": null,
       "overflow_y": null,
       "padding": null,
       "right": null,
       "top": null,
       "visibility": null,
       "width": null
      }
     },
     "9fd39e3c4dfb46cd9d128e6bed7cbfc0": {
      "model_module": "@jupyter-widgets/base",
      "model_module_version": "1.2.0",
      "model_name": "LayoutModel",
      "state": {
       "_model_module": "@jupyter-widgets/base",
       "_model_module_version": "1.2.0",
       "_model_name": "LayoutModel",
       "_view_count": null,
       "_view_module": "@jupyter-widgets/base",
       "_view_module_version": "1.2.0",
       "_view_name": "LayoutView",
       "align_content": null,
       "align_items": null,
       "align_self": null,
       "border": null,
       "bottom": null,
       "display": null,
       "flex": null,
       "flex_flow": null,
       "grid_area": null,
       "grid_auto_columns": null,
       "grid_auto_flow": null,
       "grid_auto_rows": null,
       "grid_column": null,
       "grid_gap": null,
       "grid_row": null,
       "grid_template_areas": null,
       "grid_template_columns": null,
       "grid_template_rows": null,
       "height": null,
       "justify_content": null,
       "justify_items": null,
       "left": null,
       "margin": null,
       "max_height": null,
       "max_width": null,
       "min_height": null,
       "min_width": null,
       "object_fit": null,
       "object_position": null,
       "order": null,
       "overflow": null,
       "overflow_x": null,
       "overflow_y": null,
       "padding": null,
       "right": null,
       "top": null,
       "visibility": null,
       "width": null
      }
     },
     "9fdec168c1b147fdb599f3e9744933f3": {
      "model_module": "@jupyter-widgets/base",
      "model_module_version": "1.2.0",
      "model_name": "LayoutModel",
      "state": {
       "_model_module": "@jupyter-widgets/base",
       "_model_module_version": "1.2.0",
       "_model_name": "LayoutModel",
       "_view_count": null,
       "_view_module": "@jupyter-widgets/base",
       "_view_module_version": "1.2.0",
       "_view_name": "LayoutView",
       "align_content": null,
       "align_items": null,
       "align_self": null,
       "border": null,
       "bottom": null,
       "display": null,
       "flex": null,
       "flex_flow": null,
       "grid_area": null,
       "grid_auto_columns": null,
       "grid_auto_flow": null,
       "grid_auto_rows": null,
       "grid_column": null,
       "grid_gap": null,
       "grid_row": null,
       "grid_template_areas": null,
       "grid_template_columns": null,
       "grid_template_rows": null,
       "height": null,
       "justify_content": null,
       "justify_items": null,
       "left": null,
       "margin": null,
       "max_height": null,
       "max_width": null,
       "min_height": null,
       "min_width": null,
       "object_fit": null,
       "object_position": null,
       "order": null,
       "overflow": null,
       "overflow_x": null,
       "overflow_y": null,
       "padding": null,
       "right": null,
       "top": null,
       "visibility": null,
       "width": null
      }
     },
     "a0066a8c64c0423b8fa064fd13138546": {
      "model_module": "@jupyter-widgets/base",
      "model_module_version": "1.2.0",
      "model_name": "LayoutModel",
      "state": {
       "_model_module": "@jupyter-widgets/base",
       "_model_module_version": "1.2.0",
       "_model_name": "LayoutModel",
       "_view_count": null,
       "_view_module": "@jupyter-widgets/base",
       "_view_module_version": "1.2.0",
       "_view_name": "LayoutView",
       "align_content": null,
       "align_items": null,
       "align_self": null,
       "border": null,
       "bottom": null,
       "display": null,
       "flex": null,
       "flex_flow": null,
       "grid_area": null,
       "grid_auto_columns": null,
       "grid_auto_flow": null,
       "grid_auto_rows": null,
       "grid_column": null,
       "grid_gap": null,
       "grid_row": null,
       "grid_template_areas": null,
       "grid_template_columns": null,
       "grid_template_rows": null,
       "height": null,
       "justify_content": null,
       "justify_items": null,
       "left": null,
       "margin": null,
       "max_height": null,
       "max_width": null,
       "min_height": null,
       "min_width": null,
       "object_fit": null,
       "object_position": null,
       "order": null,
       "overflow": null,
       "overflow_x": null,
       "overflow_y": null,
       "padding": null,
       "right": null,
       "top": null,
       "visibility": null,
       "width": "6%"
      }
     },
     "a3189ec8c55e496783ff8b802512339c": {
      "model_module": "@jupyter-widgets/controls",
      "model_module_version": "1.5.0",
      "model_name": "HTMLModel",
      "state": {
       "_dom_classes": [],
       "_model_module": "@jupyter-widgets/controls",
       "_model_module_version": "1.5.0",
       "_model_name": "HTMLModel",
       "_view_count": null,
       "_view_module": "@jupyter-widgets/controls",
       "_view_module_version": "1.5.0",
       "_view_name": "HTMLView",
       "description": "",
       "description_tooltip": null,
       "layout": "IPY_MODEL_0a4be1092aeb4f05a5973823d520f889",
       "placeholder": "​",
       "style": "IPY_MODEL_984fb23354344ac9b9d116a9dc35d89b",
       "value": "Packets:   "
      }
     },
     "a4c87e257223488f88242caad7266d0c": {
      "model_module": "@jupyter-widgets/base",
      "model_module_version": "1.2.0",
      "model_name": "LayoutModel",
      "state": {
       "_model_module": "@jupyter-widgets/base",
       "_model_module_version": "1.2.0",
       "_model_name": "LayoutModel",
       "_view_count": null,
       "_view_module": "@jupyter-widgets/base",
       "_view_module_version": "1.2.0",
       "_view_name": "LayoutView",
       "align_content": null,
       "align_items": null,
       "align_self": null,
       "border": null,
       "bottom": null,
       "display": null,
       "flex": null,
       "flex_flow": null,
       "grid_area": null,
       "grid_auto_columns": null,
       "grid_auto_flow": null,
       "grid_auto_rows": null,
       "grid_column": null,
       "grid_gap": null,
       "grid_row": null,
       "grid_template_areas": null,
       "grid_template_columns": null,
       "grid_template_rows": null,
       "height": null,
       "justify_content": null,
       "justify_items": null,
       "left": null,
       "margin": null,
       "max_height": null,
       "max_width": null,
       "min_height": null,
       "min_width": null,
       "object_fit": null,
       "object_position": null,
       "order": null,
       "overflow": null,
       "overflow_x": null,
       "overflow_y": null,
       "padding": null,
       "right": null,
       "top": null,
       "visibility": null,
       "width": "60%"
      }
     },
     "a889f9e531db476bb1d4a8b9b2142711": {
      "model_module": "@jupyter-widgets/controls",
      "model_module_version": "1.5.0",
      "model_name": "DescriptionStyleModel",
      "state": {
       "_model_module": "@jupyter-widgets/controls",
       "_model_module_version": "1.5.0",
       "_model_name": "DescriptionStyleModel",
       "_view_count": null,
       "_view_module": "@jupyter-widgets/base",
       "_view_module_version": "1.2.0",
       "_view_name": "StyleView",
       "description_width": ""
      }
     },
     "a9e584c962674acb9369798c53c26db5": {
      "model_module": "@jupyter-widgets/base",
      "model_module_version": "1.2.0",
      "model_name": "LayoutModel",
      "state": {
       "_model_module": "@jupyter-widgets/base",
       "_model_module_version": "1.2.0",
       "_model_name": "LayoutModel",
       "_view_count": null,
       "_view_module": "@jupyter-widgets/base",
       "_view_module_version": "1.2.0",
       "_view_name": "LayoutView",
       "align_content": null,
       "align_items": null,
       "align_self": null,
       "border": null,
       "bottom": null,
       "display": null,
       "flex": null,
       "flex_flow": null,
       "grid_area": null,
       "grid_auto_columns": null,
       "grid_auto_flow": null,
       "grid_auto_rows": null,
       "grid_column": null,
       "grid_gap": null,
       "grid_row": null,
       "grid_template_areas": null,
       "grid_template_columns": null,
       "grid_template_rows": null,
       "height": null,
       "justify_content": null,
       "justify_items": null,
       "left": null,
       "margin": null,
       "max_height": null,
       "max_width": null,
       "min_height": null,
       "min_width": null,
       "object_fit": null,
       "object_position": null,
       "order": null,
       "overflow": null,
       "overflow_x": null,
       "overflow_y": null,
       "padding": null,
       "right": null,
       "top": null,
       "visibility": null,
       "width": null
      }
     },
     "aab987a746bc46a69341be76f020c3b2": {
      "model_module": "@jupyter-widgets/base",
      "model_module_version": "1.2.0",
      "model_name": "LayoutModel",
      "state": {
       "_model_module": "@jupyter-widgets/base",
       "_model_module_version": "1.2.0",
       "_model_name": "LayoutModel",
       "_view_count": null,
       "_view_module": "@jupyter-widgets/base",
       "_view_module_version": "1.2.0",
       "_view_name": "LayoutView",
       "align_content": null,
       "align_items": null,
       "align_self": null,
       "border": null,
       "bottom": null,
       "display": null,
       "flex": null,
       "flex_flow": null,
       "grid_area": null,
       "grid_auto_columns": null,
       "grid_auto_flow": null,
       "grid_auto_rows": null,
       "grid_column": null,
       "grid_gap": null,
       "grid_row": null,
       "grid_template_areas": null,
       "grid_template_columns": null,
       "grid_template_rows": null,
       "height": null,
       "justify_content": null,
       "justify_items": null,
       "left": null,
       "margin": null,
       "max_height": null,
       "max_width": null,
       "min_height": null,
       "min_width": null,
       "object_fit": null,
       "object_position": null,
       "order": null,
       "overflow": null,
       "overflow_x": null,
       "overflow_y": null,
       "padding": null,
       "right": null,
       "top": null,
       "visibility": null,
       "width": null
      }
     },
     "aad03d4c770141af81aff20ee41c0a20": {
      "model_module": "@jupyter-widgets/controls",
      "model_module_version": "1.5.0",
      "model_name": "DescriptionStyleModel",
      "state": {
       "_model_module": "@jupyter-widgets/controls",
       "_model_module_version": "1.5.0",
       "_model_name": "DescriptionStyleModel",
       "_view_count": null,
       "_view_module": "@jupyter-widgets/base",
       "_view_module_version": "1.2.0",
       "_view_name": "StyleView",
       "description_width": ""
      }
     },
     "ac9fe2aff55744d5ab3af8e441c97db7": {
      "model_module": "@jupyter-widgets/base",
      "model_module_version": "1.2.0",
      "model_name": "LayoutModel",
      "state": {
       "_model_module": "@jupyter-widgets/base",
       "_model_module_version": "1.2.0",
       "_model_name": "LayoutModel",
       "_view_count": null,
       "_view_module": "@jupyter-widgets/base",
       "_view_module_version": "1.2.0",
       "_view_name": "LayoutView",
       "align_content": null,
       "align_items": null,
       "align_self": null,
       "border": null,
       "bottom": null,
       "display": null,
       "flex": null,
       "flex_flow": null,
       "grid_area": null,
       "grid_auto_columns": null,
       "grid_auto_flow": null,
       "grid_auto_rows": null,
       "grid_column": null,
       "grid_gap": null,
       "grid_row": null,
       "grid_template_areas": null,
       "grid_template_columns": null,
       "grid_template_rows": null,
       "height": null,
       "justify_content": null,
       "justify_items": null,
       "left": null,
       "margin": null,
       "max_height": null,
       "max_width": null,
       "min_height": null,
       "min_width": null,
       "object_fit": null,
       "object_position": null,
       "order": null,
       "overflow": null,
       "overflow_x": null,
       "overflow_y": null,
       "padding": null,
       "right": null,
       "top": null,
       "visibility": null,
       "width": "20px"
      }
     },
     "acaa94f3c13644fb8eafd53da1d35892": {
      "model_module": "@jupyter-widgets/base",
      "model_module_version": "1.2.0",
      "model_name": "LayoutModel",
      "state": {
       "_model_module": "@jupyter-widgets/base",
       "_model_module_version": "1.2.0",
       "_model_name": "LayoutModel",
       "_view_count": null,
       "_view_module": "@jupyter-widgets/base",
       "_view_module_version": "1.2.0",
       "_view_name": "LayoutView",
       "align_content": null,
       "align_items": null,
       "align_self": null,
       "border": null,
       "bottom": null,
       "display": null,
       "flex": null,
       "flex_flow": null,
       "grid_area": null,
       "grid_auto_columns": null,
       "grid_auto_flow": null,
       "grid_auto_rows": null,
       "grid_column": null,
       "grid_gap": null,
       "grid_row": null,
       "grid_template_areas": null,
       "grid_template_columns": null,
       "grid_template_rows": null,
       "height": null,
       "justify_content": null,
       "justify_items": null,
       "left": null,
       "margin": null,
       "max_height": null,
       "max_width": null,
       "min_height": null,
       "min_width": null,
       "object_fit": null,
       "object_position": null,
       "order": null,
       "overflow": null,
       "overflow_x": null,
       "overflow_y": null,
       "padding": null,
       "right": null,
       "top": null,
       "visibility": null,
       "width": null
      }
     },
     "ad657aa57d394e9e95e30b8e79df2b0c": {
      "model_module": "@jupyter-widgets/controls",
      "model_module_version": "1.5.0",
      "model_name": "ProgressStyleModel",
      "state": {
       "_model_module": "@jupyter-widgets/controls",
       "_model_module_version": "1.5.0",
       "_model_name": "ProgressStyleModel",
       "_view_count": null,
       "_view_module": "@jupyter-widgets/base",
       "_view_module_version": "1.2.0",
       "_view_name": "StyleView",
       "bar_color": null,
       "description_width": ""
      }
     },
     "ae03d93b09e841b4847695d66337a12a": {
      "model_module": "@jupyter-widgets/controls",
      "model_module_version": "1.5.0",
      "model_name": "ProgressStyleModel",
      "state": {
       "_model_module": "@jupyter-widgets/controls",
       "_model_module_version": "1.5.0",
       "_model_name": "ProgressStyleModel",
       "_view_count": null,
       "_view_module": "@jupyter-widgets/base",
       "_view_module_version": "1.2.0",
       "_view_name": "StyleView",
       "bar_color": null,
       "description_width": ""
      }
     },
     "b0aff162305941349b7a9625ec1f1ef5": {
      "model_module": "@jupyter-widgets/base",
      "model_module_version": "1.2.0",
      "model_name": "LayoutModel",
      "state": {
       "_model_module": "@jupyter-widgets/base",
       "_model_module_version": "1.2.0",
       "_model_name": "LayoutModel",
       "_view_count": null,
       "_view_module": "@jupyter-widgets/base",
       "_view_module_version": "1.2.0",
       "_view_name": "LayoutView",
       "align_content": null,
       "align_items": null,
       "align_self": null,
       "border": null,
       "bottom": null,
       "display": null,
       "flex": null,
       "flex_flow": null,
       "grid_area": null,
       "grid_auto_columns": null,
       "grid_auto_flow": null,
       "grid_auto_rows": null,
       "grid_column": null,
       "grid_gap": null,
       "grid_row": null,
       "grid_template_areas": null,
       "grid_template_columns": null,
       "grid_template_rows": null,
       "height": null,
       "justify_content": null,
       "justify_items": null,
       "left": null,
       "margin": null,
       "max_height": null,
       "max_width": null,
       "min_height": null,
       "min_width": null,
       "object_fit": null,
       "object_position": null,
       "order": null,
       "overflow": null,
       "overflow_x": null,
       "overflow_y": null,
       "padding": null,
       "right": null,
       "top": null,
       "visibility": null,
       "width": "6%"
      }
     },
     "b14b509a69094aaf8db43cc791f586cf": {
      "model_module": "@jupyter-widgets/controls",
      "model_module_version": "1.5.0",
      "model_name": "DescriptionStyleModel",
      "state": {
       "_model_module": "@jupyter-widgets/controls",
       "_model_module_version": "1.5.0",
       "_model_name": "DescriptionStyleModel",
       "_view_count": null,
       "_view_module": "@jupyter-widgets/base",
       "_view_module_version": "1.2.0",
       "_view_name": "StyleView",
       "description_width": ""
      }
     },
     "b24bf92ce222435197a1160098fa83eb": {
      "model_module": "@jupyter-widgets/base",
      "model_module_version": "1.2.0",
      "model_name": "LayoutModel",
      "state": {
       "_model_module": "@jupyter-widgets/base",
       "_model_module_version": "1.2.0",
       "_model_name": "LayoutModel",
       "_view_count": null,
       "_view_module": "@jupyter-widgets/base",
       "_view_module_version": "1.2.0",
       "_view_name": "LayoutView",
       "align_content": null,
       "align_items": null,
       "align_self": null,
       "border": null,
       "bottom": null,
       "display": null,
       "flex": null,
       "flex_flow": null,
       "grid_area": null,
       "grid_auto_columns": null,
       "grid_auto_flow": null,
       "grid_auto_rows": null,
       "grid_column": null,
       "grid_gap": null,
       "grid_row": null,
       "grid_template_areas": null,
       "grid_template_columns": null,
       "grid_template_rows": null,
       "height": null,
       "justify_content": null,
       "justify_items": null,
       "left": null,
       "margin": null,
       "max_height": null,
       "max_width": null,
       "min_height": null,
       "min_width": null,
       "object_fit": null,
       "object_position": null,
       "order": null,
       "overflow": null,
       "overflow_x": null,
       "overflow_y": null,
       "padding": null,
       "right": null,
       "top": null,
       "visibility": null,
       "width": "6%"
      }
     },
     "b40dad13205146579e754ff8955fc6d7": {
      "model_module": "@jupyter-widgets/controls",
      "model_module_version": "1.5.0",
      "model_name": "ProgressStyleModel",
      "state": {
       "_model_module": "@jupyter-widgets/controls",
       "_model_module_version": "1.5.0",
       "_model_name": "ProgressStyleModel",
       "_view_count": null,
       "_view_module": "@jupyter-widgets/base",
       "_view_module_version": "1.2.0",
       "_view_name": "StyleView",
       "bar_color": null,
       "description_width": ""
      }
     },
     "b496a39f9c594899b02b6b033f5cc45b": {
      "model_module": "@jupyter-widgets/controls",
      "model_module_version": "1.5.0",
      "model_name": "HBoxModel",
      "state": {
       "_dom_classes": [],
       "_model_module": "@jupyter-widgets/controls",
       "_model_module_version": "1.5.0",
       "_model_name": "HBoxModel",
       "_view_count": null,
       "_view_module": "@jupyter-widgets/controls",
       "_view_module_version": "1.5.0",
       "_view_name": "HBoxView",
       "box_style": "",
       "children": [
        "IPY_MODEL_c798ce1cae214f3bad4f70c24e9461ec",
        "IPY_MODEL_529c672b8fe04cc89caa0a2a39d126bd",
        "IPY_MODEL_198422af91fa47f3b81f557c280bd6bf"
       ],
       "layout": "IPY_MODEL_42ead9290c404964a055fbf4c328341f"
      }
     },
     "b91c6c60e70346c9862d0b38b3b3d77a": {
      "model_module": "@jupyter-widgets/base",
      "model_module_version": "1.2.0",
      "model_name": "LayoutModel",
      "state": {
       "_model_module": "@jupyter-widgets/base",
       "_model_module_version": "1.2.0",
       "_model_name": "LayoutModel",
       "_view_count": null,
       "_view_module": "@jupyter-widgets/base",
       "_view_module_version": "1.2.0",
       "_view_name": "LayoutView",
       "align_content": null,
       "align_items": null,
       "align_self": null,
       "border": null,
       "bottom": null,
       "display": null,
       "flex": null,
       "flex_flow": null,
       "grid_area": null,
       "grid_auto_columns": null,
       "grid_auto_flow": null,
       "grid_auto_rows": null,
       "grid_column": null,
       "grid_gap": null,
       "grid_row": null,
       "grid_template_areas": null,
       "grid_template_columns": null,
       "grid_template_rows": null,
       "height": null,
       "justify_content": null,
       "justify_items": null,
       "left": null,
       "margin": null,
       "max_height": null,
       "max_width": null,
       "min_height": null,
       "min_width": null,
       "object_fit": null,
       "object_position": null,
       "order": null,
       "overflow": null,
       "overflow_x": null,
       "overflow_y": null,
       "padding": null,
       "right": null,
       "top": null,
       "visibility": null,
       "width": "60%"
      }
     },
     "b94ea21ac2f744fc8d83cd0a23c6fdb9": {
      "model_module": "@jupyter-widgets/controls",
      "model_module_version": "1.5.0",
      "model_name": "HTMLModel",
      "state": {
       "_dom_classes": [],
       "_model_module": "@jupyter-widgets/controls",
       "_model_module_version": "1.5.0",
       "_model_name": "HTMLModel",
       "_view_count": null,
       "_view_module": "@jupyter-widgets/controls",
       "_view_module_version": "1.5.0",
       "_view_name": "HTMLView",
       "description": "",
       "description_tooltip": null,
       "layout": "IPY_MODEL_863557ee49b947f48bc72e187665361d",
       "placeholder": "​",
       "style": "IPY_MODEL_da448d9f638244e5a2643f5e59b78905",
       "value": "4/5 [00:00&lt;00:00, 10.34it/s]"
      }
     },
     "b965329f94e74a4b9c214706f0267ba9": {
      "model_module": "@jupyter-widgets/controls",
      "model_module_version": "1.5.0",
      "model_name": "ProgressStyleModel",
      "state": {
       "_model_module": "@jupyter-widgets/controls",
       "_model_module_version": "1.5.0",
       "_model_name": "ProgressStyleModel",
       "_view_count": null,
       "_view_module": "@jupyter-widgets/base",
       "_view_module_version": "1.2.0",
       "_view_name": "StyleView",
       "bar_color": null,
       "description_width": ""
      }
     },
     "ba25a22d836d48bd900b0ba06b2ee8ff": {
      "model_module": "@jupyter-widgets/base",
      "model_module_version": "1.2.0",
      "model_name": "LayoutModel",
      "state": {
       "_model_module": "@jupyter-widgets/base",
       "_model_module_version": "1.2.0",
       "_model_name": "LayoutModel",
       "_view_count": null,
       "_view_module": "@jupyter-widgets/base",
       "_view_module_version": "1.2.0",
       "_view_name": "LayoutView",
       "align_content": null,
       "align_items": null,
       "align_self": null,
       "border": null,
       "bottom": null,
       "display": null,
       "flex": null,
       "flex_flow": null,
       "grid_area": null,
       "grid_auto_columns": null,
       "grid_auto_flow": null,
       "grid_auto_rows": null,
       "grid_column": null,
       "grid_gap": null,
       "grid_row": null,
       "grid_template_areas": null,
       "grid_template_columns": null,
       "grid_template_rows": null,
       "height": null,
       "justify_content": null,
       "justify_items": null,
       "left": null,
       "margin": null,
       "max_height": null,
       "max_width": null,
       "min_height": null,
       "min_width": null,
       "object_fit": null,
       "object_position": null,
       "order": null,
       "overflow": null,
       "overflow_x": null,
       "overflow_y": null,
       "padding": null,
       "right": null,
       "top": null,
       "visibility": null,
       "width": "60%"
      }
     },
     "bb3bbbe2442a47f48dff521fae7731b1": {
      "model_module": "@jupyter-widgets/base",
      "model_module_version": "1.2.0",
      "model_name": "LayoutModel",
      "state": {
       "_model_module": "@jupyter-widgets/base",
       "_model_module_version": "1.2.0",
       "_model_name": "LayoutModel",
       "_view_count": null,
       "_view_module": "@jupyter-widgets/base",
       "_view_module_version": "1.2.0",
       "_view_name": "LayoutView",
       "align_content": null,
       "align_items": null,
       "align_self": null,
       "border": null,
       "bottom": null,
       "display": null,
       "flex": null,
       "flex_flow": null,
       "grid_area": null,
       "grid_auto_columns": null,
       "grid_auto_flow": null,
       "grid_auto_rows": null,
       "grid_column": null,
       "grid_gap": null,
       "grid_row": null,
       "grid_template_areas": null,
       "grid_template_columns": null,
       "grid_template_rows": null,
       "height": null,
       "justify_content": null,
       "justify_items": null,
       "left": null,
       "margin": null,
       "max_height": null,
       "max_width": null,
       "min_height": null,
       "min_width": null,
       "object_fit": null,
       "object_position": null,
       "order": null,
       "overflow": null,
       "overflow_x": null,
       "overflow_y": null,
       "padding": null,
       "right": null,
       "top": null,
       "visibility": null,
       "width": null
      }
     },
     "bbf20d0086494892a45839a2096b4bbb": {
      "model_module": "@jupyter-widgets/base",
      "model_module_version": "1.2.0",
      "model_name": "LayoutModel",
      "state": {
       "_model_module": "@jupyter-widgets/base",
       "_model_module_version": "1.2.0",
       "_model_name": "LayoutModel",
       "_view_count": null,
       "_view_module": "@jupyter-widgets/base",
       "_view_module_version": "1.2.0",
       "_view_name": "LayoutView",
       "align_content": null,
       "align_items": null,
       "align_self": null,
       "border": null,
       "bottom": null,
       "display": null,
       "flex": null,
       "flex_flow": null,
       "grid_area": null,
       "grid_auto_columns": null,
       "grid_auto_flow": null,
       "grid_auto_rows": null,
       "grid_column": null,
       "grid_gap": null,
       "grid_row": null,
       "grid_template_areas": null,
       "grid_template_columns": null,
       "grid_template_rows": null,
       "height": null,
       "justify_content": null,
       "justify_items": null,
       "left": null,
       "margin": null,
       "max_height": null,
       "max_width": null,
       "min_height": null,
       "min_width": null,
       "object_fit": null,
       "object_position": null,
       "order": null,
       "overflow": null,
       "overflow_x": null,
       "overflow_y": null,
       "padding": null,
       "right": null,
       "top": null,
       "visibility": null,
       "width": "60%"
      }
     },
     "bd9f61e78a8b4e269a28f5daab14c7be": {
      "model_module": "@jupyter-widgets/controls",
      "model_module_version": "1.5.0",
      "model_name": "FloatProgressModel",
      "state": {
       "_dom_classes": [],
       "_model_module": "@jupyter-widgets/controls",
       "_model_module_version": "1.5.0",
       "_model_name": "FloatProgressModel",
       "_view_count": null,
       "_view_module": "@jupyter-widgets/controls",
       "_view_module_version": "1.5.0",
       "_view_name": "ProgressView",
       "bar_style": "",
       "description": "",
       "description_tooltip": null,
       "layout": "IPY_MODEL_8c9de4ed532c446a900dd39848d19075",
       "max": 5.0,
       "min": 0.0,
       "orientation": "horizontal",
       "style": "IPY_MODEL_2482c66d64134d049a5b6fd585f7de09",
       "value": 4.0
      }
     },
     "c21cb0c332ae411e9d965c232deb6b40": {
      "model_module": "@jupyter-widgets/base",
      "model_module_version": "1.2.0",
      "model_name": "LayoutModel",
      "state": {
       "_model_module": "@jupyter-widgets/base",
       "_model_module_version": "1.2.0",
       "_model_name": "LayoutModel",
       "_view_count": null,
       "_view_module": "@jupyter-widgets/base",
       "_view_module_version": "1.2.0",
       "_view_name": "LayoutView",
       "align_content": null,
       "align_items": null,
       "align_self": null,
       "border": null,
       "bottom": null,
       "display": null,
       "flex": null,
       "flex_flow": null,
       "grid_area": null,
       "grid_auto_columns": null,
       "grid_auto_flow": null,
       "grid_auto_rows": null,
       "grid_column": null,
       "grid_gap": null,
       "grid_row": null,
       "grid_template_areas": null,
       "grid_template_columns": null,
       "grid_template_rows": null,
       "height": null,
       "justify_content": null,
       "justify_items": null,
       "left": null,
       "margin": null,
       "max_height": null,
       "max_width": null,
       "min_height": null,
       "min_width": null,
       "object_fit": null,
       "object_position": null,
       "order": null,
       "overflow": null,
       "overflow_x": null,
       "overflow_y": null,
       "padding": null,
       "right": null,
       "top": null,
       "visibility": null,
       "width": "60%"
      }
     },
     "c2b2441e68b94c04bade7792ed48e0e7": {
      "model_module": "@jupyter-widgets/controls",
      "model_module_version": "1.5.0",
      "model_name": "HTMLModel",
      "state": {
       "_dom_classes": [],
       "_model_module": "@jupyter-widgets/controls",
       "_model_module_version": "1.5.0",
       "_model_name": "HTMLModel",
       "_view_count": null,
       "_view_module": "@jupyter-widgets/controls",
       "_view_module_version": "1.5.0",
       "_view_name": "HTMLView",
       "description": "",
       "description_tooltip": null,
       "layout": "IPY_MODEL_47c0d28c167c488db2b107ccff320e57",
       "placeholder": "​",
       "style": "IPY_MODEL_b14b509a69094aaf8db43cc791f586cf",
       "value": "10000/10000 [00:00&lt;00:00, 61390.15it/s]"
      }
     },
     "c2c2655039ca479091750a7aa2d18bfb": {
      "model_module": "@jupyter-widgets/controls",
      "model_module_version": "1.5.0",
      "model_name": "HTMLModel",
      "state": {
       "_dom_classes": [],
       "_model_module": "@jupyter-widgets/controls",
       "_model_module_version": "1.5.0",
       "_model_name": "HTMLModel",
       "_view_count": null,
       "_view_module": "@jupyter-widgets/controls",
       "_view_module_version": "1.5.0",
       "_view_name": "HTMLView",
       "description": "",
       "description_tooltip": null,
       "layout": "IPY_MODEL_acaa94f3c13644fb8eafd53da1d35892",
       "placeholder": "​",
       "style": "IPY_MODEL_30af297d6744453295799e3b95280760",
       "value": "5/5 [00:00&lt;00:00,  6.65it/s]"
      }
     },
     "c31f9e5b06e94c0ba46f98455420dbac": {
      "model_module": "@jupyter-widgets/controls",
      "model_module_version": "1.5.0",
      "model_name": "ProgressStyleModel",
      "state": {
       "_model_module": "@jupyter-widgets/controls",
       "_model_module_version": "1.5.0",
       "_model_name": "ProgressStyleModel",
       "_view_count": null,
       "_view_module": "@jupyter-widgets/base",
       "_view_module_version": "1.2.0",
       "_view_name": "StyleView",
       "bar_color": null,
       "description_width": ""
      }
     },
     "c34a13452d3c4e57a96dfadb8fa9e853": {
      "model_module": "@jupyter-widgets/base",
      "model_module_version": "1.2.0",
      "model_name": "LayoutModel",
      "state": {
       "_model_module": "@jupyter-widgets/base",
       "_model_module_version": "1.2.0",
       "_model_name": "LayoutModel",
       "_view_count": null,
       "_view_module": "@jupyter-widgets/base",
       "_view_module_version": "1.2.0",
       "_view_name": "LayoutView",
       "align_content": null,
       "align_items": null,
       "align_self": null,
       "border": null,
       "bottom": null,
       "display": null,
       "flex": null,
       "flex_flow": null,
       "grid_area": null,
       "grid_auto_columns": null,
       "grid_auto_flow": null,
       "grid_auto_rows": null,
       "grid_column": null,
       "grid_gap": null,
       "grid_row": null,
       "grid_template_areas": null,
       "grid_template_columns": null,
       "grid_template_rows": null,
       "height": null,
       "justify_content": null,
       "justify_items": null,
       "left": null,
       "margin": null,
       "max_height": null,
       "max_width": null,
       "min_height": null,
       "min_width": null,
       "object_fit": null,
       "object_position": null,
       "order": null,
       "overflow": null,
       "overflow_x": null,
       "overflow_y": null,
       "padding": null,
       "right": null,
       "top": null,
       "visibility": null,
       "width": null
      }
     },
     "c382482bab44491f84527db5d6c35433": {
      "model_module": "@jupyter-widgets/base",
      "model_module_version": "1.2.0",
      "model_name": "LayoutModel",
      "state": {
       "_model_module": "@jupyter-widgets/base",
       "_model_module_version": "1.2.0",
       "_model_name": "LayoutModel",
       "_view_count": null,
       "_view_module": "@jupyter-widgets/base",
       "_view_module_version": "1.2.0",
       "_view_name": "LayoutView",
       "align_content": null,
       "align_items": null,
       "align_self": null,
       "border": null,
       "bottom": null,
       "display": null,
       "flex": null,
       "flex_flow": null,
       "grid_area": null,
       "grid_auto_columns": null,
       "grid_auto_flow": null,
       "grid_auto_rows": null,
       "grid_column": null,
       "grid_gap": null,
       "grid_row": null,
       "grid_template_areas": null,
       "grid_template_columns": null,
       "grid_template_rows": null,
       "height": null,
       "justify_content": null,
       "justify_items": null,
       "left": null,
       "margin": null,
       "max_height": null,
       "max_width": null,
       "min_height": null,
       "min_width": null,
       "object_fit": null,
       "object_position": null,
       "order": null,
       "overflow": null,
       "overflow_x": null,
       "overflow_y": null,
       "padding": null,
       "right": null,
       "top": null,
       "visibility": null,
       "width": "6%"
      }
     },
     "c391a6e6c5eb4c1a8fe6b9fcde4e3ca0": {
      "model_module": "@jupyter-widgets/controls",
      "model_module_version": "1.5.0",
      "model_name": "HTMLModel",
      "state": {
       "_dom_classes": [],
       "_model_module": "@jupyter-widgets/controls",
       "_model_module_version": "1.5.0",
       "_model_name": "HTMLModel",
       "_view_count": null,
       "_view_module": "@jupyter-widgets/controls",
       "_view_module_version": "1.5.0",
       "_view_name": "HTMLView",
       "description": "",
       "description_tooltip": null,
       "layout": "IPY_MODEL_b24bf92ce222435197a1160098fa83eb",
       "placeholder": "​",
       "style": "IPY_MODEL_fd2fc072aafd41c6a27b774eb980b64c",
       "value": "Iterations:"
      }
     },
     "c3c1025e66a146d7a12cff408d4b4c2b": {
      "model_module": "@jupyter-widgets/base",
      "model_module_version": "1.2.0",
      "model_name": "LayoutModel",
      "state": {
       "_model_module": "@jupyter-widgets/base",
       "_model_module_version": "1.2.0",
       "_model_name": "LayoutModel",
       "_view_count": null,
       "_view_module": "@jupyter-widgets/base",
       "_view_module_version": "1.2.0",
       "_view_name": "LayoutView",
       "align_content": null,
       "align_items": null,
       "align_self": null,
       "border": null,
       "bottom": null,
       "display": null,
       "flex": null,
       "flex_flow": null,
       "grid_area": null,
       "grid_auto_columns": null,
       "grid_auto_flow": null,
       "grid_auto_rows": null,
       "grid_column": null,
       "grid_gap": null,
       "grid_row": null,
       "grid_template_areas": null,
       "grid_template_columns": null,
       "grid_template_rows": null,
       "height": null,
       "justify_content": null,
       "justify_items": null,
       "left": null,
       "margin": null,
       "max_height": null,
       "max_width": null,
       "min_height": null,
       "min_width": null,
       "object_fit": null,
       "object_position": null,
       "order": null,
       "overflow": null,
       "overflow_x": null,
       "overflow_y": null,
       "padding": null,
       "right": null,
       "top": null,
       "visibility": null,
       "width": "6%"
      }
     },
     "c45428949c8447849ca664986ddc681c": {
      "model_module": "@jupyter-widgets/controls",
      "model_module_version": "1.5.0",
      "model_name": "DescriptionStyleModel",
      "state": {
       "_model_module": "@jupyter-widgets/controls",
       "_model_module_version": "1.5.0",
       "_model_name": "DescriptionStyleModel",
       "_view_count": null,
       "_view_module": "@jupyter-widgets/base",
       "_view_module_version": "1.2.0",
       "_view_name": "StyleView",
       "description_width": ""
      }
     },
     "c4f7df54b60a4522b7a6132bd405bcc1": {
      "model_module": "@jupyter-widgets/controls",
      "model_module_version": "1.5.0",
      "model_name": "DescriptionStyleModel",
      "state": {
       "_model_module": "@jupyter-widgets/controls",
       "_model_module_version": "1.5.0",
       "_model_name": "DescriptionStyleModel",
       "_view_count": null,
       "_view_module": "@jupyter-widgets/base",
       "_view_module_version": "1.2.0",
       "_view_name": "StyleView",
       "description_width": ""
      }
     },
     "c529f909d46e4cdb877e1e2f54eb058d": {
      "model_module": "@jupyter-widgets/controls",
      "model_module_version": "1.5.0",
      "model_name": "DescriptionStyleModel",
      "state": {
       "_model_module": "@jupyter-widgets/controls",
       "_model_module_version": "1.5.0",
       "_model_name": "DescriptionStyleModel",
       "_view_count": null,
       "_view_module": "@jupyter-widgets/base",
       "_view_module_version": "1.2.0",
       "_view_name": "StyleView",
       "description_width": ""
      }
     },
     "c62c23b243f9406da80033776f4b555c": {
      "model_module": "@jupyter-widgets/controls",
      "model_module_version": "1.5.0",
      "model_name": "HBoxModel",
      "state": {
       "_dom_classes": [],
       "_model_module": "@jupyter-widgets/controls",
       "_model_module_version": "1.5.0",
       "_model_name": "HBoxModel",
       "_view_count": null,
       "_view_module": "@jupyter-widgets/controls",
       "_view_module_version": "1.5.0",
       "_view_name": "HBoxView",
       "box_style": "",
       "children": [
        "IPY_MODEL_5f7c05560bb1406ebcaa22dce1c5b719",
        "IPY_MODEL_6ee24bd96e7f4ece9e4c50821841e7c9",
        "IPY_MODEL_7cc3f9a5e3554ab99583b72543dc218c"
       ],
       "layout": "IPY_MODEL_50e6baacdbd84240a09921a6289d2cc4"
      }
     },
     "c6875d07aa9a43c08b4dc5bd6a8c1f8a": {
      "model_module": "@jupyter-widgets/base",
      "model_module_version": "1.2.0",
      "model_name": "LayoutModel",
      "state": {
       "_model_module": "@jupyter-widgets/base",
       "_model_module_version": "1.2.0",
       "_model_name": "LayoutModel",
       "_view_count": null,
       "_view_module": "@jupyter-widgets/base",
       "_view_module_version": "1.2.0",
       "_view_name": "LayoutView",
       "align_content": null,
       "align_items": null,
       "align_self": null,
       "border": null,
       "bottom": null,
       "display": null,
       "flex": null,
       "flex_flow": null,
       "grid_area": null,
       "grid_auto_columns": null,
       "grid_auto_flow": null,
       "grid_auto_rows": null,
       "grid_column": null,
       "grid_gap": null,
       "grid_row": null,
       "grid_template_areas": null,
       "grid_template_columns": null,
       "grid_template_rows": null,
       "height": null,
       "justify_content": null,
       "justify_items": null,
       "left": null,
       "margin": null,
       "max_height": null,
       "max_width": null,
       "min_height": null,
       "min_width": null,
       "object_fit": null,
       "object_position": null,
       "order": null,
       "overflow": null,
       "overflow_x": null,
       "overflow_y": null,
       "padding": null,
       "right": null,
       "top": null,
       "visibility": null,
       "width": "60%"
      }
     },
     "c798ce1cae214f3bad4f70c24e9461ec": {
      "model_module": "@jupyter-widgets/controls",
      "model_module_version": "1.5.0",
      "model_name": "HTMLModel",
      "state": {
       "_dom_classes": [],
       "_model_module": "@jupyter-widgets/controls",
       "_model_module_version": "1.5.0",
       "_model_name": "HTMLModel",
       "_view_count": null,
       "_view_module": "@jupyter-widgets/controls",
       "_view_module_version": "1.5.0",
       "_view_name": "HTMLView",
       "description": "",
       "description_tooltip": null,
       "layout": "IPY_MODEL_9a8f4ca761674629bf121020a6cc40c7",
       "placeholder": "​",
       "style": "IPY_MODEL_4f483d6f34174b56872212c4c57794ec",
       "value": "Packets:   "
      }
     },
     "cd74e9b848a54635921f204a58e3efe2": {
      "model_module": "@jupyter-widgets/controls",
      "model_module_version": "1.5.0",
      "model_name": "DescriptionStyleModel",
      "state": {
       "_model_module": "@jupyter-widgets/controls",
       "_model_module_version": "1.5.0",
       "_model_name": "DescriptionStyleModel",
       "_view_count": null,
       "_view_module": "@jupyter-widgets/base",
       "_view_module_version": "1.2.0",
       "_view_name": "StyleView",
       "description_width": ""
      }
     },
     "cec7f2a519ed4481b1c9200756f1ce04": {
      "model_module": "@jupyter-widgets/controls",
      "model_module_version": "1.5.0",
      "model_name": "ProgressStyleModel",
      "state": {
       "_model_module": "@jupyter-widgets/controls",
       "_model_module_version": "1.5.0",
       "_model_name": "ProgressStyleModel",
       "_view_count": null,
       "_view_module": "@jupyter-widgets/base",
       "_view_module_version": "1.2.0",
       "_view_name": "StyleView",
       "bar_color": null,
       "description_width": ""
      }
     },
     "d47b8fb9a8fb46c2877ca7a71da85ec8": {
      "model_module": "@jupyter-widgets/controls",
      "model_module_version": "1.5.0",
      "model_name": "DescriptionStyleModel",
      "state": {
       "_model_module": "@jupyter-widgets/controls",
       "_model_module_version": "1.5.0",
       "_model_name": "DescriptionStyleModel",
       "_view_count": null,
       "_view_module": "@jupyter-widgets/base",
       "_view_module_version": "1.2.0",
       "_view_name": "StyleView",
       "description_width": ""
      }
     },
     "d534538072d341bc8898673ce28be830": {
      "model_module": "@jupyter-widgets/controls",
      "model_module_version": "1.5.0",
      "model_name": "DescriptionStyleModel",
      "state": {
       "_model_module": "@jupyter-widgets/controls",
       "_model_module_version": "1.5.0",
       "_model_name": "DescriptionStyleModel",
       "_view_count": null,
       "_view_module": "@jupyter-widgets/base",
       "_view_module_version": "1.2.0",
       "_view_name": "StyleView",
       "description_width": ""
      }
     },
     "d636afc2703e4b528c50c7caa1f47b7e": {
      "model_module": "@jupyter-widgets/base",
      "model_module_version": "1.2.0",
      "model_name": "LayoutModel",
      "state": {
       "_model_module": "@jupyter-widgets/base",
       "_model_module_version": "1.2.0",
       "_model_name": "LayoutModel",
       "_view_count": null,
       "_view_module": "@jupyter-widgets/base",
       "_view_module_version": "1.2.0",
       "_view_name": "LayoutView",
       "align_content": null,
       "align_items": null,
       "align_self": null,
       "border": null,
       "bottom": null,
       "display": null,
       "flex": null,
       "flex_flow": null,
       "grid_area": null,
       "grid_auto_columns": null,
       "grid_auto_flow": null,
       "grid_auto_rows": null,
       "grid_column": null,
       "grid_gap": null,
       "grid_row": null,
       "grid_template_areas": null,
       "grid_template_columns": null,
       "grid_template_rows": null,
       "height": null,
       "justify_content": null,
       "justify_items": null,
       "left": null,
       "margin": null,
       "max_height": null,
       "max_width": null,
       "min_height": null,
       "min_width": null,
       "object_fit": null,
       "object_position": null,
       "order": null,
       "overflow": null,
       "overflow_x": null,
       "overflow_y": null,
       "padding": null,
       "right": null,
       "top": null,
       "visibility": null,
       "width": null
      }
     },
     "d8fca581da11435a9207979e3e14b7ae": {
      "model_module": "@jupyter-widgets/controls",
      "model_module_version": "1.5.0",
      "model_name": "DescriptionStyleModel",
      "state": {
       "_model_module": "@jupyter-widgets/controls",
       "_model_module_version": "1.5.0",
       "_model_name": "DescriptionStyleModel",
       "_view_count": null,
       "_view_module": "@jupyter-widgets/base",
       "_view_module_version": "1.2.0",
       "_view_name": "StyleView",
       "description_width": ""
      }
     },
     "d9aff42a4fb34796971947f60b144e8b": {
      "model_module": "@jupyter-widgets/controls",
      "model_module_version": "1.5.0",
      "model_name": "ProgressStyleModel",
      "state": {
       "_model_module": "@jupyter-widgets/controls",
       "_model_module_version": "1.5.0",
       "_model_name": "ProgressStyleModel",
       "_view_count": null,
       "_view_module": "@jupyter-widgets/base",
       "_view_module_version": "1.2.0",
       "_view_name": "StyleView",
       "bar_color": null,
       "description_width": ""
      }
     },
     "d9ddb1629bb84940b86f115744120cea": {
      "model_module": "@jupyter-widgets/controls",
      "model_module_version": "1.5.0",
      "model_name": "FloatProgressModel",
      "state": {
       "_dom_classes": [],
       "_model_module": "@jupyter-widgets/controls",
       "_model_module_version": "1.5.0",
       "_model_name": "FloatProgressModel",
       "_view_count": null,
       "_view_module": "@jupyter-widgets/controls",
       "_view_module_version": "1.5.0",
       "_view_name": "ProgressView",
       "bar_style": "info",
       "description": "",
       "description_tooltip": null,
       "layout": "IPY_MODEL_3361395d907548d08674164e7eaa0051",
       "max": 1.0,
       "min": 0.0,
       "orientation": "horizontal",
       "style": "IPY_MODEL_0188e8cd29e843b08a1bfb2f6a135247",
       "value": 0.0
      }
     },
     "da448d9f638244e5a2643f5e59b78905": {
      "model_module": "@jupyter-widgets/controls",
      "model_module_version": "1.5.0",
      "model_name": "DescriptionStyleModel",
      "state": {
       "_model_module": "@jupyter-widgets/controls",
       "_model_module_version": "1.5.0",
       "_model_name": "DescriptionStyleModel",
       "_view_count": null,
       "_view_module": "@jupyter-widgets/base",
       "_view_module_version": "1.2.0",
       "_view_name": "StyleView",
       "description_width": ""
      }
     },
     "dd5f4ea687694e668944031b0d1dece4": {
      "model_module": "@jupyter-widgets/base",
      "model_module_version": "1.2.0",
      "model_name": "LayoutModel",
      "state": {
       "_model_module": "@jupyter-widgets/base",
       "_model_module_version": "1.2.0",
       "_model_name": "LayoutModel",
       "_view_count": null,
       "_view_module": "@jupyter-widgets/base",
       "_view_module_version": "1.2.0",
       "_view_name": "LayoutView",
       "align_content": null,
       "align_items": null,
       "align_self": null,
       "border": null,
       "bottom": null,
       "display": null,
       "flex": null,
       "flex_flow": null,
       "grid_area": null,
       "grid_auto_columns": null,
       "grid_auto_flow": null,
       "grid_auto_rows": null,
       "grid_column": null,
       "grid_gap": null,
       "grid_row": null,
       "grid_template_areas": null,
       "grid_template_columns": null,
       "grid_template_rows": null,
       "height": null,
       "justify_content": null,
       "justify_items": null,
       "left": null,
       "margin": null,
       "max_height": null,
       "max_width": null,
       "min_height": null,
       "min_width": null,
       "object_fit": null,
       "object_position": null,
       "order": null,
       "overflow": null,
       "overflow_x": null,
       "overflow_y": null,
       "padding": null,
       "right": null,
       "top": null,
       "visibility": null,
       "width": "6%"
      }
     },
     "df56829e5d4042a7ac2a1b7314b96b39": {
      "model_module": "@jupyter-widgets/controls",
      "model_module_version": "1.5.0",
      "model_name": "HBoxModel",
      "state": {
       "_dom_classes": [],
       "_model_module": "@jupyter-widgets/controls",
       "_model_module_version": "1.5.0",
       "_model_name": "HBoxModel",
       "_view_count": null,
       "_view_module": "@jupyter-widgets/controls",
       "_view_module_version": "1.5.0",
       "_view_name": "HBoxView",
       "box_style": "",
       "children": [
        "IPY_MODEL_1334ef8d662940f3a81401e2ec172ce4",
        "IPY_MODEL_e8ef730f4c5e47cbafcd87e598835215",
        "IPY_MODEL_feec3ea7b29140ad978a6af4d27d9371"
       ],
       "layout": "IPY_MODEL_fbd75d60d11d4cb99c3028c18d73634c"
      }
     },
     "e1e1072d2a594170ad1f9f9bbe990f7c": {
      "model_module": "@jupyter-widgets/controls",
      "model_module_version": "1.5.0",
      "model_name": "FloatProgressModel",
      "state": {
       "_dom_classes": [],
       "_model_module": "@jupyter-widgets/controls",
       "_model_module_version": "1.5.0",
       "_model_name": "FloatProgressModel",
       "_view_count": null,
       "_view_module": "@jupyter-widgets/controls",
       "_view_module_version": "1.5.0",
       "_view_name": "ProgressView",
       "bar_style": "",
       "description": "",
       "description_tooltip": null,
       "layout": "IPY_MODEL_e80a8f046fc8446097e88ae646595052",
       "max": 5.0,
       "min": 0.0,
       "orientation": "horizontal",
       "style": "IPY_MODEL_3e616f5882d64f7a96e57799d1d41fff",
       "value": 4.0
      }
     },
     "e25efeb9893a442f9f54907c4edd9c92": {
      "model_module": "@jupyter-widgets/controls",
      "model_module_version": "1.5.0",
      "model_name": "HTMLModel",
      "state": {
       "_dom_classes": [],
       "_model_module": "@jupyter-widgets/controls",
       "_model_module_version": "1.5.0",
       "_model_name": "HTMLModel",
       "_view_count": null,
       "_view_module": "@jupyter-widgets/controls",
       "_view_module_version": "1.5.0",
       "_view_name": "HTMLView",
       "description": "",
       "description_tooltip": null,
       "layout": "IPY_MODEL_8849bbe831cb4c6681b69c0537d6a609",
       "placeholder": "​",
       "style": "IPY_MODEL_24c96848ef794ff6b7077e5c7592db2b",
       "value": "Iterations:"
      }
     },
     "e5309dab80b643a0b28dd916ed864321": {
      "model_module": "@jupyter-widgets/base",
      "model_module_version": "1.2.0",
      "model_name": "LayoutModel",
      "state": {
       "_model_module": "@jupyter-widgets/base",
       "_model_module_version": "1.2.0",
       "_model_name": "LayoutModel",
       "_view_count": null,
       "_view_module": "@jupyter-widgets/base",
       "_view_module_version": "1.2.0",
       "_view_name": "LayoutView",
       "align_content": null,
       "align_items": null,
       "align_self": null,
       "border": null,
       "bottom": null,
       "display": null,
       "flex": null,
       "flex_flow": null,
       "grid_area": null,
       "grid_auto_columns": null,
       "grid_auto_flow": null,
       "grid_auto_rows": null,
       "grid_column": null,
       "grid_gap": null,
       "grid_row": null,
       "grid_template_areas": null,
       "grid_template_columns": null,
       "grid_template_rows": null,
       "height": null,
       "justify_content": null,
       "justify_items": null,
       "left": null,
       "margin": null,
       "max_height": null,
       "max_width": null,
       "min_height": null,
       "min_width": null,
       "object_fit": null,
       "object_position": null,
       "order": null,
       "overflow": null,
       "overflow_x": null,
       "overflow_y": null,
       "padding": null,
       "right": null,
       "top": null,
       "visibility": null,
       "width": "60%"
      }
     },
     "e5a17334a918463da80ff2282247debd": {
      "model_module": "@jupyter-widgets/controls",
      "model_module_version": "1.5.0",
      "model_name": "HBoxModel",
      "state": {
       "_dom_classes": [],
       "_model_module": "@jupyter-widgets/controls",
       "_model_module_version": "1.5.0",
       "_model_name": "HBoxModel",
       "_view_count": null,
       "_view_module": "@jupyter-widgets/controls",
       "_view_module_version": "1.5.0",
       "_view_name": "HBoxView",
       "box_style": "",
       "children": [
        "IPY_MODEL_53d04cecc7c34298a28a679f5ed38a3d",
        "IPY_MODEL_553e2093fe6446a6890ed89d3099545a",
        "IPY_MODEL_e7346bb067e74993bc8b90622c61592d"
       ],
       "layout": "IPY_MODEL_8ad007c24114444386d17c558b72383d"
      }
     },
     "e6a360f750c54bc2b5223c2361605af3": {
      "model_module": "@jupyter-widgets/controls",
      "model_module_version": "1.5.0",
      "model_name": "HTMLModel",
      "state": {
       "_dom_classes": [],
       "_model_module": "@jupyter-widgets/controls",
       "_model_module_version": "1.5.0",
       "_model_name": "HTMLModel",
       "_view_count": null,
       "_view_module": "@jupyter-widgets/controls",
       "_view_module_version": "1.5.0",
       "_view_name": "HTMLView",
       "description": "",
       "description_tooltip": null,
       "layout": "IPY_MODEL_9bf659b68986404ab1d9c95dbea3453e",
       "placeholder": "​",
       "style": "IPY_MODEL_04b266648f5b46a39ebc9fc5a166a7b4",
       "value": "10000/10000 [00:00&lt;00:00, 62722.51it/s]"
      }
     },
     "e7346bb067e74993bc8b90622c61592d": {
      "model_module": "@jupyter-widgets/controls",
      "model_module_version": "1.5.0",
      "model_name": "HTMLModel",
      "state": {
       "_dom_classes": [],
       "_model_module": "@jupyter-widgets/controls",
       "_model_module_version": "1.5.0",
       "_model_name": "HTMLModel",
       "_view_count": null,
       "_view_module": "@jupyter-widgets/controls",
       "_view_module_version": "1.5.0",
       "_view_name": "HTMLView",
       "description": "",
       "description_tooltip": null,
       "layout": "IPY_MODEL_d636afc2703e4b528c50c7caa1f47b7e",
       "placeholder": "​",
       "style": "IPY_MODEL_0df7748486134571b2f564c29f72abc4",
       "value": "10000/10000 [00:00&lt;00:00, 63551.58it/s]"
      }
     },
     "e80a8f046fc8446097e88ae646595052": {
      "model_module": "@jupyter-widgets/base",
      "model_module_version": "1.2.0",
      "model_name": "LayoutModel",
      "state": {
       "_model_module": "@jupyter-widgets/base",
       "_model_module_version": "1.2.0",
       "_model_name": "LayoutModel",
       "_view_count": null,
       "_view_module": "@jupyter-widgets/base",
       "_view_module_version": "1.2.0",
       "_view_name": "LayoutView",
       "align_content": null,
       "align_items": null,
       "align_self": null,
       "border": null,
       "bottom": null,
       "display": null,
       "flex": null,
       "flex_flow": null,
       "grid_area": null,
       "grid_auto_columns": null,
       "grid_auto_flow": null,
       "grid_auto_rows": null,
       "grid_column": null,
       "grid_gap": null,
       "grid_row": null,
       "grid_template_areas": null,
       "grid_template_columns": null,
       "grid_template_rows": null,
       "height": null,
       "justify_content": null,
       "justify_items": null,
       "left": null,
       "margin": null,
       "max_height": null,
       "max_width": null,
       "min_height": null,
       "min_width": null,
       "object_fit": null,
       "object_position": null,
       "order": null,
       "overflow": null,
       "overflow_x": null,
       "overflow_y": null,
       "padding": null,
       "right": null,
       "top": null,
       "visibility": null,
       "width": "60%"
      }
     },
     "e80e2d460faf4b7592d41ddb2a07b016": {
      "model_module": "@jupyter-widgets/controls",
      "model_module_version": "1.5.0",
      "model_name": "HBoxModel",
      "state": {
       "_dom_classes": [],
       "_model_module": "@jupyter-widgets/controls",
       "_model_module_version": "1.5.0",
       "_model_name": "HBoxModel",
       "_view_count": null,
       "_view_module": "@jupyter-widgets/controls",
       "_view_module_version": "1.5.0",
       "_view_name": "HBoxView",
       "box_style": "",
       "children": [
        "IPY_MODEL_055a2dc90a6844e0a8be5bbb0bdfbd86",
        "IPY_MODEL_bd9f61e78a8b4e269a28f5daab14c7be",
        "IPY_MODEL_09acf044029e487698d8320ea5a4b803"
       ],
       "layout": "IPY_MODEL_2986bf16dbb94d50b60ba50ede9e617d"
      }
     },
     "e8ef730f4c5e47cbafcd87e598835215": {
      "model_module": "@jupyter-widgets/controls",
      "model_module_version": "1.5.0",
      "model_name": "FloatProgressModel",
      "state": {
       "_dom_classes": [],
       "_model_module": "@jupyter-widgets/controls",
       "_model_module_version": "1.5.0",
       "_model_name": "FloatProgressModel",
       "_view_count": null,
       "_view_module": "@jupyter-widgets/controls",
       "_view_module_version": "1.5.0",
       "_view_name": "ProgressView",
       "bar_style": "",
       "description": "",
       "description_tooltip": null,
       "layout": "IPY_MODEL_8f22e8d178db426a9f06549ca46e0ae4",
       "max": 5.0,
       "min": 0.0,
       "orientation": "horizontal",
       "style": "IPY_MODEL_2a52e7b3392b4161ae305acb9e0ffe3c",
       "value": 4.0
      }
     },
     "e9f92d6d62fc4f90aedda2e687ca65af": {
      "model_module": "@jupyter-widgets/output",
      "model_module_version": "1.0.0",
      "model_name": "OutputModel",
      "state": {
       "_dom_classes": [],
       "_model_module": "@jupyter-widgets/output",
       "_model_module_version": "1.0.0",
       "_model_name": "OutputModel",
       "_view_count": null,
       "_view_module": "@jupyter-widgets/output",
       "_view_module_version": "1.0.0",
       "_view_name": "OutputView",
       "layout": "IPY_MODEL_76d2ca7850cb491c82f28128759e6139",
       "msg_id": "",
       "outputs": []
      }
     },
     "eb529aa2a5dd4d419392f63559596b84": {
      "model_module": "@jupyter-widgets/controls",
      "model_module_version": "1.5.0",
      "model_name": "HBoxModel",
      "state": {
       "_dom_classes": [],
       "_model_module": "@jupyter-widgets/controls",
       "_model_module_version": "1.5.0",
       "_model_name": "HBoxModel",
       "_view_count": null,
       "_view_module": "@jupyter-widgets/controls",
       "_view_module_version": "1.5.0",
       "_view_name": "HBoxView",
       "box_style": "",
       "children": [
        "IPY_MODEL_c391a6e6c5eb4c1a8fe6b9fcde4e3ca0",
        "IPY_MODEL_285588cade7b4922873d760b8520735c",
        "IPY_MODEL_f97801345d334ff38a545ab258cf8080"
       ],
       "layout": "IPY_MODEL_3bc5693ad3b149bfbd8715ac3b062ab0"
      }
     },
     "ec899cfa679c4677aab5510fc7c14b5b": {
      "model_module": "@jupyter-widgets/controls",
      "model_module_version": "1.5.0",
      "model_name": "ProgressStyleModel",
      "state": {
       "_model_module": "@jupyter-widgets/controls",
       "_model_module_version": "1.5.0",
       "_model_name": "ProgressStyleModel",
       "_view_count": null,
       "_view_module": "@jupyter-widgets/base",
       "_view_module_version": "1.2.0",
       "_view_name": "StyleView",
       "bar_color": null,
       "description_width": ""
      }
     },
     "ee9de55d2f224a24844efbfe35eb187f": {
      "model_module": "@jupyter-widgets/controls",
      "model_module_version": "1.5.0",
      "model_name": "DescriptionStyleModel",
      "state": {
       "_model_module": "@jupyter-widgets/controls",
       "_model_module_version": "1.5.0",
       "_model_name": "DescriptionStyleModel",
       "_view_count": null,
       "_view_module": "@jupyter-widgets/base",
       "_view_module_version": "1.2.0",
       "_view_name": "StyleView",
       "description_width": ""
      }
     },
     "efbc05eec92f409a9aa989cbcd5316b6": {
      "model_module": "@jupyter-widgets/base",
      "model_module_version": "1.2.0",
      "model_name": "LayoutModel",
      "state": {
       "_model_module": "@jupyter-widgets/base",
       "_model_module_version": "1.2.0",
       "_model_name": "LayoutModel",
       "_view_count": null,
       "_view_module": "@jupyter-widgets/base",
       "_view_module_version": "1.2.0",
       "_view_name": "LayoutView",
       "align_content": null,
       "align_items": null,
       "align_self": null,
       "border": null,
       "bottom": null,
       "display": null,
       "flex": null,
       "flex_flow": null,
       "grid_area": null,
       "grid_auto_columns": null,
       "grid_auto_flow": null,
       "grid_auto_rows": null,
       "grid_column": null,
       "grid_gap": null,
       "grid_row": null,
       "grid_template_areas": null,
       "grid_template_columns": null,
       "grid_template_rows": null,
       "height": null,
       "justify_content": null,
       "justify_items": null,
       "left": null,
       "margin": null,
       "max_height": null,
       "max_width": null,
       "min_height": null,
       "min_width": null,
       "object_fit": null,
       "object_position": null,
       "order": null,
       "overflow": null,
       "overflow_x": null,
       "overflow_y": null,
       "padding": null,
       "right": null,
       "top": null,
       "visibility": null,
       "width": null
      }
     },
     "f0bf8e9a3a9f4778bd07d723abcd3502": {
      "model_module": "@jupyter-widgets/controls",
      "model_module_version": "1.5.0",
      "model_name": "HBoxModel",
      "state": {
       "_dom_classes": [],
       "_model_module": "@jupyter-widgets/controls",
       "_model_module_version": "1.5.0",
       "_model_name": "HBoxModel",
       "_view_count": null,
       "_view_module": "@jupyter-widgets/controls",
       "_view_module_version": "1.5.0",
       "_view_name": "HBoxView",
       "box_style": "",
       "children": [
        "IPY_MODEL_465e82210f9d46b4a0431fb756d5c567",
        "IPY_MODEL_42c1d2dff77441bdb65f0eb1d835a492",
        "IPY_MODEL_99181b997111420da08d168a14ae9ac7"
       ],
       "layout": "IPY_MODEL_bb3bbbe2442a47f48dff521fae7731b1"
      }
     },
     "f2782b14fbfb46d996dab59fcbc58751": {
      "model_module": "@jupyter-widgets/base",
      "model_module_version": "1.2.0",
      "model_name": "LayoutModel",
      "state": {
       "_model_module": "@jupyter-widgets/base",
       "_model_module_version": "1.2.0",
       "_model_name": "LayoutModel",
       "_view_count": null,
       "_view_module": "@jupyter-widgets/base",
       "_view_module_version": "1.2.0",
       "_view_name": "LayoutView",
       "align_content": null,
       "align_items": null,
       "align_self": null,
       "border": null,
       "bottom": null,
       "display": null,
       "flex": null,
       "flex_flow": null,
       "grid_area": null,
       "grid_auto_columns": null,
       "grid_auto_flow": null,
       "grid_auto_rows": null,
       "grid_column": null,
       "grid_gap": null,
       "grid_row": null,
       "grid_template_areas": null,
       "grid_template_columns": null,
       "grid_template_rows": null,
       "height": null,
       "justify_content": null,
       "justify_items": null,
       "left": null,
       "margin": null,
       "max_height": null,
       "max_width": null,
       "min_height": null,
       "min_width": null,
       "object_fit": null,
       "object_position": null,
       "order": null,
       "overflow": null,
       "overflow_x": null,
       "overflow_y": null,
       "padding": null,
       "right": null,
       "top": null,
       "visibility": null,
       "width": null
      }
     },
     "f416746143d3414581e5e4e04cd88c8a": {
      "model_module": "@jupyter-widgets/controls",
      "model_module_version": "1.5.0",
      "model_name": "HTMLModel",
      "state": {
       "_dom_classes": [],
       "_model_module": "@jupyter-widgets/controls",
       "_model_module_version": "1.5.0",
       "_model_name": "HTMLModel",
       "_view_count": null,
       "_view_module": "@jupyter-widgets/controls",
       "_view_module_version": "1.5.0",
       "_view_name": "HTMLView",
       "description": "",
       "description_tooltip": null,
       "layout": "IPY_MODEL_3fd44aa92de14d5a8206be128c6a6a03",
       "placeholder": "​",
       "style": "IPY_MODEL_1d8dc878b44e433684fa4b52e161464f",
       "value": "Packets:   "
      }
     },
     "f45645aac3ca49d48706778b341d7c51": {
      "model_module": "@jupyter-widgets/controls",
      "model_module_version": "1.5.0",
      "model_name": "HTMLModel",
      "state": {
       "_dom_classes": [],
       "_model_module": "@jupyter-widgets/controls",
       "_model_module_version": "1.5.0",
       "_model_name": "HTMLModel",
       "_view_count": null,
       "_view_module": "@jupyter-widgets/controls",
       "_view_module_version": "1.5.0",
       "_view_name": "HTMLView",
       "description": "",
       "description_tooltip": null,
       "layout": "IPY_MODEL_32bda438cf234fffb0248a975bde37a7",
       "placeholder": "​",
       "style": "IPY_MODEL_31f464142b024bb9894a7f7d9b893fa0",
       "value": "Packets:   "
      }
     },
     "f4925740a47d4106bebf69cfdafee4ae": {
      "model_module": "@jupyter-widgets/base",
      "model_module_version": "1.2.0",
      "model_name": "LayoutModel",
      "state": {
       "_model_module": "@jupyter-widgets/base",
       "_model_module_version": "1.2.0",
       "_model_name": "LayoutModel",
       "_view_count": null,
       "_view_module": "@jupyter-widgets/base",
       "_view_module_version": "1.2.0",
       "_view_name": "LayoutView",
       "align_content": null,
       "align_items": null,
       "align_self": null,
       "border": null,
       "bottom": null,
       "display": null,
       "flex": null,
       "flex_flow": null,
       "grid_area": null,
       "grid_auto_columns": null,
       "grid_auto_flow": null,
       "grid_auto_rows": null,
       "grid_column": null,
       "grid_gap": null,
       "grid_row": null,
       "grid_template_areas": null,
       "grid_template_columns": null,
       "grid_template_rows": null,
       "height": null,
       "justify_content": null,
       "justify_items": null,
       "left": null,
       "margin": null,
       "max_height": null,
       "max_width": null,
       "min_height": null,
       "min_width": null,
       "object_fit": null,
       "object_position": null,
       "order": null,
       "overflow": null,
       "overflow_x": null,
       "overflow_y": null,
       "padding": null,
       "right": null,
       "top": null,
       "visibility": null,
       "width": null
      }
     },
     "f712989090b94a9abb03278bf627ae87": {
      "model_module": "@jupyter-widgets/base",
      "model_module_version": "1.2.0",
      "model_name": "LayoutModel",
      "state": {
       "_model_module": "@jupyter-widgets/base",
       "_model_module_version": "1.2.0",
       "_model_name": "LayoutModel",
       "_view_count": null,
       "_view_module": "@jupyter-widgets/base",
       "_view_module_version": "1.2.0",
       "_view_name": "LayoutView",
       "align_content": null,
       "align_items": null,
       "align_self": null,
       "border": null,
       "bottom": null,
       "display": null,
       "flex": null,
       "flex_flow": null,
       "grid_area": null,
       "grid_auto_columns": null,
       "grid_auto_flow": null,
       "grid_auto_rows": null,
       "grid_column": null,
       "grid_gap": null,
       "grid_row": null,
       "grid_template_areas": null,
       "grid_template_columns": null,
       "grid_template_rows": null,
       "height": null,
       "justify_content": null,
       "justify_items": null,
       "left": null,
       "margin": null,
       "max_height": null,
       "max_width": null,
       "min_height": null,
       "min_width": null,
       "object_fit": null,
       "object_position": null,
       "order": null,
       "overflow": null,
       "overflow_x": null,
       "overflow_y": null,
       "padding": null,
       "right": null,
       "top": null,
       "visibility": null,
       "width": null
      }
     },
     "f97801345d334ff38a545ab258cf8080": {
      "model_module": "@jupyter-widgets/controls",
      "model_module_version": "1.5.0",
      "model_name": "HTMLModel",
      "state": {
       "_dom_classes": [],
       "_model_module": "@jupyter-widgets/controls",
       "_model_module_version": "1.5.0",
       "_model_name": "HTMLModel",
       "_view_count": null,
       "_view_module": "@jupyter-widgets/controls",
       "_view_module_version": "1.5.0",
       "_view_name": "HTMLView",
       "description": "",
       "description_tooltip": null,
       "layout": "IPY_MODEL_735aad9a3ab64890adc7c1934c307bf9",
       "placeholder": "​",
       "style": "IPY_MODEL_3f8d5c431e7741cf82f98bae3450905b",
       "value": "4/5 [00:00&lt;00:00, 11.27it/s]"
      }
     },
     "f9a844274651448b9c238a106256941a": {
      "model_module": "@jupyter-widgets/base",
      "model_module_version": "1.2.0",
      "model_name": "LayoutModel",
      "state": {
       "_model_module": "@jupyter-widgets/base",
       "_model_module_version": "1.2.0",
       "_model_name": "LayoutModel",
       "_view_count": null,
       "_view_module": "@jupyter-widgets/base",
       "_view_module_version": "1.2.0",
       "_view_name": "LayoutView",
       "align_content": null,
       "align_items": null,
       "align_self": null,
       "border": null,
       "bottom": null,
       "display": null,
       "flex": null,
       "flex_flow": null,
       "grid_area": null,
       "grid_auto_columns": null,
       "grid_auto_flow": null,
       "grid_auto_rows": null,
       "grid_column": null,
       "grid_gap": null,
       "grid_row": null,
       "grid_template_areas": null,
       "grid_template_columns": null,
       "grid_template_rows": null,
       "height": null,
       "justify_content": null,
       "justify_items": null,
       "left": null,
       "margin": null,
       "max_height": null,
       "max_width": null,
       "min_height": null,
       "min_width": null,
       "object_fit": null,
       "object_position": null,
       "order": null,
       "overflow": null,
       "overflow_x": null,
       "overflow_y": null,
       "padding": null,
       "right": null,
       "top": null,
       "visibility": null,
       "width": null
      }
     },
     "f9cb667909dc4eca9ddbee65226bee96": {
      "model_module": "@jupyter-widgets/controls",
      "model_module_version": "1.5.0",
      "model_name": "HBoxModel",
      "state": {
       "_dom_classes": [],
       "_model_module": "@jupyter-widgets/controls",
       "_model_module_version": "1.5.0",
       "_model_name": "HBoxModel",
       "_view_count": null,
       "_view_module": "@jupyter-widgets/controls",
       "_view_module_version": "1.5.0",
       "_view_name": "HBoxView",
       "box_style": "",
       "children": [
        "IPY_MODEL_2db4999b8d114ca8ab8397d0f6dfcfcd",
        "IPY_MODEL_7246289294c9415186a39b76cb7d6c66",
        "IPY_MODEL_7ffe141f3a3b4aefb70e25d80a1e2782"
       ],
       "layout": "IPY_MODEL_1059dcdd154140ebad32bf6f900cf86a"
      }
     },
     "fbd75d60d11d4cb99c3028c18d73634c": {
      "model_module": "@jupyter-widgets/base",
      "model_module_version": "1.2.0",
      "model_name": "LayoutModel",
      "state": {
       "_model_module": "@jupyter-widgets/base",
       "_model_module_version": "1.2.0",
       "_model_name": "LayoutModel",
       "_view_count": null,
       "_view_module": "@jupyter-widgets/base",
       "_view_module_version": "1.2.0",
       "_view_name": "LayoutView",
       "align_content": null,
       "align_items": null,
       "align_self": null,
       "border": null,
       "bottom": null,
       "display": null,
       "flex": null,
       "flex_flow": null,
       "grid_area": null,
       "grid_auto_columns": null,
       "grid_auto_flow": null,
       "grid_auto_rows": null,
       "grid_column": null,
       "grid_gap": null,
       "grid_row": null,
       "grid_template_areas": null,
       "grid_template_columns": null,
       "grid_template_rows": null,
       "height": null,
       "justify_content": null,
       "justify_items": null,
       "left": null,
       "margin": null,
       "max_height": null,
       "max_width": null,
       "min_height": null,
       "min_width": null,
       "object_fit": null,
       "object_position": null,
       "order": null,
       "overflow": null,
       "overflow_x": null,
       "overflow_y": null,
       "padding": null,
       "right": null,
       "top": null,
       "visibility": null,
       "width": null
      }
     },
     "fbfbcb1e1a1941d692d93cb51f7b3999": {
      "model_module": "@jupyter-widgets/controls",
      "model_module_version": "1.5.0",
      "model_name": "ProgressStyleModel",
      "state": {
       "_model_module": "@jupyter-widgets/controls",
       "_model_module_version": "1.5.0",
       "_model_name": "ProgressStyleModel",
       "_view_count": null,
       "_view_module": "@jupyter-widgets/base",
       "_view_module_version": "1.2.0",
       "_view_name": "StyleView",
       "bar_color": null,
       "description_width": ""
      }
     },
     "fd03fb3c1b124e929fbe5e6893dc407c": {
      "model_module": "@jupyter-widgets/controls",
      "model_module_version": "1.5.0",
      "model_name": "HTMLModel",
      "state": {
       "_dom_classes": [],
       "_model_module": "@jupyter-widgets/controls",
       "_model_module_version": "1.5.0",
       "_model_name": "HTMLModel",
       "_view_count": null,
       "_view_module": "@jupyter-widgets/controls",
       "_view_module_version": "1.5.0",
       "_view_name": "HTMLView",
       "description": "",
       "description_tooltip": null,
       "layout": "IPY_MODEL_c3c1025e66a146d7a12cff408d4b4c2b",
       "placeholder": "​",
       "style": "IPY_MODEL_c529f909d46e4cdb877e1e2f54eb058d",
       "value": "Iterations:"
      }
     },
     "fd2fc072aafd41c6a27b774eb980b64c": {
      "model_module": "@jupyter-widgets/controls",
      "model_module_version": "1.5.0",
      "model_name": "DescriptionStyleModel",
      "state": {
       "_model_module": "@jupyter-widgets/controls",
       "_model_module_version": "1.5.0",
       "_model_name": "DescriptionStyleModel",
       "_view_count": null,
       "_view_module": "@jupyter-widgets/base",
       "_view_module_version": "1.2.0",
       "_view_name": "StyleView",
       "description_width": ""
      }
     },
     "feec3ea7b29140ad978a6af4d27d9371": {
      "model_module": "@jupyter-widgets/controls",
      "model_module_version": "1.5.0",
      "model_name": "HTMLModel",
      "state": {
       "_dom_classes": [],
       "_model_module": "@jupyter-widgets/controls",
       "_model_module_version": "1.5.0",
       "_model_name": "HTMLModel",
       "_view_count": null,
       "_view_module": "@jupyter-widgets/controls",
       "_view_module_version": "1.5.0",
       "_view_name": "HTMLView",
       "description": "",
       "description_tooltip": null,
       "layout": "IPY_MODEL_335dff04e50746ef9f8f8760b2cbe091",
       "placeholder": "​",
       "style": "IPY_MODEL_cd74e9b848a54635921f204a58e3efe2",
       "value": "4/5 [00:00&lt;00:00, 10.93it/s]"
      }
     },
     "ff8dab8176f747e88f6520eabf30e078": {
      "model_module": "@jupyter-widgets/controls",
      "model_module_version": "1.5.0",
      "model_name": "DescriptionStyleModel",
      "state": {
       "_model_module": "@jupyter-widgets/controls",
       "_model_module_version": "1.5.0",
       "_model_name": "DescriptionStyleModel",
       "_view_count": null,
       "_view_module": "@jupyter-widgets/base",
       "_view_module_version": "1.2.0",
       "_view_name": "StyleView",
       "description_width": ""
      }
     }
    },
    "version_major": 2,
    "version_minor": 0
   }
  }
 },
 "nbformat": 4,
 "nbformat_minor": 5
}
