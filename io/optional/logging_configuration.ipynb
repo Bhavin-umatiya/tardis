{
 "cells": [
  {
   "cell_type": "markdown",
   "id": "67d6982f",
   "metadata": {},
   "source": [
    "# Configuring the Logging Output for TARDIS"
   ]
  },
  {
   "cell_type": "markdown",
   "id": "ac4ba612",
   "metadata": {},
   "source": [
    "**TARDIS** has a Notebook logger that logs information of Simulation runs. The logs allows to access vital information regarding the execution sequence, data for plasma stratification & progress of the simulation.<br>\n",
    "**TARDIS** allows configuring the logger via *Functional Arguments* as well as *YAML Parameters*.\n",
    "The following code snippets are some of the possible configuration that is available for the notebook logging done with TARDIS simulation."
   ]
  },
  {
   "cell_type": "markdown",
   "id": "ce886182",
   "metadata": {},
   "source": [
    "## Default Configuration"
   ]
  },
  {
   "cell_type": "markdown",
   "id": "34e59abc",
   "metadata": {},
   "source": [
    "The default configuration of the Notebook Simulation logger is such that it doesn't output any logs."
   ]
  },
  {
   "cell_type": "markdown",
   "id": "41da9db6",
   "metadata": {},
   "source": [
    "The output simulation logging, while executing the **TARDIS** simulation (default behaviour), can be seen below:"
   ]
  },
  {
   "cell_type": "code",
   "execution_count": 1,
   "id": "018bb127",
   "metadata": {
    "execution": {
     "iopub.execute_input": "2024-02-06T22:02:44.637021Z",
     "iopub.status.busy": "2024-02-06T22:02:44.636786Z",
     "iopub.status.idle": "2024-02-06T22:02:46.861125Z",
     "shell.execute_reply": "2024-02-06T22:02:46.860559Z"
    }
   },
   "outputs": [
    {
     "name": "stderr",
     "output_type": "stream",
     "text": [
      "/usr/share/miniconda3/envs/tardis/lib/python3.11/site-packages/setuptools_scm/git.py:162: UserWarning: \"/home/runner/work/tardis/tardis\" is shallow and may cause errors\n",
      "  warnings.warn(f'\"{wd.path}\" is shallow and may cause errors')\n"
     ]
    },
    {
     "data": {
      "application/vnd.jupyter.widget-view+json": {
       "model_id": "0d3e891bfa8f4a1e81cb5c69b0f661b5",
       "version_major": 2,
       "version_minor": 0
      },
      "text/plain": [
       "Iterations:          0/? [00:00<?, ?it/s]"
      ]
     },
     "metadata": {},
     "output_type": "display_data"
    },
    {
     "data": {
      "application/vnd.jupyter.widget-view+json": {
       "model_id": "4304177cb08e4ac391bf374871186223",
       "version_major": 2,
       "version_minor": 0
      },
      "text/plain": [
       "Packets:             0/? [00:00<?, ?it/s]"
      ]
     },
     "metadata": {},
     "output_type": "display_data"
    }
   ],
   "source": [
    "from tardis import run_tardis\n",
    "from tardis.io.atom_data.util import download_atom_data"
   ]
  },
  {
   "cell_type": "code",
   "execution_count": 2,
   "id": "ad59aa05",
   "metadata": {
    "execution": {
     "iopub.execute_input": "2024-02-06T22:02:46.863862Z",
     "iopub.status.busy": "2024-02-06T22:02:46.863657Z",
     "iopub.status.idle": "2024-02-06T22:02:46.867907Z",
     "shell.execute_reply": "2024-02-06T22:02:46.867425Z"
    },
    "scrolled": false
   },
   "outputs": [
    {
     "name": "stderr",
     "output_type": "stream",
     "text": [
      "Atomic Data kurucz_cd23_chianti_H_He already exists in /home/runner/Downloads/tardis-data/kurucz_cd23_chianti_H_He.h5. Will not download - override with force_download=True.\n"
     ]
    }
   ],
   "source": [
    "# We download the atomic data needed to run the simulation\n",
    "download_atom_data('kurucz_cd23_chianti_H_He')"
   ]
  },
  {
   "cell_type": "code",
   "execution_count": 3,
   "id": "64cf4bb2",
   "metadata": {
    "execution": {
     "iopub.execute_input": "2024-02-06T22:02:46.870287Z",
     "iopub.status.busy": "2024-02-06T22:02:46.869904Z",
     "iopub.status.idle": "2024-02-06T22:03:30.219862Z",
     "shell.execute_reply": "2024-02-06T22:03:30.219321Z"
    }
   },
   "outputs": [
    {
     "name": "stdout",
     "output_type": "stream",
     "text": [
      "[\u001b[1mpy.warnings         \u001b[0m][\u001b[1;33mWARNING\u001b[0m]  \n",
      "\t/home/runner/work/tardis/tardis/tardis/plasma/properties/radiative_properties.py:93: RuntimeWarning: invalid value encountered in divide\n",
      "  (g_lower * n_upper) / (g_upper * n_lower)\n",
      " (\u001b[1mwarnings.py\u001b[0m:109)\n"
     ]
    },
    {
     "name": "stdout",
     "output_type": "stream",
     "text": [
      "[\u001b[1mpy.warnings         \u001b[0m][\u001b[1;33mWARNING\u001b[0m]  \n",
      "\t/home/runner/work/tardis/tardis/tardis/plasma/properties/radiative_properties.py:93: RuntimeWarning: invalid value encountered in divide\n",
      "  (g_lower * n_upper) / (g_upper * n_lower)\n",
      " (\u001b[1mwarnings.py\u001b[0m:109)\n"
     ]
    },
    {
     "data": {
      "application/vnd.jupyter.widget-view+json": {
       "model_id": "11e6b4cbc8ab49ccacaa6465d51d1853",
       "version_major": 2,
       "version_minor": 0
      },
      "text/plain": [
       "TqdmHBox(children=(HTML(value='Iterations:', layout=Layout(width='6%')), FloatProgress(value=0.0, layout=Layou…"
      ]
     },
     "metadata": {},
     "output_type": "display_data"
    },
    {
     "data": {
      "application/vnd.jupyter.widget-view+json": {
       "model_id": "9e184839151347cf837a55adef4fb65c",
       "version_major": 2,
       "version_minor": 0
      },
      "text/plain": [
       "TqdmHBox(children=(HTML(value='Packets:   ', layout=Layout(width='6%')), FloatProgress(value=0.0, layout=Layou…"
      ]
     },
     "metadata": {},
     "output_type": "display_data"
    },
    {
     "name": "stdout",
     "output_type": "stream",
     "text": [
      "[\u001b[1mpy.warnings         \u001b[0m][\u001b[1;33mWARNING\u001b[0m]  \n",
      "\t/home/runner/work/tardis/tardis/tardis/plasma/properties/radiative_properties.py:93: RuntimeWarning: invalid value encountered in divide\n",
      "  (g_lower * n_upper) / (g_upper * n_lower)\n",
      " (\u001b[1mwarnings.py\u001b[0m:109)\n"
     ]
    },
    {
     "name": "stdout",
     "output_type": "stream",
     "text": [
      "[\u001b[1mpy.warnings         \u001b[0m][\u001b[1;33mWARNING\u001b[0m]  \n",
      "\t/home/runner/work/tardis/tardis/tardis/plasma/properties/radiative_properties.py:93: RuntimeWarning: invalid value encountered in divide\n",
      "  (g_lower * n_upper) / (g_upper * n_lower)\n",
      " (\u001b[1mwarnings.py\u001b[0m:109)\n"
     ]
    },
    {
     "name": "stdout",
     "output_type": "stream",
     "text": [
      "[\u001b[1mpy.warnings         \u001b[0m][\u001b[1;33mWARNING\u001b[0m]  \n",
      "\t/home/runner/work/tardis/tardis/tardis/plasma/properties/radiative_properties.py:93: RuntimeWarning: invalid value encountered in divide\n",
      "  (g_lower * n_upper) / (g_upper * n_lower)\n",
      " (\u001b[1mwarnings.py\u001b[0m:109)\n"
     ]
    },
    {
     "name": "stdout",
     "output_type": "stream",
     "text": [
      "[\u001b[1mpy.warnings         \u001b[0m][\u001b[1;33mWARNING\u001b[0m]  \n",
      "\t/home/runner/work/tardis/tardis/tardis/plasma/properties/radiative_properties.py:93: RuntimeWarning: invalid value encountered in divide\n",
      "  (g_lower * n_upper) / (g_upper * n_lower)\n",
      " (\u001b[1mwarnings.py\u001b[0m:109)\n"
     ]
    }
   ],
   "source": [
    "sim = run_tardis(\"tardis_config_logger.yml\", show_cplots=False)"
   ]
  },
  {
   "cell_type": "markdown",
   "id": "9bf77405",
   "metadata": {},
   "source": [
    "It can be examined that the logs are not printed.<br> The logging level, by default, is set to `CRITICAL`. Logs will only be captured if any `CRITICAL` level logs are encountered while running the simulation."
   ]
  },
  {
   "cell_type": "markdown",
   "id": "420dd7c2",
   "metadata": {},
   "source": [
    "## Logging Configuration (Functional Arguments)"
   ]
  },
  {
   "cell_type": "markdown",
   "id": "ac8d5088",
   "metadata": {},
   "source": [
    "The `run_tardis()` function from the `tardis module` has two functional arguments:`log_level` & `specific_log_level`."
   ]
  },
  {
   "cell_type": "markdown",
   "id": "d58f2d9c",
   "metadata": {},
   "source": [
    "<div class=\"alert alert-info\">\n",
    "\n",
    "Note\n",
    "\n",
    "Both <strong>log_level</strong> & <strong>specific</strong> are optional arguments for the <strong>run_tardis()</strong> function, however, if <strong>specific</strong> argument is used then, <strong>log_level</strong> must be set to a particular level.\n",
    "</div>"
   ]
  },
  {
   "cell_type": "markdown",
   "id": "1176f370",
   "metadata": {},
   "source": [
    "### The `log_level` Argument"
   ]
  },
  {
   "cell_type": "markdown",
   "id": "c3547b04",
   "metadata": {},
   "source": [
    "The `log_level` argument can be passed in `run_tardis()` to set the logging level for the simulation. The input for this argument **must be** one of the following: **Notset, Debug, Info, Warning, Error** or **Critical**."
   ]
  },
  {
   "cell_type": "code",
   "execution_count": 4,
   "id": "dc2dcd71",
   "metadata": {
    "execution": {
     "iopub.execute_input": "2024-02-06T22:03:30.222194Z",
     "iopub.status.busy": "2024-02-06T22:03:30.221999Z",
     "iopub.status.idle": "2024-02-06T22:03:32.367450Z",
     "shell.execute_reply": "2024-02-06T22:03:32.366920Z"
    },
    "scrolled": false
   },
   "outputs": [
    {
     "name": "stdout",
     "output_type": "stream",
     "text": [
      "log_level is defined both in Functional Argument & YAML Configuration {debug section}\n",
      "log_level = INFO will be used for Log Level Determination\n",
      "\n",
      "[\u001b[1mtardis.simulation.base\u001b[0m][\u001b[1;37mINFO\u001b[0m   ]  \n",
      "\t\n",
      "\tReading Atomic Data from kurucz_cd23_chianti_H_He.h5 (\u001b[1mbase.py\u001b[0m:674)\n"
     ]
    },
    {
     "name": "stdout",
     "output_type": "stream",
     "text": [
      "[\u001b[1mtardis.io.atom_data.util\u001b[0m][\u001b[1;37mINFO\u001b[0m   ]  \n",
      "\t\n",
      "\tAtom Data kurucz_cd23_chianti_H_He.h5 not found in local path.\n",
      "\tExists in TARDIS Data repo /home/runner/Downloads/tardis-data/kurucz_cd23_chianti_H_He.h5 (\u001b[1mutil.py\u001b[0m:33)\n"
     ]
    },
    {
     "name": "stdout",
     "output_type": "stream",
     "text": [
      "[\u001b[1mtardis.io.atom_data.base\u001b[0m][\u001b[1;37mINFO\u001b[0m   ]  \n",
      "\tReading Atom Data with: UUID = 6f7b09e887a311e7a06b246e96350010 MD5  = 864f1753714343c41f99cb065710cace  (\u001b[1mbase.py\u001b[0m:258)\n"
     ]
    },
    {
     "name": "stdout",
     "output_type": "stream",
     "text": [
      "[\u001b[1mtardis.io.atom_data.base\u001b[0m][\u001b[1;37mINFO\u001b[0m   ]  \n",
      "\tNon provided Atomic Data: synpp_refs, photoionization_data, yg_data, two_photon_data, linelist (\u001b[1mbase.py\u001b[0m:262)\n"
     ]
    },
    {
     "name": "stdout",
     "output_type": "stream",
     "text": [
      "[\u001b[1mtardis.model.parse_input\u001b[0m][\u001b[1;33mWARNING\u001b[0m]  \n",
      "\tNumber of density points larger than number of shells. Assuming inner point irrelevant (\u001b[1mparse_input.py\u001b[0m:143)\n"
     ]
    },
    {
     "name": "stdout",
     "output_type": "stream",
     "text": [
      "[\u001b[1mtardis.model.matter.decay\u001b[0m][\u001b[1;37mINFO\u001b[0m   ]  \n",
      "\tDecaying abundances for 1123200.0 seconds (\u001b[1mdecay.py\u001b[0m:101)\n"
     ]
    },
    {
     "name": "stdout",
     "output_type": "stream",
     "text": [
      "[\u001b[1mtardis.model.matter.decay\u001b[0m][\u001b[1;37mINFO\u001b[0m   ]  \n",
      "\tDecaying abundances for 1123200.0 seconds (\u001b[1mdecay.py\u001b[0m:101)\n"
     ]
    },
    {
     "name": "stdout",
     "output_type": "stream",
     "text": [
      "[\u001b[1mpy.warnings         \u001b[0m][\u001b[1;33mWARNING\u001b[0m]  \n",
      "\t/home/runner/work/tardis/tardis/tardis/plasma/properties/radiative_properties.py:93: RuntimeWarning: invalid value encountered in divide\n",
      "  (g_lower * n_upper) / (g_upper * n_lower)\n",
      " (\u001b[1mwarnings.py\u001b[0m:109)\n"
     ]
    },
    {
     "name": "stdout",
     "output_type": "stream",
     "text": [
      "[\u001b[1mpy.warnings         \u001b[0m][\u001b[1;33mWARNING\u001b[0m]  \n",
      "\t/home/runner/work/tardis/tardis/tardis/plasma/properties/radiative_properties.py:93: RuntimeWarning: invalid value encountered in divide\n",
      "  (g_lower * n_upper) / (g_upper * n_lower)\n",
      " (\u001b[1mwarnings.py\u001b[0m:109)\n"
     ]
    },
    {
     "name": "stdout",
     "output_type": "stream",
     "text": [
      "[\u001b[1mtardis.simulation.base\u001b[0m][\u001b[1;37mINFO\u001b[0m   ]  \n",
      "\t\n",
      "\tStarting iteration 1 of 5 (\u001b[1mbase.py\u001b[0m:391)\n"
     ]
    },
    {
     "data": {
      "application/vnd.jupyter.widget-view+json": {
       "model_id": "c13181ff50e54c37b16799002a66efaf",
       "version_major": 2,
       "version_minor": 0
      },
      "text/plain": [
       "TqdmHBox(children=(HTML(value='Iterations:', layout=Layout(width='6%')), FloatProgress(value=0.0, layout=Layou…"
      ]
     },
     "metadata": {},
     "output_type": "display_data"
    },
    {
     "data": {
      "application/vnd.jupyter.widget-view+json": {
       "model_id": "19b2cf12947e4341817b105b2ca49ae5",
       "version_major": 2,
       "version_minor": 0
      },
      "text/plain": [
       "TqdmHBox(children=(HTML(value='Packets:   ', layout=Layout(width='6%')), FloatProgress(value=0.0, layout=Layou…"
      ]
     },
     "metadata": {},
     "output_type": "display_data"
    },
    {
     "name": "stdout",
     "output_type": "stream",
     "text": [
      "[\u001b[1mtardis.simulation.base\u001b[0m][\u001b[1;37mINFO\u001b[0m   ]  \n",
      "\t\n",
      "\tLuminosity emitted   = 7.947e+42 erg / s\n",
      "\tLuminosity absorbed  = 2.654e+42 erg / s\n",
      "\tLuminosity requested = 1.059e+43 erg / s\n",
      " (\u001b[1mbase.py\u001b[0m:573)\n"
     ]
    },
    {
     "name": "stdout",
     "output_type": "stream",
     "text": [
      "[\u001b[1mtardis.simulation.base\u001b[0m][\u001b[1;37mINFO\u001b[0m   ]  \n",
      "\t\n",
      "\tPlasma stratification: (\u001b[1mbase.py\u001b[0m:541)\n"
     ]
    },
    {
     "data": {
      "text/html": [
       "<style type=\"text/css\">\n",
       "</style>\n",
       "<table id=\"T_f6f62\">\n",
       "  <thead>\n",
       "    <tr>\n",
       "      <th class=\"index_name level0\" >Shell No.</th>\n",
       "      <th id=\"T_f6f62_level0_col0\" class=\"col_heading level0 col0\" >t_rad</th>\n",
       "      <th id=\"T_f6f62_level0_col1\" class=\"col_heading level0 col1\" >next_t_rad</th>\n",
       "      <th id=\"T_f6f62_level0_col2\" class=\"col_heading level0 col2\" >w</th>\n",
       "      <th id=\"T_f6f62_level0_col3\" class=\"col_heading level0 col3\" >next_w</th>\n",
       "    </tr>\n",
       "  </thead>\n",
       "  <tbody>\n",
       "    <tr>\n",
       "      <th id=\"T_f6f62_level0_row0\" class=\"row_heading level0 row0\" >0</th>\n",
       "      <td id=\"T_f6f62_row0_col0\" class=\"data row0 col0\" >9.93e+03 K</td>\n",
       "      <td id=\"T_f6f62_row0_col1\" class=\"data row0 col1\" >1.03e+04 K</td>\n",
       "      <td id=\"T_f6f62_row0_col2\" class=\"data row0 col2\" >0.4</td>\n",
       "      <td id=\"T_f6f62_row0_col3\" class=\"data row0 col3\" >0.481</td>\n",
       "    </tr>\n",
       "    <tr>\n",
       "      <th id=\"T_f6f62_level0_row1\" class=\"row_heading level0 row1\" >5</th>\n",
       "      <td id=\"T_f6f62_row1_col0\" class=\"data row1 col0\" >9.85e+03 K</td>\n",
       "      <td id=\"T_f6f62_row1_col1\" class=\"data row1 col1\" >1.03e+04 K</td>\n",
       "      <td id=\"T_f6f62_row1_col2\" class=\"data row1 col2\" >0.211</td>\n",
       "      <td id=\"T_f6f62_row1_col3\" class=\"data row1 col3\" >0.193</td>\n",
       "    </tr>\n",
       "    <tr>\n",
       "      <th id=\"T_f6f62_level0_row2\" class=\"row_heading level0 row2\" >10</th>\n",
       "      <td id=\"T_f6f62_row2_col0\" class=\"data row2 col0\" >9.78e+03 K</td>\n",
       "      <td id=\"T_f6f62_row2_col1\" class=\"data row2 col1\" >1.02e+04 K</td>\n",
       "      <td id=\"T_f6f62_row2_col2\" class=\"data row2 col2\" >0.143</td>\n",
       "      <td id=\"T_f6f62_row2_col3\" class=\"data row2 col3\" >0.112</td>\n",
       "    </tr>\n",
       "    <tr>\n",
       "      <th id=\"T_f6f62_level0_row3\" class=\"row_heading level0 row3\" >15</th>\n",
       "      <td id=\"T_f6f62_row3_col0\" class=\"data row3 col0\" >9.71e+03 K</td>\n",
       "      <td id=\"T_f6f62_row3_col1\" class=\"data row3 col1\" >9.98e+03 K</td>\n",
       "      <td id=\"T_f6f62_row3_col2\" class=\"data row3 col2\" >0.105</td>\n",
       "      <td id=\"T_f6f62_row3_col3\" class=\"data row3 col3\" >0.0826</td>\n",
       "    </tr>\n",
       "  </tbody>\n",
       "</table>\n"
      ],
      "text/plain": [
       "<pandas.io.formats.style.Styler at 0x7f5fa57d6f90>"
      ]
     },
     "metadata": {},
     "output_type": "display_data"
    },
    {
     "name": "stdout",
     "output_type": "stream",
     "text": [
      "[\u001b[1mtardis.simulation.base\u001b[0m][\u001b[1;37mINFO\u001b[0m   ]  \n",
      "\t\n",
      "\tCurrent t_inner = 9933.952 K\n",
      "\tExpected t_inner for next iteration = 11468.808 K\n",
      " (\u001b[1mbase.py\u001b[0m:568)\n"
     ]
    },
    {
     "name": "stdout",
     "output_type": "stream",
     "text": [
      "[\u001b[1mpy.warnings         \u001b[0m][\u001b[1;33mWARNING\u001b[0m]  \n",
      "\t/home/runner/work/tardis/tardis/tardis/plasma/properties/radiative_properties.py:93: RuntimeWarning: invalid value encountered in divide\n",
      "  (g_lower * n_upper) / (g_upper * n_lower)\n",
      " (\u001b[1mwarnings.py\u001b[0m:109)\n"
     ]
    },
    {
     "name": "stdout",
     "output_type": "stream",
     "text": [
      "[\u001b[1mtardis.simulation.base\u001b[0m][\u001b[1;37mINFO\u001b[0m   ]  \n",
      "\t\n",
      "\tStarting iteration 2 of 5 (\u001b[1mbase.py\u001b[0m:391)\n"
     ]
    },
    {
     "name": "stdout",
     "output_type": "stream",
     "text": [
      "[\u001b[1mtardis.simulation.base\u001b[0m][\u001b[1;37mINFO\u001b[0m   ]  \n",
      "\t\n",
      "\tLuminosity emitted   = 1.413e+43 erg / s\n",
      "\tLuminosity absorbed  = 4.704e+42 erg / s\n",
      "\tLuminosity requested = 1.059e+43 erg / s\n",
      " (\u001b[1mbase.py\u001b[0m:573)\n"
     ]
    },
    {
     "name": "stdout",
     "output_type": "stream",
     "text": [
      "[\u001b[1mtardis.simulation.base\u001b[0m][\u001b[1;37mINFO\u001b[0m   ]  \n",
      "\t\n",
      "\tPlasma stratification: (\u001b[1mbase.py\u001b[0m:541)\n"
     ]
    },
    {
     "data": {
      "text/html": [
       "<style type=\"text/css\">\n",
       "</style>\n",
       "<table id=\"T_6dd2d\">\n",
       "  <thead>\n",
       "    <tr>\n",
       "      <th class=\"index_name level0\" >Shell No.</th>\n",
       "      <th id=\"T_6dd2d_level0_col0\" class=\"col_heading level0 col0\" >t_rad</th>\n",
       "      <th id=\"T_6dd2d_level0_col1\" class=\"col_heading level0 col1\" >next_t_rad</th>\n",
       "      <th id=\"T_6dd2d_level0_col2\" class=\"col_heading level0 col2\" >w</th>\n",
       "      <th id=\"T_6dd2d_level0_col3\" class=\"col_heading level0 col3\" >next_w</th>\n",
       "    </tr>\n",
       "  </thead>\n",
       "  <tbody>\n",
       "    <tr>\n",
       "      <th id=\"T_6dd2d_level0_row0\" class=\"row_heading level0 row0\" >0</th>\n",
       "      <td id=\"T_6dd2d_row0_col0\" class=\"data row0 col0\" >1.03e+04 K</td>\n",
       "      <td id=\"T_6dd2d_row0_col1\" class=\"data row0 col1\" >1.15e+04 K</td>\n",
       "      <td id=\"T_6dd2d_row0_col2\" class=\"data row0 col2\" >0.481</td>\n",
       "      <td id=\"T_6dd2d_row0_col3\" class=\"data row0 col3\" >0.555</td>\n",
       "    </tr>\n",
       "    <tr>\n",
       "      <th id=\"T_6dd2d_level0_row1\" class=\"row_heading level0 row1\" >5</th>\n",
       "      <td id=\"T_6dd2d_row1_col0\" class=\"data row1 col0\" >1.03e+04 K</td>\n",
       "      <td id=\"T_6dd2d_row1_col1\" class=\"data row1 col1\" >1.17e+04 K</td>\n",
       "      <td id=\"T_6dd2d_row1_col2\" class=\"data row1 col2\" >0.193</td>\n",
       "      <td id=\"T_6dd2d_row1_col3\" class=\"data row1 col3\" >0.203</td>\n",
       "    </tr>\n",
       "    <tr>\n",
       "      <th id=\"T_6dd2d_level0_row2\" class=\"row_heading level0 row2\" >10</th>\n",
       "      <td id=\"T_6dd2d_row2_col0\" class=\"data row2 col0\" >1.02e+04 K</td>\n",
       "      <td id=\"T_6dd2d_row2_col1\" class=\"data row2 col1\" >1.13e+04 K</td>\n",
       "      <td id=\"T_6dd2d_row2_col2\" class=\"data row2 col2\" >0.112</td>\n",
       "      <td id=\"T_6dd2d_row2_col3\" class=\"data row2 col3\" >0.135</td>\n",
       "    </tr>\n",
       "    <tr>\n",
       "      <th id=\"T_6dd2d_level0_row3\" class=\"row_heading level0 row3\" >15</th>\n",
       "      <td id=\"T_6dd2d_row3_col0\" class=\"data row3 col0\" >9.98e+03 K</td>\n",
       "      <td id=\"T_6dd2d_row3_col1\" class=\"data row3 col1\" >1.1e+04 K</td>\n",
       "      <td id=\"T_6dd2d_row3_col2\" class=\"data row3 col2\" >0.0826</td>\n",
       "      <td id=\"T_6dd2d_row3_col3\" class=\"data row3 col3\" >0.0998</td>\n",
       "    </tr>\n",
       "  </tbody>\n",
       "</table>\n"
      ],
      "text/plain": [
       "<pandas.io.formats.style.Styler at 0x7f5f9d0d57d0>"
      ]
     },
     "metadata": {},
     "output_type": "display_data"
    },
    {
     "name": "stdout",
     "output_type": "stream",
     "text": [
      "[\u001b[1mtardis.simulation.base\u001b[0m][\u001b[1;37mINFO\u001b[0m   ]  \n",
      "\t\n",
      "\tCurrent t_inner = 11468.808 K\n",
      "\tExpected t_inner for next iteration = 9929.475 K\n",
      " (\u001b[1mbase.py\u001b[0m:568)\n"
     ]
    },
    {
     "name": "stdout",
     "output_type": "stream",
     "text": [
      "[\u001b[1mpy.warnings         \u001b[0m][\u001b[1;33mWARNING\u001b[0m]  \n",
      "\t/home/runner/work/tardis/tardis/tardis/plasma/properties/radiative_properties.py:93: RuntimeWarning: invalid value encountered in divide\n",
      "  (g_lower * n_upper) / (g_upper * n_lower)\n",
      " (\u001b[1mwarnings.py\u001b[0m:109)\n"
     ]
    },
    {
     "name": "stdout",
     "output_type": "stream",
     "text": [
      "[\u001b[1mtardis.simulation.base\u001b[0m][\u001b[1;37mINFO\u001b[0m   ]  \n",
      "\t\n",
      "\tStarting iteration 3 of 5 (\u001b[1mbase.py\u001b[0m:391)\n"
     ]
    },
    {
     "name": "stdout",
     "output_type": "stream",
     "text": [
      "[\u001b[1mtardis.simulation.base\u001b[0m][\u001b[1;37mINFO\u001b[0m   ]  \n",
      "\t\n",
      "\tLuminosity emitted   = 8.259e+42 erg / s\n",
      "\tLuminosity absorbed  = 2.337e+42 erg / s\n",
      "\tLuminosity requested = 1.059e+43 erg / s\n",
      " (\u001b[1mbase.py\u001b[0m:573)\n"
     ]
    },
    {
     "name": "stdout",
     "output_type": "stream",
     "text": [
      "[\u001b[1mtardis.simulation.base\u001b[0m][\u001b[1;37mINFO\u001b[0m   ]  \n",
      "\t\n",
      "\tPlasma stratification: (\u001b[1mbase.py\u001b[0m:541)\n"
     ]
    },
    {
     "data": {
      "text/html": [
       "<style type=\"text/css\">\n",
       "</style>\n",
       "<table id=\"T_277fa\">\n",
       "  <thead>\n",
       "    <tr>\n",
       "      <th class=\"index_name level0\" >Shell No.</th>\n",
       "      <th id=\"T_277fa_level0_col0\" class=\"col_heading level0 col0\" >t_rad</th>\n",
       "      <th id=\"T_277fa_level0_col1\" class=\"col_heading level0 col1\" >next_t_rad</th>\n",
       "      <th id=\"T_277fa_level0_col2\" class=\"col_heading level0 col2\" >w</th>\n",
       "      <th id=\"T_277fa_level0_col3\" class=\"col_heading level0 col3\" >next_w</th>\n",
       "    </tr>\n",
       "  </thead>\n",
       "  <tbody>\n",
       "    <tr>\n",
       "      <th id=\"T_277fa_level0_row0\" class=\"row_heading level0 row0\" >0</th>\n",
       "      <td id=\"T_277fa_row0_col0\" class=\"data row0 col0\" >1.15e+04 K</td>\n",
       "      <td id=\"T_277fa_row0_col1\" class=\"data row0 col1\" >1.03e+04 K</td>\n",
       "      <td id=\"T_277fa_row0_col2\" class=\"data row0 col2\" >0.555</td>\n",
       "      <td id=\"T_277fa_row0_col3\" class=\"data row0 col3\" >0.468</td>\n",
       "    </tr>\n",
       "    <tr>\n",
       "      <th id=\"T_277fa_level0_row1\" class=\"row_heading level0 row1\" >5</th>\n",
       "      <td id=\"T_277fa_row1_col0\" class=\"data row1 col0\" >1.17e+04 K</td>\n",
       "      <td id=\"T_277fa_row1_col1\" class=\"data row1 col1\" >1.05e+04 K</td>\n",
       "      <td id=\"T_277fa_row1_col2\" class=\"data row1 col2\" >0.203</td>\n",
       "      <td id=\"T_277fa_row1_col3\" class=\"data row1 col3\" >0.181</td>\n",
       "    </tr>\n",
       "    <tr>\n",
       "      <th id=\"T_277fa_level0_row2\" class=\"row_heading level0 row2\" >10</th>\n",
       "      <td id=\"T_277fa_row2_col0\" class=\"data row2 col0\" >1.13e+04 K</td>\n",
       "      <td id=\"T_277fa_row2_col1\" class=\"data row2 col1\" >1.05e+04 K</td>\n",
       "      <td id=\"T_277fa_row2_col2\" class=\"data row2 col2\" >0.135</td>\n",
       "      <td id=\"T_277fa_row2_col3\" class=\"data row2 col3\" >0.108</td>\n",
       "    </tr>\n",
       "    <tr>\n",
       "      <th id=\"T_277fa_level0_row3\" class=\"row_heading level0 row3\" >15</th>\n",
       "      <td id=\"T_277fa_row3_col0\" class=\"data row3 col0\" >1.1e+04 K</td>\n",
       "      <td id=\"T_277fa_row3_col1\" class=\"data row3 col1\" >1.03e+04 K</td>\n",
       "      <td id=\"T_277fa_row3_col2\" class=\"data row3 col2\" >0.0998</td>\n",
       "      <td id=\"T_277fa_row3_col3\" class=\"data row3 col3\" >0.0779</td>\n",
       "    </tr>\n",
       "  </tbody>\n",
       "</table>\n"
      ],
      "text/plain": [
       "<pandas.io.formats.style.Styler at 0x7f5fa09d9210>"
      ]
     },
     "metadata": {},
     "output_type": "display_data"
    },
    {
     "name": "stdout",
     "output_type": "stream",
     "text": [
      "[\u001b[1mtardis.simulation.base\u001b[0m][\u001b[1;37mINFO\u001b[0m   ]  \n",
      "\t\n",
      "\tCurrent t_inner = 9929.475 K\n",
      "\tExpected t_inner for next iteration = 11245.497 K\n",
      " (\u001b[1mbase.py\u001b[0m:568)\n"
     ]
    },
    {
     "name": "stdout",
     "output_type": "stream",
     "text": [
      "[\u001b[1mpy.warnings         \u001b[0m][\u001b[1;33mWARNING\u001b[0m]  \n",
      "\t/home/runner/work/tardis/tardis/tardis/plasma/properties/radiative_properties.py:93: RuntimeWarning: invalid value encountered in divide\n",
      "  (g_lower * n_upper) / (g_upper * n_lower)\n",
      " (\u001b[1mwarnings.py\u001b[0m:109)\n"
     ]
    },
    {
     "name": "stdout",
     "output_type": "stream",
     "text": [
      "[\u001b[1mtardis.simulation.base\u001b[0m][\u001b[1;37mINFO\u001b[0m   ]  \n",
      "\t\n",
      "\tStarting iteration 4 of 5 (\u001b[1mbase.py\u001b[0m:391)\n"
     ]
    },
    {
     "name": "stdout",
     "output_type": "stream",
     "text": [
      "[\u001b[1mtardis.simulation.base\u001b[0m][\u001b[1;37mINFO\u001b[0m   ]  \n",
      "\t\n",
      "\tLuminosity emitted   = 1.299e+43 erg / s\n",
      "\tLuminosity absorbed  = 4.407e+42 erg / s\n",
      "\tLuminosity requested = 1.059e+43 erg / s\n",
      " (\u001b[1mbase.py\u001b[0m:573)\n"
     ]
    },
    {
     "name": "stdout",
     "output_type": "stream",
     "text": [
      "[\u001b[1mtardis.simulation.base\u001b[0m][\u001b[1;37mINFO\u001b[0m   ]  \n",
      "\t\n",
      "\tPlasma stratification: (\u001b[1mbase.py\u001b[0m:541)\n"
     ]
    },
    {
     "data": {
      "text/html": [
       "<style type=\"text/css\">\n",
       "</style>\n",
       "<table id=\"T_13241\">\n",
       "  <thead>\n",
       "    <tr>\n",
       "      <th class=\"index_name level0\" >Shell No.</th>\n",
       "      <th id=\"T_13241_level0_col0\" class=\"col_heading level0 col0\" >t_rad</th>\n",
       "      <th id=\"T_13241_level0_col1\" class=\"col_heading level0 col1\" >next_t_rad</th>\n",
       "      <th id=\"T_13241_level0_col2\" class=\"col_heading level0 col2\" >w</th>\n",
       "      <th id=\"T_13241_level0_col3\" class=\"col_heading level0 col3\" >next_w</th>\n",
       "    </tr>\n",
       "  </thead>\n",
       "  <tbody>\n",
       "    <tr>\n",
       "      <th id=\"T_13241_level0_row0\" class=\"row_heading level0 row0\" >0</th>\n",
       "      <td id=\"T_13241_row0_col0\" class=\"data row0 col0\" >1.03e+04 K</td>\n",
       "      <td id=\"T_13241_row0_col1\" class=\"data row0 col1\" >1.14e+04 K</td>\n",
       "      <td id=\"T_13241_row0_col2\" class=\"data row0 col2\" >0.468</td>\n",
       "      <td id=\"T_13241_row0_col3\" class=\"data row0 col3\" >0.527</td>\n",
       "    </tr>\n",
       "    <tr>\n",
       "      <th id=\"T_13241_level0_row1\" class=\"row_heading level0 row1\" >5</th>\n",
       "      <td id=\"T_13241_row1_col0\" class=\"data row1 col0\" >1.05e+04 K</td>\n",
       "      <td id=\"T_13241_row1_col1\" class=\"data row1 col1\" >1.13e+04 K</td>\n",
       "      <td id=\"T_13241_row1_col2\" class=\"data row1 col2\" >0.181</td>\n",
       "      <td id=\"T_13241_row1_col3\" class=\"data row1 col3\" >0.225</td>\n",
       "    </tr>\n",
       "    <tr>\n",
       "      <th id=\"T_13241_level0_row2\" class=\"row_heading level0 row2\" >10</th>\n",
       "      <td id=\"T_13241_row2_col0\" class=\"data row2 col0\" >1.05e+04 K</td>\n",
       "      <td id=\"T_13241_row2_col1\" class=\"data row2 col1\" >1.12e+04 K</td>\n",
       "      <td id=\"T_13241_row2_col2\" class=\"data row2 col2\" >0.108</td>\n",
       "      <td id=\"T_13241_row2_col3\" class=\"data row2 col3\" >0.126</td>\n",
       "    </tr>\n",
       "    <tr>\n",
       "      <th id=\"T_13241_level0_row3\" class=\"row_heading level0 row3\" >15</th>\n",
       "      <td id=\"T_13241_row3_col0\" class=\"data row3 col0\" >1.03e+04 K</td>\n",
       "      <td id=\"T_13241_row3_col1\" class=\"data row3 col1\" >1.1e+04 K</td>\n",
       "      <td id=\"T_13241_row3_col2\" class=\"data row3 col2\" >0.0779</td>\n",
       "      <td id=\"T_13241_row3_col3\" class=\"data row3 col3\" >0.0926</td>\n",
       "    </tr>\n",
       "  </tbody>\n",
       "</table>\n"
      ],
      "text/plain": [
       "<pandas.io.formats.style.Styler at 0x7f5f9ce5afd0>"
      ]
     },
     "metadata": {},
     "output_type": "display_data"
    },
    {
     "name": "stdout",
     "output_type": "stream",
     "text": [
      "[\u001b[1mtardis.simulation.base\u001b[0m][\u001b[1;37mINFO\u001b[0m   ]  \n",
      "\t\n",
      "\tCurrent t_inner = 11245.497 K\n",
      "\tExpected t_inner for next iteration = 10153.431 K\n",
      " (\u001b[1mbase.py\u001b[0m:568)\n"
     ]
    },
    {
     "name": "stdout",
     "output_type": "stream",
     "text": [
      "[\u001b[1mpy.warnings         \u001b[0m][\u001b[1;33mWARNING\u001b[0m]  \n",
      "\t/home/runner/work/tardis/tardis/tardis/plasma/properties/radiative_properties.py:93: RuntimeWarning: invalid value encountered in divide\n",
      "  (g_lower * n_upper) / (g_upper * n_lower)\n",
      " (\u001b[1mwarnings.py\u001b[0m:109)\n"
     ]
    },
    {
     "name": "stdout",
     "output_type": "stream",
     "text": [
      "[\u001b[1mtardis.simulation.base\u001b[0m][\u001b[1;37mINFO\u001b[0m   ]  \n",
      "\t\n",
      "\tSimulation finished in 4 iterations \n",
      "\tSimulation took 0.45 s\n",
      " (\u001b[1mbase.py\u001b[0m:469)\n"
     ]
    },
    {
     "name": "stdout",
     "output_type": "stream",
     "text": [
      "[\u001b[1mtardis.simulation.base\u001b[0m][\u001b[1;37mINFO\u001b[0m   ]  \n",
      "\t\n",
      "\tStarting iteration 5 of 5 (\u001b[1mbase.py\u001b[0m:391)\n"
     ]
    },
    {
     "name": "stdout",
     "output_type": "stream",
     "text": [
      "[\u001b[1mtardis.simulation.base\u001b[0m][\u001b[1;37mINFO\u001b[0m   ]  \n",
      "\t\n",
      "\tLuminosity emitted   = 8.742e+42 erg / s\n",
      "\tLuminosity absorbed  = 2.834e+42 erg / s\n",
      "\tLuminosity requested = 1.059e+43 erg / s\n",
      " (\u001b[1mbase.py\u001b[0m:573)\n"
     ]
    }
   ],
   "source": [
    "sim = run_tardis(\"tardis_config_logger.yml\", log_level=\"Info\", show_cplots=False)"
   ]
  },
  {
   "cell_type": "markdown",
   "id": "52e778bc",
   "metadata": {},
   "source": [
    "By setting up the `log_level` parameter to **\"Info\"** in the above example, we can check that the logs are at the **\"Info\"** or higher logging level. "
   ]
  },
  {
   "cell_type": "markdown",
   "id": "25277fe8",
   "metadata": {},
   "source": [
    "### The `specific` Argument"
   ]
  },
  {
   "cell_type": "markdown",
   "id": "56a5ef36",
   "metadata": {},
   "source": [
    "The `specific_log_level` argument tells the logger to capture log messages set by the `log_level` parameter. It can only take *Boolean* values for input, which are `True` or `False`. Take for example the following:"
   ]
  },
  {
   "cell_type": "code",
   "execution_count": 5,
   "id": "a0df43d1",
   "metadata": {
    "execution": {
     "iopub.execute_input": "2024-02-06T22:03:32.370169Z",
     "iopub.status.busy": "2024-02-06T22:03:32.369862Z",
     "iopub.status.idle": "2024-02-06T22:03:34.189965Z",
     "shell.execute_reply": "2024-02-06T22:03:34.189334Z"
    },
    "scrolled": false
   },
   "outputs": [
    {
     "name": "stdout",
     "output_type": "stream",
     "text": [
      "log_level is defined both in Functional Argument & YAML Configuration {debug section}\n",
      "log_level = DEBUG will be used for Log Level Determination\n",
      "\n",
      "[\u001b[1mtardis.io.atom_data.base\u001b[0m][\u001b[1;34mDEBUG\u001b[0m  ]  Dataframe does not contain synpp_refs column (\u001b[1mbase.py\u001b[0m:181)\n"
     ]
    },
    {
     "name": "stdout",
     "output_type": "stream",
     "text": [
      "[\u001b[1mtardis.io.atom_data.base\u001b[0m][\u001b[1;34mDEBUG\u001b[0m  ]  Dataframe does not contain photoionization_data column (\u001b[1mbase.py\u001b[0m:181)\n"
     ]
    },
    {
     "name": "stdout",
     "output_type": "stream",
     "text": [
      "[\u001b[1mtardis.io.atom_data.base\u001b[0m][\u001b[1;34mDEBUG\u001b[0m  ]  Dataframe does not contain yg_data column (\u001b[1mbase.py\u001b[0m:181)\n"
     ]
    },
    {
     "name": "stdout",
     "output_type": "stream",
     "text": [
      "[\u001b[1mtardis.io.atom_data.base\u001b[0m][\u001b[1;34mDEBUG\u001b[0m  ]  Dataframe does not contain two_photon_data column (\u001b[1mbase.py\u001b[0m:181)\n"
     ]
    },
    {
     "name": "stdout",
     "output_type": "stream",
     "text": [
      "[\u001b[1mtardis.io.atom_data.base\u001b[0m][\u001b[1;34mDEBUG\u001b[0m  ]  Dataframe does not contain linelist column (\u001b[1mbase.py\u001b[0m:181)\n"
     ]
    },
    {
     "name": "stdout",
     "output_type": "stream",
     "text": [
      "[\u001b[1mtardis.plasma.base  \u001b[0m][\u001b[1;34mDEBUG\u001b[0m  ]  Updating modules in the following order:BetaRadiation->SelectedAtoms->ElectronTemperature->GElectron->Levels->Lines->AtomicMass->IonizationData->MacroAtomData->LevelBoltzmannFactorLTE->LinesLowerLevelIndex->LinesUpperLevelIndex->JBluesDiluteBlackBody->NumberDensity->LevelBoltzmannFactorNoNLTE->PartitionFunction->PhiSahaLTE->IonNumberDensity->LevelNumberDensity->StimulatedEmissionFactor->TauSobolev->BetaSobolev->TransitionProbabilities (\u001b[1mbase.py\u001b[0m:264)\n"
     ]
    },
    {
     "name": "stdout",
     "output_type": "stream",
     "text": [
      "[\u001b[1mpy.warnings         \u001b[0m][\u001b[1;33mWARNING\u001b[0m]  \n",
      "\t/home/runner/work/tardis/tardis/tardis/plasma/properties/radiative_properties.py:93: RuntimeWarning: invalid value encountered in divide\n",
      "  (g_lower * n_upper) / (g_upper * n_lower)\n",
      " (\u001b[1mwarnings.py\u001b[0m:109)\n"
     ]
    },
    {
     "name": "stdout",
     "output_type": "stream",
     "text": [
      "[\u001b[1mtardis.plasma.base  \u001b[0m][\u001b[1;34mDEBUG\u001b[0m  ]  Updating modules in the following order:BetaRadiation->SelectedAtoms->ElectronTemperature->GElectron->Levels->Lines->AtomicMass->IonizationData->MacroAtomData->LevelBoltzmannFactorLTE->LinesLowerLevelIndex->LinesUpperLevelIndex->JBluesDiluteBlackBody->NumberDensity->LevelBoltzmannFactorNoNLTE->PartitionFunction->PhiSahaLTE->IonNumberDensity->LevelNumberDensity->StimulatedEmissionFactor->TauSobolev->BetaSobolev->TransitionProbabilities (\u001b[1mbase.py\u001b[0m:264)\n"
     ]
    },
    {
     "name": "stdout",
     "output_type": "stream",
     "text": [
      "[\u001b[1mpy.warnings         \u001b[0m][\u001b[1;33mWARNING\u001b[0m]  \n",
      "\t/home/runner/work/tardis/tardis/tardis/plasma/properties/radiative_properties.py:93: RuntimeWarning: invalid value encountered in divide\n",
      "  (g_lower * n_upper) / (g_upper * n_lower)\n",
      " (\u001b[1mwarnings.py\u001b[0m:109)\n"
     ]
    },
    {
     "name": "stdout",
     "output_type": "stream",
     "text": [
      "[\u001b[1mtardis.montecarlo.base\u001b[0m][\u001b[1;34mDEBUG\u001b[0m  ]  Electron scattering switched on (\u001b[1mbase.py\u001b[0m:274)\n"
     ]
    },
    {
     "data": {
      "application/vnd.jupyter.widget-view+json": {
       "model_id": "476b85387d304ee28b4bf29c9d6b97ee",
       "version_major": 2,
       "version_minor": 0
      },
      "text/plain": [
       "TqdmHBox(children=(HTML(value='Iterations:', layout=Layout(width='6%')), FloatProgress(value=0.0, layout=Layou…"
      ]
     },
     "metadata": {},
     "output_type": "display_data"
    },
    {
     "data": {
      "application/vnd.jupyter.widget-view+json": {
       "model_id": "df60a9ff1e89404ca52782188901f08a",
       "version_major": 2,
       "version_minor": 0
      },
      "text/plain": [
       "TqdmHBox(children=(HTML(value='Packets:   ', layout=Layout(width='6%')), FloatProgress(value=0.0, layout=Layou…"
      ]
     },
     "metadata": {},
     "output_type": "display_data"
    },
    {
     "name": "stdout",
     "output_type": "stream",
     "text": [
      "[\u001b[1mtardis.plasma.base  \u001b[0m][\u001b[1;34mDEBUG\u001b[0m  ]  Updating modules in the following order:BetaRadiation->ElectronTemperature->GElectron->LevelBoltzmannFactorLTE->JBluesDiluteBlackBody->LevelBoltzmannFactorNoNLTE->PartitionFunction->PhiSahaLTE->IonNumberDensity->LevelNumberDensity->StimulatedEmissionFactor->TauSobolev->BetaSobolev->TransitionProbabilities (\u001b[1mbase.py\u001b[0m:264)\n"
     ]
    },
    {
     "name": "stdout",
     "output_type": "stream",
     "text": [
      "[\u001b[1mpy.warnings         \u001b[0m][\u001b[1;33mWARNING\u001b[0m]  \n",
      "\t/home/runner/work/tardis/tardis/tardis/plasma/properties/radiative_properties.py:93: RuntimeWarning: invalid value encountered in divide\n",
      "  (g_lower * n_upper) / (g_upper * n_lower)\n",
      " (\u001b[1mwarnings.py\u001b[0m:109)\n"
     ]
    },
    {
     "name": "stdout",
     "output_type": "stream",
     "text": [
      "[\u001b[1mtardis.plasma.base  \u001b[0m][\u001b[1;34mDEBUG\u001b[0m  ]  Updating modules in the following order:BetaRadiation->ElectronTemperature->GElectron->LevelBoltzmannFactorLTE->JBluesDiluteBlackBody->LevelBoltzmannFactorNoNLTE->PartitionFunction->PhiSahaLTE->IonNumberDensity->LevelNumberDensity->StimulatedEmissionFactor->TauSobolev->BetaSobolev->TransitionProbabilities (\u001b[1mbase.py\u001b[0m:264)\n"
     ]
    },
    {
     "name": "stdout",
     "output_type": "stream",
     "text": [
      "[\u001b[1mpy.warnings         \u001b[0m][\u001b[1;33mWARNING\u001b[0m]  \n",
      "\t/home/runner/work/tardis/tardis/tardis/plasma/properties/radiative_properties.py:93: RuntimeWarning: invalid value encountered in divide\n",
      "  (g_lower * n_upper) / (g_upper * n_lower)\n",
      " (\u001b[1mwarnings.py\u001b[0m:109)\n"
     ]
    },
    {
     "name": "stdout",
     "output_type": "stream",
     "text": [
      "[\u001b[1mtardis.plasma.base  \u001b[0m][\u001b[1;34mDEBUG\u001b[0m  ]  Updating modules in the following order:BetaRadiation->ElectronTemperature->GElectron->LevelBoltzmannFactorLTE->JBluesDiluteBlackBody->LevelBoltzmannFactorNoNLTE->PartitionFunction->PhiSahaLTE->IonNumberDensity->LevelNumberDensity->StimulatedEmissionFactor->TauSobolev->BetaSobolev->TransitionProbabilities (\u001b[1mbase.py\u001b[0m:264)\n"
     ]
    },
    {
     "name": "stdout",
     "output_type": "stream",
     "text": [
      "[\u001b[1mpy.warnings         \u001b[0m][\u001b[1;33mWARNING\u001b[0m]  \n",
      "\t/home/runner/work/tardis/tardis/tardis/plasma/properties/radiative_properties.py:93: RuntimeWarning: invalid value encountered in divide\n",
      "  (g_lower * n_upper) / (g_upper * n_lower)\n",
      " (\u001b[1mwarnings.py\u001b[0m:109)\n"
     ]
    },
    {
     "name": "stdout",
     "output_type": "stream",
     "text": [
      "[\u001b[1mtardis.plasma.base  \u001b[0m][\u001b[1;34mDEBUG\u001b[0m  ]  Updating modules in the following order:BetaRadiation->ElectronTemperature->GElectron->LevelBoltzmannFactorLTE->JBluesDiluteBlackBody->LevelBoltzmannFactorNoNLTE->PartitionFunction->PhiSahaLTE->IonNumberDensity->LevelNumberDensity->StimulatedEmissionFactor->TauSobolev->BetaSobolev->TransitionProbabilities (\u001b[1mbase.py\u001b[0m:264)\n"
     ]
    },
    {
     "name": "stdout",
     "output_type": "stream",
     "text": [
      "[\u001b[1mpy.warnings         \u001b[0m][\u001b[1;33mWARNING\u001b[0m]  \n",
      "\t/home/runner/work/tardis/tardis/tardis/plasma/properties/radiative_properties.py:93: RuntimeWarning: invalid value encountered in divide\n",
      "  (g_lower * n_upper) / (g_upper * n_lower)\n",
      " (\u001b[1mwarnings.py\u001b[0m:109)\n"
     ]
    }
   ],
   "source": [
    "sim = run_tardis(\"tardis_config_logger.yml\", log_level=\"Debug\", specific_log_level=True, show_cplots=False)"
   ]
  },
  {
   "cell_type": "markdown",
   "id": "5c6ff57c",
   "metadata": {},
   "source": [
    "It can be examined that, when we set `specific_log_level` to `True`, the log messages captured were only at the `DEBUG` log level.<br> This allows for logging only specified logging messages for inspection."
   ]
  },
  {
   "cell_type": "markdown",
   "id": "5083321b",
   "metadata": {},
   "source": [
    "The changes in the captured log messages can be seen when we set `specific_log_level` to `False`."
   ]
  },
  {
   "cell_type": "code",
   "execution_count": 6,
   "id": "566919b3",
   "metadata": {
    "execution": {
     "iopub.execute_input": "2024-02-06T22:03:34.192695Z",
     "iopub.status.busy": "2024-02-06T22:03:34.192496Z",
     "iopub.status.idle": "2024-02-06T22:03:36.185655Z",
     "shell.execute_reply": "2024-02-06T22:03:36.185045Z"
    },
    "scrolled": false
   },
   "outputs": [
    {
     "name": "stdout",
     "output_type": "stream",
     "text": [
      "log_level is defined both in Functional Argument & YAML Configuration {debug section}\n",
      "log_level = DEBUG will be used for Log Level Determination\n",
      "\n",
      "[\u001b[1mtardis.simulation.base\u001b[0m][\u001b[1;37mINFO\u001b[0m   ]  \n",
      "\t\n",
      "\tReading Atomic Data from kurucz_cd23_chianti_H_He.h5 (\u001b[1mbase.py\u001b[0m:674)\n"
     ]
    },
    {
     "name": "stdout",
     "output_type": "stream",
     "text": [
      "[\u001b[1mtardis.io.atom_data.util\u001b[0m][\u001b[1;37mINFO\u001b[0m   ]  \n",
      "\t\n",
      "\tAtom Data kurucz_cd23_chianti_H_He.h5 not found in local path.\n",
      "\tExists in TARDIS Data repo /home/runner/Downloads/tardis-data/kurucz_cd23_chianti_H_He.h5 (\u001b[1mutil.py\u001b[0m:33)\n"
     ]
    },
    {
     "name": "stdout",
     "output_type": "stream",
     "text": [
      "[\u001b[1mtardis.io.atom_data.base\u001b[0m][\u001b[1;34mDEBUG\u001b[0m  ]  Dataframe does not contain synpp_refs column (\u001b[1mbase.py\u001b[0m:181)\n"
     ]
    },
    {
     "name": "stdout",
     "output_type": "stream",
     "text": [
      "[\u001b[1mtardis.io.atom_data.base\u001b[0m][\u001b[1;34mDEBUG\u001b[0m  ]  Dataframe does not contain photoionization_data column (\u001b[1mbase.py\u001b[0m:181)\n"
     ]
    },
    {
     "name": "stdout",
     "output_type": "stream",
     "text": [
      "[\u001b[1mtardis.io.atom_data.base\u001b[0m][\u001b[1;34mDEBUG\u001b[0m  ]  Dataframe does not contain yg_data column (\u001b[1mbase.py\u001b[0m:181)\n"
     ]
    },
    {
     "name": "stdout",
     "output_type": "stream",
     "text": [
      "[\u001b[1mtardis.io.atom_data.base\u001b[0m][\u001b[1;34mDEBUG\u001b[0m  ]  Dataframe does not contain two_photon_data column (\u001b[1mbase.py\u001b[0m:181)\n"
     ]
    },
    {
     "name": "stdout",
     "output_type": "stream",
     "text": [
      "[\u001b[1mtardis.io.atom_data.base\u001b[0m][\u001b[1;34mDEBUG\u001b[0m  ]  Dataframe does not contain linelist column (\u001b[1mbase.py\u001b[0m:181)\n"
     ]
    },
    {
     "name": "stdout",
     "output_type": "stream",
     "text": [
      "[\u001b[1mtardis.io.atom_data.base\u001b[0m][\u001b[1;37mINFO\u001b[0m   ]  \n",
      "\tReading Atom Data with: UUID = 6f7b09e887a311e7a06b246e96350010 MD5  = 864f1753714343c41f99cb065710cace  (\u001b[1mbase.py\u001b[0m:258)\n"
     ]
    },
    {
     "name": "stdout",
     "output_type": "stream",
     "text": [
      "[\u001b[1mtardis.io.atom_data.base\u001b[0m][\u001b[1;37mINFO\u001b[0m   ]  \n",
      "\tNon provided Atomic Data: synpp_refs, photoionization_data, yg_data, two_photon_data, linelist (\u001b[1mbase.py\u001b[0m:262)\n"
     ]
    },
    {
     "name": "stdout",
     "output_type": "stream",
     "text": [
      "[\u001b[1mtardis.model.parse_input\u001b[0m][\u001b[1;33mWARNING\u001b[0m]  \n",
      "\tNumber of density points larger than number of shells. Assuming inner point irrelevant (\u001b[1mparse_input.py\u001b[0m:143)\n"
     ]
    },
    {
     "name": "stdout",
     "output_type": "stream",
     "text": [
      "[\u001b[1mtardis.model.matter.decay\u001b[0m][\u001b[1;37mINFO\u001b[0m   ]  \n",
      "\tDecaying abundances for 1123200.0 seconds (\u001b[1mdecay.py\u001b[0m:101)\n"
     ]
    },
    {
     "name": "stdout",
     "output_type": "stream",
     "text": [
      "[\u001b[1mtardis.model.matter.decay\u001b[0m][\u001b[1;37mINFO\u001b[0m   ]  \n",
      "\tDecaying abundances for 1123200.0 seconds (\u001b[1mdecay.py\u001b[0m:101)\n"
     ]
    },
    {
     "name": "stdout",
     "output_type": "stream",
     "text": [
      "[\u001b[1mtardis.plasma.base  \u001b[0m][\u001b[1;34mDEBUG\u001b[0m  ]  Updating modules in the following order:BetaRadiation->SelectedAtoms->ElectronTemperature->GElectron->Levels->Lines->AtomicMass->IonizationData->MacroAtomData->LevelBoltzmannFactorLTE->LinesLowerLevelIndex->LinesUpperLevelIndex->JBluesDiluteBlackBody->NumberDensity->LevelBoltzmannFactorNoNLTE->PartitionFunction->PhiSahaLTE->IonNumberDensity->LevelNumberDensity->StimulatedEmissionFactor->TauSobolev->BetaSobolev->TransitionProbabilities (\u001b[1mbase.py\u001b[0m:264)\n"
     ]
    },
    {
     "name": "stdout",
     "output_type": "stream",
     "text": [
      "[\u001b[1mpy.warnings         \u001b[0m][\u001b[1;33mWARNING\u001b[0m]  \n",
      "\t/home/runner/work/tardis/tardis/tardis/plasma/properties/radiative_properties.py:93: RuntimeWarning: invalid value encountered in divide\n",
      "  (g_lower * n_upper) / (g_upper * n_lower)\n",
      " (\u001b[1mwarnings.py\u001b[0m:109)\n"
     ]
    },
    {
     "name": "stdout",
     "output_type": "stream",
     "text": [
      "[\u001b[1mtardis.plasma.base  \u001b[0m][\u001b[1;34mDEBUG\u001b[0m  ]  Updating modules in the following order:BetaRadiation->SelectedAtoms->ElectronTemperature->GElectron->Levels->Lines->AtomicMass->IonizationData->MacroAtomData->LevelBoltzmannFactorLTE->LinesLowerLevelIndex->LinesUpperLevelIndex->JBluesDiluteBlackBody->NumberDensity->LevelBoltzmannFactorNoNLTE->PartitionFunction->PhiSahaLTE->IonNumberDensity->LevelNumberDensity->StimulatedEmissionFactor->TauSobolev->BetaSobolev->TransitionProbabilities (\u001b[1mbase.py\u001b[0m:264)\n"
     ]
    },
    {
     "name": "stdout",
     "output_type": "stream",
     "text": [
      "[\u001b[1mpy.warnings         \u001b[0m][\u001b[1;33mWARNING\u001b[0m]  \n",
      "\t/home/runner/work/tardis/tardis/tardis/plasma/properties/radiative_properties.py:93: RuntimeWarning: invalid value encountered in divide\n",
      "  (g_lower * n_upper) / (g_upper * n_lower)\n",
      " (\u001b[1mwarnings.py\u001b[0m:109)\n"
     ]
    },
    {
     "name": "stdout",
     "output_type": "stream",
     "text": [
      "[\u001b[1mtardis.montecarlo.base\u001b[0m][\u001b[1;34mDEBUG\u001b[0m  ]  Electron scattering switched on (\u001b[1mbase.py\u001b[0m:274)\n"
     ]
    },
    {
     "name": "stdout",
     "output_type": "stream",
     "text": [
      "[\u001b[1mtardis.simulation.base\u001b[0m][\u001b[1;37mINFO\u001b[0m   ]  \n",
      "\t\n",
      "\tStarting iteration 1 of 5 (\u001b[1mbase.py\u001b[0m:391)\n"
     ]
    },
    {
     "data": {
      "application/vnd.jupyter.widget-view+json": {
       "model_id": "b73a1c22dc464eb5918fe7ba2a6dba96",
       "version_major": 2,
       "version_minor": 0
      },
      "text/plain": [
       "TqdmHBox(children=(HTML(value='Iterations:', layout=Layout(width='6%')), FloatProgress(value=0.0, layout=Layou…"
      ]
     },
     "metadata": {},
     "output_type": "display_data"
    },
    {
     "data": {
      "application/vnd.jupyter.widget-view+json": {
       "model_id": "8b1d9b1dd274471b8b0c0e5d6b7b0a0d",
       "version_major": 2,
       "version_minor": 0
      },
      "text/plain": [
       "TqdmHBox(children=(HTML(value='Packets:   ', layout=Layout(width='6%')), FloatProgress(value=0.0, layout=Layou…"
      ]
     },
     "metadata": {},
     "output_type": "display_data"
    },
    {
     "name": "stdout",
     "output_type": "stream",
     "text": [
      "[\u001b[1mtardis.simulation.base\u001b[0m][\u001b[1;37mINFO\u001b[0m   ]  \n",
      "\t\n",
      "\tLuminosity emitted   = 7.947e+42 erg / s\n",
      "\tLuminosity absorbed  = 2.654e+42 erg / s\n",
      "\tLuminosity requested = 1.059e+43 erg / s\n",
      " (\u001b[1mbase.py\u001b[0m:573)\n"
     ]
    },
    {
     "name": "stdout",
     "output_type": "stream",
     "text": [
      "[\u001b[1mtardis.simulation.base\u001b[0m][\u001b[1;37mINFO\u001b[0m   ]  \n",
      "\t\n",
      "\tPlasma stratification: (\u001b[1mbase.py\u001b[0m:541)\n"
     ]
    },
    {
     "data": {
      "text/html": [
       "<style type=\"text/css\">\n",
       "</style>\n",
       "<table id=\"T_a53ad\">\n",
       "  <thead>\n",
       "    <tr>\n",
       "      <th class=\"index_name level0\" >Shell No.</th>\n",
       "      <th id=\"T_a53ad_level0_col0\" class=\"col_heading level0 col0\" >t_rad</th>\n",
       "      <th id=\"T_a53ad_level0_col1\" class=\"col_heading level0 col1\" >next_t_rad</th>\n",
       "      <th id=\"T_a53ad_level0_col2\" class=\"col_heading level0 col2\" >w</th>\n",
       "      <th id=\"T_a53ad_level0_col3\" class=\"col_heading level0 col3\" >next_w</th>\n",
       "    </tr>\n",
       "  </thead>\n",
       "  <tbody>\n",
       "    <tr>\n",
       "      <th id=\"T_a53ad_level0_row0\" class=\"row_heading level0 row0\" >0</th>\n",
       "      <td id=\"T_a53ad_row0_col0\" class=\"data row0 col0\" >9.93e+03 K</td>\n",
       "      <td id=\"T_a53ad_row0_col1\" class=\"data row0 col1\" >1.03e+04 K</td>\n",
       "      <td id=\"T_a53ad_row0_col2\" class=\"data row0 col2\" >0.4</td>\n",
       "      <td id=\"T_a53ad_row0_col3\" class=\"data row0 col3\" >0.481</td>\n",
       "    </tr>\n",
       "    <tr>\n",
       "      <th id=\"T_a53ad_level0_row1\" class=\"row_heading level0 row1\" >5</th>\n",
       "      <td id=\"T_a53ad_row1_col0\" class=\"data row1 col0\" >9.85e+03 K</td>\n",
       "      <td id=\"T_a53ad_row1_col1\" class=\"data row1 col1\" >1.03e+04 K</td>\n",
       "      <td id=\"T_a53ad_row1_col2\" class=\"data row1 col2\" >0.211</td>\n",
       "      <td id=\"T_a53ad_row1_col3\" class=\"data row1 col3\" >0.193</td>\n",
       "    </tr>\n",
       "    <tr>\n",
       "      <th id=\"T_a53ad_level0_row2\" class=\"row_heading level0 row2\" >10</th>\n",
       "      <td id=\"T_a53ad_row2_col0\" class=\"data row2 col0\" >9.78e+03 K</td>\n",
       "      <td id=\"T_a53ad_row2_col1\" class=\"data row2 col1\" >1.02e+04 K</td>\n",
       "      <td id=\"T_a53ad_row2_col2\" class=\"data row2 col2\" >0.143</td>\n",
       "      <td id=\"T_a53ad_row2_col3\" class=\"data row2 col3\" >0.112</td>\n",
       "    </tr>\n",
       "    <tr>\n",
       "      <th id=\"T_a53ad_level0_row3\" class=\"row_heading level0 row3\" >15</th>\n",
       "      <td id=\"T_a53ad_row3_col0\" class=\"data row3 col0\" >9.71e+03 K</td>\n",
       "      <td id=\"T_a53ad_row3_col1\" class=\"data row3 col1\" >9.98e+03 K</td>\n",
       "      <td id=\"T_a53ad_row3_col2\" class=\"data row3 col2\" >0.105</td>\n",
       "      <td id=\"T_a53ad_row3_col3\" class=\"data row3 col3\" >0.0826</td>\n",
       "    </tr>\n",
       "  </tbody>\n",
       "</table>\n"
      ],
      "text/plain": [
       "<pandas.io.formats.style.Styler at 0x7f5f93c2ced0>"
      ]
     },
     "metadata": {},
     "output_type": "display_data"
    },
    {
     "name": "stdout",
     "output_type": "stream",
     "text": [
      "[\u001b[1mtardis.simulation.base\u001b[0m][\u001b[1;37mINFO\u001b[0m   ]  \n",
      "\t\n",
      "\tCurrent t_inner = 9933.952 K\n",
      "\tExpected t_inner for next iteration = 11468.808 K\n",
      " (\u001b[1mbase.py\u001b[0m:568)\n"
     ]
    },
    {
     "name": "stdout",
     "output_type": "stream",
     "text": [
      "[\u001b[1mtardis.plasma.base  \u001b[0m][\u001b[1;34mDEBUG\u001b[0m  ]  Updating modules in the following order:BetaRadiation->ElectronTemperature->GElectron->LevelBoltzmannFactorLTE->JBluesDiluteBlackBody->LevelBoltzmannFactorNoNLTE->PartitionFunction->PhiSahaLTE->IonNumberDensity->LevelNumberDensity->StimulatedEmissionFactor->TauSobolev->BetaSobolev->TransitionProbabilities (\u001b[1mbase.py\u001b[0m:264)\n"
     ]
    },
    {
     "name": "stdout",
     "output_type": "stream",
     "text": [
      "[\u001b[1mpy.warnings         \u001b[0m][\u001b[1;33mWARNING\u001b[0m]  \n",
      "\t/home/runner/work/tardis/tardis/tardis/plasma/properties/radiative_properties.py:93: RuntimeWarning: invalid value encountered in divide\n",
      "  (g_lower * n_upper) / (g_upper * n_lower)\n",
      " (\u001b[1mwarnings.py\u001b[0m:109)\n"
     ]
    },
    {
     "name": "stdout",
     "output_type": "stream",
     "text": [
      "[\u001b[1mtardis.simulation.base\u001b[0m][\u001b[1;37mINFO\u001b[0m   ]  \n",
      "\t\n",
      "\tStarting iteration 2 of 5 (\u001b[1mbase.py\u001b[0m:391)\n"
     ]
    },
    {
     "name": "stdout",
     "output_type": "stream",
     "text": [
      "[\u001b[1mtardis.simulation.base\u001b[0m][\u001b[1;37mINFO\u001b[0m   ]  \n",
      "\t\n",
      "\tLuminosity emitted   = 1.413e+43 erg / s\n",
      "\tLuminosity absorbed  = 4.704e+42 erg / s\n",
      "\tLuminosity requested = 1.059e+43 erg / s\n",
      " (\u001b[1mbase.py\u001b[0m:573)\n"
     ]
    },
    {
     "name": "stdout",
     "output_type": "stream",
     "text": [
      "[\u001b[1mtardis.simulation.base\u001b[0m][\u001b[1;37mINFO\u001b[0m   ]  \n",
      "\t\n",
      "\tPlasma stratification: (\u001b[1mbase.py\u001b[0m:541)\n"
     ]
    },
    {
     "data": {
      "text/html": [
       "<style type=\"text/css\">\n",
       "</style>\n",
       "<table id=\"T_5b921\">\n",
       "  <thead>\n",
       "    <tr>\n",
       "      <th class=\"index_name level0\" >Shell No.</th>\n",
       "      <th id=\"T_5b921_level0_col0\" class=\"col_heading level0 col0\" >t_rad</th>\n",
       "      <th id=\"T_5b921_level0_col1\" class=\"col_heading level0 col1\" >next_t_rad</th>\n",
       "      <th id=\"T_5b921_level0_col2\" class=\"col_heading level0 col2\" >w</th>\n",
       "      <th id=\"T_5b921_level0_col3\" class=\"col_heading level0 col3\" >next_w</th>\n",
       "    </tr>\n",
       "  </thead>\n",
       "  <tbody>\n",
       "    <tr>\n",
       "      <th id=\"T_5b921_level0_row0\" class=\"row_heading level0 row0\" >0</th>\n",
       "      <td id=\"T_5b921_row0_col0\" class=\"data row0 col0\" >1.03e+04 K</td>\n",
       "      <td id=\"T_5b921_row0_col1\" class=\"data row0 col1\" >1.15e+04 K</td>\n",
       "      <td id=\"T_5b921_row0_col2\" class=\"data row0 col2\" >0.481</td>\n",
       "      <td id=\"T_5b921_row0_col3\" class=\"data row0 col3\" >0.555</td>\n",
       "    </tr>\n",
       "    <tr>\n",
       "      <th id=\"T_5b921_level0_row1\" class=\"row_heading level0 row1\" >5</th>\n",
       "      <td id=\"T_5b921_row1_col0\" class=\"data row1 col0\" >1.03e+04 K</td>\n",
       "      <td id=\"T_5b921_row1_col1\" class=\"data row1 col1\" >1.17e+04 K</td>\n",
       "      <td id=\"T_5b921_row1_col2\" class=\"data row1 col2\" >0.193</td>\n",
       "      <td id=\"T_5b921_row1_col3\" class=\"data row1 col3\" >0.203</td>\n",
       "    </tr>\n",
       "    <tr>\n",
       "      <th id=\"T_5b921_level0_row2\" class=\"row_heading level0 row2\" >10</th>\n",
       "      <td id=\"T_5b921_row2_col0\" class=\"data row2 col0\" >1.02e+04 K</td>\n",
       "      <td id=\"T_5b921_row2_col1\" class=\"data row2 col1\" >1.13e+04 K</td>\n",
       "      <td id=\"T_5b921_row2_col2\" class=\"data row2 col2\" >0.112</td>\n",
       "      <td id=\"T_5b921_row2_col3\" class=\"data row2 col3\" >0.135</td>\n",
       "    </tr>\n",
       "    <tr>\n",
       "      <th id=\"T_5b921_level0_row3\" class=\"row_heading level0 row3\" >15</th>\n",
       "      <td id=\"T_5b921_row3_col0\" class=\"data row3 col0\" >9.98e+03 K</td>\n",
       "      <td id=\"T_5b921_row3_col1\" class=\"data row3 col1\" >1.1e+04 K</td>\n",
       "      <td id=\"T_5b921_row3_col2\" class=\"data row3 col2\" >0.0826</td>\n",
       "      <td id=\"T_5b921_row3_col3\" class=\"data row3 col3\" >0.0998</td>\n",
       "    </tr>\n",
       "  </tbody>\n",
       "</table>\n"
      ],
      "text/plain": [
       "<pandas.io.formats.style.Styler at 0x7f5fa0dc6e90>"
      ]
     },
     "metadata": {},
     "output_type": "display_data"
    },
    {
     "name": "stdout",
     "output_type": "stream",
     "text": [
      "[\u001b[1mtardis.simulation.base\u001b[0m][\u001b[1;37mINFO\u001b[0m   ]  \n",
      "\t\n",
      "\tCurrent t_inner = 11468.808 K\n",
      "\tExpected t_inner for next iteration = 9929.475 K\n",
      " (\u001b[1mbase.py\u001b[0m:568)\n"
     ]
    },
    {
     "name": "stdout",
     "output_type": "stream",
     "text": [
      "[\u001b[1mtardis.plasma.base  \u001b[0m][\u001b[1;34mDEBUG\u001b[0m  ]  Updating modules in the following order:BetaRadiation->ElectronTemperature->GElectron->LevelBoltzmannFactorLTE->JBluesDiluteBlackBody->LevelBoltzmannFactorNoNLTE->PartitionFunction->PhiSahaLTE->IonNumberDensity->LevelNumberDensity->StimulatedEmissionFactor->TauSobolev->BetaSobolev->TransitionProbabilities (\u001b[1mbase.py\u001b[0m:264)\n"
     ]
    },
    {
     "name": "stdout",
     "output_type": "stream",
     "text": [
      "[\u001b[1mpy.warnings         \u001b[0m][\u001b[1;33mWARNING\u001b[0m]  \n",
      "\t/home/runner/work/tardis/tardis/tardis/plasma/properties/radiative_properties.py:93: RuntimeWarning: invalid value encountered in divide\n",
      "  (g_lower * n_upper) / (g_upper * n_lower)\n",
      " (\u001b[1mwarnings.py\u001b[0m:109)\n"
     ]
    },
    {
     "name": "stdout",
     "output_type": "stream",
     "text": [
      "[\u001b[1mtardis.simulation.base\u001b[0m][\u001b[1;37mINFO\u001b[0m   ]  \n",
      "\t\n",
      "\tStarting iteration 3 of 5 (\u001b[1mbase.py\u001b[0m:391)\n"
     ]
    },
    {
     "name": "stdout",
     "output_type": "stream",
     "text": [
      "[\u001b[1mtardis.simulation.base\u001b[0m][\u001b[1;37mINFO\u001b[0m   ]  \n",
      "\t\n",
      "\tLuminosity emitted   = 8.259e+42 erg / s\n",
      "\tLuminosity absorbed  = 2.337e+42 erg / s\n",
      "\tLuminosity requested = 1.059e+43 erg / s\n",
      " (\u001b[1mbase.py\u001b[0m:573)\n"
     ]
    },
    {
     "name": "stdout",
     "output_type": "stream",
     "text": [
      "[\u001b[1mtardis.simulation.base\u001b[0m][\u001b[1;37mINFO\u001b[0m   ]  \n",
      "\t\n",
      "\tPlasma stratification: (\u001b[1mbase.py\u001b[0m:541)\n"
     ]
    },
    {
     "data": {
      "text/html": [
       "<style type=\"text/css\">\n",
       "</style>\n",
       "<table id=\"T_57fe9\">\n",
       "  <thead>\n",
       "    <tr>\n",
       "      <th class=\"index_name level0\" >Shell No.</th>\n",
       "      <th id=\"T_57fe9_level0_col0\" class=\"col_heading level0 col0\" >t_rad</th>\n",
       "      <th id=\"T_57fe9_level0_col1\" class=\"col_heading level0 col1\" >next_t_rad</th>\n",
       "      <th id=\"T_57fe9_level0_col2\" class=\"col_heading level0 col2\" >w</th>\n",
       "      <th id=\"T_57fe9_level0_col3\" class=\"col_heading level0 col3\" >next_w</th>\n",
       "    </tr>\n",
       "  </thead>\n",
       "  <tbody>\n",
       "    <tr>\n",
       "      <th id=\"T_57fe9_level0_row0\" class=\"row_heading level0 row0\" >0</th>\n",
       "      <td id=\"T_57fe9_row0_col0\" class=\"data row0 col0\" >1.15e+04 K</td>\n",
       "      <td id=\"T_57fe9_row0_col1\" class=\"data row0 col1\" >1.03e+04 K</td>\n",
       "      <td id=\"T_57fe9_row0_col2\" class=\"data row0 col2\" >0.555</td>\n",
       "      <td id=\"T_57fe9_row0_col3\" class=\"data row0 col3\" >0.468</td>\n",
       "    </tr>\n",
       "    <tr>\n",
       "      <th id=\"T_57fe9_level0_row1\" class=\"row_heading level0 row1\" >5</th>\n",
       "      <td id=\"T_57fe9_row1_col0\" class=\"data row1 col0\" >1.17e+04 K</td>\n",
       "      <td id=\"T_57fe9_row1_col1\" class=\"data row1 col1\" >1.05e+04 K</td>\n",
       "      <td id=\"T_57fe9_row1_col2\" class=\"data row1 col2\" >0.203</td>\n",
       "      <td id=\"T_57fe9_row1_col3\" class=\"data row1 col3\" >0.181</td>\n",
       "    </tr>\n",
       "    <tr>\n",
       "      <th id=\"T_57fe9_level0_row2\" class=\"row_heading level0 row2\" >10</th>\n",
       "      <td id=\"T_57fe9_row2_col0\" class=\"data row2 col0\" >1.13e+04 K</td>\n",
       "      <td id=\"T_57fe9_row2_col1\" class=\"data row2 col1\" >1.05e+04 K</td>\n",
       "      <td id=\"T_57fe9_row2_col2\" class=\"data row2 col2\" >0.135</td>\n",
       "      <td id=\"T_57fe9_row2_col3\" class=\"data row2 col3\" >0.108</td>\n",
       "    </tr>\n",
       "    <tr>\n",
       "      <th id=\"T_57fe9_level0_row3\" class=\"row_heading level0 row3\" >15</th>\n",
       "      <td id=\"T_57fe9_row3_col0\" class=\"data row3 col0\" >1.1e+04 K</td>\n",
       "      <td id=\"T_57fe9_row3_col1\" class=\"data row3 col1\" >1.03e+04 K</td>\n",
       "      <td id=\"T_57fe9_row3_col2\" class=\"data row3 col2\" >0.0998</td>\n",
       "      <td id=\"T_57fe9_row3_col3\" class=\"data row3 col3\" >0.0779</td>\n",
       "    </tr>\n",
       "  </tbody>\n",
       "</table>\n"
      ],
      "text/plain": [
       "<pandas.io.formats.style.Styler at 0x7f5fa749f690>"
      ]
     },
     "metadata": {},
     "output_type": "display_data"
    },
    {
     "name": "stdout",
     "output_type": "stream",
     "text": [
      "[\u001b[1mtardis.simulation.base\u001b[0m][\u001b[1;37mINFO\u001b[0m   ]  \n",
      "\t\n",
      "\tCurrent t_inner = 9929.475 K\n",
      "\tExpected t_inner for next iteration = 11245.497 K\n",
      " (\u001b[1mbase.py\u001b[0m:568)\n"
     ]
    },
    {
     "name": "stdout",
     "output_type": "stream",
     "text": [
      "[\u001b[1mtardis.plasma.base  \u001b[0m][\u001b[1;34mDEBUG\u001b[0m  ]  Updating modules in the following order:BetaRadiation->ElectronTemperature->GElectron->LevelBoltzmannFactorLTE->JBluesDiluteBlackBody->LevelBoltzmannFactorNoNLTE->PartitionFunction->PhiSahaLTE->IonNumberDensity->LevelNumberDensity->StimulatedEmissionFactor->TauSobolev->BetaSobolev->TransitionProbabilities (\u001b[1mbase.py\u001b[0m:264)\n"
     ]
    },
    {
     "name": "stdout",
     "output_type": "stream",
     "text": [
      "[\u001b[1mpy.warnings         \u001b[0m][\u001b[1;33mWARNING\u001b[0m]  \n",
      "\t/home/runner/work/tardis/tardis/tardis/plasma/properties/radiative_properties.py:93: RuntimeWarning: invalid value encountered in divide\n",
      "  (g_lower * n_upper) / (g_upper * n_lower)\n",
      " (\u001b[1mwarnings.py\u001b[0m:109)\n"
     ]
    },
    {
     "name": "stdout",
     "output_type": "stream",
     "text": [
      "[\u001b[1mtardis.simulation.base\u001b[0m][\u001b[1;37mINFO\u001b[0m   ]  \n",
      "\t\n",
      "\tStarting iteration 4 of 5 (\u001b[1mbase.py\u001b[0m:391)\n"
     ]
    },
    {
     "name": "stdout",
     "output_type": "stream",
     "text": [
      "[\u001b[1mtardis.simulation.base\u001b[0m][\u001b[1;37mINFO\u001b[0m   ]  \n",
      "\t\n",
      "\tLuminosity emitted   = 1.299e+43 erg / s\n",
      "\tLuminosity absorbed  = 4.407e+42 erg / s\n",
      "\tLuminosity requested = 1.059e+43 erg / s\n",
      " (\u001b[1mbase.py\u001b[0m:573)\n"
     ]
    },
    {
     "name": "stdout",
     "output_type": "stream",
     "text": [
      "[\u001b[1mtardis.simulation.base\u001b[0m][\u001b[1;37mINFO\u001b[0m   ]  \n",
      "\t\n",
      "\tPlasma stratification: (\u001b[1mbase.py\u001b[0m:541)\n"
     ]
    },
    {
     "data": {
      "text/html": [
       "<style type=\"text/css\">\n",
       "</style>\n",
       "<table id=\"T_70f44\">\n",
       "  <thead>\n",
       "    <tr>\n",
       "      <th class=\"index_name level0\" >Shell No.</th>\n",
       "      <th id=\"T_70f44_level0_col0\" class=\"col_heading level0 col0\" >t_rad</th>\n",
       "      <th id=\"T_70f44_level0_col1\" class=\"col_heading level0 col1\" >next_t_rad</th>\n",
       "      <th id=\"T_70f44_level0_col2\" class=\"col_heading level0 col2\" >w</th>\n",
       "      <th id=\"T_70f44_level0_col3\" class=\"col_heading level0 col3\" >next_w</th>\n",
       "    </tr>\n",
       "  </thead>\n",
       "  <tbody>\n",
       "    <tr>\n",
       "      <th id=\"T_70f44_level0_row0\" class=\"row_heading level0 row0\" >0</th>\n",
       "      <td id=\"T_70f44_row0_col0\" class=\"data row0 col0\" >1.03e+04 K</td>\n",
       "      <td id=\"T_70f44_row0_col1\" class=\"data row0 col1\" >1.14e+04 K</td>\n",
       "      <td id=\"T_70f44_row0_col2\" class=\"data row0 col2\" >0.468</td>\n",
       "      <td id=\"T_70f44_row0_col3\" class=\"data row0 col3\" >0.527</td>\n",
       "    </tr>\n",
       "    <tr>\n",
       "      <th id=\"T_70f44_level0_row1\" class=\"row_heading level0 row1\" >5</th>\n",
       "      <td id=\"T_70f44_row1_col0\" class=\"data row1 col0\" >1.05e+04 K</td>\n",
       "      <td id=\"T_70f44_row1_col1\" class=\"data row1 col1\" >1.13e+04 K</td>\n",
       "      <td id=\"T_70f44_row1_col2\" class=\"data row1 col2\" >0.181</td>\n",
       "      <td id=\"T_70f44_row1_col3\" class=\"data row1 col3\" >0.225</td>\n",
       "    </tr>\n",
       "    <tr>\n",
       "      <th id=\"T_70f44_level0_row2\" class=\"row_heading level0 row2\" >10</th>\n",
       "      <td id=\"T_70f44_row2_col0\" class=\"data row2 col0\" >1.05e+04 K</td>\n",
       "      <td id=\"T_70f44_row2_col1\" class=\"data row2 col1\" >1.12e+04 K</td>\n",
       "      <td id=\"T_70f44_row2_col2\" class=\"data row2 col2\" >0.108</td>\n",
       "      <td id=\"T_70f44_row2_col3\" class=\"data row2 col3\" >0.126</td>\n",
       "    </tr>\n",
       "    <tr>\n",
       "      <th id=\"T_70f44_level0_row3\" class=\"row_heading level0 row3\" >15</th>\n",
       "      <td id=\"T_70f44_row3_col0\" class=\"data row3 col0\" >1.03e+04 K</td>\n",
       "      <td id=\"T_70f44_row3_col1\" class=\"data row3 col1\" >1.1e+04 K</td>\n",
       "      <td id=\"T_70f44_row3_col2\" class=\"data row3 col2\" >0.0779</td>\n",
       "      <td id=\"T_70f44_row3_col3\" class=\"data row3 col3\" >0.0926</td>\n",
       "    </tr>\n",
       "  </tbody>\n",
       "</table>\n"
      ],
      "text/plain": [
       "<pandas.io.formats.style.Styler at 0x7f5f9cf12d90>"
      ]
     },
     "metadata": {},
     "output_type": "display_data"
    },
    {
     "name": "stdout",
     "output_type": "stream",
     "text": [
      "[\u001b[1mtardis.simulation.base\u001b[0m][\u001b[1;37mINFO\u001b[0m   ]  \n",
      "\t\n",
      "\tCurrent t_inner = 11245.497 K\n",
      "\tExpected t_inner for next iteration = 10153.431 K\n",
      " (\u001b[1mbase.py\u001b[0m:568)\n"
     ]
    },
    {
     "name": "stdout",
     "output_type": "stream",
     "text": [
      "[\u001b[1mtardis.plasma.base  \u001b[0m][\u001b[1;34mDEBUG\u001b[0m  ]  Updating modules in the following order:BetaRadiation->ElectronTemperature->GElectron->LevelBoltzmannFactorLTE->JBluesDiluteBlackBody->LevelBoltzmannFactorNoNLTE->PartitionFunction->PhiSahaLTE->IonNumberDensity->LevelNumberDensity->StimulatedEmissionFactor->TauSobolev->BetaSobolev->TransitionProbabilities (\u001b[1mbase.py\u001b[0m:264)\n"
     ]
    },
    {
     "name": "stdout",
     "output_type": "stream",
     "text": [
      "[\u001b[1mpy.warnings         \u001b[0m][\u001b[1;33mWARNING\u001b[0m]  \n",
      "\t/home/runner/work/tardis/tardis/tardis/plasma/properties/radiative_properties.py:93: RuntimeWarning: invalid value encountered in divide\n",
      "  (g_lower * n_upper) / (g_upper * n_lower)\n",
      " (\u001b[1mwarnings.py\u001b[0m:109)\n"
     ]
    },
    {
     "name": "stdout",
     "output_type": "stream",
     "text": [
      "[\u001b[1mtardis.simulation.base\u001b[0m][\u001b[1;37mINFO\u001b[0m   ]  \n",
      "\t\n",
      "\tSimulation finished in 4 iterations \n",
      "\tSimulation took 0.42 s\n",
      " (\u001b[1mbase.py\u001b[0m:469)\n"
     ]
    },
    {
     "name": "stdout",
     "output_type": "stream",
     "text": [
      "[\u001b[1mtardis.simulation.base\u001b[0m][\u001b[1;37mINFO\u001b[0m   ]  \n",
      "\t\n",
      "\tStarting iteration 5 of 5 (\u001b[1mbase.py\u001b[0m:391)\n"
     ]
    },
    {
     "name": "stdout",
     "output_type": "stream",
     "text": [
      "[\u001b[1mtardis.simulation.base\u001b[0m][\u001b[1;37mINFO\u001b[0m   ]  \n",
      "\t\n",
      "\tLuminosity emitted   = 8.742e+42 erg / s\n",
      "\tLuminosity absorbed  = 2.834e+42 erg / s\n",
      "\tLuminosity requested = 1.059e+43 erg / s\n",
      " (\u001b[1mbase.py\u001b[0m:573)\n"
     ]
    }
   ],
   "source": [
    "sim = run_tardis(\"tardis_config_logger.yml\", log_level=\"Debug\", specific_log_level=False, show_cplots=False)"
   ]
  },
  {
   "cell_type": "markdown",
   "id": "42ddc98b",
   "metadata": {},
   "source": [
    "It can be examined in this example that when we kept `specific_log_level` to `False`, the captured log output includes all log messages from `DEBUG` and higher logging levels, which is the default behavior of the logger."
   ]
  },
  {
   "cell_type": "markdown",
   "id": "f9f478f6",
   "metadata": {},
   "source": [
    "## Logging Configuration (YAML Configuration)"
   ]
  },
  {
   "cell_type": "markdown",
   "id": "0d672a8d",
   "metadata": {},
   "source": [
    "The behavior of the logging output for the simulation can be configured via the `tardis_config_logger.yml` *(**YAML** Configuration)* file. For setting up the logger via the YAML file, the configuration file must include a `debug` section. An example configuration for the `debug` section can be seen below:"
   ]
  },
  {
   "cell_type": "markdown",
   "id": "cd8c3eed",
   "metadata": {},
   "source": [
    "```YAML\n",
    "...\n",
    "debug:\n",
    "  log_level: \"Info\"\n",
    "  specific_log_level : False\n",
    "```"
   ]
  },
  {
   "cell_type": "markdown",
   "id": "85ea7ae2",
   "metadata": {},
   "source": [
    "The `debug` schema includes the `log_level` & `specific_log_level` parameters."
   ]
  },
  {
   "cell_type": "markdown",
   "id": "65204c82",
   "metadata": {},
   "source": [
    "<div class=\"alert alert-info\">\n",
    "\n",
    "Note\n",
    "    \n",
    "The <strong>debug</strong> section of the <strong>YAML</strong> config file is <i>optional</i>. The <strong>log_level</strong> and the <strong>specific</strong> arguments are <i>optional</i> as well. If none of the parameters are defined, then the values of these parameter fall back on the <strong>default values</strong>.\n",
    "</div>"
   ]
  },
  {
   "cell_type": "markdown",
   "id": "62750463",
   "metadata": {},
   "source": [
    "Let us load the `tardis_config_logger.yml` configuration to a variable & check out the schema:"
   ]
  },
  {
   "cell_type": "code",
   "execution_count": 7,
   "id": "d9a5e83b",
   "metadata": {
    "execution": {
     "iopub.execute_input": "2024-02-06T22:03:36.188326Z",
     "iopub.status.busy": "2024-02-06T22:03:36.187876Z",
     "iopub.status.idle": "2024-02-06T22:03:36.190724Z",
     "shell.execute_reply": "2024-02-06T22:03:36.190236Z"
    }
   },
   "outputs": [],
   "source": [
    "from tardis.io.configuration.config_reader import Configuration"
   ]
  },
  {
   "cell_type": "code",
   "execution_count": 8,
   "id": "a1fa5e1b",
   "metadata": {
    "execution": {
     "iopub.execute_input": "2024-02-06T22:03:36.192616Z",
     "iopub.status.busy": "2024-02-06T22:03:36.192447Z",
     "iopub.status.idle": "2024-02-06T22:03:36.262501Z",
     "shell.execute_reply": "2024-02-06T22:03:36.261978Z"
    }
   },
   "outputs": [
    {
     "data": {
      "text/plain": [
       "{'specific_log_level': False, 'log_level': 'Critical'}"
      ]
     },
     "execution_count": 8,
     "metadata": {},
     "output_type": "execute_result"
    }
   ],
   "source": [
    "# Loading the Schema \n",
    "config = Configuration.from_yaml(\"tardis_config_logger.yml\")\n",
    "\n",
    "# Checking the Debug Schema via dictionary\n",
    "config[\"debug\"]"
   ]
  },
  {
   "cell_type": "markdown",
   "id": "7f5f2d9f",
   "metadata": {},
   "source": [
    "### The `log_level` Entry"
   ]
  },
  {
   "cell_type": "markdown",
   "id": "1389e902",
   "metadata": {},
   "source": [
    "The `log_level` parameter, in the `debug` section of the config file, is similar in functionality to the `log_level` functional argument that can be passed via the `run_tardis()` function. The value of this parameter **must be** one of the following: **Notset, Debug, Info, Warning, Error** or **Critical**."
   ]
  },
  {
   "cell_type": "markdown",
   "id": "3bdd9972",
   "metadata": {},
   "source": [
    "Let us see an example of the captured simulation logging output, when the `log_level` parameter is set to `\"Info\"` log level in the `tardis_config_logger.yml` config file."
   ]
  },
  {
   "cell_type": "code",
   "execution_count": 9,
   "id": "88223ed0",
   "metadata": {
    "execution": {
     "iopub.execute_input": "2024-02-06T22:03:36.264719Z",
     "iopub.status.busy": "2024-02-06T22:03:36.264526Z",
     "iopub.status.idle": "2024-02-06T22:03:36.267598Z",
     "shell.execute_reply": "2024-02-06T22:03:36.266937Z"
    }
   },
   "outputs": [],
   "source": [
    "config[\"debug\"][\"log_level\"] = \"Info\""
   ]
  },
  {
   "cell_type": "code",
   "execution_count": 10,
   "id": "ad8eac94",
   "metadata": {
    "execution": {
     "iopub.execute_input": "2024-02-06T22:03:36.271105Z",
     "iopub.status.busy": "2024-02-06T22:03:36.269619Z",
     "iopub.status.idle": "2024-02-06T22:03:37.968643Z",
     "shell.execute_reply": "2024-02-06T22:03:37.968052Z"
    },
    "scrolled": false
   },
   "outputs": [
    {
     "name": "stdout",
     "output_type": "stream",
     "text": [
      "[\u001b[1mtardis.simulation.base\u001b[0m][\u001b[1;37mINFO\u001b[0m   ]  \n",
      "\t\n",
      "\tReading Atomic Data from kurucz_cd23_chianti_H_He.h5 (\u001b[1mbase.py\u001b[0m:674)\n"
     ]
    },
    {
     "name": "stdout",
     "output_type": "stream",
     "text": [
      "[\u001b[1mtardis.io.atom_data.util\u001b[0m][\u001b[1;37mINFO\u001b[0m   ]  \n",
      "\t\n",
      "\tAtom Data kurucz_cd23_chianti_H_He.h5 not found in local path.\n",
      "\tExists in TARDIS Data repo /home/runner/Downloads/tardis-data/kurucz_cd23_chianti_H_He.h5 (\u001b[1mutil.py\u001b[0m:33)\n"
     ]
    },
    {
     "name": "stdout",
     "output_type": "stream",
     "text": [
      "[\u001b[1mtardis.io.atom_data.base\u001b[0m][\u001b[1;37mINFO\u001b[0m   ]  \n",
      "\tReading Atom Data with: UUID = 6f7b09e887a311e7a06b246e96350010 MD5  = 864f1753714343c41f99cb065710cace  (\u001b[1mbase.py\u001b[0m:258)\n"
     ]
    },
    {
     "name": "stdout",
     "output_type": "stream",
     "text": [
      "[\u001b[1mtardis.io.atom_data.base\u001b[0m][\u001b[1;37mINFO\u001b[0m   ]  \n",
      "\tNon provided Atomic Data: synpp_refs, photoionization_data, yg_data, two_photon_data, linelist (\u001b[1mbase.py\u001b[0m:262)\n"
     ]
    },
    {
     "name": "stdout",
     "output_type": "stream",
     "text": [
      "[\u001b[1mtardis.model.parse_input\u001b[0m][\u001b[1;33mWARNING\u001b[0m]  \n",
      "\tNumber of density points larger than number of shells. Assuming inner point irrelevant (\u001b[1mparse_input.py\u001b[0m:143)\n"
     ]
    },
    {
     "name": "stdout",
     "output_type": "stream",
     "text": [
      "[\u001b[1mtardis.model.matter.decay\u001b[0m][\u001b[1;37mINFO\u001b[0m   ]  \n",
      "\tDecaying abundances for 1123200.0 seconds (\u001b[1mdecay.py\u001b[0m:101)\n"
     ]
    },
    {
     "name": "stdout",
     "output_type": "stream",
     "text": [
      "[\u001b[1mtardis.model.matter.decay\u001b[0m][\u001b[1;37mINFO\u001b[0m   ]  \n",
      "\tDecaying abundances for 1123200.0 seconds (\u001b[1mdecay.py\u001b[0m:101)\n"
     ]
    },
    {
     "name": "stdout",
     "output_type": "stream",
     "text": [
      "[\u001b[1mpy.warnings         \u001b[0m][\u001b[1;33mWARNING\u001b[0m]  \n",
      "\t/home/runner/work/tardis/tardis/tardis/plasma/properties/radiative_properties.py:93: RuntimeWarning: invalid value encountered in divide\n",
      "  (g_lower * n_upper) / (g_upper * n_lower)\n",
      " (\u001b[1mwarnings.py\u001b[0m:109)\n"
     ]
    },
    {
     "name": "stdout",
     "output_type": "stream",
     "text": [
      "[\u001b[1mpy.warnings         \u001b[0m][\u001b[1;33mWARNING\u001b[0m]  \n",
      "\t/home/runner/work/tardis/tardis/tardis/plasma/properties/radiative_properties.py:93: RuntimeWarning: invalid value encountered in divide\n",
      "  (g_lower * n_upper) / (g_upper * n_lower)\n",
      " (\u001b[1mwarnings.py\u001b[0m:109)\n"
     ]
    },
    {
     "name": "stdout",
     "output_type": "stream",
     "text": [
      "[\u001b[1mtardis.simulation.base\u001b[0m][\u001b[1;37mINFO\u001b[0m   ]  \n",
      "\t\n",
      "\tStarting iteration 1 of 5 (\u001b[1mbase.py\u001b[0m:391)\n"
     ]
    },
    {
     "data": {
      "application/vnd.jupyter.widget-view+json": {
       "model_id": "241bd62d563b4b15998833591160cc45",
       "version_major": 2,
       "version_minor": 0
      },
      "text/plain": [
       "TqdmHBox(children=(HTML(value='Iterations:', layout=Layout(width='6%')), FloatProgress(value=0.0, layout=Layou…"
      ]
     },
     "metadata": {},
     "output_type": "display_data"
    },
    {
     "data": {
      "application/vnd.jupyter.widget-view+json": {
       "model_id": "26caba1d42074f52812d437a0568e528",
       "version_major": 2,
       "version_minor": 0
      },
      "text/plain": [
       "TqdmHBox(children=(HTML(value='Packets:   ', layout=Layout(width='6%')), FloatProgress(value=0.0, layout=Layou…"
      ]
     },
     "metadata": {},
     "output_type": "display_data"
    },
    {
     "name": "stdout",
     "output_type": "stream",
     "text": [
      "[\u001b[1mtardis.simulation.base\u001b[0m][\u001b[1;37mINFO\u001b[0m   ]  \n",
      "\t\n",
      "\tLuminosity emitted   = 7.947e+42 erg / s\n",
      "\tLuminosity absorbed  = 2.654e+42 erg / s\n",
      "\tLuminosity requested = 1.059e+43 erg / s\n",
      " (\u001b[1mbase.py\u001b[0m:573)\n"
     ]
    },
    {
     "name": "stdout",
     "output_type": "stream",
     "text": [
      "[\u001b[1mtardis.simulation.base\u001b[0m][\u001b[1;37mINFO\u001b[0m   ]  \n",
      "\t\n",
      "\tPlasma stratification: (\u001b[1mbase.py\u001b[0m:541)\n"
     ]
    },
    {
     "data": {
      "text/html": [
       "<style type=\"text/css\">\n",
       "</style>\n",
       "<table id=\"T_855dd\">\n",
       "  <thead>\n",
       "    <tr>\n",
       "      <th class=\"index_name level0\" >Shell No.</th>\n",
       "      <th id=\"T_855dd_level0_col0\" class=\"col_heading level0 col0\" >t_rad</th>\n",
       "      <th id=\"T_855dd_level0_col1\" class=\"col_heading level0 col1\" >next_t_rad</th>\n",
       "      <th id=\"T_855dd_level0_col2\" class=\"col_heading level0 col2\" >w</th>\n",
       "      <th id=\"T_855dd_level0_col3\" class=\"col_heading level0 col3\" >next_w</th>\n",
       "    </tr>\n",
       "  </thead>\n",
       "  <tbody>\n",
       "    <tr>\n",
       "      <th id=\"T_855dd_level0_row0\" class=\"row_heading level0 row0\" >0</th>\n",
       "      <td id=\"T_855dd_row0_col0\" class=\"data row0 col0\" >9.93e+03 K</td>\n",
       "      <td id=\"T_855dd_row0_col1\" class=\"data row0 col1\" >1.03e+04 K</td>\n",
       "      <td id=\"T_855dd_row0_col2\" class=\"data row0 col2\" >0.4</td>\n",
       "      <td id=\"T_855dd_row0_col3\" class=\"data row0 col3\" >0.481</td>\n",
       "    </tr>\n",
       "    <tr>\n",
       "      <th id=\"T_855dd_level0_row1\" class=\"row_heading level0 row1\" >5</th>\n",
       "      <td id=\"T_855dd_row1_col0\" class=\"data row1 col0\" >9.85e+03 K</td>\n",
       "      <td id=\"T_855dd_row1_col1\" class=\"data row1 col1\" >1.03e+04 K</td>\n",
       "      <td id=\"T_855dd_row1_col2\" class=\"data row1 col2\" >0.211</td>\n",
       "      <td id=\"T_855dd_row1_col3\" class=\"data row1 col3\" >0.193</td>\n",
       "    </tr>\n",
       "    <tr>\n",
       "      <th id=\"T_855dd_level0_row2\" class=\"row_heading level0 row2\" >10</th>\n",
       "      <td id=\"T_855dd_row2_col0\" class=\"data row2 col0\" >9.78e+03 K</td>\n",
       "      <td id=\"T_855dd_row2_col1\" class=\"data row2 col1\" >1.02e+04 K</td>\n",
       "      <td id=\"T_855dd_row2_col2\" class=\"data row2 col2\" >0.143</td>\n",
       "      <td id=\"T_855dd_row2_col3\" class=\"data row2 col3\" >0.112</td>\n",
       "    </tr>\n",
       "    <tr>\n",
       "      <th id=\"T_855dd_level0_row3\" class=\"row_heading level0 row3\" >15</th>\n",
       "      <td id=\"T_855dd_row3_col0\" class=\"data row3 col0\" >9.71e+03 K</td>\n",
       "      <td id=\"T_855dd_row3_col1\" class=\"data row3 col1\" >9.98e+03 K</td>\n",
       "      <td id=\"T_855dd_row3_col2\" class=\"data row3 col2\" >0.105</td>\n",
       "      <td id=\"T_855dd_row3_col3\" class=\"data row3 col3\" >0.0826</td>\n",
       "    </tr>\n",
       "  </tbody>\n",
       "</table>\n"
      ],
      "text/plain": [
       "<pandas.io.formats.style.Styler at 0x7f5f9c28cc90>"
      ]
     },
     "metadata": {},
     "output_type": "display_data"
    },
    {
     "name": "stdout",
     "output_type": "stream",
     "text": [
      "[\u001b[1mtardis.simulation.base\u001b[0m][\u001b[1;37mINFO\u001b[0m   ]  \n",
      "\t\n",
      "\tCurrent t_inner = 9933.952 K\n",
      "\tExpected t_inner for next iteration = 11468.808 K\n",
      " (\u001b[1mbase.py\u001b[0m:568)\n"
     ]
    },
    {
     "name": "stdout",
     "output_type": "stream",
     "text": [
      "[\u001b[1mpy.warnings         \u001b[0m][\u001b[1;33mWARNING\u001b[0m]  \n",
      "\t/home/runner/work/tardis/tardis/tardis/plasma/properties/radiative_properties.py:93: RuntimeWarning: invalid value encountered in divide\n",
      "  (g_lower * n_upper) / (g_upper * n_lower)\n",
      " (\u001b[1mwarnings.py\u001b[0m:109)\n"
     ]
    },
    {
     "name": "stdout",
     "output_type": "stream",
     "text": [
      "[\u001b[1mtardis.simulation.base\u001b[0m][\u001b[1;37mINFO\u001b[0m   ]  \n",
      "\t\n",
      "\tStarting iteration 2 of 5 (\u001b[1mbase.py\u001b[0m:391)\n"
     ]
    },
    {
     "name": "stdout",
     "output_type": "stream",
     "text": [
      "[\u001b[1mtardis.simulation.base\u001b[0m][\u001b[1;37mINFO\u001b[0m   ]  \n",
      "\t\n",
      "\tLuminosity emitted   = 1.413e+43 erg / s\n",
      "\tLuminosity absorbed  = 4.704e+42 erg / s\n",
      "\tLuminosity requested = 1.059e+43 erg / s\n",
      " (\u001b[1mbase.py\u001b[0m:573)\n"
     ]
    },
    {
     "name": "stdout",
     "output_type": "stream",
     "text": [
      "[\u001b[1mtardis.simulation.base\u001b[0m][\u001b[1;37mINFO\u001b[0m   ]  \n",
      "\t\n",
      "\tPlasma stratification: (\u001b[1mbase.py\u001b[0m:541)\n"
     ]
    },
    {
     "data": {
      "text/html": [
       "<style type=\"text/css\">\n",
       "</style>\n",
       "<table id=\"T_041ae\">\n",
       "  <thead>\n",
       "    <tr>\n",
       "      <th class=\"index_name level0\" >Shell No.</th>\n",
       "      <th id=\"T_041ae_level0_col0\" class=\"col_heading level0 col0\" >t_rad</th>\n",
       "      <th id=\"T_041ae_level0_col1\" class=\"col_heading level0 col1\" >next_t_rad</th>\n",
       "      <th id=\"T_041ae_level0_col2\" class=\"col_heading level0 col2\" >w</th>\n",
       "      <th id=\"T_041ae_level0_col3\" class=\"col_heading level0 col3\" >next_w</th>\n",
       "    </tr>\n",
       "  </thead>\n",
       "  <tbody>\n",
       "    <tr>\n",
       "      <th id=\"T_041ae_level0_row0\" class=\"row_heading level0 row0\" >0</th>\n",
       "      <td id=\"T_041ae_row0_col0\" class=\"data row0 col0\" >1.03e+04 K</td>\n",
       "      <td id=\"T_041ae_row0_col1\" class=\"data row0 col1\" >1.15e+04 K</td>\n",
       "      <td id=\"T_041ae_row0_col2\" class=\"data row0 col2\" >0.481</td>\n",
       "      <td id=\"T_041ae_row0_col3\" class=\"data row0 col3\" >0.555</td>\n",
       "    </tr>\n",
       "    <tr>\n",
       "      <th id=\"T_041ae_level0_row1\" class=\"row_heading level0 row1\" >5</th>\n",
       "      <td id=\"T_041ae_row1_col0\" class=\"data row1 col0\" >1.03e+04 K</td>\n",
       "      <td id=\"T_041ae_row1_col1\" class=\"data row1 col1\" >1.17e+04 K</td>\n",
       "      <td id=\"T_041ae_row1_col2\" class=\"data row1 col2\" >0.193</td>\n",
       "      <td id=\"T_041ae_row1_col3\" class=\"data row1 col3\" >0.203</td>\n",
       "    </tr>\n",
       "    <tr>\n",
       "      <th id=\"T_041ae_level0_row2\" class=\"row_heading level0 row2\" >10</th>\n",
       "      <td id=\"T_041ae_row2_col0\" class=\"data row2 col0\" >1.02e+04 K</td>\n",
       "      <td id=\"T_041ae_row2_col1\" class=\"data row2 col1\" >1.13e+04 K</td>\n",
       "      <td id=\"T_041ae_row2_col2\" class=\"data row2 col2\" >0.112</td>\n",
       "      <td id=\"T_041ae_row2_col3\" class=\"data row2 col3\" >0.135</td>\n",
       "    </tr>\n",
       "    <tr>\n",
       "      <th id=\"T_041ae_level0_row3\" class=\"row_heading level0 row3\" >15</th>\n",
       "      <td id=\"T_041ae_row3_col0\" class=\"data row3 col0\" >9.98e+03 K</td>\n",
       "      <td id=\"T_041ae_row3_col1\" class=\"data row3 col1\" >1.1e+04 K</td>\n",
       "      <td id=\"T_041ae_row3_col2\" class=\"data row3 col2\" >0.0826</td>\n",
       "      <td id=\"T_041ae_row3_col3\" class=\"data row3 col3\" >0.0998</td>\n",
       "    </tr>\n",
       "  </tbody>\n",
       "</table>\n"
      ],
      "text/plain": [
       "<pandas.io.formats.style.Styler at 0x7f5f9ce3fe90>"
      ]
     },
     "metadata": {},
     "output_type": "display_data"
    },
    {
     "name": "stdout",
     "output_type": "stream",
     "text": [
      "[\u001b[1mtardis.simulation.base\u001b[0m][\u001b[1;37mINFO\u001b[0m   ]  \n",
      "\t\n",
      "\tCurrent t_inner = 11468.808 K\n",
      "\tExpected t_inner for next iteration = 9929.475 K\n",
      " (\u001b[1mbase.py\u001b[0m:568)\n"
     ]
    },
    {
     "name": "stdout",
     "output_type": "stream",
     "text": [
      "[\u001b[1mpy.warnings         \u001b[0m][\u001b[1;33mWARNING\u001b[0m]  \n",
      "\t/home/runner/work/tardis/tardis/tardis/plasma/properties/radiative_properties.py:93: RuntimeWarning: invalid value encountered in divide\n",
      "  (g_lower * n_upper) / (g_upper * n_lower)\n",
      " (\u001b[1mwarnings.py\u001b[0m:109)\n"
     ]
    },
    {
     "name": "stdout",
     "output_type": "stream",
     "text": [
      "[\u001b[1mtardis.simulation.base\u001b[0m][\u001b[1;37mINFO\u001b[0m   ]  \n",
      "\t\n",
      "\tStarting iteration 3 of 5 (\u001b[1mbase.py\u001b[0m:391)\n"
     ]
    },
    {
     "name": "stdout",
     "output_type": "stream",
     "text": [
      "[\u001b[1mtardis.simulation.base\u001b[0m][\u001b[1;37mINFO\u001b[0m   ]  \n",
      "\t\n",
      "\tLuminosity emitted   = 8.259e+42 erg / s\n",
      "\tLuminosity absorbed  = 2.337e+42 erg / s\n",
      "\tLuminosity requested = 1.059e+43 erg / s\n",
      " (\u001b[1mbase.py\u001b[0m:573)\n"
     ]
    },
    {
     "name": "stdout",
     "output_type": "stream",
     "text": [
      "[\u001b[1mtardis.simulation.base\u001b[0m][\u001b[1;37mINFO\u001b[0m   ]  \n",
      "\t\n",
      "\tPlasma stratification: (\u001b[1mbase.py\u001b[0m:541)\n"
     ]
    },
    {
     "data": {
      "text/html": [
       "<style type=\"text/css\">\n",
       "</style>\n",
       "<table id=\"T_7f3b8\">\n",
       "  <thead>\n",
       "    <tr>\n",
       "      <th class=\"index_name level0\" >Shell No.</th>\n",
       "      <th id=\"T_7f3b8_level0_col0\" class=\"col_heading level0 col0\" >t_rad</th>\n",
       "      <th id=\"T_7f3b8_level0_col1\" class=\"col_heading level0 col1\" >next_t_rad</th>\n",
       "      <th id=\"T_7f3b8_level0_col2\" class=\"col_heading level0 col2\" >w</th>\n",
       "      <th id=\"T_7f3b8_level0_col3\" class=\"col_heading level0 col3\" >next_w</th>\n",
       "    </tr>\n",
       "  </thead>\n",
       "  <tbody>\n",
       "    <tr>\n",
       "      <th id=\"T_7f3b8_level0_row0\" class=\"row_heading level0 row0\" >0</th>\n",
       "      <td id=\"T_7f3b8_row0_col0\" class=\"data row0 col0\" >1.15e+04 K</td>\n",
       "      <td id=\"T_7f3b8_row0_col1\" class=\"data row0 col1\" >1.03e+04 K</td>\n",
       "      <td id=\"T_7f3b8_row0_col2\" class=\"data row0 col2\" >0.555</td>\n",
       "      <td id=\"T_7f3b8_row0_col3\" class=\"data row0 col3\" >0.468</td>\n",
       "    </tr>\n",
       "    <tr>\n",
       "      <th id=\"T_7f3b8_level0_row1\" class=\"row_heading level0 row1\" >5</th>\n",
       "      <td id=\"T_7f3b8_row1_col0\" class=\"data row1 col0\" >1.17e+04 K</td>\n",
       "      <td id=\"T_7f3b8_row1_col1\" class=\"data row1 col1\" >1.05e+04 K</td>\n",
       "      <td id=\"T_7f3b8_row1_col2\" class=\"data row1 col2\" >0.203</td>\n",
       "      <td id=\"T_7f3b8_row1_col3\" class=\"data row1 col3\" >0.181</td>\n",
       "    </tr>\n",
       "    <tr>\n",
       "      <th id=\"T_7f3b8_level0_row2\" class=\"row_heading level0 row2\" >10</th>\n",
       "      <td id=\"T_7f3b8_row2_col0\" class=\"data row2 col0\" >1.13e+04 K</td>\n",
       "      <td id=\"T_7f3b8_row2_col1\" class=\"data row2 col1\" >1.05e+04 K</td>\n",
       "      <td id=\"T_7f3b8_row2_col2\" class=\"data row2 col2\" >0.135</td>\n",
       "      <td id=\"T_7f3b8_row2_col3\" class=\"data row2 col3\" >0.108</td>\n",
       "    </tr>\n",
       "    <tr>\n",
       "      <th id=\"T_7f3b8_level0_row3\" class=\"row_heading level0 row3\" >15</th>\n",
       "      <td id=\"T_7f3b8_row3_col0\" class=\"data row3 col0\" >1.1e+04 K</td>\n",
       "      <td id=\"T_7f3b8_row3_col1\" class=\"data row3 col1\" >1.03e+04 K</td>\n",
       "      <td id=\"T_7f3b8_row3_col2\" class=\"data row3 col2\" >0.0998</td>\n",
       "      <td id=\"T_7f3b8_row3_col3\" class=\"data row3 col3\" >0.0779</td>\n",
       "    </tr>\n",
       "  </tbody>\n",
       "</table>\n"
      ],
      "text/plain": [
       "<pandas.io.formats.style.Styler at 0x7f5f9c8ac790>"
      ]
     },
     "metadata": {},
     "output_type": "display_data"
    },
    {
     "name": "stdout",
     "output_type": "stream",
     "text": [
      "[\u001b[1mtardis.simulation.base\u001b[0m][\u001b[1;37mINFO\u001b[0m   ]  \n",
      "\t\n",
      "\tCurrent t_inner = 9929.475 K\n",
      "\tExpected t_inner for next iteration = 11245.497 K\n",
      " (\u001b[1mbase.py\u001b[0m:568)\n"
     ]
    },
    {
     "name": "stdout",
     "output_type": "stream",
     "text": [
      "[\u001b[1mpy.warnings         \u001b[0m][\u001b[1;33mWARNING\u001b[0m]  \n",
      "\t/home/runner/work/tardis/tardis/tardis/plasma/properties/radiative_properties.py:93: RuntimeWarning: invalid value encountered in divide\n",
      "  (g_lower * n_upper) / (g_upper * n_lower)\n",
      " (\u001b[1mwarnings.py\u001b[0m:109)\n"
     ]
    },
    {
     "name": "stdout",
     "output_type": "stream",
     "text": [
      "[\u001b[1mtardis.simulation.base\u001b[0m][\u001b[1;37mINFO\u001b[0m   ]  \n",
      "\t\n",
      "\tStarting iteration 4 of 5 (\u001b[1mbase.py\u001b[0m:391)\n"
     ]
    },
    {
     "name": "stdout",
     "output_type": "stream",
     "text": [
      "[\u001b[1mtardis.simulation.base\u001b[0m][\u001b[1;37mINFO\u001b[0m   ]  \n",
      "\t\n",
      "\tLuminosity emitted   = 1.299e+43 erg / s\n",
      "\tLuminosity absorbed  = 4.407e+42 erg / s\n",
      "\tLuminosity requested = 1.059e+43 erg / s\n",
      " (\u001b[1mbase.py\u001b[0m:573)\n"
     ]
    },
    {
     "name": "stdout",
     "output_type": "stream",
     "text": [
      "[\u001b[1mtardis.simulation.base\u001b[0m][\u001b[1;37mINFO\u001b[0m   ]  \n",
      "\t\n",
      "\tPlasma stratification: (\u001b[1mbase.py\u001b[0m:541)\n"
     ]
    },
    {
     "data": {
      "text/html": [
       "<style type=\"text/css\">\n",
       "</style>\n",
       "<table id=\"T_4d43e\">\n",
       "  <thead>\n",
       "    <tr>\n",
       "      <th class=\"index_name level0\" >Shell No.</th>\n",
       "      <th id=\"T_4d43e_level0_col0\" class=\"col_heading level0 col0\" >t_rad</th>\n",
       "      <th id=\"T_4d43e_level0_col1\" class=\"col_heading level0 col1\" >next_t_rad</th>\n",
       "      <th id=\"T_4d43e_level0_col2\" class=\"col_heading level0 col2\" >w</th>\n",
       "      <th id=\"T_4d43e_level0_col3\" class=\"col_heading level0 col3\" >next_w</th>\n",
       "    </tr>\n",
       "  </thead>\n",
       "  <tbody>\n",
       "    <tr>\n",
       "      <th id=\"T_4d43e_level0_row0\" class=\"row_heading level0 row0\" >0</th>\n",
       "      <td id=\"T_4d43e_row0_col0\" class=\"data row0 col0\" >1.03e+04 K</td>\n",
       "      <td id=\"T_4d43e_row0_col1\" class=\"data row0 col1\" >1.14e+04 K</td>\n",
       "      <td id=\"T_4d43e_row0_col2\" class=\"data row0 col2\" >0.468</td>\n",
       "      <td id=\"T_4d43e_row0_col3\" class=\"data row0 col3\" >0.527</td>\n",
       "    </tr>\n",
       "    <tr>\n",
       "      <th id=\"T_4d43e_level0_row1\" class=\"row_heading level0 row1\" >5</th>\n",
       "      <td id=\"T_4d43e_row1_col0\" class=\"data row1 col0\" >1.05e+04 K</td>\n",
       "      <td id=\"T_4d43e_row1_col1\" class=\"data row1 col1\" >1.13e+04 K</td>\n",
       "      <td id=\"T_4d43e_row1_col2\" class=\"data row1 col2\" >0.181</td>\n",
       "      <td id=\"T_4d43e_row1_col3\" class=\"data row1 col3\" >0.225</td>\n",
       "    </tr>\n",
       "    <tr>\n",
       "      <th id=\"T_4d43e_level0_row2\" class=\"row_heading level0 row2\" >10</th>\n",
       "      <td id=\"T_4d43e_row2_col0\" class=\"data row2 col0\" >1.05e+04 K</td>\n",
       "      <td id=\"T_4d43e_row2_col1\" class=\"data row2 col1\" >1.12e+04 K</td>\n",
       "      <td id=\"T_4d43e_row2_col2\" class=\"data row2 col2\" >0.108</td>\n",
       "      <td id=\"T_4d43e_row2_col3\" class=\"data row2 col3\" >0.126</td>\n",
       "    </tr>\n",
       "    <tr>\n",
       "      <th id=\"T_4d43e_level0_row3\" class=\"row_heading level0 row3\" >15</th>\n",
       "      <td id=\"T_4d43e_row3_col0\" class=\"data row3 col0\" >1.03e+04 K</td>\n",
       "      <td id=\"T_4d43e_row3_col1\" class=\"data row3 col1\" >1.1e+04 K</td>\n",
       "      <td id=\"T_4d43e_row3_col2\" class=\"data row3 col2\" >0.0779</td>\n",
       "      <td id=\"T_4d43e_row3_col3\" class=\"data row3 col3\" >0.0926</td>\n",
       "    </tr>\n",
       "  </tbody>\n",
       "</table>\n"
      ],
      "text/plain": [
       "<pandas.io.formats.style.Styler at 0x7f5f9c2a95d0>"
      ]
     },
     "metadata": {},
     "output_type": "display_data"
    },
    {
     "name": "stdout",
     "output_type": "stream",
     "text": [
      "[\u001b[1mtardis.simulation.base\u001b[0m][\u001b[1;37mINFO\u001b[0m   ]  \n",
      "\t\n",
      "\tCurrent t_inner = 11245.497 K\n",
      "\tExpected t_inner for next iteration = 10153.431 K\n",
      " (\u001b[1mbase.py\u001b[0m:568)\n"
     ]
    },
    {
     "name": "stdout",
     "output_type": "stream",
     "text": [
      "[\u001b[1mpy.warnings         \u001b[0m][\u001b[1;33mWARNING\u001b[0m]  \n",
      "\t/home/runner/work/tardis/tardis/tardis/plasma/properties/radiative_properties.py:93: RuntimeWarning: invalid value encountered in divide\n",
      "  (g_lower * n_upper) / (g_upper * n_lower)\n",
      " (\u001b[1mwarnings.py\u001b[0m:109)\n"
     ]
    },
    {
     "name": "stdout",
     "output_type": "stream",
     "text": [
      "[\u001b[1mtardis.simulation.base\u001b[0m][\u001b[1;37mINFO\u001b[0m   ]  \n",
      "\t\n",
      "\tSimulation finished in 4 iterations \n",
      "\tSimulation took 0.38 s\n",
      " (\u001b[1mbase.py\u001b[0m:469)\n"
     ]
    },
    {
     "name": "stdout",
     "output_type": "stream",
     "text": [
      "[\u001b[1mtardis.simulation.base\u001b[0m][\u001b[1;37mINFO\u001b[0m   ]  \n",
      "\t\n",
      "\tStarting iteration 5 of 5 (\u001b[1mbase.py\u001b[0m:391)\n"
     ]
    },
    {
     "name": "stdout",
     "output_type": "stream",
     "text": [
      "[\u001b[1mtardis.simulation.base\u001b[0m][\u001b[1;37mINFO\u001b[0m   ]  \n",
      "\t\n",
      "\tLuminosity emitted   = 8.742e+42 erg / s\n",
      "\tLuminosity absorbed  = 2.834e+42 erg / s\n",
      "\tLuminosity requested = 1.059e+43 erg / s\n",
      " (\u001b[1mbase.py\u001b[0m:573)\n"
     ]
    }
   ],
   "source": [
    "# Running the simulation by passing the config dictionary to `run_tardis()` function\n",
    "sim = run_tardis(config, show_cplots=False)"
   ]
  },
  {
   "cell_type": "markdown",
   "id": "3fadc651",
   "metadata": {},
   "source": [
    "### The `specific` Entry"
   ]
  },
  {
   "cell_type": "markdown",
   "id": "df50d2e1",
   "metadata": {},
   "source": [
    "The `specific_log_level` parameter in the `debug` section of the schema is similar in functionality to the `specific_log_level` functional argument. It takes **Boolean** values, i.e., `True` or `False`. It is an optional parameter. "
   ]
  },
  {
   "cell_type": "markdown",
   "id": "b71946ad",
   "metadata": {},
   "source": [
    "Let us see an example when we set `specific_log_level` to `True` at the `Debug` level."
   ]
  },
  {
   "cell_type": "code",
   "execution_count": 11,
   "id": "64ce1048",
   "metadata": {
    "execution": {
     "iopub.execute_input": "2024-02-06T22:03:37.971214Z",
     "iopub.status.busy": "2024-02-06T22:03:37.970733Z",
     "iopub.status.idle": "2024-02-06T22:03:37.973985Z",
     "shell.execute_reply": "2024-02-06T22:03:37.973454Z"
    }
   },
   "outputs": [],
   "source": [
    "config[\"debug\"][\"log_level\"] = \"Debug\"\n",
    "config[\"debug\"][\"specific_log_level\"] = True"
   ]
  },
  {
   "cell_type": "code",
   "execution_count": 12,
   "id": "33696bdd",
   "metadata": {
    "execution": {
     "iopub.execute_input": "2024-02-06T22:03:37.976041Z",
     "iopub.status.busy": "2024-02-06T22:03:37.975667Z",
     "iopub.status.idle": "2024-02-06T22:03:39.729368Z",
     "shell.execute_reply": "2024-02-06T22:03:39.728740Z"
    }
   },
   "outputs": [
    {
     "name": "stdout",
     "output_type": "stream",
     "text": [
      "[\u001b[1mtardis.io.atom_data.base\u001b[0m][\u001b[1;34mDEBUG\u001b[0m  ]  Dataframe does not contain synpp_refs column (\u001b[1mbase.py\u001b[0m:181)\n"
     ]
    },
    {
     "name": "stdout",
     "output_type": "stream",
     "text": [
      "[\u001b[1mtardis.io.atom_data.base\u001b[0m][\u001b[1;34mDEBUG\u001b[0m  ]  Dataframe does not contain photoionization_data column (\u001b[1mbase.py\u001b[0m:181)\n"
     ]
    },
    {
     "name": "stdout",
     "output_type": "stream",
     "text": [
      "[\u001b[1mtardis.io.atom_data.base\u001b[0m][\u001b[1;34mDEBUG\u001b[0m  ]  Dataframe does not contain yg_data column (\u001b[1mbase.py\u001b[0m:181)\n"
     ]
    },
    {
     "name": "stdout",
     "output_type": "stream",
     "text": [
      "[\u001b[1mtardis.io.atom_data.base\u001b[0m][\u001b[1;34mDEBUG\u001b[0m  ]  Dataframe does not contain two_photon_data column (\u001b[1mbase.py\u001b[0m:181)\n"
     ]
    },
    {
     "name": "stdout",
     "output_type": "stream",
     "text": [
      "[\u001b[1mtardis.io.atom_data.base\u001b[0m][\u001b[1;34mDEBUG\u001b[0m  ]  Dataframe does not contain linelist column (\u001b[1mbase.py\u001b[0m:181)\n"
     ]
    },
    {
     "name": "stdout",
     "output_type": "stream",
     "text": [
      "[\u001b[1mtardis.plasma.base  \u001b[0m][\u001b[1;34mDEBUG\u001b[0m  ]  Updating modules in the following order:BetaRadiation->SelectedAtoms->ElectronTemperature->GElectron->Levels->Lines->AtomicMass->IonizationData->MacroAtomData->LevelBoltzmannFactorLTE->LinesLowerLevelIndex->LinesUpperLevelIndex->JBluesDiluteBlackBody->NumberDensity->LevelBoltzmannFactorNoNLTE->PartitionFunction->PhiSahaLTE->IonNumberDensity->LevelNumberDensity->StimulatedEmissionFactor->TauSobolev->BetaSobolev->TransitionProbabilities (\u001b[1mbase.py\u001b[0m:264)\n"
     ]
    },
    {
     "name": "stdout",
     "output_type": "stream",
     "text": [
      "[\u001b[1mpy.warnings         \u001b[0m][\u001b[1;33mWARNING\u001b[0m]  \n",
      "\t/home/runner/work/tardis/tardis/tardis/plasma/properties/radiative_properties.py:93: RuntimeWarning: invalid value encountered in divide\n",
      "  (g_lower * n_upper) / (g_upper * n_lower)\n",
      " (\u001b[1mwarnings.py\u001b[0m:109)\n"
     ]
    },
    {
     "name": "stdout",
     "output_type": "stream",
     "text": [
      "[\u001b[1mtardis.plasma.base  \u001b[0m][\u001b[1;34mDEBUG\u001b[0m  ]  Updating modules in the following order:BetaRadiation->SelectedAtoms->ElectronTemperature->GElectron->Levels->Lines->AtomicMass->IonizationData->MacroAtomData->LevelBoltzmannFactorLTE->LinesLowerLevelIndex->LinesUpperLevelIndex->JBluesDiluteBlackBody->NumberDensity->LevelBoltzmannFactorNoNLTE->PartitionFunction->PhiSahaLTE->IonNumberDensity->LevelNumberDensity->StimulatedEmissionFactor->TauSobolev->BetaSobolev->TransitionProbabilities (\u001b[1mbase.py\u001b[0m:264)\n"
     ]
    },
    {
     "name": "stdout",
     "output_type": "stream",
     "text": [
      "[\u001b[1mpy.warnings         \u001b[0m][\u001b[1;33mWARNING\u001b[0m]  \n",
      "\t/home/runner/work/tardis/tardis/tardis/plasma/properties/radiative_properties.py:93: RuntimeWarning: invalid value encountered in divide\n",
      "  (g_lower * n_upper) / (g_upper * n_lower)\n",
      " (\u001b[1mwarnings.py\u001b[0m:109)\n"
     ]
    },
    {
     "name": "stdout",
     "output_type": "stream",
     "text": [
      "[\u001b[1mtardis.montecarlo.base\u001b[0m][\u001b[1;34mDEBUG\u001b[0m  ]  Electron scattering switched on (\u001b[1mbase.py\u001b[0m:274)\n"
     ]
    },
    {
     "data": {
      "application/vnd.jupyter.widget-view+json": {
       "model_id": "38b6e92c80e64851b5317638e7f8c400",
       "version_major": 2,
       "version_minor": 0
      },
      "text/plain": [
       "TqdmHBox(children=(HTML(value='Iterations:', layout=Layout(width='6%')), FloatProgress(value=0.0, layout=Layou…"
      ]
     },
     "metadata": {},
     "output_type": "display_data"
    },
    {
     "data": {
      "application/vnd.jupyter.widget-view+json": {
       "model_id": "ef45d8b9184e418c923d9531c00cdfbb",
       "version_major": 2,
       "version_minor": 0
      },
      "text/plain": [
       "TqdmHBox(children=(HTML(value='Packets:   ', layout=Layout(width='6%')), FloatProgress(value=0.0, layout=Layou…"
      ]
     },
     "metadata": {},
     "output_type": "display_data"
    },
    {
     "name": "stdout",
     "output_type": "stream",
     "text": [
      "[\u001b[1mtardis.plasma.base  \u001b[0m][\u001b[1;34mDEBUG\u001b[0m  ]  Updating modules in the following order:BetaRadiation->ElectronTemperature->GElectron->LevelBoltzmannFactorLTE->JBluesDiluteBlackBody->LevelBoltzmannFactorNoNLTE->PartitionFunction->PhiSahaLTE->IonNumberDensity->LevelNumberDensity->StimulatedEmissionFactor->TauSobolev->BetaSobolev->TransitionProbabilities (\u001b[1mbase.py\u001b[0m:264)\n"
     ]
    },
    {
     "name": "stdout",
     "output_type": "stream",
     "text": [
      "[\u001b[1mpy.warnings         \u001b[0m][\u001b[1;33mWARNING\u001b[0m]  \n",
      "\t/home/runner/work/tardis/tardis/tardis/plasma/properties/radiative_properties.py:93: RuntimeWarning: invalid value encountered in divide\n",
      "  (g_lower * n_upper) / (g_upper * n_lower)\n",
      " (\u001b[1mwarnings.py\u001b[0m:109)\n"
     ]
    },
    {
     "name": "stdout",
     "output_type": "stream",
     "text": [
      "[\u001b[1mtardis.plasma.base  \u001b[0m][\u001b[1;34mDEBUG\u001b[0m  ]  Updating modules in the following order:BetaRadiation->ElectronTemperature->GElectron->LevelBoltzmannFactorLTE->JBluesDiluteBlackBody->LevelBoltzmannFactorNoNLTE->PartitionFunction->PhiSahaLTE->IonNumberDensity->LevelNumberDensity->StimulatedEmissionFactor->TauSobolev->BetaSobolev->TransitionProbabilities (\u001b[1mbase.py\u001b[0m:264)\n"
     ]
    },
    {
     "name": "stdout",
     "output_type": "stream",
     "text": [
      "[\u001b[1mpy.warnings         \u001b[0m][\u001b[1;33mWARNING\u001b[0m]  \n",
      "\t/home/runner/work/tardis/tardis/tardis/plasma/properties/radiative_properties.py:93: RuntimeWarning: invalid value encountered in divide\n",
      "  (g_lower * n_upper) / (g_upper * n_lower)\n",
      " (\u001b[1mwarnings.py\u001b[0m:109)\n"
     ]
    },
    {
     "name": "stdout",
     "output_type": "stream",
     "text": [
      "[\u001b[1mtardis.plasma.base  \u001b[0m][\u001b[1;34mDEBUG\u001b[0m  ]  Updating modules in the following order:BetaRadiation->ElectronTemperature->GElectron->LevelBoltzmannFactorLTE->JBluesDiluteBlackBody->LevelBoltzmannFactorNoNLTE->PartitionFunction->PhiSahaLTE->IonNumberDensity->LevelNumberDensity->StimulatedEmissionFactor->TauSobolev->BetaSobolev->TransitionProbabilities (\u001b[1mbase.py\u001b[0m:264)\n"
     ]
    },
    {
     "name": "stdout",
     "output_type": "stream",
     "text": [
      "[\u001b[1mpy.warnings         \u001b[0m][\u001b[1;33mWARNING\u001b[0m]  \n",
      "\t/home/runner/work/tardis/tardis/tardis/plasma/properties/radiative_properties.py:93: RuntimeWarning: invalid value encountered in divide\n",
      "  (g_lower * n_upper) / (g_upper * n_lower)\n",
      " (\u001b[1mwarnings.py\u001b[0m:109)\n"
     ]
    },
    {
     "name": "stdout",
     "output_type": "stream",
     "text": [
      "[\u001b[1mtardis.plasma.base  \u001b[0m][\u001b[1;34mDEBUG\u001b[0m  ]  Updating modules in the following order:BetaRadiation->ElectronTemperature->GElectron->LevelBoltzmannFactorLTE->JBluesDiluteBlackBody->LevelBoltzmannFactorNoNLTE->PartitionFunction->PhiSahaLTE->IonNumberDensity->LevelNumberDensity->StimulatedEmissionFactor->TauSobolev->BetaSobolev->TransitionProbabilities (\u001b[1mbase.py\u001b[0m:264)\n"
     ]
    },
    {
     "name": "stdout",
     "output_type": "stream",
     "text": [
      "[\u001b[1mpy.warnings         \u001b[0m][\u001b[1;33mWARNING\u001b[0m]  \n",
      "\t/home/runner/work/tardis/tardis/tardis/plasma/properties/radiative_properties.py:93: RuntimeWarning: invalid value encountered in divide\n",
      "  (g_lower * n_upper) / (g_upper * n_lower)\n",
      " (\u001b[1mwarnings.py\u001b[0m:109)\n"
     ]
    }
   ],
   "source": [
    "sim = run_tardis(config, show_cplots=False)"
   ]
  },
  {
   "cell_type": "markdown",
   "id": "3e895aec",
   "metadata": {},
   "source": [
    "Setting `specific_log_level` to `False` to check the actual output at the `DEBUG` level for the simulation logs."
   ]
  },
  {
   "cell_type": "code",
   "execution_count": 13,
   "id": "762c858f",
   "metadata": {
    "execution": {
     "iopub.execute_input": "2024-02-06T22:03:39.731829Z",
     "iopub.status.busy": "2024-02-06T22:03:39.731365Z",
     "iopub.status.idle": "2024-02-06T22:03:39.735002Z",
     "shell.execute_reply": "2024-02-06T22:03:39.734468Z"
    }
   },
   "outputs": [],
   "source": [
    "config[\"debug\"][\"specific_log_level\"] = False"
   ]
  },
  {
   "cell_type": "code",
   "execution_count": 14,
   "id": "581f2d8d",
   "metadata": {
    "execution": {
     "iopub.execute_input": "2024-02-06T22:03:39.737179Z",
     "iopub.status.busy": "2024-02-06T22:03:39.736726Z",
     "iopub.status.idle": "2024-02-06T22:03:41.408758Z",
     "shell.execute_reply": "2024-02-06T22:03:41.408056Z"
    },
    "scrolled": false
   },
   "outputs": [
    {
     "name": "stdout",
     "output_type": "stream",
     "text": [
      "[\u001b[1mtardis.simulation.base\u001b[0m][\u001b[1;37mINFO\u001b[0m   ]  \n",
      "\t\n",
      "\tReading Atomic Data from kurucz_cd23_chianti_H_He.h5 (\u001b[1mbase.py\u001b[0m:674)\n"
     ]
    },
    {
     "name": "stdout",
     "output_type": "stream",
     "text": [
      "[\u001b[1mtardis.io.atom_data.util\u001b[0m][\u001b[1;37mINFO\u001b[0m   ]  \n",
      "\t\n",
      "\tAtom Data kurucz_cd23_chianti_H_He.h5 not found in local path.\n",
      "\tExists in TARDIS Data repo /home/runner/Downloads/tardis-data/kurucz_cd23_chianti_H_He.h5 (\u001b[1mutil.py\u001b[0m:33)\n"
     ]
    },
    {
     "name": "stdout",
     "output_type": "stream",
     "text": [
      "[\u001b[1mtardis.io.atom_data.base\u001b[0m][\u001b[1;34mDEBUG\u001b[0m  ]  Dataframe does not contain synpp_refs column (\u001b[1mbase.py\u001b[0m:181)\n"
     ]
    },
    {
     "name": "stdout",
     "output_type": "stream",
     "text": [
      "[\u001b[1mtardis.io.atom_data.base\u001b[0m][\u001b[1;34mDEBUG\u001b[0m  ]  Dataframe does not contain photoionization_data column (\u001b[1mbase.py\u001b[0m:181)\n"
     ]
    },
    {
     "name": "stdout",
     "output_type": "stream",
     "text": [
      "[\u001b[1mtardis.io.atom_data.base\u001b[0m][\u001b[1;34mDEBUG\u001b[0m  ]  Dataframe does not contain yg_data column (\u001b[1mbase.py\u001b[0m:181)\n"
     ]
    },
    {
     "name": "stdout",
     "output_type": "stream",
     "text": [
      "[\u001b[1mtardis.io.atom_data.base\u001b[0m][\u001b[1;34mDEBUG\u001b[0m  ]  Dataframe does not contain two_photon_data column (\u001b[1mbase.py\u001b[0m:181)\n"
     ]
    },
    {
     "name": "stdout",
     "output_type": "stream",
     "text": [
      "[\u001b[1mtardis.io.atom_data.base\u001b[0m][\u001b[1;34mDEBUG\u001b[0m  ]  Dataframe does not contain linelist column (\u001b[1mbase.py\u001b[0m:181)\n"
     ]
    },
    {
     "name": "stdout",
     "output_type": "stream",
     "text": [
      "[\u001b[1mtardis.io.atom_data.base\u001b[0m][\u001b[1;37mINFO\u001b[0m   ]  \n",
      "\tReading Atom Data with: UUID = 6f7b09e887a311e7a06b246e96350010 MD5  = 864f1753714343c41f99cb065710cace  (\u001b[1mbase.py\u001b[0m:258)\n"
     ]
    },
    {
     "name": "stdout",
     "output_type": "stream",
     "text": [
      "[\u001b[1mtardis.io.atom_data.base\u001b[0m][\u001b[1;37mINFO\u001b[0m   ]  \n",
      "\tNon provided Atomic Data: synpp_refs, photoionization_data, yg_data, two_photon_data, linelist (\u001b[1mbase.py\u001b[0m:262)\n"
     ]
    },
    {
     "name": "stdout",
     "output_type": "stream",
     "text": [
      "[\u001b[1mtardis.model.parse_input\u001b[0m][\u001b[1;33mWARNING\u001b[0m]  \n",
      "\tNumber of density points larger than number of shells. Assuming inner point irrelevant (\u001b[1mparse_input.py\u001b[0m:143)\n"
     ]
    },
    {
     "name": "stdout",
     "output_type": "stream",
     "text": [
      "[\u001b[1mtardis.model.matter.decay\u001b[0m][\u001b[1;37mINFO\u001b[0m   ]  \n",
      "\tDecaying abundances for 1123200.0 seconds (\u001b[1mdecay.py\u001b[0m:101)\n"
     ]
    },
    {
     "name": "stdout",
     "output_type": "stream",
     "text": [
      "[\u001b[1mtardis.model.matter.decay\u001b[0m][\u001b[1;37mINFO\u001b[0m   ]  \n",
      "\tDecaying abundances for 1123200.0 seconds (\u001b[1mdecay.py\u001b[0m:101)\n"
     ]
    },
    {
     "name": "stdout",
     "output_type": "stream",
     "text": [
      "[\u001b[1mtardis.plasma.base  \u001b[0m][\u001b[1;34mDEBUG\u001b[0m  ]  Updating modules in the following order:BetaRadiation->SelectedAtoms->ElectronTemperature->GElectron->Levels->Lines->AtomicMass->IonizationData->MacroAtomData->LevelBoltzmannFactorLTE->LinesLowerLevelIndex->LinesUpperLevelIndex->JBluesDiluteBlackBody->NumberDensity->LevelBoltzmannFactorNoNLTE->PartitionFunction->PhiSahaLTE->IonNumberDensity->LevelNumberDensity->StimulatedEmissionFactor->TauSobolev->BetaSobolev->TransitionProbabilities (\u001b[1mbase.py\u001b[0m:264)\n"
     ]
    },
    {
     "name": "stdout",
     "output_type": "stream",
     "text": [
      "[\u001b[1mpy.warnings         \u001b[0m][\u001b[1;33mWARNING\u001b[0m]  \n",
      "\t/home/runner/work/tardis/tardis/tardis/plasma/properties/radiative_properties.py:93: RuntimeWarning: invalid value encountered in divide\n",
      "  (g_lower * n_upper) / (g_upper * n_lower)\n",
      " (\u001b[1mwarnings.py\u001b[0m:109)\n"
     ]
    },
    {
     "name": "stdout",
     "output_type": "stream",
     "text": [
      "[\u001b[1mtardis.plasma.base  \u001b[0m][\u001b[1;34mDEBUG\u001b[0m  ]  Updating modules in the following order:BetaRadiation->SelectedAtoms->ElectronTemperature->GElectron->Levels->Lines->AtomicMass->IonizationData->MacroAtomData->LevelBoltzmannFactorLTE->LinesLowerLevelIndex->LinesUpperLevelIndex->JBluesDiluteBlackBody->NumberDensity->LevelBoltzmannFactorNoNLTE->PartitionFunction->PhiSahaLTE->IonNumberDensity->LevelNumberDensity->StimulatedEmissionFactor->TauSobolev->BetaSobolev->TransitionProbabilities (\u001b[1mbase.py\u001b[0m:264)\n"
     ]
    },
    {
     "name": "stdout",
     "output_type": "stream",
     "text": [
      "[\u001b[1mpy.warnings         \u001b[0m][\u001b[1;33mWARNING\u001b[0m]  \n",
      "\t/home/runner/work/tardis/tardis/tardis/plasma/properties/radiative_properties.py:93: RuntimeWarning: invalid value encountered in divide\n",
      "  (g_lower * n_upper) / (g_upper * n_lower)\n",
      " (\u001b[1mwarnings.py\u001b[0m:109)\n"
     ]
    },
    {
     "name": "stdout",
     "output_type": "stream",
     "text": [
      "[\u001b[1mtardis.montecarlo.base\u001b[0m][\u001b[1;34mDEBUG\u001b[0m  ]  Electron scattering switched on (\u001b[1mbase.py\u001b[0m:274)\n"
     ]
    },
    {
     "name": "stdout",
     "output_type": "stream",
     "text": [
      "[\u001b[1mtardis.simulation.base\u001b[0m][\u001b[1;37mINFO\u001b[0m   ]  \n",
      "\t\n",
      "\tStarting iteration 1 of 5 (\u001b[1mbase.py\u001b[0m:391)\n"
     ]
    },
    {
     "data": {
      "application/vnd.jupyter.widget-view+json": {
       "model_id": "85c4f7f352454db0930217b33a879117",
       "version_major": 2,
       "version_minor": 0
      },
      "text/plain": [
       "TqdmHBox(children=(HTML(value='Iterations:', layout=Layout(width='6%')), FloatProgress(value=0.0, layout=Layou…"
      ]
     },
     "metadata": {},
     "output_type": "display_data"
    },
    {
     "data": {
      "application/vnd.jupyter.widget-view+json": {
       "model_id": "7e7c1902a95b4735a972e77df6a5fd0a",
       "version_major": 2,
       "version_minor": 0
      },
      "text/plain": [
       "TqdmHBox(children=(HTML(value='Packets:   ', layout=Layout(width='6%')), FloatProgress(value=0.0, layout=Layou…"
      ]
     },
     "metadata": {},
     "output_type": "display_data"
    },
    {
     "name": "stdout",
     "output_type": "stream",
     "text": [
      "[\u001b[1mtardis.simulation.base\u001b[0m][\u001b[1;37mINFO\u001b[0m   ]  \n",
      "\t\n",
      "\tLuminosity emitted   = 7.947e+42 erg / s\n",
      "\tLuminosity absorbed  = 2.654e+42 erg / s\n",
      "\tLuminosity requested = 1.059e+43 erg / s\n",
      " (\u001b[1mbase.py\u001b[0m:573)\n"
     ]
    },
    {
     "name": "stdout",
     "output_type": "stream",
     "text": [
      "[\u001b[1mtardis.simulation.base\u001b[0m][\u001b[1;37mINFO\u001b[0m   ]  \n",
      "\t\n",
      "\tPlasma stratification: (\u001b[1mbase.py\u001b[0m:541)\n"
     ]
    },
    {
     "data": {
      "text/html": [
       "<style type=\"text/css\">\n",
       "</style>\n",
       "<table id=\"T_f31a5\">\n",
       "  <thead>\n",
       "    <tr>\n",
       "      <th class=\"index_name level0\" >Shell No.</th>\n",
       "      <th id=\"T_f31a5_level0_col0\" class=\"col_heading level0 col0\" >t_rad</th>\n",
       "      <th id=\"T_f31a5_level0_col1\" class=\"col_heading level0 col1\" >next_t_rad</th>\n",
       "      <th id=\"T_f31a5_level0_col2\" class=\"col_heading level0 col2\" >w</th>\n",
       "      <th id=\"T_f31a5_level0_col3\" class=\"col_heading level0 col3\" >next_w</th>\n",
       "    </tr>\n",
       "  </thead>\n",
       "  <tbody>\n",
       "    <tr>\n",
       "      <th id=\"T_f31a5_level0_row0\" class=\"row_heading level0 row0\" >0</th>\n",
       "      <td id=\"T_f31a5_row0_col0\" class=\"data row0 col0\" >9.93e+03 K</td>\n",
       "      <td id=\"T_f31a5_row0_col1\" class=\"data row0 col1\" >1.03e+04 K</td>\n",
       "      <td id=\"T_f31a5_row0_col2\" class=\"data row0 col2\" >0.4</td>\n",
       "      <td id=\"T_f31a5_row0_col3\" class=\"data row0 col3\" >0.481</td>\n",
       "    </tr>\n",
       "    <tr>\n",
       "      <th id=\"T_f31a5_level0_row1\" class=\"row_heading level0 row1\" >5</th>\n",
       "      <td id=\"T_f31a5_row1_col0\" class=\"data row1 col0\" >9.85e+03 K</td>\n",
       "      <td id=\"T_f31a5_row1_col1\" class=\"data row1 col1\" >1.03e+04 K</td>\n",
       "      <td id=\"T_f31a5_row1_col2\" class=\"data row1 col2\" >0.211</td>\n",
       "      <td id=\"T_f31a5_row1_col3\" class=\"data row1 col3\" >0.193</td>\n",
       "    </tr>\n",
       "    <tr>\n",
       "      <th id=\"T_f31a5_level0_row2\" class=\"row_heading level0 row2\" >10</th>\n",
       "      <td id=\"T_f31a5_row2_col0\" class=\"data row2 col0\" >9.78e+03 K</td>\n",
       "      <td id=\"T_f31a5_row2_col1\" class=\"data row2 col1\" >1.02e+04 K</td>\n",
       "      <td id=\"T_f31a5_row2_col2\" class=\"data row2 col2\" >0.143</td>\n",
       "      <td id=\"T_f31a5_row2_col3\" class=\"data row2 col3\" >0.112</td>\n",
       "    </tr>\n",
       "    <tr>\n",
       "      <th id=\"T_f31a5_level0_row3\" class=\"row_heading level0 row3\" >15</th>\n",
       "      <td id=\"T_f31a5_row3_col0\" class=\"data row3 col0\" >9.71e+03 K</td>\n",
       "      <td id=\"T_f31a5_row3_col1\" class=\"data row3 col1\" >9.98e+03 K</td>\n",
       "      <td id=\"T_f31a5_row3_col2\" class=\"data row3 col2\" >0.105</td>\n",
       "      <td id=\"T_f31a5_row3_col3\" class=\"data row3 col3\" >0.0826</td>\n",
       "    </tr>\n",
       "  </tbody>\n",
       "</table>\n"
      ],
      "text/plain": [
       "<pandas.io.formats.style.Styler at 0x7f5f9197f390>"
      ]
     },
     "metadata": {},
     "output_type": "display_data"
    },
    {
     "name": "stdout",
     "output_type": "stream",
     "text": [
      "[\u001b[1mtardis.simulation.base\u001b[0m][\u001b[1;37mINFO\u001b[0m   ]  \n",
      "\t\n",
      "\tCurrent t_inner = 9933.952 K\n",
      "\tExpected t_inner for next iteration = 11468.808 K\n",
      " (\u001b[1mbase.py\u001b[0m:568)\n"
     ]
    },
    {
     "name": "stdout",
     "output_type": "stream",
     "text": [
      "[\u001b[1mtardis.plasma.base  \u001b[0m][\u001b[1;34mDEBUG\u001b[0m  ]  Updating modules in the following order:BetaRadiation->ElectronTemperature->GElectron->LevelBoltzmannFactorLTE->JBluesDiluteBlackBody->LevelBoltzmannFactorNoNLTE->PartitionFunction->PhiSahaLTE->IonNumberDensity->LevelNumberDensity->StimulatedEmissionFactor->TauSobolev->BetaSobolev->TransitionProbabilities (\u001b[1mbase.py\u001b[0m:264)\n"
     ]
    },
    {
     "name": "stdout",
     "output_type": "stream",
     "text": [
      "[\u001b[1mpy.warnings         \u001b[0m][\u001b[1;33mWARNING\u001b[0m]  \n",
      "\t/home/runner/work/tardis/tardis/tardis/plasma/properties/radiative_properties.py:93: RuntimeWarning: invalid value encountered in divide\n",
      "  (g_lower * n_upper) / (g_upper * n_lower)\n",
      " (\u001b[1mwarnings.py\u001b[0m:109)\n"
     ]
    },
    {
     "name": "stdout",
     "output_type": "stream",
     "text": [
      "[\u001b[1mtardis.simulation.base\u001b[0m][\u001b[1;37mINFO\u001b[0m   ]  \n",
      "\t\n",
      "\tStarting iteration 2 of 5 (\u001b[1mbase.py\u001b[0m:391)\n"
     ]
    },
    {
     "name": "stdout",
     "output_type": "stream",
     "text": [
      "[\u001b[1mtardis.simulation.base\u001b[0m][\u001b[1;37mINFO\u001b[0m   ]  \n",
      "\t\n",
      "\tLuminosity emitted   = 1.413e+43 erg / s\n",
      "\tLuminosity absorbed  = 4.704e+42 erg / s\n",
      "\tLuminosity requested = 1.059e+43 erg / s\n",
      " (\u001b[1mbase.py\u001b[0m:573)\n"
     ]
    },
    {
     "name": "stdout",
     "output_type": "stream",
     "text": [
      "[\u001b[1mtardis.simulation.base\u001b[0m][\u001b[1;37mINFO\u001b[0m   ]  \n",
      "\t\n",
      "\tPlasma stratification: (\u001b[1mbase.py\u001b[0m:541)\n"
     ]
    },
    {
     "data": {
      "text/html": [
       "<style type=\"text/css\">\n",
       "</style>\n",
       "<table id=\"T_452b3\">\n",
       "  <thead>\n",
       "    <tr>\n",
       "      <th class=\"index_name level0\" >Shell No.</th>\n",
       "      <th id=\"T_452b3_level0_col0\" class=\"col_heading level0 col0\" >t_rad</th>\n",
       "      <th id=\"T_452b3_level0_col1\" class=\"col_heading level0 col1\" >next_t_rad</th>\n",
       "      <th id=\"T_452b3_level0_col2\" class=\"col_heading level0 col2\" >w</th>\n",
       "      <th id=\"T_452b3_level0_col3\" class=\"col_heading level0 col3\" >next_w</th>\n",
       "    </tr>\n",
       "  </thead>\n",
       "  <tbody>\n",
       "    <tr>\n",
       "      <th id=\"T_452b3_level0_row0\" class=\"row_heading level0 row0\" >0</th>\n",
       "      <td id=\"T_452b3_row0_col0\" class=\"data row0 col0\" >1.03e+04 K</td>\n",
       "      <td id=\"T_452b3_row0_col1\" class=\"data row0 col1\" >1.15e+04 K</td>\n",
       "      <td id=\"T_452b3_row0_col2\" class=\"data row0 col2\" >0.481</td>\n",
       "      <td id=\"T_452b3_row0_col3\" class=\"data row0 col3\" >0.555</td>\n",
       "    </tr>\n",
       "    <tr>\n",
       "      <th id=\"T_452b3_level0_row1\" class=\"row_heading level0 row1\" >5</th>\n",
       "      <td id=\"T_452b3_row1_col0\" class=\"data row1 col0\" >1.03e+04 K</td>\n",
       "      <td id=\"T_452b3_row1_col1\" class=\"data row1 col1\" >1.17e+04 K</td>\n",
       "      <td id=\"T_452b3_row1_col2\" class=\"data row1 col2\" >0.193</td>\n",
       "      <td id=\"T_452b3_row1_col3\" class=\"data row1 col3\" >0.203</td>\n",
       "    </tr>\n",
       "    <tr>\n",
       "      <th id=\"T_452b3_level0_row2\" class=\"row_heading level0 row2\" >10</th>\n",
       "      <td id=\"T_452b3_row2_col0\" class=\"data row2 col0\" >1.02e+04 K</td>\n",
       "      <td id=\"T_452b3_row2_col1\" class=\"data row2 col1\" >1.13e+04 K</td>\n",
       "      <td id=\"T_452b3_row2_col2\" class=\"data row2 col2\" >0.112</td>\n",
       "      <td id=\"T_452b3_row2_col3\" class=\"data row2 col3\" >0.135</td>\n",
       "    </tr>\n",
       "    <tr>\n",
       "      <th id=\"T_452b3_level0_row3\" class=\"row_heading level0 row3\" >15</th>\n",
       "      <td id=\"T_452b3_row3_col0\" class=\"data row3 col0\" >9.98e+03 K</td>\n",
       "      <td id=\"T_452b3_row3_col1\" class=\"data row3 col1\" >1.1e+04 K</td>\n",
       "      <td id=\"T_452b3_row3_col2\" class=\"data row3 col2\" >0.0826</td>\n",
       "      <td id=\"T_452b3_row3_col3\" class=\"data row3 col3\" >0.0998</td>\n",
       "    </tr>\n",
       "  </tbody>\n",
       "</table>\n"
      ],
      "text/plain": [
       "<pandas.io.formats.style.Styler at 0x7f5f93c65e90>"
      ]
     },
     "metadata": {},
     "output_type": "display_data"
    },
    {
     "name": "stdout",
     "output_type": "stream",
     "text": [
      "[\u001b[1mtardis.simulation.base\u001b[0m][\u001b[1;37mINFO\u001b[0m   ]  \n",
      "\t\n",
      "\tCurrent t_inner = 11468.808 K\n",
      "\tExpected t_inner for next iteration = 9929.475 K\n",
      " (\u001b[1mbase.py\u001b[0m:568)\n"
     ]
    },
    {
     "name": "stdout",
     "output_type": "stream",
     "text": [
      "[\u001b[1mtardis.plasma.base  \u001b[0m][\u001b[1;34mDEBUG\u001b[0m  ]  Updating modules in the following order:BetaRadiation->ElectronTemperature->GElectron->LevelBoltzmannFactorLTE->JBluesDiluteBlackBody->LevelBoltzmannFactorNoNLTE->PartitionFunction->PhiSahaLTE->IonNumberDensity->LevelNumberDensity->StimulatedEmissionFactor->TauSobolev->BetaSobolev->TransitionProbabilities (\u001b[1mbase.py\u001b[0m:264)\n"
     ]
    },
    {
     "name": "stdout",
     "output_type": "stream",
     "text": [
      "[\u001b[1mpy.warnings         \u001b[0m][\u001b[1;33mWARNING\u001b[0m]  \n",
      "\t/home/runner/work/tardis/tardis/tardis/plasma/properties/radiative_properties.py:93: RuntimeWarning: invalid value encountered in divide\n",
      "  (g_lower * n_upper) / (g_upper * n_lower)\n",
      " (\u001b[1mwarnings.py\u001b[0m:109)\n"
     ]
    },
    {
     "name": "stdout",
     "output_type": "stream",
     "text": [
      "[\u001b[1mtardis.simulation.base\u001b[0m][\u001b[1;37mINFO\u001b[0m   ]  \n",
      "\t\n",
      "\tStarting iteration 3 of 5 (\u001b[1mbase.py\u001b[0m:391)\n"
     ]
    },
    {
     "name": "stdout",
     "output_type": "stream",
     "text": [
      "[\u001b[1mtardis.simulation.base\u001b[0m][\u001b[1;37mINFO\u001b[0m   ]  \n",
      "\t\n",
      "\tLuminosity emitted   = 8.259e+42 erg / s\n",
      "\tLuminosity absorbed  = 2.337e+42 erg / s\n",
      "\tLuminosity requested = 1.059e+43 erg / s\n",
      " (\u001b[1mbase.py\u001b[0m:573)\n"
     ]
    },
    {
     "name": "stdout",
     "output_type": "stream",
     "text": [
      "[\u001b[1mtardis.simulation.base\u001b[0m][\u001b[1;37mINFO\u001b[0m   ]  \n",
      "\t\n",
      "\tPlasma stratification: (\u001b[1mbase.py\u001b[0m:541)\n"
     ]
    },
    {
     "data": {
      "text/html": [
       "<style type=\"text/css\">\n",
       "</style>\n",
       "<table id=\"T_18064\">\n",
       "  <thead>\n",
       "    <tr>\n",
       "      <th class=\"index_name level0\" >Shell No.</th>\n",
       "      <th id=\"T_18064_level0_col0\" class=\"col_heading level0 col0\" >t_rad</th>\n",
       "      <th id=\"T_18064_level0_col1\" class=\"col_heading level0 col1\" >next_t_rad</th>\n",
       "      <th id=\"T_18064_level0_col2\" class=\"col_heading level0 col2\" >w</th>\n",
       "      <th id=\"T_18064_level0_col3\" class=\"col_heading level0 col3\" >next_w</th>\n",
       "    </tr>\n",
       "  </thead>\n",
       "  <tbody>\n",
       "    <tr>\n",
       "      <th id=\"T_18064_level0_row0\" class=\"row_heading level0 row0\" >0</th>\n",
       "      <td id=\"T_18064_row0_col0\" class=\"data row0 col0\" >1.15e+04 K</td>\n",
       "      <td id=\"T_18064_row0_col1\" class=\"data row0 col1\" >1.03e+04 K</td>\n",
       "      <td id=\"T_18064_row0_col2\" class=\"data row0 col2\" >0.555</td>\n",
       "      <td id=\"T_18064_row0_col3\" class=\"data row0 col3\" >0.468</td>\n",
       "    </tr>\n",
       "    <tr>\n",
       "      <th id=\"T_18064_level0_row1\" class=\"row_heading level0 row1\" >5</th>\n",
       "      <td id=\"T_18064_row1_col0\" class=\"data row1 col0\" >1.17e+04 K</td>\n",
       "      <td id=\"T_18064_row1_col1\" class=\"data row1 col1\" >1.05e+04 K</td>\n",
       "      <td id=\"T_18064_row1_col2\" class=\"data row1 col2\" >0.203</td>\n",
       "      <td id=\"T_18064_row1_col3\" class=\"data row1 col3\" >0.181</td>\n",
       "    </tr>\n",
       "    <tr>\n",
       "      <th id=\"T_18064_level0_row2\" class=\"row_heading level0 row2\" >10</th>\n",
       "      <td id=\"T_18064_row2_col0\" class=\"data row2 col0\" >1.13e+04 K</td>\n",
       "      <td id=\"T_18064_row2_col1\" class=\"data row2 col1\" >1.05e+04 K</td>\n",
       "      <td id=\"T_18064_row2_col2\" class=\"data row2 col2\" >0.135</td>\n",
       "      <td id=\"T_18064_row2_col3\" class=\"data row2 col3\" >0.108</td>\n",
       "    </tr>\n",
       "    <tr>\n",
       "      <th id=\"T_18064_level0_row3\" class=\"row_heading level0 row3\" >15</th>\n",
       "      <td id=\"T_18064_row3_col0\" class=\"data row3 col0\" >1.1e+04 K</td>\n",
       "      <td id=\"T_18064_row3_col1\" class=\"data row3 col1\" >1.03e+04 K</td>\n",
       "      <td id=\"T_18064_row3_col2\" class=\"data row3 col2\" >0.0998</td>\n",
       "      <td id=\"T_18064_row3_col3\" class=\"data row3 col3\" >0.0779</td>\n",
       "    </tr>\n",
       "  </tbody>\n",
       "</table>\n"
      ],
      "text/plain": [
       "<pandas.io.formats.style.Styler at 0x7f5f93c3cd90>"
      ]
     },
     "metadata": {},
     "output_type": "display_data"
    },
    {
     "name": "stdout",
     "output_type": "stream",
     "text": [
      "[\u001b[1mtardis.simulation.base\u001b[0m][\u001b[1;37mINFO\u001b[0m   ]  \n",
      "\t\n",
      "\tCurrent t_inner = 9929.475 K\n",
      "\tExpected t_inner for next iteration = 11245.497 K\n",
      " (\u001b[1mbase.py\u001b[0m:568)\n"
     ]
    },
    {
     "name": "stdout",
     "output_type": "stream",
     "text": [
      "[\u001b[1mtardis.plasma.base  \u001b[0m][\u001b[1;34mDEBUG\u001b[0m  ]  Updating modules in the following order:BetaRadiation->ElectronTemperature->GElectron->LevelBoltzmannFactorLTE->JBluesDiluteBlackBody->LevelBoltzmannFactorNoNLTE->PartitionFunction->PhiSahaLTE->IonNumberDensity->LevelNumberDensity->StimulatedEmissionFactor->TauSobolev->BetaSobolev->TransitionProbabilities (\u001b[1mbase.py\u001b[0m:264)\n"
     ]
    },
    {
     "name": "stdout",
     "output_type": "stream",
     "text": [
      "[\u001b[1mpy.warnings         \u001b[0m][\u001b[1;33mWARNING\u001b[0m]  \n",
      "\t/home/runner/work/tardis/tardis/tardis/plasma/properties/radiative_properties.py:93: RuntimeWarning: invalid value encountered in divide\n",
      "  (g_lower * n_upper) / (g_upper * n_lower)\n",
      " (\u001b[1mwarnings.py\u001b[0m:109)\n"
     ]
    },
    {
     "name": "stdout",
     "output_type": "stream",
     "text": [
      "[\u001b[1mtardis.simulation.base\u001b[0m][\u001b[1;37mINFO\u001b[0m   ]  \n",
      "\t\n",
      "\tStarting iteration 4 of 5 (\u001b[1mbase.py\u001b[0m:391)\n"
     ]
    },
    {
     "name": "stdout",
     "output_type": "stream",
     "text": [
      "[\u001b[1mtardis.simulation.base\u001b[0m][\u001b[1;37mINFO\u001b[0m   ]  \n",
      "\t\n",
      "\tLuminosity emitted   = 1.299e+43 erg / s\n",
      "\tLuminosity absorbed  = 4.407e+42 erg / s\n",
      "\tLuminosity requested = 1.059e+43 erg / s\n",
      " (\u001b[1mbase.py\u001b[0m:573)\n"
     ]
    },
    {
     "name": "stdout",
     "output_type": "stream",
     "text": [
      "[\u001b[1mtardis.simulation.base\u001b[0m][\u001b[1;37mINFO\u001b[0m   ]  \n",
      "\t\n",
      "\tPlasma stratification: (\u001b[1mbase.py\u001b[0m:541)\n"
     ]
    },
    {
     "data": {
      "text/html": [
       "<style type=\"text/css\">\n",
       "</style>\n",
       "<table id=\"T_85e4c\">\n",
       "  <thead>\n",
       "    <tr>\n",
       "      <th class=\"index_name level0\" >Shell No.</th>\n",
       "      <th id=\"T_85e4c_level0_col0\" class=\"col_heading level0 col0\" >t_rad</th>\n",
       "      <th id=\"T_85e4c_level0_col1\" class=\"col_heading level0 col1\" >next_t_rad</th>\n",
       "      <th id=\"T_85e4c_level0_col2\" class=\"col_heading level0 col2\" >w</th>\n",
       "      <th id=\"T_85e4c_level0_col3\" class=\"col_heading level0 col3\" >next_w</th>\n",
       "    </tr>\n",
       "  </thead>\n",
       "  <tbody>\n",
       "    <tr>\n",
       "      <th id=\"T_85e4c_level0_row0\" class=\"row_heading level0 row0\" >0</th>\n",
       "      <td id=\"T_85e4c_row0_col0\" class=\"data row0 col0\" >1.03e+04 K</td>\n",
       "      <td id=\"T_85e4c_row0_col1\" class=\"data row0 col1\" >1.14e+04 K</td>\n",
       "      <td id=\"T_85e4c_row0_col2\" class=\"data row0 col2\" >0.468</td>\n",
       "      <td id=\"T_85e4c_row0_col3\" class=\"data row0 col3\" >0.527</td>\n",
       "    </tr>\n",
       "    <tr>\n",
       "      <th id=\"T_85e4c_level0_row1\" class=\"row_heading level0 row1\" >5</th>\n",
       "      <td id=\"T_85e4c_row1_col0\" class=\"data row1 col0\" >1.05e+04 K</td>\n",
       "      <td id=\"T_85e4c_row1_col1\" class=\"data row1 col1\" >1.13e+04 K</td>\n",
       "      <td id=\"T_85e4c_row1_col2\" class=\"data row1 col2\" >0.181</td>\n",
       "      <td id=\"T_85e4c_row1_col3\" class=\"data row1 col3\" >0.225</td>\n",
       "    </tr>\n",
       "    <tr>\n",
       "      <th id=\"T_85e4c_level0_row2\" class=\"row_heading level0 row2\" >10</th>\n",
       "      <td id=\"T_85e4c_row2_col0\" class=\"data row2 col0\" >1.05e+04 K</td>\n",
       "      <td id=\"T_85e4c_row2_col1\" class=\"data row2 col1\" >1.12e+04 K</td>\n",
       "      <td id=\"T_85e4c_row2_col2\" class=\"data row2 col2\" >0.108</td>\n",
       "      <td id=\"T_85e4c_row2_col3\" class=\"data row2 col3\" >0.126</td>\n",
       "    </tr>\n",
       "    <tr>\n",
       "      <th id=\"T_85e4c_level0_row3\" class=\"row_heading level0 row3\" >15</th>\n",
       "      <td id=\"T_85e4c_row3_col0\" class=\"data row3 col0\" >1.03e+04 K</td>\n",
       "      <td id=\"T_85e4c_row3_col1\" class=\"data row3 col1\" >1.1e+04 K</td>\n",
       "      <td id=\"T_85e4c_row3_col2\" class=\"data row3 col2\" >0.0779</td>\n",
       "      <td id=\"T_85e4c_row3_col3\" class=\"data row3 col3\" >0.0926</td>\n",
       "    </tr>\n",
       "  </tbody>\n",
       "</table>\n"
      ],
      "text/plain": [
       "<pandas.io.formats.style.Styler at 0x7f5f9197c810>"
      ]
     },
     "metadata": {},
     "output_type": "display_data"
    },
    {
     "name": "stdout",
     "output_type": "stream",
     "text": [
      "[\u001b[1mtardis.simulation.base\u001b[0m][\u001b[1;37mINFO\u001b[0m   ]  \n",
      "\t\n",
      "\tCurrent t_inner = 11245.497 K\n",
      "\tExpected t_inner for next iteration = 10153.431 K\n",
      " (\u001b[1mbase.py\u001b[0m:568)\n"
     ]
    },
    {
     "name": "stdout",
     "output_type": "stream",
     "text": [
      "[\u001b[1mtardis.plasma.base  \u001b[0m][\u001b[1;34mDEBUG\u001b[0m  ]  Updating modules in the following order:BetaRadiation->ElectronTemperature->GElectron->LevelBoltzmannFactorLTE->JBluesDiluteBlackBody->LevelBoltzmannFactorNoNLTE->PartitionFunction->PhiSahaLTE->IonNumberDensity->LevelNumberDensity->StimulatedEmissionFactor->TauSobolev->BetaSobolev->TransitionProbabilities (\u001b[1mbase.py\u001b[0m:264)\n"
     ]
    },
    {
     "name": "stdout",
     "output_type": "stream",
     "text": [
      "[\u001b[1mpy.warnings         \u001b[0m][\u001b[1;33mWARNING\u001b[0m]  \n",
      "\t/home/runner/work/tardis/tardis/tardis/plasma/properties/radiative_properties.py:93: RuntimeWarning: invalid value encountered in divide\n",
      "  (g_lower * n_upper) / (g_upper * n_lower)\n",
      " (\u001b[1mwarnings.py\u001b[0m:109)\n"
     ]
    },
    {
     "name": "stdout",
     "output_type": "stream",
     "text": [
      "[\u001b[1mtardis.simulation.base\u001b[0m][\u001b[1;37mINFO\u001b[0m   ]  \n",
      "\t\n",
      "\tSimulation finished in 4 iterations \n",
      "\tSimulation took 0.37 s\n",
      " (\u001b[1mbase.py\u001b[0m:469)\n"
     ]
    },
    {
     "name": "stdout",
     "output_type": "stream",
     "text": [
      "[\u001b[1mtardis.simulation.base\u001b[0m][\u001b[1;37mINFO\u001b[0m   ]  \n",
      "\t\n",
      "\tStarting iteration 5 of 5 (\u001b[1mbase.py\u001b[0m:391)\n"
     ]
    },
    {
     "name": "stdout",
     "output_type": "stream",
     "text": [
      "[\u001b[1mtardis.simulation.base\u001b[0m][\u001b[1;37mINFO\u001b[0m   ]  \n",
      "\t\n",
      "\tLuminosity emitted   = 8.742e+42 erg / s\n",
      "\tLuminosity absorbed  = 2.834e+42 erg / s\n",
      "\tLuminosity requested = 1.059e+43 erg / s\n",
      " (\u001b[1mbase.py\u001b[0m:573)\n"
     ]
    }
   ],
   "source": [
    "sim = run_tardis(config,show_cplots=False)"
   ]
  },
  {
   "cell_type": "markdown",
   "id": "5e8f1dbe",
   "metadata": {},
   "source": [
    "### What Happens When Both Parameters Are Specified? { Function & YAML Arguments }"
   ]
  },
  {
   "cell_type": "markdown",
   "id": "f32403c7",
   "metadata": {},
   "source": [
    "If a user specifies both the parameters passed through the `log_level` & `log_level` in the **YAML** configuration file, then the `log_level` parameter *(Functional Argument)* takes precedence & is used to determine the logging level for the simulation logs."
   ]
  },
  {
   "cell_type": "markdown",
   "id": "f2a24e11",
   "metadata": {},
   "source": [
    "Let us consider the following example for the configuration:"
   ]
  },
  {
   "cell_type": "markdown",
   "id": "863042a4",
   "metadata": {},
   "source": [
    "Continuing from the previous example, the `config[\"debug\"][\"log_level\"]` is set to `Debug` via the **YAML** file. The user will also set the `log_level` {Functional Argument} to `Info`."
   ]
  },
  {
   "cell_type": "code",
   "execution_count": 15,
   "id": "30763e52",
   "metadata": {
    "execution": {
     "iopub.execute_input": "2024-02-06T22:03:41.411439Z",
     "iopub.status.busy": "2024-02-06T22:03:41.411272Z",
     "iopub.status.idle": "2024-02-06T22:03:43.471977Z",
     "shell.execute_reply": "2024-02-06T22:03:43.471440Z"
    },
    "scrolled": false
   },
   "outputs": [
    {
     "name": "stdout",
     "output_type": "stream",
     "text": [
      "log_level is defined both in Functional Argument & YAML Configuration {debug section}\n",
      "log_level = INFO will be used for Log Level Determination\n",
      "\n",
      "[\u001b[1mtardis.simulation.base\u001b[0m][\u001b[1;37mINFO\u001b[0m   ]  \n",
      "\t\n",
      "\tReading Atomic Data from kurucz_cd23_chianti_H_He.h5 (\u001b[1mbase.py\u001b[0m:674)\n"
     ]
    },
    {
     "name": "stdout",
     "output_type": "stream",
     "text": [
      "[\u001b[1mtardis.io.atom_data.util\u001b[0m][\u001b[1;37mINFO\u001b[0m   ]  \n",
      "\t\n",
      "\tAtom Data kurucz_cd23_chianti_H_He.h5 not found in local path.\n",
      "\tExists in TARDIS Data repo /home/runner/Downloads/tardis-data/kurucz_cd23_chianti_H_He.h5 (\u001b[1mutil.py\u001b[0m:33)\n"
     ]
    },
    {
     "name": "stdout",
     "output_type": "stream",
     "text": [
      "[\u001b[1mtardis.io.atom_data.base\u001b[0m][\u001b[1;37mINFO\u001b[0m   ]  \n",
      "\tReading Atom Data with: UUID = 6f7b09e887a311e7a06b246e96350010 MD5  = 864f1753714343c41f99cb065710cace  (\u001b[1mbase.py\u001b[0m:258)\n"
     ]
    },
    {
     "name": "stdout",
     "output_type": "stream",
     "text": [
      "[\u001b[1mtardis.io.atom_data.base\u001b[0m][\u001b[1;37mINFO\u001b[0m   ]  \n",
      "\tNon provided Atomic Data: synpp_refs, photoionization_data, yg_data, two_photon_data, linelist (\u001b[1mbase.py\u001b[0m:262)\n"
     ]
    },
    {
     "name": "stdout",
     "output_type": "stream",
     "text": [
      "[\u001b[1mtardis.model.parse_input\u001b[0m][\u001b[1;33mWARNING\u001b[0m]  \n",
      "\tNumber of density points larger than number of shells. Assuming inner point irrelevant (\u001b[1mparse_input.py\u001b[0m:143)\n"
     ]
    },
    {
     "name": "stdout",
     "output_type": "stream",
     "text": [
      "[\u001b[1mtardis.model.matter.decay\u001b[0m][\u001b[1;37mINFO\u001b[0m   ]  \n",
      "\tDecaying abundances for 1123200.0 seconds (\u001b[1mdecay.py\u001b[0m:101)\n"
     ]
    },
    {
     "name": "stdout",
     "output_type": "stream",
     "text": [
      "[\u001b[1mtardis.model.matter.decay\u001b[0m][\u001b[1;37mINFO\u001b[0m   ]  \n",
      "\tDecaying abundances for 1123200.0 seconds (\u001b[1mdecay.py\u001b[0m:101)\n"
     ]
    },
    {
     "name": "stdout",
     "output_type": "stream",
     "text": [
      "[\u001b[1mpy.warnings         \u001b[0m][\u001b[1;33mWARNING\u001b[0m]  \n",
      "\t/home/runner/work/tardis/tardis/tardis/plasma/properties/radiative_properties.py:93: RuntimeWarning: invalid value encountered in divide\n",
      "  (g_lower * n_upper) / (g_upper * n_lower)\n",
      " (\u001b[1mwarnings.py\u001b[0m:109)\n"
     ]
    },
    {
     "name": "stdout",
     "output_type": "stream",
     "text": [
      "[\u001b[1mpy.warnings         \u001b[0m][\u001b[1;33mWARNING\u001b[0m]  \n",
      "\t/home/runner/work/tardis/tardis/tardis/plasma/properties/radiative_properties.py:93: RuntimeWarning: invalid value encountered in divide\n",
      "  (g_lower * n_upper) / (g_upper * n_lower)\n",
      " (\u001b[1mwarnings.py\u001b[0m:109)\n"
     ]
    },
    {
     "name": "stdout",
     "output_type": "stream",
     "text": [
      "[\u001b[1mtardis.simulation.base\u001b[0m][\u001b[1;37mINFO\u001b[0m   ]  \n",
      "\t\n",
      "\tStarting iteration 1 of 5 (\u001b[1mbase.py\u001b[0m:391)\n"
     ]
    },
    {
     "data": {
      "application/vnd.jupyter.widget-view+json": {
       "model_id": "e371682d6baf4f578c490b88557c8d0f",
       "version_major": 2,
       "version_minor": 0
      },
      "text/plain": [
       "TqdmHBox(children=(HTML(value='Iterations:', layout=Layout(width='6%')), FloatProgress(value=0.0, layout=Layou…"
      ]
     },
     "metadata": {},
     "output_type": "display_data"
    },
    {
     "data": {
      "application/vnd.jupyter.widget-view+json": {
       "model_id": "24203832d3a64034a263c4a10a9bac8a",
       "version_major": 2,
       "version_minor": 0
      },
      "text/plain": [
       "TqdmHBox(children=(HTML(value='Packets:   ', layout=Layout(width='6%')), FloatProgress(value=0.0, layout=Layou…"
      ]
     },
     "metadata": {},
     "output_type": "display_data"
    },
    {
     "name": "stdout",
     "output_type": "stream",
     "text": [
      "[\u001b[1mtardis.simulation.base\u001b[0m][\u001b[1;37mINFO\u001b[0m   ]  \n",
      "\t\n",
      "\tLuminosity emitted   = 7.947e+42 erg / s\n",
      "\tLuminosity absorbed  = 2.654e+42 erg / s\n",
      "\tLuminosity requested = 1.059e+43 erg / s\n",
      " (\u001b[1mbase.py\u001b[0m:573)\n"
     ]
    },
    {
     "name": "stdout",
     "output_type": "stream",
     "text": [
      "[\u001b[1mtardis.simulation.base\u001b[0m][\u001b[1;37mINFO\u001b[0m   ]  \n",
      "\t\n",
      "\tPlasma stratification: (\u001b[1mbase.py\u001b[0m:541)\n"
     ]
    },
    {
     "data": {
      "text/html": [
       "<style type=\"text/css\">\n",
       "</style>\n",
       "<table id=\"T_dd25f\">\n",
       "  <thead>\n",
       "    <tr>\n",
       "      <th class=\"index_name level0\" >Shell No.</th>\n",
       "      <th id=\"T_dd25f_level0_col0\" class=\"col_heading level0 col0\" >t_rad</th>\n",
       "      <th id=\"T_dd25f_level0_col1\" class=\"col_heading level0 col1\" >next_t_rad</th>\n",
       "      <th id=\"T_dd25f_level0_col2\" class=\"col_heading level0 col2\" >w</th>\n",
       "      <th id=\"T_dd25f_level0_col3\" class=\"col_heading level0 col3\" >next_w</th>\n",
       "    </tr>\n",
       "  </thead>\n",
       "  <tbody>\n",
       "    <tr>\n",
       "      <th id=\"T_dd25f_level0_row0\" class=\"row_heading level0 row0\" >0</th>\n",
       "      <td id=\"T_dd25f_row0_col0\" class=\"data row0 col0\" >9.93e+03 K</td>\n",
       "      <td id=\"T_dd25f_row0_col1\" class=\"data row0 col1\" >1.03e+04 K</td>\n",
       "      <td id=\"T_dd25f_row0_col2\" class=\"data row0 col2\" >0.4</td>\n",
       "      <td id=\"T_dd25f_row0_col3\" class=\"data row0 col3\" >0.481</td>\n",
       "    </tr>\n",
       "    <tr>\n",
       "      <th id=\"T_dd25f_level0_row1\" class=\"row_heading level0 row1\" >5</th>\n",
       "      <td id=\"T_dd25f_row1_col0\" class=\"data row1 col0\" >9.85e+03 K</td>\n",
       "      <td id=\"T_dd25f_row1_col1\" class=\"data row1 col1\" >1.03e+04 K</td>\n",
       "      <td id=\"T_dd25f_row1_col2\" class=\"data row1 col2\" >0.211</td>\n",
       "      <td id=\"T_dd25f_row1_col3\" class=\"data row1 col3\" >0.193</td>\n",
       "    </tr>\n",
       "    <tr>\n",
       "      <th id=\"T_dd25f_level0_row2\" class=\"row_heading level0 row2\" >10</th>\n",
       "      <td id=\"T_dd25f_row2_col0\" class=\"data row2 col0\" >9.78e+03 K</td>\n",
       "      <td id=\"T_dd25f_row2_col1\" class=\"data row2 col1\" >1.02e+04 K</td>\n",
       "      <td id=\"T_dd25f_row2_col2\" class=\"data row2 col2\" >0.143</td>\n",
       "      <td id=\"T_dd25f_row2_col3\" class=\"data row2 col3\" >0.112</td>\n",
       "    </tr>\n",
       "    <tr>\n",
       "      <th id=\"T_dd25f_level0_row3\" class=\"row_heading level0 row3\" >15</th>\n",
       "      <td id=\"T_dd25f_row3_col0\" class=\"data row3 col0\" >9.71e+03 K</td>\n",
       "      <td id=\"T_dd25f_row3_col1\" class=\"data row3 col1\" >9.98e+03 K</td>\n",
       "      <td id=\"T_dd25f_row3_col2\" class=\"data row3 col2\" >0.105</td>\n",
       "      <td id=\"T_dd25f_row3_col3\" class=\"data row3 col3\" >0.0826</td>\n",
       "    </tr>\n",
       "  </tbody>\n",
       "</table>\n"
      ],
      "text/plain": [
       "<pandas.io.formats.style.Styler at 0x7f5fa0e1a750>"
      ]
     },
     "metadata": {},
     "output_type": "display_data"
    },
    {
     "name": "stdout",
     "output_type": "stream",
     "text": [
      "[\u001b[1mtardis.simulation.base\u001b[0m][\u001b[1;37mINFO\u001b[0m   ]  \n",
      "\t\n",
      "\tCurrent t_inner = 9933.952 K\n",
      "\tExpected t_inner for next iteration = 11468.808 K\n",
      " (\u001b[1mbase.py\u001b[0m:568)\n"
     ]
    },
    {
     "name": "stdout",
     "output_type": "stream",
     "text": [
      "[\u001b[1mpy.warnings         \u001b[0m][\u001b[1;33mWARNING\u001b[0m]  \n",
      "\t/home/runner/work/tardis/tardis/tardis/plasma/properties/radiative_properties.py:93: RuntimeWarning: invalid value encountered in divide\n",
      "  (g_lower * n_upper) / (g_upper * n_lower)\n",
      " (\u001b[1mwarnings.py\u001b[0m:109)\n"
     ]
    },
    {
     "name": "stdout",
     "output_type": "stream",
     "text": [
      "[\u001b[1mtardis.simulation.base\u001b[0m][\u001b[1;37mINFO\u001b[0m   ]  \n",
      "\t\n",
      "\tStarting iteration 2 of 5 (\u001b[1mbase.py\u001b[0m:391)\n"
     ]
    },
    {
     "name": "stdout",
     "output_type": "stream",
     "text": [
      "[\u001b[1mtardis.simulation.base\u001b[0m][\u001b[1;37mINFO\u001b[0m   ]  \n",
      "\t\n",
      "\tLuminosity emitted   = 1.413e+43 erg / s\n",
      "\tLuminosity absorbed  = 4.704e+42 erg / s\n",
      "\tLuminosity requested = 1.059e+43 erg / s\n",
      " (\u001b[1mbase.py\u001b[0m:573)\n"
     ]
    },
    {
     "name": "stdout",
     "output_type": "stream",
     "text": [
      "[\u001b[1mtardis.simulation.base\u001b[0m][\u001b[1;37mINFO\u001b[0m   ]  \n",
      "\t\n",
      "\tPlasma stratification: (\u001b[1mbase.py\u001b[0m:541)\n"
     ]
    },
    {
     "data": {
      "text/html": [
       "<style type=\"text/css\">\n",
       "</style>\n",
       "<table id=\"T_94940\">\n",
       "  <thead>\n",
       "    <tr>\n",
       "      <th class=\"index_name level0\" >Shell No.</th>\n",
       "      <th id=\"T_94940_level0_col0\" class=\"col_heading level0 col0\" >t_rad</th>\n",
       "      <th id=\"T_94940_level0_col1\" class=\"col_heading level0 col1\" >next_t_rad</th>\n",
       "      <th id=\"T_94940_level0_col2\" class=\"col_heading level0 col2\" >w</th>\n",
       "      <th id=\"T_94940_level0_col3\" class=\"col_heading level0 col3\" >next_w</th>\n",
       "    </tr>\n",
       "  </thead>\n",
       "  <tbody>\n",
       "    <tr>\n",
       "      <th id=\"T_94940_level0_row0\" class=\"row_heading level0 row0\" >0</th>\n",
       "      <td id=\"T_94940_row0_col0\" class=\"data row0 col0\" >1.03e+04 K</td>\n",
       "      <td id=\"T_94940_row0_col1\" class=\"data row0 col1\" >1.15e+04 K</td>\n",
       "      <td id=\"T_94940_row0_col2\" class=\"data row0 col2\" >0.481</td>\n",
       "      <td id=\"T_94940_row0_col3\" class=\"data row0 col3\" >0.555</td>\n",
       "    </tr>\n",
       "    <tr>\n",
       "      <th id=\"T_94940_level0_row1\" class=\"row_heading level0 row1\" >5</th>\n",
       "      <td id=\"T_94940_row1_col0\" class=\"data row1 col0\" >1.03e+04 K</td>\n",
       "      <td id=\"T_94940_row1_col1\" class=\"data row1 col1\" >1.17e+04 K</td>\n",
       "      <td id=\"T_94940_row1_col2\" class=\"data row1 col2\" >0.193</td>\n",
       "      <td id=\"T_94940_row1_col3\" class=\"data row1 col3\" >0.203</td>\n",
       "    </tr>\n",
       "    <tr>\n",
       "      <th id=\"T_94940_level0_row2\" class=\"row_heading level0 row2\" >10</th>\n",
       "      <td id=\"T_94940_row2_col0\" class=\"data row2 col0\" >1.02e+04 K</td>\n",
       "      <td id=\"T_94940_row2_col1\" class=\"data row2 col1\" >1.13e+04 K</td>\n",
       "      <td id=\"T_94940_row2_col2\" class=\"data row2 col2\" >0.112</td>\n",
       "      <td id=\"T_94940_row2_col3\" class=\"data row2 col3\" >0.135</td>\n",
       "    </tr>\n",
       "    <tr>\n",
       "      <th id=\"T_94940_level0_row3\" class=\"row_heading level0 row3\" >15</th>\n",
       "      <td id=\"T_94940_row3_col0\" class=\"data row3 col0\" >9.98e+03 K</td>\n",
       "      <td id=\"T_94940_row3_col1\" class=\"data row3 col1\" >1.1e+04 K</td>\n",
       "      <td id=\"T_94940_row3_col2\" class=\"data row3 col2\" >0.0826</td>\n",
       "      <td id=\"T_94940_row3_col3\" class=\"data row3 col3\" >0.0998</td>\n",
       "    </tr>\n",
       "  </tbody>\n",
       "</table>\n"
      ],
      "text/plain": [
       "<pandas.io.formats.style.Styler at 0x7f5f9ccba090>"
      ]
     },
     "metadata": {},
     "output_type": "display_data"
    },
    {
     "name": "stdout",
     "output_type": "stream",
     "text": [
      "[\u001b[1mtardis.simulation.base\u001b[0m][\u001b[1;37mINFO\u001b[0m   ]  \n",
      "\t\n",
      "\tCurrent t_inner = 11468.808 K\n",
      "\tExpected t_inner for next iteration = 9929.475 K\n",
      " (\u001b[1mbase.py\u001b[0m:568)\n"
     ]
    },
    {
     "name": "stdout",
     "output_type": "stream",
     "text": [
      "[\u001b[1mpy.warnings         \u001b[0m][\u001b[1;33mWARNING\u001b[0m]  \n",
      "\t/home/runner/work/tardis/tardis/tardis/plasma/properties/radiative_properties.py:93: RuntimeWarning: invalid value encountered in divide\n",
      "  (g_lower * n_upper) / (g_upper * n_lower)\n",
      " (\u001b[1mwarnings.py\u001b[0m:109)\n"
     ]
    },
    {
     "name": "stdout",
     "output_type": "stream",
     "text": [
      "[\u001b[1mtardis.simulation.base\u001b[0m][\u001b[1;37mINFO\u001b[0m   ]  \n",
      "\t\n",
      "\tStarting iteration 3 of 5 (\u001b[1mbase.py\u001b[0m:391)\n"
     ]
    },
    {
     "name": "stdout",
     "output_type": "stream",
     "text": [
      "[\u001b[1mtardis.simulation.base\u001b[0m][\u001b[1;37mINFO\u001b[0m   ]  \n",
      "\t\n",
      "\tLuminosity emitted   = 8.259e+42 erg / s\n",
      "\tLuminosity absorbed  = 2.337e+42 erg / s\n",
      "\tLuminosity requested = 1.059e+43 erg / s\n",
      " (\u001b[1mbase.py\u001b[0m:573)\n"
     ]
    },
    {
     "name": "stdout",
     "output_type": "stream",
     "text": [
      "[\u001b[1mtardis.simulation.base\u001b[0m][\u001b[1;37mINFO\u001b[0m   ]  \n",
      "\t\n",
      "\tPlasma stratification: (\u001b[1mbase.py\u001b[0m:541)\n"
     ]
    },
    {
     "data": {
      "text/html": [
       "<style type=\"text/css\">\n",
       "</style>\n",
       "<table id=\"T_f3e0c\">\n",
       "  <thead>\n",
       "    <tr>\n",
       "      <th class=\"index_name level0\" >Shell No.</th>\n",
       "      <th id=\"T_f3e0c_level0_col0\" class=\"col_heading level0 col0\" >t_rad</th>\n",
       "      <th id=\"T_f3e0c_level0_col1\" class=\"col_heading level0 col1\" >next_t_rad</th>\n",
       "      <th id=\"T_f3e0c_level0_col2\" class=\"col_heading level0 col2\" >w</th>\n",
       "      <th id=\"T_f3e0c_level0_col3\" class=\"col_heading level0 col3\" >next_w</th>\n",
       "    </tr>\n",
       "  </thead>\n",
       "  <tbody>\n",
       "    <tr>\n",
       "      <th id=\"T_f3e0c_level0_row0\" class=\"row_heading level0 row0\" >0</th>\n",
       "      <td id=\"T_f3e0c_row0_col0\" class=\"data row0 col0\" >1.15e+04 K</td>\n",
       "      <td id=\"T_f3e0c_row0_col1\" class=\"data row0 col1\" >1.03e+04 K</td>\n",
       "      <td id=\"T_f3e0c_row0_col2\" class=\"data row0 col2\" >0.555</td>\n",
       "      <td id=\"T_f3e0c_row0_col3\" class=\"data row0 col3\" >0.468</td>\n",
       "    </tr>\n",
       "    <tr>\n",
       "      <th id=\"T_f3e0c_level0_row1\" class=\"row_heading level0 row1\" >5</th>\n",
       "      <td id=\"T_f3e0c_row1_col0\" class=\"data row1 col0\" >1.17e+04 K</td>\n",
       "      <td id=\"T_f3e0c_row1_col1\" class=\"data row1 col1\" >1.05e+04 K</td>\n",
       "      <td id=\"T_f3e0c_row1_col2\" class=\"data row1 col2\" >0.203</td>\n",
       "      <td id=\"T_f3e0c_row1_col3\" class=\"data row1 col3\" >0.181</td>\n",
       "    </tr>\n",
       "    <tr>\n",
       "      <th id=\"T_f3e0c_level0_row2\" class=\"row_heading level0 row2\" >10</th>\n",
       "      <td id=\"T_f3e0c_row2_col0\" class=\"data row2 col0\" >1.13e+04 K</td>\n",
       "      <td id=\"T_f3e0c_row2_col1\" class=\"data row2 col1\" >1.05e+04 K</td>\n",
       "      <td id=\"T_f3e0c_row2_col2\" class=\"data row2 col2\" >0.135</td>\n",
       "      <td id=\"T_f3e0c_row2_col3\" class=\"data row2 col3\" >0.108</td>\n",
       "    </tr>\n",
       "    <tr>\n",
       "      <th id=\"T_f3e0c_level0_row3\" class=\"row_heading level0 row3\" >15</th>\n",
       "      <td id=\"T_f3e0c_row3_col0\" class=\"data row3 col0\" >1.1e+04 K</td>\n",
       "      <td id=\"T_f3e0c_row3_col1\" class=\"data row3 col1\" >1.03e+04 K</td>\n",
       "      <td id=\"T_f3e0c_row3_col2\" class=\"data row3 col2\" >0.0998</td>\n",
       "      <td id=\"T_f3e0c_row3_col3\" class=\"data row3 col3\" >0.0779</td>\n",
       "    </tr>\n",
       "  </tbody>\n",
       "</table>\n"
      ],
      "text/plain": [
       "<pandas.io.formats.style.Styler at 0x7f5f9ccba810>"
      ]
     },
     "metadata": {},
     "output_type": "display_data"
    },
    {
     "name": "stdout",
     "output_type": "stream",
     "text": [
      "[\u001b[1mtardis.simulation.base\u001b[0m][\u001b[1;37mINFO\u001b[0m   ]  \n",
      "\t\n",
      "\tCurrent t_inner = 9929.475 K\n",
      "\tExpected t_inner for next iteration = 11245.497 K\n",
      " (\u001b[1mbase.py\u001b[0m:568)\n"
     ]
    },
    {
     "name": "stdout",
     "output_type": "stream",
     "text": [
      "[\u001b[1mpy.warnings         \u001b[0m][\u001b[1;33mWARNING\u001b[0m]  \n",
      "\t/home/runner/work/tardis/tardis/tardis/plasma/properties/radiative_properties.py:93: RuntimeWarning: invalid value encountered in divide\n",
      "  (g_lower * n_upper) / (g_upper * n_lower)\n",
      " (\u001b[1mwarnings.py\u001b[0m:109)\n"
     ]
    },
    {
     "name": "stdout",
     "output_type": "stream",
     "text": [
      "[\u001b[1mtardis.simulation.base\u001b[0m][\u001b[1;37mINFO\u001b[0m   ]  \n",
      "\t\n",
      "\tStarting iteration 4 of 5 (\u001b[1mbase.py\u001b[0m:391)\n"
     ]
    },
    {
     "name": "stdout",
     "output_type": "stream",
     "text": [
      "[\u001b[1mtardis.simulation.base\u001b[0m][\u001b[1;37mINFO\u001b[0m   ]  \n",
      "\t\n",
      "\tLuminosity emitted   = 1.299e+43 erg / s\n",
      "\tLuminosity absorbed  = 4.407e+42 erg / s\n",
      "\tLuminosity requested = 1.059e+43 erg / s\n",
      " (\u001b[1mbase.py\u001b[0m:573)\n"
     ]
    },
    {
     "name": "stdout",
     "output_type": "stream",
     "text": [
      "[\u001b[1mtardis.simulation.base\u001b[0m][\u001b[1;37mINFO\u001b[0m   ]  \n",
      "\t\n",
      "\tPlasma stratification: (\u001b[1mbase.py\u001b[0m:541)\n"
     ]
    },
    {
     "data": {
      "text/html": [
       "<style type=\"text/css\">\n",
       "</style>\n",
       "<table id=\"T_a327f\">\n",
       "  <thead>\n",
       "    <tr>\n",
       "      <th class=\"index_name level0\" >Shell No.</th>\n",
       "      <th id=\"T_a327f_level0_col0\" class=\"col_heading level0 col0\" >t_rad</th>\n",
       "      <th id=\"T_a327f_level0_col1\" class=\"col_heading level0 col1\" >next_t_rad</th>\n",
       "      <th id=\"T_a327f_level0_col2\" class=\"col_heading level0 col2\" >w</th>\n",
       "      <th id=\"T_a327f_level0_col3\" class=\"col_heading level0 col3\" >next_w</th>\n",
       "    </tr>\n",
       "  </thead>\n",
       "  <tbody>\n",
       "    <tr>\n",
       "      <th id=\"T_a327f_level0_row0\" class=\"row_heading level0 row0\" >0</th>\n",
       "      <td id=\"T_a327f_row0_col0\" class=\"data row0 col0\" >1.03e+04 K</td>\n",
       "      <td id=\"T_a327f_row0_col1\" class=\"data row0 col1\" >1.14e+04 K</td>\n",
       "      <td id=\"T_a327f_row0_col2\" class=\"data row0 col2\" >0.468</td>\n",
       "      <td id=\"T_a327f_row0_col3\" class=\"data row0 col3\" >0.527</td>\n",
       "    </tr>\n",
       "    <tr>\n",
       "      <th id=\"T_a327f_level0_row1\" class=\"row_heading level0 row1\" >5</th>\n",
       "      <td id=\"T_a327f_row1_col0\" class=\"data row1 col0\" >1.05e+04 K</td>\n",
       "      <td id=\"T_a327f_row1_col1\" class=\"data row1 col1\" >1.13e+04 K</td>\n",
       "      <td id=\"T_a327f_row1_col2\" class=\"data row1 col2\" >0.181</td>\n",
       "      <td id=\"T_a327f_row1_col3\" class=\"data row1 col3\" >0.225</td>\n",
       "    </tr>\n",
       "    <tr>\n",
       "      <th id=\"T_a327f_level0_row2\" class=\"row_heading level0 row2\" >10</th>\n",
       "      <td id=\"T_a327f_row2_col0\" class=\"data row2 col0\" >1.05e+04 K</td>\n",
       "      <td id=\"T_a327f_row2_col1\" class=\"data row2 col1\" >1.12e+04 K</td>\n",
       "      <td id=\"T_a327f_row2_col2\" class=\"data row2 col2\" >0.108</td>\n",
       "      <td id=\"T_a327f_row2_col3\" class=\"data row2 col3\" >0.126</td>\n",
       "    </tr>\n",
       "    <tr>\n",
       "      <th id=\"T_a327f_level0_row3\" class=\"row_heading level0 row3\" >15</th>\n",
       "      <td id=\"T_a327f_row3_col0\" class=\"data row3 col0\" >1.03e+04 K</td>\n",
       "      <td id=\"T_a327f_row3_col1\" class=\"data row3 col1\" >1.1e+04 K</td>\n",
       "      <td id=\"T_a327f_row3_col2\" class=\"data row3 col2\" >0.0779</td>\n",
       "      <td id=\"T_a327f_row3_col3\" class=\"data row3 col3\" >0.0926</td>\n",
       "    </tr>\n",
       "  </tbody>\n",
       "</table>\n"
      ],
      "text/plain": [
       "<pandas.io.formats.style.Styler at 0x7f5f9cf503d0>"
      ]
     },
     "metadata": {},
     "output_type": "display_data"
    },
    {
     "name": "stdout",
     "output_type": "stream",
     "text": [
      "[\u001b[1mtardis.simulation.base\u001b[0m][\u001b[1;37mINFO\u001b[0m   ]  \n",
      "\t\n",
      "\tCurrent t_inner = 11245.497 K\n",
      "\tExpected t_inner for next iteration = 10153.431 K\n",
      " (\u001b[1mbase.py\u001b[0m:568)\n"
     ]
    },
    {
     "name": "stdout",
     "output_type": "stream",
     "text": [
      "[\u001b[1mpy.warnings         \u001b[0m][\u001b[1;33mWARNING\u001b[0m]  \n",
      "\t/home/runner/work/tardis/tardis/tardis/plasma/properties/radiative_properties.py:93: RuntimeWarning: invalid value encountered in divide\n",
      "  (g_lower * n_upper) / (g_upper * n_lower)\n",
      " (\u001b[1mwarnings.py\u001b[0m:109)\n"
     ]
    },
    {
     "name": "stdout",
     "output_type": "stream",
     "text": [
      "[\u001b[1mtardis.simulation.base\u001b[0m][\u001b[1;37mINFO\u001b[0m   ]  \n",
      "\t\n",
      "\tSimulation finished in 4 iterations \n",
      "\tSimulation took 0.39 s\n",
      " (\u001b[1mbase.py\u001b[0m:469)\n"
     ]
    },
    {
     "name": "stdout",
     "output_type": "stream",
     "text": [
      "[\u001b[1mtardis.simulation.base\u001b[0m][\u001b[1;37mINFO\u001b[0m   ]  \n",
      "\t\n",
      "\tStarting iteration 5 of 5 (\u001b[1mbase.py\u001b[0m:391)\n"
     ]
    },
    {
     "name": "stdout",
     "output_type": "stream",
     "text": [
      "[\u001b[1mtardis.simulation.base\u001b[0m][\u001b[1;37mINFO\u001b[0m   ]  \n",
      "\t\n",
      "\tLuminosity emitted   = 8.742e+42 erg / s\n",
      "\tLuminosity absorbed  = 2.834e+42 erg / s\n",
      "\tLuminosity requested = 1.059e+43 erg / s\n",
      " (\u001b[1mbase.py\u001b[0m:573)\n"
     ]
    }
   ],
   "source": [
    "sim = run_tardis(config, log_level=\"Info\")"
   ]
  },
  {
   "cell_type": "markdown",
   "id": "674f4972",
   "metadata": {},
   "source": [
    "A new message can be seen from the execution of the simulation,\n",
    "```\n",
    "log_level is defined both in Functional Argument & YAML Configuration {debug section}\n",
    "log_level = Info will be used for Log Level Determination\n",
    "```\n",
    "that is informing the user which input log level value will determine the logging level. Thus, `log_level = \"Info\"` is used for logging the simulation output."
   ]
  },
  {
   "cell_type": "markdown",
   "id": "9ff806bd",
   "metadata": {},
   "source": [
    "In regards to the `specific_log_level` parameter, if any of the config input value is `True`, then `specific_log_level` will be set to `True` for the simulation output."
   ]
  },
  {
   "cell_type": "code",
   "execution_count": 16,
   "id": "5d1900f5",
   "metadata": {
    "execution": {
     "iopub.execute_input": "2024-02-06T22:03:43.474477Z",
     "iopub.status.busy": "2024-02-06T22:03:43.474014Z",
     "iopub.status.idle": "2024-02-06T22:03:45.252216Z",
     "shell.execute_reply": "2024-02-06T22:03:45.251528Z"
    },
    "scrolled": false
   },
   "outputs": [
    {
     "name": "stdout",
     "output_type": "stream",
     "text": [
      "log_level is defined both in Functional Argument & YAML Configuration {debug section}\n",
      "log_level = INFO will be used for Log Level Determination\n",
      "\n",
      "[\u001b[1mtardis.simulation.base\u001b[0m][\u001b[1;37mINFO\u001b[0m   ]  \n",
      "\t\n",
      "\tReading Atomic Data from kurucz_cd23_chianti_H_He.h5 (\u001b[1mbase.py\u001b[0m:674)\n"
     ]
    },
    {
     "name": "stdout",
     "output_type": "stream",
     "text": [
      "[\u001b[1mtardis.io.atom_data.util\u001b[0m][\u001b[1;37mINFO\u001b[0m   ]  \n",
      "\t\n",
      "\tAtom Data kurucz_cd23_chianti_H_He.h5 not found in local path.\n",
      "\tExists in TARDIS Data repo /home/runner/Downloads/tardis-data/kurucz_cd23_chianti_H_He.h5 (\u001b[1mutil.py\u001b[0m:33)\n"
     ]
    },
    {
     "name": "stdout",
     "output_type": "stream",
     "text": [
      "[\u001b[1mtardis.io.atom_data.base\u001b[0m][\u001b[1;37mINFO\u001b[0m   ]  \n",
      "\tReading Atom Data with: UUID = 6f7b09e887a311e7a06b246e96350010 MD5  = 864f1753714343c41f99cb065710cace  (\u001b[1mbase.py\u001b[0m:258)\n"
     ]
    },
    {
     "name": "stdout",
     "output_type": "stream",
     "text": [
      "[\u001b[1mtardis.io.atom_data.base\u001b[0m][\u001b[1;37mINFO\u001b[0m   ]  \n",
      "\tNon provided Atomic Data: synpp_refs, photoionization_data, yg_data, two_photon_data, linelist (\u001b[1mbase.py\u001b[0m:262)\n"
     ]
    },
    {
     "name": "stdout",
     "output_type": "stream",
     "text": [
      "[\u001b[1mtardis.model.parse_input\u001b[0m][\u001b[1;33mWARNING\u001b[0m]  \n",
      "\tNumber of density points larger than number of shells. Assuming inner point irrelevant (\u001b[1mparse_input.py\u001b[0m:143)\n"
     ]
    },
    {
     "name": "stdout",
     "output_type": "stream",
     "text": [
      "[\u001b[1mtardis.model.matter.decay\u001b[0m][\u001b[1;37mINFO\u001b[0m   ]  \n",
      "\tDecaying abundances for 1123200.0 seconds (\u001b[1mdecay.py\u001b[0m:101)\n"
     ]
    },
    {
     "name": "stdout",
     "output_type": "stream",
     "text": [
      "[\u001b[1mtardis.model.matter.decay\u001b[0m][\u001b[1;37mINFO\u001b[0m   ]  \n",
      "\tDecaying abundances for 1123200.0 seconds (\u001b[1mdecay.py\u001b[0m:101)\n"
     ]
    },
    {
     "name": "stdout",
     "output_type": "stream",
     "text": [
      "[\u001b[1mpy.warnings         \u001b[0m][\u001b[1;33mWARNING\u001b[0m]  \n",
      "\t/home/runner/work/tardis/tardis/tardis/plasma/properties/radiative_properties.py:93: RuntimeWarning: invalid value encountered in divide\n",
      "  (g_lower * n_upper) / (g_upper * n_lower)\n",
      " (\u001b[1mwarnings.py\u001b[0m:109)\n"
     ]
    },
    {
     "name": "stdout",
     "output_type": "stream",
     "text": [
      "[\u001b[1mpy.warnings         \u001b[0m][\u001b[1;33mWARNING\u001b[0m]  \n",
      "\t/home/runner/work/tardis/tardis/tardis/plasma/properties/radiative_properties.py:93: RuntimeWarning: invalid value encountered in divide\n",
      "  (g_lower * n_upper) / (g_upper * n_lower)\n",
      " (\u001b[1mwarnings.py\u001b[0m:109)\n"
     ]
    },
    {
     "name": "stdout",
     "output_type": "stream",
     "text": [
      "[\u001b[1mtardis.simulation.base\u001b[0m][\u001b[1;37mINFO\u001b[0m   ]  \n",
      "\t\n",
      "\tStarting iteration 1 of 5 (\u001b[1mbase.py\u001b[0m:391)\n"
     ]
    },
    {
     "data": {
      "application/vnd.jupyter.widget-view+json": {
       "model_id": "332c519d200e45639037c0ff05b058cc",
       "version_major": 2,
       "version_minor": 0
      },
      "text/plain": [
       "TqdmHBox(children=(HTML(value='Iterations:', layout=Layout(width='6%')), FloatProgress(value=0.0, layout=Layou…"
      ]
     },
     "metadata": {},
     "output_type": "display_data"
    },
    {
     "data": {
      "application/vnd.jupyter.widget-view+json": {
       "model_id": "2e380c3a814f42c69207613824c0db06",
       "version_major": 2,
       "version_minor": 0
      },
      "text/plain": [
       "TqdmHBox(children=(HTML(value='Packets:   ', layout=Layout(width='6%')), FloatProgress(value=0.0, layout=Layou…"
      ]
     },
     "metadata": {},
     "output_type": "display_data"
    },
    {
     "name": "stdout",
     "output_type": "stream",
     "text": [
      "[\u001b[1mtardis.simulation.base\u001b[0m][\u001b[1;37mINFO\u001b[0m   ]  \n",
      "\t\n",
      "\tLuminosity emitted   = 7.947e+42 erg / s\n",
      "\tLuminosity absorbed  = 2.654e+42 erg / s\n",
      "\tLuminosity requested = 1.059e+43 erg / s\n",
      " (\u001b[1mbase.py\u001b[0m:573)\n"
     ]
    },
    {
     "name": "stdout",
     "output_type": "stream",
     "text": [
      "[\u001b[1mtardis.simulation.base\u001b[0m][\u001b[1;37mINFO\u001b[0m   ]  \n",
      "\t\n",
      "\tPlasma stratification: (\u001b[1mbase.py\u001b[0m:541)\n"
     ]
    },
    {
     "data": {
      "text/html": [
       "<style type=\"text/css\">\n",
       "</style>\n",
       "<table id=\"T_71a82\">\n",
       "  <thead>\n",
       "    <tr>\n",
       "      <th class=\"index_name level0\" >Shell No.</th>\n",
       "      <th id=\"T_71a82_level0_col0\" class=\"col_heading level0 col0\" >t_rad</th>\n",
       "      <th id=\"T_71a82_level0_col1\" class=\"col_heading level0 col1\" >next_t_rad</th>\n",
       "      <th id=\"T_71a82_level0_col2\" class=\"col_heading level0 col2\" >w</th>\n",
       "      <th id=\"T_71a82_level0_col3\" class=\"col_heading level0 col3\" >next_w</th>\n",
       "    </tr>\n",
       "  </thead>\n",
       "  <tbody>\n",
       "    <tr>\n",
       "      <th id=\"T_71a82_level0_row0\" class=\"row_heading level0 row0\" >0</th>\n",
       "      <td id=\"T_71a82_row0_col0\" class=\"data row0 col0\" >9.93e+03 K</td>\n",
       "      <td id=\"T_71a82_row0_col1\" class=\"data row0 col1\" >1.03e+04 K</td>\n",
       "      <td id=\"T_71a82_row0_col2\" class=\"data row0 col2\" >0.4</td>\n",
       "      <td id=\"T_71a82_row0_col3\" class=\"data row0 col3\" >0.481</td>\n",
       "    </tr>\n",
       "    <tr>\n",
       "      <th id=\"T_71a82_level0_row1\" class=\"row_heading level0 row1\" >5</th>\n",
       "      <td id=\"T_71a82_row1_col0\" class=\"data row1 col0\" >9.85e+03 K</td>\n",
       "      <td id=\"T_71a82_row1_col1\" class=\"data row1 col1\" >1.03e+04 K</td>\n",
       "      <td id=\"T_71a82_row1_col2\" class=\"data row1 col2\" >0.211</td>\n",
       "      <td id=\"T_71a82_row1_col3\" class=\"data row1 col3\" >0.193</td>\n",
       "    </tr>\n",
       "    <tr>\n",
       "      <th id=\"T_71a82_level0_row2\" class=\"row_heading level0 row2\" >10</th>\n",
       "      <td id=\"T_71a82_row2_col0\" class=\"data row2 col0\" >9.78e+03 K</td>\n",
       "      <td id=\"T_71a82_row2_col1\" class=\"data row2 col1\" >1.02e+04 K</td>\n",
       "      <td id=\"T_71a82_row2_col2\" class=\"data row2 col2\" >0.143</td>\n",
       "      <td id=\"T_71a82_row2_col3\" class=\"data row2 col3\" >0.112</td>\n",
       "    </tr>\n",
       "    <tr>\n",
       "      <th id=\"T_71a82_level0_row3\" class=\"row_heading level0 row3\" >15</th>\n",
       "      <td id=\"T_71a82_row3_col0\" class=\"data row3 col0\" >9.71e+03 K</td>\n",
       "      <td id=\"T_71a82_row3_col1\" class=\"data row3 col1\" >9.98e+03 K</td>\n",
       "      <td id=\"T_71a82_row3_col2\" class=\"data row3 col2\" >0.105</td>\n",
       "      <td id=\"T_71a82_row3_col3\" class=\"data row3 col3\" >0.0826</td>\n",
       "    </tr>\n",
       "  </tbody>\n",
       "</table>\n"
      ],
      "text/plain": [
       "<pandas.io.formats.style.Styler at 0x7f5fa0e18d50>"
      ]
     },
     "metadata": {},
     "output_type": "display_data"
    },
    {
     "name": "stdout",
     "output_type": "stream",
     "text": [
      "[\u001b[1mtardis.simulation.base\u001b[0m][\u001b[1;37mINFO\u001b[0m   ]  \n",
      "\t\n",
      "\tCurrent t_inner = 9933.952 K\n",
      "\tExpected t_inner for next iteration = 11468.808 K\n",
      " (\u001b[1mbase.py\u001b[0m:568)\n"
     ]
    },
    {
     "name": "stdout",
     "output_type": "stream",
     "text": [
      "[\u001b[1mpy.warnings         \u001b[0m][\u001b[1;33mWARNING\u001b[0m]  \n",
      "\t/home/runner/work/tardis/tardis/tardis/plasma/properties/radiative_properties.py:93: RuntimeWarning: invalid value encountered in divide\n",
      "  (g_lower * n_upper) / (g_upper * n_lower)\n",
      " (\u001b[1mwarnings.py\u001b[0m:109)\n"
     ]
    },
    {
     "name": "stdout",
     "output_type": "stream",
     "text": [
      "[\u001b[1mtardis.simulation.base\u001b[0m][\u001b[1;37mINFO\u001b[0m   ]  \n",
      "\t\n",
      "\tStarting iteration 2 of 5 (\u001b[1mbase.py\u001b[0m:391)\n"
     ]
    },
    {
     "name": "stdout",
     "output_type": "stream",
     "text": [
      "[\u001b[1mtardis.simulation.base\u001b[0m][\u001b[1;37mINFO\u001b[0m   ]  \n",
      "\t\n",
      "\tLuminosity emitted   = 1.413e+43 erg / s\n",
      "\tLuminosity absorbed  = 4.704e+42 erg / s\n",
      "\tLuminosity requested = 1.059e+43 erg / s\n",
      " (\u001b[1mbase.py\u001b[0m:573)\n"
     ]
    },
    {
     "name": "stdout",
     "output_type": "stream",
     "text": [
      "[\u001b[1mtardis.simulation.base\u001b[0m][\u001b[1;37mINFO\u001b[0m   ]  \n",
      "\t\n",
      "\tPlasma stratification: (\u001b[1mbase.py\u001b[0m:541)\n"
     ]
    },
    {
     "data": {
      "text/html": [
       "<style type=\"text/css\">\n",
       "</style>\n",
       "<table id=\"T_2b9bc\">\n",
       "  <thead>\n",
       "    <tr>\n",
       "      <th class=\"index_name level0\" >Shell No.</th>\n",
       "      <th id=\"T_2b9bc_level0_col0\" class=\"col_heading level0 col0\" >t_rad</th>\n",
       "      <th id=\"T_2b9bc_level0_col1\" class=\"col_heading level0 col1\" >next_t_rad</th>\n",
       "      <th id=\"T_2b9bc_level0_col2\" class=\"col_heading level0 col2\" >w</th>\n",
       "      <th id=\"T_2b9bc_level0_col3\" class=\"col_heading level0 col3\" >next_w</th>\n",
       "    </tr>\n",
       "  </thead>\n",
       "  <tbody>\n",
       "    <tr>\n",
       "      <th id=\"T_2b9bc_level0_row0\" class=\"row_heading level0 row0\" >0</th>\n",
       "      <td id=\"T_2b9bc_row0_col0\" class=\"data row0 col0\" >1.03e+04 K</td>\n",
       "      <td id=\"T_2b9bc_row0_col1\" class=\"data row0 col1\" >1.15e+04 K</td>\n",
       "      <td id=\"T_2b9bc_row0_col2\" class=\"data row0 col2\" >0.481</td>\n",
       "      <td id=\"T_2b9bc_row0_col3\" class=\"data row0 col3\" >0.555</td>\n",
       "    </tr>\n",
       "    <tr>\n",
       "      <th id=\"T_2b9bc_level0_row1\" class=\"row_heading level0 row1\" >5</th>\n",
       "      <td id=\"T_2b9bc_row1_col0\" class=\"data row1 col0\" >1.03e+04 K</td>\n",
       "      <td id=\"T_2b9bc_row1_col1\" class=\"data row1 col1\" >1.17e+04 K</td>\n",
       "      <td id=\"T_2b9bc_row1_col2\" class=\"data row1 col2\" >0.193</td>\n",
       "      <td id=\"T_2b9bc_row1_col3\" class=\"data row1 col3\" >0.203</td>\n",
       "    </tr>\n",
       "    <tr>\n",
       "      <th id=\"T_2b9bc_level0_row2\" class=\"row_heading level0 row2\" >10</th>\n",
       "      <td id=\"T_2b9bc_row2_col0\" class=\"data row2 col0\" >1.02e+04 K</td>\n",
       "      <td id=\"T_2b9bc_row2_col1\" class=\"data row2 col1\" >1.13e+04 K</td>\n",
       "      <td id=\"T_2b9bc_row2_col2\" class=\"data row2 col2\" >0.112</td>\n",
       "      <td id=\"T_2b9bc_row2_col3\" class=\"data row2 col3\" >0.135</td>\n",
       "    </tr>\n",
       "    <tr>\n",
       "      <th id=\"T_2b9bc_level0_row3\" class=\"row_heading level0 row3\" >15</th>\n",
       "      <td id=\"T_2b9bc_row3_col0\" class=\"data row3 col0\" >9.98e+03 K</td>\n",
       "      <td id=\"T_2b9bc_row3_col1\" class=\"data row3 col1\" >1.1e+04 K</td>\n",
       "      <td id=\"T_2b9bc_row3_col2\" class=\"data row3 col2\" >0.0826</td>\n",
       "      <td id=\"T_2b9bc_row3_col3\" class=\"data row3 col3\" >0.0998</td>\n",
       "    </tr>\n",
       "  </tbody>\n",
       "</table>\n"
      ],
      "text/plain": [
       "<pandas.io.formats.style.Styler at 0x7f5fa5216f90>"
      ]
     },
     "metadata": {},
     "output_type": "display_data"
    },
    {
     "name": "stdout",
     "output_type": "stream",
     "text": [
      "[\u001b[1mtardis.simulation.base\u001b[0m][\u001b[1;37mINFO\u001b[0m   ]  \n",
      "\t\n",
      "\tCurrent t_inner = 11468.808 K\n",
      "\tExpected t_inner for next iteration = 9929.475 K\n",
      " (\u001b[1mbase.py\u001b[0m:568)\n"
     ]
    },
    {
     "name": "stdout",
     "output_type": "stream",
     "text": [
      "[\u001b[1mpy.warnings         \u001b[0m][\u001b[1;33mWARNING\u001b[0m]  \n",
      "\t/home/runner/work/tardis/tardis/tardis/plasma/properties/radiative_properties.py:93: RuntimeWarning: invalid value encountered in divide\n",
      "  (g_lower * n_upper) / (g_upper * n_lower)\n",
      " (\u001b[1mwarnings.py\u001b[0m:109)\n"
     ]
    },
    {
     "name": "stdout",
     "output_type": "stream",
     "text": [
      "[\u001b[1mtardis.simulation.base\u001b[0m][\u001b[1;37mINFO\u001b[0m   ]  \n",
      "\t\n",
      "\tStarting iteration 3 of 5 (\u001b[1mbase.py\u001b[0m:391)\n"
     ]
    },
    {
     "name": "stdout",
     "output_type": "stream",
     "text": [
      "[\u001b[1mtardis.simulation.base\u001b[0m][\u001b[1;37mINFO\u001b[0m   ]  \n",
      "\t\n",
      "\tLuminosity emitted   = 8.259e+42 erg / s\n",
      "\tLuminosity absorbed  = 2.337e+42 erg / s\n",
      "\tLuminosity requested = 1.059e+43 erg / s\n",
      " (\u001b[1mbase.py\u001b[0m:573)\n"
     ]
    },
    {
     "name": "stdout",
     "output_type": "stream",
     "text": [
      "[\u001b[1mtardis.simulation.base\u001b[0m][\u001b[1;37mINFO\u001b[0m   ]  \n",
      "\t\n",
      "\tPlasma stratification: (\u001b[1mbase.py\u001b[0m:541)\n"
     ]
    },
    {
     "data": {
      "text/html": [
       "<style type=\"text/css\">\n",
       "</style>\n",
       "<table id=\"T_e823c\">\n",
       "  <thead>\n",
       "    <tr>\n",
       "      <th class=\"index_name level0\" >Shell No.</th>\n",
       "      <th id=\"T_e823c_level0_col0\" class=\"col_heading level0 col0\" >t_rad</th>\n",
       "      <th id=\"T_e823c_level0_col1\" class=\"col_heading level0 col1\" >next_t_rad</th>\n",
       "      <th id=\"T_e823c_level0_col2\" class=\"col_heading level0 col2\" >w</th>\n",
       "      <th id=\"T_e823c_level0_col3\" class=\"col_heading level0 col3\" >next_w</th>\n",
       "    </tr>\n",
       "  </thead>\n",
       "  <tbody>\n",
       "    <tr>\n",
       "      <th id=\"T_e823c_level0_row0\" class=\"row_heading level0 row0\" >0</th>\n",
       "      <td id=\"T_e823c_row0_col0\" class=\"data row0 col0\" >1.15e+04 K</td>\n",
       "      <td id=\"T_e823c_row0_col1\" class=\"data row0 col1\" >1.03e+04 K</td>\n",
       "      <td id=\"T_e823c_row0_col2\" class=\"data row0 col2\" >0.555</td>\n",
       "      <td id=\"T_e823c_row0_col3\" class=\"data row0 col3\" >0.468</td>\n",
       "    </tr>\n",
       "    <tr>\n",
       "      <th id=\"T_e823c_level0_row1\" class=\"row_heading level0 row1\" >5</th>\n",
       "      <td id=\"T_e823c_row1_col0\" class=\"data row1 col0\" >1.17e+04 K</td>\n",
       "      <td id=\"T_e823c_row1_col1\" class=\"data row1 col1\" >1.05e+04 K</td>\n",
       "      <td id=\"T_e823c_row1_col2\" class=\"data row1 col2\" >0.203</td>\n",
       "      <td id=\"T_e823c_row1_col3\" class=\"data row1 col3\" >0.181</td>\n",
       "    </tr>\n",
       "    <tr>\n",
       "      <th id=\"T_e823c_level0_row2\" class=\"row_heading level0 row2\" >10</th>\n",
       "      <td id=\"T_e823c_row2_col0\" class=\"data row2 col0\" >1.13e+04 K</td>\n",
       "      <td id=\"T_e823c_row2_col1\" class=\"data row2 col1\" >1.05e+04 K</td>\n",
       "      <td id=\"T_e823c_row2_col2\" class=\"data row2 col2\" >0.135</td>\n",
       "      <td id=\"T_e823c_row2_col3\" class=\"data row2 col3\" >0.108</td>\n",
       "    </tr>\n",
       "    <tr>\n",
       "      <th id=\"T_e823c_level0_row3\" class=\"row_heading level0 row3\" >15</th>\n",
       "      <td id=\"T_e823c_row3_col0\" class=\"data row3 col0\" >1.1e+04 K</td>\n",
       "      <td id=\"T_e823c_row3_col1\" class=\"data row3 col1\" >1.03e+04 K</td>\n",
       "      <td id=\"T_e823c_row3_col2\" class=\"data row3 col2\" >0.0998</td>\n",
       "      <td id=\"T_e823c_row3_col3\" class=\"data row3 col3\" >0.0779</td>\n",
       "    </tr>\n",
       "  </tbody>\n",
       "</table>\n"
      ],
      "text/plain": [
       "<pandas.io.formats.style.Styler at 0x7f5f8d63c4d0>"
      ]
     },
     "metadata": {},
     "output_type": "display_data"
    },
    {
     "name": "stdout",
     "output_type": "stream",
     "text": [
      "[\u001b[1mtardis.simulation.base\u001b[0m][\u001b[1;37mINFO\u001b[0m   ]  \n",
      "\t\n",
      "\tCurrent t_inner = 9929.475 K\n",
      "\tExpected t_inner for next iteration = 11245.497 K\n",
      " (\u001b[1mbase.py\u001b[0m:568)\n"
     ]
    },
    {
     "name": "stdout",
     "output_type": "stream",
     "text": [
      "[\u001b[1mpy.warnings         \u001b[0m][\u001b[1;33mWARNING\u001b[0m]  \n",
      "\t/home/runner/work/tardis/tardis/tardis/plasma/properties/radiative_properties.py:93: RuntimeWarning: invalid value encountered in divide\n",
      "  (g_lower * n_upper) / (g_upper * n_lower)\n",
      " (\u001b[1mwarnings.py\u001b[0m:109)\n"
     ]
    },
    {
     "name": "stdout",
     "output_type": "stream",
     "text": [
      "[\u001b[1mtardis.simulation.base\u001b[0m][\u001b[1;37mINFO\u001b[0m   ]  \n",
      "\t\n",
      "\tStarting iteration 4 of 5 (\u001b[1mbase.py\u001b[0m:391)\n"
     ]
    },
    {
     "name": "stdout",
     "output_type": "stream",
     "text": [
      "[\u001b[1mtardis.simulation.base\u001b[0m][\u001b[1;37mINFO\u001b[0m   ]  \n",
      "\t\n",
      "\tLuminosity emitted   = 1.299e+43 erg / s\n",
      "\tLuminosity absorbed  = 4.407e+42 erg / s\n",
      "\tLuminosity requested = 1.059e+43 erg / s\n",
      " (\u001b[1mbase.py\u001b[0m:573)\n"
     ]
    },
    {
     "name": "stdout",
     "output_type": "stream",
     "text": [
      "[\u001b[1mtardis.simulation.base\u001b[0m][\u001b[1;37mINFO\u001b[0m   ]  \n",
      "\t\n",
      "\tPlasma stratification: (\u001b[1mbase.py\u001b[0m:541)\n"
     ]
    },
    {
     "data": {
      "text/html": [
       "<style type=\"text/css\">\n",
       "</style>\n",
       "<table id=\"T_6201e\">\n",
       "  <thead>\n",
       "    <tr>\n",
       "      <th class=\"index_name level0\" >Shell No.</th>\n",
       "      <th id=\"T_6201e_level0_col0\" class=\"col_heading level0 col0\" >t_rad</th>\n",
       "      <th id=\"T_6201e_level0_col1\" class=\"col_heading level0 col1\" >next_t_rad</th>\n",
       "      <th id=\"T_6201e_level0_col2\" class=\"col_heading level0 col2\" >w</th>\n",
       "      <th id=\"T_6201e_level0_col3\" class=\"col_heading level0 col3\" >next_w</th>\n",
       "    </tr>\n",
       "  </thead>\n",
       "  <tbody>\n",
       "    <tr>\n",
       "      <th id=\"T_6201e_level0_row0\" class=\"row_heading level0 row0\" >0</th>\n",
       "      <td id=\"T_6201e_row0_col0\" class=\"data row0 col0\" >1.03e+04 K</td>\n",
       "      <td id=\"T_6201e_row0_col1\" class=\"data row0 col1\" >1.14e+04 K</td>\n",
       "      <td id=\"T_6201e_row0_col2\" class=\"data row0 col2\" >0.468</td>\n",
       "      <td id=\"T_6201e_row0_col3\" class=\"data row0 col3\" >0.527</td>\n",
       "    </tr>\n",
       "    <tr>\n",
       "      <th id=\"T_6201e_level0_row1\" class=\"row_heading level0 row1\" >5</th>\n",
       "      <td id=\"T_6201e_row1_col0\" class=\"data row1 col0\" >1.05e+04 K</td>\n",
       "      <td id=\"T_6201e_row1_col1\" class=\"data row1 col1\" >1.13e+04 K</td>\n",
       "      <td id=\"T_6201e_row1_col2\" class=\"data row1 col2\" >0.181</td>\n",
       "      <td id=\"T_6201e_row1_col3\" class=\"data row1 col3\" >0.225</td>\n",
       "    </tr>\n",
       "    <tr>\n",
       "      <th id=\"T_6201e_level0_row2\" class=\"row_heading level0 row2\" >10</th>\n",
       "      <td id=\"T_6201e_row2_col0\" class=\"data row2 col0\" >1.05e+04 K</td>\n",
       "      <td id=\"T_6201e_row2_col1\" class=\"data row2 col1\" >1.12e+04 K</td>\n",
       "      <td id=\"T_6201e_row2_col2\" class=\"data row2 col2\" >0.108</td>\n",
       "      <td id=\"T_6201e_row2_col3\" class=\"data row2 col3\" >0.126</td>\n",
       "    </tr>\n",
       "    <tr>\n",
       "      <th id=\"T_6201e_level0_row3\" class=\"row_heading level0 row3\" >15</th>\n",
       "      <td id=\"T_6201e_row3_col0\" class=\"data row3 col0\" >1.03e+04 K</td>\n",
       "      <td id=\"T_6201e_row3_col1\" class=\"data row3 col1\" >1.1e+04 K</td>\n",
       "      <td id=\"T_6201e_row3_col2\" class=\"data row3 col2\" >0.0779</td>\n",
       "      <td id=\"T_6201e_row3_col3\" class=\"data row3 col3\" >0.0926</td>\n",
       "    </tr>\n",
       "  </tbody>\n",
       "</table>\n"
      ],
      "text/plain": [
       "<pandas.io.formats.style.Styler at 0x7f5fa7557850>"
      ]
     },
     "metadata": {},
     "output_type": "display_data"
    },
    {
     "name": "stdout",
     "output_type": "stream",
     "text": [
      "[\u001b[1mtardis.simulation.base\u001b[0m][\u001b[1;37mINFO\u001b[0m   ]  \n",
      "\t\n",
      "\tCurrent t_inner = 11245.497 K\n",
      "\tExpected t_inner for next iteration = 10153.431 K\n",
      " (\u001b[1mbase.py\u001b[0m:568)\n"
     ]
    },
    {
     "name": "stdout",
     "output_type": "stream",
     "text": [
      "[\u001b[1mpy.warnings         \u001b[0m][\u001b[1;33mWARNING\u001b[0m]  \n",
      "\t/home/runner/work/tardis/tardis/tardis/plasma/properties/radiative_properties.py:93: RuntimeWarning: invalid value encountered in divide\n",
      "  (g_lower * n_upper) / (g_upper * n_lower)\n",
      " (\u001b[1mwarnings.py\u001b[0m:109)\n"
     ]
    },
    {
     "name": "stdout",
     "output_type": "stream",
     "text": [
      "[\u001b[1mtardis.simulation.base\u001b[0m][\u001b[1;37mINFO\u001b[0m   ]  \n",
      "\t\n",
      "\tSimulation finished in 4 iterations \n",
      "\tSimulation took 0.38 s\n",
      " (\u001b[1mbase.py\u001b[0m:469)\n"
     ]
    },
    {
     "name": "stdout",
     "output_type": "stream",
     "text": [
      "[\u001b[1mtardis.simulation.base\u001b[0m][\u001b[1;37mINFO\u001b[0m   ]  \n",
      "\t\n",
      "\tStarting iteration 5 of 5 (\u001b[1mbase.py\u001b[0m:391)\n"
     ]
    },
    {
     "name": "stdout",
     "output_type": "stream",
     "text": [
      "[\u001b[1mtardis.simulation.base\u001b[0m][\u001b[1;37mINFO\u001b[0m   ]  \n",
      "\t\n",
      "\tLuminosity emitted   = 8.742e+42 erg / s\n",
      "\tLuminosity absorbed  = 2.834e+42 erg / s\n",
      "\tLuminosity requested = 1.059e+43 erg / s\n",
      " (\u001b[1mbase.py\u001b[0m:573)\n"
     ]
    }
   ],
   "source": [
    "sim = run_tardis(config, log_level=\"Info\", specific=True)"
   ]
  }
 ],
 "metadata": {
  "kernelspec": {
   "display_name": "Python 3",
   "language": "python",
   "name": "python3"
  },
  "language_info": {
   "codemirror_mode": {
    "name": "ipython",
    "version": 3
   },
   "file_extension": ".py",
   "mimetype": "text/x-python",
   "name": "python",
   "nbconvert_exporter": "python",
   "pygments_lexer": "ipython3",
   "version": "3.11.5"
  },
  "widgets": {
   "application/vnd.jupyter.widget-state+json": {
    "state": {
     "00744ccb3947427481933f1c371377ea": {
      "model_module": "@jupyter-widgets/controls",
      "model_module_version": "1.5.0",
      "model_name": "HTMLModel",
      "state": {
       "_dom_classes": [],
       "_model_module": "@jupyter-widgets/controls",
       "_model_module_version": "1.5.0",
       "_model_name": "HTMLModel",
       "_view_count": null,
       "_view_module": "@jupyter-widgets/controls",
       "_view_module_version": "1.5.0",
       "_view_name": "HTMLView",
       "description": "",
       "description_tooltip": null,
       "layout": "IPY_MODEL_7da444d75b2f488abe3e7599e5730d37",
       "placeholder": "​",
       "style": "IPY_MODEL_e873b6f4f85541fd953351f903b410b3",
       "value": "Iterations:"
      }
     },
     "00dc38a4e5b341d1bbc157d92ef0a110": {
      "model_module": "@jupyter-widgets/base",
      "model_module_version": "1.2.0",
      "model_name": "LayoutModel",
      "state": {
       "_model_module": "@jupyter-widgets/base",
       "_model_module_version": "1.2.0",
       "_model_name": "LayoutModel",
       "_view_count": null,
       "_view_module": "@jupyter-widgets/base",
       "_view_module_version": "1.2.0",
       "_view_name": "LayoutView",
       "align_content": null,
       "align_items": null,
       "align_self": null,
       "border": null,
       "bottom": null,
       "display": null,
       "flex": null,
       "flex_flow": null,
       "grid_area": null,
       "grid_auto_columns": null,
       "grid_auto_flow": null,
       "grid_auto_rows": null,
       "grid_column": null,
       "grid_gap": null,
       "grid_row": null,
       "grid_template_areas": null,
       "grid_template_columns": null,
       "grid_template_rows": null,
       "height": null,
       "justify_content": null,
       "justify_items": null,
       "left": null,
       "margin": null,
       "max_height": null,
       "max_width": null,
       "min_height": null,
       "min_width": null,
       "object_fit": null,
       "object_position": null,
       "order": null,
       "overflow": null,
       "overflow_x": null,
       "overflow_y": null,
       "padding": null,
       "right": null,
       "top": null,
       "visibility": null,
       "width": null
      }
     },
     "029e9c8a4a524f78bdccdccc17337b8e": {
      "model_module": "@jupyter-widgets/base",
      "model_module_version": "1.2.0",
      "model_name": "LayoutModel",
      "state": {
       "_model_module": "@jupyter-widgets/base",
       "_model_module_version": "1.2.0",
       "_model_name": "LayoutModel",
       "_view_count": null,
       "_view_module": "@jupyter-widgets/base",
       "_view_module_version": "1.2.0",
       "_view_name": "LayoutView",
       "align_content": null,
       "align_items": null,
       "align_self": null,
       "border": null,
       "bottom": null,
       "display": null,
       "flex": null,
       "flex_flow": null,
       "grid_area": null,
       "grid_auto_columns": null,
       "grid_auto_flow": null,
       "grid_auto_rows": null,
       "grid_column": null,
       "grid_gap": null,
       "grid_row": null,
       "grid_template_areas": null,
       "grid_template_columns": null,
       "grid_template_rows": null,
       "height": null,
       "justify_content": null,
       "justify_items": null,
       "left": null,
       "margin": null,
       "max_height": null,
       "max_width": null,
       "min_height": null,
       "min_width": null,
       "object_fit": null,
       "object_position": null,
       "order": null,
       "overflow": null,
       "overflow_x": null,
       "overflow_y": null,
       "padding": null,
       "right": null,
       "top": null,
       "visibility": null,
       "width": "6%"
      }
     },
     "03d5192709d849068c6d8d6d8cb370e2": {
      "model_module": "@jupyter-widgets/controls",
      "model_module_version": "1.5.0",
      "model_name": "FloatProgressModel",
      "state": {
       "_dom_classes": [],
       "_model_module": "@jupyter-widgets/controls",
       "_model_module_version": "1.5.0",
       "_model_name": "FloatProgressModel",
       "_view_count": null,
       "_view_module": "@jupyter-widgets/controls",
       "_view_module_version": "1.5.0",
       "_view_name": "ProgressView",
       "bar_style": "",
       "description": "",
       "description_tooltip": null,
       "layout": "IPY_MODEL_3c3459cc5bfc419eaea2a20f45dded29",
       "max": 5.0,
       "min": 0.0,
       "orientation": "horizontal",
       "style": "IPY_MODEL_5c3f603bc6ea4099b6d9d35a0326fe29",
       "value": 4.0
      }
     },
     "048001292d6845dfa01cb871955ff4b7": {
      "model_module": "@jupyter-widgets/base",
      "model_module_version": "1.2.0",
      "model_name": "LayoutModel",
      "state": {
       "_model_module": "@jupyter-widgets/base",
       "_model_module_version": "1.2.0",
       "_model_name": "LayoutModel",
       "_view_count": null,
       "_view_module": "@jupyter-widgets/base",
       "_view_module_version": "1.2.0",
       "_view_name": "LayoutView",
       "align_content": null,
       "align_items": null,
       "align_self": null,
       "border": null,
       "bottom": null,
       "display": null,
       "flex": null,
       "flex_flow": null,
       "grid_area": null,
       "grid_auto_columns": null,
       "grid_auto_flow": null,
       "grid_auto_rows": null,
       "grid_column": null,
       "grid_gap": null,
       "grid_row": null,
       "grid_template_areas": null,
       "grid_template_columns": null,
       "grid_template_rows": null,
       "height": null,
       "justify_content": null,
       "justify_items": null,
       "left": null,
       "margin": null,
       "max_height": null,
       "max_width": null,
       "min_height": null,
       "min_width": null,
       "object_fit": null,
       "object_position": null,
       "order": null,
       "overflow": null,
       "overflow_x": null,
       "overflow_y": null,
       "padding": null,
       "right": null,
       "top": null,
       "visibility": null,
       "width": "6%"
      }
     },
     "0525e3e997ba43f8bf2064b553a05d7b": {
      "model_module": "@jupyter-widgets/controls",
      "model_module_version": "1.5.0",
      "model_name": "ProgressStyleModel",
      "state": {
       "_model_module": "@jupyter-widgets/controls",
       "_model_module_version": "1.5.0",
       "_model_name": "ProgressStyleModel",
       "_view_count": null,
       "_view_module": "@jupyter-widgets/base",
       "_view_module_version": "1.2.0",
       "_view_name": "StyleView",
       "bar_color": null,
       "description_width": ""
      }
     },
     "05ed9831ee6d4a19af71b39f9f8c2436": {
      "model_module": "@jupyter-widgets/base",
      "model_module_version": "1.2.0",
      "model_name": "LayoutModel",
      "state": {
       "_model_module": "@jupyter-widgets/base",
       "_model_module_version": "1.2.0",
       "_model_name": "LayoutModel",
       "_view_count": null,
       "_view_module": "@jupyter-widgets/base",
       "_view_module_version": "1.2.0",
       "_view_name": "LayoutView",
       "align_content": null,
       "align_items": null,
       "align_self": null,
       "border": null,
       "bottom": null,
       "display": null,
       "flex": null,
       "flex_flow": null,
       "grid_area": null,
       "grid_auto_columns": null,
       "grid_auto_flow": null,
       "grid_auto_rows": null,
       "grid_column": null,
       "grid_gap": null,
       "grid_row": null,
       "grid_template_areas": null,
       "grid_template_columns": null,
       "grid_template_rows": null,
       "height": null,
       "justify_content": null,
       "justify_items": null,
       "left": null,
       "margin": null,
       "max_height": null,
       "max_width": null,
       "min_height": null,
       "min_width": null,
       "object_fit": null,
       "object_position": null,
       "order": null,
       "overflow": null,
       "overflow_x": null,
       "overflow_y": null,
       "padding": null,
       "right": null,
       "top": null,
       "visibility": null,
       "width": "60%"
      }
     },
     "069c3386314b4c3cb3cabe1a2a648383": {
      "model_module": "@jupyter-widgets/controls",
      "model_module_version": "1.5.0",
      "model_name": "FloatProgressModel",
      "state": {
       "_dom_classes": [],
       "_model_module": "@jupyter-widgets/controls",
       "_model_module_version": "1.5.0",
       "_model_name": "FloatProgressModel",
       "_view_count": null,
       "_view_module": "@jupyter-widgets/controls",
       "_view_module_version": "1.5.0",
       "_view_name": "ProgressView",
       "bar_style": "",
       "description": "",
       "description_tooltip": null,
       "layout": "IPY_MODEL_f98ee643bbd14b6888900fecd2ccf714",
       "max": 10000.0,
       "min": 0.0,
       "orientation": "horizontal",
       "style": "IPY_MODEL_550540829cd54fcebf2fcdeb286a1b7e",
       "value": 10000.0
      }
     },
     "06c08dbb99a64deba65c5d99a03ac055": {
      "model_module": "@jupyter-widgets/controls",
      "model_module_version": "1.5.0",
      "model_name": "DescriptionStyleModel",
      "state": {
       "_model_module": "@jupyter-widgets/controls",
       "_model_module_version": "1.5.0",
       "_model_name": "DescriptionStyleModel",
       "_view_count": null,
       "_view_module": "@jupyter-widgets/base",
       "_view_module_version": "1.2.0",
       "_view_name": "StyleView",
       "description_width": ""
      }
     },
     "0759efbdd0404bbd883a489cc410aa78": {
      "model_module": "@jupyter-widgets/controls",
      "model_module_version": "1.5.0",
      "model_name": "DescriptionStyleModel",
      "state": {
       "_model_module": "@jupyter-widgets/controls",
       "_model_module_version": "1.5.0",
       "_model_name": "DescriptionStyleModel",
       "_view_count": null,
       "_view_module": "@jupyter-widgets/base",
       "_view_module_version": "1.2.0",
       "_view_name": "StyleView",
       "description_width": ""
      }
     },
     "0b07c0e34029403cb68e84ddcd60efc8": {
      "model_module": "@jupyter-widgets/base",
      "model_module_version": "1.2.0",
      "model_name": "LayoutModel",
      "state": {
       "_model_module": "@jupyter-widgets/base",
       "_model_module_version": "1.2.0",
       "_model_name": "LayoutModel",
       "_view_count": null,
       "_view_module": "@jupyter-widgets/base",
       "_view_module_version": "1.2.0",
       "_view_name": "LayoutView",
       "align_content": null,
       "align_items": null,
       "align_self": null,
       "border": null,
       "bottom": null,
       "display": null,
       "flex": null,
       "flex_flow": null,
       "grid_area": null,
       "grid_auto_columns": null,
       "grid_auto_flow": null,
       "grid_auto_rows": null,
       "grid_column": null,
       "grid_gap": null,
       "grid_row": null,
       "grid_template_areas": null,
       "grid_template_columns": null,
       "grid_template_rows": null,
       "height": null,
       "justify_content": null,
       "justify_items": null,
       "left": null,
       "margin": null,
       "max_height": null,
       "max_width": null,
       "min_height": null,
       "min_width": null,
       "object_fit": null,
       "object_position": null,
       "order": null,
       "overflow": null,
       "overflow_x": null,
       "overflow_y": null,
       "padding": null,
       "right": null,
       "top": null,
       "visibility": null,
       "width": "6%"
      }
     },
     "0d3e891bfa8f4a1e81cb5c69b0f661b5": {
      "model_module": "@jupyter-widgets/controls",
      "model_module_version": "1.5.0",
      "model_name": "HBoxModel",
      "state": {
       "_dom_classes": [],
       "_model_module": "@jupyter-widgets/controls",
       "_model_module_version": "1.5.0",
       "_model_name": "HBoxModel",
       "_view_count": null,
       "_view_module": "@jupyter-widgets/controls",
       "_view_module_version": "1.5.0",
       "_view_name": "HBoxView",
       "box_style": "",
       "children": [
        "IPY_MODEL_d2308fc252af4069b94aa7f120c238e6",
        "IPY_MODEL_daf75ff3b12e47d787c6e2e18e1ef50b",
        "IPY_MODEL_b6c41b94d7c041c1ab8a200a4c4217e0"
       ],
       "layout": "IPY_MODEL_50187235a70b4eabb874353bdcee842c"
      }
     },
     "1105a321541544529cc882068c4584b4": {
      "model_module": "@jupyter-widgets/controls",
      "model_module_version": "1.5.0",
      "model_name": "DescriptionStyleModel",
      "state": {
       "_model_module": "@jupyter-widgets/controls",
       "_model_module_version": "1.5.0",
       "_model_name": "DescriptionStyleModel",
       "_view_count": null,
       "_view_module": "@jupyter-widgets/base",
       "_view_module_version": "1.2.0",
       "_view_name": "StyleView",
       "description_width": ""
      }
     },
     "11e6b4cbc8ab49ccacaa6465d51d1853": {
      "model_module": "@jupyter-widgets/controls",
      "model_module_version": "1.5.0",
      "model_name": "HBoxModel",
      "state": {
       "_dom_classes": [],
       "_model_module": "@jupyter-widgets/controls",
       "_model_module_version": "1.5.0",
       "_model_name": "HBoxModel",
       "_view_count": null,
       "_view_module": "@jupyter-widgets/controls",
       "_view_module_version": "1.5.0",
       "_view_name": "HBoxView",
       "box_style": "",
       "children": [
        "IPY_MODEL_00744ccb3947427481933f1c371377ea",
        "IPY_MODEL_51971059d3b344a180e5a85d09e2e4fb",
        "IPY_MODEL_60b012bc89d44191901b21143eeb470e"
       ],
       "layout": "IPY_MODEL_84b752822e5f4914a16f6d809026bae4"
      }
     },
     "133826b11ee243ae9df749c7c2bc1573": {
      "model_module": "@jupyter-widgets/controls",
      "model_module_version": "1.5.0",
      "model_name": "FloatProgressModel",
      "state": {
       "_dom_classes": [],
       "_model_module": "@jupyter-widgets/controls",
       "_model_module_version": "1.5.0",
       "_model_name": "FloatProgressModel",
       "_view_count": null,
       "_view_module": "@jupyter-widgets/controls",
       "_view_module_version": "1.5.0",
       "_view_name": "ProgressView",
       "bar_style": "",
       "description": "",
       "description_tooltip": null,
       "layout": "IPY_MODEL_96d8cbcc8f18400d9e2c58a2ca8841e1",
       "max": 5.0,
       "min": 0.0,
       "orientation": "horizontal",
       "style": "IPY_MODEL_d2720568d23c4be9847b730f28eb1c3e",
       "value": 4.0
      }
     },
     "138501fd36e848b1ae841880c58b9d61": {
      "model_module": "@jupyter-widgets/controls",
      "model_module_version": "1.5.0",
      "model_name": "HTMLModel",
      "state": {
       "_dom_classes": [],
       "_model_module": "@jupyter-widgets/controls",
       "_model_module_version": "1.5.0",
       "_model_name": "HTMLModel",
       "_view_count": null,
       "_view_module": "@jupyter-widgets/controls",
       "_view_module_version": "1.5.0",
       "_view_name": "HTMLView",
       "description": "",
       "description_tooltip": null,
       "layout": "IPY_MODEL_ad54d9870c414a16a2cb9990d834af96",
       "placeholder": "​",
       "style": "IPY_MODEL_d1b720767bba46af883552d2da812274",
       "value": "Iterations:"
      }
     },
     "14c7068067f44b68997a3a09f42eead1": {
      "model_module": "@jupyter-widgets/base",
      "model_module_version": "1.2.0",
      "model_name": "LayoutModel",
      "state": {
       "_model_module": "@jupyter-widgets/base",
       "_model_module_version": "1.2.0",
       "_model_name": "LayoutModel",
       "_view_count": null,
       "_view_module": "@jupyter-widgets/base",
       "_view_module_version": "1.2.0",
       "_view_name": "LayoutView",
       "align_content": null,
       "align_items": null,
       "align_self": null,
       "border": null,
       "bottom": null,
       "display": null,
       "flex": null,
       "flex_flow": null,
       "grid_area": null,
       "grid_auto_columns": null,
       "grid_auto_flow": null,
       "grid_auto_rows": null,
       "grid_column": null,
       "grid_gap": null,
       "grid_row": null,
       "grid_template_areas": null,
       "grid_template_columns": null,
       "grid_template_rows": null,
       "height": null,
       "justify_content": null,
       "justify_items": null,
       "left": null,
       "margin": null,
       "max_height": null,
       "max_width": null,
       "min_height": null,
       "min_width": null,
       "object_fit": null,
       "object_position": null,
       "order": null,
       "overflow": null,
       "overflow_x": null,
       "overflow_y": null,
       "padding": null,
       "right": null,
       "top": null,
       "visibility": null,
       "width": null
      }
     },
     "162b9c7e22914cff8a9e380c5a33de23": {
      "model_module": "@jupyter-widgets/base",
      "model_module_version": "1.2.0",
      "model_name": "LayoutModel",
      "state": {
       "_model_module": "@jupyter-widgets/base",
       "_model_module_version": "1.2.0",
       "_model_name": "LayoutModel",
       "_view_count": null,
       "_view_module": "@jupyter-widgets/base",
       "_view_module_version": "1.2.0",
       "_view_name": "LayoutView",
       "align_content": null,
       "align_items": null,
       "align_self": null,
       "border": null,
       "bottom": null,
       "display": null,
       "flex": null,
       "flex_flow": null,
       "grid_area": null,
       "grid_auto_columns": null,
       "grid_auto_flow": null,
       "grid_auto_rows": null,
       "grid_column": null,
       "grid_gap": null,
       "grid_row": null,
       "grid_template_areas": null,
       "grid_template_columns": null,
       "grid_template_rows": null,
       "height": null,
       "justify_content": null,
       "justify_items": null,
       "left": null,
       "margin": null,
       "max_height": null,
       "max_width": null,
       "min_height": null,
       "min_width": null,
       "object_fit": null,
       "object_position": null,
       "order": null,
       "overflow": null,
       "overflow_x": null,
       "overflow_y": null,
       "padding": null,
       "right": null,
       "top": null,
       "visibility": null,
       "width": null
      }
     },
     "1649f7d13c494d55bb1da53faeff0eb3": {
      "model_module": "@jupyter-widgets/controls",
      "model_module_version": "1.5.0",
      "model_name": "DescriptionStyleModel",
      "state": {
       "_model_module": "@jupyter-widgets/controls",
       "_model_module_version": "1.5.0",
       "_model_name": "DescriptionStyleModel",
       "_view_count": null,
       "_view_module": "@jupyter-widgets/base",
       "_view_module_version": "1.2.0",
       "_view_name": "StyleView",
       "description_width": ""
      }
     },
     "16992b5b87e44e3fbb0dc971ff7b6cc6": {
      "model_module": "@jupyter-widgets/controls",
      "model_module_version": "1.5.0",
      "model_name": "HTMLModel",
      "state": {
       "_dom_classes": [],
       "_model_module": "@jupyter-widgets/controls",
       "_model_module_version": "1.5.0",
       "_model_name": "HTMLModel",
       "_view_count": null,
       "_view_module": "@jupyter-widgets/controls",
       "_view_module_version": "1.5.0",
       "_view_name": "HTMLView",
       "description": "",
       "description_tooltip": null,
       "layout": "IPY_MODEL_c8a96a17ec61409da323d1538977a223",
       "placeholder": "​",
       "style": "IPY_MODEL_4bbc2cb1a3c54e2db5d674d9bdd5f3e1",
       "value": "Packets:   "
      }
     },
     "177f71b7b4544c7d98a0e4f5cdebb594": {
      "model_module": "@jupyter-widgets/base",
      "model_module_version": "1.2.0",
      "model_name": "LayoutModel",
      "state": {
       "_model_module": "@jupyter-widgets/base",
       "_model_module_version": "1.2.0",
       "_model_name": "LayoutModel",
       "_view_count": null,
       "_view_module": "@jupyter-widgets/base",
       "_view_module_version": "1.2.0",
       "_view_name": "LayoutView",
       "align_content": null,
       "align_items": null,
       "align_self": null,
       "border": null,
       "bottom": null,
       "display": null,
       "flex": null,
       "flex_flow": null,
       "grid_area": null,
       "grid_auto_columns": null,
       "grid_auto_flow": null,
       "grid_auto_rows": null,
       "grid_column": null,
       "grid_gap": null,
       "grid_row": null,
       "grid_template_areas": null,
       "grid_template_columns": null,
       "grid_template_rows": null,
       "height": null,
       "justify_content": null,
       "justify_items": null,
       "left": null,
       "margin": null,
       "max_height": null,
       "max_width": null,
       "min_height": null,
       "min_width": null,
       "object_fit": null,
       "object_position": null,
       "order": null,
       "overflow": null,
       "overflow_x": null,
       "overflow_y": null,
       "padding": null,
       "right": null,
       "top": null,
       "visibility": null,
       "width": null
      }
     },
     "188a2c765d174ee68555f894a769897d": {
      "model_module": "@jupyter-widgets/controls",
      "model_module_version": "1.5.0",
      "model_name": "HTMLModel",
      "state": {
       "_dom_classes": [],
       "_model_module": "@jupyter-widgets/controls",
       "_model_module_version": "1.5.0",
       "_model_name": "HTMLModel",
       "_view_count": null,
       "_view_module": "@jupyter-widgets/controls",
       "_view_module_version": "1.5.0",
       "_view_name": "HTMLView",
       "description": "",
       "description_tooltip": null,
       "layout": "IPY_MODEL_9938f31f3b5d4e7cb7321e85093b2028",
       "placeholder": "​",
       "style": "IPY_MODEL_1b6be08b54e64d06884fb046cd637ea8",
       "value": "10000/10000 [00:00&lt;00:00, 55966.58it/s]"
      }
     },
     "19b2cf12947e4341817b105b2ca49ae5": {
      "model_module": "@jupyter-widgets/controls",
      "model_module_version": "1.5.0",
      "model_name": "HBoxModel",
      "state": {
       "_dom_classes": [],
       "_model_module": "@jupyter-widgets/controls",
       "_model_module_version": "1.5.0",
       "_model_name": "HBoxModel",
       "_view_count": null,
       "_view_module": "@jupyter-widgets/controls",
       "_view_module_version": "1.5.0",
       "_view_name": "HBoxView",
       "box_style": "",
       "children": [
        "IPY_MODEL_16992b5b87e44e3fbb0dc971ff7b6cc6",
        "IPY_MODEL_c87207ccb7d44aa9aba533d7cb76b840",
        "IPY_MODEL_2173f5792aa64cce882c58cbdcc72b60"
       ],
       "layout": "IPY_MODEL_00dc38a4e5b341d1bbc157d92ef0a110"
      }
     },
     "1b6be08b54e64d06884fb046cd637ea8": {
      "model_module": "@jupyter-widgets/controls",
      "model_module_version": "1.5.0",
      "model_name": "DescriptionStyleModel",
      "state": {
       "_model_module": "@jupyter-widgets/controls",
       "_model_module_version": "1.5.0",
       "_model_name": "DescriptionStyleModel",
       "_view_count": null,
       "_view_module": "@jupyter-widgets/base",
       "_view_module_version": "1.2.0",
       "_view_name": "StyleView",
       "description_width": ""
      }
     },
     "1d02aca2cd5f435296a38f06788f2940": {
      "model_module": "@jupyter-widgets/controls",
      "model_module_version": "1.5.0",
      "model_name": "ProgressStyleModel",
      "state": {
       "_model_module": "@jupyter-widgets/controls",
       "_model_module_version": "1.5.0",
       "_model_name": "ProgressStyleModel",
       "_view_count": null,
       "_view_module": "@jupyter-widgets/base",
       "_view_module_version": "1.2.0",
       "_view_name": "StyleView",
       "bar_color": null,
       "description_width": ""
      }
     },
     "1e9115d50daf45ba9b7ee589e3454280": {
      "model_module": "@jupyter-widgets/output",
      "model_module_version": "1.0.0",
      "model_name": "OutputModel",
      "state": {
       "_dom_classes": [],
       "_model_module": "@jupyter-widgets/output",
       "_model_module_version": "1.0.0",
       "_model_name": "OutputModel",
       "_view_count": null,
       "_view_module": "@jupyter-widgets/output",
       "_view_module_version": "1.0.0",
       "_view_name": "OutputView",
       "layout": "IPY_MODEL_53fde812353e4650908ad17127da1c9d",
       "msg_id": "",
       "outputs": []
      }
     },
     "1fbf62d9b4ed416db8f0a170abfb305e": {
      "model_module": "@jupyter-widgets/controls",
      "model_module_version": "1.5.0",
      "model_name": "DescriptionStyleModel",
      "state": {
       "_model_module": "@jupyter-widgets/controls",
       "_model_module_version": "1.5.0",
       "_model_name": "DescriptionStyleModel",
       "_view_count": null,
       "_view_module": "@jupyter-widgets/base",
       "_view_module_version": "1.2.0",
       "_view_name": "StyleView",
       "description_width": ""
      }
     },
     "20d3aad1cb03476490f7cc686707f3df": {
      "model_module": "@jupyter-widgets/base",
      "model_module_version": "1.2.0",
      "model_name": "LayoutModel",
      "state": {
       "_model_module": "@jupyter-widgets/base",
       "_model_module_version": "1.2.0",
       "_model_name": "LayoutModel",
       "_view_count": null,
       "_view_module": "@jupyter-widgets/base",
       "_view_module_version": "1.2.0",
       "_view_name": "LayoutView",
       "align_content": null,
       "align_items": null,
       "align_self": null,
       "border": null,
       "bottom": null,
       "display": null,
       "flex": null,
       "flex_flow": null,
       "grid_area": null,
       "grid_auto_columns": null,
       "grid_auto_flow": null,
       "grid_auto_rows": null,
       "grid_column": null,
       "grid_gap": null,
       "grid_row": null,
       "grid_template_areas": null,
       "grid_template_columns": null,
       "grid_template_rows": null,
       "height": null,
       "justify_content": null,
       "justify_items": null,
       "left": null,
       "margin": null,
       "max_height": null,
       "max_width": null,
       "min_height": null,
       "min_width": null,
       "object_fit": null,
       "object_position": null,
       "order": null,
       "overflow": null,
       "overflow_x": null,
       "overflow_y": null,
       "padding": null,
       "right": null,
       "top": null,
       "visibility": null,
       "width": null
      }
     },
     "2173f5792aa64cce882c58cbdcc72b60": {
      "model_module": "@jupyter-widgets/controls",
      "model_module_version": "1.5.0",
      "model_name": "HTMLModel",
      "state": {
       "_dom_classes": [],
       "_model_module": "@jupyter-widgets/controls",
       "_model_module_version": "1.5.0",
       "_model_name": "HTMLModel",
       "_view_count": null,
       "_view_module": "@jupyter-widgets/controls",
       "_view_module_version": "1.5.0",
       "_view_name": "HTMLView",
       "description": "",
       "description_tooltip": null,
       "layout": "IPY_MODEL_3d465c77843d4d54aa7bb3bd762dd3cf",
       "placeholder": "​",
       "style": "IPY_MODEL_5a48ab0999324664afbdd27ea60a1b10",
       "value": "10000/10000 [00:00&lt;00:00, 57076.45it/s]"
      }
     },
     "222bb0d782694f0dbb5029591775965f": {
      "model_module": "@jupyter-widgets/controls",
      "model_module_version": "1.5.0",
      "model_name": "DescriptionStyleModel",
      "state": {
       "_model_module": "@jupyter-widgets/controls",
       "_model_module_version": "1.5.0",
       "_model_name": "DescriptionStyleModel",
       "_view_count": null,
       "_view_module": "@jupyter-widgets/base",
       "_view_module_version": "1.2.0",
       "_view_name": "StyleView",
       "description_width": ""
      }
     },
     "23cf82ed1c584561ac3e0dd168287275": {
      "model_module": "@jupyter-widgets/base",
      "model_module_version": "1.2.0",
      "model_name": "LayoutModel",
      "state": {
       "_model_module": "@jupyter-widgets/base",
       "_model_module_version": "1.2.0",
       "_model_name": "LayoutModel",
       "_view_count": null,
       "_view_module": "@jupyter-widgets/base",
       "_view_module_version": "1.2.0",
       "_view_name": "LayoutView",
       "align_content": null,
       "align_items": null,
       "align_self": null,
       "border": null,
       "bottom": null,
       "display": null,
       "flex": null,
       "flex_flow": null,
       "grid_area": null,
       "grid_auto_columns": null,
       "grid_auto_flow": null,
       "grid_auto_rows": null,
       "grid_column": null,
       "grid_gap": null,
       "grid_row": null,
       "grid_template_areas": null,
       "grid_template_columns": null,
       "grid_template_rows": null,
       "height": null,
       "justify_content": null,
       "justify_items": null,
       "left": null,
       "margin": null,
       "max_height": null,
       "max_width": null,
       "min_height": null,
       "min_width": null,
       "object_fit": null,
       "object_position": null,
       "order": null,
       "overflow": null,
       "overflow_x": null,
       "overflow_y": null,
       "padding": null,
       "right": null,
       "top": null,
       "visibility": null,
       "width": null
      }
     },
     "241bd62d563b4b15998833591160cc45": {
      "model_module": "@jupyter-widgets/controls",
      "model_module_version": "1.5.0",
      "model_name": "HBoxModel",
      "state": {
       "_dom_classes": [],
       "_model_module": "@jupyter-widgets/controls",
       "_model_module_version": "1.5.0",
       "_model_name": "HBoxModel",
       "_view_count": null,
       "_view_module": "@jupyter-widgets/controls",
       "_view_module_version": "1.5.0",
       "_view_name": "HBoxView",
       "box_style": "",
       "children": [
        "IPY_MODEL_7523476c1eb841f2aabc742f97f03e4c",
        "IPY_MODEL_03d5192709d849068c6d8d6d8cb370e2",
        "IPY_MODEL_9773ff3e644f4fa39ce3431f97753f6b"
       ],
       "layout": "IPY_MODEL_e62e208b252d4c57b48c472ac921d3c8"
      }
     },
     "24203832d3a64034a263c4a10a9bac8a": {
      "model_module": "@jupyter-widgets/controls",
      "model_module_version": "1.5.0",
      "model_name": "HBoxModel",
      "state": {
       "_dom_classes": [],
       "_model_module": "@jupyter-widgets/controls",
       "_model_module_version": "1.5.0",
       "_model_name": "HBoxModel",
       "_view_count": null,
       "_view_module": "@jupyter-widgets/controls",
       "_view_module_version": "1.5.0",
       "_view_name": "HBoxView",
       "box_style": "",
       "children": [
        "IPY_MODEL_79b30536f3b8431db82760e8f216301a",
        "IPY_MODEL_44cb84d916bb466c9f3e96c6345cb93e",
        "IPY_MODEL_cabb79bcdbd34a4d8fd05fd345077513"
       ],
       "layout": "IPY_MODEL_ff6b87b0a66a4e1c974b6ea216197eb7"
      }
     },
     "242ca1cb61a7456e891ab0e61b320e24": {
      "model_module": "@jupyter-widgets/controls",
      "model_module_version": "1.5.0",
      "model_name": "DescriptionStyleModel",
      "state": {
       "_model_module": "@jupyter-widgets/controls",
       "_model_module_version": "1.5.0",
       "_model_name": "DescriptionStyleModel",
       "_view_count": null,
       "_view_module": "@jupyter-widgets/base",
       "_view_module_version": "1.2.0",
       "_view_name": "StyleView",
       "description_width": ""
      }
     },
     "26102e4960da4c459b0d2f955c6cd74d": {
      "model_module": "@jupyter-widgets/controls",
      "model_module_version": "1.5.0",
      "model_name": "HTMLModel",
      "state": {
       "_dom_classes": [],
       "_model_module": "@jupyter-widgets/controls",
       "_model_module_version": "1.5.0",
       "_model_name": "HTMLModel",
       "_view_count": null,
       "_view_module": "@jupyter-widgets/controls",
       "_view_module_version": "1.5.0",
       "_view_name": "HTMLView",
       "description": "",
       "description_tooltip": null,
       "layout": "IPY_MODEL_8c4738fc62274f08bbecfcda91d4cd1d",
       "placeholder": "​",
       "style": "IPY_MODEL_3be143415b2d49da8d6b7d9352401f9a",
       "value": "Packets:   "
      }
     },
     "26caba1d42074f52812d437a0568e528": {
      "model_module": "@jupyter-widgets/controls",
      "model_module_version": "1.5.0",
      "model_name": "HBoxModel",
      "state": {
       "_dom_classes": [],
       "_model_module": "@jupyter-widgets/controls",
       "_model_module_version": "1.5.0",
       "_model_name": "HBoxModel",
       "_view_count": null,
       "_view_module": "@jupyter-widgets/controls",
       "_view_module_version": "1.5.0",
       "_view_name": "HBoxView",
       "box_style": "",
       "children": [
        "IPY_MODEL_475b5d0ea9d64dc4ba9a806263385f86",
        "IPY_MODEL_930f8f4ab11c479fbf1347743fb7adab",
        "IPY_MODEL_2a238db8d9254a1fb74784da80b9aef3"
       ],
       "layout": "IPY_MODEL_c67d91961fc54528a258e4721c0239be"
      }
     },
     "28fc3e9f26c541d89675300b953ecf4d": {
      "model_module": "@jupyter-widgets/controls",
      "model_module_version": "1.5.0",
      "model_name": "DescriptionStyleModel",
      "state": {
       "_model_module": "@jupyter-widgets/controls",
       "_model_module_version": "1.5.0",
       "_model_name": "DescriptionStyleModel",
       "_view_count": null,
       "_view_module": "@jupyter-widgets/base",
       "_view_module_version": "1.2.0",
       "_view_name": "StyleView",
       "description_width": ""
      }
     },
     "2a238db8d9254a1fb74784da80b9aef3": {
      "model_module": "@jupyter-widgets/controls",
      "model_module_version": "1.5.0",
      "model_name": "HTMLModel",
      "state": {
       "_dom_classes": [],
       "_model_module": "@jupyter-widgets/controls",
       "_model_module_version": "1.5.0",
       "_model_name": "HTMLModel",
       "_view_count": null,
       "_view_module": "@jupyter-widgets/controls",
       "_view_module_version": "1.5.0",
       "_view_name": "HTMLView",
       "description": "",
       "description_tooltip": null,
       "layout": "IPY_MODEL_ffc9b278e727465a805551147dd2d5dd",
       "placeholder": "​",
       "style": "IPY_MODEL_4a771b127067489991d568e506f7243b",
       "value": "10000/10000 [00:00&lt;00:00, 58068.84it/s]"
      }
     },
     "2b480a156dd341559a1d5d0ba60013a8": {
      "model_module": "@jupyter-widgets/controls",
      "model_module_version": "1.5.0",
      "model_name": "DescriptionStyleModel",
      "state": {
       "_model_module": "@jupyter-widgets/controls",
       "_model_module_version": "1.5.0",
       "_model_name": "DescriptionStyleModel",
       "_view_count": null,
       "_view_module": "@jupyter-widgets/base",
       "_view_module_version": "1.2.0",
       "_view_name": "StyleView",
       "description_width": ""
      }
     },
     "2cebd1c81a9b4219bd46a77bf1071642": {
      "model_module": "@jupyter-widgets/controls",
      "model_module_version": "1.5.0",
      "model_name": "HTMLModel",
      "state": {
       "_dom_classes": [],
       "_model_module": "@jupyter-widgets/controls",
       "_model_module_version": "1.5.0",
       "_model_name": "HTMLModel",
       "_view_count": null,
       "_view_module": "@jupyter-widgets/controls",
       "_view_module_version": "1.5.0",
       "_view_name": "HTMLView",
       "description": "",
       "description_tooltip": null,
       "layout": "IPY_MODEL_4adb4d28b664499c883f2144091d1a02",
       "placeholder": "​",
       "style": "IPY_MODEL_222bb0d782694f0dbb5029591775965f",
       "value": "4/5 [00:00&lt;00:00, 11.95it/s]"
      }
     },
     "2cf31ccbc85d497a9b09220420df5650": {
      "model_module": "@jupyter-widgets/controls",
      "model_module_version": "1.5.0",
      "model_name": "DescriptionStyleModel",
      "state": {
       "_model_module": "@jupyter-widgets/controls",
       "_model_module_version": "1.5.0",
       "_model_name": "DescriptionStyleModel",
       "_view_count": null,
       "_view_module": "@jupyter-widgets/base",
       "_view_module_version": "1.2.0",
       "_view_name": "StyleView",
       "description_width": ""
      }
     },
     "2e380c3a814f42c69207613824c0db06": {
      "model_module": "@jupyter-widgets/controls",
      "model_module_version": "1.5.0",
      "model_name": "HBoxModel",
      "state": {
       "_dom_classes": [],
       "_model_module": "@jupyter-widgets/controls",
       "_model_module_version": "1.5.0",
       "_model_name": "HBoxModel",
       "_view_count": null,
       "_view_module": "@jupyter-widgets/controls",
       "_view_module_version": "1.5.0",
       "_view_name": "HBoxView",
       "box_style": "",
       "children": [
        "IPY_MODEL_eeb07582e7944bf1bf0a9be0ed02d98d",
        "IPY_MODEL_8c51b44e20514827b216ab54296e55f9",
        "IPY_MODEL_6e6db177f00544c4afc3b884f3bca8f7"
       ],
       "layout": "IPY_MODEL_f4a04aaf102c4c6fae279c058f4490f8"
      }
     },
     "2f13d9c7e4d6429b9e85705f4a4dfc14": {
      "model_module": "@jupyter-widgets/controls",
      "model_module_version": "1.5.0",
      "model_name": "HTMLModel",
      "state": {
       "_dom_classes": [],
       "_model_module": "@jupyter-widgets/controls",
       "_model_module_version": "1.5.0",
       "_model_name": "HTMLModel",
       "_view_count": null,
       "_view_module": "@jupyter-widgets/controls",
       "_view_module_version": "1.5.0",
       "_view_name": "HTMLView",
       "description": "",
       "description_tooltip": null,
       "layout": "IPY_MODEL_8874e717186148cd9550f3a59c20c955",
       "placeholder": "​",
       "style": "IPY_MODEL_1fbf62d9b4ed416db8f0a170abfb305e",
       "value": "Packets:   "
      }
     },
     "2f2caf1fbf804cbd8d125de80f06f5b5": {
      "model_module": "@jupyter-widgets/controls",
      "model_module_version": "1.5.0",
      "model_name": "HTMLModel",
      "state": {
       "_dom_classes": [],
       "_model_module": "@jupyter-widgets/controls",
       "_model_module_version": "1.5.0",
       "_model_name": "HTMLModel",
       "_view_count": null,
       "_view_module": "@jupyter-widgets/controls",
       "_view_module_version": "1.5.0",
       "_view_name": "HTMLView",
       "description": "",
       "description_tooltip": null,
       "layout": "IPY_MODEL_964a817b1531433ab95bac672c9b82e0",
       "placeholder": "​",
       "style": "IPY_MODEL_78123fbc45a74e9d8394dd7ffb3b8985",
       "value": "Iterations:"
      }
     },
     "30b6a10c7c6a4d0eb1d2526e8e3aa08b": {
      "model_module": "@jupyter-widgets/base",
      "model_module_version": "1.2.0",
      "model_name": "LayoutModel",
      "state": {
       "_model_module": "@jupyter-widgets/base",
       "_model_module_version": "1.2.0",
       "_model_name": "LayoutModel",
       "_view_count": null,
       "_view_module": "@jupyter-widgets/base",
       "_view_module_version": "1.2.0",
       "_view_name": "LayoutView",
       "align_content": null,
       "align_items": null,
       "align_self": null,
       "border": null,
       "bottom": null,
       "display": null,
       "flex": null,
       "flex_flow": null,
       "grid_area": null,
       "grid_auto_columns": null,
       "grid_auto_flow": null,
       "grid_auto_rows": null,
       "grid_column": null,
       "grid_gap": null,
       "grid_row": null,
       "grid_template_areas": null,
       "grid_template_columns": null,
       "grid_template_rows": null,
       "height": null,
       "justify_content": null,
       "justify_items": null,
       "left": null,
       "margin": null,
       "max_height": null,
       "max_width": null,
       "min_height": null,
       "min_width": null,
       "object_fit": null,
       "object_position": null,
       "order": null,
       "overflow": null,
       "overflow_x": null,
       "overflow_y": null,
       "padding": null,
       "right": null,
       "top": null,
       "visibility": null,
       "width": "6%"
      }
     },
     "30d9e252e43a4a2db01f40eee7d6bfc5": {
      "model_module": "@jupyter-widgets/controls",
      "model_module_version": "1.5.0",
      "model_name": "ProgressStyleModel",
      "state": {
       "_model_module": "@jupyter-widgets/controls",
       "_model_module_version": "1.5.0",
       "_model_name": "ProgressStyleModel",
       "_view_count": null,
       "_view_module": "@jupyter-widgets/base",
       "_view_module_version": "1.2.0",
       "_view_name": "StyleView",
       "bar_color": null,
       "description_width": ""
      }
     },
     "3297fa00ef034c4892ee8b226cedcdff": {
      "model_module": "@jupyter-widgets/base",
      "model_module_version": "1.2.0",
      "model_name": "LayoutModel",
      "state": {
       "_model_module": "@jupyter-widgets/base",
       "_model_module_version": "1.2.0",
       "_model_name": "LayoutModel",
       "_view_count": null,
       "_view_module": "@jupyter-widgets/base",
       "_view_module_version": "1.2.0",
       "_view_name": "LayoutView",
       "align_content": null,
       "align_items": null,
       "align_self": null,
       "border": null,
       "bottom": null,
       "display": null,
       "flex": null,
       "flex_flow": null,
       "grid_area": null,
       "grid_auto_columns": null,
       "grid_auto_flow": null,
       "grid_auto_rows": null,
       "grid_column": null,
       "grid_gap": null,
       "grid_row": null,
       "grid_template_areas": null,
       "grid_template_columns": null,
       "grid_template_rows": null,
       "height": null,
       "justify_content": null,
       "justify_items": null,
       "left": null,
       "margin": null,
       "max_height": null,
       "max_width": null,
       "min_height": null,
       "min_width": null,
       "object_fit": null,
       "object_position": null,
       "order": null,
       "overflow": null,
       "overflow_x": null,
       "overflow_y": null,
       "padding": null,
       "right": null,
       "top": null,
       "visibility": null,
       "width": "60%"
      }
     },
     "332c519d200e45639037c0ff05b058cc": {
      "model_module": "@jupyter-widgets/controls",
      "model_module_version": "1.5.0",
      "model_name": "HBoxModel",
      "state": {
       "_dom_classes": [],
       "_model_module": "@jupyter-widgets/controls",
       "_model_module_version": "1.5.0",
       "_model_name": "HBoxModel",
       "_view_count": null,
       "_view_module": "@jupyter-widgets/controls",
       "_view_module_version": "1.5.0",
       "_view_name": "HBoxView",
       "box_style": "",
       "children": [
        "IPY_MODEL_77937ed5b24947229884905913c39731",
        "IPY_MODEL_82f35fc906eb4944858a5029d8b1bdcf",
        "IPY_MODEL_2cebd1c81a9b4219bd46a77bf1071642"
       ],
       "layout": "IPY_MODEL_40c53a5c6d2142b2a4dd46b867d39a3a"
      }
     },
     "345c50b811994a84abdbbd0206b0f112": {
      "model_module": "@jupyter-widgets/base",
      "model_module_version": "1.2.0",
      "model_name": "LayoutModel",
      "state": {
       "_model_module": "@jupyter-widgets/base",
       "_model_module_version": "1.2.0",
       "_model_name": "LayoutModel",
       "_view_count": null,
       "_view_module": "@jupyter-widgets/base",
       "_view_module_version": "1.2.0",
       "_view_name": "LayoutView",
       "align_content": null,
       "align_items": null,
       "align_self": null,
       "border": null,
       "bottom": null,
       "display": null,
       "flex": null,
       "flex_flow": null,
       "grid_area": null,
       "grid_auto_columns": null,
       "grid_auto_flow": null,
       "grid_auto_rows": null,
       "grid_column": null,
       "grid_gap": null,
       "grid_row": null,
       "grid_template_areas": null,
       "grid_template_columns": null,
       "grid_template_rows": null,
       "height": null,
       "justify_content": null,
       "justify_items": null,
       "left": null,
       "margin": null,
       "max_height": null,
       "max_width": null,
       "min_height": null,
       "min_width": null,
       "object_fit": null,
       "object_position": null,
       "order": null,
       "overflow": null,
       "overflow_x": null,
       "overflow_y": null,
       "padding": null,
       "right": null,
       "top": null,
       "visibility": null,
       "width": "60%"
      }
     },
     "38b6e92c80e64851b5317638e7f8c400": {
      "model_module": "@jupyter-widgets/controls",
      "model_module_version": "1.5.0",
      "model_name": "HBoxModel",
      "state": {
       "_dom_classes": [],
       "_model_module": "@jupyter-widgets/controls",
       "_model_module_version": "1.5.0",
       "_model_name": "HBoxModel",
       "_view_count": null,
       "_view_module": "@jupyter-widgets/controls",
       "_view_module_version": "1.5.0",
       "_view_name": "HBoxView",
       "box_style": "",
       "children": [
        "IPY_MODEL_62896a5dc0484a8dbbf5629537cb7e6b",
        "IPY_MODEL_accf237f723443a4b186d98b6b553610",
        "IPY_MODEL_74282725d9ca4dcca8832b7420b477fc"
       ],
       "layout": "IPY_MODEL_ba49546e05034ce3bf808cacc51115fe"
      }
     },
     "39ffd4b54c0343ccb403c73265725ba5": {
      "model_module": "@jupyter-widgets/controls",
      "model_module_version": "1.5.0",
      "model_name": "FloatProgressModel",
      "state": {
       "_dom_classes": [],
       "_model_module": "@jupyter-widgets/controls",
       "_model_module_version": "1.5.0",
       "_model_name": "FloatProgressModel",
       "_view_count": null,
       "_view_module": "@jupyter-widgets/controls",
       "_view_module_version": "1.5.0",
       "_view_name": "ProgressView",
       "bar_style": "",
       "description": "",
       "description_tooltip": null,
       "layout": "IPY_MODEL_b7009af68a784af190273ab66213195b",
       "max": 10000.0,
       "min": 0.0,
       "orientation": "horizontal",
       "style": "IPY_MODEL_cc7008dd8e4c4167a6a9f46c586f16e3",
       "value": 10000.0
      }
     },
     "3b0898d3d2144b5aad943a7d9d0d918d": {
      "model_module": "@jupyter-widgets/base",
      "model_module_version": "1.2.0",
      "model_name": "LayoutModel",
      "state": {
       "_model_module": "@jupyter-widgets/base",
       "_model_module_version": "1.2.0",
       "_model_name": "LayoutModel",
       "_view_count": null,
       "_view_module": "@jupyter-widgets/base",
       "_view_module_version": "1.2.0",
       "_view_name": "LayoutView",
       "align_content": null,
       "align_items": null,
       "align_self": null,
       "border": null,
       "bottom": null,
       "display": null,
       "flex": null,
       "flex_flow": null,
       "grid_area": null,
       "grid_auto_columns": null,
       "grid_auto_flow": null,
       "grid_auto_rows": null,
       "grid_column": null,
       "grid_gap": null,
       "grid_row": null,
       "grid_template_areas": null,
       "grid_template_columns": null,
       "grid_template_rows": null,
       "height": null,
       "justify_content": null,
       "justify_items": null,
       "left": null,
       "margin": null,
       "max_height": null,
       "max_width": null,
       "min_height": null,
       "min_width": null,
       "object_fit": null,
       "object_position": null,
       "order": null,
       "overflow": null,
       "overflow_x": null,
       "overflow_y": null,
       "padding": null,
       "right": null,
       "top": null,
       "visibility": null,
       "width": "60%"
      }
     },
     "3be143415b2d49da8d6b7d9352401f9a": {
      "model_module": "@jupyter-widgets/controls",
      "model_module_version": "1.5.0",
      "model_name": "DescriptionStyleModel",
      "state": {
       "_model_module": "@jupyter-widgets/controls",
       "_model_module_version": "1.5.0",
       "_model_name": "DescriptionStyleModel",
       "_view_count": null,
       "_view_module": "@jupyter-widgets/base",
       "_view_module_version": "1.2.0",
       "_view_name": "StyleView",
       "description_width": ""
      }
     },
     "3c3459cc5bfc419eaea2a20f45dded29": {
      "model_module": "@jupyter-widgets/base",
      "model_module_version": "1.2.0",
      "model_name": "LayoutModel",
      "state": {
       "_model_module": "@jupyter-widgets/base",
       "_model_module_version": "1.2.0",
       "_model_name": "LayoutModel",
       "_view_count": null,
       "_view_module": "@jupyter-widgets/base",
       "_view_module_version": "1.2.0",
       "_view_name": "LayoutView",
       "align_content": null,
       "align_items": null,
       "align_self": null,
       "border": null,
       "bottom": null,
       "display": null,
       "flex": null,
       "flex_flow": null,
       "grid_area": null,
       "grid_auto_columns": null,
       "grid_auto_flow": null,
       "grid_auto_rows": null,
       "grid_column": null,
       "grid_gap": null,
       "grid_row": null,
       "grid_template_areas": null,
       "grid_template_columns": null,
       "grid_template_rows": null,
       "height": null,
       "justify_content": null,
       "justify_items": null,
       "left": null,
       "margin": null,
       "max_height": null,
       "max_width": null,
       "min_height": null,
       "min_width": null,
       "object_fit": null,
       "object_position": null,
       "order": null,
       "overflow": null,
       "overflow_x": null,
       "overflow_y": null,
       "padding": null,
       "right": null,
       "top": null,
       "visibility": null,
       "width": "60%"
      }
     },
     "3d465c77843d4d54aa7bb3bd762dd3cf": {
      "model_module": "@jupyter-widgets/base",
      "model_module_version": "1.2.0",
      "model_name": "LayoutModel",
      "state": {
       "_model_module": "@jupyter-widgets/base",
       "_model_module_version": "1.2.0",
       "_model_name": "LayoutModel",
       "_view_count": null,
       "_view_module": "@jupyter-widgets/base",
       "_view_module_version": "1.2.0",
       "_view_name": "LayoutView",
       "align_content": null,
       "align_items": null,
       "align_self": null,
       "border": null,
       "bottom": null,
       "display": null,
       "flex": null,
       "flex_flow": null,
       "grid_area": null,
       "grid_auto_columns": null,
       "grid_auto_flow": null,
       "grid_auto_rows": null,
       "grid_column": null,
       "grid_gap": null,
       "grid_row": null,
       "grid_template_areas": null,
       "grid_template_columns": null,
       "grid_template_rows": null,
       "height": null,
       "justify_content": null,
       "justify_items": null,
       "left": null,
       "margin": null,
       "max_height": null,
       "max_width": null,
       "min_height": null,
       "min_width": null,
       "object_fit": null,
       "object_position": null,
       "order": null,
       "overflow": null,
       "overflow_x": null,
       "overflow_y": null,
       "padding": null,
       "right": null,
       "top": null,
       "visibility": null,
       "width": null
      }
     },
     "3ed682840d2845b9a5b29271ff2ce23e": {
      "model_module": "@jupyter-widgets/base",
      "model_module_version": "1.2.0",
      "model_name": "LayoutModel",
      "state": {
       "_model_module": "@jupyter-widgets/base",
       "_model_module_version": "1.2.0",
       "_model_name": "LayoutModel",
       "_view_count": null,
       "_view_module": "@jupyter-widgets/base",
       "_view_module_version": "1.2.0",
       "_view_name": "LayoutView",
       "align_content": null,
       "align_items": null,
       "align_self": null,
       "border": null,
       "bottom": null,
       "display": null,
       "flex": null,
       "flex_flow": null,
       "grid_area": null,
       "grid_auto_columns": null,
       "grid_auto_flow": null,
       "grid_auto_rows": null,
       "grid_column": null,
       "grid_gap": null,
       "grid_row": null,
       "grid_template_areas": null,
       "grid_template_columns": null,
       "grid_template_rows": null,
       "height": null,
       "justify_content": null,
       "justify_items": null,
       "left": null,
       "margin": null,
       "max_height": null,
       "max_width": null,
       "min_height": null,
       "min_width": null,
       "object_fit": null,
       "object_position": null,
       "order": null,
       "overflow": null,
       "overflow_x": null,
       "overflow_y": null,
       "padding": null,
       "right": null,
       "top": null,
       "visibility": null,
       "width": null
      }
     },
     "3efd43f59e6546cfb69790b9fb3b6ea9": {
      "model_module": "@jupyter-widgets/controls",
      "model_module_version": "1.5.0",
      "model_name": "DescriptionStyleModel",
      "state": {
       "_model_module": "@jupyter-widgets/controls",
       "_model_module_version": "1.5.0",
       "_model_name": "DescriptionStyleModel",
       "_view_count": null,
       "_view_module": "@jupyter-widgets/base",
       "_view_module_version": "1.2.0",
       "_view_name": "StyleView",
       "description_width": ""
      }
     },
     "40bcfb2d9d934864821c686bc08ad9ad": {
      "model_module": "@jupyter-widgets/base",
      "model_module_version": "1.2.0",
      "model_name": "LayoutModel",
      "state": {
       "_model_module": "@jupyter-widgets/base",
       "_model_module_version": "1.2.0",
       "_model_name": "LayoutModel",
       "_view_count": null,
       "_view_module": "@jupyter-widgets/base",
       "_view_module_version": "1.2.0",
       "_view_name": "LayoutView",
       "align_content": null,
       "align_items": null,
       "align_self": null,
       "border": null,
       "bottom": null,
       "display": null,
       "flex": null,
       "flex_flow": null,
       "grid_area": null,
       "grid_auto_columns": null,
       "grid_auto_flow": null,
       "grid_auto_rows": null,
       "grid_column": null,
       "grid_gap": null,
       "grid_row": null,
       "grid_template_areas": null,
       "grid_template_columns": null,
       "grid_template_rows": null,
       "height": null,
       "justify_content": null,
       "justify_items": null,
       "left": null,
       "margin": null,
       "max_height": null,
       "max_width": null,
       "min_height": null,
       "min_width": null,
       "object_fit": null,
       "object_position": null,
       "order": null,
       "overflow": null,
       "overflow_x": null,
       "overflow_y": null,
       "padding": null,
       "right": null,
       "top": null,
       "visibility": null,
       "width": "60%"
      }
     },
     "40c53a5c6d2142b2a4dd46b867d39a3a": {
      "model_module": "@jupyter-widgets/base",
      "model_module_version": "1.2.0",
      "model_name": "LayoutModel",
      "state": {
       "_model_module": "@jupyter-widgets/base",
       "_model_module_version": "1.2.0",
       "_model_name": "LayoutModel",
       "_view_count": null,
       "_view_module": "@jupyter-widgets/base",
       "_view_module_version": "1.2.0",
       "_view_name": "LayoutView",
       "align_content": null,
       "align_items": null,
       "align_self": null,
       "border": null,
       "bottom": null,
       "display": null,
       "flex": null,
       "flex_flow": null,
       "grid_area": null,
       "grid_auto_columns": null,
       "grid_auto_flow": null,
       "grid_auto_rows": null,
       "grid_column": null,
       "grid_gap": null,
       "grid_row": null,
       "grid_template_areas": null,
       "grid_template_columns": null,
       "grid_template_rows": null,
       "height": null,
       "justify_content": null,
       "justify_items": null,
       "left": null,
       "margin": null,
       "max_height": null,
       "max_width": null,
       "min_height": null,
       "min_width": null,
       "object_fit": null,
       "object_position": null,
       "order": null,
       "overflow": null,
       "overflow_x": null,
       "overflow_y": null,
       "padding": null,
       "right": null,
       "top": null,
       "visibility": null,
       "width": null
      }
     },
     "42e714ea541f4755995bafd181c8b2b2": {
      "model_module": "@jupyter-widgets/base",
      "model_module_version": "1.2.0",
      "model_name": "LayoutModel",
      "state": {
       "_model_module": "@jupyter-widgets/base",
       "_model_module_version": "1.2.0",
       "_model_name": "LayoutModel",
       "_view_count": null,
       "_view_module": "@jupyter-widgets/base",
       "_view_module_version": "1.2.0",
       "_view_name": "LayoutView",
       "align_content": null,
       "align_items": null,
       "align_self": null,
       "border": null,
       "bottom": null,
       "display": null,
       "flex": null,
       "flex_flow": null,
       "grid_area": null,
       "grid_auto_columns": null,
       "grid_auto_flow": null,
       "grid_auto_rows": null,
       "grid_column": null,
       "grid_gap": null,
       "grid_row": null,
       "grid_template_areas": null,
       "grid_template_columns": null,
       "grid_template_rows": null,
       "height": null,
       "justify_content": null,
       "justify_items": null,
       "left": null,
       "margin": null,
       "max_height": null,
       "max_width": null,
       "min_height": null,
       "min_width": null,
       "object_fit": null,
       "object_position": null,
       "order": null,
       "overflow": null,
       "overflow_x": null,
       "overflow_y": null,
       "padding": null,
       "right": null,
       "top": null,
       "visibility": null,
       "width": "60%"
      }
     },
     "4304177cb08e4ac391bf374871186223": {
      "model_module": "@jupyter-widgets/controls",
      "model_module_version": "1.5.0",
      "model_name": "HBoxModel",
      "state": {
       "_dom_classes": [],
       "_model_module": "@jupyter-widgets/controls",
       "_model_module_version": "1.5.0",
       "_model_name": "HBoxModel",
       "_view_count": null,
       "_view_module": "@jupyter-widgets/controls",
       "_view_module_version": "1.5.0",
       "_view_name": "HBoxView",
       "box_style": "",
       "children": [
        "IPY_MODEL_26102e4960da4c459b0d2f955c6cd74d",
        "IPY_MODEL_7241838389c04ae499faf07bdeb97d84",
        "IPY_MODEL_ce75f6a3cd4f4c6d85a8a22f3647ba4d"
       ],
       "layout": "IPY_MODEL_56f9963aee1342ec90b5c243e14f172e"
      }
     },
     "44cb84d916bb466c9f3e96c6345cb93e": {
      "model_module": "@jupyter-widgets/controls",
      "model_module_version": "1.5.0",
      "model_name": "FloatProgressModel",
      "state": {
       "_dom_classes": [],
       "_model_module": "@jupyter-widgets/controls",
       "_model_module_version": "1.5.0",
       "_model_name": "FloatProgressModel",
       "_view_count": null,
       "_view_module": "@jupyter-widgets/controls",
       "_view_module_version": "1.5.0",
       "_view_name": "ProgressView",
       "bar_style": "",
       "description": "",
       "description_tooltip": null,
       "layout": "IPY_MODEL_42e714ea541f4755995bafd181c8b2b2",
       "max": 10000.0,
       "min": 0.0,
       "orientation": "horizontal",
       "style": "IPY_MODEL_30d9e252e43a4a2db01f40eee7d6bfc5",
       "value": 10000.0
      }
     },
     "4512c73af11a42c8a635912aa33795ef": {
      "model_module": "@jupyter-widgets/controls",
      "model_module_version": "1.5.0",
      "model_name": "FloatProgressModel",
      "state": {
       "_dom_classes": [],
       "_model_module": "@jupyter-widgets/controls",
       "_model_module_version": "1.5.0",
       "_model_name": "FloatProgressModel",
       "_view_count": null,
       "_view_module": "@jupyter-widgets/controls",
       "_view_module_version": "1.5.0",
       "_view_name": "ProgressView",
       "bar_style": "",
       "description": "",
       "description_tooltip": null,
       "layout": "IPY_MODEL_fe017e6ccf8649568649499575d89b4c",
       "max": 10000.0,
       "min": 0.0,
       "orientation": "horizontal",
       "style": "IPY_MODEL_94598864f9a94bde968f4273da630ff4",
       "value": 10000.0
      }
     },
     "475b5d0ea9d64dc4ba9a806263385f86": {
      "model_module": "@jupyter-widgets/controls",
      "model_module_version": "1.5.0",
      "model_name": "HTMLModel",
      "state": {
       "_dom_classes": [],
       "_model_module": "@jupyter-widgets/controls",
       "_model_module_version": "1.5.0",
       "_model_name": "HTMLModel",
       "_view_count": null,
       "_view_module": "@jupyter-widgets/controls",
       "_view_module_version": "1.5.0",
       "_view_name": "HTMLView",
       "description": "",
       "description_tooltip": null,
       "layout": "IPY_MODEL_4d255f88587a4223b97263beccb4e432",
       "placeholder": "​",
       "style": "IPY_MODEL_eaa46526b31348f5bdbddd93810a97c5",
       "value": "Packets:   "
      }
     },
     "476b85387d304ee28b4bf29c9d6b97ee": {
      "model_module": "@jupyter-widgets/controls",
      "model_module_version": "1.5.0",
      "model_name": "HBoxModel",
      "state": {
       "_dom_classes": [],
       "_model_module": "@jupyter-widgets/controls",
       "_model_module_version": "1.5.0",
       "_model_name": "HBoxModel",
       "_view_count": null,
       "_view_module": "@jupyter-widgets/controls",
       "_view_module_version": "1.5.0",
       "_view_name": "HBoxView",
       "box_style": "",
       "children": [
        "IPY_MODEL_2f2caf1fbf804cbd8d125de80f06f5b5",
        "IPY_MODEL_7560aa4117a64574bfb58e5e9b50df15",
        "IPY_MODEL_7f1b55635743471788a343bef3b06177"
       ],
       "layout": "IPY_MODEL_e996ca6aed02464ba802a354c0ac71f9"
      }
     },
     "47b670385327469e8fbfb006650cf459": {
      "model_module": "@jupyter-widgets/controls",
      "model_module_version": "1.5.0",
      "model_name": "DescriptionStyleModel",
      "state": {
       "_model_module": "@jupyter-widgets/controls",
       "_model_module_version": "1.5.0",
       "_model_name": "DescriptionStyleModel",
       "_view_count": null,
       "_view_module": "@jupyter-widgets/base",
       "_view_module_version": "1.2.0",
       "_view_name": "StyleView",
       "description_width": ""
      }
     },
     "4a771b127067489991d568e506f7243b": {
      "model_module": "@jupyter-widgets/controls",
      "model_module_version": "1.5.0",
      "model_name": "DescriptionStyleModel",
      "state": {
       "_model_module": "@jupyter-widgets/controls",
       "_model_module_version": "1.5.0",
       "_model_name": "DescriptionStyleModel",
       "_view_count": null,
       "_view_module": "@jupyter-widgets/base",
       "_view_module_version": "1.2.0",
       "_view_name": "StyleView",
       "description_width": ""
      }
     },
     "4aa328a2a734481faaab9902eb04f725": {
      "model_module": "@jupyter-widgets/base",
      "model_module_version": "1.2.0",
      "model_name": "LayoutModel",
      "state": {
       "_model_module": "@jupyter-widgets/base",
       "_model_module_version": "1.2.0",
       "_model_name": "LayoutModel",
       "_view_count": null,
       "_view_module": "@jupyter-widgets/base",
       "_view_module_version": "1.2.0",
       "_view_name": "LayoutView",
       "align_content": null,
       "align_items": null,
       "align_self": null,
       "border": null,
       "bottom": null,
       "display": null,
       "flex": null,
       "flex_flow": null,
       "grid_area": null,
       "grid_auto_columns": null,
       "grid_auto_flow": null,
       "grid_auto_rows": null,
       "grid_column": null,
       "grid_gap": null,
       "grid_row": null,
       "grid_template_areas": null,
       "grid_template_columns": null,
       "grid_template_rows": null,
       "height": null,
       "justify_content": null,
       "justify_items": null,
       "left": null,
       "margin": null,
       "max_height": null,
       "max_width": null,
       "min_height": null,
       "min_width": null,
       "object_fit": null,
       "object_position": null,
       "order": null,
       "overflow": null,
       "overflow_x": null,
       "overflow_y": null,
       "padding": null,
       "right": null,
       "top": null,
       "visibility": null,
       "width": null
      }
     },
     "4ac2377dc42145e49f9342e2e76c0976": {
      "model_module": "@jupyter-widgets/controls",
      "model_module_version": "1.5.0",
      "model_name": "HTMLModel",
      "state": {
       "_dom_classes": [],
       "_model_module": "@jupyter-widgets/controls",
       "_model_module_version": "1.5.0",
       "_model_name": "HTMLModel",
       "_view_count": null,
       "_view_module": "@jupyter-widgets/controls",
       "_view_module_version": "1.5.0",
       "_view_name": "HTMLView",
       "description": "",
       "description_tooltip": null,
       "layout": "IPY_MODEL_c646f888ac314e08950285cc545401c2",
       "placeholder": "​",
       "style": "IPY_MODEL_28fc3e9f26c541d89675300b953ecf4d",
       "value": "Packets:   "
      }
     },
     "4adb4d28b664499c883f2144091d1a02": {
      "model_module": "@jupyter-widgets/base",
      "model_module_version": "1.2.0",
      "model_name": "LayoutModel",
      "state": {
       "_model_module": "@jupyter-widgets/base",
       "_model_module_version": "1.2.0",
       "_model_name": "LayoutModel",
       "_view_count": null,
       "_view_module": "@jupyter-widgets/base",
       "_view_module_version": "1.2.0",
       "_view_name": "LayoutView",
       "align_content": null,
       "align_items": null,
       "align_self": null,
       "border": null,
       "bottom": null,
       "display": null,
       "flex": null,
       "flex_flow": null,
       "grid_area": null,
       "grid_auto_columns": null,
       "grid_auto_flow": null,
       "grid_auto_rows": null,
       "grid_column": null,
       "grid_gap": null,
       "grid_row": null,
       "grid_template_areas": null,
       "grid_template_columns": null,
       "grid_template_rows": null,
       "height": null,
       "justify_content": null,
       "justify_items": null,
       "left": null,
       "margin": null,
       "max_height": null,
       "max_width": null,
       "min_height": null,
       "min_width": null,
       "object_fit": null,
       "object_position": null,
       "order": null,
       "overflow": null,
       "overflow_x": null,
       "overflow_y": null,
       "padding": null,
       "right": null,
       "top": null,
       "visibility": null,
       "width": null
      }
     },
     "4bbc2cb1a3c54e2db5d674d9bdd5f3e1": {
      "model_module": "@jupyter-widgets/controls",
      "model_module_version": "1.5.0",
      "model_name": "DescriptionStyleModel",
      "state": {
       "_model_module": "@jupyter-widgets/controls",
       "_model_module_version": "1.5.0",
       "_model_name": "DescriptionStyleModel",
       "_view_count": null,
       "_view_module": "@jupyter-widgets/base",
       "_view_module_version": "1.2.0",
       "_view_name": "StyleView",
       "description_width": ""
      }
     },
     "4c10ae83a626446d87a1472ec6ad98a3": {
      "model_module": "@jupyter-widgets/controls",
      "model_module_version": "1.5.0",
      "model_name": "HTMLModel",
      "state": {
       "_dom_classes": [],
       "_model_module": "@jupyter-widgets/controls",
       "_model_module_version": "1.5.0",
       "_model_name": "HTMLModel",
       "_view_count": null,
       "_view_module": "@jupyter-widgets/controls",
       "_view_module_version": "1.5.0",
       "_view_name": "HTMLView",
       "description": "",
       "description_tooltip": null,
       "layout": "IPY_MODEL_edfc562e63694ff88d2ac49ed68b1fab",
       "placeholder": "​",
       "style": "IPY_MODEL_adbef13230734233b6adec9ffd2d6881",
       "value": "4/5 [00:00&lt;00:00, 11.73it/s]"
      }
     },
     "4d255f88587a4223b97263beccb4e432": {
      "model_module": "@jupyter-widgets/base",
      "model_module_version": "1.2.0",
      "model_name": "LayoutModel",
      "state": {
       "_model_module": "@jupyter-widgets/base",
       "_model_module_version": "1.2.0",
       "_model_name": "LayoutModel",
       "_view_count": null,
       "_view_module": "@jupyter-widgets/base",
       "_view_module_version": "1.2.0",
       "_view_name": "LayoutView",
       "align_content": null,
       "align_items": null,
       "align_self": null,
       "border": null,
       "bottom": null,
       "display": null,
       "flex": null,
       "flex_flow": null,
       "grid_area": null,
       "grid_auto_columns": null,
       "grid_auto_flow": null,
       "grid_auto_rows": null,
       "grid_column": null,
       "grid_gap": null,
       "grid_row": null,
       "grid_template_areas": null,
       "grid_template_columns": null,
       "grid_template_rows": null,
       "height": null,
       "justify_content": null,
       "justify_items": null,
       "left": null,
       "margin": null,
       "max_height": null,
       "max_width": null,
       "min_height": null,
       "min_width": null,
       "object_fit": null,
       "object_position": null,
       "order": null,
       "overflow": null,
       "overflow_x": null,
       "overflow_y": null,
       "padding": null,
       "right": null,
       "top": null,
       "visibility": null,
       "width": "6%"
      }
     },
     "4e05ee0881554d20bd9398551261edd1": {
      "model_module": "@jupyter-widgets/controls",
      "model_module_version": "1.5.0",
      "model_name": "HTMLModel",
      "state": {
       "_dom_classes": [],
       "_model_module": "@jupyter-widgets/controls",
       "_model_module_version": "1.5.0",
       "_model_name": "HTMLModel",
       "_view_count": null,
       "_view_module": "@jupyter-widgets/controls",
       "_view_module_version": "1.5.0",
       "_view_name": "HTMLView",
       "description": "",
       "description_tooltip": null,
       "layout": "IPY_MODEL_6a72cc1c56454955a10ab812f649695e",
       "placeholder": "​",
       "style": "IPY_MODEL_fd5a85f0b0ac4d6b9bf4c14d58e3e30b",
       "value": "Packets:   "
      }
     },
     "50187235a70b4eabb874353bdcee842c": {
      "model_module": "@jupyter-widgets/base",
      "model_module_version": "1.2.0",
      "model_name": "LayoutModel",
      "state": {
       "_model_module": "@jupyter-widgets/base",
       "_model_module_version": "1.2.0",
       "_model_name": "LayoutModel",
       "_view_count": null,
       "_view_module": "@jupyter-widgets/base",
       "_view_module_version": "1.2.0",
       "_view_name": "LayoutView",
       "align_content": null,
       "align_items": null,
       "align_self": null,
       "border": null,
       "bottom": null,
       "display": null,
       "flex": null,
       "flex_flow": null,
       "grid_area": null,
       "grid_auto_columns": null,
       "grid_auto_flow": null,
       "grid_auto_rows": null,
       "grid_column": null,
       "grid_gap": null,
       "grid_row": null,
       "grid_template_areas": null,
       "grid_template_columns": null,
       "grid_template_rows": null,
       "height": null,
       "justify_content": null,
       "justify_items": null,
       "left": null,
       "margin": null,
       "max_height": null,
       "max_width": null,
       "min_height": null,
       "min_width": null,
       "object_fit": null,
       "object_position": null,
       "order": null,
       "overflow": null,
       "overflow_x": null,
       "overflow_y": null,
       "padding": null,
       "right": null,
       "top": null,
       "visibility": null,
       "width": null
      }
     },
     "507f20d2454a426f9787a1eeb3775ea2": {
      "model_module": "@jupyter-widgets/base",
      "model_module_version": "1.2.0",
      "model_name": "LayoutModel",
      "state": {
       "_model_module": "@jupyter-widgets/base",
       "_model_module_version": "1.2.0",
       "_model_name": "LayoutModel",
       "_view_count": null,
       "_view_module": "@jupyter-widgets/base",
       "_view_module_version": "1.2.0",
       "_view_name": "LayoutView",
       "align_content": null,
       "align_items": null,
       "align_self": null,
       "border": null,
       "bottom": null,
       "display": null,
       "flex": null,
       "flex_flow": null,
       "grid_area": null,
       "grid_auto_columns": null,
       "grid_auto_flow": null,
       "grid_auto_rows": null,
       "grid_column": null,
       "grid_gap": null,
       "grid_row": null,
       "grid_template_areas": null,
       "grid_template_columns": null,
       "grid_template_rows": null,
       "height": null,
       "justify_content": null,
       "justify_items": null,
       "left": null,
       "margin": null,
       "max_height": null,
       "max_width": null,
       "min_height": null,
       "min_width": null,
       "object_fit": null,
       "object_position": null,
       "order": null,
       "overflow": null,
       "overflow_x": null,
       "overflow_y": null,
       "padding": null,
       "right": null,
       "top": null,
       "visibility": null,
       "width": "60%"
      }
     },
     "5166e59071dc4097a9e80eda2846cff1": {
      "model_module": "@jupyter-widgets/base",
      "model_module_version": "1.2.0",
      "model_name": "LayoutModel",
      "state": {
       "_model_module": "@jupyter-widgets/base",
       "_model_module_version": "1.2.0",
       "_model_name": "LayoutModel",
       "_view_count": null,
       "_view_module": "@jupyter-widgets/base",
       "_view_module_version": "1.2.0",
       "_view_name": "LayoutView",
       "align_content": null,
       "align_items": null,
       "align_self": null,
       "border": null,
       "bottom": null,
       "display": null,
       "flex": null,
       "flex_flow": null,
       "grid_area": null,
       "grid_auto_columns": null,
       "grid_auto_flow": null,
       "grid_auto_rows": null,
       "grid_column": null,
       "grid_gap": null,
       "grid_row": null,
       "grid_template_areas": null,
       "grid_template_columns": null,
       "grid_template_rows": null,
       "height": null,
       "justify_content": null,
       "justify_items": null,
       "left": null,
       "margin": null,
       "max_height": null,
       "max_width": null,
       "min_height": null,
       "min_width": null,
       "object_fit": null,
       "object_position": null,
       "order": null,
       "overflow": null,
       "overflow_x": null,
       "overflow_y": null,
       "padding": null,
       "right": null,
       "top": null,
       "visibility": null,
       "width": null
      }
     },
     "51971059d3b344a180e5a85d09e2e4fb": {
      "model_module": "@jupyter-widgets/controls",
      "model_module_version": "1.5.0",
      "model_name": "FloatProgressModel",
      "state": {
       "_dom_classes": [],
       "_model_module": "@jupyter-widgets/controls",
       "_model_module_version": "1.5.0",
       "_model_name": "FloatProgressModel",
       "_view_count": null,
       "_view_module": "@jupyter-widgets/controls",
       "_view_module_version": "1.5.0",
       "_view_name": "ProgressView",
       "bar_style": "",
       "description": "",
       "description_tooltip": null,
       "layout": "IPY_MODEL_6d0b68a475eb4151bab9a10ab6377b3f",
       "max": 5.0,
       "min": 0.0,
       "orientation": "horizontal",
       "style": "IPY_MODEL_99eb1aaa320f469ea161ffd252a976f1",
       "value": 4.0
      }
     },
     "533cb2858d9b428987e00e33218b6710": {
      "model_module": "@jupyter-widgets/controls",
      "model_module_version": "1.5.0",
      "model_name": "FloatProgressModel",
      "state": {
       "_dom_classes": [],
       "_model_module": "@jupyter-widgets/controls",
       "_model_module_version": "1.5.0",
       "_model_name": "FloatProgressModel",
       "_view_count": null,
       "_view_module": "@jupyter-widgets/controls",
       "_view_module_version": "1.5.0",
       "_view_name": "ProgressView",
       "bar_style": "",
       "description": "",
       "description_tooltip": null,
       "layout": "IPY_MODEL_345c50b811994a84abdbbd0206b0f112",
       "max": 5.0,
       "min": 0.0,
       "orientation": "horizontal",
       "style": "IPY_MODEL_c8c05f2ffcb54e6ea807a06b03549bd4",
       "value": 4.0
      }
     },
     "53fde812353e4650908ad17127da1c9d": {
      "model_module": "@jupyter-widgets/base",
      "model_module_version": "1.2.0",
      "model_name": "LayoutModel",
      "state": {
       "_model_module": "@jupyter-widgets/base",
       "_model_module_version": "1.2.0",
       "_model_name": "LayoutModel",
       "_view_count": null,
       "_view_module": "@jupyter-widgets/base",
       "_view_module_version": "1.2.0",
       "_view_name": "LayoutView",
       "align_content": null,
       "align_items": null,
       "align_self": null,
       "border": null,
       "bottom": null,
       "display": null,
       "flex": null,
       "flex_flow": null,
       "grid_area": null,
       "grid_auto_columns": null,
       "grid_auto_flow": null,
       "grid_auto_rows": null,
       "grid_column": null,
       "grid_gap": null,
       "grid_row": null,
       "grid_template_areas": null,
       "grid_template_columns": null,
       "grid_template_rows": null,
       "height": null,
       "justify_content": null,
       "justify_items": null,
       "left": null,
       "margin": null,
       "max_height": null,
       "max_width": null,
       "min_height": null,
       "min_width": null,
       "object_fit": null,
       "object_position": null,
       "order": null,
       "overflow": null,
       "overflow_x": null,
       "overflow_y": null,
       "padding": null,
       "right": null,
       "top": null,
       "visibility": null,
       "width": null
      }
     },
     "550540829cd54fcebf2fcdeb286a1b7e": {
      "model_module": "@jupyter-widgets/controls",
      "model_module_version": "1.5.0",
      "model_name": "ProgressStyleModel",
      "state": {
       "_model_module": "@jupyter-widgets/controls",
       "_model_module_version": "1.5.0",
       "_model_name": "ProgressStyleModel",
       "_view_count": null,
       "_view_module": "@jupyter-widgets/base",
       "_view_module_version": "1.2.0",
       "_view_name": "StyleView",
       "bar_color": null,
       "description_width": ""
      }
     },
     "55e352338cbd4a59902c381cda21bf75": {
      "model_module": "@jupyter-widgets/controls",
      "model_module_version": "1.5.0",
      "model_name": "HTMLModel",
      "state": {
       "_dom_classes": [],
       "_model_module": "@jupyter-widgets/controls",
       "_model_module_version": "1.5.0",
       "_model_name": "HTMLModel",
       "_view_count": null,
       "_view_module": "@jupyter-widgets/controls",
       "_view_module_version": "1.5.0",
       "_view_name": "HTMLView",
       "description": "",
       "description_tooltip": null,
       "layout": "IPY_MODEL_14c7068067f44b68997a3a09f42eead1",
       "placeholder": "​",
       "style": "IPY_MODEL_9689b3aef7c7405894aeb98f4e44881f",
       "value": "10000/10000 [00:00&lt;00:00, 50707.03it/s]"
      }
     },
     "55f3261c13724fc7aeb961c0cb4246dd": {
      "model_module": "@jupyter-widgets/base",
      "model_module_version": "1.2.0",
      "model_name": "LayoutModel",
      "state": {
       "_model_module": "@jupyter-widgets/base",
       "_model_module_version": "1.2.0",
       "_model_name": "LayoutModel",
       "_view_count": null,
       "_view_module": "@jupyter-widgets/base",
       "_view_module_version": "1.2.0",
       "_view_name": "LayoutView",
       "align_content": null,
       "align_items": null,
       "align_self": null,
       "border": null,
       "bottom": null,
       "display": null,
       "flex": null,
       "flex_flow": null,
       "grid_area": null,
       "grid_auto_columns": null,
       "grid_auto_flow": null,
       "grid_auto_rows": null,
       "grid_column": null,
       "grid_gap": null,
       "grid_row": null,
       "grid_template_areas": null,
       "grid_template_columns": null,
       "grid_template_rows": null,
       "height": null,
       "justify_content": null,
       "justify_items": null,
       "left": null,
       "margin": null,
       "max_height": null,
       "max_width": null,
       "min_height": null,
       "min_width": null,
       "object_fit": null,
       "object_position": null,
       "order": null,
       "overflow": null,
       "overflow_x": null,
       "overflow_y": null,
       "padding": null,
       "right": null,
       "top": null,
       "visibility": null,
       "width": "20px"
      }
     },
     "564a45e92bdd4f04ba76f0badc5072c7": {
      "model_module": "@jupyter-widgets/base",
      "model_module_version": "1.2.0",
      "model_name": "LayoutModel",
      "state": {
       "_model_module": "@jupyter-widgets/base",
       "_model_module_version": "1.2.0",
       "_model_name": "LayoutModel",
       "_view_count": null,
       "_view_module": "@jupyter-widgets/base",
       "_view_module_version": "1.2.0",
       "_view_name": "LayoutView",
       "align_content": null,
       "align_items": null,
       "align_self": null,
       "border": null,
       "bottom": null,
       "display": null,
       "flex": null,
       "flex_flow": null,
       "grid_area": null,
       "grid_auto_columns": null,
       "grid_auto_flow": null,
       "grid_auto_rows": null,
       "grid_column": null,
       "grid_gap": null,
       "grid_row": null,
       "grid_template_areas": null,
       "grid_template_columns": null,
       "grid_template_rows": null,
       "height": null,
       "justify_content": null,
       "justify_items": null,
       "left": null,
       "margin": null,
       "max_height": null,
       "max_width": null,
       "min_height": null,
       "min_width": null,
       "object_fit": null,
       "object_position": null,
       "order": null,
       "overflow": null,
       "overflow_x": null,
       "overflow_y": null,
       "padding": null,
       "right": null,
       "top": null,
       "visibility": null,
       "width": null
      }
     },
     "56f9963aee1342ec90b5c243e14f172e": {
      "model_module": "@jupyter-widgets/base",
      "model_module_version": "1.2.0",
      "model_name": "LayoutModel",
      "state": {
       "_model_module": "@jupyter-widgets/base",
       "_model_module_version": "1.2.0",
       "_model_name": "LayoutModel",
       "_view_count": null,
       "_view_module": "@jupyter-widgets/base",
       "_view_module_version": "1.2.0",
       "_view_name": "LayoutView",
       "align_content": null,
       "align_items": null,
       "align_self": null,
       "border": null,
       "bottom": null,
       "display": null,
       "flex": null,
       "flex_flow": null,
       "grid_area": null,
       "grid_auto_columns": null,
       "grid_auto_flow": null,
       "grid_auto_rows": null,
       "grid_column": null,
       "grid_gap": null,
       "grid_row": null,
       "grid_template_areas": null,
       "grid_template_columns": null,
       "grid_template_rows": null,
       "height": null,
       "justify_content": null,
       "justify_items": null,
       "left": null,
       "margin": null,
       "max_height": null,
       "max_width": null,
       "min_height": null,
       "min_width": null,
       "object_fit": null,
       "object_position": null,
       "order": null,
       "overflow": null,
       "overflow_x": null,
       "overflow_y": null,
       "padding": null,
       "right": null,
       "top": null,
       "visibility": null,
       "width": null
      }
     },
     "5a48ab0999324664afbdd27ea60a1b10": {
      "model_module": "@jupyter-widgets/controls",
      "model_module_version": "1.5.0",
      "model_name": "DescriptionStyleModel",
      "state": {
       "_model_module": "@jupyter-widgets/controls",
       "_model_module_version": "1.5.0",
       "_model_name": "DescriptionStyleModel",
       "_view_count": null,
       "_view_module": "@jupyter-widgets/base",
       "_view_module_version": "1.2.0",
       "_view_name": "StyleView",
       "description_width": ""
      }
     },
     "5b08649be41b498ca8bafc4df48de80d": {
      "model_module": "@jupyter-widgets/controls",
      "model_module_version": "1.5.0",
      "model_name": "DescriptionStyleModel",
      "state": {
       "_model_module": "@jupyter-widgets/controls",
       "_model_module_version": "1.5.0",
       "_model_name": "DescriptionStyleModel",
       "_view_count": null,
       "_view_module": "@jupyter-widgets/base",
       "_view_module_version": "1.2.0",
       "_view_name": "StyleView",
       "description_width": ""
      }
     },
     "5b091833e2cc43bfa37ad9027b830035": {
      "model_module": "@jupyter-widgets/controls",
      "model_module_version": "1.5.0",
      "model_name": "DescriptionStyleModel",
      "state": {
       "_model_module": "@jupyter-widgets/controls",
       "_model_module_version": "1.5.0",
       "_model_name": "DescriptionStyleModel",
       "_view_count": null,
       "_view_module": "@jupyter-widgets/base",
       "_view_module_version": "1.2.0",
       "_view_name": "StyleView",
       "description_width": ""
      }
     },
     "5c3f603bc6ea4099b6d9d35a0326fe29": {
      "model_module": "@jupyter-widgets/controls",
      "model_module_version": "1.5.0",
      "model_name": "ProgressStyleModel",
      "state": {
       "_model_module": "@jupyter-widgets/controls",
       "_model_module_version": "1.5.0",
       "_model_name": "ProgressStyleModel",
       "_view_count": null,
       "_view_module": "@jupyter-widgets/base",
       "_view_module_version": "1.2.0",
       "_view_name": "StyleView",
       "bar_color": null,
       "description_width": ""
      }
     },
     "60605722d3404b638a5e9515dce65f0c": {
      "model_module": "@jupyter-widgets/controls",
      "model_module_version": "1.5.0",
      "model_name": "ProgressStyleModel",
      "state": {
       "_model_module": "@jupyter-widgets/controls",
       "_model_module_version": "1.5.0",
       "_model_name": "ProgressStyleModel",
       "_view_count": null,
       "_view_module": "@jupyter-widgets/base",
       "_view_module_version": "1.2.0",
       "_view_name": "StyleView",
       "bar_color": null,
       "description_width": ""
      }
     },
     "6070f99d87974c9eba7f5d0f7b950342": {
      "model_module": "@jupyter-widgets/base",
      "model_module_version": "1.2.0",
      "model_name": "LayoutModel",
      "state": {
       "_model_module": "@jupyter-widgets/base",
       "_model_module_version": "1.2.0",
       "_model_name": "LayoutModel",
       "_view_count": null,
       "_view_module": "@jupyter-widgets/base",
       "_view_module_version": "1.2.0",
       "_view_name": "LayoutView",
       "align_content": null,
       "align_items": null,
       "align_self": null,
       "border": null,
       "bottom": null,
       "display": null,
       "flex": null,
       "flex_flow": null,
       "grid_area": null,
       "grid_auto_columns": null,
       "grid_auto_flow": null,
       "grid_auto_rows": null,
       "grid_column": null,
       "grid_gap": null,
       "grid_row": null,
       "grid_template_areas": null,
       "grid_template_columns": null,
       "grid_template_rows": null,
       "height": null,
       "justify_content": null,
       "justify_items": null,
       "left": null,
       "margin": null,
       "max_height": null,
       "max_width": null,
       "min_height": null,
       "min_width": null,
       "object_fit": null,
       "object_position": null,
       "order": null,
       "overflow": null,
       "overflow_x": null,
       "overflow_y": null,
       "padding": null,
       "right": null,
       "top": null,
       "visibility": null,
       "width": null
      }
     },
     "60b012bc89d44191901b21143eeb470e": {
      "model_module": "@jupyter-widgets/controls",
      "model_module_version": "1.5.0",
      "model_name": "HTMLModel",
      "state": {
       "_dom_classes": [],
       "_model_module": "@jupyter-widgets/controls",
       "_model_module_version": "1.5.0",
       "_model_name": "HTMLModel",
       "_view_count": null,
       "_view_module": "@jupyter-widgets/controls",
       "_view_module_version": "1.5.0",
       "_view_name": "HTMLView",
       "description": "",
       "description_tooltip": null,
       "layout": "IPY_MODEL_c5e769b459464c4fa082b4700d368f71",
       "placeholder": "​",
       "style": "IPY_MODEL_e2a84edf3d6a4d9580e60c3d0be6610a",
       "value": "4/5 [00:00&lt;00:00, 10.68it/s]"
      }
     },
     "62896a5dc0484a8dbbf5629537cb7e6b": {
      "model_module": "@jupyter-widgets/controls",
      "model_module_version": "1.5.0",
      "model_name": "HTMLModel",
      "state": {
       "_dom_classes": [],
       "_model_module": "@jupyter-widgets/controls",
       "_model_module_version": "1.5.0",
       "_model_name": "HTMLModel",
       "_view_count": null,
       "_view_module": "@jupyter-widgets/controls",
       "_view_module_version": "1.5.0",
       "_view_name": "HTMLView",
       "description": "",
       "description_tooltip": null,
       "layout": "IPY_MODEL_30b6a10c7c6a4d0eb1d2526e8e3aa08b",
       "placeholder": "​",
       "style": "IPY_MODEL_d023adb00fc946a6a6ce5f23e77f1b0e",
       "value": "Iterations:"
      }
     },
     "639f2424c6ab4ff9868b800e70d63b94": {
      "model_module": "@jupyter-widgets/controls",
      "model_module_version": "1.5.0",
      "model_name": "DescriptionStyleModel",
      "state": {
       "_model_module": "@jupyter-widgets/controls",
       "_model_module_version": "1.5.0",
       "_model_name": "DescriptionStyleModel",
       "_view_count": null,
       "_view_module": "@jupyter-widgets/base",
       "_view_module_version": "1.2.0",
       "_view_name": "StyleView",
       "description_width": ""
      }
     },
     "64acad22cddd42a295b79436df239860": {
      "model_module": "@jupyter-widgets/controls",
      "model_module_version": "1.5.0",
      "model_name": "HTMLModel",
      "state": {
       "_dom_classes": [],
       "_model_module": "@jupyter-widgets/controls",
       "_model_module_version": "1.5.0",
       "_model_name": "HTMLModel",
       "_view_count": null,
       "_view_module": "@jupyter-widgets/controls",
       "_view_module_version": "1.5.0",
       "_view_name": "HTMLView",
       "description": "",
       "description_tooltip": null,
       "layout": "IPY_MODEL_048001292d6845dfa01cb871955ff4b7",
       "placeholder": "​",
       "style": "IPY_MODEL_ccc183e6919b47ad928b8b5f2543762f",
       "value": "Packets:   "
      }
     },
     "682e9a4a48df44ef86aedce0d5762ca2": {
      "model_module": "@jupyter-widgets/output",
      "model_module_version": "1.0.0",
      "model_name": "OutputModel",
      "state": {
       "_dom_classes": [],
       "_model_module": "@jupyter-widgets/output",
       "_model_module_version": "1.0.0",
       "_model_name": "OutputModel",
       "_view_count": null,
       "_view_module": "@jupyter-widgets/output",
       "_view_module_version": "1.0.0",
       "_view_name": "OutputView",
       "layout": "IPY_MODEL_5166e59071dc4097a9e80eda2846cff1",
       "msg_id": "",
       "outputs": []
      }
     },
     "696f2246812442fa9a5d9e2573c1bb22": {
      "model_module": "@jupyter-widgets/controls",
      "model_module_version": "1.5.0",
      "model_name": "ProgressStyleModel",
      "state": {
       "_model_module": "@jupyter-widgets/controls",
       "_model_module_version": "1.5.0",
       "_model_name": "ProgressStyleModel",
       "_view_count": null,
       "_view_module": "@jupyter-widgets/base",
       "_view_module_version": "1.2.0",
       "_view_name": "StyleView",
       "bar_color": null,
       "description_width": ""
      }
     },
     "698cbace051a442da83ed7a81b646048": {
      "model_module": "@jupyter-widgets/controls",
      "model_module_version": "1.5.0",
      "model_name": "DescriptionStyleModel",
      "state": {
       "_model_module": "@jupyter-widgets/controls",
       "_model_module_version": "1.5.0",
       "_model_name": "DescriptionStyleModel",
       "_view_count": null,
       "_view_module": "@jupyter-widgets/base",
       "_view_module_version": "1.2.0",
       "_view_name": "StyleView",
       "description_width": ""
      }
     },
     "6a325f66252947509c187483b2055def": {
      "model_module": "@jupyter-widgets/base",
      "model_module_version": "1.2.0",
      "model_name": "LayoutModel",
      "state": {
       "_model_module": "@jupyter-widgets/base",
       "_model_module_version": "1.2.0",
       "_model_name": "LayoutModel",
       "_view_count": null,
       "_view_module": "@jupyter-widgets/base",
       "_view_module_version": "1.2.0",
       "_view_name": "LayoutView",
       "align_content": null,
       "align_items": null,
       "align_self": null,
       "border": null,
       "bottom": null,
       "display": null,
       "flex": null,
       "flex_flow": null,
       "grid_area": null,
       "grid_auto_columns": null,
       "grid_auto_flow": null,
       "grid_auto_rows": null,
       "grid_column": null,
       "grid_gap": null,
       "grid_row": null,
       "grid_template_areas": null,
       "grid_template_columns": null,
       "grid_template_rows": null,
       "height": null,
       "justify_content": null,
       "justify_items": null,
       "left": null,
       "margin": null,
       "max_height": null,
       "max_width": null,
       "min_height": null,
       "min_width": null,
       "object_fit": null,
       "object_position": null,
       "order": null,
       "overflow": null,
       "overflow_x": null,
       "overflow_y": null,
       "padding": null,
       "right": null,
       "top": null,
       "visibility": null,
       "width": null
      }
     },
     "6a72cc1c56454955a10ab812f649695e": {
      "model_module": "@jupyter-widgets/base",
      "model_module_version": "1.2.0",
      "model_name": "LayoutModel",
      "state": {
       "_model_module": "@jupyter-widgets/base",
       "_model_module_version": "1.2.0",
       "_model_name": "LayoutModel",
       "_view_count": null,
       "_view_module": "@jupyter-widgets/base",
       "_view_module_version": "1.2.0",
       "_view_name": "LayoutView",
       "align_content": null,
       "align_items": null,
       "align_self": null,
       "border": null,
       "bottom": null,
       "display": null,
       "flex": null,
       "flex_flow": null,
       "grid_area": null,
       "grid_auto_columns": null,
       "grid_auto_flow": null,
       "grid_auto_rows": null,
       "grid_column": null,
       "grid_gap": null,
       "grid_row": null,
       "grid_template_areas": null,
       "grid_template_columns": null,
       "grid_template_rows": null,
       "height": null,
       "justify_content": null,
       "justify_items": null,
       "left": null,
       "margin": null,
       "max_height": null,
       "max_width": null,
       "min_height": null,
       "min_width": null,
       "object_fit": null,
       "object_position": null,
       "order": null,
       "overflow": null,
       "overflow_x": null,
       "overflow_y": null,
       "padding": null,
       "right": null,
       "top": null,
       "visibility": null,
       "width": "6%"
      }
     },
     "6d0b68a475eb4151bab9a10ab6377b3f": {
      "model_module": "@jupyter-widgets/base",
      "model_module_version": "1.2.0",
      "model_name": "LayoutModel",
      "state": {
       "_model_module": "@jupyter-widgets/base",
       "_model_module_version": "1.2.0",
       "_model_name": "LayoutModel",
       "_view_count": null,
       "_view_module": "@jupyter-widgets/base",
       "_view_module_version": "1.2.0",
       "_view_name": "LayoutView",
       "align_content": null,
       "align_items": null,
       "align_self": null,
       "border": null,
       "bottom": null,
       "display": null,
       "flex": null,
       "flex_flow": null,
       "grid_area": null,
       "grid_auto_columns": null,
       "grid_auto_flow": null,
       "grid_auto_rows": null,
       "grid_column": null,
       "grid_gap": null,
       "grid_row": null,
       "grid_template_areas": null,
       "grid_template_columns": null,
       "grid_template_rows": null,
       "height": null,
       "justify_content": null,
       "justify_items": null,
       "left": null,
       "margin": null,
       "max_height": null,
       "max_width": null,
       "min_height": null,
       "min_width": null,
       "object_fit": null,
       "object_position": null,
       "order": null,
       "overflow": null,
       "overflow_x": null,
       "overflow_y": null,
       "padding": null,
       "right": null,
       "top": null,
       "visibility": null,
       "width": "60%"
      }
     },
     "6e6db177f00544c4afc3b884f3bca8f7": {
      "model_module": "@jupyter-widgets/controls",
      "model_module_version": "1.5.0",
      "model_name": "HTMLModel",
      "state": {
       "_dom_classes": [],
       "_model_module": "@jupyter-widgets/controls",
       "_model_module_version": "1.5.0",
       "_model_name": "HTMLModel",
       "_view_count": null,
       "_view_module": "@jupyter-widgets/controls",
       "_view_module_version": "1.5.0",
       "_view_name": "HTMLView",
       "description": "",
       "description_tooltip": null,
       "layout": "IPY_MODEL_23cf82ed1c584561ac3e0dd168287275",
       "placeholder": "​",
       "style": "IPY_MODEL_a576b36b48ca4360971d30b54129db04",
       "value": "10000/10000 [00:00&lt;00:00, 57397.04it/s]"
      }
     },
     "6f8b638b1d4845beb6bd35d9c750b756": {
      "model_module": "@jupyter-widgets/controls",
      "model_module_version": "1.5.0",
      "model_name": "HTMLModel",
      "state": {
       "_dom_classes": [],
       "_model_module": "@jupyter-widgets/controls",
       "_model_module_version": "1.5.0",
       "_model_name": "HTMLModel",
       "_view_count": null,
       "_view_module": "@jupyter-widgets/controls",
       "_view_module_version": "1.5.0",
       "_view_name": "HTMLView",
       "description": "",
       "description_tooltip": null,
       "layout": "IPY_MODEL_162b9c7e22914cff8a9e380c5a33de23",
       "placeholder": "​",
       "style": "IPY_MODEL_2b480a156dd341559a1d5d0ba60013a8",
       "value": "10000/10000 [00:00&lt;00:00, 56676.30it/s]"
      }
     },
     "707f989a8c5b455b9d86a3087892f584": {
      "model_module": "@jupyter-widgets/controls",
      "model_module_version": "1.5.0",
      "model_name": "DescriptionStyleModel",
      "state": {
       "_model_module": "@jupyter-widgets/controls",
       "_model_module_version": "1.5.0",
       "_model_name": "DescriptionStyleModel",
       "_view_count": null,
       "_view_module": "@jupyter-widgets/base",
       "_view_module_version": "1.2.0",
       "_view_name": "StyleView",
       "description_width": ""
      }
     },
     "7241838389c04ae499faf07bdeb97d84": {
      "model_module": "@jupyter-widgets/controls",
      "model_module_version": "1.5.0",
      "model_name": "FloatProgressModel",
      "state": {
       "_dom_classes": [],
       "_model_module": "@jupyter-widgets/controls",
       "_model_module_version": "1.5.0",
       "_model_name": "FloatProgressModel",
       "_view_count": null,
       "_view_module": "@jupyter-widgets/controls",
       "_view_module_version": "1.5.0",
       "_view_name": "ProgressView",
       "bar_style": "info",
       "description": "",
       "description_tooltip": null,
       "layout": "IPY_MODEL_7b10a7f87370458bbdd7bae8fcfa1d67",
       "max": 1.0,
       "min": 0.0,
       "orientation": "horizontal",
       "style": "IPY_MODEL_696f2246812442fa9a5d9e2573c1bb22",
       "value": 0.0
      }
     },
     "74282725d9ca4dcca8832b7420b477fc": {
      "model_module": "@jupyter-widgets/controls",
      "model_module_version": "1.5.0",
      "model_name": "HTMLModel",
      "state": {
       "_dom_classes": [],
       "_model_module": "@jupyter-widgets/controls",
       "_model_module_version": "1.5.0",
       "_model_name": "HTMLModel",
       "_view_count": null,
       "_view_module": "@jupyter-widgets/controls",
       "_view_module_version": "1.5.0",
       "_view_name": "HTMLView",
       "description": "",
       "description_tooltip": null,
       "layout": "IPY_MODEL_7fc24cfa93b643818184f145366569e8",
       "placeholder": "​",
       "style": "IPY_MODEL_cb09783e8cf544a5a605a998a53af4e0",
       "value": "4/5 [00:00&lt;00:00, 10.73it/s]"
      }
     },
     "7523476c1eb841f2aabc742f97f03e4c": {
      "model_module": "@jupyter-widgets/controls",
      "model_module_version": "1.5.0",
      "model_name": "HTMLModel",
      "state": {
       "_dom_classes": [],
       "_model_module": "@jupyter-widgets/controls",
       "_model_module_version": "1.5.0",
       "_model_name": "HTMLModel",
       "_view_count": null,
       "_view_module": "@jupyter-widgets/controls",
       "_view_module_version": "1.5.0",
       "_view_name": "HTMLView",
       "description": "",
       "description_tooltip": null,
       "layout": "IPY_MODEL_029e9c8a4a524f78bdccdccc17337b8e",
       "placeholder": "​",
       "style": "IPY_MODEL_1649f7d13c494d55bb1da53faeff0eb3",
       "value": "Iterations:"
      }
     },
     "7560aa4117a64574bfb58e5e9b50df15": {
      "model_module": "@jupyter-widgets/controls",
      "model_module_version": "1.5.0",
      "model_name": "FloatProgressModel",
      "state": {
       "_dom_classes": [],
       "_model_module": "@jupyter-widgets/controls",
       "_model_module_version": "1.5.0",
       "_model_name": "FloatProgressModel",
       "_view_count": null,
       "_view_module": "@jupyter-widgets/controls",
       "_view_module_version": "1.5.0",
       "_view_name": "ProgressView",
       "bar_style": "",
       "description": "",
       "description_tooltip": null,
       "layout": "IPY_MODEL_f5f649413bab4a69876110de280dc123",
       "max": 5.0,
       "min": 0.0,
       "orientation": "horizontal",
       "style": "IPY_MODEL_f70f5e82a48f42dd8b58854ea569eff3",
       "value": 4.0
      }
     },
     "77007770cc8948fbaf90e203bf814eed": {
      "model_module": "@jupyter-widgets/base",
      "model_module_version": "1.2.0",
      "model_name": "LayoutModel",
      "state": {
       "_model_module": "@jupyter-widgets/base",
       "_model_module_version": "1.2.0",
       "_model_name": "LayoutModel",
       "_view_count": null,
       "_view_module": "@jupyter-widgets/base",
       "_view_module_version": "1.2.0",
       "_view_name": "LayoutView",
       "align_content": null,
       "align_items": null,
       "align_self": null,
       "border": null,
       "bottom": null,
       "display": null,
       "flex": null,
       "flex_flow": null,
       "grid_area": null,
       "grid_auto_columns": null,
       "grid_auto_flow": null,
       "grid_auto_rows": null,
       "grid_column": null,
       "grid_gap": null,
       "grid_row": null,
       "grid_template_areas": null,
       "grid_template_columns": null,
       "grid_template_rows": null,
       "height": null,
       "justify_content": null,
       "justify_items": null,
       "left": null,
       "margin": null,
       "max_height": null,
       "max_width": null,
       "min_height": null,
       "min_width": null,
       "object_fit": null,
       "object_position": null,
       "order": null,
       "overflow": null,
       "overflow_x": null,
       "overflow_y": null,
       "padding": null,
       "right": null,
       "top": null,
       "visibility": null,
       "width": "6%"
      }
     },
     "77937ed5b24947229884905913c39731": {
      "model_module": "@jupyter-widgets/controls",
      "model_module_version": "1.5.0",
      "model_name": "HTMLModel",
      "state": {
       "_dom_classes": [],
       "_model_module": "@jupyter-widgets/controls",
       "_model_module_version": "1.5.0",
       "_model_name": "HTMLModel",
       "_view_count": null,
       "_view_module": "@jupyter-widgets/controls",
       "_view_module_version": "1.5.0",
       "_view_name": "HTMLView",
       "description": "",
       "description_tooltip": null,
       "layout": "IPY_MODEL_ca9dce474cf74f0da565124adb495106",
       "placeholder": "​",
       "style": "IPY_MODEL_5b091833e2cc43bfa37ad9027b830035",
       "value": "Iterations:"
      }
     },
     "78123fbc45a74e9d8394dd7ffb3b8985": {
      "model_module": "@jupyter-widgets/controls",
      "model_module_version": "1.5.0",
      "model_name": "DescriptionStyleModel",
      "state": {
       "_model_module": "@jupyter-widgets/controls",
       "_model_module_version": "1.5.0",
       "_model_name": "DescriptionStyleModel",
       "_view_count": null,
       "_view_module": "@jupyter-widgets/base",
       "_view_module_version": "1.2.0",
       "_view_name": "StyleView",
       "description_width": ""
      }
     },
     "79b30536f3b8431db82760e8f216301a": {
      "model_module": "@jupyter-widgets/controls",
      "model_module_version": "1.5.0",
      "model_name": "HTMLModel",
      "state": {
       "_dom_classes": [],
       "_model_module": "@jupyter-widgets/controls",
       "_model_module_version": "1.5.0",
       "_model_name": "HTMLModel",
       "_view_count": null,
       "_view_module": "@jupyter-widgets/controls",
       "_view_module_version": "1.5.0",
       "_view_name": "HTMLView",
       "description": "",
       "description_tooltip": null,
       "layout": "IPY_MODEL_77007770cc8948fbaf90e203bf814eed",
       "placeholder": "​",
       "style": "IPY_MODEL_242ca1cb61a7456e891ab0e61b320e24",
       "value": "Packets:   "
      }
     },
     "7a6c67a5678a45ffaa9b946789ea39a4": {
      "model_module": "@jupyter-widgets/controls",
      "model_module_version": "1.5.0",
      "model_name": "ProgressStyleModel",
      "state": {
       "_model_module": "@jupyter-widgets/controls",
       "_model_module_version": "1.5.0",
       "_model_name": "ProgressStyleModel",
       "_view_count": null,
       "_view_module": "@jupyter-widgets/base",
       "_view_module_version": "1.2.0",
       "_view_name": "StyleView",
       "bar_color": null,
       "description_width": ""
      }
     },
     "7b10a7f87370458bbdd7bae8fcfa1d67": {
      "model_module": "@jupyter-widgets/base",
      "model_module_version": "1.2.0",
      "model_name": "LayoutModel",
      "state": {
       "_model_module": "@jupyter-widgets/base",
       "_model_module_version": "1.2.0",
       "_model_name": "LayoutModel",
       "_view_count": null,
       "_view_module": "@jupyter-widgets/base",
       "_view_module_version": "1.2.0",
       "_view_name": "LayoutView",
       "align_content": null,
       "align_items": null,
       "align_self": null,
       "border": null,
       "bottom": null,
       "display": null,
       "flex": null,
       "flex_flow": null,
       "grid_area": null,
       "grid_auto_columns": null,
       "grid_auto_flow": null,
       "grid_auto_rows": null,
       "grid_column": null,
       "grid_gap": null,
       "grid_row": null,
       "grid_template_areas": null,
       "grid_template_columns": null,
       "grid_template_rows": null,
       "height": null,
       "justify_content": null,
       "justify_items": null,
       "left": null,
       "margin": null,
       "max_height": null,
       "max_width": null,
       "min_height": null,
       "min_width": null,
       "object_fit": null,
       "object_position": null,
       "order": null,
       "overflow": null,
       "overflow_x": null,
       "overflow_y": null,
       "padding": null,
       "right": null,
       "top": null,
       "visibility": null,
       "width": "20px"
      }
     },
     "7d30914d0a844303b36f57b3eda15df3": {
      "model_module": "@jupyter-widgets/base",
      "model_module_version": "1.2.0",
      "model_name": "LayoutModel",
      "state": {
       "_model_module": "@jupyter-widgets/base",
       "_model_module_version": "1.2.0",
       "_model_name": "LayoutModel",
       "_view_count": null,
       "_view_module": "@jupyter-widgets/base",
       "_view_module_version": "1.2.0",
       "_view_name": "LayoutView",
       "align_content": null,
       "align_items": null,
       "align_self": null,
       "border": null,
       "bottom": null,
       "display": null,
       "flex": null,
       "flex_flow": null,
       "grid_area": null,
       "grid_auto_columns": null,
       "grid_auto_flow": null,
       "grid_auto_rows": null,
       "grid_column": null,
       "grid_gap": null,
       "grid_row": null,
       "grid_template_areas": null,
       "grid_template_columns": null,
       "grid_template_rows": null,
       "height": null,
       "justify_content": null,
       "justify_items": null,
       "left": null,
       "margin": null,
       "max_height": null,
       "max_width": null,
       "min_height": null,
       "min_width": null,
       "object_fit": null,
       "object_position": null,
       "order": null,
       "overflow": null,
       "overflow_x": null,
       "overflow_y": null,
       "padding": null,
       "right": null,
       "top": null,
       "visibility": null,
       "width": "6%"
      }
     },
     "7da444d75b2f488abe3e7599e5730d37": {
      "model_module": "@jupyter-widgets/base",
      "model_module_version": "1.2.0",
      "model_name": "LayoutModel",
      "state": {
       "_model_module": "@jupyter-widgets/base",
       "_model_module_version": "1.2.0",
       "_model_name": "LayoutModel",
       "_view_count": null,
       "_view_module": "@jupyter-widgets/base",
       "_view_module_version": "1.2.0",
       "_view_name": "LayoutView",
       "align_content": null,
       "align_items": null,
       "align_self": null,
       "border": null,
       "bottom": null,
       "display": null,
       "flex": null,
       "flex_flow": null,
       "grid_area": null,
       "grid_auto_columns": null,
       "grid_auto_flow": null,
       "grid_auto_rows": null,
       "grid_column": null,
       "grid_gap": null,
       "grid_row": null,
       "grid_template_areas": null,
       "grid_template_columns": null,
       "grid_template_rows": null,
       "height": null,
       "justify_content": null,
       "justify_items": null,
       "left": null,
       "margin": null,
       "max_height": null,
       "max_width": null,
       "min_height": null,
       "min_width": null,
       "object_fit": null,
       "object_position": null,
       "order": null,
       "overflow": null,
       "overflow_x": null,
       "overflow_y": null,
       "padding": null,
       "right": null,
       "top": null,
       "visibility": null,
       "width": "6%"
      }
     },
     "7dc3a30148ee418587a214e08d6b69b5": {
      "model_module": "@jupyter-widgets/controls",
      "model_module_version": "1.5.0",
      "model_name": "ProgressStyleModel",
      "state": {
       "_model_module": "@jupyter-widgets/controls",
       "_model_module_version": "1.5.0",
       "_model_name": "ProgressStyleModel",
       "_view_count": null,
       "_view_module": "@jupyter-widgets/base",
       "_view_module_version": "1.2.0",
       "_view_name": "StyleView",
       "bar_color": null,
       "description_width": ""
      }
     },
     "7e42a14b35d346f789b1b158e90c07a7": {
      "model_module": "@jupyter-widgets/controls",
      "model_module_version": "1.5.0",
      "model_name": "ProgressStyleModel",
      "state": {
       "_model_module": "@jupyter-widgets/controls",
       "_model_module_version": "1.5.0",
       "_model_name": "ProgressStyleModel",
       "_view_count": null,
       "_view_module": "@jupyter-widgets/base",
       "_view_module_version": "1.2.0",
       "_view_name": "StyleView",
       "bar_color": null,
       "description_width": ""
      }
     },
     "7e7c1902a95b4735a972e77df6a5fd0a": {
      "model_module": "@jupyter-widgets/controls",
      "model_module_version": "1.5.0",
      "model_name": "HBoxModel",
      "state": {
       "_dom_classes": [],
       "_model_module": "@jupyter-widgets/controls",
       "_model_module_version": "1.5.0",
       "_model_name": "HBoxModel",
       "_view_count": null,
       "_view_module": "@jupyter-widgets/controls",
       "_view_module_version": "1.5.0",
       "_view_name": "HBoxView",
       "box_style": "",
       "children": [
        "IPY_MODEL_4ac2377dc42145e49f9342e2e76c0976",
        "IPY_MODEL_aad5151b9d4f465ca21af3d26dba80b7",
        "IPY_MODEL_188a2c765d174ee68555f894a769897d"
       ],
       "layout": "IPY_MODEL_6070f99d87974c9eba7f5d0f7b950342"
      }
     },
     "7f1b55635743471788a343bef3b06177": {
      "model_module": "@jupyter-widgets/controls",
      "model_module_version": "1.5.0",
      "model_name": "HTMLModel",
      "state": {
       "_dom_classes": [],
       "_model_module": "@jupyter-widgets/controls",
       "_model_module_version": "1.5.0",
       "_model_name": "HTMLModel",
       "_view_count": null,
       "_view_module": "@jupyter-widgets/controls",
       "_view_module_version": "1.5.0",
       "_view_name": "HTMLView",
       "description": "",
       "description_tooltip": null,
       "layout": "IPY_MODEL_ff733a6dffff4c4892919cbc6ff52331",
       "placeholder": "​",
       "style": "IPY_MODEL_c7c16b64c6a846149641b0caf24fcf5e",
       "value": "4/5 [00:00&lt;00:00, 12.86it/s]"
      }
     },
     "7fc24cfa93b643818184f145366569e8": {
      "model_module": "@jupyter-widgets/base",
      "model_module_version": "1.2.0",
      "model_name": "LayoutModel",
      "state": {
       "_model_module": "@jupyter-widgets/base",
       "_model_module_version": "1.2.0",
       "_model_name": "LayoutModel",
       "_view_count": null,
       "_view_module": "@jupyter-widgets/base",
       "_view_module_version": "1.2.0",
       "_view_name": "LayoutView",
       "align_content": null,
       "align_items": null,
       "align_self": null,
       "border": null,
       "bottom": null,
       "display": null,
       "flex": null,
       "flex_flow": null,
       "grid_area": null,
       "grid_auto_columns": null,
       "grid_auto_flow": null,
       "grid_auto_rows": null,
       "grid_column": null,
       "grid_gap": null,
       "grid_row": null,
       "grid_template_areas": null,
       "grid_template_columns": null,
       "grid_template_rows": null,
       "height": null,
       "justify_content": null,
       "justify_items": null,
       "left": null,
       "margin": null,
       "max_height": null,
       "max_width": null,
       "min_height": null,
       "min_width": null,
       "object_fit": null,
       "object_position": null,
       "order": null,
       "overflow": null,
       "overflow_x": null,
       "overflow_y": null,
       "padding": null,
       "right": null,
       "top": null,
       "visibility": null,
       "width": null
      }
     },
     "824dc94ded7345908853cbdf7e9bffec": {
      "model_module": "@jupyter-widgets/base",
      "model_module_version": "1.2.0",
      "model_name": "LayoutModel",
      "state": {
       "_model_module": "@jupyter-widgets/base",
       "_model_module_version": "1.2.0",
       "_model_name": "LayoutModel",
       "_view_count": null,
       "_view_module": "@jupyter-widgets/base",
       "_view_module_version": "1.2.0",
       "_view_name": "LayoutView",
       "align_content": null,
       "align_items": null,
       "align_self": null,
       "border": null,
       "bottom": null,
       "display": null,
       "flex": null,
       "flex_flow": null,
       "grid_area": null,
       "grid_auto_columns": null,
       "grid_auto_flow": null,
       "grid_auto_rows": null,
       "grid_column": null,
       "grid_gap": null,
       "grid_row": null,
       "grid_template_areas": null,
       "grid_template_columns": null,
       "grid_template_rows": null,
       "height": null,
       "justify_content": null,
       "justify_items": null,
       "left": null,
       "margin": null,
       "max_height": null,
       "max_width": null,
       "min_height": null,
       "min_width": null,
       "object_fit": null,
       "object_position": null,
       "order": null,
       "overflow": null,
       "overflow_x": null,
       "overflow_y": null,
       "padding": null,
       "right": null,
       "top": null,
       "visibility": null,
       "width": "60%"
      }
     },
     "82f35fc906eb4944858a5029d8b1bdcf": {
      "model_module": "@jupyter-widgets/controls",
      "model_module_version": "1.5.0",
      "model_name": "FloatProgressModel",
      "state": {
       "_dom_classes": [],
       "_model_module": "@jupyter-widgets/controls",
       "_model_module_version": "1.5.0",
       "_model_name": "FloatProgressModel",
       "_view_count": null,
       "_view_module": "@jupyter-widgets/controls",
       "_view_module_version": "1.5.0",
       "_view_name": "ProgressView",
       "bar_style": "",
       "description": "",
       "description_tooltip": null,
       "layout": "IPY_MODEL_c7bba7469a57493d891e24fb409d16a7",
       "max": 5.0,
       "min": 0.0,
       "orientation": "horizontal",
       "style": "IPY_MODEL_7dc3a30148ee418587a214e08d6b69b5",
       "value": 4.0
      }
     },
     "83f1e364f6554a7f91efd6fd97b4f5eb": {
      "model_module": "@jupyter-widgets/base",
      "model_module_version": "1.2.0",
      "model_name": "LayoutModel",
      "state": {
       "_model_module": "@jupyter-widgets/base",
       "_model_module_version": "1.2.0",
       "_model_name": "LayoutModel",
       "_view_count": null,
       "_view_module": "@jupyter-widgets/base",
       "_view_module_version": "1.2.0",
       "_view_name": "LayoutView",
       "align_content": null,
       "align_items": null,
       "align_self": null,
       "border": null,
       "bottom": null,
       "display": null,
       "flex": null,
       "flex_flow": null,
       "grid_area": null,
       "grid_auto_columns": null,
       "grid_auto_flow": null,
       "grid_auto_rows": null,
       "grid_column": null,
       "grid_gap": null,
       "grid_row": null,
       "grid_template_areas": null,
       "grid_template_columns": null,
       "grid_template_rows": null,
       "height": null,
       "justify_content": null,
       "justify_items": null,
       "left": null,
       "margin": null,
       "max_height": null,
       "max_width": null,
       "min_height": null,
       "min_width": null,
       "object_fit": null,
       "object_position": null,
       "order": null,
       "overflow": null,
       "overflow_x": null,
       "overflow_y": null,
       "padding": null,
       "right": null,
       "top": null,
       "visibility": null,
       "width": "6%"
      }
     },
     "84b752822e5f4914a16f6d809026bae4": {
      "model_module": "@jupyter-widgets/base",
      "model_module_version": "1.2.0",
      "model_name": "LayoutModel",
      "state": {
       "_model_module": "@jupyter-widgets/base",
       "_model_module_version": "1.2.0",
       "_model_name": "LayoutModel",
       "_view_count": null,
       "_view_module": "@jupyter-widgets/base",
       "_view_module_version": "1.2.0",
       "_view_name": "LayoutView",
       "align_content": null,
       "align_items": null,
       "align_self": null,
       "border": null,
       "bottom": null,
       "display": null,
       "flex": null,
       "flex_flow": null,
       "grid_area": null,
       "grid_auto_columns": null,
       "grid_auto_flow": null,
       "grid_auto_rows": null,
       "grid_column": null,
       "grid_gap": null,
       "grid_row": null,
       "grid_template_areas": null,
       "grid_template_columns": null,
       "grid_template_rows": null,
       "height": null,
       "justify_content": null,
       "justify_items": null,
       "left": null,
       "margin": null,
       "max_height": null,
       "max_width": null,
       "min_height": null,
       "min_width": null,
       "object_fit": null,
       "object_position": null,
       "order": null,
       "overflow": null,
       "overflow_x": null,
       "overflow_y": null,
       "padding": null,
       "right": null,
       "top": null,
       "visibility": null,
       "width": null
      }
     },
     "85c4f7f352454db0930217b33a879117": {
      "model_module": "@jupyter-widgets/controls",
      "model_module_version": "1.5.0",
      "model_name": "HBoxModel",
      "state": {
       "_dom_classes": [],
       "_model_module": "@jupyter-widgets/controls",
       "_model_module_version": "1.5.0",
       "_model_name": "HBoxModel",
       "_view_count": null,
       "_view_module": "@jupyter-widgets/controls",
       "_view_module_version": "1.5.0",
       "_view_name": "HBoxView",
       "box_style": "",
       "children": [
        "IPY_MODEL_138501fd36e848b1ae841880c58b9d61",
        "IPY_MODEL_133826b11ee243ae9df749c7c2bc1573",
        "IPY_MODEL_c498de8cd2334ffa8fdba68f6a21b9e9"
       ],
       "layout": "IPY_MODEL_3ed682840d2845b9a5b29271ff2ce23e"
      }
     },
     "8874e717186148cd9550f3a59c20c955": {
      "model_module": "@jupyter-widgets/base",
      "model_module_version": "1.2.0",
      "model_name": "LayoutModel",
      "state": {
       "_model_module": "@jupyter-widgets/base",
       "_model_module_version": "1.2.0",
       "_model_name": "LayoutModel",
       "_view_count": null,
       "_view_module": "@jupyter-widgets/base",
       "_view_module_version": "1.2.0",
       "_view_name": "LayoutView",
       "align_content": null,
       "align_items": null,
       "align_self": null,
       "border": null,
       "bottom": null,
       "display": null,
       "flex": null,
       "flex_flow": null,
       "grid_area": null,
       "grid_auto_columns": null,
       "grid_auto_flow": null,
       "grid_auto_rows": null,
       "grid_column": null,
       "grid_gap": null,
       "grid_row": null,
       "grid_template_areas": null,
       "grid_template_columns": null,
       "grid_template_rows": null,
       "height": null,
       "justify_content": null,
       "justify_items": null,
       "left": null,
       "margin": null,
       "max_height": null,
       "max_width": null,
       "min_height": null,
       "min_width": null,
       "object_fit": null,
       "object_position": null,
       "order": null,
       "overflow": null,
       "overflow_x": null,
       "overflow_y": null,
       "padding": null,
       "right": null,
       "top": null,
       "visibility": null,
       "width": "6%"
      }
     },
     "8b1d9b1dd274471b8b0c0e5d6b7b0a0d": {
      "model_module": "@jupyter-widgets/controls",
      "model_module_version": "1.5.0",
      "model_name": "HBoxModel",
      "state": {
       "_dom_classes": [],
       "_model_module": "@jupyter-widgets/controls",
       "_model_module_version": "1.5.0",
       "_model_name": "HBoxModel",
       "_view_count": null,
       "_view_module": "@jupyter-widgets/controls",
       "_view_module_version": "1.5.0",
       "_view_name": "HBoxView",
       "box_style": "",
       "children": [
        "IPY_MODEL_dbac8fe89bf94ce09af25cbe651e580e",
        "IPY_MODEL_b9fb40e699404c3399e29257835a5dcb",
        "IPY_MODEL_a7bb2bd6c55e4fa7a73dc207acd49ef3"
       ],
       "layout": "IPY_MODEL_6a325f66252947509c187483b2055def"
      }
     },
     "8c4738fc62274f08bbecfcda91d4cd1d": {
      "model_module": "@jupyter-widgets/base",
      "model_module_version": "1.2.0",
      "model_name": "LayoutModel",
      "state": {
       "_model_module": "@jupyter-widgets/base",
       "_model_module_version": "1.2.0",
       "_model_name": "LayoutModel",
       "_view_count": null,
       "_view_module": "@jupyter-widgets/base",
       "_view_module_version": "1.2.0",
       "_view_name": "LayoutView",
       "align_content": null,
       "align_items": null,
       "align_self": null,
       "border": null,
       "bottom": null,
       "display": null,
       "flex": null,
       "flex_flow": null,
       "grid_area": null,
       "grid_auto_columns": null,
       "grid_auto_flow": null,
       "grid_auto_rows": null,
       "grid_column": null,
       "grid_gap": null,
       "grid_row": null,
       "grid_template_areas": null,
       "grid_template_columns": null,
       "grid_template_rows": null,
       "height": null,
       "justify_content": null,
       "justify_items": null,
       "left": null,
       "margin": null,
       "max_height": null,
       "max_width": null,
       "min_height": null,
       "min_width": null,
       "object_fit": null,
       "object_position": null,
       "order": null,
       "overflow": null,
       "overflow_x": null,
       "overflow_y": null,
       "padding": null,
       "right": null,
       "top": null,
       "visibility": null,
       "width": null
      }
     },
     "8c51b44e20514827b216ab54296e55f9": {
      "model_module": "@jupyter-widgets/controls",
      "model_module_version": "1.5.0",
      "model_name": "FloatProgressModel",
      "state": {
       "_dom_classes": [],
       "_model_module": "@jupyter-widgets/controls",
       "_model_module_version": "1.5.0",
       "_model_name": "FloatProgressModel",
       "_view_count": null,
       "_view_module": "@jupyter-widgets/controls",
       "_view_module_version": "1.5.0",
       "_view_name": "ProgressView",
       "bar_style": "",
       "description": "",
       "description_tooltip": null,
       "layout": "IPY_MODEL_3297fa00ef034c4892ee8b226cedcdff",
       "max": 10000.0,
       "min": 0.0,
       "orientation": "horizontal",
       "style": "IPY_MODEL_92138230dfc943169a5849cf4a45aaa6",
       "value": 10000.0
      }
     },
     "8e938648ee2146b0be95470208a48642": {
      "model_module": "@jupyter-widgets/base",
      "model_module_version": "1.2.0",
      "model_name": "LayoutModel",
      "state": {
       "_model_module": "@jupyter-widgets/base",
       "_model_module_version": "1.2.0",
       "_model_name": "LayoutModel",
       "_view_count": null,
       "_view_module": "@jupyter-widgets/base",
       "_view_module_version": "1.2.0",
       "_view_name": "LayoutView",
       "align_content": null,
       "align_items": null,
       "align_self": null,
       "border": null,
       "bottom": null,
       "display": null,
       "flex": null,
       "flex_flow": null,
       "grid_area": null,
       "grid_auto_columns": null,
       "grid_auto_flow": null,
       "grid_auto_rows": null,
       "grid_column": null,
       "grid_gap": null,
       "grid_row": null,
       "grid_template_areas": null,
       "grid_template_columns": null,
       "grid_template_rows": null,
       "height": null,
       "justify_content": null,
       "justify_items": null,
       "left": null,
       "margin": null,
       "max_height": null,
       "max_width": null,
       "min_height": null,
       "min_width": null,
       "object_fit": null,
       "object_position": null,
       "order": null,
       "overflow": null,
       "overflow_x": null,
       "overflow_y": null,
       "padding": null,
       "right": null,
       "top": null,
       "visibility": null,
       "width": "6%"
      }
     },
     "92138230dfc943169a5849cf4a45aaa6": {
      "model_module": "@jupyter-widgets/controls",
      "model_module_version": "1.5.0",
      "model_name": "ProgressStyleModel",
      "state": {
       "_model_module": "@jupyter-widgets/controls",
       "_model_module_version": "1.5.0",
       "_model_name": "ProgressStyleModel",
       "_view_count": null,
       "_view_module": "@jupyter-widgets/base",
       "_view_module_version": "1.2.0",
       "_view_name": "StyleView",
       "bar_color": null,
       "description_width": ""
      }
     },
     "930f8f4ab11c479fbf1347743fb7adab": {
      "model_module": "@jupyter-widgets/controls",
      "model_module_version": "1.5.0",
      "model_name": "FloatProgressModel",
      "state": {
       "_dom_classes": [],
       "_model_module": "@jupyter-widgets/controls",
       "_model_module_version": "1.5.0",
       "_model_name": "FloatProgressModel",
       "_view_count": null,
       "_view_module": "@jupyter-widgets/controls",
       "_view_module_version": "1.5.0",
       "_view_name": "ProgressView",
       "bar_style": "",
       "description": "",
       "description_tooltip": null,
       "layout": "IPY_MODEL_824dc94ded7345908853cbdf7e9bffec",
       "max": 10000.0,
       "min": 0.0,
       "orientation": "horizontal",
       "style": "IPY_MODEL_60605722d3404b638a5e9515dce65f0c",
       "value": 10000.0
      }
     },
     "94598864f9a94bde968f4273da630ff4": {
      "model_module": "@jupyter-widgets/controls",
      "model_module_version": "1.5.0",
      "model_name": "ProgressStyleModel",
      "state": {
       "_model_module": "@jupyter-widgets/controls",
       "_model_module_version": "1.5.0",
       "_model_name": "ProgressStyleModel",
       "_view_count": null,
       "_view_module": "@jupyter-widgets/base",
       "_view_module_version": "1.2.0",
       "_view_name": "StyleView",
       "bar_color": null,
       "description_width": ""
      }
     },
     "964a817b1531433ab95bac672c9b82e0": {
      "model_module": "@jupyter-widgets/base",
      "model_module_version": "1.2.0",
      "model_name": "LayoutModel",
      "state": {
       "_model_module": "@jupyter-widgets/base",
       "_model_module_version": "1.2.0",
       "_model_name": "LayoutModel",
       "_view_count": null,
       "_view_module": "@jupyter-widgets/base",
       "_view_module_version": "1.2.0",
       "_view_name": "LayoutView",
       "align_content": null,
       "align_items": null,
       "align_self": null,
       "border": null,
       "bottom": null,
       "display": null,
       "flex": null,
       "flex_flow": null,
       "grid_area": null,
       "grid_auto_columns": null,
       "grid_auto_flow": null,
       "grid_auto_rows": null,
       "grid_column": null,
       "grid_gap": null,
       "grid_row": null,
       "grid_template_areas": null,
       "grid_template_columns": null,
       "grid_template_rows": null,
       "height": null,
       "justify_content": null,
       "justify_items": null,
       "left": null,
       "margin": null,
       "max_height": null,
       "max_width": null,
       "min_height": null,
       "min_width": null,
       "object_fit": null,
       "object_position": null,
       "order": null,
       "overflow": null,
       "overflow_x": null,
       "overflow_y": null,
       "padding": null,
       "right": null,
       "top": null,
       "visibility": null,
       "width": "6%"
      }
     },
     "9689b3aef7c7405894aeb98f4e44881f": {
      "model_module": "@jupyter-widgets/controls",
      "model_module_version": "1.5.0",
      "model_name": "DescriptionStyleModel",
      "state": {
       "_model_module": "@jupyter-widgets/controls",
       "_model_module_version": "1.5.0",
       "_model_name": "DescriptionStyleModel",
       "_view_count": null,
       "_view_module": "@jupyter-widgets/base",
       "_view_module_version": "1.2.0",
       "_view_name": "StyleView",
       "description_width": ""
      }
     },
     "96d8cbcc8f18400d9e2c58a2ca8841e1": {
      "model_module": "@jupyter-widgets/base",
      "model_module_version": "1.2.0",
      "model_name": "LayoutModel",
      "state": {
       "_model_module": "@jupyter-widgets/base",
       "_model_module_version": "1.2.0",
       "_model_name": "LayoutModel",
       "_view_count": null,
       "_view_module": "@jupyter-widgets/base",
       "_view_module_version": "1.2.0",
       "_view_name": "LayoutView",
       "align_content": null,
       "align_items": null,
       "align_self": null,
       "border": null,
       "bottom": null,
       "display": null,
       "flex": null,
       "flex_flow": null,
       "grid_area": null,
       "grid_auto_columns": null,
       "grid_auto_flow": null,
       "grid_auto_rows": null,
       "grid_column": null,
       "grid_gap": null,
       "grid_row": null,
       "grid_template_areas": null,
       "grid_template_columns": null,
       "grid_template_rows": null,
       "height": null,
       "justify_content": null,
       "justify_items": null,
       "left": null,
       "margin": null,
       "max_height": null,
       "max_width": null,
       "min_height": null,
       "min_width": null,
       "object_fit": null,
       "object_position": null,
       "order": null,
       "overflow": null,
       "overflow_x": null,
       "overflow_y": null,
       "padding": null,
       "right": null,
       "top": null,
       "visibility": null,
       "width": "60%"
      }
     },
     "9773ff3e644f4fa39ce3431f97753f6b": {
      "model_module": "@jupyter-widgets/controls",
      "model_module_version": "1.5.0",
      "model_name": "HTMLModel",
      "state": {
       "_dom_classes": [],
       "_model_module": "@jupyter-widgets/controls",
       "_model_module_version": "1.5.0",
       "_model_name": "HTMLModel",
       "_view_count": null,
       "_view_module": "@jupyter-widgets/controls",
       "_view_module_version": "1.5.0",
       "_view_name": "HTMLView",
       "description": "",
       "description_tooltip": null,
       "layout": "IPY_MODEL_c04f95785e714d38945defcdb02f0b6d",
       "placeholder": "​",
       "style": "IPY_MODEL_06c08dbb99a64deba65c5d99a03ac055",
       "value": "4/5 [00:00&lt;00:00, 11.86it/s]"
      }
     },
     "9938f31f3b5d4e7cb7321e85093b2028": {
      "model_module": "@jupyter-widgets/base",
      "model_module_version": "1.2.0",
      "model_name": "LayoutModel",
      "state": {
       "_model_module": "@jupyter-widgets/base",
       "_model_module_version": "1.2.0",
       "_model_name": "LayoutModel",
       "_view_count": null,
       "_view_module": "@jupyter-widgets/base",
       "_view_module_version": "1.2.0",
       "_view_name": "LayoutView",
       "align_content": null,
       "align_items": null,
       "align_self": null,
       "border": null,
       "bottom": null,
       "display": null,
       "flex": null,
       "flex_flow": null,
       "grid_area": null,
       "grid_auto_columns": null,
       "grid_auto_flow": null,
       "grid_auto_rows": null,
       "grid_column": null,
       "grid_gap": null,
       "grid_row": null,
       "grid_template_areas": null,
       "grid_template_columns": null,
       "grid_template_rows": null,
       "height": null,
       "justify_content": null,
       "justify_items": null,
       "left": null,
       "margin": null,
       "max_height": null,
       "max_width": null,
       "min_height": null,
       "min_width": null,
       "object_fit": null,
       "object_position": null,
       "order": null,
       "overflow": null,
       "overflow_x": null,
       "overflow_y": null,
       "padding": null,
       "right": null,
       "top": null,
       "visibility": null,
       "width": null
      }
     },
     "99eb1aaa320f469ea161ffd252a976f1": {
      "model_module": "@jupyter-widgets/controls",
      "model_module_version": "1.5.0",
      "model_name": "ProgressStyleModel",
      "state": {
       "_model_module": "@jupyter-widgets/controls",
       "_model_module_version": "1.5.0",
       "_model_name": "ProgressStyleModel",
       "_view_count": null,
       "_view_module": "@jupyter-widgets/base",
       "_view_module_version": "1.2.0",
       "_view_name": "StyleView",
       "bar_color": null,
       "description_width": ""
      }
     },
     "9e184839151347cf837a55adef4fb65c": {
      "model_module": "@jupyter-widgets/controls",
      "model_module_version": "1.5.0",
      "model_name": "HBoxModel",
      "state": {
       "_dom_classes": [],
       "_model_module": "@jupyter-widgets/controls",
       "_model_module_version": "1.5.0",
       "_model_name": "HBoxModel",
       "_view_count": null,
       "_view_module": "@jupyter-widgets/controls",
       "_view_module_version": "1.5.0",
       "_view_name": "HBoxView",
       "box_style": "",
       "children": [
        "IPY_MODEL_4e05ee0881554d20bd9398551261edd1",
        "IPY_MODEL_069c3386314b4c3cb3cabe1a2a648383",
        "IPY_MODEL_55e352338cbd4a59902c381cda21bf75"
       ],
       "layout": "IPY_MODEL_177f71b7b4544c7d98a0e4f5cdebb594"
      }
     },
     "a1a76e9b3666452aa27d1b5e6cc904fb": {
      "model_module": "@jupyter-widgets/base",
      "model_module_version": "1.2.0",
      "model_name": "LayoutModel",
      "state": {
       "_model_module": "@jupyter-widgets/base",
       "_model_module_version": "1.2.0",
       "_model_name": "LayoutModel",
       "_view_count": null,
       "_view_module": "@jupyter-widgets/base",
       "_view_module_version": "1.2.0",
       "_view_name": "LayoutView",
       "align_content": null,
       "align_items": null,
       "align_self": null,
       "border": null,
       "bottom": null,
       "display": null,
       "flex": null,
       "flex_flow": null,
       "grid_area": null,
       "grid_auto_columns": null,
       "grid_auto_flow": null,
       "grid_auto_rows": null,
       "grid_column": null,
       "grid_gap": null,
       "grid_row": null,
       "grid_template_areas": null,
       "grid_template_columns": null,
       "grid_template_rows": null,
       "height": null,
       "justify_content": null,
       "justify_items": null,
       "left": null,
       "margin": null,
       "max_height": null,
       "max_width": null,
       "min_height": null,
       "min_width": null,
       "object_fit": null,
       "object_position": null,
       "order": null,
       "overflow": null,
       "overflow_x": null,
       "overflow_y": null,
       "padding": null,
       "right": null,
       "top": null,
       "visibility": null,
       "width": "6%"
      }
     },
     "a576b36b48ca4360971d30b54129db04": {
      "model_module": "@jupyter-widgets/controls",
      "model_module_version": "1.5.0",
      "model_name": "DescriptionStyleModel",
      "state": {
       "_model_module": "@jupyter-widgets/controls",
       "_model_module_version": "1.5.0",
       "_model_name": "DescriptionStyleModel",
       "_view_count": null,
       "_view_module": "@jupyter-widgets/base",
       "_view_module_version": "1.2.0",
       "_view_name": "StyleView",
       "description_width": ""
      }
     },
     "a5e484c9f8f34081bbb806a08968814c": {
      "model_module": "@jupyter-widgets/controls",
      "model_module_version": "1.5.0",
      "model_name": "HTMLModel",
      "state": {
       "_dom_classes": [],
       "_model_module": "@jupyter-widgets/controls",
       "_model_module_version": "1.5.0",
       "_model_name": "HTMLModel",
       "_view_count": null,
       "_view_module": "@jupyter-widgets/controls",
       "_view_module_version": "1.5.0",
       "_view_name": "HTMLView",
       "description": "",
       "description_tooltip": null,
       "layout": "IPY_MODEL_c6941b2168c44fa1819c49dfa82bdd6f",
       "placeholder": "​",
       "style": "IPY_MODEL_e3e0cf8cde624dddb4750c004ba27d30",
       "value": "4/5 [00:00&lt;00:00, 10.48it/s]"
      }
     },
     "a7bb2bd6c55e4fa7a73dc207acd49ef3": {
      "model_module": "@jupyter-widgets/controls",
      "model_module_version": "1.5.0",
      "model_name": "HTMLModel",
      "state": {
       "_dom_classes": [],
       "_model_module": "@jupyter-widgets/controls",
       "_model_module_version": "1.5.0",
       "_model_name": "HTMLModel",
       "_view_count": null,
       "_view_module": "@jupyter-widgets/controls",
       "_view_module_version": "1.5.0",
       "_view_name": "HTMLView",
       "description": "",
       "description_tooltip": null,
       "layout": "IPY_MODEL_d02132735aab42d0afce78a06e60b583",
       "placeholder": "​",
       "style": "IPY_MODEL_698cbace051a442da83ed7a81b646048",
       "value": "10000/10000 [00:00&lt;00:00, 51757.63it/s]"
      }
     },
     "a91ba303d8cc4e09976cb22e5bdf1f53": {
      "model_module": "@jupyter-widgets/controls",
      "model_module_version": "1.5.0",
      "model_name": "HTMLModel",
      "state": {
       "_dom_classes": [],
       "_model_module": "@jupyter-widgets/controls",
       "_model_module_version": "1.5.0",
       "_model_name": "HTMLModel",
       "_view_count": null,
       "_view_module": "@jupyter-widgets/controls",
       "_view_module_version": "1.5.0",
       "_view_name": "HTMLView",
       "description": "",
       "description_tooltip": null,
       "layout": "IPY_MODEL_0b07c0e34029403cb68e84ddcd60efc8",
       "placeholder": "​",
       "style": "IPY_MODEL_0759efbdd0404bbd883a489cc410aa78",
       "value": "Iterations:"
      }
     },
     "a936530426be42f58a7f66d125ff8d8c": {
      "model_module": "@jupyter-widgets/controls",
      "model_module_version": "1.5.0",
      "model_name": "ProgressStyleModel",
      "state": {
       "_model_module": "@jupyter-widgets/controls",
       "_model_module_version": "1.5.0",
       "_model_name": "ProgressStyleModel",
       "_view_count": null,
       "_view_module": "@jupyter-widgets/base",
       "_view_module_version": "1.2.0",
       "_view_name": "StyleView",
       "bar_color": null,
       "description_width": ""
      }
     },
     "aa25b457640443d6aac82292176fcb5a": {
      "model_module": "@jupyter-widgets/controls",
      "model_module_version": "1.5.0",
      "model_name": "DescriptionStyleModel",
      "state": {
       "_model_module": "@jupyter-widgets/controls",
       "_model_module_version": "1.5.0",
       "_model_name": "DescriptionStyleModel",
       "_view_count": null,
       "_view_module": "@jupyter-widgets/base",
       "_view_module_version": "1.2.0",
       "_view_name": "StyleView",
       "description_width": ""
      }
     },
     "aad5151b9d4f465ca21af3d26dba80b7": {
      "model_module": "@jupyter-widgets/controls",
      "model_module_version": "1.5.0",
      "model_name": "FloatProgressModel",
      "state": {
       "_dom_classes": [],
       "_model_module": "@jupyter-widgets/controls",
       "_model_module_version": "1.5.0",
       "_model_name": "FloatProgressModel",
       "_view_count": null,
       "_view_module": "@jupyter-widgets/controls",
       "_view_module_version": "1.5.0",
       "_view_name": "ProgressView",
       "bar_style": "",
       "description": "",
       "description_tooltip": null,
       "layout": "IPY_MODEL_fb70e702edbc40eda91b5f7f52d6c88a",
       "max": 10000.0,
       "min": 0.0,
       "orientation": "horizontal",
       "style": "IPY_MODEL_0525e3e997ba43f8bf2064b553a05d7b",
       "value": 10000.0
      }
     },
     "accf237f723443a4b186d98b6b553610": {
      "model_module": "@jupyter-widgets/controls",
      "model_module_version": "1.5.0",
      "model_name": "FloatProgressModel",
      "state": {
       "_dom_classes": [],
       "_model_module": "@jupyter-widgets/controls",
       "_model_module_version": "1.5.0",
       "_model_name": "FloatProgressModel",
       "_view_count": null,
       "_view_module": "@jupyter-widgets/controls",
       "_view_module_version": "1.5.0",
       "_view_name": "ProgressView",
       "bar_style": "",
       "description": "",
       "description_tooltip": null,
       "layout": "IPY_MODEL_40bcfb2d9d934864821c686bc08ad9ad",
       "max": 5.0,
       "min": 0.0,
       "orientation": "horizontal",
       "style": "IPY_MODEL_1d02aca2cd5f435296a38f06788f2940",
       "value": 4.0
      }
     },
     "ad4aa8946ee94536a95b40f65cbc97f6": {
      "model_module": "@jupyter-widgets/controls",
      "model_module_version": "1.5.0",
      "model_name": "FloatProgressModel",
      "state": {
       "_dom_classes": [],
       "_model_module": "@jupyter-widgets/controls",
       "_model_module_version": "1.5.0",
       "_model_name": "FloatProgressModel",
       "_view_count": null,
       "_view_module": "@jupyter-widgets/controls",
       "_view_module_version": "1.5.0",
       "_view_name": "ProgressView",
       "bar_style": "",
       "description": "",
       "description_tooltip": null,
       "layout": "IPY_MODEL_db42ca97108e4544a9b7525ca1d7007f",
       "max": 5.0,
       "min": 0.0,
       "orientation": "horizontal",
       "style": "IPY_MODEL_fd7f6ccf811449a982d4a880e5b847bf",
       "value": 4.0
      }
     },
     "ad54d9870c414a16a2cb9990d834af96": {
      "model_module": "@jupyter-widgets/base",
      "model_module_version": "1.2.0",
      "model_name": "LayoutModel",
      "state": {
       "_model_module": "@jupyter-widgets/base",
       "_model_module_version": "1.2.0",
       "_model_name": "LayoutModel",
       "_view_count": null,
       "_view_module": "@jupyter-widgets/base",
       "_view_module_version": "1.2.0",
       "_view_name": "LayoutView",
       "align_content": null,
       "align_items": null,
       "align_self": null,
       "border": null,
       "bottom": null,
       "display": null,
       "flex": null,
       "flex_flow": null,
       "grid_area": null,
       "grid_auto_columns": null,
       "grid_auto_flow": null,
       "grid_auto_rows": null,
       "grid_column": null,
       "grid_gap": null,
       "grid_row": null,
       "grid_template_areas": null,
       "grid_template_columns": null,
       "grid_template_rows": null,
       "height": null,
       "justify_content": null,
       "justify_items": null,
       "left": null,
       "margin": null,
       "max_height": null,
       "max_width": null,
       "min_height": null,
       "min_width": null,
       "object_fit": null,
       "object_position": null,
       "order": null,
       "overflow": null,
       "overflow_x": null,
       "overflow_y": null,
       "padding": null,
       "right": null,
       "top": null,
       "visibility": null,
       "width": "6%"
      }
     },
     "adbef13230734233b6adec9ffd2d6881": {
      "model_module": "@jupyter-widgets/controls",
      "model_module_version": "1.5.0",
      "model_name": "DescriptionStyleModel",
      "state": {
       "_model_module": "@jupyter-widgets/controls",
       "_model_module_version": "1.5.0",
       "_model_name": "DescriptionStyleModel",
       "_view_count": null,
       "_view_module": "@jupyter-widgets/base",
       "_view_module_version": "1.2.0",
       "_view_name": "StyleView",
       "description_width": ""
      }
     },
     "ade3df779b604c1ab1753071fc607466": {
      "model_module": "@jupyter-widgets/controls",
      "model_module_version": "1.5.0",
      "model_name": "ProgressStyleModel",
      "state": {
       "_model_module": "@jupyter-widgets/controls",
       "_model_module_version": "1.5.0",
       "_model_name": "ProgressStyleModel",
       "_view_count": null,
       "_view_module": "@jupyter-widgets/base",
       "_view_module_version": "1.2.0",
       "_view_name": "StyleView",
       "bar_color": null,
       "description_width": ""
      }
     },
     "b6c41b94d7c041c1ab8a200a4c4217e0": {
      "model_module": "@jupyter-widgets/controls",
      "model_module_version": "1.5.0",
      "model_name": "HTMLModel",
      "state": {
       "_dom_classes": [],
       "_model_module": "@jupyter-widgets/controls",
       "_model_module_version": "1.5.0",
       "_model_name": "HTMLModel",
       "_view_count": null,
       "_view_module": "@jupyter-widgets/controls",
       "_view_module_version": "1.5.0",
       "_view_name": "HTMLView",
       "description": "",
       "description_tooltip": null,
       "layout": "IPY_MODEL_4aa328a2a734481faaab9902eb04f725",
       "placeholder": "​",
       "style": "IPY_MODEL_3efd43f59e6546cfb69790b9fb3b6ea9",
       "value": "0/? [00:00&lt;?, ?it/s]"
      }
     },
     "b7009af68a784af190273ab66213195b": {
      "model_module": "@jupyter-widgets/base",
      "model_module_version": "1.2.0",
      "model_name": "LayoutModel",
      "state": {
       "_model_module": "@jupyter-widgets/base",
       "_model_module_version": "1.2.0",
       "_model_name": "LayoutModel",
       "_view_count": null,
       "_view_module": "@jupyter-widgets/base",
       "_view_module_version": "1.2.0",
       "_view_name": "LayoutView",
       "align_content": null,
       "align_items": null,
       "align_self": null,
       "border": null,
       "bottom": null,
       "display": null,
       "flex": null,
       "flex_flow": null,
       "grid_area": null,
       "grid_auto_columns": null,
       "grid_auto_flow": null,
       "grid_auto_rows": null,
       "grid_column": null,
       "grid_gap": null,
       "grid_row": null,
       "grid_template_areas": null,
       "grid_template_columns": null,
       "grid_template_rows": null,
       "height": null,
       "justify_content": null,
       "justify_items": null,
       "left": null,
       "margin": null,
       "max_height": null,
       "max_width": null,
       "min_height": null,
       "min_width": null,
       "object_fit": null,
       "object_position": null,
       "order": null,
       "overflow": null,
       "overflow_x": null,
       "overflow_y": null,
       "padding": null,
       "right": null,
       "top": null,
       "visibility": null,
       "width": "60%"
      }
     },
     "b73a1c22dc464eb5918fe7ba2a6dba96": {
      "model_module": "@jupyter-widgets/controls",
      "model_module_version": "1.5.0",
      "model_name": "HBoxModel",
      "state": {
       "_dom_classes": [],
       "_model_module": "@jupyter-widgets/controls",
       "_model_module_version": "1.5.0",
       "_model_name": "HBoxModel",
       "_view_count": null,
       "_view_module": "@jupyter-widgets/controls",
       "_view_module_version": "1.5.0",
       "_view_name": "HBoxView",
       "box_style": "",
       "children": [
        "IPY_MODEL_fe0b0d475270445f8207275ff8d69f28",
        "IPY_MODEL_c0979add86bd4d2f804897a2a6d73ecd",
        "IPY_MODEL_a5e484c9f8f34081bbb806a08968814c"
       ],
       "layout": "IPY_MODEL_564a45e92bdd4f04ba76f0badc5072c7"
      }
     },
     "b9fb40e699404c3399e29257835a5dcb": {
      "model_module": "@jupyter-widgets/controls",
      "model_module_version": "1.5.0",
      "model_name": "FloatProgressModel",
      "state": {
       "_dom_classes": [],
       "_model_module": "@jupyter-widgets/controls",
       "_model_module_version": "1.5.0",
       "_model_name": "FloatProgressModel",
       "_view_count": null,
       "_view_module": "@jupyter-widgets/controls",
       "_view_module_version": "1.5.0",
       "_view_name": "ProgressView",
       "bar_style": "",
       "description": "",
       "description_tooltip": null,
       "layout": "IPY_MODEL_3b0898d3d2144b5aad943a7d9d0d918d",
       "max": 10000.0,
       "min": 0.0,
       "orientation": "horizontal",
       "style": "IPY_MODEL_a936530426be42f58a7f66d125ff8d8c",
       "value": 10000.0
      }
     },
     "ba49546e05034ce3bf808cacc51115fe": {
      "model_module": "@jupyter-widgets/base",
      "model_module_version": "1.2.0",
      "model_name": "LayoutModel",
      "state": {
       "_model_module": "@jupyter-widgets/base",
       "_model_module_version": "1.2.0",
       "_model_name": "LayoutModel",
       "_view_count": null,
       "_view_module": "@jupyter-widgets/base",
       "_view_module_version": "1.2.0",
       "_view_name": "LayoutView",
       "align_content": null,
       "align_items": null,
       "align_self": null,
       "border": null,
       "bottom": null,
       "display": null,
       "flex": null,
       "flex_flow": null,
       "grid_area": null,
       "grid_auto_columns": null,
       "grid_auto_flow": null,
       "grid_auto_rows": null,
       "grid_column": null,
       "grid_gap": null,
       "grid_row": null,
       "grid_template_areas": null,
       "grid_template_columns": null,
       "grid_template_rows": null,
       "height": null,
       "justify_content": null,
       "justify_items": null,
       "left": null,
       "margin": null,
       "max_height": null,
       "max_width": null,
       "min_height": null,
       "min_width": null,
       "object_fit": null,
       "object_position": null,
       "order": null,
       "overflow": null,
       "overflow_x": null,
       "overflow_y": null,
       "padding": null,
       "right": null,
       "top": null,
       "visibility": null,
       "width": null
      }
     },
     "bde42677a3a5479bbbffaa92f4f7a4e4": {
      "model_module": "@jupyter-widgets/base",
      "model_module_version": "1.2.0",
      "model_name": "LayoutModel",
      "state": {
       "_model_module": "@jupyter-widgets/base",
       "_model_module_version": "1.2.0",
       "_model_name": "LayoutModel",
       "_view_count": null,
       "_view_module": "@jupyter-widgets/base",
       "_view_module_version": "1.2.0",
       "_view_name": "LayoutView",
       "align_content": null,
       "align_items": null,
       "align_self": null,
       "border": null,
       "bottom": null,
       "display": null,
       "flex": null,
       "flex_flow": null,
       "grid_area": null,
       "grid_auto_columns": null,
       "grid_auto_flow": null,
       "grid_auto_rows": null,
       "grid_column": null,
       "grid_gap": null,
       "grid_row": null,
       "grid_template_areas": null,
       "grid_template_columns": null,
       "grid_template_rows": null,
       "height": null,
       "justify_content": null,
       "justify_items": null,
       "left": null,
       "margin": null,
       "max_height": null,
       "max_width": null,
       "min_height": null,
       "min_width": null,
       "object_fit": null,
       "object_position": null,
       "order": null,
       "overflow": null,
       "overflow_x": null,
       "overflow_y": null,
       "padding": null,
       "right": null,
       "top": null,
       "visibility": null,
       "width": null
      }
     },
     "c04f95785e714d38945defcdb02f0b6d": {
      "model_module": "@jupyter-widgets/base",
      "model_module_version": "1.2.0",
      "model_name": "LayoutModel",
      "state": {
       "_model_module": "@jupyter-widgets/base",
       "_model_module_version": "1.2.0",
       "_model_name": "LayoutModel",
       "_view_count": null,
       "_view_module": "@jupyter-widgets/base",
       "_view_module_version": "1.2.0",
       "_view_name": "LayoutView",
       "align_content": null,
       "align_items": null,
       "align_self": null,
       "border": null,
       "bottom": null,
       "display": null,
       "flex": null,
       "flex_flow": null,
       "grid_area": null,
       "grid_auto_columns": null,
       "grid_auto_flow": null,
       "grid_auto_rows": null,
       "grid_column": null,
       "grid_gap": null,
       "grid_row": null,
       "grid_template_areas": null,
       "grid_template_columns": null,
       "grid_template_rows": null,
       "height": null,
       "justify_content": null,
       "justify_items": null,
       "left": null,
       "margin": null,
       "max_height": null,
       "max_width": null,
       "min_height": null,
       "min_width": null,
       "object_fit": null,
       "object_position": null,
       "order": null,
       "overflow": null,
       "overflow_x": null,
       "overflow_y": null,
       "padding": null,
       "right": null,
       "top": null,
       "visibility": null,
       "width": null
      }
     },
     "c0979add86bd4d2f804897a2a6d73ecd": {
      "model_module": "@jupyter-widgets/controls",
      "model_module_version": "1.5.0",
      "model_name": "FloatProgressModel",
      "state": {
       "_dom_classes": [],
       "_model_module": "@jupyter-widgets/controls",
       "_model_module_version": "1.5.0",
       "_model_name": "FloatProgressModel",
       "_view_count": null,
       "_view_module": "@jupyter-widgets/controls",
       "_view_module_version": "1.5.0",
       "_view_name": "ProgressView",
       "bar_style": "",
       "description": "",
       "description_tooltip": null,
       "layout": "IPY_MODEL_507f20d2454a426f9787a1eeb3775ea2",
       "max": 5.0,
       "min": 0.0,
       "orientation": "horizontal",
       "style": "IPY_MODEL_7a6c67a5678a45ffaa9b946789ea39a4",
       "value": 4.0
      }
     },
     "c13181ff50e54c37b16799002a66efaf": {
      "model_module": "@jupyter-widgets/controls",
      "model_module_version": "1.5.0",
      "model_name": "HBoxModel",
      "state": {
       "_dom_classes": [],
       "_model_module": "@jupyter-widgets/controls",
       "_model_module_version": "1.5.0",
       "_model_name": "HBoxModel",
       "_view_count": null,
       "_view_module": "@jupyter-widgets/controls",
       "_view_module_version": "1.5.0",
       "_view_name": "HBoxView",
       "box_style": "",
       "children": [
        "IPY_MODEL_a91ba303d8cc4e09976cb22e5bdf1f53",
        "IPY_MODEL_ad4aa8946ee94536a95b40f65cbc97f6",
        "IPY_MODEL_f804acc2427a43349fb1c3829191c904"
       ],
       "layout": "IPY_MODEL_c3f4b5ac555a411688e75391daa1be0c"
      }
     },
     "c1f313a4b6dc4a3a84a4b94415ed99f1": {
      "model_module": "@jupyter-widgets/base",
      "model_module_version": "1.2.0",
      "model_name": "LayoutModel",
      "state": {
       "_model_module": "@jupyter-widgets/base",
       "_model_module_version": "1.2.0",
       "_model_name": "LayoutModel",
       "_view_count": null,
       "_view_module": "@jupyter-widgets/base",
       "_view_module_version": "1.2.0",
       "_view_name": "LayoutView",
       "align_content": null,
       "align_items": null,
       "align_self": null,
       "border": null,
       "bottom": null,
       "display": null,
       "flex": null,
       "flex_flow": null,
       "grid_area": null,
       "grid_auto_columns": null,
       "grid_auto_flow": null,
       "grid_auto_rows": null,
       "grid_column": null,
       "grid_gap": null,
       "grid_row": null,
       "grid_template_areas": null,
       "grid_template_columns": null,
       "grid_template_rows": null,
       "height": null,
       "justify_content": null,
       "justify_items": null,
       "left": null,
       "margin": null,
       "max_height": null,
       "max_width": null,
       "min_height": null,
       "min_width": null,
       "object_fit": null,
       "object_position": null,
       "order": null,
       "overflow": null,
       "overflow_x": null,
       "overflow_y": null,
       "padding": null,
       "right": null,
       "top": null,
       "visibility": null,
       "width": null
      }
     },
     "c3f4b5ac555a411688e75391daa1be0c": {
      "model_module": "@jupyter-widgets/base",
      "model_module_version": "1.2.0",
      "model_name": "LayoutModel",
      "state": {
       "_model_module": "@jupyter-widgets/base",
       "_model_module_version": "1.2.0",
       "_model_name": "LayoutModel",
       "_view_count": null,
       "_view_module": "@jupyter-widgets/base",
       "_view_module_version": "1.2.0",
       "_view_name": "LayoutView",
       "align_content": null,
       "align_items": null,
       "align_self": null,
       "border": null,
       "bottom": null,
       "display": null,
       "flex": null,
       "flex_flow": null,
       "grid_area": null,
       "grid_auto_columns": null,
       "grid_auto_flow": null,
       "grid_auto_rows": null,
       "grid_column": null,
       "grid_gap": null,
       "grid_row": null,
       "grid_template_areas": null,
       "grid_template_columns": null,
       "grid_template_rows": null,
       "height": null,
       "justify_content": null,
       "justify_items": null,
       "left": null,
       "margin": null,
       "max_height": null,
       "max_width": null,
       "min_height": null,
       "min_width": null,
       "object_fit": null,
       "object_position": null,
       "order": null,
       "overflow": null,
       "overflow_x": null,
       "overflow_y": null,
       "padding": null,
       "right": null,
       "top": null,
       "visibility": null,
       "width": null
      }
     },
     "c498de8cd2334ffa8fdba68f6a21b9e9": {
      "model_module": "@jupyter-widgets/controls",
      "model_module_version": "1.5.0",
      "model_name": "HTMLModel",
      "state": {
       "_dom_classes": [],
       "_model_module": "@jupyter-widgets/controls",
       "_model_module_version": "1.5.0",
       "_model_name": "HTMLModel",
       "_view_count": null,
       "_view_module": "@jupyter-widgets/controls",
       "_view_module_version": "1.5.0",
       "_view_name": "HTMLView",
       "description": "",
       "description_tooltip": null,
       "layout": "IPY_MODEL_c1f313a4b6dc4a3a84a4b94415ed99f1",
       "placeholder": "​",
       "style": "IPY_MODEL_d9be4447f2ae4ca5a980613345d1c8e2",
       "value": "4/5 [00:00&lt;00:00, 12.37it/s]"
      }
     },
     "c5e769b459464c4fa082b4700d368f71": {
      "model_module": "@jupyter-widgets/base",
      "model_module_version": "1.2.0",
      "model_name": "LayoutModel",
      "state": {
       "_model_module": "@jupyter-widgets/base",
       "_model_module_version": "1.2.0",
       "_model_name": "LayoutModel",
       "_view_count": null,
       "_view_module": "@jupyter-widgets/base",
       "_view_module_version": "1.2.0",
       "_view_name": "LayoutView",
       "align_content": null,
       "align_items": null,
       "align_self": null,
       "border": null,
       "bottom": null,
       "display": null,
       "flex": null,
       "flex_flow": null,
       "grid_area": null,
       "grid_auto_columns": null,
       "grid_auto_flow": null,
       "grid_auto_rows": null,
       "grid_column": null,
       "grid_gap": null,
       "grid_row": null,
       "grid_template_areas": null,
       "grid_template_columns": null,
       "grid_template_rows": null,
       "height": null,
       "justify_content": null,
       "justify_items": null,
       "left": null,
       "margin": null,
       "max_height": null,
       "max_width": null,
       "min_height": null,
       "min_width": null,
       "object_fit": null,
       "object_position": null,
       "order": null,
       "overflow": null,
       "overflow_x": null,
       "overflow_y": null,
       "padding": null,
       "right": null,
       "top": null,
       "visibility": null,
       "width": null
      }
     },
     "c646f888ac314e08950285cc545401c2": {
      "model_module": "@jupyter-widgets/base",
      "model_module_version": "1.2.0",
      "model_name": "LayoutModel",
      "state": {
       "_model_module": "@jupyter-widgets/base",
       "_model_module_version": "1.2.0",
       "_model_name": "LayoutModel",
       "_view_count": null,
       "_view_module": "@jupyter-widgets/base",
       "_view_module_version": "1.2.0",
       "_view_name": "LayoutView",
       "align_content": null,
       "align_items": null,
       "align_self": null,
       "border": null,
       "bottom": null,
       "display": null,
       "flex": null,
       "flex_flow": null,
       "grid_area": null,
       "grid_auto_columns": null,
       "grid_auto_flow": null,
       "grid_auto_rows": null,
       "grid_column": null,
       "grid_gap": null,
       "grid_row": null,
       "grid_template_areas": null,
       "grid_template_columns": null,
       "grid_template_rows": null,
       "height": null,
       "justify_content": null,
       "justify_items": null,
       "left": null,
       "margin": null,
       "max_height": null,
       "max_width": null,
       "min_height": null,
       "min_width": null,
       "object_fit": null,
       "object_position": null,
       "order": null,
       "overflow": null,
       "overflow_x": null,
       "overflow_y": null,
       "padding": null,
       "right": null,
       "top": null,
       "visibility": null,
       "width": "6%"
      }
     },
     "c67d91961fc54528a258e4721c0239be": {
      "model_module": "@jupyter-widgets/base",
      "model_module_version": "1.2.0",
      "model_name": "LayoutModel",
      "state": {
       "_model_module": "@jupyter-widgets/base",
       "_model_module_version": "1.2.0",
       "_model_name": "LayoutModel",
       "_view_count": null,
       "_view_module": "@jupyter-widgets/base",
       "_view_module_version": "1.2.0",
       "_view_name": "LayoutView",
       "align_content": null,
       "align_items": null,
       "align_self": null,
       "border": null,
       "bottom": null,
       "display": null,
       "flex": null,
       "flex_flow": null,
       "grid_area": null,
       "grid_auto_columns": null,
       "grid_auto_flow": null,
       "grid_auto_rows": null,
       "grid_column": null,
       "grid_gap": null,
       "grid_row": null,
       "grid_template_areas": null,
       "grid_template_columns": null,
       "grid_template_rows": null,
       "height": null,
       "justify_content": null,
       "justify_items": null,
       "left": null,
       "margin": null,
       "max_height": null,
       "max_width": null,
       "min_height": null,
       "min_width": null,
       "object_fit": null,
       "object_position": null,
       "order": null,
       "overflow": null,
       "overflow_x": null,
       "overflow_y": null,
       "padding": null,
       "right": null,
       "top": null,
       "visibility": null,
       "width": null
      }
     },
     "c6941b2168c44fa1819c49dfa82bdd6f": {
      "model_module": "@jupyter-widgets/base",
      "model_module_version": "1.2.0",
      "model_name": "LayoutModel",
      "state": {
       "_model_module": "@jupyter-widgets/base",
       "_model_module_version": "1.2.0",
       "_model_name": "LayoutModel",
       "_view_count": null,
       "_view_module": "@jupyter-widgets/base",
       "_view_module_version": "1.2.0",
       "_view_name": "LayoutView",
       "align_content": null,
       "align_items": null,
       "align_self": null,
       "border": null,
       "bottom": null,
       "display": null,
       "flex": null,
       "flex_flow": null,
       "grid_area": null,
       "grid_auto_columns": null,
       "grid_auto_flow": null,
       "grid_auto_rows": null,
       "grid_column": null,
       "grid_gap": null,
       "grid_row": null,
       "grid_template_areas": null,
       "grid_template_columns": null,
       "grid_template_rows": null,
       "height": null,
       "justify_content": null,
       "justify_items": null,
       "left": null,
       "margin": null,
       "max_height": null,
       "max_width": null,
       "min_height": null,
       "min_width": null,
       "object_fit": null,
       "object_position": null,
       "order": null,
       "overflow": null,
       "overflow_x": null,
       "overflow_y": null,
       "padding": null,
       "right": null,
       "top": null,
       "visibility": null,
       "width": null
      }
     },
     "c7bba7469a57493d891e24fb409d16a7": {
      "model_module": "@jupyter-widgets/base",
      "model_module_version": "1.2.0",
      "model_name": "LayoutModel",
      "state": {
       "_model_module": "@jupyter-widgets/base",
       "_model_module_version": "1.2.0",
       "_model_name": "LayoutModel",
       "_view_count": null,
       "_view_module": "@jupyter-widgets/base",
       "_view_module_version": "1.2.0",
       "_view_name": "LayoutView",
       "align_content": null,
       "align_items": null,
       "align_self": null,
       "border": null,
       "bottom": null,
       "display": null,
       "flex": null,
       "flex_flow": null,
       "grid_area": null,
       "grid_auto_columns": null,
       "grid_auto_flow": null,
       "grid_auto_rows": null,
       "grid_column": null,
       "grid_gap": null,
       "grid_row": null,
       "grid_template_areas": null,
       "grid_template_columns": null,
       "grid_template_rows": null,
       "height": null,
       "justify_content": null,
       "justify_items": null,
       "left": null,
       "margin": null,
       "max_height": null,
       "max_width": null,
       "min_height": null,
       "min_width": null,
       "object_fit": null,
       "object_position": null,
       "order": null,
       "overflow": null,
       "overflow_x": null,
       "overflow_y": null,
       "padding": null,
       "right": null,
       "top": null,
       "visibility": null,
       "width": "60%"
      }
     },
     "c7c16b64c6a846149641b0caf24fcf5e": {
      "model_module": "@jupyter-widgets/controls",
      "model_module_version": "1.5.0",
      "model_name": "DescriptionStyleModel",
      "state": {
       "_model_module": "@jupyter-widgets/controls",
       "_model_module_version": "1.5.0",
       "_model_name": "DescriptionStyleModel",
       "_view_count": null,
       "_view_module": "@jupyter-widgets/base",
       "_view_module_version": "1.2.0",
       "_view_name": "StyleView",
       "description_width": ""
      }
     },
     "c87207ccb7d44aa9aba533d7cb76b840": {
      "model_module": "@jupyter-widgets/controls",
      "model_module_version": "1.5.0",
      "model_name": "FloatProgressModel",
      "state": {
       "_dom_classes": [],
       "_model_module": "@jupyter-widgets/controls",
       "_model_module_version": "1.5.0",
       "_model_name": "FloatProgressModel",
       "_view_count": null,
       "_view_module": "@jupyter-widgets/controls",
       "_view_module_version": "1.5.0",
       "_view_name": "ProgressView",
       "bar_style": "",
       "description": "",
       "description_tooltip": null,
       "layout": "IPY_MODEL_05ed9831ee6d4a19af71b39f9f8c2436",
       "max": 10000.0,
       "min": 0.0,
       "orientation": "horizontal",
       "style": "IPY_MODEL_ade3df779b604c1ab1753071fc607466",
       "value": 10000.0
      }
     },
     "c8a96a17ec61409da323d1538977a223": {
      "model_module": "@jupyter-widgets/base",
      "model_module_version": "1.2.0",
      "model_name": "LayoutModel",
      "state": {
       "_model_module": "@jupyter-widgets/base",
       "_model_module_version": "1.2.0",
       "_model_name": "LayoutModel",
       "_view_count": null,
       "_view_module": "@jupyter-widgets/base",
       "_view_module_version": "1.2.0",
       "_view_name": "LayoutView",
       "align_content": null,
       "align_items": null,
       "align_self": null,
       "border": null,
       "bottom": null,
       "display": null,
       "flex": null,
       "flex_flow": null,
       "grid_area": null,
       "grid_auto_columns": null,
       "grid_auto_flow": null,
       "grid_auto_rows": null,
       "grid_column": null,
       "grid_gap": null,
       "grid_row": null,
       "grid_template_areas": null,
       "grid_template_columns": null,
       "grid_template_rows": null,
       "height": null,
       "justify_content": null,
       "justify_items": null,
       "left": null,
       "margin": null,
       "max_height": null,
       "max_width": null,
       "min_height": null,
       "min_width": null,
       "object_fit": null,
       "object_position": null,
       "order": null,
       "overflow": null,
       "overflow_x": null,
       "overflow_y": null,
       "padding": null,
       "right": null,
       "top": null,
       "visibility": null,
       "width": "6%"
      }
     },
     "c8c05f2ffcb54e6ea807a06b03549bd4": {
      "model_module": "@jupyter-widgets/controls",
      "model_module_version": "1.5.0",
      "model_name": "ProgressStyleModel",
      "state": {
       "_model_module": "@jupyter-widgets/controls",
       "_model_module_version": "1.5.0",
       "_model_name": "ProgressStyleModel",
       "_view_count": null,
       "_view_module": "@jupyter-widgets/base",
       "_view_module_version": "1.2.0",
       "_view_name": "StyleView",
       "bar_color": null,
       "description_width": ""
      }
     },
     "ca9dce474cf74f0da565124adb495106": {
      "model_module": "@jupyter-widgets/base",
      "model_module_version": "1.2.0",
      "model_name": "LayoutModel",
      "state": {
       "_model_module": "@jupyter-widgets/base",
       "_model_module_version": "1.2.0",
       "_model_name": "LayoutModel",
       "_view_count": null,
       "_view_module": "@jupyter-widgets/base",
       "_view_module_version": "1.2.0",
       "_view_name": "LayoutView",
       "align_content": null,
       "align_items": null,
       "align_self": null,
       "border": null,
       "bottom": null,
       "display": null,
       "flex": null,
       "flex_flow": null,
       "grid_area": null,
       "grid_auto_columns": null,
       "grid_auto_flow": null,
       "grid_auto_rows": null,
       "grid_column": null,
       "grid_gap": null,
       "grid_row": null,
       "grid_template_areas": null,
       "grid_template_columns": null,
       "grid_template_rows": null,
       "height": null,
       "justify_content": null,
       "justify_items": null,
       "left": null,
       "margin": null,
       "max_height": null,
       "max_width": null,
       "min_height": null,
       "min_width": null,
       "object_fit": null,
       "object_position": null,
       "order": null,
       "overflow": null,
       "overflow_x": null,
       "overflow_y": null,
       "padding": null,
       "right": null,
       "top": null,
       "visibility": null,
       "width": "6%"
      }
     },
     "cabb79bcdbd34a4d8fd05fd345077513": {
      "model_module": "@jupyter-widgets/controls",
      "model_module_version": "1.5.0",
      "model_name": "HTMLModel",
      "state": {
       "_dom_classes": [],
       "_model_module": "@jupyter-widgets/controls",
       "_model_module_version": "1.5.0",
       "_model_name": "HTMLModel",
       "_view_count": null,
       "_view_module": "@jupyter-widgets/controls",
       "_view_module_version": "1.5.0",
       "_view_name": "HTMLView",
       "description": "",
       "description_tooltip": null,
       "layout": "IPY_MODEL_d3d62bd59cdb4b31b95edbe992f8d5b5",
       "placeholder": "​",
       "style": "IPY_MODEL_ea7a9f2ca2974da38dba3a4d24da7fda",
       "value": "10000/10000 [00:00&lt;00:00, 54339.97it/s]"
      }
     },
     "cb09783e8cf544a5a605a998a53af4e0": {
      "model_module": "@jupyter-widgets/controls",
      "model_module_version": "1.5.0",
      "model_name": "DescriptionStyleModel",
      "state": {
       "_model_module": "@jupyter-widgets/controls",
       "_model_module_version": "1.5.0",
       "_model_name": "DescriptionStyleModel",
       "_view_count": null,
       "_view_module": "@jupyter-widgets/base",
       "_view_module_version": "1.2.0",
       "_view_name": "StyleView",
       "description_width": ""
      }
     },
     "cc7008dd8e4c4167a6a9f46c586f16e3": {
      "model_module": "@jupyter-widgets/controls",
      "model_module_version": "1.5.0",
      "model_name": "ProgressStyleModel",
      "state": {
       "_model_module": "@jupyter-widgets/controls",
       "_model_module_version": "1.5.0",
       "_model_name": "ProgressStyleModel",
       "_view_count": null,
       "_view_module": "@jupyter-widgets/base",
       "_view_module_version": "1.2.0",
       "_view_name": "StyleView",
       "bar_color": null,
       "description_width": ""
      }
     },
     "ccc183e6919b47ad928b8b5f2543762f": {
      "model_module": "@jupyter-widgets/controls",
      "model_module_version": "1.5.0",
      "model_name": "DescriptionStyleModel",
      "state": {
       "_model_module": "@jupyter-widgets/controls",
       "_model_module_version": "1.5.0",
       "_model_name": "DescriptionStyleModel",
       "_view_count": null,
       "_view_module": "@jupyter-widgets/base",
       "_view_module_version": "1.2.0",
       "_view_name": "StyleView",
       "description_width": ""
      }
     },
     "ce75f6a3cd4f4c6d85a8a22f3647ba4d": {
      "model_module": "@jupyter-widgets/controls",
      "model_module_version": "1.5.0",
      "model_name": "HTMLModel",
      "state": {
       "_dom_classes": [],
       "_model_module": "@jupyter-widgets/controls",
       "_model_module_version": "1.5.0",
       "_model_name": "HTMLModel",
       "_view_count": null,
       "_view_module": "@jupyter-widgets/controls",
       "_view_module_version": "1.5.0",
       "_view_name": "HTMLView",
       "description": "",
       "description_tooltip": null,
       "layout": "IPY_MODEL_20d3aad1cb03476490f7cc686707f3df",
       "placeholder": "​",
       "style": "IPY_MODEL_1105a321541544529cc882068c4584b4",
       "value": "0/? [00:00&lt;?, ?it/s]"
      }
     },
     "d02132735aab42d0afce78a06e60b583": {
      "model_module": "@jupyter-widgets/base",
      "model_module_version": "1.2.0",
      "model_name": "LayoutModel",
      "state": {
       "_model_module": "@jupyter-widgets/base",
       "_model_module_version": "1.2.0",
       "_model_name": "LayoutModel",
       "_view_count": null,
       "_view_module": "@jupyter-widgets/base",
       "_view_module_version": "1.2.0",
       "_view_name": "LayoutView",
       "align_content": null,
       "align_items": null,
       "align_self": null,
       "border": null,
       "bottom": null,
       "display": null,
       "flex": null,
       "flex_flow": null,
       "grid_area": null,
       "grid_auto_columns": null,
       "grid_auto_flow": null,
       "grid_auto_rows": null,
       "grid_column": null,
       "grid_gap": null,
       "grid_row": null,
       "grid_template_areas": null,
       "grid_template_columns": null,
       "grid_template_rows": null,
       "height": null,
       "justify_content": null,
       "justify_items": null,
       "left": null,
       "margin": null,
       "max_height": null,
       "max_width": null,
       "min_height": null,
       "min_width": null,
       "object_fit": null,
       "object_position": null,
       "order": null,
       "overflow": null,
       "overflow_x": null,
       "overflow_y": null,
       "padding": null,
       "right": null,
       "top": null,
       "visibility": null,
       "width": null
      }
     },
     "d023adb00fc946a6a6ce5f23e77f1b0e": {
      "model_module": "@jupyter-widgets/controls",
      "model_module_version": "1.5.0",
      "model_name": "DescriptionStyleModel",
      "state": {
       "_model_module": "@jupyter-widgets/controls",
       "_model_module_version": "1.5.0",
       "_model_name": "DescriptionStyleModel",
       "_view_count": null,
       "_view_module": "@jupyter-widgets/base",
       "_view_module_version": "1.2.0",
       "_view_name": "StyleView",
       "description_width": ""
      }
     },
     "d1b720767bba46af883552d2da812274": {
      "model_module": "@jupyter-widgets/controls",
      "model_module_version": "1.5.0",
      "model_name": "DescriptionStyleModel",
      "state": {
       "_model_module": "@jupyter-widgets/controls",
       "_model_module_version": "1.5.0",
       "_model_name": "DescriptionStyleModel",
       "_view_count": null,
       "_view_module": "@jupyter-widgets/base",
       "_view_module_version": "1.2.0",
       "_view_name": "StyleView",
       "description_width": ""
      }
     },
     "d2308fc252af4069b94aa7f120c238e6": {
      "model_module": "@jupyter-widgets/controls",
      "model_module_version": "1.5.0",
      "model_name": "HTMLModel",
      "state": {
       "_dom_classes": [],
       "_model_module": "@jupyter-widgets/controls",
       "_model_module_version": "1.5.0",
       "_model_name": "HTMLModel",
       "_view_count": null,
       "_view_module": "@jupyter-widgets/controls",
       "_view_module_version": "1.5.0",
       "_view_name": "HTMLView",
       "description": "",
       "description_tooltip": null,
       "layout": "IPY_MODEL_e036b05700854330a8565121bcc5ed9c",
       "placeholder": "​",
       "style": "IPY_MODEL_47b670385327469e8fbfb006650cf459",
       "value": "Iterations:"
      }
     },
     "d2720568d23c4be9847b730f28eb1c3e": {
      "model_module": "@jupyter-widgets/controls",
      "model_module_version": "1.5.0",
      "model_name": "ProgressStyleModel",
      "state": {
       "_model_module": "@jupyter-widgets/controls",
       "_model_module_version": "1.5.0",
       "_model_name": "ProgressStyleModel",
       "_view_count": null,
       "_view_module": "@jupyter-widgets/base",
       "_view_module_version": "1.2.0",
       "_view_name": "StyleView",
       "bar_color": null,
       "description_width": ""
      }
     },
     "d3d62bd59cdb4b31b95edbe992f8d5b5": {
      "model_module": "@jupyter-widgets/base",
      "model_module_version": "1.2.0",
      "model_name": "LayoutModel",
      "state": {
       "_model_module": "@jupyter-widgets/base",
       "_model_module_version": "1.2.0",
       "_model_name": "LayoutModel",
       "_view_count": null,
       "_view_module": "@jupyter-widgets/base",
       "_view_module_version": "1.2.0",
       "_view_name": "LayoutView",
       "align_content": null,
       "align_items": null,
       "align_self": null,
       "border": null,
       "bottom": null,
       "display": null,
       "flex": null,
       "flex_flow": null,
       "grid_area": null,
       "grid_auto_columns": null,
       "grid_auto_flow": null,
       "grid_auto_rows": null,
       "grid_column": null,
       "grid_gap": null,
       "grid_row": null,
       "grid_template_areas": null,
       "grid_template_columns": null,
       "grid_template_rows": null,
       "height": null,
       "justify_content": null,
       "justify_items": null,
       "left": null,
       "margin": null,
       "max_height": null,
       "max_width": null,
       "min_height": null,
       "min_width": null,
       "object_fit": null,
       "object_position": null,
       "order": null,
       "overflow": null,
       "overflow_x": null,
       "overflow_y": null,
       "padding": null,
       "right": null,
       "top": null,
       "visibility": null,
       "width": null
      }
     },
     "d5619a096b2d4518866c02efa3a31dc1": {
      "model_module": "@jupyter-widgets/base",
      "model_module_version": "1.2.0",
      "model_name": "LayoutModel",
      "state": {
       "_model_module": "@jupyter-widgets/base",
       "_model_module_version": "1.2.0",
       "_model_name": "LayoutModel",
       "_view_count": null,
       "_view_module": "@jupyter-widgets/base",
       "_view_module_version": "1.2.0",
       "_view_name": "LayoutView",
       "align_content": null,
       "align_items": null,
       "align_self": null,
       "border": null,
       "bottom": null,
       "display": null,
       "flex": null,
       "flex_flow": null,
       "grid_area": null,
       "grid_auto_columns": null,
       "grid_auto_flow": null,
       "grid_auto_rows": null,
       "grid_column": null,
       "grid_gap": null,
       "grid_row": null,
       "grid_template_areas": null,
       "grid_template_columns": null,
       "grid_template_rows": null,
       "height": null,
       "justify_content": null,
       "justify_items": null,
       "left": null,
       "margin": null,
       "max_height": null,
       "max_width": null,
       "min_height": null,
       "min_width": null,
       "object_fit": null,
       "object_position": null,
       "order": null,
       "overflow": null,
       "overflow_x": null,
       "overflow_y": null,
       "padding": null,
       "right": null,
       "top": null,
       "visibility": null,
       "width": null
      }
     },
     "d9be4447f2ae4ca5a980613345d1c8e2": {
      "model_module": "@jupyter-widgets/controls",
      "model_module_version": "1.5.0",
      "model_name": "DescriptionStyleModel",
      "state": {
       "_model_module": "@jupyter-widgets/controls",
       "_model_module_version": "1.5.0",
       "_model_name": "DescriptionStyleModel",
       "_view_count": null,
       "_view_module": "@jupyter-widgets/base",
       "_view_module_version": "1.2.0",
       "_view_name": "StyleView",
       "description_width": ""
      }
     },
     "daf75ff3b12e47d787c6e2e18e1ef50b": {
      "model_module": "@jupyter-widgets/controls",
      "model_module_version": "1.5.0",
      "model_name": "FloatProgressModel",
      "state": {
       "_dom_classes": [],
       "_model_module": "@jupyter-widgets/controls",
       "_model_module_version": "1.5.0",
       "_model_name": "FloatProgressModel",
       "_view_count": null,
       "_view_module": "@jupyter-widgets/controls",
       "_view_module_version": "1.5.0",
       "_view_name": "ProgressView",
       "bar_style": "info",
       "description": "",
       "description_tooltip": null,
       "layout": "IPY_MODEL_55f3261c13724fc7aeb961c0cb4246dd",
       "max": 1.0,
       "min": 0.0,
       "orientation": "horizontal",
       "style": "IPY_MODEL_7e42a14b35d346f789b1b158e90c07a7",
       "value": 0.0
      }
     },
     "db42ca97108e4544a9b7525ca1d7007f": {
      "model_module": "@jupyter-widgets/base",
      "model_module_version": "1.2.0",
      "model_name": "LayoutModel",
      "state": {
       "_model_module": "@jupyter-widgets/base",
       "_model_module_version": "1.2.0",
       "_model_name": "LayoutModel",
       "_view_count": null,
       "_view_module": "@jupyter-widgets/base",
       "_view_module_version": "1.2.0",
       "_view_name": "LayoutView",
       "align_content": null,
       "align_items": null,
       "align_self": null,
       "border": null,
       "bottom": null,
       "display": null,
       "flex": null,
       "flex_flow": null,
       "grid_area": null,
       "grid_auto_columns": null,
       "grid_auto_flow": null,
       "grid_auto_rows": null,
       "grid_column": null,
       "grid_gap": null,
       "grid_row": null,
       "grid_template_areas": null,
       "grid_template_columns": null,
       "grid_template_rows": null,
       "height": null,
       "justify_content": null,
       "justify_items": null,
       "left": null,
       "margin": null,
       "max_height": null,
       "max_width": null,
       "min_height": null,
       "min_width": null,
       "object_fit": null,
       "object_position": null,
       "order": null,
       "overflow": null,
       "overflow_x": null,
       "overflow_y": null,
       "padding": null,
       "right": null,
       "top": null,
       "visibility": null,
       "width": "60%"
      }
     },
     "dbac8fe89bf94ce09af25cbe651e580e": {
      "model_module": "@jupyter-widgets/controls",
      "model_module_version": "1.5.0",
      "model_name": "HTMLModel",
      "state": {
       "_dom_classes": [],
       "_model_module": "@jupyter-widgets/controls",
       "_model_module_version": "1.5.0",
       "_model_name": "HTMLModel",
       "_view_count": null,
       "_view_module": "@jupyter-widgets/controls",
       "_view_module_version": "1.5.0",
       "_view_name": "HTMLView",
       "description": "",
       "description_tooltip": null,
       "layout": "IPY_MODEL_a1a76e9b3666452aa27d1b5e6cc904fb",
       "placeholder": "​",
       "style": "IPY_MODEL_707f989a8c5b455b9d86a3087892f584",
       "value": "Packets:   "
      }
     },
     "dcf7c1db52fa406485d9223b29d2e206": {
      "model_module": "@jupyter-widgets/controls",
      "model_module_version": "1.5.0",
      "model_name": "HTMLModel",
      "state": {
       "_dom_classes": [],
       "_model_module": "@jupyter-widgets/controls",
       "_model_module_version": "1.5.0",
       "_model_name": "HTMLModel",
       "_view_count": null,
       "_view_module": "@jupyter-widgets/controls",
       "_view_module_version": "1.5.0",
       "_view_name": "HTMLView",
       "description": "",
       "description_tooltip": null,
       "layout": "IPY_MODEL_f772cb3d695c4d88b31c16515ac278a7",
       "placeholder": "​",
       "style": "IPY_MODEL_2cf31ccbc85d497a9b09220420df5650",
       "value": "10000/10000 [00:00&lt;00:00, 55937.92it/s]"
      }
     },
     "dd95905ed44c48f5803abe0913919fd0": {
      "model_module": "@jupyter-widgets/controls",
      "model_module_version": "1.5.0",
      "model_name": "HTMLModel",
      "state": {
       "_dom_classes": [],
       "_model_module": "@jupyter-widgets/controls",
       "_model_module_version": "1.5.0",
       "_model_name": "HTMLModel",
       "_view_count": null,
       "_view_module": "@jupyter-widgets/controls",
       "_view_module_version": "1.5.0",
       "_view_name": "HTMLView",
       "description": "",
       "description_tooltip": null,
       "layout": "IPY_MODEL_7d30914d0a844303b36f57b3eda15df3",
       "placeholder": "​",
       "style": "IPY_MODEL_639f2424c6ab4ff9868b800e70d63b94",
       "value": "Iterations:"
      }
     },
     "df60a9ff1e89404ca52782188901f08a": {
      "model_module": "@jupyter-widgets/controls",
      "model_module_version": "1.5.0",
      "model_name": "HBoxModel",
      "state": {
       "_dom_classes": [],
       "_model_module": "@jupyter-widgets/controls",
       "_model_module_version": "1.5.0",
       "_model_name": "HBoxModel",
       "_view_count": null,
       "_view_module": "@jupyter-widgets/controls",
       "_view_module_version": "1.5.0",
       "_view_name": "HBoxView",
       "box_style": "",
       "children": [
        "IPY_MODEL_64acad22cddd42a295b79436df239860",
        "IPY_MODEL_39ffd4b54c0343ccb403c73265725ba5",
        "IPY_MODEL_6f8b638b1d4845beb6bd35d9c750b756"
       ],
       "layout": "IPY_MODEL_fa1f06a0db7d4f019ef70a299f8958a8"
      }
     },
     "e036b05700854330a8565121bcc5ed9c": {
      "model_module": "@jupyter-widgets/base",
      "model_module_version": "1.2.0",
      "model_name": "LayoutModel",
      "state": {
       "_model_module": "@jupyter-widgets/base",
       "_model_module_version": "1.2.0",
       "_model_name": "LayoutModel",
       "_view_count": null,
       "_view_module": "@jupyter-widgets/base",
       "_view_module_version": "1.2.0",
       "_view_name": "LayoutView",
       "align_content": null,
       "align_items": null,
       "align_self": null,
       "border": null,
       "bottom": null,
       "display": null,
       "flex": null,
       "flex_flow": null,
       "grid_area": null,
       "grid_auto_columns": null,
       "grid_auto_flow": null,
       "grid_auto_rows": null,
       "grid_column": null,
       "grid_gap": null,
       "grid_row": null,
       "grid_template_areas": null,
       "grid_template_columns": null,
       "grid_template_rows": null,
       "height": null,
       "justify_content": null,
       "justify_items": null,
       "left": null,
       "margin": null,
       "max_height": null,
       "max_width": null,
       "min_height": null,
       "min_width": null,
       "object_fit": null,
       "object_position": null,
       "order": null,
       "overflow": null,
       "overflow_x": null,
       "overflow_y": null,
       "padding": null,
       "right": null,
       "top": null,
       "visibility": null,
       "width": null
      }
     },
     "e2a84edf3d6a4d9580e60c3d0be6610a": {
      "model_module": "@jupyter-widgets/controls",
      "model_module_version": "1.5.0",
      "model_name": "DescriptionStyleModel",
      "state": {
       "_model_module": "@jupyter-widgets/controls",
       "_model_module_version": "1.5.0",
       "_model_name": "DescriptionStyleModel",
       "_view_count": null,
       "_view_module": "@jupyter-widgets/base",
       "_view_module_version": "1.2.0",
       "_view_name": "StyleView",
       "description_width": ""
      }
     },
     "e371682d6baf4f578c490b88557c8d0f": {
      "model_module": "@jupyter-widgets/controls",
      "model_module_version": "1.5.0",
      "model_name": "HBoxModel",
      "state": {
       "_dom_classes": [],
       "_model_module": "@jupyter-widgets/controls",
       "_model_module_version": "1.5.0",
       "_model_name": "HBoxModel",
       "_view_count": null,
       "_view_module": "@jupyter-widgets/controls",
       "_view_module_version": "1.5.0",
       "_view_name": "HBoxView",
       "box_style": "",
       "children": [
        "IPY_MODEL_dd95905ed44c48f5803abe0913919fd0",
        "IPY_MODEL_533cb2858d9b428987e00e33218b6710",
        "IPY_MODEL_4c10ae83a626446d87a1472ec6ad98a3"
       ],
       "layout": "IPY_MODEL_d5619a096b2d4518866c02efa3a31dc1"
      }
     },
     "e3e0cf8cde624dddb4750c004ba27d30": {
      "model_module": "@jupyter-widgets/controls",
      "model_module_version": "1.5.0",
      "model_name": "DescriptionStyleModel",
      "state": {
       "_model_module": "@jupyter-widgets/controls",
       "_model_module_version": "1.5.0",
       "_model_name": "DescriptionStyleModel",
       "_view_count": null,
       "_view_module": "@jupyter-widgets/base",
       "_view_module_version": "1.2.0",
       "_view_name": "StyleView",
       "description_width": ""
      }
     },
     "e62e208b252d4c57b48c472ac921d3c8": {
      "model_module": "@jupyter-widgets/base",
      "model_module_version": "1.2.0",
      "model_name": "LayoutModel",
      "state": {
       "_model_module": "@jupyter-widgets/base",
       "_model_module_version": "1.2.0",
       "_model_name": "LayoutModel",
       "_view_count": null,
       "_view_module": "@jupyter-widgets/base",
       "_view_module_version": "1.2.0",
       "_view_name": "LayoutView",
       "align_content": null,
       "align_items": null,
       "align_self": null,
       "border": null,
       "bottom": null,
       "display": null,
       "flex": null,
       "flex_flow": null,
       "grid_area": null,
       "grid_auto_columns": null,
       "grid_auto_flow": null,
       "grid_auto_rows": null,
       "grid_column": null,
       "grid_gap": null,
       "grid_row": null,
       "grid_template_areas": null,
       "grid_template_columns": null,
       "grid_template_rows": null,
       "height": null,
       "justify_content": null,
       "justify_items": null,
       "left": null,
       "margin": null,
       "max_height": null,
       "max_width": null,
       "min_height": null,
       "min_width": null,
       "object_fit": null,
       "object_position": null,
       "order": null,
       "overflow": null,
       "overflow_x": null,
       "overflow_y": null,
       "padding": null,
       "right": null,
       "top": null,
       "visibility": null,
       "width": null
      }
     },
     "e873b6f4f85541fd953351f903b410b3": {
      "model_module": "@jupyter-widgets/controls",
      "model_module_version": "1.5.0",
      "model_name": "DescriptionStyleModel",
      "state": {
       "_model_module": "@jupyter-widgets/controls",
       "_model_module_version": "1.5.0",
       "_model_name": "DescriptionStyleModel",
       "_view_count": null,
       "_view_module": "@jupyter-widgets/base",
       "_view_module_version": "1.2.0",
       "_view_name": "StyleView",
       "description_width": ""
      }
     },
     "e996ca6aed02464ba802a354c0ac71f9": {
      "model_module": "@jupyter-widgets/base",
      "model_module_version": "1.2.0",
      "model_name": "LayoutModel",
      "state": {
       "_model_module": "@jupyter-widgets/base",
       "_model_module_version": "1.2.0",
       "_model_name": "LayoutModel",
       "_view_count": null,
       "_view_module": "@jupyter-widgets/base",
       "_view_module_version": "1.2.0",
       "_view_name": "LayoutView",
       "align_content": null,
       "align_items": null,
       "align_self": null,
       "border": null,
       "bottom": null,
       "display": null,
       "flex": null,
       "flex_flow": null,
       "grid_area": null,
       "grid_auto_columns": null,
       "grid_auto_flow": null,
       "grid_auto_rows": null,
       "grid_column": null,
       "grid_gap": null,
       "grid_row": null,
       "grid_template_areas": null,
       "grid_template_columns": null,
       "grid_template_rows": null,
       "height": null,
       "justify_content": null,
       "justify_items": null,
       "left": null,
       "margin": null,
       "max_height": null,
       "max_width": null,
       "min_height": null,
       "min_width": null,
       "object_fit": null,
       "object_position": null,
       "order": null,
       "overflow": null,
       "overflow_x": null,
       "overflow_y": null,
       "padding": null,
       "right": null,
       "top": null,
       "visibility": null,
       "width": null
      }
     },
     "ea7a9f2ca2974da38dba3a4d24da7fda": {
      "model_module": "@jupyter-widgets/controls",
      "model_module_version": "1.5.0",
      "model_name": "DescriptionStyleModel",
      "state": {
       "_model_module": "@jupyter-widgets/controls",
       "_model_module_version": "1.5.0",
       "_model_name": "DescriptionStyleModel",
       "_view_count": null,
       "_view_module": "@jupyter-widgets/base",
       "_view_module_version": "1.2.0",
       "_view_name": "StyleView",
       "description_width": ""
      }
     },
     "eaa46526b31348f5bdbddd93810a97c5": {
      "model_module": "@jupyter-widgets/controls",
      "model_module_version": "1.5.0",
      "model_name": "DescriptionStyleModel",
      "state": {
       "_model_module": "@jupyter-widgets/controls",
       "_model_module_version": "1.5.0",
       "_model_name": "DescriptionStyleModel",
       "_view_count": null,
       "_view_module": "@jupyter-widgets/base",
       "_view_module_version": "1.2.0",
       "_view_name": "StyleView",
       "description_width": ""
      }
     },
     "edfc562e63694ff88d2ac49ed68b1fab": {
      "model_module": "@jupyter-widgets/base",
      "model_module_version": "1.2.0",
      "model_name": "LayoutModel",
      "state": {
       "_model_module": "@jupyter-widgets/base",
       "_model_module_version": "1.2.0",
       "_model_name": "LayoutModel",
       "_view_count": null,
       "_view_module": "@jupyter-widgets/base",
       "_view_module_version": "1.2.0",
       "_view_name": "LayoutView",
       "align_content": null,
       "align_items": null,
       "align_self": null,
       "border": null,
       "bottom": null,
       "display": null,
       "flex": null,
       "flex_flow": null,
       "grid_area": null,
       "grid_auto_columns": null,
       "grid_auto_flow": null,
       "grid_auto_rows": null,
       "grid_column": null,
       "grid_gap": null,
       "grid_row": null,
       "grid_template_areas": null,
       "grid_template_columns": null,
       "grid_template_rows": null,
       "height": null,
       "justify_content": null,
       "justify_items": null,
       "left": null,
       "margin": null,
       "max_height": null,
       "max_width": null,
       "min_height": null,
       "min_width": null,
       "object_fit": null,
       "object_position": null,
       "order": null,
       "overflow": null,
       "overflow_x": null,
       "overflow_y": null,
       "padding": null,
       "right": null,
       "top": null,
       "visibility": null,
       "width": null
      }
     },
     "eeb07582e7944bf1bf0a9be0ed02d98d": {
      "model_module": "@jupyter-widgets/controls",
      "model_module_version": "1.5.0",
      "model_name": "HTMLModel",
      "state": {
       "_dom_classes": [],
       "_model_module": "@jupyter-widgets/controls",
       "_model_module_version": "1.5.0",
       "_model_name": "HTMLModel",
       "_view_count": null,
       "_view_module": "@jupyter-widgets/controls",
       "_view_module_version": "1.5.0",
       "_view_name": "HTMLView",
       "description": "",
       "description_tooltip": null,
       "layout": "IPY_MODEL_83f1e364f6554a7f91efd6fd97b4f5eb",
       "placeholder": "​",
       "style": "IPY_MODEL_5b08649be41b498ca8bafc4df48de80d",
       "value": "Packets:   "
      }
     },
     "ef45d8b9184e418c923d9531c00cdfbb": {
      "model_module": "@jupyter-widgets/controls",
      "model_module_version": "1.5.0",
      "model_name": "HBoxModel",
      "state": {
       "_dom_classes": [],
       "_model_module": "@jupyter-widgets/controls",
       "_model_module_version": "1.5.0",
       "_model_name": "HBoxModel",
       "_view_count": null,
       "_view_module": "@jupyter-widgets/controls",
       "_view_module_version": "1.5.0",
       "_view_name": "HBoxView",
       "box_style": "",
       "children": [
        "IPY_MODEL_2f13d9c7e4d6429b9e85705f4a4dfc14",
        "IPY_MODEL_4512c73af11a42c8a635912aa33795ef",
        "IPY_MODEL_dcf7c1db52fa406485d9223b29d2e206"
       ],
       "layout": "IPY_MODEL_bde42677a3a5479bbbffaa92f4f7a4e4"
      }
     },
     "f40412f3112240a293a3bc06ed4a010c": {
      "model_module": "@jupyter-widgets/controls",
      "model_module_version": "1.5.0",
      "model_name": "DescriptionStyleModel",
      "state": {
       "_model_module": "@jupyter-widgets/controls",
       "_model_module_version": "1.5.0",
       "_model_name": "DescriptionStyleModel",
       "_view_count": null,
       "_view_module": "@jupyter-widgets/base",
       "_view_module_version": "1.2.0",
       "_view_name": "StyleView",
       "description_width": ""
      }
     },
     "f417777ffd24470f81e4c2c62a311b01": {
      "model_module": "@jupyter-widgets/base",
      "model_module_version": "1.2.0",
      "model_name": "LayoutModel",
      "state": {
       "_model_module": "@jupyter-widgets/base",
       "_model_module_version": "1.2.0",
       "_model_name": "LayoutModel",
       "_view_count": null,
       "_view_module": "@jupyter-widgets/base",
       "_view_module_version": "1.2.0",
       "_view_name": "LayoutView",
       "align_content": null,
       "align_items": null,
       "align_self": null,
       "border": null,
       "bottom": null,
       "display": null,
       "flex": null,
       "flex_flow": null,
       "grid_area": null,
       "grid_auto_columns": null,
       "grid_auto_flow": null,
       "grid_auto_rows": null,
       "grid_column": null,
       "grid_gap": null,
       "grid_row": null,
       "grid_template_areas": null,
       "grid_template_columns": null,
       "grid_template_rows": null,
       "height": null,
       "justify_content": null,
       "justify_items": null,
       "left": null,
       "margin": null,
       "max_height": null,
       "max_width": null,
       "min_height": null,
       "min_width": null,
       "object_fit": null,
       "object_position": null,
       "order": null,
       "overflow": null,
       "overflow_x": null,
       "overflow_y": null,
       "padding": null,
       "right": null,
       "top": null,
       "visibility": null,
       "width": null
      }
     },
     "f4a04aaf102c4c6fae279c058f4490f8": {
      "model_module": "@jupyter-widgets/base",
      "model_module_version": "1.2.0",
      "model_name": "LayoutModel",
      "state": {
       "_model_module": "@jupyter-widgets/base",
       "_model_module_version": "1.2.0",
       "_model_name": "LayoutModel",
       "_view_count": null,
       "_view_module": "@jupyter-widgets/base",
       "_view_module_version": "1.2.0",
       "_view_name": "LayoutView",
       "align_content": null,
       "align_items": null,
       "align_self": null,
       "border": null,
       "bottom": null,
       "display": null,
       "flex": null,
       "flex_flow": null,
       "grid_area": null,
       "grid_auto_columns": null,
       "grid_auto_flow": null,
       "grid_auto_rows": null,
       "grid_column": null,
       "grid_gap": null,
       "grid_row": null,
       "grid_template_areas": null,
       "grid_template_columns": null,
       "grid_template_rows": null,
       "height": null,
       "justify_content": null,
       "justify_items": null,
       "left": null,
       "margin": null,
       "max_height": null,
       "max_width": null,
       "min_height": null,
       "min_width": null,
       "object_fit": null,
       "object_position": null,
       "order": null,
       "overflow": null,
       "overflow_x": null,
       "overflow_y": null,
       "padding": null,
       "right": null,
       "top": null,
       "visibility": null,
       "width": null
      }
     },
     "f5f649413bab4a69876110de280dc123": {
      "model_module": "@jupyter-widgets/base",
      "model_module_version": "1.2.0",
      "model_name": "LayoutModel",
      "state": {
       "_model_module": "@jupyter-widgets/base",
       "_model_module_version": "1.2.0",
       "_model_name": "LayoutModel",
       "_view_count": null,
       "_view_module": "@jupyter-widgets/base",
       "_view_module_version": "1.2.0",
       "_view_name": "LayoutView",
       "align_content": null,
       "align_items": null,
       "align_self": null,
       "border": null,
       "bottom": null,
       "display": null,
       "flex": null,
       "flex_flow": null,
       "grid_area": null,
       "grid_auto_columns": null,
       "grid_auto_flow": null,
       "grid_auto_rows": null,
       "grid_column": null,
       "grid_gap": null,
       "grid_row": null,
       "grid_template_areas": null,
       "grid_template_columns": null,
       "grid_template_rows": null,
       "height": null,
       "justify_content": null,
       "justify_items": null,
       "left": null,
       "margin": null,
       "max_height": null,
       "max_width": null,
       "min_height": null,
       "min_width": null,
       "object_fit": null,
       "object_position": null,
       "order": null,
       "overflow": null,
       "overflow_x": null,
       "overflow_y": null,
       "padding": null,
       "right": null,
       "top": null,
       "visibility": null,
       "width": "60%"
      }
     },
     "f70f5e82a48f42dd8b58854ea569eff3": {
      "model_module": "@jupyter-widgets/controls",
      "model_module_version": "1.5.0",
      "model_name": "ProgressStyleModel",
      "state": {
       "_model_module": "@jupyter-widgets/controls",
       "_model_module_version": "1.5.0",
       "_model_name": "ProgressStyleModel",
       "_view_count": null,
       "_view_module": "@jupyter-widgets/base",
       "_view_module_version": "1.2.0",
       "_view_name": "StyleView",
       "bar_color": null,
       "description_width": ""
      }
     },
     "f772cb3d695c4d88b31c16515ac278a7": {
      "model_module": "@jupyter-widgets/base",
      "model_module_version": "1.2.0",
      "model_name": "LayoutModel",
      "state": {
       "_model_module": "@jupyter-widgets/base",
       "_model_module_version": "1.2.0",
       "_model_name": "LayoutModel",
       "_view_count": null,
       "_view_module": "@jupyter-widgets/base",
       "_view_module_version": "1.2.0",
       "_view_name": "LayoutView",
       "align_content": null,
       "align_items": null,
       "align_self": null,
       "border": null,
       "bottom": null,
       "display": null,
       "flex": null,
       "flex_flow": null,
       "grid_area": null,
       "grid_auto_columns": null,
       "grid_auto_flow": null,
       "grid_auto_rows": null,
       "grid_column": null,
       "grid_gap": null,
       "grid_row": null,
       "grid_template_areas": null,
       "grid_template_columns": null,
       "grid_template_rows": null,
       "height": null,
       "justify_content": null,
       "justify_items": null,
       "left": null,
       "margin": null,
       "max_height": null,
       "max_width": null,
       "min_height": null,
       "min_width": null,
       "object_fit": null,
       "object_position": null,
       "order": null,
       "overflow": null,
       "overflow_x": null,
       "overflow_y": null,
       "padding": null,
       "right": null,
       "top": null,
       "visibility": null,
       "width": null
      }
     },
     "f804acc2427a43349fb1c3829191c904": {
      "model_module": "@jupyter-widgets/controls",
      "model_module_version": "1.5.0",
      "model_name": "HTMLModel",
      "state": {
       "_dom_classes": [],
       "_model_module": "@jupyter-widgets/controls",
       "_model_module_version": "1.5.0",
       "_model_name": "HTMLModel",
       "_view_count": null,
       "_view_module": "@jupyter-widgets/controls",
       "_view_module_version": "1.5.0",
       "_view_name": "HTMLView",
       "description": "",
       "description_tooltip": null,
       "layout": "IPY_MODEL_f417777ffd24470f81e4c2c62a311b01",
       "placeholder": "​",
       "style": "IPY_MODEL_f40412f3112240a293a3bc06ed4a010c",
       "value": "4/5 [00:00&lt;00:00, 10.49it/s]"
      }
     },
     "f98ee643bbd14b6888900fecd2ccf714": {
      "model_module": "@jupyter-widgets/base",
      "model_module_version": "1.2.0",
      "model_name": "LayoutModel",
      "state": {
       "_model_module": "@jupyter-widgets/base",
       "_model_module_version": "1.2.0",
       "_model_name": "LayoutModel",
       "_view_count": null,
       "_view_module": "@jupyter-widgets/base",
       "_view_module_version": "1.2.0",
       "_view_name": "LayoutView",
       "align_content": null,
       "align_items": null,
       "align_self": null,
       "border": null,
       "bottom": null,
       "display": null,
       "flex": null,
       "flex_flow": null,
       "grid_area": null,
       "grid_auto_columns": null,
       "grid_auto_flow": null,
       "grid_auto_rows": null,
       "grid_column": null,
       "grid_gap": null,
       "grid_row": null,
       "grid_template_areas": null,
       "grid_template_columns": null,
       "grid_template_rows": null,
       "height": null,
       "justify_content": null,
       "justify_items": null,
       "left": null,
       "margin": null,
       "max_height": null,
       "max_width": null,
       "min_height": null,
       "min_width": null,
       "object_fit": null,
       "object_position": null,
       "order": null,
       "overflow": null,
       "overflow_x": null,
       "overflow_y": null,
       "padding": null,
       "right": null,
       "top": null,
       "visibility": null,
       "width": "60%"
      }
     },
     "fa1f06a0db7d4f019ef70a299f8958a8": {
      "model_module": "@jupyter-widgets/base",
      "model_module_version": "1.2.0",
      "model_name": "LayoutModel",
      "state": {
       "_model_module": "@jupyter-widgets/base",
       "_model_module_version": "1.2.0",
       "_model_name": "LayoutModel",
       "_view_count": null,
       "_view_module": "@jupyter-widgets/base",
       "_view_module_version": "1.2.0",
       "_view_name": "LayoutView",
       "align_content": null,
       "align_items": null,
       "align_self": null,
       "border": null,
       "bottom": null,
       "display": null,
       "flex": null,
       "flex_flow": null,
       "grid_area": null,
       "grid_auto_columns": null,
       "grid_auto_flow": null,
       "grid_auto_rows": null,
       "grid_column": null,
       "grid_gap": null,
       "grid_row": null,
       "grid_template_areas": null,
       "grid_template_columns": null,
       "grid_template_rows": null,
       "height": null,
       "justify_content": null,
       "justify_items": null,
       "left": null,
       "margin": null,
       "max_height": null,
       "max_width": null,
       "min_height": null,
       "min_width": null,
       "object_fit": null,
       "object_position": null,
       "order": null,
       "overflow": null,
       "overflow_x": null,
       "overflow_y": null,
       "padding": null,
       "right": null,
       "top": null,
       "visibility": null,
       "width": null
      }
     },
     "fb70e702edbc40eda91b5f7f52d6c88a": {
      "model_module": "@jupyter-widgets/base",
      "model_module_version": "1.2.0",
      "model_name": "LayoutModel",
      "state": {
       "_model_module": "@jupyter-widgets/base",
       "_model_module_version": "1.2.0",
       "_model_name": "LayoutModel",
       "_view_count": null,
       "_view_module": "@jupyter-widgets/base",
       "_view_module_version": "1.2.0",
       "_view_name": "LayoutView",
       "align_content": null,
       "align_items": null,
       "align_self": null,
       "border": null,
       "bottom": null,
       "display": null,
       "flex": null,
       "flex_flow": null,
       "grid_area": null,
       "grid_auto_columns": null,
       "grid_auto_flow": null,
       "grid_auto_rows": null,
       "grid_column": null,
       "grid_gap": null,
       "grid_row": null,
       "grid_template_areas": null,
       "grid_template_columns": null,
       "grid_template_rows": null,
       "height": null,
       "justify_content": null,
       "justify_items": null,
       "left": null,
       "margin": null,
       "max_height": null,
       "max_width": null,
       "min_height": null,
       "min_width": null,
       "object_fit": null,
       "object_position": null,
       "order": null,
       "overflow": null,
       "overflow_x": null,
       "overflow_y": null,
       "padding": null,
       "right": null,
       "top": null,
       "visibility": null,
       "width": "60%"
      }
     },
     "fd5a85f0b0ac4d6b9bf4c14d58e3e30b": {
      "model_module": "@jupyter-widgets/controls",
      "model_module_version": "1.5.0",
      "model_name": "DescriptionStyleModel",
      "state": {
       "_model_module": "@jupyter-widgets/controls",
       "_model_module_version": "1.5.0",
       "_model_name": "DescriptionStyleModel",
       "_view_count": null,
       "_view_module": "@jupyter-widgets/base",
       "_view_module_version": "1.2.0",
       "_view_name": "StyleView",
       "description_width": ""
      }
     },
     "fd7f6ccf811449a982d4a880e5b847bf": {
      "model_module": "@jupyter-widgets/controls",
      "model_module_version": "1.5.0",
      "model_name": "ProgressStyleModel",
      "state": {
       "_model_module": "@jupyter-widgets/controls",
       "_model_module_version": "1.5.0",
       "_model_name": "ProgressStyleModel",
       "_view_count": null,
       "_view_module": "@jupyter-widgets/base",
       "_view_module_version": "1.2.0",
       "_view_name": "StyleView",
       "bar_color": null,
       "description_width": ""
      }
     },
     "fe017e6ccf8649568649499575d89b4c": {
      "model_module": "@jupyter-widgets/base",
      "model_module_version": "1.2.0",
      "model_name": "LayoutModel",
      "state": {
       "_model_module": "@jupyter-widgets/base",
       "_model_module_version": "1.2.0",
       "_model_name": "LayoutModel",
       "_view_count": null,
       "_view_module": "@jupyter-widgets/base",
       "_view_module_version": "1.2.0",
       "_view_name": "LayoutView",
       "align_content": null,
       "align_items": null,
       "align_self": null,
       "border": null,
       "bottom": null,
       "display": null,
       "flex": null,
       "flex_flow": null,
       "grid_area": null,
       "grid_auto_columns": null,
       "grid_auto_flow": null,
       "grid_auto_rows": null,
       "grid_column": null,
       "grid_gap": null,
       "grid_row": null,
       "grid_template_areas": null,
       "grid_template_columns": null,
       "grid_template_rows": null,
       "height": null,
       "justify_content": null,
       "justify_items": null,
       "left": null,
       "margin": null,
       "max_height": null,
       "max_width": null,
       "min_height": null,
       "min_width": null,
       "object_fit": null,
       "object_position": null,
       "order": null,
       "overflow": null,
       "overflow_x": null,
       "overflow_y": null,
       "padding": null,
       "right": null,
       "top": null,
       "visibility": null,
       "width": "60%"
      }
     },
     "fe0b0d475270445f8207275ff8d69f28": {
      "model_module": "@jupyter-widgets/controls",
      "model_module_version": "1.5.0",
      "model_name": "HTMLModel",
      "state": {
       "_dom_classes": [],
       "_model_module": "@jupyter-widgets/controls",
       "_model_module_version": "1.5.0",
       "_model_name": "HTMLModel",
       "_view_count": null,
       "_view_module": "@jupyter-widgets/controls",
       "_view_module_version": "1.5.0",
       "_view_name": "HTMLView",
       "description": "",
       "description_tooltip": null,
       "layout": "IPY_MODEL_8e938648ee2146b0be95470208a48642",
       "placeholder": "​",
       "style": "IPY_MODEL_aa25b457640443d6aac82292176fcb5a",
       "value": "Iterations:"
      }
     },
     "ff6b87b0a66a4e1c974b6ea216197eb7": {
      "model_module": "@jupyter-widgets/base",
      "model_module_version": "1.2.0",
      "model_name": "LayoutModel",
      "state": {
       "_model_module": "@jupyter-widgets/base",
       "_model_module_version": "1.2.0",
       "_model_name": "LayoutModel",
       "_view_count": null,
       "_view_module": "@jupyter-widgets/base",
       "_view_module_version": "1.2.0",
       "_view_name": "LayoutView",
       "align_content": null,
       "align_items": null,
       "align_self": null,
       "border": null,
       "bottom": null,
       "display": null,
       "flex": null,
       "flex_flow": null,
       "grid_area": null,
       "grid_auto_columns": null,
       "grid_auto_flow": null,
       "grid_auto_rows": null,
       "grid_column": null,
       "grid_gap": null,
       "grid_row": null,
       "grid_template_areas": null,
       "grid_template_columns": null,
       "grid_template_rows": null,
       "height": null,
       "justify_content": null,
       "justify_items": null,
       "left": null,
       "margin": null,
       "max_height": null,
       "max_width": null,
       "min_height": null,
       "min_width": null,
       "object_fit": null,
       "object_position": null,
       "order": null,
       "overflow": null,
       "overflow_x": null,
       "overflow_y": null,
       "padding": null,
       "right": null,
       "top": null,
       "visibility": null,
       "width": null
      }
     },
     "ff733a6dffff4c4892919cbc6ff52331": {
      "model_module": "@jupyter-widgets/base",
      "model_module_version": "1.2.0",
      "model_name": "LayoutModel",
      "state": {
       "_model_module": "@jupyter-widgets/base",
       "_model_module_version": "1.2.0",
       "_model_name": "LayoutModel",
       "_view_count": null,
       "_view_module": "@jupyter-widgets/base",
       "_view_module_version": "1.2.0",
       "_view_name": "LayoutView",
       "align_content": null,
       "align_items": null,
       "align_self": null,
       "border": null,
       "bottom": null,
       "display": null,
       "flex": null,
       "flex_flow": null,
       "grid_area": null,
       "grid_auto_columns": null,
       "grid_auto_flow": null,
       "grid_auto_rows": null,
       "grid_column": null,
       "grid_gap": null,
       "grid_row": null,
       "grid_template_areas": null,
       "grid_template_columns": null,
       "grid_template_rows": null,
       "height": null,
       "justify_content": null,
       "justify_items": null,
       "left": null,
       "margin": null,
       "max_height": null,
       "max_width": null,
       "min_height": null,
       "min_width": null,
       "object_fit": null,
       "object_position": null,
       "order": null,
       "overflow": null,
       "overflow_x": null,
       "overflow_y": null,
       "padding": null,
       "right": null,
       "top": null,
       "visibility": null,
       "width": null
      }
     },
     "ffc9b278e727465a805551147dd2d5dd": {
      "model_module": "@jupyter-widgets/base",
      "model_module_version": "1.2.0",
      "model_name": "LayoutModel",
      "state": {
       "_model_module": "@jupyter-widgets/base",
       "_model_module_version": "1.2.0",
       "_model_name": "LayoutModel",
       "_view_count": null,
       "_view_module": "@jupyter-widgets/base",
       "_view_module_version": "1.2.0",
       "_view_name": "LayoutView",
       "align_content": null,
       "align_items": null,
       "align_self": null,
       "border": null,
       "bottom": null,
       "display": null,
       "flex": null,
       "flex_flow": null,
       "grid_area": null,
       "grid_auto_columns": null,
       "grid_auto_flow": null,
       "grid_auto_rows": null,
       "grid_column": null,
       "grid_gap": null,
       "grid_row": null,
       "grid_template_areas": null,
       "grid_template_columns": null,
       "grid_template_rows": null,
       "height": null,
       "justify_content": null,
       "justify_items": null,
       "left": null,
       "margin": null,
       "max_height": null,
       "max_width": null,
       "min_height": null,
       "min_width": null,
       "object_fit": null,
       "object_position": null,
       "order": null,
       "overflow": null,
       "overflow_x": null,
       "overflow_y": null,
       "padding": null,
       "right": null,
       "top": null,
       "visibility": null,
       "width": null
      }
     }
    },
    "version_major": 2,
    "version_minor": 0
   }
  }
 },
 "nbformat": 4,
 "nbformat_minor": 5
}
