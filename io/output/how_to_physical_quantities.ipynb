{
 "cells": [
  {
   "cell_type": "markdown",
   "metadata": {
    "raw_mimetype": "text/restructuredtext"
   },
   "source": [
    "# How to Access Physical Quantities"
   ]
  },
  {
   "cell_type": "markdown",
   "metadata": {},
   "source": [
    "In order to compute the synthetic spectrum, TARDIS must either be told\n",
    "or must calculate many physical properties of the model. To understand and\n",
    "test the code it can be important to look at these values. One\n",
    "easy way to do this is to run TARDIS in an interactive mode and then\n",
    "inspect the model properties."
   ]
  },
  {
   "cell_type": "markdown",
   "metadata": {},
   "source": [
    "### Running an interactive Python session"
   ]
  },
  {
   "cell_type": "code",
   "execution_count": 1,
   "metadata": {
    "execution": {
     "iopub.execute_input": "2024-07-31T12:25:32.606740Z",
     "iopub.status.busy": "2024-07-31T12:25:32.606568Z",
     "iopub.status.idle": "2024-07-31T12:25:34.708062Z",
     "shell.execute_reply": "2024-07-31T12:25:34.707455Z"
    }
   },
   "outputs": [
    {
     "name": "stderr",
     "output_type": "stream",
     "text": [
      "/home/runner/micromamba/envs/tardis/lib/python3.12/site-packages/setuptools_scm/git.py:167: UserWarning: \"/home/runner/work/tardis/tardis\" is shallow and may cause errors\n",
      "  warnings.warn(f'\"{wd.path}\" is shallow and may cause errors')\n"
     ]
    },
    {
     "data": {
      "application/vnd.jupyter.widget-view+json": {
       "model_id": "c5739dc5cd424318a273370a98453d91",
       "version_major": 2,
       "version_minor": 0
      },
      "text/plain": [
       "Iterations:          0/? [00:00<?, ?it/s]"
      ]
     },
     "metadata": {},
     "output_type": "display_data"
    },
    {
     "data": {
      "application/vnd.jupyter.widget-view+json": {
       "model_id": "e2c0a9f404124642b072887e69fc852f",
       "version_major": 2,
       "version_minor": 0
      },
      "text/plain": [
       "Packets:             0/? [00:00<?, ?it/s]"
      ]
     },
     "metadata": {},
     "output_type": "display_data"
    },
    {
     "name": "stderr",
     "output_type": "stream",
     "text": [
      "Atomic Data kurucz_cd23_chianti_H_He already exists in /home/runner/Downloads/tardis-data/kurucz_cd23_chianti_H_He.h5. Will not download - override with force_download=True.\n"
     ]
    },
    {
     "name": "stdout",
     "output_type": "stream",
     "text": [
      "  % Total    % Received % Xferd  Average Speed   Time    Time     Time  Current\r\n",
      "                                 Dload  Upload   Total   Spent    Left  Speed\r\n",
      "\r",
      "  0     0    0     0    0     0      0      0 --:--:-- --:--:-- --:--:--     0"
     ]
    },
    {
     "name": "stdout",
     "output_type": "stream",
     "text": [
      "\r",
      "100   980  100   980    0     0   6882      0 --:--:-- --:--:-- --:--:--  6901\r\n"
     ]
    }
   ],
   "source": [
    "# Download the atomic data\n",
    "from tardis.io.atom_data.util import download_atom_data\n",
    "download_atom_data('kurucz_cd23_chianti_H_He')\n",
    "\n",
    "# Download the example configuration file\n",
    "!curl -O https://raw.githubusercontent.com/tardis-sn/tardis/master/docs/tardis_example.yml"
   ]
  },
  {
   "cell_type": "code",
   "execution_count": 2,
   "metadata": {
    "execution": {
     "iopub.execute_input": "2024-07-31T12:25:34.710214Z",
     "iopub.status.busy": "2024-07-31T12:25:34.710018Z",
     "iopub.status.idle": "2024-07-31T12:26:30.330863Z",
     "shell.execute_reply": "2024-07-31T12:26:30.330362Z"
    }
   },
   "outputs": [
    {
     "name": "stdout",
     "output_type": "stream",
     "text": [
      "[\u001b[1mtardis.io.model.parse_atom_data\u001b[0m][\u001b[1;37mINFO\u001b[0m   ]  \n",
      "\t\n",
      "\tReading Atomic Data from kurucz_cd23_chianti_H_He.h5 (\u001b[1mparse_atom_data.py\u001b[0m:40)\n"
     ]
    },
    {
     "name": "stdout",
     "output_type": "stream",
     "text": [
      "[\u001b[1mtardis.io.atom_data.util\u001b[0m][\u001b[1;37mINFO\u001b[0m   ]  \n",
      "\t\n",
      "\tAtom Data kurucz_cd23_chianti_H_He.h5 not found in local path.\n",
      "\tExists in TARDIS Data repo /home/runner/Downloads/tardis-data/kurucz_cd23_chianti_H_He.h5 (\u001b[1mutil.py\u001b[0m:36)\n"
     ]
    },
    {
     "name": "stdout",
     "output_type": "stream",
     "text": [
      "[\u001b[1mtardis.io.atom_data.base\u001b[0m][\u001b[1;37mINFO\u001b[0m   ]  \n",
      "\tReading Atom Data with: UUID = 6f7b09e887a311e7a06b246e96350010 MD5  = 864f1753714343c41f99cb065710cace  (\u001b[1mbase.py\u001b[0m:258)\n"
     ]
    },
    {
     "name": "stdout",
     "output_type": "stream",
     "text": [
      "[\u001b[1mtardis.io.atom_data.base\u001b[0m][\u001b[1;37mINFO\u001b[0m   ]  \n",
      "\tNon provided Atomic Data: synpp_refs, photoionization_data, yg_data, two_photon_data, linelist (\u001b[1mbase.py\u001b[0m:262)\n"
     ]
    },
    {
     "name": "stdout",
     "output_type": "stream",
     "text": [
      "[\u001b[1mtardis.io.model.parse_density_configuration\u001b[0m][\u001b[1;33mWARNING\u001b[0m]  \n",
      "\tNumber of density points larger than number of shells. Assuming inner point irrelevant (\u001b[1mparse_density_configuration.py\u001b[0m:114)\n"
     ]
    },
    {
     "name": "stdout",
     "output_type": "stream",
     "text": [
      "[\u001b[1mtardis.model.matter.decay\u001b[0m][\u001b[1;37mINFO\u001b[0m   ]  \n",
      "\tDecaying abundances for 1123200.0 seconds (\u001b[1mdecay.py\u001b[0m:101)\n"
     ]
    },
    {
     "name": "stdout",
     "output_type": "stream",
     "text": [
      "[\u001b[1mtardis.simulation.base\u001b[0m][\u001b[1;37mINFO\u001b[0m   ]  \n",
      "\t\n",
      "\tStarting iteration 1 of 20 (\u001b[1mbase.py\u001b[0m:438)\n"
     ]
    },
    {
     "name": "stdout",
     "output_type": "stream",
     "text": [
      "[\u001b[1mpy.warnings         \u001b[0m][\u001b[1;33mWARNING\u001b[0m]  \n",
      "\t/home/runner/work/tardis/tardis/tardis/transport/montecarlo/montecarlo_main_loop.py:123: NumbaTypeSafetyWarning: \u001b[1m\u001b[1m\u001b[1munsafe cast from uint64 to int64. Precision may be lost.\u001b[0m\u001b[0m\u001b[0m\n",
      "  vpacket_collection = vpacket_collections[i]\n",
      " (\u001b[1mwarnings.py\u001b[0m:112)\n"
     ]
    },
    {
     "data": {
      "application/vnd.jupyter.widget-view+json": {
       "model_id": "94f52732b28f46cbb7e6c4b988d3cbb9",
       "version_major": 2,
       "version_minor": 0
      },
      "text/plain": [
       "TqdmHBox(children=(HTML(value='Iterations:', layout=Layout(width='6%')), FloatProgress(value=0.0, layout=Layou…"
      ]
     },
     "metadata": {},
     "output_type": "display_data"
    },
    {
     "data": {
      "application/vnd.jupyter.widget-view+json": {
       "model_id": "476a65be05cd431187d3c2f862bceaa1",
       "version_major": 2,
       "version_minor": 0
      },
      "text/plain": [
       "TqdmHBox(children=(HTML(value='Packets:\\u2007\\u2007\\u2007', layout=Layout(width='6%')), FloatProgress(value=0.…"
      ]
     },
     "metadata": {},
     "output_type": "display_data"
    },
    {
     "name": "stdout",
     "output_type": "stream",
     "text": [
      "[\u001b[1mtardis.simulation.base\u001b[0m][\u001b[1;37mINFO\u001b[0m   ]  \n",
      "\t\n",
      "\tLuminosity emitted   = 7.942e+42 erg / s\n",
      "\tLuminosity absorbed  = 2.659e+42 erg / s\n",
      "\tLuminosity requested = 1.059e+43 erg / s\n",
      " (\u001b[1mbase.py\u001b[0m:629)\n"
     ]
    },
    {
     "name": "stdout",
     "output_type": "stream",
     "text": [
      "[\u001b[1mtardis.simulation.base\u001b[0m][\u001b[1;37mINFO\u001b[0m   ]  \n",
      "\t\n",
      "\tPlasma stratification: (\u001b[1mbase.py\u001b[0m:597)\n"
     ]
    },
    {
     "data": {
      "text/html": [
       "<style type=\"text/css\">\n",
       "</style>\n",
       "<table id=\"T_19193\">\n",
       "  <thead>\n",
       "    <tr>\n",
       "      <th class=\"index_name level0\" >Shell No.</th>\n",
       "      <th id=\"T_19193_level0_col0\" class=\"col_heading level0 col0\" >t_rad</th>\n",
       "      <th id=\"T_19193_level0_col1\" class=\"col_heading level0 col1\" >next_t_rad</th>\n",
       "      <th id=\"T_19193_level0_col2\" class=\"col_heading level0 col2\" >w</th>\n",
       "      <th id=\"T_19193_level0_col3\" class=\"col_heading level0 col3\" >next_w</th>\n",
       "    </tr>\n",
       "  </thead>\n",
       "  <tbody>\n",
       "    <tr>\n",
       "      <th id=\"T_19193_level0_row0\" class=\"row_heading level0 row0\" >0</th>\n",
       "      <td id=\"T_19193_row0_col0\" class=\"data row0 col0\" >9.93e+03 K</td>\n",
       "      <td id=\"T_19193_row0_col1\" class=\"data row0 col1\" >1.01e+04 K</td>\n",
       "      <td id=\"T_19193_row0_col2\" class=\"data row0 col2\" >0.4</td>\n",
       "      <td id=\"T_19193_row0_col3\" class=\"data row0 col3\" >0.507</td>\n",
       "    </tr>\n",
       "    <tr>\n",
       "      <th id=\"T_19193_level0_row1\" class=\"row_heading level0 row1\" >5</th>\n",
       "      <td id=\"T_19193_row1_col0\" class=\"data row1 col0\" >9.85e+03 K</td>\n",
       "      <td id=\"T_19193_row1_col1\" class=\"data row1 col1\" >1.02e+04 K</td>\n",
       "      <td id=\"T_19193_row1_col2\" class=\"data row1 col2\" >0.211</td>\n",
       "      <td id=\"T_19193_row1_col3\" class=\"data row1 col3\" >0.197</td>\n",
       "    </tr>\n",
       "    <tr>\n",
       "      <th id=\"T_19193_level0_row2\" class=\"row_heading level0 row2\" >10</th>\n",
       "      <td id=\"T_19193_row2_col0\" class=\"data row2 col0\" >9.78e+03 K</td>\n",
       "      <td id=\"T_19193_row2_col1\" class=\"data row2 col1\" >1.01e+04 K</td>\n",
       "      <td id=\"T_19193_row2_col2\" class=\"data row2 col2\" >0.143</td>\n",
       "      <td id=\"T_19193_row2_col3\" class=\"data row2 col3\" >0.117</td>\n",
       "    </tr>\n",
       "    <tr>\n",
       "      <th id=\"T_19193_level0_row3\" class=\"row_heading level0 row3\" >15</th>\n",
       "      <td id=\"T_19193_row3_col0\" class=\"data row3 col0\" >9.71e+03 K</td>\n",
       "      <td id=\"T_19193_row3_col1\" class=\"data row3 col1\" >9.87e+03 K</td>\n",
       "      <td id=\"T_19193_row3_col2\" class=\"data row3 col2\" >0.105</td>\n",
       "      <td id=\"T_19193_row3_col3\" class=\"data row3 col3\" >0.0869</td>\n",
       "    </tr>\n",
       "  </tbody>\n",
       "</table>\n"
      ],
      "text/plain": [
       "<pandas.io.formats.style.Styler at 0x7fd22e324f20>"
      ]
     },
     "metadata": {},
     "output_type": "display_data"
    },
    {
     "name": "stdout",
     "output_type": "stream",
     "text": [
      "[\u001b[1mtardis.simulation.base\u001b[0m][\u001b[1;37mINFO\u001b[0m   ]  \n",
      "\t\n",
      "\tCurrent t_inner = 9933.952 K\n",
      "\tExpected t_inner for next iteration = 10703.212 K\n",
      " (\u001b[1mbase.py\u001b[0m:624)\n"
     ]
    },
    {
     "name": "stdout",
     "output_type": "stream",
     "text": [
      "[\u001b[1mtardis.simulation.base\u001b[0m][\u001b[1;37mINFO\u001b[0m   ]  \n",
      "\t\n",
      "\tStarting iteration 2 of 20 (\u001b[1mbase.py\u001b[0m:438)\n"
     ]
    },
    {
     "name": "stdout",
     "output_type": "stream",
     "text": [
      "[\u001b[1mtardis.simulation.base\u001b[0m][\u001b[1;37mINFO\u001b[0m   ]  \n",
      "\t\n",
      "\tLuminosity emitted   = 1.071e+43 erg / s\n",
      "\tLuminosity absorbed  = 3.576e+42 erg / s\n",
      "\tLuminosity requested = 1.059e+43 erg / s\n",
      " (\u001b[1mbase.py\u001b[0m:629)\n"
     ]
    },
    {
     "name": "stdout",
     "output_type": "stream",
     "text": [
      "[\u001b[1mtardis.simulation.base\u001b[0m][\u001b[1;37mINFO\u001b[0m   ]  \n",
      "\t\n",
      "\tPlasma stratification: (\u001b[1mbase.py\u001b[0m:597)\n"
     ]
    },
    {
     "data": {
      "text/html": [
       "<style type=\"text/css\">\n",
       "</style>\n",
       "<table id=\"T_09c3d\">\n",
       "  <thead>\n",
       "    <tr>\n",
       "      <th class=\"index_name level0\" >Shell No.</th>\n",
       "      <th id=\"T_09c3d_level0_col0\" class=\"col_heading level0 col0\" >t_rad</th>\n",
       "      <th id=\"T_09c3d_level0_col1\" class=\"col_heading level0 col1\" >next_t_rad</th>\n",
       "      <th id=\"T_09c3d_level0_col2\" class=\"col_heading level0 col2\" >w</th>\n",
       "      <th id=\"T_09c3d_level0_col3\" class=\"col_heading level0 col3\" >next_w</th>\n",
       "    </tr>\n",
       "  </thead>\n",
       "  <tbody>\n",
       "    <tr>\n",
       "      <th id=\"T_09c3d_level0_row0\" class=\"row_heading level0 row0\" >0</th>\n",
       "      <td id=\"T_09c3d_row0_col0\" class=\"data row0 col0\" >1.01e+04 K</td>\n",
       "      <td id=\"T_09c3d_row0_col1\" class=\"data row0 col1\" >1.08e+04 K</td>\n",
       "      <td id=\"T_09c3d_row0_col2\" class=\"data row0 col2\" >0.507</td>\n",
       "      <td id=\"T_09c3d_row0_col3\" class=\"data row0 col3\" >0.525</td>\n",
       "    </tr>\n",
       "    <tr>\n",
       "      <th id=\"T_09c3d_level0_row1\" class=\"row_heading level0 row1\" >5</th>\n",
       "      <td id=\"T_09c3d_row1_col0\" class=\"data row1 col0\" >1.02e+04 K</td>\n",
       "      <td id=\"T_09c3d_row1_col1\" class=\"data row1 col1\" >1.1e+04 K</td>\n",
       "      <td id=\"T_09c3d_row1_col2\" class=\"data row1 col2\" >0.197</td>\n",
       "      <td id=\"T_09c3d_row1_col3\" class=\"data row1 col3\" >0.203</td>\n",
       "    </tr>\n",
       "    <tr>\n",
       "      <th id=\"T_09c3d_level0_row2\" class=\"row_heading level0 row2\" >10</th>\n",
       "      <td id=\"T_09c3d_row2_col0\" class=\"data row2 col0\" >1.01e+04 K</td>\n",
       "      <td id=\"T_09c3d_row2_col1\" class=\"data row2 col1\" >1.08e+04 K</td>\n",
       "      <td id=\"T_09c3d_row2_col2\" class=\"data row2 col2\" >0.117</td>\n",
       "      <td id=\"T_09c3d_row2_col3\" class=\"data row2 col3\" >0.125</td>\n",
       "    </tr>\n",
       "    <tr>\n",
       "      <th id=\"T_09c3d_level0_row3\" class=\"row_heading level0 row3\" >15</th>\n",
       "      <td id=\"T_09c3d_row3_col0\" class=\"data row3 col0\" >9.87e+03 K</td>\n",
       "      <td id=\"T_09c3d_row3_col1\" class=\"data row3 col1\" >1.05e+04 K</td>\n",
       "      <td id=\"T_09c3d_row3_col2\" class=\"data row3 col2\" >0.0869</td>\n",
       "      <td id=\"T_09c3d_row3_col3\" class=\"data row3 col3\" >0.0933</td>\n",
       "    </tr>\n",
       "  </tbody>\n",
       "</table>\n"
      ],
      "text/plain": [
       "<pandas.io.formats.style.Styler at 0x7fd22ec02180>"
      ]
     },
     "metadata": {},
     "output_type": "display_data"
    },
    {
     "name": "stdout",
     "output_type": "stream",
     "text": [
      "[\u001b[1mtardis.simulation.base\u001b[0m][\u001b[1;37mINFO\u001b[0m   ]  \n",
      "\t\n",
      "\tCurrent t_inner = 10703.212 K\n",
      "\tExpected t_inner for next iteration = 10673.712 K\n",
      " (\u001b[1mbase.py\u001b[0m:624)\n"
     ]
    },
    {
     "name": "stdout",
     "output_type": "stream",
     "text": [
      "[\u001b[1mtardis.simulation.base\u001b[0m][\u001b[1;37mINFO\u001b[0m   ]  \n",
      "\t\n",
      "\tStarting iteration 3 of 20 (\u001b[1mbase.py\u001b[0m:438)\n"
     ]
    },
    {
     "name": "stdout",
     "output_type": "stream",
     "text": [
      "[\u001b[1mtardis.simulation.base\u001b[0m][\u001b[1;37mINFO\u001b[0m   ]  \n",
      "\t\n",
      "\tLuminosity emitted   = 1.074e+43 erg / s\n",
      "\tLuminosity absorbed  = 3.391e+42 erg / s\n",
      "\tLuminosity requested = 1.059e+43 erg / s\n",
      " (\u001b[1mbase.py\u001b[0m:629)\n"
     ]
    },
    {
     "name": "stdout",
     "output_type": "stream",
     "text": [
      "[\u001b[1mtardis.simulation.base\u001b[0m][\u001b[1;37mINFO\u001b[0m   ]  \n",
      "\tIteration converged 1/4 consecutive times. (\u001b[1mbase.py\u001b[0m:250)\n"
     ]
    },
    {
     "name": "stdout",
     "output_type": "stream",
     "text": [
      "[\u001b[1mtardis.simulation.base\u001b[0m][\u001b[1;37mINFO\u001b[0m   ]  \n",
      "\t\n",
      "\tPlasma stratification: (\u001b[1mbase.py\u001b[0m:597)\n"
     ]
    },
    {
     "data": {
      "text/html": [
       "<style type=\"text/css\">\n",
       "</style>\n",
       "<table id=\"T_73bc5\">\n",
       "  <thead>\n",
       "    <tr>\n",
       "      <th class=\"index_name level0\" >Shell No.</th>\n",
       "      <th id=\"T_73bc5_level0_col0\" class=\"col_heading level0 col0\" >t_rad</th>\n",
       "      <th id=\"T_73bc5_level0_col1\" class=\"col_heading level0 col1\" >next_t_rad</th>\n",
       "      <th id=\"T_73bc5_level0_col2\" class=\"col_heading level0 col2\" >w</th>\n",
       "      <th id=\"T_73bc5_level0_col3\" class=\"col_heading level0 col3\" >next_w</th>\n",
       "    </tr>\n",
       "  </thead>\n",
       "  <tbody>\n",
       "    <tr>\n",
       "      <th id=\"T_73bc5_level0_row0\" class=\"row_heading level0 row0\" >0</th>\n",
       "      <td id=\"T_73bc5_row0_col0\" class=\"data row0 col0\" >1.08e+04 K</td>\n",
       "      <td id=\"T_73bc5_row0_col1\" class=\"data row0 col1\" >1.1e+04 K</td>\n",
       "      <td id=\"T_73bc5_row0_col2\" class=\"data row0 col2\" >0.525</td>\n",
       "      <td id=\"T_73bc5_row0_col3\" class=\"data row0 col3\" >0.483</td>\n",
       "    </tr>\n",
       "    <tr>\n",
       "      <th id=\"T_73bc5_level0_row1\" class=\"row_heading level0 row1\" >5</th>\n",
       "      <td id=\"T_73bc5_row1_col0\" class=\"data row1 col0\" >1.1e+04 K</td>\n",
       "      <td id=\"T_73bc5_row1_col1\" class=\"data row1 col1\" >1.12e+04 K</td>\n",
       "      <td id=\"T_73bc5_row1_col2\" class=\"data row1 col2\" >0.203</td>\n",
       "      <td id=\"T_73bc5_row1_col3\" class=\"data row1 col3\" >0.189</td>\n",
       "    </tr>\n",
       "    <tr>\n",
       "      <th id=\"T_73bc5_level0_row2\" class=\"row_heading level0 row2\" >10</th>\n",
       "      <td id=\"T_73bc5_row2_col0\" class=\"data row2 col0\" >1.08e+04 K</td>\n",
       "      <td id=\"T_73bc5_row2_col1\" class=\"data row2 col1\" >1.1e+04 K</td>\n",
       "      <td id=\"T_73bc5_row2_col2\" class=\"data row2 col2\" >0.125</td>\n",
       "      <td id=\"T_73bc5_row2_col3\" class=\"data row2 col3\" >0.118</td>\n",
       "    </tr>\n",
       "    <tr>\n",
       "      <th id=\"T_73bc5_level0_row3\" class=\"row_heading level0 row3\" >15</th>\n",
       "      <td id=\"T_73bc5_row3_col0\" class=\"data row3 col0\" >1.05e+04 K</td>\n",
       "      <td id=\"T_73bc5_row3_col1\" class=\"data row3 col1\" >1.06e+04 K</td>\n",
       "      <td id=\"T_73bc5_row3_col2\" class=\"data row3 col2\" >0.0933</td>\n",
       "      <td id=\"T_73bc5_row3_col3\" class=\"data row3 col3\" >0.0895</td>\n",
       "    </tr>\n",
       "  </tbody>\n",
       "</table>\n"
      ],
      "text/plain": [
       "<pandas.io.formats.style.Styler at 0x7fd22ee135f0>"
      ]
     },
     "metadata": {},
     "output_type": "display_data"
    },
    {
     "name": "stdout",
     "output_type": "stream",
     "text": [
      "[\u001b[1mtardis.simulation.base\u001b[0m][\u001b[1;37mINFO\u001b[0m   ]  \n",
      "\t\n",
      "\tCurrent t_inner = 10673.712 K\n",
      "\tExpected t_inner for next iteration = 10635.953 K\n",
      " (\u001b[1mbase.py\u001b[0m:624)\n"
     ]
    },
    {
     "name": "stdout",
     "output_type": "stream",
     "text": [
      "[\u001b[1mtardis.simulation.base\u001b[0m][\u001b[1;37mINFO\u001b[0m   ]  \n",
      "\t\n",
      "\tStarting iteration 4 of 20 (\u001b[1mbase.py\u001b[0m:438)\n"
     ]
    },
    {
     "name": "stdout",
     "output_type": "stream",
     "text": [
      "[\u001b[1mtardis.simulation.base\u001b[0m][\u001b[1;37mINFO\u001b[0m   ]  \n",
      "\t\n",
      "\tLuminosity emitted   = 1.058e+43 erg / s\n",
      "\tLuminosity absorbed  = 3.352e+42 erg / s\n",
      "\tLuminosity requested = 1.059e+43 erg / s\n",
      " (\u001b[1mbase.py\u001b[0m:629)\n"
     ]
    },
    {
     "name": "stdout",
     "output_type": "stream",
     "text": [
      "[\u001b[1mtardis.simulation.base\u001b[0m][\u001b[1;37mINFO\u001b[0m   ]  \n",
      "\tIteration converged 2/4 consecutive times. (\u001b[1mbase.py\u001b[0m:250)\n"
     ]
    },
    {
     "name": "stdout",
     "output_type": "stream",
     "text": [
      "[\u001b[1mtardis.simulation.base\u001b[0m][\u001b[1;37mINFO\u001b[0m   ]  \n",
      "\t\n",
      "\tPlasma stratification: (\u001b[1mbase.py\u001b[0m:597)\n"
     ]
    },
    {
     "data": {
      "text/html": [
       "<style type=\"text/css\">\n",
       "</style>\n",
       "<table id=\"T_fb94c\">\n",
       "  <thead>\n",
       "    <tr>\n",
       "      <th class=\"index_name level0\" >Shell No.</th>\n",
       "      <th id=\"T_fb94c_level0_col0\" class=\"col_heading level0 col0\" >t_rad</th>\n",
       "      <th id=\"T_fb94c_level0_col1\" class=\"col_heading level0 col1\" >next_t_rad</th>\n",
       "      <th id=\"T_fb94c_level0_col2\" class=\"col_heading level0 col2\" >w</th>\n",
       "      <th id=\"T_fb94c_level0_col3\" class=\"col_heading level0 col3\" >next_w</th>\n",
       "    </tr>\n",
       "  </thead>\n",
       "  <tbody>\n",
       "    <tr>\n",
       "      <th id=\"T_fb94c_level0_row0\" class=\"row_heading level0 row0\" >0</th>\n",
       "      <td id=\"T_fb94c_row0_col0\" class=\"data row0 col0\" >1.1e+04 K</td>\n",
       "      <td id=\"T_fb94c_row0_col1\" class=\"data row0 col1\" >1.1e+04 K</td>\n",
       "      <td id=\"T_fb94c_row0_col2\" class=\"data row0 col2\" >0.483</td>\n",
       "      <td id=\"T_fb94c_row0_col3\" class=\"data row0 col3\" >0.469</td>\n",
       "    </tr>\n",
       "    <tr>\n",
       "      <th id=\"T_fb94c_level0_row1\" class=\"row_heading level0 row1\" >5</th>\n",
       "      <td id=\"T_fb94c_row1_col0\" class=\"data row1 col0\" >1.12e+04 K</td>\n",
       "      <td id=\"T_fb94c_row1_col1\" class=\"data row1 col1\" >1.12e+04 K</td>\n",
       "      <td id=\"T_fb94c_row1_col2\" class=\"data row1 col2\" >0.189</td>\n",
       "      <td id=\"T_fb94c_row1_col3\" class=\"data row1 col3\" >0.182</td>\n",
       "    </tr>\n",
       "    <tr>\n",
       "      <th id=\"T_fb94c_level0_row2\" class=\"row_heading level0 row2\" >10</th>\n",
       "      <td id=\"T_fb94c_row2_col0\" class=\"data row2 col0\" >1.1e+04 K</td>\n",
       "      <td id=\"T_fb94c_row2_col1\" class=\"data row2 col1\" >1.1e+04 K</td>\n",
       "      <td id=\"T_fb94c_row2_col2\" class=\"data row2 col2\" >0.118</td>\n",
       "      <td id=\"T_fb94c_row2_col3\" class=\"data row2 col3\" >0.113</td>\n",
       "    </tr>\n",
       "    <tr>\n",
       "      <th id=\"T_fb94c_level0_row3\" class=\"row_heading level0 row3\" >15</th>\n",
       "      <td id=\"T_fb94c_row3_col0\" class=\"data row3 col0\" >1.06e+04 K</td>\n",
       "      <td id=\"T_fb94c_row3_col1\" class=\"data row3 col1\" >1.07e+04 K</td>\n",
       "      <td id=\"T_fb94c_row3_col2\" class=\"data row3 col2\" >0.0895</td>\n",
       "      <td id=\"T_fb94c_row3_col3\" class=\"data row3 col3\" >0.0861</td>\n",
       "    </tr>\n",
       "  </tbody>\n",
       "</table>\n"
      ],
      "text/plain": [
       "<pandas.io.formats.style.Styler at 0x7fd22ee00680>"
      ]
     },
     "metadata": {},
     "output_type": "display_data"
    },
    {
     "name": "stdout",
     "output_type": "stream",
     "text": [
      "[\u001b[1mtardis.simulation.base\u001b[0m][\u001b[1;37mINFO\u001b[0m   ]  \n",
      "\t\n",
      "\tCurrent t_inner = 10635.953 K\n",
      "\tExpected t_inner for next iteration = 10638.407 K\n",
      " (\u001b[1mbase.py\u001b[0m:624)\n"
     ]
    },
    {
     "name": "stdout",
     "output_type": "stream",
     "text": [
      "[\u001b[1mtardis.simulation.base\u001b[0m][\u001b[1;37mINFO\u001b[0m   ]  \n",
      "\t\n",
      "\tStarting iteration 5 of 20 (\u001b[1mbase.py\u001b[0m:438)\n"
     ]
    },
    {
     "name": "stdout",
     "output_type": "stream",
     "text": [
      "[\u001b[1mtardis.simulation.base\u001b[0m][\u001b[1;37mINFO\u001b[0m   ]  \n",
      "\t\n",
      "\tLuminosity emitted   = 1.055e+43 erg / s\n",
      "\tLuminosity absorbed  = 3.399e+42 erg / s\n",
      "\tLuminosity requested = 1.059e+43 erg / s\n",
      " (\u001b[1mbase.py\u001b[0m:629)\n"
     ]
    },
    {
     "name": "stdout",
     "output_type": "stream",
     "text": [
      "[\u001b[1mtardis.simulation.base\u001b[0m][\u001b[1;37mINFO\u001b[0m   ]  \n",
      "\tIteration converged 3/4 consecutive times. (\u001b[1mbase.py\u001b[0m:250)\n"
     ]
    },
    {
     "name": "stdout",
     "output_type": "stream",
     "text": [
      "[\u001b[1mtardis.simulation.base\u001b[0m][\u001b[1;37mINFO\u001b[0m   ]  \n",
      "\t\n",
      "\tPlasma stratification: (\u001b[1mbase.py\u001b[0m:597)\n"
     ]
    },
    {
     "data": {
      "text/html": [
       "<style type=\"text/css\">\n",
       "</style>\n",
       "<table id=\"T_d0b0d\">\n",
       "  <thead>\n",
       "    <tr>\n",
       "      <th class=\"index_name level0\" >Shell No.</th>\n",
       "      <th id=\"T_d0b0d_level0_col0\" class=\"col_heading level0 col0\" >t_rad</th>\n",
       "      <th id=\"T_d0b0d_level0_col1\" class=\"col_heading level0 col1\" >next_t_rad</th>\n",
       "      <th id=\"T_d0b0d_level0_col2\" class=\"col_heading level0 col2\" >w</th>\n",
       "      <th id=\"T_d0b0d_level0_col3\" class=\"col_heading level0 col3\" >next_w</th>\n",
       "    </tr>\n",
       "  </thead>\n",
       "  <tbody>\n",
       "    <tr>\n",
       "      <th id=\"T_d0b0d_level0_row0\" class=\"row_heading level0 row0\" >0</th>\n",
       "      <td id=\"T_d0b0d_row0_col0\" class=\"data row0 col0\" >1.1e+04 K</td>\n",
       "      <td id=\"T_d0b0d_row0_col1\" class=\"data row0 col1\" >1.1e+04 K</td>\n",
       "      <td id=\"T_d0b0d_row0_col2\" class=\"data row0 col2\" >0.469</td>\n",
       "      <td id=\"T_d0b0d_row0_col3\" class=\"data row0 col3\" >0.479</td>\n",
       "    </tr>\n",
       "    <tr>\n",
       "      <th id=\"T_d0b0d_level0_row1\" class=\"row_heading level0 row1\" >5</th>\n",
       "      <td id=\"T_d0b0d_row1_col0\" class=\"data row1 col0\" >1.12e+04 K</td>\n",
       "      <td id=\"T_d0b0d_row1_col1\" class=\"data row1 col1\" >1.13e+04 K</td>\n",
       "      <td id=\"T_d0b0d_row1_col2\" class=\"data row1 col2\" >0.182</td>\n",
       "      <td id=\"T_d0b0d_row1_col3\" class=\"data row1 col3\" >0.178</td>\n",
       "    </tr>\n",
       "    <tr>\n",
       "      <th id=\"T_d0b0d_level0_row2\" class=\"row_heading level0 row2\" >10</th>\n",
       "      <td id=\"T_d0b0d_row2_col0\" class=\"data row2 col0\" >1.1e+04 K</td>\n",
       "      <td id=\"T_d0b0d_row2_col1\" class=\"data row2 col1\" >1.1e+04 K</td>\n",
       "      <td id=\"T_d0b0d_row2_col2\" class=\"data row2 col2\" >0.113</td>\n",
       "      <td id=\"T_d0b0d_row2_col3\" class=\"data row2 col3\" >0.113</td>\n",
       "    </tr>\n",
       "    <tr>\n",
       "      <th id=\"T_d0b0d_level0_row3\" class=\"row_heading level0 row3\" >15</th>\n",
       "      <td id=\"T_d0b0d_row3_col0\" class=\"data row3 col0\" >1.07e+04 K</td>\n",
       "      <td id=\"T_d0b0d_row3_col1\" class=\"data row3 col1\" >1.07e+04 K</td>\n",
       "      <td id=\"T_d0b0d_row3_col2\" class=\"data row3 col2\" >0.0861</td>\n",
       "      <td id=\"T_d0b0d_row3_col3\" class=\"data row3 col3\" >0.0839</td>\n",
       "    </tr>\n",
       "  </tbody>\n",
       "</table>\n"
      ],
      "text/plain": [
       "<pandas.io.formats.style.Styler at 0x7fd229d492e0>"
      ]
     },
     "metadata": {},
     "output_type": "display_data"
    },
    {
     "name": "stdout",
     "output_type": "stream",
     "text": [
      "[\u001b[1mtardis.simulation.base\u001b[0m][\u001b[1;37mINFO\u001b[0m   ]  \n",
      "\t\n",
      "\tCurrent t_inner = 10638.407 K\n",
      "\tExpected t_inner for next iteration = 10650.202 K\n",
      " (\u001b[1mbase.py\u001b[0m:624)\n"
     ]
    },
    {
     "name": "stdout",
     "output_type": "stream",
     "text": [
      "[\u001b[1mtardis.simulation.base\u001b[0m][\u001b[1;37mINFO\u001b[0m   ]  \n",
      "\t\n",
      "\tStarting iteration 6 of 20 (\u001b[1mbase.py\u001b[0m:438)\n"
     ]
    },
    {
     "name": "stdout",
     "output_type": "stream",
     "text": [
      "[\u001b[1mtardis.simulation.base\u001b[0m][\u001b[1;37mINFO\u001b[0m   ]  \n",
      "\t\n",
      "\tLuminosity emitted   = 1.061e+43 erg / s\n",
      "\tLuminosity absorbed  = 3.398e+42 erg / s\n",
      "\tLuminosity requested = 1.059e+43 erg / s\n",
      " (\u001b[1mbase.py\u001b[0m:629)\n"
     ]
    },
    {
     "name": "stdout",
     "output_type": "stream",
     "text": [
      "[\u001b[1mtardis.simulation.base\u001b[0m][\u001b[1;37mINFO\u001b[0m   ]  \n",
      "\tIteration converged 4/4 consecutive times. (\u001b[1mbase.py\u001b[0m:250)\n"
     ]
    },
    {
     "name": "stdout",
     "output_type": "stream",
     "text": [
      "[\u001b[1mtardis.simulation.base\u001b[0m][\u001b[1;37mINFO\u001b[0m   ]  \n",
      "\t\n",
      "\tPlasma stratification: (\u001b[1mbase.py\u001b[0m:597)\n"
     ]
    },
    {
     "data": {
      "text/html": [
       "<style type=\"text/css\">\n",
       "</style>\n",
       "<table id=\"T_de3d3\">\n",
       "  <thead>\n",
       "    <tr>\n",
       "      <th class=\"index_name level0\" >Shell No.</th>\n",
       "      <th id=\"T_de3d3_level0_col0\" class=\"col_heading level0 col0\" >t_rad</th>\n",
       "      <th id=\"T_de3d3_level0_col1\" class=\"col_heading level0 col1\" >next_t_rad</th>\n",
       "      <th id=\"T_de3d3_level0_col2\" class=\"col_heading level0 col2\" >w</th>\n",
       "      <th id=\"T_de3d3_level0_col3\" class=\"col_heading level0 col3\" >next_w</th>\n",
       "    </tr>\n",
       "  </thead>\n",
       "  <tbody>\n",
       "    <tr>\n",
       "      <th id=\"T_de3d3_level0_row0\" class=\"row_heading level0 row0\" >0</th>\n",
       "      <td id=\"T_de3d3_row0_col0\" class=\"data row0 col0\" >1.1e+04 K</td>\n",
       "      <td id=\"T_de3d3_row0_col1\" class=\"data row0 col1\" >1.1e+04 K</td>\n",
       "      <td id=\"T_de3d3_row0_col2\" class=\"data row0 col2\" >0.479</td>\n",
       "      <td id=\"T_de3d3_row0_col3\" class=\"data row0 col3\" >0.47</td>\n",
       "    </tr>\n",
       "    <tr>\n",
       "      <th id=\"T_de3d3_level0_row1\" class=\"row_heading level0 row1\" >5</th>\n",
       "      <td id=\"T_de3d3_row1_col0\" class=\"data row1 col0\" >1.13e+04 K</td>\n",
       "      <td id=\"T_de3d3_row1_col1\" class=\"data row1 col1\" >1.12e+04 K</td>\n",
       "      <td id=\"T_de3d3_row1_col2\" class=\"data row1 col2\" >0.178</td>\n",
       "      <td id=\"T_de3d3_row1_col3\" class=\"data row1 col3\" >0.185</td>\n",
       "    </tr>\n",
       "    <tr>\n",
       "      <th id=\"T_de3d3_level0_row2\" class=\"row_heading level0 row2\" >10</th>\n",
       "      <td id=\"T_de3d3_row2_col0\" class=\"data row2 col0\" >1.1e+04 K</td>\n",
       "      <td id=\"T_de3d3_row2_col1\" class=\"data row2 col1\" >1.11e+04 K</td>\n",
       "      <td id=\"T_de3d3_row2_col2\" class=\"data row2 col2\" >0.113</td>\n",
       "      <td id=\"T_de3d3_row2_col3\" class=\"data row2 col3\" >0.112</td>\n",
       "    </tr>\n",
       "    <tr>\n",
       "      <th id=\"T_de3d3_level0_row3\" class=\"row_heading level0 row3\" >15</th>\n",
       "      <td id=\"T_de3d3_row3_col0\" class=\"data row3 col0\" >1.07e+04 K</td>\n",
       "      <td id=\"T_de3d3_row3_col1\" class=\"data row3 col1\" >1.07e+04 K</td>\n",
       "      <td id=\"T_de3d3_row3_col2\" class=\"data row3 col2\" >0.0839</td>\n",
       "      <td id=\"T_de3d3_row3_col3\" class=\"data row3 col3\" >0.0856</td>\n",
       "    </tr>\n",
       "  </tbody>\n",
       "</table>\n"
      ],
      "text/plain": [
       "<pandas.io.formats.style.Styler at 0x7fd229d492e0>"
      ]
     },
     "metadata": {},
     "output_type": "display_data"
    },
    {
     "name": "stdout",
     "output_type": "stream",
     "text": [
      "[\u001b[1mtardis.simulation.base\u001b[0m][\u001b[1;37mINFO\u001b[0m   ]  \n",
      "\t\n",
      "\tCurrent t_inner = 10650.202 K\n",
      "\tExpected t_inner for next iteration = 10645.955 K\n",
      " (\u001b[1mbase.py\u001b[0m:624)\n"
     ]
    },
    {
     "name": "stdout",
     "output_type": "stream",
     "text": [
      "[\u001b[1mtardis.simulation.base\u001b[0m][\u001b[1;37mINFO\u001b[0m   ]  \n",
      "\t\n",
      "\tStarting iteration 7 of 20 (\u001b[1mbase.py\u001b[0m:438)\n"
     ]
    },
    {
     "name": "stdout",
     "output_type": "stream",
     "text": [
      "[\u001b[1mtardis.simulation.base\u001b[0m][\u001b[1;37mINFO\u001b[0m   ]  \n",
      "\t\n",
      "\tLuminosity emitted   = 1.061e+43 erg / s\n",
      "\tLuminosity absorbed  = 3.382e+42 erg / s\n",
      "\tLuminosity requested = 1.059e+43 erg / s\n",
      " (\u001b[1mbase.py\u001b[0m:629)\n"
     ]
    },
    {
     "name": "stdout",
     "output_type": "stream",
     "text": [
      "[\u001b[1mtardis.simulation.base\u001b[0m][\u001b[1;37mINFO\u001b[0m   ]  \n",
      "\tIteration converged 5/4 consecutive times. (\u001b[1mbase.py\u001b[0m:250)\n"
     ]
    },
    {
     "name": "stdout",
     "output_type": "stream",
     "text": [
      "[\u001b[1mtardis.simulation.base\u001b[0m][\u001b[1;37mINFO\u001b[0m   ]  \n",
      "\t\n",
      "\tPlasma stratification: (\u001b[1mbase.py\u001b[0m:597)\n"
     ]
    },
    {
     "data": {
      "text/html": [
       "<style type=\"text/css\">\n",
       "</style>\n",
       "<table id=\"T_2c788\">\n",
       "  <thead>\n",
       "    <tr>\n",
       "      <th class=\"index_name level0\" >Shell No.</th>\n",
       "      <th id=\"T_2c788_level0_col0\" class=\"col_heading level0 col0\" >t_rad</th>\n",
       "      <th id=\"T_2c788_level0_col1\" class=\"col_heading level0 col1\" >next_t_rad</th>\n",
       "      <th id=\"T_2c788_level0_col2\" class=\"col_heading level0 col2\" >w</th>\n",
       "      <th id=\"T_2c788_level0_col3\" class=\"col_heading level0 col3\" >next_w</th>\n",
       "    </tr>\n",
       "  </thead>\n",
       "  <tbody>\n",
       "    <tr>\n",
       "      <th id=\"T_2c788_level0_row0\" class=\"row_heading level0 row0\" >0</th>\n",
       "      <td id=\"T_2c788_row0_col0\" class=\"data row0 col0\" >1.1e+04 K</td>\n",
       "      <td id=\"T_2c788_row0_col1\" class=\"data row0 col1\" >1.1e+04 K</td>\n",
       "      <td id=\"T_2c788_row0_col2\" class=\"data row0 col2\" >0.47</td>\n",
       "      <td id=\"T_2c788_row0_col3\" class=\"data row0 col3\" >0.47</td>\n",
       "    </tr>\n",
       "    <tr>\n",
       "      <th id=\"T_2c788_level0_row1\" class=\"row_heading level0 row1\" >5</th>\n",
       "      <td id=\"T_2c788_row1_col0\" class=\"data row1 col0\" >1.12e+04 K</td>\n",
       "      <td id=\"T_2c788_row1_col1\" class=\"data row1 col1\" >1.13e+04 K</td>\n",
       "      <td id=\"T_2c788_row1_col2\" class=\"data row1 col2\" >0.185</td>\n",
       "      <td id=\"T_2c788_row1_col3\" class=\"data row1 col3\" >0.178</td>\n",
       "    </tr>\n",
       "    <tr>\n",
       "      <th id=\"T_2c788_level0_row2\" class=\"row_heading level0 row2\" >10</th>\n",
       "      <td id=\"T_2c788_row2_col0\" class=\"data row2 col0\" >1.11e+04 K</td>\n",
       "      <td id=\"T_2c788_row2_col1\" class=\"data row2 col1\" >1.11e+04 K</td>\n",
       "      <td id=\"T_2c788_row2_col2\" class=\"data row2 col2\" >0.112</td>\n",
       "      <td id=\"T_2c788_row2_col3\" class=\"data row2 col3\" >0.112</td>\n",
       "    </tr>\n",
       "    <tr>\n",
       "      <th id=\"T_2c788_level0_row3\" class=\"row_heading level0 row3\" >15</th>\n",
       "      <td id=\"T_2c788_row3_col0\" class=\"data row3 col0\" >1.07e+04 K</td>\n",
       "      <td id=\"T_2c788_row3_col1\" class=\"data row3 col1\" >1.07e+04 K</td>\n",
       "      <td id=\"T_2c788_row3_col2\" class=\"data row3 col2\" >0.0856</td>\n",
       "      <td id=\"T_2c788_row3_col3\" class=\"data row3 col3\" >0.086</td>\n",
       "    </tr>\n",
       "  </tbody>\n",
       "</table>\n"
      ],
      "text/plain": [
       "<pandas.io.formats.style.Styler at 0x7fd22a58ac00>"
      ]
     },
     "metadata": {},
     "output_type": "display_data"
    },
    {
     "name": "stdout",
     "output_type": "stream",
     "text": [
      "[\u001b[1mtardis.simulation.base\u001b[0m][\u001b[1;37mINFO\u001b[0m   ]  \n",
      "\t\n",
      "\tCurrent t_inner = 10645.955 K\n",
      "\tExpected t_inner for next iteration = 10642.050 K\n",
      " (\u001b[1mbase.py\u001b[0m:624)\n"
     ]
    },
    {
     "name": "stdout",
     "output_type": "stream",
     "text": [
      "[\u001b[1mtardis.simulation.base\u001b[0m][\u001b[1;37mINFO\u001b[0m   ]  \n",
      "\t\n",
      "\tStarting iteration 8 of 20 (\u001b[1mbase.py\u001b[0m:438)\n"
     ]
    },
    {
     "name": "stdout",
     "output_type": "stream",
     "text": [
      "[\u001b[1mtardis.simulation.base\u001b[0m][\u001b[1;37mINFO\u001b[0m   ]  \n",
      "\t\n",
      "\tLuminosity emitted   = 1.062e+43 erg / s\n",
      "\tLuminosity absorbed  = 3.350e+42 erg / s\n",
      "\tLuminosity requested = 1.059e+43 erg / s\n",
      " (\u001b[1mbase.py\u001b[0m:629)\n"
     ]
    },
    {
     "name": "stdout",
     "output_type": "stream",
     "text": [
      "[\u001b[1mtardis.simulation.base\u001b[0m][\u001b[1;37mINFO\u001b[0m   ]  \n",
      "\tIteration converged 6/4 consecutive times. (\u001b[1mbase.py\u001b[0m:250)\n"
     ]
    },
    {
     "name": "stdout",
     "output_type": "stream",
     "text": [
      "[\u001b[1mtardis.simulation.base\u001b[0m][\u001b[1;37mINFO\u001b[0m   ]  \n",
      "\t\n",
      "\tPlasma stratification: (\u001b[1mbase.py\u001b[0m:597)\n"
     ]
    },
    {
     "data": {
      "text/html": [
       "<style type=\"text/css\">\n",
       "</style>\n",
       "<table id=\"T_011f0\">\n",
       "  <thead>\n",
       "    <tr>\n",
       "      <th class=\"index_name level0\" >Shell No.</th>\n",
       "      <th id=\"T_011f0_level0_col0\" class=\"col_heading level0 col0\" >t_rad</th>\n",
       "      <th id=\"T_011f0_level0_col1\" class=\"col_heading level0 col1\" >next_t_rad</th>\n",
       "      <th id=\"T_011f0_level0_col2\" class=\"col_heading level0 col2\" >w</th>\n",
       "      <th id=\"T_011f0_level0_col3\" class=\"col_heading level0 col3\" >next_w</th>\n",
       "    </tr>\n",
       "  </thead>\n",
       "  <tbody>\n",
       "    <tr>\n",
       "      <th id=\"T_011f0_level0_row0\" class=\"row_heading level0 row0\" >0</th>\n",
       "      <td id=\"T_011f0_row0_col0\" class=\"data row0 col0\" >1.1e+04 K</td>\n",
       "      <td id=\"T_011f0_row0_col1\" class=\"data row0 col1\" >1.11e+04 K</td>\n",
       "      <td id=\"T_011f0_row0_col2\" class=\"data row0 col2\" >0.47</td>\n",
       "      <td id=\"T_011f0_row0_col3\" class=\"data row0 col3\" >0.472</td>\n",
       "    </tr>\n",
       "    <tr>\n",
       "      <th id=\"T_011f0_level0_row1\" class=\"row_heading level0 row1\" >5</th>\n",
       "      <td id=\"T_011f0_row1_col0\" class=\"data row1 col0\" >1.13e+04 K</td>\n",
       "      <td id=\"T_011f0_row1_col1\" class=\"data row1 col1\" >1.14e+04 K</td>\n",
       "      <td id=\"T_011f0_row1_col2\" class=\"data row1 col2\" >0.178</td>\n",
       "      <td id=\"T_011f0_row1_col3\" class=\"data row1 col3\" >0.175</td>\n",
       "    </tr>\n",
       "    <tr>\n",
       "      <th id=\"T_011f0_level0_row2\" class=\"row_heading level0 row2\" >10</th>\n",
       "      <td id=\"T_011f0_row2_col0\" class=\"data row2 col0\" >1.11e+04 K</td>\n",
       "      <td id=\"T_011f0_row2_col1\" class=\"data row2 col1\" >1.11e+04 K</td>\n",
       "      <td id=\"T_011f0_row2_col2\" class=\"data row2 col2\" >0.112</td>\n",
       "      <td id=\"T_011f0_row2_col3\" class=\"data row2 col3\" >0.111</td>\n",
       "    </tr>\n",
       "    <tr>\n",
       "      <th id=\"T_011f0_level0_row3\" class=\"row_heading level0 row3\" >15</th>\n",
       "      <td id=\"T_011f0_row3_col0\" class=\"data row3 col0\" >1.07e+04 K</td>\n",
       "      <td id=\"T_011f0_row3_col1\" class=\"data row3 col1\" >1.07e+04 K</td>\n",
       "      <td id=\"T_011f0_row3_col2\" class=\"data row3 col2\" >0.086</td>\n",
       "      <td id=\"T_011f0_row3_col3\" class=\"data row3 col3\" >0.084</td>\n",
       "    </tr>\n",
       "  </tbody>\n",
       "</table>\n"
      ],
      "text/plain": [
       "<pandas.io.formats.style.Styler at 0x7fd22ec02810>"
      ]
     },
     "metadata": {},
     "output_type": "display_data"
    },
    {
     "name": "stdout",
     "output_type": "stream",
     "text": [
      "[\u001b[1mtardis.simulation.base\u001b[0m][\u001b[1;37mINFO\u001b[0m   ]  \n",
      "\t\n",
      "\tCurrent t_inner = 10642.050 K\n",
      "\tExpected t_inner for next iteration = 10636.106 K\n",
      " (\u001b[1mbase.py\u001b[0m:624)\n"
     ]
    },
    {
     "name": "stdout",
     "output_type": "stream",
     "text": [
      "[\u001b[1mtardis.simulation.base\u001b[0m][\u001b[1;37mINFO\u001b[0m   ]  \n",
      "\t\n",
      "\tStarting iteration 9 of 20 (\u001b[1mbase.py\u001b[0m:438)\n"
     ]
    },
    {
     "name": "stdout",
     "output_type": "stream",
     "text": [
      "[\u001b[1mtardis.simulation.base\u001b[0m][\u001b[1;37mINFO\u001b[0m   ]  \n",
      "\t\n",
      "\tLuminosity emitted   = 1.052e+43 erg / s\n",
      "\tLuminosity absorbed  = 3.411e+42 erg / s\n",
      "\tLuminosity requested = 1.059e+43 erg / s\n",
      " (\u001b[1mbase.py\u001b[0m:629)\n"
     ]
    },
    {
     "name": "stdout",
     "output_type": "stream",
     "text": [
      "[\u001b[1mtardis.simulation.base\u001b[0m][\u001b[1;37mINFO\u001b[0m   ]  \n",
      "\tIteration converged 7/4 consecutive times. (\u001b[1mbase.py\u001b[0m:250)\n"
     ]
    },
    {
     "name": "stdout",
     "output_type": "stream",
     "text": [
      "[\u001b[1mtardis.simulation.base\u001b[0m][\u001b[1;37mINFO\u001b[0m   ]  \n",
      "\t\n",
      "\tPlasma stratification: (\u001b[1mbase.py\u001b[0m:597)\n"
     ]
    },
    {
     "data": {
      "text/html": [
       "<style type=\"text/css\">\n",
       "</style>\n",
       "<table id=\"T_e2a39\">\n",
       "  <thead>\n",
       "    <tr>\n",
       "      <th class=\"index_name level0\" >Shell No.</th>\n",
       "      <th id=\"T_e2a39_level0_col0\" class=\"col_heading level0 col0\" >t_rad</th>\n",
       "      <th id=\"T_e2a39_level0_col1\" class=\"col_heading level0 col1\" >next_t_rad</th>\n",
       "      <th id=\"T_e2a39_level0_col2\" class=\"col_heading level0 col2\" >w</th>\n",
       "      <th id=\"T_e2a39_level0_col3\" class=\"col_heading level0 col3\" >next_w</th>\n",
       "    </tr>\n",
       "  </thead>\n",
       "  <tbody>\n",
       "    <tr>\n",
       "      <th id=\"T_e2a39_level0_row0\" class=\"row_heading level0 row0\" >0</th>\n",
       "      <td id=\"T_e2a39_row0_col0\" class=\"data row0 col0\" >1.11e+04 K</td>\n",
       "      <td id=\"T_e2a39_row0_col1\" class=\"data row0 col1\" >1.11e+04 K</td>\n",
       "      <td id=\"T_e2a39_row0_col2\" class=\"data row0 col2\" >0.472</td>\n",
       "      <td id=\"T_e2a39_row0_col3\" class=\"data row0 col3\" >0.469</td>\n",
       "    </tr>\n",
       "    <tr>\n",
       "      <th id=\"T_e2a39_level0_row1\" class=\"row_heading level0 row1\" >5</th>\n",
       "      <td id=\"T_e2a39_row1_col0\" class=\"data row1 col0\" >1.14e+04 K</td>\n",
       "      <td id=\"T_e2a39_row1_col1\" class=\"data row1 col1\" >1.15e+04 K</td>\n",
       "      <td id=\"T_e2a39_row1_col2\" class=\"data row1 col2\" >0.175</td>\n",
       "      <td id=\"T_e2a39_row1_col3\" class=\"data row1 col3\" >0.17</td>\n",
       "    </tr>\n",
       "    <tr>\n",
       "      <th id=\"T_e2a39_level0_row2\" class=\"row_heading level0 row2\" >10</th>\n",
       "      <td id=\"T_e2a39_row2_col0\" class=\"data row2 col0\" >1.11e+04 K</td>\n",
       "      <td id=\"T_e2a39_row2_col1\" class=\"data row2 col1\" >1.11e+04 K</td>\n",
       "      <td id=\"T_e2a39_row2_col2\" class=\"data row2 col2\" >0.111</td>\n",
       "      <td id=\"T_e2a39_row2_col3\" class=\"data row2 col3\" >0.109</td>\n",
       "    </tr>\n",
       "    <tr>\n",
       "      <th id=\"T_e2a39_level0_row3\" class=\"row_heading level0 row3\" >15</th>\n",
       "      <td id=\"T_e2a39_row3_col0\" class=\"data row3 col0\" >1.07e+04 K</td>\n",
       "      <td id=\"T_e2a39_row3_col1\" class=\"data row3 col1\" >1.08e+04 K</td>\n",
       "      <td id=\"T_e2a39_row3_col2\" class=\"data row3 col2\" >0.084</td>\n",
       "      <td id=\"T_e2a39_row3_col3\" class=\"data row3 col3\" >0.0822</td>\n",
       "    </tr>\n",
       "  </tbody>\n",
       "</table>\n"
      ],
      "text/plain": [
       "<pandas.io.formats.style.Styler at 0x7fd22ec02630>"
      ]
     },
     "metadata": {},
     "output_type": "display_data"
    },
    {
     "name": "stdout",
     "output_type": "stream",
     "text": [
      "[\u001b[1mtardis.simulation.base\u001b[0m][\u001b[1;37mINFO\u001b[0m   ]  \n",
      "\t\n",
      "\tCurrent t_inner = 10636.106 K\n",
      "\tExpected t_inner for next iteration = 10654.313 K\n",
      " (\u001b[1mbase.py\u001b[0m:624)\n"
     ]
    },
    {
     "name": "stdout",
     "output_type": "stream",
     "text": [
      "[\u001b[1mtardis.simulation.base\u001b[0m][\u001b[1;37mINFO\u001b[0m   ]  \n",
      "\t\n",
      "\tStarting iteration 10 of 20 (\u001b[1mbase.py\u001b[0m:438)\n"
     ]
    },
    {
     "name": "stdout",
     "output_type": "stream",
     "text": [
      "[\u001b[1mtardis.simulation.base\u001b[0m][\u001b[1;37mINFO\u001b[0m   ]  \n",
      "\t\n",
      "\tLuminosity emitted   = 1.070e+43 erg / s\n",
      "\tLuminosity absorbed  = 3.335e+42 erg / s\n",
      "\tLuminosity requested = 1.059e+43 erg / s\n",
      " (\u001b[1mbase.py\u001b[0m:629)\n"
     ]
    },
    {
     "name": "stdout",
     "output_type": "stream",
     "text": [
      "[\u001b[1mtardis.simulation.base\u001b[0m][\u001b[1;37mINFO\u001b[0m   ]  \n",
      "\tIteration converged 8/4 consecutive times. (\u001b[1mbase.py\u001b[0m:250)\n"
     ]
    },
    {
     "name": "stdout",
     "output_type": "stream",
     "text": [
      "[\u001b[1mtardis.simulation.base\u001b[0m][\u001b[1;37mINFO\u001b[0m   ]  \n",
      "\t\n",
      "\tPlasma stratification: (\u001b[1mbase.py\u001b[0m:597)\n"
     ]
    },
    {
     "data": {
      "text/html": [
       "<style type=\"text/css\">\n",
       "</style>\n",
       "<table id=\"T_1d564\">\n",
       "  <thead>\n",
       "    <tr>\n",
       "      <th class=\"index_name level0\" >Shell No.</th>\n",
       "      <th id=\"T_1d564_level0_col0\" class=\"col_heading level0 col0\" >t_rad</th>\n",
       "      <th id=\"T_1d564_level0_col1\" class=\"col_heading level0 col1\" >next_t_rad</th>\n",
       "      <th id=\"T_1d564_level0_col2\" class=\"col_heading level0 col2\" >w</th>\n",
       "      <th id=\"T_1d564_level0_col3\" class=\"col_heading level0 col3\" >next_w</th>\n",
       "    </tr>\n",
       "  </thead>\n",
       "  <tbody>\n",
       "    <tr>\n",
       "      <th id=\"T_1d564_level0_row0\" class=\"row_heading level0 row0\" >0</th>\n",
       "      <td id=\"T_1d564_row0_col0\" class=\"data row0 col0\" >1.11e+04 K</td>\n",
       "      <td id=\"T_1d564_row0_col1\" class=\"data row0 col1\" >1.1e+04 K</td>\n",
       "      <td id=\"T_1d564_row0_col2\" class=\"data row0 col2\" >0.469</td>\n",
       "      <td id=\"T_1d564_row0_col3\" class=\"data row0 col3\" >0.475</td>\n",
       "    </tr>\n",
       "    <tr>\n",
       "      <th id=\"T_1d564_level0_row1\" class=\"row_heading level0 row1\" >5</th>\n",
       "      <td id=\"T_1d564_row1_col0\" class=\"data row1 col0\" >1.15e+04 K</td>\n",
       "      <td id=\"T_1d564_row1_col1\" class=\"data row1 col1\" >1.14e+04 K</td>\n",
       "      <td id=\"T_1d564_row1_col2\" class=\"data row1 col2\" >0.17</td>\n",
       "      <td id=\"T_1d564_row1_col3\" class=\"data row1 col3\" >0.177</td>\n",
       "    </tr>\n",
       "    <tr>\n",
       "      <th id=\"T_1d564_level0_row2\" class=\"row_heading level0 row2\" >10</th>\n",
       "      <td id=\"T_1d564_row2_col0\" class=\"data row2 col0\" >1.11e+04 K</td>\n",
       "      <td id=\"T_1d564_row2_col1\" class=\"data row2 col1\" >1.11e+04 K</td>\n",
       "      <td id=\"T_1d564_row2_col2\" class=\"data row2 col2\" >0.109</td>\n",
       "      <td id=\"T_1d564_row2_col3\" class=\"data row2 col3\" >0.112</td>\n",
       "    </tr>\n",
       "    <tr>\n",
       "      <th id=\"T_1d564_level0_row3\" class=\"row_heading level0 row3\" >15</th>\n",
       "      <td id=\"T_1d564_row3_col0\" class=\"data row3 col0\" >1.08e+04 K</td>\n",
       "      <td id=\"T_1d564_row3_col1\" class=\"data row3 col1\" >1.06e+04 K</td>\n",
       "      <td id=\"T_1d564_row3_col2\" class=\"data row3 col2\" >0.0822</td>\n",
       "      <td id=\"T_1d564_row3_col3\" class=\"data row3 col3\" >0.0878</td>\n",
       "    </tr>\n",
       "  </tbody>\n",
       "</table>\n"
      ],
      "text/plain": [
       "<pandas.io.formats.style.Styler at 0x7fd22ec03a70>"
      ]
     },
     "metadata": {},
     "output_type": "display_data"
    },
    {
     "name": "stdout",
     "output_type": "stream",
     "text": [
      "[\u001b[1mtardis.simulation.base\u001b[0m][\u001b[1;37mINFO\u001b[0m   ]  \n",
      "\t\n",
      "\tCurrent t_inner = 10654.313 K\n",
      "\tExpected t_inner for next iteration = 10628.190 K\n",
      " (\u001b[1mbase.py\u001b[0m:624)\n"
     ]
    },
    {
     "name": "stdout",
     "output_type": "stream",
     "text": [
      "[\u001b[1mtardis.simulation.base\u001b[0m][\u001b[1;37mINFO\u001b[0m   ]  \n",
      "\t\n",
      "\tStarting iteration 11 of 20 (\u001b[1mbase.py\u001b[0m:438)\n"
     ]
    },
    {
     "name": "stdout",
     "output_type": "stream",
     "text": [
      "[\u001b[1mtardis.simulation.base\u001b[0m][\u001b[1;37mINFO\u001b[0m   ]  \n",
      "\t\n",
      "\tLuminosity emitted   = 1.053e+43 erg / s\n",
      "\tLuminosity absorbed  = 3.363e+42 erg / s\n",
      "\tLuminosity requested = 1.059e+43 erg / s\n",
      " (\u001b[1mbase.py\u001b[0m:629)\n"
     ]
    },
    {
     "name": "stdout",
     "output_type": "stream",
     "text": [
      "[\u001b[1mtardis.simulation.base\u001b[0m][\u001b[1;37mINFO\u001b[0m   ]  \n",
      "\tIteration converged 9/4 consecutive times. (\u001b[1mbase.py\u001b[0m:250)\n"
     ]
    },
    {
     "name": "stdout",
     "output_type": "stream",
     "text": [
      "[\u001b[1mtardis.simulation.base\u001b[0m][\u001b[1;37mINFO\u001b[0m   ]  \n",
      "\t\n",
      "\tPlasma stratification: (\u001b[1mbase.py\u001b[0m:597)\n"
     ]
    },
    {
     "data": {
      "text/html": [
       "<style type=\"text/css\">\n",
       "</style>\n",
       "<table id=\"T_2d7fa\">\n",
       "  <thead>\n",
       "    <tr>\n",
       "      <th class=\"index_name level0\" >Shell No.</th>\n",
       "      <th id=\"T_2d7fa_level0_col0\" class=\"col_heading level0 col0\" >t_rad</th>\n",
       "      <th id=\"T_2d7fa_level0_col1\" class=\"col_heading level0 col1\" >next_t_rad</th>\n",
       "      <th id=\"T_2d7fa_level0_col2\" class=\"col_heading level0 col2\" >w</th>\n",
       "      <th id=\"T_2d7fa_level0_col3\" class=\"col_heading level0 col3\" >next_w</th>\n",
       "    </tr>\n",
       "  </thead>\n",
       "  <tbody>\n",
       "    <tr>\n",
       "      <th id=\"T_2d7fa_level0_row0\" class=\"row_heading level0 row0\" >0</th>\n",
       "      <td id=\"T_2d7fa_row0_col0\" class=\"data row0 col0\" >1.1e+04 K</td>\n",
       "      <td id=\"T_2d7fa_row0_col1\" class=\"data row0 col1\" >1.1e+04 K</td>\n",
       "      <td id=\"T_2d7fa_row0_col2\" class=\"data row0 col2\" >0.475</td>\n",
       "      <td id=\"T_2d7fa_row0_col3\" class=\"data row0 col3\" >0.472</td>\n",
       "    </tr>\n",
       "    <tr>\n",
       "      <th id=\"T_2d7fa_level0_row1\" class=\"row_heading level0 row1\" >5</th>\n",
       "      <td id=\"T_2d7fa_row1_col0\" class=\"data row1 col0\" >1.14e+04 K</td>\n",
       "      <td id=\"T_2d7fa_row1_col1\" class=\"data row1 col1\" >1.12e+04 K</td>\n",
       "      <td id=\"T_2d7fa_row1_col2\" class=\"data row1 col2\" >0.177</td>\n",
       "      <td id=\"T_2d7fa_row1_col3\" class=\"data row1 col3\" >0.184</td>\n",
       "    </tr>\n",
       "    <tr>\n",
       "      <th id=\"T_2d7fa_level0_row2\" class=\"row_heading level0 row2\" >10</th>\n",
       "      <td id=\"T_2d7fa_row2_col0\" class=\"data row2 col0\" >1.11e+04 K</td>\n",
       "      <td id=\"T_2d7fa_row2_col1\" class=\"data row2 col1\" >1.1e+04 K</td>\n",
       "      <td id=\"T_2d7fa_row2_col2\" class=\"data row2 col2\" >0.112</td>\n",
       "      <td id=\"T_2d7fa_row2_col3\" class=\"data row2 col3\" >0.114</td>\n",
       "    </tr>\n",
       "    <tr>\n",
       "      <th id=\"T_2d7fa_level0_row3\" class=\"row_heading level0 row3\" >15</th>\n",
       "      <td id=\"T_2d7fa_row3_col0\" class=\"data row3 col0\" >1.06e+04 K</td>\n",
       "      <td id=\"T_2d7fa_row3_col1\" class=\"data row3 col1\" >1.06e+04 K</td>\n",
       "      <td id=\"T_2d7fa_row3_col2\" class=\"data row3 col2\" >0.0878</td>\n",
       "      <td id=\"T_2d7fa_row3_col3\" class=\"data row3 col3\" >0.0859</td>\n",
       "    </tr>\n",
       "  </tbody>\n",
       "</table>\n"
      ],
      "text/plain": [
       "<pandas.io.formats.style.Styler at 0x7fd22e805be0>"
      ]
     },
     "metadata": {},
     "output_type": "display_data"
    },
    {
     "name": "stdout",
     "output_type": "stream",
     "text": [
      "[\u001b[1mtardis.simulation.base\u001b[0m][\u001b[1;37mINFO\u001b[0m   ]  \n",
      "\t\n",
      "\tCurrent t_inner = 10628.190 K\n",
      "\tExpected t_inner for next iteration = 10644.054 K\n",
      " (\u001b[1mbase.py\u001b[0m:624)\n"
     ]
    },
    {
     "name": "stdout",
     "output_type": "stream",
     "text": [
      "[\u001b[1mtardis.simulation.base\u001b[0m][\u001b[1;37mINFO\u001b[0m   ]  \n",
      "\t\n",
      "\tStarting iteration 12 of 20 (\u001b[1mbase.py\u001b[0m:438)\n"
     ]
    },
    {
     "name": "stdout",
     "output_type": "stream",
     "text": [
      "[\u001b[1mtardis.simulation.base\u001b[0m][\u001b[1;37mINFO\u001b[0m   ]  \n",
      "\t\n",
      "\tLuminosity emitted   = 1.056e+43 erg / s\n",
      "\tLuminosity absorbed  = 3.420e+42 erg / s\n",
      "\tLuminosity requested = 1.059e+43 erg / s\n",
      " (\u001b[1mbase.py\u001b[0m:629)\n"
     ]
    },
    {
     "name": "stdout",
     "output_type": "stream",
     "text": [
      "[\u001b[1mtardis.simulation.base\u001b[0m][\u001b[1;37mINFO\u001b[0m   ]  \n",
      "\tIteration converged 10/4 consecutive times. (\u001b[1mbase.py\u001b[0m:250)\n"
     ]
    },
    {
     "name": "stdout",
     "output_type": "stream",
     "text": [
      "[\u001b[1mtardis.simulation.base\u001b[0m][\u001b[1;37mINFO\u001b[0m   ]  \n",
      "\t\n",
      "\tPlasma stratification: (\u001b[1mbase.py\u001b[0m:597)\n"
     ]
    },
    {
     "data": {
      "text/html": [
       "<style type=\"text/css\">\n",
       "</style>\n",
       "<table id=\"T_2c2f4\">\n",
       "  <thead>\n",
       "    <tr>\n",
       "      <th class=\"index_name level0\" >Shell No.</th>\n",
       "      <th id=\"T_2c2f4_level0_col0\" class=\"col_heading level0 col0\" >t_rad</th>\n",
       "      <th id=\"T_2c2f4_level0_col1\" class=\"col_heading level0 col1\" >next_t_rad</th>\n",
       "      <th id=\"T_2c2f4_level0_col2\" class=\"col_heading level0 col2\" >w</th>\n",
       "      <th id=\"T_2c2f4_level0_col3\" class=\"col_heading level0 col3\" >next_w</th>\n",
       "    </tr>\n",
       "  </thead>\n",
       "  <tbody>\n",
       "    <tr>\n",
       "      <th id=\"T_2c2f4_level0_row0\" class=\"row_heading level0 row0\" >0</th>\n",
       "      <td id=\"T_2c2f4_row0_col0\" class=\"data row0 col0\" >1.1e+04 K</td>\n",
       "      <td id=\"T_2c2f4_row0_col1\" class=\"data row0 col1\" >1.11e+04 K</td>\n",
       "      <td id=\"T_2c2f4_row0_col2\" class=\"data row0 col2\" >0.472</td>\n",
       "      <td id=\"T_2c2f4_row0_col3\" class=\"data row0 col3\" >0.467</td>\n",
       "    </tr>\n",
       "    <tr>\n",
       "      <th id=\"T_2c2f4_level0_row1\" class=\"row_heading level0 row1\" >5</th>\n",
       "      <td id=\"T_2c2f4_row1_col0\" class=\"data row1 col0\" >1.12e+04 K</td>\n",
       "      <td id=\"T_2c2f4_row1_col1\" class=\"data row1 col1\" >1.13e+04 K</td>\n",
       "      <td id=\"T_2c2f4_row1_col2\" class=\"data row1 col2\" >0.184</td>\n",
       "      <td id=\"T_2c2f4_row1_col3\" class=\"data row1 col3\" >0.176</td>\n",
       "    </tr>\n",
       "    <tr>\n",
       "      <th id=\"T_2c2f4_level0_row2\" class=\"row_heading level0 row2\" >10</th>\n",
       "      <td id=\"T_2c2f4_row2_col0\" class=\"data row2 col0\" >1.1e+04 K</td>\n",
       "      <td id=\"T_2c2f4_row2_col1\" class=\"data row2 col1\" >1.11e+04 K</td>\n",
       "      <td id=\"T_2c2f4_row2_col2\" class=\"data row2 col2\" >0.114</td>\n",
       "      <td id=\"T_2c2f4_row2_col3\" class=\"data row2 col3\" >0.11</td>\n",
       "    </tr>\n",
       "    <tr>\n",
       "      <th id=\"T_2c2f4_level0_row3\" class=\"row_heading level0 row3\" >15</th>\n",
       "      <td id=\"T_2c2f4_row3_col0\" class=\"data row3 col0\" >1.06e+04 K</td>\n",
       "      <td id=\"T_2c2f4_row3_col1\" class=\"data row3 col1\" >1.08e+04 K</td>\n",
       "      <td id=\"T_2c2f4_row3_col2\" class=\"data row3 col2\" >0.0859</td>\n",
       "      <td id=\"T_2c2f4_row3_col3\" class=\"data row3 col3\" >0.0821</td>\n",
       "    </tr>\n",
       "  </tbody>\n",
       "</table>\n"
      ],
      "text/plain": [
       "<pandas.io.formats.style.Styler at 0x7fd22a5894f0>"
      ]
     },
     "metadata": {},
     "output_type": "display_data"
    },
    {
     "name": "stdout",
     "output_type": "stream",
     "text": [
      "[\u001b[1mtardis.simulation.base\u001b[0m][\u001b[1;37mINFO\u001b[0m   ]  \n",
      "\t\n",
      "\tCurrent t_inner = 10644.054 K\n",
      "\tExpected t_inner for next iteration = 10653.543 K\n",
      " (\u001b[1mbase.py\u001b[0m:624)\n"
     ]
    },
    {
     "name": "stdout",
     "output_type": "stream",
     "text": [
      "[\u001b[1mtardis.simulation.base\u001b[0m][\u001b[1;37mINFO\u001b[0m   ]  \n",
      "\t\n",
      "\tStarting iteration 13 of 20 (\u001b[1mbase.py\u001b[0m:438)\n"
     ]
    },
    {
     "name": "stdout",
     "output_type": "stream",
     "text": [
      "[\u001b[1mtardis.simulation.base\u001b[0m][\u001b[1;37mINFO\u001b[0m   ]  \n",
      "\t\n",
      "\tLuminosity emitted   = 1.062e+43 erg / s\n",
      "\tLuminosity absorbed  = 3.406e+42 erg / s\n",
      "\tLuminosity requested = 1.059e+43 erg / s\n",
      " (\u001b[1mbase.py\u001b[0m:629)\n"
     ]
    },
    {
     "name": "stdout",
     "output_type": "stream",
     "text": [
      "[\u001b[1mtardis.simulation.base\u001b[0m][\u001b[1;37mINFO\u001b[0m   ]  \n",
      "\tIteration converged 11/4 consecutive times. (\u001b[1mbase.py\u001b[0m:250)\n"
     ]
    },
    {
     "name": "stdout",
     "output_type": "stream",
     "text": [
      "[\u001b[1mtardis.simulation.base\u001b[0m][\u001b[1;37mINFO\u001b[0m   ]  \n",
      "\t\n",
      "\tPlasma stratification: (\u001b[1mbase.py\u001b[0m:597)\n"
     ]
    },
    {
     "data": {
      "text/html": [
       "<style type=\"text/css\">\n",
       "</style>\n",
       "<table id=\"T_663fe\">\n",
       "  <thead>\n",
       "    <tr>\n",
       "      <th class=\"index_name level0\" >Shell No.</th>\n",
       "      <th id=\"T_663fe_level0_col0\" class=\"col_heading level0 col0\" >t_rad</th>\n",
       "      <th id=\"T_663fe_level0_col1\" class=\"col_heading level0 col1\" >next_t_rad</th>\n",
       "      <th id=\"T_663fe_level0_col2\" class=\"col_heading level0 col2\" >w</th>\n",
       "      <th id=\"T_663fe_level0_col3\" class=\"col_heading level0 col3\" >next_w</th>\n",
       "    </tr>\n",
       "  </thead>\n",
       "  <tbody>\n",
       "    <tr>\n",
       "      <th id=\"T_663fe_level0_row0\" class=\"row_heading level0 row0\" >0</th>\n",
       "      <td id=\"T_663fe_row0_col0\" class=\"data row0 col0\" >1.11e+04 K</td>\n",
       "      <td id=\"T_663fe_row0_col1\" class=\"data row0 col1\" >1.11e+04 K</td>\n",
       "      <td id=\"T_663fe_row0_col2\" class=\"data row0 col2\" >0.467</td>\n",
       "      <td id=\"T_663fe_row0_col3\" class=\"data row0 col3\" >0.466</td>\n",
       "    </tr>\n",
       "    <tr>\n",
       "      <th id=\"T_663fe_level0_row1\" class=\"row_heading level0 row1\" >5</th>\n",
       "      <td id=\"T_663fe_row1_col0\" class=\"data row1 col0\" >1.13e+04 K</td>\n",
       "      <td id=\"T_663fe_row1_col1\" class=\"data row1 col1\" >1.13e+04 K</td>\n",
       "      <td id=\"T_663fe_row1_col2\" class=\"data row1 col2\" >0.176</td>\n",
       "      <td id=\"T_663fe_row1_col3\" class=\"data row1 col3\" >0.18</td>\n",
       "    </tr>\n",
       "    <tr>\n",
       "      <th id=\"T_663fe_level0_row2\" class=\"row_heading level0 row2\" >10</th>\n",
       "      <td id=\"T_663fe_row2_col0\" class=\"data row2 col0\" >1.11e+04 K</td>\n",
       "      <td id=\"T_663fe_row2_col1\" class=\"data row2 col1\" >1.11e+04 K</td>\n",
       "      <td id=\"T_663fe_row2_col2\" class=\"data row2 col2\" >0.11</td>\n",
       "      <td id=\"T_663fe_row2_col3\" class=\"data row2 col3\" >0.111</td>\n",
       "    </tr>\n",
       "    <tr>\n",
       "      <th id=\"T_663fe_level0_row3\" class=\"row_heading level0 row3\" >15</th>\n",
       "      <td id=\"T_663fe_row3_col0\" class=\"data row3 col0\" >1.08e+04 K</td>\n",
       "      <td id=\"T_663fe_row3_col1\" class=\"data row3 col1\" >1.08e+04 K</td>\n",
       "      <td id=\"T_663fe_row3_col2\" class=\"data row3 col2\" >0.0821</td>\n",
       "      <td id=\"T_663fe_row3_col3\" class=\"data row3 col3\" >0.0841</td>\n",
       "    </tr>\n",
       "  </tbody>\n",
       "</table>\n"
      ],
      "text/plain": [
       "<pandas.io.formats.style.Styler at 0x7fd22a589220>"
      ]
     },
     "metadata": {},
     "output_type": "display_data"
    },
    {
     "name": "stdout",
     "output_type": "stream",
     "text": [
      "[\u001b[1mtardis.simulation.base\u001b[0m][\u001b[1;37mINFO\u001b[0m   ]  \n",
      "\t\n",
      "\tCurrent t_inner = 10653.543 K\n",
      "\tExpected t_inner for next iteration = 10647.277 K\n",
      " (\u001b[1mbase.py\u001b[0m:624)\n"
     ]
    },
    {
     "name": "stdout",
     "output_type": "stream",
     "text": [
      "[\u001b[1mtardis.simulation.base\u001b[0m][\u001b[1;37mINFO\u001b[0m   ]  \n",
      "\t\n",
      "\tStarting iteration 14 of 20 (\u001b[1mbase.py\u001b[0m:438)\n"
     ]
    },
    {
     "name": "stdout",
     "output_type": "stream",
     "text": [
      "[\u001b[1mtardis.simulation.base\u001b[0m][\u001b[1;37mINFO\u001b[0m   ]  \n",
      "\t\n",
      "\tLuminosity emitted   = 1.063e+43 erg / s\n",
      "\tLuminosity absorbed  = 3.369e+42 erg / s\n",
      "\tLuminosity requested = 1.059e+43 erg / s\n",
      " (\u001b[1mbase.py\u001b[0m:629)\n"
     ]
    },
    {
     "name": "stdout",
     "output_type": "stream",
     "text": [
      "[\u001b[1mtardis.simulation.base\u001b[0m][\u001b[1;37mINFO\u001b[0m   ]  \n",
      "\tIteration converged 12/4 consecutive times. (\u001b[1mbase.py\u001b[0m:250)\n"
     ]
    },
    {
     "name": "stdout",
     "output_type": "stream",
     "text": [
      "[\u001b[1mtardis.simulation.base\u001b[0m][\u001b[1;37mINFO\u001b[0m   ]  \n",
      "\t\n",
      "\tPlasma stratification: (\u001b[1mbase.py\u001b[0m:597)\n"
     ]
    },
    {
     "data": {
      "text/html": [
       "<style type=\"text/css\">\n",
       "</style>\n",
       "<table id=\"T_e2f6b\">\n",
       "  <thead>\n",
       "    <tr>\n",
       "      <th class=\"index_name level0\" >Shell No.</th>\n",
       "      <th id=\"T_e2f6b_level0_col0\" class=\"col_heading level0 col0\" >t_rad</th>\n",
       "      <th id=\"T_e2f6b_level0_col1\" class=\"col_heading level0 col1\" >next_t_rad</th>\n",
       "      <th id=\"T_e2f6b_level0_col2\" class=\"col_heading level0 col2\" >w</th>\n",
       "      <th id=\"T_e2f6b_level0_col3\" class=\"col_heading level0 col3\" >next_w</th>\n",
       "    </tr>\n",
       "  </thead>\n",
       "  <tbody>\n",
       "    <tr>\n",
       "      <th id=\"T_e2f6b_level0_row0\" class=\"row_heading level0 row0\" >0</th>\n",
       "      <td id=\"T_e2f6b_row0_col0\" class=\"data row0 col0\" >1.11e+04 K</td>\n",
       "      <td id=\"T_e2f6b_row0_col1\" class=\"data row0 col1\" >1.11e+04 K</td>\n",
       "      <td id=\"T_e2f6b_row0_col2\" class=\"data row0 col2\" >0.466</td>\n",
       "      <td id=\"T_e2f6b_row0_col3\" class=\"data row0 col3\" >0.469</td>\n",
       "    </tr>\n",
       "    <tr>\n",
       "      <th id=\"T_e2f6b_level0_row1\" class=\"row_heading level0 row1\" >5</th>\n",
       "      <td id=\"T_e2f6b_row1_col0\" class=\"data row1 col0\" >1.13e+04 K</td>\n",
       "      <td id=\"T_e2f6b_row1_col1\" class=\"data row1 col1\" >1.13e+04 K</td>\n",
       "      <td id=\"T_e2f6b_row1_col2\" class=\"data row1 col2\" >0.18</td>\n",
       "      <td id=\"T_e2f6b_row1_col3\" class=\"data row1 col3\" >0.182</td>\n",
       "    </tr>\n",
       "    <tr>\n",
       "      <th id=\"T_e2f6b_level0_row2\" class=\"row_heading level0 row2\" >10</th>\n",
       "      <td id=\"T_e2f6b_row2_col0\" class=\"data row2 col0\" >1.11e+04 K</td>\n",
       "      <td id=\"T_e2f6b_row2_col1\" class=\"data row2 col1\" >1.1e+04 K</td>\n",
       "      <td id=\"T_e2f6b_row2_col2\" class=\"data row2 col2\" >0.111</td>\n",
       "      <td id=\"T_e2f6b_row2_col3\" class=\"data row2 col3\" >0.113</td>\n",
       "    </tr>\n",
       "    <tr>\n",
       "      <th id=\"T_e2f6b_level0_row3\" class=\"row_heading level0 row3\" >15</th>\n",
       "      <td id=\"T_e2f6b_row3_col0\" class=\"data row3 col0\" >1.08e+04 K</td>\n",
       "      <td id=\"T_e2f6b_row3_col1\" class=\"data row3 col1\" >1.07e+04 K</td>\n",
       "      <td id=\"T_e2f6b_row3_col2\" class=\"data row3 col2\" >0.0841</td>\n",
       "      <td id=\"T_e2f6b_row3_col3\" class=\"data row3 col3\" >0.0854</td>\n",
       "    </tr>\n",
       "  </tbody>\n",
       "</table>\n"
      ],
      "text/plain": [
       "<pandas.io.formats.style.Styler at 0x7fd22aa9cb30>"
      ]
     },
     "metadata": {},
     "output_type": "display_data"
    },
    {
     "name": "stdout",
     "output_type": "stream",
     "text": [
      "[\u001b[1mtardis.simulation.base\u001b[0m][\u001b[1;37mINFO\u001b[0m   ]  \n",
      "\t\n",
      "\tCurrent t_inner = 10647.277 K\n",
      "\tExpected t_inner for next iteration = 10638.875 K\n",
      " (\u001b[1mbase.py\u001b[0m:624)\n"
     ]
    },
    {
     "name": "stdout",
     "output_type": "stream",
     "text": [
      "[\u001b[1mtardis.simulation.base\u001b[0m][\u001b[1;37mINFO\u001b[0m   ]  \n",
      "\t\n",
      "\tStarting iteration 15 of 20 (\u001b[1mbase.py\u001b[0m:438)\n"
     ]
    },
    {
     "name": "stdout",
     "output_type": "stream",
     "text": [
      "[\u001b[1mtardis.simulation.base\u001b[0m][\u001b[1;37mINFO\u001b[0m   ]  \n",
      "\t\n",
      "\tLuminosity emitted   = 1.053e+43 erg / s\n",
      "\tLuminosity absorbed  = 3.417e+42 erg / s\n",
      "\tLuminosity requested = 1.059e+43 erg / s\n",
      " (\u001b[1mbase.py\u001b[0m:629)\n"
     ]
    },
    {
     "name": "stdout",
     "output_type": "stream",
     "text": [
      "[\u001b[1mtardis.simulation.base\u001b[0m][\u001b[1;37mINFO\u001b[0m   ]  \n",
      "\tIteration converged 13/4 consecutive times. (\u001b[1mbase.py\u001b[0m:250)\n"
     ]
    },
    {
     "name": "stdout",
     "output_type": "stream",
     "text": [
      "[\u001b[1mtardis.simulation.base\u001b[0m][\u001b[1;37mINFO\u001b[0m   ]  \n",
      "\t\n",
      "\tPlasma stratification: (\u001b[1mbase.py\u001b[0m:597)\n"
     ]
    },
    {
     "data": {
      "text/html": [
       "<style type=\"text/css\">\n",
       "</style>\n",
       "<table id=\"T_760d8\">\n",
       "  <thead>\n",
       "    <tr>\n",
       "      <th class=\"index_name level0\" >Shell No.</th>\n",
       "      <th id=\"T_760d8_level0_col0\" class=\"col_heading level0 col0\" >t_rad</th>\n",
       "      <th id=\"T_760d8_level0_col1\" class=\"col_heading level0 col1\" >next_t_rad</th>\n",
       "      <th id=\"T_760d8_level0_col2\" class=\"col_heading level0 col2\" >w</th>\n",
       "      <th id=\"T_760d8_level0_col3\" class=\"col_heading level0 col3\" >next_w</th>\n",
       "    </tr>\n",
       "  </thead>\n",
       "  <tbody>\n",
       "    <tr>\n",
       "      <th id=\"T_760d8_level0_row0\" class=\"row_heading level0 row0\" >0</th>\n",
       "      <td id=\"T_760d8_row0_col0\" class=\"data row0 col0\" >1.11e+04 K</td>\n",
       "      <td id=\"T_760d8_row0_col1\" class=\"data row0 col1\" >1.1e+04 K</td>\n",
       "      <td id=\"T_760d8_row0_col2\" class=\"data row0 col2\" >0.469</td>\n",
       "      <td id=\"T_760d8_row0_col3\" class=\"data row0 col3\" >0.484</td>\n",
       "    </tr>\n",
       "    <tr>\n",
       "      <th id=\"T_760d8_level0_row1\" class=\"row_heading level0 row1\" >5</th>\n",
       "      <td id=\"T_760d8_row1_col0\" class=\"data row1 col0\" >1.13e+04 K</td>\n",
       "      <td id=\"T_760d8_row1_col1\" class=\"data row1 col1\" >1.13e+04 K</td>\n",
       "      <td id=\"T_760d8_row1_col2\" class=\"data row1 col2\" >0.182</td>\n",
       "      <td id=\"T_760d8_row1_col3\" class=\"data row1 col3\" >0.181</td>\n",
       "    </tr>\n",
       "    <tr>\n",
       "      <th id=\"T_760d8_level0_row2\" class=\"row_heading level0 row2\" >10</th>\n",
       "      <td id=\"T_760d8_row2_col0\" class=\"data row2 col0\" >1.1e+04 K</td>\n",
       "      <td id=\"T_760d8_row2_col1\" class=\"data row2 col1\" >1.1e+04 K</td>\n",
       "      <td id=\"T_760d8_row2_col2\" class=\"data row2 col2\" >0.113</td>\n",
       "      <td id=\"T_760d8_row2_col3\" class=\"data row2 col3\" >0.113</td>\n",
       "    </tr>\n",
       "    <tr>\n",
       "      <th id=\"T_760d8_level0_row3\" class=\"row_heading level0 row3\" >15</th>\n",
       "      <td id=\"T_760d8_row3_col0\" class=\"data row3 col0\" >1.07e+04 K</td>\n",
       "      <td id=\"T_760d8_row3_col1\" class=\"data row3 col1\" >1.07e+04 K</td>\n",
       "      <td id=\"T_760d8_row3_col2\" class=\"data row3 col2\" >0.0854</td>\n",
       "      <td id=\"T_760d8_row3_col3\" class=\"data row3 col3\" >0.0858</td>\n",
       "    </tr>\n",
       "  </tbody>\n",
       "</table>\n"
      ],
      "text/plain": [
       "<pandas.io.formats.style.Styler at 0x7fd22ec01220>"
      ]
     },
     "metadata": {},
     "output_type": "display_data"
    },
    {
     "name": "stdout",
     "output_type": "stream",
     "text": [
      "[\u001b[1mtardis.simulation.base\u001b[0m][\u001b[1;37mINFO\u001b[0m   ]  \n",
      "\t\n",
      "\tCurrent t_inner = 10638.875 K\n",
      "\tExpected t_inner for next iteration = 10655.125 K\n",
      " (\u001b[1mbase.py\u001b[0m:624)\n"
     ]
    },
    {
     "name": "stdout",
     "output_type": "stream",
     "text": [
      "[\u001b[1mtardis.simulation.base\u001b[0m][\u001b[1;37mINFO\u001b[0m   ]  \n",
      "\t\n",
      "\tStarting iteration 16 of 20 (\u001b[1mbase.py\u001b[0m:438)\n"
     ]
    },
    {
     "name": "stdout",
     "output_type": "stream",
     "text": [
      "[\u001b[1mtardis.simulation.base\u001b[0m][\u001b[1;37mINFO\u001b[0m   ]  \n",
      "\t\n",
      "\tLuminosity emitted   = 1.059e+43 erg / s\n",
      "\tLuminosity absorbed  = 3.445e+42 erg / s\n",
      "\tLuminosity requested = 1.059e+43 erg / s\n",
      " (\u001b[1mbase.py\u001b[0m:629)\n"
     ]
    },
    {
     "name": "stdout",
     "output_type": "stream",
     "text": [
      "[\u001b[1mtardis.simulation.base\u001b[0m][\u001b[1;37mINFO\u001b[0m   ]  \n",
      "\tIteration converged 14/4 consecutive times. (\u001b[1mbase.py\u001b[0m:250)\n"
     ]
    },
    {
     "name": "stdout",
     "output_type": "stream",
     "text": [
      "[\u001b[1mtardis.simulation.base\u001b[0m][\u001b[1;37mINFO\u001b[0m   ]  \n",
      "\t\n",
      "\tPlasma stratification: (\u001b[1mbase.py\u001b[0m:597)\n"
     ]
    },
    {
     "data": {
      "text/html": [
       "<style type=\"text/css\">\n",
       "</style>\n",
       "<table id=\"T_afa50\">\n",
       "  <thead>\n",
       "    <tr>\n",
       "      <th class=\"index_name level0\" >Shell No.</th>\n",
       "      <th id=\"T_afa50_level0_col0\" class=\"col_heading level0 col0\" >t_rad</th>\n",
       "      <th id=\"T_afa50_level0_col1\" class=\"col_heading level0 col1\" >next_t_rad</th>\n",
       "      <th id=\"T_afa50_level0_col2\" class=\"col_heading level0 col2\" >w</th>\n",
       "      <th id=\"T_afa50_level0_col3\" class=\"col_heading level0 col3\" >next_w</th>\n",
       "    </tr>\n",
       "  </thead>\n",
       "  <tbody>\n",
       "    <tr>\n",
       "      <th id=\"T_afa50_level0_row0\" class=\"row_heading level0 row0\" >0</th>\n",
       "      <td id=\"T_afa50_row0_col0\" class=\"data row0 col0\" >1.1e+04 K</td>\n",
       "      <td id=\"T_afa50_row0_col1\" class=\"data row0 col1\" >1.1e+04 K</td>\n",
       "      <td id=\"T_afa50_row0_col2\" class=\"data row0 col2\" >0.484</td>\n",
       "      <td id=\"T_afa50_row0_col3\" class=\"data row0 col3\" >0.472</td>\n",
       "    </tr>\n",
       "    <tr>\n",
       "      <th id=\"T_afa50_level0_row1\" class=\"row_heading level0 row1\" >5</th>\n",
       "      <td id=\"T_afa50_row1_col0\" class=\"data row1 col0\" >1.13e+04 K</td>\n",
       "      <td id=\"T_afa50_row1_col1\" class=\"data row1 col1\" >1.13e+04 K</td>\n",
       "      <td id=\"T_afa50_row1_col2\" class=\"data row1 col2\" >0.181</td>\n",
       "      <td id=\"T_afa50_row1_col3\" class=\"data row1 col3\" >0.177</td>\n",
       "    </tr>\n",
       "    <tr>\n",
       "      <th id=\"T_afa50_level0_row2\" class=\"row_heading level0 row2\" >10</th>\n",
       "      <td id=\"T_afa50_row2_col0\" class=\"data row2 col0\" >1.1e+04 K</td>\n",
       "      <td id=\"T_afa50_row2_col1\" class=\"data row2 col1\" >1.1e+04 K</td>\n",
       "      <td id=\"T_afa50_row2_col2\" class=\"data row2 col2\" >0.113</td>\n",
       "      <td id=\"T_afa50_row2_col3\" class=\"data row2 col3\" >0.113</td>\n",
       "    </tr>\n",
       "    <tr>\n",
       "      <th id=\"T_afa50_level0_row3\" class=\"row_heading level0 row3\" >15</th>\n",
       "      <td id=\"T_afa50_row3_col0\" class=\"data row3 col0\" >1.07e+04 K</td>\n",
       "      <td id=\"T_afa50_row3_col1\" class=\"data row3 col1\" >1.06e+04 K</td>\n",
       "      <td id=\"T_afa50_row3_col2\" class=\"data row3 col2\" >0.0858</td>\n",
       "      <td id=\"T_afa50_row3_col3\" class=\"data row3 col3\" >0.0858</td>\n",
       "    </tr>\n",
       "  </tbody>\n",
       "</table>\n"
      ],
      "text/plain": [
       "<pandas.io.formats.style.Styler at 0x7fd22a977ce0>"
      ]
     },
     "metadata": {},
     "output_type": "display_data"
    },
    {
     "name": "stdout",
     "output_type": "stream",
     "text": [
      "[\u001b[1mtardis.simulation.base\u001b[0m][\u001b[1;37mINFO\u001b[0m   ]  \n",
      "\t\n",
      "\tCurrent t_inner = 10655.125 K\n",
      "\tExpected t_inner for next iteration = 10655.561 K\n",
      " (\u001b[1mbase.py\u001b[0m:624)\n"
     ]
    },
    {
     "name": "stdout",
     "output_type": "stream",
     "text": [
      "[\u001b[1mtardis.simulation.base\u001b[0m][\u001b[1;37mINFO\u001b[0m   ]  \n",
      "\t\n",
      "\tStarting iteration 17 of 20 (\u001b[1mbase.py\u001b[0m:438)\n"
     ]
    },
    {
     "name": "stdout",
     "output_type": "stream",
     "text": [
      "[\u001b[1mtardis.simulation.base\u001b[0m][\u001b[1;37mINFO\u001b[0m   ]  \n",
      "\t\n",
      "\tLuminosity emitted   = 1.067e+43 erg / s\n",
      "\tLuminosity absorbed  = 3.372e+42 erg / s\n",
      "\tLuminosity requested = 1.059e+43 erg / s\n",
      " (\u001b[1mbase.py\u001b[0m:629)\n"
     ]
    },
    {
     "name": "stdout",
     "output_type": "stream",
     "text": [
      "[\u001b[1mtardis.simulation.base\u001b[0m][\u001b[1;37mINFO\u001b[0m   ]  \n",
      "\tIteration converged 15/4 consecutive times. (\u001b[1mbase.py\u001b[0m:250)\n"
     ]
    },
    {
     "name": "stdout",
     "output_type": "stream",
     "text": [
      "[\u001b[1mtardis.simulation.base\u001b[0m][\u001b[1;37mINFO\u001b[0m   ]  \n",
      "\t\n",
      "\tPlasma stratification: (\u001b[1mbase.py\u001b[0m:597)\n"
     ]
    },
    {
     "data": {
      "text/html": [
       "<style type=\"text/css\">\n",
       "</style>\n",
       "<table id=\"T_82601\">\n",
       "  <thead>\n",
       "    <tr>\n",
       "      <th class=\"index_name level0\" >Shell No.</th>\n",
       "      <th id=\"T_82601_level0_col0\" class=\"col_heading level0 col0\" >t_rad</th>\n",
       "      <th id=\"T_82601_level0_col1\" class=\"col_heading level0 col1\" >next_t_rad</th>\n",
       "      <th id=\"T_82601_level0_col2\" class=\"col_heading level0 col2\" >w</th>\n",
       "      <th id=\"T_82601_level0_col3\" class=\"col_heading level0 col3\" >next_w</th>\n",
       "    </tr>\n",
       "  </thead>\n",
       "  <tbody>\n",
       "    <tr>\n",
       "      <th id=\"T_82601_level0_row0\" class=\"row_heading level0 row0\" >0</th>\n",
       "      <td id=\"T_82601_row0_col0\" class=\"data row0 col0\" >1.1e+04 K</td>\n",
       "      <td id=\"T_82601_row0_col1\" class=\"data row0 col1\" >1.11e+04 K</td>\n",
       "      <td id=\"T_82601_row0_col2\" class=\"data row0 col2\" >0.472</td>\n",
       "      <td id=\"T_82601_row0_col3\" class=\"data row0 col3\" >0.468</td>\n",
       "    </tr>\n",
       "    <tr>\n",
       "      <th id=\"T_82601_level0_row1\" class=\"row_heading level0 row1\" >5</th>\n",
       "      <td id=\"T_82601_row1_col0\" class=\"data row1 col0\" >1.13e+04 K</td>\n",
       "      <td id=\"T_82601_row1_col1\" class=\"data row1 col1\" >1.14e+04 K</td>\n",
       "      <td id=\"T_82601_row1_col2\" class=\"data row1 col2\" >0.177</td>\n",
       "      <td id=\"T_82601_row1_col3\" class=\"data row1 col3\" >0.175</td>\n",
       "    </tr>\n",
       "    <tr>\n",
       "      <th id=\"T_82601_level0_row2\" class=\"row_heading level0 row2\" >10</th>\n",
       "      <td id=\"T_82601_row2_col0\" class=\"data row2 col0\" >1.1e+04 K</td>\n",
       "      <td id=\"T_82601_row2_col1\" class=\"data row2 col1\" >1.11e+04 K</td>\n",
       "      <td id=\"T_82601_row2_col2\" class=\"data row2 col2\" >0.113</td>\n",
       "      <td id=\"T_82601_row2_col3\" class=\"data row2 col3\" >0.11</td>\n",
       "    </tr>\n",
       "    <tr>\n",
       "      <th id=\"T_82601_level0_row3\" class=\"row_heading level0 row3\" >15</th>\n",
       "      <td id=\"T_82601_row3_col0\" class=\"data row3 col0\" >1.06e+04 K</td>\n",
       "      <td id=\"T_82601_row3_col1\" class=\"data row3 col1\" >1.08e+04 K</td>\n",
       "      <td id=\"T_82601_row3_col2\" class=\"data row3 col2\" >0.0858</td>\n",
       "      <td id=\"T_82601_row3_col3\" class=\"data row3 col3\" >0.0816</td>\n",
       "    </tr>\n",
       "  </tbody>\n",
       "</table>\n"
      ],
      "text/plain": [
       "<pandas.io.formats.style.Styler at 0x7fd22aa9d340>"
      ]
     },
     "metadata": {},
     "output_type": "display_data"
    },
    {
     "name": "stdout",
     "output_type": "stream",
     "text": [
      "[\u001b[1mtardis.simulation.base\u001b[0m][\u001b[1;37mINFO\u001b[0m   ]  \n",
      "\t\n",
      "\tCurrent t_inner = 10655.561 K\n",
      "\tExpected t_inner for next iteration = 10636.536 K\n",
      " (\u001b[1mbase.py\u001b[0m:624)\n"
     ]
    },
    {
     "name": "stdout",
     "output_type": "stream",
     "text": [
      "[\u001b[1mtardis.simulation.base\u001b[0m][\u001b[1;37mINFO\u001b[0m   ]  \n",
      "\t\n",
      "\tStarting iteration 18 of 20 (\u001b[1mbase.py\u001b[0m:438)\n"
     ]
    },
    {
     "name": "stdout",
     "output_type": "stream",
     "text": [
      "[\u001b[1mtardis.simulation.base\u001b[0m][\u001b[1;37mINFO\u001b[0m   ]  \n",
      "\t\n",
      "\tLuminosity emitted   = 1.057e+43 erg / s\n",
      "\tLuminosity absorbed  = 3.365e+42 erg / s\n",
      "\tLuminosity requested = 1.059e+43 erg / s\n",
      " (\u001b[1mbase.py\u001b[0m:629)\n"
     ]
    },
    {
     "name": "stdout",
     "output_type": "stream",
     "text": [
      "[\u001b[1mtardis.simulation.base\u001b[0m][\u001b[1;37mINFO\u001b[0m   ]  \n",
      "\tIteration converged 16/4 consecutive times. (\u001b[1mbase.py\u001b[0m:250)\n"
     ]
    },
    {
     "name": "stdout",
     "output_type": "stream",
     "text": [
      "[\u001b[1mtardis.simulation.base\u001b[0m][\u001b[1;37mINFO\u001b[0m   ]  \n",
      "\t\n",
      "\tPlasma stratification: (\u001b[1mbase.py\u001b[0m:597)\n"
     ]
    },
    {
     "data": {
      "text/html": [
       "<style type=\"text/css\">\n",
       "</style>\n",
       "<table id=\"T_8671b\">\n",
       "  <thead>\n",
       "    <tr>\n",
       "      <th class=\"index_name level0\" >Shell No.</th>\n",
       "      <th id=\"T_8671b_level0_col0\" class=\"col_heading level0 col0\" >t_rad</th>\n",
       "      <th id=\"T_8671b_level0_col1\" class=\"col_heading level0 col1\" >next_t_rad</th>\n",
       "      <th id=\"T_8671b_level0_col2\" class=\"col_heading level0 col2\" >w</th>\n",
       "      <th id=\"T_8671b_level0_col3\" class=\"col_heading level0 col3\" >next_w</th>\n",
       "    </tr>\n",
       "  </thead>\n",
       "  <tbody>\n",
       "    <tr>\n",
       "      <th id=\"T_8671b_level0_row0\" class=\"row_heading level0 row0\" >0</th>\n",
       "      <td id=\"T_8671b_row0_col0\" class=\"data row0 col0\" >1.11e+04 K</td>\n",
       "      <td id=\"T_8671b_row0_col1\" class=\"data row0 col1\" >1.11e+04 K</td>\n",
       "      <td id=\"T_8671b_row0_col2\" class=\"data row0 col2\" >0.468</td>\n",
       "      <td id=\"T_8671b_row0_col3\" class=\"data row0 col3\" >0.464</td>\n",
       "    </tr>\n",
       "    <tr>\n",
       "      <th id=\"T_8671b_level0_row1\" class=\"row_heading level0 row1\" >5</th>\n",
       "      <td id=\"T_8671b_row1_col0\" class=\"data row1 col0\" >1.14e+04 K</td>\n",
       "      <td id=\"T_8671b_row1_col1\" class=\"data row1 col1\" >1.13e+04 K</td>\n",
       "      <td id=\"T_8671b_row1_col2\" class=\"data row1 col2\" >0.175</td>\n",
       "      <td id=\"T_8671b_row1_col3\" class=\"data row1 col3\" >0.177</td>\n",
       "    </tr>\n",
       "    <tr>\n",
       "      <th id=\"T_8671b_level0_row2\" class=\"row_heading level0 row2\" >10</th>\n",
       "      <td id=\"T_8671b_row2_col0\" class=\"data row2 col0\" >1.11e+04 K</td>\n",
       "      <td id=\"T_8671b_row2_col1\" class=\"data row2 col1\" >1.1e+04 K</td>\n",
       "      <td id=\"T_8671b_row2_col2\" class=\"data row2 col2\" >0.11</td>\n",
       "      <td id=\"T_8671b_row2_col3\" class=\"data row2 col3\" >0.113</td>\n",
       "    </tr>\n",
       "    <tr>\n",
       "      <th id=\"T_8671b_level0_row3\" class=\"row_heading level0 row3\" >15</th>\n",
       "      <td id=\"T_8671b_row3_col0\" class=\"data row3 col0\" >1.08e+04 K</td>\n",
       "      <td id=\"T_8671b_row3_col1\" class=\"data row3 col1\" >1.07e+04 K</td>\n",
       "      <td id=\"T_8671b_row3_col2\" class=\"data row3 col2\" >0.0816</td>\n",
       "      <td id=\"T_8671b_row3_col3\" class=\"data row3 col3\" >0.0848</td>\n",
       "    </tr>\n",
       "  </tbody>\n",
       "</table>\n"
      ],
      "text/plain": [
       "<pandas.io.formats.style.Styler at 0x7fd22e91a660>"
      ]
     },
     "metadata": {},
     "output_type": "display_data"
    },
    {
     "name": "stdout",
     "output_type": "stream",
     "text": [
      "[\u001b[1mtardis.simulation.base\u001b[0m][\u001b[1;37mINFO\u001b[0m   ]  \n",
      "\t\n",
      "\tCurrent t_inner = 10636.536 K\n",
      "\tExpected t_inner for next iteration = 10641.692 K\n",
      " (\u001b[1mbase.py\u001b[0m:624)\n"
     ]
    },
    {
     "name": "stdout",
     "output_type": "stream",
     "text": [
      "[\u001b[1mtardis.simulation.base\u001b[0m][\u001b[1;37mINFO\u001b[0m   ]  \n",
      "\t\n",
      "\tStarting iteration 19 of 20 (\u001b[1mbase.py\u001b[0m:438)\n"
     ]
    },
    {
     "name": "stdout",
     "output_type": "stream",
     "text": [
      "[\u001b[1mtardis.simulation.base\u001b[0m][\u001b[1;37mINFO\u001b[0m   ]  \n",
      "\t\n",
      "\tLuminosity emitted   = 1.056e+43 erg / s\n",
      "\tLuminosity absorbed  = 3.405e+42 erg / s\n",
      "\tLuminosity requested = 1.059e+43 erg / s\n",
      " (\u001b[1mbase.py\u001b[0m:629)\n"
     ]
    },
    {
     "name": "stdout",
     "output_type": "stream",
     "text": [
      "[\u001b[1mtardis.simulation.base\u001b[0m][\u001b[1;37mINFO\u001b[0m   ]  \n",
      "\tIteration converged 17/4 consecutive times. (\u001b[1mbase.py\u001b[0m:250)\n"
     ]
    },
    {
     "name": "stdout",
     "output_type": "stream",
     "text": [
      "[\u001b[1mtardis.simulation.base\u001b[0m][\u001b[1;37mINFO\u001b[0m   ]  \n",
      "\t\n",
      "\tPlasma stratification: (\u001b[1mbase.py\u001b[0m:597)\n"
     ]
    },
    {
     "data": {
      "text/html": [
       "<style type=\"text/css\">\n",
       "</style>\n",
       "<table id=\"T_7b9d4\">\n",
       "  <thead>\n",
       "    <tr>\n",
       "      <th class=\"index_name level0\" >Shell No.</th>\n",
       "      <th id=\"T_7b9d4_level0_col0\" class=\"col_heading level0 col0\" >t_rad</th>\n",
       "      <th id=\"T_7b9d4_level0_col1\" class=\"col_heading level0 col1\" >next_t_rad</th>\n",
       "      <th id=\"T_7b9d4_level0_col2\" class=\"col_heading level0 col2\" >w</th>\n",
       "      <th id=\"T_7b9d4_level0_col3\" class=\"col_heading level0 col3\" >next_w</th>\n",
       "    </tr>\n",
       "  </thead>\n",
       "  <tbody>\n",
       "    <tr>\n",
       "      <th id=\"T_7b9d4_level0_row0\" class=\"row_heading level0 row0\" >0</th>\n",
       "      <td id=\"T_7b9d4_row0_col0\" class=\"data row0 col0\" >1.11e+04 K</td>\n",
       "      <td id=\"T_7b9d4_row0_col1\" class=\"data row0 col1\" >1.11e+04 K</td>\n",
       "      <td id=\"T_7b9d4_row0_col2\" class=\"data row0 col2\" >0.464</td>\n",
       "      <td id=\"T_7b9d4_row0_col3\" class=\"data row0 col3\" >0.466</td>\n",
       "    </tr>\n",
       "    <tr>\n",
       "      <th id=\"T_7b9d4_level0_row1\" class=\"row_heading level0 row1\" >5</th>\n",
       "      <td id=\"T_7b9d4_row1_col0\" class=\"data row1 col0\" >1.13e+04 K</td>\n",
       "      <td id=\"T_7b9d4_row1_col1\" class=\"data row1 col1\" >1.13e+04 K</td>\n",
       "      <td id=\"T_7b9d4_row1_col2\" class=\"data row1 col2\" >0.177</td>\n",
       "      <td id=\"T_7b9d4_row1_col3\" class=\"data row1 col3\" >0.177</td>\n",
       "    </tr>\n",
       "    <tr>\n",
       "      <th id=\"T_7b9d4_level0_row2\" class=\"row_heading level0 row2\" >10</th>\n",
       "      <td id=\"T_7b9d4_row2_col0\" class=\"data row2 col0\" >1.1e+04 K</td>\n",
       "      <td id=\"T_7b9d4_row2_col1\" class=\"data row2 col1\" >1.11e+04 K</td>\n",
       "      <td id=\"T_7b9d4_row2_col2\" class=\"data row2 col2\" >0.113</td>\n",
       "      <td id=\"T_7b9d4_row2_col3\" class=\"data row2 col3\" >0.111</td>\n",
       "    </tr>\n",
       "    <tr>\n",
       "      <th id=\"T_7b9d4_level0_row3\" class=\"row_heading level0 row3\" >15</th>\n",
       "      <td id=\"T_7b9d4_row3_col0\" class=\"data row3 col0\" >1.07e+04 K</td>\n",
       "      <td id=\"T_7b9d4_row3_col1\" class=\"data row3 col1\" >1.07e+04 K</td>\n",
       "      <td id=\"T_7b9d4_row3_col2\" class=\"data row3 col2\" >0.0848</td>\n",
       "      <td id=\"T_7b9d4_row3_col3\" class=\"data row3 col3\" >0.0853</td>\n",
       "    </tr>\n",
       "  </tbody>\n",
       "</table>\n"
      ],
      "text/plain": [
       "<pandas.io.formats.style.Styler at 0x7fd229d492e0>"
      ]
     },
     "metadata": {},
     "output_type": "display_data"
    },
    {
     "name": "stdout",
     "output_type": "stream",
     "text": [
      "[\u001b[1mtardis.simulation.base\u001b[0m][\u001b[1;37mINFO\u001b[0m   ]  \n",
      "\t\n",
      "\tCurrent t_inner = 10641.692 K\n",
      "\tExpected t_inner for next iteration = 10650.463 K\n",
      " (\u001b[1mbase.py\u001b[0m:624)\n"
     ]
    },
    {
     "name": "stdout",
     "output_type": "stream",
     "text": [
      "[\u001b[1mtardis.simulation.base\u001b[0m][\u001b[1;37mINFO\u001b[0m   ]  \n",
      "\t\n",
      "\tSimulation finished in 19 iterations \n",
      "\tSimulation took 46.44 s\n",
      " (\u001b[1mbase.py\u001b[0m:520)\n"
     ]
    },
    {
     "name": "stdout",
     "output_type": "stream",
     "text": [
      "[\u001b[1mtardis.simulation.base\u001b[0m][\u001b[1;37mINFO\u001b[0m   ]  \n",
      "\t\n",
      "\tStarting iteration 20 of 20 (\u001b[1mbase.py\u001b[0m:438)\n"
     ]
    },
    {
     "name": "stdout",
     "output_type": "stream",
     "text": [
      "[\u001b[1mtardis.simulation.base\u001b[0m][\u001b[1;37mINFO\u001b[0m   ]  \n",
      "\t\n",
      "\tLuminosity emitted   = 1.061e+43 erg / s\n",
      "\tLuminosity absorbed  = 3.401e+42 erg / s\n",
      "\tLuminosity requested = 1.059e+43 erg / s\n",
      " (\u001b[1mbase.py\u001b[0m:629)\n"
     ]
    }
   ],
   "source": [
    "from tardis import run_tardis\n",
    "\n",
    "simulation = run_tardis('tardis_example.yml')"
   ]
  },
  {
   "cell_type": "markdown",
   "metadata": {},
   "source": [
    "If all goes well, the simulation should run as usual. Afterwards, the\n",
    "information from the simulation will all exist in `Simulation` and\n",
    "can be examined.\n",
    "Some examples for useful/interesting quantities are\n",
    "given below (but much more information is available: contact us via \n",
    "[tardis-sn-users](http://groups.google.com/forum/#!forum/tardis-sn-users) if you need\n",
    "further help)."
   ]
  },
  {
   "cell_type": "markdown",
   "metadata": {},
   "source": [
    "### Examples of finding physical quantities"
   ]
  },
  {
   "cell_type": "markdown",
   "metadata": {},
   "source": [
    "For example, two of our important quantities are the parameters of the\n",
    "radiation field model, $T_{\\rm rad}$ and $W$. These exist as `numpy.ndarray`\n",
    "\n",
    "Thus `simulation.plasma.t_rad` will give you a list of the $T_{\\rm rad}$-values for the model zones in cgs units."
   ]
  },
  {
   "cell_type": "code",
   "execution_count": 3,
   "metadata": {
    "execution": {
     "iopub.execute_input": "2024-07-31T12:26:30.333300Z",
     "iopub.status.busy": "2024-07-31T12:26:30.332831Z",
     "iopub.status.idle": "2024-07-31T12:26:30.336560Z",
     "shell.execute_reply": "2024-07-31T12:26:30.336148Z"
    }
   },
   "outputs": [
    {
     "data": {
      "text/plain": [
       "array([11069.33089377, 11165.15751924, 11272.62783772, 11372.4522524 ,\n",
       "       11332.02806881, 11329.6435672 , 11294.51865104, 11261.56893248,\n",
       "       11241.47812926, 11148.97525325, 11071.52917648, 11004.68560208,\n",
       "       10946.39979159, 10861.42744062, 10784.4789371 , 10655.55794227,\n",
       "       10586.11909387, 10567.9967492 , 10435.71120389, 10305.7063164 ])"
      ]
     },
     "execution_count": 3,
     "metadata": {},
     "output_type": "execute_result"
    }
   ],
   "source": [
    "simulation.plasma.t_rad"
   ]
  },
  {
   "cell_type": "markdown",
   "metadata": {},
   "source": [
    "Similarly, the $W$-values can be accessed using `simulation.plasma.w`"
   ]
  },
  {
   "cell_type": "code",
   "execution_count": 4,
   "metadata": {
    "execution": {
     "iopub.execute_input": "2024-07-31T12:26:30.338261Z",
     "iopub.status.busy": "2024-07-31T12:26:30.338112Z",
     "iopub.status.idle": "2024-07-31T12:26:30.341357Z",
     "shell.execute_reply": "2024-07-31T12:26:30.340901Z"
    }
   },
   "outputs": [
    {
     "data": {
      "text/plain": [
       "array([0.46583111, 0.35821399, 0.28478501, 0.23131748, 0.20190424,\n",
       "       0.17672918, 0.15768939, 0.14187896, 0.1281619 , 0.11908551,\n",
       "       0.11148042, 0.10454478, 0.09806677, 0.09312254, 0.08822151,\n",
       "       0.08534236, 0.08173657, 0.07726564, 0.07559528, 0.07395579])"
      ]
     },
     "execution_count": 4,
     "metadata": {},
     "output_type": "execute_result"
    }
   ],
   "source": [
    "simulation.plasma.w"
   ]
  },
  {
   "cell_type": "markdown",
   "metadata": {},
   "source": [
    "Several important quantities that were setup when the model was defined by the configuration file are located in the `model` section of the simulation. For example, the inner and outer velocity boundaries of the zones in the model is given by `simulation.simulation_state.v_inner.cgs` and `simulation.simulation_state.v_outer.cgs` respectively. These exist as Astropy [Quantities](http://astropy.readthedocs.org/en/v0.2.1/_generated/astropy.units.quantity.Quantity.html)."
   ]
  },
  {
   "cell_type": "code",
   "execution_count": 5,
   "metadata": {
    "execution": {
     "iopub.execute_input": "2024-07-31T12:26:30.343120Z",
     "iopub.status.busy": "2024-07-31T12:26:30.342958Z",
     "iopub.status.idle": "2024-07-31T12:26:30.348125Z",
     "shell.execute_reply": "2024-07-31T12:26:30.347709Z"
    }
   },
   "outputs": [
    {
     "data": {
      "text/latex": [
       "$[1.1 \\times 10^{9},~1.145 \\times 10^{9},~1.19 \\times 10^{9},~1.235 \\times 10^{9},~1.28 \\times 10^{9},~1.325 \\times 10^{9},~1.37 \\times 10^{9},~1.415 \\times 10^{9},~1.46 \\times 10^{9},~1.505 \\times 10^{9},~1.55 \\times 10^{9},~1.595 \\times 10^{9},~1.64 \\times 10^{9},~1.685 \\times 10^{9},~1.73 \\times 10^{9},~1.775 \\times 10^{9},~1.82 \\times 10^{9},~1.865 \\times 10^{9},~1.91 \\times 10^{9},~1.955 \\times 10^{9}] \\; \\mathrm{\\frac{cm}{s}}$"
      ],
      "text/plain": [
       "<Quantity [1.100e+09, 1.145e+09, 1.190e+09, 1.235e+09, 1.280e+09,\n",
       "           1.325e+09, 1.370e+09, 1.415e+09, 1.460e+09, 1.505e+09,\n",
       "           1.550e+09, 1.595e+09, 1.640e+09, 1.685e+09, 1.730e+09,\n",
       "           1.775e+09, 1.820e+09, 1.865e+09, 1.910e+09, 1.955e+09] cm / s>"
      ]
     },
     "execution_count": 5,
     "metadata": {},
     "output_type": "execute_result"
    }
   ],
   "source": [
    "simulation.simulation_state.v_inner.cgs"
   ]
  },
  {
   "cell_type": "code",
   "execution_count": 6,
   "metadata": {
    "execution": {
     "iopub.execute_input": "2024-07-31T12:26:30.349758Z",
     "iopub.status.busy": "2024-07-31T12:26:30.349596Z",
     "iopub.status.idle": "2024-07-31T12:26:30.353233Z",
     "shell.execute_reply": "2024-07-31T12:26:30.352849Z"
    }
   },
   "outputs": [
    {
     "data": {
      "text/latex": [
       "$[1.145 \\times 10^{9},~1.19 \\times 10^{9},~1.235 \\times 10^{9},~1.28 \\times 10^{9},~1.325 \\times 10^{9},~1.37 \\times 10^{9},~1.415 \\times 10^{9},~1.46 \\times 10^{9},~1.505 \\times 10^{9},~1.55 \\times 10^{9},~1.595 \\times 10^{9},~1.64 \\times 10^{9},~1.685 \\times 10^{9},~1.73 \\times 10^{9},~1.775 \\times 10^{9},~1.82 \\times 10^{9},~1.865 \\times 10^{9},~1.91 \\times 10^{9},~1.955 \\times 10^{9},~2 \\times 10^{9}] \\; \\mathrm{\\frac{cm}{s}}$"
      ],
      "text/plain": [
       "<Quantity [1.145e+09, 1.190e+09, 1.235e+09, 1.280e+09, 1.325e+09,\n",
       "           1.370e+09, 1.415e+09, 1.460e+09, 1.505e+09, 1.550e+09,\n",
       "           1.595e+09, 1.640e+09, 1.685e+09, 1.730e+09, 1.775e+09,\n",
       "           1.820e+09, 1.865e+09, 1.910e+09, 1.955e+09, 2.000e+09] cm / s>"
      ]
     },
     "execution_count": 6,
     "metadata": {},
     "output_type": "execute_result"
    }
   ],
   "source": [
    "simulation.simulation_state.v_outer.cgs"
   ]
  },
  {
   "cell_type": "markdown",
   "metadata": {},
   "source": [
    "The average density in the zones is given by `simulation.simulation_state.density.cgs`. These also exist as Astropy [Quantities](http://astropy.readthedocs.org/en/v0.2.1/_generated/astropy.units.quantity.Quantity.html)."
   ]
  },
  {
   "cell_type": "code",
   "execution_count": 7,
   "metadata": {
    "execution": {
     "iopub.execute_input": "2024-07-31T12:26:30.354953Z",
     "iopub.status.busy": "2024-07-31T12:26:30.354787Z",
     "iopub.status.idle": "2024-07-31T12:26:30.368435Z",
     "shell.execute_reply": "2024-07-31T12:26:30.368033Z"
    }
   },
   "outputs": [
    {
     "data": {
      "text/latex": [
       "$[7.5428036 \\times 10^{-14},~5.728475 \\times 10^{-14},~4.3960742 \\times 10^{-14},~3.4062874 \\times 10^{-14},~2.6631346 \\times 10^{-14},~2.0995965 \\times 10^{-14},~1.6682872 \\times 10^{-14},~1.3353105 \\times 10^{-14},~1.0761538 \\times 10^{-14},~8.7290848 \\times 10^{-15},~7.1236516 \\times 10^{-15},~5.8469209 \\times 10^{-15},~4.8250928 \\times 10^{-15},~4.0023242 \\times 10^{-15},~3.3360386 \\times 10^{-15},~2.7935404 \\times 10^{-15},~2.3495504 \\times 10^{-15},~1.9843968 \\times 10^{-15},~1.6826769 \\times 10^{-15},~1.4322598 \\times 10^{-15}] \\; \\mathrm{\\frac{g}{cm^{3}}}$"
      ],
      "text/plain": [
       "<Quantity [7.54280360e-14, 5.72847501e-14, 4.39607422e-14, 3.40628743e-14,\n",
       "           2.66313464e-14, 2.09959645e-14, 1.66828721e-14, 1.33531053e-14,\n",
       "           1.07615377e-14, 8.72908485e-15, 7.12365156e-15, 5.84692095e-15,\n",
       "           4.82509279e-15, 4.00232416e-15, 3.33603855e-15, 2.79354038e-15,\n",
       "           2.34955043e-15, 1.98439683e-15, 1.68267689e-15, 1.43225980e-15] g / cm3>"
      ]
     },
     "execution_count": 7,
     "metadata": {},
     "output_type": "execute_result"
    }
   ],
   "source": [
    "simulation.simulation_state.density.cgs"
   ]
  },
  {
   "cell_type": "markdown",
   "metadata": {},
   "source": [
    "Many other interesting quantities are stored in the `plasma`.\n",
    "For example the calculated ion populations and level populations is given by `simulation.plasma.ion_number_density` and `simulation.plasma.level_number_density` respectively."
   ]
  },
  {
   "cell_type": "code",
   "execution_count": 8,
   "metadata": {
    "execution": {
     "iopub.execute_input": "2024-07-31T12:26:30.370240Z",
     "iopub.status.busy": "2024-07-31T12:26:30.370064Z",
     "iopub.status.idle": "2024-07-31T12:26:30.387651Z",
     "shell.execute_reply": "2024-07-31T12:26:30.387186Z"
    }
   },
   "outputs": [
    {
     "data": {
      "text/html": [
       "<div>\n",
       "<style scoped>\n",
       "    .dataframe tbody tr th:only-of-type {\n",
       "        vertical-align: middle;\n",
       "    }\n",
       "\n",
       "    .dataframe tbody tr th {\n",
       "        vertical-align: top;\n",
       "    }\n",
       "\n",
       "    .dataframe thead th {\n",
       "        text-align: right;\n",
       "    }\n",
       "</style>\n",
       "<table border=\"1\" class=\"dataframe\">\n",
       "  <thead>\n",
       "    <tr style=\"text-align: right;\">\n",
       "      <th></th>\n",
       "      <th></th>\n",
       "      <th>0</th>\n",
       "      <th>1</th>\n",
       "      <th>2</th>\n",
       "      <th>3</th>\n",
       "      <th>4</th>\n",
       "      <th>5</th>\n",
       "      <th>6</th>\n",
       "      <th>7</th>\n",
       "      <th>8</th>\n",
       "      <th>9</th>\n",
       "      <th>10</th>\n",
       "      <th>11</th>\n",
       "      <th>12</th>\n",
       "      <th>13</th>\n",
       "      <th>14</th>\n",
       "      <th>15</th>\n",
       "      <th>16</th>\n",
       "      <th>17</th>\n",
       "      <th>18</th>\n",
       "      <th>19</th>\n",
       "    </tr>\n",
       "    <tr>\n",
       "      <th>atomic_number</th>\n",
       "      <th>ion_number</th>\n",
       "      <th></th>\n",
       "      <th></th>\n",
       "      <th></th>\n",
       "      <th></th>\n",
       "      <th></th>\n",
       "      <th></th>\n",
       "      <th></th>\n",
       "      <th></th>\n",
       "      <th></th>\n",
       "      <th></th>\n",
       "      <th></th>\n",
       "      <th></th>\n",
       "      <th></th>\n",
       "      <th></th>\n",
       "      <th></th>\n",
       "      <th></th>\n",
       "      <th></th>\n",
       "      <th></th>\n",
       "      <th></th>\n",
       "      <th></th>\n",
       "    </tr>\n",
       "  </thead>\n",
       "  <tbody>\n",
       "    <tr>\n",
       "      <th rowspan=\"5\" valign=\"top\">8</th>\n",
       "      <th>0</th>\n",
       "      <td>9.817541e+02</td>\n",
       "      <td>4.952192e+02</td>\n",
       "      <td>2.514676e+02</td>\n",
       "      <td>1.318559e+02</td>\n",
       "      <td>8.523577e+01</td>\n",
       "      <td>5.320207e+01</td>\n",
       "      <td>3.527606e+01</td>\n",
       "      <td>2.366975e+01</td>\n",
       "      <td>1.582107e+01</td>\n",
       "      <td>1.185305e+01</td>\n",
       "      <td>8.815497e+00</td>\n",
       "      <td>6.540669e+00</td>\n",
       "      <td>4.850194e+00</td>\n",
       "      <td>3.782471e+00</td>\n",
       "      <td>2.948439e+00</td>\n",
       "      <td>2.514696e+00</td>\n",
       "      <td>1.980990e+00</td>\n",
       "      <td>1.454287e+00</td>\n",
       "      <td>1.288493e+00</td>\n",
       "      <td>1.151839e+00</td>\n",
       "    </tr>\n",
       "    <tr>\n",
       "      <th>1</th>\n",
       "      <td>5.392046e+08</td>\n",
       "      <td>4.093669e+08</td>\n",
       "      <td>3.139475e+08</td>\n",
       "      <td>2.429934e+08</td>\n",
       "      <td>1.899227e+08</td>\n",
       "      <td>1.496264e+08</td>\n",
       "      <td>1.188395e+08</td>\n",
       "      <td>9.507571e+07</td>\n",
       "      <td>7.657002e+07</td>\n",
       "      <td>6.213943e+07</td>\n",
       "      <td>5.072480e+07</td>\n",
       "      <td>4.163973e+07</td>\n",
       "      <td>3.436439e+07</td>\n",
       "      <td>2.851733e+07</td>\n",
       "      <td>2.377784e+07</td>\n",
       "      <td>1.992820e+07</td>\n",
       "      <td>1.676439e+07</td>\n",
       "      <td>1.415556e+07</td>\n",
       "      <td>1.201203e+07</td>\n",
       "      <td>1.022981e+07</td>\n",
       "    </tr>\n",
       "    <tr>\n",
       "      <th>2</th>\n",
       "      <td>2.226602e+05</td>\n",
       "      <td>3.079859e+05</td>\n",
       "      <td>4.402008e+05</td>\n",
       "      <td>6.091628e+05</td>\n",
       "      <td>5.329124e+05</td>\n",
       "      <td>5.275052e+05</td>\n",
       "      <td>4.690734e+05</td>\n",
       "      <td>4.198082e+05</td>\n",
       "      <td>3.917586e+05</td>\n",
       "      <td>2.871442e+05</td>\n",
       "      <td>2.204204e+05</td>\n",
       "      <td>1.748728e+05</td>\n",
       "      <td>1.425520e+05</td>\n",
       "      <td>1.055346e+05</td>\n",
       "      <td>8.003898e+04</td>\n",
       "      <td>4.996889e+04</td>\n",
       "      <td>3.855664e+04</td>\n",
       "      <td>3.597715e+04</td>\n",
       "      <td>2.173746e+04</td>\n",
       "      <td>1.307832e+04</td>\n",
       "    </tr>\n",
       "    <tr>\n",
       "      <th>3</th>\n",
       "      <td>2.645841e-08</td>\n",
       "      <td>7.972540e-08</td>\n",
       "      <td>2.585740e-07</td>\n",
       "      <td>7.655780e-07</td>\n",
       "      <td>6.973306e-07</td>\n",
       "      <td>8.635538e-07</td>\n",
       "      <td>8.070076e-07</td>\n",
       "      <td>7.611136e-07</td>\n",
       "      <td>7.934242e-07</td>\n",
       "      <td>4.430639e-07</td>\n",
       "      <td>2.767649e-07</td>\n",
       "      <td>1.870047e-07</td>\n",
       "      <td>1.346884e-07</td>\n",
       "      <td>7.544950e-08</td>\n",
       "      <td>4.473829e-08</td>\n",
       "      <td>1.606762e-08</td>\n",
       "      <td>9.868697e-09</td>\n",
       "      <td>9.803360e-09</td>\n",
       "      <td>3.199626e-09</td>\n",
       "      <td>1.029618e-09</td>\n",
       "    </tr>\n",
       "    <tr>\n",
       "      <th>4</th>\n",
       "      <td>0.000000e+00</td>\n",
       "      <td>0.000000e+00</td>\n",
       "      <td>0.000000e+00</td>\n",
       "      <td>0.000000e+00</td>\n",
       "      <td>0.000000e+00</td>\n",
       "      <td>0.000000e+00</td>\n",
       "      <td>0.000000e+00</td>\n",
       "      <td>0.000000e+00</td>\n",
       "      <td>0.000000e+00</td>\n",
       "      <td>0.000000e+00</td>\n",
       "      <td>0.000000e+00</td>\n",
       "      <td>0.000000e+00</td>\n",
       "      <td>0.000000e+00</td>\n",
       "      <td>0.000000e+00</td>\n",
       "      <td>0.000000e+00</td>\n",
       "      <td>0.000000e+00</td>\n",
       "      <td>0.000000e+00</td>\n",
       "      <td>0.000000e+00</td>\n",
       "      <td>0.000000e+00</td>\n",
       "      <td>0.000000e+00</td>\n",
       "    </tr>\n",
       "    <tr>\n",
       "      <th>...</th>\n",
       "      <th>...</th>\n",
       "      <td>...</td>\n",
       "      <td>...</td>\n",
       "      <td>...</td>\n",
       "      <td>...</td>\n",
       "      <td>...</td>\n",
       "      <td>...</td>\n",
       "      <td>...</td>\n",
       "      <td>...</td>\n",
       "      <td>...</td>\n",
       "      <td>...</td>\n",
       "      <td>...</td>\n",
       "      <td>...</td>\n",
       "      <td>...</td>\n",
       "      <td>...</td>\n",
       "      <td>...</td>\n",
       "      <td>...</td>\n",
       "      <td>...</td>\n",
       "      <td>...</td>\n",
       "      <td>...</td>\n",
       "      <td>...</td>\n",
       "    </tr>\n",
       "    <tr>\n",
       "      <th rowspan=\"5\" valign=\"top\">20</th>\n",
       "      <th>16</th>\n",
       "      <td>0.000000e+00</td>\n",
       "      <td>0.000000e+00</td>\n",
       "      <td>0.000000e+00</td>\n",
       "      <td>0.000000e+00</td>\n",
       "      <td>0.000000e+00</td>\n",
       "      <td>0.000000e+00</td>\n",
       "      <td>0.000000e+00</td>\n",
       "      <td>0.000000e+00</td>\n",
       "      <td>0.000000e+00</td>\n",
       "      <td>0.000000e+00</td>\n",
       "      <td>0.000000e+00</td>\n",
       "      <td>0.000000e+00</td>\n",
       "      <td>0.000000e+00</td>\n",
       "      <td>0.000000e+00</td>\n",
       "      <td>0.000000e+00</td>\n",
       "      <td>0.000000e+00</td>\n",
       "      <td>0.000000e+00</td>\n",
       "      <td>0.000000e+00</td>\n",
       "      <td>0.000000e+00</td>\n",
       "      <td>0.000000e+00</td>\n",
       "    </tr>\n",
       "    <tr>\n",
       "      <th>17</th>\n",
       "      <td>0.000000e+00</td>\n",
       "      <td>0.000000e+00</td>\n",
       "      <td>0.000000e+00</td>\n",
       "      <td>0.000000e+00</td>\n",
       "      <td>0.000000e+00</td>\n",
       "      <td>0.000000e+00</td>\n",
       "      <td>0.000000e+00</td>\n",
       "      <td>0.000000e+00</td>\n",
       "      <td>0.000000e+00</td>\n",
       "      <td>0.000000e+00</td>\n",
       "      <td>0.000000e+00</td>\n",
       "      <td>0.000000e+00</td>\n",
       "      <td>0.000000e+00</td>\n",
       "      <td>0.000000e+00</td>\n",
       "      <td>0.000000e+00</td>\n",
       "      <td>0.000000e+00</td>\n",
       "      <td>0.000000e+00</td>\n",
       "      <td>0.000000e+00</td>\n",
       "      <td>0.000000e+00</td>\n",
       "      <td>0.000000e+00</td>\n",
       "    </tr>\n",
       "    <tr>\n",
       "      <th>18</th>\n",
       "      <td>0.000000e+00</td>\n",
       "      <td>0.000000e+00</td>\n",
       "      <td>0.000000e+00</td>\n",
       "      <td>0.000000e+00</td>\n",
       "      <td>0.000000e+00</td>\n",
       "      <td>0.000000e+00</td>\n",
       "      <td>0.000000e+00</td>\n",
       "      <td>0.000000e+00</td>\n",
       "      <td>0.000000e+00</td>\n",
       "      <td>0.000000e+00</td>\n",
       "      <td>0.000000e+00</td>\n",
       "      <td>0.000000e+00</td>\n",
       "      <td>0.000000e+00</td>\n",
       "      <td>0.000000e+00</td>\n",
       "      <td>0.000000e+00</td>\n",
       "      <td>0.000000e+00</td>\n",
       "      <td>0.000000e+00</td>\n",
       "      <td>0.000000e+00</td>\n",
       "      <td>0.000000e+00</td>\n",
       "      <td>0.000000e+00</td>\n",
       "    </tr>\n",
       "    <tr>\n",
       "      <th>19</th>\n",
       "      <td>0.000000e+00</td>\n",
       "      <td>0.000000e+00</td>\n",
       "      <td>0.000000e+00</td>\n",
       "      <td>0.000000e+00</td>\n",
       "      <td>0.000000e+00</td>\n",
       "      <td>0.000000e+00</td>\n",
       "      <td>0.000000e+00</td>\n",
       "      <td>0.000000e+00</td>\n",
       "      <td>0.000000e+00</td>\n",
       "      <td>0.000000e+00</td>\n",
       "      <td>0.000000e+00</td>\n",
       "      <td>0.000000e+00</td>\n",
       "      <td>0.000000e+00</td>\n",
       "      <td>0.000000e+00</td>\n",
       "      <td>0.000000e+00</td>\n",
       "      <td>0.000000e+00</td>\n",
       "      <td>0.000000e+00</td>\n",
       "      <td>0.000000e+00</td>\n",
       "      <td>0.000000e+00</td>\n",
       "      <td>0.000000e+00</td>\n",
       "    </tr>\n",
       "    <tr>\n",
       "      <th>20</th>\n",
       "      <td>0.000000e+00</td>\n",
       "      <td>0.000000e+00</td>\n",
       "      <td>0.000000e+00</td>\n",
       "      <td>0.000000e+00</td>\n",
       "      <td>0.000000e+00</td>\n",
       "      <td>0.000000e+00</td>\n",
       "      <td>0.000000e+00</td>\n",
       "      <td>0.000000e+00</td>\n",
       "      <td>0.000000e+00</td>\n",
       "      <td>0.000000e+00</td>\n",
       "      <td>0.000000e+00</td>\n",
       "      <td>0.000000e+00</td>\n",
       "      <td>0.000000e+00</td>\n",
       "      <td>0.000000e+00</td>\n",
       "      <td>0.000000e+00</td>\n",
       "      <td>0.000000e+00</td>\n",
       "      <td>0.000000e+00</td>\n",
       "      <td>0.000000e+00</td>\n",
       "      <td>0.000000e+00</td>\n",
       "      <td>0.000000e+00</td>\n",
       "    </tr>\n",
       "  </tbody>\n",
       "</table>\n",
       "<p>94 rows × 20 columns</p>\n",
       "</div>"
      ],
      "text/plain": [
       "                                    0             1             2   \\\n",
       "atomic_number ion_number                                             \n",
       "8             0           9.817541e+02  4.952192e+02  2.514676e+02   \n",
       "              1           5.392046e+08  4.093669e+08  3.139475e+08   \n",
       "              2           2.226602e+05  3.079859e+05  4.402008e+05   \n",
       "              3           2.645841e-08  7.972540e-08  2.585740e-07   \n",
       "              4           0.000000e+00  0.000000e+00  0.000000e+00   \n",
       "...                                ...           ...           ...   \n",
       "20            16          0.000000e+00  0.000000e+00  0.000000e+00   \n",
       "              17          0.000000e+00  0.000000e+00  0.000000e+00   \n",
       "              18          0.000000e+00  0.000000e+00  0.000000e+00   \n",
       "              19          0.000000e+00  0.000000e+00  0.000000e+00   \n",
       "              20          0.000000e+00  0.000000e+00  0.000000e+00   \n",
       "\n",
       "                                    3             4             5   \\\n",
       "atomic_number ion_number                                             \n",
       "8             0           1.318559e+02  8.523577e+01  5.320207e+01   \n",
       "              1           2.429934e+08  1.899227e+08  1.496264e+08   \n",
       "              2           6.091628e+05  5.329124e+05  5.275052e+05   \n",
       "              3           7.655780e-07  6.973306e-07  8.635538e-07   \n",
       "              4           0.000000e+00  0.000000e+00  0.000000e+00   \n",
       "...                                ...           ...           ...   \n",
       "20            16          0.000000e+00  0.000000e+00  0.000000e+00   \n",
       "              17          0.000000e+00  0.000000e+00  0.000000e+00   \n",
       "              18          0.000000e+00  0.000000e+00  0.000000e+00   \n",
       "              19          0.000000e+00  0.000000e+00  0.000000e+00   \n",
       "              20          0.000000e+00  0.000000e+00  0.000000e+00   \n",
       "\n",
       "                                    6             7             8   \\\n",
       "atomic_number ion_number                                             \n",
       "8             0           3.527606e+01  2.366975e+01  1.582107e+01   \n",
       "              1           1.188395e+08  9.507571e+07  7.657002e+07   \n",
       "              2           4.690734e+05  4.198082e+05  3.917586e+05   \n",
       "              3           8.070076e-07  7.611136e-07  7.934242e-07   \n",
       "              4           0.000000e+00  0.000000e+00  0.000000e+00   \n",
       "...                                ...           ...           ...   \n",
       "20            16          0.000000e+00  0.000000e+00  0.000000e+00   \n",
       "              17          0.000000e+00  0.000000e+00  0.000000e+00   \n",
       "              18          0.000000e+00  0.000000e+00  0.000000e+00   \n",
       "              19          0.000000e+00  0.000000e+00  0.000000e+00   \n",
       "              20          0.000000e+00  0.000000e+00  0.000000e+00   \n",
       "\n",
       "                                    9             10            11  \\\n",
       "atomic_number ion_number                                             \n",
       "8             0           1.185305e+01  8.815497e+00  6.540669e+00   \n",
       "              1           6.213943e+07  5.072480e+07  4.163973e+07   \n",
       "              2           2.871442e+05  2.204204e+05  1.748728e+05   \n",
       "              3           4.430639e-07  2.767649e-07  1.870047e-07   \n",
       "              4           0.000000e+00  0.000000e+00  0.000000e+00   \n",
       "...                                ...           ...           ...   \n",
       "20            16          0.000000e+00  0.000000e+00  0.000000e+00   \n",
       "              17          0.000000e+00  0.000000e+00  0.000000e+00   \n",
       "              18          0.000000e+00  0.000000e+00  0.000000e+00   \n",
       "              19          0.000000e+00  0.000000e+00  0.000000e+00   \n",
       "              20          0.000000e+00  0.000000e+00  0.000000e+00   \n",
       "\n",
       "                                    12            13            14  \\\n",
       "atomic_number ion_number                                             \n",
       "8             0           4.850194e+00  3.782471e+00  2.948439e+00   \n",
       "              1           3.436439e+07  2.851733e+07  2.377784e+07   \n",
       "              2           1.425520e+05  1.055346e+05  8.003898e+04   \n",
       "              3           1.346884e-07  7.544950e-08  4.473829e-08   \n",
       "              4           0.000000e+00  0.000000e+00  0.000000e+00   \n",
       "...                                ...           ...           ...   \n",
       "20            16          0.000000e+00  0.000000e+00  0.000000e+00   \n",
       "              17          0.000000e+00  0.000000e+00  0.000000e+00   \n",
       "              18          0.000000e+00  0.000000e+00  0.000000e+00   \n",
       "              19          0.000000e+00  0.000000e+00  0.000000e+00   \n",
       "              20          0.000000e+00  0.000000e+00  0.000000e+00   \n",
       "\n",
       "                                    15            16            17  \\\n",
       "atomic_number ion_number                                             \n",
       "8             0           2.514696e+00  1.980990e+00  1.454287e+00   \n",
       "              1           1.992820e+07  1.676439e+07  1.415556e+07   \n",
       "              2           4.996889e+04  3.855664e+04  3.597715e+04   \n",
       "              3           1.606762e-08  9.868697e-09  9.803360e-09   \n",
       "              4           0.000000e+00  0.000000e+00  0.000000e+00   \n",
       "...                                ...           ...           ...   \n",
       "20            16          0.000000e+00  0.000000e+00  0.000000e+00   \n",
       "              17          0.000000e+00  0.000000e+00  0.000000e+00   \n",
       "              18          0.000000e+00  0.000000e+00  0.000000e+00   \n",
       "              19          0.000000e+00  0.000000e+00  0.000000e+00   \n",
       "              20          0.000000e+00  0.000000e+00  0.000000e+00   \n",
       "\n",
       "                                    18            19  \n",
       "atomic_number ion_number                              \n",
       "8             0           1.288493e+00  1.151839e+00  \n",
       "              1           1.201203e+07  1.022981e+07  \n",
       "              2           2.173746e+04  1.307832e+04  \n",
       "              3           3.199626e-09  1.029618e-09  \n",
       "              4           0.000000e+00  0.000000e+00  \n",
       "...                                ...           ...  \n",
       "20            16          0.000000e+00  0.000000e+00  \n",
       "              17          0.000000e+00  0.000000e+00  \n",
       "              18          0.000000e+00  0.000000e+00  \n",
       "              19          0.000000e+00  0.000000e+00  \n",
       "              20          0.000000e+00  0.000000e+00  \n",
       "\n",
       "[94 rows x 20 columns]"
      ]
     },
     "execution_count": 8,
     "metadata": {},
     "output_type": "execute_result"
    }
   ],
   "source": [
    "simulation.plasma.ion_number_density"
   ]
  },
  {
   "cell_type": "code",
   "execution_count": 9,
   "metadata": {
    "execution": {
     "iopub.execute_input": "2024-07-31T12:26:30.389593Z",
     "iopub.status.busy": "2024-07-31T12:26:30.389299Z",
     "iopub.status.idle": "2024-07-31T12:26:30.404142Z",
     "shell.execute_reply": "2024-07-31T12:26:30.403656Z"
    }
   },
   "outputs": [
    {
     "data": {
      "text/html": [
       "<div>\n",
       "<style scoped>\n",
       "    .dataframe tbody tr th:only-of-type {\n",
       "        vertical-align: middle;\n",
       "    }\n",
       "\n",
       "    .dataframe tbody tr th {\n",
       "        vertical-align: top;\n",
       "    }\n",
       "\n",
       "    .dataframe thead th {\n",
       "        text-align: right;\n",
       "    }\n",
       "</style>\n",
       "<table border=\"1\" class=\"dataframe\">\n",
       "  <thead>\n",
       "    <tr style=\"text-align: right;\">\n",
       "      <th></th>\n",
       "      <th></th>\n",
       "      <th></th>\n",
       "      <th>0</th>\n",
       "      <th>1</th>\n",
       "      <th>2</th>\n",
       "      <th>3</th>\n",
       "      <th>4</th>\n",
       "      <th>5</th>\n",
       "      <th>6</th>\n",
       "      <th>7</th>\n",
       "      <th>8</th>\n",
       "      <th>9</th>\n",
       "      <th>10</th>\n",
       "      <th>11</th>\n",
       "      <th>12</th>\n",
       "      <th>13</th>\n",
       "      <th>14</th>\n",
       "      <th>15</th>\n",
       "      <th>16</th>\n",
       "      <th>17</th>\n",
       "      <th>18</th>\n",
       "      <th>19</th>\n",
       "    </tr>\n",
       "    <tr>\n",
       "      <th>atomic_number</th>\n",
       "      <th>ion_number</th>\n",
       "      <th>level_number</th>\n",
       "      <th></th>\n",
       "      <th></th>\n",
       "      <th></th>\n",
       "      <th></th>\n",
       "      <th></th>\n",
       "      <th></th>\n",
       "      <th></th>\n",
       "      <th></th>\n",
       "      <th></th>\n",
       "      <th></th>\n",
       "      <th></th>\n",
       "      <th></th>\n",
       "      <th></th>\n",
       "      <th></th>\n",
       "      <th></th>\n",
       "      <th></th>\n",
       "      <th></th>\n",
       "      <th></th>\n",
       "      <th></th>\n",
       "      <th></th>\n",
       "    </tr>\n",
       "  </thead>\n",
       "  <tbody>\n",
       "    <tr>\n",
       "      <th rowspan=\"5\" valign=\"top\">8</th>\n",
       "      <th rowspan=\"5\" valign=\"top\">0</th>\n",
       "      <th>0</th>\n",
       "      <td>513.492299</td>\n",
       "      <td>258.671585</td>\n",
       "      <td>131.154368</td>\n",
       "      <td>68.674580</td>\n",
       "      <td>44.418418</td>\n",
       "      <td>27.725805</td>\n",
       "      <td>18.392821</td>\n",
       "      <td>12.346995</td>\n",
       "      <td>8.255151</td>\n",
       "      <td>6.192690</td>\n",
       "      <td>4.610677</td>\n",
       "      <td>3.424086</td>\n",
       "      <td>2.541173</td>\n",
       "      <td>1.984107</td>\n",
       "      <td>1.548271</td>\n",
       "      <td>1.322879</td>\n",
       "      <td>1.043126</td>\n",
       "      <td>0.765974</td>\n",
       "      <td>0.679901</td>\n",
       "      <td>0.608892</td>\n",
       "    </tr>\n",
       "    <tr>\n",
       "      <th>1</th>\n",
       "      <td>301.822270</td>\n",
       "      <td>152.069720</td>\n",
       "      <td>77.118971</td>\n",
       "      <td>40.387920</td>\n",
       "      <td>26.120864</td>\n",
       "      <td>16.304473</td>\n",
       "      <td>10.815431</td>\n",
       "      <td>7.259908</td>\n",
       "      <td>4.853770</td>\n",
       "      <td>3.640496</td>\n",
       "      <td>2.710091</td>\n",
       "      <td>2.012378</td>\n",
       "      <td>1.493315</td>\n",
       "      <td>1.165766</td>\n",
       "      <td>0.909554</td>\n",
       "      <td>0.776946</td>\n",
       "      <td>0.612557</td>\n",
       "      <td>0.449788</td>\n",
       "      <td>0.399136</td>\n",
       "      <td>0.357352</td>\n",
       "    </tr>\n",
       "    <tr>\n",
       "      <th>2</th>\n",
       "      <td>99.712889</td>\n",
       "      <td>50.243057</td>\n",
       "      <td>25.481864</td>\n",
       "      <td>13.346116</td>\n",
       "      <td>8.631325</td>\n",
       "      <td>5.387607</td>\n",
       "      <td>3.573725</td>\n",
       "      <td>2.398818</td>\n",
       "      <td>1.603757</td>\n",
       "      <td>1.202786</td>\n",
       "      <td>0.895333</td>\n",
       "      <td>0.664793</td>\n",
       "      <td>0.493296</td>\n",
       "      <td>0.385068</td>\n",
       "      <td>0.300418</td>\n",
       "      <td>0.256590</td>\n",
       "      <td>0.202288</td>\n",
       "      <td>0.148533</td>\n",
       "      <td>0.131791</td>\n",
       "      <td>0.117980</td>\n",
       "    </tr>\n",
       "    <tr>\n",
       "      <th>3</th>\n",
       "      <td>65.284281</td>\n",
       "      <td>33.474270</td>\n",
       "      <td>17.306588</td>\n",
       "      <td>9.224554</td>\n",
       "      <td>5.923827</td>\n",
       "      <td>3.696062</td>\n",
       "      <td>2.436586</td>\n",
       "      <td>1.626021</td>\n",
       "      <td>1.083219</td>\n",
       "      <td>0.799011</td>\n",
       "      <td>0.586431</td>\n",
       "      <td>0.430088</td>\n",
       "      <td>0.315682</td>\n",
       "      <td>0.242490</td>\n",
       "      <td>0.186407</td>\n",
       "      <td>0.155243</td>\n",
       "      <td>0.120705</td>\n",
       "      <td>0.088307</td>\n",
       "      <td>0.076267</td>\n",
       "      <td>0.066442</td>\n",
       "    </tr>\n",
       "    <tr>\n",
       "      <th>4</th>\n",
       "      <td>1.270591</td>\n",
       "      <td>0.664649</td>\n",
       "      <td>0.351282</td>\n",
       "      <td>0.191034</td>\n",
       "      <td>0.121690</td>\n",
       "      <td>0.075890</td>\n",
       "      <td>0.049677</td>\n",
       "      <td>0.032930</td>\n",
       "      <td>0.021848</td>\n",
       "      <td>0.015812</td>\n",
       "      <td>0.011419</td>\n",
       "      <td>0.008257</td>\n",
       "      <td>0.005985</td>\n",
       "      <td>0.004514</td>\n",
       "      <td>0.003411</td>\n",
       "      <td>0.002760</td>\n",
       "      <td>0.002112</td>\n",
       "      <td>0.001539</td>\n",
       "      <td>0.001289</td>\n",
       "      <td>0.001088</td>\n",
       "    </tr>\n",
       "    <tr>\n",
       "      <th>...</th>\n",
       "      <th>...</th>\n",
       "      <th>...</th>\n",
       "      <td>...</td>\n",
       "      <td>...</td>\n",
       "      <td>...</td>\n",
       "      <td>...</td>\n",
       "      <td>...</td>\n",
       "      <td>...</td>\n",
       "      <td>...</td>\n",
       "      <td>...</td>\n",
       "      <td>...</td>\n",
       "      <td>...</td>\n",
       "      <td>...</td>\n",
       "      <td>...</td>\n",
       "      <td>...</td>\n",
       "      <td>...</td>\n",
       "      <td>...</td>\n",
       "      <td>...</td>\n",
       "      <td>...</td>\n",
       "      <td>...</td>\n",
       "      <td>...</td>\n",
       "      <td>...</td>\n",
       "    </tr>\n",
       "    <tr>\n",
       "      <th rowspan=\"5\" valign=\"top\">20</th>\n",
       "      <th>16</th>\n",
       "      <th>0</th>\n",
       "      <td>0.000000</td>\n",
       "      <td>0.000000</td>\n",
       "      <td>0.000000</td>\n",
       "      <td>0.000000</td>\n",
       "      <td>0.000000</td>\n",
       "      <td>0.000000</td>\n",
       "      <td>0.000000</td>\n",
       "      <td>0.000000</td>\n",
       "      <td>0.000000</td>\n",
       "      <td>0.000000</td>\n",
       "      <td>0.000000</td>\n",
       "      <td>0.000000</td>\n",
       "      <td>0.000000</td>\n",
       "      <td>0.000000</td>\n",
       "      <td>0.000000</td>\n",
       "      <td>0.000000</td>\n",
       "      <td>0.000000</td>\n",
       "      <td>0.000000</td>\n",
       "      <td>0.000000</td>\n",
       "      <td>0.000000</td>\n",
       "    </tr>\n",
       "    <tr>\n",
       "      <th>17</th>\n",
       "      <th>0</th>\n",
       "      <td>0.000000</td>\n",
       "      <td>0.000000</td>\n",
       "      <td>0.000000</td>\n",
       "      <td>0.000000</td>\n",
       "      <td>0.000000</td>\n",
       "      <td>0.000000</td>\n",
       "      <td>0.000000</td>\n",
       "      <td>0.000000</td>\n",
       "      <td>0.000000</td>\n",
       "      <td>0.000000</td>\n",
       "      <td>0.000000</td>\n",
       "      <td>0.000000</td>\n",
       "      <td>0.000000</td>\n",
       "      <td>0.000000</td>\n",
       "      <td>0.000000</td>\n",
       "      <td>0.000000</td>\n",
       "      <td>0.000000</td>\n",
       "      <td>0.000000</td>\n",
       "      <td>0.000000</td>\n",
       "      <td>0.000000</td>\n",
       "    </tr>\n",
       "    <tr>\n",
       "      <th>18</th>\n",
       "      <th>0</th>\n",
       "      <td>0.000000</td>\n",
       "      <td>0.000000</td>\n",
       "      <td>0.000000</td>\n",
       "      <td>0.000000</td>\n",
       "      <td>0.000000</td>\n",
       "      <td>0.000000</td>\n",
       "      <td>0.000000</td>\n",
       "      <td>0.000000</td>\n",
       "      <td>0.000000</td>\n",
       "      <td>0.000000</td>\n",
       "      <td>0.000000</td>\n",
       "      <td>0.000000</td>\n",
       "      <td>0.000000</td>\n",
       "      <td>0.000000</td>\n",
       "      <td>0.000000</td>\n",
       "      <td>0.000000</td>\n",
       "      <td>0.000000</td>\n",
       "      <td>0.000000</td>\n",
       "      <td>0.000000</td>\n",
       "      <td>0.000000</td>\n",
       "    </tr>\n",
       "    <tr>\n",
       "      <th>19</th>\n",
       "      <th>0</th>\n",
       "      <td>0.000000</td>\n",
       "      <td>0.000000</td>\n",
       "      <td>0.000000</td>\n",
       "      <td>0.000000</td>\n",
       "      <td>0.000000</td>\n",
       "      <td>0.000000</td>\n",
       "      <td>0.000000</td>\n",
       "      <td>0.000000</td>\n",
       "      <td>0.000000</td>\n",
       "      <td>0.000000</td>\n",
       "      <td>0.000000</td>\n",
       "      <td>0.000000</td>\n",
       "      <td>0.000000</td>\n",
       "      <td>0.000000</td>\n",
       "      <td>0.000000</td>\n",
       "      <td>0.000000</td>\n",
       "      <td>0.000000</td>\n",
       "      <td>0.000000</td>\n",
       "      <td>0.000000</td>\n",
       "      <td>0.000000</td>\n",
       "    </tr>\n",
       "    <tr>\n",
       "      <th>20</th>\n",
       "      <th>0</th>\n",
       "      <td>0.000000</td>\n",
       "      <td>0.000000</td>\n",
       "      <td>0.000000</td>\n",
       "      <td>0.000000</td>\n",
       "      <td>0.000000</td>\n",
       "      <td>0.000000</td>\n",
       "      <td>0.000000</td>\n",
       "      <td>0.000000</td>\n",
       "      <td>0.000000</td>\n",
       "      <td>0.000000</td>\n",
       "      <td>0.000000</td>\n",
       "      <td>0.000000</td>\n",
       "      <td>0.000000</td>\n",
       "      <td>0.000000</td>\n",
       "      <td>0.000000</td>\n",
       "      <td>0.000000</td>\n",
       "      <td>0.000000</td>\n",
       "      <td>0.000000</td>\n",
       "      <td>0.000000</td>\n",
       "      <td>0.000000</td>\n",
       "    </tr>\n",
       "  </tbody>\n",
       "</table>\n",
       "<p>4435 rows × 20 columns</p>\n",
       "</div>"
      ],
      "text/plain": [
       "                                               0           1           2   \\\n",
       "atomic_number ion_number level_number                                       \n",
       "8             0          0             513.492299  258.671585  131.154368   \n",
       "                         1             301.822270  152.069720   77.118971   \n",
       "                         2              99.712889   50.243057   25.481864   \n",
       "                         3              65.284281   33.474270   17.306588   \n",
       "                         4               1.270591    0.664649    0.351282   \n",
       "...                                           ...         ...         ...   \n",
       "20            16         0               0.000000    0.000000    0.000000   \n",
       "              17         0               0.000000    0.000000    0.000000   \n",
       "              18         0               0.000000    0.000000    0.000000   \n",
       "              19         0               0.000000    0.000000    0.000000   \n",
       "              20         0               0.000000    0.000000    0.000000   \n",
       "\n",
       "                                              3          4          5   \\\n",
       "atomic_number ion_number level_number                                    \n",
       "8             0          0             68.674580  44.418418  27.725805   \n",
       "                         1             40.387920  26.120864  16.304473   \n",
       "                         2             13.346116   8.631325   5.387607   \n",
       "                         3              9.224554   5.923827   3.696062   \n",
       "                         4              0.191034   0.121690   0.075890   \n",
       "...                                          ...        ...        ...   \n",
       "20            16         0              0.000000   0.000000   0.000000   \n",
       "              17         0              0.000000   0.000000   0.000000   \n",
       "              18         0              0.000000   0.000000   0.000000   \n",
       "              19         0              0.000000   0.000000   0.000000   \n",
       "              20         0              0.000000   0.000000   0.000000   \n",
       "\n",
       "                                              6          7         8   \\\n",
       "atomic_number ion_number level_number                                   \n",
       "8             0          0             18.392821  12.346995  8.255151   \n",
       "                         1             10.815431   7.259908  4.853770   \n",
       "                         2              3.573725   2.398818  1.603757   \n",
       "                         3              2.436586   1.626021  1.083219   \n",
       "                         4              0.049677   0.032930  0.021848   \n",
       "...                                          ...        ...       ...   \n",
       "20            16         0              0.000000   0.000000  0.000000   \n",
       "              17         0              0.000000   0.000000  0.000000   \n",
       "              18         0              0.000000   0.000000  0.000000   \n",
       "              19         0              0.000000   0.000000  0.000000   \n",
       "              20         0              0.000000   0.000000  0.000000   \n",
       "\n",
       "                                             9         10        11        12  \\\n",
       "atomic_number ion_number level_number                                           \n",
       "8             0          0             6.192690  4.610677  3.424086  2.541173   \n",
       "                         1             3.640496  2.710091  2.012378  1.493315   \n",
       "                         2             1.202786  0.895333  0.664793  0.493296   \n",
       "                         3             0.799011  0.586431  0.430088  0.315682   \n",
       "                         4             0.015812  0.011419  0.008257  0.005985   \n",
       "...                                         ...       ...       ...       ...   \n",
       "20            16         0             0.000000  0.000000  0.000000  0.000000   \n",
       "              17         0             0.000000  0.000000  0.000000  0.000000   \n",
       "              18         0             0.000000  0.000000  0.000000  0.000000   \n",
       "              19         0             0.000000  0.000000  0.000000  0.000000   \n",
       "              20         0             0.000000  0.000000  0.000000  0.000000   \n",
       "\n",
       "                                             13        14        15        16  \\\n",
       "atomic_number ion_number level_number                                           \n",
       "8             0          0             1.984107  1.548271  1.322879  1.043126   \n",
       "                         1             1.165766  0.909554  0.776946  0.612557   \n",
       "                         2             0.385068  0.300418  0.256590  0.202288   \n",
       "                         3             0.242490  0.186407  0.155243  0.120705   \n",
       "                         4             0.004514  0.003411  0.002760  0.002112   \n",
       "...                                         ...       ...       ...       ...   \n",
       "20            16         0             0.000000  0.000000  0.000000  0.000000   \n",
       "              17         0             0.000000  0.000000  0.000000  0.000000   \n",
       "              18         0             0.000000  0.000000  0.000000  0.000000   \n",
       "              19         0             0.000000  0.000000  0.000000  0.000000   \n",
       "              20         0             0.000000  0.000000  0.000000  0.000000   \n",
       "\n",
       "                                             17        18        19  \n",
       "atomic_number ion_number level_number                                \n",
       "8             0          0             0.765974  0.679901  0.608892  \n",
       "                         1             0.449788  0.399136  0.357352  \n",
       "                         2             0.148533  0.131791  0.117980  \n",
       "                         3             0.088307  0.076267  0.066442  \n",
       "                         4             0.001539  0.001289  0.001088  \n",
       "...                                         ...       ...       ...  \n",
       "20            16         0             0.000000  0.000000  0.000000  \n",
       "              17         0             0.000000  0.000000  0.000000  \n",
       "              18         0             0.000000  0.000000  0.000000  \n",
       "              19         0             0.000000  0.000000  0.000000  \n",
       "              20         0             0.000000  0.000000  0.000000  \n",
       "\n",
       "[4435 rows x 20 columns]"
      ]
     },
     "execution_count": 9,
     "metadata": {},
     "output_type": "execute_result"
    }
   ],
   "source": [
    "simulation.plasma.level_number_density"
   ]
  },
  {
   "cell_type": "markdown",
   "metadata": {},
   "source": [
    "These are stored as Pandas `DataFrames`. An index can be supplied to obtain the population in a particular zone. E.g., for the ion populations of the innermost zone (index = 0), we will use \n",
    "`simulation.plasma.ion_number_density[0]`"
   ]
  },
  {
   "cell_type": "code",
   "execution_count": 10,
   "metadata": {
    "execution": {
     "iopub.execute_input": "2024-07-31T12:26:30.406052Z",
     "iopub.status.busy": "2024-07-31T12:26:30.405749Z",
     "iopub.status.idle": "2024-07-31T12:26:30.410432Z",
     "shell.execute_reply": "2024-07-31T12:26:30.409969Z"
    }
   },
   "outputs": [
    {
     "data": {
      "text/plain": [
       "atomic_number  ion_number\n",
       "8              0             9.817541e+02\n",
       "               1             5.392046e+08\n",
       "               2             2.226602e+05\n",
       "               3             2.645841e-08\n",
       "               4             0.000000e+00\n",
       "                                 ...     \n",
       "20             16            0.000000e+00\n",
       "               17            0.000000e+00\n",
       "               18            0.000000e+00\n",
       "               19            0.000000e+00\n",
       "               20            0.000000e+00\n",
       "Name: 0, Length: 94, dtype: float64"
      ]
     },
     "execution_count": 10,
     "metadata": {},
     "output_type": "execute_result"
    }
   ],
   "source": [
    "simulation.plasma.ion_number_density[0]"
   ]
  },
  {
   "cell_type": "markdown",
   "metadata": {},
   "source": [
    "Ion populations for a particular ionization stage of a particular element can be accessed by specifying an appropriate tuple (𝑍,𝐶), which identifies the element (via atomic number 𝑍 ) and the charge (via the ion charge 𝐶 ). Thus, `simulation.plasma.ion_number_density.loc[14,1]` will identify the ion popuations for Si II (𝑍=14,𝐶=1) in all the zones. "
   ]
  },
  {
   "cell_type": "code",
   "execution_count": 11,
   "metadata": {
    "execution": {
     "iopub.execute_input": "2024-07-31T12:26:30.412291Z",
     "iopub.status.busy": "2024-07-31T12:26:30.411990Z",
     "iopub.status.idle": "2024-07-31T12:26:30.416195Z",
     "shell.execute_reply": "2024-07-31T12:26:30.415729Z"
    }
   },
   "outputs": [
    {
     "data": {
      "text/plain": [
       "0     70833.163502\n",
       "1     34861.243842\n",
       "2     17211.393526\n",
       "3      8779.777647\n",
       "4      5721.865657\n",
       "5      3563.344668\n",
       "6      2378.033763\n",
       "7      1604.932782\n",
       "8      1074.816738\n",
       "9       824.622359\n",
       "10      625.499897\n",
       "11      471.990280\n",
       "12      355.146037\n",
       "13      283.454849\n",
       "14      225.652192\n",
       "15      199.786180\n",
       "16      160.473228\n",
       "17      118.252827\n",
       "18      108.994959\n",
       "19      101.321273\n",
       "Name: (14, 1), dtype: float64"
      ]
     },
     "execution_count": 11,
     "metadata": {},
     "output_type": "execute_result"
    }
   ],
   "source": [
    "simulation.plasma.ion_number_density.loc[14,1]"
   ]
  },
  {
   "cell_type": "markdown",
   "metadata": {},
   "source": [
    "The above examples can be combined to obtain e.g. the Si II population in the innermost zone\n",
    "can be obtained by\n",
    "`simulation.plasma.ion_number_density[0].loc[14,1]`"
   ]
  },
  {
   "cell_type": "code",
   "execution_count": 12,
   "metadata": {
    "execution": {
     "iopub.execute_input": "2024-07-31T12:26:30.417945Z",
     "iopub.status.busy": "2024-07-31T12:26:30.417777Z",
     "iopub.status.idle": "2024-07-31T12:26:30.421218Z",
     "shell.execute_reply": "2024-07-31T12:26:30.420750Z"
    }
   },
   "outputs": [
    {
     "data": {
      "text/plain": [
       "70833.16350200561"
      ]
     },
     "execution_count": 12,
     "metadata": {},
     "output_type": "execute_result"
    }
   ],
   "source": [
    "simulation.plasma.ion_number_density[0].loc[14,1]"
   ]
  },
  {
   "cell_type": "markdown",
   "metadata": {},
   "source": [
    "The level populations are stored (and can be accessed) in a similar way - a third label can be used to pick out a particular atomic level. E.g., to pull out the population of the ground state (index 0) of Si II we can use `simulation.plasma.level_number_density.loc[14,1,0]`"
   ]
  },
  {
   "cell_type": "code",
   "execution_count": 13,
   "metadata": {
    "execution": {
     "iopub.execute_input": "2024-07-31T12:26:30.422940Z",
     "iopub.status.busy": "2024-07-31T12:26:30.422775Z",
     "iopub.status.idle": "2024-07-31T12:26:30.426799Z",
     "shell.execute_reply": "2024-07-31T12:26:30.426331Z"
    }
   },
   "outputs": [
    {
     "data": {
      "text/plain": [
       "0     23980.690090\n",
       "1     11794.195085\n",
       "2      5818.333741\n",
       "3      2965.794314\n",
       "4      1933.426172\n",
       "5      1204.080564\n",
       "6       803.766453\n",
       "7       542.594090\n",
       "8       363.426957\n",
       "9       279.017554\n",
       "10      211.760752\n",
       "11      159.866349\n",
       "12      120.339508\n",
       "13       96.103679\n",
       "14       76.546076\n",
       "15       67.830067\n",
       "16       54.507573\n",
       "17       40.171395\n",
       "18       37.057825\n",
       "19       34.476854\n",
       "Name: (14, 1, 0), dtype: float64"
      ]
     },
     "execution_count": 13,
     "metadata": {},
     "output_type": "execute_result"
    }
   ],
   "source": [
    "simulation.plasma.level_number_density.loc[14,1,0]"
   ]
  },
  {
   "cell_type": "markdown",
   "metadata": {},
   "source": [
    "### Notes\n",
    "- If you prefer to work in SI units, all the Astropy Quantities may instead by accessed with “xxx.si”.\n",
    "\n",
    "- Information that is not stored as Astropy Quantities (e.g. the ion and level populations used in the example above) are usually stored in cgs units (i.e. cm−3 for the populations)."
   ]
  }
 ],
 "metadata": {
  "celltoolbar": "Raw Cell Format",
  "kernelspec": {
   "display_name": "Python 3",
   "language": "python",
   "name": "python3"
  },
  "language_info": {
   "codemirror_mode": {
    "name": "ipython",
    "version": 3
   },
   "file_extension": ".py",
   "mimetype": "text/x-python",
   "name": "python",
   "nbconvert_exporter": "python",
   "pygments_lexer": "ipython3",
   "version": "3.12.4"
  },
  "widgets": {
   "application/vnd.jupyter.widget-state+json": {
    "state": {
     "045f82115cbe4c05a2e06165f3808309": {
      "model_module": "@jupyter-widgets/controls",
      "model_module_version": "1.5.0",
      "model_name": "FloatProgressModel",
      "state": {
       "_dom_classes": [],
       "_model_module": "@jupyter-widgets/controls",
       "_model_module_version": "1.5.0",
       "_model_name": "FloatProgressModel",
       "_view_count": null,
       "_view_module": "@jupyter-widgets/controls",
       "_view_module_version": "1.5.0",
       "_view_name": "ProgressView",
       "bar_style": "info",
       "description": "",
       "description_tooltip": null,
       "layout": "IPY_MODEL_73ce82dfa8c44fa1b86ad5810560a14f",
       "max": 1.0,
       "min": 0.0,
       "orientation": "horizontal",
       "style": "IPY_MODEL_ae57b2da899d47e4a8d554320c6a5d26",
       "value": 0.0
      }
     },
     "0ee180403c4c414d8f15c891abcae4a4": {
      "model_module": "@jupyter-widgets/controls",
      "model_module_version": "1.5.0",
      "model_name": "HTMLModel",
      "state": {
       "_dom_classes": [],
       "_model_module": "@jupyter-widgets/controls",
       "_model_module_version": "1.5.0",
       "_model_name": "HTMLModel",
       "_view_count": null,
       "_view_module": "@jupyter-widgets/controls",
       "_view_module_version": "1.5.0",
       "_view_name": "HTMLView",
       "description": "",
       "description_tooltip": null,
       "layout": "IPY_MODEL_6e6c7c2099be493093ffed6b9d7a0ef7",
       "placeholder": "​",
       "style": "IPY_MODEL_960f358cea1147759f907dd29da3d55d",
       "value": "20/20 [00:12&lt;00:00,  1.76s/it]"
      }
     },
     "116905c507c44f72a8c5780704a0f3e4": {
      "model_module": "@jupyter-widgets/controls",
      "model_module_version": "1.5.0",
      "model_name": "HTMLModel",
      "state": {
       "_dom_classes": [],
       "_model_module": "@jupyter-widgets/controls",
       "_model_module_version": "1.5.0",
       "_model_name": "HTMLModel",
       "_view_count": null,
       "_view_module": "@jupyter-widgets/controls",
       "_view_module_version": "1.5.0",
       "_view_name": "HTMLView",
       "description": "",
       "description_tooltip": null,
       "layout": "IPY_MODEL_ce8f86c3e46c43dd9d67694090320a2f",
       "placeholder": "​",
       "style": "IPY_MODEL_2b888533076a45969c490b7aefa72b54",
       "value": "Packets:   "
      }
     },
     "11eae781ad7845b58e97a0be18b04b20": {
      "model_module": "@jupyter-widgets/base",
      "model_module_version": "1.2.0",
      "model_name": "LayoutModel",
      "state": {
       "_model_module": "@jupyter-widgets/base",
       "_model_module_version": "1.2.0",
       "_model_name": "LayoutModel",
       "_view_count": null,
       "_view_module": "@jupyter-widgets/base",
       "_view_module_version": "1.2.0",
       "_view_name": "LayoutView",
       "align_content": null,
       "align_items": null,
       "align_self": null,
       "border": null,
       "bottom": null,
       "display": null,
       "flex": null,
       "flex_flow": null,
       "grid_area": null,
       "grid_auto_columns": null,
       "grid_auto_flow": null,
       "grid_auto_rows": null,
       "grid_column": null,
       "grid_gap": null,
       "grid_row": null,
       "grid_template_areas": null,
       "grid_template_columns": null,
       "grid_template_rows": null,
       "height": null,
       "justify_content": null,
       "justify_items": null,
       "left": null,
       "margin": null,
       "max_height": null,
       "max_width": null,
       "min_height": null,
       "min_width": null,
       "object_fit": null,
       "object_position": null,
       "order": null,
       "overflow": null,
       "overflow_x": null,
       "overflow_y": null,
       "padding": null,
       "right": null,
       "top": null,
       "visibility": null,
       "width": null
      }
     },
     "18293fee0dcd4d03ba30f90d80f88c2a": {
      "model_module": "@jupyter-widgets/base",
      "model_module_version": "1.2.0",
      "model_name": "LayoutModel",
      "state": {
       "_model_module": "@jupyter-widgets/base",
       "_model_module_version": "1.2.0",
       "_model_name": "LayoutModel",
       "_view_count": null,
       "_view_module": "@jupyter-widgets/base",
       "_view_module_version": "1.2.0",
       "_view_name": "LayoutView",
       "align_content": null,
       "align_items": null,
       "align_self": null,
       "border": null,
       "bottom": null,
       "display": null,
       "flex": null,
       "flex_flow": null,
       "grid_area": null,
       "grid_auto_columns": null,
       "grid_auto_flow": null,
       "grid_auto_rows": null,
       "grid_column": null,
       "grid_gap": null,
       "grid_row": null,
       "grid_template_areas": null,
       "grid_template_columns": null,
       "grid_template_rows": null,
       "height": null,
       "justify_content": null,
       "justify_items": null,
       "left": null,
       "margin": null,
       "max_height": null,
       "max_width": null,
       "min_height": null,
       "min_width": null,
       "object_fit": null,
       "object_position": null,
       "order": null,
       "overflow": null,
       "overflow_x": null,
       "overflow_y": null,
       "padding": null,
       "right": null,
       "top": null,
       "visibility": null,
       "width": "60%"
      }
     },
     "1e1f187608484f4bbc218b5921e0ba43": {
      "model_module": "@jupyter-widgets/base",
      "model_module_version": "1.2.0",
      "model_name": "LayoutModel",
      "state": {
       "_model_module": "@jupyter-widgets/base",
       "_model_module_version": "1.2.0",
       "_model_name": "LayoutModel",
       "_view_count": null,
       "_view_module": "@jupyter-widgets/base",
       "_view_module_version": "1.2.0",
       "_view_name": "LayoutView",
       "align_content": null,
       "align_items": null,
       "align_self": null,
       "border": null,
       "bottom": null,
       "display": null,
       "flex": null,
       "flex_flow": null,
       "grid_area": null,
       "grid_auto_columns": null,
       "grid_auto_flow": null,
       "grid_auto_rows": null,
       "grid_column": null,
       "grid_gap": null,
       "grid_row": null,
       "grid_template_areas": null,
       "grid_template_columns": null,
       "grid_template_rows": null,
       "height": null,
       "justify_content": null,
       "justify_items": null,
       "left": null,
       "margin": null,
       "max_height": null,
       "max_width": null,
       "min_height": null,
       "min_width": null,
       "object_fit": null,
       "object_position": null,
       "order": null,
       "overflow": null,
       "overflow_x": null,
       "overflow_y": null,
       "padding": null,
       "right": null,
       "top": null,
       "visibility": null,
       "width": null
      }
     },
     "2b888533076a45969c490b7aefa72b54": {
      "model_module": "@jupyter-widgets/controls",
      "model_module_version": "1.5.0",
      "model_name": "DescriptionStyleModel",
      "state": {
       "_model_module": "@jupyter-widgets/controls",
       "_model_module_version": "1.5.0",
       "_model_name": "DescriptionStyleModel",
       "_view_count": null,
       "_view_module": "@jupyter-widgets/base",
       "_view_module_version": "1.2.0",
       "_view_name": "StyleView",
       "description_width": ""
      }
     },
     "35a075fb4047416980462a374d166c58": {
      "model_module": "@jupyter-widgets/output",
      "model_module_version": "1.0.0",
      "model_name": "OutputModel",
      "state": {
       "_dom_classes": [],
       "_model_module": "@jupyter-widgets/output",
       "_model_module_version": "1.0.0",
       "_model_name": "OutputModel",
       "_view_count": null,
       "_view_module": "@jupyter-widgets/output",
       "_view_module_version": "1.0.0",
       "_view_name": "OutputView",
       "layout": "IPY_MODEL_59c4fffd1fcf4ad6b1544133f18493c4",
       "msg_id": "",
       "outputs": []
      }
     },
     "383ec0151ce04548b2c9bb1e9d8b8b4e": {
      "model_module": "@jupyter-widgets/controls",
      "model_module_version": "1.5.0",
      "model_name": "HTMLModel",
      "state": {
       "_dom_classes": [],
       "_model_module": "@jupyter-widgets/controls",
       "_model_module_version": "1.5.0",
       "_model_name": "HTMLModel",
       "_view_count": null,
       "_view_module": "@jupyter-widgets/controls",
       "_view_module_version": "1.5.0",
       "_view_name": "HTMLView",
       "description": "",
       "description_tooltip": null,
       "layout": "IPY_MODEL_11eae781ad7845b58e97a0be18b04b20",
       "placeholder": "​",
       "style": "IPY_MODEL_9ce3bc841eb8405fb71713161527bd09",
       "value": "0/? [00:00&lt;?, ?it/s]"
      }
     },
     "39bbab5365ab4cc78e5ba48a24f673a9": {
      "model_module": "@jupyter-widgets/base",
      "model_module_version": "1.2.0",
      "model_name": "LayoutModel",
      "state": {
       "_model_module": "@jupyter-widgets/base",
       "_model_module_version": "1.2.0",
       "_model_name": "LayoutModel",
       "_view_count": null,
       "_view_module": "@jupyter-widgets/base",
       "_view_module_version": "1.2.0",
       "_view_name": "LayoutView",
       "align_content": null,
       "align_items": null,
       "align_self": null,
       "border": null,
       "bottom": null,
       "display": null,
       "flex": null,
       "flex_flow": null,
       "grid_area": null,
       "grid_auto_columns": null,
       "grid_auto_flow": null,
       "grid_auto_rows": null,
       "grid_column": null,
       "grid_gap": null,
       "grid_row": null,
       "grid_template_areas": null,
       "grid_template_columns": null,
       "grid_template_rows": null,
       "height": null,
       "justify_content": null,
       "justify_items": null,
       "left": null,
       "margin": null,
       "max_height": null,
       "max_width": null,
       "min_height": null,
       "min_width": null,
       "object_fit": null,
       "object_position": null,
       "order": null,
       "overflow": null,
       "overflow_x": null,
       "overflow_y": null,
       "padding": null,
       "right": null,
       "top": null,
       "visibility": null,
       "width": null
      }
     },
     "476a65be05cd431187d3c2f862bceaa1": {
      "model_module": "@jupyter-widgets/controls",
      "model_module_version": "1.5.0",
      "model_name": "HBoxModel",
      "state": {
       "_dom_classes": [],
       "_model_module": "@jupyter-widgets/controls",
       "_model_module_version": "1.5.0",
       "_model_name": "HBoxModel",
       "_view_count": null,
       "_view_module": "@jupyter-widgets/controls",
       "_view_module_version": "1.5.0",
       "_view_name": "HBoxView",
       "box_style": "",
       "children": [
        "IPY_MODEL_116905c507c44f72a8c5780704a0f3e4",
        "IPY_MODEL_df56a9b4b6ef4e7ea3dc174f4622e9dc",
        "IPY_MODEL_8cd0b092f298480f8c919d922ac242f8"
       ],
       "layout": "IPY_MODEL_bc7be2c67d514429ad12e13486ac6971"
      }
     },
     "48d9a8177e414e259482f9ed9e12c635": {
      "model_module": "@jupyter-widgets/controls",
      "model_module_version": "1.5.0",
      "model_name": "DescriptionStyleModel",
      "state": {
       "_model_module": "@jupyter-widgets/controls",
       "_model_module_version": "1.5.0",
       "_model_name": "DescriptionStyleModel",
       "_view_count": null,
       "_view_module": "@jupyter-widgets/base",
       "_view_module_version": "1.2.0",
       "_view_name": "StyleView",
       "description_width": ""
      }
     },
     "4c0ba70461b34952b6752457de967e67": {
      "model_module": "@jupyter-widgets/base",
      "model_module_version": "1.2.0",
      "model_name": "LayoutModel",
      "state": {
       "_model_module": "@jupyter-widgets/base",
       "_model_module_version": "1.2.0",
       "_model_name": "LayoutModel",
       "_view_count": null,
       "_view_module": "@jupyter-widgets/base",
       "_view_module_version": "1.2.0",
       "_view_name": "LayoutView",
       "align_content": null,
       "align_items": null,
       "align_self": null,
       "border": null,
       "bottom": null,
       "display": null,
       "flex": null,
       "flex_flow": null,
       "grid_area": null,
       "grid_auto_columns": null,
       "grid_auto_flow": null,
       "grid_auto_rows": null,
       "grid_column": null,
       "grid_gap": null,
       "grid_row": null,
       "grid_template_areas": null,
       "grid_template_columns": null,
       "grid_template_rows": null,
       "height": null,
       "justify_content": null,
       "justify_items": null,
       "left": null,
       "margin": null,
       "max_height": null,
       "max_width": null,
       "min_height": null,
       "min_width": null,
       "object_fit": null,
       "object_position": null,
       "order": null,
       "overflow": null,
       "overflow_x": null,
       "overflow_y": null,
       "padding": null,
       "right": null,
       "top": null,
       "visibility": null,
       "width": null
      }
     },
     "59c4fffd1fcf4ad6b1544133f18493c4": {
      "model_module": "@jupyter-widgets/base",
      "model_module_version": "1.2.0",
      "model_name": "LayoutModel",
      "state": {
       "_model_module": "@jupyter-widgets/base",
       "_model_module_version": "1.2.0",
       "_model_name": "LayoutModel",
       "_view_count": null,
       "_view_module": "@jupyter-widgets/base",
       "_view_module_version": "1.2.0",
       "_view_name": "LayoutView",
       "align_content": null,
       "align_items": null,
       "align_self": null,
       "border": null,
       "bottom": null,
       "display": null,
       "flex": null,
       "flex_flow": null,
       "grid_area": null,
       "grid_auto_columns": null,
       "grid_auto_flow": null,
       "grid_auto_rows": null,
       "grid_column": null,
       "grid_gap": null,
       "grid_row": null,
       "grid_template_areas": null,
       "grid_template_columns": null,
       "grid_template_rows": null,
       "height": null,
       "justify_content": null,
       "justify_items": null,
       "left": null,
       "margin": null,
       "max_height": null,
       "max_width": null,
       "min_height": null,
       "min_width": null,
       "object_fit": null,
       "object_position": null,
       "order": null,
       "overflow": null,
       "overflow_x": null,
       "overflow_y": null,
       "padding": null,
       "right": null,
       "top": null,
       "visibility": null,
       "width": null
      }
     },
     "5a5751bf657a43c28113d082674d844e": {
      "model_module": "@jupyter-widgets/base",
      "model_module_version": "1.2.0",
      "model_name": "LayoutModel",
      "state": {
       "_model_module": "@jupyter-widgets/base",
       "_model_module_version": "1.2.0",
       "_model_name": "LayoutModel",
       "_view_count": null,
       "_view_module": "@jupyter-widgets/base",
       "_view_module_version": "1.2.0",
       "_view_name": "LayoutView",
       "align_content": null,
       "align_items": null,
       "align_self": null,
       "border": null,
       "bottom": null,
       "display": null,
       "flex": null,
       "flex_flow": null,
       "grid_area": null,
       "grid_auto_columns": null,
       "grid_auto_flow": null,
       "grid_auto_rows": null,
       "grid_column": null,
       "grid_gap": null,
       "grid_row": null,
       "grid_template_areas": null,
       "grid_template_columns": null,
       "grid_template_rows": null,
       "height": null,
       "justify_content": null,
       "justify_items": null,
       "left": null,
       "margin": null,
       "max_height": null,
       "max_width": null,
       "min_height": null,
       "min_width": null,
       "object_fit": null,
       "object_position": null,
       "order": null,
       "overflow": null,
       "overflow_x": null,
       "overflow_y": null,
       "padding": null,
       "right": null,
       "top": null,
       "visibility": null,
       "width": "20px"
      }
     },
     "5ce7fac205514e2eb2cdfde651593ed1": {
      "model_module": "@jupyter-widgets/base",
      "model_module_version": "1.2.0",
      "model_name": "LayoutModel",
      "state": {
       "_model_module": "@jupyter-widgets/base",
       "_model_module_version": "1.2.0",
       "_model_name": "LayoutModel",
       "_view_count": null,
       "_view_module": "@jupyter-widgets/base",
       "_view_module_version": "1.2.0",
       "_view_name": "LayoutView",
       "align_content": null,
       "align_items": null,
       "align_self": null,
       "border": null,
       "bottom": null,
       "display": null,
       "flex": null,
       "flex_flow": null,
       "grid_area": null,
       "grid_auto_columns": null,
       "grid_auto_flow": null,
       "grid_auto_rows": null,
       "grid_column": null,
       "grid_gap": null,
       "grid_row": null,
       "grid_template_areas": null,
       "grid_template_columns": null,
       "grid_template_rows": null,
       "height": null,
       "justify_content": null,
       "justify_items": null,
       "left": null,
       "margin": null,
       "max_height": null,
       "max_width": null,
       "min_height": null,
       "min_width": null,
       "object_fit": null,
       "object_position": null,
       "order": null,
       "overflow": null,
       "overflow_x": null,
       "overflow_y": null,
       "padding": null,
       "right": null,
       "top": null,
       "visibility": null,
       "width": "60%"
      }
     },
     "5fb8df6df35e4efab7fdb7c9efa51e00": {
      "model_module": "@jupyter-widgets/controls",
      "model_module_version": "1.5.0",
      "model_name": "DescriptionStyleModel",
      "state": {
       "_model_module": "@jupyter-widgets/controls",
       "_model_module_version": "1.5.0",
       "_model_name": "DescriptionStyleModel",
       "_view_count": null,
       "_view_module": "@jupyter-widgets/base",
       "_view_module_version": "1.2.0",
       "_view_name": "StyleView",
       "description_width": ""
      }
     },
     "6028b630d5ff46ae8cfa666357415aa8": {
      "model_module": "@jupyter-widgets/output",
      "model_module_version": "1.0.0",
      "model_name": "OutputModel",
      "state": {
       "_dom_classes": [],
       "_model_module": "@jupyter-widgets/output",
       "_model_module_version": "1.0.0",
       "_model_name": "OutputModel",
       "_view_count": null,
       "_view_module": "@jupyter-widgets/output",
       "_view_module_version": "1.0.0",
       "_view_name": "OutputView",
       "layout": "IPY_MODEL_1e1f187608484f4bbc218b5921e0ba43",
       "msg_id": "",
       "outputs": []
      }
     },
     "6582a310263c4e9193a20d9a58036d4e": {
      "model_module": "@jupyter-widgets/base",
      "model_module_version": "1.2.0",
      "model_name": "LayoutModel",
      "state": {
       "_model_module": "@jupyter-widgets/base",
       "_model_module_version": "1.2.0",
       "_model_name": "LayoutModel",
       "_view_count": null,
       "_view_module": "@jupyter-widgets/base",
       "_view_module_version": "1.2.0",
       "_view_name": "LayoutView",
       "align_content": null,
       "align_items": null,
       "align_self": null,
       "border": null,
       "bottom": null,
       "display": null,
       "flex": null,
       "flex_flow": null,
       "grid_area": null,
       "grid_auto_columns": null,
       "grid_auto_flow": null,
       "grid_auto_rows": null,
       "grid_column": null,
       "grid_gap": null,
       "grid_row": null,
       "grid_template_areas": null,
       "grid_template_columns": null,
       "grid_template_rows": null,
       "height": null,
       "justify_content": null,
       "justify_items": null,
       "left": null,
       "margin": null,
       "max_height": null,
       "max_width": null,
       "min_height": null,
       "min_width": null,
       "object_fit": null,
       "object_position": null,
       "order": null,
       "overflow": null,
       "overflow_x": null,
       "overflow_y": null,
       "padding": null,
       "right": null,
       "top": null,
       "visibility": null,
       "width": null
      }
     },
     "6e6c7c2099be493093ffed6b9d7a0ef7": {
      "model_module": "@jupyter-widgets/base",
      "model_module_version": "1.2.0",
      "model_name": "LayoutModel",
      "state": {
       "_model_module": "@jupyter-widgets/base",
       "_model_module_version": "1.2.0",
       "_model_name": "LayoutModel",
       "_view_count": null,
       "_view_module": "@jupyter-widgets/base",
       "_view_module_version": "1.2.0",
       "_view_name": "LayoutView",
       "align_content": null,
       "align_items": null,
       "align_self": null,
       "border": null,
       "bottom": null,
       "display": null,
       "flex": null,
       "flex_flow": null,
       "grid_area": null,
       "grid_auto_columns": null,
       "grid_auto_flow": null,
       "grid_auto_rows": null,
       "grid_column": null,
       "grid_gap": null,
       "grid_row": null,
       "grid_template_areas": null,
       "grid_template_columns": null,
       "grid_template_rows": null,
       "height": null,
       "justify_content": null,
       "justify_items": null,
       "left": null,
       "margin": null,
       "max_height": null,
       "max_width": null,
       "min_height": null,
       "min_width": null,
       "object_fit": null,
       "object_position": null,
       "order": null,
       "overflow": null,
       "overflow_x": null,
       "overflow_y": null,
       "padding": null,
       "right": null,
       "top": null,
       "visibility": null,
       "width": null
      }
     },
     "73ce82dfa8c44fa1b86ad5810560a14f": {
      "model_module": "@jupyter-widgets/base",
      "model_module_version": "1.2.0",
      "model_name": "LayoutModel",
      "state": {
       "_model_module": "@jupyter-widgets/base",
       "_model_module_version": "1.2.0",
       "_model_name": "LayoutModel",
       "_view_count": null,
       "_view_module": "@jupyter-widgets/base",
       "_view_module_version": "1.2.0",
       "_view_name": "LayoutView",
       "align_content": null,
       "align_items": null,
       "align_self": null,
       "border": null,
       "bottom": null,
       "display": null,
       "flex": null,
       "flex_flow": null,
       "grid_area": null,
       "grid_auto_columns": null,
       "grid_auto_flow": null,
       "grid_auto_rows": null,
       "grid_column": null,
       "grid_gap": null,
       "grid_row": null,
       "grid_template_areas": null,
       "grid_template_columns": null,
       "grid_template_rows": null,
       "height": null,
       "justify_content": null,
       "justify_items": null,
       "left": null,
       "margin": null,
       "max_height": null,
       "max_width": null,
       "min_height": null,
       "min_width": null,
       "object_fit": null,
       "object_position": null,
       "order": null,
       "overflow": null,
       "overflow_x": null,
       "overflow_y": null,
       "padding": null,
       "right": null,
       "top": null,
       "visibility": null,
       "width": "20px"
      }
     },
     "745789d4b18946a58a64d5aa1bfdb5a8": {
      "model_module": "@jupyter-widgets/base",
      "model_module_version": "1.2.0",
      "model_name": "LayoutModel",
      "state": {
       "_model_module": "@jupyter-widgets/base",
       "_model_module_version": "1.2.0",
       "_model_name": "LayoutModel",
       "_view_count": null,
       "_view_module": "@jupyter-widgets/base",
       "_view_module_version": "1.2.0",
       "_view_name": "LayoutView",
       "align_content": null,
       "align_items": null,
       "align_self": null,
       "border": null,
       "bottom": null,
       "display": null,
       "flex": null,
       "flex_flow": null,
       "grid_area": null,
       "grid_auto_columns": null,
       "grid_auto_flow": null,
       "grid_auto_rows": null,
       "grid_column": null,
       "grid_gap": null,
       "grid_row": null,
       "grid_template_areas": null,
       "grid_template_columns": null,
       "grid_template_rows": null,
       "height": null,
       "justify_content": null,
       "justify_items": null,
       "left": null,
       "margin": null,
       "max_height": null,
       "max_width": null,
       "min_height": null,
       "min_width": null,
       "object_fit": null,
       "object_position": null,
       "order": null,
       "overflow": null,
       "overflow_x": null,
       "overflow_y": null,
       "padding": null,
       "right": null,
       "top": null,
       "visibility": null,
       "width": null
      }
     },
     "7a6d5b0427204b67a5e2b4786673a19d": {
      "model_module": "@jupyter-widgets/controls",
      "model_module_version": "1.5.0",
      "model_name": "DescriptionStyleModel",
      "state": {
       "_model_module": "@jupyter-widgets/controls",
       "_model_module_version": "1.5.0",
       "_model_name": "DescriptionStyleModel",
       "_view_count": null,
       "_view_module": "@jupyter-widgets/base",
       "_view_module_version": "1.2.0",
       "_view_name": "StyleView",
       "description_width": ""
      }
     },
     "823bc979c1fe4e118f5e6d89c99365f7": {
      "model_module": "@jupyter-widgets/controls",
      "model_module_version": "1.5.0",
      "model_name": "FloatProgressModel",
      "state": {
       "_dom_classes": [],
       "_model_module": "@jupyter-widgets/controls",
       "_model_module_version": "1.5.0",
       "_model_name": "FloatProgressModel",
       "_view_count": null,
       "_view_module": "@jupyter-widgets/controls",
       "_view_module_version": "1.5.0",
       "_view_name": "ProgressView",
       "bar_style": "info",
       "description": "",
       "description_tooltip": null,
       "layout": "IPY_MODEL_5a5751bf657a43c28113d082674d844e",
       "max": 1.0,
       "min": 0.0,
       "orientation": "horizontal",
       "style": "IPY_MODEL_c784153225ff4242964bf3c7c08f9ad1",
       "value": 0.0
      }
     },
     "8806e857a30446619c62ec4614d04bf2": {
      "model_module": "@jupyter-widgets/base",
      "model_module_version": "1.2.0",
      "model_name": "LayoutModel",
      "state": {
       "_model_module": "@jupyter-widgets/base",
       "_model_module_version": "1.2.0",
       "_model_name": "LayoutModel",
       "_view_count": null,
       "_view_module": "@jupyter-widgets/base",
       "_view_module_version": "1.2.0",
       "_view_name": "LayoutView",
       "align_content": null,
       "align_items": null,
       "align_self": null,
       "border": null,
       "bottom": null,
       "display": null,
       "flex": null,
       "flex_flow": null,
       "grid_area": null,
       "grid_auto_columns": null,
       "grid_auto_flow": null,
       "grid_auto_rows": null,
       "grid_column": null,
       "grid_gap": null,
       "grid_row": null,
       "grid_template_areas": null,
       "grid_template_columns": null,
       "grid_template_rows": null,
       "height": null,
       "justify_content": null,
       "justify_items": null,
       "left": null,
       "margin": null,
       "max_height": null,
       "max_width": null,
       "min_height": null,
       "min_width": null,
       "object_fit": null,
       "object_position": null,
       "order": null,
       "overflow": null,
       "overflow_x": null,
       "overflow_y": null,
       "padding": null,
       "right": null,
       "top": null,
       "visibility": null,
       "width": null
      }
     },
     "8cd0b092f298480f8c919d922ac242f8": {
      "model_module": "@jupyter-widgets/controls",
      "model_module_version": "1.5.0",
      "model_name": "HTMLModel",
      "state": {
       "_dom_classes": [],
       "_model_module": "@jupyter-widgets/controls",
       "_model_module_version": "1.5.0",
       "_model_name": "HTMLModel",
       "_view_count": null,
       "_view_module": "@jupyter-widgets/controls",
       "_view_module_version": "1.5.0",
       "_view_name": "HTMLView",
       "description": "",
       "description_tooltip": null,
       "layout": "IPY_MODEL_745789d4b18946a58a64d5aa1bfdb5a8",
       "placeholder": "​",
       "style": "IPY_MODEL_7a6d5b0427204b67a5e2b4786673a19d",
       "value": "100000/100000 [00:04&lt;00:00, 21591.81it/s]"
      }
     },
     "9023600302134234bb6098ec79571a1d": {
      "model_module": "@jupyter-widgets/controls",
      "model_module_version": "1.5.0",
      "model_name": "HTMLModel",
      "state": {
       "_dom_classes": [],
       "_model_module": "@jupyter-widgets/controls",
       "_model_module_version": "1.5.0",
       "_model_name": "HTMLModel",
       "_view_count": null,
       "_view_module": "@jupyter-widgets/controls",
       "_view_module_version": "1.5.0",
       "_view_name": "HTMLView",
       "description": "",
       "description_tooltip": null,
       "layout": "IPY_MODEL_d60e0ff6763c431cb7f19d0cc274e43b",
       "placeholder": "​",
       "style": "IPY_MODEL_fa479537fbe04d37bef7d6bf49667605",
       "value": "Iterations:"
      }
     },
     "94f52732b28f46cbb7e6c4b988d3cbb9": {
      "model_module": "@jupyter-widgets/controls",
      "model_module_version": "1.5.0",
      "model_name": "HBoxModel",
      "state": {
       "_dom_classes": [],
       "_model_module": "@jupyter-widgets/controls",
       "_model_module_version": "1.5.0",
       "_model_name": "HBoxModel",
       "_view_count": null,
       "_view_module": "@jupyter-widgets/controls",
       "_view_module_version": "1.5.0",
       "_view_name": "HBoxView",
       "box_style": "",
       "children": [
        "IPY_MODEL_9023600302134234bb6098ec79571a1d",
        "IPY_MODEL_e3d3b96cfc5c46b29629054c837283fc",
        "IPY_MODEL_0ee180403c4c414d8f15c891abcae4a4"
       ],
       "layout": "IPY_MODEL_4c0ba70461b34952b6752457de967e67"
      }
     },
     "960f358cea1147759f907dd29da3d55d": {
      "model_module": "@jupyter-widgets/controls",
      "model_module_version": "1.5.0",
      "model_name": "DescriptionStyleModel",
      "state": {
       "_model_module": "@jupyter-widgets/controls",
       "_model_module_version": "1.5.0",
       "_model_name": "DescriptionStyleModel",
       "_view_count": null,
       "_view_module": "@jupyter-widgets/base",
       "_view_module_version": "1.2.0",
       "_view_name": "StyleView",
       "description_width": ""
      }
     },
     "96c2539f27d8413dad4a77aacf96a410": {
      "model_module": "@jupyter-widgets/controls",
      "model_module_version": "1.5.0",
      "model_name": "HTMLModel",
      "state": {
       "_dom_classes": [],
       "_model_module": "@jupyter-widgets/controls",
       "_model_module_version": "1.5.0",
       "_model_name": "HTMLModel",
       "_view_count": null,
       "_view_module": "@jupyter-widgets/controls",
       "_view_module_version": "1.5.0",
       "_view_name": "HTMLView",
       "description": "",
       "description_tooltip": null,
       "layout": "IPY_MODEL_fb746461f9eb4bd19b86dd0cc410d18c",
       "placeholder": "​",
       "style": "IPY_MODEL_48d9a8177e414e259482f9ed9e12c635",
       "value": "0/? [00:00&lt;?, ?it/s]"
      }
     },
     "9ce3bc841eb8405fb71713161527bd09": {
      "model_module": "@jupyter-widgets/controls",
      "model_module_version": "1.5.0",
      "model_name": "DescriptionStyleModel",
      "state": {
       "_model_module": "@jupyter-widgets/controls",
       "_model_module_version": "1.5.0",
       "_model_name": "DescriptionStyleModel",
       "_view_count": null,
       "_view_module": "@jupyter-widgets/base",
       "_view_module_version": "1.2.0",
       "_view_name": "StyleView",
       "description_width": ""
      }
     },
     "9dc952aa5144471f804617322006923a": {
      "model_module": "@jupyter-widgets/controls",
      "model_module_version": "1.5.0",
      "model_name": "ProgressStyleModel",
      "state": {
       "_model_module": "@jupyter-widgets/controls",
       "_model_module_version": "1.5.0",
       "_model_name": "ProgressStyleModel",
       "_view_count": null,
       "_view_module": "@jupyter-widgets/base",
       "_view_module_version": "1.2.0",
       "_view_name": "StyleView",
       "bar_color": null,
       "description_width": ""
      }
     },
     "a2476afa2f8d438299a453e7214685a1": {
      "model_module": "@jupyter-widgets/controls",
      "model_module_version": "1.5.0",
      "model_name": "HTMLModel",
      "state": {
       "_dom_classes": [],
       "_model_module": "@jupyter-widgets/controls",
       "_model_module_version": "1.5.0",
       "_model_name": "HTMLModel",
       "_view_count": null,
       "_view_module": "@jupyter-widgets/controls",
       "_view_module_version": "1.5.0",
       "_view_name": "HTMLView",
       "description": "",
       "description_tooltip": null,
       "layout": "IPY_MODEL_6582a310263c4e9193a20d9a58036d4e",
       "placeholder": "​",
       "style": "IPY_MODEL_5fb8df6df35e4efab7fdb7c9efa51e00",
       "value": "Iterations:"
      }
     },
     "ae57b2da899d47e4a8d554320c6a5d26": {
      "model_module": "@jupyter-widgets/controls",
      "model_module_version": "1.5.0",
      "model_name": "ProgressStyleModel",
      "state": {
       "_model_module": "@jupyter-widgets/controls",
       "_model_module_version": "1.5.0",
       "_model_name": "ProgressStyleModel",
       "_view_count": null,
       "_view_module": "@jupyter-widgets/base",
       "_view_module_version": "1.2.0",
       "_view_name": "StyleView",
       "bar_color": null,
       "description_width": ""
      }
     },
     "b8d84b9db80447bab668e2e03c723ede": {
      "model_module": "@jupyter-widgets/controls",
      "model_module_version": "1.5.0",
      "model_name": "HTMLModel",
      "state": {
       "_dom_classes": [],
       "_model_module": "@jupyter-widgets/controls",
       "_model_module_version": "1.5.0",
       "_model_name": "HTMLModel",
       "_view_count": null,
       "_view_module": "@jupyter-widgets/controls",
       "_view_module_version": "1.5.0",
       "_view_name": "HTMLView",
       "description": "",
       "description_tooltip": null,
       "layout": "IPY_MODEL_d8247c3a54c948e9a97b7c5b9b33f314",
       "placeholder": "​",
       "style": "IPY_MODEL_b9b1ac9e5c604d54a66af822de0ee63b",
       "value": "Packets:   "
      }
     },
     "b9b1ac9e5c604d54a66af822de0ee63b": {
      "model_module": "@jupyter-widgets/controls",
      "model_module_version": "1.5.0",
      "model_name": "DescriptionStyleModel",
      "state": {
       "_model_module": "@jupyter-widgets/controls",
       "_model_module_version": "1.5.0",
       "_model_name": "DescriptionStyleModel",
       "_view_count": null,
       "_view_module": "@jupyter-widgets/base",
       "_view_module_version": "1.2.0",
       "_view_name": "StyleView",
       "description_width": ""
      }
     },
     "bc7be2c67d514429ad12e13486ac6971": {
      "model_module": "@jupyter-widgets/base",
      "model_module_version": "1.2.0",
      "model_name": "LayoutModel",
      "state": {
       "_model_module": "@jupyter-widgets/base",
       "_model_module_version": "1.2.0",
       "_model_name": "LayoutModel",
       "_view_count": null,
       "_view_module": "@jupyter-widgets/base",
       "_view_module_version": "1.2.0",
       "_view_name": "LayoutView",
       "align_content": null,
       "align_items": null,
       "align_self": null,
       "border": null,
       "bottom": null,
       "display": null,
       "flex": null,
       "flex_flow": null,
       "grid_area": null,
       "grid_auto_columns": null,
       "grid_auto_flow": null,
       "grid_auto_rows": null,
       "grid_column": null,
       "grid_gap": null,
       "grid_row": null,
       "grid_template_areas": null,
       "grid_template_columns": null,
       "grid_template_rows": null,
       "height": null,
       "justify_content": null,
       "justify_items": null,
       "left": null,
       "margin": null,
       "max_height": null,
       "max_width": null,
       "min_height": null,
       "min_width": null,
       "object_fit": null,
       "object_position": null,
       "order": null,
       "overflow": null,
       "overflow_x": null,
       "overflow_y": null,
       "padding": null,
       "right": null,
       "top": null,
       "visibility": null,
       "width": null
      }
     },
     "c5739dc5cd424318a273370a98453d91": {
      "model_module": "@jupyter-widgets/controls",
      "model_module_version": "1.5.0",
      "model_name": "HBoxModel",
      "state": {
       "_dom_classes": [],
       "_model_module": "@jupyter-widgets/controls",
       "_model_module_version": "1.5.0",
       "_model_name": "HBoxModel",
       "_view_count": null,
       "_view_module": "@jupyter-widgets/controls",
       "_view_module_version": "1.5.0",
       "_view_name": "HBoxView",
       "box_style": "",
       "children": [
        "IPY_MODEL_a2476afa2f8d438299a453e7214685a1",
        "IPY_MODEL_823bc979c1fe4e118f5e6d89c99365f7",
        "IPY_MODEL_96c2539f27d8413dad4a77aacf96a410"
       ],
       "layout": "IPY_MODEL_39bbab5365ab4cc78e5ba48a24f673a9"
      }
     },
     "c784153225ff4242964bf3c7c08f9ad1": {
      "model_module": "@jupyter-widgets/controls",
      "model_module_version": "1.5.0",
      "model_name": "ProgressStyleModel",
      "state": {
       "_model_module": "@jupyter-widgets/controls",
       "_model_module_version": "1.5.0",
       "_model_name": "ProgressStyleModel",
       "_view_count": null,
       "_view_module": "@jupyter-widgets/base",
       "_view_module_version": "1.2.0",
       "_view_name": "StyleView",
       "bar_color": null,
       "description_width": ""
      }
     },
     "ce8f86c3e46c43dd9d67694090320a2f": {
      "model_module": "@jupyter-widgets/base",
      "model_module_version": "1.2.0",
      "model_name": "LayoutModel",
      "state": {
       "_model_module": "@jupyter-widgets/base",
       "_model_module_version": "1.2.0",
       "_model_name": "LayoutModel",
       "_view_count": null,
       "_view_module": "@jupyter-widgets/base",
       "_view_module_version": "1.2.0",
       "_view_name": "LayoutView",
       "align_content": null,
       "align_items": null,
       "align_self": null,
       "border": null,
       "bottom": null,
       "display": null,
       "flex": null,
       "flex_flow": null,
       "grid_area": null,
       "grid_auto_columns": null,
       "grid_auto_flow": null,
       "grid_auto_rows": null,
       "grid_column": null,
       "grid_gap": null,
       "grid_row": null,
       "grid_template_areas": null,
       "grid_template_columns": null,
       "grid_template_rows": null,
       "height": null,
       "justify_content": null,
       "justify_items": null,
       "left": null,
       "margin": null,
       "max_height": null,
       "max_width": null,
       "min_height": null,
       "min_width": null,
       "object_fit": null,
       "object_position": null,
       "order": null,
       "overflow": null,
       "overflow_x": null,
       "overflow_y": null,
       "padding": null,
       "right": null,
       "top": null,
       "visibility": null,
       "width": "6%"
      }
     },
     "d60e0ff6763c431cb7f19d0cc274e43b": {
      "model_module": "@jupyter-widgets/base",
      "model_module_version": "1.2.0",
      "model_name": "LayoutModel",
      "state": {
       "_model_module": "@jupyter-widgets/base",
       "_model_module_version": "1.2.0",
       "_model_name": "LayoutModel",
       "_view_count": null,
       "_view_module": "@jupyter-widgets/base",
       "_view_module_version": "1.2.0",
       "_view_name": "LayoutView",
       "align_content": null,
       "align_items": null,
       "align_self": null,
       "border": null,
       "bottom": null,
       "display": null,
       "flex": null,
       "flex_flow": null,
       "grid_area": null,
       "grid_auto_columns": null,
       "grid_auto_flow": null,
       "grid_auto_rows": null,
       "grid_column": null,
       "grid_gap": null,
       "grid_row": null,
       "grid_template_areas": null,
       "grid_template_columns": null,
       "grid_template_rows": null,
       "height": null,
       "justify_content": null,
       "justify_items": null,
       "left": null,
       "margin": null,
       "max_height": null,
       "max_width": null,
       "min_height": null,
       "min_width": null,
       "object_fit": null,
       "object_position": null,
       "order": null,
       "overflow": null,
       "overflow_x": null,
       "overflow_y": null,
       "padding": null,
       "right": null,
       "top": null,
       "visibility": null,
       "width": "6%"
      }
     },
     "d8247c3a54c948e9a97b7c5b9b33f314": {
      "model_module": "@jupyter-widgets/base",
      "model_module_version": "1.2.0",
      "model_name": "LayoutModel",
      "state": {
       "_model_module": "@jupyter-widgets/base",
       "_model_module_version": "1.2.0",
       "_model_name": "LayoutModel",
       "_view_count": null,
       "_view_module": "@jupyter-widgets/base",
       "_view_module_version": "1.2.0",
       "_view_name": "LayoutView",
       "align_content": null,
       "align_items": null,
       "align_self": null,
       "border": null,
       "bottom": null,
       "display": null,
       "flex": null,
       "flex_flow": null,
       "grid_area": null,
       "grid_auto_columns": null,
       "grid_auto_flow": null,
       "grid_auto_rows": null,
       "grid_column": null,
       "grid_gap": null,
       "grid_row": null,
       "grid_template_areas": null,
       "grid_template_columns": null,
       "grid_template_rows": null,
       "height": null,
       "justify_content": null,
       "justify_items": null,
       "left": null,
       "margin": null,
       "max_height": null,
       "max_width": null,
       "min_height": null,
       "min_width": null,
       "object_fit": null,
       "object_position": null,
       "order": null,
       "overflow": null,
       "overflow_x": null,
       "overflow_y": null,
       "padding": null,
       "right": null,
       "top": null,
       "visibility": null,
       "width": null
      }
     },
     "df56a9b4b6ef4e7ea3dc174f4622e9dc": {
      "model_module": "@jupyter-widgets/controls",
      "model_module_version": "1.5.0",
      "model_name": "FloatProgressModel",
      "state": {
       "_dom_classes": [],
       "_model_module": "@jupyter-widgets/controls",
       "_model_module_version": "1.5.0",
       "_model_name": "FloatProgressModel",
       "_view_count": null,
       "_view_module": "@jupyter-widgets/controls",
       "_view_module_version": "1.5.0",
       "_view_name": "ProgressView",
       "bar_style": "",
       "description": "",
       "description_tooltip": null,
       "layout": "IPY_MODEL_5ce7fac205514e2eb2cdfde651593ed1",
       "max": 100000.0,
       "min": 0.0,
       "orientation": "horizontal",
       "style": "IPY_MODEL_9dc952aa5144471f804617322006923a",
       "value": 100000.0
      }
     },
     "e2c0a9f404124642b072887e69fc852f": {
      "model_module": "@jupyter-widgets/controls",
      "model_module_version": "1.5.0",
      "model_name": "HBoxModel",
      "state": {
       "_dom_classes": [],
       "_model_module": "@jupyter-widgets/controls",
       "_model_module_version": "1.5.0",
       "_model_name": "HBoxModel",
       "_view_count": null,
       "_view_module": "@jupyter-widgets/controls",
       "_view_module_version": "1.5.0",
       "_view_name": "HBoxView",
       "box_style": "",
       "children": [
        "IPY_MODEL_b8d84b9db80447bab668e2e03c723ede",
        "IPY_MODEL_045f82115cbe4c05a2e06165f3808309",
        "IPY_MODEL_383ec0151ce04548b2c9bb1e9d8b8b4e"
       ],
       "layout": "IPY_MODEL_8806e857a30446619c62ec4614d04bf2"
      }
     },
     "e3d3b96cfc5c46b29629054c837283fc": {
      "model_module": "@jupyter-widgets/controls",
      "model_module_version": "1.5.0",
      "model_name": "FloatProgressModel",
      "state": {
       "_dom_classes": [],
       "_model_module": "@jupyter-widgets/controls",
       "_model_module_version": "1.5.0",
       "_model_name": "FloatProgressModel",
       "_view_count": null,
       "_view_module": "@jupyter-widgets/controls",
       "_view_module_version": "1.5.0",
       "_view_name": "ProgressView",
       "bar_style": "",
       "description": "",
       "description_tooltip": null,
       "layout": "IPY_MODEL_18293fee0dcd4d03ba30f90d80f88c2a",
       "max": 20.0,
       "min": 0.0,
       "orientation": "horizontal",
       "style": "IPY_MODEL_fdd36f75e38e42e5b9a64dc74aed5273",
       "value": 20.0
      }
     },
     "fa479537fbe04d37bef7d6bf49667605": {
      "model_module": "@jupyter-widgets/controls",
      "model_module_version": "1.5.0",
      "model_name": "DescriptionStyleModel",
      "state": {
       "_model_module": "@jupyter-widgets/controls",
       "_model_module_version": "1.5.0",
       "_model_name": "DescriptionStyleModel",
       "_view_count": null,
       "_view_module": "@jupyter-widgets/base",
       "_view_module_version": "1.2.0",
       "_view_name": "StyleView",
       "description_width": ""
      }
     },
     "fb746461f9eb4bd19b86dd0cc410d18c": {
      "model_module": "@jupyter-widgets/base",
      "model_module_version": "1.2.0",
      "model_name": "LayoutModel",
      "state": {
       "_model_module": "@jupyter-widgets/base",
       "_model_module_version": "1.2.0",
       "_model_name": "LayoutModel",
       "_view_count": null,
       "_view_module": "@jupyter-widgets/base",
       "_view_module_version": "1.2.0",
       "_view_name": "LayoutView",
       "align_content": null,
       "align_items": null,
       "align_self": null,
       "border": null,
       "bottom": null,
       "display": null,
       "flex": null,
       "flex_flow": null,
       "grid_area": null,
       "grid_auto_columns": null,
       "grid_auto_flow": null,
       "grid_auto_rows": null,
       "grid_column": null,
       "grid_gap": null,
       "grid_row": null,
       "grid_template_areas": null,
       "grid_template_columns": null,
       "grid_template_rows": null,
       "height": null,
       "justify_content": null,
       "justify_items": null,
       "left": null,
       "margin": null,
       "max_height": null,
       "max_width": null,
       "min_height": null,
       "min_width": null,
       "object_fit": null,
       "object_position": null,
       "order": null,
       "overflow": null,
       "overflow_x": null,
       "overflow_y": null,
       "padding": null,
       "right": null,
       "top": null,
       "visibility": null,
       "width": null
      }
     },
     "fdd36f75e38e42e5b9a64dc74aed5273": {
      "model_module": "@jupyter-widgets/controls",
      "model_module_version": "1.5.0",
      "model_name": "ProgressStyleModel",
      "state": {
       "_model_module": "@jupyter-widgets/controls",
       "_model_module_version": "1.5.0",
       "_model_name": "ProgressStyleModel",
       "_view_count": null,
       "_view_module": "@jupyter-widgets/base",
       "_view_module_version": "1.2.0",
       "_view_name": "StyleView",
       "bar_color": null,
       "description_width": ""
      }
     }
    },
    "version_major": 2,
    "version_minor": 0
   }
  }
 },
 "nbformat": 4,
 "nbformat_minor": 4
}
